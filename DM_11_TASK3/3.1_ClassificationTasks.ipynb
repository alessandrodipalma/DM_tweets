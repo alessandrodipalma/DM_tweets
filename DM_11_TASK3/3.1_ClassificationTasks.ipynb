{
 "cells": [
  {
   "cell_type": "markdown",
   "metadata": {
    "collapsed": false
   },
   "source": [
    "# Imports"
   ]
  },
  {
   "cell_type": "code",
   "execution_count": 13,
   "metadata": {
    "collapsed": false
   },
   "outputs": [
    {
     "name": "stdout",
     "output_type": "stream",
     "text": [
      "The autoreload extension is already loaded. To reload it, use:\n",
      "  %reload_ext autoreload\n"
     ]
    }
   ],
   "source": [
    "import os\n",
    "\n",
    "import pandas as pd\n",
    "%load_ext autoreload\n",
    "%autoreload 2"
   ]
  },
  {
   "cell_type": "code",
   "execution_count": 14,
   "metadata": {
    "collapsed": false
   },
   "outputs": [],
   "source": [
    "import pydotplus\n",
    "from IPython.display import Image\n",
    "from sklearn.ensemble import RandomForestClassifier, AdaBoostClassifier\n",
    "from sklearn.naive_bayes import MultinomialNB\n",
    "from sklearn.svm import SVC\n",
    "from sklearn.tree import DecisionTreeClassifier, export_graphviz\n",
    "#from keras.layers import InputLayer, Dense, Dropout, Softmax\n",
    "from classification_utilities import *\n",
    "from sklearn.preprocessing import MinMaxScaler"
   ]
  },
  {
   "cell_type": "code",
   "execution_count": 28,
   "outputs": [],
   "source": [
    "out_dir = 'results/'\n",
    "try:\n",
    "    os.mkdir(out_dir)\n",
    "except FileExistsError:\n",
    "    pass"
   ],
   "metadata": {
    "collapsed": false
   }
  },
  {
   "cell_type": "code",
   "execution_count": 20,
   "metadata": {
    "collapsed": false
   },
   "outputs": [],
   "source": [
    "tr, ts, tr_target, ts_target = prepare_data(MinMaxScaler())"
   ]
  },
  {
   "cell_type": "code",
   "execution_count": 21,
   "metadata": {
    "collapsed": false
   },
   "outputs": [
    {
     "name": "stdout",
     "output_type": "stream",
     "text": [
      "Number of samples in Training set: 9206\n",
      "Number of samples in Test set: 2302\n"
     ]
    },
    {
     "data": {
      "text/plain": "(9206, 38)"
     },
     "execution_count": 21,
     "metadata": {},
     "output_type": "execute_result"
    }
   ],
   "source": [
    "print(f'Number of samples in Training set:', len(tr))\n",
    "print(f'Number of samples in Test set:', len(ts))\n",
    "tr.shape"
   ]
  },
  {
   "cell_type": "markdown",
   "metadata": {
    "id": "5RExXIP7SSm8"
   },
   "source": [
    "# Decision Tree"
   ]
  },
  {
   "cell_type": "code",
   "execution_count": 22,
   "metadata": {
    "collapsed": false
   },
   "outputs": [],
   "source": [
    "parameters = {\n",
    "    'criterion': ['gini', 'entropy','log_loss'],\n",
    "    'splitter': ['random','best'],\n",
    "    'max_depth': [4,8,16,None],\n",
    "    'min_samples_split': [2,4,8,16,32],\n",
    "    'min_samples_leaf': [1,2,4,8],\n",
    "    'max_features': ['sqrt', 'log2', None],\n",
    "    'random_state': [42],\n",
    "    'max_leaf_nodes': [None],\n",
    "    'min_impurity_decrease': [0.0, 1e-2],\n",
    "}\n",
    "\n",
    "d_tree = DecisionTreeClassifier()"
   ]
  },
  {
   "cell_type": "code",
   "execution_count": 24,
   "metadata": {
    "collapsed": false
   },
   "outputs": [
    {
     "name": "stdout",
     "output_type": "stream",
     "text": [
      "Fitting 4 folds for each of 2880 candidates, totalling 11520 fits\n"
     ]
    },
    {
     "name": "stderr",
     "output_type": "stream",
     "text": [
      "C:\\Users\\al\\anaconda3\\lib\\site-packages\\sklearn\\model_selection\\_validation.py:372: FitFailedWarning: \n",
      "3840 fits failed out of a total of 11520.\n",
      "The score on these train-test partitions for these parameters will be set to nan.\n",
      "If these failures are not expected, you can try to debug them by setting error_score='raise'.\n",
      "\n",
      "Below are more details about the failures:\n",
      "--------------------------------------------------------------------------------\n",
      "3840 fits failed with the following error:\n",
      "Traceback (most recent call last):\n",
      "  File \"C:\\Users\\al\\anaconda3\\lib\\site-packages\\sklearn\\model_selection\\_validation.py\", line 680, in _fit_and_score\n",
      "    estimator.fit(X_train, y_train, **fit_params)\n",
      "  File \"C:\\Users\\al\\anaconda3\\lib\\site-packages\\sklearn\\tree\\_classes.py\", line 937, in fit\n",
      "    super().fit(\n",
      "  File \"C:\\Users\\al\\anaconda3\\lib\\site-packages\\sklearn\\tree\\_classes.py\", line 352, in fit\n",
      "    criterion = CRITERIA_CLF[self.criterion](\n",
      "KeyError: 'log_loss'\n",
      "\n",
      "  warnings.warn(some_fits_failed_message, FitFailedWarning)\n",
      "C:\\Users\\al\\anaconda3\\lib\\site-packages\\sklearn\\model_selection\\_search.py:969: UserWarning: One or more of the test scores are non-finite: [0.69411351 0.79763237 0.69411351 ...        nan        nan        nan]\n",
      "  warnings.warn(\n",
      "C:\\Users\\al\\anaconda3\\lib\\site-packages\\sklearn\\model_selection\\_search.py:969: UserWarning: One or more of the train scores are non-finite: [0.69548829 0.80002168 0.69548829 ...        nan        nan        nan]\n",
      "  warnings.warn(\n",
      "C:\\Users\\al\\anaconda3\\lib\\site-packages\\sklearn\\model_selection\\_search.py:969: UserWarning: One or more of the test scores are non-finite: [0.68735234 0.73650729 0.68735234 ...        nan        nan        nan]\n",
      "  warnings.warn(\n",
      "C:\\Users\\al\\anaconda3\\lib\\site-packages\\sklearn\\model_selection\\_search.py:969: UserWarning: One or more of the train scores are non-finite: [0.68793247 0.73770406 0.68793247 ...        nan        nan        nan]\n",
      "  warnings.warn(\n",
      "C:\\Users\\al\\anaconda3\\lib\\site-packages\\sklearn\\model_selection\\_search.py:969: UserWarning: One or more of the test scores are non-finite: [0.77886465 0.96423432 0.77886465 ...        nan        nan        nan]\n",
      "  warnings.warn(\n",
      "C:\\Users\\al\\anaconda3\\lib\\site-packages\\sklearn\\model_selection\\_search.py:969: UserWarning: One or more of the train scores are non-finite: [0.78166162 0.96791375 0.78166162 ...        nan        nan        nan]\n",
      "  warnings.warn(\n",
      "C:\\Users\\al\\anaconda3\\lib\\site-packages\\sklearn\\model_selection\\_search.py:969: UserWarning: One or more of the test scores are non-finite: [0.72998382 0.83511597 0.72998382 ...        nan        nan        nan]\n",
      "  warnings.warn(\n",
      "C:\\Users\\al\\anaconda3\\lib\\site-packages\\sklearn\\model_selection\\_search.py:969: UserWarning: One or more of the train scores are non-finite: [0.73173774 0.8372616  0.73173774 ...        nan        nan        nan]\n",
      "  warnings.warn(\n"
     ]
    }
   ],
   "source": [
    "results_df = grid_search(DecisionTreeClassifier, parameters, 'decision_tree', tr, tr_target)"
   ]
  },
  {
   "cell_type": "code",
   "execution_count": 26,
   "outputs": [
    {
     "name": "stdout",
     "output_type": "stream",
     "text": [
      "Best combo:\n",
      "\tparams: {'criterion': 'gini', 'max_depth': 4, 'max_features': None, 'max_leaf_nodes': None, 'min_impurity_decrease': 0.0, 'min_samples_leaf': 1, 'min_samples_split': 2, 'random_state': 42, 'splitter': 'best'}\n",
      "\tmean_train_accuracy: 0.8600188275663009\n",
      "\tmean_train_recall: 0.9923700709159814\n",
      "\tmean_train_precision: 0.7950995827137397\n",
      "\tmean_train_f1: 0.8828486642803308\n",
      "\tmean_val_accuracy: 0.8600913798291907\n",
      "\tmean_val_recall: 0.9924383012948979\n",
      "\tmean_val_precision: 0.795158312465954\n",
      "\tmean_val_f1: 0.8829101759015491\n",
      "\n",
      "Test set metrics: \n",
      "Accuracy 0.8501303214596003\n",
      "Precision test set  0.8760269025826323\n",
      "Recall test set  0.8501303214596003\n",
      "F1 score test set  0.8459656389412012\n",
      "Support test set  (array([0.97786458, 0.78617992]), array([0.69601483, 0.98609975]), array([0.81321061, 0.87486398]), array([1079, 1223], dtype=int64))\n",
      "              precision    recall  f1-score   support\n",
      "\n",
      "genuine_user       0.98      0.70      0.81      1079\n",
      "         bot       0.79      0.99      0.87      1223\n",
      "\n",
      "    accuracy                           0.85      2302\n",
      "   macro avg       0.88      0.84      0.84      2302\n",
      "weighted avg       0.88      0.85      0.85      2302\n",
      "\n"
     ]
    },
    {
     "data": {
      "text/plain": "<Figure size 432x288 with 2 Axes>",
      "image/png": "[encoded data removed]"
     },
     "metadata": {},
     "output_type": "display_data"
    }
   ],
   "source": [
    "best_classifier = test_best(DecisionTreeClassifier, tr, ts, tr_target, ts_target, out_dir+'DecisionTreeClassifier', results_df=results_df)"
   ],
   "metadata": {
    "collapsed": false
   }
  },
  {
   "cell_type": "code",
   "execution_count": 29,
   "metadata": {
    "collapsed": false
   },
   "outputs": [],
   "source": [
    "dot_data = export_graphviz(best_classifier, out_file=None, feature_names=list(ts.columns), filled=True, rounded=True,\n",
    "                           class_names=['genuine user', 'bot'])\n",
    "graph = pydotplus.graph_from_dot_data(dot_data)\n",
    "with open(out_dir+'decision_tree/dtree_graph.png', 'wb') as png:\n",
    "    png.write(Image(graph.create_png()).data)"
   ]
  },
  {
   "cell_type": "code",
   "execution_count": 32,
   "outputs": [
    {
     "name": "stdout",
     "output_type": "stream",
     "text": [
      "Chosen columns of SelectKBest: Index(['statuses_count', 'n_tweets', '2018_tweets', '2019_tweets',\n",
      "       '2020_tweets', 'publication_date_in_secs_std', 'retweet_count_std',\n",
      "       'retweet_count_sum', 'num_hashtags_mean', 'num_hashtags_sum',\n",
      "       'num_urls_std', 'num_mentions_mean', 'num_mentions_std',\n",
      "       'tweeting_regularity', 'max_daily_tweets'],\n",
      "      dtype='object')\n",
      "Fitting 4 folds for each of 2880 candidates, totalling 11520 fits\n"
     ]
    },
    {
     "name": "stderr",
     "output_type": "stream",
     "text": [
      "C:\\Users\\al\\anaconda3\\lib\\site-packages\\sklearn\\model_selection\\_validation.py:372: FitFailedWarning: \n",
      "3840 fits failed out of a total of 11520.\n",
      "The score on these train-test partitions for these parameters will be set to nan.\n",
      "If these failures are not expected, you can try to debug them by setting error_score='raise'.\n",
      "\n",
      "Below are more details about the failures:\n",
      "--------------------------------------------------------------------------------\n",
      "3840 fits failed with the following error:\n",
      "Traceback (most recent call last):\n",
      "  File \"C:\\Users\\al\\anaconda3\\lib\\site-packages\\sklearn\\model_selection\\_validation.py\", line 680, in _fit_and_score\n",
      "    estimator.fit(X_train, y_train, **fit_params)\n",
      "  File \"C:\\Users\\al\\anaconda3\\lib\\site-packages\\sklearn\\tree\\_classes.py\", line 937, in fit\n",
      "    super().fit(\n",
      "  File \"C:\\Users\\al\\anaconda3\\lib\\site-packages\\sklearn\\tree\\_classes.py\", line 352, in fit\n",
      "    criterion = CRITERIA_CLF[self.criterion](\n",
      "KeyError: 'log_loss'\n",
      "\n",
      "  warnings.warn(some_fits_failed_message, FitFailedWarning)\n",
      "C:\\Users\\al\\anaconda3\\lib\\site-packages\\sklearn\\model_selection\\_search.py:969: UserWarning: One or more of the test scores are non-finite: [0.65229072 0.80588691 0.65359393 ...        nan        nan        nan]\n",
      "  warnings.warn(\n",
      "C:\\Users\\al\\anaconda3\\lib\\site-packages\\sklearn\\model_selection\\_search.py:969: UserWarning: One or more of the train scores are non-finite: [0.6535236  0.8098703  0.65489961 ...        nan        nan        nan]\n",
      "  warnings.warn(\n",
      "C:\\Users\\al\\anaconda3\\lib\\site-packages\\sklearn\\model_selection\\_search.py:969: UserWarning: One or more of the test scores are non-finite: [0.60666152 0.73647226 0.60725697 ...        nan        nan        nan]\n",
      "  warnings.warn(\n",
      "C:\\Users\\al\\anaconda3\\lib\\site-packages\\sklearn\\model_selection\\_search.py:969: UserWarning: One or more of the train scores are non-finite: [0.60734006 0.73924913 0.60797035 ...        nan        nan        nan]\n",
      "  warnings.warn(\n",
      "C:\\Users\\al\\anaconda3\\lib\\site-packages\\sklearn\\model_selection\\_search.py:969: UserWarning: One or more of the test scores are non-finite: [0.98446944 0.98855591 0.98692243 ...        nan        nan        nan]\n",
      "  warnings.warn(\n",
      "C:\\Users\\al\\anaconda3\\lib\\site-packages\\sklearn\\model_selection\\_search.py:969: UserWarning: One or more of the train scores are non-finite: [0.98657949 0.99230182 0.98916805 ...        nan        nan        nan]\n",
      "  warnings.warn(\n",
      "C:\\Users\\al\\anaconda3\\lib\\site-packages\\sklearn\\model_selection\\_search.py:969: UserWarning: One or more of the test scores are non-finite: [0.75064503 0.84408812 0.75181267 ...        nan        nan        nan]\n",
      "  warnings.warn(\n",
      "C:\\Users\\al\\anaconda3\\lib\\site-packages\\sklearn\\model_selection\\_search.py:969: UserWarning: One or more of the train scores are non-finite: [0.75177645 0.84727968 0.7530036  ...        nan        nan        nan]\n",
      "  warnings.warn(\n"
     ]
    },
    {
     "name": "stdout",
     "output_type": "stream",
     "text": [
      "Best combo:\n",
      "\tparams: {'criterion': 'gini', 'max_depth': 4, 'max_features': None, 'max_leaf_nodes': None, 'min_impurity_decrease': 0.0, 'min_samples_leaf': 4, 'min_samples_split': 16, 'random_state': 42, 'splitter': 'best'}\n",
      "\tmean_train_accuracy: 0.8597653775414226\n",
      "\tmean_train_recall: 0.9923019510249733\n",
      "\tmean_train_precision: 0.7948279807242365\n",
      "\tmean_train_f1: 0.8826542625731914\n",
      "\tmean_val_accuracy: 0.8599827314154576\n",
      "\tmean_val_recall: 0.9924383012948979\n",
      "\tmean_val_precision: 0.7950281295798927\n",
      "\tmean_val_f1: 0.8828298745235377\n",
      "\n",
      "Test set metrics: \n",
      "Accuracy 0.8514335360556038\n",
      "Precision test set  0.8780460698550717\n",
      "Recall test set  0.8514335360556038\n",
      "F1 score test set  0.8472355024187456\n",
      "Support test set  (array([0.98169935, 0.78659727]), array([0.69601483, 0.98855274]), array([0.81453362, 0.87608696]), array([1079, 1223], dtype=int64))\n",
      "              precision    recall  f1-score   support\n",
      "\n",
      "genuine_user       0.98      0.70      0.81      1079\n",
      "         bot       0.79      0.99      0.88      1223\n",
      "\n",
      "    accuracy                           0.85      2302\n",
      "   macro avg       0.88      0.84      0.85      2302\n",
      "weighted avg       0.88      0.85      0.85      2302\n",
      "\n",
      "Chosen columns of RFECV: Index(['statuses_count', 'n_tweets', '2015_tweets', '2016_tweets',\n",
      "       '2017_tweets', '2018_tweets', '2019_tweets', '2020_tweets',\n",
      "       'mean_length', 'mean_special_chars', 'publication_date_in_secs_mean',\n",
      "       'publication_date_in_secs_std', 'retweet_count_mean',\n",
      "       'retweet_count_std', 'retweet_count_sum', 'reply_count_entropy',\n",
      "       'favorite_count_std', 'favorite_count_sum', 'num_hashtags_mean',\n",
      "       'num_hashtags_sum', 'num_urls_std', 'num_mentions_mean',\n",
      "       'num_mentions_std', 'lang_discr'],\n",
      "      dtype='object')\n",
      "Fitting 4 folds for each of 2880 candidates, totalling 11520 fits\n"
     ]
    },
    {
     "name": "stderr",
     "output_type": "stream",
     "text": [
      "C:\\Users\\al\\anaconda3\\lib\\site-packages\\sklearn\\model_selection\\_validation.py:372: FitFailedWarning: \n",
      "3840 fits failed out of a total of 11520.\n",
      "The score on these train-test partitions for these parameters will be set to nan.\n",
      "If these failures are not expected, you can try to debug them by setting error_score='raise'.\n",
      "\n",
      "Below are more details about the failures:\n",
      "--------------------------------------------------------------------------------\n",
      "3840 fits failed with the following error:\n",
      "Traceback (most recent call last):\n",
      "  File \"C:\\Users\\al\\anaconda3\\lib\\site-packages\\sklearn\\model_selection\\_validation.py\", line 680, in _fit_and_score\n",
      "    estimator.fit(X_train, y_train, **fit_params)\n",
      "  File \"C:\\Users\\al\\anaconda3\\lib\\site-packages\\sklearn\\tree\\_classes.py\", line 937, in fit\n",
      "    super().fit(\n",
      "  File \"C:\\Users\\al\\anaconda3\\lib\\site-packages\\sklearn\\tree\\_classes.py\", line 352, in fit\n",
      "    criterion = CRITERIA_CLF[self.criterion](\n",
      "KeyError: 'log_loss'\n",
      "\n",
      "  warnings.warn(some_fits_failed_message, FitFailedWarning)\n",
      "C:\\Users\\al\\anaconda3\\lib\\site-packages\\sklearn\\model_selection\\_search.py:969: UserWarning: One or more of the test scores are non-finite: [0.67760089 0.807626   0.67770949 ...        nan        nan        nan]\n",
      "  warnings.warn(\n",
      "C:\\Users\\al\\anaconda3\\lib\\site-packages\\sklearn\\model_selection\\_search.py:969: UserWarning: One or more of the train scores are non-finite: [0.67662388 0.81034088 0.67655146 ...        nan        nan        nan]\n",
      "  warnings.warn(\n",
      "C:\\Users\\al\\anaconda3\\lib\\site-packages\\sklearn\\model_selection\\_search.py:969: UserWarning: One or more of the test scores are non-finite: [0.69975352 0.74900391 0.69989674 ...        nan        nan        nan]\n",
      "  warnings.warn(\n",
      "C:\\Users\\al\\anaconda3\\lib\\site-packages\\sklearn\\model_selection\\_search.py:969: UserWarning: One or more of the train scores are non-finite: [0.69908715 0.75131309 0.6990197  ...        nan        nan        nan]\n",
      "  warnings.warn(\n",
      "C:\\Users\\al\\anaconda3\\lib\\site-packages\\sklearn\\model_selection\\_search.py:969: UserWarning: One or more of the test scores are non-finite: [0.68914635 0.95974053 0.68914635 ...        nan        nan        nan]\n",
      "  warnings.warn(\n",
      "C:\\Users\\al\\anaconda3\\lib\\site-packages\\sklearn\\model_selection\\_search.py:969: UserWarning: One or more of the train scores are non-finite: [0.68839918 0.96150987 0.68833106 ...        nan        nan        nan]\n",
      "  warnings.warn(\n",
      "C:\\Users\\al\\anaconda3\\lib\\site-packages\\sklearn\\model_selection\\_search.py:969: UserWarning: One or more of the test scores are non-finite: [0.69434543 0.84136872 0.69441677 ...        nan        nan        nan]\n",
      "  warnings.warn(\n",
      "C:\\Users\\al\\anaconda3\\lib\\site-packages\\sklearn\\model_selection\\_search.py:969: UserWarning: One or more of the train scores are non-finite: [0.69343003 0.84349615 0.69336207 ...        nan        nan        nan]\n",
      "  warnings.warn(\n"
     ]
    },
    {
     "name": "stdout",
     "output_type": "stream",
     "text": [
      "Best combo:\n",
      "\tparams: {'criterion': 'gini', 'max_depth': 4, 'max_features': None, 'max_leaf_nodes': None, 'min_impurity_decrease': 0.0, 'min_samples_leaf': 4, 'min_samples_split': 2, 'random_state': 42, 'splitter': 'best'}\n",
      "\tmean_train_accuracy: 0.8597653775414226\n",
      "\tmean_train_recall: 0.9923019510249732\n",
      "\tmean_train_precision: 0.7948277639707649\n",
      "\tmean_train_f1: 0.8826542538978935\n",
      "\tmean_val_accuracy: 0.8598740830017244\n",
      "\tmean_val_recall: 0.9924383012948979\n",
      "\tmean_val_precision: 0.7948993859917115\n",
      "\tmean_val_f1: 0.8827499501899962\n",
      "\n",
      "Test set metrics: \n",
      "Accuracy 0.8514335360556038\n",
      "Precision test set  0.8780460698550717\n",
      "Recall test set  0.8514335360556038\n",
      "F1 score test set  0.8472355024187456\n",
      "Support test set  (array([0.98169935, 0.78659727]), array([0.69601483, 0.98855274]), array([0.81453362, 0.87608696]), array([1079, 1223], dtype=int64))\n",
      "              precision    recall  f1-score   support\n",
      "\n",
      "genuine_user       0.98      0.70      0.81      1079\n",
      "         bot       0.79      0.99      0.88      1223\n",
      "\n",
      "    accuracy                           0.85      2302\n",
      "   macro avg       0.88      0.84      0.85      2302\n",
      "weighted avg       0.88      0.85      0.85      2302\n",
      "\n",
      "Chosen columns of SelectFromModel: Index(['statuses_count', 'user_subscription_in_secs', 'n_tweets',\n",
      "       '2020_tweets', 'mean_length', 'mean_special_chars',\n",
      "       'publication_date_in_secs_mean', 'publication_date_in_secs_std',\n",
      "       'num_hashtags_sum', 'num_mentions_mean', 'num_mentions_std',\n",
      "       'tweeting_regularity', 'n_tweets_density'],\n",
      "      dtype='object')\n",
      "Fitting 4 folds for each of 2880 candidates, totalling 11520 fits\n"
     ]
    },
    {
     "name": "stderr",
     "output_type": "stream",
     "text": [
      "C:\\Users\\al\\anaconda3\\lib\\site-packages\\sklearn\\model_selection\\_validation.py:372: FitFailedWarning: \n",
      "3840 fits failed out of a total of 11520.\n",
      "The score on these train-test partitions for these parameters will be set to nan.\n",
      "If these failures are not expected, you can try to debug them by setting error_score='raise'.\n",
      "\n",
      "Below are more details about the failures:\n",
      "--------------------------------------------------------------------------------\n",
      "3840 fits failed with the following error:\n",
      "Traceback (most recent call last):\n",
      "  File \"C:\\Users\\al\\anaconda3\\lib\\site-packages\\sklearn\\model_selection\\_validation.py\", line 680, in _fit_and_score\n",
      "    estimator.fit(X_train, y_train, **fit_params)\n",
      "  File \"C:\\Users\\al\\anaconda3\\lib\\site-packages\\sklearn\\tree\\_classes.py\", line 937, in fit\n",
      "    super().fit(\n",
      "  File \"C:\\Users\\al\\anaconda3\\lib\\site-packages\\sklearn\\tree\\_classes.py\", line 352, in fit\n",
      "    criterion = CRITERIA_CLF[self.criterion](\n",
      "KeyError: 'log_loss'\n",
      "\n",
      "  warnings.warn(some_fits_failed_message, FitFailedWarning)\n",
      "C:\\Users\\al\\anaconda3\\lib\\site-packages\\sklearn\\model_selection\\_search.py:969: UserWarning: One or more of the test scores are non-finite: [0.71246957 0.84140777 0.71246957 ...        nan        nan        nan]\n",
      "  warnings.warn(\n",
      "C:\\Users\\al\\anaconda3\\lib\\site-packages\\sklearn\\model_selection\\_search.py:969: UserWarning: One or more of the train scores are non-finite: [0.71250618 0.8432182  0.71250618 ...        nan        nan        nan]\n",
      "  warnings.warn(\n",
      "C:\\Users\\al\\anaconda3\\lib\\site-packages\\sklearn\\model_selection\\_search.py:969: UserWarning: One or more of the test scores are non-finite: [0.66717132 0.77245478 0.66717132 ...        nan        nan        nan]\n",
      "  warnings.warn(\n",
      "C:\\Users\\al\\anaconda3\\lib\\site-packages\\sklearn\\model_selection\\_search.py:969: UserWarning: One or more of the train scores are non-finite: [0.66709951 0.77415406 0.66709951 ...        nan        nan        nan]\n",
      "  warnings.warn(\n",
      "C:\\Users\\al\\anaconda3\\lib\\site-packages\\sklearn\\model_selection\\_search.py:969: UserWarning: One or more of the test scores are non-finite: [0.91600315 0.99468654 0.91600315 ...        nan        nan        nan]\n",
      "  warnings.warn(\n",
      "C:\\Users\\al\\anaconda3\\lib\\site-packages\\sklearn\\model_selection\\_search.py:969: UserWarning: One or more of the train scores are non-finite: [0.91641123 0.995572   0.91641123 ...        nan        nan        nan]\n",
      "  warnings.warn(\n",
      "C:\\Users\\al\\anaconda3\\lib\\site-packages\\sklearn\\model_selection\\_search.py:969: UserWarning: One or more of the test scores are non-finite: [0.77202819 0.86958152 0.77202819 ...        nan        nan        nan]\n",
      "  warnings.warn(\n",
      "C:\\Users\\al\\anaconda3\\lib\\site-packages\\sklearn\\model_selection\\_search.py:969: UserWarning: One or more of the train scores are non-finite: [0.77212865 0.87099093 0.77212865 ...        nan        nan        nan]\n",
      "  warnings.warn(\n"
     ]
    },
    {
     "name": "stdout",
     "output_type": "stream",
     "text": [
      "Best combo:\n",
      "\tparams: {'criterion': 'gini', 'max_depth': 4, 'max_features': None, 'max_leaf_nodes': None, 'min_impurity_decrease': 0.0, 'min_samples_leaf': 4, 'min_samples_split': 32, 'random_state': 42, 'splitter': 'best'}\n",
      "\tmean_train_accuracy: 0.8597653775414226\n",
      "\tmean_train_recall: 0.9924381908069896\n",
      "\tmean_train_precision: 0.794763405918028\n",
      "\tmean_train_f1: 0.88266850550571\n",
      "\tmean_val_accuracy: 0.8597654345879913\n",
      "\tmean_val_recall: 0.9924383012948979\n",
      "\tmean_val_precision: 0.7947692031056501\n",
      "\tmean_val_f1: 0.882669648811985\n",
      "\n",
      "Test set metrics: \n",
      "Accuracy 0.8505647263249348\n",
      "Precision test set  0.8774805036762707\n",
      "Recall test set  0.8505647263249348\n",
      "F1 score test set  0.8462951504339244\n",
      "Support test set  (array([0.98165138, 0.78557505]), array([0.69416126, 0.98855274]), array([0.81324647, 0.87545257]), array([1079, 1223], dtype=int64))\n",
      "              precision    recall  f1-score   support\n",
      "\n",
      "genuine_user       0.98      0.69      0.81      1079\n",
      "         bot       0.79      0.99      0.88      1223\n",
      "\n",
      "    accuracy                           0.85      2302\n",
      "   macro avg       0.88      0.84      0.84      2302\n",
      "weighted avg       0.88      0.85      0.85      2302\n",
      "\n"
     ]
    },
    {
     "data": {
      "text/plain": "<Figure size 432x288 with 2 Axes>",
      "image/png": "[encoded data removed]"
     },
     "metadata": {},
     "output_type": "display_data"
    },
    {
     "data": {
      "text/plain": "<Figure size 432x288 with 2 Axes>",
      "image/png": "[encoded data removed]"
     },
     "metadata": {},
     "output_type": "display_data"
    },
    {
     "data": {
      "text/plain": "<Figure size 432x288 with 2 Axes>",
      "image/png": "[encoded data removed]"
     },
     "metadata": {},
     "output_type": "display_data"
    }
   ],
   "source": [
    "grid_search_with_feature_selection(DecisionTreeClassifier, parameters, 'decision_tree', tr, ts, tr_target, ts_target, n_jobs=5,\n",
    "                                   folds=4, n_features=15)"
   ],
   "metadata": {
    "collapsed": false
   }
  },
  {
   "cell_type": "markdown",
   "metadata": {
    "id": "7hpJISxodOgL"
   },
   "source": [
    "# Naive Bayes"
   ]
  },
  {
   "cell_type": "code",
   "execution_count": 33,
   "metadata": {
    "colab": {
     "base_uri": "https://localhost:8080/",
     "height": 524
    },
    "id": "fPMobN77V5ZR",
    "outputId": "23f24cd9-30de-46f9-8b09-bdab6a512279"
   },
   "outputs": [],
   "source": [
    "labels = ['genuine user','bot']\n",
    "parameters = {\n",
    "    'alpha':[0.25,0.5,0.75,1, 2, 10, 1e2, 1e4],\n",
    "    'fit_prior': [True, False]\n",
    "}"
   ]
  },
  {
   "cell_type": "code",
   "execution_count": 35,
   "outputs": [],
   "source": [
    "nb_out_dir = 'mn_naive_bayes'\n",
    "try:\n",
    "    os.mkdir(out_dir+nb_out_dir)\n",
    "except FileExistsError:\n",
    "    pass"
   ],
   "metadata": {
    "collapsed": false
   }
  },
  {
   "cell_type": "code",
   "execution_count": 36,
   "metadata": {
    "collapsed": false
   },
   "outputs": [
    {
     "name": "stdout",
     "output_type": "stream",
     "text": [
      "Chosen columns of SelectKBest: Index(['statuses_count', 'user_subscription_in_secs', 'n_tweets',\n",
      "       '2015_tweets', '2016_tweets', '2017_tweets', '2018_tweets',\n",
      "       '2019_tweets', '2020_tweets', 'publication_date_in_secs_std',\n",
      "       'retweet_count_std', 'retweet_count_sum', 'reply_count_entropy',\n",
      "       'favorite_count_mean', 'favorite_count_std', 'num_hashtags_mean',\n",
      "       'num_hashtags_std', 'num_hashtags_sum', 'num_urls_mean', 'num_urls_std',\n",
      "       'num_urls_sum', 'num_mentions_mean', 'num_mentions_std',\n",
      "       'tweeting_regularity', 'max_daily_tweets'],\n",
      "      dtype='object')\n",
      "Fitting 4 folds for each of 16 candidates, totalling 64 fits\n",
      "Best combo:\n",
      "\tparams: {'alpha': 0.25, 'fit_prior': False}\n",
      "\tmean_train_accuracy: 0.8105944627593654\n",
      "\tmean_train_recall: 0.9734995985957908\n",
      "\tmean_train_precision: 0.7469203271105075\n",
      "\tmean_train_f1: 0.8452885896905857\n",
      "\tmean_val_accuracy: 0.8116435795867093\n",
      "\tmean_val_recall: 0.9742495083342686\n",
      "\tmean_val_precision: 0.747774062680267\n",
      "\tmean_val_f1: 0.8461171540102062\n",
      "\n",
      "Test set metrics: \n",
      "Accuracy 0.8001737619461338\n",
      "Precision test set  0.8362065654714226\n",
      "Recall test set  0.8001737619461338\n",
      "F1 score test set  0.7918739187182472\n",
      "Support test set  (array([0.94920174, 0.73651581]), array([0.60611677, 0.97138185]), array([0.739819  , 0.83779972]), array([1079, 1223], dtype=int64))\n",
      "              precision    recall  f1-score   support\n",
      "\n",
      "genuine_user       0.95      0.61      0.74      1079\n",
      "         bot       0.74      0.97      0.84      1223\n",
      "\n",
      "    accuracy                           0.80      2302\n",
      "   macro avg       0.84      0.79      0.79      2302\n",
      "weighted avg       0.84      0.80      0.79      2302\n",
      "\n",
      "Chosen columns of RFECV: Index(['statuses_count', 'n_tweets', '2015_tweets', '2016_tweets',\n",
      "       '2017_tweets', '2018_tweets', '2019_tweets', '2020_tweets',\n",
      "       'mean_length', 'mean_special_chars', 'publication_date_in_secs_mean',\n",
      "       'publication_date_in_secs_std', 'retweet_count_mean',\n",
      "       'retweet_count_std', 'retweet_count_sum', 'reply_count_entropy',\n",
      "       'favorite_count_std', 'favorite_count_sum', 'num_hashtags_mean',\n",
      "       'num_hashtags_sum', 'num_urls_std', 'num_mentions_mean',\n",
      "       'num_mentions_std', 'lang_discr'],\n",
      "      dtype='object')\n",
      "Fitting 4 folds for each of 16 candidates, totalling 64 fits\n",
      "Best combo:\n",
      "\tparams: {'alpha': 0.25, 'fit_prior': False}\n",
      "\tmean_train_accuracy: 0.8133462808031192\n",
      "\tmean_train_recall: 0.9905988052190715\n",
      "\tmean_train_precision: 0.743483139889147\n",
      "\tmean_train_f1: 0.8494328175281199\n",
      "\tmean_val_accuracy: 0.8129472189593087\n",
      "\tmean_val_recall: 0.9899863188666036\n",
      "\tmean_val_precision: 0.743316067109878\n",
      "\tmean_val_f1: 0.8490902720564439\n",
      "\n",
      "Test set metrics: \n",
      "Accuracy 0.8062554300608167\n",
      "Precision test set  0.8518092169261421\n",
      "Recall test set  0.8062554300608167\n",
      "F1 score test set  0.7968795349144323\n",
      "Support test set  (array([0.98320611, 0.73588342]), array([0.59684893, 0.99100572]), array([0.74279123, 0.8445993 ]), array([1079, 1223], dtype=int64))\n",
      "              precision    recall  f1-score   support\n",
      "\n",
      "genuine_user       0.98      0.60      0.74      1079\n",
      "         bot       0.74      0.99      0.84      1223\n",
      "\n",
      "    accuracy                           0.81      2302\n",
      "   macro avg       0.86      0.79      0.79      2302\n",
      "weighted avg       0.85      0.81      0.80      2302\n",
      "\n",
      "Chosen columns of SelectFromModel: Index(['statuses_count', 'user_subscription_in_secs', 'n_tweets',\n",
      "       '2019_tweets', '2020_tweets', 'mean_length', 'mean_special_chars',\n",
      "       'publication_date_in_secs_mean', 'publication_date_in_secs_std',\n",
      "       'retweet_count_sum', 'num_mentions_mean', 'num_mentions_std',\n",
      "       'tweeting_regularity', 'n_tweets_density'],\n",
      "      dtype='object')\n",
      "Fitting 4 folds for each of 16 candidates, totalling 64 fits\n",
      "Best combo:\n",
      "\tparams: {'alpha': 0.25, 'fit_prior': False}\n",
      "\tmean_train_accuracy: 0.8093271811700423\n",
      "\tmean_train_recall: 0.9875330573632979\n",
      "\tmean_train_precision: 0.7403864208154511\n",
      "\tmean_train_f1: 0.8462840912216216\n",
      "\tmean_val_accuracy: 0.8094713192730392\n",
      "\tmean_val_recall: 0.988146079500211\n",
      "\tmean_val_precision: 0.7403323256864524\n",
      "\tmean_val_f1: 0.8464691527203699\n",
      "\n",
      "Test set metrics: \n",
      "Accuracy 0.8006081668114683\n",
      "Precision test set  0.845325477790537\n",
      "Recall test set  0.8006081668114683\n",
      "F1 score test set  0.7909169835216957\n",
      "Support test set  (array([0.97400612, 0.73179612]), array([0.59036145, 0.98609975]), array([0.73514137, 0.84012539]), array([1079, 1223], dtype=int64))\n",
      "              precision    recall  f1-score   support\n",
      "\n",
      "genuine_user       0.97      0.59      0.74      1079\n",
      "         bot       0.73      0.99      0.84      1223\n",
      "\n",
      "    accuracy                           0.80      2302\n",
      "   macro avg       0.85      0.79      0.79      2302\n",
      "weighted avg       0.85      0.80      0.79      2302\n",
      "\n"
     ]
    },
    {
     "ename": "TypeError",
     "evalue": "cannot unpack non-iterable NoneType object",
     "output_type": "error",
     "traceback": [
      "\u001B[1;31m---------------------------------------------------------------------------\u001B[0m",
      "\u001B[1;31mTypeError\u001B[0m                                 Traceback (most recent call last)",
      "Input \u001B[1;32mIn [36]\u001B[0m, in \u001B[0;36m<cell line: 1>\u001B[1;34m()\u001B[0m\n\u001B[1;32m----> 1\u001B[0m best_nb, results_df \u001B[38;5;241m=\u001B[39m grid_search_with_feature_selection(MultinomialNB, parameters, nb_out_dir, tr, ts, tr_target, ts_target)\n",
      "\u001B[1;31mTypeError\u001B[0m: cannot unpack non-iterable NoneType object"
     ]
    },
    {
     "data": {
      "text/plain": "<Figure size 432x288 with 2 Axes>",
      "image/png": "[encoded data removed]"
     },
     "metadata": {},
     "output_type": "display_data"
    },
    {
     "data": {
      "text/plain": "<Figure size 432x288 with 2 Axes>",
      "image/png": "[encoded data removed]"
     },
     "metadata": {},
     "output_type": "display_data"
    },
    {
     "data": {
      "text/plain": "<Figure size 432x288 with 2 Axes>",
      "image/png": "[encoded data removed]"
     },
     "metadata": {},
     "output_type": "display_data"
    }
   ],
   "source": [
    "grid_search_with_feature_selection(MultinomialNB, parameters, nb_out_dir, tr, ts, tr_target, ts_target)"
   ]
  },
  {
   "cell_type": "markdown",
   "metadata": {
    "collapsed": false
   },
   "source": [
    "# Adaboost"
   ]
  },
  {
   "cell_type": "code",
   "execution_count": 19,
   "metadata": {
    "collapsed": false
   },
   "outputs": [],
   "source": [
    "# TODO add random state to make replicable grid?\n",
    "parameters = {\n",
    "    'base_estimator': [DecisionTreeClassifier(max_depth=4), DecisionTreeClassifier(max_depth=4, min_samples_split=2, criterion='gini', min_impurity_decrease=0.0, min_samples_leaf=8, splitter='best'), SVC(C=10000, gamma='auto', kernel='rbf', tol=0.1)],\n",
    "    'n_estimators': [4,8,16,32,64,128,256],\n",
    "    'learning_rate': [1e-3,1e-2, 1e-1, 1, 1e1, 1e2],\n",
    "    'algorithm': ['SAMME']#,'SAMME.R'],\n",
    "}"
   ]
  },
  {
   "cell_type": "code",
   "execution_count": 20,
   "metadata": {
    "collapsed": false
   },
   "outputs": [
    {
     "name": "stdout",
     "output_type": "stream",
     "text": [
      "Fitting 4 folds for each of 126 candidates, totalling 504 fits\n"
     ]
    },
    {
     "ename": "KeyboardInterrupt",
     "evalue": "",
     "output_type": "error",
     "traceback": [
      "\u001B[1;31m---------------------------------------------------------------------------\u001B[0m",
      "\u001B[1;31mKeyboardInterrupt\u001B[0m                         Traceback (most recent call last)",
      "Cell \u001B[1;32mIn [20], line 1\u001B[0m\n\u001B[1;32m----> 1\u001B[0m results_df \u001B[39m=\u001B[39m grid_search(AdaBoostClassifier, parameters, \u001B[39m'\u001B[39;49m\u001B[39madaboost\u001B[39;49m\u001B[39m'\u001B[39;49m, tr, tr_target)\n",
      "File \u001B[1;32mc:\\Users\\Alessandro\\Desktop\\DataMining\\DM_tweets\\classification_utilities.py:174\u001B[0m, in \u001B[0;36mgrid_search\u001B[1;34m(classifier_class, parameters, name, tr, tr_target, n_jobs, k)\u001B[0m\n\u001B[0;32m    169\u001B[0m     \u001B[39mpass\u001B[39;00m\n\u001B[0;32m    171\u001B[0m gs \u001B[39m=\u001B[39m GridSearchCV(classifier_class(), param_grid\u001B[39m=\u001B[39mparameters, scoring\u001B[39m=\u001B[39m[\u001B[39m'\u001B[39m\u001B[39maccuracy\u001B[39m\u001B[39m'\u001B[39m, \u001B[39m'\u001B[39m\u001B[39mprecision\u001B[39m\u001B[39m'\u001B[39m, \u001B[39m'\u001B[39m\u001B[39mrecall\u001B[39m\u001B[39m'\u001B[39m, \u001B[39m'\u001B[39m\u001B[39mf1\u001B[39m\u001B[39m'\u001B[39m],\n\u001B[0;32m    172\u001B[0m                   verbose\u001B[39m=\u001B[39m\u001B[39m3\u001B[39m,\n\u001B[0;32m    173\u001B[0m                   refit\u001B[39m=\u001B[39m\u001B[39mFalse\u001B[39;00m, n_jobs\u001B[39m=\u001B[39mn_jobs, return_train_score\u001B[39m=\u001B[39m\u001B[39mTrue\u001B[39;00m, cv\u001B[39m=\u001B[39mk)\n\u001B[1;32m--> 174\u001B[0m gs\u001B[39m.\u001B[39;49mfit(tr, tr_target)\n\u001B[0;32m    175\u001B[0m results_df \u001B[39m=\u001B[39m pd\u001B[39m.\u001B[39mDataFrame(gs\u001B[39m.\u001B[39mcv_results_)\n\u001B[0;32m    176\u001B[0m results_df\u001B[39m.\u001B[39mto_csv(\u001B[39mf\u001B[39m\u001B[39m\"\u001B[39m\u001B[39m{\u001B[39;00mout_path\u001B[39m}\u001B[39;00m\u001B[39m/gs_results.csv\u001B[39m\u001B[39m\"\u001B[39m)\n",
      "File \u001B[1;32mc:\\Users\\Alessandro\\AppData\\Local\\Programs\\Python\\Python310\\lib\\site-packages\\sklearn\\model_selection\\_search.py:891\u001B[0m, in \u001B[0;36mBaseSearchCV.fit\u001B[1;34m(self, X, y, groups, **fit_params)\u001B[0m\n\u001B[0;32m    885\u001B[0m     results \u001B[39m=\u001B[39m \u001B[39mself\u001B[39m\u001B[39m.\u001B[39m_format_results(\n\u001B[0;32m    886\u001B[0m         all_candidate_params, n_splits, all_out, all_more_results\n\u001B[0;32m    887\u001B[0m     )\n\u001B[0;32m    889\u001B[0m     \u001B[39mreturn\u001B[39;00m results\n\u001B[1;32m--> 891\u001B[0m \u001B[39mself\u001B[39;49m\u001B[39m.\u001B[39;49m_run_search(evaluate_candidates)\n\u001B[0;32m    893\u001B[0m \u001B[39m# multimetric is determined here because in the case of a callable\u001B[39;00m\n\u001B[0;32m    894\u001B[0m \u001B[39m# self.scoring the return type is only known after calling\u001B[39;00m\n\u001B[0;32m    895\u001B[0m first_test_score \u001B[39m=\u001B[39m all_out[\u001B[39m0\u001B[39m][\u001B[39m\"\u001B[39m\u001B[39mtest_scores\u001B[39m\u001B[39m\"\u001B[39m]\n",
      "File \u001B[1;32mc:\\Users\\Alessandro\\AppData\\Local\\Programs\\Python\\Python310\\lib\\site-packages\\sklearn\\model_selection\\_search.py:1392\u001B[0m, in \u001B[0;36mGridSearchCV._run_search\u001B[1;34m(self, evaluate_candidates)\u001B[0m\n\u001B[0;32m   1390\u001B[0m \u001B[39mdef\u001B[39;00m \u001B[39m_run_search\u001B[39m(\u001B[39mself\u001B[39m, evaluate_candidates):\n\u001B[0;32m   1391\u001B[0m     \u001B[39m\"\"\"Search all candidates in param_grid\"\"\"\u001B[39;00m\n\u001B[1;32m-> 1392\u001B[0m     evaluate_candidates(ParameterGrid(\u001B[39mself\u001B[39;49m\u001B[39m.\u001B[39;49mparam_grid))\n",
      "File \u001B[1;32mc:\\Users\\Alessandro\\AppData\\Local\\Programs\\Python\\Python310\\lib\\site-packages\\sklearn\\model_selection\\_search.py:838\u001B[0m, in \u001B[0;36mBaseSearchCV.fit.<locals>.evaluate_candidates\u001B[1;34m(candidate_params, cv, more_results)\u001B[0m\n\u001B[0;32m    830\u001B[0m \u001B[39mif\u001B[39;00m \u001B[39mself\u001B[39m\u001B[39m.\u001B[39mverbose \u001B[39m>\u001B[39m \u001B[39m0\u001B[39m:\n\u001B[0;32m    831\u001B[0m     \u001B[39mprint\u001B[39m(\n\u001B[0;32m    832\u001B[0m         \u001B[39m\"\u001B[39m\u001B[39mFitting \u001B[39m\u001B[39m{0}\u001B[39;00m\u001B[39m folds for each of \u001B[39m\u001B[39m{1}\u001B[39;00m\u001B[39m candidates,\u001B[39m\u001B[39m\"\u001B[39m\n\u001B[0;32m    833\u001B[0m         \u001B[39m\"\u001B[39m\u001B[39m totalling \u001B[39m\u001B[39m{2}\u001B[39;00m\u001B[39m fits\u001B[39m\u001B[39m\"\u001B[39m\u001B[39m.\u001B[39mformat(\n\u001B[0;32m    834\u001B[0m             n_splits, n_candidates, n_candidates \u001B[39m*\u001B[39m n_splits\n\u001B[0;32m    835\u001B[0m         )\n\u001B[0;32m    836\u001B[0m     )\n\u001B[1;32m--> 838\u001B[0m out \u001B[39m=\u001B[39m parallel(\n\u001B[0;32m    839\u001B[0m     delayed(_fit_and_score)(\n\u001B[0;32m    840\u001B[0m         clone(base_estimator),\n\u001B[0;32m    841\u001B[0m         X,\n\u001B[0;32m    842\u001B[0m         y,\n\u001B[0;32m    843\u001B[0m         train\u001B[39m=\u001B[39;49mtrain,\n\u001B[0;32m    844\u001B[0m         test\u001B[39m=\u001B[39;49mtest,\n\u001B[0;32m    845\u001B[0m         parameters\u001B[39m=\u001B[39;49mparameters,\n\u001B[0;32m    846\u001B[0m         split_progress\u001B[39m=\u001B[39;49m(split_idx, n_splits),\n\u001B[0;32m    847\u001B[0m         candidate_progress\u001B[39m=\u001B[39;49m(cand_idx, n_candidates),\n\u001B[0;32m    848\u001B[0m         \u001B[39m*\u001B[39;49m\u001B[39m*\u001B[39;49mfit_and_score_kwargs,\n\u001B[0;32m    849\u001B[0m     )\n\u001B[0;32m    850\u001B[0m     \u001B[39mfor\u001B[39;49;00m (cand_idx, parameters), (split_idx, (train, test)) \u001B[39min\u001B[39;49;00m product(\n\u001B[0;32m    851\u001B[0m         \u001B[39menumerate\u001B[39;49m(candidate_params), \u001B[39menumerate\u001B[39;49m(cv\u001B[39m.\u001B[39;49msplit(X, y, groups))\n\u001B[0;32m    852\u001B[0m     )\n\u001B[0;32m    853\u001B[0m )\n\u001B[0;32m    855\u001B[0m \u001B[39mif\u001B[39;00m \u001B[39mlen\u001B[39m(out) \u001B[39m<\u001B[39m \u001B[39m1\u001B[39m:\n\u001B[0;32m    856\u001B[0m     \u001B[39mraise\u001B[39;00m \u001B[39mValueError\u001B[39;00m(\n\u001B[0;32m    857\u001B[0m         \u001B[39m\"\u001B[39m\u001B[39mNo fits were performed. \u001B[39m\u001B[39m\"\u001B[39m\n\u001B[0;32m    858\u001B[0m         \u001B[39m\"\u001B[39m\u001B[39mWas the CV iterator empty? \u001B[39m\u001B[39m\"\u001B[39m\n\u001B[0;32m    859\u001B[0m         \u001B[39m\"\u001B[39m\u001B[39mWere there no candidates?\u001B[39m\u001B[39m\"\u001B[39m\n\u001B[0;32m    860\u001B[0m     )\n",
      "File \u001B[1;32mc:\\Users\\Alessandro\\AppData\\Local\\Programs\\Python\\Python310\\lib\\site-packages\\joblib\\parallel.py:1056\u001B[0m, in \u001B[0;36mParallel.__call__\u001B[1;34m(self, iterable)\u001B[0m\n\u001B[0;32m   1053\u001B[0m     \u001B[39mself\u001B[39m\u001B[39m.\u001B[39m_iterating \u001B[39m=\u001B[39m \u001B[39mFalse\u001B[39;00m\n\u001B[0;32m   1055\u001B[0m \u001B[39mwith\u001B[39;00m \u001B[39mself\u001B[39m\u001B[39m.\u001B[39m_backend\u001B[39m.\u001B[39mretrieval_context():\n\u001B[1;32m-> 1056\u001B[0m     \u001B[39mself\u001B[39;49m\u001B[39m.\u001B[39;49mretrieve()\n\u001B[0;32m   1057\u001B[0m \u001B[39m# Make sure that we get a last message telling us we are done\u001B[39;00m\n\u001B[0;32m   1058\u001B[0m elapsed_time \u001B[39m=\u001B[39m time\u001B[39m.\u001B[39mtime() \u001B[39m-\u001B[39m \u001B[39mself\u001B[39m\u001B[39m.\u001B[39m_start_time\n",
      "File \u001B[1;32mc:\\Users\\Alessandro\\AppData\\Local\\Programs\\Python\\Python310\\lib\\site-packages\\joblib\\parallel.py:935\u001B[0m, in \u001B[0;36mParallel.retrieve\u001B[1;34m(self)\u001B[0m\n\u001B[0;32m    933\u001B[0m \u001B[39mtry\u001B[39;00m:\n\u001B[0;32m    934\u001B[0m     \u001B[39mif\u001B[39;00m \u001B[39mgetattr\u001B[39m(\u001B[39mself\u001B[39m\u001B[39m.\u001B[39m_backend, \u001B[39m'\u001B[39m\u001B[39msupports_timeout\u001B[39m\u001B[39m'\u001B[39m, \u001B[39mFalse\u001B[39;00m):\n\u001B[1;32m--> 935\u001B[0m         \u001B[39mself\u001B[39m\u001B[39m.\u001B[39m_output\u001B[39m.\u001B[39mextend(job\u001B[39m.\u001B[39;49mget(timeout\u001B[39m=\u001B[39;49m\u001B[39mself\u001B[39;49m\u001B[39m.\u001B[39;49mtimeout))\n\u001B[0;32m    936\u001B[0m     \u001B[39melse\u001B[39;00m:\n\u001B[0;32m    937\u001B[0m         \u001B[39mself\u001B[39m\u001B[39m.\u001B[39m_output\u001B[39m.\u001B[39mextend(job\u001B[39m.\u001B[39mget())\n",
      "File \u001B[1;32mc:\\Users\\Alessandro\\AppData\\Local\\Programs\\Python\\Python310\\lib\\site-packages\\joblib\\_parallel_backends.py:542\u001B[0m, in \u001B[0;36mLokyBackend.wrap_future_result\u001B[1;34m(future, timeout)\u001B[0m\n\u001B[0;32m    539\u001B[0m \u001B[39m\"\"\"Wrapper for Future.result to implement the same behaviour as\u001B[39;00m\n\u001B[0;32m    540\u001B[0m \u001B[39mAsyncResults.get from multiprocessing.\"\"\"\u001B[39;00m\n\u001B[0;32m    541\u001B[0m \u001B[39mtry\u001B[39;00m:\n\u001B[1;32m--> 542\u001B[0m     \u001B[39mreturn\u001B[39;00m future\u001B[39m.\u001B[39;49mresult(timeout\u001B[39m=\u001B[39;49mtimeout)\n\u001B[0;32m    543\u001B[0m \u001B[39mexcept\u001B[39;00m CfTimeoutError \u001B[39mas\u001B[39;00m e:\n\u001B[0;32m    544\u001B[0m     \u001B[39mraise\u001B[39;00m \u001B[39mTimeoutError\u001B[39;00m \u001B[39mfrom\u001B[39;00m \u001B[39me\u001B[39;00m\n",
      "File \u001B[1;32mc:\\Users\\Alessandro\\AppData\\Local\\Programs\\Python\\Python310\\lib\\concurrent\\futures\\_base.py:441\u001B[0m, in \u001B[0;36mFuture.result\u001B[1;34m(self, timeout)\u001B[0m\n\u001B[0;32m    438\u001B[0m \u001B[39melif\u001B[39;00m \u001B[39mself\u001B[39m\u001B[39m.\u001B[39m_state \u001B[39m==\u001B[39m FINISHED:\n\u001B[0;32m    439\u001B[0m     \u001B[39mreturn\u001B[39;00m \u001B[39mself\u001B[39m\u001B[39m.\u001B[39m__get_result()\n\u001B[1;32m--> 441\u001B[0m \u001B[39mself\u001B[39;49m\u001B[39m.\u001B[39;49m_condition\u001B[39m.\u001B[39;49mwait(timeout)\n\u001B[0;32m    443\u001B[0m \u001B[39mif\u001B[39;00m \u001B[39mself\u001B[39m\u001B[39m.\u001B[39m_state \u001B[39min\u001B[39;00m [CANCELLED, CANCELLED_AND_NOTIFIED]:\n\u001B[0;32m    444\u001B[0m     \u001B[39mraise\u001B[39;00m CancelledError()\n",
      "File \u001B[1;32mc:\\Users\\Alessandro\\AppData\\Local\\Programs\\Python\\Python310\\lib\\threading.py:320\u001B[0m, in \u001B[0;36mCondition.wait\u001B[1;34m(self, timeout)\u001B[0m\n\u001B[0;32m    318\u001B[0m \u001B[39mtry\u001B[39;00m:    \u001B[39m# restore state no matter what (e.g., KeyboardInterrupt)\u001B[39;00m\n\u001B[0;32m    319\u001B[0m     \u001B[39mif\u001B[39;00m timeout \u001B[39mis\u001B[39;00m \u001B[39mNone\u001B[39;00m:\n\u001B[1;32m--> 320\u001B[0m         waiter\u001B[39m.\u001B[39;49macquire()\n\u001B[0;32m    321\u001B[0m         gotit \u001B[39m=\u001B[39m \u001B[39mTrue\u001B[39;00m\n\u001B[0;32m    322\u001B[0m     \u001B[39melse\u001B[39;00m:\n",
      "\u001B[1;31mKeyboardInterrupt\u001B[0m: "
     ]
    }
   ],
   "source": [
    "results_df = grid_search(AdaBoostClassifier, parameters, 'adaboost', tr, tr_target)"
   ]
  },
  {
   "cell_type": "code",
   "execution_count": null,
   "metadata": {},
   "outputs": [],
   "source": []
  },
  {
   "cell_type": "markdown",
   "metadata": {
    "collapsed": false
   },
   "source": [
    "# Random Forest"
   ]
  },
  {
   "cell_type": "code",
   "execution_count": 61,
   "metadata": {
    "collapsed": false
   },
   "outputs": [
    {
     "data": {
      "text/plain": [
       "'  \\n\"max_depth\": [None] + list(range(5,100,10)),\\n    #\"min_samples_split\": [2,4,8,16,32,64],\\n    \"min_samples_split\": [2,16,64],\\n    #\"min_samples_leaf\": [2,4,8,16,32,64,128],\\n    \"min_samples_leaf\": [2,16,64,128],\\n    \"max_features\":[\"auto\",\"sqrt\",\"log2\",None],\\n    \"max_leaf_nodes\":[None] + list(range(1,10,2)),\\n    \"min_impurity_decrease\": 0.1 * np.array(range(1,5))\\n'"
      ]
     },
     "execution_count": 61,
     "metadata": {},
     "output_type": "execute_result"
    }
   ],
   "source": [
    "parameters = {\n",
    "    \"n_estimators\": range(50,500,100),\n",
    "    \"criterion\": [\"gini\",\"entropy\",\"log_loss\"],\n",
    "    \"max_depth\": [None] + list(range(5,100,10)),\n",
    "    \"min_samples_split\": [2,4,8,16,32,64],\n",
    "    \"min_samples_leaf\": [2,4,8,16,32,64,128],\n",
    "    \"max_features\":[\"auto\",\"sqrt\",\"log2\",None],\n",
    "    \"max_leaf_nodes\":[None] + list(range(1,10,2)),\n",
    "    \"min_impurity_decrease\": 0.1 * np.array(range(1,5))\n",
    "}"
   ]
  },
  {
   "cell_type": "code",
   "execution_count": 63,
   "metadata": {
    "collapsed": false
   },
   "outputs": [],
   "source": [
    "rf, results_df = grid_search(RandomForestClassifier, parameters, 'random_forest', tr, ts, tr_target, ts_target)"
   ]
  },
  {
   "cell_type": "code",
   "execution_count": 13,
   "metadata": {
    "collapsed": false
   },
   "outputs": [],
   "source": [
    "best_params = {'criterion': 'gini', 'max_depth': 15, 'max_features': 'sqrt', 'max_leaf_nodes': 9, 'min_impurity_decrease': 0.2, 'min_samples_leaf': 8, 'min_samples_split': 32, 'n_estimators': 50}"
   ]
  },
  {
   "cell_type": "code",
   "execution_count": 14,
   "metadata": {
    "collapsed": false
   },
   "outputs": [
    {
     "name": "stdout",
     "output_type": "stream",
     "text": [
      "Accuracy 0.8266724587315378\n",
      "Precision test set  0.8693097515589832\n",
      "Recall test set  0.8266724587315378\n",
      "F1 score test set  0.8191684696842777\n",
      "Support test set  (array([1.       , 0.7540074]), array([0.63021316, 1.        ]), array([0.77316657, 0.85975395]), array([1079, 1223], dtype=int64))\n",
      "              precision    recall  f1-score   support\n",
      "\n",
      "genuine_user       1.00      0.63      0.77      1079\n",
      "         bot       0.75      1.00      0.86      1223\n",
      "\n",
      "    accuracy                           0.83      2302\n",
      "   macro avg       0.88      0.82      0.82      2302\n",
      "weighted avg       0.87      0.83      0.82      2302\n",
      "\n"
     ]
    },
    {
     "data": {
      "text/plain": [
       "RandomForestClassifier(max_depth=15, max_features='sqrt', max_leaf_nodes=9,\n",
       "                       min_impurity_decrease=0.2, min_samples_leaf=8,\n",
       "                       min_samples_split=32, n_estimators=50)"
      ]
     },
     "execution_count": 14,
     "metadata": {},
     "output_type": "execute_result"
    },
    {
     "data": {
      "image/png": "[encoded data removed]",
      "text/plain": [
       "<Figure size 432x288 with 2 Axes>"
      ]
     },
     "metadata": {
      "needs_background": "light"
     },
     "output_type": "display_data"
    }
   ],
   "source": [
    "test_best(RandomForestClassifier, best_params, tr, ts, tr_target, ts_target, 'classification/random_forest/')"
   ]
  },
  {
   "cell_type": "markdown",
   "metadata": {
    "collapsed": false
   },
   "source": [
    "# SVM"
   ]
  },
  {
   "cell_type": "code",
   "execution_count": 37,
   "metadata": {
    "collapsed": false
   },
   "outputs": [],
   "source": [
    "parameters_linear = {\n",
    "    'C': [10**(exp) for exp in [-2,-1,1,2,3,4]],\n",
    "    'kernel': ['linear'],\n",
    "    'random_state': [42]\n",
    "}\n",
    "\n",
    "gamma_range = ['scale','auto'] + [10**(exp) for exp in [-2,-1,0]]\n",
    "\n",
    "parameters_poly = {\n",
    "    **parameters_linear,\n",
    "    'kernel': ['poly'],\n",
    "    'degree': list(range(2,8)),\n",
    "    'gamma': gamma_range,\n",
    "}\n",
    "\n",
    "parameters_rbf = {\n",
    "    **parameters_linear,\n",
    "    'kernel': ['rbf'],\n",
    "    'gamma': gamma_range\n",
    "}"
   ]
  },
  {
   "cell_type": "code",
   "execution_count": null,
   "metadata": {
    "collapsed": false,
    "pycharm": {
     "is_executing": true
    }
   },
   "outputs": [
    {
     "name": "stdout",
     "output_type": "stream",
     "text": [
      "Fitting 4 folds for each of 216 candidates, totalling 864 fits\n"
     ]
    }
   ],
   "source": [
    "results_df = grid_search(SVC, [parameters_rbf, parameters_linear, parameters_poly], 'svm_all_kernels',tr, tr_target, n_jobs=6)"
   ]
  },
  {
   "cell_type": "code",
   "execution_count": 27,
   "metadata": {
    "collapsed": false
   },
   "outputs": [],
   "source": [
    "results_df = pd.read_csv('classification/svm/gs_results.csv')"
   ]
  },
  {
   "cell_type": "code",
   "execution_count": 31,
   "metadata": {
    "collapsed": false
   },
   "outputs": [
    {
     "data": {
      "text/html": [
       "<div>\n",
       "<style scoped>\n",
       "    .dataframe tbody tr th:only-of-type {\n",
       "        vertical-align: middle;\n",
       "    }\n",
       "\n",
       "    .dataframe tbody tr th {\n",
       "        vertical-align: top;\n",
       "    }\n",
       "\n",
       "    .dataframe thead th {\n",
       "        text-align: right;\n",
       "    }\n",
       "</style>\n",
       "<table border=\"1\" class=\"dataframe\">\n",
       "  <thead>\n",
       "    <tr style=\"text-align: right;\">\n",
       "      <th></th>\n",
       "      <th>params</th>\n",
       "      <th>mean_test_f1</th>\n",
       "    </tr>\n",
       "  </thead>\n",
       "  <tbody>\n",
       "    <tr>\n",
       "      <th>36</th>\n",
       "      <td>{'C': 10000, 'gamma': 'auto', 'kernel': 'rbf',...</td>\n",
       "      <td>0.857578</td>\n",
       "    </tr>\n",
       "    <tr>\n",
       "      <th>38</th>\n",
       "      <td>{'C': 10000, 'gamma': 0.1, 'kernel': 'rbf', 'r...</td>\n",
       "      <td>0.857453</td>\n",
       "    </tr>\n",
       "    <tr>\n",
       "      <th>31</th>\n",
       "      <td>{'C': 1000, 'gamma': 0.1, 'kernel': 'rbf', 'ra...</td>\n",
       "      <td>0.856775</td>\n",
       "    </tr>\n",
       "    <tr>\n",
       "      <th>29</th>\n",
       "      <td>{'C': 1000, 'gamma': 'auto', 'kernel': 'rbf', ...</td>\n",
       "      <td>0.856246</td>\n",
       "    </tr>\n",
       "    <tr>\n",
       "      <th>37</th>\n",
       "      <td>{'C': 10000, 'gamma': 0.01, 'kernel': 'rbf', '...</td>\n",
       "      <td>0.856201</td>\n",
       "    </tr>\n",
       "    <tr>\n",
       "      <th>25</th>\n",
       "      <td>{'C': 100, 'gamma': 1, 'kernel': 'rbf', 'rando...</td>\n",
       "      <td>0.855638</td>\n",
       "    </tr>\n",
       "    <tr>\n",
       "      <th>21</th>\n",
       "      <td>{'C': 100, 'gamma': 'scale', 'kernel': 'rbf', ...</td>\n",
       "      <td>0.855435</td>\n",
       "    </tr>\n",
       "    <tr>\n",
       "      <th>32</th>\n",
       "      <td>{'C': 1000, 'gamma': 1, 'kernel': 'rbf', 'rand...</td>\n",
       "      <td>0.854879</td>\n",
       "    </tr>\n",
       "    <tr>\n",
       "      <th>28</th>\n",
       "      <td>{'C': 1000, 'gamma': 'scale', 'kernel': 'rbf',...</td>\n",
       "      <td>0.854550</td>\n",
       "    </tr>\n",
       "    <tr>\n",
       "      <th>14</th>\n",
       "      <td>{'C': 10, 'gamma': 'scale', 'kernel': 'rbf', '...</td>\n",
       "      <td>0.854206</td>\n",
       "    </tr>\n",
       "    <tr>\n",
       "      <th>18</th>\n",
       "      <td>{'C': 10, 'gamma': 1, 'kernel': 'rbf', 'random...</td>\n",
       "      <td>0.854080</td>\n",
       "    </tr>\n",
       "    <tr>\n",
       "      <th>24</th>\n",
       "      <td>{'C': 100, 'gamma': 0.1, 'kernel': 'rbf', 'ran...</td>\n",
       "      <td>0.853069</td>\n",
       "    </tr>\n",
       "    <tr>\n",
       "      <th>30</th>\n",
       "      <td>{'C': 1000, 'gamma': 0.01, 'kernel': 'rbf', 'r...</td>\n",
       "      <td>0.852534</td>\n",
       "    </tr>\n",
       "    <tr>\n",
       "      <th>22</th>\n",
       "      <td>{'C': 100, 'gamma': 'auto', 'kernel': 'rbf', '...</td>\n",
       "      <td>0.852073</td>\n",
       "    </tr>\n",
       "    <tr>\n",
       "      <th>39</th>\n",
       "      <td>{'C': 10000, 'gamma': 1, 'kernel': 'rbf', 'ran...</td>\n",
       "      <td>0.851978</td>\n",
       "    </tr>\n",
       "    <tr>\n",
       "      <th>35</th>\n",
       "      <td>{'C': 10000, 'gamma': 'scale', 'kernel': 'rbf'...</td>\n",
       "      <td>0.851496</td>\n",
       "    </tr>\n",
       "    <tr>\n",
       "      <th>19</th>\n",
       "      <td>{'C': 10, 'gamma': 10, 'kernel': 'rbf', 'rando...</td>\n",
       "      <td>0.849719</td>\n",
       "    </tr>\n",
       "    <tr>\n",
       "      <th>17</th>\n",
       "      <td>{'C': 10, 'gamma': 0.1, 'kernel': 'rbf', 'rand...</td>\n",
       "      <td>0.846998</td>\n",
       "    </tr>\n",
       "    <tr>\n",
       "      <th>23</th>\n",
       "      <td>{'C': 100, 'gamma': 0.01, 'kernel': 'rbf', 'ra...</td>\n",
       "      <td>0.846247</td>\n",
       "    </tr>\n",
       "    <tr>\n",
       "      <th>26</th>\n",
       "      <td>{'C': 100, 'gamma': 10, 'kernel': 'rbf', 'rand...</td>\n",
       "      <td>0.845983</td>\n",
       "    </tr>\n",
       "    <tr>\n",
       "      <th>15</th>\n",
       "      <td>{'C': 10, 'gamma': 'auto', 'kernel': 'rbf', 'r...</td>\n",
       "      <td>0.845116</td>\n",
       "    </tr>\n",
       "    <tr>\n",
       "      <th>33</th>\n",
       "      <td>{'C': 1000, 'gamma': 10, 'kernel': 'rbf', 'ran...</td>\n",
       "      <td>0.843168</td>\n",
       "    </tr>\n",
       "    <tr>\n",
       "      <th>7</th>\n",
       "      <td>{'C': 0.1, 'gamma': 'scale', 'kernel': 'rbf', ...</td>\n",
       "      <td>0.840871</td>\n",
       "    </tr>\n",
       "    <tr>\n",
       "      <th>11</th>\n",
       "      <td>{'C': 0.1, 'gamma': 1, 'kernel': 'rbf', 'rando...</td>\n",
       "      <td>0.840448</td>\n",
       "    </tr>\n",
       "    <tr>\n",
       "      <th>12</th>\n",
       "      <td>{'C': 0.1, 'gamma': 10, 'kernel': 'rbf', 'rand...</td>\n",
       "      <td>0.839254</td>\n",
       "    </tr>\n",
       "    <tr>\n",
       "      <th>40</th>\n",
       "      <td>{'C': 10000, 'gamma': 10, 'kernel': 'rbf', 'ra...</td>\n",
       "      <td>0.838544</td>\n",
       "    </tr>\n",
       "    <tr>\n",
       "      <th>16</th>\n",
       "      <td>{'C': 10, 'gamma': 0.01, 'kernel': 'rbf', 'ran...</td>\n",
       "      <td>0.837953</td>\n",
       "    </tr>\n",
       "    <tr>\n",
       "      <th>20</th>\n",
       "      <td>{'C': 10, 'gamma': 100, 'kernel': 'rbf', 'rand...</td>\n",
       "      <td>0.827346</td>\n",
       "    </tr>\n",
       "    <tr>\n",
       "      <th>0</th>\n",
       "      <td>{'C': 0.01, 'gamma': 'scale', 'kernel': 'rbf',...</td>\n",
       "      <td>0.823486</td>\n",
       "    </tr>\n",
       "    <tr>\n",
       "      <th>27</th>\n",
       "      <td>{'C': 100, 'gamma': 100, 'kernel': 'rbf', 'ran...</td>\n",
       "      <td>0.823366</td>\n",
       "    </tr>\n",
       "    <tr>\n",
       "      <th>4</th>\n",
       "      <td>{'C': 0.01, 'gamma': 1, 'kernel': 'rbf', 'rand...</td>\n",
       "      <td>0.822036</td>\n",
       "    </tr>\n",
       "    <tr>\n",
       "      <th>10</th>\n",
       "      <td>{'C': 0.1, 'gamma': 0.1, 'kernel': 'rbf', 'ran...</td>\n",
       "      <td>0.821424</td>\n",
       "    </tr>\n",
       "    <tr>\n",
       "      <th>34</th>\n",
       "      <td>{'C': 1000, 'gamma': 100, 'kernel': 'rbf', 'ra...</td>\n",
       "      <td>0.815917</td>\n",
       "    </tr>\n",
       "    <tr>\n",
       "      <th>8</th>\n",
       "      <td>{'C': 0.1, 'gamma': 'auto', 'kernel': 'rbf', '...</td>\n",
       "      <td>0.812917</td>\n",
       "    </tr>\n",
       "    <tr>\n",
       "      <th>41</th>\n",
       "      <td>{'C': 10000, 'gamma': 100, 'kernel': 'rbf', 'r...</td>\n",
       "      <td>0.808245</td>\n",
       "    </tr>\n",
       "    <tr>\n",
       "      <th>13</th>\n",
       "      <td>{'C': 0.1, 'gamma': 100, 'kernel': 'rbf', 'ran...</td>\n",
       "      <td>0.803743</td>\n",
       "    </tr>\n",
       "    <tr>\n",
       "      <th>5</th>\n",
       "      <td>{'C': 0.01, 'gamma': 10, 'kernel': 'rbf', 'ran...</td>\n",
       "      <td>0.798906</td>\n",
       "    </tr>\n",
       "    <tr>\n",
       "      <th>3</th>\n",
       "      <td>{'C': 0.01, 'gamma': 0.1, 'kernel': 'rbf', 'ra...</td>\n",
       "      <td>0.749636</td>\n",
       "    </tr>\n",
       "    <tr>\n",
       "      <th>9</th>\n",
       "      <td>{'C': 0.1, 'gamma': 0.01, 'kernel': 'rbf', 'ra...</td>\n",
       "      <td>0.747861</td>\n",
       "    </tr>\n",
       "    <tr>\n",
       "      <th>6</th>\n",
       "      <td>{'C': 0.01, 'gamma': 100, 'kernel': 'rbf', 'ra...</td>\n",
       "      <td>0.746442</td>\n",
       "    </tr>\n",
       "    <tr>\n",
       "      <th>1</th>\n",
       "      <td>{'C': 0.01, 'gamma': 'auto', 'kernel': 'rbf', ...</td>\n",
       "      <td>0.744730</td>\n",
       "    </tr>\n",
       "    <tr>\n",
       "      <th>2</th>\n",
       "      <td>{'C': 0.01, 'gamma': 0.01, 'kernel': 'rbf', 'r...</td>\n",
       "      <td>0.694092</td>\n",
       "    </tr>\n",
       "  </tbody>\n",
       "</table>\n",
       "</div>"
      ],
      "text/plain": [
       "                                               params  mean_test_f1\n",
       "36  {'C': 10000, 'gamma': 'auto', 'kernel': 'rbf',...      0.857578\n",
       "38  {'C': 10000, 'gamma': 0.1, 'kernel': 'rbf', 'r...      0.857453\n",
       "31  {'C': 1000, 'gamma': 0.1, 'kernel': 'rbf', 'ra...      0.856775\n",
       "29  {'C': 1000, 'gamma': 'auto', 'kernel': 'rbf', ...      0.856246\n",
       "37  {'C': 10000, 'gamma': 0.01, 'kernel': 'rbf', '...      0.856201\n",
       "25  {'C': 100, 'gamma': 1, 'kernel': 'rbf', 'rando...      0.855638\n",
       "21  {'C': 100, 'gamma': 'scale', 'kernel': 'rbf', ...      0.855435\n",
       "32  {'C': 1000, 'gamma': 1, 'kernel': 'rbf', 'rand...      0.854879\n",
       "28  {'C': 1000, 'gamma': 'scale', 'kernel': 'rbf',...      0.854550\n",
       "14  {'C': 10, 'gamma': 'scale', 'kernel': 'rbf', '...      0.854206\n",
       "18  {'C': 10, 'gamma': 1, 'kernel': 'rbf', 'random...      0.854080\n",
       "24  {'C': 100, 'gamma': 0.1, 'kernel': 'rbf', 'ran...      0.853069\n",
       "30  {'C': 1000, 'gamma': 0.01, 'kernel': 'rbf', 'r...      0.852534\n",
       "22  {'C': 100, 'gamma': 'auto', 'kernel': 'rbf', '...      0.852073\n",
       "39  {'C': 10000, 'gamma': 1, 'kernel': 'rbf', 'ran...      0.851978\n",
       "35  {'C': 10000, 'gamma': 'scale', 'kernel': 'rbf'...      0.851496\n",
       "19  {'C': 10, 'gamma': 10, 'kernel': 'rbf', 'rando...      0.849719\n",
       "17  {'C': 10, 'gamma': 0.1, 'kernel': 'rbf', 'rand...      0.846998\n",
       "23  {'C': 100, 'gamma': 0.01, 'kernel': 'rbf', 'ra...      0.846247\n",
       "26  {'C': 100, 'gamma': 10, 'kernel': 'rbf', 'rand...      0.845983\n",
       "15  {'C': 10, 'gamma': 'auto', 'kernel': 'rbf', 'r...      0.845116\n",
       "33  {'C': 1000, 'gamma': 10, 'kernel': 'rbf', 'ran...      0.843168\n",
       "7   {'C': 0.1, 'gamma': 'scale', 'kernel': 'rbf', ...      0.840871\n",
       "11  {'C': 0.1, 'gamma': 1, 'kernel': 'rbf', 'rando...      0.840448\n",
       "12  {'C': 0.1, 'gamma': 10, 'kernel': 'rbf', 'rand...      0.839254\n",
       "40  {'C': 10000, 'gamma': 10, 'kernel': 'rbf', 'ra...      0.838544\n",
       "16  {'C': 10, 'gamma': 0.01, 'kernel': 'rbf', 'ran...      0.837953\n",
       "20  {'C': 10, 'gamma': 100, 'kernel': 'rbf', 'rand...      0.827346\n",
       "0   {'C': 0.01, 'gamma': 'scale', 'kernel': 'rbf',...      0.823486\n",
       "27  {'C': 100, 'gamma': 100, 'kernel': 'rbf', 'ran...      0.823366\n",
       "4   {'C': 0.01, 'gamma': 1, 'kernel': 'rbf', 'rand...      0.822036\n",
       "10  {'C': 0.1, 'gamma': 0.1, 'kernel': 'rbf', 'ran...      0.821424\n",
       "34  {'C': 1000, 'gamma': 100, 'kernel': 'rbf', 'ra...      0.815917\n",
       "8   {'C': 0.1, 'gamma': 'auto', 'kernel': 'rbf', '...      0.812917\n",
       "41  {'C': 10000, 'gamma': 100, 'kernel': 'rbf', 'r...      0.808245\n",
       "13  {'C': 0.1, 'gamma': 100, 'kernel': 'rbf', 'ran...      0.803743\n",
       "5   {'C': 0.01, 'gamma': 10, 'kernel': 'rbf', 'ran...      0.798906\n",
       "3   {'C': 0.01, 'gamma': 0.1, 'kernel': 'rbf', 'ra...      0.749636\n",
       "9   {'C': 0.1, 'gamma': 0.01, 'kernel': 'rbf', 'ra...      0.747861\n",
       "6   {'C': 0.01, 'gamma': 100, 'kernel': 'rbf', 'ra...      0.746442\n",
       "1   {'C': 0.01, 'gamma': 'auto', 'kernel': 'rbf', ...      0.744730\n",
       "2   {'C': 0.01, 'gamma': 0.01, 'kernel': 'rbf', 'r...      0.694092"
      ]
     },
     "execution_count": 31,
     "metadata": {},
     "output_type": "execute_result"
    }
   ],
   "source": [
    "results_df.sort_values(by='mean_test_f1', ascending=False)[['params','mean_test_f1']]"
   ]
  },
  {
   "cell_type": "code",
   "execution_count": null,
   "metadata": {
    "collapsed": false,
    "pycharm": {
     "is_executing": true
    }
   },
   "outputs": [
    {
     "name": "stdout",
     "output_type": "stream",
     "text": [
      "Fitting 4 folds for each of 294 candidates, totalling 1176 fits\n"
     ]
    }
   ],
   "source": [
    "best_classifier, results_df = grid_search(SVC, parameters_poly, 'poly_svm', tr, ts, tr_target, ts_target, n_jobs=6)"
   ]
  },
  {
   "cell_type": "markdown",
   "metadata": {
    "collapsed": false
   },
   "source": [
    "# NN"
   ]
  },
  {
   "cell_type": "code",
   "execution_count": 15,
   "metadata": {
    "collapsed": false
   },
   "outputs": [
    {
     "ename": "ModuleNotFoundError",
     "evalue": "No module named 'tensorflow'",
     "output_type": "error",
     "traceback": [
      "\u001B[1;31m---------------------------------------------------------------------------\u001B[0m",
      "\u001B[1;31mModuleNotFoundError\u001B[0m                       Traceback (most recent call last)",
      "Input \u001B[1;32mIn [15]\u001B[0m, in \u001B[0;36m<cell line: 1>\u001B[1;34m()\u001B[0m\n\u001B[1;32m----> 1\u001B[0m \u001B[38;5;28;01mfrom\u001B[39;00m \u001B[38;5;21;01mkeras\u001B[39;00m\u001B[38;5;21;01m.\u001B[39;00m\u001B[38;5;21;01mmodels\u001B[39;00m \u001B[38;5;28;01mimport\u001B[39;00m Sequential, Model\n\u001B[0;32m      2\u001B[0m input_layer \u001B[38;5;241m=\u001B[39m InputLayer(tr[\u001B[38;5;241m0\u001B[39m]\u001B[38;5;241m.\u001B[39mshape, batch_size\u001B[38;5;241m=\u001B[39m\u001B[38;5;241m64\u001B[39m)\n\u001B[0;32m      3\u001B[0m dense_layer \u001B[38;5;241m=\u001B[39m Dense(units\u001B[38;5;241m=\u001B[39m\u001B[38;5;241m4\u001B[39m, activation\u001B[38;5;241m=\u001B[39m\u001B[38;5;124m'\u001B[39m\u001B[38;5;124msigmoid\u001B[39m\u001B[38;5;124m'\u001B[39m)(input_layer)\n",
      "File \u001B[1;32m~\\anaconda3\\lib\\site-packages\\keras\\__init__.py:21\u001B[0m, in \u001B[0;36m<module>\u001B[1;34m\u001B[0m\n\u001B[0;32m     15\u001B[0m \u001B[38;5;124;03m\"\"\"Implementation of the Keras API, the high-level API of TensorFlow.\u001B[39;00m\n\u001B[0;32m     16\u001B[0m \n\u001B[0;32m     17\u001B[0m \u001B[38;5;124;03mDetailed documentation and user guides are available at\u001B[39;00m\n\u001B[0;32m     18\u001B[0m \u001B[38;5;124;03m[keras.io](https://keras.io).\u001B[39;00m\n\u001B[0;32m     19\u001B[0m \u001B[38;5;124;03m\"\"\"\u001B[39;00m\n\u001B[0;32m     20\u001B[0m \u001B[38;5;66;03m# pylint: disable=unused-import\u001B[39;00m\n\u001B[1;32m---> 21\u001B[0m \u001B[38;5;28;01mfrom\u001B[39;00m \u001B[38;5;21;01mtensorflow\u001B[39;00m\u001B[38;5;21;01m.\u001B[39;00m\u001B[38;5;21;01mpython\u001B[39;00m \u001B[38;5;28;01mimport\u001B[39;00m tf2\n\u001B[0;32m     22\u001B[0m \u001B[38;5;28;01mfrom\u001B[39;00m \u001B[38;5;21;01mkeras\u001B[39;00m \u001B[38;5;28;01mimport\u001B[39;00m distribute\n\u001B[0;32m     24\u001B[0m \u001B[38;5;28;01mfrom\u001B[39;00m \u001B[38;5;21;01mkeras\u001B[39;00m \u001B[38;5;28;01mimport\u001B[39;00m models\n",
      "\u001B[1;31mModuleNotFoundError\u001B[0m: No module named 'tensorflow'"
     ]
    }
   ],
   "source": [
    "from keras.models import Model\n",
    "input_layer = InputLayer(tr[0].shape, batch_size=64)\n",
    "dense_layer = Dense(units=4, activation='sigmoid')(input_layer)\n",
    "dense_layer = Dense(units=4, activation='sigmoid')(dense_layer)\n",
    "out_layer = Softmax()(dense_layer)\n",
    "\n",
    "model = Model(inputs=input_layer, outputs=out_layer)\n",
    "\n",
    "model.compile(loss='binary_crossentropy', metrics=['precision','recall','accuracy','f1'])\n",
    "model.fit(tr, tr_target, validation_split=0.2, epochs=3, workers=6)"
   ]
  },
  {
   "cell_type": "code",
   "execution_count": null,
   "metadata": {
    "collapsed": false
   },
   "outputs": [],
   "source": []
  },
  {
   "cell_type": "markdown",
   "metadata": {
    "collapsed": false
   },
   "source": [
    "# Feature selection"
   ]
  },
  {
   "cell_type": "code",
   "execution_count": 1,
   "metadata": {
    "collapsed": false
   },
   "outputs": [],
   "source": []
  },
  {
   "cell_type": "code",
   "execution_count": null,
   "metadata": {
    "collapsed": false
   },
   "outputs": [],
   "source": []
  }
 ],
 "metadata": {
  "colab": {
   "provenance": []
  },
  "kernelspec": {
   "display_name": "Python 3",
   "language": "python",
   "name": "python3"
  },
  "language_info": {
   "codemirror_mode": {
    "name": "ipython",
    "version": 3
   },
   "file_extension": ".py",
   "mimetype": "text/x-python",
   "name": "python",
   "nbconvert_exporter": "python",
   "pygments_lexer": "ipython3",
   "version": "3.10.4 (tags/v3.10.4:9d38120, Mar 23 2022, 23:13:41) [MSC v.1929 64 bit (AMD64)]"
  },
  "vscode": {
   "interpreter": {
    "hash": "36fabd57e396b83aef36b02305bae0bcb053b13a3fa699e04cd3b884d5079903"
   }
  }
 },
 "nbformat": 4,
 "nbformat_minor": 0
}
