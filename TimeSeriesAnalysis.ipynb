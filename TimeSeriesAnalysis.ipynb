{
 "cells": [
  {
   "cell_type": "code",
   "execution_count": null,
   "metadata": {},
   "outputs": [],
   "source": [
    "!python -m pip install tslearn"
   ]
  },
  {
   "cell_type": "code",
   "execution_count": null,
   "metadata": {},
   "outputs": [],
   "source": [
    "%pip install h5py"
   ]
  },
  {
   "cell_type": "code",
   "execution_count": 323,
   "metadata": {},
   "outputs": [],
   "source": [
    "from utilities import get_path\n",
    "import pandas as pd\n",
    "import numpy as np\n",
    "import matplotlib.pyplot as plt\n",
    "import datetime\n",
    "from datetime import timedelta, datetime, date\n",
    "from tslearn.clustering import TimeSeriesKMeans\n",
    "from tslearn.generators import random_walks"
   ]
  },
  {
   "cell_type": "code",
   "execution_count": 284,
   "metadata": {},
   "outputs": [],
   "source": [
    "DATA_PATH = get_path()"
   ]
  },
  {
   "cell_type": "code",
   "execution_count": 285,
   "metadata": {},
   "outputs": [],
   "source": [
    "df_tweets = pd.read_csv(DATA_PATH+'tweets_clean.csv', sep='#')\n",
    "df_users = pd.read_csv(DATA_PATH+'users_clean.csv', sep='#')"
   ]
  },
  {
   "cell_type": "code",
   "execution_count": 286,
   "metadata": {},
   "outputs": [
    {
     "name": "stdout",
     "output_type": "stream",
     "text": [
      "<class 'pandas.core.frame.DataFrame'>\n",
      "RangeIndex: 10187873 entries, 0 to 10187872\n",
      "Data columns (total 10 columns):\n",
      " #   Column                    Dtype \n",
      "---  ------                    ----- \n",
      " 0   user_id                   object\n",
      " 1   publication_date          object\n",
      " 2   text                      object\n",
      " 3   publication_date_in_secs  int64 \n",
      " 4   retweet_count             int64 \n",
      " 5   reply_count               int64 \n",
      " 6   favorite_count            int64 \n",
      " 7   num_hashtags              int64 \n",
      " 8   num_urls                  int64 \n",
      " 9   num_mentions              int64 \n",
      "dtypes: int64(7), object(3)\n",
      "memory usage: 777.3+ MB\n"
     ]
    }
   ],
   "source": [
    "df_tweets.info()"
   ]
  },
  {
   "cell_type": "code",
   "execution_count": 287,
   "metadata": {},
   "outputs": [],
   "source": [
    "start_2019 = pd.to_datetime([\"20190101\"]).astype(np.int64)[0]\n",
    "end_2019 = pd.to_datetime([\"20191231\"]).astype(np.int64)[0]\n",
    "df_tweets2019 = df_tweets[(df_tweets['publication_date_in_secs'] >= start_2019) & (df_tweets['publication_date_in_secs'] <= end_2019)]"
   ]
  },
  {
   "cell_type": "code",
   "execution_count": 288,
   "metadata": {},
   "outputs": [],
   "source": [
    "df_users.id = df_users.id.astype(str)\n",
    "df_merged = df_tweets2019.merge(df_users, left_on='user_id', right_on='id', how='right')"
   ]
  },
  {
   "cell_type": "code",
   "execution_count": 289,
   "metadata": {},
   "outputs": [
    {
     "data": {
      "text/plain": [
       "(4514310,)"
      ]
     },
     "execution_count": 289,
     "metadata": {},
     "output_type": "execute_result"
    }
   ],
   "source": [
    "df_merged['publication_date_in_secs'].shape"
   ]
  },
  {
   "cell_type": "code",
   "execution_count": 290,
   "metadata": {},
   "outputs": [
    {
     "name": "stdout",
     "output_type": "stream",
     "text": [
      "<class 'pandas.core.frame.DataFrame'>\n",
      "Int64Index: 4514310 entries, 0 to 4514309\n",
      "Data columns (total 17 columns):\n",
      " #   Column                     Non-Null Count    Dtype  \n",
      "---  ------                     --------------    -----  \n",
      " 0   user_id                    4509589 non-null  object \n",
      " 1   publication_date           4509589 non-null  object \n",
      " 2   text                       4411353 non-null  object \n",
      " 3   publication_date_in_secs   4509589 non-null  float64\n",
      " 4   retweet_count              4509589 non-null  float64\n",
      " 5   reply_count                4509589 non-null  float64\n",
      " 6   favorite_count             4509589 non-null  float64\n",
      " 7   num_hashtags               4509589 non-null  float64\n",
      " 8   num_urls                   4509589 non-null  float64\n",
      " 9   num_mentions               4509589 non-null  float64\n",
      " 10  id                         4514310 non-null  object \n",
      " 11  name                       4514309 non-null  object \n",
      " 12  lang                       4514310 non-null  object \n",
      " 13  bot                        4514310 non-null  int64  \n",
      " 14  user_subscription          4514310 non-null  object \n",
      " 15  statuses_count             4514310 non-null  float64\n",
      " 16  user_subscription_in_secs  4514310 non-null  int64  \n",
      "dtypes: float64(8), int64(2), object(7)\n",
      "memory usage: 619.9+ MB\n"
     ]
    }
   ],
   "source": [
    "df_merged.info(show_counts=True)"
   ]
  },
  {
   "cell_type": "code",
   "execution_count": 291,
   "metadata": {},
   "outputs": [],
   "source": [
    "df_merged.user_id.fillna(-1, inplace=True)\n",
    "users_list = df_merged.user_id.unique()\n",
    "users_list = users_list.tolist()\n",
    "users_list.remove(-1)"
   ]
  },
  {
   "cell_type": "code",
   "execution_count": 292,
   "metadata": {},
   "outputs": [],
   "source": [
    "#users_list = df_grouped.user_id.unique().apply(int)\n",
    "#users_list = users_list.explode().unique()"
   ]
  },
  {
   "cell_type": "code",
   "execution_count": 293,
   "metadata": {},
   "outputs": [
    {
     "data": {
      "text/plain": [
       "6787"
      ]
     },
     "execution_count": 293,
     "metadata": {},
     "output_type": "execute_result"
    }
   ],
   "source": [
    "len(users_list)"
   ]
  },
  {
   "cell_type": "code",
   "execution_count": 294,
   "metadata": {},
   "outputs": [],
   "source": [
    "#For each user save the timeseries of pubblications\n",
    "ts_pubblications = {}\n",
    "df_grouped = df_merged.groupby(by=['user_id'])\n",
    "for user in users_list:\n",
    "    ts_pubblications[user] = df_grouped.get_group(str(user)).publication_date_in_secs.tolist()"
   ]
  },
  {
   "cell_type": "code",
   "execution_count": 295,
   "metadata": {},
   "outputs": [],
   "source": [
    "# Cast publication date into date format\n",
    "df_merged['publication_date'] = pd.to_datetime(df_merged.publication_date)\n",
    "df_merged['publication_date'] = df_merged['publication_date'].dt.date"
   ]
  },
  {
   "cell_type": "code",
   "execution_count": 296,
   "metadata": {},
   "outputs": [],
   "source": [
    "df_merged.user_id.fillna(-1, inplace=True)"
   ]
  },
  {
   "cell_type": "code",
   "execution_count": 297,
   "metadata": {},
   "outputs": [
    {
     "data": {
      "text/html": [
       "<div>\n",
       "<style scoped>\n",
       "    .dataframe tbody tr th:only-of-type {\n",
       "        vertical-align: middle;\n",
       "    }\n",
       "\n",
       "    .dataframe tbody tr th {\n",
       "        vertical-align: top;\n",
       "    }\n",
       "\n",
       "    .dataframe thead th {\n",
       "        text-align: right;\n",
       "    }\n",
       "</style>\n",
       "<table border=\"1\" class=\"dataframe\">\n",
       "  <thead>\n",
       "    <tr style=\"text-align: right;\">\n",
       "      <th></th>\n",
       "      <th>user_id</th>\n",
       "      <th>publication_date</th>\n",
       "      <th>text</th>\n",
       "      <th>publication_date_in_secs</th>\n",
       "      <th>retweet_count</th>\n",
       "      <th>reply_count</th>\n",
       "      <th>favorite_count</th>\n",
       "      <th>num_hashtags</th>\n",
       "      <th>num_urls</th>\n",
       "      <th>num_mentions</th>\n",
       "      <th>id</th>\n",
       "      <th>name</th>\n",
       "      <th>lang</th>\n",
       "      <th>bot</th>\n",
       "      <th>user_subscription</th>\n",
       "      <th>statuses_count</th>\n",
       "      <th>user_subscription_in_secs</th>\n",
       "    </tr>\n",
       "  </thead>\n",
       "  <tbody>\n",
       "    <tr>\n",
       "      <th>0</th>\n",
       "      <td>2353593986</td>\n",
       "      <td>2019-07-11</td>\n",
       "      <td>@4fri2endly0 \"A business that makes nothing bu...</td>\n",
       "      <td>1.562817e+18</td>\n",
       "      <td>0.0</td>\n",
       "      <td>0.0</td>\n",
       "      <td>0.0</td>\n",
       "      <td>0.0</td>\n",
       "      <td>0.0</td>\n",
       "      <td>1.0</td>\n",
       "      <td>2353593986</td>\n",
       "      <td>Lamonica Raborn</td>\n",
       "      <td>en</td>\n",
       "      <td>1</td>\n",
       "      <td>2019-02-22 18:00:42</td>\n",
       "      <td>76.0</td>\n",
       "      <td>1550858442000000000</td>\n",
       "    </tr>\n",
       "    <tr>\n",
       "      <th>1</th>\n",
       "      <td>2353593986</td>\n",
       "      <td>2019-06-21</td>\n",
       "      <td>\"Happiness is not a station you arrive at, but...</td>\n",
       "      <td>1.561104e+18</td>\n",
       "      <td>0.0</td>\n",
       "      <td>0.0</td>\n",
       "      <td>0.0</td>\n",
       "      <td>0.0</td>\n",
       "      <td>0.0</td>\n",
       "      <td>0.0</td>\n",
       "      <td>2353593986</td>\n",
       "      <td>Lamonica Raborn</td>\n",
       "      <td>en</td>\n",
       "      <td>1</td>\n",
       "      <td>2019-02-22 18:00:42</td>\n",
       "      <td>76.0</td>\n",
       "      <td>1550858442000000000</td>\n",
       "    </tr>\n",
       "    <tr>\n",
       "      <th>2</th>\n",
       "      <td>2353593986</td>\n",
       "      <td>2019-04-05</td>\n",
       "      <td>Music flow.</td>\n",
       "      <td>1.554468e+18</td>\n",
       "      <td>0.0</td>\n",
       "      <td>0.0</td>\n",
       "      <td>0.0</td>\n",
       "      <td>0.0</td>\n",
       "      <td>0.0</td>\n",
       "      <td>0.0</td>\n",
       "      <td>2353593986</td>\n",
       "      <td>Lamonica Raborn</td>\n",
       "      <td>en</td>\n",
       "      <td>1</td>\n",
       "      <td>2019-02-22 18:00:42</td>\n",
       "      <td>76.0</td>\n",
       "      <td>1550858442000000000</td>\n",
       "    </tr>\n",
       "    <tr>\n",
       "      <th>3</th>\n",
       "      <td>2353593986</td>\n",
       "      <td>2019-07-25</td>\n",
       "      <td>@_SimplyKC follow meeee...</td>\n",
       "      <td>1.564057e+18</td>\n",
       "      <td>0.0</td>\n",
       "      <td>0.0</td>\n",
       "      <td>0.0</td>\n",
       "      <td>0.0</td>\n",
       "      <td>0.0</td>\n",
       "      <td>1.0</td>\n",
       "      <td>2353593986</td>\n",
       "      <td>Lamonica Raborn</td>\n",
       "      <td>en</td>\n",
       "      <td>1</td>\n",
       "      <td>2019-02-22 18:00:42</td>\n",
       "      <td>76.0</td>\n",
       "      <td>1550858442000000000</td>\n",
       "    </tr>\n",
       "    <tr>\n",
       "      <th>4</th>\n",
       "      <td>2353593986</td>\n",
       "      <td>2019-04-29</td>\n",
       "      <td>\"You are the only person on earth who can use ...</td>\n",
       "      <td>1.556571e+18</td>\n",
       "      <td>0.0</td>\n",
       "      <td>0.0</td>\n",
       "      <td>0.0</td>\n",
       "      <td>0.0</td>\n",
       "      <td>0.0</td>\n",
       "      <td>0.0</td>\n",
       "      <td>2353593986</td>\n",
       "      <td>Lamonica Raborn</td>\n",
       "      <td>en</td>\n",
       "      <td>1</td>\n",
       "      <td>2019-02-22 18:00:42</td>\n",
       "      <td>76.0</td>\n",
       "      <td>1550858442000000000</td>\n",
       "    </tr>\n",
       "    <tr>\n",
       "      <th>...</th>\n",
       "      <td>...</td>\n",
       "      <td>...</td>\n",
       "      <td>...</td>\n",
       "      <td>...</td>\n",
       "      <td>...</td>\n",
       "      <td>...</td>\n",
       "      <td>...</td>\n",
       "      <td>...</td>\n",
       "      <td>...</td>\n",
       "      <td>...</td>\n",
       "      <td>...</td>\n",
       "      <td>...</td>\n",
       "      <td>...</td>\n",
       "      <td>...</td>\n",
       "      <td>...</td>\n",
       "      <td>...</td>\n",
       "      <td>...</td>\n",
       "    </tr>\n",
       "    <tr>\n",
       "      <th>4514305</th>\n",
       "      <td>2383025796</td>\n",
       "      <td>2019-04-28</td>\n",
       "      <td>make up money could be going to so many other ...</td>\n",
       "      <td>1.556465e+18</td>\n",
       "      <td>0.0</td>\n",
       "      <td>0.0</td>\n",
       "      <td>0.0</td>\n",
       "      <td>0.0</td>\n",
       "      <td>0.0</td>\n",
       "      <td>0.0</td>\n",
       "      <td>2383025796</td>\n",
       "      <td>Minnie Guadagno</td>\n",
       "      <td>en</td>\n",
       "      <td>1</td>\n",
       "      <td>2019-03-13 02:44:13</td>\n",
       "      <td>42.0</td>\n",
       "      <td>1552445053000000000</td>\n",
       "    </tr>\n",
       "    <tr>\n",
       "      <th>4514306</th>\n",
       "      <td>2383025796</td>\n",
       "      <td>2019-05-02</td>\n",
       "      <td>@dilligaf_life !</td>\n",
       "      <td>1.556808e+18</td>\n",
       "      <td>0.0</td>\n",
       "      <td>0.0</td>\n",
       "      <td>1.0</td>\n",
       "      <td>0.0</td>\n",
       "      <td>0.0</td>\n",
       "      <td>1.0</td>\n",
       "      <td>2383025796</td>\n",
       "      <td>Minnie Guadagno</td>\n",
       "      <td>en</td>\n",
       "      <td>1</td>\n",
       "      <td>2019-03-13 02:44:13</td>\n",
       "      <td>42.0</td>\n",
       "      <td>1552445053000000000</td>\n",
       "    </tr>\n",
       "    <tr>\n",
       "      <th>4514307</th>\n",
       "      <td>2383025796</td>\n",
       "      <td>2019-04-27</td>\n",
       "      <td>I Thank God Everyday. I Know Where I Could've ...</td>\n",
       "      <td>1.556358e+18</td>\n",
       "      <td>0.0</td>\n",
       "      <td>0.0</td>\n",
       "      <td>0.0</td>\n",
       "      <td>0.0</td>\n",
       "      <td>0.0</td>\n",
       "      <td>0.0</td>\n",
       "      <td>2383025796</td>\n",
       "      <td>Minnie Guadagno</td>\n",
       "      <td>en</td>\n",
       "      <td>1</td>\n",
       "      <td>2019-03-13 02:44:13</td>\n",
       "      <td>42.0</td>\n",
       "      <td>1552445053000000000</td>\n",
       "    </tr>\n",
       "    <tr>\n",
       "      <th>4514308</th>\n",
       "      <td>2383025796</td>\n",
       "      <td>2019-04-29</td>\n",
       "      <td>@itsJAYJAYbruh nice...</td>\n",
       "      <td>1.556534e+18</td>\n",
       "      <td>0.0</td>\n",
       "      <td>0.0</td>\n",
       "      <td>1.0</td>\n",
       "      <td>0.0</td>\n",
       "      <td>0.0</td>\n",
       "      <td>1.0</td>\n",
       "      <td>2383025796</td>\n",
       "      <td>Minnie Guadagno</td>\n",
       "      <td>en</td>\n",
       "      <td>1</td>\n",
       "      <td>2019-03-13 02:44:13</td>\n",
       "      <td>42.0</td>\n",
       "      <td>1552445053000000000</td>\n",
       "    </tr>\n",
       "    <tr>\n",
       "      <th>4514309</th>\n",
       "      <td>-1</td>\n",
       "      <td>NaT</td>\n",
       "      <td>NaN</td>\n",
       "      <td>NaN</td>\n",
       "      <td>NaN</td>\n",
       "      <td>NaN</td>\n",
       "      <td>NaN</td>\n",
       "      <td>NaN</td>\n",
       "      <td>NaN</td>\n",
       "      <td>NaN</td>\n",
       "      <td>933183398</td>\n",
       "      <td>Corvanna</td>\n",
       "      <td>en</td>\n",
       "      <td>0</td>\n",
       "      <td>2017-11-09 23:24:16</td>\n",
       "      <td>5279.0</td>\n",
       "      <td>1510269856000000000</td>\n",
       "    </tr>\n",
       "  </tbody>\n",
       "</table>\n",
       "<p>4514310 rows × 17 columns</p>\n",
       "</div>"
      ],
      "text/plain": [
       "            user_id publication_date  \\\n",
       "0        2353593986       2019-07-11   \n",
       "1        2353593986       2019-06-21   \n",
       "2        2353593986       2019-04-05   \n",
       "3        2353593986       2019-07-25   \n",
       "4        2353593986       2019-04-29   \n",
       "...             ...              ...   \n",
       "4514305  2383025796       2019-04-28   \n",
       "4514306  2383025796       2019-05-02   \n",
       "4514307  2383025796       2019-04-27   \n",
       "4514308  2383025796       2019-04-29   \n",
       "4514309          -1              NaT   \n",
       "\n",
       "                                                      text  \\\n",
       "0        @4fri2endly0 \"A business that makes nothing bu...   \n",
       "1        \"Happiness is not a station you arrive at, but...   \n",
       "2                                              Music flow.   \n",
       "3                               @_SimplyKC follow meeee...   \n",
       "4        \"You are the only person on earth who can use ...   \n",
       "...                                                    ...   \n",
       "4514305  make up money could be going to so many other ...   \n",
       "4514306                                   @dilligaf_life !   \n",
       "4514307  I Thank God Everyday. I Know Where I Could've ...   \n",
       "4514308                             @itsJAYJAYbruh nice...   \n",
       "4514309                                                NaN   \n",
       "\n",
       "         publication_date_in_secs  retweet_count  reply_count  favorite_count  \\\n",
       "0                    1.562817e+18            0.0          0.0             0.0   \n",
       "1                    1.561104e+18            0.0          0.0             0.0   \n",
       "2                    1.554468e+18            0.0          0.0             0.0   \n",
       "3                    1.564057e+18            0.0          0.0             0.0   \n",
       "4                    1.556571e+18            0.0          0.0             0.0   \n",
       "...                           ...            ...          ...             ...   \n",
       "4514305              1.556465e+18            0.0          0.0             0.0   \n",
       "4514306              1.556808e+18            0.0          0.0             1.0   \n",
       "4514307              1.556358e+18            0.0          0.0             0.0   \n",
       "4514308              1.556534e+18            0.0          0.0             1.0   \n",
       "4514309                       NaN            NaN          NaN             NaN   \n",
       "\n",
       "         num_hashtags  num_urls  num_mentions          id             name  \\\n",
       "0                 0.0       0.0           1.0  2353593986  Lamonica Raborn   \n",
       "1                 0.0       0.0           0.0  2353593986  Lamonica Raborn   \n",
       "2                 0.0       0.0           0.0  2353593986  Lamonica Raborn   \n",
       "3                 0.0       0.0           1.0  2353593986  Lamonica Raborn   \n",
       "4                 0.0       0.0           0.0  2353593986  Lamonica Raborn   \n",
       "...               ...       ...           ...         ...              ...   \n",
       "4514305           0.0       0.0           0.0  2383025796  Minnie Guadagno   \n",
       "4514306           0.0       0.0           1.0  2383025796  Minnie Guadagno   \n",
       "4514307           0.0       0.0           0.0  2383025796  Minnie Guadagno   \n",
       "4514308           0.0       0.0           1.0  2383025796  Minnie Guadagno   \n",
       "4514309           NaN       NaN           NaN   933183398        Corvanna    \n",
       "\n",
       "        lang  bot    user_subscription  statuses_count  \\\n",
       "0         en    1  2019-02-22 18:00:42            76.0   \n",
       "1         en    1  2019-02-22 18:00:42            76.0   \n",
       "2         en    1  2019-02-22 18:00:42            76.0   \n",
       "3         en    1  2019-02-22 18:00:42            76.0   \n",
       "4         en    1  2019-02-22 18:00:42            76.0   \n",
       "...      ...  ...                  ...             ...   \n",
       "4514305   en    1  2019-03-13 02:44:13            42.0   \n",
       "4514306   en    1  2019-03-13 02:44:13            42.0   \n",
       "4514307   en    1  2019-03-13 02:44:13            42.0   \n",
       "4514308   en    1  2019-03-13 02:44:13            42.0   \n",
       "4514309   en    0  2017-11-09 23:24:16          5279.0   \n",
       "\n",
       "         user_subscription_in_secs  \n",
       "0              1550858442000000000  \n",
       "1              1550858442000000000  \n",
       "2              1550858442000000000  \n",
       "3              1550858442000000000  \n",
       "4              1550858442000000000  \n",
       "...                            ...  \n",
       "4514305        1552445053000000000  \n",
       "4514306        1552445053000000000  \n",
       "4514307        1552445053000000000  \n",
       "4514308        1552445053000000000  \n",
       "4514309        1510269856000000000  \n",
       "\n",
       "[4514310 rows x 17 columns]"
      ]
     },
     "execution_count": 297,
     "metadata": {},
     "output_type": "execute_result"
    }
   ],
   "source": [
    "df_merged"
   ]
  },
  {
   "cell_type": "code",
   "execution_count": 369,
   "metadata": {},
   "outputs": [],
   "source": [
    "def extract_daily_scores(df):\n",
    "\n",
    "    day = date(2019,1,1)\n",
    "    end = date(2019,12,31)\n",
    "\n",
    "    success_scores = []\n",
    "\n",
    "    df = df.groupby(by=['publication_date'])\n",
    "    \n",
    "    while day <= end:\n",
    "        try:\n",
    "            group = df.get_group(day)\n",
    "            acceptance_score = group['retweet_count'].sum() + group['reply_count'].sum() + group['favorite_count'].sum()\n",
    "            diffusion_score = group['num_hashtags'].sum() + group['num_mentions'].sum() + group['num_urls'].sum()\n",
    "            success_scores.append(acceptance_score / (diffusion_score + 0.1))\n",
    "        except KeyError:\n",
    "            success_scores.append(-1)\n",
    "\n",
    "        day = day + timedelta(days=1)\n",
    "\n",
    "    return success_scores\n",
    "        "
   ]
  },
  {
   "cell_type": "code",
   "execution_count": 370,
   "metadata": {},
   "outputs": [],
   "source": [
    "def extract_users_scores(df):\n",
    "\n",
    "    df_grouped_pub_day = df.groupby(by=['user_id'])\n",
    "    users_scores = {}\n",
    "    \n",
    "    # Extract for each user a timeseries of daily scores about tweets of 2019\n",
    "    for user in users_list:\n",
    "        user_group = df_grouped_pub_day.get_group(str(user))\n",
    "        users_scores[user] = extract_daily_scores(user_group)\n",
    "    \n",
    "    return users_scores\n"
   ]
  },
  {
   "cell_type": "code",
   "execution_count": 371,
   "metadata": {},
   "outputs": [],
   "source": [
    "res = extract_users_scores(df_merged)"
   ]
  },
  {
   "cell_type": "code",
   "execution_count": 372,
   "metadata": {},
   "outputs": [],
   "source": [
    "df_timeseries = pd.DataFrame(res.items())"
   ]
  },
  {
   "cell_type": "code",
   "execution_count": 373,
   "metadata": {},
   "outputs": [
    {
     "data": {
      "text/html": [
       "<div>\n",
       "<style scoped>\n",
       "    .dataframe tbody tr th:only-of-type {\n",
       "        vertical-align: middle;\n",
       "    }\n",
       "\n",
       "    .dataframe tbody tr th {\n",
       "        vertical-align: top;\n",
       "    }\n",
       "\n",
       "    .dataframe thead th {\n",
       "        text-align: right;\n",
       "    }\n",
       "</style>\n",
       "<table border=\"1\" class=\"dataframe\">\n",
       "  <thead>\n",
       "    <tr style=\"text-align: right;\">\n",
       "      <th></th>\n",
       "      <th>0</th>\n",
       "      <th>1</th>\n",
       "    </tr>\n",
       "  </thead>\n",
       "  <tbody>\n",
       "    <tr>\n",
       "      <th>0</th>\n",
       "      <td>2353593986</td>\n",
       "      <td>[-1, -1, -1, -1, -1, -1, -1, -1, -1, -1, -1, -...</td>\n",
       "    </tr>\n",
       "    <tr>\n",
       "      <th>1</th>\n",
       "      <td>2358850842</td>\n",
       "      <td>[-1, -1, -1, -1, -1, -1, -1, -1, -1, -1, -1, -...</td>\n",
       "    </tr>\n",
       "    <tr>\n",
       "      <th>2</th>\n",
       "      <td>466124818</td>\n",
       "      <td>[-1, -1, -1, -1, -1, -1, -1, -1, -1, -1, -1, -...</td>\n",
       "    </tr>\n",
       "    <tr>\n",
       "      <th>3</th>\n",
       "      <td>2199062688</td>\n",
       "      <td>[-1, -1, -1, -1, -1, -1, -1, -1, -1, -1, -1, -...</td>\n",
       "    </tr>\n",
       "    <tr>\n",
       "      <th>4</th>\n",
       "      <td>2357425536</td>\n",
       "      <td>[-1, -1, -1, -1, -1, -1, -1, -1, -1, -1, -1, -...</td>\n",
       "    </tr>\n",
       "  </tbody>\n",
       "</table>\n",
       "</div>"
      ],
      "text/plain": [
       "            0                                                  1\n",
       "0  2353593986  [-1, -1, -1, -1, -1, -1, -1, -1, -1, -1, -1, -...\n",
       "1  2358850842  [-1, -1, -1, -1, -1, -1, -1, -1, -1, -1, -1, -...\n",
       "2   466124818  [-1, -1, -1, -1, -1, -1, -1, -1, -1, -1, -1, -...\n",
       "3  2199062688  [-1, -1, -1, -1, -1, -1, -1, -1, -1, -1, -1, -...\n",
       "4  2357425536  [-1, -1, -1, -1, -1, -1, -1, -1, -1, -1, -1, -..."
      ]
     },
     "execution_count": 373,
     "metadata": {},
     "output_type": "execute_result"
    }
   ],
   "source": [
    "df_timeseries.head()"
   ]
  },
  {
   "cell_type": "code",
   "execution_count": 374,
   "metadata": {},
   "outputs": [],
   "source": [
    "df_timeseries['publications'] = df_timeseries[0].map(ts_pubblications)"
   ]
  },
  {
   "cell_type": "code",
   "execution_count": 375,
   "metadata": {},
   "outputs": [
    {
     "data": {
      "text/html": [
       "<div>\n",
       "<style scoped>\n",
       "    .dataframe tbody tr th:only-of-type {\n",
       "        vertical-align: middle;\n",
       "    }\n",
       "\n",
       "    .dataframe tbody tr th {\n",
       "        vertical-align: top;\n",
       "    }\n",
       "\n",
       "    .dataframe thead th {\n",
       "        text-align: right;\n",
       "    }\n",
       "</style>\n",
       "<table border=\"1\" class=\"dataframe\">\n",
       "  <thead>\n",
       "    <tr style=\"text-align: right;\">\n",
       "      <th></th>\n",
       "      <th>0</th>\n",
       "      <th>1</th>\n",
       "      <th>publications</th>\n",
       "    </tr>\n",
       "  </thead>\n",
       "  <tbody>\n",
       "    <tr>\n",
       "      <th>0</th>\n",
       "      <td>2353593986</td>\n",
       "      <td>[-1, -1, -1, -1, -1, -1, -1, -1, -1, -1, -1, -...</td>\n",
       "      <td>[1.562816946e+18, 1.561104313e+18, 1.55446806e...</td>\n",
       "    </tr>\n",
       "    <tr>\n",
       "      <th>1</th>\n",
       "      <td>2358850842</td>\n",
       "      <td>[-1, -1, -1, -1, -1, -1, -1, -1, -1, -1, -1, -...</td>\n",
       "      <td>[1.563961546e+18, 1.556421671e+18, 1.556749642...</td>\n",
       "    </tr>\n",
       "    <tr>\n",
       "      <th>2</th>\n",
       "      <td>466124818</td>\n",
       "      <td>[-1, -1, -1, -1, -1, -1, -1, -1, -1, -1, -1, -...</td>\n",
       "      <td>[1.571747079e+18, 1.562044389e+18, 1.567421266...</td>\n",
       "    </tr>\n",
       "    <tr>\n",
       "      <th>3</th>\n",
       "      <td>2199062688</td>\n",
       "      <td>[-1, -1, -1, -1, -1, -1, -1, -1, -1, -1, -1, -...</td>\n",
       "      <td>[1.564036843e+18, 1.561534888e+18, 1.561055373...</td>\n",
       "    </tr>\n",
       "    <tr>\n",
       "      <th>4</th>\n",
       "      <td>2357425536</td>\n",
       "      <td>[-1, -1, -1, -1, -1, -1, -1, -1, -1, -1, -1, -...</td>\n",
       "      <td>[1.563345763e+18, 1.554433812e+18, 1.562575589...</td>\n",
       "    </tr>\n",
       "  </tbody>\n",
       "</table>\n",
       "</div>"
      ],
      "text/plain": [
       "            0                                                  1  \\\n",
       "0  2353593986  [-1, -1, -1, -1, -1, -1, -1, -1, -1, -1, -1, -...   \n",
       "1  2358850842  [-1, -1, -1, -1, -1, -1, -1, -1, -1, -1, -1, -...   \n",
       "2   466124818  [-1, -1, -1, -1, -1, -1, -1, -1, -1, -1, -1, -...   \n",
       "3  2199062688  [-1, -1, -1, -1, -1, -1, -1, -1, -1, -1, -1, -...   \n",
       "4  2357425536  [-1, -1, -1, -1, -1, -1, -1, -1, -1, -1, -1, -...   \n",
       "\n",
       "                                        publications  \n",
       "0  [1.562816946e+18, 1.561104313e+18, 1.55446806e...  \n",
       "1  [1.563961546e+18, 1.556421671e+18, 1.556749642...  \n",
       "2  [1.571747079e+18, 1.562044389e+18, 1.567421266...  \n",
       "3  [1.564036843e+18, 1.561534888e+18, 1.561055373...  \n",
       "4  [1.563345763e+18, 1.554433812e+18, 1.562575589...  "
      ]
     },
     "execution_count": 375,
     "metadata": {},
     "output_type": "execute_result"
    }
   ],
   "source": [
    "df_timeseries.head()"
   ]
  },
  {
   "cell_type": "code",
   "execution_count": 376,
   "metadata": {},
   "outputs": [],
   "source": [
    "df_timeseries.rename(columns={0: 'user_id', 1: 'success_scores'}, inplace=True)"
   ]
  },
  {
   "cell_type": "code",
   "execution_count": 377,
   "metadata": {},
   "outputs": [
    {
     "data": {
      "text/html": [
       "<div>\n",
       "<style scoped>\n",
       "    .dataframe tbody tr th:only-of-type {\n",
       "        vertical-align: middle;\n",
       "    }\n",
       "\n",
       "    .dataframe tbody tr th {\n",
       "        vertical-align: top;\n",
       "    }\n",
       "\n",
       "    .dataframe thead th {\n",
       "        text-align: right;\n",
       "    }\n",
       "</style>\n",
       "<table border=\"1\" class=\"dataframe\">\n",
       "  <thead>\n",
       "    <tr style=\"text-align: right;\">\n",
       "      <th></th>\n",
       "      <th>user_id</th>\n",
       "      <th>success_scores</th>\n",
       "      <th>publications</th>\n",
       "    </tr>\n",
       "  </thead>\n",
       "  <tbody>\n",
       "    <tr>\n",
       "      <th>0</th>\n",
       "      <td>2353593986</td>\n",
       "      <td>[-1, -1, -1, -1, -1, -1, -1, -1, -1, -1, -1, -...</td>\n",
       "      <td>[1.562816946e+18, 1.561104313e+18, 1.55446806e...</td>\n",
       "    </tr>\n",
       "    <tr>\n",
       "      <th>1</th>\n",
       "      <td>2358850842</td>\n",
       "      <td>[-1, -1, -1, -1, -1, -1, -1, -1, -1, -1, -1, -...</td>\n",
       "      <td>[1.563961546e+18, 1.556421671e+18, 1.556749642...</td>\n",
       "    </tr>\n",
       "    <tr>\n",
       "      <th>2</th>\n",
       "      <td>466124818</td>\n",
       "      <td>[-1, -1, -1, -1, -1, -1, -1, -1, -1, -1, -1, -...</td>\n",
       "      <td>[1.571747079e+18, 1.562044389e+18, 1.567421266...</td>\n",
       "    </tr>\n",
       "    <tr>\n",
       "      <th>3</th>\n",
       "      <td>2199062688</td>\n",
       "      <td>[-1, -1, -1, -1, -1, -1, -1, -1, -1, -1, -1, -...</td>\n",
       "      <td>[1.564036843e+18, 1.561534888e+18, 1.561055373...</td>\n",
       "    </tr>\n",
       "    <tr>\n",
       "      <th>4</th>\n",
       "      <td>2357425536</td>\n",
       "      <td>[-1, -1, -1, -1, -1, -1, -1, -1, -1, -1, -1, -...</td>\n",
       "      <td>[1.563345763e+18, 1.554433812e+18, 1.562575589...</td>\n",
       "    </tr>\n",
       "  </tbody>\n",
       "</table>\n",
       "</div>"
      ],
      "text/plain": [
       "      user_id                                     success_scores  \\\n",
       "0  2353593986  [-1, -1, -1, -1, -1, -1, -1, -1, -1, -1, -1, -...   \n",
       "1  2358850842  [-1, -1, -1, -1, -1, -1, -1, -1, -1, -1, -1, -...   \n",
       "2   466124818  [-1, -1, -1, -1, -1, -1, -1, -1, -1, -1, -1, -...   \n",
       "3  2199062688  [-1, -1, -1, -1, -1, -1, -1, -1, -1, -1, -1, -...   \n",
       "4  2357425536  [-1, -1, -1, -1, -1, -1, -1, -1, -1, -1, -1, -...   \n",
       "\n",
       "                                        publications  \n",
       "0  [1.562816946e+18, 1.561104313e+18, 1.55446806e...  \n",
       "1  [1.563961546e+18, 1.556421671e+18, 1.556749642...  \n",
       "2  [1.571747079e+18, 1.562044389e+18, 1.567421266...  \n",
       "3  [1.564036843e+18, 1.561534888e+18, 1.561055373...  \n",
       "4  [1.563345763e+18, 1.554433812e+18, 1.562575589...  "
      ]
     },
     "execution_count": 377,
     "metadata": {},
     "output_type": "execute_result"
    }
   ],
   "source": [
    "df_timeseries.head()"
   ]
  },
  {
   "cell_type": "code",
   "execution_count": 378,
   "metadata": {},
   "outputs": [],
   "source": [
    "df_timeseries.to_csv(path_or_buf=DATA_PATH+'tweets_timeseries.csv', sep='#', index=False)"
   ]
  },
  {
   "cell_type": "code",
   "execution_count": 379,
   "metadata": {},
   "outputs": [],
   "source": [
    "df_timeseries = pd.read_csv(DATA_PATH+'tweets_timeseries.csv', sep='#')"
   ]
  },
  {
   "cell_type": "code",
   "execution_count": 380,
   "metadata": {},
   "outputs": [
    {
     "data": {
      "text/plain": [
       "(60, 40, 1)"
      ]
     },
     "execution_count": 380,
     "metadata": {},
     "output_type": "execute_result"
    }
   ],
   "source": [
    "X = random_walks(n_ts=60, sz=40)\n",
    "X.shape"
   ]
  },
  {
   "cell_type": "code",
   "execution_count": 381,
   "metadata": {},
   "outputs": [],
   "source": [
    "ts_list = df_timeseries.success_scores.values"
   ]
  },
  {
   "cell_type": "code",
   "execution_count": 383,
   "metadata": {},
   "outputs": [],
   "source": [
    "timeseries_list = []\n",
    "for i, item in enumerate(ts_list):\n",
    "    timeseries_list.append(eval(item))\n",
    "    timeseries_list[i] = np.array(timeseries_list[i], dtype=object)"
   ]
  },
  {
   "cell_type": "code",
   "execution_count": 388,
   "metadata": {},
   "outputs": [
    {
     "data": {
      "text/plain": [
       "(6787, 365)"
      ]
     },
     "execution_count": 388,
     "metadata": {},
     "output_type": "execute_result"
    }
   ],
   "source": [
    "timeseries_list = np.array(timeseries_list, dtype=object)\n",
    "timeseries_matrix = np.asmatrix(timeseries_list)\n",
    "timeseries_matrix.shape"
   ]
  },
  {
   "cell_type": "code",
   "execution_count": 391,
   "metadata": {},
   "outputs": [
    {
     "data": {
      "image/png": "[encoded data removed]",
      "text/plain": [
       "<Figure size 432x288 with 1 Axes>"
      ]
     },
     "metadata": {
      "needs_background": "light"
     },
     "output_type": "display_data"
    }
   ],
   "source": [
    "plt.plot(timeseries_matrix.reshape(timeseries_matrix.shape[1], timeseries_matrix.shape[0]))\n",
    "plt.yscale('log')\n",
    "plt.show()"
   ]
  },
  {
   "cell_type": "code",
   "execution_count": 393,
   "metadata": {},
   "outputs": [
    {
     "data": {
      "text/html": [
       "<style>#sk-container-id-1 {color: black;background-color: white;}#sk-container-id-1 pre{padding: 0;}#sk-container-id-1 div.sk-toggleable {background-color: white;}#sk-container-id-1 label.sk-toggleable__label {cursor: pointer;display: block;width: 100%;margin-bottom: 0;padding: 0.3em;box-sizing: border-box;text-align: center;}#sk-container-id-1 label.sk-toggleable__label-arrow:before {content: \"▸\";float: left;margin-right: 0.25em;color: #696969;}#sk-container-id-1 label.sk-toggleable__label-arrow:hover:before {color: black;}#sk-container-id-1 div.sk-estimator:hover label.sk-toggleable__label-arrow:before {color: black;}#sk-container-id-1 div.sk-toggleable__content {max-height: 0;max-width: 0;overflow: hidden;text-align: left;background-color: #f0f8ff;}#sk-container-id-1 div.sk-toggleable__content pre {margin: 0.2em;color: black;border-radius: 0.25em;background-color: #f0f8ff;}#sk-container-id-1 input.sk-toggleable__control:checked~div.sk-toggleable__content {max-height: 200px;max-width: 100%;overflow: auto;}#sk-container-id-1 input.sk-toggleable__control:checked~label.sk-toggleable__label-arrow:before {content: \"▾\";}#sk-container-id-1 div.sk-estimator input.sk-toggleable__control:checked~label.sk-toggleable__label {background-color: #d4ebff;}#sk-container-id-1 div.sk-label input.sk-toggleable__control:checked~label.sk-toggleable__label {background-color: #d4ebff;}#sk-container-id-1 input.sk-hidden--visually {border: 0;clip: rect(1px 1px 1px 1px);clip: rect(1px, 1px, 1px, 1px);height: 1px;margin: -1px;overflow: hidden;padding: 0;position: absolute;width: 1px;}#sk-container-id-1 div.sk-estimator {font-family: monospace;background-color: #f0f8ff;border: 1px dotted black;border-radius: 0.25em;box-sizing: border-box;margin-bottom: 0.5em;}#sk-container-id-1 div.sk-estimator:hover {background-color: #d4ebff;}#sk-container-id-1 div.sk-parallel-item::after {content: \"\";width: 100%;border-bottom: 1px solid gray;flex-grow: 1;}#sk-container-id-1 div.sk-label:hover label.sk-toggleable__label {background-color: #d4ebff;}#sk-container-id-1 div.sk-serial::before {content: \"\";position: absolute;border-left: 1px solid gray;box-sizing: border-box;top: 0;bottom: 0;left: 50%;z-index: 0;}#sk-container-id-1 div.sk-serial {display: flex;flex-direction: column;align-items: center;background-color: white;padding-right: 0.2em;padding-left: 0.2em;position: relative;}#sk-container-id-1 div.sk-item {position: relative;z-index: 1;}#sk-container-id-1 div.sk-parallel {display: flex;align-items: stretch;justify-content: center;background-color: white;position: relative;}#sk-container-id-1 div.sk-item::before, #sk-container-id-1 div.sk-parallel-item::before {content: \"\";position: absolute;border-left: 1px solid gray;box-sizing: border-box;top: 0;bottom: 0;left: 50%;z-index: -1;}#sk-container-id-1 div.sk-parallel-item {display: flex;flex-direction: column;z-index: 1;position: relative;background-color: white;}#sk-container-id-1 div.sk-parallel-item:first-child::after {align-self: flex-end;width: 50%;}#sk-container-id-1 div.sk-parallel-item:last-child::after {align-self: flex-start;width: 50%;}#sk-container-id-1 div.sk-parallel-item:only-child::after {width: 0;}#sk-container-id-1 div.sk-dashed-wrapped {border: 1px dashed gray;margin: 0 0.4em 0.5em 0.4em;box-sizing: border-box;padding-bottom: 0.4em;background-color: white;}#sk-container-id-1 div.sk-label label {font-family: monospace;font-weight: bold;display: inline-block;line-height: 1.2em;}#sk-container-id-1 div.sk-label-container {text-align: center;}#sk-container-id-1 div.sk-container {/* jupyter's `normalize.less` sets `[hidden] { display: none; }` but bootstrap.min.css set `[hidden] { display: none !important; }` so we also need the `!important` here to be able to override the default hidden behavior on the sphinx rendered scikit-learn.org. See: https://github.com/scikit-learn/scikit-learn/issues/21755 */display: inline-block !important;position: relative;}#sk-container-id-1 div.sk-text-repr-fallback {display: none;}</style><div id=\"sk-container-id-1\" class=\"sk-top-container\"><div class=\"sk-text-repr-fallback\"><pre>TimeSeriesKMeans(max_iter=10, n_clusters=5, random_state=0)</pre><b>In a Jupyter environment, please rerun this cell to show the HTML representation or trust the notebook. <br />On GitHub, the HTML representation is unable to render, please try loading this page with nbviewer.org.</b></div><div class=\"sk-container\" hidden><div class=\"sk-item\"><div class=\"sk-estimator sk-toggleable\"><input class=\"sk-toggleable__control sk-hidden--visually\" id=\"sk-estimator-id-1\" type=\"checkbox\" checked><label for=\"sk-estimator-id-1\" class=\"sk-toggleable__label sk-toggleable__label-arrow\">TimeSeriesKMeans</label><div class=\"sk-toggleable__content\"><pre>TimeSeriesKMeans(max_iter=10, n_clusters=5, random_state=0)</pre></div></div></div></div></div>"
      ],
      "text/plain": [
       "TimeSeriesKMeans(max_iter=10, n_clusters=5, random_state=0)"
      ]
     },
     "execution_count": 393,
     "metadata": {},
     "output_type": "execute_result"
    }
   ],
   "source": [
    "km = TimeSeriesKMeans(n_clusters=5, metric=\"euclidean\", max_iter=10, random_state=0)\n",
    "km.fit(timeseries_list)"
   ]
  },
  {
   "cell_type": "code",
   "execution_count": 395,
   "metadata": {},
   "outputs": [
    {
     "data": {
      "image/png": "[encoded data removed]",
      "text/plain": [
       "<Figure size 432x288 with 1 Axes>"
      ]
     },
     "metadata": {
      "needs_background": "light"
     },
     "output_type": "display_data"
    }
   ],
   "source": [
    "plt.plot(km.cluster_centers_.reshape(timeseries_list.shape[1], 5))\n",
    "plt.yscale('log')\n",
    "plt.show()"
   ]
  },
  {
   "cell_type": "code",
   "execution_count": 396,
   "metadata": {},
   "outputs": [
    {
     "ename": "MemoryError",
     "evalue": "Unable to allocate 1.02 MiB for an array with shape (365, 365) and data type float64",
     "output_type": "error",
     "traceback": [
      "\u001b[1;31m---------------------------------------------------------------------------\u001b[0m",
      "\u001b[1;31mMemoryError\u001b[0m                               Traceback (most recent call last)",
      "\u001b[1;32mc:\\Users\\Alessandro\\Desktop\\DataMining\\DM_tweets\\TimeSeriesAnalysis.ipynb Cell 36\u001b[0m in \u001b[0;36m<cell line: 2>\u001b[1;34m()\u001b[0m\n\u001b[0;32m      <a href='vscode-notebook-cell:/c%3A/Users/Alessandro/Desktop/DataMining/DM_tweets/TimeSeriesAnalysis.ipynb#Y114sZmlsZQ%3D%3D?line=0'>1</a>\u001b[0m km_dtw \u001b[39m=\u001b[39m TimeSeriesKMeans(n_clusters\u001b[39m=\u001b[39m\u001b[39m5\u001b[39m, metric\u001b[39m=\u001b[39m\u001b[39m\"\u001b[39m\u001b[39mdtw\u001b[39m\u001b[39m\"\u001b[39m, max_iter\u001b[39m=\u001b[39m\u001b[39m5\u001b[39m, random_state\u001b[39m=\u001b[39m\u001b[39m0\u001b[39m)\n\u001b[1;32m----> <a href='vscode-notebook-cell:/c%3A/Users/Alessandro/Desktop/DataMining/DM_tweets/TimeSeriesAnalysis.ipynb#Y114sZmlsZQ%3D%3D?line=1'>2</a>\u001b[0m km_dtw\u001b[39m.\u001b[39;49mfit(timeseries_list)\n",
      "File \u001b[1;32mc:\\Users\\Alessandro\\AppData\\Local\\Programs\\Python\\Python39\\lib\\site-packages\\tslearn\\clustering\\kmeans.py:780\u001b[0m, in \u001b[0;36mTimeSeriesKMeans.fit\u001b[1;34m(self, X, y)\u001b[0m\n\u001b[0;32m    778\u001b[0m     \u001b[39mprint\u001b[39m(\u001b[39m\"\u001b[39m\u001b[39mInit \u001b[39m\u001b[39m%d\u001b[39;00m\u001b[39m\"\u001b[39m \u001b[39m%\u001b[39m (n_successful \u001b[39m+\u001b[39m \u001b[39m1\u001b[39m))\n\u001b[0;32m    779\u001b[0m n_attempts \u001b[39m+\u001b[39m\u001b[39m=\u001b[39m \u001b[39m1\u001b[39m\n\u001b[1;32m--> 780\u001b[0m \u001b[39mself\u001b[39;49m\u001b[39m.\u001b[39;49m_fit_one_init(X_, x_squared_norms, rs)\n\u001b[0;32m    781\u001b[0m \u001b[39mif\u001b[39;00m \u001b[39mself\u001b[39m\u001b[39m.\u001b[39minertia_ \u001b[39m<\u001b[39m min_inertia:\n\u001b[0;32m    782\u001b[0m     best_correct_centroids \u001b[39m=\u001b[39m \u001b[39mself\u001b[39m\u001b[39m.\u001b[39mcluster_centers_\u001b[39m.\u001b[39mcopy()\n",
      "File \u001b[1;32mc:\\Users\\Alessandro\\AppData\\Local\\Programs\\Python\\Python39\\lib\\site-packages\\tslearn\\clustering\\kmeans.py:665\u001b[0m, in \u001b[0;36mTimeSeriesKMeans._fit_one_init\u001b[1;34m(self, X, x_squared_norms, rs)\u001b[0m\n\u001b[0;32m    663\u001b[0m \u001b[39mif\u001b[39;00m \u001b[39mself\u001b[39m\u001b[39m.\u001b[39mverbose:\n\u001b[0;32m    664\u001b[0m     \u001b[39mprint\u001b[39m(\u001b[39m\"\u001b[39m\u001b[39m%.3f\u001b[39;00m\u001b[39m\"\u001b[39m \u001b[39m%\u001b[39m \u001b[39mself\u001b[39m\u001b[39m.\u001b[39minertia_, end\u001b[39m=\u001b[39m\u001b[39m\"\u001b[39m\u001b[39m --> \u001b[39m\u001b[39m\"\u001b[39m)\n\u001b[1;32m--> 665\u001b[0m \u001b[39mself\u001b[39;49m\u001b[39m.\u001b[39;49m_update_centroids(X)\n\u001b[0;32m    667\u001b[0m \u001b[39mif\u001b[39;00m numpy\u001b[39m.\u001b[39mabs(old_inertia \u001b[39m-\u001b[39m \u001b[39mself\u001b[39m\u001b[39m.\u001b[39minertia_) \u001b[39m<\u001b[39m \u001b[39mself\u001b[39m\u001b[39m.\u001b[39mtol:\n\u001b[0;32m    668\u001b[0m     \u001b[39mbreak\u001b[39;00m\n",
      "File \u001b[1;32mc:\\Users\\Alessandro\\AppData\\Local\\Programs\\Python\\Python39\\lib\\site-packages\\tslearn\\clustering\\kmeans.py:713\u001b[0m, in \u001b[0;36mTimeSeriesKMeans._update_centroids\u001b[1;34m(self, X)\u001b[0m\n\u001b[0;32m    711\u001b[0m \u001b[39mfor\u001b[39;00m k \u001b[39min\u001b[39;00m \u001b[39mrange\u001b[39m(\u001b[39mself\u001b[39m\u001b[39m.\u001b[39mn_clusters):\n\u001b[0;32m    712\u001b[0m     \u001b[39mif\u001b[39;00m \u001b[39mself\u001b[39m\u001b[39m.\u001b[39mmetric \u001b[39m==\u001b[39m \u001b[39m\"\u001b[39m\u001b[39mdtw\u001b[39m\u001b[39m\"\u001b[39m:\n\u001b[1;32m--> 713\u001b[0m         \u001b[39mself\u001b[39m\u001b[39m.\u001b[39mcluster_centers_[k] \u001b[39m=\u001b[39m dtw_barycenter_averaging(\n\u001b[0;32m    714\u001b[0m             X\u001b[39m=\u001b[39;49mX[\u001b[39mself\u001b[39;49m\u001b[39m.\u001b[39;49mlabels_ \u001b[39m==\u001b[39;49m k],\n\u001b[0;32m    715\u001b[0m             barycenter_size\u001b[39m=\u001b[39;49m\u001b[39mNone\u001b[39;49;00m,\n\u001b[0;32m    716\u001b[0m             init_barycenter\u001b[39m=\u001b[39;49m\u001b[39mself\u001b[39;49m\u001b[39m.\u001b[39;49mcluster_centers_[k],\n\u001b[0;32m    717\u001b[0m             metric_params\u001b[39m=\u001b[39;49mmetric_params,\n\u001b[0;32m    718\u001b[0m             verbose\u001b[39m=\u001b[39;49m\u001b[39mFalse\u001b[39;49;00m)\n\u001b[0;32m    719\u001b[0m     \u001b[39melif\u001b[39;00m \u001b[39mself\u001b[39m\u001b[39m.\u001b[39mmetric \u001b[39m==\u001b[39m \u001b[39m\"\u001b[39m\u001b[39msoftdtw\u001b[39m\u001b[39m\"\u001b[39m:\n\u001b[0;32m    720\u001b[0m         \u001b[39mself\u001b[39m\u001b[39m.\u001b[39mcluster_centers_[k] \u001b[39m=\u001b[39m softdtw_barycenter(\n\u001b[0;32m    721\u001b[0m             X\u001b[39m=\u001b[39mX[\u001b[39mself\u001b[39m\u001b[39m.\u001b[39mlabels_ \u001b[39m==\u001b[39m k],\n\u001b[0;32m    722\u001b[0m             max_iter\u001b[39m=\u001b[39m\u001b[39mself\u001b[39m\u001b[39m.\u001b[39mmax_iter_barycenter,\n\u001b[0;32m    723\u001b[0m             init\u001b[39m=\u001b[39m\u001b[39mself\u001b[39m\u001b[39m.\u001b[39mcluster_centers_[k],\n\u001b[0;32m    724\u001b[0m             \u001b[39m*\u001b[39m\u001b[39m*\u001b[39mmetric_params)\n",
      "File \u001b[1;32mc:\\Users\\Alessandro\\AppData\\Local\\Programs\\Python\\Python39\\lib\\site-packages\\tslearn\\barycenters\\dba.py:498\u001b[0m, in \u001b[0;36mdtw_barycenter_averaging\u001b[1;34m(X, barycenter_size, init_barycenter, max_iter, tol, weights, metric_params, verbose, n_init)\u001b[0m\n\u001b[0;32m    496\u001b[0m \u001b[39mif\u001b[39;00m verbose:\n\u001b[0;32m    497\u001b[0m     \u001b[39mprint\u001b[39m(\u001b[39m\"\u001b[39m\u001b[39mAttempt \u001b[39m\u001b[39m{}\u001b[39;00m\u001b[39m\"\u001b[39m\u001b[39m.\u001b[39mformat(i \u001b[39m+\u001b[39m \u001b[39m1\u001b[39m))\n\u001b[1;32m--> 498\u001b[0m bary, loss \u001b[39m=\u001b[39m dtw_barycenter_averaging_one_init(\n\u001b[0;32m    499\u001b[0m     X\u001b[39m=\u001b[39;49mX,\n\u001b[0;32m    500\u001b[0m     barycenter_size\u001b[39m=\u001b[39;49mbarycenter_size,\n\u001b[0;32m    501\u001b[0m     init_barycenter\u001b[39m=\u001b[39;49minit_barycenter,\n\u001b[0;32m    502\u001b[0m     max_iter\u001b[39m=\u001b[39;49mmax_iter,\n\u001b[0;32m    503\u001b[0m     tol\u001b[39m=\u001b[39;49mtol,\n\u001b[0;32m    504\u001b[0m     weights\u001b[39m=\u001b[39;49mweights,\n\u001b[0;32m    505\u001b[0m     metric_params\u001b[39m=\u001b[39;49mmetric_params,\n\u001b[0;32m    506\u001b[0m     verbose\u001b[39m=\u001b[39;49mverbose\n\u001b[0;32m    507\u001b[0m )\n\u001b[0;32m    508\u001b[0m \u001b[39mif\u001b[39;00m loss \u001b[39m<\u001b[39m best_cost:\n\u001b[0;32m    509\u001b[0m     best_cost \u001b[39m=\u001b[39m loss\n",
      "File \u001b[1;32mc:\\Users\\Alessandro\\AppData\\Local\\Programs\\Python\\Python39\\lib\\site-packages\\tslearn\\barycenters\\dba.py:591\u001b[0m, in \u001b[0;36mdtw_barycenter_averaging_one_init\u001b[1;34m(X, barycenter_size, init_barycenter, max_iter, tol, weights, metric_params, verbose)\u001b[0m\n\u001b[0;32m    589\u001b[0m \u001b[39mfor\u001b[39;00m it \u001b[39min\u001b[39;00m \u001b[39mrange\u001b[39m(max_iter):\n\u001b[0;32m    590\u001b[0m     list_p_k, cost \u001b[39m=\u001b[39m _mm_assignment(X_, barycenter, weights, metric_params)\n\u001b[1;32m--> 591\u001b[0m     diag_sum_v_k, list_w_k \u001b[39m=\u001b[39m _mm_valence_warping(list_p_k, barycenter_size,\n\u001b[0;32m    592\u001b[0m                                                  weights)\n\u001b[0;32m    593\u001b[0m     \u001b[39mif\u001b[39;00m verbose:\n\u001b[0;32m    594\u001b[0m         \u001b[39mprint\u001b[39m(\u001b[39m\"\u001b[39m\u001b[39m[DBA] epoch \u001b[39m\u001b[39m%d\u001b[39;00m\u001b[39m, cost: \u001b[39m\u001b[39m%.3f\u001b[39;00m\u001b[39m\"\u001b[39m \u001b[39m%\u001b[39m (it \u001b[39m+\u001b[39m \u001b[39m1\u001b[39m, cost))\n",
      "File \u001b[1;32mc:\\Users\\Alessandro\\AppData\\Local\\Programs\\Python\\Python39\\lib\\site-packages\\tslearn\\barycenters\\dba.py:303\u001b[0m, in \u001b[0;36m_mm_valence_warping\u001b[1;34m(list_p_k, barycenter_size, weights)\u001b[0m\n\u001b[0;32m    268\u001b[0m \u001b[39mdef\u001b[39;00m \u001b[39m_mm_valence_warping\u001b[39m(list_p_k, barycenter_size, weights):\n\u001b[0;32m    269\u001b[0m     \u001b[39m\"\"\"Compute Valence and Warping matrices from paths.\u001b[39;00m\n\u001b[0;32m    270\u001b[0m \n\u001b[0;32m    271\u001b[0m \u001b[39m    Valence matrices are denoted :math:`V^{(k)}` and Warping matrices are\u001b[39;00m\n\u001b[1;32m   (...)\u001b[0m\n\u001b[0;32m    301\u001b[0m \u001b[39m       Pattern Recognition, 74, 340-358.\u001b[39;00m\n\u001b[0;32m    302\u001b[0m \u001b[39m    \"\"\"\u001b[39;00m\n\u001b[1;32m--> 303\u001b[0m     list_v_k, list_w_k \u001b[39m=\u001b[39m _subgradient_valence_warping(\n\u001b[0;32m    304\u001b[0m         list_p_k\u001b[39m=\u001b[39;49mlist_p_k,\n\u001b[0;32m    305\u001b[0m         barycenter_size\u001b[39m=\u001b[39;49mbarycenter_size,\n\u001b[0;32m    306\u001b[0m         weights\u001b[39m=\u001b[39;49mweights)\n\u001b[0;32m    307\u001b[0m     diag_sum_v_k \u001b[39m=\u001b[39m numpy\u001b[39m.\u001b[39mzeros(list_v_k[\u001b[39m0\u001b[39m]\u001b[39m.\u001b[39mshape)\n\u001b[0;32m    308\u001b[0m     \u001b[39mfor\u001b[39;00m v_k \u001b[39min\u001b[39;00m list_v_k:\n",
      "File \u001b[1;32mc:\\Users\\Alessandro\\AppData\\Local\\Programs\\Python\\Python39\\lib\\site-packages\\tslearn\\barycenters\\dba.py:260\u001b[0m, in \u001b[0;36m_subgradient_valence_warping\u001b[1;34m(list_p_k, barycenter_size, weights)\u001b[0m\n\u001b[0;32m    258\u001b[0m \u001b[39mfor\u001b[39;00m k, p_k \u001b[39min\u001b[39;00m \u001b[39menumerate\u001b[39m(list_p_k):\n\u001b[0;32m    259\u001b[0m     sz_k \u001b[39m=\u001b[39m p_k[\u001b[39m-\u001b[39m\u001b[39m1\u001b[39m][\u001b[39m1\u001b[39m] \u001b[39m+\u001b[39m \u001b[39m1\u001b[39m\n\u001b[1;32m--> 260\u001b[0m     w_k \u001b[39m=\u001b[39m numpy\u001b[39m.\u001b[39;49mzeros((barycenter_size, sz_k))\n\u001b[0;32m    261\u001b[0m     \u001b[39mfor\u001b[39;00m i, j \u001b[39min\u001b[39;00m p_k:\n\u001b[0;32m    262\u001b[0m         w_k[i, j] \u001b[39m=\u001b[39m \u001b[39m1.\u001b[39m\n",
      "\u001b[1;31mMemoryError\u001b[0m: Unable to allocate 1.02 MiB for an array with shape (365, 365) and data type float64"
     ]
    }
   ],
   "source": [
    "km_dtw = TimeSeriesKMeans(n_clusters=5, metric=\"dtw\", max_iter=5, random_state=0)\n",
    "km_dtw.fit(timeseries_list)"
   ]
  },
  {
   "cell_type": "code",
   "execution_count": null,
   "metadata": {},
   "outputs": [],
   "source": [
    "plt.plot(km_dtw.cluster_centers_.reshape(timeseries_list.shape[1], 5))\n",
    "plt.show()"
   ]
  },
  {
   "cell_type": "code",
   "execution_count": null,
   "metadata": {},
   "outputs": [],
   "source": [
    "km.inertia_"
   ]
  },
  {
   "cell_type": "code",
   "execution_count": null,
   "metadata": {},
   "outputs": [],
   "source": [
    "km_dtw.inertia_"
   ]
  }
 ],
 "metadata": {
  "kernelspec": {
   "display_name": "Python 3",
   "language": "python",
   "name": "python3"
  },
  "language_info": {
   "codemirror_mode": {
    "name": "ipython",
    "version": 3
   },
   "file_extension": ".py",
   "mimetype": "text/x-python",
   "name": "python",
   "nbconvert_exporter": "python",
   "pygments_lexer": "ipython3",
   "version": "3.9.0 (tags/v3.9.0:9cf6752, Oct  5 2020, 15:34:40) [MSC v.1927 64 bit (AMD64)]"
  },
  "orig_nbformat": 4,
  "vscode": {
   "interpreter": {
    "hash": "1b9fe44b3991069bed7f12c115f8ef5897ca9ea72b00cc34904974e146407600"
   }
  }
 },
 "nbformat": 4,
 "nbformat_minor": 2
}
