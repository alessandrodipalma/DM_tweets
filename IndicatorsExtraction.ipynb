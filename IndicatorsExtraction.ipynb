{
 "cells": [
  {
   "cell_type": "code",
   "execution_count": 55,
   "metadata": {
    "id": "UdaG28i6DemV"
   },
   "outputs": [],
   "source": [
    "import pandas as pd\n",
    "import math\n",
    "import numpy as np\n",
    "from matplotlib import pyplot as plt\n",
    "from numpy import logical_and as land, logical_or as lor\n",
    "import re\n",
    "from scipy.stats import entropy\n",
    "from utilities import plot_boxplot, plot_hist"
   ]
  },
  {
   "cell_type": "code",
   "execution_count": 2,
   "metadata": {
    "id": "N_nDFZ6fu5aW"
   },
   "outputs": [],
   "source": [
    "DATA_PATH = 'G:/Shared drives/DM_tweets/data/'"
   ]
  },
  {
   "cell_type": "code",
   "execution_count": 2,
   "outputs": [],
   "source": [
    "DATA_PATH = 'G:/Drive condivisi/DM_tweets/data/'"
   ],
   "metadata": {
    "collapsed": false
   }
  },
  {
   "cell_type": "code",
   "execution_count": 3,
   "metadata": {
    "id": "vMsGADALDemY"
   },
   "outputs": [],
   "source": [
    "df_tweets = pd.read_csv(DATA_PATH+'tweets_clean.csv', sep='#')\n",
    "df_users = pd.read_csv(DATA_PATH+'users_clean.csv', sep='#')"
   ]
  },
  {
   "cell_type": "code",
   "execution_count": 33,
   "outputs": [
    {
     "name": "stderr",
     "output_type": "stream",
     "text": [
      "C:\\Users\\al\\AppData\\Local\\Temp\\ipykernel_10052\\769264723.py:1: FutureWarning: Dropping of nuisance columns in DataFrame reductions (with 'numeric_only=None') is deprecated; in a future version this will raise TypeError.  Select only valid columns before calling the reduction.\n",
      "  df_tweets.max()\n"
     ]
    },
    {
     "data": {
      "text/plain": "created_at         2020-05-03 10:36:12\ncreated_at_conv    1588502172000000000\nretweet_count                   450267\nreply_count                     818137\nfavorite_count                  284899\nnum_hashtags                        93\nnum_urls                            56\nnum_mentions                        93\nlength                             420\nspecial_chars                      280\ndtype: object"
     },
     "execution_count": 33,
     "metadata": {},
     "output_type": "execute_result"
    }
   ],
   "source": [
    "df_tweets.max()"
   ],
   "metadata": {
    "collapsed": false
   }
  },
  {
   "cell_type": "markdown",
   "metadata": {
    "id": "wWDOasR9Demf"
   },
   "source": [
    "# How many tweets were published by the user?"
   ]
  },
  {
   "cell_type": "code",
   "execution_count": 35,
   "metadata": {
    "id": "YYg7J0ERPnBU"
   },
   "outputs": [],
   "source": [
    "df_indicators = pd.DataFrame({'n_tweets' : df_tweets.groupby(['user_id'] ).size()}).reset_index()"
   ]
  },
  {
   "cell_type": "code",
   "execution_count": 36,
   "metadata": {
    "id": "xCwssG6-Py82",
    "colab": {
     "base_uri": "https://localhost:8080/",
     "height": 424
    },
    "outputId": "015c9649-3bea-47bc-fcfb-5c0399b1009d"
   },
   "outputs": [
    {
     "data": {
      "text/plain": "        user_id  n_tweets\n0         000vk         1\n1       0013tom         1\n2         001gi         1\n3         001rx         1\n4        00201f         1\n...         ...       ...\n140538     zzyb         1\n140539    zzyd6         1\n140540    zzyyu         1\n140541    zzz9v         1\n140542     zzza         1\n\n[140543 rows x 2 columns]",
      "text/html": "<div>\n<style scoped>\n    .dataframe tbody tr th:only-of-type {\n        vertical-align: middle;\n    }\n\n    .dataframe tbody tr th {\n        vertical-align: top;\n    }\n\n    .dataframe thead th {\n        text-align: right;\n    }\n</style>\n<table border=\"1\" class=\"dataframe\">\n  <thead>\n    <tr style=\"text-align: right;\">\n      <th></th>\n      <th>user_id</th>\n      <th>n_tweets</th>\n    </tr>\n  </thead>\n  <tbody>\n    <tr>\n      <th>0</th>\n      <td>000vk</td>\n      <td>1</td>\n    </tr>\n    <tr>\n      <th>1</th>\n      <td>0013tom</td>\n      <td>1</td>\n    </tr>\n    <tr>\n      <th>2</th>\n      <td>001gi</td>\n      <td>1</td>\n    </tr>\n    <tr>\n      <th>3</th>\n      <td>001rx</td>\n      <td>1</td>\n    </tr>\n    <tr>\n      <th>4</th>\n      <td>00201f</td>\n      <td>1</td>\n    </tr>\n    <tr>\n      <th>...</th>\n      <td>...</td>\n      <td>...</td>\n    </tr>\n    <tr>\n      <th>140538</th>\n      <td>zzyb</td>\n      <td>1</td>\n    </tr>\n    <tr>\n      <th>140539</th>\n      <td>zzyd6</td>\n      <td>1</td>\n    </tr>\n    <tr>\n      <th>140540</th>\n      <td>zzyyu</td>\n      <td>1</td>\n    </tr>\n    <tr>\n      <th>140541</th>\n      <td>zzz9v</td>\n      <td>1</td>\n    </tr>\n    <tr>\n      <th>140542</th>\n      <td>zzza</td>\n      <td>1</td>\n    </tr>\n  </tbody>\n</table>\n<p>140543 rows × 2 columns</p>\n</div>"
     },
     "execution_count": 36,
     "metadata": {},
     "output_type": "execute_result"
    }
   ],
   "source": [
    "df_indicators"
   ]
  },
  {
   "cell_type": "markdown",
   "metadata": {
    "id": "qjNQwuEJDemm"
   },
   "source": [
    "# How many tweets are published by the user in a given period of time?"
   ]
  },
  {
   "cell_type": "code",
   "execution_count": 38,
   "metadata": {
    "colab": {
     "base_uri": "https://localhost:8080/",
     "height": 424
    },
    "id": "XUSA_hvSUSdi",
    "outputId": "86796cc1-6653-4fba-f03d-7e9c349b05e0"
   },
   "outputs": [
    {
     "name": "stdout",
     "output_type": "stream",
     "text": [
      "<class 'pandas.core.frame.DataFrame'>\n",
      "RangeIndex: 140543 entries, 0 to 140542\n",
      "Data columns (total 11 columns):\n",
      " #   Column       Non-Null Count   Dtype \n",
      "---  ------       --------------   ----- \n",
      " 0   user_id      140543 non-null  object\n",
      " 1   n_tweets     140543 non-null  int64 \n",
      " 2   2012_tweets  140543 non-null  int64 \n",
      " 3   2013_tweets  140543 non-null  int64 \n",
      " 4   2014_tweets  140543 non-null  int64 \n",
      " 5   2015_tweets  140543 non-null  int64 \n",
      " 6   2016_tweets  140543 non-null  int64 \n",
      " 7   2017_tweets  140543 non-null  int64 \n",
      " 8   2018_tweets  140543 non-null  int64 \n",
      " 9   2019_tweets  140543 non-null  int64 \n",
      " 10  2020_tweets  140543 non-null  int64 \n",
      "dtypes: int64(10), object(1)\n",
      "memory usage: 11.8+ MB\n"
     ]
    }
   ],
   "source": [
    "for y in range(2012, 2021):\n",
    "  df_indicators[str(y) + \"_tweets\"] = 0\n",
    "\n",
    "df_indicators.info()"
   ]
  },
  {
   "cell_type": "code",
   "execution_count": 39,
   "metadata": {
    "id": "4B6nfNkG6EGR"
   },
   "outputs": [],
   "source": [
    "for y in range(2012,2021):\n",
    "  # Filter all tweets published in a certain year\n",
    "  tweets_by_y = df_tweets[land(df_tweets['created_at'] >= (str(y)+\"-01-01\"), \n",
    "                               df_tweets['created_at'] <= (str(y)+\"-12-31\"))][['user_id','created_at']]\n",
    "\n",
    "  # Count tweets of users in that year\n",
    "  gby = pd.DataFrame({'n_tweets' : tweets_by_y.groupby( [ 'user_id'] ).size()}).reset_index()\n",
    "  \n",
    "  # Transform it in a dictionary\n",
    "  gby = dict(zip(gby.user_id, gby.n_tweets))\n",
    "\n",
    "  # Select users to modify and update them\n",
    "  df_indicators.loc[df_indicators['user_id'].isin(gby.keys()), str(y)+'_tweets'] = list(gby.values())"
   ]
  },
  {
   "cell_type": "code",
   "execution_count": 40,
   "metadata": {
    "colab": {
     "base_uri": "https://localhost:8080/",
     "height": 288
    },
    "id": "ioXJYoU3GKua",
    "outputId": "6f392742-294a-4fd3-ae52-3226f5004f69"
   },
   "outputs": [
    {
     "data": {
      "text/plain": "<BarContainer object of 9 artists>"
     },
     "execution_count": 40,
     "metadata": {},
     "output_type": "execute_result"
    },
    {
     "data": {
      "text/plain": "<Figure size 432x288 with 1 Axes>",
      "image/png": "[encoded data removed]"
     },
     "metadata": {
      "needs_background": "light"
     },
     "output_type": "display_data"
    }
   ],
   "source": [
    "years_col_list = [str(y)+'_tweets' for y in range(2012,2021)]\n",
    "sum_list = [df_indicators[y].sum() for y in years_col_list]\n",
    "plt.bar(range(2012,2021), sum_list, log=True)"
   ]
  },
  {
   "cell_type": "markdown",
   "metadata": {
    "id": "XutbYjj4Demn"
   },
   "source": [
    "# Total number of tweets"
   ]
  },
  {
   "cell_type": "code",
   "execution_count": 41,
   "metadata": {
    "colab": {
     "base_uri": "https://localhost:8080/"
    },
    "id": "JLMPYko4Demo",
    "outputId": "5c77634b-5479-4236-e26a-d5e931994449"
   },
   "outputs": [
    {
     "data": {
      "text/plain": "10187873"
     },
     "execution_count": 41,
     "metadata": {},
     "output_type": "execute_result"
    }
   ],
   "source": [
    "tot_n_tweets = df_tweets.shape[0]\n",
    "tot_n_tweets"
   ]
  },
  {
   "cell_type": "markdown",
   "metadata": {
    "id": "-ueowDSZDemo"
   },
   "source": [
    "# Total number of likes and comments and retweets"
   ]
  },
  {
   "cell_type": "code",
   "execution_count": 42,
   "metadata": {
    "id": "9V70NbwTDemo",
    "colab": {
     "base_uri": "https://localhost:8080/"
    },
    "outputId": "723cf098-18d4-475e-80d2-bee1bc82dc2d"
   },
   "outputs": [
    {
     "data": {
      "text/plain": "5386511"
     },
     "execution_count": 42,
     "metadata": {},
     "output_type": "execute_result"
    }
   ],
   "source": [
    "total_favorite = df_tweets.favorite_count.sum()\n",
    "total_favorite"
   ]
  },
  {
   "cell_type": "code",
   "execution_count": 43,
   "metadata": {
    "colab": {
     "base_uri": "https://localhost:8080/"
    },
    "id": "gViEzCUfu5bV",
    "outputId": "076bad49-a9a6-45c2-8b43-202d3dcadea5"
   },
   "outputs": [
    {
     "data": {
      "text/plain": "886527"
     },
     "execution_count": 43,
     "metadata": {},
     "output_type": "execute_result"
    }
   ],
   "source": [
    "total_replies = df_tweets.reply_count.sum()\n",
    "total_replies"
   ]
  },
  {
   "cell_type": "code",
   "execution_count": 44,
   "metadata": {
    "colab": {
     "base_uri": "https://localhost:8080/"
    },
    "id": "XGDo5XTVu5bW",
    "outputId": "07e61e1a-b097-46b6-cc2e-500d9500529e"
   },
   "outputs": [
    {
     "data": {
      "text/plain": "366372232"
     },
     "execution_count": 44,
     "metadata": {},
     "output_type": "execute_result"
    }
   ],
   "source": [
    "total_retweets = df_tweets.retweet_count.sum()\n",
    "total_retweets"
   ]
  },
  {
   "cell_type": "markdown",
   "metadata": {
    "id": "4V_-fI2ADemp"
   },
   "source": [
    "# Ratio between the number of tweets and the number of likes"
   ]
  },
  {
   "cell_type": "code",
   "execution_count": 45,
   "metadata": {
    "id": "t4EaaWZHDemp",
    "colab": {
     "base_uri": "https://localhost:8080/"
    },
    "outputId": "75153783-5fa2-4b44-de29-807861b6b305"
   },
   "outputs": [
    {
     "data": {
      "text/plain": "1.8913677146486845"
     },
     "execution_count": 45,
     "metadata": {},
     "output_type": "execute_result"
    }
   ],
   "source": [
    "ratio_tweets_fav = len(df_tweets) / total_favorite\n",
    "ratio_tweets_fav"
   ]
  },
  {
   "cell_type": "markdown",
   "metadata": {
    "id": "FPVCS_rmu5bb"
   },
   "source": [
    "## Ratio between the number of tweets and the number of retweets"
   ]
  },
  {
   "cell_type": "code",
   "execution_count": 46,
   "metadata": {
    "colab": {
     "base_uri": "https://localhost:8080/"
    },
    "id": "Gs9UoA5Hu5bb",
    "outputId": "9f9dd19d-a47f-465c-f8cb-ef744afe16e0"
   },
   "outputs": [
    {
     "data": {
      "text/plain": "0.027807437655373402"
     },
     "execution_count": 46,
     "metadata": {},
     "output_type": "execute_result"
    }
   ],
   "source": [
    "ratio_tweets_rt = len(df_tweets) / total_retweets\n",
    "ratio_tweets_rt"
   ]
  },
  {
   "cell_type": "markdown",
   "metadata": {
    "id": "kdQmI9_au5bc"
   },
   "source": [
    "## Ratio between the number of tweets and the number of comments"
   ]
  },
  {
   "cell_type": "code",
   "execution_count": 47,
   "metadata": {
    "colab": {
     "base_uri": "https://localhost:8080/"
    },
    "id": "ribfIBKRu5bd",
    "outputId": "372b33d0-87a8-4d6d-f7d2-606d57e11422"
   },
   "outputs": [
    {
     "data": {
      "text/plain": "11.491892519911971"
     },
     "execution_count": 47,
     "metadata": {},
     "output_type": "execute_result"
    }
   ],
   "source": [
    "ratio_tweets_replies = len(df_tweets) / total_replies\n",
    "ratio_tweets_replies"
   ]
  },
  {
   "cell_type": "markdown",
   "metadata": {
    "id": "WthSszCZDemq"
   },
   "source": [
    "# Average length of the tweets per user"
   ]
  },
  {
   "cell_type": "code",
   "execution_count": 48,
   "metadata": {
    "id": "aYUNmfPdDemr"
   },
   "outputs": [],
   "source": [
    "df_tweets['length'] = df_tweets.text.astype(str).apply(len)"
   ]
  },
  {
   "cell_type": "code",
   "execution_count": 49,
   "metadata": {
    "colab": {
     "base_uri": "https://localhost:8080/",
     "height": 282
    },
    "id": "ba9o6NPzu5bi",
    "outputId": "59957ffd-e4d2-43fc-eb87-a88a14fcabfc"
   },
   "outputs": [
    {
     "data": {
      "text/plain": "<AxesSubplot:>"
     },
     "execution_count": 49,
     "metadata": {},
     "output_type": "execute_result"
    },
    {
     "data": {
      "text/plain": "<Figure size 432x288 with 1 Axes>",
      "image/png": "[encoded data removed]"
     },
     "metadata": {
      "needs_background": "light"
     },
     "output_type": "display_data"
    }
   ],
   "source": [
    "df_tweets.boxplot('length')"
   ]
  },
  {
   "cell_type": "code",
   "execution_count": 50,
   "metadata": {
    "id": "SThA9ie_u5bi"
   },
   "outputs": [],
   "source": [
    "len_groupby = df_tweets.groupby('user_id').agg({'length':'mean'})"
   ]
  },
  {
   "cell_type": "code",
   "execution_count": 51,
   "metadata": {
    "colab": {
     "base_uri": "https://localhost:8080/",
     "height": 424
    },
    "id": "YuOecCnsu5bk",
    "outputId": "4a0be7ee-37fc-45b6-d2f8-76f8587f917f"
   },
   "outputs": [
    {
     "name": "stdout",
     "output_type": "stream",
     "text": [
      "<class 'pandas.core.frame.DataFrame'>\n",
      "RangeIndex: 140543 entries, 0 to 140542\n",
      "Data columns (total 12 columns):\n",
      " #   Column       Non-Null Count   Dtype  \n",
      "---  ------       --------------   -----  \n",
      " 0   user_id      140543 non-null  object \n",
      " 1   n_tweets     140543 non-null  int64  \n",
      " 2   2012_tweets  140543 non-null  int64  \n",
      " 3   2013_tweets  140543 non-null  int64  \n",
      " 4   2014_tweets  140543 non-null  int64  \n",
      " 5   2015_tweets  140543 non-null  int64  \n",
      " 6   2016_tweets  140543 non-null  int64  \n",
      " 7   2017_tweets  140543 non-null  int64  \n",
      " 8   2018_tweets  140543 non-null  int64  \n",
      " 9   2019_tweets  140543 non-null  int64  \n",
      " 10  2020_tweets  140543 non-null  int64  \n",
      " 11  mean_length  140543 non-null  float64\n",
      "dtypes: float64(1), int64(10), object(1)\n",
      "memory usage: 12.9+ MB\n"
     ]
    }
   ],
   "source": [
    "df_indicators['mean_length'] = len_groupby.length.values\n",
    "df_indicators.info()"
   ]
  },
  {
   "cell_type": "code",
   "execution_count": 52,
   "outputs": [
    {
     "data": {
      "text/plain": "user_id         zzza\nn_tweets        3447\n2012_tweets        7\n2013_tweets      169\n2014_tweets      885\n2015_tweets     1697\n2016_tweets     2824\n2017_tweets     3250\n2018_tweets     3202\n2019_tweets     3360\n2020_tweets     3350\nmean_length    365.0\ndtype: object"
     },
     "execution_count": 52,
     "metadata": {},
     "output_type": "execute_result"
    }
   ],
   "source": [
    "df_indicators.max()"
   ],
   "metadata": {
    "collapsed": false
   }
  },
  {
   "cell_type": "markdown",
   "metadata": {
    "id": "2HxWZntDDemr"
   },
   "source": [
    "# Average number of special characters in the tweets per user"
   ]
  },
  {
   "cell_type": "code",
   "execution_count": 53,
   "metadata": {
    "id": "TefJGHf5Dems"
   },
   "outputs": [],
   "source": [
    "df_tweets['special_chars'] = df_tweets.text.astype(str).apply(lambda text: len(re.findall(\"(?=\\W)(?=\\S)\", text)))"
   ]
  },
  {
   "cell_type": "code",
   "execution_count": 54,
   "metadata": {
    "id": "RUO1vVd1Dems",
    "colab": {
     "base_uri": "https://localhost:8080/",
     "height": 424
    },
    "outputId": "c655f147-1475-4f7e-9d7a-dde519a5cd1f"
   },
   "outputs": [
    {
     "data": {
      "text/plain": "        user_id  n_tweets  2012_tweets  2013_tweets  2014_tweets  2015_tweets  \\\n0         000vk         1            0            0            0            0   \n1       0013tom         1            0            0            0            0   \n2         001gi         1            0            0            0            0   \n3         001rx         1            0            0            0            0   \n4        00201f         1            0            0            0            0   \n...         ...       ...          ...          ...          ...          ...   \n140538     zzyb         1            0            0            0            0   \n140539    zzyd6         1            0            0            0            0   \n140540    zzyyu         1            0            0            0            0   \n140541    zzz9v         1            0            0            0            0   \n140542     zzza         1            0            0            0            0   \n\n        2016_tweets  2017_tweets  2018_tweets  2019_tweets  2020_tweets  \\\n0                 0            0            0            0            1   \n1                 0            0            1            0            0   \n2                 0            0            0            0            1   \n3                 0            0            0            0            1   \n4                 0            0            0            1            0   \n...             ...          ...          ...          ...          ...   \n140538            0            0            0            1            0   \n140539            0            0            0            1            0   \n140540            0            0            0            0            1   \n140541            0            0            0            1            0   \n140542            0            0            0            0            1   \n\n        mean_length  mean_special_chars  \n0             110.0                 9.0  \n1             104.0                 5.0  \n2              15.0                 0.0  \n3              47.0                 0.0  \n4               3.0                 0.0  \n...             ...                 ...  \n140538          3.0                 0.0  \n140539         66.0                 0.0  \n140540         64.0                 1.0  \n140541          3.0                 0.0  \n140542         16.0                 1.0  \n\n[140543 rows x 13 columns]",
      "text/html": "<div>\n<style scoped>\n    .dataframe tbody tr th:only-of-type {\n        vertical-align: middle;\n    }\n\n    .dataframe tbody tr th {\n        vertical-align: top;\n    }\n\n    .dataframe thead th {\n        text-align: right;\n    }\n</style>\n<table border=\"1\" class=\"dataframe\">\n  <thead>\n    <tr style=\"text-align: right;\">\n      <th></th>\n      <th>user_id</th>\n      <th>n_tweets</th>\n      <th>2012_tweets</th>\n      <th>2013_tweets</th>\n      <th>2014_tweets</th>\n      <th>2015_tweets</th>\n      <th>2016_tweets</th>\n      <th>2017_tweets</th>\n      <th>2018_tweets</th>\n      <th>2019_tweets</th>\n      <th>2020_tweets</th>\n      <th>mean_length</th>\n      <th>mean_special_chars</th>\n    </tr>\n  </thead>\n  <tbody>\n    <tr>\n      <th>0</th>\n      <td>000vk</td>\n      <td>1</td>\n      <td>0</td>\n      <td>0</td>\n      <td>0</td>\n      <td>0</td>\n      <td>0</td>\n      <td>0</td>\n      <td>0</td>\n      <td>0</td>\n      <td>1</td>\n      <td>110.0</td>\n      <td>9.0</td>\n    </tr>\n    <tr>\n      <th>1</th>\n      <td>0013tom</td>\n      <td>1</td>\n      <td>0</td>\n      <td>0</td>\n      <td>0</td>\n      <td>0</td>\n      <td>0</td>\n      <td>0</td>\n      <td>1</td>\n      <td>0</td>\n      <td>0</td>\n      <td>104.0</td>\n      <td>5.0</td>\n    </tr>\n    <tr>\n      <th>2</th>\n      <td>001gi</td>\n      <td>1</td>\n      <td>0</td>\n      <td>0</td>\n      <td>0</td>\n      <td>0</td>\n      <td>0</td>\n      <td>0</td>\n      <td>0</td>\n      <td>0</td>\n      <td>1</td>\n      <td>15.0</td>\n      <td>0.0</td>\n    </tr>\n    <tr>\n      <th>3</th>\n      <td>001rx</td>\n      <td>1</td>\n      <td>0</td>\n      <td>0</td>\n      <td>0</td>\n      <td>0</td>\n      <td>0</td>\n      <td>0</td>\n      <td>0</td>\n      <td>0</td>\n      <td>1</td>\n      <td>47.0</td>\n      <td>0.0</td>\n    </tr>\n    <tr>\n      <th>4</th>\n      <td>00201f</td>\n      <td>1</td>\n      <td>0</td>\n      <td>0</td>\n      <td>0</td>\n      <td>0</td>\n      <td>0</td>\n      <td>0</td>\n      <td>0</td>\n      <td>1</td>\n      <td>0</td>\n      <td>3.0</td>\n      <td>0.0</td>\n    </tr>\n    <tr>\n      <th>...</th>\n      <td>...</td>\n      <td>...</td>\n      <td>...</td>\n      <td>...</td>\n      <td>...</td>\n      <td>...</td>\n      <td>...</td>\n      <td>...</td>\n      <td>...</td>\n      <td>...</td>\n      <td>...</td>\n      <td>...</td>\n      <td>...</td>\n    </tr>\n    <tr>\n      <th>140538</th>\n      <td>zzyb</td>\n      <td>1</td>\n      <td>0</td>\n      <td>0</td>\n      <td>0</td>\n      <td>0</td>\n      <td>0</td>\n      <td>0</td>\n      <td>0</td>\n      <td>1</td>\n      <td>0</td>\n      <td>3.0</td>\n      <td>0.0</td>\n    </tr>\n    <tr>\n      <th>140539</th>\n      <td>zzyd6</td>\n      <td>1</td>\n      <td>0</td>\n      <td>0</td>\n      <td>0</td>\n      <td>0</td>\n      <td>0</td>\n      <td>0</td>\n      <td>0</td>\n      <td>1</td>\n      <td>0</td>\n      <td>66.0</td>\n      <td>0.0</td>\n    </tr>\n    <tr>\n      <th>140540</th>\n      <td>zzyyu</td>\n      <td>1</td>\n      <td>0</td>\n      <td>0</td>\n      <td>0</td>\n      <td>0</td>\n      <td>0</td>\n      <td>0</td>\n      <td>0</td>\n      <td>0</td>\n      <td>1</td>\n      <td>64.0</td>\n      <td>1.0</td>\n    </tr>\n    <tr>\n      <th>140541</th>\n      <td>zzz9v</td>\n      <td>1</td>\n      <td>0</td>\n      <td>0</td>\n      <td>0</td>\n      <td>0</td>\n      <td>0</td>\n      <td>0</td>\n      <td>0</td>\n      <td>1</td>\n      <td>0</td>\n      <td>3.0</td>\n      <td>0.0</td>\n    </tr>\n    <tr>\n      <th>140542</th>\n      <td>zzza</td>\n      <td>1</td>\n      <td>0</td>\n      <td>0</td>\n      <td>0</td>\n      <td>0</td>\n      <td>0</td>\n      <td>0</td>\n      <td>0</td>\n      <td>0</td>\n      <td>1</td>\n      <td>16.0</td>\n      <td>1.0</td>\n    </tr>\n  </tbody>\n</table>\n<p>140543 rows × 13 columns</p>\n</div>"
     },
     "execution_count": 54,
     "metadata": {},
     "output_type": "execute_result"
    }
   ],
   "source": [
    "len_groupby = df_tweets.groupby('user_id').agg({'special_chars':'mean'})\n",
    "\n",
    "df_indicators['mean_special_chars'] = len_groupby.special_chars.values"
   ]
  },
  {
   "cell_type": "code",
   "execution_count": 56,
   "outputs": [
    {
     "name": "stdout",
     "output_type": "stream",
     "text": [
      "<class 'pandas.core.frame.DataFrame'>\n",
      "RangeIndex: 140543 entries, 0 to 140542\n",
      "Data columns (total 13 columns):\n",
      " #   Column              Non-Null Count   Dtype  \n",
      "---  ------              --------------   -----  \n",
      " 0   user_id             140543 non-null  object \n",
      " 1   n_tweets            140543 non-null  int64  \n",
      " 2   2012_tweets         140543 non-null  int64  \n",
      " 3   2013_tweets         140543 non-null  int64  \n",
      " 4   2014_tweets         140543 non-null  int64  \n",
      " 5   2015_tweets         140543 non-null  int64  \n",
      " 6   2016_tweets         140543 non-null  int64  \n",
      " 7   2017_tweets         140543 non-null  int64  \n",
      " 8   2018_tweets         140543 non-null  int64  \n",
      " 9   2019_tweets         140543 non-null  int64  \n",
      " 10  2020_tweets         140543 non-null  int64  \n",
      " 11  mean_length         140543 non-null  float64\n",
      " 12  mean_special_chars  140543 non-null  float64\n",
      "dtypes: float64(2), int64(10), object(1)\n",
      "memory usage: 13.9+ MB\n"
     ]
    }
   ],
   "source": [
    "df_indicators.info()"
   ],
   "metadata": {
    "collapsed": false
   }
  },
  {
   "cell_type": "markdown",
   "metadata": {
    "id": "VM0ywSsru5bp"
   },
   "source": [
    "# File Checkpoint"
   ]
  },
  {
   "cell_type": "code",
   "execution_count": 23,
   "metadata": {
    "id": "FHQZk9Fyu5bq"
   },
   "outputs": [],
   "source": [
    "df_tweets.to_csv(path_or_buf=DATA_PATH+'tweets_with_indicators.csv', sep='#', index=False)"
   ]
  },
  {
   "cell_type": "code",
   "execution_count": 57,
   "metadata": {
    "id": "h5BR0c6uu5br"
   },
   "outputs": [],
   "source": [
    "df_indicators.to_csv(path_or_buf=DATA_PATH+'indicators_1.csv', sep='#', index=False)"
   ]
  },
  {
   "cell_type": "code",
   "execution_count": 58,
   "outputs": [],
   "source": [
    "df_indicators = pd.read_csv(DATA_PATH+'indicators_1.csv', sep='#')"
   ],
   "metadata": {
    "collapsed": false
   }
  },
  {
   "cell_type": "markdown",
   "metadata": {
    "id": "BOKT4GuVu5bs"
   },
   "source": [
    "# Mean, standard deviation and entropy for each attribute by user"
   ]
  },
  {
   "cell_type": "code",
   "execution_count": 60,
   "metadata": {
    "id": "fbiCjqrQu5bs"
   },
   "outputs": [
    {
     "name": "stderr",
     "output_type": "stream",
     "text": [
      "C:\\Users\\al\\anaconda3\\lib\\site-packages\\scipy\\stats\\_entropy.py:72: RuntimeWarning: invalid value encountered in true_divide\n",
      "  pk = 1.0*pk / np.sum(pk, axis=axis, keepdims=True)\n",
      "C:\\Users\\al\\anaconda3\\lib\\site-packages\\scipy\\stats\\_entropy.py:72: RuntimeWarning: invalid value encountered in true_divide\n",
      "  pk = 1.0*pk / np.sum(pk, axis=axis, keepdims=True)\n",
      "C:\\Users\\al\\anaconda3\\lib\\site-packages\\scipy\\stats\\_entropy.py:72: RuntimeWarning: invalid value encountered in true_divide\n",
      "  pk = 1.0*pk / np.sum(pk, axis=axis, keepdims=True)\n",
      "C:\\Users\\al\\anaconda3\\lib\\site-packages\\scipy\\stats\\_entropy.py:72: RuntimeWarning: invalid value encountered in true_divide\n",
      "  pk = 1.0*pk / np.sum(pk, axis=axis, keepdims=True)\n",
      "C:\\Users\\al\\anaconda3\\lib\\site-packages\\scipy\\stats\\_entropy.py:72: RuntimeWarning: invalid value encountered in true_divide\n",
      "  pk = 1.0*pk / np.sum(pk, axis=axis, keepdims=True)\n",
      "C:\\Users\\al\\anaconda3\\lib\\site-packages\\scipy\\stats\\_entropy.py:72: RuntimeWarning: invalid value encountered in true_divide\n",
      "  pk = 1.0*pk / np.sum(pk, axis=axis, keepdims=True)\n",
      "C:\\Users\\al\\anaconda3\\lib\\site-packages\\scipy\\stats\\_entropy.py:72: RuntimeWarning: invalid value encountered in true_divide\n",
      "  pk = 1.0*pk / np.sum(pk, axis=axis, keepdims=True)\n",
      "C:\\Users\\al\\AppData\\Local\\Temp\\ipykernel_10052\\3530154015.py:1: FutureWarning: ['created_at', 'text'] did not aggregate successfully. If any error is raised this will raise in a future version of pandas. Drop these columns/ops to avoid this warning.\n",
      "  user_groupby = df_tweets.groupby('user_id').agg(['mean','std',entropy])\n"
     ]
    }
   ],
   "source": [
    "user_groupby = df_tweets.groupby('user_id').agg(['mean','std',entropy])"
   ]
  },
  {
   "cell_type": "code",
   "execution_count": 80,
   "metadata": {
    "id": "S37j9RG2u5bt"
   },
   "outputs": [
    {
     "ename": "KeyError",
     "evalue": "'length'",
     "output_type": "error",
     "traceback": [
      "\u001B[1;31m---------------------------------------------------------------------------\u001B[0m",
      "\u001B[1;31mKeyError\u001B[0m                                  Traceback (most recent call last)",
      "Input \u001B[1;32mIn [80]\u001B[0m, in \u001B[0;36m<cell line: 1>\u001B[1;34m()\u001B[0m\n\u001B[1;32m----> 1\u001B[0m \u001B[43muser_groupby\u001B[49m\u001B[38;5;241;43m.\u001B[39;49m\u001B[43mdrop\u001B[49m\u001B[43m(\u001B[49m\u001B[43mcolumns\u001B[49m\u001B[38;5;241;43m=\u001B[39;49m\u001B[43m[\u001B[49m\u001B[38;5;124;43m'\u001B[39;49m\u001B[38;5;124;43mlength\u001B[39;49m\u001B[38;5;124;43m'\u001B[39;49m\u001B[43m,\u001B[49m\u001B[38;5;124;43m'\u001B[39;49m\u001B[38;5;124;43mspecial_chars\u001B[39;49m\u001B[38;5;124;43m'\u001B[39;49m\u001B[43m]\u001B[49m\u001B[43m,\u001B[49m\u001B[43m \u001B[49m\u001B[43minplace\u001B[49m\u001B[38;5;241;43m=\u001B[39;49m\u001B[38;5;28;43;01mTrue\u001B[39;49;00m\u001B[43m)\u001B[49m\n",
      "File \u001B[1;32m~\\anaconda3\\lib\\site-packages\\pandas\\util\\_decorators.py:311\u001B[0m, in \u001B[0;36mdeprecate_nonkeyword_arguments.<locals>.decorate.<locals>.wrapper\u001B[1;34m(*args, **kwargs)\u001B[0m\n\u001B[0;32m    305\u001B[0m \u001B[38;5;28;01mif\u001B[39;00m \u001B[38;5;28mlen\u001B[39m(args) \u001B[38;5;241m>\u001B[39m num_allow_args:\n\u001B[0;32m    306\u001B[0m     warnings\u001B[38;5;241m.\u001B[39mwarn(\n\u001B[0;32m    307\u001B[0m         msg\u001B[38;5;241m.\u001B[39mformat(arguments\u001B[38;5;241m=\u001B[39marguments),\n\u001B[0;32m    308\u001B[0m         \u001B[38;5;167;01mFutureWarning\u001B[39;00m,\n\u001B[0;32m    309\u001B[0m         stacklevel\u001B[38;5;241m=\u001B[39mstacklevel,\n\u001B[0;32m    310\u001B[0m     )\n\u001B[1;32m--> 311\u001B[0m \u001B[38;5;28;01mreturn\u001B[39;00m func(\u001B[38;5;241m*\u001B[39margs, \u001B[38;5;241m*\u001B[39m\u001B[38;5;241m*\u001B[39mkwargs)\n",
      "File \u001B[1;32m~\\anaconda3\\lib\\site-packages\\pandas\\core\\frame.py:4954\u001B[0m, in \u001B[0;36mDataFrame.drop\u001B[1;34m(self, labels, axis, index, columns, level, inplace, errors)\u001B[0m\n\u001B[0;32m   4806\u001B[0m \u001B[38;5;129m@deprecate_nonkeyword_arguments\u001B[39m(version\u001B[38;5;241m=\u001B[39m\u001B[38;5;28;01mNone\u001B[39;00m, allowed_args\u001B[38;5;241m=\u001B[39m[\u001B[38;5;124m\"\u001B[39m\u001B[38;5;124mself\u001B[39m\u001B[38;5;124m\"\u001B[39m, \u001B[38;5;124m\"\u001B[39m\u001B[38;5;124mlabels\u001B[39m\u001B[38;5;124m\"\u001B[39m])\n\u001B[0;32m   4807\u001B[0m \u001B[38;5;28;01mdef\u001B[39;00m \u001B[38;5;21mdrop\u001B[39m(\n\u001B[0;32m   4808\u001B[0m     \u001B[38;5;28mself\u001B[39m,\n\u001B[1;32m   (...)\u001B[0m\n\u001B[0;32m   4815\u001B[0m     errors: \u001B[38;5;28mstr\u001B[39m \u001B[38;5;241m=\u001B[39m \u001B[38;5;124m\"\u001B[39m\u001B[38;5;124mraise\u001B[39m\u001B[38;5;124m\"\u001B[39m,\n\u001B[0;32m   4816\u001B[0m ):\n\u001B[0;32m   4817\u001B[0m     \u001B[38;5;124;03m\"\"\"\u001B[39;00m\n\u001B[0;32m   4818\u001B[0m \u001B[38;5;124;03m    Drop specified labels from rows or columns.\u001B[39;00m\n\u001B[0;32m   4819\u001B[0m \n\u001B[1;32m   (...)\u001B[0m\n\u001B[0;32m   4952\u001B[0m \u001B[38;5;124;03m            weight  1.0     0.8\u001B[39;00m\n\u001B[0;32m   4953\u001B[0m \u001B[38;5;124;03m    \"\"\"\u001B[39;00m\n\u001B[1;32m-> 4954\u001B[0m     \u001B[38;5;28;01mreturn\u001B[39;00m \u001B[38;5;28;43msuper\u001B[39;49m\u001B[43m(\u001B[49m\u001B[43m)\u001B[49m\u001B[38;5;241;43m.\u001B[39;49m\u001B[43mdrop\u001B[49m\u001B[43m(\u001B[49m\n\u001B[0;32m   4955\u001B[0m \u001B[43m        \u001B[49m\u001B[43mlabels\u001B[49m\u001B[38;5;241;43m=\u001B[39;49m\u001B[43mlabels\u001B[49m\u001B[43m,\u001B[49m\n\u001B[0;32m   4956\u001B[0m \u001B[43m        \u001B[49m\u001B[43maxis\u001B[49m\u001B[38;5;241;43m=\u001B[39;49m\u001B[43maxis\u001B[49m\u001B[43m,\u001B[49m\n\u001B[0;32m   4957\u001B[0m \u001B[43m        \u001B[49m\u001B[43mindex\u001B[49m\u001B[38;5;241;43m=\u001B[39;49m\u001B[43mindex\u001B[49m\u001B[43m,\u001B[49m\n\u001B[0;32m   4958\u001B[0m \u001B[43m        \u001B[49m\u001B[43mcolumns\u001B[49m\u001B[38;5;241;43m=\u001B[39;49m\u001B[43mcolumns\u001B[49m\u001B[43m,\u001B[49m\n\u001B[0;32m   4959\u001B[0m \u001B[43m        \u001B[49m\u001B[43mlevel\u001B[49m\u001B[38;5;241;43m=\u001B[39;49m\u001B[43mlevel\u001B[49m\u001B[43m,\u001B[49m\n\u001B[0;32m   4960\u001B[0m \u001B[43m        \u001B[49m\u001B[43minplace\u001B[49m\u001B[38;5;241;43m=\u001B[39;49m\u001B[43minplace\u001B[49m\u001B[43m,\u001B[49m\n\u001B[0;32m   4961\u001B[0m \u001B[43m        \u001B[49m\u001B[43merrors\u001B[49m\u001B[38;5;241;43m=\u001B[39;49m\u001B[43merrors\u001B[49m\u001B[43m,\u001B[49m\n\u001B[0;32m   4962\u001B[0m \u001B[43m    \u001B[49m\u001B[43m)\u001B[49m\n",
      "File \u001B[1;32m~\\anaconda3\\lib\\site-packages\\pandas\\core\\generic.py:4267\u001B[0m, in \u001B[0;36mNDFrame.drop\u001B[1;34m(self, labels, axis, index, columns, level, inplace, errors)\u001B[0m\n\u001B[0;32m   4265\u001B[0m \u001B[38;5;28;01mfor\u001B[39;00m axis, labels \u001B[38;5;129;01min\u001B[39;00m axes\u001B[38;5;241m.\u001B[39mitems():\n\u001B[0;32m   4266\u001B[0m     \u001B[38;5;28;01mif\u001B[39;00m labels \u001B[38;5;129;01mis\u001B[39;00m \u001B[38;5;129;01mnot\u001B[39;00m \u001B[38;5;28;01mNone\u001B[39;00m:\n\u001B[1;32m-> 4267\u001B[0m         obj \u001B[38;5;241m=\u001B[39m \u001B[43mobj\u001B[49m\u001B[38;5;241;43m.\u001B[39;49m\u001B[43m_drop_axis\u001B[49m\u001B[43m(\u001B[49m\u001B[43mlabels\u001B[49m\u001B[43m,\u001B[49m\u001B[43m \u001B[49m\u001B[43maxis\u001B[49m\u001B[43m,\u001B[49m\u001B[43m \u001B[49m\u001B[43mlevel\u001B[49m\u001B[38;5;241;43m=\u001B[39;49m\u001B[43mlevel\u001B[49m\u001B[43m,\u001B[49m\u001B[43m \u001B[49m\u001B[43merrors\u001B[49m\u001B[38;5;241;43m=\u001B[39;49m\u001B[43merrors\u001B[49m\u001B[43m)\u001B[49m\n\u001B[0;32m   4269\u001B[0m \u001B[38;5;28;01mif\u001B[39;00m inplace:\n\u001B[0;32m   4270\u001B[0m     \u001B[38;5;28mself\u001B[39m\u001B[38;5;241m.\u001B[39m_update_inplace(obj)\n",
      "File \u001B[1;32m~\\anaconda3\\lib\\site-packages\\pandas\\core\\generic.py:4311\u001B[0m, in \u001B[0;36mNDFrame._drop_axis\u001B[1;34m(self, labels, axis, level, errors, consolidate, only_slice)\u001B[0m\n\u001B[0;32m   4309\u001B[0m         new_axis \u001B[38;5;241m=\u001B[39m axis\u001B[38;5;241m.\u001B[39mdrop(labels, level\u001B[38;5;241m=\u001B[39mlevel, errors\u001B[38;5;241m=\u001B[39merrors)\n\u001B[0;32m   4310\u001B[0m     \u001B[38;5;28;01melse\u001B[39;00m:\n\u001B[1;32m-> 4311\u001B[0m         new_axis \u001B[38;5;241m=\u001B[39m \u001B[43maxis\u001B[49m\u001B[38;5;241;43m.\u001B[39;49m\u001B[43mdrop\u001B[49m\u001B[43m(\u001B[49m\u001B[43mlabels\u001B[49m\u001B[43m,\u001B[49m\u001B[43m \u001B[49m\u001B[43merrors\u001B[49m\u001B[38;5;241;43m=\u001B[39;49m\u001B[43merrors\u001B[49m\u001B[43m)\u001B[49m\n\u001B[0;32m   4312\u001B[0m     indexer \u001B[38;5;241m=\u001B[39m axis\u001B[38;5;241m.\u001B[39mget_indexer(new_axis)\n\u001B[0;32m   4314\u001B[0m \u001B[38;5;66;03m# Case for non-unique axis\u001B[39;00m\n\u001B[0;32m   4315\u001B[0m \u001B[38;5;28;01melse\u001B[39;00m:\n",
      "File \u001B[1;32m~\\anaconda3\\lib\\site-packages\\pandas\\core\\indexes\\multi.py:2234\u001B[0m, in \u001B[0;36mMultiIndex.drop\u001B[1;34m(self, codes, level, errors)\u001B[0m\n\u001B[0;32m   2232\u001B[0m \u001B[38;5;28;01mfor\u001B[39;00m level_codes \u001B[38;5;129;01min\u001B[39;00m codes:\n\u001B[0;32m   2233\u001B[0m     \u001B[38;5;28;01mtry\u001B[39;00m:\n\u001B[1;32m-> 2234\u001B[0m         loc \u001B[38;5;241m=\u001B[39m \u001B[38;5;28;43mself\u001B[39;49m\u001B[38;5;241;43m.\u001B[39;49m\u001B[43mget_loc\u001B[49m\u001B[43m(\u001B[49m\u001B[43mlevel_codes\u001B[49m\u001B[43m)\u001B[49m\n\u001B[0;32m   2235\u001B[0m         \u001B[38;5;66;03m# get_loc returns either an integer, a slice, or a boolean\u001B[39;00m\n\u001B[0;32m   2236\u001B[0m         \u001B[38;5;66;03m# mask\u001B[39;00m\n\u001B[0;32m   2237\u001B[0m         \u001B[38;5;28;01mif\u001B[39;00m \u001B[38;5;28misinstance\u001B[39m(loc, \u001B[38;5;28mint\u001B[39m):\n",
      "File \u001B[1;32m~\\anaconda3\\lib\\site-packages\\pandas\\core\\indexes\\multi.py:2869\u001B[0m, in \u001B[0;36mMultiIndex.get_loc\u001B[1;34m(self, key, method)\u001B[0m\n\u001B[0;32m   2866\u001B[0m     \u001B[38;5;28;01mreturn\u001B[39;00m mask\n\u001B[0;32m   2868\u001B[0m \u001B[38;5;28;01mif\u001B[39;00m \u001B[38;5;129;01mnot\u001B[39;00m \u001B[38;5;28misinstance\u001B[39m(key, \u001B[38;5;28mtuple\u001B[39m):\n\u001B[1;32m-> 2869\u001B[0m     loc \u001B[38;5;241m=\u001B[39m \u001B[38;5;28;43mself\u001B[39;49m\u001B[38;5;241;43m.\u001B[39;49m\u001B[43m_get_level_indexer\u001B[49m\u001B[43m(\u001B[49m\u001B[43mkey\u001B[49m\u001B[43m,\u001B[49m\u001B[43m \u001B[49m\u001B[43mlevel\u001B[49m\u001B[38;5;241;43m=\u001B[39;49m\u001B[38;5;241;43m0\u001B[39;49m\u001B[43m)\u001B[49m\n\u001B[0;32m   2870\u001B[0m     \u001B[38;5;28;01mreturn\u001B[39;00m _maybe_to_slice(loc)\n\u001B[0;32m   2872\u001B[0m keylen \u001B[38;5;241m=\u001B[39m \u001B[38;5;28mlen\u001B[39m(key)\n",
      "File \u001B[1;32m~\\anaconda3\\lib\\site-packages\\pandas\\core\\indexes\\multi.py:3249\u001B[0m, in \u001B[0;36mMultiIndex._get_level_indexer\u001B[1;34m(self, key, level, indexer)\u001B[0m\n\u001B[0;32m   3245\u001B[0m     end \u001B[38;5;241m=\u001B[39m level_codes\u001B[38;5;241m.\u001B[39msearchsorted(idx, side\u001B[38;5;241m=\u001B[39m\u001B[38;5;124m\"\u001B[39m\u001B[38;5;124mright\u001B[39m\u001B[38;5;124m\"\u001B[39m)\n\u001B[0;32m   3247\u001B[0m \u001B[38;5;28;01mif\u001B[39;00m start \u001B[38;5;241m==\u001B[39m end:\n\u001B[0;32m   3248\u001B[0m     \u001B[38;5;66;03m# The label is present in self.levels[level] but unused:\u001B[39;00m\n\u001B[1;32m-> 3249\u001B[0m     \u001B[38;5;28;01mraise\u001B[39;00m \u001B[38;5;167;01mKeyError\u001B[39;00m(key)\n\u001B[0;32m   3250\u001B[0m \u001B[38;5;28;01mreturn\u001B[39;00m \u001B[38;5;28mslice\u001B[39m(start, end)\n",
      "\u001B[1;31mKeyError\u001B[0m: 'length'"
     ]
    }
   ],
   "source": [
    "user_groupby.drop(columns=['length','special_chars'], inplace=True)"
   ]
  },
  {
   "cell_type": "code",
   "execution_count": 83,
   "outputs": [],
   "source": [
    "colz = list(user_groupby.columns.map('_'.join).str.strip('_'))"
   ],
   "metadata": {
    "collapsed": false
   }
  },
  {
   "cell_type": "code",
   "execution_count": 84,
   "metadata": {
    "id": "E6JThliQu5bt"
   },
   "outputs": [],
   "source": [
    "df_indicators[colz] = user_groupby.values"
   ]
  },
  {
   "cell_type": "code",
   "execution_count": 85,
   "metadata": {
    "colab": {
     "base_uri": "https://localhost:8080/",
     "height": 488
    },
    "id": "Sh7MijnIu5bu",
    "outputId": "2bc4c44c-c677-4998-da16-2b2deadd747d"
   },
   "outputs": [
    {
     "data": {
      "text/plain": "user_id                                     zzza\nn_tweets                                    3447\n2012_tweets                                    7\n2013_tweets                                  169\n2014_tweets                                  885\n2015_tweets                                 1697\n2016_tweets                                 2824\n2017_tweets                                 3250\n2018_tweets                                 3202\n2019_tweets                                 3360\n2020_tweets                                 3350\nmean_length                                365.0\nmean_special_chars                         213.0\ncreated_at_conv_mean       1588500732000000000.0\ncreated_at_conv_std         132553602926447472.0\ncreated_at_conv_entropy              1228.368088\nretweet_count_mean                      449743.0\nretweet_count_std                  151907.042696\nretweet_count_entropy                   8.094378\nreply_count_mean                        818137.0\nreply_count_std                      2571.240268\nreply_count_entropy                     4.744932\nfavorite_count_mean                      71000.0\nfavorite_count_std                  47828.452449\nfavorite_count_entropy                  8.091933\nnum_hashtags_mean                           14.0\nnum_hashtags_std                       11.103618\nnum_hashtags_entropy                     8.03625\nnum_urls_mean                               18.0\nnum_urls_std                            2.690075\nnum_urls_entropy                         8.10132\nnum_mentions_mean                           11.0\nnum_mentions_std                        7.300246\nnum_mentions_entropy                    8.023161\ndtype: object"
     },
     "execution_count": 85,
     "metadata": {},
     "output_type": "execute_result"
    }
   ],
   "source": [
    "df_indicators.max()"
   ]
  },
  {
   "cell_type": "markdown",
   "metadata": {
    "id": "_yylOrtau5bu"
   },
   "source": [
    "# Tweeting regularity\n",
    "We want an indicator that can tell us if the user has a certain regularity in the publication.\n",
    "We define the tweeting regularity of a user as:\n",
    "$$ Var( \\{\\ timestamp_i - timestamp_j\\ |\\ j = i + 1 \\} )$$"
   ]
  },
  {
   "cell_type": "code",
   "execution_count": 86,
   "metadata": {
    "colab": {
     "base_uri": "https://localhost:8080/",
     "height": 400
    },
    "id": "bB4x0Op1u5bv",
    "outputId": "253a3bed-5413-4204-8222-a5096a47af31"
   },
   "outputs": [],
   "source": [
    "def tweeting_regularity(user_timestamps):\n",
    "\n",
    "    user_timestamps = user_timestamps.values\n",
    "\n",
    "    if(len(user_timestamps) == 1):\n",
    "        return -1\n",
    "\n",
    "    user_timestamps.sort()\n",
    "    diffs = []\n",
    "    for i in range(1,len(user_timestamps)):\n",
    "        diffs.append(user_timestamps[i]-user_timestamps[i-1])\n",
    "    diffs = np.array(diffs)\n",
    "    return diffs.var()\n",
    "\n",
    "df_indicators['tweeting_regularity'] = df_tweets.groupby('user_id').agg({'created_at_conv': tweeting_regularity}).values"
   ]
  },
  {
   "cell_type": "markdown",
   "source": [
    "# Maximum number of tweets in a day by user"
   ],
   "metadata": {
    "id": "Oy7KamoRwkvw"
   }
  },
  {
   "cell_type": "markdown",
   "source": [
    "Add new column which represents the date as the number of the day in the year (e.g. 1st of Janueary would be 1, 2nd of January would be 2, [...], 31st of December would be 365 or 366) concatenated to the year.\n",
    "For example, 2nd of January of 2019 would be \"2_2019\"."
   ],
   "metadata": {
    "id": "XPjdz1Db3DUB"
   }
  },
  {
   "cell_type": "code",
   "source": [
    "df_tweets['day_of_year'] = pd.DatetimeIndex(df_tweets.created_at).day_of_year.map(str) + \"_\" + pd.DatetimeIndex(df_tweets.created_at).year.map(str)"
   ],
   "metadata": {
    "id": "FvoLCDTDwoix"
   },
   "execution_count": 87,
   "outputs": []
  },
  {
   "cell_type": "code",
   "source": [
    "df_tweets['day_of_year']"
   ],
   "metadata": {
    "colab": {
     "base_uri": "https://localhost:8080/"
    },
    "id": "BCvgKQpFAwJL",
    "outputId": "377f07e5-7dff-4279-e065-4ecc128c71ab"
   },
   "execution_count": 88,
   "outputs": [
    {
     "data": {
      "text/plain": "0           254_2019\n1            92_2020\n2           122_2019\n3           308_2019\n4            71_2020\n              ...   \n10187868    116_2019\n10187869    108_2020\n10187870    192_2016\n10187871     66_2019\n10187872    191_2019\nName: day_of_year, Length: 10187873, dtype: object"
     },
     "execution_count": 88,
     "metadata": {},
     "output_type": "execute_result"
    }
   ]
  },
  {
   "cell_type": "code",
   "source": [
    "user_date_groupby = pd.DataFrame({'n_tweets_by_day' : df_tweets.groupby( [ 'user_id', 'day_of_year'] ).size()}).reset_index()"
   ],
   "metadata": {
    "id": "DTlXnlHJ9y5z"
   },
   "execution_count": 89,
   "outputs": []
  },
  {
   "cell_type": "code",
   "source": [
    "user_date_groupby"
   ],
   "metadata": {
    "colab": {
     "base_uri": "https://localhost:8080/",
     "height": 424
    },
    "id": "PTxryXW__Nzc",
    "outputId": "449b43c5-08e6-4f7b-c693-5b0438a0d7c0"
   },
   "execution_count": 34,
   "outputs": [
    {
     "data": {
      "text/plain": "         user_id day_of_year  n_tweets_by_day\n0          000vk    118_2020                1\n1        0013tom     99_2018                1\n2          001gi     98_2020                1\n3          001rx     70_2020                1\n4         00201f     43_2019                1\n...          ...         ...              ...\n1151381     zzyb    306_2019                1\n1151382    zzyd6    170_2019                1\n1151383    zzyyu     88_2020                1\n1151384    zzz9v    106_2019                1\n1151385     zzza     20_2020                1\n\n[1151386 rows x 3 columns]",
      "text/html": "<div>\n<style scoped>\n    .dataframe tbody tr th:only-of-type {\n        vertical-align: middle;\n    }\n\n    .dataframe tbody tr th {\n        vertical-align: top;\n    }\n\n    .dataframe thead th {\n        text-align: right;\n    }\n</style>\n<table border=\"1\" class=\"dataframe\">\n  <thead>\n    <tr style=\"text-align: right;\">\n      <th></th>\n      <th>user_id</th>\n      <th>day_of_year</th>\n      <th>n_tweets_by_day</th>\n    </tr>\n  </thead>\n  <tbody>\n    <tr>\n      <th>0</th>\n      <td>000vk</td>\n      <td>118_2020</td>\n      <td>1</td>\n    </tr>\n    <tr>\n      <th>1</th>\n      <td>0013tom</td>\n      <td>99_2018</td>\n      <td>1</td>\n    </tr>\n    <tr>\n      <th>2</th>\n      <td>001gi</td>\n      <td>98_2020</td>\n      <td>1</td>\n    </tr>\n    <tr>\n      <th>3</th>\n      <td>001rx</td>\n      <td>70_2020</td>\n      <td>1</td>\n    </tr>\n    <tr>\n      <th>4</th>\n      <td>00201f</td>\n      <td>43_2019</td>\n      <td>1</td>\n    </tr>\n    <tr>\n      <th>...</th>\n      <td>...</td>\n      <td>...</td>\n      <td>...</td>\n    </tr>\n    <tr>\n      <th>1151381</th>\n      <td>zzyb</td>\n      <td>306_2019</td>\n      <td>1</td>\n    </tr>\n    <tr>\n      <th>1151382</th>\n      <td>zzyd6</td>\n      <td>170_2019</td>\n      <td>1</td>\n    </tr>\n    <tr>\n      <th>1151383</th>\n      <td>zzyyu</td>\n      <td>88_2020</td>\n      <td>1</td>\n    </tr>\n    <tr>\n      <th>1151384</th>\n      <td>zzz9v</td>\n      <td>106_2019</td>\n      <td>1</td>\n    </tr>\n    <tr>\n      <th>1151385</th>\n      <td>zzza</td>\n      <td>20_2020</td>\n      <td>1</td>\n    </tr>\n  </tbody>\n</table>\n<p>1151386 rows × 3 columns</p>\n</div>"
     },
     "execution_count": 34,
     "metadata": {},
     "output_type": "execute_result"
    }
   ]
  },
  {
   "cell_type": "code",
   "source": [
    "# Maximum number of tweets in a day\n",
    "user_date_groupby[user_date_groupby['n_tweets_by_day'] == user_date_groupby['n_tweets_by_day'].max()]"
   ],
   "metadata": {
    "colab": {
     "base_uri": "https://localhost:8080/",
     "height": 81
    },
    "id": "UcUIhcLp995i",
    "outputId": "915aec8a-5ebb-489a-9158-666109f46970"
   },
   "execution_count": 35,
   "outputs": [
    {
     "data": {
      "text/plain": "          user_id day_of_year  n_tweets_by_day\n778142  492649414    115_2020             3238",
      "text/html": "<div>\n<style scoped>\n    .dataframe tbody tr th:only-of-type {\n        vertical-align: middle;\n    }\n\n    .dataframe tbody tr th {\n        vertical-align: top;\n    }\n\n    .dataframe thead th {\n        text-align: right;\n    }\n</style>\n<table border=\"1\" class=\"dataframe\">\n  <thead>\n    <tr style=\"text-align: right;\">\n      <th></th>\n      <th>user_id</th>\n      <th>day_of_year</th>\n      <th>n_tweets_by_day</th>\n    </tr>\n  </thead>\n  <tbody>\n    <tr>\n      <th>778142</th>\n      <td>492649414</td>\n      <td>115_2020</td>\n      <td>3238</td>\n    </tr>\n  </tbody>\n</table>\n</div>"
     },
     "execution_count": 35,
     "metadata": {},
     "output_type": "execute_result"
    }
   ]
  },
  {
   "cell_type": "markdown",
   "source": [
    "Identify maximum number of tweets posted in a day for each user."
   ],
   "metadata": {
    "id": "X7_I07GIAPkK"
   }
  },
  {
   "cell_type": "code",
   "source": [
    "df_indicators['max_daily_tweets'] = user_date_groupby.groupby(by=['user_id']).agg({'n_tweets_by_day':max}).values"
   ],
   "metadata": {
    "id": "7i0AlSUOAB61"
   },
   "execution_count": 90,
   "outputs": []
  },
  {
   "cell_type": "markdown",
   "source": [
    "# File Checkpoint"
   ],
   "metadata": {
    "id": "sqXcYC-eTIow"
   }
  },
  {
   "cell_type": "code",
   "source": [
    "df_tweets.to_csv(path_or_buf=DATA_PATH+'tweets_with_indicators.csv', sep='#', index=False)"
   ],
   "metadata": {
    "id": "Sli4LT8lTLcS"
   },
   "execution_count": 37,
   "outputs": []
  },
  {
   "cell_type": "code",
   "source": [
    "df_indicators.to_csv(path_or_buf=DATA_PATH+'indicators.csv', sep='#', index=False)"
   ],
   "metadata": {
    "id": "4l-lOH-4TKE3"
   },
   "execution_count": 38,
   "outputs": []
  }
 ],
 "metadata": {
  "colab": {
   "provenance": []
  },
  "kernelspec": {
   "display_name": "Python 3",
   "language": "python",
   "name": "python3"
  },
  "language_info": {
   "codemirror_mode": {
    "name": "ipython",
    "version": 3
   },
   "file_extension": ".py",
   "mimetype": "text/x-python",
   "name": "python",
   "nbconvert_exporter": "python",
   "pygments_lexer": "ipython3",
   "version": "3.9.5"
  }
 },
 "nbformat": 4,
 "nbformat_minor": 0
}
