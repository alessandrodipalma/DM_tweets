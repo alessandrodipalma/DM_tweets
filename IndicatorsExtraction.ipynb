{
 "cells": [
  {
   "cell_type": "code",
   "execution_count": 5,
   "metadata": {
    "id": "UdaG28i6DemV"
   },
   "outputs": [],
   "source": [
    "import pandas as pd\n",
    "import math\n",
    "import numpy as np\n",
    "from matplotlib import pyplot as plt\n",
    "from numpy import logical_and as land, logical_or as lor\n",
    "import re"
   ]
  },
  {
   "cell_type": "code",
   "execution_count": 32,
   "metadata": {
    "colab": {
     "base_uri": "https://localhost:8080/"
    },
    "id": "F1YLtIC5u5aT",
    "outputId": "76b2547e-a87e-4061-c2d6-38e5e687ac64"
   },
   "outputs": [
    {
     "ename": "ModuleNotFoundError",
     "evalue": "No module named 'google'",
     "output_type": "error",
     "traceback": [
      "\u001B[1;31m---------------------------------------------------------------------------\u001B[0m",
      "\u001B[1;31mModuleNotFoundError\u001B[0m                       Traceback (most recent call last)",
      "Cell \u001B[1;32mIn [32], line 1\u001B[0m\n\u001B[1;32m----> 1\u001B[0m \u001B[38;5;28;01mfrom\u001B[39;00m \u001B[38;5;21;01mgoogle\u001B[39;00m\u001B[38;5;21;01m.\u001B[39;00m\u001B[38;5;21;01mcolab\u001B[39;00m \u001B[38;5;28;01mimport\u001B[39;00m drive\n\u001B[0;32m      2\u001B[0m drive\u001B[38;5;241m.\u001B[39mmount(\u001B[38;5;124m'\u001B[39m\u001B[38;5;124m/content/drive\u001B[39m\u001B[38;5;124m'\u001B[39m)\n\u001B[0;32m      4\u001B[0m DATA_PATH \u001B[38;5;241m=\u001B[39m \u001B[38;5;124m'\u001B[39m\u001B[38;5;124m/content/drive/MyDrive/\u001B[39m\u001B[38;5;124m'\u001B[39m\n",
      "\u001B[1;31mModuleNotFoundError\u001B[0m: No module named 'google'"
     ]
    }
   ],
   "source": [
    "from google.colab import drive\n",
    "drive.mount('/content/drive')\n",
    "\n",
    "DATA_PATH = '/content/drive/MyDrive/'"
   ]
  },
  {
   "cell_type": "code",
   "execution_count": 33,
   "metadata": {
    "id": "N_nDFZ6fu5aW"
   },
   "outputs": [],
   "source": [
    "DATA_PATH = 'G:/Shared drives/DM_tweets/data/'"
   ]
  },
  {
   "cell_type": "code",
   "execution_count": 6,
   "outputs": [],
   "source": [
    "DATA_PATH = 'G:/Drive condivisi/DM_tweets/data/'"
   ],
   "metadata": {
    "collapsed": false
   }
  },
  {
   "cell_type": "code",
   "execution_count": 7,
   "metadata": {
    "id": "vMsGADALDemY"
   },
   "outputs": [],
   "source": [
    "df_tweets = pd.read_csv(DATA_PATH+'tweets_clean.csv', sep='#')\n",
    "df_users = pd.read_csv(DATA_PATH+'users_clean.csv', sep='#')"
   ]
  },
  {
   "cell_type": "code",
   "execution_count": 8,
   "metadata": {
    "id": "vC8TKZKDDemZ"
   },
   "outputs": [],
   "source": [
    "def plot_hist(dataframe, attribute_name, log=False):\n",
    "    df = pd.DataFrame()\n",
    "\n",
    "    if log:\n",
    "        log_attribute_name = attribute_name+'_log'\n",
    "        df[log_attribute_name] = np.log(dataframe[attribute_name].values)\n",
    "\n",
    "        attribute_name = log_attribute_name\n",
    "        df[attribute_name] = df[attribute_name].replace(-np.inf, 0)\n",
    "\n",
    "    else:\n",
    "        df[attribute_name] = dataframe[attribute_name].values\n",
    "    n_bins = math.ceil(np.log2(len(df[attribute_name])) + 1) #Sturges' rule\n",
    "    df.hist(attribute_name, bins = n_bins, log=True)"
   ]
  },
  {
   "cell_type": "code",
   "execution_count": 9,
   "metadata": {
    "id": "AD_dtmlPDemb"
   },
   "outputs": [],
   "source": [
    "def plot_boxplot(df,col,log=False):\n",
    "    #Plot the distribution of the indicated column\n",
    "    plt.boxplot(df_tweets[df[col] != -1.0][col], showmeans=True)\n",
    "    if log:\n",
    "        plt.yscale('log')\n",
    "    plt.show()"
   ]
  },
  {
   "cell_type": "markdown",
   "metadata": {
    "id": "wWDOasR9Demf"
   },
   "source": [
    "# How many tweets were published by the user?"
   ]
  },
  {
   "cell_type": "code",
   "execution_count": 10,
   "metadata": {
    "id": "YYg7J0ERPnBU"
   },
   "outputs": [],
   "source": [
    "df_indicators = pd.DataFrame({'n_tweets' : df_tweets.groupby(['user_id'] ).size()}).reset_index()"
   ]
  },
  {
   "cell_type": "code",
   "execution_count": 11,
   "metadata": {
    "id": "xCwssG6-Py82",
    "colab": {
     "base_uri": "https://localhost:8080/",
     "height": 424
    },
    "outputId": "015c9649-3bea-47bc-fcfb-5c0399b1009d"
   },
   "outputs": [
    {
     "data": {
      "text/plain": "        user_id  n_tweets\n0         000vk         1\n1       0013tom         1\n2         001gi         1\n3         001rx         1\n4        00201f         1\n...         ...       ...\n140538     zzyb         1\n140539    zzyd6         1\n140540    zzyyu         1\n140541    zzz9v         1\n140542     zzza         1\n\n[140543 rows x 2 columns]",
      "text/html": "<div>\n<style scoped>\n    .dataframe tbody tr th:only-of-type {\n        vertical-align: middle;\n    }\n\n    .dataframe tbody tr th {\n        vertical-align: top;\n    }\n\n    .dataframe thead th {\n        text-align: right;\n    }\n</style>\n<table border=\"1\" class=\"dataframe\">\n  <thead>\n    <tr style=\"text-align: right;\">\n      <th></th>\n      <th>user_id</th>\n      <th>n_tweets</th>\n    </tr>\n  </thead>\n  <tbody>\n    <tr>\n      <th>0</th>\n      <td>000vk</td>\n      <td>1</td>\n    </tr>\n    <tr>\n      <th>1</th>\n      <td>0013tom</td>\n      <td>1</td>\n    </tr>\n    <tr>\n      <th>2</th>\n      <td>001gi</td>\n      <td>1</td>\n    </tr>\n    <tr>\n      <th>3</th>\n      <td>001rx</td>\n      <td>1</td>\n    </tr>\n    <tr>\n      <th>4</th>\n      <td>00201f</td>\n      <td>1</td>\n    </tr>\n    <tr>\n      <th>...</th>\n      <td>...</td>\n      <td>...</td>\n    </tr>\n    <tr>\n      <th>140538</th>\n      <td>zzyb</td>\n      <td>1</td>\n    </tr>\n    <tr>\n      <th>140539</th>\n      <td>zzyd6</td>\n      <td>1</td>\n    </tr>\n    <tr>\n      <th>140540</th>\n      <td>zzyyu</td>\n      <td>1</td>\n    </tr>\n    <tr>\n      <th>140541</th>\n      <td>zzz9v</td>\n      <td>1</td>\n    </tr>\n    <tr>\n      <th>140542</th>\n      <td>zzza</td>\n      <td>1</td>\n    </tr>\n  </tbody>\n</table>\n<p>140543 rows × 2 columns</p>\n</div>"
     },
     "execution_count": 11,
     "metadata": {},
     "output_type": "execute_result"
    }
   ],
   "source": [
    "df_indicators"
   ]
  },
  {
   "cell_type": "markdown",
   "metadata": {
    "id": "qjNQwuEJDemm"
   },
   "source": [
    "# How many tweets are published by the user in a given period of time?"
   ]
  },
  {
   "cell_type": "code",
   "execution_count": 12,
   "metadata": {
    "colab": {
     "base_uri": "https://localhost:8080/",
     "height": 424
    },
    "id": "XUSA_hvSUSdi",
    "outputId": "86796cc1-6653-4fba-f03d-7e9c349b05e0"
   },
   "outputs": [
    {
     "data": {
      "text/plain": "        user_id  n_tweets  2012_tweets  2013_tweets  2014_tweets  2015_tweets  \\\n0         000vk         1            0            0            0            0   \n1       0013tom         1            0            0            0            0   \n2         001gi         1            0            0            0            0   \n3         001rx         1            0            0            0            0   \n4        00201f         1            0            0            0            0   \n...         ...       ...          ...          ...          ...          ...   \n140538     zzyb         1            0            0            0            0   \n140539    zzyd6         1            0            0            0            0   \n140540    zzyyu         1            0            0            0            0   \n140541    zzz9v         1            0            0            0            0   \n140542     zzza         1            0            0            0            0   \n\n        2016_tweets  2017_tweets  2018_tweets  2019_tweets  2020_tweets  \n0                 0            0            0            0            0  \n1                 0            0            0            0            0  \n2                 0            0            0            0            0  \n3                 0            0            0            0            0  \n4                 0            0            0            0            0  \n...             ...          ...          ...          ...          ...  \n140538            0            0            0            0            0  \n140539            0            0            0            0            0  \n140540            0            0            0            0            0  \n140541            0            0            0            0            0  \n140542            0            0            0            0            0  \n\n[140543 rows x 11 columns]",
      "text/html": "<div>\n<style scoped>\n    .dataframe tbody tr th:only-of-type {\n        vertical-align: middle;\n    }\n\n    .dataframe tbody tr th {\n        vertical-align: top;\n    }\n\n    .dataframe thead th {\n        text-align: right;\n    }\n</style>\n<table border=\"1\" class=\"dataframe\">\n  <thead>\n    <tr style=\"text-align: right;\">\n      <th></th>\n      <th>user_id</th>\n      <th>n_tweets</th>\n      <th>2012_tweets</th>\n      <th>2013_tweets</th>\n      <th>2014_tweets</th>\n      <th>2015_tweets</th>\n      <th>2016_tweets</th>\n      <th>2017_tweets</th>\n      <th>2018_tweets</th>\n      <th>2019_tweets</th>\n      <th>2020_tweets</th>\n    </tr>\n  </thead>\n  <tbody>\n    <tr>\n      <th>0</th>\n      <td>000vk</td>\n      <td>1</td>\n      <td>0</td>\n      <td>0</td>\n      <td>0</td>\n      <td>0</td>\n      <td>0</td>\n      <td>0</td>\n      <td>0</td>\n      <td>0</td>\n      <td>0</td>\n    </tr>\n    <tr>\n      <th>1</th>\n      <td>0013tom</td>\n      <td>1</td>\n      <td>0</td>\n      <td>0</td>\n      <td>0</td>\n      <td>0</td>\n      <td>0</td>\n      <td>0</td>\n      <td>0</td>\n      <td>0</td>\n      <td>0</td>\n    </tr>\n    <tr>\n      <th>2</th>\n      <td>001gi</td>\n      <td>1</td>\n      <td>0</td>\n      <td>0</td>\n      <td>0</td>\n      <td>0</td>\n      <td>0</td>\n      <td>0</td>\n      <td>0</td>\n      <td>0</td>\n      <td>0</td>\n    </tr>\n    <tr>\n      <th>3</th>\n      <td>001rx</td>\n      <td>1</td>\n      <td>0</td>\n      <td>0</td>\n      <td>0</td>\n      <td>0</td>\n      <td>0</td>\n      <td>0</td>\n      <td>0</td>\n      <td>0</td>\n      <td>0</td>\n    </tr>\n    <tr>\n      <th>4</th>\n      <td>00201f</td>\n      <td>1</td>\n      <td>0</td>\n      <td>0</td>\n      <td>0</td>\n      <td>0</td>\n      <td>0</td>\n      <td>0</td>\n      <td>0</td>\n      <td>0</td>\n      <td>0</td>\n    </tr>\n    <tr>\n      <th>...</th>\n      <td>...</td>\n      <td>...</td>\n      <td>...</td>\n      <td>...</td>\n      <td>...</td>\n      <td>...</td>\n      <td>...</td>\n      <td>...</td>\n      <td>...</td>\n      <td>...</td>\n      <td>...</td>\n    </tr>\n    <tr>\n      <th>140538</th>\n      <td>zzyb</td>\n      <td>1</td>\n      <td>0</td>\n      <td>0</td>\n      <td>0</td>\n      <td>0</td>\n      <td>0</td>\n      <td>0</td>\n      <td>0</td>\n      <td>0</td>\n      <td>0</td>\n    </tr>\n    <tr>\n      <th>140539</th>\n      <td>zzyd6</td>\n      <td>1</td>\n      <td>0</td>\n      <td>0</td>\n      <td>0</td>\n      <td>0</td>\n      <td>0</td>\n      <td>0</td>\n      <td>0</td>\n      <td>0</td>\n      <td>0</td>\n    </tr>\n    <tr>\n      <th>140540</th>\n      <td>zzyyu</td>\n      <td>1</td>\n      <td>0</td>\n      <td>0</td>\n      <td>0</td>\n      <td>0</td>\n      <td>0</td>\n      <td>0</td>\n      <td>0</td>\n      <td>0</td>\n      <td>0</td>\n    </tr>\n    <tr>\n      <th>140541</th>\n      <td>zzz9v</td>\n      <td>1</td>\n      <td>0</td>\n      <td>0</td>\n      <td>0</td>\n      <td>0</td>\n      <td>0</td>\n      <td>0</td>\n      <td>0</td>\n      <td>0</td>\n      <td>0</td>\n    </tr>\n    <tr>\n      <th>140542</th>\n      <td>zzza</td>\n      <td>1</td>\n      <td>0</td>\n      <td>0</td>\n      <td>0</td>\n      <td>0</td>\n      <td>0</td>\n      <td>0</td>\n      <td>0</td>\n      <td>0</td>\n      <td>0</td>\n    </tr>\n  </tbody>\n</table>\n<p>140543 rows × 11 columns</p>\n</div>"
     },
     "execution_count": 12,
     "metadata": {},
     "output_type": "execute_result"
    }
   ],
   "source": [
    "for y in range(2012, 2021):\n",
    "  df_indicators[str(y) + \"_tweets\"] = 0\n",
    "\n",
    "df_indicators"
   ]
  },
  {
   "cell_type": "code",
   "execution_count": 13,
   "metadata": {
    "id": "4B6nfNkG6EGR"
   },
   "outputs": [],
   "source": [
    "for y in range(2012,2021):\n",
    "  # Filter all tweets published in a certain year\n",
    "  tweets_by_y = df_tweets[land(df_tweets['created_at'] >= (str(y)+\"-01-01\"), \n",
    "                               df_tweets['created_at'] <= (str(y)+\"-12-31\"))][['user_id','created_at']]\n",
    "\n",
    "  # Count tweets of users in that year\n",
    "  gby = pd.DataFrame({'n_tweets' : tweets_by_y.groupby( [ 'user_id'] ).size()}).reset_index()\n",
    "  \n",
    "  # Transform it in a dictionary\n",
    "  gby = dict(zip(gby.user_id, gby.n_tweets))\n",
    "\n",
    "  #print(gby)\n",
    "\n",
    "  # Select users to modify and update them\n",
    "  df_indicators.loc[df_indicators['user_id'].isin(gby.keys()), str(y)+'_tweets'] = list(gby.values())\n",
    "\n",
    "  #print(df_indicators[df_indicators['user_id'].isin(gby.keys())][str(y)+'_tweets'])\n"
   ]
  },
  {
   "cell_type": "code",
   "execution_count": 14,
   "metadata": {
    "colab": {
     "base_uri": "https://localhost:8080/",
     "height": 288
    },
    "id": "ioXJYoU3GKua",
    "outputId": "6f392742-294a-4fd3-ae52-3226f5004f69"
   },
   "outputs": [
    {
     "data": {
      "text/plain": "<BarContainer object of 9 artists>"
     },
     "execution_count": 14,
     "metadata": {},
     "output_type": "execute_result"
    },
    {
     "data": {
      "text/plain": "<Figure size 640x480 with 1 Axes>",
      "image/png": "[encoded data removed]"
     },
     "metadata": {},
     "output_type": "display_data"
    }
   ],
   "source": [
    "years_col_list = [str(y)+'_tweets' for y in range(2012,2021)]\n",
    "sum_list = [df_indicators[y].sum() for y in years_col_list]\n",
    "plt.bar(range(2012,2021), sum_list, log=True)"
   ]
  },
  {
   "cell_type": "markdown",
   "metadata": {
    "id": "XutbYjj4Demn"
   },
   "source": [
    "# Total number of tweets"
   ]
  },
  {
   "cell_type": "code",
   "execution_count": 15,
   "metadata": {
    "colab": {
     "base_uri": "https://localhost:8080/"
    },
    "id": "JLMPYko4Demo",
    "outputId": "5c77634b-5479-4236-e26a-d5e931994449"
   },
   "outputs": [
    {
     "data": {
      "text/plain": "10187873"
     },
     "execution_count": 15,
     "metadata": {},
     "output_type": "execute_result"
    }
   ],
   "source": [
    "tot_n_tweets = df_tweets.shape[0]\n",
    "tot_n_tweets"
   ]
  },
  {
   "cell_type": "markdown",
   "metadata": {
    "id": "-ueowDSZDemo"
   },
   "source": [
    "# Total number of likes and comments and retweets"
   ]
  },
  {
   "cell_type": "code",
   "execution_count": 16,
   "metadata": {
    "id": "9V70NbwTDemo",
    "colab": {
     "base_uri": "https://localhost:8080/"
    },
    "outputId": "723cf098-18d4-475e-80d2-bee1bc82dc2d"
   },
   "outputs": [
    {
     "data": {
      "text/plain": "6086511"
     },
     "execution_count": 16,
     "metadata": {},
     "output_type": "execute_result"
    }
   ],
   "source": [
    "total_favorite = df_tweets.favorite_count.sum()\n",
    "total_favorite"
   ]
  },
  {
   "cell_type": "code",
   "execution_count": 17,
   "metadata": {
    "colab": {
     "base_uri": "https://localhost:8080/"
    },
    "id": "gViEzCUfu5bV",
    "outputId": "076bad49-a9a6-45c2-8b43-202d3dcadea5"
   },
   "outputs": [
    {
     "data": {
      "text/plain": "68390"
     },
     "execution_count": 17,
     "metadata": {},
     "output_type": "execute_result"
    }
   ],
   "source": [
    "total_replies = df_tweets.reply_count.sum()\n",
    "total_replies"
   ]
  },
  {
   "cell_type": "code",
   "execution_count": 18,
   "metadata": {
    "colab": {
     "base_uri": "https://localhost:8080/"
    },
    "id": "XGDo5XTVu5bW",
    "outputId": "07e61e1a-b097-46b6-cc2e-500d9500529e"
   },
   "outputs": [
    {
     "data": {
      "text/plain": "629579008"
     },
     "execution_count": 18,
     "metadata": {},
     "output_type": "execute_result"
    }
   ],
   "source": [
    "total_retweets = df_tweets.retweet_count.sum()\n",
    "total_retweets"
   ]
  },
  {
   "cell_type": "markdown",
   "metadata": {
    "id": "4V_-fI2ADemp"
   },
   "source": [
    "# Ratio between the number of tweets and the number of likes"
   ]
  },
  {
   "cell_type": "code",
   "execution_count": 19,
   "metadata": {
    "id": "t4EaaWZHDemp",
    "colab": {
     "base_uri": "https://localhost:8080/"
    },
    "outputId": "75153783-5fa2-4b44-de29-807861b6b305"
   },
   "outputs": [
    {
     "data": {
      "text/plain": "1.6738445063189733"
     },
     "execution_count": 19,
     "metadata": {},
     "output_type": "execute_result"
    }
   ],
   "source": [
    "ratio_tweets_fav = len(df_tweets) / total_favorite\n",
    "ratio_tweets_fav"
   ]
  },
  {
   "cell_type": "markdown",
   "metadata": {
    "id": "FPVCS_rmu5bb"
   },
   "source": [
    "## Ratio between the number of tweets and the number of retweets"
   ]
  },
  {
   "cell_type": "code",
   "execution_count": 20,
   "metadata": {
    "colab": {
     "base_uri": "https://localhost:8080/"
    },
    "id": "Gs9UoA5Hu5bb",
    "outputId": "9f9dd19d-a47f-465c-f8cb-ef744afe16e0"
   },
   "outputs": [
    {
     "data": {
      "text/plain": "0.01618204049141359"
     },
     "execution_count": 20,
     "metadata": {},
     "output_type": "execute_result"
    }
   ],
   "source": [
    "ratio_tweets_rt = len(df_tweets) / total_retweets\n",
    "ratio_tweets_rt"
   ]
  },
  {
   "cell_type": "markdown",
   "metadata": {
    "id": "kdQmI9_au5bc"
   },
   "source": [
    "## Ratio between the number of tweets and the number of comments"
   ]
  },
  {
   "cell_type": "code",
   "execution_count": 21,
   "metadata": {
    "colab": {
     "base_uri": "https://localhost:8080/"
    },
    "id": "ribfIBKRu5bd",
    "outputId": "372b33d0-87a8-4d6d-f7d2-606d57e11422"
   },
   "outputs": [
    {
     "data": {
      "text/plain": "148.96729053955258"
     },
     "execution_count": 21,
     "metadata": {},
     "output_type": "execute_result"
    }
   ],
   "source": [
    "ratio_tweets_replies = len(df_tweets) / total_replies\n",
    "ratio_tweets_replies"
   ]
  },
  {
   "cell_type": "markdown",
   "metadata": {
    "id": "WthSszCZDemq"
   },
   "source": [
    "# Average length of the tweets per user"
   ]
  },
  {
   "cell_type": "code",
   "execution_count": 22,
   "metadata": {
    "id": "aYUNmfPdDemr"
   },
   "outputs": [],
   "source": [
    "df_tweets['length'] = df_tweets.text.astype(str).apply(len)"
   ]
  },
  {
   "cell_type": "code",
   "execution_count": 23,
   "metadata": {
    "colab": {
     "base_uri": "https://localhost:8080/",
     "height": 282
    },
    "id": "ba9o6NPzu5bi",
    "outputId": "59957ffd-e4d2-43fc-eb87-a88a14fcabfc"
   },
   "outputs": [
    {
     "data": {
      "text/plain": "<AxesSubplot: >"
     },
     "execution_count": 23,
     "metadata": {},
     "output_type": "execute_result"
    },
    {
     "data": {
      "text/plain": "<Figure size 640x480 with 1 Axes>",
      "image/png": "[encoded data removed]"
     },
     "metadata": {},
     "output_type": "display_data"
    }
   ],
   "source": [
    "df_tweets.boxplot('length')"
   ]
  },
  {
   "cell_type": "code",
   "execution_count": 24,
   "metadata": {
    "id": "SThA9ie_u5bi"
   },
   "outputs": [],
   "source": [
    "len_groupby = df_tweets.groupby('user_id').agg({'length':'mean'})"
   ]
  },
  {
   "cell_type": "code",
   "execution_count": 25,
   "metadata": {
    "colab": {
     "base_uri": "https://localhost:8080/",
     "height": 424
    },
    "id": "YuOecCnsu5bk",
    "outputId": "4a0be7ee-37fc-45b6-d2f8-76f8587f917f"
   },
   "outputs": [
    {
     "data": {
      "text/plain": "        user_id  n_tweets  2012_tweets  2013_tweets  2014_tweets  2015_tweets  \\\n0         000vk         1            0            0            0            0   \n1       0013tom         1            0            0            0            0   \n2         001gi         1            0            0            0            0   \n3         001rx         1            0            0            0            0   \n4        00201f         1            0            0            0            0   \n...         ...       ...          ...          ...          ...          ...   \n140538     zzyb         1            0            0            0            0   \n140539    zzyd6         1            0            0            0            0   \n140540    zzyyu         1            0            0            0            0   \n140541    zzz9v         1            0            0            0            0   \n140542     zzza         1            0            0            0            0   \n\n        2016_tweets  2017_tweets  2018_tweets  2019_tweets  2020_tweets  \\\n0                 0            0            0            0            1   \n1                 0            0            1            0            0   \n2                 0            0            0            0            1   \n3                 0            0            0            0            1   \n4                 0            0            0            1            0   \n...             ...          ...          ...          ...          ...   \n140538            0            0            0            1            0   \n140539            0            0            0            1            0   \n140540            0            0            0            0            1   \n140541            0            0            0            1            0   \n140542            0            0            0            0            1   \n\n        mean_length  \n0             110.0  \n1             104.0  \n2              15.0  \n3              47.0  \n4               3.0  \n...             ...  \n140538          3.0  \n140539         66.0  \n140540         64.0  \n140541          3.0  \n140542         16.0  \n\n[140543 rows x 12 columns]",
      "text/html": "<div>\n<style scoped>\n    .dataframe tbody tr th:only-of-type {\n        vertical-align: middle;\n    }\n\n    .dataframe tbody tr th {\n        vertical-align: top;\n    }\n\n    .dataframe thead th {\n        text-align: right;\n    }\n</style>\n<table border=\"1\" class=\"dataframe\">\n  <thead>\n    <tr style=\"text-align: right;\">\n      <th></th>\n      <th>user_id</th>\n      <th>n_tweets</th>\n      <th>2012_tweets</th>\n      <th>2013_tweets</th>\n      <th>2014_tweets</th>\n      <th>2015_tweets</th>\n      <th>2016_tweets</th>\n      <th>2017_tweets</th>\n      <th>2018_tweets</th>\n      <th>2019_tweets</th>\n      <th>2020_tweets</th>\n      <th>mean_length</th>\n    </tr>\n  </thead>\n  <tbody>\n    <tr>\n      <th>0</th>\n      <td>000vk</td>\n      <td>1</td>\n      <td>0</td>\n      <td>0</td>\n      <td>0</td>\n      <td>0</td>\n      <td>0</td>\n      <td>0</td>\n      <td>0</td>\n      <td>0</td>\n      <td>1</td>\n      <td>110.0</td>\n    </tr>\n    <tr>\n      <th>1</th>\n      <td>0013tom</td>\n      <td>1</td>\n      <td>0</td>\n      <td>0</td>\n      <td>0</td>\n      <td>0</td>\n      <td>0</td>\n      <td>0</td>\n      <td>1</td>\n      <td>0</td>\n      <td>0</td>\n      <td>104.0</td>\n    </tr>\n    <tr>\n      <th>2</th>\n      <td>001gi</td>\n      <td>1</td>\n      <td>0</td>\n      <td>0</td>\n      <td>0</td>\n      <td>0</td>\n      <td>0</td>\n      <td>0</td>\n      <td>0</td>\n      <td>0</td>\n      <td>1</td>\n      <td>15.0</td>\n    </tr>\n    <tr>\n      <th>3</th>\n      <td>001rx</td>\n      <td>1</td>\n      <td>0</td>\n      <td>0</td>\n      <td>0</td>\n      <td>0</td>\n      <td>0</td>\n      <td>0</td>\n      <td>0</td>\n      <td>0</td>\n      <td>1</td>\n      <td>47.0</td>\n    </tr>\n    <tr>\n      <th>4</th>\n      <td>00201f</td>\n      <td>1</td>\n      <td>0</td>\n      <td>0</td>\n      <td>0</td>\n      <td>0</td>\n      <td>0</td>\n      <td>0</td>\n      <td>0</td>\n      <td>1</td>\n      <td>0</td>\n      <td>3.0</td>\n    </tr>\n    <tr>\n      <th>...</th>\n      <td>...</td>\n      <td>...</td>\n      <td>...</td>\n      <td>...</td>\n      <td>...</td>\n      <td>...</td>\n      <td>...</td>\n      <td>...</td>\n      <td>...</td>\n      <td>...</td>\n      <td>...</td>\n      <td>...</td>\n    </tr>\n    <tr>\n      <th>140538</th>\n      <td>zzyb</td>\n      <td>1</td>\n      <td>0</td>\n      <td>0</td>\n      <td>0</td>\n      <td>0</td>\n      <td>0</td>\n      <td>0</td>\n      <td>0</td>\n      <td>1</td>\n      <td>0</td>\n      <td>3.0</td>\n    </tr>\n    <tr>\n      <th>140539</th>\n      <td>zzyd6</td>\n      <td>1</td>\n      <td>0</td>\n      <td>0</td>\n      <td>0</td>\n      <td>0</td>\n      <td>0</td>\n      <td>0</td>\n      <td>0</td>\n      <td>1</td>\n      <td>0</td>\n      <td>66.0</td>\n    </tr>\n    <tr>\n      <th>140540</th>\n      <td>zzyyu</td>\n      <td>1</td>\n      <td>0</td>\n      <td>0</td>\n      <td>0</td>\n      <td>0</td>\n      <td>0</td>\n      <td>0</td>\n      <td>0</td>\n      <td>0</td>\n      <td>1</td>\n      <td>64.0</td>\n    </tr>\n    <tr>\n      <th>140541</th>\n      <td>zzz9v</td>\n      <td>1</td>\n      <td>0</td>\n      <td>0</td>\n      <td>0</td>\n      <td>0</td>\n      <td>0</td>\n      <td>0</td>\n      <td>0</td>\n      <td>1</td>\n      <td>0</td>\n      <td>3.0</td>\n    </tr>\n    <tr>\n      <th>140542</th>\n      <td>zzza</td>\n      <td>1</td>\n      <td>0</td>\n      <td>0</td>\n      <td>0</td>\n      <td>0</td>\n      <td>0</td>\n      <td>0</td>\n      <td>0</td>\n      <td>0</td>\n      <td>1</td>\n      <td>16.0</td>\n    </tr>\n  </tbody>\n</table>\n<p>140543 rows × 12 columns</p>\n</div>"
     },
     "execution_count": 25,
     "metadata": {},
     "output_type": "execute_result"
    }
   ],
   "source": [
    "df_indicators['mean_length'] = len_groupby.length.values\n",
    "df_indicators"
   ]
  },
  {
   "cell_type": "markdown",
   "metadata": {
    "id": "2HxWZntDDemr"
   },
   "source": [
    "# Average number of special characters in the tweets per user"
   ]
  },
  {
   "cell_type": "code",
   "execution_count": 26,
   "metadata": {
    "id": "TefJGHf5Dems"
   },
   "outputs": [],
   "source": [
    "df_tweets['special_chars'] = df_tweets.text.astype(str).apply(lambda text: len(re.findall(\"(?=\\W)(?=\\S)\", text)))"
   ]
  },
  {
   "cell_type": "code",
   "execution_count": 27,
   "metadata": {
    "id": "RUO1vVd1Dems",
    "colab": {
     "base_uri": "https://localhost:8080/",
     "height": 424
    },
    "outputId": "c655f147-1475-4f7e-9d7a-dde519a5cd1f"
   },
   "outputs": [
    {
     "data": {
      "text/plain": "        user_id  n_tweets  2012_tweets  2013_tweets  2014_tweets  2015_tweets  \\\n0         000vk         1            0            0            0            0   \n1       0013tom         1            0            0            0            0   \n2         001gi         1            0            0            0            0   \n3         001rx         1            0            0            0            0   \n4        00201f         1            0            0            0            0   \n...         ...       ...          ...          ...          ...          ...   \n140538     zzyb         1            0            0            0            0   \n140539    zzyd6         1            0            0            0            0   \n140540    zzyyu         1            0            0            0            0   \n140541    zzz9v         1            0            0            0            0   \n140542     zzza         1            0            0            0            0   \n\n        2016_tweets  2017_tweets  2018_tweets  2019_tweets  2020_tweets  \\\n0                 0            0            0            0            1   \n1                 0            0            1            0            0   \n2                 0            0            0            0            1   \n3                 0            0            0            0            1   \n4                 0            0            0            1            0   \n...             ...          ...          ...          ...          ...   \n140538            0            0            0            1            0   \n140539            0            0            0            1            0   \n140540            0            0            0            0            1   \n140541            0            0            0            1            0   \n140542            0            0            0            0            1   \n\n        mean_length  mean_special_chars  \n0             110.0                 9.0  \n1             104.0                 5.0  \n2              15.0                 0.0  \n3              47.0                 0.0  \n4               3.0                 0.0  \n...             ...                 ...  \n140538          3.0                 0.0  \n140539         66.0                 0.0  \n140540         64.0                 1.0  \n140541          3.0                 0.0  \n140542         16.0                 1.0  \n\n[140543 rows x 13 columns]",
      "text/html": "<div>\n<style scoped>\n    .dataframe tbody tr th:only-of-type {\n        vertical-align: middle;\n    }\n\n    .dataframe tbody tr th {\n        vertical-align: top;\n    }\n\n    .dataframe thead th {\n        text-align: right;\n    }\n</style>\n<table border=\"1\" class=\"dataframe\">\n  <thead>\n    <tr style=\"text-align: right;\">\n      <th></th>\n      <th>user_id</th>\n      <th>n_tweets</th>\n      <th>2012_tweets</th>\n      <th>2013_tweets</th>\n      <th>2014_tweets</th>\n      <th>2015_tweets</th>\n      <th>2016_tweets</th>\n      <th>2017_tweets</th>\n      <th>2018_tweets</th>\n      <th>2019_tweets</th>\n      <th>2020_tweets</th>\n      <th>mean_length</th>\n      <th>mean_special_chars</th>\n    </tr>\n  </thead>\n  <tbody>\n    <tr>\n      <th>0</th>\n      <td>000vk</td>\n      <td>1</td>\n      <td>0</td>\n      <td>0</td>\n      <td>0</td>\n      <td>0</td>\n      <td>0</td>\n      <td>0</td>\n      <td>0</td>\n      <td>0</td>\n      <td>1</td>\n      <td>110.0</td>\n      <td>9.0</td>\n    </tr>\n    <tr>\n      <th>1</th>\n      <td>0013tom</td>\n      <td>1</td>\n      <td>0</td>\n      <td>0</td>\n      <td>0</td>\n      <td>0</td>\n      <td>0</td>\n      <td>0</td>\n      <td>1</td>\n      <td>0</td>\n      <td>0</td>\n      <td>104.0</td>\n      <td>5.0</td>\n    </tr>\n    <tr>\n      <th>2</th>\n      <td>001gi</td>\n      <td>1</td>\n      <td>0</td>\n      <td>0</td>\n      <td>0</td>\n      <td>0</td>\n      <td>0</td>\n      <td>0</td>\n      <td>0</td>\n      <td>0</td>\n      <td>1</td>\n      <td>15.0</td>\n      <td>0.0</td>\n    </tr>\n    <tr>\n      <th>3</th>\n      <td>001rx</td>\n      <td>1</td>\n      <td>0</td>\n      <td>0</td>\n      <td>0</td>\n      <td>0</td>\n      <td>0</td>\n      <td>0</td>\n      <td>0</td>\n      <td>0</td>\n      <td>1</td>\n      <td>47.0</td>\n      <td>0.0</td>\n    </tr>\n    <tr>\n      <th>4</th>\n      <td>00201f</td>\n      <td>1</td>\n      <td>0</td>\n      <td>0</td>\n      <td>0</td>\n      <td>0</td>\n      <td>0</td>\n      <td>0</td>\n      <td>0</td>\n      <td>1</td>\n      <td>0</td>\n      <td>3.0</td>\n      <td>0.0</td>\n    </tr>\n    <tr>\n      <th>...</th>\n      <td>...</td>\n      <td>...</td>\n      <td>...</td>\n      <td>...</td>\n      <td>...</td>\n      <td>...</td>\n      <td>...</td>\n      <td>...</td>\n      <td>...</td>\n      <td>...</td>\n      <td>...</td>\n      <td>...</td>\n      <td>...</td>\n    </tr>\n    <tr>\n      <th>140538</th>\n      <td>zzyb</td>\n      <td>1</td>\n      <td>0</td>\n      <td>0</td>\n      <td>0</td>\n      <td>0</td>\n      <td>0</td>\n      <td>0</td>\n      <td>0</td>\n      <td>1</td>\n      <td>0</td>\n      <td>3.0</td>\n      <td>0.0</td>\n    </tr>\n    <tr>\n      <th>140539</th>\n      <td>zzyd6</td>\n      <td>1</td>\n      <td>0</td>\n      <td>0</td>\n      <td>0</td>\n      <td>0</td>\n      <td>0</td>\n      <td>0</td>\n      <td>0</td>\n      <td>1</td>\n      <td>0</td>\n      <td>66.0</td>\n      <td>0.0</td>\n    </tr>\n    <tr>\n      <th>140540</th>\n      <td>zzyyu</td>\n      <td>1</td>\n      <td>0</td>\n      <td>0</td>\n      <td>0</td>\n      <td>0</td>\n      <td>0</td>\n      <td>0</td>\n      <td>0</td>\n      <td>0</td>\n      <td>1</td>\n      <td>64.0</td>\n      <td>1.0</td>\n    </tr>\n    <tr>\n      <th>140541</th>\n      <td>zzz9v</td>\n      <td>1</td>\n      <td>0</td>\n      <td>0</td>\n      <td>0</td>\n      <td>0</td>\n      <td>0</td>\n      <td>0</td>\n      <td>0</td>\n      <td>1</td>\n      <td>0</td>\n      <td>3.0</td>\n      <td>0.0</td>\n    </tr>\n    <tr>\n      <th>140542</th>\n      <td>zzza</td>\n      <td>1</td>\n      <td>0</td>\n      <td>0</td>\n      <td>0</td>\n      <td>0</td>\n      <td>0</td>\n      <td>0</td>\n      <td>0</td>\n      <td>0</td>\n      <td>1</td>\n      <td>16.0</td>\n      <td>1.0</td>\n    </tr>\n  </tbody>\n</table>\n<p>140543 rows × 13 columns</p>\n</div>"
     },
     "execution_count": 27,
     "metadata": {},
     "output_type": "execute_result"
    }
   ],
   "source": [
    "len_groupby = df_tweets.groupby('user_id').agg({'special_chars':'mean'})\n",
    "\n",
    "df_indicators['mean_special_chars'] = len_groupby.special_chars.values\n",
    "df_indicators"
   ]
  },
  {
   "cell_type": "markdown",
   "metadata": {
    "id": "VM0ywSsru5bp"
   },
   "source": [
    "# File Checkpoint"
   ]
  },
  {
   "cell_type": "code",
   "execution_count": 28,
   "metadata": {
    "id": "FHQZk9Fyu5bq"
   },
   "outputs": [],
   "source": [
    "df_tweets.to_csv(path_or_buf=DATA_PATH+'tweets_with_indicators.csv', sep='#', index=False)"
   ]
  },
  {
   "cell_type": "code",
   "execution_count": 29,
   "metadata": {
    "id": "h5BR0c6uu5br"
   },
   "outputs": [],
   "source": [
    "df_indicators.to_csv(path_or_buf=DATA_PATH+'indicators.csv', sep='#', index=False)"
   ]
  },
  {
   "cell_type": "markdown",
   "metadata": {
    "id": "BOKT4GuVu5bs"
   },
   "source": [
    "# Mean and standard deviation for each attribute by user"
   ]
  },
  {
   "cell_type": "code",
   "execution_count": 30,
   "metadata": {
    "id": "fbiCjqrQu5bs"
   },
   "outputs": [
    {
     "name": "stderr",
     "output_type": "stream",
     "text": [
      "C:\\Users\\Alessandro\\AppData\\Local\\Temp\\ipykernel_17396\\2487510340.py:1: FutureWarning: ['created_at', 'text'] did not aggregate successfully. If any error is raised this will raise in a future version of pandas. Drop these columns/ops to avoid this warning.\n",
      "  user_groupby = df_tweets.groupby('user_id').agg(['mean','std'])\n"
     ]
    }
   ],
   "source": [
    "user_groupby = df_tweets.groupby('user_id').agg(['mean','std'])"
   ]
  },
  {
   "cell_type": "code",
   "execution_count": 31,
   "metadata": {
    "id": "S37j9RG2u5bt"
   },
   "outputs": [],
   "source": [
    "user_groupby.drop(columns=['length','special_chars'], inplace=True)"
   ]
  },
  {
   "cell_type": "code",
   "execution_count": 32,
   "outputs": [
    {
     "name": "stdout",
     "output_type": "stream",
     "text": [
      "<class 'pandas.core.frame.DataFrame'>\n",
      "RangeIndex: 10187873 entries, 0 to 10187872\n",
      "Data columns (total 12 columns):\n",
      " #   Column           Dtype \n",
      "---  ------           ----- \n",
      " 0   user_id          object\n",
      " 1   created_at       object\n",
      " 2   text             object\n",
      " 3   created_at_conv  int64 \n",
      " 4   retweet_count    int64 \n",
      " 5   reply_count      int64 \n",
      " 6   favorite_count   int64 \n",
      " 7   num_hashtags     int64 \n",
      " 8   num_urls         int64 \n",
      " 9   num_mentions     int64 \n",
      " 10  length           int64 \n",
      " 11  special_chars    int64 \n",
      "dtypes: int64(9), object(3)\n",
      "memory usage: 932.7+ MB\n"
     ]
    }
   ],
   "source": [
    "df_tweets.info()"
   ],
   "metadata": {
    "collapsed": false
   }
  },
  {
   "cell_type": "code",
   "execution_count": 33,
   "metadata": {
    "id": "E6JThliQu5bt"
   },
   "outputs": [],
   "source": [
    "df_indicators[['retweets_count_mean','retweets_count_std',\n",
    "              'reply_count_mean','reply_count_std',\n",
    "              'favorite_count_mean','favorite_count_std',\n",
    "              'num_hashtags_mean','num_hashtags_std',\n",
    "              'num_urls_mean','num_urls_std',\n",
    "              'num_mentions_mean','num_mentions_std',\n",
    "              'created_at_mean','created_at_std']] = user_groupby.values"
   ]
  },
  {
   "cell_type": "code",
   "execution_count": 34,
   "metadata": {
    "colab": {
     "base_uri": "https://localhost:8080/",
     "height": 488
    },
    "id": "Sh7MijnIu5bu",
    "outputId": "2bc4c44c-c677-4998-da16-2b2deadd747d"
   },
   "outputs": [
    {
     "data": {
      "text/plain": "        user_id  n_tweets  2012_tweets  2013_tweets  2014_tweets  2015_tweets  \\\n0         000vk         1            0            0            0            0   \n1       0013tom         1            0            0            0            0   \n2         001gi         1            0            0            0            0   \n3         001rx         1            0            0            0            0   \n4        00201f         1            0            0            0            0   \n...         ...       ...          ...          ...          ...          ...   \n140538     zzyb         1            0            0            0            0   \n140539    zzyd6         1            0            0            0            0   \n140540    zzyyu         1            0            0            0            0   \n140541    zzz9v         1            0            0            0            0   \n140542     zzza         1            0            0            0            0   \n\n        2016_tweets  2017_tweets  2018_tweets  2019_tweets  ...  \\\n0                 0            0            0            0  ...   \n1                 0            0            1            0  ...   \n2                 0            0            0            0  ...   \n3                 0            0            0            0  ...   \n4                 0            0            0            1  ...   \n...             ...          ...          ...          ...  ...   \n140538            0            0            0            1  ...   \n140539            0            0            0            1  ...   \n140540            0            0            0            0  ...   \n140541            0            0            0            1  ...   \n140542            0            0            0            0  ...   \n\n        favorite_count_mean  favorite_count_std  num_hashtags_mean  \\\n0                       0.0                 NaN                0.0   \n1                       0.0                 NaN                0.0   \n2                       0.0                 NaN                0.0   \n3                       0.0                 NaN                1.0   \n4                       0.0                 NaN                0.0   \n...                     ...                 ...                ...   \n140538                  0.0                 NaN                1.0   \n140539                  0.0                 NaN                0.0   \n140540                  0.0                 NaN                0.0   \n140541                  0.0                 NaN                0.0   \n140542                  0.0                 NaN                0.0   \n\n        num_hashtags_std  num_urls_mean  num_urls_std  num_mentions_mean  \\\n0                    NaN            1.0           NaN                0.0   \n1                    NaN            0.0           NaN                0.0   \n2                    NaN            0.0           NaN                0.0   \n3                    NaN            0.0           NaN                0.0   \n4                    NaN            0.0           NaN                0.0   \n...                  ...            ...           ...                ...   \n140538               NaN            0.0           NaN                0.0   \n140539               NaN            0.0           NaN                0.0   \n140540               NaN            0.0           NaN                0.0   \n140541               NaN            0.0           NaN                0.0   \n140542               NaN            0.0           NaN                0.0   \n\n        num_mentions_std  created_at_mean  created_at_std  \n0                    NaN              2.0             NaN  \n1                    NaN              0.0             NaN  \n2                    NaN              0.0             NaN  \n3                    NaN              0.0             NaN  \n4                    NaN              0.0             NaN  \n...                  ...              ...             ...  \n140538               NaN              0.0             NaN  \n140539               NaN              0.0             NaN  \n140540               NaN              0.0             NaN  \n140541               NaN              0.0             NaN  \n140542               NaN              0.0             NaN  \n\n[140543 rows x 27 columns]",
      "text/html": "<div>\n<style scoped>\n    .dataframe tbody tr th:only-of-type {\n        vertical-align: middle;\n    }\n\n    .dataframe tbody tr th {\n        vertical-align: top;\n    }\n\n    .dataframe thead th {\n        text-align: right;\n    }\n</style>\n<table border=\"1\" class=\"dataframe\">\n  <thead>\n    <tr style=\"text-align: right;\">\n      <th></th>\n      <th>user_id</th>\n      <th>n_tweets</th>\n      <th>2012_tweets</th>\n      <th>2013_tweets</th>\n      <th>2014_tweets</th>\n      <th>2015_tweets</th>\n      <th>2016_tweets</th>\n      <th>2017_tweets</th>\n      <th>2018_tweets</th>\n      <th>2019_tweets</th>\n      <th>...</th>\n      <th>favorite_count_mean</th>\n      <th>favorite_count_std</th>\n      <th>num_hashtags_mean</th>\n      <th>num_hashtags_std</th>\n      <th>num_urls_mean</th>\n      <th>num_urls_std</th>\n      <th>num_mentions_mean</th>\n      <th>num_mentions_std</th>\n      <th>created_at_mean</th>\n      <th>created_at_std</th>\n    </tr>\n  </thead>\n  <tbody>\n    <tr>\n      <th>0</th>\n      <td>000vk</td>\n      <td>1</td>\n      <td>0</td>\n      <td>0</td>\n      <td>0</td>\n      <td>0</td>\n      <td>0</td>\n      <td>0</td>\n      <td>0</td>\n      <td>0</td>\n      <td>...</td>\n      <td>0.0</td>\n      <td>NaN</td>\n      <td>0.0</td>\n      <td>NaN</td>\n      <td>1.0</td>\n      <td>NaN</td>\n      <td>0.0</td>\n      <td>NaN</td>\n      <td>2.0</td>\n      <td>NaN</td>\n    </tr>\n    <tr>\n      <th>1</th>\n      <td>0013tom</td>\n      <td>1</td>\n      <td>0</td>\n      <td>0</td>\n      <td>0</td>\n      <td>0</td>\n      <td>0</td>\n      <td>0</td>\n      <td>1</td>\n      <td>0</td>\n      <td>...</td>\n      <td>0.0</td>\n      <td>NaN</td>\n      <td>0.0</td>\n      <td>NaN</td>\n      <td>0.0</td>\n      <td>NaN</td>\n      <td>0.0</td>\n      <td>NaN</td>\n      <td>0.0</td>\n      <td>NaN</td>\n    </tr>\n    <tr>\n      <th>2</th>\n      <td>001gi</td>\n      <td>1</td>\n      <td>0</td>\n      <td>0</td>\n      <td>0</td>\n      <td>0</td>\n      <td>0</td>\n      <td>0</td>\n      <td>0</td>\n      <td>0</td>\n      <td>...</td>\n      <td>0.0</td>\n      <td>NaN</td>\n      <td>0.0</td>\n      <td>NaN</td>\n      <td>0.0</td>\n      <td>NaN</td>\n      <td>0.0</td>\n      <td>NaN</td>\n      <td>0.0</td>\n      <td>NaN</td>\n    </tr>\n    <tr>\n      <th>3</th>\n      <td>001rx</td>\n      <td>1</td>\n      <td>0</td>\n      <td>0</td>\n      <td>0</td>\n      <td>0</td>\n      <td>0</td>\n      <td>0</td>\n      <td>0</td>\n      <td>0</td>\n      <td>...</td>\n      <td>0.0</td>\n      <td>NaN</td>\n      <td>1.0</td>\n      <td>NaN</td>\n      <td>0.0</td>\n      <td>NaN</td>\n      <td>0.0</td>\n      <td>NaN</td>\n      <td>0.0</td>\n      <td>NaN</td>\n    </tr>\n    <tr>\n      <th>4</th>\n      <td>00201f</td>\n      <td>1</td>\n      <td>0</td>\n      <td>0</td>\n      <td>0</td>\n      <td>0</td>\n      <td>0</td>\n      <td>0</td>\n      <td>0</td>\n      <td>1</td>\n      <td>...</td>\n      <td>0.0</td>\n      <td>NaN</td>\n      <td>0.0</td>\n      <td>NaN</td>\n      <td>0.0</td>\n      <td>NaN</td>\n      <td>0.0</td>\n      <td>NaN</td>\n      <td>0.0</td>\n      <td>NaN</td>\n    </tr>\n    <tr>\n      <th>...</th>\n      <td>...</td>\n      <td>...</td>\n      <td>...</td>\n      <td>...</td>\n      <td>...</td>\n      <td>...</td>\n      <td>...</td>\n      <td>...</td>\n      <td>...</td>\n      <td>...</td>\n      <td>...</td>\n      <td>...</td>\n      <td>...</td>\n      <td>...</td>\n      <td>...</td>\n      <td>...</td>\n      <td>...</td>\n      <td>...</td>\n      <td>...</td>\n      <td>...</td>\n      <td>...</td>\n    </tr>\n    <tr>\n      <th>140538</th>\n      <td>zzyb</td>\n      <td>1</td>\n      <td>0</td>\n      <td>0</td>\n      <td>0</td>\n      <td>0</td>\n      <td>0</td>\n      <td>0</td>\n      <td>0</td>\n      <td>1</td>\n      <td>...</td>\n      <td>0.0</td>\n      <td>NaN</td>\n      <td>1.0</td>\n      <td>NaN</td>\n      <td>0.0</td>\n      <td>NaN</td>\n      <td>0.0</td>\n      <td>NaN</td>\n      <td>0.0</td>\n      <td>NaN</td>\n    </tr>\n    <tr>\n      <th>140539</th>\n      <td>zzyd6</td>\n      <td>1</td>\n      <td>0</td>\n      <td>0</td>\n      <td>0</td>\n      <td>0</td>\n      <td>0</td>\n      <td>0</td>\n      <td>0</td>\n      <td>1</td>\n      <td>...</td>\n      <td>0.0</td>\n      <td>NaN</td>\n      <td>0.0</td>\n      <td>NaN</td>\n      <td>0.0</td>\n      <td>NaN</td>\n      <td>0.0</td>\n      <td>NaN</td>\n      <td>0.0</td>\n      <td>NaN</td>\n    </tr>\n    <tr>\n      <th>140540</th>\n      <td>zzyyu</td>\n      <td>1</td>\n      <td>0</td>\n      <td>0</td>\n      <td>0</td>\n      <td>0</td>\n      <td>0</td>\n      <td>0</td>\n      <td>0</td>\n      <td>0</td>\n      <td>...</td>\n      <td>0.0</td>\n      <td>NaN</td>\n      <td>0.0</td>\n      <td>NaN</td>\n      <td>0.0</td>\n      <td>NaN</td>\n      <td>0.0</td>\n      <td>NaN</td>\n      <td>0.0</td>\n      <td>NaN</td>\n    </tr>\n    <tr>\n      <th>140541</th>\n      <td>zzz9v</td>\n      <td>1</td>\n      <td>0</td>\n      <td>0</td>\n      <td>0</td>\n      <td>0</td>\n      <td>0</td>\n      <td>0</td>\n      <td>0</td>\n      <td>1</td>\n      <td>...</td>\n      <td>0.0</td>\n      <td>NaN</td>\n      <td>0.0</td>\n      <td>NaN</td>\n      <td>0.0</td>\n      <td>NaN</td>\n      <td>0.0</td>\n      <td>NaN</td>\n      <td>0.0</td>\n      <td>NaN</td>\n    </tr>\n    <tr>\n      <th>140542</th>\n      <td>zzza</td>\n      <td>1</td>\n      <td>0</td>\n      <td>0</td>\n      <td>0</td>\n      <td>0</td>\n      <td>0</td>\n      <td>0</td>\n      <td>0</td>\n      <td>0</td>\n      <td>...</td>\n      <td>0.0</td>\n      <td>NaN</td>\n      <td>0.0</td>\n      <td>NaN</td>\n      <td>0.0</td>\n      <td>NaN</td>\n      <td>0.0</td>\n      <td>NaN</td>\n      <td>0.0</td>\n      <td>NaN</td>\n    </tr>\n  </tbody>\n</table>\n<p>140543 rows × 27 columns</p>\n</div>"
     },
     "execution_count": 34,
     "metadata": {},
     "output_type": "execute_result"
    }
   ],
   "source": [
    "df_indicators"
   ]
  },
  {
   "cell_type": "markdown",
   "metadata": {
    "id": "_yylOrtau5bu"
   },
   "source": [
    "# Tweeting regularity\n",
    "We want an indicator that can tell us if the user has a certain regularity in the publication.\n",
    "We define the tweeting regularity of a user as:\n",
    "$$ Var( \\{\\ timestamp_i - timestamp_j\\ |\\ j = i + 1 \\} )$$"
   ]
  },
  {
   "cell_type": "code",
   "execution_count": 44,
   "metadata": {
    "colab": {
     "base_uri": "https://localhost:8080/",
     "height": 400
    },
    "id": "bB4x0Op1u5bv",
    "outputId": "253a3bed-5413-4204-8222-a5096a47af31"
   },
   "outputs": [],
   "source": [
    "def tweeting_regularity(user_timestamps):\n",
    "\n",
    "    user_timestamps = user_timestamps.values\n",
    "\n",
    "    if(len(user_timestamps) == 1):\n",
    "        return -1\n",
    "\n",
    "    user_timestamps.sort()\n",
    "    diffs = []\n",
    "    for i in range(1,len(user_timestamps)):\n",
    "        diffs.append(user_timestamps[i]-user_timestamps[i-1])\n",
    "    diffs = np.array(diffs)\n",
    "    return diffs.var()\n",
    "\n",
    "df_indicators['tweeting_regularity'] = df_tweets.groupby('user_id').agg({'created_at_conv': tweeting_regularity}).values"
   ]
  },
  {
   "cell_type": "markdown",
   "source": [
    "# Maximum number of tweets in a day by user"
   ],
   "metadata": {
    "id": "Oy7KamoRwkvw"
   }
  },
  {
   "cell_type": "markdown",
   "source": [
    "Add new column which represents the date as the number of the day in the year (e.g. 1st of Janueary would be 1, 2nd of January would be 2, [...], 31st of December would be 365 or 366) concatenated to the year.\n",
    "For example, 2nd of January of 2019 would be \"2_2019\"."
   ],
   "metadata": {
    "id": "XPjdz1Db3DUB"
   }
  },
  {
   "cell_type": "code",
   "source": [
    "df_tweets['day_of_year'] = pd.DatetimeIndex(df_tweets.created_at).day_of_year.map(str) + \"_\" + pd.DatetimeIndex(df_tweets.created_at).year.map(str)"
   ],
   "metadata": {
    "id": "FvoLCDTDwoix"
   },
   "execution_count": 49,
   "outputs": []
  },
  {
   "cell_type": "code",
   "source": [
    "df_tweets['day_of_year']"
   ],
   "metadata": {
    "colab": {
     "base_uri": "https://localhost:8080/"
    },
    "id": "BCvgKQpFAwJL",
    "outputId": "377f07e5-7dff-4279-e065-4ecc128c71ab"
   },
   "execution_count": 50,
   "outputs": [
    {
     "data": {
      "text/plain": "0           254_2019\n1            92_2020\n2           122_2019\n3           308_2019\n4            71_2020\n              ...   \n10187868    116_2019\n10187869    108_2020\n10187870    192_2016\n10187871     66_2019\n10187872    191_2019\nName: day_of_year, Length: 10187873, dtype: object"
     },
     "execution_count": 50,
     "metadata": {},
     "output_type": "execute_result"
    }
   ]
  },
  {
   "cell_type": "code",
   "source": [
    "user_date_groupby = pd.DataFrame({'n_tweets_by_day' : df_tweets.groupby( [ 'user_id', 'day_of_year'] ).size()}).reset_index()\n",
    "#pd.DataFrame(df_tweets.groupby(['user_id', 'day_of_year'])['day_of_year'].agg('size'))"
   ],
   "metadata": {
    "id": "DTlXnlHJ9y5z"
   },
   "execution_count": 51,
   "outputs": []
  },
  {
   "cell_type": "code",
   "source": [
    "user_date_groupby"
   ],
   "metadata": {
    "colab": {
     "base_uri": "https://localhost:8080/",
     "height": 424
    },
    "id": "PTxryXW__Nzc",
    "outputId": "449b43c5-08e6-4f7b-c693-5b0438a0d7c0"
   },
   "execution_count": 52,
   "outputs": [
    {
     "data": {
      "text/plain": "         user_id day_of_year  n_tweets_by_day\n0          000vk    118_2020                1\n1        0013tom     99_2018                1\n2          001gi     98_2020                1\n3          001rx     70_2020                1\n4         00201f     43_2019                1\n...          ...         ...              ...\n1151381     zzyb    306_2019                1\n1151382    zzyd6    170_2019                1\n1151383    zzyyu     88_2020                1\n1151384    zzz9v    106_2019                1\n1151385     zzza     20_2020                1\n\n[1151386 rows x 3 columns]",
      "text/html": "<div>\n<style scoped>\n    .dataframe tbody tr th:only-of-type {\n        vertical-align: middle;\n    }\n\n    .dataframe tbody tr th {\n        vertical-align: top;\n    }\n\n    .dataframe thead th {\n        text-align: right;\n    }\n</style>\n<table border=\"1\" class=\"dataframe\">\n  <thead>\n    <tr style=\"text-align: right;\">\n      <th></th>\n      <th>user_id</th>\n      <th>day_of_year</th>\n      <th>n_tweets_by_day</th>\n    </tr>\n  </thead>\n  <tbody>\n    <tr>\n      <th>0</th>\n      <td>000vk</td>\n      <td>118_2020</td>\n      <td>1</td>\n    </tr>\n    <tr>\n      <th>1</th>\n      <td>0013tom</td>\n      <td>99_2018</td>\n      <td>1</td>\n    </tr>\n    <tr>\n      <th>2</th>\n      <td>001gi</td>\n      <td>98_2020</td>\n      <td>1</td>\n    </tr>\n    <tr>\n      <th>3</th>\n      <td>001rx</td>\n      <td>70_2020</td>\n      <td>1</td>\n    </tr>\n    <tr>\n      <th>4</th>\n      <td>00201f</td>\n      <td>43_2019</td>\n      <td>1</td>\n    </tr>\n    <tr>\n      <th>...</th>\n      <td>...</td>\n      <td>...</td>\n      <td>...</td>\n    </tr>\n    <tr>\n      <th>1151381</th>\n      <td>zzyb</td>\n      <td>306_2019</td>\n      <td>1</td>\n    </tr>\n    <tr>\n      <th>1151382</th>\n      <td>zzyd6</td>\n      <td>170_2019</td>\n      <td>1</td>\n    </tr>\n    <tr>\n      <th>1151383</th>\n      <td>zzyyu</td>\n      <td>88_2020</td>\n      <td>1</td>\n    </tr>\n    <tr>\n      <th>1151384</th>\n      <td>zzz9v</td>\n      <td>106_2019</td>\n      <td>1</td>\n    </tr>\n    <tr>\n      <th>1151385</th>\n      <td>zzza</td>\n      <td>20_2020</td>\n      <td>1</td>\n    </tr>\n  </tbody>\n</table>\n<p>1151386 rows × 3 columns</p>\n</div>"
     },
     "execution_count": 52,
     "metadata": {},
     "output_type": "execute_result"
    }
   ]
  },
  {
   "cell_type": "code",
   "source": [
    "# Maximum number of tweets in a day\n",
    "user_date_groupby[user_date_groupby['n_tweets_by_day'] == user_date_groupby['n_tweets_by_day'].max()]"
   ],
   "metadata": {
    "colab": {
     "base_uri": "https://localhost:8080/",
     "height": 81
    },
    "id": "UcUIhcLp995i",
    "outputId": "915aec8a-5ebb-489a-9158-666109f46970"
   },
   "execution_count": 53,
   "outputs": [
    {
     "data": {
      "text/plain": "          user_id day_of_year  n_tweets_by_day\n778142  492649414    115_2020             3238",
      "text/html": "<div>\n<style scoped>\n    .dataframe tbody tr th:only-of-type {\n        vertical-align: middle;\n    }\n\n    .dataframe tbody tr th {\n        vertical-align: top;\n    }\n\n    .dataframe thead th {\n        text-align: right;\n    }\n</style>\n<table border=\"1\" class=\"dataframe\">\n  <thead>\n    <tr style=\"text-align: right;\">\n      <th></th>\n      <th>user_id</th>\n      <th>day_of_year</th>\n      <th>n_tweets_by_day</th>\n    </tr>\n  </thead>\n  <tbody>\n    <tr>\n      <th>778142</th>\n      <td>492649414</td>\n      <td>115_2020</td>\n      <td>3238</td>\n    </tr>\n  </tbody>\n</table>\n</div>"
     },
     "execution_count": 53,
     "metadata": {},
     "output_type": "execute_result"
    }
   ]
  },
  {
   "cell_type": "markdown",
   "source": [
    "Identify maximum number of tweets posted in a day for each user."
   ],
   "metadata": {
    "id": "X7_I07GIAPkK"
   }
  },
  {
   "cell_type": "code",
   "source": [
    "df_indicators['max_daily_tweets'] = user_date_groupby.groupby(by=['user_id']).agg({'n_tweets_by_day':max}).values"
   ],
   "metadata": {
    "id": "7i0AlSUOAB61"
   },
   "execution_count": 54,
   "outputs": []
  },
  {
   "cell_type": "code",
   "source": [],
   "metadata": {
    "id": "5NKoZoH3IB9W"
   },
   "execution_count": null,
   "outputs": []
  },
  {
   "cell_type": "markdown",
   "source": [
    "# File Checkpoint"
   ],
   "metadata": {
    "id": "sqXcYC-eTIow"
   }
  },
  {
   "cell_type": "code",
   "source": [
    "df_tweets.to_csv(path_or_buf=DATA_PATH+'tweets_with_indicators.csv', sep='#', index=False)"
   ],
   "metadata": {
    "id": "Sli4LT8lTLcS"
   },
   "execution_count": 55,
   "outputs": []
  },
  {
   "cell_type": "code",
   "source": [
    "df_indicators.to_csv(path_or_buf=DATA_PATH+'indicators.csv', sep='#', index=False)"
   ],
   "metadata": {
    "id": "4l-lOH-4TKE3"
   },
   "execution_count": 56,
   "outputs": []
  },
  {
   "cell_type": "code",
   "source": [],
   "metadata": {
    "id": "INYb3KsxUzAK"
   },
   "execution_count": null,
   "outputs": []
  }
 ],
 "metadata": {
  "colab": {
   "provenance": []
  },
  "kernelspec": {
   "display_name": "Python 3",
   "language": "python",
   "name": "python3"
  },
  "language_info": {
   "codemirror_mode": {
    "name": "ipython",
    "version": 3
   },
   "file_extension": ".py",
   "mimetype": "text/x-python",
   "name": "python",
   "nbconvert_exporter": "python",
   "pygments_lexer": "ipython3",
   "version": "3.9.5"
  }
 },
 "nbformat": 4,
 "nbformat_minor": 0
}
