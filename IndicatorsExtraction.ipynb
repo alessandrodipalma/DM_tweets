{
  "cells": [
    {
      "cell_type": "code",
      "execution_count": null,
      "outputs": [],
      "source": [
        "import pandas as pd\n",
        "import math\n",
        "import numpy as np\n",
        "from matplotlib import pyplot as plt\n",
        "from numpy import logical_and as land, logical_or as lor\n",
        "import re\n",
        "from scipy.stats import entropy\n",
        "from utilities import plot_boxplot, plot_hist\n",
        "from sklearn import preprocessing"
      ],
      "metadata": {
        "id": "Ej3azWOlISfk"
      }
    },
    {
      "cell_type": "code",
      "execution_count": null,
      "outputs": [],
      "source": [
        "DATA_PATH = 'G:/Shared drives/DM_tweets/data/'"
      ],
      "metadata": {
        "id": "iw2hE1JrISfo"
      }
    },
    {
      "cell_type": "code",
      "source": [
        "from google.colab import drive\n",
        "drive.mount('/content/drive')"
      ],
      "metadata": {
        "colab": {
          "base_uri": "https://localhost:8080/"
        },
        "id": "xn6UiHpgIYHe",
        "outputId": "2533bac1-800d-4f5d-9d41-9b2f2b3fa790"
      },
      "execution_count": null,
      "outputs": [
        {
          "output_type": "stream",
          "name": "stdout",
          "text": [
            "Drive already mounted at /content/drive; to attempt to forcibly remount, call drive.mount(\"/content/drive\", force_remount=True).\n"
          ]
        }
      ]
    },
    {
      "cell_type": "code",
      "source": [
        "DATA_PATH = '/content/drive/Shareddrives/DM_tweets/data/'"
      ],
      "metadata": {
        "id": "EDTFTdkzIrVB"
      },
      "execution_count": null,
      "outputs": []
    },
    {
      "cell_type": "code",
      "source": [
        "!cp '/content/drive/MyDrive/code/utilities.py' '.'"
      ],
      "metadata": {
        "id": "mwRlvAdCKsxO"
      },
      "execution_count": null,
      "outputs": []
    },
    {
      "cell_type": "code",
      "execution_count": null,
      "outputs": [],
      "source": [
        "DATA_PATH = 'G:/Drive condivisi/DM_tweets/data/'"
      ],
      "metadata": {
        "id": "um6AflTwISfp"
      }
    },
    {
      "cell_type": "code",
      "execution_count": null,
      "outputs": [],
      "source": [
        "df_tweets = pd.read_csv(DATA_PATH+'tweets_clean.csv', sep='#')"
      ],
      "metadata": {
        "id": "AfayAGm2ISfp"
      }
    },
    {
      "cell_type": "code",
      "execution_count": null,
      "outputs": [],
      "source": [
        "df_users = pd.read_csv(DATA_PATH+'users_clean.csv', sep='#')"
      ],
      "metadata": {
        "id": "6GFr-ZbDISfq"
      }
    },
    {
      "cell_type": "markdown",
      "source": [
        "# How many tweets were published by the user?"
      ],
      "metadata": {
        "collapsed": false,
        "id": "ZJ24Em1aISfq"
      }
    },
    {
      "cell_type": "code",
      "execution_count": null,
      "outputs": [],
      "source": [
        "df_indicators = pd.DataFrame({'n_tweets' : df_tweets.groupby(['user_id'] ).size()}).reset_index()"
      ],
      "metadata": {
        "id": "g8QP4OU4ISfs"
      }
    },
    {
      "cell_type": "code",
      "execution_count": null,
      "outputs": [
        {
          "output_type": "execute_result",
          "data": {
            "text/plain": [
              "        user_id  n_tweets\n",
              "0         000vk         1\n",
              "1       0013tom         1\n",
              "2         001gi         1\n",
              "3         001rx         1\n",
              "4        00201f         1\n",
              "...         ...       ...\n",
              "140538     zzyb         1\n",
              "140539    zzyd6         1\n",
              "140540    zzyyu         1\n",
              "140541    zzz9v         1\n",
              "140542     zzza         1\n",
              "\n",
              "[140543 rows x 2 columns]"
            ],
            "text/html": [
              "\n",
              "  <div id=\"df-09cd2434-dc1e-4de6-a7d3-96693e26d2c6\">\n",
              "    <div class=\"colab-df-container\">\n",
              "      <div>\n",
              "<style scoped>\n",
              "    .dataframe tbody tr th:only-of-type {\n",
              "        vertical-align: middle;\n",
              "    }\n",
              "\n",
              "    .dataframe tbody tr th {\n",
              "        vertical-align: top;\n",
              "    }\n",
              "\n",
              "    .dataframe thead th {\n",
              "        text-align: right;\n",
              "    }\n",
              "</style>\n",
              "<table border=\"1\" class=\"dataframe\">\n",
              "  <thead>\n",
              "    <tr style=\"text-align: right;\">\n",
              "      <th></th>\n",
              "      <th>user_id</th>\n",
              "      <th>n_tweets</th>\n",
              "    </tr>\n",
              "  </thead>\n",
              "  <tbody>\n",
              "    <tr>\n",
              "      <th>0</th>\n",
              "      <td>000vk</td>\n",
              "      <td>1</td>\n",
              "    </tr>\n",
              "    <tr>\n",
              "      <th>1</th>\n",
              "      <td>0013tom</td>\n",
              "      <td>1</td>\n",
              "    </tr>\n",
              "    <tr>\n",
              "      <th>2</th>\n",
              "      <td>001gi</td>\n",
              "      <td>1</td>\n",
              "    </tr>\n",
              "    <tr>\n",
              "      <th>3</th>\n",
              "      <td>001rx</td>\n",
              "      <td>1</td>\n",
              "    </tr>\n",
              "    <tr>\n",
              "      <th>4</th>\n",
              "      <td>00201f</td>\n",
              "      <td>1</td>\n",
              "    </tr>\n",
              "    <tr>\n",
              "      <th>...</th>\n",
              "      <td>...</td>\n",
              "      <td>...</td>\n",
              "    </tr>\n",
              "    <tr>\n",
              "      <th>140538</th>\n",
              "      <td>zzyb</td>\n",
              "      <td>1</td>\n",
              "    </tr>\n",
              "    <tr>\n",
              "      <th>140539</th>\n",
              "      <td>zzyd6</td>\n",
              "      <td>1</td>\n",
              "    </tr>\n",
              "    <tr>\n",
              "      <th>140540</th>\n",
              "      <td>zzyyu</td>\n",
              "      <td>1</td>\n",
              "    </tr>\n",
              "    <tr>\n",
              "      <th>140541</th>\n",
              "      <td>zzz9v</td>\n",
              "      <td>1</td>\n",
              "    </tr>\n",
              "    <tr>\n",
              "      <th>140542</th>\n",
              "      <td>zzza</td>\n",
              "      <td>1</td>\n",
              "    </tr>\n",
              "  </tbody>\n",
              "</table>\n",
              "<p>140543 rows × 2 columns</p>\n",
              "</div>\n",
              "      <button class=\"colab-df-convert\" onclick=\"convertToInteractive('df-09cd2434-dc1e-4de6-a7d3-96693e26d2c6')\"\n",
              "              title=\"Convert this dataframe to an interactive table.\"\n",
              "              style=\"display:none;\">\n",
              "        \n",
              "  <svg xmlns=\"http://www.w3.org/2000/svg\" height=\"24px\"viewBox=\"0 0 24 24\"\n",
              "       width=\"24px\">\n",
              "    <path d=\"M0 0h24v24H0V0z\" fill=\"none\"/>\n",
              "    <path d=\"M18.56 5.44l.94 2.06.94-2.06 2.06-.94-2.06-.94-.94-2.06-.94 2.06-2.06.94zm-11 1L8.5 8.5l.94-2.06 2.06-.94-2.06-.94L8.5 2.5l-.94 2.06-2.06.94zm10 10l.94 2.06.94-2.06 2.06-.94-2.06-.94-.94-2.06-.94 2.06-2.06.94z\"/><path d=\"M17.41 7.96l-1.37-1.37c-.4-.4-.92-.59-1.43-.59-.52 0-1.04.2-1.43.59L10.3 9.45l-7.72 7.72c-.78.78-.78 2.05 0 2.83L4 21.41c.39.39.9.59 1.41.59.51 0 1.02-.2 1.41-.59l7.78-7.78 2.81-2.81c.8-.78.8-2.07 0-2.86zM5.41 20L4 18.59l7.72-7.72 1.47 1.35L5.41 20z\"/>\n",
              "  </svg>\n",
              "      </button>\n",
              "      \n",
              "  <style>\n",
              "    .colab-df-container {\n",
              "      display:flex;\n",
              "      flex-wrap:wrap;\n",
              "      gap: 12px;\n",
              "    }\n",
              "\n",
              "    .colab-df-convert {\n",
              "      background-color: #E8F0FE;\n",
              "      border: none;\n",
              "      border-radius: 50%;\n",
              "      cursor: pointer;\n",
              "      display: none;\n",
              "      fill: #1967D2;\n",
              "      height: 32px;\n",
              "      padding: 0 0 0 0;\n",
              "      width: 32px;\n",
              "    }\n",
              "\n",
              "    .colab-df-convert:hover {\n",
              "      background-color: #E2EBFA;\n",
              "      box-shadow: 0px 1px 2px rgba(60, 64, 67, 0.3), 0px 1px 3px 1px rgba(60, 64, 67, 0.15);\n",
              "      fill: #174EA6;\n",
              "    }\n",
              "\n",
              "    [theme=dark] .colab-df-convert {\n",
              "      background-color: #3B4455;\n",
              "      fill: #D2E3FC;\n",
              "    }\n",
              "\n",
              "    [theme=dark] .colab-df-convert:hover {\n",
              "      background-color: #434B5C;\n",
              "      box-shadow: 0px 1px 3px 1px rgba(0, 0, 0, 0.15);\n",
              "      filter: drop-shadow(0px 1px 2px rgba(0, 0, 0, 0.3));\n",
              "      fill: #FFFFFF;\n",
              "    }\n",
              "  </style>\n",
              "\n",
              "      <script>\n",
              "        const buttonEl =\n",
              "          document.querySelector('#df-09cd2434-dc1e-4de6-a7d3-96693e26d2c6 button.colab-df-convert');\n",
              "        buttonEl.style.display =\n",
              "          google.colab.kernel.accessAllowed ? 'block' : 'none';\n",
              "\n",
              "        async function convertToInteractive(key) {\n",
              "          const element = document.querySelector('#df-09cd2434-dc1e-4de6-a7d3-96693e26d2c6');\n",
              "          const dataTable =\n",
              "            await google.colab.kernel.invokeFunction('convertToInteractive',\n",
              "                                                     [key], {});\n",
              "          if (!dataTable) return;\n",
              "\n",
              "          const docLinkHtml = 'Like what you see? Visit the ' +\n",
              "            '<a target=\"_blank\" href=https://colab.research.google.com/notebooks/data_table.ipynb>data table notebook</a>'\n",
              "            + ' to learn more about interactive tables.';\n",
              "          element.innerHTML = '';\n",
              "          dataTable['output_type'] = 'display_data';\n",
              "          await google.colab.output.renderOutput(dataTable, element);\n",
              "          const docLink = document.createElement('div');\n",
              "          docLink.innerHTML = docLinkHtml;\n",
              "          element.appendChild(docLink);\n",
              "        }\n",
              "      </script>\n",
              "    </div>\n",
              "  </div>\n",
              "  "
            ]
          },
          "metadata": {},
          "execution_count": 7
        }
      ],
      "source": [
        "df_indicators"
      ],
      "metadata": {
        "colab": {
          "base_uri": "https://localhost:8080/",
          "height": 424
        },
        "id": "RpJWCjKgISft",
        "outputId": "cae976b0-19c5-483d-d133-3cad7d059a1b"
      }
    },
    {
      "cell_type": "markdown",
      "source": [
        "# How many tweets are published by the user in a given period of time?"
      ],
      "metadata": {
        "collapsed": false,
        "id": "8_rtw8lTISfv"
      }
    },
    {
      "cell_type": "code",
      "execution_count": null,
      "outputs": [
        {
          "output_type": "stream",
          "name": "stdout",
          "text": [
            "<class 'pandas.core.frame.DataFrame'>\n",
            "RangeIndex: 140543 entries, 0 to 140542\n",
            "Data columns (total 11 columns):\n",
            " #   Column       Non-Null Count   Dtype \n",
            "---  ------       --------------   ----- \n",
            " 0   user_id      140543 non-null  object\n",
            " 1   n_tweets     140543 non-null  int64 \n",
            " 2   2012_tweets  140543 non-null  int64 \n",
            " 3   2013_tweets  140543 non-null  int64 \n",
            " 4   2014_tweets  140543 non-null  int64 \n",
            " 5   2015_tweets  140543 non-null  int64 \n",
            " 6   2016_tweets  140543 non-null  int64 \n",
            " 7   2017_tweets  140543 non-null  int64 \n",
            " 8   2018_tweets  140543 non-null  int64 \n",
            " 9   2019_tweets  140543 non-null  int64 \n",
            " 10  2020_tweets  140543 non-null  int64 \n",
            "dtypes: int64(10), object(1)\n",
            "memory usage: 11.8+ MB\n"
          ]
        }
      ],
      "source": [
        "for y in range(2012, 2021):\n",
        "  df_indicators[str(y) + \"_tweets\"] = 0\n",
        "\n",
        "df_indicators.info()"
      ],
      "metadata": {
        "colab": {
          "base_uri": "https://localhost:8080/"
        },
        "id": "8iQwHjwUISfv",
        "outputId": "8b550451-f07a-49a2-dc36-67aaa3d532ca"
      }
    },
    {
      "cell_type": "code",
      "execution_count": null,
      "outputs": [],
      "source": [
        "for y in range(2012,2021):\n",
        "  # Filter all tweets published in a certain year\n",
        "  tweets_by_y = df_tweets[land(df_tweets['created_at'] >= (str(y)+\"-01-01\"),\n",
        "                               df_tweets['created_at'] <= (str(y)+\"-12-31\"))][['user_id','created_at']]\n",
        "\n",
        "  # Count tweets of users in that year\n",
        "  gby = pd.DataFrame({'n_tweets' : tweets_by_y.groupby( [ 'user_id'] ).size()}).reset_index()\n",
        "\n",
        "  # Transform it in a dictionary\n",
        "  gby = dict(zip(gby.user_id, gby.n_tweets))\n",
        "\n",
        "  # Select users to modify and update them\n",
        "  df_indicators.loc[df_indicators['user_id'].isin(gby.keys()), str(y)+'_tweets'] = list(gby.values())"
      ],
      "metadata": {
        "id": "jiVKZ5t9ISfw"
      }
    },
    {
      "cell_type": "code",
      "execution_count": null,
      "outputs": [
        {
          "output_type": "execute_result",
          "data": {
            "text/plain": [
              "<BarContainer object of 9 artists>"
            ]
          },
          "metadata": {},
          "execution_count": 10
        },
        {
          "output_type": "display_data",
          "data": {
            "text/plain": [
              "<Figure size 432x288 with 1 Axes>"
            ],
            "image/png": "[encoded data removed]"
          },
          "metadata": {
            "needs_background": "light"
          }
        }
      ],
      "source": [
        "years_col_list = [str(y)+'_tweets' for y in range(2012,2021)]\n",
        "sum_list = [df_indicators[y].sum() for y in years_col_list]\n",
        "plt.bar(range(2012,2021), sum_list, log=True)"
      ],
      "metadata": {
        "colab": {
          "base_uri": "https://localhost:8080/",
          "height": 282
        },
        "id": "Fy2aCP9nISfx",
        "outputId": "cba3154d-aeb2-45ad-9ef0-68daf3cecd71"
      }
    },
    {
      "cell_type": "markdown",
      "source": [
        "# Total number of tweets"
      ],
      "metadata": {
        "collapsed": false,
        "id": "9S83NJwSISfx"
      }
    },
    {
      "cell_type": "code",
      "execution_count": null,
      "outputs": [
        {
          "output_type": "execute_result",
          "data": {
            "text/plain": [
              "10187873"
            ]
          },
          "metadata": {},
          "execution_count": 11
        }
      ],
      "source": [
        "tot_n_tweets = df_tweets.shape[0]\n",
        "tot_n_tweets"
      ],
      "metadata": {
        "colab": {
          "base_uri": "https://localhost:8080/"
        },
        "id": "DzmDLLlKISfx",
        "outputId": "b87dea1a-5d12-43f9-fb8c-9e585ebc8610"
      }
    },
    {
      "cell_type": "markdown",
      "source": [
        "# Total number of likes and comments and retweets"
      ],
      "metadata": {
        "collapsed": false,
        "id": "ilhPwdfbISfy"
      }
    },
    {
      "cell_type": "code",
      "execution_count": null,
      "outputs": [
        {
          "output_type": "execute_result",
          "data": {
            "text/plain": [
              "5386511"
            ]
          },
          "metadata": {},
          "execution_count": 12
        }
      ],
      "source": [
        "total_favorite = df_tweets.favorite_count.sum()\n",
        "total_favorite"
      ],
      "metadata": {
        "colab": {
          "base_uri": "https://localhost:8080/"
        },
        "id": "4nJGFuJNISfy",
        "outputId": "b09c0204-c2d6-44e0-aa98-5dfc1b103077"
      }
    },
    {
      "cell_type": "code",
      "execution_count": null,
      "outputs": [
        {
          "output_type": "execute_result",
          "data": {
            "text/plain": [
              "886527"
            ]
          },
          "metadata": {},
          "execution_count": 13
        }
      ],
      "source": [
        "total_replies = df_tweets.reply_count.sum()\n",
        "total_replies"
      ],
      "metadata": {
        "colab": {
          "base_uri": "https://localhost:8080/"
        },
        "id": "qUK6-u5-ISfz",
        "outputId": "1c4010fd-35d5-40d6-c86f-a4cfa4b0512f"
      }
    },
    {
      "cell_type": "code",
      "execution_count": null,
      "outputs": [
        {
          "output_type": "execute_result",
          "data": {
            "text/plain": [
              "366372232"
            ]
          },
          "metadata": {},
          "execution_count": 14
        }
      ],
      "source": [
        "total_retweets = df_tweets.retweet_count.sum()\n",
        "total_retweets"
      ],
      "metadata": {
        "colab": {
          "base_uri": "https://localhost:8080/"
        },
        "id": "WqbwonqMISf0",
        "outputId": "40d217b8-d363-40f0-9b3e-13fb9f59c22f"
      }
    },
    {
      "cell_type": "markdown",
      "source": [
        "# Ratio between the number of tweets and the number of likes"
      ],
      "metadata": {
        "collapsed": false,
        "id": "pSPk98VTISf0"
      }
    },
    {
      "cell_type": "code",
      "execution_count": null,
      "outputs": [
        {
          "output_type": "execute_result",
          "data": {
            "text/plain": [
              "1.8913677146486845"
            ]
          },
          "metadata": {},
          "execution_count": 15
        }
      ],
      "source": [
        "ratio_tweets_fav = len(df_tweets) / total_favorite\n",
        "ratio_tweets_fav"
      ],
      "metadata": {
        "colab": {
          "base_uri": "https://localhost:8080/"
        },
        "id": "AHrL9u7BISf1",
        "outputId": "04736ed2-597a-4689-ddba-4f24e7b4bb4c"
      }
    },
    {
      "cell_type": "markdown",
      "source": [
        "## Ratio between the number of tweets and the number of retweets"
      ],
      "metadata": {
        "collapsed": false,
        "id": "YZbvb1rtISf1"
      }
    },
    {
      "cell_type": "code",
      "execution_count": null,
      "outputs": [
        {
          "output_type": "execute_result",
          "data": {
            "text/plain": [
              "0.027807437655373402"
            ]
          },
          "metadata": {},
          "execution_count": 16
        }
      ],
      "source": [
        "ratio_tweets_rt = len(df_tweets) / total_retweets\n",
        "ratio_tweets_rt"
      ],
      "metadata": {
        "colab": {
          "base_uri": "https://localhost:8080/"
        },
        "id": "FfSQMcOyISf1",
        "outputId": "d59f715e-dfbb-4743-bd0d-23261b87114c"
      }
    },
    {
      "cell_type": "markdown",
      "source": [
        "## Ratio between the number of tweets and the number of comments"
      ],
      "metadata": {
        "collapsed": false,
        "id": "4n70M-ZKISf2"
      }
    },
    {
      "cell_type": "code",
      "execution_count": null,
      "outputs": [
        {
          "output_type": "execute_result",
          "data": {
            "text/plain": [
              "11.491892519911971"
            ]
          },
          "metadata": {},
          "execution_count": 17
        }
      ],
      "source": [
        "ratio_tweets_replies = len(df_tweets) / total_replies\n",
        "ratio_tweets_replies"
      ],
      "metadata": {
        "colab": {
          "base_uri": "https://localhost:8080/"
        },
        "id": "lgz3xdlwISf2",
        "outputId": "b4c8d5e8-0acf-4219-90b8-f9c984bd0643"
      }
    },
    {
      "cell_type": "markdown",
      "source": [
        "# Average length of the tweets per user"
      ],
      "metadata": {
        "collapsed": false,
        "id": "rtYthI9aISf2"
      }
    },
    {
      "cell_type": "code",
      "execution_count": null,
      "outputs": [],
      "source": [
        "df_tweets['length'] = df_tweets.text.astype(str).apply(len)"
      ],
      "metadata": {
        "id": "1geqptjFISf3"
      }
    },
    {
      "cell_type": "code",
      "execution_count": null,
      "outputs": [
        {
          "output_type": "execute_result",
          "data": {
            "text/plain": [
              "<matplotlib.axes._subplots.AxesSubplot at 0x7fbbef114550>"
            ]
          },
          "metadata": {},
          "execution_count": 19
        },
        {
          "output_type": "display_data",
          "data": {
            "text/plain": [
              "<Figure size 432x288 with 1 Axes>"
            ],
            "image/png": "[encoded data removed]"
          },
          "metadata": {
            "needs_background": "light"
          }
        }
      ],
      "source": [
        "df_tweets.boxplot('length')"
      ],
      "metadata": {
        "colab": {
          "base_uri": "https://localhost:8080/",
          "height": 282
        },
        "id": "yQHLRC1uISf3",
        "outputId": "f2332512-3f57-48b3-f5c8-64d19731e975"
      }
    },
    {
      "cell_type": "code",
      "execution_count": null,
      "outputs": [],
      "source": [
        "len_groupby = df_tweets.groupby('user_id').agg({'length':'mean'})"
      ],
      "metadata": {
        "id": "SakDBIcMISf3"
      }
    },
    {
      "cell_type": "code",
      "execution_count": null,
      "outputs": [
        {
          "output_type": "stream",
          "name": "stdout",
          "text": [
            "<class 'pandas.core.frame.DataFrame'>\n",
            "RangeIndex: 140543 entries, 0 to 140542\n",
            "Data columns (total 12 columns):\n",
            " #   Column       Non-Null Count   Dtype  \n",
            "---  ------       --------------   -----  \n",
            " 0   user_id      140543 non-null  object \n",
            " 1   n_tweets     140543 non-null  int64  \n",
            " 2   2012_tweets  140543 non-null  int64  \n",
            " 3   2013_tweets  140543 non-null  int64  \n",
            " 4   2014_tweets  140543 non-null  int64  \n",
            " 5   2015_tweets  140543 non-null  int64  \n",
            " 6   2016_tweets  140543 non-null  int64  \n",
            " 7   2017_tweets  140543 non-null  int64  \n",
            " 8   2018_tweets  140543 non-null  int64  \n",
            " 9   2019_tweets  140543 non-null  int64  \n",
            " 10  2020_tweets  140543 non-null  int64  \n",
            " 11  mean_length  140543 non-null  float64\n",
            "dtypes: float64(1), int64(10), object(1)\n",
            "memory usage: 12.9+ MB\n"
          ]
        }
      ],
      "source": [
        "df_indicators['mean_length'] = len_groupby.length.values\n",
        "df_indicators.info()"
      ],
      "metadata": {
        "colab": {
          "base_uri": "https://localhost:8080/"
        },
        "id": "gARkC23-ISf3",
        "outputId": "7ab207f0-90db-421d-e7a6-8fbf7cb4708f"
      }
    },
    {
      "cell_type": "code",
      "execution_count": null,
      "outputs": [
        {
          "output_type": "execute_result",
          "data": {
            "text/plain": [
              "user_id         zzza\n",
              "n_tweets        3447\n",
              "2012_tweets        7\n",
              "2013_tweets      169\n",
              "2014_tweets      885\n",
              "2015_tweets     1697\n",
              "2016_tweets     2824\n",
              "2017_tweets     3250\n",
              "2018_tweets     3202\n",
              "2019_tweets     3360\n",
              "2020_tweets     3350\n",
              "mean_length    365.0\n",
              "dtype: object"
            ]
          },
          "metadata": {},
          "execution_count": 22
        }
      ],
      "source": [
        "df_indicators.max()"
      ],
      "metadata": {
        "colab": {
          "base_uri": "https://localhost:8080/"
        },
        "id": "UEzOI799ISf3",
        "outputId": "8e86b102-8422-4ac5-96ff-9348b76a3657"
      }
    },
    {
      "cell_type": "markdown",
      "source": [
        "# Average number of special characters in the tweets per user"
      ],
      "metadata": {
        "collapsed": false,
        "id": "C_SLCjfTISf4"
      }
    },
    {
      "cell_type": "code",
      "execution_count": null,
      "outputs": [],
      "source": [
        "df_tweets['special_chars'] = df_tweets.text.astype(str).apply(lambda text: len(re.findall(\"(?=\\W)(?=\\S)\", text)))"
      ],
      "metadata": {
        "id": "VrvmISmuISf4"
      }
    },
    {
      "cell_type": "code",
      "execution_count": null,
      "outputs": [
        {
          "output_type": "execute_result",
          "data": {
            "text/plain": [
              "        user_id  n_tweets  2012_tweets  2013_tweets  2014_tweets  2015_tweets  \\\n",
              "0         000vk         1            0            0            0            0   \n",
              "1       0013tom         1            0            0            0            0   \n",
              "2         001gi         1            0            0            0            0   \n",
              "3         001rx         1            0            0            0            0   \n",
              "4        00201f         1            0            0            0            0   \n",
              "...         ...       ...          ...          ...          ...          ...   \n",
              "140538     zzyb         1            0            0            0            0   \n",
              "140539    zzyd6         1            0            0            0            0   \n",
              "140540    zzyyu         1            0            0            0            0   \n",
              "140541    zzz9v         1            0            0            0            0   \n",
              "140542     zzza         1            0            0            0            0   \n",
              "\n",
              "        2016_tweets  2017_tweets  2018_tweets  2019_tweets  2020_tweets  \\\n",
              "0                 0            0            0            0            1   \n",
              "1                 0            0            1            0            0   \n",
              "2                 0            0            0            0            1   \n",
              "3                 0            0            0            0            1   \n",
              "4                 0            0            0            1            0   \n",
              "...             ...          ...          ...          ...          ...   \n",
              "140538            0            0            0            1            0   \n",
              "140539            0            0            0            1            0   \n",
              "140540            0            0            0            0            1   \n",
              "140541            0            0            0            1            0   \n",
              "140542            0            0            0            0            1   \n",
              "\n",
              "        mean_length  mean_special_chars  \n",
              "0             110.0                 9.0  \n",
              "1             104.0                 5.0  \n",
              "2              15.0                 0.0  \n",
              "3              47.0                 0.0  \n",
              "4               3.0                 0.0  \n",
              "...             ...                 ...  \n",
              "140538          3.0                 0.0  \n",
              "140539         66.0                 0.0  \n",
              "140540         64.0                 1.0  \n",
              "140541          3.0                 0.0  \n",
              "140542         16.0                 1.0  \n",
              "\n",
              "[140543 rows x 13 columns]"
            ],
            "text/html": [
              "\n",
              "  <div id=\"df-97fbd27f-0258-4ef4-ada0-490f73d228bc\">\n",
              "    <div class=\"colab-df-container\">\n",
              "      <div>\n",
              "<style scoped>\n",
              "    .dataframe tbody tr th:only-of-type {\n",
              "        vertical-align: middle;\n",
              "    }\n",
              "\n",
              "    .dataframe tbody tr th {\n",
              "        vertical-align: top;\n",
              "    }\n",
              "\n",
              "    .dataframe thead th {\n",
              "        text-align: right;\n",
              "    }\n",
              "</style>\n",
              "<table border=\"1\" class=\"dataframe\">\n",
              "  <thead>\n",
              "    <tr style=\"text-align: right;\">\n",
              "      <th></th>\n",
              "      <th>user_id</th>\n",
              "      <th>n_tweets</th>\n",
              "      <th>2012_tweets</th>\n",
              "      <th>2013_tweets</th>\n",
              "      <th>2014_tweets</th>\n",
              "      <th>2015_tweets</th>\n",
              "      <th>2016_tweets</th>\n",
              "      <th>2017_tweets</th>\n",
              "      <th>2018_tweets</th>\n",
              "      <th>2019_tweets</th>\n",
              "      <th>2020_tweets</th>\n",
              "      <th>mean_length</th>\n",
              "      <th>mean_special_chars</th>\n",
              "    </tr>\n",
              "  </thead>\n",
              "  <tbody>\n",
              "    <tr>\n",
              "      <th>0</th>\n",
              "      <td>000vk</td>\n",
              "      <td>1</td>\n",
              "      <td>0</td>\n",
              "      <td>0</td>\n",
              "      <td>0</td>\n",
              "      <td>0</td>\n",
              "      <td>0</td>\n",
              "      <td>0</td>\n",
              "      <td>0</td>\n",
              "      <td>0</td>\n",
              "      <td>1</td>\n",
              "      <td>110.0</td>\n",
              "      <td>9.0</td>\n",
              "    </tr>\n",
              "    <tr>\n",
              "      <th>1</th>\n",
              "      <td>0013tom</td>\n",
              "      <td>1</td>\n",
              "      <td>0</td>\n",
              "      <td>0</td>\n",
              "      <td>0</td>\n",
              "      <td>0</td>\n",
              "      <td>0</td>\n",
              "      <td>0</td>\n",
              "      <td>1</td>\n",
              "      <td>0</td>\n",
              "      <td>0</td>\n",
              "      <td>104.0</td>\n",
              "      <td>5.0</td>\n",
              "    </tr>\n",
              "    <tr>\n",
              "      <th>2</th>\n",
              "      <td>001gi</td>\n",
              "      <td>1</td>\n",
              "      <td>0</td>\n",
              "      <td>0</td>\n",
              "      <td>0</td>\n",
              "      <td>0</td>\n",
              "      <td>0</td>\n",
              "      <td>0</td>\n",
              "      <td>0</td>\n",
              "      <td>0</td>\n",
              "      <td>1</td>\n",
              "      <td>15.0</td>\n",
              "      <td>0.0</td>\n",
              "    </tr>\n",
              "    <tr>\n",
              "      <th>3</th>\n",
              "      <td>001rx</td>\n",
              "      <td>1</td>\n",
              "      <td>0</td>\n",
              "      <td>0</td>\n",
              "      <td>0</td>\n",
              "      <td>0</td>\n",
              "      <td>0</td>\n",
              "      <td>0</td>\n",
              "      <td>0</td>\n",
              "      <td>0</td>\n",
              "      <td>1</td>\n",
              "      <td>47.0</td>\n",
              "      <td>0.0</td>\n",
              "    </tr>\n",
              "    <tr>\n",
              "      <th>4</th>\n",
              "      <td>00201f</td>\n",
              "      <td>1</td>\n",
              "      <td>0</td>\n",
              "      <td>0</td>\n",
              "      <td>0</td>\n",
              "      <td>0</td>\n",
              "      <td>0</td>\n",
              "      <td>0</td>\n",
              "      <td>0</td>\n",
              "      <td>1</td>\n",
              "      <td>0</td>\n",
              "      <td>3.0</td>\n",
              "      <td>0.0</td>\n",
              "    </tr>\n",
              "    <tr>\n",
              "      <th>...</th>\n",
              "      <td>...</td>\n",
              "      <td>...</td>\n",
              "      <td>...</td>\n",
              "      <td>...</td>\n",
              "      <td>...</td>\n",
              "      <td>...</td>\n",
              "      <td>...</td>\n",
              "      <td>...</td>\n",
              "      <td>...</td>\n",
              "      <td>...</td>\n",
              "      <td>...</td>\n",
              "      <td>...</td>\n",
              "      <td>...</td>\n",
              "    </tr>\n",
              "    <tr>\n",
              "      <th>140538</th>\n",
              "      <td>zzyb</td>\n",
              "      <td>1</td>\n",
              "      <td>0</td>\n",
              "      <td>0</td>\n",
              "      <td>0</td>\n",
              "      <td>0</td>\n",
              "      <td>0</td>\n",
              "      <td>0</td>\n",
              "      <td>0</td>\n",
              "      <td>1</td>\n",
              "      <td>0</td>\n",
              "      <td>3.0</td>\n",
              "      <td>0.0</td>\n",
              "    </tr>\n",
              "    <tr>\n",
              "      <th>140539</th>\n",
              "      <td>zzyd6</td>\n",
              "      <td>1</td>\n",
              "      <td>0</td>\n",
              "      <td>0</td>\n",
              "      <td>0</td>\n",
              "      <td>0</td>\n",
              "      <td>0</td>\n",
              "      <td>0</td>\n",
              "      <td>0</td>\n",
              "      <td>1</td>\n",
              "      <td>0</td>\n",
              "      <td>66.0</td>\n",
              "      <td>0.0</td>\n",
              "    </tr>\n",
              "    <tr>\n",
              "      <th>140540</th>\n",
              "      <td>zzyyu</td>\n",
              "      <td>1</td>\n",
              "      <td>0</td>\n",
              "      <td>0</td>\n",
              "      <td>0</td>\n",
              "      <td>0</td>\n",
              "      <td>0</td>\n",
              "      <td>0</td>\n",
              "      <td>0</td>\n",
              "      <td>0</td>\n",
              "      <td>1</td>\n",
              "      <td>64.0</td>\n",
              "      <td>1.0</td>\n",
              "    </tr>\n",
              "    <tr>\n",
              "      <th>140541</th>\n",
              "      <td>zzz9v</td>\n",
              "      <td>1</td>\n",
              "      <td>0</td>\n",
              "      <td>0</td>\n",
              "      <td>0</td>\n",
              "      <td>0</td>\n",
              "      <td>0</td>\n",
              "      <td>0</td>\n",
              "      <td>0</td>\n",
              "      <td>1</td>\n",
              "      <td>0</td>\n",
              "      <td>3.0</td>\n",
              "      <td>0.0</td>\n",
              "    </tr>\n",
              "    <tr>\n",
              "      <th>140542</th>\n",
              "      <td>zzza</td>\n",
              "      <td>1</td>\n",
              "      <td>0</td>\n",
              "      <td>0</td>\n",
              "      <td>0</td>\n",
              "      <td>0</td>\n",
              "      <td>0</td>\n",
              "      <td>0</td>\n",
              "      <td>0</td>\n",
              "      <td>0</td>\n",
              "      <td>1</td>\n",
              "      <td>16.0</td>\n",
              "      <td>1.0</td>\n",
              "    </tr>\n",
              "  </tbody>\n",
              "</table>\n",
              "<p>140543 rows × 13 columns</p>\n",
              "</div>\n",
              "      <button class=\"colab-df-convert\" onclick=\"convertToInteractive('df-97fbd27f-0258-4ef4-ada0-490f73d228bc')\"\n",
              "              title=\"Convert this dataframe to an interactive table.\"\n",
              "              style=\"display:none;\">\n",
              "        \n",
              "  <svg xmlns=\"http://www.w3.org/2000/svg\" height=\"24px\"viewBox=\"0 0 24 24\"\n",
              "       width=\"24px\">\n",
              "    <path d=\"M0 0h24v24H0V0z\" fill=\"none\"/>\n",
              "    <path d=\"M18.56 5.44l.94 2.06.94-2.06 2.06-.94-2.06-.94-.94-2.06-.94 2.06-2.06.94zm-11 1L8.5 8.5l.94-2.06 2.06-.94-2.06-.94L8.5 2.5l-.94 2.06-2.06.94zm10 10l.94 2.06.94-2.06 2.06-.94-2.06-.94-.94-2.06-.94 2.06-2.06.94z\"/><path d=\"M17.41 7.96l-1.37-1.37c-.4-.4-.92-.59-1.43-.59-.52 0-1.04.2-1.43.59L10.3 9.45l-7.72 7.72c-.78.78-.78 2.05 0 2.83L4 21.41c.39.39.9.59 1.41.59.51 0 1.02-.2 1.41-.59l7.78-7.78 2.81-2.81c.8-.78.8-2.07 0-2.86zM5.41 20L4 18.59l7.72-7.72 1.47 1.35L5.41 20z\"/>\n",
              "  </svg>\n",
              "      </button>\n",
              "      \n",
              "  <style>\n",
              "    .colab-df-container {\n",
              "      display:flex;\n",
              "      flex-wrap:wrap;\n",
              "      gap: 12px;\n",
              "    }\n",
              "\n",
              "    .colab-df-convert {\n",
              "      background-color: #E8F0FE;\n",
              "      border: none;\n",
              "      border-radius: 50%;\n",
              "      cursor: pointer;\n",
              "      display: none;\n",
              "      fill: #1967D2;\n",
              "      height: 32px;\n",
              "      padding: 0 0 0 0;\n",
              "      width: 32px;\n",
              "    }\n",
              "\n",
              "    .colab-df-convert:hover {\n",
              "      background-color: #E2EBFA;\n",
              "      box-shadow: 0px 1px 2px rgba(60, 64, 67, 0.3), 0px 1px 3px 1px rgba(60, 64, 67, 0.15);\n",
              "      fill: #174EA6;\n",
              "    }\n",
              "\n",
              "    [theme=dark] .colab-df-convert {\n",
              "      background-color: #3B4455;\n",
              "      fill: #D2E3FC;\n",
              "    }\n",
              "\n",
              "    [theme=dark] .colab-df-convert:hover {\n",
              "      background-color: #434B5C;\n",
              "      box-shadow: 0px 1px 3px 1px rgba(0, 0, 0, 0.15);\n",
              "      filter: drop-shadow(0px 1px 2px rgba(0, 0, 0, 0.3));\n",
              "      fill: #FFFFFF;\n",
              "    }\n",
              "  </style>\n",
              "\n",
              "      <script>\n",
              "        const buttonEl =\n",
              "          document.querySelector('#df-97fbd27f-0258-4ef4-ada0-490f73d228bc button.colab-df-convert');\n",
              "        buttonEl.style.display =\n",
              "          google.colab.kernel.accessAllowed ? 'block' : 'none';\n",
              "\n",
              "        async function convertToInteractive(key) {\n",
              "          const element = document.querySelector('#df-97fbd27f-0258-4ef4-ada0-490f73d228bc');\n",
              "          const dataTable =\n",
              "            await google.colab.kernel.invokeFunction('convertToInteractive',\n",
              "                                                     [key], {});\n",
              "          if (!dataTable) return;\n",
              "\n",
              "          const docLinkHtml = 'Like what you see? Visit the ' +\n",
              "            '<a target=\"_blank\" href=https://colab.research.google.com/notebooks/data_table.ipynb>data table notebook</a>'\n",
              "            + ' to learn more about interactive tables.';\n",
              "          element.innerHTML = '';\n",
              "          dataTable['output_type'] = 'display_data';\n",
              "          await google.colab.output.renderOutput(dataTable, element);\n",
              "          const docLink = document.createElement('div');\n",
              "          docLink.innerHTML = docLinkHtml;\n",
              "          element.appendChild(docLink);\n",
              "        }\n",
              "      </script>\n",
              "    </div>\n",
              "  </div>\n",
              "  "
            ]
          },
          "metadata": {},
          "execution_count": 24
        }
      ],
      "source": [
        "len_groupby = df_tweets.groupby('user_id').agg({'special_chars':'mean'})\n",
        "\n",
        "df_indicators['mean_special_chars'] = len_groupby.special_chars.values\n",
        "df_indicators"
      ],
      "metadata": {
        "colab": {
          "base_uri": "https://localhost:8080/",
          "height": 424
        },
        "id": "Jhq1g2aVISf4",
        "outputId": "1818d895-bb33-420e-acf6-4df96a659019"
      }
    },
    {
      "cell_type": "markdown",
      "source": [
        "# File Checkpoint"
      ],
      "metadata": {
        "collapsed": false,
        "id": "rF8PTbxxISf4"
      }
    },
    {
      "cell_type": "code",
      "execution_count": null,
      "outputs": [],
      "source": [
        "df_tweets.to_csv(path_or_buf=DATA_PATH+'tweets_with_indicators.csv', sep='#', index=False)"
      ],
      "metadata": {
        "id": "zr0wDeNzISf4"
      }
    },
    {
      "cell_type": "code",
      "execution_count": null,
      "outputs": [],
      "source": [
        "df_indicators.to_csv(path_or_buf=DATA_PATH+'indicators_1.csv', sep='#', index=False)"
      ],
      "metadata": {
        "id": "CyWUObHwISf4"
      }
    },
    {
      "cell_type": "code",
      "execution_count": null,
      "outputs": [],
      "source": [
        "df_indicators = pd.read_csv(DATA_PATH+'indicators_1.csv', sep='#')"
      ],
      "metadata": {
        "id": "7oVoH0f1ISf5"
      }
    },
    {
      "cell_type": "code",
      "execution_count": null,
      "outputs": [
        {
          "output_type": "stream",
          "name": "stderr",
          "text": [
            "/usr/local/lib/python3.7/dist-packages/IPython/core/interactiveshell.py:3326: DtypeWarning: Columns (0,1,2) have mixed types.Specify dtype option on import or set low_memory=False.\n",
            "  exec(code_obj, self.user_global_ns, self.user_ns)\n"
          ]
        }
      ],
      "source": [
        "df_tweets = pd.read_csv(DATA_PATH+'tweets_with_indicators.csv', sep='#')"
      ],
      "metadata": {
        "colab": {
          "base_uri": "https://localhost:8080/"
        },
        "id": "GxYlAg4EISf5",
        "outputId": "fab7cfa0-d904-41a0-bfda-aad10225bc6a"
      }
    },
    {
      "cell_type": "markdown",
      "source": [
        "# Mean, standard deviation, entropy and total for each attribute by user"
      ],
      "metadata": {
        "collapsed": false,
        "id": "jurZeyT7ISf5"
      }
    },
    {
      "cell_type": "code",
      "execution_count": null,
      "outputs": [
        {
          "output_type": "stream",
          "name": "stderr",
          "text": [
            "/usr/local/lib/python3.7/dist-packages/scipy/stats/_entropy.py:72: RuntimeWarning: invalid value encountered in true_divide\n",
            "  pk = 1.0*pk / np.sum(pk, axis=axis, keepdims=True)\n"
          ]
        }
      ],
      "source": [
        "user_groupby = df_tweets.groupby('user_id').agg(['mean','std',entropy,'sum'])"
      ],
      "metadata": {
        "colab": {
          "base_uri": "https://localhost:8080/"
        },
        "id": "lM2-825fISf5",
        "outputId": "9366bb96-58cb-43f2-8b25-b9439f3e0221"
      }
    },
    {
      "cell_type": "code",
      "execution_count": null,
      "outputs": [],
      "source": [
        "user_groupby.drop(columns=['length','special_chars'], inplace=True)"
      ],
      "metadata": {
        "id": "aYOsRgQLISf5"
      }
    },
    {
      "cell_type": "code",
      "execution_count": null,
      "outputs": [],
      "source": [
        "# convert from multiindex to \"{column_name}_mean\", \"{column_name}_std\", \"{column_name}_entropy\"\n",
        "cols = list(user_groupby.columns.map('_'.join).str.strip('_'))"
      ],
      "metadata": {
        "id": "0Zve48E9ISf5"
      }
    },
    {
      "cell_type": "code",
      "execution_count": null,
      "outputs": [],
      "source": [
        "df_indicators[cols] = user_groupby.values"
      ],
      "metadata": {
        "id": "jFz3Z-WOISf6"
      }
    },
    {
      "cell_type": "code",
      "execution_count": null,
      "outputs": [
        {
          "output_type": "execute_result",
          "data": {
            "text/plain": [
              "user_id                                        zzza\n",
              "n_tweets                                       3447\n",
              "2012_tweets                                       7\n",
              "2013_tweets                                     169\n",
              "2014_tweets                                     885\n",
              "2015_tweets                                    1697\n",
              "2016_tweets                                    2824\n",
              "2017_tweets                                    3250\n",
              "2018_tweets                                    3202\n",
              "2019_tweets                                    3360\n",
              "2020_tweets                                    3350\n",
              "mean_length                                   365.0\n",
              "mean_special_chars                            213.0\n",
              "created_at_conv_mean          1588500732000000000.0\n",
              "created_at_conv_std            132553602926447472.0\n",
              "created_at_conv_entropy                 1228.368088\n",
              "created_at_conv_sum        5309383812657999511552.0\n",
              "retweet_count_mean                         449743.0\n",
              "retweet_count_std                     151907.042696\n",
              "retweet_count_entropy                      8.094378\n",
              "retweet_count_sum                        12137360.0\n",
              "reply_count_mean                           818137.0\n",
              "reply_count_std                         2571.240268\n",
              "reply_count_entropy                        4.744932\n",
              "reply_count_sum                            818137.0\n",
              "favorite_count_mean                         71000.0\n",
              "favorite_count_std                     47828.452449\n",
              "favorite_count_entropy                     8.091933\n",
              "favorite_count_sum                         284906.0\n",
              "num_hashtags_mean                              14.0\n",
              "num_hashtags_std                          11.103618\n",
              "num_hashtags_entropy                        8.03625\n",
              "num_hashtags_sum                            15340.0\n",
              "num_urls_mean                                  18.0\n",
              "num_urls_std                               2.690075\n",
              "num_urls_entropy                            8.10132\n",
              "num_urls_sum                                 3563.0\n",
              "num_mentions_mean                              11.0\n",
              "num_mentions_std                           7.300246\n",
              "num_mentions_entropy                       8.023161\n",
              "num_mentions_sum                            12744.0\n",
              "dtype: object"
            ]
          },
          "metadata": {},
          "execution_count": 33
        }
      ],
      "source": [
        "df_indicators.max()"
      ],
      "metadata": {
        "colab": {
          "base_uri": "https://localhost:8080/"
        },
        "id": "eHnbZjLfISf6",
        "outputId": "9b9b244f-572b-4cb5-d03a-6dd207469f72"
      }
    },
    {
      "cell_type": "markdown",
      "metadata": {
        "id": "_yylOrtau5bu"
      },
      "source": [
        "# Tweeting regularity\n",
        "We want an indicator that can tell us if the user has a certain regularity in the publication.\n",
        "We define the tweeting regularity of a user as:\n",
        "$$ Var( \\{\\ timestamp_i - timestamp_j\\ |\\ j = i + 1 \\} )$$"
      ]
    },
    {
      "cell_type": "code",
      "execution_count": null,
      "metadata": {
        "id": "bB4x0Op1u5bv"
      },
      "outputs": [],
      "source": [
        "def tweeting_regularity(user_timestamps):\n",
        "\n",
        "    user_timestamps = user_timestamps.values\n",
        "\n",
        "    if(len(user_timestamps) == 1):\n",
        "        return 0\n",
        "\n",
        "    user_timestamps.sort()\n",
        "    diffs = []\n",
        "    for i in range(1,len(user_timestamps)):\n",
        "        diffs.append(user_timestamps[i]-user_timestamps[i-1])\n",
        "    diffs = np.array(diffs)\n",
        "\n",
        "    return entropy(diffs)\n",
        "\n",
        "df_indicators['tweeting_regularity'] = df_tweets.groupby('user_id').agg({'created_at_conv': tweeting_regularity}).values"
      ]
    },
    {
      "cell_type": "code",
      "execution_count": null,
      "outputs": [
        {
          "output_type": "execute_result",
          "data": {
            "text/plain": [
              "0.000000    128974\n",
              "4.364155         1\n",
              "3.462674         1\n",
              "5.806535         1\n",
              "5.641228         1\n",
              "             ...  \n",
              "2.628242         1\n",
              "2.437555         1\n",
              "2.496194         1\n",
              "2.410906         1\n",
              "0.678564         1\n",
              "Name: tweeting_regularity, Length: 11562, dtype: int64"
            ]
          },
          "metadata": {},
          "execution_count": 35
        }
      ],
      "source": [
        "df_indicators['tweeting_regularity'].value_counts()"
      ],
      "metadata": {
        "colab": {
          "base_uri": "https://localhost:8080/"
        },
        "id": "GkFMkbgeISf6",
        "outputId": "75996264-4200-42b6-dbc8-fda418d97abe"
      }
    },
    {
      "cell_type": "code",
      "execution_count": null,
      "outputs": [
        {
          "output_type": "display_data",
          "data": {
            "text/plain": [
              "<Figure size 432x288 with 1 Axes>"
            ],
            "image/png": "[encoded data removed]"
          },
          "metadata": {
            "needs_background": "light"
          }
        }
      ],
      "source": [
        "plot_boxplot(df_indicators[df_indicators.tweeting_regularity.notnull()],'tweeting_regularity')"
      ],
      "metadata": {
        "colab": {
          "base_uri": "https://localhost:8080/",
          "height": 281
        },
        "id": "j1wVtoPqISf7",
        "outputId": "12ef5d3f-f8c4-4049-8ed5-122a0d15e1c3"
      }
    },
    {
      "cell_type": "markdown",
      "source": [
        "# Maximum number of tweets in a day by user"
      ],
      "metadata": {
        "id": "Oy7KamoRwkvw"
      }
    },
    {
      "cell_type": "markdown",
      "source": [
        "Add new column which represents the date as the number of the day in the year (e.g. 1st of Janueary would be 1, 2nd of January would be 2, [...], 31st of December would be 365 or 366) concatenated to the year.\n",
        "For example, 2nd of January of 2019 would be \"2_2019\"."
      ],
      "metadata": {
        "id": "XPjdz1Db3DUB"
      }
    },
    {
      "cell_type": "code",
      "source": [
        "df_tweets['day_of_year'] = pd.DatetimeIndex(df_tweets.created_at).day_of_year.map(str) + \"_\" + pd.DatetimeIndex(df_tweets.created_at).year.map(str)"
      ],
      "metadata": {
        "id": "FvoLCDTDwoix"
      },
      "execution_count": null,
      "outputs": []
    },
    {
      "cell_type": "code",
      "source": [
        "df_tweets['day_of_year']"
      ],
      "metadata": {
        "colab": {
          "base_uri": "https://localhost:8080/"
        },
        "id": "BCvgKQpFAwJL",
        "outputId": "1415ba11-e0d0-469e-ca27-24bf199e1305"
      },
      "execution_count": null,
      "outputs": [
        {
          "output_type": "execute_result",
          "data": {
            "text/plain": [
              "0           254_2019\n",
              "1            92_2020\n",
              "2           122_2019\n",
              "3           308_2019\n",
              "4            71_2020\n",
              "              ...   \n",
              "10187868    116_2019\n",
              "10187869    108_2020\n",
              "10187870    192_2016\n",
              "10187871     66_2019\n",
              "10187872    191_2019\n",
              "Name: day_of_year, Length: 10187873, dtype: object"
            ]
          },
          "metadata": {},
          "execution_count": 38
        }
      ]
    },
    {
      "cell_type": "code",
      "source": [
        "user_date_groupby = pd.DataFrame({'n_tweets_by_day' : df_tweets.groupby( [ 'user_id', 'day_of_year'] ).size()}).reset_index()"
      ],
      "metadata": {
        "id": "DTlXnlHJ9y5z"
      },
      "execution_count": null,
      "outputs": []
    },
    {
      "cell_type": "code",
      "source": [
        "user_date_groupby"
      ],
      "metadata": {
        "colab": {
          "base_uri": "https://localhost:8080/",
          "height": 424
        },
        "id": "PTxryXW__Nzc",
        "outputId": "b463038d-5534-4488-c37d-65f3d4941331"
      },
      "execution_count": null,
      "outputs": [
        {
          "output_type": "execute_result",
          "data": {
            "text/plain": [
              "         user_id day_of_year  n_tweets_by_day\n",
              "0          000vk    118_2020                1\n",
              "1        0013tom     99_2018                1\n",
              "2          001gi     98_2020                1\n",
              "3          001rx     70_2020                1\n",
              "4         00201f     43_2019                1\n",
              "...          ...         ...              ...\n",
              "1151381     zzyb    306_2019                1\n",
              "1151382    zzyd6    170_2019                1\n",
              "1151383    zzyyu     88_2020                1\n",
              "1151384    zzz9v    106_2019                1\n",
              "1151385     zzza     20_2020                1\n",
              "\n",
              "[1151386 rows x 3 columns]"
            ],
            "text/html": [
              "\n",
              "  <div id=\"df-39d4b926-b1a3-4359-98a2-ca255d7cf7e2\">\n",
              "    <div class=\"colab-df-container\">\n",
              "      <div>\n",
              "<style scoped>\n",
              "    .dataframe tbody tr th:only-of-type {\n",
              "        vertical-align: middle;\n",
              "    }\n",
              "\n",
              "    .dataframe tbody tr th {\n",
              "        vertical-align: top;\n",
              "    }\n",
              "\n",
              "    .dataframe thead th {\n",
              "        text-align: right;\n",
              "    }\n",
              "</style>\n",
              "<table border=\"1\" class=\"dataframe\">\n",
              "  <thead>\n",
              "    <tr style=\"text-align: right;\">\n",
              "      <th></th>\n",
              "      <th>user_id</th>\n",
              "      <th>day_of_year</th>\n",
              "      <th>n_tweets_by_day</th>\n",
              "    </tr>\n",
              "  </thead>\n",
              "  <tbody>\n",
              "    <tr>\n",
              "      <th>0</th>\n",
              "      <td>000vk</td>\n",
              "      <td>118_2020</td>\n",
              "      <td>1</td>\n",
              "    </tr>\n",
              "    <tr>\n",
              "      <th>1</th>\n",
              "      <td>0013tom</td>\n",
              "      <td>99_2018</td>\n",
              "      <td>1</td>\n",
              "    </tr>\n",
              "    <tr>\n",
              "      <th>2</th>\n",
              "      <td>001gi</td>\n",
              "      <td>98_2020</td>\n",
              "      <td>1</td>\n",
              "    </tr>\n",
              "    <tr>\n",
              "      <th>3</th>\n",
              "      <td>001rx</td>\n",
              "      <td>70_2020</td>\n",
              "      <td>1</td>\n",
              "    </tr>\n",
              "    <tr>\n",
              "      <th>4</th>\n",
              "      <td>00201f</td>\n",
              "      <td>43_2019</td>\n",
              "      <td>1</td>\n",
              "    </tr>\n",
              "    <tr>\n",
              "      <th>...</th>\n",
              "      <td>...</td>\n",
              "      <td>...</td>\n",
              "      <td>...</td>\n",
              "    </tr>\n",
              "    <tr>\n",
              "      <th>1151381</th>\n",
              "      <td>zzyb</td>\n",
              "      <td>306_2019</td>\n",
              "      <td>1</td>\n",
              "    </tr>\n",
              "    <tr>\n",
              "      <th>1151382</th>\n",
              "      <td>zzyd6</td>\n",
              "      <td>170_2019</td>\n",
              "      <td>1</td>\n",
              "    </tr>\n",
              "    <tr>\n",
              "      <th>1151383</th>\n",
              "      <td>zzyyu</td>\n",
              "      <td>88_2020</td>\n",
              "      <td>1</td>\n",
              "    </tr>\n",
              "    <tr>\n",
              "      <th>1151384</th>\n",
              "      <td>zzz9v</td>\n",
              "      <td>106_2019</td>\n",
              "      <td>1</td>\n",
              "    </tr>\n",
              "    <tr>\n",
              "      <th>1151385</th>\n",
              "      <td>zzza</td>\n",
              "      <td>20_2020</td>\n",
              "      <td>1</td>\n",
              "    </tr>\n",
              "  </tbody>\n",
              "</table>\n",
              "<p>1151386 rows × 3 columns</p>\n",
              "</div>\n",
              "      <button class=\"colab-df-convert\" onclick=\"convertToInteractive('df-39d4b926-b1a3-4359-98a2-ca255d7cf7e2')\"\n",
              "              title=\"Convert this dataframe to an interactive table.\"\n",
              "              style=\"display:none;\">\n",
              "        \n",
              "  <svg xmlns=\"http://www.w3.org/2000/svg\" height=\"24px\"viewBox=\"0 0 24 24\"\n",
              "       width=\"24px\">\n",
              "    <path d=\"M0 0h24v24H0V0z\" fill=\"none\"/>\n",
              "    <path d=\"M18.56 5.44l.94 2.06.94-2.06 2.06-.94-2.06-.94-.94-2.06-.94 2.06-2.06.94zm-11 1L8.5 8.5l.94-2.06 2.06-.94-2.06-.94L8.5 2.5l-.94 2.06-2.06.94zm10 10l.94 2.06.94-2.06 2.06-.94-2.06-.94-.94-2.06-.94 2.06-2.06.94z\"/><path d=\"M17.41 7.96l-1.37-1.37c-.4-.4-.92-.59-1.43-.59-.52 0-1.04.2-1.43.59L10.3 9.45l-7.72 7.72c-.78.78-.78 2.05 0 2.83L4 21.41c.39.39.9.59 1.41.59.51 0 1.02-.2 1.41-.59l7.78-7.78 2.81-2.81c.8-.78.8-2.07 0-2.86zM5.41 20L4 18.59l7.72-7.72 1.47 1.35L5.41 20z\"/>\n",
              "  </svg>\n",
              "      </button>\n",
              "      \n",
              "  <style>\n",
              "    .colab-df-container {\n",
              "      display:flex;\n",
              "      flex-wrap:wrap;\n",
              "      gap: 12px;\n",
              "    }\n",
              "\n",
              "    .colab-df-convert {\n",
              "      background-color: #E8F0FE;\n",
              "      border: none;\n",
              "      border-radius: 50%;\n",
              "      cursor: pointer;\n",
              "      display: none;\n",
              "      fill: #1967D2;\n",
              "      height: 32px;\n",
              "      padding: 0 0 0 0;\n",
              "      width: 32px;\n",
              "    }\n",
              "\n",
              "    .colab-df-convert:hover {\n",
              "      background-color: #E2EBFA;\n",
              "      box-shadow: 0px 1px 2px rgba(60, 64, 67, 0.3), 0px 1px 3px 1px rgba(60, 64, 67, 0.15);\n",
              "      fill: #174EA6;\n",
              "    }\n",
              "\n",
              "    [theme=dark] .colab-df-convert {\n",
              "      background-color: #3B4455;\n",
              "      fill: #D2E3FC;\n",
              "    }\n",
              "\n",
              "    [theme=dark] .colab-df-convert:hover {\n",
              "      background-color: #434B5C;\n",
              "      box-shadow: 0px 1px 3px 1px rgba(0, 0, 0, 0.15);\n",
              "      filter: drop-shadow(0px 1px 2px rgba(0, 0, 0, 0.3));\n",
              "      fill: #FFFFFF;\n",
              "    }\n",
              "  </style>\n",
              "\n",
              "      <script>\n",
              "        const buttonEl =\n",
              "          document.querySelector('#df-39d4b926-b1a3-4359-98a2-ca255d7cf7e2 button.colab-df-convert');\n",
              "        buttonEl.style.display =\n",
              "          google.colab.kernel.accessAllowed ? 'block' : 'none';\n",
              "\n",
              "        async function convertToInteractive(key) {\n",
              "          const element = document.querySelector('#df-39d4b926-b1a3-4359-98a2-ca255d7cf7e2');\n",
              "          const dataTable =\n",
              "            await google.colab.kernel.invokeFunction('convertToInteractive',\n",
              "                                                     [key], {});\n",
              "          if (!dataTable) return;\n",
              "\n",
              "          const docLinkHtml = 'Like what you see? Visit the ' +\n",
              "            '<a target=\"_blank\" href=https://colab.research.google.com/notebooks/data_table.ipynb>data table notebook</a>'\n",
              "            + ' to learn more about interactive tables.';\n",
              "          element.innerHTML = '';\n",
              "          dataTable['output_type'] = 'display_data';\n",
              "          await google.colab.output.renderOutput(dataTable, element);\n",
              "          const docLink = document.createElement('div');\n",
              "          docLink.innerHTML = docLinkHtml;\n",
              "          element.appendChild(docLink);\n",
              "        }\n",
              "      </script>\n",
              "    </div>\n",
              "  </div>\n",
              "  "
            ]
          },
          "metadata": {},
          "execution_count": 40
        }
      ]
    },
    {
      "cell_type": "code",
      "source": [
        "# Maximum number of tweets in a day\n",
        "user_date_groupby[user_date_groupby['n_tweets_by_day'] == user_date_groupby['n_tweets_by_day'].max()]"
      ],
      "metadata": {
        "colab": {
          "base_uri": "https://localhost:8080/",
          "height": 81
        },
        "id": "UcUIhcLp995i",
        "outputId": "f29f2e96-9f55-4892-c206-3a3ae7e9babe"
      },
      "execution_count": null,
      "outputs": [
        {
          "output_type": "execute_result",
          "data": {
            "text/plain": [
              "          user_id day_of_year  n_tweets_by_day\n",
              "778142  492649414    115_2020             3238"
            ],
            "text/html": [
              "\n",
              "  <div id=\"df-49d4026f-bfab-49c0-aaea-539b02be00e2\">\n",
              "    <div class=\"colab-df-container\">\n",
              "      <div>\n",
              "<style scoped>\n",
              "    .dataframe tbody tr th:only-of-type {\n",
              "        vertical-align: middle;\n",
              "    }\n",
              "\n",
              "    .dataframe tbody tr th {\n",
              "        vertical-align: top;\n",
              "    }\n",
              "\n",
              "    .dataframe thead th {\n",
              "        text-align: right;\n",
              "    }\n",
              "</style>\n",
              "<table border=\"1\" class=\"dataframe\">\n",
              "  <thead>\n",
              "    <tr style=\"text-align: right;\">\n",
              "      <th></th>\n",
              "      <th>user_id</th>\n",
              "      <th>day_of_year</th>\n",
              "      <th>n_tweets_by_day</th>\n",
              "    </tr>\n",
              "  </thead>\n",
              "  <tbody>\n",
              "    <tr>\n",
              "      <th>778142</th>\n",
              "      <td>492649414</td>\n",
              "      <td>115_2020</td>\n",
              "      <td>3238</td>\n",
              "    </tr>\n",
              "  </tbody>\n",
              "</table>\n",
              "</div>\n",
              "      <button class=\"colab-df-convert\" onclick=\"convertToInteractive('df-49d4026f-bfab-49c0-aaea-539b02be00e2')\"\n",
              "              title=\"Convert this dataframe to an interactive table.\"\n",
              "              style=\"display:none;\">\n",
              "        \n",
              "  <svg xmlns=\"http://www.w3.org/2000/svg\" height=\"24px\"viewBox=\"0 0 24 24\"\n",
              "       width=\"24px\">\n",
              "    <path d=\"M0 0h24v24H0V0z\" fill=\"none\"/>\n",
              "    <path d=\"M18.56 5.44l.94 2.06.94-2.06 2.06-.94-2.06-.94-.94-2.06-.94 2.06-2.06.94zm-11 1L8.5 8.5l.94-2.06 2.06-.94-2.06-.94L8.5 2.5l-.94 2.06-2.06.94zm10 10l.94 2.06.94-2.06 2.06-.94-2.06-.94-.94-2.06-.94 2.06-2.06.94z\"/><path d=\"M17.41 7.96l-1.37-1.37c-.4-.4-.92-.59-1.43-.59-.52 0-1.04.2-1.43.59L10.3 9.45l-7.72 7.72c-.78.78-.78 2.05 0 2.83L4 21.41c.39.39.9.59 1.41.59.51 0 1.02-.2 1.41-.59l7.78-7.78 2.81-2.81c.8-.78.8-2.07 0-2.86zM5.41 20L4 18.59l7.72-7.72 1.47 1.35L5.41 20z\"/>\n",
              "  </svg>\n",
              "      </button>\n",
              "      \n",
              "  <style>\n",
              "    .colab-df-container {\n",
              "      display:flex;\n",
              "      flex-wrap:wrap;\n",
              "      gap: 12px;\n",
              "    }\n",
              "\n",
              "    .colab-df-convert {\n",
              "      background-color: #E8F0FE;\n",
              "      border: none;\n",
              "      border-radius: 50%;\n",
              "      cursor: pointer;\n",
              "      display: none;\n",
              "      fill: #1967D2;\n",
              "      height: 32px;\n",
              "      padding: 0 0 0 0;\n",
              "      width: 32px;\n",
              "    }\n",
              "\n",
              "    .colab-df-convert:hover {\n",
              "      background-color: #E2EBFA;\n",
              "      box-shadow: 0px 1px 2px rgba(60, 64, 67, 0.3), 0px 1px 3px 1px rgba(60, 64, 67, 0.15);\n",
              "      fill: #174EA6;\n",
              "    }\n",
              "\n",
              "    [theme=dark] .colab-df-convert {\n",
              "      background-color: #3B4455;\n",
              "      fill: #D2E3FC;\n",
              "    }\n",
              "\n",
              "    [theme=dark] .colab-df-convert:hover {\n",
              "      background-color: #434B5C;\n",
              "      box-shadow: 0px 1px 3px 1px rgba(0, 0, 0, 0.15);\n",
              "      filter: drop-shadow(0px 1px 2px rgba(0, 0, 0, 0.3));\n",
              "      fill: #FFFFFF;\n",
              "    }\n",
              "  </style>\n",
              "\n",
              "      <script>\n",
              "        const buttonEl =\n",
              "          document.querySelector('#df-49d4026f-bfab-49c0-aaea-539b02be00e2 button.colab-df-convert');\n",
              "        buttonEl.style.display =\n",
              "          google.colab.kernel.accessAllowed ? 'block' : 'none';\n",
              "\n",
              "        async function convertToInteractive(key) {\n",
              "          const element = document.querySelector('#df-49d4026f-bfab-49c0-aaea-539b02be00e2');\n",
              "          const dataTable =\n",
              "            await google.colab.kernel.invokeFunction('convertToInteractive',\n",
              "                                                     [key], {});\n",
              "          if (!dataTable) return;\n",
              "\n",
              "          const docLinkHtml = 'Like what you see? Visit the ' +\n",
              "            '<a target=\"_blank\" href=https://colab.research.google.com/notebooks/data_table.ipynb>data table notebook</a>'\n",
              "            + ' to learn more about interactive tables.';\n",
              "          element.innerHTML = '';\n",
              "          dataTable['output_type'] = 'display_data';\n",
              "          await google.colab.output.renderOutput(dataTable, element);\n",
              "          const docLink = document.createElement('div');\n",
              "          docLink.innerHTML = docLinkHtml;\n",
              "          element.appendChild(docLink);\n",
              "        }\n",
              "      </script>\n",
              "    </div>\n",
              "  </div>\n",
              "  "
            ]
          },
          "metadata": {},
          "execution_count": 41
        }
      ]
    },
    {
      "cell_type": "markdown",
      "source": [
        "Identify maximum number of tweets posted in a day for each user."
      ],
      "metadata": {
        "id": "X7_I07GIAPkK"
      }
    },
    {
      "cell_type": "code",
      "source": [
        "df_indicators['max_daily_tweets'] = user_date_groupby.groupby(by=['user_id']).agg({'n_tweets_by_day':max}).values"
      ],
      "metadata": {
        "id": "7i0AlSUOAB61"
      },
      "execution_count": null,
      "outputs": []
    },
    {
      "cell_type": "markdown",
      "source": [
        "# Density of publication and other attributes"
      ],
      "metadata": {
        "collapsed": false,
        "id": "CNQqD8UZISf8"
      }
    },
    {
      "cell_type": "code",
      "execution_count": null,
      "outputs": [],
      "source": [
        "secs_in_min = 60\n",
        "mins_in_hour = 60\n",
        "hours_in_day = 24\n",
        "secs_per_day = secs_in_min * mins_in_hour * hours_in_day\n",
        "df_indicators['last_tweet_dates'] = df_tweets.groupby('user_id').agg({'created_at_conv':'max'}).values\n",
        "df_users.id = df_users.id.astype(str)\n",
        "df_merge = df_users.merge(df_indicators, left_on='id', right_on='user_id', how='left')\n",
        "\n",
        "def attribute_density(attr_total):\n",
        "    \"\"\"\n",
        "    Compute the density for a given attribute as (total_amount)/user_activity_period.\n",
        "    user_activity_period is defined as the time span from the user subscription to its latest tweet.\n",
        "    :param attr_total:  the column name that contains the sum for the attribute. In this notebook it was computed along with mean, std and entropy.\n",
        "    :return:\n",
        "    \"\"\"\n",
        "    attr_density = df_merge.apply(lambda x: (x[attr_total]/((x.last_tweet_dates-x.created_at_conv)/secs_per_day)), axis=1)\n",
        "    attr_density = preprocessing.MinMaxScaler().fit_transform(np.array(attr_density.values).reshape(1, -1).T)\n",
        "    return attr_density"
      ],
      "metadata": {
        "id": "2ZJJyaAsISf9"
      }
    },
    {
      "cell_type": "code",
      "source": [
        "df_merge.info()"
      ],
      "metadata": {
        "colab": {
          "base_uri": "https://localhost:8080/"
        },
        "id": "FjxRtHDhVUbu",
        "outputId": "a121362f-3015-44d2-824e-f454b07f583b"
      },
      "execution_count": null,
      "outputs": [
        {
          "output_type": "stream",
          "name": "stdout",
          "text": [
            "<class 'pandas.core.frame.DataFrame'>\n",
            "Int64Index: 11508 entries, 0 to 11507\n",
            "Data columns (total 51 columns):\n",
            " #   Column                   Non-Null Count  Dtype  \n",
            "---  ------                   --------------  -----  \n",
            " 0   id                       11508 non-null  object \n",
            " 1   name                     11507 non-null  object \n",
            " 2   lang                     11508 non-null  object \n",
            " 3   bot                      11508 non-null  int64  \n",
            " 4   created_at               11508 non-null  object \n",
            " 5   statuses_count           11508 non-null  float64\n",
            " 6   created_at_conv          11508 non-null  int64  \n",
            " 7   user_id                  11504 non-null  object \n",
            " 8   n_tweets                 11504 non-null  float64\n",
            " 9   2012_tweets              11504 non-null  float64\n",
            " 10  2013_tweets              11504 non-null  float64\n",
            " 11  2014_tweets              11504 non-null  float64\n",
            " 12  2015_tweets              11504 non-null  float64\n",
            " 13  2016_tweets              11504 non-null  float64\n",
            " 14  2017_tweets              11504 non-null  float64\n",
            " 15  2018_tweets              11504 non-null  float64\n",
            " 16  2019_tweets              11504 non-null  float64\n",
            " 17  2020_tweets              11504 non-null  float64\n",
            " 18  mean_length              11504 non-null  float64\n",
            " 19  mean_special_chars       11504 non-null  float64\n",
            " 20  created_at_conv_mean     11504 non-null  float64\n",
            " 21  created_at_conv_std      11394 non-null  float64\n",
            " 22  created_at_conv_entropy  11504 non-null  float64\n",
            " 23  created_at_conv_sum      11504 non-null  float64\n",
            " 24  retweet_count_mean       11504 non-null  float64\n",
            " 25  retweet_count_std        11394 non-null  float64\n",
            " 26  retweet_count_entropy    4248 non-null   float64\n",
            " 27  retweet_count_sum        11504 non-null  float64\n",
            " 28  reply_count_mean         11504 non-null  float64\n",
            " 29  reply_count_std          11394 non-null  float64\n",
            " 30  reply_count_entropy      1098 non-null   float64\n",
            " 31  reply_count_sum          11504 non-null  float64\n",
            " 32  favorite_count_mean      11504 non-null  float64\n",
            " 33  favorite_count_std       11394 non-null  float64\n",
            " 34  favorite_count_entropy   3625 non-null   float64\n",
            " 35  favorite_count_sum       11504 non-null  float64\n",
            " 36  num_hashtags_mean        11504 non-null  float64\n",
            " 37  num_hashtags_std         11394 non-null  float64\n",
            " 38  num_hashtags_entropy     10446 non-null  float64\n",
            " 39  num_hashtags_sum         11504 non-null  float64\n",
            " 40  num_urls_mean            11504 non-null  float64\n",
            " 41  num_urls_std             11394 non-null  float64\n",
            " 42  num_urls_entropy         6399 non-null   float64\n",
            " 43  num_urls_sum             11504 non-null  float64\n",
            " 44  num_mentions_mean        11504 non-null  float64\n",
            " 45  num_mentions_std         11394 non-null  float64\n",
            " 46  num_mentions_entropy     9404 non-null   float64\n",
            " 47  num_mentions_sum         11504 non-null  float64\n",
            " 48  tweeting_regularity      11496 non-null  float64\n",
            " 49  max_daily_tweets         11504 non-null  float64\n",
            " 50  last_tweet_dates         11504 non-null  float64\n",
            "dtypes: float64(44), int64(2), object(5)\n",
            "memory usage: 4.6+ MB\n"
          ]
        }
      ]
    },
    {
      "cell_type": "code",
      "execution_count": null,
      "outputs": [
        {
          "output_type": "stream",
          "name": "stdout",
          "text": [
            "n_tweets\n",
            "created_at_conv_sum\n",
            "retweet_count_sum\n",
            "reply_count_sum\n",
            "favorite_count_sum\n",
            "num_hashtags_sum\n",
            "num_urls_sum\n",
            "num_mentions_sum\n"
          ]
        }
      ],
      "source": [
        "cols = []\n",
        "for attr in df_merge.columns:\n",
        "  if 'sum' in attr or attr=='n_tweets':\n",
        "      print(attr)\n",
        "      df_merge[f'{attr}'.replace('sum','density')] = attribute_density(attr)\n",
        "      cols.append(f'{attr}'.replace('sum','density'))"
      ],
      "metadata": {
        "colab": {
          "base_uri": "https://localhost:8080/"
        },
        "id": "ofjZds0UISf9",
        "outputId": "865843ab-de3f-4b47-ca9a-b5c12401ba38"
      }
    },
    {
      "cell_type": "code",
      "execution_count": null,
      "outputs": [
        {
          "output_type": "stream",
          "name": "stdout",
          "text": [
            "<class 'pandas.core.frame.DataFrame'>\n",
            "Int64Index: 11508 entries, 0 to 11507\n",
            "Data columns (total 58 columns):\n",
            " #   Column                   Non-Null Count  Dtype  \n",
            "---  ------                   --------------  -----  \n",
            " 0   id                       11508 non-null  object \n",
            " 1   name                     11507 non-null  object \n",
            " 2   lang                     11508 non-null  object \n",
            " 3   bot                      11508 non-null  int64  \n",
            " 4   created_at               11508 non-null  object \n",
            " 5   statuses_count           11508 non-null  float64\n",
            " 6   created_at_conv          11508 non-null  int64  \n",
            " 7   user_id                  11504 non-null  object \n",
            " 8   n_tweets                 11504 non-null  float64\n",
            " 9   2012_tweets              11504 non-null  float64\n",
            " 10  2013_tweets              11504 non-null  float64\n",
            " 11  2014_tweets              11504 non-null  float64\n",
            " 12  2015_tweets              11504 non-null  float64\n",
            " 13  2016_tweets              11504 non-null  float64\n",
            " 14  2017_tweets              11504 non-null  float64\n",
            " 15  2018_tweets              11504 non-null  float64\n",
            " 16  2019_tweets              11504 non-null  float64\n",
            " 17  2020_tweets              11504 non-null  float64\n",
            " 18  mean_length              11504 non-null  float64\n",
            " 19  mean_special_chars       11504 non-null  float64\n",
            " 20  created_at_conv_mean     11504 non-null  float64\n",
            " 21  created_at_conv_std      11394 non-null  float64\n",
            " 22  created_at_conv_entropy  11504 non-null  float64\n",
            " 23  created_at_conv_sum      11504 non-null  float64\n",
            " 24  retweet_count_mean       11504 non-null  float64\n",
            " 25  retweet_count_std        11394 non-null  float64\n",
            " 26  retweet_count_entropy    4248 non-null   float64\n",
            " 27  retweet_count_sum        11504 non-null  float64\n",
            " 28  reply_count_mean         11504 non-null  float64\n",
            " 29  reply_count_std          11394 non-null  float64\n",
            " 30  reply_count_entropy      1098 non-null   float64\n",
            " 31  reply_count_sum          11504 non-null  float64\n",
            " 32  favorite_count_mean      11504 non-null  float64\n",
            " 33  favorite_count_std       11394 non-null  float64\n",
            " 34  favorite_count_entropy   3625 non-null   float64\n",
            " 35  favorite_count_sum       11504 non-null  float64\n",
            " 36  num_hashtags_mean        11504 non-null  float64\n",
            " 37  num_hashtags_std         11394 non-null  float64\n",
            " 38  num_hashtags_entropy     10446 non-null  float64\n",
            " 39  num_hashtags_sum         11504 non-null  float64\n",
            " 40  num_urls_mean            11504 non-null  float64\n",
            " 41  num_urls_std             11394 non-null  float64\n",
            " 42  num_urls_entropy         6399 non-null   float64\n",
            " 43  num_urls_sum             11504 non-null  float64\n",
            " 44  num_mentions_mean        11504 non-null  float64\n",
            " 45  num_mentions_std         11394 non-null  float64\n",
            " 46  num_mentions_entropy     9404 non-null   float64\n",
            " 47  num_mentions_sum         11504 non-null  float64\n",
            " 48  tweeting_regularity      11496 non-null  float64\n",
            " 49  max_daily_tweets         11504 non-null  float64\n",
            " 50  last_tweet_dates         11504 non-null  float64\n",
            " 51  created_at_conv_density  11504 non-null  float64\n",
            " 52  retweet_count_density    11504 non-null  float64\n",
            " 53  reply_count_density      11504 non-null  float64\n",
            " 54  favorite_count_density   11504 non-null  float64\n",
            " 55  num_hashtags_density     11504 non-null  float64\n",
            " 56  num_urls_density         11504 non-null  float64\n",
            " 57  num_mentions_density     11504 non-null  float64\n",
            "dtypes: float64(51), int64(2), object(5)\n",
            "memory usage: 5.2+ MB\n"
          ]
        }
      ],
      "source": [
        "df_merge.info()"
      ],
      "metadata": {
        "colab": {
          "base_uri": "https://localhost:8080/"
        },
        "id": "an0u48QwISf9",
        "outputId": "df43ae0a-7bf4-4ab2-b137-8859fb5d6e6c"
      }
    },
    {
      "cell_type": "code",
      "execution_count": null,
      "outputs": [],
      "source": [
        "df_indicators.drop(columns=['last_tweet_dates'], inplace=True)"
      ],
      "metadata": {
        "id": "VkgxvQGSISf9"
      }
    },
    {
      "cell_type": "code",
      "source": [
        "for attr in cols:\n",
        "  df_indicators[attr] = df_merge[attr]"
      ],
      "metadata": {
        "id": "8Aeohg93Wuxs"
      },
      "execution_count": null,
      "outputs": []
    },
    {
      "cell_type": "code",
      "source": [
        "df_indicators.info()"
      ],
      "metadata": {
        "colab": {
          "base_uri": "https://localhost:8080/"
        },
        "id": "F8rw5sgyUc-I",
        "outputId": "252a8d77-5639-4870-bb0a-968957873f9d"
      },
      "execution_count": null,
      "outputs": [
        {
          "output_type": "stream",
          "name": "stdout",
          "text": [
            "<class 'pandas.core.frame.DataFrame'>\n",
            "RangeIndex: 140543 entries, 0 to 140542\n",
            "Data columns (total 50 columns):\n",
            " #   Column                   Non-Null Count   Dtype  \n",
            "---  ------                   --------------   -----  \n",
            " 0   user_id                  140543 non-null  object \n",
            " 1   n_tweets                 11504 non-null   float64\n",
            " 2   2012_tweets              140543 non-null  int64  \n",
            " 3   2013_tweets              140543 non-null  int64  \n",
            " 4   2014_tweets              140543 non-null  int64  \n",
            " 5   2015_tweets              140543 non-null  int64  \n",
            " 6   2016_tweets              140543 non-null  int64  \n",
            " 7   2017_tweets              140543 non-null  int64  \n",
            " 8   2018_tweets              140543 non-null  int64  \n",
            " 9   2019_tweets              140543 non-null  int64  \n",
            " 10  2020_tweets              140543 non-null  int64  \n",
            " 11  mean_length              140543 non-null  float64\n",
            " 12  mean_special_chars       140543 non-null  float64\n",
            " 13  created_at_conv_mean     140543 non-null  float64\n",
            " 14  created_at_conv_std      13781 non-null   float64\n",
            " 15  created_at_conv_entropy  140543 non-null  float64\n",
            " 16  created_at_conv_sum      140543 non-null  float64\n",
            " 17  retweet_count_mean       140543 non-null  float64\n",
            " 18  retweet_count_std        13781 non-null   float64\n",
            " 19  retweet_count_entropy    37738 non-null   float64\n",
            " 20  retweet_count_sum        140543 non-null  float64\n",
            " 21  reply_count_mean         140543 non-null  float64\n",
            " 22  reply_count_std          13781 non-null   float64\n",
            " 23  reply_count_entropy      1308 non-null    float64\n",
            " 24  reply_count_sum          140543 non-null  float64\n",
            " 25  favorite_count_mean      140543 non-null  float64\n",
            " 26  favorite_count_std       13781 non-null   float64\n",
            " 27  favorite_count_entropy   27895 non-null   float64\n",
            " 28  favorite_count_sum       140543 non-null  float64\n",
            " 29  num_hashtags_mean        140543 non-null  float64\n",
            " 30  num_hashtags_std         13781 non-null   float64\n",
            " 31  num_hashtags_entropy     18703 non-null   float64\n",
            " 32  num_hashtags_sum         140543 non-null  float64\n",
            " 33  num_urls_mean            140543 non-null  float64\n",
            " 34  num_urls_std             13781 non-null   float64\n",
            " 35  num_urls_entropy         22281 non-null   float64\n",
            " 36  num_urls_sum             140543 non-null  float64\n",
            " 37  num_mentions_mean        140543 non-null  float64\n",
            " 38  num_mentions_std         13781 non-null   float64\n",
            " 39  num_mentions_entropy     38484 non-null   float64\n",
            " 40  num_mentions_sum         140543 non-null  float64\n",
            " 41  tweeting_regularity      140535 non-null  float64\n",
            " 42  max_daily_tweets         140543 non-null  int64  \n",
            " 43  created_at_conv_density  11504 non-null   float64\n",
            " 44  retweet_count_density    11504 non-null   float64\n",
            " 45  reply_count_density      11504 non-null   float64\n",
            " 46  favorite_count_density   11504 non-null   float64\n",
            " 47  num_hashtags_density     11504 non-null   float64\n",
            " 48  num_urls_density         11504 non-null   float64\n",
            " 49  num_mentions_density     11504 non-null   float64\n",
            "dtypes: float64(39), int64(10), object(1)\n",
            "memory usage: 53.6+ MB\n"
          ]
        }
      ]
    },
    {
      "cell_type": "markdown",
      "source": [
        "# File Checkpoint"
      ],
      "metadata": {
        "id": "sqXcYC-eTIow"
      }
    },
    {
      "cell_type": "code",
      "source": [
        "df_tweets.to_csv(path_or_buf=DATA_PATH+'tweets_with_indicators.csv', sep='#', index=False)"
      ],
      "metadata": {
        "id": "Sli4LT8lTLcS"
      },
      "execution_count": null,
      "outputs": []
    },
    {
      "cell_type": "code",
      "source": [
        "df_indicators.to_csv(path_or_buf=DATA_PATH+'indicators.csv', sep='#', index=False)"
      ],
      "metadata": {
        "id": "4l-lOH-4TKE3"
      },
      "execution_count": null,
      "outputs": []
    }
  ],
  "metadata": {
    "colab": {
      "provenance": []
    },
    "kernelspec": {
      "display_name": "Python 3",
      "language": "python",
      "name": "python3"
    },
    "language_info": {
      "codemirror_mode": {
        "name": "ipython",
        "version": 3
      },
      "file_extension": ".py",
      "mimetype": "text/x-python",
      "name": "python",
      "nbconvert_exporter": "python",
      "pygments_lexer": "ipython3",
      "version": "3.9.5"
    }
  },
  "nbformat": 4,
  "nbformat_minor": 0
}