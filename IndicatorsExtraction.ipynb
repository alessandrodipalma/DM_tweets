{
 "cells": [
  {
   "cell_type": "code",
   "execution_count": 49,
   "metadata": {
    "id": "Ej3azWOlISfk"
   },
   "outputs": [],
   "source": [
    "import pandas as pd\n",
    "import math\n",
    "import numpy as np\n",
    "from matplotlib import pyplot as plt\n",
    "from numpy import logical_and as land, logical_or as lor\n",
    "import re\n",
    "from scipy.stats import entropy\n",
    "from utilities import plot_boxplot, plot_hist\n",
    "from sklearn import preprocessing"
   ]
  },
  {
   "cell_type": "code",
   "execution_count": null,
   "metadata": {
    "id": "iw2hE1JrISfo"
   },
   "outputs": [],
   "source": [
    "DATA_PATH = 'G:/Shared drives/DM_tweets/data/'"
   ]
  },
  {
   "cell_type": "code",
   "execution_count": null,
   "metadata": {
    "colab": {
     "base_uri": "https://localhost:8080/"
    },
    "id": "xn6UiHpgIYHe",
    "outputId": "2533bac1-800d-4f5d-9d41-9b2f2b3fa790"
   },
   "outputs": [
    {
     "name": "stdout",
     "output_type": "stream",
     "text": [
      "Drive already mounted at /content/drive; to attempt to forcibly remount, call drive.mount(\"/content/drive\", force_remount=True).\n"
     ]
    }
   ],
   "source": [
    "from google.colab import drive\n",
    "drive.mount('/content/drive')"
   ]
  },
  {
   "cell_type": "code",
   "execution_count": null,
   "metadata": {
    "id": "EDTFTdkzIrVB"
   },
   "outputs": [],
   "source": [
    "DATA_PATH = '/content/drive/Shareddrives/DM_tweets/data/'"
   ]
  },
  {
   "cell_type": "code",
   "execution_count": null,
   "metadata": {
    "id": "mwRlvAdCKsxO"
   },
   "outputs": [],
   "source": [
    "!cp '/content/drive/MyDrive/code/utilities.py' '.'"
   ]
  },
  {
   "cell_type": "code",
   "execution_count": 50,
   "metadata": {
    "id": "um6AflTwISfp"
   },
   "outputs": [],
   "source": [
    "DATA_PATH = 'G:/Drive condivisi/DM_tweets/data/'"
   ]
  },
  {
   "cell_type": "code",
   "execution_count": 51,
   "metadata": {
    "id": "AfayAGm2ISfp"
   },
   "outputs": [],
   "source": [
    "df_tweets = pd.read_csv(DATA_PATH+'tweets_clean.csv', sep='#')"
   ]
  },
  {
   "cell_type": "code",
   "execution_count": 52,
   "metadata": {
    "id": "6GFr-ZbDISfq"
   },
   "outputs": [],
   "source": [
    "df_users = pd.read_csv(DATA_PATH+'users_clean.csv', sep='#')"
   ]
  },
  {
   "cell_type": "markdown",
   "metadata": {
    "collapsed": false,
    "id": "ZJ24Em1aISfq"
   },
   "source": [
    "# How many tweets were published by the user?"
   ]
  },
  {
   "cell_type": "code",
   "execution_count": 53,
   "metadata": {
    "id": "g8QP4OU4ISfs"
   },
   "outputs": [],
   "source": [
    "df_indicators = pd.DataFrame({'n_tweets' : df_tweets.groupby(['user_id'] ).size()}).reset_index()"
   ]
  },
  {
   "cell_type": "code",
   "execution_count": 54,
   "metadata": {
    "colab": {
     "base_uri": "https://localhost:8080/",
     "height": 424
    },
    "id": "RpJWCjKgISft",
    "outputId": "cae976b0-19c5-483d-d133-3cad7d059a1b"
   },
   "outputs": [
    {
     "data": {
      "text/html": [
       "<div>\n",
       "<style scoped>\n",
       "    .dataframe tbody tr th:only-of-type {\n",
       "        vertical-align: middle;\n",
       "    }\n",
       "\n",
       "    .dataframe tbody tr th {\n",
       "        vertical-align: top;\n",
       "    }\n",
       "\n",
       "    .dataframe thead th {\n",
       "        text-align: right;\n",
       "    }\n",
       "</style>\n",
       "<table border=\"1\" class=\"dataframe\">\n",
       "  <thead>\n",
       "    <tr style=\"text-align: right;\">\n",
       "      <th></th>\n",
       "      <th>user_id</th>\n",
       "      <th>n_tweets</th>\n",
       "    </tr>\n",
       "  </thead>\n",
       "  <tbody>\n",
       "    <tr>\n",
       "      <th>0</th>\n",
       "      <td>000vk</td>\n",
       "      <td>1</td>\n",
       "    </tr>\n",
       "    <tr>\n",
       "      <th>1</th>\n",
       "      <td>0013tom</td>\n",
       "      <td>1</td>\n",
       "    </tr>\n",
       "    <tr>\n",
       "      <th>2</th>\n",
       "      <td>001gi</td>\n",
       "      <td>1</td>\n",
       "    </tr>\n",
       "    <tr>\n",
       "      <th>3</th>\n",
       "      <td>001rx</td>\n",
       "      <td>1</td>\n",
       "    </tr>\n",
       "    <tr>\n",
       "      <th>4</th>\n",
       "      <td>00201f</td>\n",
       "      <td>1</td>\n",
       "    </tr>\n",
       "    <tr>\n",
       "      <th>...</th>\n",
       "      <td>...</td>\n",
       "      <td>...</td>\n",
       "    </tr>\n",
       "    <tr>\n",
       "      <th>140538</th>\n",
       "      <td>zzyb</td>\n",
       "      <td>1</td>\n",
       "    </tr>\n",
       "    <tr>\n",
       "      <th>140539</th>\n",
       "      <td>zzyd6</td>\n",
       "      <td>1</td>\n",
       "    </tr>\n",
       "    <tr>\n",
       "      <th>140540</th>\n",
       "      <td>zzyyu</td>\n",
       "      <td>1</td>\n",
       "    </tr>\n",
       "    <tr>\n",
       "      <th>140541</th>\n",
       "      <td>zzz9v</td>\n",
       "      <td>1</td>\n",
       "    </tr>\n",
       "    <tr>\n",
       "      <th>140542</th>\n",
       "      <td>zzza</td>\n",
       "      <td>1</td>\n",
       "    </tr>\n",
       "  </tbody>\n",
       "</table>\n",
       "<p>140543 rows × 2 columns</p>\n",
       "</div>"
      ],
      "text/plain": [
       "        user_id  n_tweets\n",
       "0         000vk         1\n",
       "1       0013tom         1\n",
       "2         001gi         1\n",
       "3         001rx         1\n",
       "4        00201f         1\n",
       "...         ...       ...\n",
       "140538     zzyb         1\n",
       "140539    zzyd6         1\n",
       "140540    zzyyu         1\n",
       "140541    zzz9v         1\n",
       "140542     zzza         1\n",
       "\n",
       "[140543 rows x 2 columns]"
      ]
     },
     "execution_count": 54,
     "metadata": {},
     "output_type": "execute_result"
    }
   ],
   "source": [
    "df_indicators"
   ]
  },
  {
   "cell_type": "markdown",
   "metadata": {
    "collapsed": false,
    "id": "8_rtw8lTISfv"
   },
   "source": [
    "# How many tweets are published by the user in a given period of time?"
   ]
  },
  {
   "cell_type": "code",
   "execution_count": 55,
   "metadata": {
    "colab": {
     "base_uri": "https://localhost:8080/"
    },
    "id": "8iQwHjwUISfv",
    "outputId": "8b550451-f07a-49a2-dc36-67aaa3d532ca"
   },
   "outputs": [
    {
     "name": "stdout",
     "output_type": "stream",
     "text": [
      "<class 'pandas.core.frame.DataFrame'>\n",
      "RangeIndex: 140543 entries, 0 to 140542\n",
      "Data columns (total 11 columns):\n",
      " #   Column       Non-Null Count   Dtype \n",
      "---  ------       --------------   ----- \n",
      " 0   user_id      140543 non-null  object\n",
      " 1   n_tweets     140543 non-null  int64 \n",
      " 2   2012_tweets  140543 non-null  int64 \n",
      " 3   2013_tweets  140543 non-null  int64 \n",
      " 4   2014_tweets  140543 non-null  int64 \n",
      " 5   2015_tweets  140543 non-null  int64 \n",
      " 6   2016_tweets  140543 non-null  int64 \n",
      " 7   2017_tweets  140543 non-null  int64 \n",
      " 8   2018_tweets  140543 non-null  int64 \n",
      " 9   2019_tweets  140543 non-null  int64 \n",
      " 10  2020_tweets  140543 non-null  int64 \n",
      "dtypes: int64(10), object(1)\n",
      "memory usage: 11.8+ MB\n"
     ]
    }
   ],
   "source": [
    "for y in range(2012, 2021):\n",
    "  df_indicators[str(y) + \"_tweets\"] = 0\n",
    "\n",
    "df_indicators.info()"
   ]
  },
  {
   "cell_type": "code",
   "execution_count": 56,
   "metadata": {
    "id": "jiVKZ5t9ISfw"
   },
   "outputs": [],
   "source": [
    "for y in range(2012,2021):\n",
    "  # Filter all tweets published in a certain year\n",
    "  tweets_by_y = df_tweets[land(df_tweets['publication_date'] >= (str(y)+\"-01-01\"),\n",
    "                               df_tweets['publication_date'] <= (str(y)+\"-12-31\"))][['user_id','publication_date']]\n",
    "\n",
    "  # Count tweets of users in that year\n",
    "  gby = pd.DataFrame({'n_tweets' : tweets_by_y.groupby( [ 'user_id'] ).size()}).reset_index()\n",
    "\n",
    "  # Transform it in a dictionary\n",
    "  gby = dict(zip(gby.user_id, gby.n_tweets))\n",
    "\n",
    "  # Select users to modify and update them\n",
    "  df_indicators.loc[df_indicators['user_id'].isin(gby.keys()), str(y)+'_tweets'] = list(gby.values())"
   ]
  },
  {
   "cell_type": "code",
   "execution_count": 57,
   "metadata": {
    "colab": {
     "base_uri": "https://localhost:8080/",
     "height": 282
    },
    "id": "Fy2aCP9nISfx",
    "outputId": "cba3154d-aeb2-45ad-9ef0-68daf3cecd71"
   },
   "outputs": [
    {
     "data": {
      "text/plain": [
       "<BarContainer object of 9 artists>"
      ]
     },
     "execution_count": 57,
     "metadata": {},
     "output_type": "execute_result"
    },
    {
     "data": {
      "image/png": "[encoded data removed]",
      "text/plain": [
       "<Figure size 640x480 with 1 Axes>"
      ]
     },
     "metadata": {},
     "output_type": "display_data"
    }
   ],
   "source": [
    "years_col_list = [str(y)+'_tweets' for y in range(2012,2021)]\n",
    "sum_list = [df_indicators[y].sum() for y in years_col_list]\n",
    "plt.bar(range(2012,2021), sum_list, log=True)"
   ]
  },
  {
   "cell_type": "markdown",
   "metadata": {
    "collapsed": false,
    "id": "9S83NJwSISfx"
   },
   "source": [
    "# Total number of tweets"
   ]
  },
  {
   "cell_type": "code",
   "execution_count": 58,
   "metadata": {
    "colab": {
     "base_uri": "https://localhost:8080/"
    },
    "id": "DzmDLLlKISfx",
    "outputId": "b87dea1a-5d12-43f9-fb8c-9e585ebc8610"
   },
   "outputs": [
    {
     "data": {
      "text/plain": [
       "10187873"
      ]
     },
     "execution_count": 58,
     "metadata": {},
     "output_type": "execute_result"
    }
   ],
   "source": [
    "tot_n_tweets = df_tweets.shape[0]\n",
    "tot_n_tweets"
   ]
  },
  {
   "cell_type": "markdown",
   "metadata": {
    "collapsed": false,
    "id": "ilhPwdfbISfy"
   },
   "source": [
    "# Total number of likes and comments and retweets"
   ]
  },
  {
   "cell_type": "code",
   "execution_count": 59,
   "metadata": {
    "colab": {
     "base_uri": "https://localhost:8080/"
    },
    "id": "4nJGFuJNISfy",
    "outputId": "b09c0204-c2d6-44e0-aa98-5dfc1b103077"
   },
   "outputs": [
    {
     "data": {
      "text/plain": [
       "5386511"
      ]
     },
     "execution_count": 59,
     "metadata": {},
     "output_type": "execute_result"
    }
   ],
   "source": [
    "total_favorite = df_tweets.favorite_count.sum()\n",
    "total_favorite"
   ]
  },
  {
   "cell_type": "code",
   "execution_count": 60,
   "metadata": {
    "colab": {
     "base_uri": "https://localhost:8080/"
    },
    "id": "qUK6-u5-ISfz",
    "outputId": "1c4010fd-35d5-40d6-c86f-a4cfa4b0512f"
   },
   "outputs": [
    {
     "data": {
      "text/plain": [
       "886527"
      ]
     },
     "execution_count": 60,
     "metadata": {},
     "output_type": "execute_result"
    }
   ],
   "source": [
    "total_replies = df_tweets.reply_count.sum()\n",
    "total_replies"
   ]
  },
  {
   "cell_type": "code",
   "execution_count": 61,
   "metadata": {
    "colab": {
     "base_uri": "https://localhost:8080/"
    },
    "id": "WqbwonqMISf0",
    "outputId": "40d217b8-d363-40f0-9b3e-13fb9f59c22f"
   },
   "outputs": [
    {
     "data": {
      "text/plain": [
       "366372232"
      ]
     },
     "execution_count": 61,
     "metadata": {},
     "output_type": "execute_result"
    }
   ],
   "source": [
    "total_retweets = df_tweets.retweet_count.sum()\n",
    "total_retweets"
   ]
  },
  {
   "cell_type": "markdown",
   "metadata": {
    "collapsed": false,
    "id": "pSPk98VTISf0"
   },
   "source": [
    "# Ratio between the number of tweets and the number of likes"
   ]
  },
  {
   "cell_type": "code",
   "execution_count": 62,
   "metadata": {
    "colab": {
     "base_uri": "https://localhost:8080/"
    },
    "id": "AHrL9u7BISf1",
    "outputId": "04736ed2-597a-4689-ddba-4f24e7b4bb4c"
   },
   "outputs": [
    {
     "data": {
      "text/plain": [
       "1.8913677146486845"
      ]
     },
     "execution_count": 62,
     "metadata": {},
     "output_type": "execute_result"
    }
   ],
   "source": [
    "ratio_tweets_fav = len(df_tweets) / total_favorite\n",
    "ratio_tweets_fav"
   ]
  },
  {
   "cell_type": "markdown",
   "metadata": {
    "collapsed": false,
    "id": "YZbvb1rtISf1"
   },
   "source": [
    "## Ratio between the number of tweets and the number of retweets"
   ]
  },
  {
   "cell_type": "code",
   "execution_count": 63,
   "metadata": {
    "colab": {
     "base_uri": "https://localhost:8080/"
    },
    "id": "FfSQMcOyISf1",
    "outputId": "d59f715e-dfbb-4743-bd0d-23261b87114c"
   },
   "outputs": [
    {
     "data": {
      "text/plain": [
       "0.027807437655373402"
      ]
     },
     "execution_count": 63,
     "metadata": {},
     "output_type": "execute_result"
    }
   ],
   "source": [
    "ratio_tweets_rt = len(df_tweets) / total_retweets\n",
    "ratio_tweets_rt"
   ]
  },
  {
   "cell_type": "markdown",
   "metadata": {
    "collapsed": false,
    "id": "4n70M-ZKISf2"
   },
   "source": [
    "## Ratio between the number of tweets and the number of comments"
   ]
  },
  {
   "cell_type": "code",
   "execution_count": 64,
   "metadata": {
    "colab": {
     "base_uri": "https://localhost:8080/"
    },
    "id": "lgz3xdlwISf2",
    "outputId": "b4c8d5e8-0acf-4219-90b8-f9c984bd0643"
   },
   "outputs": [
    {
     "data": {
      "text/plain": [
       "11.491892519911971"
      ]
     },
     "execution_count": 64,
     "metadata": {},
     "output_type": "execute_result"
    }
   ],
   "source": [
    "ratio_tweets_replies = len(df_tweets) / total_replies\n",
    "ratio_tweets_replies"
   ]
  },
  {
   "cell_type": "markdown",
   "metadata": {
    "collapsed": false,
    "id": "rtYthI9aISf2"
   },
   "source": [
    "# Average length of the tweets per user"
   ]
  },
  {
   "cell_type": "code",
   "execution_count": 65,
   "metadata": {
    "id": "1geqptjFISf3"
   },
   "outputs": [],
   "source": [
    "df_tweets['length'] = df_tweets.text.astype(str).apply(len)"
   ]
  },
  {
   "cell_type": "code",
   "execution_count": 66,
   "metadata": {
    "colab": {
     "base_uri": "https://localhost:8080/",
     "height": 282
    },
    "id": "yQHLRC1uISf3",
    "outputId": "f2332512-3f57-48b3-f5c8-64d19731e975"
   },
   "outputs": [
    {
     "data": {
      "text/plain": [
       "<AxesSubplot:>"
      ]
     },
     "execution_count": 66,
     "metadata": {},
     "output_type": "execute_result"
    },
    {
     "data": {
      "image/png": "[encoded data removed]",
      "text/plain": [
       "<Figure size 640x480 with 1 Axes>"
      ]
     },
     "metadata": {},
     "output_type": "display_data"
    }
   ],
   "source": [
    "df_tweets.boxplot('length')"
   ]
  },
  {
   "cell_type": "code",
   "execution_count": 67,
   "metadata": {
    "id": "SakDBIcMISf3"
   },
   "outputs": [],
   "source": [
    "len_groupby = df_tweets.groupby('user_id').agg({'length':'mean'})"
   ]
  },
  {
   "cell_type": "code",
   "execution_count": 68,
   "metadata": {
    "colab": {
     "base_uri": "https://localhost:8080/"
    },
    "id": "gARkC23-ISf3",
    "outputId": "7ab207f0-90db-421d-e7a6-8fbf7cb4708f"
   },
   "outputs": [
    {
     "name": "stdout",
     "output_type": "stream",
     "text": [
      "<class 'pandas.core.frame.DataFrame'>\n",
      "RangeIndex: 140543 entries, 0 to 140542\n",
      "Data columns (total 12 columns):\n",
      " #   Column       Non-Null Count   Dtype  \n",
      "---  ------       --------------   -----  \n",
      " 0   user_id      140543 non-null  object \n",
      " 1   n_tweets     140543 non-null  int64  \n",
      " 2   2012_tweets  140543 non-null  int64  \n",
      " 3   2013_tweets  140543 non-null  int64  \n",
      " 4   2014_tweets  140543 non-null  int64  \n",
      " 5   2015_tweets  140543 non-null  int64  \n",
      " 6   2016_tweets  140543 non-null  int64  \n",
      " 7   2017_tweets  140543 non-null  int64  \n",
      " 8   2018_tweets  140543 non-null  int64  \n",
      " 9   2019_tweets  140543 non-null  int64  \n",
      " 10  2020_tweets  140543 non-null  int64  \n",
      " 11  mean_length  140543 non-null  float64\n",
      "dtypes: float64(1), int64(10), object(1)\n",
      "memory usage: 12.9+ MB\n"
     ]
    }
   ],
   "source": [
    "df_indicators['mean_length'] = len_groupby.length.values\n",
    "df_indicators.info()"
   ]
  },
  {
   "cell_type": "code",
   "execution_count": 69,
   "metadata": {
    "colab": {
     "base_uri": "https://localhost:8080/"
    },
    "id": "UEzOI799ISf3",
    "outputId": "8e86b102-8422-4ac5-96ff-9348b76a3657"
   },
   "outputs": [
    {
     "data": {
      "text/plain": [
       "user_id         zzza\n",
       "n_tweets        3447\n",
       "2012_tweets        7\n",
       "2013_tweets      169\n",
       "2014_tweets      885\n",
       "2015_tweets     1697\n",
       "2016_tweets     2824\n",
       "2017_tweets     3250\n",
       "2018_tweets     3202\n",
       "2019_tweets     3360\n",
       "2020_tweets     3350\n",
       "mean_length    365.0\n",
       "dtype: object"
      ]
     },
     "execution_count": 69,
     "metadata": {},
     "output_type": "execute_result"
    }
   ],
   "source": [
    "df_indicators.max()"
   ]
  },
  {
   "cell_type": "markdown",
   "metadata": {
    "collapsed": false,
    "id": "C_SLCjfTISf4"
   },
   "source": [
    "# Average number of special characters in the tweets per user"
   ]
  },
  {
   "cell_type": "code",
   "execution_count": 70,
   "metadata": {
    "id": "VrvmISmuISf4"
   },
   "outputs": [],
   "source": [
    "# Takes into account all the chars that are not whitespaces or alphanumeric\n",
    "df_tweets['special_chars'] = df_tweets.text.astype(str).apply(lambda text: len(re.findall(\"(?=\\W)(?=\\S)\", text)))"
   ]
  },
  {
   "cell_type": "code",
   "execution_count": 71,
   "metadata": {
    "colab": {
     "base_uri": "https://localhost:8080/",
     "height": 424
    },
    "id": "Jhq1g2aVISf4",
    "outputId": "1818d895-bb33-420e-acf6-4df96a659019"
   },
   "outputs": [
    {
     "data": {
      "text/html": [
       "<div>\n",
       "<style scoped>\n",
       "    .dataframe tbody tr th:only-of-type {\n",
       "        vertical-align: middle;\n",
       "    }\n",
       "\n",
       "    .dataframe tbody tr th {\n",
       "        vertical-align: top;\n",
       "    }\n",
       "\n",
       "    .dataframe thead th {\n",
       "        text-align: right;\n",
       "    }\n",
       "</style>\n",
       "<table border=\"1\" class=\"dataframe\">\n",
       "  <thead>\n",
       "    <tr style=\"text-align: right;\">\n",
       "      <th></th>\n",
       "      <th>user_id</th>\n",
       "      <th>n_tweets</th>\n",
       "      <th>2012_tweets</th>\n",
       "      <th>2013_tweets</th>\n",
       "      <th>2014_tweets</th>\n",
       "      <th>2015_tweets</th>\n",
       "      <th>2016_tweets</th>\n",
       "      <th>2017_tweets</th>\n",
       "      <th>2018_tweets</th>\n",
       "      <th>2019_tweets</th>\n",
       "      <th>2020_tweets</th>\n",
       "      <th>mean_length</th>\n",
       "      <th>mean_special_chars</th>\n",
       "    </tr>\n",
       "  </thead>\n",
       "  <tbody>\n",
       "    <tr>\n",
       "      <th>0</th>\n",
       "      <td>000vk</td>\n",
       "      <td>1</td>\n",
       "      <td>0</td>\n",
       "      <td>0</td>\n",
       "      <td>0</td>\n",
       "      <td>0</td>\n",
       "      <td>0</td>\n",
       "      <td>0</td>\n",
       "      <td>0</td>\n",
       "      <td>0</td>\n",
       "      <td>1</td>\n",
       "      <td>110.0</td>\n",
       "      <td>9.0</td>\n",
       "    </tr>\n",
       "    <tr>\n",
       "      <th>1</th>\n",
       "      <td>0013tom</td>\n",
       "      <td>1</td>\n",
       "      <td>0</td>\n",
       "      <td>0</td>\n",
       "      <td>0</td>\n",
       "      <td>0</td>\n",
       "      <td>0</td>\n",
       "      <td>0</td>\n",
       "      <td>1</td>\n",
       "      <td>0</td>\n",
       "      <td>0</td>\n",
       "      <td>104.0</td>\n",
       "      <td>5.0</td>\n",
       "    </tr>\n",
       "    <tr>\n",
       "      <th>2</th>\n",
       "      <td>001gi</td>\n",
       "      <td>1</td>\n",
       "      <td>0</td>\n",
       "      <td>0</td>\n",
       "      <td>0</td>\n",
       "      <td>0</td>\n",
       "      <td>0</td>\n",
       "      <td>0</td>\n",
       "      <td>0</td>\n",
       "      <td>0</td>\n",
       "      <td>1</td>\n",
       "      <td>15.0</td>\n",
       "      <td>0.0</td>\n",
       "    </tr>\n",
       "    <tr>\n",
       "      <th>3</th>\n",
       "      <td>001rx</td>\n",
       "      <td>1</td>\n",
       "      <td>0</td>\n",
       "      <td>0</td>\n",
       "      <td>0</td>\n",
       "      <td>0</td>\n",
       "      <td>0</td>\n",
       "      <td>0</td>\n",
       "      <td>0</td>\n",
       "      <td>0</td>\n",
       "      <td>1</td>\n",
       "      <td>47.0</td>\n",
       "      <td>0.0</td>\n",
       "    </tr>\n",
       "    <tr>\n",
       "      <th>4</th>\n",
       "      <td>00201f</td>\n",
       "      <td>1</td>\n",
       "      <td>0</td>\n",
       "      <td>0</td>\n",
       "      <td>0</td>\n",
       "      <td>0</td>\n",
       "      <td>0</td>\n",
       "      <td>0</td>\n",
       "      <td>0</td>\n",
       "      <td>1</td>\n",
       "      <td>0</td>\n",
       "      <td>3.0</td>\n",
       "      <td>0.0</td>\n",
       "    </tr>\n",
       "    <tr>\n",
       "      <th>...</th>\n",
       "      <td>...</td>\n",
       "      <td>...</td>\n",
       "      <td>...</td>\n",
       "      <td>...</td>\n",
       "      <td>...</td>\n",
       "      <td>...</td>\n",
       "      <td>...</td>\n",
       "      <td>...</td>\n",
       "      <td>...</td>\n",
       "      <td>...</td>\n",
       "      <td>...</td>\n",
       "      <td>...</td>\n",
       "      <td>...</td>\n",
       "    </tr>\n",
       "    <tr>\n",
       "      <th>140538</th>\n",
       "      <td>zzyb</td>\n",
       "      <td>1</td>\n",
       "      <td>0</td>\n",
       "      <td>0</td>\n",
       "      <td>0</td>\n",
       "      <td>0</td>\n",
       "      <td>0</td>\n",
       "      <td>0</td>\n",
       "      <td>0</td>\n",
       "      <td>1</td>\n",
       "      <td>0</td>\n",
       "      <td>3.0</td>\n",
       "      <td>0.0</td>\n",
       "    </tr>\n",
       "    <tr>\n",
       "      <th>140539</th>\n",
       "      <td>zzyd6</td>\n",
       "      <td>1</td>\n",
       "      <td>0</td>\n",
       "      <td>0</td>\n",
       "      <td>0</td>\n",
       "      <td>0</td>\n",
       "      <td>0</td>\n",
       "      <td>0</td>\n",
       "      <td>0</td>\n",
       "      <td>1</td>\n",
       "      <td>0</td>\n",
       "      <td>66.0</td>\n",
       "      <td>0.0</td>\n",
       "    </tr>\n",
       "    <tr>\n",
       "      <th>140540</th>\n",
       "      <td>zzyyu</td>\n",
       "      <td>1</td>\n",
       "      <td>0</td>\n",
       "      <td>0</td>\n",
       "      <td>0</td>\n",
       "      <td>0</td>\n",
       "      <td>0</td>\n",
       "      <td>0</td>\n",
       "      <td>0</td>\n",
       "      <td>0</td>\n",
       "      <td>1</td>\n",
       "      <td>64.0</td>\n",
       "      <td>1.0</td>\n",
       "    </tr>\n",
       "    <tr>\n",
       "      <th>140541</th>\n",
       "      <td>zzz9v</td>\n",
       "      <td>1</td>\n",
       "      <td>0</td>\n",
       "      <td>0</td>\n",
       "      <td>0</td>\n",
       "      <td>0</td>\n",
       "      <td>0</td>\n",
       "      <td>0</td>\n",
       "      <td>0</td>\n",
       "      <td>1</td>\n",
       "      <td>0</td>\n",
       "      <td>3.0</td>\n",
       "      <td>0.0</td>\n",
       "    </tr>\n",
       "    <tr>\n",
       "      <th>140542</th>\n",
       "      <td>zzza</td>\n",
       "      <td>1</td>\n",
       "      <td>0</td>\n",
       "      <td>0</td>\n",
       "      <td>0</td>\n",
       "      <td>0</td>\n",
       "      <td>0</td>\n",
       "      <td>0</td>\n",
       "      <td>0</td>\n",
       "      <td>0</td>\n",
       "      <td>1</td>\n",
       "      <td>16.0</td>\n",
       "      <td>1.0</td>\n",
       "    </tr>\n",
       "  </tbody>\n",
       "</table>\n",
       "<p>140543 rows × 13 columns</p>\n",
       "</div>"
      ],
      "text/plain": [
       "        user_id  n_tweets  2012_tweets  2013_tweets  2014_tweets  2015_tweets  \\\n",
       "0         000vk         1            0            0            0            0   \n",
       "1       0013tom         1            0            0            0            0   \n",
       "2         001gi         1            0            0            0            0   \n",
       "3         001rx         1            0            0            0            0   \n",
       "4        00201f         1            0            0            0            0   \n",
       "...         ...       ...          ...          ...          ...          ...   \n",
       "140538     zzyb         1            0            0            0            0   \n",
       "140539    zzyd6         1            0            0            0            0   \n",
       "140540    zzyyu         1            0            0            0            0   \n",
       "140541    zzz9v         1            0            0            0            0   \n",
       "140542     zzza         1            0            0            0            0   \n",
       "\n",
       "        2016_tweets  2017_tweets  2018_tweets  2019_tweets  2020_tweets  \\\n",
       "0                 0            0            0            0            1   \n",
       "1                 0            0            1            0            0   \n",
       "2                 0            0            0            0            1   \n",
       "3                 0            0            0            0            1   \n",
       "4                 0            0            0            1            0   \n",
       "...             ...          ...          ...          ...          ...   \n",
       "140538            0            0            0            1            0   \n",
       "140539            0            0            0            1            0   \n",
       "140540            0            0            0            0            1   \n",
       "140541            0            0            0            1            0   \n",
       "140542            0            0            0            0            1   \n",
       "\n",
       "        mean_length  mean_special_chars  \n",
       "0             110.0                 9.0  \n",
       "1             104.0                 5.0  \n",
       "2              15.0                 0.0  \n",
       "3              47.0                 0.0  \n",
       "4               3.0                 0.0  \n",
       "...             ...                 ...  \n",
       "140538          3.0                 0.0  \n",
       "140539         66.0                 0.0  \n",
       "140540         64.0                 1.0  \n",
       "140541          3.0                 0.0  \n",
       "140542         16.0                 1.0  \n",
       "\n",
       "[140543 rows x 13 columns]"
      ]
     },
     "execution_count": 71,
     "metadata": {},
     "output_type": "execute_result"
    }
   ],
   "source": [
    "len_groupby = df_tweets.groupby('user_id').agg({'special_chars':'mean'})\n",
    "\n",
    "df_indicators['mean_special_chars'] = len_groupby.special_chars.values\n",
    "df_indicators"
   ]
  },
  {
   "cell_type": "markdown",
   "metadata": {
    "collapsed": false,
    "id": "rF8PTbxxISf4"
   },
   "source": [
    "# File Checkpoint"
   ]
  },
  {
   "cell_type": "code",
   "execution_count": 24,
   "metadata": {
    "id": "zr0wDeNzISf4"
   },
   "outputs": [],
   "source": [
    "df_tweets.to_csv(path_or_buf=DATA_PATH+'tweets_with_indicators.csv', sep='#', index=False)"
   ]
  },
  {
   "cell_type": "code",
   "execution_count": 25,
   "metadata": {
    "id": "CyWUObHwISf4"
   },
   "outputs": [],
   "source": [
    "df_indicators.to_csv(path_or_buf=DATA_PATH+'indicators_1.csv', sep='#', index=False)"
   ]
  },
  {
   "cell_type": "code",
   "execution_count": 26,
   "metadata": {
    "id": "7oVoH0f1ISf5"
   },
   "outputs": [],
   "source": [
    "df_indicators = pd.read_csv(DATA_PATH+'indicators_1.csv', sep='#')"
   ]
  },
  {
   "cell_type": "code",
   "execution_count": 27,
   "metadata": {
    "colab": {
     "base_uri": "https://localhost:8080/"
    },
    "id": "GxYlAg4EISf5",
    "outputId": "fab7cfa0-d904-41a0-bfda-aad10225bc6a"
   },
   "outputs": [],
   "source": [
    "df_tweets = pd.read_csv(DATA_PATH+'tweets_with_indicators.csv', sep='#')"
   ]
  },
  {
   "cell_type": "markdown",
   "metadata": {
    "collapsed": false,
    "id": "jurZeyT7ISf5"
   },
   "source": [
    "# Mean, standard deviation, entropy and total for each attribute by user"
   ]
  },
  {
   "cell_type": "code",
   "execution_count": 72,
   "metadata": {
    "colab": {
     "base_uri": "https://localhost:8080/"
    },
    "id": "lM2-825fISf5",
    "outputId": "9366bb96-58cb-43f2-8b25-b9439f3e0221"
   },
   "outputs": [
    {
     "name": "stderr",
     "output_type": "stream",
     "text": [
      "c:\\Users\\Alessandro\\AppData\\Local\\Programs\\Python\\Python310\\lib\\site-packages\\scipy\\stats\\_entropy.py:77: RuntimeWarning: invalid value encountered in true_divide\n",
      "  pk = 1.0*pk / np.sum(pk, axis=axis, keepdims=True)\n",
      "c:\\Users\\Alessandro\\AppData\\Local\\Programs\\Python\\Python310\\lib\\site-packages\\scipy\\stats\\_entropy.py:77: RuntimeWarning: invalid value encountered in true_divide\n",
      "  pk = 1.0*pk / np.sum(pk, axis=axis, keepdims=True)\n",
      "c:\\Users\\Alessandro\\AppData\\Local\\Programs\\Python\\Python310\\lib\\site-packages\\scipy\\stats\\_entropy.py:77: RuntimeWarning: invalid value encountered in true_divide\n",
      "  pk = 1.0*pk / np.sum(pk, axis=axis, keepdims=True)\n",
      "c:\\Users\\Alessandro\\AppData\\Local\\Programs\\Python\\Python310\\lib\\site-packages\\scipy\\stats\\_entropy.py:77: RuntimeWarning: invalid value encountered in true_divide\n",
      "  pk = 1.0*pk / np.sum(pk, axis=axis, keepdims=True)\n",
      "c:\\Users\\Alessandro\\AppData\\Local\\Programs\\Python\\Python310\\lib\\site-packages\\scipy\\stats\\_entropy.py:77: RuntimeWarning: invalid value encountered in true_divide\n",
      "  pk = 1.0*pk / np.sum(pk, axis=axis, keepdims=True)\n",
      "c:\\Users\\Alessandro\\AppData\\Local\\Programs\\Python\\Python310\\lib\\site-packages\\scipy\\stats\\_entropy.py:77: RuntimeWarning: invalid value encountered in true_divide\n",
      "  pk = 1.0*pk / np.sum(pk, axis=axis, keepdims=True)\n",
      "c:\\Users\\Alessandro\\AppData\\Local\\Programs\\Python\\Python310\\lib\\site-packages\\scipy\\stats\\_entropy.py:77: RuntimeWarning: invalid value encountered in true_divide\n",
      "  pk = 1.0*pk / np.sum(pk, axis=axis, keepdims=True)\n",
      "C:\\Users\\Alessandro\\AppData\\Local\\Temp\\ipykernel_11612\\360699256.py:1: FutureWarning: ['publication_date', 'text'] did not aggregate successfully. If any error is raised this will raise in a future version of pandas. Drop these columns/ops to avoid this warning.\n",
      "  user_groupby = df_tweets.groupby('user_id').agg(['mean','std',entropy,'sum'])\n"
     ]
    }
   ],
   "source": [
    "user_groupby = df_tweets.groupby('user_id').agg(['mean','std',entropy,'sum'])"
   ]
  },
  {
   "cell_type": "code",
   "execution_count": 73,
   "metadata": {
    "id": "aYOsRgQLISf5"
   },
   "outputs": [],
   "source": [
    "user_groupby.drop(columns=['length','special_chars'], inplace=True)"
   ]
  },
  {
   "cell_type": "code",
   "execution_count": 74,
   "metadata": {
    "id": "0Zve48E9ISf5"
   },
   "outputs": [],
   "source": [
    "# convert from multiindex to \"{column_name}_mean\", \"{column_name}_std\", \"{column_name}_entropy\"\n",
    "cols = list(user_groupby.columns.map('_'.join).str.strip('_'))"
   ]
  },
  {
   "cell_type": "code",
   "execution_count": 75,
   "metadata": {
    "id": "jFz3Z-WOISf6"
   },
   "outputs": [],
   "source": [
    "df_indicators[cols] = user_groupby.values"
   ]
  },
  {
   "cell_type": "code",
   "execution_count": 76,
   "metadata": {
    "colab": {
     "base_uri": "https://localhost:8080/"
    },
    "id": "eHnbZjLfISf6",
    "outputId": "9b9b244f-572b-4cb5-d03a-6dd207469f72"
   },
   "outputs": [
    {
     "data": {
      "text/plain": [
       "user_id                                                 zzza\n",
       "n_tweets                                                3447\n",
       "2012_tweets                                                7\n",
       "2013_tweets                                              169\n",
       "2014_tweets                                              885\n",
       "2015_tweets                                             1697\n",
       "2016_tweets                                             2824\n",
       "2017_tweets                                             3250\n",
       "2018_tweets                                             3202\n",
       "2019_tweets                                             3360\n",
       "2020_tweets                                             3350\n",
       "mean_length                                            365.0\n",
       "mean_special_chars                                     213.0\n",
       "publication_date_in_secs_mean          1588500732000000000.0\n",
       "publication_date_in_secs_std            132553602926447472.0\n",
       "publication_date_in_secs_entropy                 1228.368088\n",
       "publication_date_in_secs_sum        5309383812657999511552.0\n",
       "retweet_count_mean                                  449743.0\n",
       "retweet_count_std                              151907.042696\n",
       "retweet_count_entropy                               8.094378\n",
       "retweet_count_sum                                 12137360.0\n",
       "reply_count_mean                                    818137.0\n",
       "reply_count_std                                  2571.240268\n",
       "reply_count_entropy                                 4.744932\n",
       "reply_count_sum                                     818137.0\n",
       "favorite_count_mean                                  71000.0\n",
       "favorite_count_std                              47828.452449\n",
       "favorite_count_entropy                              8.091933\n",
       "favorite_count_sum                                  284906.0\n",
       "num_hashtags_mean                                       14.0\n",
       "num_hashtags_std                                   11.103618\n",
       "num_hashtags_entropy                                 8.03625\n",
       "num_hashtags_sum                                     15340.0\n",
       "num_urls_mean                                           18.0\n",
       "num_urls_std                                        2.690075\n",
       "num_urls_entropy                                     8.10132\n",
       "num_urls_sum                                          3563.0\n",
       "num_mentions_mean                                       11.0\n",
       "num_mentions_std                                    7.300246\n",
       "num_mentions_entropy                                8.023161\n",
       "num_mentions_sum                                     12744.0\n",
       "dtype: object"
      ]
     },
     "execution_count": 76,
     "metadata": {},
     "output_type": "execute_result"
    }
   ],
   "source": [
    "df_indicators.max()"
   ]
  },
  {
   "cell_type": "markdown",
   "metadata": {
    "id": "_yylOrtau5bu"
   },
   "source": [
    "# Tweeting regularity\n",
    "We want an indicator that can tell us if the user has a certain regularity in the publication.\n",
    "We define the tweeting regularity of a user as:\n",
    "$$ Var( \\{\\ timestamp_i - timestamp_j\\ |\\ j = i + 1 \\} )$$"
   ]
  },
  {
   "cell_type": "code",
   "execution_count": 77,
   "metadata": {
    "id": "bB4x0Op1u5bv"
   },
   "outputs": [
    {
     "name": "stderr",
     "output_type": "stream",
     "text": [
      "c:\\Users\\Alessandro\\AppData\\Local\\Programs\\Python\\Python310\\lib\\site-packages\\scipy\\stats\\_entropy.py:77: RuntimeWarning: invalid value encountered in true_divide\n",
      "  pk = 1.0*pk / np.sum(pk, axis=axis, keepdims=True)\n"
     ]
    }
   ],
   "source": [
    "def tweeting_regularity(user_timestamps):\n",
    "\n",
    "    user_timestamps = user_timestamps.values\n",
    "\n",
    "    if(len(user_timestamps) == 1):\n",
    "        return 0\n",
    "\n",
    "    user_timestamps.sort()\n",
    "    diffs = []\n",
    "    for i in range(1,len(user_timestamps)):\n",
    "        diffs.append(user_timestamps[i]-user_timestamps[i-1])\n",
    "    diffs = np.array(diffs)\n",
    "\n",
    "    return entropy(diffs)\n",
    "\n",
    "df_indicators['tweeting_regularity'] = df_tweets.groupby('user_id').agg({'publication_date_in_secs': tweeting_regularity}).values"
   ]
  },
  {
   "cell_type": "code",
   "execution_count": 78,
   "metadata": {
    "colab": {
     "base_uri": "https://localhost:8080/"
    },
    "id": "GkFMkbgeISf6",
    "outputId": "75996264-4200-42b6-dbc8-fda418d97abe"
   },
   "outputs": [
    {
     "data": {
      "text/plain": [
       "0.000000    128974\n",
       "4.364155         1\n",
       "3.462674         1\n",
       "5.806535         1\n",
       "5.641228         1\n",
       "             ...  \n",
       "2.628242         1\n",
       "2.437555         1\n",
       "2.496194         1\n",
       "2.410906         1\n",
       "0.678564         1\n",
       "Name: tweeting_regularity, Length: 11562, dtype: int64"
      ]
     },
     "execution_count": 78,
     "metadata": {},
     "output_type": "execute_result"
    }
   ],
   "source": [
    "df_indicators['tweeting_regularity'].value_counts()"
   ]
  },
  {
   "cell_type": "code",
   "execution_count": 79,
   "metadata": {
    "colab": {
     "base_uri": "https://localhost:8080/",
     "height": 281
    },
    "id": "j1wVtoPqISf7",
    "outputId": "12ef5d3f-f8c4-4049-8ed5-122a0d15e1c3"
   },
   "outputs": [
    {
     "data": {
      "image/png": "[encoded data removed]",
      "text/plain": [
       "<Figure size 640x480 with 1 Axes>"
      ]
     },
     "metadata": {},
     "output_type": "display_data"
    }
   ],
   "source": [
    "plot_boxplot(df_indicators[df_indicators.tweeting_regularity.notnull()],'tweeting_regularity')"
   ]
  },
  {
   "cell_type": "markdown",
   "metadata": {
    "id": "Oy7KamoRwkvw"
   },
   "source": [
    "# Maximum number of tweets in a day by user"
   ]
  },
  {
   "cell_type": "markdown",
   "metadata": {
    "id": "XPjdz1Db3DUB"
   },
   "source": [
    "Add new column which represents the date as the number of the day in the year (e.g. 1st of Janueary would be 1, 2nd of January would be 2, [...], 31st of December would be 365 or 366) concatenated to the year.\n",
    "For example, 2nd of January of 2019 would be \"2_2019\"."
   ]
  },
  {
   "cell_type": "code",
   "execution_count": 80,
   "metadata": {
    "id": "FvoLCDTDwoix"
   },
   "outputs": [],
   "source": [
    "df_tweets['day_of_year'] = pd.DatetimeIndex(df_tweets.publication_date).day_of_year.map(str) + \"_\" + pd.DatetimeIndex(df_tweets.publication_date).year.map(str)"
   ]
  },
  {
   "cell_type": "code",
   "execution_count": 81,
   "metadata": {
    "colab": {
     "base_uri": "https://localhost:8080/"
    },
    "id": "BCvgKQpFAwJL",
    "outputId": "1415ba11-e0d0-469e-ca27-24bf199e1305"
   },
   "outputs": [
    {
     "data": {
      "text/plain": [
       "0           254_2019\n",
       "1            92_2020\n",
       "2           122_2019\n",
       "3           308_2019\n",
       "4            71_2020\n",
       "              ...   \n",
       "10187868    116_2019\n",
       "10187869    108_2020\n",
       "10187870    192_2016\n",
       "10187871     66_2019\n",
       "10187872    191_2019\n",
       "Name: day_of_year, Length: 10187873, dtype: object"
      ]
     },
     "execution_count": 81,
     "metadata": {},
     "output_type": "execute_result"
    }
   ],
   "source": [
    "df_tweets['day_of_year']"
   ]
  },
  {
   "cell_type": "code",
   "execution_count": 82,
   "metadata": {
    "id": "DTlXnlHJ9y5z"
   },
   "outputs": [],
   "source": [
    "user_date_groupby = pd.DataFrame({'n_tweets_by_day' : df_tweets.groupby( [ 'user_id', 'day_of_year'] ).size()}).reset_index()"
   ]
  },
  {
   "cell_type": "code",
   "execution_count": 83,
   "metadata": {
    "colab": {
     "base_uri": "https://localhost:8080/",
     "height": 424
    },
    "id": "PTxryXW__Nzc",
    "outputId": "b463038d-5534-4488-c37d-65f3d4941331"
   },
   "outputs": [
    {
     "data": {
      "text/html": [
       "<div>\n",
       "<style scoped>\n",
       "    .dataframe tbody tr th:only-of-type {\n",
       "        vertical-align: middle;\n",
       "    }\n",
       "\n",
       "    .dataframe tbody tr th {\n",
       "        vertical-align: top;\n",
       "    }\n",
       "\n",
       "    .dataframe thead th {\n",
       "        text-align: right;\n",
       "    }\n",
       "</style>\n",
       "<table border=\"1\" class=\"dataframe\">\n",
       "  <thead>\n",
       "    <tr style=\"text-align: right;\">\n",
       "      <th></th>\n",
       "      <th>user_id</th>\n",
       "      <th>day_of_year</th>\n",
       "      <th>n_tweets_by_day</th>\n",
       "    </tr>\n",
       "  </thead>\n",
       "  <tbody>\n",
       "    <tr>\n",
       "      <th>0</th>\n",
       "      <td>000vk</td>\n",
       "      <td>118_2020</td>\n",
       "      <td>1</td>\n",
       "    </tr>\n",
       "    <tr>\n",
       "      <th>1</th>\n",
       "      <td>0013tom</td>\n",
       "      <td>99_2018</td>\n",
       "      <td>1</td>\n",
       "    </tr>\n",
       "    <tr>\n",
       "      <th>2</th>\n",
       "      <td>001gi</td>\n",
       "      <td>98_2020</td>\n",
       "      <td>1</td>\n",
       "    </tr>\n",
       "    <tr>\n",
       "      <th>3</th>\n",
       "      <td>001rx</td>\n",
       "      <td>70_2020</td>\n",
       "      <td>1</td>\n",
       "    </tr>\n",
       "    <tr>\n",
       "      <th>4</th>\n",
       "      <td>00201f</td>\n",
       "      <td>43_2019</td>\n",
       "      <td>1</td>\n",
       "    </tr>\n",
       "    <tr>\n",
       "      <th>...</th>\n",
       "      <td>...</td>\n",
       "      <td>...</td>\n",
       "      <td>...</td>\n",
       "    </tr>\n",
       "    <tr>\n",
       "      <th>1151381</th>\n",
       "      <td>zzyb</td>\n",
       "      <td>306_2019</td>\n",
       "      <td>1</td>\n",
       "    </tr>\n",
       "    <tr>\n",
       "      <th>1151382</th>\n",
       "      <td>zzyd6</td>\n",
       "      <td>170_2019</td>\n",
       "      <td>1</td>\n",
       "    </tr>\n",
       "    <tr>\n",
       "      <th>1151383</th>\n",
       "      <td>zzyyu</td>\n",
       "      <td>88_2020</td>\n",
       "      <td>1</td>\n",
       "    </tr>\n",
       "    <tr>\n",
       "      <th>1151384</th>\n",
       "      <td>zzz9v</td>\n",
       "      <td>106_2019</td>\n",
       "      <td>1</td>\n",
       "    </tr>\n",
       "    <tr>\n",
       "      <th>1151385</th>\n",
       "      <td>zzza</td>\n",
       "      <td>20_2020</td>\n",
       "      <td>1</td>\n",
       "    </tr>\n",
       "  </tbody>\n",
       "</table>\n",
       "<p>1151386 rows × 3 columns</p>\n",
       "</div>"
      ],
      "text/plain": [
       "         user_id day_of_year  n_tweets_by_day\n",
       "0          000vk    118_2020                1\n",
       "1        0013tom     99_2018                1\n",
       "2          001gi     98_2020                1\n",
       "3          001rx     70_2020                1\n",
       "4         00201f     43_2019                1\n",
       "...          ...         ...              ...\n",
       "1151381     zzyb    306_2019                1\n",
       "1151382    zzyd6    170_2019                1\n",
       "1151383    zzyyu     88_2020                1\n",
       "1151384    zzz9v    106_2019                1\n",
       "1151385     zzza     20_2020                1\n",
       "\n",
       "[1151386 rows x 3 columns]"
      ]
     },
     "execution_count": 83,
     "metadata": {},
     "output_type": "execute_result"
    }
   ],
   "source": [
    "user_date_groupby"
   ]
  },
  {
   "cell_type": "code",
   "execution_count": 84,
   "metadata": {
    "colab": {
     "base_uri": "https://localhost:8080/",
     "height": 81
    },
    "id": "UcUIhcLp995i",
    "outputId": "f29f2e96-9f55-4892-c206-3a3ae7e9babe"
   },
   "outputs": [
    {
     "data": {
      "text/html": [
       "<div>\n",
       "<style scoped>\n",
       "    .dataframe tbody tr th:only-of-type {\n",
       "        vertical-align: middle;\n",
       "    }\n",
       "\n",
       "    .dataframe tbody tr th {\n",
       "        vertical-align: top;\n",
       "    }\n",
       "\n",
       "    .dataframe thead th {\n",
       "        text-align: right;\n",
       "    }\n",
       "</style>\n",
       "<table border=\"1\" class=\"dataframe\">\n",
       "  <thead>\n",
       "    <tr style=\"text-align: right;\">\n",
       "      <th></th>\n",
       "      <th>user_id</th>\n",
       "      <th>day_of_year</th>\n",
       "      <th>n_tweets_by_day</th>\n",
       "    </tr>\n",
       "  </thead>\n",
       "  <tbody>\n",
       "    <tr>\n",
       "      <th>778142</th>\n",
       "      <td>492649414</td>\n",
       "      <td>115_2020</td>\n",
       "      <td>3238</td>\n",
       "    </tr>\n",
       "  </tbody>\n",
       "</table>\n",
       "</div>"
      ],
      "text/plain": [
       "          user_id day_of_year  n_tweets_by_day\n",
       "778142  492649414    115_2020             3238"
      ]
     },
     "execution_count": 84,
     "metadata": {},
     "output_type": "execute_result"
    }
   ],
   "source": [
    "# Maximum number of tweets in a day\n",
    "user_date_groupby[user_date_groupby['n_tweets_by_day'] == user_date_groupby['n_tweets_by_day'].max()]"
   ]
  },
  {
   "cell_type": "markdown",
   "metadata": {
    "id": "X7_I07GIAPkK"
   },
   "source": [
    "Identify maximum number of tweets posted in a day for each user."
   ]
  },
  {
   "cell_type": "code",
   "execution_count": 85,
   "metadata": {
    "id": "7i0AlSUOAB61"
   },
   "outputs": [],
   "source": [
    "df_indicators['max_daily_tweets'] = user_date_groupby.groupby(by=['user_id']).agg({'n_tweets_by_day':max}).values"
   ]
  },
  {
   "cell_type": "markdown",
   "metadata": {
    "collapsed": false,
    "id": "CNQqD8UZISf8"
   },
   "source": [
    "# Density of publication and other attributes"
   ]
  },
  {
   "cell_type": "code",
   "execution_count": 86,
   "metadata": {
    "id": "2ZJJyaAsISf9"
   },
   "outputs": [],
   "source": [
    "secs_in_min = 60\n",
    "mins_in_hour = 60\n",
    "hours_in_day = 24\n",
    "secs_per_day = secs_in_min * mins_in_hour * hours_in_day\n",
    "gropuby_userid = df_tweets.groupby('user_id')\n",
    "df_indicators['last_tweet_dates'] = gropuby_userid.agg({'publication_date_in_secs':'max'}).values\n",
    "df_indicators['first_tweet_dates'] = gropuby_userid.agg({'publication_date_in_secs':'min'}).values\n",
    "df_users.id = df_users.id.astype(str)\n",
    "df_merge = df_users.merge(df_indicators, left_on='id', right_on='user_id', how='right')\n",
    "\n",
    "def attribute_density(attr_total):\n",
    "    \"\"\"\n",
    "    Compute the density for a given attribute as (total_amount)/user_activity_period.\n",
    "    user_activity_period is defined as the time span from the user subscription to its latest tweet.\n",
    "    :param attr_total:  the column name that contains the sum for the attribute. In this notebook it was computed along with mean, std and entropy.\n",
    "    :return:\n",
    "    \"\"\"\n",
    "\n",
    "    def get_user_density(row):\n",
    "\n",
    "        if not pd.isnull(row.user_subscription_in_secs):\n",
    "            density = row[attr_total]/((row.last_tweet_dates-row.user_subscription_in_secs)/secs_per_day)\n",
    "        else:\n",
    "            try:\n",
    "                density = row[attr_total]/((row.last_tweet_dates-row.first_tweet_dates)/secs_per_day)\n",
    "            except ZeroDivisionError:\n",
    "                #An error can occur when a user have no match in df_users and has only one published tweet\n",
    "                density = -1\n",
    "\n",
    "        return density\n",
    "\n",
    "\n",
    "    attr_density = df_merge.apply(get_user_density, axis=1)\n",
    "    attr_density.replace(-1, attr_density.max()+attr_density.std(), inplace=True)\n",
    "\n",
    "    return attr_density"
   ]
  },
  {
   "cell_type": "code",
   "execution_count": 87,
   "metadata": {
    "collapsed": false
   },
   "outputs": [
    {
     "name": "stdout",
     "output_type": "stream",
     "text": [
      "<class 'pandas.core.frame.DataFrame'>\n",
      "RangeIndex: 11508 entries, 0 to 11507\n",
      "Data columns (total 7 columns):\n",
      " #   Column                     Non-Null Count  Dtype  \n",
      "---  ------                     --------------  -----  \n",
      " 0   id                         11508 non-null  object \n",
      " 1   name                       11507 non-null  object \n",
      " 2   lang                       11508 non-null  object \n",
      " 3   bot                        11508 non-null  int64  \n",
      " 4   user_subscription          11508 non-null  object \n",
      " 5   statuses_count             11508 non-null  float64\n",
      " 6   user_subscription_in_secs  11508 non-null  int64  \n",
      "dtypes: float64(1), int64(2), object(4)\n",
      "memory usage: 629.5+ KB\n"
     ]
    }
   ],
   "source": [
    "df_users.info()"
   ]
  },
  {
   "cell_type": "code",
   "execution_count": 88,
   "metadata": {
    "colab": {
     "base_uri": "https://localhost:8080/"
    },
    "id": "ofjZds0UISf9",
    "outputId": "865843ab-de3f-4b47-ca9a-b5c12401ba38"
   },
   "outputs": [],
   "source": [
    "for attr in ['retweet_count_sum', 'reply_count_sum', 'favorite_count_sum', 'num_mentions_sum', 'num_hashtags_sum', 'num_urls_sum']:\n",
    "  df_indicators[f'{attr}'.replace('sum','density')] = attribute_density(attr)\n",
    "\n",
    "df_indicators['n_tweets_density'] = attribute_density('n_tweets')"
   ]
  },
  {
   "cell_type": "code",
   "execution_count": 89,
   "metadata": {
    "id": "VkgxvQGSISf9"
   },
   "outputs": [],
   "source": [
    "df_indicators.drop(columns=['last_tweet_dates'], inplace=True)"
   ]
  },
  {
   "cell_type": "code",
   "execution_count": 90,
   "metadata": {
    "colab": {
     "base_uri": "https://localhost:8080/"
    },
    "id": "F8rw5sgyUc-I",
    "outputId": "252a8d77-5639-4870-bb0a-968957873f9d"
   },
   "outputs": [
    {
     "name": "stdout",
     "output_type": "stream",
     "text": [
      "<class 'pandas.core.frame.DataFrame'>\n",
      "RangeIndex: 140543 entries, 0 to 140542\n",
      "Data columns (total 51 columns):\n",
      " #   Column                            Non-Null Count   Dtype  \n",
      "---  ------                            --------------   -----  \n",
      " 0   user_id                           140543 non-null  object \n",
      " 1   n_tweets                          140543 non-null  int64  \n",
      " 2   2012_tweets                       140543 non-null  int64  \n",
      " 3   2013_tweets                       140543 non-null  int64  \n",
      " 4   2014_tweets                       140543 non-null  int64  \n",
      " 5   2015_tweets                       140543 non-null  int64  \n",
      " 6   2016_tweets                       140543 non-null  int64  \n",
      " 7   2017_tweets                       140543 non-null  int64  \n",
      " 8   2018_tweets                       140543 non-null  int64  \n",
      " 9   2019_tweets                       140543 non-null  int64  \n",
      " 10  2020_tweets                       140543 non-null  int64  \n",
      " 11  mean_length                       140543 non-null  float64\n",
      " 12  mean_special_chars                140543 non-null  float64\n",
      " 13  publication_date_in_secs_mean     140543 non-null  float64\n",
      " 14  publication_date_in_secs_std      13781 non-null   float64\n",
      " 15  publication_date_in_secs_entropy  140543 non-null  float64\n",
      " 16  publication_date_in_secs_sum      140543 non-null  float64\n",
      " 17  retweet_count_mean                140543 non-null  float64\n",
      " 18  retweet_count_std                 13781 non-null   float64\n",
      " 19  retweet_count_entropy             37738 non-null   float64\n",
      " 20  retweet_count_sum                 140543 non-null  float64\n",
      " 21  reply_count_mean                  140543 non-null  float64\n",
      " 22  reply_count_std                   13781 non-null   float64\n",
      " 23  reply_count_entropy               1308 non-null    float64\n",
      " 24  reply_count_sum                   140543 non-null  float64\n",
      " 25  favorite_count_mean               140543 non-null  float64\n",
      " 26  favorite_count_std                13781 non-null   float64\n",
      " 27  favorite_count_entropy            27895 non-null   float64\n",
      " 28  favorite_count_sum                140543 non-null  float64\n",
      " 29  num_hashtags_mean                 140543 non-null  float64\n",
      " 30  num_hashtags_std                  13781 non-null   float64\n",
      " 31  num_hashtags_entropy              18703 non-null   float64\n",
      " 32  num_hashtags_sum                  140543 non-null  float64\n",
      " 33  num_urls_mean                     140543 non-null  float64\n",
      " 34  num_urls_std                      13781 non-null   float64\n",
      " 35  num_urls_entropy                  22281 non-null   float64\n",
      " 36  num_urls_sum                      140543 non-null  float64\n",
      " 37  num_mentions_mean                 140543 non-null  float64\n",
      " 38  num_mentions_std                  13781 non-null   float64\n",
      " 39  num_mentions_entropy              38484 non-null   float64\n",
      " 40  num_mentions_sum                  140543 non-null  float64\n",
      " 41  tweeting_regularity               140535 non-null  float64\n",
      " 42  max_daily_tweets                  140543 non-null  int64  \n",
      " 43  first_tweet_dates                 140543 non-null  int64  \n",
      " 44  retweet_count_density             140543 non-null  float64\n",
      " 45  reply_count_density               140543 non-null  float64\n",
      " 46  favorite_count_density            140543 non-null  float64\n",
      " 47  num_mentions_density              140543 non-null  float64\n",
      " 48  num_hashtags_density              140543 non-null  float64\n",
      " 49  num_urls_density                  140543 non-null  float64\n",
      " 50  n_tweets_density                  140543 non-null  float64\n",
      "dtypes: float64(38), int64(12), object(1)\n",
      "memory usage: 54.7+ MB\n"
     ]
    }
   ],
   "source": [
    "df_indicators.info()"
   ]
  },
  {
   "cell_type": "markdown",
   "metadata": {
    "collapsed": false
   },
   "source": [
    "# Drop utils cols"
   ]
  },
  {
   "cell_type": "code",
   "execution_count": 91,
   "metadata": {
    "collapsed": false
   },
   "outputs": [],
   "source": [
    "df_indicators.drop(columns = [attr for attr in df_indicators.columns if '_sum' in attr], inplace=True)"
   ]
  },
  {
   "cell_type": "code",
   "execution_count": 92,
   "metadata": {
    "collapsed": false
   },
   "outputs": [
    {
     "name": "stdout",
     "output_type": "stream",
     "text": [
      "<class 'pandas.core.frame.DataFrame'>\n",
      "RangeIndex: 140543 entries, 0 to 140542\n",
      "Data columns (total 44 columns):\n",
      " #   Column                            Non-Null Count   Dtype  \n",
      "---  ------                            --------------   -----  \n",
      " 0   user_id                           140543 non-null  object \n",
      " 1   n_tweets                          140543 non-null  int64  \n",
      " 2   2012_tweets                       140543 non-null  int64  \n",
      " 3   2013_tweets                       140543 non-null  int64  \n",
      " 4   2014_tweets                       140543 non-null  int64  \n",
      " 5   2015_tweets                       140543 non-null  int64  \n",
      " 6   2016_tweets                       140543 non-null  int64  \n",
      " 7   2017_tweets                       140543 non-null  int64  \n",
      " 8   2018_tweets                       140543 non-null  int64  \n",
      " 9   2019_tweets                       140543 non-null  int64  \n",
      " 10  2020_tweets                       140543 non-null  int64  \n",
      " 11  mean_length                       140543 non-null  float64\n",
      " 12  mean_special_chars                140543 non-null  float64\n",
      " 13  publication_date_in_secs_mean     140543 non-null  float64\n",
      " 14  publication_date_in_secs_std      13781 non-null   float64\n",
      " 15  publication_date_in_secs_entropy  140543 non-null  float64\n",
      " 16  retweet_count_mean                140543 non-null  float64\n",
      " 17  retweet_count_std                 13781 non-null   float64\n",
      " 18  retweet_count_entropy             37738 non-null   float64\n",
      " 19  reply_count_mean                  140543 non-null  float64\n",
      " 20  reply_count_std                   13781 non-null   float64\n",
      " 21  reply_count_entropy               1308 non-null    float64\n",
      " 22  favorite_count_mean               140543 non-null  float64\n",
      " 23  favorite_count_std                13781 non-null   float64\n",
      " 24  favorite_count_entropy            27895 non-null   float64\n",
      " 25  num_hashtags_mean                 140543 non-null  float64\n",
      " 26  num_hashtags_std                  13781 non-null   float64\n",
      " 27  num_hashtags_entropy              18703 non-null   float64\n",
      " 28  num_urls_mean                     140543 non-null  float64\n",
      " 29  num_urls_std                      13781 non-null   float64\n",
      " 30  num_urls_entropy                  22281 non-null   float64\n",
      " 31  num_mentions_mean                 140543 non-null  float64\n",
      " 32  num_mentions_std                  13781 non-null   float64\n",
      " 33  num_mentions_entropy              38484 non-null   float64\n",
      " 34  tweeting_regularity               140535 non-null  float64\n",
      " 35  max_daily_tweets                  140543 non-null  int64  \n",
      " 36  first_tweet_dates                 140543 non-null  int64  \n",
      " 37  retweet_count_density             140543 non-null  float64\n",
      " 38  reply_count_density               140543 non-null  float64\n",
      " 39  favorite_count_density            140543 non-null  float64\n",
      " 40  num_mentions_density              140543 non-null  float64\n",
      " 41  num_hashtags_density              140543 non-null  float64\n",
      " 42  num_urls_density                  140543 non-null  float64\n",
      " 43  n_tweets_density                  140543 non-null  float64\n",
      "dtypes: float64(31), int64(12), object(1)\n",
      "memory usage: 47.2+ MB\n"
     ]
    }
   ],
   "source": [
    "df_indicators.info()"
   ]
  },
  {
   "cell_type": "code",
   "execution_count": 93,
   "metadata": {
    "collapsed": false
   },
   "outputs": [
    {
     "name": "stdout",
     "output_type": "stream",
     "text": [
      "<class 'pandas.core.frame.DataFrame'>\n",
      "RangeIndex: 11508 entries, 0 to 11507\n",
      "Data columns (total 7 columns):\n",
      " #   Column                     Non-Null Count  Dtype  \n",
      "---  ------                     --------------  -----  \n",
      " 0   id                         11508 non-null  object \n",
      " 1   name                       11507 non-null  object \n",
      " 2   lang                       11508 non-null  object \n",
      " 3   bot                        11508 non-null  int64  \n",
      " 4   user_subscription          11508 non-null  object \n",
      " 5   statuses_count             11508 non-null  float64\n",
      " 6   user_subscription_in_secs  11508 non-null  int64  \n",
      "dtypes: float64(1), int64(2), object(4)\n",
      "memory usage: 629.5+ KB\n"
     ]
    }
   ],
   "source": [
    "df_users.info()"
   ]
  },
  {
   "cell_type": "markdown",
   "metadata": {
    "id": "sqXcYC-eTIow"
   },
   "source": [
    "# File Checkpoint"
   ]
  },
  {
   "cell_type": "code",
   "execution_count": 96,
   "metadata": {
    "id": "Sli4LT8lTLcS"
   },
   "outputs": [],
   "source": [
    "df_tweets.to_csv(path_or_buf=DATA_PATH+'tweets_with_indicators.csv', sep='#', index=False)"
   ]
  },
  {
   "cell_type": "code",
   "execution_count": 97,
   "metadata": {
    "id": "4l-lOH-4TKE3"
   },
   "outputs": [],
   "source": [
    "df_indicators.to_csv(path_or_buf=DATA_PATH+'indicators.csv', sep='#', index=False)"
   ]
  }
 ],
 "metadata": {
  "colab": {
   "provenance": []
  },
  "kernelspec": {
   "display_name": "Python 3.10.4 64-bit",
   "language": "python",
   "name": "python3"
  },
  "language_info": {
   "codemirror_mode": {
    "name": "ipython",
    "version": 3
   },
   "file_extension": ".py",
   "mimetype": "text/x-python",
   "name": "python",
   "nbconvert_exporter": "python",
   "pygments_lexer": "ipython3",
   "version": "3.10.4"
  },
  "vscode": {
   "interpreter": {
    "hash": "36fabd57e396b83aef36b02305bae0bcb053b13a3fa699e04cd3b884d5079903"
   }
  }
 },
 "nbformat": 4,
 "nbformat_minor": 0
}
