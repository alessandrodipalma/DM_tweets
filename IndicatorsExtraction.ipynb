{
 "cells": [
  {
   "cell_type": "code",
   "execution_count": null,
   "outputs": [],
   "source": [
    "import pandas as pd\n",
    "import math\n",
    "import numpy as np\n",
    "from matplotlib import pyplot as plt\n",
    "from numpy import logical_and as land, logical_or as lor\n",
    "import re\n",
    "from utilities import plot_boxplot, plot_hist"
   ],
   "metadata": {
    "collapsed": false
   }
  },
  {
   "cell_type": "code",
   "execution_count": null,
   "outputs": [],
   "source": [
    "DATA_PATH = 'G:/Shared drives/DM_tweets/data/'"
   ],
   "metadata": {
    "collapsed": false
   }
  },
  {
   "cell_type": "code",
   "execution_count": null,
   "outputs": [],
   "source": [
    "DATA_PATH = 'G:/Drive condivisi/DM_tweets/data/'"
   ],
   "metadata": {
    "collapsed": false
   }
  },
  {
   "cell_type": "code",
   "execution_count": null,
   "outputs": [],
   "source": [
    "df_tweets = pd.read_csv(DATA_PATH+'tweets_clean.csv', sep='#')\n",
    "df_users = pd.read_csv(DATA_PATH+'users_clean.csv', sep='#')"
   ],
   "metadata": {
    "collapsed": false
   }
  },
  {
   "cell_type": "markdown",
   "source": [
    "# How many tweets were published by the user?"
   ],
   "metadata": {
    "collapsed": false
   }
  },
  {
   "cell_type": "code",
   "execution_count": null,
   "outputs": [],
   "source": [
    "df_indicators = pd.DataFrame({'n_tweets' : df_tweets.groupby(['user_id'] ).size()}).reset_index()"
   ],
   "metadata": {
    "collapsed": false
   }
  },
  {
   "cell_type": "code",
   "execution_count": null,
   "outputs": [],
   "source": [
    "df_indicators"
   ],
   "metadata": {
    "collapsed": false
   }
  },
  {
   "cell_type": "markdown",
   "source": [
    "# How many tweets are published by the user in a given period of time?"
   ],
   "metadata": {
    "collapsed": false
   }
  },
  {
   "cell_type": "code",
   "execution_count": null,
   "outputs": [],
   "source": [
    "for y in range(2012, 2021):\n",
    "  df_indicators[str(y) + \"_tweets\"] = 0\n",
    "\n",
    "df_indicators.info()"
   ],
   "metadata": {
    "collapsed": false
   }
  },
  {
   "cell_type": "code",
   "execution_count": null,
   "outputs": [],
   "source": [
    "for y in range(2012,2021):\n",
    "  # Filter all tweets published in a certain year\n",
    "  tweets_by_y = df_tweets[land(df_tweets['created_at'] >= (str(y)+\"-01-01\"), \n",
    "                               df_tweets['created_at'] <= (str(y)+\"-12-31\"))][['user_id','created_at']]\n",
    "\n",
    "  # Count tweets of users in that year\n",
    "  gby = pd.DataFrame({'n_tweets' : tweets_by_y.groupby( [ 'user_id'] ).size()}).reset_index()\n",
    "  \n",
    "  # Transform it in a dictionary\n",
    "  gby = dict(zip(gby.user_id, gby.n_tweets))\n",
    "\n",
    "  # Select users to modify and update them\n",
    "  df_indicators.loc[df_indicators['user_id'].isin(gby.keys()), str(y)+'_tweets'] = list(gby.values())"
   ],
   "metadata": {
    "collapsed": false
   }
  },
  {
   "cell_type": "code",
   "execution_count": null,
   "outputs": [],
   "source": [
    "years_col_list = [str(y)+'_tweets' for y in range(2012,2021)]\n",
    "sum_list = [df_indicators[y].sum() for y in years_col_list]\n",
    "plt.bar(range(2012,2021), sum_list, log=True)"
   ],
   "metadata": {
    "collapsed": false
   }
  },
  {
   "cell_type": "markdown",
   "source": [
    "# Total number of tweets"
   ],
   "metadata": {
    "collapsed": false
   }
  },
  {
   "cell_type": "code",
   "execution_count": null,
   "outputs": [],
   "source": [
    "tot_n_tweets = df_tweets.shape[0]\n",
    "tot_n_tweets"
   ],
   "metadata": {
    "collapsed": false
   }
  },
  {
   "cell_type": "markdown",
   "source": [
    "# Total number of likes and comments and retweets"
   ],
   "metadata": {
    "collapsed": false
   }
  },
  {
   "cell_type": "code",
   "execution_count": null,
   "outputs": [],
   "source": [
    "total_favorite = df_tweets.favorite_count.sum()\n",
    "total_favorite"
   ],
   "metadata": {
    "collapsed": false
   }
  },
  {
   "cell_type": "code",
   "execution_count": null,
   "outputs": [],
   "source": [
    "total_replies = df_tweets.reply_count.sum()\n",
    "total_replies"
   ],
   "metadata": {
    "collapsed": false
   }
  },
  {
   "cell_type": "code",
   "execution_count": null,
   "outputs": [],
   "source": [
    "total_retweets = df_tweets.retweet_count.sum()\n",
    "total_retweets"
   ],
   "metadata": {
    "collapsed": false
   }
  },
  {
   "cell_type": "markdown",
   "source": [
    "# Ratio between the number of tweets and the number of likes"
   ],
   "metadata": {
    "collapsed": false
   }
  },
  {
   "cell_type": "code",
   "execution_count": null,
   "outputs": [],
   "source": [
    "ratio_tweets_fav = len(df_tweets) / total_favorite\n",
    "ratio_tweets_fav"
   ],
   "metadata": {
    "collapsed": false
   }
  },
  {
   "cell_type": "markdown",
   "source": [
    "## Ratio between the number of tweets and the number of retweets"
   ],
   "metadata": {
    "collapsed": false
   }
  },
  {
   "cell_type": "code",
   "execution_count": null,
   "outputs": [],
   "source": [
    "ratio_tweets_rt = len(df_tweets) / total_retweets\n",
    "ratio_tweets_rt"
   ],
   "metadata": {
    "collapsed": false
   }
  },
  {
   "cell_type": "markdown",
   "source": [
    "## Ratio between the number of tweets and the number of comments"
   ],
   "metadata": {
    "collapsed": false
   }
  },
  {
   "cell_type": "code",
   "execution_count": null,
   "outputs": [],
   "source": [
    "ratio_tweets_replies = len(df_tweets) / total_replies\n",
    "ratio_tweets_replies"
   ],
   "metadata": {
    "collapsed": false
   }
  },
  {
   "cell_type": "markdown",
   "source": [
    "# Average length of the tweets per user"
   ],
   "metadata": {
    "collapsed": false
   }
  },
  {
   "cell_type": "code",
   "execution_count": null,
   "outputs": [],
   "source": [
    "df_tweets['length'] = df_tweets.text.astype(str).apply(len)"
   ],
   "metadata": {
    "collapsed": false
   }
  },
  {
   "cell_type": "code",
   "execution_count": null,
   "outputs": [],
   "source": [
    "df_tweets.boxplot('length')"
   ],
   "metadata": {
    "collapsed": false
   }
  },
  {
   "cell_type": "code",
   "execution_count": null,
   "outputs": [],
   "source": [
    "len_groupby = df_tweets.groupby('user_id').agg({'length':'mean'})"
   ],
   "metadata": {
    "collapsed": false
   }
  },
  {
   "cell_type": "code",
   "execution_count": null,
   "outputs": [],
   "source": [
    "df_indicators['mean_length'] = len_groupby.length.values\n",
    "df_indicators.info()"
   ],
   "metadata": {
    "collapsed": false
   }
  },
  {
   "cell_type": "code",
   "execution_count": null,
   "outputs": [],
   "source": [
    "df_indicators.max()"
   ],
   "metadata": {
    "collapsed": false
   }
  },
  {
   "cell_type": "markdown",
   "source": [
    "# Average number of special characters in the tweets per user"
   ],
   "metadata": {
    "collapsed": false
   }
  },
  {
   "cell_type": "code",
   "execution_count": null,
   "outputs": [],
   "source": [
    "df_tweets['special_chars'] = df_tweets.text.astype(str).apply(lambda text: len(re.findall(\"(?=\\W)(?=\\S)\", text)))"
   ],
   "metadata": {
    "collapsed": false
   }
  },
  {
   "cell_type": "code",
   "execution_count": null,
   "outputs": [],
   "source": [
    "len_groupby = df_tweets.groupby('user_id').agg({'special_chars':'mean'})\n",
    "\n",
    "df_indicators['mean_special_chars'] = len_groupby.special_chars.values\n",
    "df_indicators"
   ],
   "metadata": {
    "collapsed": false
   }
  },
  {
   "cell_type": "markdown",
   "source": [
    "# File Checkpoint"
   ],
   "metadata": {
    "collapsed": false
   }
  },
  {
   "cell_type": "code",
   "execution_count": null,
   "outputs": [],
   "source": [
    "df_tweets.to_csv(path_or_buf=DATA_PATH+'tweets_with_indicators.csv', sep='#', index=False)"
   ],
   "metadata": {
    "collapsed": false
   }
  },
  {
   "cell_type": "code",
   "execution_count": null,
   "outputs": [],
   "source": [
    "df_indicators.to_csv(path_or_buf=DATA_PATH+'indicators_1.csv', sep='#', index=False)"
   ],
   "metadata": {
    "collapsed": false
   }
  },
  {
   "cell_type": "code",
   "execution_count": null,
   "outputs": [],
   "source": [
    "df_indicators = pd.read_csv(DATA_PATH+'indicators_1.csv', sep='#')"
   ],
   "metadata": {
    "collapsed": false
   }
  },
  {
   "cell_type": "markdown",
   "source": [
    "# Mean, standard deviation and entropy for each attribute by user"
   ],
   "metadata": {
    "collapsed": false
   }
  },
  {
   "cell_type": "code",
   "execution_count": null,
   "outputs": [],
   "source": [
    "user_groupby = df_tweets.groupby('user_id').agg(['mean','std',entropy])"
   ],
   "metadata": {
    "collapsed": false
   }
  },
  {
   "cell_type": "code",
   "execution_count": null,
   "outputs": [],
   "source": [
    "user_groupby.drop(columns=['length','special_chars'], inplace=True)"
   ],
   "metadata": {
    "collapsed": false
   }
  },
  {
   "cell_type": "code",
   "execution_count": null,
   "outputs": [],
   "source": [
    "colz = list(user_groupby.columns.map('_'.join).str.strip('_'))"
   ],
   "metadata": {
    "collapsed": false
   }
  },
  {
   "cell_type": "code",
   "execution_count": null,
   "outputs": [],
   "source": [
    "df_indicators[colz] = user_groupby.values"
   ],
   "metadata": {
    "collapsed": false
   }
  },
  {
   "cell_type": "code",
   "execution_count": null,
   "outputs": [],
   "source": [
    "df_indicators.max()"
   ],
   "metadata": {
    "collapsed": false
   }
  },
  {
   "cell_type": "markdown",
   "metadata": {
    "id": "_yylOrtau5bu"
   },
   "source": [
    "# Tweeting regularity\n",
    "We want an indicator that can tell us if the user has a certain regularity in the publication.\n",
    "We define the tweeting regularity of a user as:\n",
    "$$ Var( \\{\\ timestamp_i - timestamp_j\\ |\\ j = i + 1 \\} )$$"
   ]
  },
  {
   "cell_type": "code",
   "execution_count": 86,
   "metadata": {
    "colab": {
     "base_uri": "https://localhost:8080/",
     "height": 400
    },
    "id": "bB4x0Op1u5bv",
    "outputId": "253a3bed-5413-4204-8222-a5096a47af31"
   },
   "outputs": [],
   "source": [
    "def tweeting_regularity(user_timestamps):\n",
    "\n",
    "    user_timestamps = user_timestamps.values\n",
    "\n",
    "    if(len(user_timestamps) == 1):\n",
    "        return 0\n",
    "\n",
    "    user_timestamps.sort()\n",
    "    diffs = []\n",
    "    for i in range(1,len(user_timestamps)):\n",
    "        diffs.append(user_timestamps[i]-user_timestamps[i-1])\n",
    "    diffs = np.array(diffs)\n",
    "\n",
    "    return entropy(diffs)\n",
    "\n",
    "df_indicators['tweeting_regularity'] = df_tweets.groupby('user_id').agg({'created_at_conv': tweeting_regularity}).values"
   ]
  },
  {
   "cell_type": "markdown",
   "source": [
    "# Maximum number of tweets in a day by user"
   ],
   "metadata": {
    "id": "Oy7KamoRwkvw"
   }
  },
  {
   "cell_type": "markdown",
   "source": [
    "Add new column which represents the date as the number of the day in the year (e.g. 1st of Janueary would be 1, 2nd of January would be 2, [...], 31st of December would be 365 or 366) concatenated to the year.\n",
    "For example, 2nd of January of 2019 would be \"2_2019\"."
   ],
   "metadata": {
    "id": "XPjdz1Db3DUB"
   }
  },
  {
   "cell_type": "code",
   "source": [
    "df_tweets['day_of_year'] = pd.DatetimeIndex(df_tweets.created_at).day_of_year.map(str) + \"_\" + pd.DatetimeIndex(df_tweets.created_at).year.map(str)"
   ],
   "metadata": {
    "id": "FvoLCDTDwoix"
   },
   "execution_count": 87,
   "outputs": []
  },
  {
   "cell_type": "code",
   "source": [
    "df_tweets['day_of_year']"
   ],
   "metadata": {
    "colab": {
     "base_uri": "https://localhost:8080/"
    },
    "id": "BCvgKQpFAwJL",
    "outputId": "377f07e5-7dff-4279-e065-4ecc128c71ab"
   },
   "execution_count": 88,
   "outputs": [
    {
     "data": {
      "text/plain": "0           254_2019\n1            92_2020\n2           122_2019\n3           308_2019\n4            71_2020\n              ...   \n10187868    116_2019\n10187869    108_2020\n10187870    192_2016\n10187871     66_2019\n10187872    191_2019\nName: day_of_year, Length: 10187873, dtype: object"
     },
     "execution_count": 88,
     "metadata": {},
     "output_type": "execute_result"
    }
   ]
  },
  {
   "cell_type": "code",
   "source": [
    "user_date_groupby = pd.DataFrame({'n_tweets_by_day' : df_tweets.groupby( [ 'user_id', 'day_of_year'] ).size()}).reset_index()"
   ],
   "metadata": {
    "id": "DTlXnlHJ9y5z"
   },
   "execution_count": 89,
   "outputs": []
  },
  {
   "cell_type": "code",
   "source": [
    "user_date_groupby"
   ],
   "metadata": {
    "colab": {
     "base_uri": "https://localhost:8080/",
     "height": 424
    },
    "id": "PTxryXW__Nzc",
    "outputId": "449b43c5-08e6-4f7b-c693-5b0438a0d7c0"
   },
   "execution_count": 34,
   "outputs": [
    {
     "data": {
      "text/plain": "         user_id day_of_year  n_tweets_by_day\n0          000vk    118_2020                1\n1        0013tom     99_2018                1\n2          001gi     98_2020                1\n3          001rx     70_2020                1\n4         00201f     43_2019                1\n...          ...         ...              ...\n1151381     zzyb    306_2019                1\n1151382    zzyd6    170_2019                1\n1151383    zzyyu     88_2020                1\n1151384    zzz9v    106_2019                1\n1151385     zzza     20_2020                1\n\n[1151386 rows x 3 columns]",
      "text/html": "<div>\n<style scoped>\n    .dataframe tbody tr th:only-of-type {\n        vertical-align: middle;\n    }\n\n    .dataframe tbody tr th {\n        vertical-align: top;\n    }\n\n    .dataframe thead th {\n        text-align: right;\n    }\n</style>\n<table border=\"1\" class=\"dataframe\">\n  <thead>\n    <tr style=\"text-align: right;\">\n      <th></th>\n      <th>user_id</th>\n      <th>day_of_year</th>\n      <th>n_tweets_by_day</th>\n    </tr>\n  </thead>\n  <tbody>\n    <tr>\n      <th>0</th>\n      <td>000vk</td>\n      <td>118_2020</td>\n      <td>1</td>\n    </tr>\n    <tr>\n      <th>1</th>\n      <td>0013tom</td>\n      <td>99_2018</td>\n      <td>1</td>\n    </tr>\n    <tr>\n      <th>2</th>\n      <td>001gi</td>\n      <td>98_2020</td>\n      <td>1</td>\n    </tr>\n    <tr>\n      <th>3</th>\n      <td>001rx</td>\n      <td>70_2020</td>\n      <td>1</td>\n    </tr>\n    <tr>\n      <th>4</th>\n      <td>00201f</td>\n      <td>43_2019</td>\n      <td>1</td>\n    </tr>\n    <tr>\n      <th>...</th>\n      <td>...</td>\n      <td>...</td>\n      <td>...</td>\n    </tr>\n    <tr>\n      <th>1151381</th>\n      <td>zzyb</td>\n      <td>306_2019</td>\n      <td>1</td>\n    </tr>\n    <tr>\n      <th>1151382</th>\n      <td>zzyd6</td>\n      <td>170_2019</td>\n      <td>1</td>\n    </tr>\n    <tr>\n      <th>1151383</th>\n      <td>zzyyu</td>\n      <td>88_2020</td>\n      <td>1</td>\n    </tr>\n    <tr>\n      <th>1151384</th>\n      <td>zzz9v</td>\n      <td>106_2019</td>\n      <td>1</td>\n    </tr>\n    <tr>\n      <th>1151385</th>\n      <td>zzza</td>\n      <td>20_2020</td>\n      <td>1</td>\n    </tr>\n  </tbody>\n</table>\n<p>1151386 rows × 3 columns</p>\n</div>"
     },
     "execution_count": 34,
     "metadata": {},
     "output_type": "execute_result"
    }
   ]
  },
  {
   "cell_type": "code",
   "source": [
    "# Maximum number of tweets in a day\n",
    "user_date_groupby[user_date_groupby['n_tweets_by_day'] == user_date_groupby['n_tweets_by_day'].max()]"
   ],
   "metadata": {
    "colab": {
     "base_uri": "https://localhost:8080/",
     "height": 81
    },
    "id": "UcUIhcLp995i",
    "outputId": "915aec8a-5ebb-489a-9158-666109f46970"
   },
   "execution_count": 35,
   "outputs": [
    {
     "data": {
      "text/plain": "          user_id day_of_year  n_tweets_by_day\n778142  492649414    115_2020             3238",
      "text/html": "<div>\n<style scoped>\n    .dataframe tbody tr th:only-of-type {\n        vertical-align: middle;\n    }\n\n    .dataframe tbody tr th {\n        vertical-align: top;\n    }\n\n    .dataframe thead th {\n        text-align: right;\n    }\n</style>\n<table border=\"1\" class=\"dataframe\">\n  <thead>\n    <tr style=\"text-align: right;\">\n      <th></th>\n      <th>user_id</th>\n      <th>day_of_year</th>\n      <th>n_tweets_by_day</th>\n    </tr>\n  </thead>\n  <tbody>\n    <tr>\n      <th>778142</th>\n      <td>492649414</td>\n      <td>115_2020</td>\n      <td>3238</td>\n    </tr>\n  </tbody>\n</table>\n</div>"
     },
     "execution_count": 35,
     "metadata": {},
     "output_type": "execute_result"
    }
   ]
  },
  {
   "cell_type": "markdown",
   "source": [
    "Identify maximum number of tweets posted in a day for each user."
   ],
   "metadata": {
    "id": "X7_I07GIAPkK"
   }
  },
  {
   "cell_type": "code",
   "source": [
    "df_indicators['max_daily_tweets'] = user_date_groupby.groupby(by=['user_id']).agg({'n_tweets_by_day':max}).values"
   ],
   "metadata": {
    "id": "7i0AlSUOAB61"
   },
   "execution_count": 90,
   "outputs": []
  },
  {
   "cell_type": "markdown",
   "source": [
    "# File Checkpoint"
   ],
   "metadata": {
    "id": "sqXcYC-eTIow"
   }
  },
  {
   "cell_type": "code",
   "source": [
    "df_tweets.to_csv(path_or_buf=DATA_PATH+'tweets_with_indicators.csv', sep='#', index=False)"
   ],
   "metadata": {
    "id": "Sli4LT8lTLcS"
   },
   "execution_count": 37,
   "outputs": []
  },
  {
   "cell_type": "code",
   "source": [
    "df_indicators.to_csv(path_or_buf=DATA_PATH+'indicators.csv', sep='#', index=False)"
   ],
   "metadata": {
    "id": "4l-lOH-4TKE3"
   },
   "execution_count": 38,
   "outputs": []
  }
 ],
 "metadata": {
  "colab": {
   "provenance": []
  },
  "kernelspec": {
   "display_name": "Python 3",
   "language": "python",
   "name": "python3"
  },
  "language_info": {
   "codemirror_mode": {
    "name": "ipython",
    "version": 3
   },
   "file_extension": ".py",
   "mimetype": "text/x-python",
   "name": "python",
   "nbconvert_exporter": "python",
   "pygments_lexer": "ipython3",
   "version": "3.9.5"
  }
 },
 "nbformat": 4,
 "nbformat_minor": 0
}
