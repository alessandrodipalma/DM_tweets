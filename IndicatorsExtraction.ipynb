{
<<<<<<< HEAD
  "cells": [
    {
      "cell_type": "code",
      "execution_count": 1,
      "outputs": [],
      "source": [
        "import pandas as pd\n",
        "import math\n",
        "import numpy as np\n",
        "from matplotlib import pyplot as plt\n",
        "from numpy import logical_and as land, logical_or as lor"
      ],
      "metadata": {
        "id": "UdaG28i6DemV"
      }
    },
    {
      "cell_type": "code",
      "source": [
        "from google.colab import drive\n",
        "drive.mount('/content/drive')"
      ],
      "metadata": {
        "colab": {
          "base_uri": "https://localhost:8080/"
        },
        "id": "uqN9wM_KNyP-",
        "outputId": "c853a1ad-00df-4c6e-8843-50fd08cb9c9b"
      },
      "execution_count": 2,
      "outputs": [
        {
          "output_type": "stream",
          "name": "stdout",
          "text": [
            "Mounted at /content/drive\n"
          ]
        }
      ]
    },
    {
      "cell_type": "code",
      "execution_count": 3,
      "outputs": [],
      "source": [
        "df_tweets = pd.read_csv('/content/drive/MyDrive/tweets_clean.csv', sep='#')\n",
        "df_users = pd.read_csv('/content/drive/MyDrive/users_clean.csv', sep='#')"
      ],
      "metadata": {
        "id": "vMsGADALDemY"
      }
    },
    {
      "cell_type": "code",
      "execution_count": 4,
      "outputs": [],
      "source": [
        "def plot_hist(dataframe, attribute_name, log=False):\n",
        "    df = pd.DataFrame()\n",
        "\n",
        "    if log:\n",
        "        log_attribute_name = attribute_name+'_log'\n",
        "        df[log_attribute_name] = np.log(dataframe[attribute_name].values)\n",
        "\n",
        "        attribute_name = log_attribute_name\n",
        "        df[attribute_name] = df[attribute_name].replace(-np.inf, 0)\n",
        "\n",
        "    else:\n",
        "        df[attribute_name] = dataframe[attribute_name].values\n",
        "    n_bins = math.ceil(np.log2(len(df[attribute_name])) + 1) #Sturges' rule\n",
        "    df.hist(attribute_name, bins = n_bins, log=True)"
      ],
      "metadata": {
        "id": "vC8TKZKDDemZ"
      }
    },
    {
      "cell_type": "code",
      "execution_count": null,
      "outputs": [],
      "source": [
        "def plot_boxplot(df,col,log=False):\n",
        "    #Plot the distribution of the indicated column\n",
        "    plt.boxplot(df_tweets[df[col] != -1.0][col], showmeans=True)\n",
        "    if log:\n",
        "        plt.yscale('log')\n",
        "    plt.show()"
      ],
      "metadata": {
        "id": "AD_dtmlPDemb"
      }
    },
    {
      "cell_type": "markdown",
      "source": [
        "For each user save in a Dataframe the list of indices of tweets belonging to them."
      ],
      "metadata": {
        "id": "bzsEMAViZNkS"
      }
    },
    {
      "cell_type": "code",
      "execution_count": 6,
      "outputs": [],
      "source": [
        "df_tweets['index'] = range(0, len(df_tweets))"
      ],
      "metadata": {
        "id": "W6d3zXygDemb"
      }
    },
    {
      "cell_type": "code",
      "source": [
        "users_tweets = df_tweets.groupby('user_id')['index'].apply(list).reset_index(name='tweets_indices')\n",
        "users_tweets"
      ],
      "metadata": {
        "colab": {
          "base_uri": "https://localhost:8080/",
          "height": 424
        },
        "id": "Ti6RhYzTYQIh",
        "outputId": "b612c7ee-1c7f-4e0b-9cd7-5641655f03a1"
      },
      "execution_count": 7,
      "outputs": [
        {
          "output_type": "execute_result",
          "data": {
            "text/plain": [
              "          user_id tweets_indices\n",
              "0       0006qod9y     [10560803]\n",
              "1          000unb      [8684909]\n",
              "2           000vk      [4305963]\n",
              "3         0013tom      [4693234]\n",
              "4           001gi      [3475199]\n",
              "...           ...            ...\n",
              "222280      zzyd6      [1424101]\n",
              "222281  zzyhkgc34      [8930730]\n",
              "222282      zzyyu      [1550788]\n",
              "222283      zzz9v      [5694578]\n",
              "222284       zzza     [10177819]\n",
              "\n",
              "[222285 rows x 2 columns]"
            ],
            "text/html": [
              "\n",
              "  <div id=\"df-0f421848-0182-4389-b915-0e65cdb80a04\">\n",
              "    <div class=\"colab-df-container\">\n",
              "      <div>\n",
              "<style scoped>\n",
              "    .dataframe tbody tr th:only-of-type {\n",
              "        vertical-align: middle;\n",
              "    }\n",
              "\n",
              "    .dataframe tbody tr th {\n",
              "        vertical-align: top;\n",
              "    }\n",
              "\n",
              "    .dataframe thead th {\n",
              "        text-align: right;\n",
              "    }\n",
              "</style>\n",
              "<table border=\"1\" class=\"dataframe\">\n",
              "  <thead>\n",
              "    <tr style=\"text-align: right;\">\n",
              "      <th></th>\n",
              "      <th>user_id</th>\n",
              "      <th>tweets_indices</th>\n",
              "    </tr>\n",
              "  </thead>\n",
              "  <tbody>\n",
              "    <tr>\n",
              "      <th>0</th>\n",
              "      <td>0006qod9y</td>\n",
              "      <td>[10560803]</td>\n",
              "    </tr>\n",
              "    <tr>\n",
              "      <th>1</th>\n",
              "      <td>000unb</td>\n",
              "      <td>[8684909]</td>\n",
              "    </tr>\n",
              "    <tr>\n",
              "      <th>2</th>\n",
              "      <td>000vk</td>\n",
              "      <td>[4305963]</td>\n",
              "    </tr>\n",
              "    <tr>\n",
              "      <th>3</th>\n",
              "      <td>0013tom</td>\n",
              "      <td>[4693234]</td>\n",
              "    </tr>\n",
              "    <tr>\n",
              "      <th>4</th>\n",
              "      <td>001gi</td>\n",
              "      <td>[3475199]</td>\n",
              "    </tr>\n",
              "    <tr>\n",
              "      <th>...</th>\n",
              "      <td>...</td>\n",
              "      <td>...</td>\n",
              "    </tr>\n",
              "    <tr>\n",
              "      <th>222280</th>\n",
              "      <td>zzyd6</td>\n",
              "      <td>[1424101]</td>\n",
              "    </tr>\n",
              "    <tr>\n",
              "      <th>222281</th>\n",
              "      <td>zzyhkgc34</td>\n",
              "      <td>[8930730]</td>\n",
              "    </tr>\n",
              "    <tr>\n",
              "      <th>222282</th>\n",
              "      <td>zzyyu</td>\n",
              "      <td>[1550788]</td>\n",
              "    </tr>\n",
              "    <tr>\n",
              "      <th>222283</th>\n",
              "      <td>zzz9v</td>\n",
              "      <td>[5694578]</td>\n",
              "    </tr>\n",
              "    <tr>\n",
              "      <th>222284</th>\n",
              "      <td>zzza</td>\n",
              "      <td>[10177819]</td>\n",
              "    </tr>\n",
              "  </tbody>\n",
              "</table>\n",
              "<p>222285 rows × 2 columns</p>\n",
              "</div>\n",
              "      <button class=\"colab-df-convert\" onclick=\"convertToInteractive('df-0f421848-0182-4389-b915-0e65cdb80a04')\"\n",
              "              title=\"Convert this dataframe to an interactive table.\"\n",
              "              style=\"display:none;\">\n",
              "        \n",
              "  <svg xmlns=\"http://www.w3.org/2000/svg\" height=\"24px\"viewBox=\"0 0 24 24\"\n",
              "       width=\"24px\">\n",
              "    <path d=\"M0 0h24v24H0V0z\" fill=\"none\"/>\n",
              "    <path d=\"M18.56 5.44l.94 2.06.94-2.06 2.06-.94-2.06-.94-.94-2.06-.94 2.06-2.06.94zm-11 1L8.5 8.5l.94-2.06 2.06-.94-2.06-.94L8.5 2.5l-.94 2.06-2.06.94zm10 10l.94 2.06.94-2.06 2.06-.94-2.06-.94-.94-2.06-.94 2.06-2.06.94z\"/><path d=\"M17.41 7.96l-1.37-1.37c-.4-.4-.92-.59-1.43-.59-.52 0-1.04.2-1.43.59L10.3 9.45l-7.72 7.72c-.78.78-.78 2.05 0 2.83L4 21.41c.39.39.9.59 1.41.59.51 0 1.02-.2 1.41-.59l7.78-7.78 2.81-2.81c.8-.78.8-2.07 0-2.86zM5.41 20L4 18.59l7.72-7.72 1.47 1.35L5.41 20z\"/>\n",
              "  </svg>\n",
              "      </button>\n",
              "      \n",
              "  <style>\n",
              "    .colab-df-container {\n",
              "      display:flex;\n",
              "      flex-wrap:wrap;\n",
              "      gap: 12px;\n",
              "    }\n",
              "\n",
              "    .colab-df-convert {\n",
              "      background-color: #E8F0FE;\n",
              "      border: none;\n",
              "      border-radius: 50%;\n",
              "      cursor: pointer;\n",
              "      display: none;\n",
              "      fill: #1967D2;\n",
              "      height: 32px;\n",
              "      padding: 0 0 0 0;\n",
              "      width: 32px;\n",
              "    }\n",
              "\n",
              "    .colab-df-convert:hover {\n",
              "      background-color: #E2EBFA;\n",
              "      box-shadow: 0px 1px 2px rgba(60, 64, 67, 0.3), 0px 1px 3px 1px rgba(60, 64, 67, 0.15);\n",
              "      fill: #174EA6;\n",
              "    }\n",
              "\n",
              "    [theme=dark] .colab-df-convert {\n",
              "      background-color: #3B4455;\n",
              "      fill: #D2E3FC;\n",
              "    }\n",
              "\n",
              "    [theme=dark] .colab-df-convert:hover {\n",
              "      background-color: #434B5C;\n",
              "      box-shadow: 0px 1px 3px 1px rgba(0, 0, 0, 0.15);\n",
              "      filter: drop-shadow(0px 1px 2px rgba(0, 0, 0, 0.3));\n",
              "      fill: #FFFFFF;\n",
              "    }\n",
              "  </style>\n",
              "\n",
              "      <script>\n",
              "        const buttonEl =\n",
              "          document.querySelector('#df-0f421848-0182-4389-b915-0e65cdb80a04 button.colab-df-convert');\n",
              "        buttonEl.style.display =\n",
              "          google.colab.kernel.accessAllowed ? 'block' : 'none';\n",
              "\n",
              "        async function convertToInteractive(key) {\n",
              "          const element = document.querySelector('#df-0f421848-0182-4389-b915-0e65cdb80a04');\n",
              "          const dataTable =\n",
              "            await google.colab.kernel.invokeFunction('convertToInteractive',\n",
              "                                                     [key], {});\n",
              "          if (!dataTable) return;\n",
              "\n",
              "          const docLinkHtml = 'Like what you see? Visit the ' +\n",
              "            '<a target=\"_blank\" href=https://colab.research.google.com/notebooks/data_table.ipynb>data table notebook</a>'\n",
              "            + ' to learn more about interactive tables.';\n",
              "          element.innerHTML = '';\n",
              "          dataTable['output_type'] = 'display_data';\n",
              "          await google.colab.output.renderOutput(dataTable, element);\n",
              "          const docLink = document.createElement('div');\n",
              "          docLink.innerHTML = docLinkHtml;\n",
              "          element.appendChild(docLink);\n",
              "        }\n",
              "      </script>\n",
              "    </div>\n",
              "  </div>\n",
              "  "
            ]
          },
          "metadata": {},
          "execution_count": 7
        }
      ]
    },
    {
      "cell_type": "markdown",
      "source": [
        "# How many tweets were published by the user?"
      ],
      "metadata": {
        "collapsed": false,
        "id": "wWDOasR9Demf"
      }
    },
    {
      "cell_type": "code",
      "source": [
        "df_indicators = pd.DataFrame({'n_tweets' : df_tweets.groupby( [ 'user_id'] ).size()}).reset_index()"
      ],
      "metadata": {
        "id": "YYg7J0ERPnBU"
      },
      "execution_count": 57,
      "outputs": []
    },
    {
      "cell_type": "code",
      "source": [
        "df_indicators"
      ],
      "metadata": {
        "id": "xCwssG6-Py82"
      },
      "execution_count": null,
      "outputs": []
    },
    {
      "cell_type": "markdown",
      "source": [
        "# How many tweets are published by the user in a given period of time?"
      ],
      "metadata": {
        "collapsed": false,
        "id": "qjNQwuEJDemm"
      }
    },
    {
      "cell_type": "markdown",
      "source": [
        "Check su date da rimuovere"
      ],
      "metadata": {
        "id": "L66WipTjHuTp"
      }
    },
    {
      "cell_type": "code",
      "execution_count": 30,
      "outputs": [],
      "source": [
        "df_tweets.created_at.min()\n",
        "years = pd.DatetimeIndex(df_tweets['created_at']).year.unique().tolist()"
      ],
      "metadata": {
        "pycharm": {
          "is_executing": true
        },
        "id": "So7dN-WLDemn"
      }
    },
    {
      "cell_type": "code",
      "source": [
        "np.sort(years)"
      ],
      "metadata": {
        "colab": {
          "base_uri": "https://localhost:8080/"
        },
        "id": "N3O8P_boStQW",
        "outputId": "5923ca31-e0dd-400d-9043-66592752c080"
      },
      "execution_count": 33,
      "outputs": [
        {
          "output_type": "execute_result",
          "data": {
            "text/plain": [
              "array([1953, 1954, 1955, 1956, 1957, 1958, 1959, 1960, 2012, 2013, 2014,\n",
              "       2015, 2016, 2017, 2018, 2019, 2020, 2032, 2033, 2034, 2035, 2036,\n",
              "       2037, 2038, 2039, 2040])"
            ]
          },
          "metadata": {},
          "execution_count": 33
        }
      ]
    },
    {
      "cell_type": "code",
      "source": [
        "pd.to_datetime(df_tweets.created_at_conv)"
      ],
      "metadata": {
        "colab": {
          "base_uri": "https://localhost:8080/"
        },
        "id": "QLqfRblGSYxM",
        "outputId": "f6535f12-cfb1-48d0-88ba-857964db7153"
      },
      "execution_count": 10,
      "outputs": [
        {
          "output_type": "execute_result",
          "data": {
            "text/plain": [
              "0          2019-09-11 14:53:55\n",
              "1          2020-04-01 20:27:04\n",
              "2          2019-05-02 13:34:31\n",
              "3          2019-11-04 07:17:37\n",
              "4          2020-03-11 16:45:31\n",
              "                   ...        \n",
              "11712343   2018-05-04 05:29:33\n",
              "11712344   2020-04-17 02:51:53\n",
              "11712345   2016-07-10 22:43:09\n",
              "11712346   2019-03-07 19:56:55\n",
              "11712347   2019-07-10 12:00:00\n",
              "Name: created_at_conv, Length: 11712348, dtype: datetime64[ns]"
            ]
          },
          "metadata": {},
          "execution_count": 10
        }
      ]
    },
    {
      "cell_type": "code",
      "source": [
        "############"
      ],
      "metadata": {
        "id": "IL_NzE4HUSXJ"
      },
      "execution_count": null,
      "outputs": []
    },
    {
      "cell_type": "code",
      "source": [
        "for y in range(2012, 2023):\n",
        "  df_indicators[str(y) + \"_tweets\"] = 0\n",
        "\n",
        "df_indicators"
      ],
      "metadata": {
        "colab": {
          "base_uri": "https://localhost:8080/",
          "height": 424
        },
        "id": "XUSA_hvSUSdi",
        "outputId": "6f94f279-cbdd-4fb5-c9cb-e1e88940e291"
      },
      "execution_count": 112,
      "outputs": [
        {
          "output_type": "execute_result",
          "data": {
            "text/plain": [
              "          user_id  n_tweets  2012_tweets  2013_tweets  2014_tweets  \\\n",
              "0       0006qod9y         1            0            0            0   \n",
              "1          000unb         1            0            0            0   \n",
              "2           000vk         1            0            0            0   \n",
              "3         0013tom         1            0            0            0   \n",
              "4           001gi         1            0            0            0   \n",
              "...           ...       ...          ...          ...          ...   \n",
              "222280      zzyd6         1            0            0            0   \n",
              "222281  zzyhkgc34         1            0            0            0   \n",
              "222282      zzyyu         1            0            0            0   \n",
              "222283      zzz9v         1            0            0            0   \n",
              "222284       zzza         1            0            0            0   \n",
              "\n",
              "        2015_tweets  2016_tweets  2017_tweets  2018_tweets  2019_tweets  \\\n",
              "0                 0            0            0            0            0   \n",
              "1                 0            0            0            0            0   \n",
              "2                 0            0            0            0            0   \n",
              "3                 0            0            0            0            0   \n",
              "4                 0            0            0            0            0   \n",
              "...             ...          ...          ...          ...          ...   \n",
              "222280            0            0            0            0            0   \n",
              "222281            0            0            0            0            0   \n",
              "222282            0            0            0            0            0   \n",
              "222283            0            0            0            0            0   \n",
              "222284            0            0            0            0            0   \n",
              "\n",
              "        2020_tweets  2021_tweets  2022_tweets  \n",
              "0                 0            0            0  \n",
              "1                 0            0            0  \n",
              "2                 0            0            0  \n",
              "3                 0            0            0  \n",
              "4                 0            0            0  \n",
              "...             ...          ...          ...  \n",
              "222280            0            0            0  \n",
              "222281            0            0            0  \n",
              "222282            0            0            0  \n",
              "222283            0            0            0  \n",
              "222284            0            0            0  \n",
              "\n",
              "[222285 rows x 13 columns]"
            ],
            "text/html": [
              "\n",
              "  <div id=\"df-4bda2fd9-f830-4586-beb7-630a3d5553d2\">\n",
              "    <div class=\"colab-df-container\">\n",
              "      <div>\n",
              "<style scoped>\n",
              "    .dataframe tbody tr th:only-of-type {\n",
              "        vertical-align: middle;\n",
              "    }\n",
              "\n",
              "    .dataframe tbody tr th {\n",
              "        vertical-align: top;\n",
              "    }\n",
              "\n",
              "    .dataframe thead th {\n",
              "        text-align: right;\n",
              "    }\n",
              "</style>\n",
              "<table border=\"1\" class=\"dataframe\">\n",
              "  <thead>\n",
              "    <tr style=\"text-align: right;\">\n",
              "      <th></th>\n",
              "      <th>user_id</th>\n",
              "      <th>n_tweets</th>\n",
              "      <th>2012_tweets</th>\n",
              "      <th>2013_tweets</th>\n",
              "      <th>2014_tweets</th>\n",
              "      <th>2015_tweets</th>\n",
              "      <th>2016_tweets</th>\n",
              "      <th>2017_tweets</th>\n",
              "      <th>2018_tweets</th>\n",
              "      <th>2019_tweets</th>\n",
              "      <th>2020_tweets</th>\n",
              "      <th>2021_tweets</th>\n",
              "      <th>2022_tweets</th>\n",
              "    </tr>\n",
              "  </thead>\n",
              "  <tbody>\n",
              "    <tr>\n",
              "      <th>0</th>\n",
              "      <td>0006qod9y</td>\n",
              "      <td>1</td>\n",
              "      <td>0</td>\n",
              "      <td>0</td>\n",
              "      <td>0</td>\n",
              "      <td>0</td>\n",
              "      <td>0</td>\n",
              "      <td>0</td>\n",
              "      <td>0</td>\n",
              "      <td>0</td>\n",
              "      <td>0</td>\n",
              "      <td>0</td>\n",
              "      <td>0</td>\n",
              "    </tr>\n",
              "    <tr>\n",
              "      <th>1</th>\n",
              "      <td>000unb</td>\n",
              "      <td>1</td>\n",
              "      <td>0</td>\n",
              "      <td>0</td>\n",
              "      <td>0</td>\n",
              "      <td>0</td>\n",
              "      <td>0</td>\n",
              "      <td>0</td>\n",
              "      <td>0</td>\n",
              "      <td>0</td>\n",
              "      <td>0</td>\n",
              "      <td>0</td>\n",
              "      <td>0</td>\n",
              "    </tr>\n",
              "    <tr>\n",
              "      <th>2</th>\n",
              "      <td>000vk</td>\n",
              "      <td>1</td>\n",
              "      <td>0</td>\n",
              "      <td>0</td>\n",
              "      <td>0</td>\n",
              "      <td>0</td>\n",
              "      <td>0</td>\n",
              "      <td>0</td>\n",
              "      <td>0</td>\n",
              "      <td>0</td>\n",
              "      <td>0</td>\n",
              "      <td>0</td>\n",
              "      <td>0</td>\n",
              "    </tr>\n",
              "    <tr>\n",
              "      <th>3</th>\n",
              "      <td>0013tom</td>\n",
              "      <td>1</td>\n",
              "      <td>0</td>\n",
              "      <td>0</td>\n",
              "      <td>0</td>\n",
              "      <td>0</td>\n",
              "      <td>0</td>\n",
              "      <td>0</td>\n",
              "      <td>0</td>\n",
              "      <td>0</td>\n",
              "      <td>0</td>\n",
              "      <td>0</td>\n",
              "      <td>0</td>\n",
              "    </tr>\n",
              "    <tr>\n",
              "      <th>4</th>\n",
              "      <td>001gi</td>\n",
              "      <td>1</td>\n",
              "      <td>0</td>\n",
              "      <td>0</td>\n",
              "      <td>0</td>\n",
              "      <td>0</td>\n",
              "      <td>0</td>\n",
              "      <td>0</td>\n",
              "      <td>0</td>\n",
              "      <td>0</td>\n",
              "      <td>0</td>\n",
              "      <td>0</td>\n",
              "      <td>0</td>\n",
              "    </tr>\n",
              "    <tr>\n",
              "      <th>...</th>\n",
              "      <td>...</td>\n",
              "      <td>...</td>\n",
              "      <td>...</td>\n",
              "      <td>...</td>\n",
              "      <td>...</td>\n",
              "      <td>...</td>\n",
              "      <td>...</td>\n",
              "      <td>...</td>\n",
              "      <td>...</td>\n",
              "      <td>...</td>\n",
              "      <td>...</td>\n",
              "      <td>...</td>\n",
              "      <td>...</td>\n",
              "    </tr>\n",
              "    <tr>\n",
              "      <th>222280</th>\n",
              "      <td>zzyd6</td>\n",
              "      <td>1</td>\n",
              "      <td>0</td>\n",
              "      <td>0</td>\n",
              "      <td>0</td>\n",
              "      <td>0</td>\n",
              "      <td>0</td>\n",
              "      <td>0</td>\n",
              "      <td>0</td>\n",
              "      <td>0</td>\n",
              "      <td>0</td>\n",
              "      <td>0</td>\n",
              "      <td>0</td>\n",
              "    </tr>\n",
              "    <tr>\n",
              "      <th>222281</th>\n",
              "      <td>zzyhkgc34</td>\n",
              "      <td>1</td>\n",
              "      <td>0</td>\n",
              "      <td>0</td>\n",
              "      <td>0</td>\n",
              "      <td>0</td>\n",
              "      <td>0</td>\n",
              "      <td>0</td>\n",
              "      <td>0</td>\n",
              "      <td>0</td>\n",
              "      <td>0</td>\n",
              "      <td>0</td>\n",
              "      <td>0</td>\n",
              "    </tr>\n",
              "    <tr>\n",
              "      <th>222282</th>\n",
              "      <td>zzyyu</td>\n",
              "      <td>1</td>\n",
              "      <td>0</td>\n",
              "      <td>0</td>\n",
              "      <td>0</td>\n",
              "      <td>0</td>\n",
              "      <td>0</td>\n",
              "      <td>0</td>\n",
              "      <td>0</td>\n",
              "      <td>0</td>\n",
              "      <td>0</td>\n",
              "      <td>0</td>\n",
              "      <td>0</td>\n",
              "    </tr>\n",
              "    <tr>\n",
              "      <th>222283</th>\n",
              "      <td>zzz9v</td>\n",
              "      <td>1</td>\n",
              "      <td>0</td>\n",
              "      <td>0</td>\n",
              "      <td>0</td>\n",
              "      <td>0</td>\n",
              "      <td>0</td>\n",
              "      <td>0</td>\n",
              "      <td>0</td>\n",
              "      <td>0</td>\n",
              "      <td>0</td>\n",
              "      <td>0</td>\n",
              "      <td>0</td>\n",
              "    </tr>\n",
              "    <tr>\n",
              "      <th>222284</th>\n",
              "      <td>zzza</td>\n",
              "      <td>1</td>\n",
              "      <td>0</td>\n",
              "      <td>0</td>\n",
              "      <td>0</td>\n",
              "      <td>0</td>\n",
              "      <td>0</td>\n",
              "      <td>0</td>\n",
              "      <td>0</td>\n",
              "      <td>0</td>\n",
              "      <td>0</td>\n",
              "      <td>0</td>\n",
              "      <td>0</td>\n",
              "    </tr>\n",
              "  </tbody>\n",
              "</table>\n",
              "<p>222285 rows × 13 columns</p>\n",
              "</div>\n",
              "      <button class=\"colab-df-convert\" onclick=\"convertToInteractive('df-4bda2fd9-f830-4586-beb7-630a3d5553d2')\"\n",
              "              title=\"Convert this dataframe to an interactive table.\"\n",
              "              style=\"display:none;\">\n",
              "        \n",
              "  <svg xmlns=\"http://www.w3.org/2000/svg\" height=\"24px\"viewBox=\"0 0 24 24\"\n",
              "       width=\"24px\">\n",
              "    <path d=\"M0 0h24v24H0V0z\" fill=\"none\"/>\n",
              "    <path d=\"M18.56 5.44l.94 2.06.94-2.06 2.06-.94-2.06-.94-.94-2.06-.94 2.06-2.06.94zm-11 1L8.5 8.5l.94-2.06 2.06-.94-2.06-.94L8.5 2.5l-.94 2.06-2.06.94zm10 10l.94 2.06.94-2.06 2.06-.94-2.06-.94-.94-2.06-.94 2.06-2.06.94z\"/><path d=\"M17.41 7.96l-1.37-1.37c-.4-.4-.92-.59-1.43-.59-.52 0-1.04.2-1.43.59L10.3 9.45l-7.72 7.72c-.78.78-.78 2.05 0 2.83L4 21.41c.39.39.9.59 1.41.59.51 0 1.02-.2 1.41-.59l7.78-7.78 2.81-2.81c.8-.78.8-2.07 0-2.86zM5.41 20L4 18.59l7.72-7.72 1.47 1.35L5.41 20z\"/>\n",
              "  </svg>\n",
              "      </button>\n",
              "      \n",
              "  <style>\n",
              "    .colab-df-container {\n",
              "      display:flex;\n",
              "      flex-wrap:wrap;\n",
              "      gap: 12px;\n",
              "    }\n",
              "\n",
              "    .colab-df-convert {\n",
              "      background-color: #E8F0FE;\n",
              "      border: none;\n",
              "      border-radius: 50%;\n",
              "      cursor: pointer;\n",
              "      display: none;\n",
              "      fill: #1967D2;\n",
              "      height: 32px;\n",
              "      padding: 0 0 0 0;\n",
              "      width: 32px;\n",
              "    }\n",
              "\n",
              "    .colab-df-convert:hover {\n",
              "      background-color: #E2EBFA;\n",
              "      box-shadow: 0px 1px 2px rgba(60, 64, 67, 0.3), 0px 1px 3px 1px rgba(60, 64, 67, 0.15);\n",
              "      fill: #174EA6;\n",
              "    }\n",
              "\n",
              "    [theme=dark] .colab-df-convert {\n",
              "      background-color: #3B4455;\n",
              "      fill: #D2E3FC;\n",
              "    }\n",
              "\n",
              "    [theme=dark] .colab-df-convert:hover {\n",
              "      background-color: #434B5C;\n",
              "      box-shadow: 0px 1px 3px 1px rgba(0, 0, 0, 0.15);\n",
              "      filter: drop-shadow(0px 1px 2px rgba(0, 0, 0, 0.3));\n",
              "      fill: #FFFFFF;\n",
              "    }\n",
              "  </style>\n",
              "\n",
              "      <script>\n",
              "        const buttonEl =\n",
              "          document.querySelector('#df-4bda2fd9-f830-4586-beb7-630a3d5553d2 button.colab-df-convert');\n",
              "        buttonEl.style.display =\n",
              "          google.colab.kernel.accessAllowed ? 'block' : 'none';\n",
              "\n",
              "        async function convertToInteractive(key) {\n",
              "          const element = document.querySelector('#df-4bda2fd9-f830-4586-beb7-630a3d5553d2');\n",
              "          const dataTable =\n",
              "            await google.colab.kernel.invokeFunction('convertToInteractive',\n",
              "                                                     [key], {});\n",
              "          if (!dataTable) return;\n",
              "\n",
              "          const docLinkHtml = 'Like what you see? Visit the ' +\n",
              "            '<a target=\"_blank\" href=https://colab.research.google.com/notebooks/data_table.ipynb>data table notebook</a>'\n",
              "            + ' to learn more about interactive tables.';\n",
              "          element.innerHTML = '';\n",
              "          dataTable['output_type'] = 'display_data';\n",
              "          await google.colab.output.renderOutput(dataTable, element);\n",
              "          const docLink = document.createElement('div');\n",
              "          docLink.innerHTML = docLinkHtml;\n",
              "          element.appendChild(docLink);\n",
              "        }\n",
              "      </script>\n",
              "    </div>\n",
              "  </div>\n",
              "  "
            ]
          },
          "metadata": {},
          "execution_count": 112
        }
      ]
    },
    {
      "cell_type": "code",
      "source": [
        "  '''\n",
        "for i, row in df_indicators.iterrows():\n",
        "  # Extract indices of tweets for that user\n",
        "  ind_tweets = users_tweets[users_tweets['user_id'] == row['user_id']].tweets_indices.tolist()\n",
        "  \n",
        "  \n",
        "  print(type(ind_tweets))\n",
        "  # Select all rows corresponding to those indices\n",
        "  l = df_tweets.loc[ind_tweets]\n",
        "  print(l)\n",
        "\n",
        "  if i > 5:\n",
        "    break\n",
        "    '''"
      ],
      "metadata": {
        "id": "WCxXGJ2UZ_MH"
      },
      "execution_count": null,
      "outputs": []
    },
    {
      "cell_type": "code",
      "source": [
        "for y in range(2012,2023):\n",
        "  # Filter all tweets published in a certain year\n",
        "  tweets_by_y = df_tweets[land(df_tweets['created_at'] >= (str(y)+\"-01-01\"), \n",
        "                               df_tweets['created_at'] <= (str(y)+\"-12-31\"))][['user_id','created_at']]\n",
        "\n",
        "  # Count tweets of users in that year\n",
        "  gby = pd.DataFrame({'n_tweets' : tweets_by_y.groupby( [ 'user_id'] ).size()}).reset_index()\n",
        "  \n",
        "  # Transform it in a dictionary\n",
        "  gby = dict(zip(gby.user_id, gby.n_tweets))\n",
        "  \n",
        "  print(gby)\n",
        "  \n",
        "  # Select users to modify and update them\n",
        "  df_indicators[df_indicators['user_id'].isin(gby.keys())][str(y)+'_tweets'] = gby.values()\n",
        "  \n",
        "  print(df_indicators[df_indicators['user_id'].isin(gby.keys())][str(y)+'_tweets'])\n",
        "  \n",
        "  if y == 2013:\n",
        "    break"
      ],
      "metadata": {
        "colab": {
          "base_uri": "https://localhost:8080/"
        },
        "id": "4B6nfNkG6EGR",
        "outputId": "c0c028c4-8e6b-43ad-8885-bd918ed319f8"
      },
      "execution_count": 121,
      "outputs": [
        {
          "output_type": "stream",
          "name": "stdout",
          "text": [
            "{'10935572': 1, '887281': 7}\n",
            "6033     0\n",
            "59668    0\n",
            "Name: 2012_tweets, dtype: int64\n"
          ]
        },
        {
          "output_type": "stream",
          "name": "stderr",
          "text": [
            "/usr/local/lib/python3.7/dist-packages/ipykernel_launcher.py:15: SettingWithCopyWarning: \n",
            "A value is trying to be set on a copy of a slice from a DataFrame.\n",
            "Try using .loc[row_indexer,col_indexer] = value instead\n",
            "\n",
            "See the caveats in the documentation: https://pandas.pydata.org/pandas-docs/stable/user_guide/indexing.html#returning-a-view-versus-a-copy\n",
            "  from ipykernel import kernelapp as app\n"
          ]
        },
        {
          "output_type": "stream",
          "name": "stdout",
          "text": [
            "{'11174562': 169, '11690822': 10, '12623352': 1, '14265485': 5, '14558848': 1, '14587971': 64, '14716324': 35, '14721932': 8, '14764956': 1, '15321243': 1, '15367428': 1, '16753788': 1, '17640121': 2, '8711952': 131, '887281': 36}\n",
            "6192     0\n",
            "6643     0\n",
            "7766     0\n",
            "8415     0\n",
            "8462     0\n",
            "8466     0\n",
            "8490     0\n",
            "8493     0\n",
            "8501     0\n",
            "8728     0\n",
            "8739     0\n",
            "9138     0\n",
            "9419     0\n",
            "59454    0\n",
            "59668    0\n",
            "Name: 2013_tweets, dtype: int64\n"
          ]
        }
      ]
    },
    {
      "cell_type": "code",
      "source": [
        "df_indicators['2012_tweets'].value_counts()"
      ],
      "metadata": {
        "colab": {
          "base_uri": "https://localhost:8080/"
        },
        "id": "ioXJYoU3GKua",
        "outputId": "81f3a001-4616-4523-b096-ec78e317ceee"
      },
      "execution_count": 118,
      "outputs": [
        {
          "output_type": "execute_result",
          "data": {
            "text/plain": [
              "0    222285\n",
              "Name: 2013_tweets, dtype: int64"
            ]
          },
          "metadata": {},
          "execution_count": 118
        }
      ]
    },
    {
      "cell_type": "markdown",
      "source": [
        "# Total number of tweets"
      ],
      "metadata": {
        "collapsed": false,
        "id": "XutbYjj4Demn"
      }
    },
    {
      "cell_type": "code",
      "execution_count": 38,
      "outputs": [
        {
          "output_type": "execute_result",
          "data": {
            "text/plain": [
              "11712348"
            ]
          },
          "metadata": {},
          "execution_count": 38
        }
      ],
      "source": [
        "tot_n_tweets = df_tweets.shape[0]\n",
        "tot_n_tweets"
      ],
      "metadata": {
        "pycharm": {
          "is_executing": true
        },
        "id": "JLMPYko4Demo",
        "colab": {
          "base_uri": "https://localhost:8080/"
        },
        "outputId": "7a32d3bf-1141-4fbe-98f0-95c54682eda0"
      }
    },
    {
      "cell_type": "markdown",
      "source": [
        "# Total number of likes and comments"
      ],
      "metadata": {
        "collapsed": false,
        "id": "-ueowDSZDemo"
      }
    },
    {
      "cell_type": "code",
      "execution_count": null,
      "outputs": [],
      "source": [],
      "metadata": {
        "pycharm": {
          "is_executing": true
        },
        "id": "9V70NbwTDemo"
      }
    },
    {
      "cell_type": "markdown",
      "source": [
        "# Ratio between the number of tweets and the number of likes"
      ],
      "metadata": {
        "collapsed": false,
        "id": "4V_-fI2ADemp"
      }
    },
    {
      "cell_type": "code",
      "execution_count": null,
      "outputs": [],
      "source": [],
      "metadata": {
        "pycharm": {
          "is_executing": true
        },
        "id": "t4EaaWZHDemp"
      }
    },
    {
      "cell_type": "markdown",
      "source": [
        "# Entropy of the user"
      ],
      "metadata": {
        "collapsed": false,
        "id": "MXqGJvYUDemp"
      }
    },
    {
      "cell_type": "code",
      "execution_count": null,
      "outputs": [],
      "source": [],
      "metadata": {
        "pycharm": {
          "is_executing": true
        },
        "id": "XjgiT-5rDemq"
      }
    },
    {
      "cell_type": "markdown",
      "source": [
        "# Average length of the tweets per user"
      ],
      "metadata": {
        "collapsed": false,
        "id": "WthSszCZDemq"
      }
    },
    {
      "cell_type": "code",
      "execution_count": null,
      "outputs": [],
      "source": [],
      "metadata": {
        "pycharm": {
          "is_executing": true
        },
        "id": "aYUNmfPdDemr"
      }
    },
    {
      "cell_type": "markdown",
      "source": [
        "# Average number of special characters in the tweets per user"
      ],
      "metadata": {
        "collapsed": false,
        "id": "2HxWZntDDemr"
      }
    },
    {
      "cell_type": "code",
      "execution_count": null,
      "outputs": [],
      "source": [],
      "metadata": {
        "pycharm": {
          "is_executing": true
        },
        "id": "TefJGHf5Dems"
      }
    },
    {
      "cell_type": "markdown",
      "source": [],
      "metadata": {
        "collapsed": false,
        "id": "PWVHZC_lDems"
      }
    },
    {
      "cell_type": "code",
      "execution_count": null,
      "outputs": [],
      "source": [],
      "metadata": {
        "id": "RUO1vVd1Dems"
      }
=======
 "cells": [
  {
   "cell_type": "code",
   "execution_count": 14,
   "outputs": [],
   "source": [
    "import pandas as pd\n",
    "import math\n",
    "import numpy as np\n",
    "from matplotlib import pyplot as plt\n",
    "from numpy import logical_and as land, logical_or as lor"
   ],
   "metadata": {
    "collapsed": false
   }
  },
  {
   "cell_type": "code",
   "execution_count": null,
   "outputs": [],
   "source": [
    "DATA_PATH = 'data/'"
   ],
   "metadata": {
    "collapsed": false,
    "pycharm": {
     "name": "#%%\n"
    }
   }
  },
  {
   "cell_type": "code",
   "execution_count": 6,
   "outputs": [],
   "source": [
    "df_users = pd.read_csv(DATA_PATH+'users_clean.csv', sep='#')\n",
    "df_tweets = pd.read_csv(DATA_PATH+'tweets_clean.csv', sep='#')"
   ],
   "metadata": {
    "collapsed": false
   }
  },
  {
   "cell_type": "code",
   "execution_count": 15,
   "outputs": [],
   "source": [
    "def plot_hist(dataframe, attribute_name, log=False):\n",
    "    df = pd.DataFrame()\n",
    "\n",
    "    if log:\n",
    "        log_attribute_name = attribute_name+'_log'\n",
    "        df[log_attribute_name] = np.log(dataframe[attribute_name].values)\n",
    "\n",
    "        attribute_name = log_attribute_name\n",
    "        df[attribute_name] = df[attribute_name].replace(-np.inf, 0)\n",
    "\n",
    "    else:\n",
    "        df[attribute_name] = dataframe[attribute_name].values\n",
    "    n_bins = math.ceil(np.log2(len(df[attribute_name])) + 1) #Sturges' rule\n",
    "    df.hist(attribute_name, bins = n_bins, log=True)"
   ],
   "metadata": {
    "collapsed": false
   }
  },
  {
   "cell_type": "code",
   "execution_count": null,
   "outputs": [],
   "source": [
    "def plot_boxplot(df,col,log=False):\n",
    "    #Plot the distribution of the indicated column\n",
    "    plt.boxplot(df_tweets[df[col] != -1.0][col], showmeans=True)\n",
    "    if log:\n",
    "        plt.yscale('log')\n",
    "    plt.show()"
   ],
   "metadata": {
    "collapsed": false
   }
  },
  {
   "cell_type": "code",
   "execution_count": 37,
   "outputs": [
    {
     "name": "stderr",
     "output_type": "stream",
     "text": [
      "C:\\Users\\Alessandro\\AppData\\Local\\Temp\\ipykernel_22060\\3172614189.py:1: VisibleDeprecationWarning: Creating an ndarray from ragged nested sequences (which is a list-or-tuple of lists-or-tuples-or ndarrays with different lengths or shapes) is deprecated. If you meant to do this, you must specify 'dtype=object' when creating the ndarray.\n",
      "  user_id_array = np.array(df_tweets.groupby(by=['user_id']).user_id.apply(list).to_list())\n"
     ]
    },
    {
     "data": {
      "text/plain": "(222285,)"
     },
     "execution_count": 37,
     "metadata": {},
     "output_type": "execute_result"
    }
   ],
   "source": [
    "user_id_array = np.array(df_tweets.groupby(by=['user_id']).user_id.apply(list).to_list())\n",
    "user_id_array.shape\n",
    "#df_indicators = pd.DataFrame()\n",
    "#df_indicators.info()"
   ],
   "metadata": {
    "collapsed": false
   }
  },
  {
   "cell_type": "code",
   "execution_count": 41,
   "outputs": [
    {
     "data": {
      "text/plain": "array([list(['0006qod9y']), list(['000unb']), list(['000vk']), ...,\n       list(['zzyyu']), list(['zzz9v']), list(['zzza'])], dtype=object)"
     },
     "execution_count": 41,
     "metadata": {},
     "output_type": "execute_result"
    }
   ],
   "source": [
    "user_id_array"
   ],
   "metadata": {
    "collapsed": false
   }
  },
  {
   "cell_type": "code",
   "execution_count": 40,
   "outputs": [
    {
     "data": {
      "text/plain": "(222285,)"
     },
     "execution_count": 40,
     "metadata": {},
     "output_type": "execute_result"
    }
   ],
   "source": [
    "user_id_array = np.squeeze(user_id_array)\n",
    "user_id_array.shape"
   ],
   "metadata": {
    "collapsed": false
   }
  },
  {
   "cell_type": "markdown",
   "source": [
    "# How many tweets were published by the user?"
   ],
   "metadata": {
    "collapsed": false
   }
  },
  {
   "cell_type": "code",
   "execution_count": 34,
   "outputs": [
    {
     "data": {
      "text/plain": "<pandas.core.groupby.generic.DataFrameGroupBy object at 0x0000017230A960E0>"
     },
     "execution_count": 34,
     "metadata": {},
     "output_type": "execute_result"
    }
   ],
   "source": [
    "#df_indicators['n_tweets'] =\n",
    "df_tweets.groupby(by=['user_id'])"
   ],
   "metadata": {
    "collapsed": false
   }
  },
  {
   "cell_type": "code",
   "execution_count": 22,
   "outputs": [
    {
     "data": {
      "text/plain": "                         user_id  n_tweets\n0       (0006qod9y, [0006qod9y])       NaN\n1             (000unb, [000unb])       NaN\n2               (000vk, [000vk])       NaN\n3           (0013tom, [0013tom])       NaN\n4               (001gi, [001gi])       NaN\n...                          ...       ...\n222280          (zzyd6, [zzyd6])       NaN\n222281  (zzyhkgc34, [zzyhkgc34])       NaN\n222282          (zzyyu, [zzyyu])       NaN\n222283          (zzz9v, [zzz9v])       NaN\n222284            (zzza, [zzza])       NaN\n\n[222285 rows x 2 columns]",
      "text/html": "<div>\n<style scoped>\n    .dataframe tbody tr th:only-of-type {\n        vertical-align: middle;\n    }\n\n    .dataframe tbody tr th {\n        vertical-align: top;\n    }\n\n    .dataframe thead th {\n        text-align: right;\n    }\n</style>\n<table border=\"1\" class=\"dataframe\">\n  <thead>\n    <tr style=\"text-align: right;\">\n      <th></th>\n      <th>user_id</th>\n      <th>n_tweets</th>\n    </tr>\n  </thead>\n  <tbody>\n    <tr>\n      <th>0</th>\n      <td>(0006qod9y, [0006qod9y])</td>\n      <td>NaN</td>\n    </tr>\n    <tr>\n      <th>1</th>\n      <td>(000unb, [000unb])</td>\n      <td>NaN</td>\n    </tr>\n    <tr>\n      <th>2</th>\n      <td>(000vk, [000vk])</td>\n      <td>NaN</td>\n    </tr>\n    <tr>\n      <th>3</th>\n      <td>(0013tom, [0013tom])</td>\n      <td>NaN</td>\n    </tr>\n    <tr>\n      <th>4</th>\n      <td>(001gi, [001gi])</td>\n      <td>NaN</td>\n    </tr>\n    <tr>\n      <th>...</th>\n      <td>...</td>\n      <td>...</td>\n    </tr>\n    <tr>\n      <th>222280</th>\n      <td>(zzyd6, [zzyd6])</td>\n      <td>NaN</td>\n    </tr>\n    <tr>\n      <th>222281</th>\n      <td>(zzyhkgc34, [zzyhkgc34])</td>\n      <td>NaN</td>\n    </tr>\n    <tr>\n      <th>222282</th>\n      <td>(zzyyu, [zzyyu])</td>\n      <td>NaN</td>\n    </tr>\n    <tr>\n      <th>222283</th>\n      <td>(zzz9v, [zzz9v])</td>\n      <td>NaN</td>\n    </tr>\n    <tr>\n      <th>222284</th>\n      <td>(zzza, [zzza])</td>\n      <td>NaN</td>\n    </tr>\n  </tbody>\n</table>\n<p>222285 rows × 2 columns</p>\n</div>"
     },
     "execution_count": 22,
     "metadata": {},
     "output_type": "execute_result"
    }
   ],
   "source": [
    "df_indicators"
   ],
   "metadata": {
    "collapsed": false
   }
  },
  {
   "cell_type": "markdown",
   "source": [
    "# How many tweets are published by the user in a given period of time?"
   ],
   "metadata": {
    "collapsed": false
   },
   "execution_count": 0
  },
  {
   "cell_type": "code",
   "execution_count": null,
   "outputs": [],
   "source": [],
   "metadata": {
    "collapsed": false,
    "pycharm": {
     "is_executing": true
    }
   }
  },
  {
   "cell_type": "markdown",
   "source": [
    "# Total number of tweets"
   ],
   "metadata": {
    "collapsed": false
   }
  },
  {
   "cell_type": "code",
   "execution_count": null,
   "outputs": [],
   "source": [],
   "metadata": {
    "collapsed": false,
    "pycharm": {
     "is_executing": true
    }
   }
  },
  {
   "cell_type": "markdown",
   "source": [
    "# Total number of likes and comments"
   ],
   "metadata": {
    "collapsed": false
   }
  },
  {
   "cell_type": "code",
   "execution_count": null,
   "outputs": [],
   "source": [],
   "metadata": {
    "collapsed": false,
    "pycharm": {
     "is_executing": true
    }
   }
  },
  {
   "cell_type": "markdown",
   "source": [
    "# Ratio between the number of tweets and the number of likes"
   ],
   "metadata": {
    "collapsed": false
   }
  },
  {
   "cell_type": "code",
   "execution_count": null,
   "outputs": [],
   "source": [],
   "metadata": {
    "collapsed": false,
    "pycharm": {
     "is_executing": true
    }
   }
  },
  {
   "cell_type": "markdown",
   "source": [
    "# Entropy of the user"
   ],
   "metadata": {
    "collapsed": false
   }
  },
  {
   "cell_type": "code",
   "execution_count": null,
   "outputs": [],
   "source": [],
   "metadata": {
    "collapsed": false,
    "pycharm": {
     "is_executing": true
    }
   }
  },
  {
   "cell_type": "markdown",
   "source": [
    "# Average length of the tweets per user"
   ],
   "metadata": {
    "collapsed": false
   }
  },
  {
   "cell_type": "code",
   "execution_count": null,
   "outputs": [],
   "source": [],
   "metadata": {
    "collapsed": false,
    "pycharm": {
     "is_executing": true
>>>>>>> 05681b001f09c9bdfdc1af3bd1224a16212ee582
    }
  ],
  "metadata": {
    "kernelspec": {
      "display_name": "Python 3",
      "language": "python",
      "name": "python3"
    },
    "language_info": {
      "codemirror_mode": {
        "name": "ipython",
        "version": 2
      },
      "file_extension": ".py",
      "mimetype": "text/x-python",
      "name": "python",
      "nbconvert_exporter": "python",
      "pygments_lexer": "ipython2",
      "version": "2.7.6"
    },
    "colab": {
      "provenance": []
    }
  },
<<<<<<< HEAD
  "nbformat": 4,
  "nbformat_minor": 0
=======
  "language_info": {
   "codemirror_mode": {
    "name": "ipython",
    "version": 2
   },
   "file_extension": ".py",
   "mimetype": "text/x-python",
   "name": "python",
   "nbconvert_exporter": "python",
   "pygments_lexer": "ipython2",
   "version": "2.7.6"
  }
 },
 "nbformat": 4,
 "nbformat_minor": 0
>>>>>>> 05681b001f09c9bdfdc1af3bd1224a16212ee582
}