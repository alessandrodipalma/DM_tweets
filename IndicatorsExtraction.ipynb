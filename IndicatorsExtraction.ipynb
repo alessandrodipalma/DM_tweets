{
 "cells": [
  {
   "cell_type": "code",
   "execution_count": 31,
   "outputs": [],
   "source": [
    "import pandas as pd\n",
    "import math\n",
    "import numpy as np\n",
    "from matplotlib import pyplot as plt\n",
    "from numpy import logical_and as land, logical_or as lor\n",
    "import re\n",
    "from scipy.stats import entropy\n",
    "from utilities import plot_boxplot, plot_hist\n",
    "from sklearn import preprocessing"
   ],
   "metadata": {
    "collapsed": false
   }
  },
  {
   "cell_type": "code",
   "execution_count": 3,
   "outputs": [],
   "source": [
    "DATA_PATH = 'G:/Shared drives/DM_tweets/data/'"
   ],
   "metadata": {
    "collapsed": false
   }
  },
  {
   "cell_type": "code",
   "execution_count": 93,
   "outputs": [],
   "source": [
    "DATA_PATH = 'G:/Drive condivisi/DM_tweets/data/'"
   ],
   "metadata": {
    "collapsed": false
   }
  },
  {
   "cell_type": "code",
   "execution_count": 96,
   "outputs": [],
   "source": [
    "df_tweets = pd.read_csv(DATA_PATH+'tweets_clean.csv', sep='#')"
   ],
   "metadata": {
    "collapsed": false
   }
  },
  {
   "cell_type": "code",
   "execution_count": 33,
   "outputs": [],
   "source": [
    "df_users = pd.read_csv(DATA_PATH+'users_clean.csv', sep='#')"
   ],
   "metadata": {
    "collapsed": false
   }
  },
  {
   "cell_type": "markdown",
   "source": [
    "# How many tweets were published by the user?"
   ],
   "metadata": {
    "collapsed": false
   }
  },
  {
   "cell_type": "code",
   "execution_count": 99,
   "outputs": [],
   "source": [
    "df_indicators = pd.DataFrame({'n_tweets' : df_tweets.groupby(['user_id'] ).size()}).reset_index()"
   ],
   "metadata": {
    "collapsed": false
   }
  },
  {
   "cell_type": "code",
   "execution_count": 100,
   "outputs": [
    {
     "data": {
      "text/plain": "        user_id  n_tweets\n0         000vk         1\n1       0013tom         1\n2         001gi         1\n3         001rx         1\n4        00201f         1\n...         ...       ...\n140538     zzyb         1\n140539    zzyd6         1\n140540    zzyyu         1\n140541    zzz9v         1\n140542     zzza         1\n\n[140543 rows x 2 columns]",
      "text/html": "<div>\n<style scoped>\n    .dataframe tbody tr th:only-of-type {\n        vertical-align: middle;\n    }\n\n    .dataframe tbody tr th {\n        vertical-align: top;\n    }\n\n    .dataframe thead th {\n        text-align: right;\n    }\n</style>\n<table border=\"1\" class=\"dataframe\">\n  <thead>\n    <tr style=\"text-align: right;\">\n      <th></th>\n      <th>user_id</th>\n      <th>n_tweets</th>\n    </tr>\n  </thead>\n  <tbody>\n    <tr>\n      <th>0</th>\n      <td>000vk</td>\n      <td>1</td>\n    </tr>\n    <tr>\n      <th>1</th>\n      <td>0013tom</td>\n      <td>1</td>\n    </tr>\n    <tr>\n      <th>2</th>\n      <td>001gi</td>\n      <td>1</td>\n    </tr>\n    <tr>\n      <th>3</th>\n      <td>001rx</td>\n      <td>1</td>\n    </tr>\n    <tr>\n      <th>4</th>\n      <td>00201f</td>\n      <td>1</td>\n    </tr>\n    <tr>\n      <th>...</th>\n      <td>...</td>\n      <td>...</td>\n    </tr>\n    <tr>\n      <th>140538</th>\n      <td>zzyb</td>\n      <td>1</td>\n    </tr>\n    <tr>\n      <th>140539</th>\n      <td>zzyd6</td>\n      <td>1</td>\n    </tr>\n    <tr>\n      <th>140540</th>\n      <td>zzyyu</td>\n      <td>1</td>\n    </tr>\n    <tr>\n      <th>140541</th>\n      <td>zzz9v</td>\n      <td>1</td>\n    </tr>\n    <tr>\n      <th>140542</th>\n      <td>zzza</td>\n      <td>1</td>\n    </tr>\n  </tbody>\n</table>\n<p>140543 rows × 2 columns</p>\n</div>"
     },
     "execution_count": 100,
     "metadata": {},
     "output_type": "execute_result"
    }
   ],
   "source": [
    "df_indicators"
   ],
   "metadata": {
    "collapsed": false
   }
  },
  {
   "cell_type": "markdown",
   "source": [
    "# How many tweets are published by the user in a given period of time?"
   ],
   "metadata": {
    "collapsed": false
   }
  },
  {
   "cell_type": "code",
   "execution_count": 101,
   "outputs": [
    {
     "name": "stdout",
     "output_type": "stream",
     "text": [
      "<class 'pandas.core.frame.DataFrame'>\n",
      "RangeIndex: 140543 entries, 0 to 140542\n",
      "Data columns (total 11 columns):\n",
      " #   Column       Non-Null Count   Dtype \n",
      "---  ------       --------------   ----- \n",
      " 0   user_id      140543 non-null  object\n",
      " 1   n_tweets     140543 non-null  int64 \n",
      " 2   2012_tweets  140543 non-null  int64 \n",
      " 3   2013_tweets  140543 non-null  int64 \n",
      " 4   2014_tweets  140543 non-null  int64 \n",
      " 5   2015_tweets  140543 non-null  int64 \n",
      " 6   2016_tweets  140543 non-null  int64 \n",
      " 7   2017_tweets  140543 non-null  int64 \n",
      " 8   2018_tweets  140543 non-null  int64 \n",
      " 9   2019_tweets  140543 non-null  int64 \n",
      " 10  2020_tweets  140543 non-null  int64 \n",
      "dtypes: int64(10), object(1)\n",
      "memory usage: 11.8+ MB\n"
     ]
    }
   ],
   "source": [
    "for y in range(2012, 2021):\n",
    "  df_indicators[str(y) + \"_tweets\"] = 0\n",
    "\n",
    "df_indicators.info()"
   ],
   "metadata": {
    "collapsed": false
   }
  },
  {
   "cell_type": "code",
   "execution_count": 102,
   "outputs": [],
   "source": [
    "for y in range(2012,2021):\n",
    "  # Filter all tweets published in a certain year\n",
    "  tweets_by_y = df_tweets[land(df_tweets['created_at'] >= (str(y)+\"-01-01\"), \n",
    "                               df_tweets['created_at'] <= (str(y)+\"-12-31\"))][['user_id','created_at']]\n",
    "\n",
    "  # Count tweets of users in that year\n",
    "  gby = pd.DataFrame({'n_tweets' : tweets_by_y.groupby( [ 'user_id'] ).size()}).reset_index()\n",
    "  \n",
    "  # Transform it in a dictionary\n",
    "  gby = dict(zip(gby.user_id, gby.n_tweets))\n",
    "\n",
    "  # Select users to modify and update them\n",
    "  df_indicators.loc[df_indicators['user_id'].isin(gby.keys()), str(y)+'_tweets'] = list(gby.values())"
   ],
   "metadata": {
    "collapsed": false
   }
  },
  {
   "cell_type": "code",
   "execution_count": 103,
   "outputs": [
    {
     "data": {
      "text/plain": "<BarContainer object of 9 artists>"
     },
     "execution_count": 103,
     "metadata": {},
     "output_type": "execute_result"
    },
    {
     "data": {
      "text/plain": "<Figure size 432x288 with 1 Axes>",
      "image/png": "[encoded data removed]"
     },
     "metadata": {
      "needs_background": "light"
     },
     "output_type": "display_data"
    }
   ],
   "source": [
    "years_col_list = [str(y)+'_tweets' for y in range(2012,2021)]\n",
    "sum_list = [df_indicators[y].sum() for y in years_col_list]\n",
    "plt.bar(range(2012,2021), sum_list, log=True)"
   ],
   "metadata": {
    "collapsed": false
   }
  },
  {
   "cell_type": "markdown",
   "source": [
    "# Total number of tweets"
   ],
   "metadata": {
    "collapsed": false
   }
  },
  {
   "cell_type": "code",
   "execution_count": 104,
   "outputs": [
    {
     "data": {
      "text/plain": "10187873"
     },
     "execution_count": 104,
     "metadata": {},
     "output_type": "execute_result"
    }
   ],
   "source": [
    "tot_n_tweets = df_tweets.shape[0]\n",
    "tot_n_tweets"
   ],
   "metadata": {
    "collapsed": false
   }
  },
  {
   "cell_type": "markdown",
   "source": [
    "# Total number of likes and comments and retweets"
   ],
   "metadata": {
    "collapsed": false
   }
  },
  {
   "cell_type": "code",
   "execution_count": 105,
   "outputs": [
    {
     "data": {
      "text/plain": "5386511"
     },
     "execution_count": 105,
     "metadata": {},
     "output_type": "execute_result"
    }
   ],
   "source": [
    "total_favorite = df_tweets.favorite_count.sum()\n",
    "total_favorite"
   ],
   "metadata": {
    "collapsed": false
   }
  },
  {
   "cell_type": "code",
   "execution_count": 106,
   "outputs": [
    {
     "data": {
      "text/plain": "886527"
     },
     "execution_count": 106,
     "metadata": {},
     "output_type": "execute_result"
    }
   ],
   "source": [
    "total_replies = df_tweets.reply_count.sum()\n",
    "total_replies"
   ],
   "metadata": {
    "collapsed": false
   }
  },
  {
   "cell_type": "code",
   "execution_count": 107,
   "outputs": [
    {
     "data": {
      "text/plain": "366372232"
     },
     "execution_count": 107,
     "metadata": {},
     "output_type": "execute_result"
    }
   ],
   "source": [
    "total_retweets = df_tweets.retweet_count.sum()\n",
    "total_retweets"
   ],
   "metadata": {
    "collapsed": false
   }
  },
  {
   "cell_type": "markdown",
   "source": [
    "# Ratio between the number of tweets and the number of likes"
   ],
   "metadata": {
    "collapsed": false
   }
  },
  {
   "cell_type": "code",
   "execution_count": 108,
   "outputs": [
    {
     "data": {
      "text/plain": "1.8913677146486845"
     },
     "execution_count": 108,
     "metadata": {},
     "output_type": "execute_result"
    }
   ],
   "source": [
    "ratio_tweets_fav = len(df_tweets) / total_favorite\n",
    "ratio_tweets_fav"
   ],
   "metadata": {
    "collapsed": false
   }
  },
  {
   "cell_type": "markdown",
   "source": [
    "## Ratio between the number of tweets and the number of retweets"
   ],
   "metadata": {
    "collapsed": false
   }
  },
  {
   "cell_type": "code",
   "execution_count": 109,
   "outputs": [
    {
     "data": {
      "text/plain": "0.027807437655373402"
     },
     "execution_count": 109,
     "metadata": {},
     "output_type": "execute_result"
    }
   ],
   "source": [
    "ratio_tweets_rt = len(df_tweets) / total_retweets\n",
    "ratio_tweets_rt"
   ],
   "metadata": {
    "collapsed": false
   }
  },
  {
   "cell_type": "markdown",
   "source": [
    "## Ratio between the number of tweets and the number of comments"
   ],
   "metadata": {
    "collapsed": false
   }
  },
  {
   "cell_type": "code",
   "execution_count": 110,
   "outputs": [
    {
     "data": {
      "text/plain": "11.491892519911971"
     },
     "execution_count": 110,
     "metadata": {},
     "output_type": "execute_result"
    }
   ],
   "source": [
    "ratio_tweets_replies = len(df_tweets) / total_replies\n",
    "ratio_tweets_replies"
   ],
   "metadata": {
    "collapsed": false
   }
  },
  {
   "cell_type": "markdown",
   "source": [
    "# Average length of the tweets per user"
   ],
   "metadata": {
    "collapsed": false
   }
  },
  {
   "cell_type": "code",
   "execution_count": 111,
   "outputs": [],
   "source": [
    "df_tweets['length'] = df_tweets.text.astype(str).apply(len)"
   ],
   "metadata": {
    "collapsed": false
   }
  },
  {
   "cell_type": "code",
   "execution_count": 112,
   "outputs": [
    {
     "data": {
      "text/plain": "<AxesSubplot:>"
     },
     "execution_count": 112,
     "metadata": {},
     "output_type": "execute_result"
    },
    {
     "data": {
      "text/plain": "<Figure size 432x288 with 1 Axes>",
      "image/png": "[encoded data removed]"
     },
     "metadata": {
      "needs_background": "light"
     },
     "output_type": "display_data"
    }
   ],
   "source": [
    "df_tweets.boxplot('length')"
   ],
   "metadata": {
    "collapsed": false
   }
  },
  {
   "cell_type": "code",
   "execution_count": 113,
   "outputs": [],
   "source": [
    "len_groupby = df_tweets.groupby('user_id').agg({'length':'mean'})"
   ],
   "metadata": {
    "collapsed": false
   }
  },
  {
   "cell_type": "code",
   "execution_count": 114,
   "outputs": [
    {
     "name": "stdout",
     "output_type": "stream",
     "text": [
      "<class 'pandas.core.frame.DataFrame'>\n",
      "RangeIndex: 140543 entries, 0 to 140542\n",
      "Data columns (total 12 columns):\n",
      " #   Column       Non-Null Count   Dtype  \n",
      "---  ------       --------------   -----  \n",
      " 0   user_id      140543 non-null  object \n",
      " 1   n_tweets     140543 non-null  int64  \n",
      " 2   2012_tweets  140543 non-null  int64  \n",
      " 3   2013_tweets  140543 non-null  int64  \n",
      " 4   2014_tweets  140543 non-null  int64  \n",
      " 5   2015_tweets  140543 non-null  int64  \n",
      " 6   2016_tweets  140543 non-null  int64  \n",
      " 7   2017_tweets  140543 non-null  int64  \n",
      " 8   2018_tweets  140543 non-null  int64  \n",
      " 9   2019_tweets  140543 non-null  int64  \n",
      " 10  2020_tweets  140543 non-null  int64  \n",
      " 11  mean_length  140543 non-null  float64\n",
      "dtypes: float64(1), int64(10), object(1)\n",
      "memory usage: 12.9+ MB\n"
     ]
    }
   ],
   "source": [
    "df_indicators['mean_length'] = len_groupby.length.values\n",
    "df_indicators.info()"
   ],
   "metadata": {
    "collapsed": false
   }
  },
  {
   "cell_type": "code",
   "execution_count": 115,
   "outputs": [
    {
     "data": {
      "text/plain": "user_id         zzza\nn_tweets        3447\n2012_tweets        7\n2013_tweets      169\n2014_tweets      885\n2015_tweets     1697\n2016_tweets     2824\n2017_tweets     3250\n2018_tweets     3202\n2019_tweets     3360\n2020_tweets     3350\nmean_length    365.0\ndtype: object"
     },
     "execution_count": 115,
     "metadata": {},
     "output_type": "execute_result"
    }
   ],
   "source": [
    "df_indicators.max()"
   ],
   "metadata": {
    "collapsed": false
   }
  },
  {
   "cell_type": "markdown",
   "source": [
    "# Average number of special characters in the tweets per user"
   ],
   "metadata": {
    "collapsed": false
   }
  },
  {
   "cell_type": "code",
   "execution_count": 116,
   "outputs": [],
   "source": [
    "df_tweets['special_chars'] = df_tweets.text.astype(str).apply(lambda text: len(re.findall(\"(?=\\W)(?=\\S)\", text)))"
   ],
   "metadata": {
    "collapsed": false
   }
  },
  {
   "cell_type": "code",
   "execution_count": 117,
   "outputs": [
    {
     "data": {
      "text/plain": "        user_id  n_tweets  2012_tweets  2013_tweets  2014_tweets  2015_tweets  \\\n0         000vk         1            0            0            0            0   \n1       0013tom         1            0            0            0            0   \n2         001gi         1            0            0            0            0   \n3         001rx         1            0            0            0            0   \n4        00201f         1            0            0            0            0   \n...         ...       ...          ...          ...          ...          ...   \n140538     zzyb         1            0            0            0            0   \n140539    zzyd6         1            0            0            0            0   \n140540    zzyyu         1            0            0            0            0   \n140541    zzz9v         1            0            0            0            0   \n140542     zzza         1            0            0            0            0   \n\n        2016_tweets  2017_tweets  2018_tweets  2019_tweets  2020_tweets  \\\n0                 0            0            0            0            1   \n1                 0            0            1            0            0   \n2                 0            0            0            0            1   \n3                 0            0            0            0            1   \n4                 0            0            0            1            0   \n...             ...          ...          ...          ...          ...   \n140538            0            0            0            1            0   \n140539            0            0            0            1            0   \n140540            0            0            0            0            1   \n140541            0            0            0            1            0   \n140542            0            0            0            0            1   \n\n        mean_length  mean_special_chars  \n0             110.0                 9.0  \n1             104.0                 5.0  \n2              15.0                 0.0  \n3              47.0                 0.0  \n4               3.0                 0.0  \n...             ...                 ...  \n140538          3.0                 0.0  \n140539         66.0                 0.0  \n140540         64.0                 1.0  \n140541          3.0                 0.0  \n140542         16.0                 1.0  \n\n[140543 rows x 13 columns]",
      "text/html": "<div>\n<style scoped>\n    .dataframe tbody tr th:only-of-type {\n        vertical-align: middle;\n    }\n\n    .dataframe tbody tr th {\n        vertical-align: top;\n    }\n\n    .dataframe thead th {\n        text-align: right;\n    }\n</style>\n<table border=\"1\" class=\"dataframe\">\n  <thead>\n    <tr style=\"text-align: right;\">\n      <th></th>\n      <th>user_id</th>\n      <th>n_tweets</th>\n      <th>2012_tweets</th>\n      <th>2013_tweets</th>\n      <th>2014_tweets</th>\n      <th>2015_tweets</th>\n      <th>2016_tweets</th>\n      <th>2017_tweets</th>\n      <th>2018_tweets</th>\n      <th>2019_tweets</th>\n      <th>2020_tweets</th>\n      <th>mean_length</th>\n      <th>mean_special_chars</th>\n    </tr>\n  </thead>\n  <tbody>\n    <tr>\n      <th>0</th>\n      <td>000vk</td>\n      <td>1</td>\n      <td>0</td>\n      <td>0</td>\n      <td>0</td>\n      <td>0</td>\n      <td>0</td>\n      <td>0</td>\n      <td>0</td>\n      <td>0</td>\n      <td>1</td>\n      <td>110.0</td>\n      <td>9.0</td>\n    </tr>\n    <tr>\n      <th>1</th>\n      <td>0013tom</td>\n      <td>1</td>\n      <td>0</td>\n      <td>0</td>\n      <td>0</td>\n      <td>0</td>\n      <td>0</td>\n      <td>0</td>\n      <td>1</td>\n      <td>0</td>\n      <td>0</td>\n      <td>104.0</td>\n      <td>5.0</td>\n    </tr>\n    <tr>\n      <th>2</th>\n      <td>001gi</td>\n      <td>1</td>\n      <td>0</td>\n      <td>0</td>\n      <td>0</td>\n      <td>0</td>\n      <td>0</td>\n      <td>0</td>\n      <td>0</td>\n      <td>0</td>\n      <td>1</td>\n      <td>15.0</td>\n      <td>0.0</td>\n    </tr>\n    <tr>\n      <th>3</th>\n      <td>001rx</td>\n      <td>1</td>\n      <td>0</td>\n      <td>0</td>\n      <td>0</td>\n      <td>0</td>\n      <td>0</td>\n      <td>0</td>\n      <td>0</td>\n      <td>0</td>\n      <td>1</td>\n      <td>47.0</td>\n      <td>0.0</td>\n    </tr>\n    <tr>\n      <th>4</th>\n      <td>00201f</td>\n      <td>1</td>\n      <td>0</td>\n      <td>0</td>\n      <td>0</td>\n      <td>0</td>\n      <td>0</td>\n      <td>0</td>\n      <td>0</td>\n      <td>1</td>\n      <td>0</td>\n      <td>3.0</td>\n      <td>0.0</td>\n    </tr>\n    <tr>\n      <th>...</th>\n      <td>...</td>\n      <td>...</td>\n      <td>...</td>\n      <td>...</td>\n      <td>...</td>\n      <td>...</td>\n      <td>...</td>\n      <td>...</td>\n      <td>...</td>\n      <td>...</td>\n      <td>...</td>\n      <td>...</td>\n      <td>...</td>\n    </tr>\n    <tr>\n      <th>140538</th>\n      <td>zzyb</td>\n      <td>1</td>\n      <td>0</td>\n      <td>0</td>\n      <td>0</td>\n      <td>0</td>\n      <td>0</td>\n      <td>0</td>\n      <td>0</td>\n      <td>1</td>\n      <td>0</td>\n      <td>3.0</td>\n      <td>0.0</td>\n    </tr>\n    <tr>\n      <th>140539</th>\n      <td>zzyd6</td>\n      <td>1</td>\n      <td>0</td>\n      <td>0</td>\n      <td>0</td>\n      <td>0</td>\n      <td>0</td>\n      <td>0</td>\n      <td>0</td>\n      <td>1</td>\n      <td>0</td>\n      <td>66.0</td>\n      <td>0.0</td>\n    </tr>\n    <tr>\n      <th>140540</th>\n      <td>zzyyu</td>\n      <td>1</td>\n      <td>0</td>\n      <td>0</td>\n      <td>0</td>\n      <td>0</td>\n      <td>0</td>\n      <td>0</td>\n      <td>0</td>\n      <td>0</td>\n      <td>1</td>\n      <td>64.0</td>\n      <td>1.0</td>\n    </tr>\n    <tr>\n      <th>140541</th>\n      <td>zzz9v</td>\n      <td>1</td>\n      <td>0</td>\n      <td>0</td>\n      <td>0</td>\n      <td>0</td>\n      <td>0</td>\n      <td>0</td>\n      <td>0</td>\n      <td>1</td>\n      <td>0</td>\n      <td>3.0</td>\n      <td>0.0</td>\n    </tr>\n    <tr>\n      <th>140542</th>\n      <td>zzza</td>\n      <td>1</td>\n      <td>0</td>\n      <td>0</td>\n      <td>0</td>\n      <td>0</td>\n      <td>0</td>\n      <td>0</td>\n      <td>0</td>\n      <td>0</td>\n      <td>1</td>\n      <td>16.0</td>\n      <td>1.0</td>\n    </tr>\n  </tbody>\n</table>\n<p>140543 rows × 13 columns</p>\n</div>"
     },
     "execution_count": 117,
     "metadata": {},
     "output_type": "execute_result"
    }
   ],
   "source": [
    "len_groupby = df_tweets.groupby('user_id').agg({'special_chars':'mean'})\n",
    "\n",
    "df_indicators['mean_special_chars'] = len_groupby.special_chars.values\n",
    "df_indicators"
   ],
   "metadata": {
    "collapsed": false
   }
  },
  {
   "cell_type": "markdown",
   "source": [
    "# File Checkpoint"
   ],
   "metadata": {
    "collapsed": false
   }
  },
  {
   "cell_type": "code",
   "execution_count": 118,
   "outputs": [],
   "source": [
    "df_tweets.to_csv(path_or_buf=DATA_PATH+'tweets_with_indicators.csv', sep='#', index=False)"
   ],
   "metadata": {
    "collapsed": false
   }
  },
  {
   "cell_type": "code",
   "execution_count": 119,
   "outputs": [],
   "source": [
    "df_indicators.to_csv(path_or_buf=DATA_PATH+'indicators_1.csv', sep='#', index=False)"
   ],
   "metadata": {
    "collapsed": false
   }
  },
  {
   "cell_type": "code",
   "execution_count": 4,
   "outputs": [],
   "source": [
    "df_indicators = pd.read_csv(DATA_PATH+'indicators_1.csv', sep='#')"
   ],
   "metadata": {
    "collapsed": false
   }
  },
  {
   "cell_type": "code",
   "execution_count": 7,
   "outputs": [],
   "source": [
    "df_tweets = pd.read_csv(DATA_PATH+'tweets_with_indicators.csv', sep='#')"
   ],
   "metadata": {
    "collapsed": false
   }
  },
  {
   "cell_type": "markdown",
   "source": [
    "# Mean, standard deviation and entropy for each attribute by user"
   ],
   "metadata": {
    "collapsed": false
   }
  },
  {
   "cell_type": "code",
   "execution_count": 8,
   "outputs": [
    {
     "name": "stderr",
     "output_type": "stream",
     "text": [
      "C:\\Users\\al\\anaconda3\\lib\\site-packages\\scipy\\stats\\_entropy.py:72: RuntimeWarning: invalid value encountered in true_divide\n",
      "  pk = 1.0*pk / np.sum(pk, axis=axis, keepdims=True)\n",
      "C:\\Users\\al\\anaconda3\\lib\\site-packages\\scipy\\stats\\_entropy.py:72: RuntimeWarning: invalid value encountered in true_divide\n",
      "  pk = 1.0*pk / np.sum(pk, axis=axis, keepdims=True)\n",
      "C:\\Users\\al\\anaconda3\\lib\\site-packages\\scipy\\stats\\_entropy.py:72: RuntimeWarning: invalid value encountered in true_divide\n",
      "  pk = 1.0*pk / np.sum(pk, axis=axis, keepdims=True)\n",
      "C:\\Users\\al\\anaconda3\\lib\\site-packages\\scipy\\stats\\_entropy.py:72: RuntimeWarning: invalid value encountered in true_divide\n",
      "  pk = 1.0*pk / np.sum(pk, axis=axis, keepdims=True)\n",
      "C:\\Users\\al\\anaconda3\\lib\\site-packages\\scipy\\stats\\_entropy.py:72: RuntimeWarning: invalid value encountered in true_divide\n",
      "  pk = 1.0*pk / np.sum(pk, axis=axis, keepdims=True)\n",
      "C:\\Users\\al\\anaconda3\\lib\\site-packages\\scipy\\stats\\_entropy.py:72: RuntimeWarning: invalid value encountered in true_divide\n",
      "  pk = 1.0*pk / np.sum(pk, axis=axis, keepdims=True)\n",
      "C:\\Users\\al\\anaconda3\\lib\\site-packages\\scipy\\stats\\_entropy.py:72: RuntimeWarning: invalid value encountered in true_divide\n",
      "  pk = 1.0*pk / np.sum(pk, axis=axis, keepdims=True)\n",
      "C:\\Users\\al\\AppData\\Local\\Temp\\ipykernel_13992\\3530154015.py:1: FutureWarning: ['created_at', 'text'] did not aggregate successfully. If any error is raised this will raise in a future version of pandas. Drop these columns/ops to avoid this warning.\n",
      "  user_groupby = df_tweets.groupby('user_id').agg(['mean','std',entropy])\n"
     ]
    }
   ],
   "source": [
    "user_groupby = df_tweets.groupby('user_id').agg(['mean','std',entropy])"
   ],
   "metadata": {
    "collapsed": false
   }
  },
  {
   "cell_type": "code",
   "execution_count": 9,
   "outputs": [],
   "source": [
    "user_groupby.drop(columns=['length','special_chars'], inplace=True)"
   ],
   "metadata": {
    "collapsed": false
   }
  },
  {
   "cell_type": "code",
   "execution_count": 10,
   "outputs": [],
   "source": [
    "# convert from multiindex to \"{column_name}_mean\", \"{column_name}_std\", \"{column_name}_entropy\"\n",
    "colz = list(user_groupby.columns.map('_'.join).str.strip('_'))"
   ],
   "metadata": {
    "collapsed": false
   }
  },
  {
   "cell_type": "code",
   "execution_count": 11,
   "outputs": [],
   "source": [
    "df_indicators[colz] = user_groupby.values"
   ],
   "metadata": {
    "collapsed": false
   }
  },
  {
   "cell_type": "code",
   "execution_count": 12,
   "outputs": [
    {
     "data": {
      "text/plain": "user_id                                     zzza\nn_tweets                                    3447\n2012_tweets                                    7\n2013_tweets                                  169\n2014_tweets                                  885\n2015_tweets                                 1697\n2016_tweets                                 2824\n2017_tweets                                 3250\n2018_tweets                                 3202\n2019_tweets                                 3360\n2020_tweets                                 3350\nmean_length                                365.0\nmean_special_chars                         213.0\ncreated_at_conv_mean       1588500732000000000.0\ncreated_at_conv_std         132553602926447472.0\ncreated_at_conv_entropy              1228.368088\nretweet_count_mean                      449743.0\nretweet_count_std                  151907.042696\nretweet_count_entropy                   8.094378\nreply_count_mean                        818137.0\nreply_count_std                      2571.240268\nreply_count_entropy                     4.744932\nfavorite_count_mean                      71000.0\nfavorite_count_std                  47828.452449\nfavorite_count_entropy                  8.091933\nnum_hashtags_mean                           14.0\nnum_hashtags_std                       11.103618\nnum_hashtags_entropy                     8.03625\nnum_urls_mean                               18.0\nnum_urls_std                            2.690075\nnum_urls_entropy                         8.10132\nnum_mentions_mean                           11.0\nnum_mentions_std                        7.300246\nnum_mentions_entropy                    8.023161\ndtype: object"
     },
     "execution_count": 12,
     "metadata": {},
     "output_type": "execute_result"
    }
   ],
   "source": [
    "df_indicators.max()"
   ],
   "metadata": {
    "collapsed": false
   }
  },
  {
   "cell_type": "markdown",
   "metadata": {
    "id": "_yylOrtau5bu"
   },
   "source": [
    "# Tweeting regularity\n",
    "We want an indicator that can tell us if the user has a certain regularity in the publication.\n",
    "We define the tweeting regularity of a user as:\n",
    "$$ Var( \\{\\ timestamp_i - timestamp_j\\ |\\ j = i + 1 \\} )$$"
   ]
  },
  {
   "cell_type": "code",
   "execution_count": 13,
   "metadata": {
    "colab": {
     "base_uri": "https://localhost:8080/",
     "height": 400
    },
    "id": "bB4x0Op1u5bv",
    "outputId": "253a3bed-5413-4204-8222-a5096a47af31"
   },
   "outputs": [
    {
     "name": "stderr",
     "output_type": "stream",
     "text": [
      "C:\\Users\\al\\anaconda3\\lib\\site-packages\\scipy\\stats\\_entropy.py:72: RuntimeWarning: invalid value encountered in true_divide\n",
      "  pk = 1.0*pk / np.sum(pk, axis=axis, keepdims=True)\n"
     ]
    }
   ],
   "source": [
    "def tweeting_regularity(user_timestamps):\n",
    "\n",
    "    user_timestamps = user_timestamps.values\n",
    "\n",
    "    if(len(user_timestamps) == 1):\n",
    "        return 0\n",
    "\n",
    "    user_timestamps.sort()\n",
    "    diffs = []\n",
    "    for i in range(1,len(user_timestamps)):\n",
    "        diffs.append(user_timestamps[i]-user_timestamps[i-1])\n",
    "    diffs = np.array(diffs)\n",
    "\n",
    "    return entropy(diffs)\n",
    "\n",
    "df_indicators['tweeting_regularity'] = df_tweets.groupby('user_id').agg({'created_at_conv': tweeting_regularity}).values"
   ]
  },
  {
   "cell_type": "code",
   "execution_count": 14,
   "outputs": [
    {
     "data": {
      "text/plain": "0.000000    128974\n4.364155         1\n3.462674         1\n5.806535         1\n5.641228         1\n             ...  \n2.628242         1\n2.437555         1\n2.496194         1\n2.410906         1\n0.678564         1\nName: tweeting_regularity, Length: 11562, dtype: int64"
     },
     "execution_count": 14,
     "metadata": {},
     "output_type": "execute_result"
    }
   ],
   "source": [
    "\n",
    "df_indicators['tweeting_regularity'].value_counts()"
   ],
   "metadata": {
    "collapsed": false
   }
  },
  {
   "cell_type": "code",
   "execution_count": 24,
   "outputs": [
    {
     "data": {
      "text/plain": "<Figure size 432x288 with 1 Axes>",
      "image/png": "[encoded data removed]"
     },
     "metadata": {
      "needs_background": "light"
     },
     "output_type": "display_data"
    }
   ],
   "source": [
    "plot_boxplot(df_indicators[df_indicators.tweeting_regularity.notnull()],'tweeting_regularity')"
   ],
   "metadata": {
    "collapsed": false
   }
  },
  {
   "cell_type": "markdown",
   "source": [
    "# Maximum number of tweets in a day by user"
   ],
   "metadata": {
    "id": "Oy7KamoRwkvw"
   }
  },
  {
   "cell_type": "markdown",
   "source": [
    "Add new column which represents the date as the number of the day in the year (e.g. 1st of Janueary would be 1, 2nd of January would be 2, [...], 31st of December would be 365 or 366) concatenated to the year.\n",
    "For example, 2nd of January of 2019 would be \"2_2019\"."
   ],
   "metadata": {
    "id": "XPjdz1Db3DUB"
   }
  },
  {
   "cell_type": "code",
   "source": [
    "df_tweets['day_of_year'] = pd.DatetimeIndex(df_tweets.created_at).day_of_year.map(str) + \"_\" + pd.DatetimeIndex(df_tweets.created_at).year.map(str)"
   ],
   "metadata": {
    "id": "FvoLCDTDwoix"
   },
   "execution_count": 25,
   "outputs": []
  },
  {
   "cell_type": "code",
   "source": [
    "df_tweets['day_of_year']"
   ],
   "metadata": {
    "colab": {
     "base_uri": "https://localhost:8080/"
    },
    "id": "BCvgKQpFAwJL",
    "outputId": "377f07e5-7dff-4279-e065-4ecc128c71ab"
   },
   "execution_count": 26,
   "outputs": [
    {
     "data": {
      "text/plain": "0           254_2019\n1            92_2020\n2           122_2019\n3           308_2019\n4            71_2020\n              ...   \n10187868    116_2019\n10187869    108_2020\n10187870    192_2016\n10187871     66_2019\n10187872    191_2019\nName: day_of_year, Length: 10187873, dtype: object"
     },
     "execution_count": 26,
     "metadata": {},
     "output_type": "execute_result"
    }
   ]
  },
  {
   "cell_type": "code",
   "source": [
    "user_date_groupby = pd.DataFrame({'n_tweets_by_day' : df_tweets.groupby( [ 'user_id', 'day_of_year'] ).size()}).reset_index()"
   ],
   "metadata": {
    "id": "DTlXnlHJ9y5z"
   },
   "execution_count": 27,
   "outputs": []
  },
  {
   "cell_type": "code",
   "source": [
    "user_date_groupby"
   ],
   "metadata": {
    "colab": {
     "base_uri": "https://localhost:8080/",
     "height": 424
    },
    "id": "PTxryXW__Nzc",
    "outputId": "449b43c5-08e6-4f7b-c693-5b0438a0d7c0"
   },
   "execution_count": 28,
   "outputs": [
    {
     "data": {
      "text/plain": "         user_id day_of_year  n_tweets_by_day\n0          000vk    118_2020                1\n1        0013tom     99_2018                1\n2          001gi     98_2020                1\n3          001rx     70_2020                1\n4         00201f     43_2019                1\n...          ...         ...              ...\n1151381     zzyb    306_2019                1\n1151382    zzyd6    170_2019                1\n1151383    zzyyu     88_2020                1\n1151384    zzz9v    106_2019                1\n1151385     zzza     20_2020                1\n\n[1151386 rows x 3 columns]",
      "text/html": "<div>\n<style scoped>\n    .dataframe tbody tr th:only-of-type {\n        vertical-align: middle;\n    }\n\n    .dataframe tbody tr th {\n        vertical-align: top;\n    }\n\n    .dataframe thead th {\n        text-align: right;\n    }\n</style>\n<table border=\"1\" class=\"dataframe\">\n  <thead>\n    <tr style=\"text-align: right;\">\n      <th></th>\n      <th>user_id</th>\n      <th>day_of_year</th>\n      <th>n_tweets_by_day</th>\n    </tr>\n  </thead>\n  <tbody>\n    <tr>\n      <th>0</th>\n      <td>000vk</td>\n      <td>118_2020</td>\n      <td>1</td>\n    </tr>\n    <tr>\n      <th>1</th>\n      <td>0013tom</td>\n      <td>99_2018</td>\n      <td>1</td>\n    </tr>\n    <tr>\n      <th>2</th>\n      <td>001gi</td>\n      <td>98_2020</td>\n      <td>1</td>\n    </tr>\n    <tr>\n      <th>3</th>\n      <td>001rx</td>\n      <td>70_2020</td>\n      <td>1</td>\n    </tr>\n    <tr>\n      <th>4</th>\n      <td>00201f</td>\n      <td>43_2019</td>\n      <td>1</td>\n    </tr>\n    <tr>\n      <th>...</th>\n      <td>...</td>\n      <td>...</td>\n      <td>...</td>\n    </tr>\n    <tr>\n      <th>1151381</th>\n      <td>zzyb</td>\n      <td>306_2019</td>\n      <td>1</td>\n    </tr>\n    <tr>\n      <th>1151382</th>\n      <td>zzyd6</td>\n      <td>170_2019</td>\n      <td>1</td>\n    </tr>\n    <tr>\n      <th>1151383</th>\n      <td>zzyyu</td>\n      <td>88_2020</td>\n      <td>1</td>\n    </tr>\n    <tr>\n      <th>1151384</th>\n      <td>zzz9v</td>\n      <td>106_2019</td>\n      <td>1</td>\n    </tr>\n    <tr>\n      <th>1151385</th>\n      <td>zzza</td>\n      <td>20_2020</td>\n      <td>1</td>\n    </tr>\n  </tbody>\n</table>\n<p>1151386 rows × 3 columns</p>\n</div>"
     },
     "execution_count": 28,
     "metadata": {},
     "output_type": "execute_result"
    }
   ]
  },
  {
   "cell_type": "code",
   "source": [
    "# Maximum number of tweets in a day\n",
    "user_date_groupby[user_date_groupby['n_tweets_by_day'] == user_date_groupby['n_tweets_by_day'].max()]"
   ],
   "metadata": {
    "colab": {
     "base_uri": "https://localhost:8080/",
     "height": 81
    },
    "id": "UcUIhcLp995i",
    "outputId": "915aec8a-5ebb-489a-9158-666109f46970"
   },
   "execution_count": 29,
   "outputs": [
    {
     "data": {
      "text/plain": "          user_id day_of_year  n_tweets_by_day\n778142  492649414    115_2020             3238",
      "text/html": "<div>\n<style scoped>\n    .dataframe tbody tr th:only-of-type {\n        vertical-align: middle;\n    }\n\n    .dataframe tbody tr th {\n        vertical-align: top;\n    }\n\n    .dataframe thead th {\n        text-align: right;\n    }\n</style>\n<table border=\"1\" class=\"dataframe\">\n  <thead>\n    <tr style=\"text-align: right;\">\n      <th></th>\n      <th>user_id</th>\n      <th>day_of_year</th>\n      <th>n_tweets_by_day</th>\n    </tr>\n  </thead>\n  <tbody>\n    <tr>\n      <th>778142</th>\n      <td>492649414</td>\n      <td>115_2020</td>\n      <td>3238</td>\n    </tr>\n  </tbody>\n</table>\n</div>"
     },
     "execution_count": 29,
     "metadata": {},
     "output_type": "execute_result"
    }
   ]
  },
  {
   "cell_type": "markdown",
   "source": [
    "Identify maximum number of tweets posted in a day for each user."
   ],
   "metadata": {
    "id": "X7_I07GIAPkK"
   }
  },
  {
   "cell_type": "code",
   "source": [
    "df_indicators['max_daily_tweets'] = user_date_groupby.groupby(by=['user_id']).agg({'n_tweets_by_day':max}).values"
   ],
   "metadata": {
    "id": "7i0AlSUOAB61"
   },
   "execution_count": 30,
   "outputs": []
  },
  {
   "cell_type": "markdown",
   "source": [
    "# Density of publication"
   ],
   "metadata": {
    "collapsed": false
   }
  },
  {
   "cell_type": "code",
   "execution_count": 34,
   "outputs": [],
   "source": [
    "secs_in_min = 60\n",
    "mins_in_hour = 60\n",
    "hours_in_day = 24\n",
    "secs_per_day = secs_in_min * mins_in_hour * hours_in_day\n",
    "df_indicators['last_tweet_dates'] = df_tweets.groupby('user_id').agg({'created_at_conv':'max'}).values\n",
    "df_users.id = df_users.id.astype(str)\n",
    "df_merge = df_users.merge(df_indicators, left_on='id', right_on='user_id', how='left')\n",
    "df_indicators['publication_density'] = df_merge.apply(lambda x: (x.n_tweets/((x.last_tweet_dates-x.created_at_conv)/secs_per_day)), axis=1)\n",
    "df_indicators['publication_density'] = preprocessing.MinMaxScaler().fit_transform(np.array(df_indicators['publication_density'].values).reshape(1, -1).T)\n",
    "df_indicators.drop(columns=['last_tweet_dates'], inplace=True)"
   ],
   "metadata": {
    "collapsed": false
   }
  },
  {
   "cell_type": "markdown",
   "source": [
    "# File Checkpoint"
   ],
   "metadata": {
    "id": "sqXcYC-eTIow"
   }
  },
  {
   "cell_type": "code",
   "source": [
    "df_tweets.to_csv(path_or_buf=DATA_PATH+'tweets_with_indicators.csv', sep='#', index=False)"
   ],
   "metadata": {
    "id": "Sli4LT8lTLcS"
   },
   "execution_count": 35,
   "outputs": []
  },
  {
   "cell_type": "code",
   "source": [
    "df_indicators.to_csv(path_or_buf=DATA_PATH+'indicators.csv', sep='#', index=False)"
   ],
   "metadata": {
    "id": "4l-lOH-4TKE3"
   },
   "execution_count": 36,
   "outputs": []
  }
 ],
 "metadata": {
  "colab": {
   "provenance": []
  },
  "kernelspec": {
   "display_name": "Python 3",
   "language": "python",
   "name": "python3"
  },
  "language_info": {
   "codemirror_mode": {
    "name": "ipython",
    "version": 3
   },
   "file_extension": ".py",
   "mimetype": "text/x-python",
   "name": "python",
   "nbconvert_exporter": "python",
   "pygments_lexer": "ipython3",
   "version": "3.9.5"
  }
 },
 "nbformat": 4,
 "nbformat_minor": 0
}
