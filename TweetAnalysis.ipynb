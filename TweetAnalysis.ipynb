{
  "cells": [
    {
      "cell_type": "code",
      "execution_count": null,
      "metadata": {
        "id": "5oCty9ReHZOd"
      },
      "outputs": [],
      "source": [
        "import pandas as pd\n",
        "from matplotlib import pyplot as plt\n",
        "import numpy as np\n",
        "from google.colab import drive\n",
        "import math"
      ]
    },
    {
      "cell_type": "code",
      "source": [
        "drive.mount(\"/content/drive\")\n",
        "path = \"/content/drive/MyDrive\""
      ],
      "metadata": {
        "colab": {
          "base_uri": "https://localhost:8080/"
        },
        "id": "WSuZwjR53_7e",
        "outputId": "7aaa4cf4-ec8e-4770-c8ce-0f1cbc30030f"
      },
      "execution_count": null,
      "outputs": [
        {
          "output_type": "stream",
          "name": "stdout",
          "text": [
            "Mounted at /content/drive\n"
          ]
        }
      ]
    },
    {
      "cell_type": "code",
      "source": [
        "!unzip \"/content/drive/MyDrive/dataset.zip\""
      ],
      "metadata": {
        "colab": {
          "base_uri": "https://localhost:8080/"
        },
        "id": "ulDcWBBE4TUU",
        "outputId": "f3a20fc8-3211-4fb2-a7fc-a1df36027d31"
      },
      "execution_count": null,
      "outputs": [
        {
          "output_type": "stream",
          "name": "stdout",
          "text": [
            "Archive:  /content/drive/MyDrive/dataset.zip\n",
            "  inflating: dataset/tweets.csv      \n",
            "  inflating: dataset/users.csv       \n"
          ]
        }
      ]
    },
    {
      "cell_type": "code",
      "execution_count": null,
      "metadata": {
        "id": "UTjV9Hkmc7OI"
      },
      "outputs": [],
      "source": [
        "df_tweets = pd.read_csv(\"/content/dataset/tweets.csv\")"
      ]
    },
    {
      "cell_type": "code",
      "execution_count": null,
      "metadata": {
        "id": "h21-fqYf2d3_"
      },
      "outputs": [],
      "source": [
        "df_users = pd.read_csv(\"/content/dataset/users.csv\")"
      ]
    },
    {
      "cell_type": "code",
      "execution_count": null,
      "metadata": {
        "colab": {
          "base_uri": "https://localhost:8080/",
          "height": 206
        },
        "id": "NP_Jn2WOd21-",
        "outputId": "d0c3ea42-0336-4f40-884d-92383f4981fe"
      },
      "outputs": [
        {
          "output_type": "execute_result",
          "data": {
            "text/plain": [
              "           id              name lang  bot           created_at  statuses_count\n",
              "0  2353593986   Lamonica Raborn   en    1  2019-02-22 18:00:42            76.0\n",
              "1  2358850842     Lourie Botton   en    0  2019-02-26 03:02:32            54.0\n",
              "2   137959629  Dadan Syarifudin   en    1  2015-04-30 07:09:56             3.0\n",
              "3   466124818    Carletto Focia   it    1  2017-01-18 02:49:18            50.0\n",
              "4  2571493866         MBK Ebook   en    0  2019-06-18 19:30:21          7085.0"
            ],
            "text/html": [
              "\n",
              "  <div id=\"df-bbc03e5a-3e48-4583-92b1-f3f168f0beb9\">\n",
              "    <div class=\"colab-df-container\">\n",
              "      <div>\n",
              "<style scoped>\n",
              "    .dataframe tbody tr th:only-of-type {\n",
              "        vertical-align: middle;\n",
              "    }\n",
              "\n",
              "    .dataframe tbody tr th {\n",
              "        vertical-align: top;\n",
              "    }\n",
              "\n",
              "    .dataframe thead th {\n",
              "        text-align: right;\n",
              "    }\n",
              "</style>\n",
              "<table border=\"1\" class=\"dataframe\">\n",
              "  <thead>\n",
              "    <tr style=\"text-align: right;\">\n",
              "      <th></th>\n",
              "      <th>id</th>\n",
              "      <th>name</th>\n",
              "      <th>lang</th>\n",
              "      <th>bot</th>\n",
              "      <th>created_at</th>\n",
              "      <th>statuses_count</th>\n",
              "    </tr>\n",
              "  </thead>\n",
              "  <tbody>\n",
              "    <tr>\n",
              "      <th>0</th>\n",
              "      <td>2353593986</td>\n",
              "      <td>Lamonica Raborn</td>\n",
              "      <td>en</td>\n",
              "      <td>1</td>\n",
              "      <td>2019-02-22 18:00:42</td>\n",
              "      <td>76.0</td>\n",
              "    </tr>\n",
              "    <tr>\n",
              "      <th>1</th>\n",
              "      <td>2358850842</td>\n",
              "      <td>Lourie Botton</td>\n",
              "      <td>en</td>\n",
              "      <td>0</td>\n",
              "      <td>2019-02-26 03:02:32</td>\n",
              "      <td>54.0</td>\n",
              "    </tr>\n",
              "    <tr>\n",
              "      <th>2</th>\n",
              "      <td>137959629</td>\n",
              "      <td>Dadan Syarifudin</td>\n",
              "      <td>en</td>\n",
              "      <td>1</td>\n",
              "      <td>2015-04-30 07:09:56</td>\n",
              "      <td>3.0</td>\n",
              "    </tr>\n",
              "    <tr>\n",
              "      <th>3</th>\n",
              "      <td>466124818</td>\n",
              "      <td>Carletto Focia</td>\n",
              "      <td>it</td>\n",
              "      <td>1</td>\n",
              "      <td>2017-01-18 02:49:18</td>\n",
              "      <td>50.0</td>\n",
              "    </tr>\n",
              "    <tr>\n",
              "      <th>4</th>\n",
              "      <td>2571493866</td>\n",
              "      <td>MBK Ebook</td>\n",
              "      <td>en</td>\n",
              "      <td>0</td>\n",
              "      <td>2019-06-18 19:30:21</td>\n",
              "      <td>7085.0</td>\n",
              "    </tr>\n",
              "  </tbody>\n",
              "</table>\n",
              "</div>\n",
              "      <button class=\"colab-df-convert\" onclick=\"convertToInteractive('df-bbc03e5a-3e48-4583-92b1-f3f168f0beb9')\"\n",
              "              title=\"Convert this dataframe to an interactive table.\"\n",
              "              style=\"display:none;\">\n",
              "        \n",
              "  <svg xmlns=\"http://www.w3.org/2000/svg\" height=\"24px\"viewBox=\"0 0 24 24\"\n",
              "       width=\"24px\">\n",
              "    <path d=\"M0 0h24v24H0V0z\" fill=\"none\"/>\n",
              "    <path d=\"M18.56 5.44l.94 2.06.94-2.06 2.06-.94-2.06-.94-.94-2.06-.94 2.06-2.06.94zm-11 1L8.5 8.5l.94-2.06 2.06-.94-2.06-.94L8.5 2.5l-.94 2.06-2.06.94zm10 10l.94 2.06.94-2.06 2.06-.94-2.06-.94-.94-2.06-.94 2.06-2.06.94z\"/><path d=\"M17.41 7.96l-1.37-1.37c-.4-.4-.92-.59-1.43-.59-.52 0-1.04.2-1.43.59L10.3 9.45l-7.72 7.72c-.78.78-.78 2.05 0 2.83L4 21.41c.39.39.9.59 1.41.59.51 0 1.02-.2 1.41-.59l7.78-7.78 2.81-2.81c.8-.78.8-2.07 0-2.86zM5.41 20L4 18.59l7.72-7.72 1.47 1.35L5.41 20z\"/>\n",
              "  </svg>\n",
              "      </button>\n",
              "      \n",
              "  <style>\n",
              "    .colab-df-container {\n",
              "      display:flex;\n",
              "      flex-wrap:wrap;\n",
              "      gap: 12px;\n",
              "    }\n",
              "\n",
              "    .colab-df-convert {\n",
              "      background-color: #E8F0FE;\n",
              "      border: none;\n",
              "      border-radius: 50%;\n",
              "      cursor: pointer;\n",
              "      display: none;\n",
              "      fill: #1967D2;\n",
              "      height: 32px;\n",
              "      padding: 0 0 0 0;\n",
              "      width: 32px;\n",
              "    }\n",
              "\n",
              "    .colab-df-convert:hover {\n",
              "      background-color: #E2EBFA;\n",
              "      box-shadow: 0px 1px 2px rgba(60, 64, 67, 0.3), 0px 1px 3px 1px rgba(60, 64, 67, 0.15);\n",
              "      fill: #174EA6;\n",
              "    }\n",
              "\n",
              "    [theme=dark] .colab-df-convert {\n",
              "      background-color: #3B4455;\n",
              "      fill: #D2E3FC;\n",
              "    }\n",
              "\n",
              "    [theme=dark] .colab-df-convert:hover {\n",
              "      background-color: #434B5C;\n",
              "      box-shadow: 0px 1px 3px 1px rgba(0, 0, 0, 0.15);\n",
              "      filter: drop-shadow(0px 1px 2px rgba(0, 0, 0, 0.3));\n",
              "      fill: #FFFFFF;\n",
              "    }\n",
              "  </style>\n",
              "\n",
              "      <script>\n",
              "        const buttonEl =\n",
              "          document.querySelector('#df-bbc03e5a-3e48-4583-92b1-f3f168f0beb9 button.colab-df-convert');\n",
              "        buttonEl.style.display =\n",
              "          google.colab.kernel.accessAllowed ? 'block' : 'none';\n",
              "\n",
              "        async function convertToInteractive(key) {\n",
              "          const element = document.querySelector('#df-bbc03e5a-3e48-4583-92b1-f3f168f0beb9');\n",
              "          const dataTable =\n",
              "            await google.colab.kernel.invokeFunction('convertToInteractive',\n",
              "                                                     [key], {});\n",
              "          if (!dataTable) return;\n",
              "\n",
              "          const docLinkHtml = 'Like what you see? Visit the ' +\n",
              "            '<a target=\"_blank\" href=https://colab.research.google.com/notebooks/data_table.ipynb>data table notebook</a>'\n",
              "            + ' to learn more about interactive tables.';\n",
              "          element.innerHTML = '';\n",
              "          dataTable['output_type'] = 'display_data';\n",
              "          await google.colab.output.renderOutput(dataTable, element);\n",
              "          const docLink = document.createElement('div');\n",
              "          docLink.innerHTML = docLinkHtml;\n",
              "          element.appendChild(docLink);\n",
              "        }\n",
              "      </script>\n",
              "    </div>\n",
              "  </div>\n",
              "  "
            ]
          },
          "metadata": {},
          "execution_count": 4
        }
      ],
      "source": [
        "df_users.head()"
      ]
    },
    {
      "cell_type": "code",
      "execution_count": null,
      "metadata": {
        "colab": {
          "base_uri": "https://localhost:8080/"
        },
        "id": "4z_xApMQfk0A",
        "outputId": "bff89ce8-4e75-437c-f3de-e826e43a8cfe"
      },
      "outputs": [
        {
          "output_type": "stream",
          "name": "stdout",
          "text": [
            "<class 'pandas.core.frame.DataFrame'>\n",
            "RangeIndex: 11508 entries, 0 to 11507\n",
            "Data columns (total 6 columns):\n",
            " #   Column          Non-Null Count  Dtype  \n",
            "---  ------          --------------  -----  \n",
            " 0   id              11508 non-null  int64  \n",
            " 1   name            11507 non-null  object \n",
            " 2   lang            11508 non-null  object \n",
            " 3   bot             11508 non-null  int64  \n",
            " 4   created_at      11508 non-null  object \n",
            " 5   statuses_count  11109 non-null  float64\n",
            "dtypes: float64(1), int64(2), object(3)\n",
            "memory usage: 539.6+ KB\n"
          ]
        }
      ],
      "source": [
        "df_users.info()"
      ]
    },
    {
      "cell_type": "markdown",
      "source": [
        "Check if any user record has a null value in it\n",
        "Extract only record with a null name (id = 1535)"
      ],
      "metadata": {
        "id": "UV3OQssy5ty6"
      }
    },
    {
      "cell_type": "code",
      "execution_count": null,
      "metadata": {
        "colab": {
          "base_uri": "https://localhost:8080/",
          "height": 81
        },
        "id": "2zF4wF2vfmmH",
        "outputId": "4506c1f3-3ffd-48f0-b174-2342f4c90b9e"
      },
      "outputs": [
        {
          "output_type": "execute_result",
          "data": {
            "text/plain": [
              "              id name lang  bot           created_at  statuses_count\n",
              "1535  2166124159  NaN   en    0  2018-11-02 06:39:14          6566.0"
            ],
            "text/html": [
              "\n",
              "  <div id=\"df-101927ba-17f5-4210-a0e4-c7e1b827b892\">\n",
              "    <div class=\"colab-df-container\">\n",
              "      <div>\n",
              "<style scoped>\n",
              "    .dataframe tbody tr th:only-of-type {\n",
              "        vertical-align: middle;\n",
              "    }\n",
              "\n",
              "    .dataframe tbody tr th {\n",
              "        vertical-align: top;\n",
              "    }\n",
              "\n",
              "    .dataframe thead th {\n",
              "        text-align: right;\n",
              "    }\n",
              "</style>\n",
              "<table border=\"1\" class=\"dataframe\">\n",
              "  <thead>\n",
              "    <tr style=\"text-align: right;\">\n",
              "      <th></th>\n",
              "      <th>id</th>\n",
              "      <th>name</th>\n",
              "      <th>lang</th>\n",
              "      <th>bot</th>\n",
              "      <th>created_at</th>\n",
              "      <th>statuses_count</th>\n",
              "    </tr>\n",
              "  </thead>\n",
              "  <tbody>\n",
              "    <tr>\n",
              "      <th>1535</th>\n",
              "      <td>2166124159</td>\n",
              "      <td>NaN</td>\n",
              "      <td>en</td>\n",
              "      <td>0</td>\n",
              "      <td>2018-11-02 06:39:14</td>\n",
              "      <td>6566.0</td>\n",
              "    </tr>\n",
              "  </tbody>\n",
              "</table>\n",
              "</div>\n",
              "      <button class=\"colab-df-convert\" onclick=\"convertToInteractive('df-101927ba-17f5-4210-a0e4-c7e1b827b892')\"\n",
              "              title=\"Convert this dataframe to an interactive table.\"\n",
              "              style=\"display:none;\">\n",
              "        \n",
              "  <svg xmlns=\"http://www.w3.org/2000/svg\" height=\"24px\"viewBox=\"0 0 24 24\"\n",
              "       width=\"24px\">\n",
              "    <path d=\"M0 0h24v24H0V0z\" fill=\"none\"/>\n",
              "    <path d=\"M18.56 5.44l.94 2.06.94-2.06 2.06-.94-2.06-.94-.94-2.06-.94 2.06-2.06.94zm-11 1L8.5 8.5l.94-2.06 2.06-.94-2.06-.94L8.5 2.5l-.94 2.06-2.06.94zm10 10l.94 2.06.94-2.06 2.06-.94-2.06-.94-.94-2.06-.94 2.06-2.06.94z\"/><path d=\"M17.41 7.96l-1.37-1.37c-.4-.4-.92-.59-1.43-.59-.52 0-1.04.2-1.43.59L10.3 9.45l-7.72 7.72c-.78.78-.78 2.05 0 2.83L4 21.41c.39.39.9.59 1.41.59.51 0 1.02-.2 1.41-.59l7.78-7.78 2.81-2.81c.8-.78.8-2.07 0-2.86zM5.41 20L4 18.59l7.72-7.72 1.47 1.35L5.41 20z\"/>\n",
              "  </svg>\n",
              "      </button>\n",
              "      \n",
              "  <style>\n",
              "    .colab-df-container {\n",
              "      display:flex;\n",
              "      flex-wrap:wrap;\n",
              "      gap: 12px;\n",
              "    }\n",
              "\n",
              "    .colab-df-convert {\n",
              "      background-color: #E8F0FE;\n",
              "      border: none;\n",
              "      border-radius: 50%;\n",
              "      cursor: pointer;\n",
              "      display: none;\n",
              "      fill: #1967D2;\n",
              "      height: 32px;\n",
              "      padding: 0 0 0 0;\n",
              "      width: 32px;\n",
              "    }\n",
              "\n",
              "    .colab-df-convert:hover {\n",
              "      background-color: #E2EBFA;\n",
              "      box-shadow: 0px 1px 2px rgba(60, 64, 67, 0.3), 0px 1px 3px 1px rgba(60, 64, 67, 0.15);\n",
              "      fill: #174EA6;\n",
              "    }\n",
              "\n",
              "    [theme=dark] .colab-df-convert {\n",
              "      background-color: #3B4455;\n",
              "      fill: #D2E3FC;\n",
              "    }\n",
              "\n",
              "    [theme=dark] .colab-df-convert:hover {\n",
              "      background-color: #434B5C;\n",
              "      box-shadow: 0px 1px 3px 1px rgba(0, 0, 0, 0.15);\n",
              "      filter: drop-shadow(0px 1px 2px rgba(0, 0, 0, 0.3));\n",
              "      fill: #FFFFFF;\n",
              "    }\n",
              "  </style>\n",
              "\n",
              "      <script>\n",
              "        const buttonEl =\n",
              "          document.querySelector('#df-101927ba-17f5-4210-a0e4-c7e1b827b892 button.colab-df-convert');\n",
              "        buttonEl.style.display =\n",
              "          google.colab.kernel.accessAllowed ? 'block' : 'none';\n",
              "\n",
              "        async function convertToInteractive(key) {\n",
              "          const element = document.querySelector('#df-101927ba-17f5-4210-a0e4-c7e1b827b892');\n",
              "          const dataTable =\n",
              "            await google.colab.kernel.invokeFunction('convertToInteractive',\n",
              "                                                     [key], {});\n",
              "          if (!dataTable) return;\n",
              "\n",
              "          const docLinkHtml = 'Like what you see? Visit the ' +\n",
              "            '<a target=\"_blank\" href=https://colab.research.google.com/notebooks/data_table.ipynb>data table notebook</a>'\n",
              "            + ' to learn more about interactive tables.';\n",
              "          element.innerHTML = '';\n",
              "          dataTable['output_type'] = 'display_data';\n",
              "          await google.colab.output.renderOutput(dataTable, element);\n",
              "          const docLink = document.createElement('div');\n",
              "          docLink.innerHTML = docLinkHtml;\n",
              "          element.appendChild(docLink);\n",
              "        }\n",
              "      </script>\n",
              "    </div>\n",
              "  </div>\n",
              "  "
            ]
          },
          "metadata": {},
          "execution_count": 11
        }
      ],
      "source": [
        "df_null = df_users.isnull()\n",
        "idx_null = df_users.index[df_null[\"name\"] == True].tolist()\n",
        "df_users.iloc[idx_null]"
      ]
    },
    {
      "cell_type": "markdown",
      "source": [
        "Print info about tweets file"
      ],
      "metadata": {
        "id": "FKNzPK236Qr0"
      }
    },
    {
      "cell_type": "code",
      "execution_count": null,
      "metadata": {
        "colab": {
          "base_uri": "https://localhost:8080/",
          "height": 250
        },
        "id": "6K1QxQDnh65B",
        "outputId": "cfe01646-2878-44c7-912b-4ccccdf62c4c"
      },
      "outputs": [
        {
          "output_type": "execute_result",
          "data": {
            "text/plain": [
              "                   id     user_id retweet_count reply_count favorite_count  \\\n",
              "0  509354017856950272   327746321             0           0              0   \n",
              "1  583002592529121280   333722906             1           0              0   \n",
              "2  461498835362013185  2379755827             0           0              0   \n",
              "3  528808127366692864   466226882             0           0              0   \n",
              "4  575336690904006656  1355537995           114           0              0   \n",
              "\n",
              "  num_hashtags num_urls num_mentions           created_at  \\\n",
              "0            0        0            0  2019-09-11 14:53:55   \n",
              "1            0        0            1  2020-04-01 20:27:04   \n",
              "2            0        0            1  2019-05-02 13:34:31   \n",
              "3            0        0            0  2019-11-04 07:17:37   \n",
              "4            1        0            1  2020-03-11 16:45:31   \n",
              "\n",
              "                                                text  \n",
              "0  If man is a little lower than angels, then ang...  \n",
              "1  \"@BestWSHHVids: how do you say these words wit...  \n",
              "2                                @LOLatComedy awsome  \n",
              "3  Stephen Hawkins: i buchi neri non esistono se ...  \n",
              "4        RT @tibbs_montris: So ready for Wednesday!   "
            ],
            "text/html": [
              "\n",
              "  <div id=\"df-9298de65-684b-4ad3-a044-adfd5dd4de9a\">\n",
              "    <div class=\"colab-df-container\">\n",
              "      <div>\n",
              "<style scoped>\n",
              "    .dataframe tbody tr th:only-of-type {\n",
              "        vertical-align: middle;\n",
              "    }\n",
              "\n",
              "    .dataframe tbody tr th {\n",
              "        vertical-align: top;\n",
              "    }\n",
              "\n",
              "    .dataframe thead th {\n",
              "        text-align: right;\n",
              "    }\n",
              "</style>\n",
              "<table border=\"1\" class=\"dataframe\">\n",
              "  <thead>\n",
              "    <tr style=\"text-align: right;\">\n",
              "      <th></th>\n",
              "      <th>id</th>\n",
              "      <th>user_id</th>\n",
              "      <th>retweet_count</th>\n",
              "      <th>reply_count</th>\n",
              "      <th>favorite_count</th>\n",
              "      <th>num_hashtags</th>\n",
              "      <th>num_urls</th>\n",
              "      <th>num_mentions</th>\n",
              "      <th>created_at</th>\n",
              "      <th>text</th>\n",
              "    </tr>\n",
              "  </thead>\n",
              "  <tbody>\n",
              "    <tr>\n",
              "      <th>0</th>\n",
              "      <td>509354017856950272</td>\n",
              "      <td>327746321</td>\n",
              "      <td>0</td>\n",
              "      <td>0</td>\n",
              "      <td>0</td>\n",
              "      <td>0</td>\n",
              "      <td>0</td>\n",
              "      <td>0</td>\n",
              "      <td>2019-09-11 14:53:55</td>\n",
              "      <td>If man is a little lower than angels, then ang...</td>\n",
              "    </tr>\n",
              "    <tr>\n",
              "      <th>1</th>\n",
              "      <td>583002592529121280</td>\n",
              "      <td>333722906</td>\n",
              "      <td>1</td>\n",
              "      <td>0</td>\n",
              "      <td>0</td>\n",
              "      <td>0</td>\n",
              "      <td>0</td>\n",
              "      <td>1</td>\n",
              "      <td>2020-04-01 20:27:04</td>\n",
              "      <td>\"@BestWSHHVids: how do you say these words wit...</td>\n",
              "    </tr>\n",
              "    <tr>\n",
              "      <th>2</th>\n",
              "      <td>461498835362013185</td>\n",
              "      <td>2379755827</td>\n",
              "      <td>0</td>\n",
              "      <td>0</td>\n",
              "      <td>0</td>\n",
              "      <td>0</td>\n",
              "      <td>0</td>\n",
              "      <td>1</td>\n",
              "      <td>2019-05-02 13:34:31</td>\n",
              "      <td>@LOLatComedy awsome</td>\n",
              "    </tr>\n",
              "    <tr>\n",
              "      <th>3</th>\n",
              "      <td>528808127366692864</td>\n",
              "      <td>466226882</td>\n",
              "      <td>0</td>\n",
              "      <td>0</td>\n",
              "      <td>0</td>\n",
              "      <td>0</td>\n",
              "      <td>0</td>\n",
              "      <td>0</td>\n",
              "      <td>2019-11-04 07:17:37</td>\n",
              "      <td>Stephen Hawkins: i buchi neri non esistono se ...</td>\n",
              "    </tr>\n",
              "    <tr>\n",
              "      <th>4</th>\n",
              "      <td>575336690904006656</td>\n",
              "      <td>1355537995</td>\n",
              "      <td>114</td>\n",
              "      <td>0</td>\n",
              "      <td>0</td>\n",
              "      <td>1</td>\n",
              "      <td>0</td>\n",
              "      <td>1</td>\n",
              "      <td>2020-03-11 16:45:31</td>\n",
              "      <td>RT @tibbs_montris: So ready for Wednesday!</td>\n",
              "    </tr>\n",
              "  </tbody>\n",
              "</table>\n",
              "</div>\n",
              "      <button class=\"colab-df-convert\" onclick=\"convertToInteractive('df-9298de65-684b-4ad3-a044-adfd5dd4de9a')\"\n",
              "              title=\"Convert this dataframe to an interactive table.\"\n",
              "              style=\"display:none;\">\n",
              "        \n",
              "  <svg xmlns=\"http://www.w3.org/2000/svg\" height=\"24px\"viewBox=\"0 0 24 24\"\n",
              "       width=\"24px\">\n",
              "    <path d=\"M0 0h24v24H0V0z\" fill=\"none\"/>\n",
              "    <path d=\"M18.56 5.44l.94 2.06.94-2.06 2.06-.94-2.06-.94-.94-2.06-.94 2.06-2.06.94zm-11 1L8.5 8.5l.94-2.06 2.06-.94-2.06-.94L8.5 2.5l-.94 2.06-2.06.94zm10 10l.94 2.06.94-2.06 2.06-.94-2.06-.94-.94-2.06-.94 2.06-2.06.94z\"/><path d=\"M17.41 7.96l-1.37-1.37c-.4-.4-.92-.59-1.43-.59-.52 0-1.04.2-1.43.59L10.3 9.45l-7.72 7.72c-.78.78-.78 2.05 0 2.83L4 21.41c.39.39.9.59 1.41.59.51 0 1.02-.2 1.41-.59l7.78-7.78 2.81-2.81c.8-.78.8-2.07 0-2.86zM5.41 20L4 18.59l7.72-7.72 1.47 1.35L5.41 20z\"/>\n",
              "  </svg>\n",
              "      </button>\n",
              "      \n",
              "  <style>\n",
              "    .colab-df-container {\n",
              "      display:flex;\n",
              "      flex-wrap:wrap;\n",
              "      gap: 12px;\n",
              "    }\n",
              "\n",
              "    .colab-df-convert {\n",
              "      background-color: #E8F0FE;\n",
              "      border: none;\n",
              "      border-radius: 50%;\n",
              "      cursor: pointer;\n",
              "      display: none;\n",
              "      fill: #1967D2;\n",
              "      height: 32px;\n",
              "      padding: 0 0 0 0;\n",
              "      width: 32px;\n",
              "    }\n",
              "\n",
              "    .colab-df-convert:hover {\n",
              "      background-color: #E2EBFA;\n",
              "      box-shadow: 0px 1px 2px rgba(60, 64, 67, 0.3), 0px 1px 3px 1px rgba(60, 64, 67, 0.15);\n",
              "      fill: #174EA6;\n",
              "    }\n",
              "\n",
              "    [theme=dark] .colab-df-convert {\n",
              "      background-color: #3B4455;\n",
              "      fill: #D2E3FC;\n",
              "    }\n",
              "\n",
              "    [theme=dark] .colab-df-convert:hover {\n",
              "      background-color: #434B5C;\n",
              "      box-shadow: 0px 1px 3px 1px rgba(0, 0, 0, 0.15);\n",
              "      filter: drop-shadow(0px 1px 2px rgba(0, 0, 0, 0.3));\n",
              "      fill: #FFFFFF;\n",
              "    }\n",
              "  </style>\n",
              "\n",
              "      <script>\n",
              "        const buttonEl =\n",
              "          document.querySelector('#df-9298de65-684b-4ad3-a044-adfd5dd4de9a button.colab-df-convert');\n",
              "        buttonEl.style.display =\n",
              "          google.colab.kernel.accessAllowed ? 'block' : 'none';\n",
              "\n",
              "        async function convertToInteractive(key) {\n",
              "          const element = document.querySelector('#df-9298de65-684b-4ad3-a044-adfd5dd4de9a');\n",
              "          const dataTable =\n",
              "            await google.colab.kernel.invokeFunction('convertToInteractive',\n",
              "                                                     [key], {});\n",
              "          if (!dataTable) return;\n",
              "\n",
              "          const docLinkHtml = 'Like what you see? Visit the ' +\n",
              "            '<a target=\"_blank\" href=https://colab.research.google.com/notebooks/data_table.ipynb>data table notebook</a>'\n",
              "            + ' to learn more about interactive tables.';\n",
              "          element.innerHTML = '';\n",
              "          dataTable['output_type'] = 'display_data';\n",
              "          await google.colab.output.renderOutput(dataTable, element);\n",
              "          const docLink = document.createElement('div');\n",
              "          docLink.innerHTML = docLinkHtml;\n",
              "          element.appendChild(docLink);\n",
              "        }\n",
              "      </script>\n",
              "    </div>\n",
              "  </div>\n",
              "  "
            ]
          },
          "metadata": {},
          "execution_count": 17
        }
      ],
      "source": [
        "df_tweets.head()"
      ]
    },
    {
      "cell_type": "code",
      "execution_count": null,
      "metadata": {
        "colab": {
          "base_uri": "https://localhost:8080/"
        },
        "id": "bZfdvzMejsEe",
        "outputId": "af2ddaca-b63e-4f2e-95a4-cda3d8089b81"
      },
      "outputs": [
        {
          "output_type": "stream",
          "name": "stderr",
          "text": [
            "/usr/local/lib/python3.7/dist-packages/ipykernel_launcher.py:1: FutureWarning: null_counts is deprecated. Use show_counts instead\n",
            "  \"\"\"Entry point for launching an IPython kernel.\n"
          ]
        },
        {
          "output_type": "stream",
          "name": "stdout",
          "text": [
            "<class 'pandas.core.frame.DataFrame'>\n",
            "RangeIndex: 13664696 entries, 0 to 13664695\n",
            "Data columns (total 10 columns):\n",
            " #   Column          Non-Null Count     Dtype \n",
            "---  ------          --------------     ----- \n",
            " 0   id              13664694 non-null  object\n",
            " 1   user_id         13447413 non-null  object\n",
            " 2   retweet_count   13227562 non-null  object\n",
            " 3   reply_count     13016818 non-null  object\n",
            " 4   favorite_count  13017154 non-null  object\n",
            " 5   num_hashtags    12607172 non-null  object\n",
            " 6   num_urls        13016073 non-null  object\n",
            " 7   num_mentions    12810531 non-null  object\n",
            " 8   created_at      13664696 non-null  object\n",
            " 9   text            13126975 non-null  object\n",
            "dtypes: object(10)\n",
            "memory usage: 1.0+ GB\n"
          ]
        }
      ],
      "source": [
        "df_tweets.info(null_counts=True)"
      ]
    },
    {
      "cell_type": "code",
      "execution_count": null,
      "metadata": {
        "colab": {
          "base_uri": "https://localhost:8080/"
        },
        "id": "AtL8X7Furq0Z",
        "outputId": "c64b923d-e39c-427a-c71e-ed5334e74318"
      },
      "outputs": [
        {
          "output_type": "execute_result",
          "data": {
            "text/plain": [
              "136646960"
            ]
          },
          "metadata": {},
          "execution_count": 19
        }
      ],
      "source": [
        "df_tweets.size"
      ]
    },
    {
      "cell_type": "markdown",
      "metadata": {
        "id": "sYlgLjiB2d4P"
      },
      "source": [
        "## Verifica esistenza record duplicati"
      ]
    },
    {
      "cell_type": "code",
      "execution_count": null,
      "metadata": {
        "colab": {
          "base_uri": "https://localhost:8080/"
        },
        "id": "-3ywwV6CoQ1V",
        "outputId": "fb56e3a5-2706-4283-dceb-f0fa6a666a3b",
        "pycharm": {
          "is_executing": true
        }
      },
      "outputs": [
        {
          "output_type": "execute_result",
          "data": {
            "text/plain": [
              "False    11712597\n",
              "True      1952099\n",
              "dtype: int64"
            ]
          },
          "metadata": {},
          "execution_count": 5
        }
      ],
      "source": [
        "df_tweets_dupl = df_tweets.duplicated()\n",
        "df_tweets_dupl.value_counts()"
      ]
    },
    {
      "cell_type": "markdown",
      "metadata": {
        "id": "vA33mzZ32d4Z"
      },
      "source": [
        "## Drop duplicates"
      ]
    },
    {
      "cell_type": "code",
      "execution_count": null,
      "metadata": {
        "colab": {
          "base_uri": "https://localhost:8080/"
        },
        "id": "jeE9lroMqmTv",
        "outputId": "1a998960-954c-4fee-cdde-2cc5f6817dd0",
        "pycharm": {
          "is_executing": true
        }
      },
      "outputs": [
        {
          "output_type": "execute_result",
          "data": {
            "text/plain": [
              "11712597"
            ]
          },
          "metadata": {},
          "execution_count": 7
        }
      ],
      "source": [
        "df_tweets_clear = df_tweets.drop_duplicates(keep = 'first')\n",
        "df_tweets_clear.shape[0]"
      ]
    },
    {
      "cell_type": "code",
      "execution_count": null,
      "metadata": {
        "colab": {
          "base_uri": "https://localhost:8080/"
        },
        "id": "PO_ZZg6ylV1Y",
        "outputId": "f78ea00b-13b1-405d-e100-94ba06c23ffb",
        "pycharm": {
          "is_executing": true
        }
      },
      "outputs": [
        {
          "output_type": "stream",
          "name": "stderr",
          "text": [
            "/usr/local/lib/python3.7/dist-packages/ipykernel_launcher.py:1: FutureWarning: null_counts is deprecated. Use show_counts instead\n",
            "  \"\"\"Entry point for launching an IPython kernel.\n"
          ]
        },
        {
          "output_type": "stream",
          "name": "stdout",
          "text": [
            "<class 'pandas.core.frame.DataFrame'>\n",
            "Int64Index: 11712597 entries, 0 to 13664695\n",
            "Data columns (total 10 columns):\n",
            " #   Column          Non-Null Count     Dtype \n",
            "---  ------          --------------     ----- \n",
            " 0   id              11712595 non-null  object\n",
            " 1   user_id         11495314 non-null  object\n",
            " 2   retweet_count   11275463 non-null  object\n",
            " 3   reply_count     11064719 non-null  object\n",
            " 4   favorite_count  11065055 non-null  object\n",
            " 5   num_hashtags    10655073 non-null  object\n",
            " 6   num_urls        11063974 non-null  object\n",
            " 7   num_mentions    10858432 non-null  object\n",
            " 8   created_at      11712597 non-null  object\n",
            " 9   text            11182415 non-null  object\n",
            "dtypes: object(10)\n",
            "memory usage: 983.0+ MB\n"
          ]
        }
      ],
      "source": [
        "df_tweets_clear.info(null_counts=True)"
      ]
    },
    {
      "cell_type": "markdown",
      "metadata": {
        "id": "N3oq8dws2d4e"
      },
      "source": [
        "## Verifica di duplicati su un sottoinsieme di colonne"
      ]
    },
    {
      "cell_type": "code",
      "execution_count": null,
      "metadata": {
        "colab": {
          "base_uri": "https://localhost:8080/"
        },
        "id": "E5Ogiw_7uTO7",
        "outputId": "ffbce5a0-9b76-4682-cea6-70895ae6b310",
        "pycharm": {
          "is_executing": true
        }
      },
      "outputs": [
        {
          "output_type": "execute_result",
          "data": {
            "text/plain": [
              "False    11672136\n",
              "True        40461\n",
              "dtype: int64"
            ]
          },
          "metadata": {},
          "execution_count": 23
        }
      ],
      "source": [
        "df_tweets_dupl = df_tweets_clear.duplicated(subset=['id']) # Stesso id\n",
        "df_tweets_dupl.value_counts()"
      ]
    },
    {
      "cell_type": "code",
      "execution_count": null,
      "metadata": {
        "colab": {
          "base_uri": "https://localhost:8080/"
        },
        "id": "v-X0Cv1au95m",
        "outputId": "542bf5a6-445c-46be-a47a-8bb11b99be80",
        "pycharm": {
          "is_executing": true
        }
      },
      "outputs": [
        {
          "output_type": "execute_result",
          "data": {
            "text/plain": [
              "False    11712237\n",
              "True          360\n",
              "dtype: int64"
            ]
          },
          "metadata": {},
          "execution_count": 24
        }
      ],
      "source": [
        "df_tweets_dupl = df_tweets_clear.duplicated(subset=['id', 'user_id']) # Stesso id e stesso user_id\n",
        "df_tweets_dupl.value_counts()"
      ]
    },
    {
      "cell_type": "code",
      "execution_count": null,
      "metadata": {
        "colab": {
          "base_uri": "https://localhost:8080/"
        },
        "id": "6MwOboRjwcR5",
        "outputId": "ab7d8e75-d2ef-4301-aef4-906151bc4f00",
        "pycharm": {
          "is_executing": true
        }
      },
      "outputs": [
        {
          "output_type": "execute_result",
          "data": {
            "text/plain": [
              "False    11712336\n",
              "True          261\n",
              "dtype: int64"
            ]
          },
          "metadata": {},
          "execution_count": 25
        }
      ],
      "source": [
        "df_tweets_dupl = df_tweets_clear.duplicated(subset=['id', 'user_id', 'text']) # Stessi id, user_id e testo\n",
        "df_tweets_dupl.value_counts()"
      ]
    },
    {
      "cell_type": "code",
      "execution_count": null,
      "metadata": {
        "colab": {
          "base_uri": "https://localhost:8080/"
        },
        "id": "hgchbFmjwszo",
        "outputId": "49604d9b-bf38-49ed-a2c2-170165ade286",
        "pycharm": {
          "is_executing": true
        }
      },
      "outputs": [
        {
          "output_type": "execute_result",
          "data": {
            "text/plain": [
              "False    11712597\n",
              "dtype: int64"
            ]
          },
          "metadata": {},
          "execution_count": 26
        }
      ],
      "source": [
        "df_tweets_dupl = df_tweets_clear.duplicated(subset=['id', 'user_id', 'created_at', 'text']) # Stessi id, user_id, testo e data di creazione\n",
        "df_tweets_dupl.value_counts()"
      ]
    },
    {
      "cell_type": "code",
      "execution_count": null,
      "metadata": {
        "id": "3OhOSoAJzQRT",
        "pycharm": {
          "is_executing": true
        }
      },
      "outputs": [],
      "source": [
        "df_tweets_dupl =df_tweets_clear[df_tweets_clear.duplicated(subset=['id', 'user_id','text'])]"
      ]
    },
    {
      "cell_type": "code",
      "source": [
        "df_tweets_dupl.info()"
      ],
      "metadata": {
        "colab": {
          "base_uri": "https://localhost:8080/"
        },
        "id": "P7vDm2tG7rvD",
        "outputId": "f1789593-301d-4f62-c9d3-c71056faddd1"
      },
      "execution_count": null,
      "outputs": [
        {
          "output_type": "stream",
          "name": "stdout",
          "text": [
            "<class 'pandas.core.frame.DataFrame'>\n",
            "Int64Index: 261 entries, 280761 to 13607558\n",
            "Data columns (total 10 columns):\n",
            " #   Column          Non-Null Count  Dtype \n",
            "---  ------          --------------  ----- \n",
            " 0   id              261 non-null    object\n",
            " 1   user_id         12 non-null     object\n",
            " 2   retweet_count   142 non-null    object\n",
            " 3   reply_count     51 non-null     object\n",
            " 4   favorite_count  76 non-null     object\n",
            " 5   num_hashtags    0 non-null      object\n",
            " 6   num_urls        56 non-null     object\n",
            " 7   num_mentions    0 non-null      object\n",
            " 8   created_at      261 non-null    object\n",
            " 9   text            0 non-null      object\n",
            "dtypes: object(10)\n",
            "memory usage: 22.4+ KB\n"
          ]
        }
      ]
    },
    {
      "cell_type": "markdown",
      "metadata": {
        "id": "DsGZ9tns2d4m"
      },
      "source": [
        "## Data la presenza di molteplici valori nulli tra i duplicati secondo le colonne [id, user_id, text] verifichiamo la corrispondenza di tweet con lo user_id non nullo con la tabella users"
      ]
    },
    {
      "cell_type": "code",
      "execution_count": null,
      "metadata": {
        "colab": {
          "base_uri": "https://localhost:8080/"
        },
        "id": "GvAclqDxzVy9",
        "outputId": "afb456b7-1f2e-4aae-bd3f-93738f714b38",
        "pycharm": {
          "is_executing": true
        }
      },
      "outputs": [
        {
          "output_type": "stream",
          "name": "stdout",
          "text": [
            "<class 'pandas.core.frame.DataFrame'>\n",
            "Int64Index: 12 entries, 4515945 to 13484983\n",
            "Data columns (total 10 columns):\n",
            " #   Column          Non-Null Count  Dtype \n",
            "---  ------          --------------  ----- \n",
            " 0   id              12 non-null     object\n",
            " 1   user_id         12 non-null     object\n",
            " 2   retweet_count   5 non-null      object\n",
            " 3   reply_count     3 non-null      object\n",
            " 4   favorite_count  2 non-null      object\n",
            " 5   num_hashtags    0 non-null      object\n",
            " 6   num_urls        2 non-null      object\n",
            " 7   num_mentions    0 non-null      object\n",
            " 8   created_at      12 non-null     object\n",
            " 9   text            0 non-null      object\n",
            "dtypes: object(10)\n",
            "memory usage: 1.0+ KB\n"
          ]
        }
      ],
      "source": [
        "df_nonnull_users = df_tweets_dupl[df_tweets_dupl['user_id'].isnull() == False] # Solo 12 user_id sono avvalorati nei duplicati\n",
        "df_nonnull_users.info()"
      ]
    },
    {
      "cell_type": "code",
      "execution_count": null,
      "metadata": {
        "id": "84zjvX26IiIW",
        "pycharm": {
          "is_executing": true
        }
      },
      "outputs": [],
      "source": [
        "df_nonnull_users.user_id = pd.to_numeric(df_nonnull_users.user_id) # transform column to int values from object\n",
        "df_nonnull_users.merge(df_users, left_on='user_id', right_on='id') # merge with users table"
      ]
    },
    {
      "cell_type": "markdown",
      "source": [
        "All users have a correspondance with users in the users file "
      ],
      "metadata": {
        "id": "rRgxG69i9N9Q"
      }
    },
    {
      "cell_type": "markdown",
      "metadata": {
        "id": "Y_71hX1d2d4r"
      },
      "source": [
        "## Eliminazione delle righe ripetute secondo il pattern sopracitato aventi lo user_id nullo"
      ]
    },
    {
      "cell_type": "code",
      "execution_count": null,
      "metadata": {
        "pycharm": {
          "is_executing": true
        },
        "id": "I_b2L6Ie2d4s"
      },
      "outputs": [],
      "source": [
        "df_tweets_more_clear = df_tweets_clear[df_tweets_clear.duplicated(subset=['id', 'user_id','text'])]"
      ]
    },
    {
      "cell_type": "code",
      "execution_count": null,
      "metadata": {
        "pycharm": {
          "is_executing": true
        },
        "colab": {
          "base_uri": "https://localhost:8080/"
        },
        "id": "phjs1UYB2d4t",
        "outputId": "7838c6dd-1b7f-40f4-f9c1-7b842c619b8d"
      },
      "outputs": [
        {
          "output_type": "stream",
          "name": "stdout",
          "text": [
            "<class 'pandas.core.frame.DataFrame'>\n",
            "Int64Index: 261 entries, 280761 to 13607558\n",
            "Data columns (total 10 columns):\n",
            " #   Column          Non-Null Count  Dtype \n",
            "---  ------          --------------  ----- \n",
            " 0   id              261 non-null    object\n",
            " 1   user_id         12 non-null     object\n",
            " 2   retweet_count   142 non-null    object\n",
            " 3   reply_count     51 non-null     object\n",
            " 4   favorite_count  76 non-null     object\n",
            " 5   num_hashtags    0 non-null      object\n",
            " 6   num_urls        56 non-null     object\n",
            " 7   num_mentions    0 non-null      object\n",
            " 8   created_at      261 non-null    object\n",
            " 9   text            0 non-null      object\n",
            "dtypes: object(10)\n",
            "memory usage: 22.4+ KB\n"
          ]
        }
      ],
      "source": [
        "df_tweets_more_clear.info()"
      ]
    },
    {
      "cell_type": "markdown",
      "source": [
        "Check null user_id values"
      ],
      "metadata": {
        "id": "zonPDqwS_DUF"
      }
    },
    {
      "cell_type": "code",
      "execution_count": null,
      "metadata": {
        "pycharm": {
          "is_executing": true
        },
        "colab": {
          "base_uri": "https://localhost:8080/",
          "height": 424
        },
        "id": "t4dN6YKY2d4u",
        "outputId": "c8b1fbb1-76d1-4639-e33d-0ae94a9553a9"
      },
      "outputs": [
        {
          "output_type": "execute_result",
          "data": {
            "text/plain": [
              "            id user_id retweet_count reply_count favorite_count num_hashtags  \\\n",
              "280761     mxi     NaN             0         NaN            0.0          NaN   \n",
              "515406     mxi     NaN             2         NaN            0.0          NaN   \n",
              "573128     srq     NaN           NaN         NaN            NaN          NaN   \n",
              "1706009    xiu     NaN           NaN         NaN            NaN          NaN   \n",
              "1787554   crks     NaN             0         NaN            NaN          NaN   \n",
              "...        ...     ...           ...         ...            ...          ...   \n",
              "13554922   cxz     NaN           NaN         NaN            NaN          NaN   \n",
              "13557755   ngd     NaN           NaN         NaN            NaN          NaN   \n",
              "13561775   qyt     NaN             0         NaN            0.0          NaN   \n",
              "13593848   uru     NaN             0         NaN            NaN          NaN   \n",
              "13607558   juo     NaN             0         0.0            NaN          NaN   \n",
              "\n",
              "         num_urls num_mentions           created_at text  \n",
              "280761        1.0          NaN  2019-09-14 20:47:29  NaN  \n",
              "515406        0.0          NaN  2020-03-22 04:55:02  NaN  \n",
              "573128        0.0          NaN  2020-02-24 22:11:05  NaN  \n",
              "1706009       NaN          NaN  2019-09-21 14:12:26  NaN  \n",
              "1787554       NaN          NaN  2020-04-17 16:52:26  NaN  \n",
              "...           ...          ...                  ...  ...  \n",
              "13554922      NaN          NaN  2019-09-13 07:19:42  NaN  \n",
              "13557755      0.0          NaN  2019-11-01 16:21:42  NaN  \n",
              "13561775      0.0          NaN  2019-11-03 11:50:00  NaN  \n",
              "13593848      NaN          NaN  2020-03-27 01:57:35  NaN  \n",
              "13607558      NaN          NaN  2020-04-08 01:43:52  NaN  \n",
              "\n",
              "[249 rows x 10 columns]"
            ],
            "text/html": [
              "\n",
              "  <div id=\"df-6470d259-343e-428b-b39b-e6380dc6b232\">\n",
              "    <div class=\"colab-df-container\">\n",
              "      <div>\n",
              "<style scoped>\n",
              "    .dataframe tbody tr th:only-of-type {\n",
              "        vertical-align: middle;\n",
              "    }\n",
              "\n",
              "    .dataframe tbody tr th {\n",
              "        vertical-align: top;\n",
              "    }\n",
              "\n",
              "    .dataframe thead th {\n",
              "        text-align: right;\n",
              "    }\n",
              "</style>\n",
              "<table border=\"1\" class=\"dataframe\">\n",
              "  <thead>\n",
              "    <tr style=\"text-align: right;\">\n",
              "      <th></th>\n",
              "      <th>id</th>\n",
              "      <th>user_id</th>\n",
              "      <th>retweet_count</th>\n",
              "      <th>reply_count</th>\n",
              "      <th>favorite_count</th>\n",
              "      <th>num_hashtags</th>\n",
              "      <th>num_urls</th>\n",
              "      <th>num_mentions</th>\n",
              "      <th>created_at</th>\n",
              "      <th>text</th>\n",
              "    </tr>\n",
              "  </thead>\n",
              "  <tbody>\n",
              "    <tr>\n",
              "      <th>280761</th>\n",
              "      <td>mxi</td>\n",
              "      <td>NaN</td>\n",
              "      <td>0</td>\n",
              "      <td>NaN</td>\n",
              "      <td>0.0</td>\n",
              "      <td>NaN</td>\n",
              "      <td>1.0</td>\n",
              "      <td>NaN</td>\n",
              "      <td>2019-09-14 20:47:29</td>\n",
              "      <td>NaN</td>\n",
              "    </tr>\n",
              "    <tr>\n",
              "      <th>515406</th>\n",
              "      <td>mxi</td>\n",
              "      <td>NaN</td>\n",
              "      <td>2</td>\n",
              "      <td>NaN</td>\n",
              "      <td>0.0</td>\n",
              "      <td>NaN</td>\n",
              "      <td>0.0</td>\n",
              "      <td>NaN</td>\n",
              "      <td>2020-03-22 04:55:02</td>\n",
              "      <td>NaN</td>\n",
              "    </tr>\n",
              "    <tr>\n",
              "      <th>573128</th>\n",
              "      <td>srq</td>\n",
              "      <td>NaN</td>\n",
              "      <td>NaN</td>\n",
              "      <td>NaN</td>\n",
              "      <td>NaN</td>\n",
              "      <td>NaN</td>\n",
              "      <td>0.0</td>\n",
              "      <td>NaN</td>\n",
              "      <td>2020-02-24 22:11:05</td>\n",
              "      <td>NaN</td>\n",
              "    </tr>\n",
              "    <tr>\n",
              "      <th>1706009</th>\n",
              "      <td>xiu</td>\n",
              "      <td>NaN</td>\n",
              "      <td>NaN</td>\n",
              "      <td>NaN</td>\n",
              "      <td>NaN</td>\n",
              "      <td>NaN</td>\n",
              "      <td>NaN</td>\n",
              "      <td>NaN</td>\n",
              "      <td>2019-09-21 14:12:26</td>\n",
              "      <td>NaN</td>\n",
              "    </tr>\n",
              "    <tr>\n",
              "      <th>1787554</th>\n",
              "      <td>crks</td>\n",
              "      <td>NaN</td>\n",
              "      <td>0</td>\n",
              "      <td>NaN</td>\n",
              "      <td>NaN</td>\n",
              "      <td>NaN</td>\n",
              "      <td>NaN</td>\n",
              "      <td>NaN</td>\n",
              "      <td>2020-04-17 16:52:26</td>\n",
              "      <td>NaN</td>\n",
              "    </tr>\n",
              "    <tr>\n",
              "      <th>...</th>\n",
              "      <td>...</td>\n",
              "      <td>...</td>\n",
              "      <td>...</td>\n",
              "      <td>...</td>\n",
              "      <td>...</td>\n",
              "      <td>...</td>\n",
              "      <td>...</td>\n",
              "      <td>...</td>\n",
              "      <td>...</td>\n",
              "      <td>...</td>\n",
              "    </tr>\n",
              "    <tr>\n",
              "      <th>13554922</th>\n",
              "      <td>cxz</td>\n",
              "      <td>NaN</td>\n",
              "      <td>NaN</td>\n",
              "      <td>NaN</td>\n",
              "      <td>NaN</td>\n",
              "      <td>NaN</td>\n",
              "      <td>NaN</td>\n",
              "      <td>NaN</td>\n",
              "      <td>2019-09-13 07:19:42</td>\n",
              "      <td>NaN</td>\n",
              "    </tr>\n",
              "    <tr>\n",
              "      <th>13557755</th>\n",
              "      <td>ngd</td>\n",
              "      <td>NaN</td>\n",
              "      <td>NaN</td>\n",
              "      <td>NaN</td>\n",
              "      <td>NaN</td>\n",
              "      <td>NaN</td>\n",
              "      <td>0.0</td>\n",
              "      <td>NaN</td>\n",
              "      <td>2019-11-01 16:21:42</td>\n",
              "      <td>NaN</td>\n",
              "    </tr>\n",
              "    <tr>\n",
              "      <th>13561775</th>\n",
              "      <td>qyt</td>\n",
              "      <td>NaN</td>\n",
              "      <td>0</td>\n",
              "      <td>NaN</td>\n",
              "      <td>0.0</td>\n",
              "      <td>NaN</td>\n",
              "      <td>0.0</td>\n",
              "      <td>NaN</td>\n",
              "      <td>2019-11-03 11:50:00</td>\n",
              "      <td>NaN</td>\n",
              "    </tr>\n",
              "    <tr>\n",
              "      <th>13593848</th>\n",
              "      <td>uru</td>\n",
              "      <td>NaN</td>\n",
              "      <td>0</td>\n",
              "      <td>NaN</td>\n",
              "      <td>NaN</td>\n",
              "      <td>NaN</td>\n",
              "      <td>NaN</td>\n",
              "      <td>NaN</td>\n",
              "      <td>2020-03-27 01:57:35</td>\n",
              "      <td>NaN</td>\n",
              "    </tr>\n",
              "    <tr>\n",
              "      <th>13607558</th>\n",
              "      <td>juo</td>\n",
              "      <td>NaN</td>\n",
              "      <td>0</td>\n",
              "      <td>0.0</td>\n",
              "      <td>NaN</td>\n",
              "      <td>NaN</td>\n",
              "      <td>NaN</td>\n",
              "      <td>NaN</td>\n",
              "      <td>2020-04-08 01:43:52</td>\n",
              "      <td>NaN</td>\n",
              "    </tr>\n",
              "  </tbody>\n",
              "</table>\n",
              "<p>249 rows × 10 columns</p>\n",
              "</div>\n",
              "      <button class=\"colab-df-convert\" onclick=\"convertToInteractive('df-6470d259-343e-428b-b39b-e6380dc6b232')\"\n",
              "              title=\"Convert this dataframe to an interactive table.\"\n",
              "              style=\"display:none;\">\n",
              "        \n",
              "  <svg xmlns=\"http://www.w3.org/2000/svg\" height=\"24px\"viewBox=\"0 0 24 24\"\n",
              "       width=\"24px\">\n",
              "    <path d=\"M0 0h24v24H0V0z\" fill=\"none\"/>\n",
              "    <path d=\"M18.56 5.44l.94 2.06.94-2.06 2.06-.94-2.06-.94-.94-2.06-.94 2.06-2.06.94zm-11 1L8.5 8.5l.94-2.06 2.06-.94-2.06-.94L8.5 2.5l-.94 2.06-2.06.94zm10 10l.94 2.06.94-2.06 2.06-.94-2.06-.94-.94-2.06-.94 2.06-2.06.94z\"/><path d=\"M17.41 7.96l-1.37-1.37c-.4-.4-.92-.59-1.43-.59-.52 0-1.04.2-1.43.59L10.3 9.45l-7.72 7.72c-.78.78-.78 2.05 0 2.83L4 21.41c.39.39.9.59 1.41.59.51 0 1.02-.2 1.41-.59l7.78-7.78 2.81-2.81c.8-.78.8-2.07 0-2.86zM5.41 20L4 18.59l7.72-7.72 1.47 1.35L5.41 20z\"/>\n",
              "  </svg>\n",
              "      </button>\n",
              "      \n",
              "  <style>\n",
              "    .colab-df-container {\n",
              "      display:flex;\n",
              "      flex-wrap:wrap;\n",
              "      gap: 12px;\n",
              "    }\n",
              "\n",
              "    .colab-df-convert {\n",
              "      background-color: #E8F0FE;\n",
              "      border: none;\n",
              "      border-radius: 50%;\n",
              "      cursor: pointer;\n",
              "      display: none;\n",
              "      fill: #1967D2;\n",
              "      height: 32px;\n",
              "      padding: 0 0 0 0;\n",
              "      width: 32px;\n",
              "    }\n",
              "\n",
              "    .colab-df-convert:hover {\n",
              "      background-color: #E2EBFA;\n",
              "      box-shadow: 0px 1px 2px rgba(60, 64, 67, 0.3), 0px 1px 3px 1px rgba(60, 64, 67, 0.15);\n",
              "      fill: #174EA6;\n",
              "    }\n",
              "\n",
              "    [theme=dark] .colab-df-convert {\n",
              "      background-color: #3B4455;\n",
              "      fill: #D2E3FC;\n",
              "    }\n",
              "\n",
              "    [theme=dark] .colab-df-convert:hover {\n",
              "      background-color: #434B5C;\n",
              "      box-shadow: 0px 1px 3px 1px rgba(0, 0, 0, 0.15);\n",
              "      filter: drop-shadow(0px 1px 2px rgba(0, 0, 0, 0.3));\n",
              "      fill: #FFFFFF;\n",
              "    }\n",
              "  </style>\n",
              "\n",
              "      <script>\n",
              "        const buttonEl =\n",
              "          document.querySelector('#df-6470d259-343e-428b-b39b-e6380dc6b232 button.colab-df-convert');\n",
              "        buttonEl.style.display =\n",
              "          google.colab.kernel.accessAllowed ? 'block' : 'none';\n",
              "\n",
              "        async function convertToInteractive(key) {\n",
              "          const element = document.querySelector('#df-6470d259-343e-428b-b39b-e6380dc6b232');\n",
              "          const dataTable =\n",
              "            await google.colab.kernel.invokeFunction('convertToInteractive',\n",
              "                                                     [key], {});\n",
              "          if (!dataTable) return;\n",
              "\n",
              "          const docLinkHtml = 'Like what you see? Visit the ' +\n",
              "            '<a target=\"_blank\" href=https://colab.research.google.com/notebooks/data_table.ipynb>data table notebook</a>'\n",
              "            + ' to learn more about interactive tables.';\n",
              "          element.innerHTML = '';\n",
              "          dataTable['output_type'] = 'display_data';\n",
              "          await google.colab.output.renderOutput(dataTable, element);\n",
              "          const docLink = document.createElement('div');\n",
              "          docLink.innerHTML = docLinkHtml;\n",
              "          element.appendChild(docLink);\n",
              "        }\n",
              "      </script>\n",
              "    </div>\n",
              "  </div>\n",
              "  "
            ]
          },
          "metadata": {},
          "execution_count": 38
        }
      ],
      "source": [
        "df_tweets_more_clear[df_tweets_more_clear['user_id'].isnull() == True]"
      ]
    },
    {
      "cell_type": "markdown",
      "source": [
        "Drop all records where user_id is null"
      ],
      "metadata": {
        "id": "w4VbyA0_AS2d"
      }
    },
    {
      "cell_type": "code",
      "execution_count": null,
      "metadata": {
        "id": "O-co7rHGFeOY",
        "pycharm": {
          "is_executing": true
        },
        "colab": {
          "base_uri": "https://localhost:8080/"
        },
        "outputId": "6cd0182f-acee-4c29-ece4-ec3412527b2d"
      },
      "outputs": [
        {
          "output_type": "stream",
          "name": "stderr",
          "text": [
            "/usr/local/lib/python3.7/dist-packages/ipykernel_launcher.py:2: FutureWarning: null_counts is deprecated. Use show_counts instead\n",
            "  \n"
          ]
        },
        {
          "output_type": "stream",
          "name": "stdout",
          "text": [
            "<class 'pandas.core.frame.DataFrame'>\n",
            "Int64Index: 11712348 entries, 0 to 13664695\n",
            "Data columns (total 10 columns):\n",
            " #   Column          Non-Null Count     Dtype \n",
            "---  ------          --------------     ----- \n",
            " 0   id              11712346 non-null  object\n",
            " 1   user_id         11495314 non-null  object\n",
            " 2   retweet_count   11275326 non-null  object\n",
            " 3   reply_count     11064671 non-null  object\n",
            " 4   favorite_count  11064981 non-null  object\n",
            " 5   num_hashtags    10655073 non-null  object\n",
            " 6   num_urls        11063920 non-null  object\n",
            " 7   num_mentions    10858432 non-null  object\n",
            " 8   created_at      11712348 non-null  object\n",
            " 9   text            11182415 non-null  object\n",
            "dtypes: object(10)\n",
            "memory usage: 982.9+ MB\n"
          ]
        }
      ],
      "source": [
        "df_tweets_single =df_tweets_clear.drop(df_tweets_more_clear[df_tweets_more_clear['user_id'].isnull() == True].index)\n",
        "df_tweets_single.info(null_counts=True)"
      ]
    },
    {
      "cell_type": "markdown",
      "source": [
        "Take all users in duplicates that have a user_id that is not null"
      ],
      "metadata": {
        "id": "bUWj7vSrCrMz"
      }
    },
    {
      "cell_type": "code",
      "execution_count": null,
      "metadata": {
        "pycharm": {
          "is_executing": true
        },
        "colab": {
          "base_uri": "https://localhost:8080/"
        },
        "id": "rYPnW0MH2d4w",
        "outputId": "82ad75d8-b92f-4d44-ea64-147f497aeb61"
      },
      "outputs": [
        {
          "output_type": "stream",
          "name": "stdout",
          "text": [
            "<class 'pandas.core.frame.DataFrame'>\n",
            "Int64Index: 12 entries, 4515945 to 13484983\n",
            "Data columns (total 10 columns):\n",
            " #   Column          Non-Null Count  Dtype \n",
            "---  ------          --------------  ----- \n",
            " 0   id              12 non-null     object\n",
            " 1   user_id         12 non-null     object\n",
            " 2   retweet_count   5 non-null      object\n",
            " 3   reply_count     3 non-null      object\n",
            " 4   favorite_count  2 non-null      object\n",
            " 5   num_hashtags    0 non-null      object\n",
            " 6   num_urls        2 non-null      object\n",
            " 7   num_mentions    0 non-null      object\n",
            " 8   created_at      12 non-null     object\n",
            " 9   text            0 non-null      object\n",
            "dtypes: object(10)\n",
            "memory usage: 1.0+ KB\n"
          ]
        }
      ],
      "source": [
        "df_nonnull_users = df_tweets_dupl[df_tweets_dupl['user_id'].isnull() == False]\n",
        "df_nonnull_users.info()"
      ]
    },
    {
      "cell_type": "code",
      "execution_count": null,
      "metadata": {
        "pycharm": {
          "is_executing": true
        },
        "colab": {
          "base_uri": "https://localhost:8080/",
          "height": 819
        },
        "id": "HRU0fEma2d4x",
        "outputId": "e90ed320-4a96-48e5-f0c2-c46aea9c0a3c"
      },
      "outputs": [
        {
          "output_type": "stream",
          "name": "stderr",
          "text": [
            "/usr/local/lib/python3.7/dist-packages/pandas/core/generic.py:5516: SettingWithCopyWarning: \n",
            "A value is trying to be set on a copy of a slice from a DataFrame.\n",
            "Try using .loc[row_indexer,col_indexer] = value instead\n",
            "\n",
            "See the caveats in the documentation: https://pandas.pydata.org/pandas-docs/stable/user_guide/indexing.html#returning-a-view-versus-a-copy\n",
            "  self[name] = value\n"
          ]
        },
        {
          "output_type": "execute_result",
          "data": {
            "text/plain": [
              "    id_x     user_id retweet_count reply_count favorite_count num_hashtags  \\\n",
              "0   vada   331806614           NaN         NaN            NaN          NaN   \n",
              "1    ptb   467116841             0         0.0            0.0          NaN   \n",
              "2    efh  1573156616             0         NaN            NaN          NaN   \n",
              "3    oby   114910555           NaN         NaN            NaN          NaN   \n",
              "4    yfj  2445641666           NaN         NaN            NaN          NaN   \n",
              "5    djq    70142270           NaN         NaN            NaN          NaN   \n",
              "6    gnn    24295753           NaN         NaN            NaN          NaN   \n",
              "7    fkn  1978992043           NaN         NaN            NaN          NaN   \n",
              "8    vam  1499931151          1222         NaN            0.0          NaN   \n",
              "9    tgg   576226470             0         0.0            NaN          NaN   \n",
              "10   kws   531236295         7bbif         0.0            NaN          NaN   \n",
              "11   gaj   251905557           NaN         NaN            NaN          NaN   \n",
              "\n",
              "   num_urls num_mentions         created_at_x text        id_y  \\\n",
              "0       NaN          NaN  2019-10-16 23:49:32  NaN   331806614   \n",
              "1       NaN          NaN  2019-06-17 09:34:56  NaN   467116841   \n",
              "2       NaN          NaN  2020-03-07 04:35:15  NaN  1573156616   \n",
              "3       NaN          NaN  2020-03-15 03:51:40  NaN   114910555   \n",
              "4       NaN          NaN  2019-04-29 23:52:04  NaN  2445641666   \n",
              "5       0.0          NaN  2020-04-23 12:43:47  NaN    70142270   \n",
              "6       NaN          NaN  2020-03-15 15:12:05  NaN    24295753   \n",
              "7       NaN          NaN  2020-03-21 23:10:07  NaN  1978992043   \n",
              "8       1.0          NaN  2020-03-15 14:54:04  NaN  1499931151   \n",
              "9       NaN          NaN  2018-11-28 13:28:02  NaN   576226470   \n",
              "10      NaN          NaN  2019-11-08 14:53:10  NaN   531236295   \n",
              "11      NaN          NaN  2020-04-25 17:51:35  NaN   251905557   \n",
              "\n",
              "                   name   lang  bot         created_at_y  statuses_count  \n",
              "0          Marty Balin      en    1  2016-07-09 19:01:19         12375.0  \n",
              "1        Gabriele Danno     it    1  2017-01-19 04:08:16            61.0  \n",
              "2             Tiny Tibo     fr    0  2018-07-08 16:27:04         27105.0  \n",
              "3          Señor Grande     en    0  2015-02-19 00:51:08         10212.0  \n",
              "4   Barstool Iowa State     en    0  2019-04-17 15:59:24          1515.0  \n",
              "5         Morgan Joseph     en    0  2014-09-01 15:31:01         12171.0  \n",
              "6          Nick (Rosie)     en    0  2014-03-16 00:53:21         18699.0  \n",
              "7                     -  en-gb    0  2018-10-23 14:43:13         33905.0  \n",
              "8                 Bojan     en    0  2018-06-13 01:16:32         26559.0  \n",
              "9               Dicerie     en    1  2017-05-12 11:13:08          2000.0  \n",
              "10      Candance Hawver     en    1  2017-03-22 11:42:55         10004.0  \n",
              "11               Adrián     en    0  2016-02-16 02:38:20         24375.0  "
            ],
            "text/html": [
              "\n",
              "  <div id=\"df-678e0a60-7599-40ed-a453-6ee17d5a1809\">\n",
              "    <div class=\"colab-df-container\">\n",
              "      <div>\n",
              "<style scoped>\n",
              "    .dataframe tbody tr th:only-of-type {\n",
              "        vertical-align: middle;\n",
              "    }\n",
              "\n",
              "    .dataframe tbody tr th {\n",
              "        vertical-align: top;\n",
              "    }\n",
              "\n",
              "    .dataframe thead th {\n",
              "        text-align: right;\n",
              "    }\n",
              "</style>\n",
              "<table border=\"1\" class=\"dataframe\">\n",
              "  <thead>\n",
              "    <tr style=\"text-align: right;\">\n",
              "      <th></th>\n",
              "      <th>id_x</th>\n",
              "      <th>user_id</th>\n",
              "      <th>retweet_count</th>\n",
              "      <th>reply_count</th>\n",
              "      <th>favorite_count</th>\n",
              "      <th>num_hashtags</th>\n",
              "      <th>num_urls</th>\n",
              "      <th>num_mentions</th>\n",
              "      <th>created_at_x</th>\n",
              "      <th>text</th>\n",
              "      <th>id_y</th>\n",
              "      <th>name</th>\n",
              "      <th>lang</th>\n",
              "      <th>bot</th>\n",
              "      <th>created_at_y</th>\n",
              "      <th>statuses_count</th>\n",
              "    </tr>\n",
              "  </thead>\n",
              "  <tbody>\n",
              "    <tr>\n",
              "      <th>0</th>\n",
              "      <td>vada</td>\n",
              "      <td>331806614</td>\n",
              "      <td>NaN</td>\n",
              "      <td>NaN</td>\n",
              "      <td>NaN</td>\n",
              "      <td>NaN</td>\n",
              "      <td>NaN</td>\n",
              "      <td>NaN</td>\n",
              "      <td>2019-10-16 23:49:32</td>\n",
              "      <td>NaN</td>\n",
              "      <td>331806614</td>\n",
              "      <td>Marty Balin</td>\n",
              "      <td>en</td>\n",
              "      <td>1</td>\n",
              "      <td>2016-07-09 19:01:19</td>\n",
              "      <td>12375.0</td>\n",
              "    </tr>\n",
              "    <tr>\n",
              "      <th>1</th>\n",
              "      <td>ptb</td>\n",
              "      <td>467116841</td>\n",
              "      <td>0</td>\n",
              "      <td>0.0</td>\n",
              "      <td>0.0</td>\n",
              "      <td>NaN</td>\n",
              "      <td>NaN</td>\n",
              "      <td>NaN</td>\n",
              "      <td>2019-06-17 09:34:56</td>\n",
              "      <td>NaN</td>\n",
              "      <td>467116841</td>\n",
              "      <td>Gabriele Danno</td>\n",
              "      <td>it</td>\n",
              "      <td>1</td>\n",
              "      <td>2017-01-19 04:08:16</td>\n",
              "      <td>61.0</td>\n",
              "    </tr>\n",
              "    <tr>\n",
              "      <th>2</th>\n",
              "      <td>efh</td>\n",
              "      <td>1573156616</td>\n",
              "      <td>0</td>\n",
              "      <td>NaN</td>\n",
              "      <td>NaN</td>\n",
              "      <td>NaN</td>\n",
              "      <td>NaN</td>\n",
              "      <td>NaN</td>\n",
              "      <td>2020-03-07 04:35:15</td>\n",
              "      <td>NaN</td>\n",
              "      <td>1573156616</td>\n",
              "      <td>Tiny Tibo</td>\n",
              "      <td>fr</td>\n",
              "      <td>0</td>\n",
              "      <td>2018-07-08 16:27:04</td>\n",
              "      <td>27105.0</td>\n",
              "    </tr>\n",
              "    <tr>\n",
              "      <th>3</th>\n",
              "      <td>oby</td>\n",
              "      <td>114910555</td>\n",
              "      <td>NaN</td>\n",
              "      <td>NaN</td>\n",
              "      <td>NaN</td>\n",
              "      <td>NaN</td>\n",
              "      <td>NaN</td>\n",
              "      <td>NaN</td>\n",
              "      <td>2020-03-15 03:51:40</td>\n",
              "      <td>NaN</td>\n",
              "      <td>114910555</td>\n",
              "      <td>Señor Grande</td>\n",
              "      <td>en</td>\n",
              "      <td>0</td>\n",
              "      <td>2015-02-19 00:51:08</td>\n",
              "      <td>10212.0</td>\n",
              "    </tr>\n",
              "    <tr>\n",
              "      <th>4</th>\n",
              "      <td>yfj</td>\n",
              "      <td>2445641666</td>\n",
              "      <td>NaN</td>\n",
              "      <td>NaN</td>\n",
              "      <td>NaN</td>\n",
              "      <td>NaN</td>\n",
              "      <td>NaN</td>\n",
              "      <td>NaN</td>\n",
              "      <td>2019-04-29 23:52:04</td>\n",
              "      <td>NaN</td>\n",
              "      <td>2445641666</td>\n",
              "      <td>Barstool Iowa State</td>\n",
              "      <td>en</td>\n",
              "      <td>0</td>\n",
              "      <td>2019-04-17 15:59:24</td>\n",
              "      <td>1515.0</td>\n",
              "    </tr>\n",
              "    <tr>\n",
              "      <th>5</th>\n",
              "      <td>djq</td>\n",
              "      <td>70142270</td>\n",
              "      <td>NaN</td>\n",
              "      <td>NaN</td>\n",
              "      <td>NaN</td>\n",
              "      <td>NaN</td>\n",
              "      <td>0.0</td>\n",
              "      <td>NaN</td>\n",
              "      <td>2020-04-23 12:43:47</td>\n",
              "      <td>NaN</td>\n",
              "      <td>70142270</td>\n",
              "      <td>Morgan Joseph</td>\n",
              "      <td>en</td>\n",
              "      <td>0</td>\n",
              "      <td>2014-09-01 15:31:01</td>\n",
              "      <td>12171.0</td>\n",
              "    </tr>\n",
              "    <tr>\n",
              "      <th>6</th>\n",
              "      <td>gnn</td>\n",
              "      <td>24295753</td>\n",
              "      <td>NaN</td>\n",
              "      <td>NaN</td>\n",
              "      <td>NaN</td>\n",
              "      <td>NaN</td>\n",
              "      <td>NaN</td>\n",
              "      <td>NaN</td>\n",
              "      <td>2020-03-15 15:12:05</td>\n",
              "      <td>NaN</td>\n",
              "      <td>24295753</td>\n",
              "      <td>Nick (Rosie)</td>\n",
              "      <td>en</td>\n",
              "      <td>0</td>\n",
              "      <td>2014-03-16 00:53:21</td>\n",
              "      <td>18699.0</td>\n",
              "    </tr>\n",
              "    <tr>\n",
              "      <th>7</th>\n",
              "      <td>fkn</td>\n",
              "      <td>1978992043</td>\n",
              "      <td>NaN</td>\n",
              "      <td>NaN</td>\n",
              "      <td>NaN</td>\n",
              "      <td>NaN</td>\n",
              "      <td>NaN</td>\n",
              "      <td>NaN</td>\n",
              "      <td>2020-03-21 23:10:07</td>\n",
              "      <td>NaN</td>\n",
              "      <td>1978992043</td>\n",
              "      <td>-</td>\n",
              "      <td>en-gb</td>\n",
              "      <td>0</td>\n",
              "      <td>2018-10-23 14:43:13</td>\n",
              "      <td>33905.0</td>\n",
              "    </tr>\n",
              "    <tr>\n",
              "      <th>8</th>\n",
              "      <td>vam</td>\n",
              "      <td>1499931151</td>\n",
              "      <td>1222</td>\n",
              "      <td>NaN</td>\n",
              "      <td>0.0</td>\n",
              "      <td>NaN</td>\n",
              "      <td>1.0</td>\n",
              "      <td>NaN</td>\n",
              "      <td>2020-03-15 14:54:04</td>\n",
              "      <td>NaN</td>\n",
              "      <td>1499931151</td>\n",
              "      <td>Bojan</td>\n",
              "      <td>en</td>\n",
              "      <td>0</td>\n",
              "      <td>2018-06-13 01:16:32</td>\n",
              "      <td>26559.0</td>\n",
              "    </tr>\n",
              "    <tr>\n",
              "      <th>9</th>\n",
              "      <td>tgg</td>\n",
              "      <td>576226470</td>\n",
              "      <td>0</td>\n",
              "      <td>0.0</td>\n",
              "      <td>NaN</td>\n",
              "      <td>NaN</td>\n",
              "      <td>NaN</td>\n",
              "      <td>NaN</td>\n",
              "      <td>2018-11-28 13:28:02</td>\n",
              "      <td>NaN</td>\n",
              "      <td>576226470</td>\n",
              "      <td>Dicerie</td>\n",
              "      <td>en</td>\n",
              "      <td>1</td>\n",
              "      <td>2017-05-12 11:13:08</td>\n",
              "      <td>2000.0</td>\n",
              "    </tr>\n",
              "    <tr>\n",
              "      <th>10</th>\n",
              "      <td>kws</td>\n",
              "      <td>531236295</td>\n",
              "      <td>7bbif</td>\n",
              "      <td>0.0</td>\n",
              "      <td>NaN</td>\n",
              "      <td>NaN</td>\n",
              "      <td>NaN</td>\n",
              "      <td>NaN</td>\n",
              "      <td>2019-11-08 14:53:10</td>\n",
              "      <td>NaN</td>\n",
              "      <td>531236295</td>\n",
              "      <td>Candance Hawver</td>\n",
              "      <td>en</td>\n",
              "      <td>1</td>\n",
              "      <td>2017-03-22 11:42:55</td>\n",
              "      <td>10004.0</td>\n",
              "    </tr>\n",
              "    <tr>\n",
              "      <th>11</th>\n",
              "      <td>gaj</td>\n",
              "      <td>251905557</td>\n",
              "      <td>NaN</td>\n",
              "      <td>NaN</td>\n",
              "      <td>NaN</td>\n",
              "      <td>NaN</td>\n",
              "      <td>NaN</td>\n",
              "      <td>NaN</td>\n",
              "      <td>2020-04-25 17:51:35</td>\n",
              "      <td>NaN</td>\n",
              "      <td>251905557</td>\n",
              "      <td>Adrián</td>\n",
              "      <td>en</td>\n",
              "      <td>0</td>\n",
              "      <td>2016-02-16 02:38:20</td>\n",
              "      <td>24375.0</td>\n",
              "    </tr>\n",
              "  </tbody>\n",
              "</table>\n",
              "</div>\n",
              "      <button class=\"colab-df-convert\" onclick=\"convertToInteractive('df-678e0a60-7599-40ed-a453-6ee17d5a1809')\"\n",
              "              title=\"Convert this dataframe to an interactive table.\"\n",
              "              style=\"display:none;\">\n",
              "        \n",
              "  <svg xmlns=\"http://www.w3.org/2000/svg\" height=\"24px\"viewBox=\"0 0 24 24\"\n",
              "       width=\"24px\">\n",
              "    <path d=\"M0 0h24v24H0V0z\" fill=\"none\"/>\n",
              "    <path d=\"M18.56 5.44l.94 2.06.94-2.06 2.06-.94-2.06-.94-.94-2.06-.94 2.06-2.06.94zm-11 1L8.5 8.5l.94-2.06 2.06-.94-2.06-.94L8.5 2.5l-.94 2.06-2.06.94zm10 10l.94 2.06.94-2.06 2.06-.94-2.06-.94-.94-2.06-.94 2.06-2.06.94z\"/><path d=\"M17.41 7.96l-1.37-1.37c-.4-.4-.92-.59-1.43-.59-.52 0-1.04.2-1.43.59L10.3 9.45l-7.72 7.72c-.78.78-.78 2.05 0 2.83L4 21.41c.39.39.9.59 1.41.59.51 0 1.02-.2 1.41-.59l7.78-7.78 2.81-2.81c.8-.78.8-2.07 0-2.86zM5.41 20L4 18.59l7.72-7.72 1.47 1.35L5.41 20z\"/>\n",
              "  </svg>\n",
              "      </button>\n",
              "      \n",
              "  <style>\n",
              "    .colab-df-container {\n",
              "      display:flex;\n",
              "      flex-wrap:wrap;\n",
              "      gap: 12px;\n",
              "    }\n",
              "\n",
              "    .colab-df-convert {\n",
              "      background-color: #E8F0FE;\n",
              "      border: none;\n",
              "      border-radius: 50%;\n",
              "      cursor: pointer;\n",
              "      display: none;\n",
              "      fill: #1967D2;\n",
              "      height: 32px;\n",
              "      padding: 0 0 0 0;\n",
              "      width: 32px;\n",
              "    }\n",
              "\n",
              "    .colab-df-convert:hover {\n",
              "      background-color: #E2EBFA;\n",
              "      box-shadow: 0px 1px 2px rgba(60, 64, 67, 0.3), 0px 1px 3px 1px rgba(60, 64, 67, 0.15);\n",
              "      fill: #174EA6;\n",
              "    }\n",
              "\n",
              "    [theme=dark] .colab-df-convert {\n",
              "      background-color: #3B4455;\n",
              "      fill: #D2E3FC;\n",
              "    }\n",
              "\n",
              "    [theme=dark] .colab-df-convert:hover {\n",
              "      background-color: #434B5C;\n",
              "      box-shadow: 0px 1px 3px 1px rgba(0, 0, 0, 0.15);\n",
              "      filter: drop-shadow(0px 1px 2px rgba(0, 0, 0, 0.3));\n",
              "      fill: #FFFFFF;\n",
              "    }\n",
              "  </style>\n",
              "\n",
              "      <script>\n",
              "        const buttonEl =\n",
              "          document.querySelector('#df-678e0a60-7599-40ed-a453-6ee17d5a1809 button.colab-df-convert');\n",
              "        buttonEl.style.display =\n",
              "          google.colab.kernel.accessAllowed ? 'block' : 'none';\n",
              "\n",
              "        async function convertToInteractive(key) {\n",
              "          const element = document.querySelector('#df-678e0a60-7599-40ed-a453-6ee17d5a1809');\n",
              "          const dataTable =\n",
              "            await google.colab.kernel.invokeFunction('convertToInteractive',\n",
              "                                                     [key], {});\n",
              "          if (!dataTable) return;\n",
              "\n",
              "          const docLinkHtml = 'Like what you see? Visit the ' +\n",
              "            '<a target=\"_blank\" href=https://colab.research.google.com/notebooks/data_table.ipynb>data table notebook</a>'\n",
              "            + ' to learn more about interactive tables.';\n",
              "          element.innerHTML = '';\n",
              "          dataTable['output_type'] = 'display_data';\n",
              "          await google.colab.output.renderOutput(dataTable, element);\n",
              "          const docLink = document.createElement('div');\n",
              "          docLink.innerHTML = docLinkHtml;\n",
              "          element.appendChild(docLink);\n",
              "        }\n",
              "      </script>\n",
              "    </div>\n",
              "  </div>\n",
              "  "
            ]
          },
          "metadata": {},
          "execution_count": 52
        }
      ],
      "source": [
        "df_nonnull_users.user_id = pd.to_numeric(df_nonnull_users.user_id) # transform column to int values from object\n",
        "df_nonnull_users.merge(df_users, left_on='user_id', right_on='id') # merge with users table"
      ]
    },
    {
      "cell_type": "code",
      "source": [
        "for attr in ['retweet_count','reply_count','favorite_count','num_hashtags','num_urls','num_mentions']:\n",
        "    cazzo = df_tweets_single[df_tweets_single.duplicated(subset=['id', 'user_id', 'text', attr])]\n",
        "    print(attr+'\\n'+str(cazzo.shape[0])+'\\n')\n",
        "    #print(cazzo)"
      ],
      "metadata": {
        "colab": {
          "base_uri": "https://localhost:8080/"
        },
        "id": "TfJY-O1sEv-7",
        "outputId": "c488d721-2aa9-454f-a0b1-3f5f9a31e264"
      },
      "execution_count": null,
      "outputs": [
        {
          "output_type": "stream",
          "name": "stdout",
          "text": [
            "retweet_count\n",
            "7\n",
            "\n",
            "reply_count\n",
            "12\n",
            "\n",
            "favorite_count\n",
            "12\n",
            "\n",
            "num_hashtags\n",
            "12\n",
            "\n",
            "num_urls\n",
            "11\n",
            "\n",
            "num_mentions\n",
            "12\n",
            "\n"
          ]
        }
      ]
    },
    {
      "cell_type": "markdown",
      "metadata": {
        "id": "kBHc-d-v2d4z"
      },
      "source": [
        "As this print shows, most of duplicates have missing values. If we exclude `retweet_counts`, the duplicates are the same."
      ]
    },
    {
      "cell_type": "code",
      "execution_count": null,
      "metadata": {
        "pycharm": {
          "is_executing": true
        },
        "colab": {
          "base_uri": "https://localhost:8080/",
          "height": 739
        },
        "id": "KYlnT8J42d40",
        "outputId": "7f3cf1a5-8c23-42d2-fcd3-011de2ef3c88"
      },
      "outputs": [
        {
          "output_type": "execute_result",
          "data": {
            "text/plain": [
              "            id     user_id retweet_count reply_count favorite_count  \\\n",
              "9354011    djq    70142270           NaN         NaN            NaN   \n",
              "7858198    djq    70142270           NaN         NaN            NaN   \n",
              "5123152    efh  1573156616          x0c7         NaN            NaN   \n",
              "6445718    efh  1573156616             0         NaN            NaN   \n",
              "8424121    fkn  1978992043           NaN         NaN            NaN   \n",
              "11050094   fkn  1978992043           NaN         NaN            NaN   \n",
              "13484983   gaj   251905557           NaN         NaN            NaN   \n",
              "13074603   gaj   251905557           NaN         NaN            NaN   \n",
              "10231019   gnn    24295753           NaN         NaN            NaN   \n",
              "8474665    gnn    24295753           NaN         NaN            NaN   \n",
              "11981948   kws   531236295             0         0.0            NaN   \n",
              "13138848   kws   531236295         7bbif         0.0            NaN   \n",
              "4220539    oby   114910555           NaN         NaN            NaN   \n",
              "6978627    oby   114910555           NaN         NaN            NaN   \n",
              "5888215    ptb   467116841             0         0.0            0.0   \n",
              "2513232    ptb   467116841           NaN         0.0            0.0   \n",
              "7478529    tgg   576226470             0         0.0            NaN   \n",
              "12987829   tgg   576226470             0         0.0            NaN   \n",
              "1181024   vada   331806614             0         NaN            NaN   \n",
              "4515945   vada   331806614           NaN         NaN            NaN   \n",
              "3000919    yfj  2445641666           NaN         NaN            NaN   \n",
              "7509770    yfj  2445641666           NaN         NaN            NaN   \n",
              "\n",
              "         num_hashtags num_urls num_mentions           created_at text  \n",
              "9354011           NaN      0.0          NaN  2020-04-23 12:43:47  NaN  \n",
              "7858198           NaN      0.0          NaN  2019-06-27 13:38:06  NaN  \n",
              "5123152           NaN      NaN          NaN  2020-03-12 02:12:50  NaN  \n",
              "6445718           NaN      NaN          NaN  2020-03-07 04:35:15  NaN  \n",
              "8424121           NaN      NaN          NaN  2020-04-03 16:24:47  NaN  \n",
              "11050094          NaN      NaN          NaN  2020-03-21 23:10:07  NaN  \n",
              "13484983          NaN      NaN          NaN  2020-04-25 17:51:35  NaN  \n",
              "13074603          NaN      NaN          NaN  2020-04-04 23:35:19  NaN  \n",
              "10231019          NaN      NaN          NaN  2020-03-15 15:12:05  NaN  \n",
              "8474665           NaN      NaN          NaN  2020-03-14 00:09:55  NaN  \n",
              "11981948          NaN      NaN          NaN  2019-10-25 00:52:55  NaN  \n",
              "13138848          NaN      NaN          NaN  2019-11-08 14:53:10  NaN  \n",
              "4220539           NaN      NaN          NaN  2020-04-06 21:33:27  NaN  \n",
              "6978627           NaN      NaN          NaN  2020-03-15 03:51:40  NaN  \n",
              "5888215           NaN      NaN          NaN  2019-06-17 09:34:56  NaN  \n",
              "2513232           NaN      NaN          NaN  2019-10-15 21:01:24  NaN  \n",
              "7478529           NaN      NaN          NaN  2018-12-14 08:19:54  NaN  \n",
              "12987829          NaN      NaN          NaN  2018-11-28 13:28:02  NaN  \n",
              "1181024           NaN      NaN          NaN  2019-10-18 12:45:40  NaN  \n",
              "4515945           NaN      NaN          NaN  2019-10-16 23:49:32  NaN  \n",
              "3000919           NaN      NaN          NaN  2019-06-25 14:00:15  NaN  \n",
              "7509770           NaN      NaN          NaN  2019-04-29 23:52:04  NaN  "
            ],
            "text/html": [
              "\n",
              "  <div id=\"df-130fb9b5-9d81-4176-8613-c5b92b4faf81\">\n",
              "    <div class=\"colab-df-container\">\n",
              "      <div>\n",
              "<style scoped>\n",
              "    .dataframe tbody tr th:only-of-type {\n",
              "        vertical-align: middle;\n",
              "    }\n",
              "\n",
              "    .dataframe tbody tr th {\n",
              "        vertical-align: top;\n",
              "    }\n",
              "\n",
              "    .dataframe thead th {\n",
              "        text-align: right;\n",
              "    }\n",
              "</style>\n",
              "<table border=\"1\" class=\"dataframe\">\n",
              "  <thead>\n",
              "    <tr style=\"text-align: right;\">\n",
              "      <th></th>\n",
              "      <th>id</th>\n",
              "      <th>user_id</th>\n",
              "      <th>retweet_count</th>\n",
              "      <th>reply_count</th>\n",
              "      <th>favorite_count</th>\n",
              "      <th>num_hashtags</th>\n",
              "      <th>num_urls</th>\n",
              "      <th>num_mentions</th>\n",
              "      <th>created_at</th>\n",
              "      <th>text</th>\n",
              "    </tr>\n",
              "  </thead>\n",
              "  <tbody>\n",
              "    <tr>\n",
              "      <th>9354011</th>\n",
              "      <td>djq</td>\n",
              "      <td>70142270</td>\n",
              "      <td>NaN</td>\n",
              "      <td>NaN</td>\n",
              "      <td>NaN</td>\n",
              "      <td>NaN</td>\n",
              "      <td>0.0</td>\n",
              "      <td>NaN</td>\n",
              "      <td>2020-04-23 12:43:47</td>\n",
              "      <td>NaN</td>\n",
              "    </tr>\n",
              "    <tr>\n",
              "      <th>7858198</th>\n",
              "      <td>djq</td>\n",
              "      <td>70142270</td>\n",
              "      <td>NaN</td>\n",
              "      <td>NaN</td>\n",
              "      <td>NaN</td>\n",
              "      <td>NaN</td>\n",
              "      <td>0.0</td>\n",
              "      <td>NaN</td>\n",
              "      <td>2019-06-27 13:38:06</td>\n",
              "      <td>NaN</td>\n",
              "    </tr>\n",
              "    <tr>\n",
              "      <th>5123152</th>\n",
              "      <td>efh</td>\n",
              "      <td>1573156616</td>\n",
              "      <td>x0c7</td>\n",
              "      <td>NaN</td>\n",
              "      <td>NaN</td>\n",
              "      <td>NaN</td>\n",
              "      <td>NaN</td>\n",
              "      <td>NaN</td>\n",
              "      <td>2020-03-12 02:12:50</td>\n",
              "      <td>NaN</td>\n",
              "    </tr>\n",
              "    <tr>\n",
              "      <th>6445718</th>\n",
              "      <td>efh</td>\n",
              "      <td>1573156616</td>\n",
              "      <td>0</td>\n",
              "      <td>NaN</td>\n",
              "      <td>NaN</td>\n",
              "      <td>NaN</td>\n",
              "      <td>NaN</td>\n",
              "      <td>NaN</td>\n",
              "      <td>2020-03-07 04:35:15</td>\n",
              "      <td>NaN</td>\n",
              "    </tr>\n",
              "    <tr>\n",
              "      <th>8424121</th>\n",
              "      <td>fkn</td>\n",
              "      <td>1978992043</td>\n",
              "      <td>NaN</td>\n",
              "      <td>NaN</td>\n",
              "      <td>NaN</td>\n",
              "      <td>NaN</td>\n",
              "      <td>NaN</td>\n",
              "      <td>NaN</td>\n",
              "      <td>2020-04-03 16:24:47</td>\n",
              "      <td>NaN</td>\n",
              "    </tr>\n",
              "    <tr>\n",
              "      <th>11050094</th>\n",
              "      <td>fkn</td>\n",
              "      <td>1978992043</td>\n",
              "      <td>NaN</td>\n",
              "      <td>NaN</td>\n",
              "      <td>NaN</td>\n",
              "      <td>NaN</td>\n",
              "      <td>NaN</td>\n",
              "      <td>NaN</td>\n",
              "      <td>2020-03-21 23:10:07</td>\n",
              "      <td>NaN</td>\n",
              "    </tr>\n",
              "    <tr>\n",
              "      <th>13484983</th>\n",
              "      <td>gaj</td>\n",
              "      <td>251905557</td>\n",
              "      <td>NaN</td>\n",
              "      <td>NaN</td>\n",
              "      <td>NaN</td>\n",
              "      <td>NaN</td>\n",
              "      <td>NaN</td>\n",
              "      <td>NaN</td>\n",
              "      <td>2020-04-25 17:51:35</td>\n",
              "      <td>NaN</td>\n",
              "    </tr>\n",
              "    <tr>\n",
              "      <th>13074603</th>\n",
              "      <td>gaj</td>\n",
              "      <td>251905557</td>\n",
              "      <td>NaN</td>\n",
              "      <td>NaN</td>\n",
              "      <td>NaN</td>\n",
              "      <td>NaN</td>\n",
              "      <td>NaN</td>\n",
              "      <td>NaN</td>\n",
              "      <td>2020-04-04 23:35:19</td>\n",
              "      <td>NaN</td>\n",
              "    </tr>\n",
              "    <tr>\n",
              "      <th>10231019</th>\n",
              "      <td>gnn</td>\n",
              "      <td>24295753</td>\n",
              "      <td>NaN</td>\n",
              "      <td>NaN</td>\n",
              "      <td>NaN</td>\n",
              "      <td>NaN</td>\n",
              "      <td>NaN</td>\n",
              "      <td>NaN</td>\n",
              "      <td>2020-03-15 15:12:05</td>\n",
              "      <td>NaN</td>\n",
              "    </tr>\n",
              "    <tr>\n",
              "      <th>8474665</th>\n",
              "      <td>gnn</td>\n",
              "      <td>24295753</td>\n",
              "      <td>NaN</td>\n",
              "      <td>NaN</td>\n",
              "      <td>NaN</td>\n",
              "      <td>NaN</td>\n",
              "      <td>NaN</td>\n",
              "      <td>NaN</td>\n",
              "      <td>2020-03-14 00:09:55</td>\n",
              "      <td>NaN</td>\n",
              "    </tr>\n",
              "    <tr>\n",
              "      <th>11981948</th>\n",
              "      <td>kws</td>\n",
              "      <td>531236295</td>\n",
              "      <td>0</td>\n",
              "      <td>0.0</td>\n",
              "      <td>NaN</td>\n",
              "      <td>NaN</td>\n",
              "      <td>NaN</td>\n",
              "      <td>NaN</td>\n",
              "      <td>2019-10-25 00:52:55</td>\n",
              "      <td>NaN</td>\n",
              "    </tr>\n",
              "    <tr>\n",
              "      <th>13138848</th>\n",
              "      <td>kws</td>\n",
              "      <td>531236295</td>\n",
              "      <td>7bbif</td>\n",
              "      <td>0.0</td>\n",
              "      <td>NaN</td>\n",
              "      <td>NaN</td>\n",
              "      <td>NaN</td>\n",
              "      <td>NaN</td>\n",
              "      <td>2019-11-08 14:53:10</td>\n",
              "      <td>NaN</td>\n",
              "    </tr>\n",
              "    <tr>\n",
              "      <th>4220539</th>\n",
              "      <td>oby</td>\n",
              "      <td>114910555</td>\n",
              "      <td>NaN</td>\n",
              "      <td>NaN</td>\n",
              "      <td>NaN</td>\n",
              "      <td>NaN</td>\n",
              "      <td>NaN</td>\n",
              "      <td>NaN</td>\n",
              "      <td>2020-04-06 21:33:27</td>\n",
              "      <td>NaN</td>\n",
              "    </tr>\n",
              "    <tr>\n",
              "      <th>6978627</th>\n",
              "      <td>oby</td>\n",
              "      <td>114910555</td>\n",
              "      <td>NaN</td>\n",
              "      <td>NaN</td>\n",
              "      <td>NaN</td>\n",
              "      <td>NaN</td>\n",
              "      <td>NaN</td>\n",
              "      <td>NaN</td>\n",
              "      <td>2020-03-15 03:51:40</td>\n",
              "      <td>NaN</td>\n",
              "    </tr>\n",
              "    <tr>\n",
              "      <th>5888215</th>\n",
              "      <td>ptb</td>\n",
              "      <td>467116841</td>\n",
              "      <td>0</td>\n",
              "      <td>0.0</td>\n",
              "      <td>0.0</td>\n",
              "      <td>NaN</td>\n",
              "      <td>NaN</td>\n",
              "      <td>NaN</td>\n",
              "      <td>2019-06-17 09:34:56</td>\n",
              "      <td>NaN</td>\n",
              "    </tr>\n",
              "    <tr>\n",
              "      <th>2513232</th>\n",
              "      <td>ptb</td>\n",
              "      <td>467116841</td>\n",
              "      <td>NaN</td>\n",
              "      <td>0.0</td>\n",
              "      <td>0.0</td>\n",
              "      <td>NaN</td>\n",
              "      <td>NaN</td>\n",
              "      <td>NaN</td>\n",
              "      <td>2019-10-15 21:01:24</td>\n",
              "      <td>NaN</td>\n",
              "    </tr>\n",
              "    <tr>\n",
              "      <th>7478529</th>\n",
              "      <td>tgg</td>\n",
              "      <td>576226470</td>\n",
              "      <td>0</td>\n",
              "      <td>0.0</td>\n",
              "      <td>NaN</td>\n",
              "      <td>NaN</td>\n",
              "      <td>NaN</td>\n",
              "      <td>NaN</td>\n",
              "      <td>2018-12-14 08:19:54</td>\n",
              "      <td>NaN</td>\n",
              "    </tr>\n",
              "    <tr>\n",
              "      <th>12987829</th>\n",
              "      <td>tgg</td>\n",
              "      <td>576226470</td>\n",
              "      <td>0</td>\n",
              "      <td>0.0</td>\n",
              "      <td>NaN</td>\n",
              "      <td>NaN</td>\n",
              "      <td>NaN</td>\n",
              "      <td>NaN</td>\n",
              "      <td>2018-11-28 13:28:02</td>\n",
              "      <td>NaN</td>\n",
              "    </tr>\n",
              "    <tr>\n",
              "      <th>1181024</th>\n",
              "      <td>vada</td>\n",
              "      <td>331806614</td>\n",
              "      <td>0</td>\n",
              "      <td>NaN</td>\n",
              "      <td>NaN</td>\n",
              "      <td>NaN</td>\n",
              "      <td>NaN</td>\n",
              "      <td>NaN</td>\n",
              "      <td>2019-10-18 12:45:40</td>\n",
              "      <td>NaN</td>\n",
              "    </tr>\n",
              "    <tr>\n",
              "      <th>4515945</th>\n",
              "      <td>vada</td>\n",
              "      <td>331806614</td>\n",
              "      <td>NaN</td>\n",
              "      <td>NaN</td>\n",
              "      <td>NaN</td>\n",
              "      <td>NaN</td>\n",
              "      <td>NaN</td>\n",
              "      <td>NaN</td>\n",
              "      <td>2019-10-16 23:49:32</td>\n",
              "      <td>NaN</td>\n",
              "    </tr>\n",
              "    <tr>\n",
              "      <th>3000919</th>\n",
              "      <td>yfj</td>\n",
              "      <td>2445641666</td>\n",
              "      <td>NaN</td>\n",
              "      <td>NaN</td>\n",
              "      <td>NaN</td>\n",
              "      <td>NaN</td>\n",
              "      <td>NaN</td>\n",
              "      <td>NaN</td>\n",
              "      <td>2019-06-25 14:00:15</td>\n",
              "      <td>NaN</td>\n",
              "    </tr>\n",
              "    <tr>\n",
              "      <th>7509770</th>\n",
              "      <td>yfj</td>\n",
              "      <td>2445641666</td>\n",
              "      <td>NaN</td>\n",
              "      <td>NaN</td>\n",
              "      <td>NaN</td>\n",
              "      <td>NaN</td>\n",
              "      <td>NaN</td>\n",
              "      <td>NaN</td>\n",
              "      <td>2019-04-29 23:52:04</td>\n",
              "      <td>NaN</td>\n",
              "    </tr>\n",
              "  </tbody>\n",
              "</table>\n",
              "</div>\n",
              "      <button class=\"colab-df-convert\" onclick=\"convertToInteractive('df-130fb9b5-9d81-4176-8613-c5b92b4faf81')\"\n",
              "              title=\"Convert this dataframe to an interactive table.\"\n",
              "              style=\"display:none;\">\n",
              "        \n",
              "  <svg xmlns=\"http://www.w3.org/2000/svg\" height=\"24px\"viewBox=\"0 0 24 24\"\n",
              "       width=\"24px\">\n",
              "    <path d=\"M0 0h24v24H0V0z\" fill=\"none\"/>\n",
              "    <path d=\"M18.56 5.44l.94 2.06.94-2.06 2.06-.94-2.06-.94-.94-2.06-.94 2.06-2.06.94zm-11 1L8.5 8.5l.94-2.06 2.06-.94-2.06-.94L8.5 2.5l-.94 2.06-2.06.94zm10 10l.94 2.06.94-2.06 2.06-.94-2.06-.94-.94-2.06-.94 2.06-2.06.94z\"/><path d=\"M17.41 7.96l-1.37-1.37c-.4-.4-.92-.59-1.43-.59-.52 0-1.04.2-1.43.59L10.3 9.45l-7.72 7.72c-.78.78-.78 2.05 0 2.83L4 21.41c.39.39.9.59 1.41.59.51 0 1.02-.2 1.41-.59l7.78-7.78 2.81-2.81c.8-.78.8-2.07 0-2.86zM5.41 20L4 18.59l7.72-7.72 1.47 1.35L5.41 20z\"/>\n",
              "  </svg>\n",
              "      </button>\n",
              "      \n",
              "  <style>\n",
              "    .colab-df-container {\n",
              "      display:flex;\n",
              "      flex-wrap:wrap;\n",
              "      gap: 12px;\n",
              "    }\n",
              "\n",
              "    .colab-df-convert {\n",
              "      background-color: #E8F0FE;\n",
              "      border: none;\n",
              "      border-radius: 50%;\n",
              "      cursor: pointer;\n",
              "      display: none;\n",
              "      fill: #1967D2;\n",
              "      height: 32px;\n",
              "      padding: 0 0 0 0;\n",
              "      width: 32px;\n",
              "    }\n",
              "\n",
              "    .colab-df-convert:hover {\n",
              "      background-color: #E2EBFA;\n",
              "      box-shadow: 0px 1px 2px rgba(60, 64, 67, 0.3), 0px 1px 3px 1px rgba(60, 64, 67, 0.15);\n",
              "      fill: #174EA6;\n",
              "    }\n",
              "\n",
              "    [theme=dark] .colab-df-convert {\n",
              "      background-color: #3B4455;\n",
              "      fill: #D2E3FC;\n",
              "    }\n",
              "\n",
              "    [theme=dark] .colab-df-convert:hover {\n",
              "      background-color: #434B5C;\n",
              "      box-shadow: 0px 1px 3px 1px rgba(0, 0, 0, 0.15);\n",
              "      filter: drop-shadow(0px 1px 2px rgba(0, 0, 0, 0.3));\n",
              "      fill: #FFFFFF;\n",
              "    }\n",
              "  </style>\n",
              "\n",
              "      <script>\n",
              "        const buttonEl =\n",
              "          document.querySelector('#df-130fb9b5-9d81-4176-8613-c5b92b4faf81 button.colab-df-convert');\n",
              "        buttonEl.style.display =\n",
              "          google.colab.kernel.accessAllowed ? 'block' : 'none';\n",
              "\n",
              "        async function convertToInteractive(key) {\n",
              "          const element = document.querySelector('#df-130fb9b5-9d81-4176-8613-c5b92b4faf81');\n",
              "          const dataTable =\n",
              "            await google.colab.kernel.invokeFunction('convertToInteractive',\n",
              "                                                     [key], {});\n",
              "          if (!dataTable) return;\n",
              "\n",
              "          const docLinkHtml = 'Like what you see? Visit the ' +\n",
              "            '<a target=\"_blank\" href=https://colab.research.google.com/notebooks/data_table.ipynb>data table notebook</a>'\n",
              "            + ' to learn more about interactive tables.';\n",
              "          element.innerHTML = '';\n",
              "          dataTable['output_type'] = 'display_data';\n",
              "          await google.colab.output.renderOutput(dataTable, element);\n",
              "          const docLink = document.createElement('div');\n",
              "          docLink.innerHTML = docLinkHtml;\n",
              "          element.appendChild(docLink);\n",
              "        }\n",
              "      </script>\n",
              "    </div>\n",
              "  </div>\n",
              "  "
            ]
          },
          "metadata": {},
          "execution_count": 60
        }
      ],
      "source": [
        "df_tweets_single[df_tweets_single.duplicated(subset=['id', 'user_id', 'text', 'reply_count','favorite_count','num_hashtags','num_urls','num_mentions'], keep=False)].sort_values(by='id')"
      ]
    },
    {
      "cell_type": "markdown",
      "source": [
        "df_tweets_clear = tweets without records which are exact duplicates from all fields\n",
        "df_tweets_more_clear = df_tweets_clear with duplicates (keep=First) of id, user_id and text\n",
        "df_tweets_single = df_tweets_clear with some null user_ids dropped"
      ],
      "metadata": {
        "id": "NLy9EgGfGFY0"
      }
    },
    {
      "cell_type": "markdown",
      "metadata": {
        "id": "3sisdy9C2d47"
      },
      "source": [
        "# FINE\n",
        "From now on we assume that the records in the dataset are not duplcated."
      ]
    },
    {
      "cell_type": "markdown",
      "source": [
        "## Users file analysis"
      ],
      "metadata": {
        "id": "aMVj854qG0mT"
      }
    },
    {
      "cell_type": "code",
      "execution_count": null,
      "metadata": {
        "pycharm": {
          "is_executing": true
        },
        "colab": {
          "base_uri": "https://localhost:8080/"
        },
        "id": "k-CMh_mT2d48",
        "outputId": "b829e60f-8af9-44c9-be42-eb9689df1a6b"
      },
      "outputs": [
        {
          "output_type": "stream",
          "name": "stdout",
          "text": [
            "<class 'pandas.core.frame.DataFrame'>\n",
            "RangeIndex: 11508 entries, 0 to 11507\n",
            "Data columns (total 6 columns):\n",
            " #   Column          Non-Null Count  Dtype  \n",
            "---  ------          --------------  -----  \n",
            " 0   id              11508 non-null  int64  \n",
            " 1   name            11507 non-null  object \n",
            " 2   lang            11508 non-null  object \n",
            " 3   bot             11508 non-null  int64  \n",
            " 4   created_at      11508 non-null  object \n",
            " 5   statuses_count  11109 non-null  float64\n",
            "dtypes: float64(1), int64(2), object(3)\n",
            "memory usage: 539.6+ KB\n"
          ]
        }
      ],
      "source": [
        "df_users.info()"
      ]
    },
    {
      "cell_type": "markdown",
      "metadata": {
        "id": "qXTdk4KS2d49"
      },
      "source": [
        "# Statuses count\n",
        "Since we have a lot of nulls in the `statuses_count` column, we need to estimate the missing values. The estimate could be computed as the average difference between `statuses_count` and the tweets that we have in the tweets dataset for that user plus the count of the tweets that we have."
      ]
    },
    {
      "cell_type": "code",
      "execution_count": null,
      "metadata": {
        "pycharm": {
          "is_executing": true
        },
        "id": "5ckdWdzV2d4-"
      },
      "outputs": [],
      "source": [
        "user_ids_with_null_statuses_count = df_users[df_users['statuses_count'].isnull() == True].id.astype(str).tolist()\n",
        "user_ids_with_null_statuses_count"
      ]
    },
    {
      "cell_type": "markdown",
      "source": [
        "How many records in the tweets file have user_ids that match the users that have a null status count?"
      ],
      "metadata": {
        "id": "aHWABi4eHKDP"
      }
    },
    {
      "cell_type": "code",
      "execution_count": null,
      "metadata": {
        "pycharm": {
          "is_executing": true
        },
        "colab": {
          "base_uri": "https://localhost:8080/"
        },
        "id": "_3qxr4jQ2d4_",
        "outputId": "2c55f422-c4b6-4d83-cee0-e206d1ffce36"
      },
      "outputs": [
        {
          "output_type": "execute_result",
          "data": {
            "text/plain": [
              "False    13613038\n",
              "True        51658\n",
              "Name: user_id, dtype: int64"
            ]
          },
          "metadata": {},
          "execution_count": 65
        }
      ],
      "source": [
        "df_tweets['user_id'].isin(user_ids_with_null_statuses_count).value_counts()"
      ]
    },
    {
      "cell_type": "markdown",
      "source": [
        "Select tweets in tweets file which have a user_id which has a null statuses_count in the users file"
      ],
      "metadata": {
        "id": "_0Z834RsHqOH"
      }
    },
    {
      "cell_type": "code",
      "execution_count": null,
      "metadata": {
        "pycharm": {
          "is_executing": true
        },
        "id": "MI9GRni-2d5A"
      },
      "outputs": [],
      "source": [
        "tweets_by_user_ids_with_null_statuses_count = df_tweets[df_tweets['user_id'].isin(user_ids_with_null_statuses_count)]"
      ]
    },
    {
      "cell_type": "markdown",
      "source": [
        "Count how many different tweets (created_at disambiguates this) we have for each user_id"
      ],
      "metadata": {
        "id": "13YDSt2iHxGe"
      }
    },
    {
      "cell_type": "code",
      "execution_count": null,
      "metadata": {
        "pycharm": {
          "is_executing": true
        },
        "id": "tE5gQGXD2d5B"
      },
      "outputs": [],
      "source": [
        "# it'a series!\n",
        "tweets_counts_null_statuses = tweets_by_user_ids_with_null_statuses_count.groupby(['user_id']).count()['created_at']"
      ]
    },
    {
      "cell_type": "code",
      "source": [
        "tweets_counts_null_statuses"
      ],
      "metadata": {
        "colab": {
          "base_uri": "https://localhost:8080/"
        },
        "id": "7lsg8LtbHkyK",
        "outputId": "ab0b56d8-20e5-4635-8528-2ddc22307921"
      },
      "execution_count": null,
      "outputs": [
        {
          "output_type": "execute_result",
          "data": {
            "text/plain": [
              "user_id\n",
              "101892747      2\n",
              "104657589      1\n",
              "105510200      4\n",
              "105696650     23\n",
              "106595346    209\n",
              "            ... \n",
              "716723184     32\n",
              "72348749     188\n",
              "759191942      7\n",
              "80479674      41\n",
              "951793016     79\n",
              "Name: created_at, Length: 399, dtype: int64"
            ]
          },
          "metadata": {},
          "execution_count": 68
        }
      ]
    },
    {
      "cell_type": "markdown",
      "source": [
        "For users with a non-null statues_count, find the mean and median of this attribute.\n",
        "As it is possible to see, the mean is probably affected by the presence of a lot of outliers."
      ],
      "metadata": {
        "id": "qmqLmq5sH8p_"
      }
    },
    {
      "cell_type": "code",
      "execution_count": null,
      "metadata": {
        "pycharm": {
          "is_executing": true
        },
        "colab": {
          "base_uri": "https://localhost:8080/"
        },
        "id": "twgrzgAu2d5B",
        "outputId": "c0f65172-9321-428f-d562-45016a6ab331"
      },
      "outputs": [
        {
          "output_type": "stream",
          "name": "stdout",
          "text": [
            "5883.312359348276 68.0\n"
          ]
        }
      ],
      "source": [
        "nonnull_users = df_users[df_users['statuses_count'].isnull() == False]\n",
        "mean_statuses_count = nonnull_users.statuses_count.mean()\n",
        "median_statuses_count = nonnull_users.statuses_count.median()\n",
        "print(mean_statuses_count,median_statuses_count)"
      ]
    },
    {
      "cell_type": "markdown",
      "source": [
        "Plot of statuses_count of users where this value is not null"
      ],
      "metadata": {
        "id": "LUoMQNNaIdVd"
      }
    },
    {
      "cell_type": "code",
      "execution_count": null,
      "metadata": {
        "pycharm": {
          "is_executing": true
        },
        "colab": {
          "base_uri": "https://localhost:8080/",
          "height": 265
        },
        "id": "qxhYdebM2d5C",
        "outputId": "ed83a637-b3b4-44b3-eb42-b2a0c76e5524"
      },
      "outputs": [
        {
          "output_type": "display_data",
          "data": {
            "text/plain": [
              "<Figure size 432x288 with 1 Axes>"
            ],
            "image/png": "[encoded data removed]"
          },
          "metadata": {
            "needs_background": "light"
          }
        }
      ],
      "source": [
        "plt.boxplot(nonnull_users.statuses_count,showmeans=True)\n",
        "plt.yscale('log')\n",
        "plt.show()"
      ]
    },
    {
      "cell_type": "markdown",
      "metadata": {
        "id": "wP6OFajy2d5D"
      },
      "source": [
        "The boxplot shows that the mean is near the 90th percentile, so we find more reasonable to use the median value to replace the missing values for the `statuses_count` attribute."
      ]
    },
    {
      "cell_type": "markdown",
      "source": [
        "--------- NO ---------"
      ],
      "metadata": {
        "id": "Jn-z5sFGI92K"
      }
    },
    {
      "cell_type": "code",
      "execution_count": null,
      "metadata": {
        "pycharm": {
          "is_executing": true
        },
        "id": "jQXjOVk_2d5E"
      },
      "outputs": [],
      "source": [
        "user_ids_with_nonnull_statuses_count = df_users[df_users['statuses_count'].isnull() == False].id.astype(str).tolist()\n",
        "tweets_by_user_ids_with_nonnull_statuses_count = df_tweets[df_tweets['user_id'].isin(user_ids_with_nonnull_statuses_count)]\n",
        "tweets_counts_nonnull_statuses = tweets_by_user_ids_with_nonnull_statuses_count.groupby(['user_id']).count()['created_at']"
      ]
    },
    {
      "cell_type": "code",
      "execution_count": null,
      "metadata": {
        "pycharm": {
          "is_executing": true
        },
        "colab": {
          "base_uri": "https://localhost:8080/"
        },
        "id": "DX_aZewL2d5F",
        "outputId": "19723b37-2894-4f0f-e78b-a9344219dd11"
      },
      "outputs": [
        {
          "output_type": "stream",
          "name": "stdout",
          "text": [
            "4697.048609235755 -42.0\n"
          ]
        }
      ],
      "source": [
        "values = nonnull_users.statuses_count.values - tweets_counts_nonnull_statuses.values\n",
        "print(np.mean(values), np.median(values))"
      ]
    },
    {
      "cell_type": "code",
      "execution_count": null,
      "metadata": {
        "pycharm": {
          "is_executing": true
        },
        "colab": {
          "base_uri": "https://localhost:8080/",
          "height": 265
        },
        "id": "z2lc0H-z2d5J",
        "outputId": "312254b5-9dbf-4539-a606-0d4200361204"
      },
      "outputs": [
        {
          "output_type": "display_data",
          "data": {
            "text/plain": [
              "<Figure size 432x288 with 1 Axes>"
            ],
            "image/png": "[encoded data removed]"
          },
          "metadata": {
            "needs_background": "light"
          }
        }
      ],
      "source": [
        "plt.boxplot(values,showmeans=True)\n",
        "plt.show()"
      ]
    },
    {
      "cell_type": "code",
      "execution_count": null,
      "metadata": {
        "pycharm": {
          "is_executing": true
        },
        "colab": {
          "base_uri": "https://localhost:8080/",
          "height": 265
        },
        "id": "9cW-I75G2d5L",
        "outputId": "3d8c71a9-41cf-43f8-f848-71d77d9335ee"
      },
      "outputs": [
        {
          "output_type": "display_data",
          "data": {
            "text/plain": [
              "<Figure size 432x288 with 1 Axes>"
            ],
            "image/png": "[encoded data removed]"
          },
          "metadata": {
            "needs_background": "light"
          }
        }
      ],
      "source": [
        "sign = np.sign(values)\n",
        "log_values = np.log(np.where(np.abs(values)==0,1e-9, np.abs(values)))\n",
        "plt.boxplot(sign*log_values,showmeans=True)\n",
        "plt.show()"
      ]
    },
    {
      "cell_type": "code",
      "execution_count": null,
      "metadata": {
        "pycharm": {
          "is_executing": true
        },
        "colab": {
          "base_uri": "https://localhost:8080/"
        },
        "id": "4o2eWgQX2d5M",
        "outputId": "fe16c21e-ef5c-4075-839f-83835c989403"
      },
      "outputs": [
        {
          "output_type": "execute_result",
          "data": {
            "text/plain": [
              "20"
            ]
          },
          "metadata": {},
          "execution_count": 75
        }
      ],
      "source": [
        "len(values) - np.count_nonzero(values)"
      ]
    },
    {
      "cell_type": "markdown",
      "source": [
        "--------- NO ---------"
      ],
      "metadata": {
        "id": "qnsGEW-uJFVW"
      }
    },
    {
      "cell_type": "markdown",
      "metadata": {
        "id": "OKUhen8G0lUS"
      },
      "source": [
        "0   id              11712595 non-null  object\n",
        "  - MISSING VALUES: ??\n",
        "\n",
        "1   user_id         11495314 non-null  object\n",
        "  - MISSING VALUES: ??\n",
        "\n",
        "2   retweet_count   11275463 non-null  object\n",
        "  - MISSING VALUES:\n",
        "\n",
        "3   reply_count     11064719 non-null  object\n",
        "  - MISSING VALUES:\n",
        "\n",
        "4   favorite_count  11065055 non-null  object\n",
        "  - MISSING VALUES:\n",
        " \n",
        "5   num_hashtags    10655073 non-null  object\n",
        "  - MISSING VALUES:\n",
        " \n",
        "6   num_urls        11063974 non-null  object\n",
        "  - MISSING VALUES:\n",
        " \n",
        "7   num_mentions    10858432 non-null  object\n",
        "  - MISSING VALUES:\n",
        " \n",
        "8   created_at      11712597 non-null  object\n",
        "  - MISSING VALUES: no null values\n",
        " \n",
        "9   text            11182415 non-null  object\n",
        "  - MISSING VALUES:"
      ]
    },
    {
      "cell_type": "markdown",
      "source": [
        "Replace null statues_count values with median of statues_count of the other users"
      ],
      "metadata": {
        "id": "6iBM_aGqJJeW"
      }
    },
    {
      "cell_type": "code",
      "execution_count": null,
      "metadata": {
        "id": "5TGOQdAS2d5O"
      },
      "outputs": [],
      "source": [
        "df_users.statuses_count.fillna(median_statuses_count, inplace=True)"
      ]
    },
    {
      "cell_type": "code",
      "execution_count": null,
      "metadata": {
        "colab": {
          "base_uri": "https://localhost:8080/"
        },
        "id": "EL6-H8EZ2d5O",
        "outputId": "e66eb892-7869-4600-8cf5-694a42690d34"
      },
      "outputs": [
        {
          "output_type": "stream",
          "name": "stdout",
          "text": [
            "<class 'pandas.core.frame.DataFrame'>\n",
            "RangeIndex: 11508 entries, 0 to 11507\n",
            "Data columns (total 6 columns):\n",
            " #   Column          Non-Null Count  Dtype  \n",
            "---  ------          --------------  -----  \n",
            " 0   id              11508 non-null  int64  \n",
            " 1   name            11507 non-null  object \n",
            " 2   lang            11508 non-null  object \n",
            " 3   bot             11508 non-null  int64  \n",
            " 4   created_at      11508 non-null  object \n",
            " 5   statuses_count  11508 non-null  float64\n",
            "dtypes: float64(1), int64(2), object(3)\n",
            "memory usage: 539.6+ KB\n"
          ]
        }
      ],
      "source": [
        "df_users.info()"
      ]
    },
    {
      "cell_type": "code",
      "source": [
        "df_users.statuses_count = pd.to_numeric(df_users.statuses_count, downcast='integer')"
      ],
      "metadata": {
        "id": "qmUHK6CAJXW4"
      },
      "execution_count": null,
      "outputs": []
    },
    {
      "cell_type": "code",
      "source": [
        "df_users.info()"
      ],
      "metadata": {
        "colab": {
          "base_uri": "https://localhost:8080/"
        },
        "id": "wTnypW11KAgH",
        "outputId": "f0827514-a0fe-4d12-f45a-53b11b28c3bf"
      },
      "execution_count": null,
      "outputs": [
        {
          "output_type": "stream",
          "name": "stdout",
          "text": [
            "<class 'pandas.core.frame.DataFrame'>\n",
            "RangeIndex: 11508 entries, 0 to 11507\n",
            "Data columns (total 6 columns):\n",
            " #   Column          Non-Null Count  Dtype \n",
            "---  ------          --------------  ----- \n",
            " 0   id              11508 non-null  int64 \n",
            " 1   name            11507 non-null  object\n",
            " 2   lang            11508 non-null  object\n",
            " 3   bot             11508 non-null  int64 \n",
            " 4   created_at      11508 non-null  object\n",
            " 5   statuses_count  11508 non-null  int32 \n",
            "dtypes: int32(1), int64(2), object(3)\n",
            "memory usage: 494.6+ KB\n"
          ]
        }
      ]
    },
    {
      "cell_type": "markdown",
      "source": [
        "Conversion of created_at dates into seconds into a new column"
      ],
      "metadata": {
        "id": "_cOnc_vNKmYs"
      }
    },
    {
      "cell_type": "code",
      "execution_count": null,
      "metadata": {
        "colab": {
          "base_uri": "https://localhost:8080/",
          "height": 478
        },
        "id": "T4jF_0S-2d5P",
        "outputId": "6ec00439-36b2-4bad-f9d8-aad1e73bf9ad"
      },
      "outputs": [
        {
          "output_type": "stream",
          "name": "stderr",
          "text": [
            "/usr/local/lib/python3.7/dist-packages/ipykernel_launcher.py:1: FutureWarning: casting datetime64[ns] values to int64 with .astype(...) is deprecated and will raise in a future version. Use .view(...) instead.\n",
            "  \"\"\"Entry point for launching an IPython kernel.\n"
          ]
        },
        {
          "output_type": "execute_result",
          "data": {
            "text/plain": [
              "               id                name lang  bot           created_at  \\\n",
              "0      2353593986     Lamonica Raborn   en    1  2019-02-22 18:00:42   \n",
              "1      2358850842       Lourie Botton   en    0  2019-02-26 03:02:32   \n",
              "2       137959629    Dadan Syarifudin   en    1  2015-04-30 07:09:56   \n",
              "3       466124818      Carletto Focia   it    1  2017-01-18 02:49:18   \n",
              "4      2571493866           MBK Ebook   en    0  2019-06-18 19:30:21   \n",
              "...           ...                 ...  ...  ...                  ...   \n",
              "11503  2911861962  Madrid Lae Maika .   en    0  2019-11-29 13:16:02   \n",
              "11504  1378532629           Clau Sato   en    0  2018-04-27 03:01:58   \n",
              "11505   126984069  ALMA LETICIA NUÑO    es    0  2015-03-29 17:01:24   \n",
              "11506  2383025796     Minnie Guadagno   en    1  2019-03-13 02:44:13   \n",
              "11507   933183398           Corvanna    en    0  2017-11-09 23:24:16   \n",
              "\n",
              "       statuses_count      created_at_conv  \n",
              "0                  76  1550858442000000000  \n",
              "1                  54  1551150152000000000  \n",
              "2                   3  1430377796000000000  \n",
              "3                  50  1484707758000000000  \n",
              "4                7085  1560886221000000000  \n",
              "...               ...                  ...  \n",
              "11503            1126  1575033362000000000  \n",
              "11504            3024  1524798118000000000  \n",
              "11505               6  1427648484000000000  \n",
              "11506              42  1552445053000000000  \n",
              "11507            5279  1510269856000000000  \n",
              "\n",
              "[11508 rows x 7 columns]"
            ],
            "text/html": [
              "\n",
              "  <div id=\"df-e0721aba-7ca7-4b3d-91c6-04448cfd007e\">\n",
              "    <div class=\"colab-df-container\">\n",
              "      <div>\n",
              "<style scoped>\n",
              "    .dataframe tbody tr th:only-of-type {\n",
              "        vertical-align: middle;\n",
              "    }\n",
              "\n",
              "    .dataframe tbody tr th {\n",
              "        vertical-align: top;\n",
              "    }\n",
              "\n",
              "    .dataframe thead th {\n",
              "        text-align: right;\n",
              "    }\n",
              "</style>\n",
              "<table border=\"1\" class=\"dataframe\">\n",
              "  <thead>\n",
              "    <tr style=\"text-align: right;\">\n",
              "      <th></th>\n",
              "      <th>id</th>\n",
              "      <th>name</th>\n",
              "      <th>lang</th>\n",
              "      <th>bot</th>\n",
              "      <th>created_at</th>\n",
              "      <th>statuses_count</th>\n",
              "      <th>created_at_conv</th>\n",
              "    </tr>\n",
              "  </thead>\n",
              "  <tbody>\n",
              "    <tr>\n",
              "      <th>0</th>\n",
              "      <td>2353593986</td>\n",
              "      <td>Lamonica Raborn</td>\n",
              "      <td>en</td>\n",
              "      <td>1</td>\n",
              "      <td>2019-02-22 18:00:42</td>\n",
              "      <td>76</td>\n",
              "      <td>1550858442000000000</td>\n",
              "    </tr>\n",
              "    <tr>\n",
              "      <th>1</th>\n",
              "      <td>2358850842</td>\n",
              "      <td>Lourie Botton</td>\n",
              "      <td>en</td>\n",
              "      <td>0</td>\n",
              "      <td>2019-02-26 03:02:32</td>\n",
              "      <td>54</td>\n",
              "      <td>1551150152000000000</td>\n",
              "    </tr>\n",
              "    <tr>\n",
              "      <th>2</th>\n",
              "      <td>137959629</td>\n",
              "      <td>Dadan Syarifudin</td>\n",
              "      <td>en</td>\n",
              "      <td>1</td>\n",
              "      <td>2015-04-30 07:09:56</td>\n",
              "      <td>3</td>\n",
              "      <td>1430377796000000000</td>\n",
              "    </tr>\n",
              "    <tr>\n",
              "      <th>3</th>\n",
              "      <td>466124818</td>\n",
              "      <td>Carletto Focia</td>\n",
              "      <td>it</td>\n",
              "      <td>1</td>\n",
              "      <td>2017-01-18 02:49:18</td>\n",
              "      <td>50</td>\n",
              "      <td>1484707758000000000</td>\n",
              "    </tr>\n",
              "    <tr>\n",
              "      <th>4</th>\n",
              "      <td>2571493866</td>\n",
              "      <td>MBK Ebook</td>\n",
              "      <td>en</td>\n",
              "      <td>0</td>\n",
              "      <td>2019-06-18 19:30:21</td>\n",
              "      <td>7085</td>\n",
              "      <td>1560886221000000000</td>\n",
              "    </tr>\n",
              "    <tr>\n",
              "      <th>...</th>\n",
              "      <td>...</td>\n",
              "      <td>...</td>\n",
              "      <td>...</td>\n",
              "      <td>...</td>\n",
              "      <td>...</td>\n",
              "      <td>...</td>\n",
              "      <td>...</td>\n",
              "    </tr>\n",
              "    <tr>\n",
              "      <th>11503</th>\n",
              "      <td>2911861962</td>\n",
              "      <td>Madrid Lae Maika .</td>\n",
              "      <td>en</td>\n",
              "      <td>0</td>\n",
              "      <td>2019-11-29 13:16:02</td>\n",
              "      <td>1126</td>\n",
              "      <td>1575033362000000000</td>\n",
              "    </tr>\n",
              "    <tr>\n",
              "      <th>11504</th>\n",
              "      <td>1378532629</td>\n",
              "      <td>Clau Sato</td>\n",
              "      <td>en</td>\n",
              "      <td>0</td>\n",
              "      <td>2018-04-27 03:01:58</td>\n",
              "      <td>3024</td>\n",
              "      <td>1524798118000000000</td>\n",
              "    </tr>\n",
              "    <tr>\n",
              "      <th>11505</th>\n",
              "      <td>126984069</td>\n",
              "      <td>ALMA LETICIA NUÑO</td>\n",
              "      <td>es</td>\n",
              "      <td>0</td>\n",
              "      <td>2015-03-29 17:01:24</td>\n",
              "      <td>6</td>\n",
              "      <td>1427648484000000000</td>\n",
              "    </tr>\n",
              "    <tr>\n",
              "      <th>11506</th>\n",
              "      <td>2383025796</td>\n",
              "      <td>Minnie Guadagno</td>\n",
              "      <td>en</td>\n",
              "      <td>1</td>\n",
              "      <td>2019-03-13 02:44:13</td>\n",
              "      <td>42</td>\n",
              "      <td>1552445053000000000</td>\n",
              "    </tr>\n",
              "    <tr>\n",
              "      <th>11507</th>\n",
              "      <td>933183398</td>\n",
              "      <td>Corvanna</td>\n",
              "      <td>en</td>\n",
              "      <td>0</td>\n",
              "      <td>2017-11-09 23:24:16</td>\n",
              "      <td>5279</td>\n",
              "      <td>1510269856000000000</td>\n",
              "    </tr>\n",
              "  </tbody>\n",
              "</table>\n",
              "<p>11508 rows × 7 columns</p>\n",
              "</div>\n",
              "      <button class=\"colab-df-convert\" onclick=\"convertToInteractive('df-e0721aba-7ca7-4b3d-91c6-04448cfd007e')\"\n",
              "              title=\"Convert this dataframe to an interactive table.\"\n",
              "              style=\"display:none;\">\n",
              "        \n",
              "  <svg xmlns=\"http://www.w3.org/2000/svg\" height=\"24px\"viewBox=\"0 0 24 24\"\n",
              "       width=\"24px\">\n",
              "    <path d=\"M0 0h24v24H0V0z\" fill=\"none\"/>\n",
              "    <path d=\"M18.56 5.44l.94 2.06.94-2.06 2.06-.94-2.06-.94-.94-2.06-.94 2.06-2.06.94zm-11 1L8.5 8.5l.94-2.06 2.06-.94-2.06-.94L8.5 2.5l-.94 2.06-2.06.94zm10 10l.94 2.06.94-2.06 2.06-.94-2.06-.94-.94-2.06-.94 2.06-2.06.94z\"/><path d=\"M17.41 7.96l-1.37-1.37c-.4-.4-.92-.59-1.43-.59-.52 0-1.04.2-1.43.59L10.3 9.45l-7.72 7.72c-.78.78-.78 2.05 0 2.83L4 21.41c.39.39.9.59 1.41.59.51 0 1.02-.2 1.41-.59l7.78-7.78 2.81-2.81c.8-.78.8-2.07 0-2.86zM5.41 20L4 18.59l7.72-7.72 1.47 1.35L5.41 20z\"/>\n",
              "  </svg>\n",
              "      </button>\n",
              "      \n",
              "  <style>\n",
              "    .colab-df-container {\n",
              "      display:flex;\n",
              "      flex-wrap:wrap;\n",
              "      gap: 12px;\n",
              "    }\n",
              "\n",
              "    .colab-df-convert {\n",
              "      background-color: #E8F0FE;\n",
              "      border: none;\n",
              "      border-radius: 50%;\n",
              "      cursor: pointer;\n",
              "      display: none;\n",
              "      fill: #1967D2;\n",
              "      height: 32px;\n",
              "      padding: 0 0 0 0;\n",
              "      width: 32px;\n",
              "    }\n",
              "\n",
              "    .colab-df-convert:hover {\n",
              "      background-color: #E2EBFA;\n",
              "      box-shadow: 0px 1px 2px rgba(60, 64, 67, 0.3), 0px 1px 3px 1px rgba(60, 64, 67, 0.15);\n",
              "      fill: #174EA6;\n",
              "    }\n",
              "\n",
              "    [theme=dark] .colab-df-convert {\n",
              "      background-color: #3B4455;\n",
              "      fill: #D2E3FC;\n",
              "    }\n",
              "\n",
              "    [theme=dark] .colab-df-convert:hover {\n",
              "      background-color: #434B5C;\n",
              "      box-shadow: 0px 1px 3px 1px rgba(0, 0, 0, 0.15);\n",
              "      filter: drop-shadow(0px 1px 2px rgba(0, 0, 0, 0.3));\n",
              "      fill: #FFFFFF;\n",
              "    }\n",
              "  </style>\n",
              "\n",
              "      <script>\n",
              "        const buttonEl =\n",
              "          document.querySelector('#df-e0721aba-7ca7-4b3d-91c6-04448cfd007e button.colab-df-convert');\n",
              "        buttonEl.style.display =\n",
              "          google.colab.kernel.accessAllowed ? 'block' : 'none';\n",
              "\n",
              "        async function convertToInteractive(key) {\n",
              "          const element = document.querySelector('#df-e0721aba-7ca7-4b3d-91c6-04448cfd007e');\n",
              "          const dataTable =\n",
              "            await google.colab.kernel.invokeFunction('convertToInteractive',\n",
              "                                                     [key], {});\n",
              "          if (!dataTable) return;\n",
              "\n",
              "          const docLinkHtml = 'Like what you see? Visit the ' +\n",
              "            '<a target=\"_blank\" href=https://colab.research.google.com/notebooks/data_table.ipynb>data table notebook</a>'\n",
              "            + ' to learn more about interactive tables.';\n",
              "          element.innerHTML = '';\n",
              "          dataTable['output_type'] = 'display_data';\n",
              "          await google.colab.output.renderOutput(dataTable, element);\n",
              "          const docLink = document.createElement('div');\n",
              "          docLink.innerHTML = docLinkHtml;\n",
              "          element.appendChild(docLink);\n",
              "        }\n",
              "      </script>\n",
              "    </div>\n",
              "  </div>\n",
              "  "
            ]
          },
          "metadata": {},
          "execution_count": 50
        }
      ],
      "source": [
        "df_users['created_at_conv'] = pd.to_datetime(df_users['created_at']).astype(np.int64)\n",
        "df_users"
      ]
    },
    {
      "cell_type": "code",
      "execution_count": null,
      "metadata": {
        "colab": {
          "base_uri": "https://localhost:8080/",
          "height": 294
        },
        "id": "OKAwEBV42d5Q",
        "outputId": "c45af848-1af5-4a30-9dd2-fc514d3e1da5"
      },
      "outputs": [
        {
          "output_type": "execute_result",
          "data": {
            "text/plain": [
              "<matplotlib.axes._subplots.AxesSubplot at 0x7f0bfda024d0>"
            ]
          },
          "metadata": {},
          "execution_count": 89
        },
        {
          "output_type": "display_data",
          "data": {
            "text/plain": [
              "<Figure size 432x288 with 1 Axes>"
            ],
            "image/png": "[encoded data removed]"
          },
          "metadata": {
            "needs_background": "light"
          }
        }
      ],
      "source": [
        "df_users.boxplot(['created_at_conv'], showmeans=True)"
      ]
    },
    {
      "cell_type": "code",
      "source": [
        "df_users.hist(['created_at_conv'])"
      ],
      "metadata": {
        "colab": {
          "base_uri": "https://localhost:8080/",
          "height": 329
        },
        "id": "fdzeNwnyLej_",
        "outputId": "5895e782-e876-4c3d-e6a5-82dbf2bac3c2"
      },
      "execution_count": null,
      "outputs": [
        {
          "output_type": "execute_result",
          "data": {
            "text/plain": [
              "array([[<matplotlib.axes._subplots.AxesSubplot object at 0x7f0bfd9fd650>]],\n",
              "      dtype=object)"
            ]
          },
          "metadata": {},
          "execution_count": 91
        },
        {
          "output_type": "display_data",
          "data": {
            "text/plain": [
              "<Figure size 432x288 with 1 Axes>"
            ],
            "image/png": "[encoded data removed]"
          },
          "metadata": {
            "needs_background": "light"
          }
        }
      ]
    },
    {
      "cell_type": "code",
      "source": [
        "df_users[np.logical_and(df_users['created_at_conv'] > 1.50e18, df_users['created_at_conv'] < 1.56e18)] # Min: 2017-07-14 05:34:46 Max: 2019-06-08 10:26:46"
      ],
      "metadata": {
        "id": "NCFAH7upL0AW"
      },
      "execution_count": null,
      "outputs": []
    },
    {
      "cell_type": "markdown",
      "source": [
        "Users below the 0.001 Quantile (outliers), still have possible created_at values (2012 is plausible, unlike 1960).\n",
        "If any analyses should be performed on the created_at column we must take into account that there are many outliers."
      ],
      "metadata": {
        "id": "kZTx45b0LG1E"
      }
    },
    {
      "cell_type": "code",
      "execution_count": null,
      "metadata": {
        "colab": {
          "base_uri": "https://localhost:8080/",
          "height": 426
        },
        "id": "RWCkoAIi2d5Q",
        "outputId": "70f70ebf-7d83-4deb-f9c6-3e0ab21fbbd6"
      },
      "outputs": [
        {
          "output_type": "execute_result",
          "data": {
            "text/plain": [
              "            id                  name lang  bot           created_at  \\\n",
              "875     755116                    呉⚛   en    0  2012-02-08 05:25:49   \n",
              "1501   3873101        تاتسو موناكاتا   en    0  2012-04-10 07:28:52   \n",
              "1610    887281          Paul Youlten   en    0  2012-03-11 22:25:08   \n",
              "1966    785080                   W H   en    0  2012-02-23 01:08:16   \n",
              "3285   1813221        Morgan Johnson   en    0  2012-03-22 23:43:40   \n",
              "3878    678033          Heather Gold   en    0  2012-01-24 01:57:38   \n",
              "6261   1382561                jojoko   en    0  2012-03-18 23:24:35   \n",
              "6983   2770511                    べン   en    0  2012-03-30 02:31:13   \n",
              "7192    806585     Christopher Mahan   en    0  2012-03-03 17:27:49   \n",
              "10660   755746  Sarah Friedlander G.   en    0  2012-02-09 05:21:24   \n",
              "10988   806975          Mrinal Desai   en    0  2012-03-03 20:00:04   \n",
              "11430   722623          Buzz Jackson   en    0  2012-01-31 00:54:34   \n",
              "\n",
              "       statuses_count      created_at_conv  \n",
              "875             39158  1328678749000000000  \n",
              "1501           106335  1334042932000000000  \n",
              "1610              626  1331504708000000000  \n",
              "1966            22496  1329959296000000000  \n",
              "3285            20225  1332459820000000000  \n",
              "3878            45825  1327370258000000000  \n",
              "6261             8236  1332113075000000000  \n",
              "6983            38140  1333074673000000000  \n",
              "7192            29997  1330795669000000000  \n",
              "10660           18035  1328764884000000000  \n",
              "10988           28400  1330804804000000000  \n",
              "11430           11770  1327971274000000000  "
            ],
            "text/html": [
              "\n",
              "  <div id=\"df-08330205-9cc5-4b55-972e-900cec26bf6a\">\n",
              "    <div class=\"colab-df-container\">\n",
              "      <div>\n",
              "<style scoped>\n",
              "    .dataframe tbody tr th:only-of-type {\n",
              "        vertical-align: middle;\n",
              "    }\n",
              "\n",
              "    .dataframe tbody tr th {\n",
              "        vertical-align: top;\n",
              "    }\n",
              "\n",
              "    .dataframe thead th {\n",
              "        text-align: right;\n",
              "    }\n",
              "</style>\n",
              "<table border=\"1\" class=\"dataframe\">\n",
              "  <thead>\n",
              "    <tr style=\"text-align: right;\">\n",
              "      <th></th>\n",
              "      <th>id</th>\n",
              "      <th>name</th>\n",
              "      <th>lang</th>\n",
              "      <th>bot</th>\n",
              "      <th>created_at</th>\n",
              "      <th>statuses_count</th>\n",
              "      <th>created_at_conv</th>\n",
              "    </tr>\n",
              "  </thead>\n",
              "  <tbody>\n",
              "    <tr>\n",
              "      <th>875</th>\n",
              "      <td>755116</td>\n",
              "      <td>呉⚛</td>\n",
              "      <td>en</td>\n",
              "      <td>0</td>\n",
              "      <td>2012-02-08 05:25:49</td>\n",
              "      <td>39158</td>\n",
              "      <td>1328678749000000000</td>\n",
              "    </tr>\n",
              "    <tr>\n",
              "      <th>1501</th>\n",
              "      <td>3873101</td>\n",
              "      <td>تاتسو موناكاتا</td>\n",
              "      <td>en</td>\n",
              "      <td>0</td>\n",
              "      <td>2012-04-10 07:28:52</td>\n",
              "      <td>106335</td>\n",
              "      <td>1334042932000000000</td>\n",
              "    </tr>\n",
              "    <tr>\n",
              "      <th>1610</th>\n",
              "      <td>887281</td>\n",
              "      <td>Paul Youlten</td>\n",
              "      <td>en</td>\n",
              "      <td>0</td>\n",
              "      <td>2012-03-11 22:25:08</td>\n",
              "      <td>626</td>\n",
              "      <td>1331504708000000000</td>\n",
              "    </tr>\n",
              "    <tr>\n",
              "      <th>1966</th>\n",
              "      <td>785080</td>\n",
              "      <td>W H</td>\n",
              "      <td>en</td>\n",
              "      <td>0</td>\n",
              "      <td>2012-02-23 01:08:16</td>\n",
              "      <td>22496</td>\n",
              "      <td>1329959296000000000</td>\n",
              "    </tr>\n",
              "    <tr>\n",
              "      <th>3285</th>\n",
              "      <td>1813221</td>\n",
              "      <td>Morgan Johnson</td>\n",
              "      <td>en</td>\n",
              "      <td>0</td>\n",
              "      <td>2012-03-22 23:43:40</td>\n",
              "      <td>20225</td>\n",
              "      <td>1332459820000000000</td>\n",
              "    </tr>\n",
              "    <tr>\n",
              "      <th>3878</th>\n",
              "      <td>678033</td>\n",
              "      <td>Heather Gold</td>\n",
              "      <td>en</td>\n",
              "      <td>0</td>\n",
              "      <td>2012-01-24 01:57:38</td>\n",
              "      <td>45825</td>\n",
              "      <td>1327370258000000000</td>\n",
              "    </tr>\n",
              "    <tr>\n",
              "      <th>6261</th>\n",
              "      <td>1382561</td>\n",
              "      <td>jojoko</td>\n",
              "      <td>en</td>\n",
              "      <td>0</td>\n",
              "      <td>2012-03-18 23:24:35</td>\n",
              "      <td>8236</td>\n",
              "      <td>1332113075000000000</td>\n",
              "    </tr>\n",
              "    <tr>\n",
              "      <th>6983</th>\n",
              "      <td>2770511</td>\n",
              "      <td>べン</td>\n",
              "      <td>en</td>\n",
              "      <td>0</td>\n",
              "      <td>2012-03-30 02:31:13</td>\n",
              "      <td>38140</td>\n",
              "      <td>1333074673000000000</td>\n",
              "    </tr>\n",
              "    <tr>\n",
              "      <th>7192</th>\n",
              "      <td>806585</td>\n",
              "      <td>Christopher Mahan</td>\n",
              "      <td>en</td>\n",
              "      <td>0</td>\n",
              "      <td>2012-03-03 17:27:49</td>\n",
              "      <td>29997</td>\n",
              "      <td>1330795669000000000</td>\n",
              "    </tr>\n",
              "    <tr>\n",
              "      <th>10660</th>\n",
              "      <td>755746</td>\n",
              "      <td>Sarah Friedlander G.</td>\n",
              "      <td>en</td>\n",
              "      <td>0</td>\n",
              "      <td>2012-02-09 05:21:24</td>\n",
              "      <td>18035</td>\n",
              "      <td>1328764884000000000</td>\n",
              "    </tr>\n",
              "    <tr>\n",
              "      <th>10988</th>\n",
              "      <td>806975</td>\n",
              "      <td>Mrinal Desai</td>\n",
              "      <td>en</td>\n",
              "      <td>0</td>\n",
              "      <td>2012-03-03 20:00:04</td>\n",
              "      <td>28400</td>\n",
              "      <td>1330804804000000000</td>\n",
              "    </tr>\n",
              "    <tr>\n",
              "      <th>11430</th>\n",
              "      <td>722623</td>\n",
              "      <td>Buzz Jackson</td>\n",
              "      <td>en</td>\n",
              "      <td>0</td>\n",
              "      <td>2012-01-31 00:54:34</td>\n",
              "      <td>11770</td>\n",
              "      <td>1327971274000000000</td>\n",
              "    </tr>\n",
              "  </tbody>\n",
              "</table>\n",
              "</div>\n",
              "      <button class=\"colab-df-convert\" onclick=\"convertToInteractive('df-08330205-9cc5-4b55-972e-900cec26bf6a')\"\n",
              "              title=\"Convert this dataframe to an interactive table.\"\n",
              "              style=\"display:none;\">\n",
              "        \n",
              "  <svg xmlns=\"http://www.w3.org/2000/svg\" height=\"24px\"viewBox=\"0 0 24 24\"\n",
              "       width=\"24px\">\n",
              "    <path d=\"M0 0h24v24H0V0z\" fill=\"none\"/>\n",
              "    <path d=\"M18.56 5.44l.94 2.06.94-2.06 2.06-.94-2.06-.94-.94-2.06-.94 2.06-2.06.94zm-11 1L8.5 8.5l.94-2.06 2.06-.94-2.06-.94L8.5 2.5l-.94 2.06-2.06.94zm10 10l.94 2.06.94-2.06 2.06-.94-2.06-.94-.94-2.06-.94 2.06-2.06.94z\"/><path d=\"M17.41 7.96l-1.37-1.37c-.4-.4-.92-.59-1.43-.59-.52 0-1.04.2-1.43.59L10.3 9.45l-7.72 7.72c-.78.78-.78 2.05 0 2.83L4 21.41c.39.39.9.59 1.41.59.51 0 1.02-.2 1.41-.59l7.78-7.78 2.81-2.81c.8-.78.8-2.07 0-2.86zM5.41 20L4 18.59l7.72-7.72 1.47 1.35L5.41 20z\"/>\n",
              "  </svg>\n",
              "      </button>\n",
              "      \n",
              "  <style>\n",
              "    .colab-df-container {\n",
              "      display:flex;\n",
              "      flex-wrap:wrap;\n",
              "      gap: 12px;\n",
              "    }\n",
              "\n",
              "    .colab-df-convert {\n",
              "      background-color: #E8F0FE;\n",
              "      border: none;\n",
              "      border-radius: 50%;\n",
              "      cursor: pointer;\n",
              "      display: none;\n",
              "      fill: #1967D2;\n",
              "      height: 32px;\n",
              "      padding: 0 0 0 0;\n",
              "      width: 32px;\n",
              "    }\n",
              "\n",
              "    .colab-df-convert:hover {\n",
              "      background-color: #E2EBFA;\n",
              "      box-shadow: 0px 1px 2px rgba(60, 64, 67, 0.3), 0px 1px 3px 1px rgba(60, 64, 67, 0.15);\n",
              "      fill: #174EA6;\n",
              "    }\n",
              "\n",
              "    [theme=dark] .colab-df-convert {\n",
              "      background-color: #3B4455;\n",
              "      fill: #D2E3FC;\n",
              "    }\n",
              "\n",
              "    [theme=dark] .colab-df-convert:hover {\n",
              "      background-color: #434B5C;\n",
              "      box-shadow: 0px 1px 3px 1px rgba(0, 0, 0, 0.15);\n",
              "      filter: drop-shadow(0px 1px 2px rgba(0, 0, 0, 0.3));\n",
              "      fill: #FFFFFF;\n",
              "    }\n",
              "  </style>\n",
              "\n",
              "      <script>\n",
              "        const buttonEl =\n",
              "          document.querySelector('#df-08330205-9cc5-4b55-972e-900cec26bf6a button.colab-df-convert');\n",
              "        buttonEl.style.display =\n",
              "          google.colab.kernel.accessAllowed ? 'block' : 'none';\n",
              "\n",
              "        async function convertToInteractive(key) {\n",
              "          const element = document.querySelector('#df-08330205-9cc5-4b55-972e-900cec26bf6a');\n",
              "          const dataTable =\n",
              "            await google.colab.kernel.invokeFunction('convertToInteractive',\n",
              "                                                     [key], {});\n",
              "          if (!dataTable) return;\n",
              "\n",
              "          const docLinkHtml = 'Like what you see? Visit the ' +\n",
              "            '<a target=\"_blank\" href=https://colab.research.google.com/notebooks/data_table.ipynb>data table notebook</a>'\n",
              "            + ' to learn more about interactive tables.';\n",
              "          element.innerHTML = '';\n",
              "          dataTable['output_type'] = 'display_data';\n",
              "          await google.colab.output.renderOutput(dataTable, element);\n",
              "          const docLink = document.createElement('div');\n",
              "          docLink.innerHTML = docLinkHtml;\n",
              "          element.appendChild(docLink);\n",
              "        }\n",
              "      </script>\n",
              "    </div>\n",
              "  </div>\n",
              "  "
            ]
          },
          "metadata": {},
          "execution_count": 90
        }
      ],
      "source": [
        "df_users[df_users['created_at_conv'] < df_users['created_at_conv'].quantile(0.001)]"
      ]
    },
    {
      "cell_type": "code",
      "execution_count": null,
      "metadata": {
        "id": "-JrWboKl2d5R",
        "outputId": "b334d61d-3d56-4e47-dfeb-7dd3643bfb21"
      },
      "outputs": [
        {
          "data": {
            "text/plain": [
              "1    6116\n",
              "0    5392\n",
              "Name: bot, dtype: int64"
            ]
          },
          "execution_count": 175,
          "metadata": {},
          "output_type": "execute_result"
        }
      ],
      "source": [
        "df_users['bot'].value_counts()"
      ]
    },
    {
      "cell_type": "markdown",
      "metadata": {
        "id": "1gbFDIAe2d5S"
      },
      "source": [
        "# Language field\n",
        "There are some mispellings, so we are going to replace the mispelled ones to the correct ones, which are:\n",
        "- en-gb to en-GB\n",
        "- zh-tw to zh-TW\n",
        "\n",
        "There are also two wrong values, 'Select Language...' and 'xx-lc', related to three users in total.\n",
        "To understand the impact of the possible changes the number of tweets contained in the tweets file have been taken in account. The accounts seem to be active and have a lot of related tweets. The attribute is categorical so this value could be replaced by the mode which is the 'en' language. \n",
        "Since there are only three users, to double-check the validity of our choice the relative tweets have been analyzed. The check confirmed that 'en' is the right choice."
      ]
    },
    {
      "cell_type": "code",
      "execution_count": null,
      "metadata": {
        "colab": {
          "base_uri": "https://localhost:8080/"
        },
        "id": "QOchK3Cf2d5T",
        "outputId": "7563a226-d975-4aec-83a1-43230e68f933"
      },
      "outputs": [
        {
          "output_type": "execute_result",
          "data": {
            "text/plain": [
              "en                    9970\n",
              "it                     906\n",
              "es                     319\n",
              "pt                      65\n",
              "en-gb                   50\n",
              "ru                      42\n",
              "fr                      36\n",
              "ja                      33\n",
              "zh-tw                   17\n",
              "tr                      14\n",
              "id                      12\n",
              "ko                       9\n",
              "de                       8\n",
              "nl                       6\n",
              "en-GB                    4\n",
              "ar                       3\n",
              "zh-TW                    3\n",
              "da                       2\n",
              "Select Language...       2\n",
              "en-AU                    1\n",
              "zh-cn                    1\n",
              "pl                       1\n",
              "el                       1\n",
              "fil                      1\n",
              "sv                       1\n",
              "xx-lc                    1\n",
              "Name: lang, dtype: int64"
            ]
          },
          "metadata": {},
          "execution_count": 17
        }
      ],
      "source": [
        "df_users['lang'].value_counts()"
      ]
    },
    {
      "cell_type": "code",
      "execution_count": null,
      "metadata": {
        "id": "xAJlYkj42d5U"
      },
      "outputs": [],
      "source": [
        "df_users['lang'].replace({'en-gb':'en-GB','zh-tw':'zh-TW'}, inplace=True)"
      ]
    },
    {
      "cell_type": "code",
      "execution_count": null,
      "metadata": {
        "colab": {
          "base_uri": "https://localhost:8080/"
        },
        "id": "UdwWvQ_62d5V",
        "outputId": "b4930e81-ab07-4bf9-d1c4-6156765de77f"
      },
      "outputs": [
        {
          "output_type": "execute_result",
          "data": {
            "text/plain": [
              "en                    9970\n",
              "it                     906\n",
              "es                     319\n",
              "pt                      65\n",
              "en-GB                   54\n",
              "ru                      42\n",
              "fr                      36\n",
              "ja                      33\n",
              "zh-TW                   20\n",
              "tr                      14\n",
              "id                      12\n",
              "ko                       9\n",
              "de                       8\n",
              "nl                       6\n",
              "ar                       3\n",
              "da                       2\n",
              "Select Language...       2\n",
              "en-AU                    1\n",
              "zh-cn                    1\n",
              "pl                       1\n",
              "el                       1\n",
              "fil                      1\n",
              "sv                       1\n",
              "xx-lc                    1\n",
              "Name: lang, dtype: int64"
            ]
          },
          "metadata": {},
          "execution_count": 104
        }
      ],
      "source": [
        "df_users['lang'].value_counts()"
      ]
    },
    {
      "cell_type": "code",
      "execution_count": null,
      "metadata": {
        "colab": {
          "base_uri": "https://localhost:8080/",
          "height": 143
        },
        "id": "Kxyp0YHs2d5X",
        "outputId": "0a497ba6-e9ee-4fb4-beef-2ab57970ceda"
      },
      "outputs": [
        {
          "output_type": "execute_result",
          "data": {
            "text/plain": [
              "               id          name                lang  bot           created_at  \\\n",
              "4166   2956613720  Leanne Arker  Select Language...    0  2020-01-05 00:09:59   \n",
              "8666   2904858613        Brooke  Select Language...    0  2019-11-22 05:44:46   \n",
              "10065    29552151        Chloe                xx-lc    0  2014-04-09 21:36:02   \n",
              "\n",
              "       statuses_count      created_at_conv  \n",
              "4166               57  1578182999000000000  \n",
              "8666               85  1574401486000000000  \n",
              "10065           15398  1397079362000000000  "
            ],
            "text/html": [
              "\n",
              "  <div id=\"df-8d52caa7-cc4e-4bfa-9ed4-9dd17e4b512e\">\n",
              "    <div class=\"colab-df-container\">\n",
              "      <div>\n",
              "<style scoped>\n",
              "    .dataframe tbody tr th:only-of-type {\n",
              "        vertical-align: middle;\n",
              "    }\n",
              "\n",
              "    .dataframe tbody tr th {\n",
              "        vertical-align: top;\n",
              "    }\n",
              "\n",
              "    .dataframe thead th {\n",
              "        text-align: right;\n",
              "    }\n",
              "</style>\n",
              "<table border=\"1\" class=\"dataframe\">\n",
              "  <thead>\n",
              "    <tr style=\"text-align: right;\">\n",
              "      <th></th>\n",
              "      <th>id</th>\n",
              "      <th>name</th>\n",
              "      <th>lang</th>\n",
              "      <th>bot</th>\n",
              "      <th>created_at</th>\n",
              "      <th>statuses_count</th>\n",
              "      <th>created_at_conv</th>\n",
              "    </tr>\n",
              "  </thead>\n",
              "  <tbody>\n",
              "    <tr>\n",
              "      <th>4166</th>\n",
              "      <td>2956613720</td>\n",
              "      <td>Leanne Arker</td>\n",
              "      <td>Select Language...</td>\n",
              "      <td>0</td>\n",
              "      <td>2020-01-05 00:09:59</td>\n",
              "      <td>57</td>\n",
              "      <td>1578182999000000000</td>\n",
              "    </tr>\n",
              "    <tr>\n",
              "      <th>8666</th>\n",
              "      <td>2904858613</td>\n",
              "      <td>Brooke</td>\n",
              "      <td>Select Language...</td>\n",
              "      <td>0</td>\n",
              "      <td>2019-11-22 05:44:46</td>\n",
              "      <td>85</td>\n",
              "      <td>1574401486000000000</td>\n",
              "    </tr>\n",
              "    <tr>\n",
              "      <th>10065</th>\n",
              "      <td>29552151</td>\n",
              "      <td>Chloe</td>\n",
              "      <td>xx-lc</td>\n",
              "      <td>0</td>\n",
              "      <td>2014-04-09 21:36:02</td>\n",
              "      <td>15398</td>\n",
              "      <td>1397079362000000000</td>\n",
              "    </tr>\n",
              "  </tbody>\n",
              "</table>\n",
              "</div>\n",
              "      <button class=\"colab-df-convert\" onclick=\"convertToInteractive('df-8d52caa7-cc4e-4bfa-9ed4-9dd17e4b512e')\"\n",
              "              title=\"Convert this dataframe to an interactive table.\"\n",
              "              style=\"display:none;\">\n",
              "        \n",
              "  <svg xmlns=\"http://www.w3.org/2000/svg\" height=\"24px\"viewBox=\"0 0 24 24\"\n",
              "       width=\"24px\">\n",
              "    <path d=\"M0 0h24v24H0V0z\" fill=\"none\"/>\n",
              "    <path d=\"M18.56 5.44l.94 2.06.94-2.06 2.06-.94-2.06-.94-.94-2.06-.94 2.06-2.06.94zm-11 1L8.5 8.5l.94-2.06 2.06-.94-2.06-.94L8.5 2.5l-.94 2.06-2.06.94zm10 10l.94 2.06.94-2.06 2.06-.94-2.06-.94-.94-2.06-.94 2.06-2.06.94z\"/><path d=\"M17.41 7.96l-1.37-1.37c-.4-.4-.92-.59-1.43-.59-.52 0-1.04.2-1.43.59L10.3 9.45l-7.72 7.72c-.78.78-.78 2.05 0 2.83L4 21.41c.39.39.9.59 1.41.59.51 0 1.02-.2 1.41-.59l7.78-7.78 2.81-2.81c.8-.78.8-2.07 0-2.86zM5.41 20L4 18.59l7.72-7.72 1.47 1.35L5.41 20z\"/>\n",
              "  </svg>\n",
              "      </button>\n",
              "      \n",
              "  <style>\n",
              "    .colab-df-container {\n",
              "      display:flex;\n",
              "      flex-wrap:wrap;\n",
              "      gap: 12px;\n",
              "    }\n",
              "\n",
              "    .colab-df-convert {\n",
              "      background-color: #E8F0FE;\n",
              "      border: none;\n",
              "      border-radius: 50%;\n",
              "      cursor: pointer;\n",
              "      display: none;\n",
              "      fill: #1967D2;\n",
              "      height: 32px;\n",
              "      padding: 0 0 0 0;\n",
              "      width: 32px;\n",
              "    }\n",
              "\n",
              "    .colab-df-convert:hover {\n",
              "      background-color: #E2EBFA;\n",
              "      box-shadow: 0px 1px 2px rgba(60, 64, 67, 0.3), 0px 1px 3px 1px rgba(60, 64, 67, 0.15);\n",
              "      fill: #174EA6;\n",
              "    }\n",
              "\n",
              "    [theme=dark] .colab-df-convert {\n",
              "      background-color: #3B4455;\n",
              "      fill: #D2E3FC;\n",
              "    }\n",
              "\n",
              "    [theme=dark] .colab-df-convert:hover {\n",
              "      background-color: #434B5C;\n",
              "      box-shadow: 0px 1px 3px 1px rgba(0, 0, 0, 0.15);\n",
              "      filter: drop-shadow(0px 1px 2px rgba(0, 0, 0, 0.3));\n",
              "      fill: #FFFFFF;\n",
              "    }\n",
              "  </style>\n",
              "\n",
              "      <script>\n",
              "        const buttonEl =\n",
              "          document.querySelector('#df-8d52caa7-cc4e-4bfa-9ed4-9dd17e4b512e button.colab-df-convert');\n",
              "        buttonEl.style.display =\n",
              "          google.colab.kernel.accessAllowed ? 'block' : 'none';\n",
              "\n",
              "        async function convertToInteractive(key) {\n",
              "          const element = document.querySelector('#df-8d52caa7-cc4e-4bfa-9ed4-9dd17e4b512e');\n",
              "          const dataTable =\n",
              "            await google.colab.kernel.invokeFunction('convertToInteractive',\n",
              "                                                     [key], {});\n",
              "          if (!dataTable) return;\n",
              "\n",
              "          const docLinkHtml = 'Like what you see? Visit the ' +\n",
              "            '<a target=\"_blank\" href=https://colab.research.google.com/notebooks/data_table.ipynb>data table notebook</a>'\n",
              "            + ' to learn more about interactive tables.';\n",
              "          element.innerHTML = '';\n",
              "          dataTable['output_type'] = 'display_data';\n",
              "          await google.colab.output.renderOutput(dataTable, element);\n",
              "          const docLink = document.createElement('div');\n",
              "          docLink.innerHTML = docLinkHtml;\n",
              "          element.appendChild(docLink);\n",
              "        }\n",
              "      </script>\n",
              "    </div>\n",
              "  </div>\n",
              "  "
            ]
          },
          "metadata": {},
          "execution_count": 106
        }
      ],
      "source": [
        "df_users[np.logical_or(df_users['lang'] == 'Select Language...', df_users['lang'] == 'xx-lc')]"
      ]
    },
    {
      "cell_type": "markdown",
      "source": [
        "Select all tweets that have the user_ids of people who have \"Select Language...\" and \"xx-lc\" as language"
      ],
      "metadata": {
        "id": "Rr8csjUaNcWt"
      }
    },
    {
      "cell_type": "code",
      "execution_count": null,
      "metadata": {
        "colab": {
          "base_uri": "https://localhost:8080/",
          "height": 468
        },
        "id": "IU2DqLtY2d5Z",
        "outputId": "e6851768-c686-48f4-d3d0-ec2ac8aaf17e"
      },
      "outputs": [
        {
          "output_type": "execute_result",
          "data": {
            "text/plain": [
              "                          id   user_id retweet_count reply_count  \\\n",
              "6119      491274532679081984  29552151             0           0   \n",
              "12218     488693001456463872  29552151             0           0   \n",
              "15946     485410906692919297  29552151             0           0   \n",
              "16947       1683542282301364  29552151             0         NaN   \n",
              "17457             7055458923  29552151           NaN         0.0   \n",
              "...                      ...       ...           ...         ...   \n",
              "13633429  492646759857152000  29552151             0           0   \n",
              "13634576  479715963076874241  29552151             0           0   \n",
              "13637349  562936922881159168  29552151             0           0   \n",
              "13640124  481513416465854464  29552151             0           0   \n",
              "13653170  480838207362572289  29552151             0           0   \n",
              "\n",
              "         favorite_count num_hashtags num_urls num_mentions  \\\n",
              "6119                  0            0        0            0   \n",
              "12218                 0            0        0            0   \n",
              "15946                 0            0        0            0   \n",
              "16947               0.0          NaN      0.0          NaN   \n",
              "17457               NaN          0.0      0.0            0   \n",
              "...                 ...          ...      ...          ...   \n",
              "13633429              0            0        0            0   \n",
              "13634576              0            0        0            0   \n",
              "13637349              0            0        0            0   \n",
              "13640124              0            0        0            0   \n",
              "13653170              0            0        0            0   \n",
              "\n",
              "                   created_at  \\\n",
              "6119      2019-07-23 17:32:30   \n",
              "12218     2019-07-16 14:34:25   \n",
              "15946     2019-07-07 13:12:33   \n",
              "16947     2019-07-16 20:58:50   \n",
              "17457     2020-02-27 20:17:18   \n",
              "...                       ...   \n",
              "13633429  2019-07-27 12:25:15   \n",
              "13634576  2019-06-21 20:02:52   \n",
              "13637349  2020-02-06 11:33:15   \n",
              "13640124  2019-06-26 19:05:19   \n",
              "13653170  2019-06-24 22:22:16   \n",
              "\n",
              "                                                       text  \n",
              "6119      Spent the majority of my day drawing around, c...  \n",
              "12218       We all love dem cuddles. http://t.co/fPrcnUfacS  \n",
              "15946                  Dog sitting until 8 tonight. Again..  \n",
              "16947                                                   NaN  \n",
              "17457               The chocolate is soooooooooooo amazing.  \n",
              "...                                                     ...  \n",
              "13633429  @Cock_Penis Around 4 hopefully...Got to go to ...  \n",
              "13634576       I'd love to have white hair for real though.  \n",
              "13637349  Is there a way to wake up without feeling like...  \n",
              "13640124  ...and my nails are obviously being painted bl...  \n",
              "13653170              Most of all, I have tattoos lined up.  \n",
              "\n",
              "[2378 rows x 10 columns]"
            ],
            "text/html": [
              "\n",
              "  <div id=\"df-9ff00f4e-73d9-4480-bf7f-140991d7f6f3\">\n",
              "    <div class=\"colab-df-container\">\n",
              "      <div>\n",
              "<style scoped>\n",
              "    .dataframe tbody tr th:only-of-type {\n",
              "        vertical-align: middle;\n",
              "    }\n",
              "\n",
              "    .dataframe tbody tr th {\n",
              "        vertical-align: top;\n",
              "    }\n",
              "\n",
              "    .dataframe thead th {\n",
              "        text-align: right;\n",
              "    }\n",
              "</style>\n",
              "<table border=\"1\" class=\"dataframe\">\n",
              "  <thead>\n",
              "    <tr style=\"text-align: right;\">\n",
              "      <th></th>\n",
              "      <th>id</th>\n",
              "      <th>user_id</th>\n",
              "      <th>retweet_count</th>\n",
              "      <th>reply_count</th>\n",
              "      <th>favorite_count</th>\n",
              "      <th>num_hashtags</th>\n",
              "      <th>num_urls</th>\n",
              "      <th>num_mentions</th>\n",
              "      <th>created_at</th>\n",
              "      <th>text</th>\n",
              "    </tr>\n",
              "  </thead>\n",
              "  <tbody>\n",
              "    <tr>\n",
              "      <th>6119</th>\n",
              "      <td>491274532679081984</td>\n",
              "      <td>29552151</td>\n",
              "      <td>0</td>\n",
              "      <td>0</td>\n",
              "      <td>0</td>\n",
              "      <td>0</td>\n",
              "      <td>0</td>\n",
              "      <td>0</td>\n",
              "      <td>2019-07-23 17:32:30</td>\n",
              "      <td>Spent the majority of my day drawing around, c...</td>\n",
              "    </tr>\n",
              "    <tr>\n",
              "      <th>12218</th>\n",
              "      <td>488693001456463872</td>\n",
              "      <td>29552151</td>\n",
              "      <td>0</td>\n",
              "      <td>0</td>\n",
              "      <td>0</td>\n",
              "      <td>0</td>\n",
              "      <td>0</td>\n",
              "      <td>0</td>\n",
              "      <td>2019-07-16 14:34:25</td>\n",
              "      <td>We all love dem cuddles. http://t.co/fPrcnUfacS</td>\n",
              "    </tr>\n",
              "    <tr>\n",
              "      <th>15946</th>\n",
              "      <td>485410906692919297</td>\n",
              "      <td>29552151</td>\n",
              "      <td>0</td>\n",
              "      <td>0</td>\n",
              "      <td>0</td>\n",
              "      <td>0</td>\n",
              "      <td>0</td>\n",
              "      <td>0</td>\n",
              "      <td>2019-07-07 13:12:33</td>\n",
              "      <td>Dog sitting until 8 tonight. Again..</td>\n",
              "    </tr>\n",
              "    <tr>\n",
              "      <th>16947</th>\n",
              "      <td>1683542282301364</td>\n",
              "      <td>29552151</td>\n",
              "      <td>0</td>\n",
              "      <td>NaN</td>\n",
              "      <td>0.0</td>\n",
              "      <td>NaN</td>\n",
              "      <td>0.0</td>\n",
              "      <td>NaN</td>\n",
              "      <td>2019-07-16 20:58:50</td>\n",
              "      <td>NaN</td>\n",
              "    </tr>\n",
              "    <tr>\n",
              "      <th>17457</th>\n",
              "      <td>7055458923</td>\n",
              "      <td>29552151</td>\n",
              "      <td>NaN</td>\n",
              "      <td>0.0</td>\n",
              "      <td>NaN</td>\n",
              "      <td>0.0</td>\n",
              "      <td>0.0</td>\n",
              "      <td>0</td>\n",
              "      <td>2020-02-27 20:17:18</td>\n",
              "      <td>The chocolate is soooooooooooo amazing.</td>\n",
              "    </tr>\n",
              "    <tr>\n",
              "      <th>...</th>\n",
              "      <td>...</td>\n",
              "      <td>...</td>\n",
              "      <td>...</td>\n",
              "      <td>...</td>\n",
              "      <td>...</td>\n",
              "      <td>...</td>\n",
              "      <td>...</td>\n",
              "      <td>...</td>\n",
              "      <td>...</td>\n",
              "      <td>...</td>\n",
              "    </tr>\n",
              "    <tr>\n",
              "      <th>13633429</th>\n",
              "      <td>492646759857152000</td>\n",
              "      <td>29552151</td>\n",
              "      <td>0</td>\n",
              "      <td>0</td>\n",
              "      <td>0</td>\n",
              "      <td>0</td>\n",
              "      <td>0</td>\n",
              "      <td>0</td>\n",
              "      <td>2019-07-27 12:25:15</td>\n",
              "      <td>@Cock_Penis Around 4 hopefully...Got to go to ...</td>\n",
              "    </tr>\n",
              "    <tr>\n",
              "      <th>13634576</th>\n",
              "      <td>479715963076874241</td>\n",
              "      <td>29552151</td>\n",
              "      <td>0</td>\n",
              "      <td>0</td>\n",
              "      <td>0</td>\n",
              "      <td>0</td>\n",
              "      <td>0</td>\n",
              "      <td>0</td>\n",
              "      <td>2019-06-21 20:02:52</td>\n",
              "      <td>I'd love to have white hair for real though.</td>\n",
              "    </tr>\n",
              "    <tr>\n",
              "      <th>13637349</th>\n",
              "      <td>562936922881159168</td>\n",
              "      <td>29552151</td>\n",
              "      <td>0</td>\n",
              "      <td>0</td>\n",
              "      <td>0</td>\n",
              "      <td>0</td>\n",
              "      <td>0</td>\n",
              "      <td>0</td>\n",
              "      <td>2020-02-06 11:33:15</td>\n",
              "      <td>Is there a way to wake up without feeling like...</td>\n",
              "    </tr>\n",
              "    <tr>\n",
              "      <th>13640124</th>\n",
              "      <td>481513416465854464</td>\n",
              "      <td>29552151</td>\n",
              "      <td>0</td>\n",
              "      <td>0</td>\n",
              "      <td>0</td>\n",
              "      <td>0</td>\n",
              "      <td>0</td>\n",
              "      <td>0</td>\n",
              "      <td>2019-06-26 19:05:19</td>\n",
              "      <td>...and my nails are obviously being painted bl...</td>\n",
              "    </tr>\n",
              "    <tr>\n",
              "      <th>13653170</th>\n",
              "      <td>480838207362572289</td>\n",
              "      <td>29552151</td>\n",
              "      <td>0</td>\n",
              "      <td>0</td>\n",
              "      <td>0</td>\n",
              "      <td>0</td>\n",
              "      <td>0</td>\n",
              "      <td>0</td>\n",
              "      <td>2019-06-24 22:22:16</td>\n",
              "      <td>Most of all, I have tattoos lined up.</td>\n",
              "    </tr>\n",
              "  </tbody>\n",
              "</table>\n",
              "<p>2378 rows × 10 columns</p>\n",
              "</div>\n",
              "      <button class=\"colab-df-convert\" onclick=\"convertToInteractive('df-9ff00f4e-73d9-4480-bf7f-140991d7f6f3')\"\n",
              "              title=\"Convert this dataframe to an interactive table.\"\n",
              "              style=\"display:none;\">\n",
              "        \n",
              "  <svg xmlns=\"http://www.w3.org/2000/svg\" height=\"24px\"viewBox=\"0 0 24 24\"\n",
              "       width=\"24px\">\n",
              "    <path d=\"M0 0h24v24H0V0z\" fill=\"none\"/>\n",
              "    <path d=\"M18.56 5.44l.94 2.06.94-2.06 2.06-.94-2.06-.94-.94-2.06-.94 2.06-2.06.94zm-11 1L8.5 8.5l.94-2.06 2.06-.94-2.06-.94L8.5 2.5l-.94 2.06-2.06.94zm10 10l.94 2.06.94-2.06 2.06-.94-2.06-.94-.94-2.06-.94 2.06-2.06.94z\"/><path d=\"M17.41 7.96l-1.37-1.37c-.4-.4-.92-.59-1.43-.59-.52 0-1.04.2-1.43.59L10.3 9.45l-7.72 7.72c-.78.78-.78 2.05 0 2.83L4 21.41c.39.39.9.59 1.41.59.51 0 1.02-.2 1.41-.59l7.78-7.78 2.81-2.81c.8-.78.8-2.07 0-2.86zM5.41 20L4 18.59l7.72-7.72 1.47 1.35L5.41 20z\"/>\n",
              "  </svg>\n",
              "      </button>\n",
              "      \n",
              "  <style>\n",
              "    .colab-df-container {\n",
              "      display:flex;\n",
              "      flex-wrap:wrap;\n",
              "      gap: 12px;\n",
              "    }\n",
              "\n",
              "    .colab-df-convert {\n",
              "      background-color: #E8F0FE;\n",
              "      border: none;\n",
              "      border-radius: 50%;\n",
              "      cursor: pointer;\n",
              "      display: none;\n",
              "      fill: #1967D2;\n",
              "      height: 32px;\n",
              "      padding: 0 0 0 0;\n",
              "      width: 32px;\n",
              "    }\n",
              "\n",
              "    .colab-df-convert:hover {\n",
              "      background-color: #E2EBFA;\n",
              "      box-shadow: 0px 1px 2px rgba(60, 64, 67, 0.3), 0px 1px 3px 1px rgba(60, 64, 67, 0.15);\n",
              "      fill: #174EA6;\n",
              "    }\n",
              "\n",
              "    [theme=dark] .colab-df-convert {\n",
              "      background-color: #3B4455;\n",
              "      fill: #D2E3FC;\n",
              "    }\n",
              "\n",
              "    [theme=dark] .colab-df-convert:hover {\n",
              "      background-color: #434B5C;\n",
              "      box-shadow: 0px 1px 3px 1px rgba(0, 0, 0, 0.15);\n",
              "      filter: drop-shadow(0px 1px 2px rgba(0, 0, 0, 0.3));\n",
              "      fill: #FFFFFF;\n",
              "    }\n",
              "  </style>\n",
              "\n",
              "      <script>\n",
              "        const buttonEl =\n",
              "          document.querySelector('#df-9ff00f4e-73d9-4480-bf7f-140991d7f6f3 button.colab-df-convert');\n",
              "        buttonEl.style.display =\n",
              "          google.colab.kernel.accessAllowed ? 'block' : 'none';\n",
              "\n",
              "        async function convertToInteractive(key) {\n",
              "          const element = document.querySelector('#df-9ff00f4e-73d9-4480-bf7f-140991d7f6f3');\n",
              "          const dataTable =\n",
              "            await google.colab.kernel.invokeFunction('convertToInteractive',\n",
              "                                                     [key], {});\n",
              "          if (!dataTable) return;\n",
              "\n",
              "          const docLinkHtml = 'Like what you see? Visit the ' +\n",
              "            '<a target=\"_blank\" href=https://colab.research.google.com/notebooks/data_table.ipynb>data table notebook</a>'\n",
              "            + ' to learn more about interactive tables.';\n",
              "          element.innerHTML = '';\n",
              "          dataTable['output_type'] = 'display_data';\n",
              "          await google.colab.output.renderOutput(dataTable, element);\n",
              "          const docLink = document.createElement('div');\n",
              "          docLink.innerHTML = docLinkHtml;\n",
              "          element.appendChild(docLink);\n",
              "        }\n",
              "      </script>\n",
              "    </div>\n",
              "  </div>\n",
              "  "
            ]
          },
          "metadata": {},
          "execution_count": 19
        }
      ],
      "source": [
        "ids = df_users[np.logical_or(df_users['lang'] == 'Select Language...', df_users['lang'] == 'xx-lc')].id.values.astype(str)\n",
        "pd.set_option('display.max_rows',200)\n",
        "df_tweets[df_tweets['user_id'].isin(ids[2:])]"
      ]
    },
    {
      "cell_type": "code",
      "execution_count": null,
      "metadata": {
        "id": "9x0mHFLQ2d5a"
      },
      "outputs": [],
      "source": [
        "df_users['lang'].replace({'Select Language...':'en','xx-lc':'en'}, inplace=True)"
      ]
    },
    {
      "cell_type": "code",
      "execution_count": null,
      "metadata": {
        "colab": {
          "base_uri": "https://localhost:8080/"
        },
        "id": "nY1g74hj2d5b",
        "outputId": "c917376d-133b-4ff5-9bfc-901b5613d6e7"
      },
      "outputs": [
        {
          "output_type": "execute_result",
          "data": {
            "text/plain": [
              "en       9973\n",
              "it        906\n",
              "es        319\n",
              "pt         65\n",
              "en-GB      54\n",
              "ru         42\n",
              "fr         36\n",
              "ja         33\n",
              "zh-TW      20\n",
              "tr         14\n",
              "id         12\n",
              "ko          9\n",
              "de          8\n",
              "nl          6\n",
              "ar          3\n",
              "da          2\n",
              "en-AU       1\n",
              "zh-cn       1\n",
              "pl          1\n",
              "el          1\n",
              "fil         1\n",
              "sv          1\n",
              "Name: lang, dtype: int64"
            ]
          },
          "metadata": {},
          "execution_count": 109
        }
      ],
      "source": [
        "df_users['lang'].value_counts()"
      ]
    },
    {
      "cell_type": "markdown",
      "metadata": {
        "id": "T6l4lR3Z2d5b"
      },
      "source": [
        "# Tweets csv cleaning\n",
        "\n",
        "## id\n",
        "In the id column there are only two missing values. Since the column is not meaningful for the analysis phase, the column is dropped.\n",
        "\n",
        "## user_id \n",
        "In the user_id column there are a lot of missing values, wrong values (non numerical ids) and 210778 user ids do not have any correspondance with users file. Nevertheless, these records have been kept because the other columns could be useful for future analyses.\n",
        "\n",
        "## retweet_count\n"
      ]
    },
    {
      "cell_type": "code",
      "execution_count": null,
      "metadata": {
        "colab": {
          "base_uri": "https://localhost:8080/"
        },
        "id": "zR03prbk2d5c",
        "outputId": "be838abf-e517-458d-8382-dc29b4d07397"
      },
      "outputs": [
        {
          "output_type": "stream",
          "name": "stdout",
          "text": [
            "<class 'pandas.core.frame.DataFrame'>\n",
            "Int64Index: 11712348 entries, 0 to 13664695\n",
            "Data columns (total 10 columns):\n",
            " #   Column          Non-Null Count     Dtype \n",
            "---  ------          --------------     ----- \n",
            " 0   id              11712346 non-null  object\n",
            " 1   user_id         11495314 non-null  object\n",
            " 2   retweet_count   11275326 non-null  object\n",
            " 3   reply_count     11064671 non-null  object\n",
            " 4   favorite_count  11064981 non-null  object\n",
            " 5   num_hashtags    10655073 non-null  object\n",
            " 6   num_urls        11063920 non-null  object\n",
            " 7   num_mentions    10858432 non-null  object\n",
            " 8   created_at      11712348 non-null  object\n",
            " 9   text            11182415 non-null  object\n",
            "dtypes: object(10)\n",
            "memory usage: 982.9+ MB\n"
          ]
        }
      ],
      "source": [
        "df_tweets_single.info(show_counts=True)"
      ]
    },
    {
      "cell_type": "code",
      "execution_count": null,
      "metadata": {
        "id": "q2yDN_Mv2d5d"
      },
      "outputs": [],
      "source": [
        "df_tweets_single.drop(columns=['id'], inplace=True)"
      ]
    },
    {
      "cell_type": "code",
      "source": [
        "df_tweets_single.to_csv('df_tweets_single.csv')"
      ],
      "metadata": {
        "id": "cO8sRCvbIja2"
      },
      "execution_count": null,
      "outputs": []
    },
    {
      "cell_type": "markdown",
      "source": [
        "Select records which have both user_id and text values which are null"
      ],
      "metadata": {
        "id": "IjxjRpfxPqCZ"
      }
    },
    {
      "cell_type": "code",
      "execution_count": null,
      "metadata": {
        "colab": {
          "base_uri": "https://localhost:8080/"
        },
        "id": "djljtlsx2d5e",
        "outputId": "56859be3-a50f-4efe-a259-cb56d0ce6186"
      },
      "outputs": [
        {
          "output_type": "stream",
          "name": "stderr",
          "text": [
            "/usr/local/lib/python3.7/dist-packages/ipykernel_launcher.py:1: UserWarning: Boolean Series key will be reindexed to match DataFrame index.\n",
            "  \"\"\"Entry point for launching an IPython kernel.\n"
          ]
        },
        {
          "output_type": "stream",
          "name": "stdout",
          "text": [
            "<class 'pandas.core.frame.DataFrame'>\n",
            "Int64Index: 56118 entries, 42 to 13664257\n",
            "Data columns (total 9 columns):\n",
            " #   Column          Non-Null Count  Dtype \n",
            "---  ------          --------------  ----- \n",
            " 0   user_id         0 non-null      object\n",
            " 1   retweet_count   51567 non-null  object\n",
            " 2   reply_count     25737 non-null  object\n",
            " 3   favorite_count  50960 non-null  object\n",
            " 4   num_hashtags    392 non-null    object\n",
            " 5   num_urls        26107 non-null  object\n",
            " 6   num_mentions    466 non-null    object\n",
            " 7   created_at      56118 non-null  object\n",
            " 8   text            0 non-null      object\n",
            "dtypes: object(9)\n",
            "memory usage: 4.3+ MB\n"
          ]
        }
      ],
      "source": [
        "df_tweets_single[np.logical_and(df_tweets['user_id'].isnull(), df_tweets['text'].isnull())].info()"
      ]
    },
    {
      "cell_type": "markdown",
      "source": [
        "Merge users table with tweets table by user_id"
      ],
      "metadata": {
        "id": "PVzDFA4LPvz5"
      }
    },
    {
      "cell_type": "code",
      "execution_count": null,
      "metadata": {
        "id": "g8riGfkQ2d5f"
      },
      "outputs": [],
      "source": [
        "df_users.id = df_users.id.astype(str)\n",
        "merged = df_tweets_single.merge(df_users, left_on='user_id', right_on='id', how='left')"
      ]
    },
    {
      "cell_type": "code",
      "execution_count": null,
      "metadata": {
        "colab": {
          "base_uri": "https://localhost:8080/"
        },
        "id": "hLY2jqY92d5f",
        "outputId": "1f6806a0-458e-4fcd-dd7f-19bf2d2e9b97"
      },
      "outputs": [
        {
          "output_type": "execute_result",
          "data": {
            "text/plain": [
              "(11712348, 9)"
            ]
          },
          "metadata": {},
          "execution_count": 113
        }
      ],
      "source": [
        "df_tweets_single.shape"
      ]
    },
    {
      "cell_type": "code",
      "execution_count": null,
      "metadata": {
        "colab": {
          "base_uri": "https://localhost:8080/"
        },
        "id": "VPs8nrmx2d5g",
        "outputId": "e6d7c715-aa81-48a0-bbe0-f1b2cc36ace3"
      },
      "outputs": [
        {
          "output_type": "execute_result",
          "data": {
            "text/plain": [
              "(11712348, 16)"
            ]
          },
          "metadata": {},
          "execution_count": 114
        }
      ],
      "source": [
        "merged.shape"
      ]
    },
    {
      "cell_type": "markdown",
      "metadata": {
        "id": "u0cJRNIW2d5i"
      },
      "source": [
        "Number of `user_id` that have no correspondance in users file."
      ]
    },
    {
      "cell_type": "code",
      "execution_count": null,
      "metadata": {
        "colab": {
          "base_uri": "https://localhost:8080/"
        },
        "id": "kV3nTRMN2d5h",
        "outputId": "ea7ed851-4351-486a-ecf5-6467de67eb36"
      },
      "outputs": [
        {
          "output_type": "execute_result",
          "data": {
            "text/plain": [
              "210778"
            ]
          },
          "metadata": {},
          "execution_count": 24
        }
      ],
      "source": [
        "len(merged[merged['id'].isnull()].user_id.unique())"
      ]
    },
    {
      "cell_type": "markdown",
      "source": [
        "Cast retweet_count values in a new column to float (there are number to big for int) and set to -1.0 when there is a value which is not a number"
      ],
      "metadata": {
        "id": "zQD1w2ozQQ2o"
      }
    },
    {
      "cell_type": "code",
      "execution_count": null,
      "metadata": {
        "id": "hk0bXkrc2d5i"
      },
      "outputs": [],
      "source": [
        "def to_float(x):\n",
        "    try:\n",
        "        return float(x)\n",
        "    except:\n",
        "        return -1.0\n",
        "    \n",
        "df_tweets_single['retweet_count_conv'] = df_tweets_single.retweet_count.apply(to_float)"
      ]
    },
    {
      "cell_type": "code",
      "source": [
        "df_tweets_single.drop(columns=['retweet_count'], inplace=True)"
      ],
      "metadata": {
        "id": "6oYBKle0aNgE"
      },
      "execution_count": null,
      "outputs": []
    },
    {
      "cell_type": "code",
      "execution_count": null,
      "metadata": {
        "colab": {
          "base_uri": "https://localhost:8080/"
        },
        "id": "jB8WHdoR2d5j",
        "outputId": "3cb521f4-60a6-4f1c-abd0-81413e846efb"
      },
      "outputs": [
        {
          "output_type": "stream",
          "name": "stdout",
          "text": [
            "<class 'pandas.core.frame.DataFrame'>\n",
            "Int64Index: 11712348 entries, 0 to 13664695\n",
            "Data columns (total 9 columns):\n",
            " #   Column              Dtype  \n",
            "---  ------              -----  \n",
            " 0   user_id             object \n",
            " 1   reply_count         object \n",
            " 2   favorite_count      object \n",
            " 3   num_hashtags        object \n",
            " 4   num_urls            object \n",
            " 5   num_mentions        object \n",
            " 6   created_at          object \n",
            " 7   text                object \n",
            " 8   retweet_count_conv  float64\n",
            "dtypes: float64(1), object(8)\n",
            "memory usage: 893.6+ MB\n"
          ]
        }
      ],
      "source": [
        "df_tweets_single.info()"
      ]
    },
    {
      "cell_type": "code",
      "execution_count": null,
      "metadata": {
        "id": "NXUfXyiC2d5k"
      },
      "outputs": [],
      "source": [
        "droppe = df_tweets_single[np.logical_and(df_tweets_single['retweet_count_conv'] != -1.0, df_tweets_single['retweet_count_conv'] < 1e30)]"
      ]
    },
    {
      "cell_type": "code",
      "execution_count": null,
      "metadata": {
        "colab": {
          "base_uri": "https://localhost:8080/",
          "height": 265
        },
        "id": "j55Bt6cB2d5k",
        "outputId": "c8e9c9e8-bead-4dcf-835d-d186c6a66fb8"
      },
      "outputs": [
        {
          "output_type": "display_data",
          "data": {
            "text/plain": [
              "<Figure size 432x288 with 1 Axes>"
            ],
            "image/png": "[encoded data removed]"
          },
          "metadata": {
            "needs_background": "light"
          }
        }
      ],
      "source": [
        "plt.boxplot(droppe.retweet_count_conv,showmeans=True)\n",
        "plt.yscale('log')\n",
        "plt.show()"
      ]
    },
    {
      "cell_type": "markdown",
      "metadata": {
        "id": "7kfuMRxs2d5l"
      },
      "source": [
        "The boxplot is not informative, so we investigate this field by means of an histogram."
      ]
    },
    {
      "cell_type": "code",
      "execution_count": null,
      "metadata": {
        "colab": {
          "base_uri": "https://localhost:8080/",
          "height": 559
        },
        "id": "RxYweXrZ2d5m",
        "outputId": "63e0d518-3410-4fe2-bc5a-5d6135bed781"
      },
      "outputs": [
        {
          "output_type": "stream",
          "name": "stderr",
          "text": [
            "/usr/local/lib/python3.7/dist-packages/ipykernel_launcher.py:3: RuntimeWarning: divide by zero encountered in log\n",
            "  This is separate from the ipykernel package so we can avoid doing imports until\n",
            "/usr/local/lib/python3.7/dist-packages/ipykernel_launcher.py:3: SettingWithCopyWarning: \n",
            "A value is trying to be set on a copy of a slice from a DataFrame.\n",
            "Try using .loc[row_indexer,col_indexer] = value instead\n",
            "\n",
            "See the caveats in the documentation: https://pandas.pydata.org/pandas-docs/stable/user_guide/indexing.html#returning-a-view-versus-a-copy\n",
            "  This is separate from the ipykernel package so we can avoid doing imports until\n",
            "/usr/local/lib/python3.7/dist-packages/ipykernel_launcher.py:4: SettingWithCopyWarning: \n",
            "A value is trying to be set on a copy of a slice from a DataFrame.\n",
            "Try using .loc[row_indexer,col_indexer] = value instead\n",
            "\n",
            "See the caveats in the documentation: https://pandas.pydata.org/pandas-docs/stable/user_guide/indexing.html#returning-a-view-versus-a-copy\n",
            "  after removing the cwd from sys.path.\n"
          ]
        },
        {
          "output_type": "execute_result",
          "data": {
            "text/plain": [
              "array([[<matplotlib.axes._subplots.AxesSubplot object at 0x7faa48d4c290>]],\n",
              "      dtype=object)"
            ]
          },
          "metadata": {},
          "execution_count": 13
        },
        {
          "output_type": "display_data",
          "data": {
            "text/plain": [
              "<Figure size 432x288 with 1 Axes>"
            ],
            "image/png": "[encoded data removed]"
          },
          "metadata": {
            "needs_background": "light"
          }
        }
      ],
      "source": [
        "import math\n",
        "\n",
        "droppe['retweet_count_log'] = np.log(droppe.retweet_count_conv.values)\n",
        "droppe['retweet_count_log'] = droppe.retweet_count_log.replace(-np.inf, 0)\n",
        "n_bins = math.ceil(np.log2(len(droppe['retweet_count_log'])) + 1) #Sturges' rule\n",
        "droppe.hist('retweet_count_log', bins=n_bins, log=True)"
      ]
    },
    {
      "cell_type": "code",
      "execution_count": null,
      "metadata": {
        "id": "nl5nzFmK2d5p",
        "outputId": "c83e8ae4-eb61-4ddd-fd55-ed62769520cc"
      },
      "outputs": [
        {
          "name": "stdout",
          "output_type": "stream",
          "text": [
            "mean: 697926.974898063\n",
            "median: 0.0\n"
          ]
        }
      ],
      "source": [
        "print(\"mean: \" + str(np.mean(droppe.retweet_count_conv.values)))\n",
        "print(\"median: \" + str(np.median(droppe.retweet_count_conv.values)))"
      ]
    },
    {
      "cell_type": "markdown",
      "metadata": {
        "id": "MLbgNO6G2d5q"
      },
      "source": [
        "As it is possible to see the distribution is positively skewed. Considering the statistical indicators, it is clear that the mean is too much influenced by outliers so the median has been taken in account."
      ]
    },
    {
      "cell_type": "code",
      "execution_count": null,
      "metadata": {
        "id": "YTPj_WZv2d5r"
      },
      "outputs": [],
      "source": [
        "df_tweets_single['retweet_count_conv'].replace({-1.0: 0}, inplace=True)\n",
        "#df_appoggio[df_appoggio['retweet_count_conv'] < 0].value_counts()"
      ]
    },
    {
      "cell_type": "markdown",
      "metadata": {
        "id": "9ATRU2Br2d5s"
      },
      "source": [
        "## TODO understand why there are NaN numbers in retweet_count_conv and replace all the wrong values"
      ]
    },
    {
      "cell_type": "markdown",
      "source": [
        "# Clean strings in retweet counts"
      ],
      "metadata": {
        "id": "6JnCph6weVhy"
      }
    },
    {
      "cell_type": "markdown",
      "source": [
        "Some records have inf as value of retweet_count_conv column, that is because they were too big to be cast. These numbers are probably noise."
      ],
      "metadata": {
        "id": "_GSow0xyYemK"
      }
    },
    {
      "cell_type": "code",
      "source": [
        "df_tweets_single[df_tweets_single['retweet_count_conv'] > 1e100]"
      ],
      "metadata": {
        "colab": {
          "base_uri": "https://localhost:8080/",
          "height": 269
        },
        "id": "6WfbEGVvRTuB",
        "outputId": "a9421004-94a9-4b0b-f60b-16e2ff229233"
      },
      "execution_count": null,
      "outputs": [
        {
          "output_type": "execute_result",
          "data": {
            "text/plain": [
              "             user_id reply_count favorite_count num_hashtags num_urls  \\\n",
              "1606076   2374871490         0.0            0.0          NaN      NaN   \n",
              "4383092    521358579         NaN            0.0          NaN      0.0   \n",
              "7410558   2276634303         0.0            0.0          0.0   5zhxou   \n",
              "7626363    413655972         0.0            0.0          NaN      0.0   \n",
              "7695054   2498346724         0.0            NaN          NaN      NaN   \n",
              "8915555    201350011         NaN            NaN          NaN      NaN   \n",
              "11248552  e2cmhj4wyg         NaN           33.0          NaN      0.0   \n",
              "\n",
              "         num_mentions           created_at  \\\n",
              "1606076           NaN  2019-07-06 10:54:48   \n",
              "4383092           NaN  2019-10-05 03:46:47   \n",
              "7410558             1  2020-04-15 04:51:01   \n",
              "7626363             1  2019-04-17 03:43:32   \n",
              "7695054           NaN  2019-07-03 18:33:42   \n",
              "8915555           NaN  2018-05-05 15:15:05   \n",
              "11248552          NaN  2018-10-29 16:35:30   \n",
              "\n",
              "                                                       text  \\\n",
              "1606076                                                 NaN   \n",
              "4383092                                                 NaN   \n",
              "7410558          RT @_RJohnson22_: A Massage Is Well Needed   \n",
              "7626363   RT @BasebaIlDreams: \"She knows exactly what sh...   \n",
              "7695054                                    Cmon Switzerland   \n",
              "8915555   @EnlajugadaRCN @casaleantonio @jorgebermudezh ...   \n",
              "11248552                                                NaN   \n",
              "\n",
              "          retweet_count_conv  \n",
              "1606076        2.000000e+134  \n",
              "4383092                  inf  \n",
              "7410558                  inf  \n",
              "7626363                  inf  \n",
              "7695054                  inf  \n",
              "8915555                  inf  \n",
              "11248552                 inf  "
            ],
            "text/html": [
              "\n",
              "  <div id=\"df-c027df97-f6fb-4b57-b368-5520aff063da\">\n",
              "    <div class=\"colab-df-container\">\n",
              "      <div>\n",
              "<style scoped>\n",
              "    .dataframe tbody tr th:only-of-type {\n",
              "        vertical-align: middle;\n",
              "    }\n",
              "\n",
              "    .dataframe tbody tr th {\n",
              "        vertical-align: top;\n",
              "    }\n",
              "\n",
              "    .dataframe thead th {\n",
              "        text-align: right;\n",
              "    }\n",
              "</style>\n",
              "<table border=\"1\" class=\"dataframe\">\n",
              "  <thead>\n",
              "    <tr style=\"text-align: right;\">\n",
              "      <th></th>\n",
              "      <th>user_id</th>\n",
              "      <th>reply_count</th>\n",
              "      <th>favorite_count</th>\n",
              "      <th>num_hashtags</th>\n",
              "      <th>num_urls</th>\n",
              "      <th>num_mentions</th>\n",
              "      <th>created_at</th>\n",
              "      <th>text</th>\n",
              "      <th>retweet_count_conv</th>\n",
              "    </tr>\n",
              "  </thead>\n",
              "  <tbody>\n",
              "    <tr>\n",
              "      <th>1606076</th>\n",
              "      <td>2374871490</td>\n",
              "      <td>0.0</td>\n",
              "      <td>0.0</td>\n",
              "      <td>NaN</td>\n",
              "      <td>NaN</td>\n",
              "      <td>NaN</td>\n",
              "      <td>2019-07-06 10:54:48</td>\n",
              "      <td>NaN</td>\n",
              "      <td>2.000000e+134</td>\n",
              "    </tr>\n",
              "    <tr>\n",
              "      <th>4383092</th>\n",
              "      <td>521358579</td>\n",
              "      <td>NaN</td>\n",
              "      <td>0.0</td>\n",
              "      <td>NaN</td>\n",
              "      <td>0.0</td>\n",
              "      <td>NaN</td>\n",
              "      <td>2019-10-05 03:46:47</td>\n",
              "      <td>NaN</td>\n",
              "      <td>inf</td>\n",
              "    </tr>\n",
              "    <tr>\n",
              "      <th>7410558</th>\n",
              "      <td>2276634303</td>\n",
              "      <td>0.0</td>\n",
              "      <td>0.0</td>\n",
              "      <td>0.0</td>\n",
              "      <td>5zhxou</td>\n",
              "      <td>1</td>\n",
              "      <td>2020-04-15 04:51:01</td>\n",
              "      <td>RT @_RJohnson22_: A Massage Is Well Needed</td>\n",
              "      <td>inf</td>\n",
              "    </tr>\n",
              "    <tr>\n",
              "      <th>7626363</th>\n",
              "      <td>413655972</td>\n",
              "      <td>0.0</td>\n",
              "      <td>0.0</td>\n",
              "      <td>NaN</td>\n",
              "      <td>0.0</td>\n",
              "      <td>1</td>\n",
              "      <td>2019-04-17 03:43:32</td>\n",
              "      <td>RT @BasebaIlDreams: \"She knows exactly what sh...</td>\n",
              "      <td>inf</td>\n",
              "    </tr>\n",
              "    <tr>\n",
              "      <th>7695054</th>\n",
              "      <td>2498346724</td>\n",
              "      <td>0.0</td>\n",
              "      <td>NaN</td>\n",
              "      <td>NaN</td>\n",
              "      <td>NaN</td>\n",
              "      <td>NaN</td>\n",
              "      <td>2019-07-03 18:33:42</td>\n",
              "      <td>Cmon Switzerland</td>\n",
              "      <td>inf</td>\n",
              "    </tr>\n",
              "    <tr>\n",
              "      <th>8915555</th>\n",
              "      <td>201350011</td>\n",
              "      <td>NaN</td>\n",
              "      <td>NaN</td>\n",
              "      <td>NaN</td>\n",
              "      <td>NaN</td>\n",
              "      <td>NaN</td>\n",
              "      <td>2018-05-05 15:15:05</td>\n",
              "      <td>@EnlajugadaRCN @casaleantonio @jorgebermudezh ...</td>\n",
              "      <td>inf</td>\n",
              "    </tr>\n",
              "    <tr>\n",
              "      <th>11248552</th>\n",
              "      <td>e2cmhj4wyg</td>\n",
              "      <td>NaN</td>\n",
              "      <td>33.0</td>\n",
              "      <td>NaN</td>\n",
              "      <td>0.0</td>\n",
              "      <td>NaN</td>\n",
              "      <td>2018-10-29 16:35:30</td>\n",
              "      <td>NaN</td>\n",
              "      <td>inf</td>\n",
              "    </tr>\n",
              "  </tbody>\n",
              "</table>\n",
              "</div>\n",
              "      <button class=\"colab-df-convert\" onclick=\"convertToInteractive('df-c027df97-f6fb-4b57-b368-5520aff063da')\"\n",
              "              title=\"Convert this dataframe to an interactive table.\"\n",
              "              style=\"display:none;\">\n",
              "        \n",
              "  <svg xmlns=\"http://www.w3.org/2000/svg\" height=\"24px\"viewBox=\"0 0 24 24\"\n",
              "       width=\"24px\">\n",
              "    <path d=\"M0 0h24v24H0V0z\" fill=\"none\"/>\n",
              "    <path d=\"M18.56 5.44l.94 2.06.94-2.06 2.06-.94-2.06-.94-.94-2.06-.94 2.06-2.06.94zm-11 1L8.5 8.5l.94-2.06 2.06-.94-2.06-.94L8.5 2.5l-.94 2.06-2.06.94zm10 10l.94 2.06.94-2.06 2.06-.94-2.06-.94-.94-2.06-.94 2.06-2.06.94z\"/><path d=\"M17.41 7.96l-1.37-1.37c-.4-.4-.92-.59-1.43-.59-.52 0-1.04.2-1.43.59L10.3 9.45l-7.72 7.72c-.78.78-.78 2.05 0 2.83L4 21.41c.39.39.9.59 1.41.59.51 0 1.02-.2 1.41-.59l7.78-7.78 2.81-2.81c.8-.78.8-2.07 0-2.86zM5.41 20L4 18.59l7.72-7.72 1.47 1.35L5.41 20z\"/>\n",
              "  </svg>\n",
              "      </button>\n",
              "      \n",
              "  <style>\n",
              "    .colab-df-container {\n",
              "      display:flex;\n",
              "      flex-wrap:wrap;\n",
              "      gap: 12px;\n",
              "    }\n",
              "\n",
              "    .colab-df-convert {\n",
              "      background-color: #E8F0FE;\n",
              "      border: none;\n",
              "      border-radius: 50%;\n",
              "      cursor: pointer;\n",
              "      display: none;\n",
              "      fill: #1967D2;\n",
              "      height: 32px;\n",
              "      padding: 0 0 0 0;\n",
              "      width: 32px;\n",
              "    }\n",
              "\n",
              "    .colab-df-convert:hover {\n",
              "      background-color: #E2EBFA;\n",
              "      box-shadow: 0px 1px 2px rgba(60, 64, 67, 0.3), 0px 1px 3px 1px rgba(60, 64, 67, 0.15);\n",
              "      fill: #174EA6;\n",
              "    }\n",
              "\n",
              "    [theme=dark] .colab-df-convert {\n",
              "      background-color: #3B4455;\n",
              "      fill: #D2E3FC;\n",
              "    }\n",
              "\n",
              "    [theme=dark] .colab-df-convert:hover {\n",
              "      background-color: #434B5C;\n",
              "      box-shadow: 0px 1px 3px 1px rgba(0, 0, 0, 0.15);\n",
              "      filter: drop-shadow(0px 1px 2px rgba(0, 0, 0, 0.3));\n",
              "      fill: #FFFFFF;\n",
              "    }\n",
              "  </style>\n",
              "\n",
              "      <script>\n",
              "        const buttonEl =\n",
              "          document.querySelector('#df-c027df97-f6fb-4b57-b368-5520aff063da button.colab-df-convert');\n",
              "        buttonEl.style.display =\n",
              "          google.colab.kernel.accessAllowed ? 'block' : 'none';\n",
              "\n",
              "        async function convertToInteractive(key) {\n",
              "          const element = document.querySelector('#df-c027df97-f6fb-4b57-b368-5520aff063da');\n",
              "          const dataTable =\n",
              "            await google.colab.kernel.invokeFunction('convertToInteractive',\n",
              "                                                     [key], {});\n",
              "          if (!dataTable) return;\n",
              "\n",
              "          const docLinkHtml = 'Like what you see? Visit the ' +\n",
              "            '<a target=\"_blank\" href=https://colab.research.google.com/notebooks/data_table.ipynb>data table notebook</a>'\n",
              "            + ' to learn more about interactive tables.';\n",
              "          element.innerHTML = '';\n",
              "          dataTable['output_type'] = 'display_data';\n",
              "          await google.colab.output.renderOutput(dataTable, element);\n",
              "          const docLink = document.createElement('div');\n",
              "          docLink.innerHTML = docLinkHtml;\n",
              "          element.appendChild(docLink);\n",
              "        }\n",
              "      </script>\n",
              "    </div>\n",
              "  </div>\n",
              "  "
            ]
          },
          "metadata": {},
          "execution_count": 19
        }
      ]
    },
    {
      "cell_type": "code",
      "source": [
        "df_tweets_single.info()"
      ],
      "metadata": {
        "colab": {
          "base_uri": "https://localhost:8080/"
        },
        "id": "sigJnpH-ZVe5",
        "outputId": "0bbb9905-1098-4eee-f75e-a33e5d2d0e6b"
      },
      "execution_count": null,
      "outputs": [
        {
          "output_type": "stream",
          "name": "stdout",
          "text": [
            "<class 'pandas.core.frame.DataFrame'>\n",
            "Int64Index: 11712348 entries, 0 to 13664695\n",
            "Data columns (total 10 columns):\n",
            " #   Column              Dtype  \n",
            "---  ------              -----  \n",
            " 0   user_id             object \n",
            " 1   retweet_count       object \n",
            " 2   reply_count         object \n",
            " 3   favorite_count      object \n",
            " 4   num_hashtags        object \n",
            " 5   num_urls            object \n",
            " 6   num_mentions        object \n",
            " 7   created_at          object \n",
            " 8   text                object \n",
            " 9   retweet_count_conv  float64\n",
            "dtypes: float64(1), object(9)\n",
            "memory usage: 982.9+ MB\n"
          ]
        }
      ]
    },
    {
      "cell_type": "markdown",
      "source": [
        "Drop all records that have inf value in the retweet_count field"
      ],
      "metadata": {
        "id": "4H3FPj8KY09W"
      }
    },
    {
      "cell_type": "code",
      "source": [
        "df_tweets_single[df_tweets_single['retweet_count_conv'] == np.inf]"
      ],
      "metadata": {
        "colab": {
          "base_uri": "https://localhost:8080/",
          "height": 386
        },
        "id": "iIoxJUfAYACK",
        "outputId": "5d435df8-bf8d-4ce6-ece8-50aab499fcb9"
      },
      "execution_count": null,
      "outputs": [
        {
          "output_type": "execute_result",
          "data": {
            "text/plain": [
              "             user_id retweet_count reply_count favorite_count num_hashtags  \\\n",
              "4383092    521358579       713e431         NaN            0.0          NaN   \n",
              "7410558   2276634303         4e757         0.0            0.0          0.0   \n",
              "7626363    413655972        3e7323         0.0            0.0          NaN   \n",
              "7695054   2498346724         6e743         0.0            NaN          NaN   \n",
              "8915555    201350011           inf         NaN            NaN          NaN   \n",
              "11248552  e2cmhj4wyg         1e531         NaN           33.0          NaN   \n",
              "\n",
              "         num_urls num_mentions           created_at  \\\n",
              "4383092       0.0          NaN  2019-10-05 03:46:47   \n",
              "7410558    5zhxou            1  2020-04-15 04:51:01   \n",
              "7626363       0.0            1  2019-04-17 03:43:32   \n",
              "7695054       NaN          NaN  2019-07-03 18:33:42   \n",
              "8915555       NaN          NaN  2018-05-05 15:15:05   \n",
              "11248552      0.0          NaN  2018-10-29 16:35:30   \n",
              "\n",
              "                                                       text  \\\n",
              "4383092                                                 NaN   \n",
              "7410558          RT @_RJohnson22_: A Massage Is Well Needed   \n",
              "7626363   RT @BasebaIlDreams: \"She knows exactly what sh...   \n",
              "7695054                                    Cmon Switzerland   \n",
              "8915555   @EnlajugadaRCN @casaleantonio @jorgebermudezh ...   \n",
              "11248552                                                NaN   \n",
              "\n",
              "          retweet_count_conv  \n",
              "4383092                  inf  \n",
              "7410558                  inf  \n",
              "7626363                  inf  \n",
              "7695054                  inf  \n",
              "8915555                  inf  \n",
              "11248552                 inf  "
            ],
            "text/html": [
              "\n",
              "  <div id=\"df-a5054c00-e613-4f71-8c7d-39e610465c20\">\n",
              "    <div class=\"colab-df-container\">\n",
              "      <div>\n",
              "<style scoped>\n",
              "    .dataframe tbody tr th:only-of-type {\n",
              "        vertical-align: middle;\n",
              "    }\n",
              "\n",
              "    .dataframe tbody tr th {\n",
              "        vertical-align: top;\n",
              "    }\n",
              "\n",
              "    .dataframe thead th {\n",
              "        text-align: right;\n",
              "    }\n",
              "</style>\n",
              "<table border=\"1\" class=\"dataframe\">\n",
              "  <thead>\n",
              "    <tr style=\"text-align: right;\">\n",
              "      <th></th>\n",
              "      <th>user_id</th>\n",
              "      <th>retweet_count</th>\n",
              "      <th>reply_count</th>\n",
              "      <th>favorite_count</th>\n",
              "      <th>num_hashtags</th>\n",
              "      <th>num_urls</th>\n",
              "      <th>num_mentions</th>\n",
              "      <th>created_at</th>\n",
              "      <th>text</th>\n",
              "      <th>retweet_count_conv</th>\n",
              "    </tr>\n",
              "  </thead>\n",
              "  <tbody>\n",
              "    <tr>\n",
              "      <th>4383092</th>\n",
              "      <td>521358579</td>\n",
              "      <td>713e431</td>\n",
              "      <td>NaN</td>\n",
              "      <td>0.0</td>\n",
              "      <td>NaN</td>\n",
              "      <td>0.0</td>\n",
              "      <td>NaN</td>\n",
              "      <td>2019-10-05 03:46:47</td>\n",
              "      <td>NaN</td>\n",
              "      <td>inf</td>\n",
              "    </tr>\n",
              "    <tr>\n",
              "      <th>7410558</th>\n",
              "      <td>2276634303</td>\n",
              "      <td>4e757</td>\n",
              "      <td>0.0</td>\n",
              "      <td>0.0</td>\n",
              "      <td>0.0</td>\n",
              "      <td>5zhxou</td>\n",
              "      <td>1</td>\n",
              "      <td>2020-04-15 04:51:01</td>\n",
              "      <td>RT @_RJohnson22_: A Massage Is Well Needed</td>\n",
              "      <td>inf</td>\n",
              "    </tr>\n",
              "    <tr>\n",
              "      <th>7626363</th>\n",
              "      <td>413655972</td>\n",
              "      <td>3e7323</td>\n",
              "      <td>0.0</td>\n",
              "      <td>0.0</td>\n",
              "      <td>NaN</td>\n",
              "      <td>0.0</td>\n",
              "      <td>1</td>\n",
              "      <td>2019-04-17 03:43:32</td>\n",
              "      <td>RT @BasebaIlDreams: \"She knows exactly what sh...</td>\n",
              "      <td>inf</td>\n",
              "    </tr>\n",
              "    <tr>\n",
              "      <th>7695054</th>\n",
              "      <td>2498346724</td>\n",
              "      <td>6e743</td>\n",
              "      <td>0.0</td>\n",
              "      <td>NaN</td>\n",
              "      <td>NaN</td>\n",
              "      <td>NaN</td>\n",
              "      <td>NaN</td>\n",
              "      <td>2019-07-03 18:33:42</td>\n",
              "      <td>Cmon Switzerland</td>\n",
              "      <td>inf</td>\n",
              "    </tr>\n",
              "    <tr>\n",
              "      <th>8915555</th>\n",
              "      <td>201350011</td>\n",
              "      <td>inf</td>\n",
              "      <td>NaN</td>\n",
              "      <td>NaN</td>\n",
              "      <td>NaN</td>\n",
              "      <td>NaN</td>\n",
              "      <td>NaN</td>\n",
              "      <td>2018-05-05 15:15:05</td>\n",
              "      <td>@EnlajugadaRCN @casaleantonio @jorgebermudezh ...</td>\n",
              "      <td>inf</td>\n",
              "    </tr>\n",
              "    <tr>\n",
              "      <th>11248552</th>\n",
              "      <td>e2cmhj4wyg</td>\n",
              "      <td>1e531</td>\n",
              "      <td>NaN</td>\n",
              "      <td>33.0</td>\n",
              "      <td>NaN</td>\n",
              "      <td>0.0</td>\n",
              "      <td>NaN</td>\n",
              "      <td>2018-10-29 16:35:30</td>\n",
              "      <td>NaN</td>\n",
              "      <td>inf</td>\n",
              "    </tr>\n",
              "  </tbody>\n",
              "</table>\n",
              "</div>\n",
              "      <button class=\"colab-df-convert\" onclick=\"convertToInteractive('df-a5054c00-e613-4f71-8c7d-39e610465c20')\"\n",
              "              title=\"Convert this dataframe to an interactive table.\"\n",
              "              style=\"display:none;\">\n",
              "        \n",
              "  <svg xmlns=\"http://www.w3.org/2000/svg\" height=\"24px\"viewBox=\"0 0 24 24\"\n",
              "       width=\"24px\">\n",
              "    <path d=\"M0 0h24v24H0V0z\" fill=\"none\"/>\n",
              "    <path d=\"M18.56 5.44l.94 2.06.94-2.06 2.06-.94-2.06-.94-.94-2.06-.94 2.06-2.06.94zm-11 1L8.5 8.5l.94-2.06 2.06-.94-2.06-.94L8.5 2.5l-.94 2.06-2.06.94zm10 10l.94 2.06.94-2.06 2.06-.94-2.06-.94-.94-2.06-.94 2.06-2.06.94z\"/><path d=\"M17.41 7.96l-1.37-1.37c-.4-.4-.92-.59-1.43-.59-.52 0-1.04.2-1.43.59L10.3 9.45l-7.72 7.72c-.78.78-.78 2.05 0 2.83L4 21.41c.39.39.9.59 1.41.59.51 0 1.02-.2 1.41-.59l7.78-7.78 2.81-2.81c.8-.78.8-2.07 0-2.86zM5.41 20L4 18.59l7.72-7.72 1.47 1.35L5.41 20z\"/>\n",
              "  </svg>\n",
              "      </button>\n",
              "      \n",
              "  <style>\n",
              "    .colab-df-container {\n",
              "      display:flex;\n",
              "      flex-wrap:wrap;\n",
              "      gap: 12px;\n",
              "    }\n",
              "\n",
              "    .colab-df-convert {\n",
              "      background-color: #E8F0FE;\n",
              "      border: none;\n",
              "      border-radius: 50%;\n",
              "      cursor: pointer;\n",
              "      display: none;\n",
              "      fill: #1967D2;\n",
              "      height: 32px;\n",
              "      padding: 0 0 0 0;\n",
              "      width: 32px;\n",
              "    }\n",
              "\n",
              "    .colab-df-convert:hover {\n",
              "      background-color: #E2EBFA;\n",
              "      box-shadow: 0px 1px 2px rgba(60, 64, 67, 0.3), 0px 1px 3px 1px rgba(60, 64, 67, 0.15);\n",
              "      fill: #174EA6;\n",
              "    }\n",
              "\n",
              "    [theme=dark] .colab-df-convert {\n",
              "      background-color: #3B4455;\n",
              "      fill: #D2E3FC;\n",
              "    }\n",
              "\n",
              "    [theme=dark] .colab-df-convert:hover {\n",
              "      background-color: #434B5C;\n",
              "      box-shadow: 0px 1px 3px 1px rgba(0, 0, 0, 0.15);\n",
              "      filter: drop-shadow(0px 1px 2px rgba(0, 0, 0, 0.3));\n",
              "      fill: #FFFFFF;\n",
              "    }\n",
              "  </style>\n",
              "\n",
              "      <script>\n",
              "        const buttonEl =\n",
              "          document.querySelector('#df-a5054c00-e613-4f71-8c7d-39e610465c20 button.colab-df-convert');\n",
              "        buttonEl.style.display =\n",
              "          google.colab.kernel.accessAllowed ? 'block' : 'none';\n",
              "\n",
              "        async function convertToInteractive(key) {\n",
              "          const element = document.querySelector('#df-a5054c00-e613-4f71-8c7d-39e610465c20');\n",
              "          const dataTable =\n",
              "            await google.colab.kernel.invokeFunction('convertToInteractive',\n",
              "                                                     [key], {});\n",
              "          if (!dataTable) return;\n",
              "\n",
              "          const docLinkHtml = 'Like what you see? Visit the ' +\n",
              "            '<a target=\"_blank\" href=https://colab.research.google.com/notebooks/data_table.ipynb>data table notebook</a>'\n",
              "            + ' to learn more about interactive tables.';\n",
              "          element.innerHTML = '';\n",
              "          dataTable['output_type'] = 'display_data';\n",
              "          await google.colab.output.renderOutput(dataTable, element);\n",
              "          const docLink = document.createElement('div');\n",
              "          docLink.innerHTML = docLinkHtml;\n",
              "          element.appendChild(docLink);\n",
              "        }\n",
              "      </script>\n",
              "    </div>\n",
              "  </div>\n",
              "  "
            ]
          },
          "metadata": {},
          "execution_count": 25
        }
      ]
    },
    {
      "cell_type": "code",
      "source": [
        "df_tweets_single.retweet_count_conv.max()"
      ],
      "metadata": {
        "colab": {
          "base_uri": "https://localhost:8080/"
        },
        "id": "D7BZnWLtbajt",
        "outputId": "005789c5-4a65-4897-df7e-f727bd7001fb"
      },
      "execution_count": null,
      "outputs": [
        {
          "output_type": "execute_result",
          "data": {
            "text/plain": [
              "inf"
            ]
          },
          "metadata": {},
          "execution_count": 14
        }
      ]
    },
    {
      "cell_type": "code",
      "source": [
        "df_tweets_single.drop(df_tweets_single[df_tweets_single['retweet_count_conv'] == np.inf].index, inplace=True)\n",
        "df_tweets_single.retweet_count_conv.max()"
      ],
      "metadata": {
        "colab": {
          "base_uri": "https://localhost:8080/"
        },
        "id": "Zp4wmb1UXOlf",
        "outputId": "9020c6f9-bc1a-455f-f47c-c25728f94910"
      },
      "execution_count": null,
      "outputs": [
        {
          "output_type": "execute_result",
          "data": {
            "text/plain": [
              "2e+134"
            ]
          },
          "metadata": {},
          "execution_count": 15
        }
      ]
    },
    {
      "cell_type": "code",
      "source": [
        "import math"
      ],
      "metadata": {
        "id": "hDynbCIKbufI"
      },
      "execution_count": null,
      "outputs": []
    },
    {
      "cell_type": "markdown",
      "source": [
        "# Clean strings in reply count"
      ],
      "metadata": {
        "id": "FfIYY1I2efCh"
      }
    },
    {
      "cell_type": "code",
      "source": [
        "df_tweets_single['reply_count'] = df_tweets_single.reply_count.apply(to_float)"
      ],
      "metadata": {
        "id": "G4GBsTiDegjq"
      },
      "execution_count": null,
      "outputs": []
    },
    {
      "cell_type": "code",
      "source": [
        "df_tweets_single['reply_count'].max()"
      ],
      "metadata": {
        "colab": {
          "base_uri": "https://localhost:8080/"
        },
        "id": "XLkCL-Jghr57",
        "outputId": "d018ee07-c3fa-4c3d-f28b-0ad21d915631"
      },
      "execution_count": null,
      "outputs": [
        {
          "output_type": "execute_result",
          "data": {
            "text/plain": [
              "inf"
            ]
          },
          "metadata": {},
          "execution_count": 24
        }
      ]
    },
    {
      "cell_type": "code",
      "source": [
        "df_tweets_single.drop(df_tweets_single[df_tweets_single['reply_count'] == np.inf].index, inplace=True)\n",
        "df_tweets_single.reply_count.max()"
      ],
      "metadata": {
        "colab": {
          "base_uri": "https://localhost:8080/"
        },
        "id": "z9o4iVwthwOg",
        "outputId": "e203d386-7e0d-47c0-cdb2-b501ebfef742"
      },
      "execution_count": null,
      "outputs": [
        {
          "output_type": "execute_result",
          "data": {
            "text/plain": [
              "2e+110"
            ]
          },
          "metadata": {},
          "execution_count": 18
        }
      ]
    },
    {
      "cell_type": "code",
      "source": [
        "mean = df_tweets_single[df_tweets_single['reply_count'] != -1.0].reply_count.mean()\n",
        "median = df_tweets_single[df_tweets_single['reply_count'] != -1.0].reply_count.median()"
      ],
      "metadata": {
        "id": "KwHLmsQ8ihDi"
      },
      "execution_count": null,
      "outputs": []
    },
    {
      "cell_type": "code",
      "source": [
        "median"
      ],
      "metadata": {
        "colab": {
          "base_uri": "https://localhost:8080/"
        },
        "id": "LZr_0XBGKfaD",
        "outputId": "878e34ed-97ee-4708-90d0-a56cb392ec50"
      },
      "execution_count": null,
      "outputs": [
        {
          "output_type": "execute_result",
          "data": {
            "text/plain": [
              "0.0"
            ]
          },
          "metadata": {},
          "execution_count": 20
        }
      ]
    },
    {
      "cell_type": "code",
      "source": [
        "df_tweets_single['reply_count'].replace({-1.0: median}, inplace=True)"
      ],
      "metadata": {
        "id": "XKzOIkl7gitv"
      },
      "execution_count": null,
      "outputs": []
    },
    {
      "cell_type": "markdown",
      "source": [
        "# Clean strings in favorite count"
      ],
      "metadata": {
        "id": "vviPQ7H_iN94"
      }
    },
    {
      "cell_type": "code",
      "source": [
        "df_tweets_single['favorite_count'] = df_tweets_single.favorite_count.apply(to_float)"
      ],
      "metadata": {
        "id": "o-Jll-bvhcpP"
      },
      "execution_count": null,
      "outputs": []
    },
    {
      "cell_type": "code",
      "source": [
        "df_tweets_single.drop(df_tweets_single[df_tweets_single['favorite_count'] == np.inf].index, inplace=True)\n",
        "df_tweets_single.favorite_count.max()"
      ],
      "metadata": {
        "colab": {
          "base_uri": "https://localhost:8080/"
        },
        "id": "mI3oAgJYLHVF",
        "outputId": "a3786a75-b650-44e9-9adc-f66836ae2f19"
      },
      "execution_count": null,
      "outputs": [
        {
          "output_type": "execute_result",
          "data": {
            "text/plain": [
              "7e+211"
            ]
          },
          "metadata": {},
          "execution_count": 23
        }
      ]
    },
    {
      "cell_type": "code",
      "source": [
        "mean = df_tweets_single[df_tweets_single['favorite_count'] != -1.0].favorite_count.mean()\n",
        "median = df_tweets_single[df_tweets_single['favorite_count'] != -1.0].favorite_count.median()"
      ],
      "metadata": {
        "id": "zYYcAGD2LN_W"
      },
      "execution_count": null,
      "outputs": []
    },
    {
      "cell_type": "code",
      "source": [
        "df_tweets_single['favorite_count'].replace({-1.0: median}, inplace=True)"
      ],
      "metadata": {
        "id": "Moo5f7zYiDna"
      },
      "execution_count": null,
      "outputs": []
    },
    {
      "cell_type": "markdown",
      "source": [
        "# Clean strings in num_hastags"
      ],
      "metadata": {
        "id": "C9mhEO1VLX2_"
      }
    },
    {
      "cell_type": "code",
      "source": [
        "df_tweets_single['num_hashtags'] = df_tweets_single.num_hashtags.apply(to_float)\n",
        "\n",
        "df_tweets_single.drop(df_tweets_single[df_tweets_single['num_hashtags'] == np.inf].index, inplace=True)\n",
        "df_tweets_single.num_hashtags.max()"
      ],
      "metadata": {
        "colab": {
          "base_uri": "https://localhost:8080/"
        },
        "id": "oQpcLEilLcPK",
        "outputId": "c4723de4-3835-4f27-83ad-5211c009690f"
      },
      "execution_count": null,
      "outputs": [
        {
          "output_type": "execute_result",
          "data": {
            "text/plain": [
              "7e+153"
            ]
          },
          "metadata": {},
          "execution_count": 26
        }
      ]
    },
    {
      "cell_type": "code",
      "source": [
        "mean = df_tweets_single[df_tweets_single['num_hashtags'] != -1.0].num_hashtags.mean()\n",
        "median = df_tweets_single[df_tweets_single['num_hashtags'] != -1.0].num_hashtags.median()"
      ],
      "metadata": {
        "id": "1QARVOP-Li5W"
      },
      "execution_count": null,
      "outputs": []
    },
    {
      "cell_type": "code",
      "source": [
        "df_tweets_single['num_hashtags'].replace({-1.0: median}, inplace=True)"
      ],
      "metadata": {
        "id": "HNKMvN3aLkLG"
      },
      "execution_count": null,
      "outputs": []
    },
    {
      "cell_type": "markdown",
      "source": [
        "# Clean strings in num_urls"
      ],
      "metadata": {
        "id": "2KjYYyiRLy7s"
      }
    },
    {
      "cell_type": "code",
      "source": [
        "df_tweets_single['num_urls'] = df_tweets_single.num_urls.apply(to_float)\n",
        "\n",
        "df_tweets_single.drop(df_tweets_single[df_tweets_single['num_urls'] == np.inf].index, inplace=True)\n",
        "df_tweets_single.num_urls.max()"
      ],
      "metadata": {
        "colab": {
          "base_uri": "https://localhost:8080/"
        },
        "id": "WTLgUtJ4L1hP",
        "outputId": "35f62d5c-9429-4f84-80df-128edbfef07f"
      },
      "execution_count": null,
      "outputs": [
        {
          "output_type": "execute_result",
          "data": {
            "text/plain": [
              "1e+210"
            ]
          },
          "metadata": {},
          "execution_count": 29
        }
      ]
    },
    {
      "cell_type": "code",
      "source": [
        "mean = df_tweets_single[df_tweets_single['num_urls'] != -1.0].num_urls.mean()\n",
        "median = df_tweets_single[df_tweets_single['num_urls'] != -1.0].num_urls.median()"
      ],
      "metadata": {
        "id": "Q_K5fnUeL4Uj"
      },
      "execution_count": null,
      "outputs": []
    },
    {
      "cell_type": "code",
      "source": [
        "median"
      ],
      "metadata": {
        "colab": {
          "base_uri": "https://localhost:8080/"
        },
        "id": "cK8XfONUL-6u",
        "outputId": "e651875d-e114-42bd-c2e1-7978812db995"
      },
      "execution_count": null,
      "outputs": [
        {
          "output_type": "execute_result",
          "data": {
            "text/plain": [
              "0.0"
            ]
          },
          "metadata": {},
          "execution_count": 31
        }
      ]
    },
    {
      "cell_type": "code",
      "source": [
        "df_tweets_single['num_urls'].replace({-1.0: median}, inplace=True)"
      ],
      "metadata": {
        "id": "zwtltQg4L5ba"
      },
      "execution_count": null,
      "outputs": []
    },
    {
      "cell_type": "markdown",
      "source": [
        "# Clean strings in num mentions"
      ],
      "metadata": {
        "id": "Dcp_bQbwMMP7"
      }
    },
    {
      "cell_type": "code",
      "source": [
        "df_tweets_single['num_mentions'] = df_tweets_single.num_mentions.apply(to_float)\n",
        "\n",
        "df_tweets_single.drop(df_tweets_single[df_tweets_single['num_mentions'] == np.inf].index, inplace=True)\n",
        "df_tweets_single.num_mentions.max()"
      ],
      "metadata": {
        "colab": {
          "base_uri": "https://localhost:8080/"
        },
        "id": "0VSEKrx-MO6N",
        "outputId": "3fc4939b-e5a7-471f-944d-d4e3f624ccd8"
      },
      "execution_count": null,
      "outputs": [
        {
          "output_type": "execute_result",
          "data": {
            "text/plain": [
              "6e+97"
            ]
          },
          "metadata": {},
          "execution_count": 33
        }
      ]
    },
    {
      "cell_type": "code",
      "source": [
        "mean = df_tweets_single[df_tweets_single['num_mentions'] != -1.0].num_mentions.mean()\n",
        "median = df_tweets_single[df_tweets_single['num_mentions'] != -1.0].num_mentions.median()"
      ],
      "metadata": {
        "id": "YJlVt8pbMRec"
      },
      "execution_count": null,
      "outputs": []
    },
    {
      "cell_type": "code",
      "source": [
        "median"
      ],
      "metadata": {
        "colab": {
          "base_uri": "https://localhost:8080/"
        },
        "id": "12HO73PNMa_1",
        "outputId": "84a2e024-c31e-4862-ff2e-d137d3133a17"
      },
      "execution_count": null,
      "outputs": [
        {
          "output_type": "execute_result",
          "data": {
            "text/plain": [
              "0.0"
            ]
          },
          "metadata": {},
          "execution_count": 58
        }
      ]
    },
    {
      "cell_type": "code",
      "source": [
        "df_tweets_single['num_mentions'].replace({-1.0: median}, inplace=True)"
      ],
      "metadata": {
        "id": "jYCqC3h4MT-O"
      },
      "execution_count": null,
      "outputs": []
    },
    {
      "cell_type": "markdown",
      "source": [
        "Retweet_count_conv => droppati i valori inf\n",
        "Reply_count => convertito e droppato i valori inf"
      ],
      "metadata": {
        "id": "_-5I19pEfatZ"
      }
    },
    {
      "cell_type": "code",
      "source": [
        "for attr in ['retweet_count_conv', 'reply_count', 'favorite_count', 'num_hashtags', 'num_urls', 'num_mentions']:\n",
        "  attr_log = pd.DataFrame()\n",
        "  attr_log[attr + '_log'] = np.log(df_tweets_single[attr].values)\n",
        "  attr_log[attr + '_log'] = attr_log[attr + '_log'].replace(-np.inf, 0)\n",
        "  #attr_log\n",
        "\n",
        "  n_bins = math.ceil(np.log2(len(attr_log[attr + '_log'])) + 1) #Sturges' rule\n",
        "  attr_log.hist(attr + '_log', bins = n_bins, log=True)"
      ],
      "metadata": {
        "colab": {
          "base_uri": "https://localhost:8080/",
          "height": 1000
        },
        "id": "Zp-ITSW2QqiG",
        "outputId": "753f8738-c719-4a6f-f90b-71c44799cb1a"
      },
      "execution_count": null,
      "outputs": [
        {
          "output_type": "stream",
          "name": "stderr",
          "text": [
            "/usr/local/lib/python3.7/dist-packages/ipykernel_launcher.py:3: RuntimeWarning: divide by zero encountered in log\n",
            "  This is separate from the ipykernel package so we can avoid doing imports until\n",
            "/usr/local/lib/python3.7/dist-packages/ipykernel_launcher.py:3: RuntimeWarning: invalid value encountered in log\n",
            "  This is separate from the ipykernel package so we can avoid doing imports until\n"
          ]
        },
        {
          "output_type": "display_data",
          "data": {
            "text/plain": [
              "<Figure size 432x288 with 1 Axes>"
            ],
            "image/png": "[encoded data removed]"
          },
          "metadata": {
            "needs_background": "light"
          }
        },
        {
          "output_type": "display_data",
          "data": {
            "text/plain": [
              "<Figure size 432x288 with 1 Axes>"
            ],
            "image/png": "[encoded data removed]"
          },
          "metadata": {
            "needs_background": "light"
          }
        },
        {
          "output_type": "display_data",
          "data": {
            "text/plain": [
              "<Figure size 432x288 with 1 Axes>"
            ],
            "image/png": "[encoded data removed]"
          },
          "metadata": {
            "needs_background": "light"
          }
        },
        {
          "output_type": "display_data",
          "data": {
            "text/plain": [
              "<Figure size 432x288 with 1 Axes>"
            ],
            "image/png": "[encoded data removed]"
          },
          "metadata": {
            "needs_background": "light"
          }
        },
        {
          "output_type": "display_data",
          "data": {
            "text/plain": [
              "<Figure size 432x288 with 1 Axes>"
            ],
            "image/png": "[encoded data removed]"
          },
          "metadata": {
            "needs_background": "light"
          }
        },
        {
          "output_type": "display_data",
          "data": {
            "text/plain": [
              "<Figure size 432x288 with 1 Axes>"
            ],
            "image/png": "[encoded data removed]"
          },
          "metadata": {
            "needs_background": "light"
          }
        }
      ]
    },
    {
      "cell_type": "code",
      "source": [
        "df_tweets_single = pd.read_csv('df_tweets_single.csv')"
      ],
      "metadata": {
        "colab": {
          "base_uri": "https://localhost:8080/",
          "height": 224
        },
        "id": "CKHi15vPWcjt",
        "outputId": "72922ee1-b46c-450f-dc48-c52ce534210a"
      },
      "execution_count": null,
      "outputs": [
        {
          "output_type": "error",
          "ename": "ParserError",
          "evalue": "ignored",
          "traceback": [
            "\u001b[0;31m---------------------------------------------------------------------------\u001b[0m",
            "\u001b[0;31mParserError\u001b[0m                               Traceback (most recent call last)",
            "\u001b[0;32m<ipython-input-4-fdc78310c1a4>\u001b[0m in \u001b[0;36m<module>\u001b[0;34m\u001b[0m\n\u001b[0;32m----> 1\u001b[0;31m \u001b[0mdf_tweets_single\u001b[0m \u001b[0;34m=\u001b[0m \u001b[0mpd\u001b[0m\u001b[0;34m.\u001b[0m\u001b[0mread_csv\u001b[0m\u001b[0;34m(\u001b[0m\u001b[0;34m'df_tweets_single.csv'\u001b[0m\u001b[0;34m)\u001b[0m\u001b[0;34m\u001b[0m\u001b[0;34m\u001b[0m\u001b[0m\n\u001b[0m",
            "\u001b[0;32m/usr/local/lib/python3.7/dist-packages/pandas/util/_decorators.py\u001b[0m in \u001b[0;36mwrapper\u001b[0;34m(*args, **kwargs)\u001b[0m\n\u001b[1;32m    309\u001b[0m                     \u001b[0mstacklevel\u001b[0m\u001b[0;34m=\u001b[0m\u001b[0mstacklevel\u001b[0m\u001b[0;34m,\u001b[0m\u001b[0;34m\u001b[0m\u001b[0;34m\u001b[0m\u001b[0m\n\u001b[1;32m    310\u001b[0m                 )\n\u001b[0;32m--> 311\u001b[0;31m             \u001b[0;32mreturn\u001b[0m \u001b[0mfunc\u001b[0m\u001b[0;34m(\u001b[0m\u001b[0;34m*\u001b[0m\u001b[0margs\u001b[0m\u001b[0;34m,\u001b[0m \u001b[0;34m**\u001b[0m\u001b[0mkwargs\u001b[0m\u001b[0;34m)\u001b[0m\u001b[0;34m\u001b[0m\u001b[0;34m\u001b[0m\u001b[0m\n\u001b[0m\u001b[1;32m    312\u001b[0m \u001b[0;34m\u001b[0m\u001b[0m\n\u001b[1;32m    313\u001b[0m         \u001b[0;32mreturn\u001b[0m \u001b[0mwrapper\u001b[0m\u001b[0;34m\u001b[0m\u001b[0;34m\u001b[0m\u001b[0m\n",
            "\u001b[0;32m/usr/local/lib/python3.7/dist-packages/pandas/io/parsers/readers.py\u001b[0m in \u001b[0;36mread_csv\u001b[0;34m(filepath_or_buffer, sep, delimiter, header, names, index_col, usecols, squeeze, prefix, mangle_dupe_cols, dtype, engine, converters, true_values, false_values, skipinitialspace, skiprows, skipfooter, nrows, na_values, keep_default_na, na_filter, verbose, skip_blank_lines, parse_dates, infer_datetime_format, keep_date_col, date_parser, dayfirst, cache_dates, iterator, chunksize, compression, thousands, decimal, lineterminator, quotechar, quoting, doublequote, escapechar, comment, encoding, encoding_errors, dialect, error_bad_lines, warn_bad_lines, on_bad_lines, delim_whitespace, low_memory, memory_map, float_precision, storage_options)\u001b[0m\n\u001b[1;32m    584\u001b[0m     \u001b[0mkwds\u001b[0m\u001b[0;34m.\u001b[0m\u001b[0mupdate\u001b[0m\u001b[0;34m(\u001b[0m\u001b[0mkwds_defaults\u001b[0m\u001b[0;34m)\u001b[0m\u001b[0;34m\u001b[0m\u001b[0;34m\u001b[0m\u001b[0m\n\u001b[1;32m    585\u001b[0m \u001b[0;34m\u001b[0m\u001b[0m\n\u001b[0;32m--> 586\u001b[0;31m     \u001b[0;32mreturn\u001b[0m \u001b[0m_read\u001b[0m\u001b[0;34m(\u001b[0m\u001b[0mfilepath_or_buffer\u001b[0m\u001b[0;34m,\u001b[0m \u001b[0mkwds\u001b[0m\u001b[0;34m)\u001b[0m\u001b[0;34m\u001b[0m\u001b[0;34m\u001b[0m\u001b[0m\n\u001b[0m\u001b[1;32m    587\u001b[0m \u001b[0;34m\u001b[0m\u001b[0m\n\u001b[1;32m    588\u001b[0m \u001b[0;34m\u001b[0m\u001b[0m\n",
            "\u001b[0;32m/usr/local/lib/python3.7/dist-packages/pandas/io/parsers/readers.py\u001b[0m in \u001b[0;36m_read\u001b[0;34m(filepath_or_buffer, kwds)\u001b[0m\n\u001b[1;32m    486\u001b[0m \u001b[0;34m\u001b[0m\u001b[0m\n\u001b[1;32m    487\u001b[0m     \u001b[0;32mwith\u001b[0m \u001b[0mparser\u001b[0m\u001b[0;34m:\u001b[0m\u001b[0;34m\u001b[0m\u001b[0;34m\u001b[0m\u001b[0m\n\u001b[0;32m--> 488\u001b[0;31m         \u001b[0;32mreturn\u001b[0m \u001b[0mparser\u001b[0m\u001b[0;34m.\u001b[0m\u001b[0mread\u001b[0m\u001b[0;34m(\u001b[0m\u001b[0mnrows\u001b[0m\u001b[0;34m)\u001b[0m\u001b[0;34m\u001b[0m\u001b[0;34m\u001b[0m\u001b[0m\n\u001b[0m\u001b[1;32m    489\u001b[0m \u001b[0;34m\u001b[0m\u001b[0m\n\u001b[1;32m    490\u001b[0m \u001b[0;34m\u001b[0m\u001b[0m\n",
            "\u001b[0;32m/usr/local/lib/python3.7/dist-packages/pandas/io/parsers/readers.py\u001b[0m in \u001b[0;36mread\u001b[0;34m(self, nrows)\u001b[0m\n\u001b[1;32m   1045\u001b[0m     \u001b[0;32mdef\u001b[0m \u001b[0mread\u001b[0m\u001b[0;34m(\u001b[0m\u001b[0mself\u001b[0m\u001b[0;34m,\u001b[0m \u001b[0mnrows\u001b[0m\u001b[0;34m=\u001b[0m\u001b[0;32mNone\u001b[0m\u001b[0;34m)\u001b[0m\u001b[0;34m:\u001b[0m\u001b[0;34m\u001b[0m\u001b[0;34m\u001b[0m\u001b[0m\n\u001b[1;32m   1046\u001b[0m         \u001b[0mnrows\u001b[0m \u001b[0;34m=\u001b[0m \u001b[0mvalidate_integer\u001b[0m\u001b[0;34m(\u001b[0m\u001b[0;34m\"nrows\"\u001b[0m\u001b[0;34m,\u001b[0m \u001b[0mnrows\u001b[0m\u001b[0;34m)\u001b[0m\u001b[0;34m\u001b[0m\u001b[0;34m\u001b[0m\u001b[0m\n\u001b[0;32m-> 1047\u001b[0;31m         \u001b[0mindex\u001b[0m\u001b[0;34m,\u001b[0m \u001b[0mcolumns\u001b[0m\u001b[0;34m,\u001b[0m \u001b[0mcol_dict\u001b[0m \u001b[0;34m=\u001b[0m \u001b[0mself\u001b[0m\u001b[0;34m.\u001b[0m\u001b[0m_engine\u001b[0m\u001b[0;34m.\u001b[0m\u001b[0mread\u001b[0m\u001b[0;34m(\u001b[0m\u001b[0mnrows\u001b[0m\u001b[0;34m)\u001b[0m\u001b[0;34m\u001b[0m\u001b[0;34m\u001b[0m\u001b[0m\n\u001b[0m\u001b[1;32m   1048\u001b[0m \u001b[0;34m\u001b[0m\u001b[0m\n\u001b[1;32m   1049\u001b[0m         \u001b[0;32mif\u001b[0m \u001b[0mindex\u001b[0m \u001b[0;32mis\u001b[0m \u001b[0;32mNone\u001b[0m\u001b[0;34m:\u001b[0m\u001b[0;34m\u001b[0m\u001b[0;34m\u001b[0m\u001b[0m\n",
            "\u001b[0;32m/usr/local/lib/python3.7/dist-packages/pandas/io/parsers/c_parser_wrapper.py\u001b[0m in \u001b[0;36mread\u001b[0;34m(self, nrows)\u001b[0m\n\u001b[1;32m    222\u001b[0m         \u001b[0;32mtry\u001b[0m\u001b[0;34m:\u001b[0m\u001b[0;34m\u001b[0m\u001b[0;34m\u001b[0m\u001b[0m\n\u001b[1;32m    223\u001b[0m             \u001b[0;32mif\u001b[0m \u001b[0mself\u001b[0m\u001b[0;34m.\u001b[0m\u001b[0mlow_memory\u001b[0m\u001b[0;34m:\u001b[0m\u001b[0;34m\u001b[0m\u001b[0;34m\u001b[0m\u001b[0m\n\u001b[0;32m--> 224\u001b[0;31m                 \u001b[0mchunks\u001b[0m \u001b[0;34m=\u001b[0m \u001b[0mself\u001b[0m\u001b[0;34m.\u001b[0m\u001b[0m_reader\u001b[0m\u001b[0;34m.\u001b[0m\u001b[0mread_low_memory\u001b[0m\u001b[0;34m(\u001b[0m\u001b[0mnrows\u001b[0m\u001b[0;34m)\u001b[0m\u001b[0;34m\u001b[0m\u001b[0;34m\u001b[0m\u001b[0m\n\u001b[0m\u001b[1;32m    225\u001b[0m                 \u001b[0;31m# destructive to chunks\u001b[0m\u001b[0;34m\u001b[0m\u001b[0;34m\u001b[0m\u001b[0;34m\u001b[0m\u001b[0m\n\u001b[1;32m    226\u001b[0m                 \u001b[0mdata\u001b[0m \u001b[0;34m=\u001b[0m \u001b[0m_concatenate_chunks\u001b[0m\u001b[0;34m(\u001b[0m\u001b[0mchunks\u001b[0m\u001b[0;34m)\u001b[0m\u001b[0;34m\u001b[0m\u001b[0;34m\u001b[0m\u001b[0m\n",
            "\u001b[0;32m/usr/local/lib/python3.7/dist-packages/pandas/_libs/parsers.pyx\u001b[0m in \u001b[0;36mpandas._libs.parsers.TextReader.read_low_memory\u001b[0;34m()\u001b[0m\n",
            "\u001b[0;32m/usr/local/lib/python3.7/dist-packages/pandas/_libs/parsers.pyx\u001b[0m in \u001b[0;36mpandas._libs.parsers.TextReader._read_rows\u001b[0;34m()\u001b[0m\n",
            "\u001b[0;32m/usr/local/lib/python3.7/dist-packages/pandas/_libs/parsers.pyx\u001b[0m in \u001b[0;36mpandas._libs.parsers.TextReader._tokenize_rows\u001b[0;34m()\u001b[0m\n",
            "\u001b[0;32m/usr/local/lib/python3.7/dist-packages/pandas/_libs/parsers.pyx\u001b[0m in \u001b[0;36mpandas._libs.parsers.raise_parser_error\u001b[0;34m()\u001b[0m\n",
            "\u001b[0;31mParserError\u001b[0m: Error tokenizing data. C error: Buffer overflow caught - possible malformed input file.\n"
          ]
        }
      ]
    },
    {
      "cell_type": "code",
      "source": [
        "for attr in ['retweet_count_conv', 'reply_count', 'favorite_count', 'num_hashtags', 'num_urls', 'num_mentions']:\n",
        "  attr_log = pd.DataFrame()\n",
        "  attr_log[attr + '_log'] = np.log(df_tweets_single[attr].values)\n",
        "  attr_log[attr + '_log'] = attr_log[attr + '_log'].replace(-np.inf, 0)\n",
        "  #attr_log\n",
        "  attr_log[attr+'_log'] = attr_log[attr_log[attr+'_log'] < attr_log[attr+'_log'].quantile(0.001)]\n",
        "  attr_log.boxplot(attr+'_log', showmeans=True)\n",
        "  input('continue')"
      ],
      "metadata": {
        "colab": {
          "base_uri": "https://localhost:8080/",
          "height": 716
        },
        "id": "Rn_xoXfCNojG",
        "outputId": "12b90996-7e03-4178-988d-bf85dde85f1d"
      },
      "execution_count": null,
      "outputs": [
        {
          "output_type": "stream",
          "name": "stderr",
          "text": [
            "/usr/local/lib/python3.7/dist-packages/ipykernel_launcher.py:3: RuntimeWarning: divide by zero encountered in log\n",
            "  This is separate from the ipykernel package so we can avoid doing imports until\n",
            "/usr/local/lib/python3.7/dist-packages/ipykernel_launcher.py:3: RuntimeWarning: invalid value encountered in log\n",
            "  This is separate from the ipykernel package so we can avoid doing imports until\n"
          ]
        },
        {
          "name": "stdout",
          "output_type": "stream",
          "text": [
            "continue\n"
          ]
        },
        {
          "output_type": "stream",
          "name": "stderr",
          "text": [
            "/usr/local/lib/python3.7/dist-packages/ipykernel_launcher.py:3: RuntimeWarning: divide by zero encountered in log\n",
            "  This is separate from the ipykernel package so we can avoid doing imports until\n"
          ]
        },
        {
          "output_type": "error",
          "ename": "KeyboardInterrupt",
          "evalue": "ignored",
          "traceback": [
            "\u001b[0;31m---------------------------------------------------------------------------\u001b[0m",
            "\u001b[0;31mKeyboardInterrupt\u001b[0m                         Traceback (most recent call last)",
            "\u001b[0;32m<ipython-input-69-84399053ca61>\u001b[0m in \u001b[0;36m<module>\u001b[0;34m\u001b[0m\n\u001b[1;32m      6\u001b[0m   \u001b[0mattr_log\u001b[0m\u001b[0;34m[\u001b[0m\u001b[0mattr\u001b[0m\u001b[0;34m+\u001b[0m\u001b[0;34m'_log'\u001b[0m\u001b[0;34m]\u001b[0m \u001b[0;34m=\u001b[0m \u001b[0mattr_log\u001b[0m\u001b[0;34m[\u001b[0m\u001b[0mattr_log\u001b[0m\u001b[0;34m[\u001b[0m\u001b[0mattr\u001b[0m\u001b[0;34m+\u001b[0m\u001b[0;34m'_log'\u001b[0m\u001b[0;34m]\u001b[0m \u001b[0;34m<\u001b[0m \u001b[0mattr_log\u001b[0m\u001b[0;34m[\u001b[0m\u001b[0mattr\u001b[0m\u001b[0;34m+\u001b[0m\u001b[0;34m'_log'\u001b[0m\u001b[0;34m]\u001b[0m\u001b[0;34m.\u001b[0m\u001b[0mquantile\u001b[0m\u001b[0;34m(\u001b[0m\u001b[0;36m0.001\u001b[0m\u001b[0;34m)\u001b[0m\u001b[0;34m]\u001b[0m\u001b[0;34m\u001b[0m\u001b[0;34m\u001b[0m\u001b[0m\n\u001b[1;32m      7\u001b[0m   \u001b[0mattr_log\u001b[0m\u001b[0;34m.\u001b[0m\u001b[0mboxplot\u001b[0m\u001b[0;34m(\u001b[0m\u001b[0mattr\u001b[0m\u001b[0;34m+\u001b[0m\u001b[0;34m'_log'\u001b[0m\u001b[0;34m,\u001b[0m \u001b[0mshowmeans\u001b[0m\u001b[0;34m=\u001b[0m\u001b[0;32mTrue\u001b[0m\u001b[0;34m)\u001b[0m\u001b[0;34m\u001b[0m\u001b[0;34m\u001b[0m\u001b[0m\n\u001b[0;32m----> 8\u001b[0;31m   \u001b[0minput\u001b[0m\u001b[0;34m(\u001b[0m\u001b[0;34m'continue'\u001b[0m\u001b[0;34m)\u001b[0m\u001b[0;34m\u001b[0m\u001b[0;34m\u001b[0m\u001b[0m\n\u001b[0m",
            "\u001b[0;32m/usr/local/lib/python3.7/dist-packages/ipykernel/kernelbase.py\u001b[0m in \u001b[0;36mraw_input\u001b[0;34m(self, prompt)\u001b[0m\n\u001b[1;32m    861\u001b[0m             \u001b[0mself\u001b[0m\u001b[0;34m.\u001b[0m\u001b[0m_parent_ident\u001b[0m\u001b[0;34m,\u001b[0m\u001b[0;34m\u001b[0m\u001b[0;34m\u001b[0m\u001b[0m\n\u001b[1;32m    862\u001b[0m             \u001b[0mself\u001b[0m\u001b[0;34m.\u001b[0m\u001b[0m_parent_header\u001b[0m\u001b[0;34m,\u001b[0m\u001b[0;34m\u001b[0m\u001b[0;34m\u001b[0m\u001b[0m\n\u001b[0;32m--> 863\u001b[0;31m             \u001b[0mpassword\u001b[0m\u001b[0;34m=\u001b[0m\u001b[0;32mFalse\u001b[0m\u001b[0;34m,\u001b[0m\u001b[0;34m\u001b[0m\u001b[0;34m\u001b[0m\u001b[0m\n\u001b[0m\u001b[1;32m    864\u001b[0m         )\n\u001b[1;32m    865\u001b[0m \u001b[0;34m\u001b[0m\u001b[0m\n",
            "\u001b[0;32m/usr/local/lib/python3.7/dist-packages/ipykernel/kernelbase.py\u001b[0m in \u001b[0;36m_input_request\u001b[0;34m(self, prompt, ident, parent, password)\u001b[0m\n\u001b[1;32m    902\u001b[0m             \u001b[0;32mexcept\u001b[0m \u001b[0mKeyboardInterrupt\u001b[0m\u001b[0;34m:\u001b[0m\u001b[0;34m\u001b[0m\u001b[0;34m\u001b[0m\u001b[0m\n\u001b[1;32m    903\u001b[0m                 \u001b[0;31m# re-raise KeyboardInterrupt, to truncate traceback\u001b[0m\u001b[0;34m\u001b[0m\u001b[0;34m\u001b[0m\u001b[0;34m\u001b[0m\u001b[0m\n\u001b[0;32m--> 904\u001b[0;31m                 \u001b[0;32mraise\u001b[0m \u001b[0mKeyboardInterrupt\u001b[0m\u001b[0;34m(\u001b[0m\u001b[0;34m\"Interrupted by user\"\u001b[0m\u001b[0;34m)\u001b[0m \u001b[0;32mfrom\u001b[0m \u001b[0;32mNone\u001b[0m\u001b[0;34m\u001b[0m\u001b[0;34m\u001b[0m\u001b[0m\n\u001b[0m\u001b[1;32m    905\u001b[0m             \u001b[0;32mexcept\u001b[0m \u001b[0mException\u001b[0m \u001b[0;32mas\u001b[0m \u001b[0me\u001b[0m\u001b[0;34m:\u001b[0m\u001b[0;34m\u001b[0m\u001b[0;34m\u001b[0m\u001b[0m\n\u001b[1;32m    906\u001b[0m                 \u001b[0mself\u001b[0m\u001b[0;34m.\u001b[0m\u001b[0mlog\u001b[0m\u001b[0;34m.\u001b[0m\u001b[0mwarning\u001b[0m\u001b[0;34m(\u001b[0m\u001b[0;34m\"Invalid Message:\"\u001b[0m\u001b[0;34m,\u001b[0m \u001b[0mexc_info\u001b[0m\u001b[0;34m=\u001b[0m\u001b[0;32mTrue\u001b[0m\u001b[0;34m)\u001b[0m\u001b[0;34m\u001b[0m\u001b[0;34m\u001b[0m\u001b[0m\n",
            "\u001b[0;31mKeyboardInterrupt\u001b[0m: Interrupted by user"
          ]
        },
        {
          "output_type": "display_data",
          "data": {
            "text/plain": [
              "<Figure size 432x288 with 1 Axes>"
            ],
            "image/png": "[encoded data removed]"
          },
          "metadata": {
            "needs_background": "light"
          }
        }
      ]
    },
    {
      "cell_type": "code",
      "source": [
        "attr = 'retweet_count_conv'\n",
        "attr_log = pd.DataFrame()\n",
        "attr_log[attr + '_log'] = np.log(df_tweets_single[attr].values)\n",
        "attr_log[attr + '_log'] = attr_log[attr + '_log'].replace(-np.inf, 0)\n",
        "#attr_log\n",
        "#attr_log[attr+'_log'] = attr_log[attr_log[attr+'_log'] < attr_log[attr+'_log'].quantile(1.00)]\n",
        "#attr_log[attr_log[attr+'_log'] < 2].boxplot(attr+'_log', showmeans=True)\n"
      ],
      "metadata": {
        "colab": {
          "base_uri": "https://localhost:8080/",
          "height": 334
        },
        "id": "LWo6rBJoPxKK",
        "outputId": "11c671a4-bfb5-450a-dc51-4715f2aaa10f"
      },
      "execution_count": null,
      "outputs": [
        {
          "output_type": "stream",
          "name": "stderr",
          "text": [
            "/usr/local/lib/python3.7/dist-packages/ipykernel_launcher.py:3: RuntimeWarning: divide by zero encountered in log\n",
            "  This is separate from the ipykernel package so we can avoid doing imports until\n",
            "/usr/local/lib/python3.7/dist-packages/ipykernel_launcher.py:3: RuntimeWarning: invalid value encountered in log\n",
            "  This is separate from the ipykernel package so we can avoid doing imports until\n"
          ]
        },
        {
          "output_type": "display_data",
          "data": {
            "text/plain": [
              "<Figure size 432x288 with 1 Axes>"
            ],
            "image/png": "[encoded data removed]"
          },
          "metadata": {
            "needs_background": "light"
          }
        }
      ]
    },
    {
      "cell_type": "code",
      "source": [
        "#df_tweets_single[df_tweets_single[attr] < 5].boxplot(attr, showmeans=True)\n",
        "attr = df_tweets_single[df_tweets_single['favorite_count'] < 1e10]\n",
        "plt.boxplot(attr.favorite_count)\n",
        "#plt.yscale('log')\n",
        "plt.ylim(-1, 1e1)\n",
        "plt.show()"
      ],
      "metadata": {
        "colab": {
          "base_uri": "https://localhost:8080/",
          "height": 269
        },
        "id": "UNqbdMxOTEGo",
        "outputId": "ea260bfc-f73a-42e4-de76-5dc9d6b989c3"
      },
      "execution_count": null,
      "outputs": [
        {
          "output_type": "display_data",
          "data": {
            "text/plain": [
              "<Figure size 432x288 with 1 Axes>"
            ],
            "image/png": "[encoded data removed]"
          },
          "metadata": {
            "needs_background": "light"
          }
        }
      ]
    },
    {
      "cell_type": "code",
      "source": [
        "df_tweets_single.reply_count.min()"
      ],
      "metadata": {
        "colab": {
          "base_uri": "https://localhost:8080/"
        },
        "id": "kjYUpXfjbD0c",
        "outputId": "d3a44897-0dc3-4394-ae6a-bec4e3f7cd1f"
      },
      "execution_count": null,
      "outputs": [
        {
          "output_type": "execute_result",
          "data": {
            "text/plain": [
              "0.0"
            ]
          },
          "metadata": {},
          "execution_count": 59
        }
      ]
    }
  ],
  "metadata": {
    "colab": {
      "collapsed_sections": [],
      "provenance": []
    },
    "kernelspec": {
      "display_name": "Python 3 (ipykernel)",
      "language": "python",
      "name": "python3"
    },
    "language_info": {
      "codemirror_mode": {
        "name": "ipython",
        "version": 3
      },
      "file_extension": ".py",
      "mimetype": "text/x-python",
      "name": "python",
      "nbconvert_exporter": "python",
      "pygments_lexer": "ipython3",
      "version": "3.10.4"
    }
  },
  "nbformat": 4,
  "nbformat_minor": 0
}