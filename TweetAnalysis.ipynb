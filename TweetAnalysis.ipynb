{
 "cells": [
  {
   "cell_type": "code",
   "execution_count": 165,
   "metadata": {
    "executionInfo": {
     "elapsed": 19,
     "status": "ok",
     "timestamp": 1665240391302,
     "user": {
      "displayName": "ALESSANDRO DIPALMA",
      "userId": "15827404338341614451"
     },
     "user_tz": -120
    },
    "id": "5oCty9ReHZOd"
   },
   "outputs": [],
   "source": [
    "import pandas as pd\n",
    "from matplotlib import pyplot as plt\n",
    "import numpy as np"
   ]
  },
  {
   "cell_type": "code",
   "execution_count": 166,
   "metadata": {
    "colab": {
     "base_uri": "https://localhost:8080/"
    },
    "executionInfo": {
     "elapsed": 94974,
     "status": "ok",
     "timestamp": 1665240486261,
     "user": {
      "displayName": "ALESSANDRO DIPALMA",
      "userId": "15827404338341614451"
     },
     "user_tz": -120
    },
    "id": "UTjV9Hkmc7OI",
    "outputId": "44aa4fcc-7776-4a21-f8e0-db83f7f8c316"
   },
   "outputs": [],
   "source": [
    "df_tweets = pd.read_csv(\"data/tweets.csv\")"
   ]
  },
  {
   "cell_type": "code",
   "execution_count": 167,
   "metadata": {},
   "outputs": [],
   "source": [
    "df_users = pd.read_csv(\"data/users.csv\")"
   ]
  },
  {
   "cell_type": "code",
   "execution_count": 168,
   "metadata": {
    "colab": {
     "base_uri": "https://localhost:8080/",
     "height": 206
    },
    "executionInfo": {
     "elapsed": 53,
     "status": "ok",
     "timestamp": 1665240486264,
     "user": {
      "displayName": "ALESSANDRO DIPALMA",
      "userId": "15827404338341614451"
     },
     "user_tz": -120
    },
    "id": "NP_Jn2WOd21-",
    "outputId": "a0dc8edf-24d7-4ecc-8d60-c6f001f6f0ca"
   },
   "outputs": [
    {
     "data": {
      "text/plain": "           id              name lang  bot           created_at  statuses_count\n0  2353593986   Lamonica Raborn   en    1  2019-02-22 18:00:42            76.0\n1  2358850842     Lourie Botton   en    0  2019-02-26 03:02:32            54.0\n2   137959629  Dadan Syarifudin   en    1  2015-04-30 07:09:56             3.0\n3   466124818    Carletto Focia   it    1  2017-01-18 02:49:18            50.0\n4  2571493866         MBK Ebook   en    0  2019-06-18 19:30:21          7085.0",
      "text/html": "<div>\n<style scoped>\n    .dataframe tbody tr th:only-of-type {\n        vertical-align: middle;\n    }\n\n    .dataframe tbody tr th {\n        vertical-align: top;\n    }\n\n    .dataframe thead th {\n        text-align: right;\n    }\n</style>\n<table border=\"1\" class=\"dataframe\">\n  <thead>\n    <tr style=\"text-align: right;\">\n      <th></th>\n      <th>id</th>\n      <th>name</th>\n      <th>lang</th>\n      <th>bot</th>\n      <th>created_at</th>\n      <th>statuses_count</th>\n    </tr>\n  </thead>\n  <tbody>\n    <tr>\n      <th>0</th>\n      <td>2353593986</td>\n      <td>Lamonica Raborn</td>\n      <td>en</td>\n      <td>1</td>\n      <td>2019-02-22 18:00:42</td>\n      <td>76.0</td>\n    </tr>\n    <tr>\n      <th>1</th>\n      <td>2358850842</td>\n      <td>Lourie Botton</td>\n      <td>en</td>\n      <td>0</td>\n      <td>2019-02-26 03:02:32</td>\n      <td>54.0</td>\n    </tr>\n    <tr>\n      <th>2</th>\n      <td>137959629</td>\n      <td>Dadan Syarifudin</td>\n      <td>en</td>\n      <td>1</td>\n      <td>2015-04-30 07:09:56</td>\n      <td>3.0</td>\n    </tr>\n    <tr>\n      <th>3</th>\n      <td>466124818</td>\n      <td>Carletto Focia</td>\n      <td>it</td>\n      <td>1</td>\n      <td>2017-01-18 02:49:18</td>\n      <td>50.0</td>\n    </tr>\n    <tr>\n      <th>4</th>\n      <td>2571493866</td>\n      <td>MBK Ebook</td>\n      <td>en</td>\n      <td>0</td>\n      <td>2019-06-18 19:30:21</td>\n      <td>7085.0</td>\n    </tr>\n  </tbody>\n</table>\n</div>"
     },
     "execution_count": 168,
     "metadata": {},
     "output_type": "execute_result"
    }
   ],
   "source": [
    "df_users.head()"
   ]
  },
  {
   "cell_type": "code",
   "execution_count": 169,
   "metadata": {
    "colab": {
     "base_uri": "https://localhost:8080/"
    },
    "executionInfo": {
     "elapsed": 48,
     "status": "ok",
     "timestamp": 1665240486266,
     "user": {
      "displayName": "ALESSANDRO DIPALMA",
      "userId": "15827404338341614451"
     },
     "user_tz": -120
    },
    "id": "4z_xApMQfk0A",
    "outputId": "e95fdcef-1ca4-4e15-b719-9a0c7b80de86"
   },
   "outputs": [
    {
     "name": "stdout",
     "output_type": "stream",
     "text": [
      "<class 'pandas.core.frame.DataFrame'>\n",
      "RangeIndex: 11508 entries, 0 to 11507\n",
      "Data columns (total 6 columns):\n",
      " #   Column          Non-Null Count  Dtype  \n",
      "---  ------          --------------  -----  \n",
      " 0   id              11508 non-null  int64  \n",
      " 1   name            11507 non-null  object \n",
      " 2   lang            11508 non-null  object \n",
      " 3   bot             11508 non-null  int64  \n",
      " 4   created_at      11508 non-null  object \n",
      " 5   statuses_count  11109 non-null  float64\n",
      "dtypes: float64(1), int64(2), object(3)\n",
      "memory usage: 539.6+ KB\n"
     ]
    }
   ],
   "source": [
    "df_users.info()"
   ]
  },
  {
   "cell_type": "markdown",
   "metadata": {},
   "source": [
    "Check if any user record has a null value in it\n",
    "Extract only record with a null name (id = 1535)"
   ]
  },
  {
   "cell_type": "code",
   "execution_count": 170,
   "metadata": {
    "colab": {
     "base_uri": "https://localhost:8080/",
     "height": 81
    },
    "executionInfo": {
     "elapsed": 43,
     "status": "ok",
     "timestamp": 1665240486267,
     "user": {
      "displayName": "ALESSANDRO DIPALMA",
      "userId": "15827404338341614451"
     },
     "user_tz": -120
    },
    "id": "2zF4wF2vfmmH",
    "outputId": "a796ccb3-662f-40a2-c945-36436fccb572"
   },
   "outputs": [
    {
     "data": {
      "text/plain": "              id name lang  bot           created_at  statuses_count\n1535  2166124159  NaN   en    0  2018-11-02 06:39:14          6566.0",
      "text/html": "<div>\n<style scoped>\n    .dataframe tbody tr th:only-of-type {\n        vertical-align: middle;\n    }\n\n    .dataframe tbody tr th {\n        vertical-align: top;\n    }\n\n    .dataframe thead th {\n        text-align: right;\n    }\n</style>\n<table border=\"1\" class=\"dataframe\">\n  <thead>\n    <tr style=\"text-align: right;\">\n      <th></th>\n      <th>id</th>\n      <th>name</th>\n      <th>lang</th>\n      <th>bot</th>\n      <th>created_at</th>\n      <th>statuses_count</th>\n    </tr>\n  </thead>\n  <tbody>\n    <tr>\n      <th>1535</th>\n      <td>2166124159</td>\n      <td>NaN</td>\n      <td>en</td>\n      <td>0</td>\n      <td>2018-11-02 06:39:14</td>\n      <td>6566.0</td>\n    </tr>\n  </tbody>\n</table>\n</div>"
     },
     "execution_count": 170,
     "metadata": {},
     "output_type": "execute_result"
    }
   ],
   "source": [
    "df_null = df_users.isnull()\n",
    "idx_null = df_users.index[df_null[\"name\"] == True].tolist()\n",
    "df_users.iloc[idx_null]"
   ]
  },
  {
   "cell_type": "markdown",
   "metadata": {},
   "source": [
    "Print info about tweets file"
   ]
  },
  {
   "cell_type": "code",
   "execution_count": 171,
   "metadata": {
    "colab": {
     "base_uri": "https://localhost:8080/",
     "height": 206
    },
    "executionInfo": {
     "elapsed": 41,
     "status": "ok",
     "timestamp": 1665240486268,
     "user": {
      "displayName": "ALESSANDRO DIPALMA",
      "userId": "15827404338341614451"
     },
     "user_tz": -120
    },
    "id": "6K1QxQDnh65B",
    "outputId": "4baa5591-c53b-454e-ba8d-685041f9861f"
   },
   "outputs": [
    {
     "data": {
      "text/plain": "                   id     user_id retweet_count reply_count favorite_count  \\\n0  509354017856950272   327746321             0           0              0   \n1  583002592529121280   333722906             1           0              0   \n2  461498835362013185  2379755827             0           0              0   \n3  528808127366692864   466226882             0           0              0   \n4  575336690904006656  1355537995           114           0              0   \n\n  num_hashtags num_urls num_mentions           created_at  \\\n0            0        0            0  2019-09-11 14:53:55   \n1            0        0            1  2020-04-01 20:27:04   \n2            0        0            1  2019-05-02 13:34:31   \n3            0        0            0  2019-11-04 07:17:37   \n4            1        0            1  2020-03-11 16:45:31   \n\n                                                text  \n0  If man is a little lower than angels, then ang...  \n1  \"@BestWSHHVids: how do you say these words wit...  \n2                                @LOLatComedy awsome  \n3  Stephen Hawkins: i buchi neri non esistono se ...  \n4        RT @tibbs_montris: So ready for Wednesday!   ",
      "text/html": "<div>\n<style scoped>\n    .dataframe tbody tr th:only-of-type {\n        vertical-align: middle;\n    }\n\n    .dataframe tbody tr th {\n        vertical-align: top;\n    }\n\n    .dataframe thead th {\n        text-align: right;\n    }\n</style>\n<table border=\"1\" class=\"dataframe\">\n  <thead>\n    <tr style=\"text-align: right;\">\n      <th></th>\n      <th>id</th>\n      <th>user_id</th>\n      <th>retweet_count</th>\n      <th>reply_count</th>\n      <th>favorite_count</th>\n      <th>num_hashtags</th>\n      <th>num_urls</th>\n      <th>num_mentions</th>\n      <th>created_at</th>\n      <th>text</th>\n    </tr>\n  </thead>\n  <tbody>\n    <tr>\n      <th>0</th>\n      <td>509354017856950272</td>\n      <td>327746321</td>\n      <td>0</td>\n      <td>0</td>\n      <td>0</td>\n      <td>0</td>\n      <td>0</td>\n      <td>0</td>\n      <td>2019-09-11 14:53:55</td>\n      <td>If man is a little lower than angels, then ang...</td>\n    </tr>\n    <tr>\n      <th>1</th>\n      <td>583002592529121280</td>\n      <td>333722906</td>\n      <td>1</td>\n      <td>0</td>\n      <td>0</td>\n      <td>0</td>\n      <td>0</td>\n      <td>1</td>\n      <td>2020-04-01 20:27:04</td>\n      <td>\"@BestWSHHVids: how do you say these words wit...</td>\n    </tr>\n    <tr>\n      <th>2</th>\n      <td>461498835362013185</td>\n      <td>2379755827</td>\n      <td>0</td>\n      <td>0</td>\n      <td>0</td>\n      <td>0</td>\n      <td>0</td>\n      <td>1</td>\n      <td>2019-05-02 13:34:31</td>\n      <td>@LOLatComedy awsome</td>\n    </tr>\n    <tr>\n      <th>3</th>\n      <td>528808127366692864</td>\n      <td>466226882</td>\n      <td>0</td>\n      <td>0</td>\n      <td>0</td>\n      <td>0</td>\n      <td>0</td>\n      <td>0</td>\n      <td>2019-11-04 07:17:37</td>\n      <td>Stephen Hawkins: i buchi neri non esistono se ...</td>\n    </tr>\n    <tr>\n      <th>4</th>\n      <td>575336690904006656</td>\n      <td>1355537995</td>\n      <td>114</td>\n      <td>0</td>\n      <td>0</td>\n      <td>1</td>\n      <td>0</td>\n      <td>1</td>\n      <td>2020-03-11 16:45:31</td>\n      <td>RT @tibbs_montris: So ready for Wednesday!</td>\n    </tr>\n  </tbody>\n</table>\n</div>"
     },
     "execution_count": 171,
     "metadata": {},
     "output_type": "execute_result"
    }
   ],
   "source": [
    "df_tweets.head()"
   ]
  },
  {
   "cell_type": "code",
   "execution_count": 172,
   "metadata": {
    "colab": {
     "base_uri": "https://localhost:8080/"
    },
    "executionInfo": {
     "elapsed": 6960,
     "status": "ok",
     "timestamp": 1665240493189,
     "user": {
      "displayName": "ALESSANDRO DIPALMA",
      "userId": "15827404338341614451"
     },
     "user_tz": -120
    },
    "id": "bZfdvzMejsEe",
    "outputId": "2358873b-fa51-4ca4-e0ed-6b065be11546"
   },
   "outputs": [
    {
     "name": "stdout",
     "output_type": "stream",
     "text": [
      "<class 'pandas.core.frame.DataFrame'>\n",
      "RangeIndex: 13664696 entries, 0 to 13664695\n",
      "Data columns (total 10 columns):\n",
      " #   Column          Non-Null Count     Dtype \n",
      "---  ------          --------------     ----- \n",
      " 0   id              13664694 non-null  object\n",
      " 1   user_id         13447413 non-null  object\n",
      " 2   retweet_count   13227562 non-null  object\n",
      " 3   reply_count     13016818 non-null  object\n",
      " 4   favorite_count  13017154 non-null  object\n",
      " 5   num_hashtags    12607172 non-null  object\n",
      " 6   num_urls        13016073 non-null  object\n",
      " 7   num_mentions    12810531 non-null  object\n",
      " 8   created_at      13664696 non-null  object\n",
      " 9   text            13126975 non-null  object\n",
      "dtypes: object(10)\n",
      "memory usage: 1.0+ GB\n"
     ]
    },
    {
     "name": "stderr",
     "output_type": "stream",
     "text": [
      "C:\\Users\\Alessandro\\AppData\\Local\\Temp\\ipykernel_9516\\3419106329.py:1: FutureWarning: null_counts is deprecated. Use show_counts instead\n",
      "  df_tweets.info(null_counts=True)\n"
     ]
    }
   ],
   "source": [
    "df_tweets.info(null_counts=True)"
   ]
  },
  {
   "cell_type": "code",
   "execution_count": 173,
   "metadata": {
    "colab": {
     "base_uri": "https://localhost:8080/"
    },
    "executionInfo": {
     "elapsed": 14,
     "status": "ok",
     "timestamp": 1665240493189,
     "user": {
      "displayName": "ALESSANDRO DIPALMA",
      "userId": "15827404338341614451"
     },
     "user_tz": -120
    },
    "id": "AtL8X7Furq0Z",
    "outputId": "1b51e155-6f83-43ca-d51a-0cb5b952f5c6"
   },
   "outputs": [
    {
     "data": {
      "text/plain": "136646960"
     },
     "execution_count": 173,
     "metadata": {},
     "output_type": "execute_result"
    }
   ],
   "source": [
    "df_tweets.size"
   ]
  },
  {
   "cell_type": "markdown",
   "metadata": {},
   "source": [
    "## Verifica esistenza record duplicati"
   ]
  },
  {
   "cell_type": "code",
   "execution_count": 174,
   "metadata": {
    "colab": {
     "base_uri": "https://localhost:8080/"
    },
    "executionInfo": {
     "elapsed": 66058,
     "status": "ok",
     "timestamp": 1665240559240,
     "user": {
      "displayName": "ALESSANDRO DIPALMA",
      "userId": "15827404338341614451"
     },
     "user_tz": -120
    },
    "id": "-3ywwV6CoQ1V",
    "outputId": "e3daccc7-e3b6-4dfb-86ae-1f0bf9101419"
   },
   "outputs": [
    {
     "data": {
      "text/plain": "False    11712597\nTrue      1952099\ndtype: int64"
     },
     "execution_count": 174,
     "metadata": {},
     "output_type": "execute_result"
    }
   ],
   "source": [
    "df_tweets_dupl = df_tweets.duplicated()\n",
    "df_tweets_dupl.value_counts()"
   ]
  },
  {
   "cell_type": "markdown",
   "metadata": {},
   "source": [
    "## Drop duplicates"
   ]
  },
  {
   "cell_type": "code",
   "execution_count": 175,
   "metadata": {
    "colab": {
     "base_uri": "https://localhost:8080/"
    },
    "executionInfo": {
     "elapsed": 60601,
     "status": "ok",
     "timestamp": 1665240620325,
     "user": {
      "displayName": "ALESSANDRO DIPALMA",
      "userId": "15827404338341614451"
     },
     "user_tz": -120
    },
    "id": "jeE9lroMqmTv",
    "outputId": "a1a0f82e-94df-4484-cab2-718d8257f05c"
   },
   "outputs": [
    {
     "data": {
      "text/plain": "11712597"
     },
     "execution_count": 175,
     "metadata": {},
     "output_type": "execute_result"
    }
   ],
   "source": [
    "df_tweets_clear = df_tweets.drop_duplicates(keep = 'first')\n",
    "df_tweets_clear.shape[0]"
   ]
  },
  {
   "cell_type": "code",
   "execution_count": 176,
   "metadata": {
    "colab": {
     "base_uri": "https://localhost:8080/"
    },
    "executionInfo": {
     "elapsed": 1065,
     "status": "ok",
     "timestamp": 1665240626597,
     "user": {
      "displayName": "ALESSANDRO DIPALMA",
      "userId": "15827404338341614451"
     },
     "user_tz": -120
    },
    "id": "PO_ZZg6ylV1Y",
    "outputId": "2503f2ac-9e73-4d97-d8e9-70172f5b8c02"
   },
   "outputs": [
    {
     "name": "stdout",
     "output_type": "stream",
     "text": [
      "<class 'pandas.core.frame.DataFrame'>\n",
      "Int64Index: 11712597 entries, 0 to 13664695\n",
      "Data columns (total 10 columns):\n",
      " #   Column          Non-Null Count     Dtype \n",
      "---  ------          --------------     ----- \n",
      " 0   id              11712595 non-null  object\n",
      " 1   user_id         11495314 non-null  object\n",
      " 2   retweet_count   11275463 non-null  object\n",
      " 3   reply_count     11064719 non-null  object\n",
      " 4   favorite_count  11065055 non-null  object\n",
      " 5   num_hashtags    10655073 non-null  object\n",
      " 6   num_urls        11063974 non-null  object\n",
      " 7   num_mentions    10858432 non-null  object\n",
      " 8   created_at      11712597 non-null  object\n",
      " 9   text            11182415 non-null  object\n",
      "dtypes: object(10)\n",
      "memory usage: 983.0+ MB\n"
     ]
    }
   ],
   "source": [
    "df_tweets_clear.info(show_counts=True)"
   ]
  },
  {
   "cell_type": "markdown",
   "metadata": {},
   "source": [
    "## Verifica di duplicati su un sottoinsieme di colonne"
   ]
  },
  {
   "cell_type": "code",
   "execution_count": 177,
   "metadata": {
    "colab": {
     "base_uri": "https://localhost:8080/"
    },
    "executionInfo": {
     "elapsed": 11694,
     "status": "ok",
     "timestamp": 1665240638287,
     "user": {
      "displayName": "ALESSANDRO DIPALMA",
      "userId": "15827404338341614451"
     },
     "user_tz": -120
    },
    "id": "E5Ogiw_7uTO7",
    "outputId": "aa238a0e-39af-4f97-88ca-863027fc5b36"
   },
   "outputs": [
    {
     "data": {
      "text/plain": "False    11672136\nTrue        40461\ndtype: int64"
     },
     "execution_count": 177,
     "metadata": {},
     "output_type": "execute_result"
    }
   ],
   "source": [
    "df_tweets_dupl = df_tweets_clear.duplicated(subset=['id']) # Stesso id\n",
    "df_tweets_dupl.value_counts()"
   ]
  },
  {
   "cell_type": "code",
   "execution_count": 178,
   "metadata": {
    "colab": {
     "base_uri": "https://localhost:8080/"
    },
    "executionInfo": {
     "elapsed": 14542,
     "status": "ok",
     "timestamp": 1665240652821,
     "user": {
      "displayName": "ALESSANDRO DIPALMA",
      "userId": "15827404338341614451"
     },
     "user_tz": -120
    },
    "id": "v-X0Cv1au95m",
    "outputId": "d8463b34-e56e-40a7-f71e-b86614f49e20"
   },
   "outputs": [
    {
     "data": {
      "text/plain": "False    11712237\nTrue          360\ndtype: int64"
     },
     "execution_count": 178,
     "metadata": {},
     "output_type": "execute_result"
    }
   ],
   "source": [
    "df_tweets_dupl = df_tweets_clear.duplicated(subset=['id', 'user_id']) # Stesso id e stesso user_id\n",
    "df_tweets_dupl.value_counts()"
   ]
  },
  {
   "cell_type": "code",
   "execution_count": 179,
   "metadata": {
    "colab": {
     "base_uri": "https://localhost:8080/"
    },
    "executionInfo": {
     "elapsed": 17433,
     "status": "ok",
     "timestamp": 1665240681096,
     "user": {
      "displayName": "ALESSANDRO DIPALMA",
      "userId": "15827404338341614451"
     },
     "user_tz": -120
    },
    "id": "6MwOboRjwcR5",
    "outputId": "2d5ae4f1-9195-4d07-e997-b231c2630655"
   },
   "outputs": [
    {
     "data": {
      "text/plain": "False    11712336\nTrue          261\ndtype: int64"
     },
     "execution_count": 179,
     "metadata": {},
     "output_type": "execute_result"
    }
   ],
   "source": [
    "df_tweets_dupl = df_tweets_clear.duplicated(subset=['id', 'user_id', 'text']) # Stessi id, user_id e testo\n",
    "df_tweets_dupl.value_counts()"
   ]
  },
  {
   "cell_type": "code",
   "execution_count": 180,
   "metadata": {
    "colab": {
     "base_uri": "https://localhost:8080/"
    },
    "executionInfo": {
     "elapsed": 40057,
     "status": "ok",
     "timestamp": 1665240721145,
     "user": {
      "displayName": "ALESSANDRO DIPALMA",
      "userId": "15827404338341614451"
     },
     "user_tz": -120
    },
    "id": "hgchbFmjwszo",
    "outputId": "fa1c3623-ca24-4f44-c3c4-0a23e24e56cc"
   },
   "outputs": [
    {
     "data": {
      "text/plain": "False    11712597\ndtype: int64"
     },
     "execution_count": 180,
     "metadata": {},
     "output_type": "execute_result"
    }
   ],
   "source": [
    "df_tweets_dupl = df_tweets_clear.duplicated(subset=['id', 'user_id', 'created_at', 'text']) # Stessi id, user_id, testo e data di creazione\n",
    "df_tweets_dupl.value_counts()"
   ]
  },
  {
   "cell_type": "code",
   "execution_count": 181,
   "metadata": {
    "executionInfo": {
     "elapsed": 29606,
     "status": "ok",
     "timestamp": 1665241316281,
     "user": {
      "displayName": "ALESSANDRO DIPALMA",
      "userId": "15827404338341614451"
     },
     "user_tz": -120
    },
    "id": "3OhOSoAJzQRT"
   },
   "outputs": [],
   "source": [
    "df_tweets_dupl =df_tweets_clear[df_tweets_clear.duplicated(subset=['id', 'user_id','text'])]"
   ]
  },
  {
   "cell_type": "markdown",
   "metadata": {},
   "source": [
    "## Data la presenza di molteplici valori nulli tra i duplicati secondo le colonne [id, user_id, text] verifichiamo la corrispondenza di tweet con lo user_id non nullo con la tabella users"
   ]
  },
  {
   "cell_type": "code",
   "execution_count": 182,
   "metadata": {
    "colab": {
     "base_uri": "https://localhost:8080/"
    },
    "executionInfo": {
     "elapsed": 10,
     "status": "ok",
     "timestamp": 1665242198147,
     "user": {
      "displayName": "ALESSANDRO DIPALMA",
      "userId": "15827404338341614451"
     },
     "user_tz": -120
    },
    "id": "GvAclqDxzVy9",
    "outputId": "7e10116d-37a9-4dc3-df4e-a54e05c5499c"
   },
   "outputs": [
    {
     "name": "stdout",
     "output_type": "stream",
     "text": [
      "<class 'pandas.core.frame.DataFrame'>\n",
      "Int64Index: 12 entries, 4515945 to 13484983\n",
      "Data columns (total 10 columns):\n",
      " #   Column          Non-Null Count  Dtype \n",
      "---  ------          --------------  ----- \n",
      " 0   id              12 non-null     object\n",
      " 1   user_id         12 non-null     object\n",
      " 2   retweet_count   5 non-null      object\n",
      " 3   reply_count     3 non-null      object\n",
      " 4   favorite_count  2 non-null      object\n",
      " 5   num_hashtags    0 non-null      object\n",
      " 6   num_urls        2 non-null      object\n",
      " 7   num_mentions    0 non-null      object\n",
      " 8   created_at      12 non-null     object\n",
      " 9   text            0 non-null      object\n",
      "dtypes: object(10)\n",
      "memory usage: 1.0+ KB\n"
     ]
    }
   ],
   "source": [
    "df_nonnull_users = df_tweets_dupl[df_tweets_dupl['user_id'].isnull() == False] # Solo 12 user_id sono avvalorati nei duplicati\n",
    "df_nonnull_users.info()"
   ]
  },
  {
   "cell_type": "code",
   "execution_count": 183,
   "metadata": {
    "colab": {
     "base_uri": "https://localhost:8080/",
     "height": 533
    },
    "executionInfo": {
     "elapsed": 19,
     "status": "ok",
     "timestamp": 1665242043036,
     "user": {
      "displayName": "ALESSANDRO DIPALMA",
      "userId": "15827404338341614451"
     },
     "user_tz": -120
    },
    "id": "84zjvX26IiIW",
    "outputId": "0413313b-2c79-4252-d934-5e171de5e6c1"
   },
   "outputs": [
    {
     "name": "stderr",
     "output_type": "stream",
     "text": [
      "C:\\Users\\Alessandro\\AppData\\Local\\Temp\\ipykernel_9516\\3993844464.py:1: SettingWithCopyWarning: \n",
      "A value is trying to be set on a copy of a slice from a DataFrame.\n",
      "Try using .loc[row_indexer,col_indexer] = value instead\n",
      "\n",
      "See the caveats in the documentation: https://pandas.pydata.org/pandas-docs/stable/user_guide/indexing.html#returning-a-view-versus-a-copy\n",
      "  df_nonnull_users.user_id = pd.to_numeric(df_nonnull_users.user_id) # transform column to int values from object\n"
     ]
    },
    {
     "data": {
      "text/plain": "    id_x     user_id retweet_count reply_count favorite_count num_hashtags  \\\n0   vada   331806614           NaN         NaN            NaN          NaN   \n1    ptb   467116841             0         0.0            0.0          NaN   \n2    efh  1573156616             0         NaN            NaN          NaN   \n3    oby   114910555           NaN         NaN            NaN          NaN   \n4    yfj  2445641666           NaN         NaN            NaN          NaN   \n5    djq    70142270           NaN         NaN            NaN          NaN   \n6    gnn    24295753           NaN         NaN            NaN          NaN   \n7    fkn  1978992043           NaN         NaN            NaN          NaN   \n8    vam  1499931151          1222         NaN            0.0          NaN   \n9    tgg   576226470             0         0.0            NaN          NaN   \n10   kws   531236295         7bbif         0.0            NaN          NaN   \n11   gaj   251905557           NaN         NaN            NaN          NaN   \n\n   num_urls num_mentions         created_at_x text        id_y  \\\n0       NaN          NaN  2019-10-16 23:49:32  NaN   331806614   \n1       NaN          NaN  2019-06-17 09:34:56  NaN   467116841   \n2       NaN          NaN  2020-03-07 04:35:15  NaN  1573156616   \n3       NaN          NaN  2020-03-15 03:51:40  NaN   114910555   \n4       NaN          NaN  2019-04-29 23:52:04  NaN  2445641666   \n5       0.0          NaN  2020-04-23 12:43:47  NaN    70142270   \n6       NaN          NaN  2020-03-15 15:12:05  NaN    24295753   \n7       NaN          NaN  2020-03-21 23:10:07  NaN  1978992043   \n8       1.0          NaN  2020-03-15 14:54:04  NaN  1499931151   \n9       NaN          NaN  2018-11-28 13:28:02  NaN   576226470   \n10      NaN          NaN  2019-11-08 14:53:10  NaN   531236295   \n11      NaN          NaN  2020-04-25 17:51:35  NaN   251905557   \n\n                   name   lang  bot         created_at_y  statuses_count  \n0          Marty Balin      en    1  2016-07-09 19:01:19         12375.0  \n1        Gabriele Danno     it    1  2017-01-19 04:08:16            61.0  \n2             Tiny Tibo     fr    0  2018-07-08 16:27:04         27105.0  \n3          Señor Grande     en    0  2015-02-19 00:51:08         10212.0  \n4   Barstool Iowa State     en    0  2019-04-17 15:59:24          1515.0  \n5         Morgan Joseph     en    0  2014-09-01 15:31:01         12171.0  \n6          Nick (Rosie)     en    0  2014-03-16 00:53:21         18699.0  \n7                     -  en-gb    0  2018-10-23 14:43:13         33905.0  \n8                 Bojan     en    0  2018-06-13 01:16:32         26559.0  \n9               Dicerie     en    1  2017-05-12 11:13:08          2000.0  \n10      Candance Hawver     en    1  2017-03-22 11:42:55         10004.0  \n11               Adrián     en    0  2016-02-16 02:38:20         24375.0  ",
      "text/html": "<div>\n<style scoped>\n    .dataframe tbody tr th:only-of-type {\n        vertical-align: middle;\n    }\n\n    .dataframe tbody tr th {\n        vertical-align: top;\n    }\n\n    .dataframe thead th {\n        text-align: right;\n    }\n</style>\n<table border=\"1\" class=\"dataframe\">\n  <thead>\n    <tr style=\"text-align: right;\">\n      <th></th>\n      <th>id_x</th>\n      <th>user_id</th>\n      <th>retweet_count</th>\n      <th>reply_count</th>\n      <th>favorite_count</th>\n      <th>num_hashtags</th>\n      <th>num_urls</th>\n      <th>num_mentions</th>\n      <th>created_at_x</th>\n      <th>text</th>\n      <th>id_y</th>\n      <th>name</th>\n      <th>lang</th>\n      <th>bot</th>\n      <th>created_at_y</th>\n      <th>statuses_count</th>\n    </tr>\n  </thead>\n  <tbody>\n    <tr>\n      <th>0</th>\n      <td>vada</td>\n      <td>331806614</td>\n      <td>NaN</td>\n      <td>NaN</td>\n      <td>NaN</td>\n      <td>NaN</td>\n      <td>NaN</td>\n      <td>NaN</td>\n      <td>2019-10-16 23:49:32</td>\n      <td>NaN</td>\n      <td>331806614</td>\n      <td>Marty Balin</td>\n      <td>en</td>\n      <td>1</td>\n      <td>2016-07-09 19:01:19</td>\n      <td>12375.0</td>\n    </tr>\n    <tr>\n      <th>1</th>\n      <td>ptb</td>\n      <td>467116841</td>\n      <td>0</td>\n      <td>0.0</td>\n      <td>0.0</td>\n      <td>NaN</td>\n      <td>NaN</td>\n      <td>NaN</td>\n      <td>2019-06-17 09:34:56</td>\n      <td>NaN</td>\n      <td>467116841</td>\n      <td>Gabriele Danno</td>\n      <td>it</td>\n      <td>1</td>\n      <td>2017-01-19 04:08:16</td>\n      <td>61.0</td>\n    </tr>\n    <tr>\n      <th>2</th>\n      <td>efh</td>\n      <td>1573156616</td>\n      <td>0</td>\n      <td>NaN</td>\n      <td>NaN</td>\n      <td>NaN</td>\n      <td>NaN</td>\n      <td>NaN</td>\n      <td>2020-03-07 04:35:15</td>\n      <td>NaN</td>\n      <td>1573156616</td>\n      <td>Tiny Tibo</td>\n      <td>fr</td>\n      <td>0</td>\n      <td>2018-07-08 16:27:04</td>\n      <td>27105.0</td>\n    </tr>\n    <tr>\n      <th>3</th>\n      <td>oby</td>\n      <td>114910555</td>\n      <td>NaN</td>\n      <td>NaN</td>\n      <td>NaN</td>\n      <td>NaN</td>\n      <td>NaN</td>\n      <td>NaN</td>\n      <td>2020-03-15 03:51:40</td>\n      <td>NaN</td>\n      <td>114910555</td>\n      <td>Señor Grande</td>\n      <td>en</td>\n      <td>0</td>\n      <td>2015-02-19 00:51:08</td>\n      <td>10212.0</td>\n    </tr>\n    <tr>\n      <th>4</th>\n      <td>yfj</td>\n      <td>2445641666</td>\n      <td>NaN</td>\n      <td>NaN</td>\n      <td>NaN</td>\n      <td>NaN</td>\n      <td>NaN</td>\n      <td>NaN</td>\n      <td>2019-04-29 23:52:04</td>\n      <td>NaN</td>\n      <td>2445641666</td>\n      <td>Barstool Iowa State</td>\n      <td>en</td>\n      <td>0</td>\n      <td>2019-04-17 15:59:24</td>\n      <td>1515.0</td>\n    </tr>\n    <tr>\n      <th>5</th>\n      <td>djq</td>\n      <td>70142270</td>\n      <td>NaN</td>\n      <td>NaN</td>\n      <td>NaN</td>\n      <td>NaN</td>\n      <td>0.0</td>\n      <td>NaN</td>\n      <td>2020-04-23 12:43:47</td>\n      <td>NaN</td>\n      <td>70142270</td>\n      <td>Morgan Joseph</td>\n      <td>en</td>\n      <td>0</td>\n      <td>2014-09-01 15:31:01</td>\n      <td>12171.0</td>\n    </tr>\n    <tr>\n      <th>6</th>\n      <td>gnn</td>\n      <td>24295753</td>\n      <td>NaN</td>\n      <td>NaN</td>\n      <td>NaN</td>\n      <td>NaN</td>\n      <td>NaN</td>\n      <td>NaN</td>\n      <td>2020-03-15 15:12:05</td>\n      <td>NaN</td>\n      <td>24295753</td>\n      <td>Nick (Rosie)</td>\n      <td>en</td>\n      <td>0</td>\n      <td>2014-03-16 00:53:21</td>\n      <td>18699.0</td>\n    </tr>\n    <tr>\n      <th>7</th>\n      <td>fkn</td>\n      <td>1978992043</td>\n      <td>NaN</td>\n      <td>NaN</td>\n      <td>NaN</td>\n      <td>NaN</td>\n      <td>NaN</td>\n      <td>NaN</td>\n      <td>2020-03-21 23:10:07</td>\n      <td>NaN</td>\n      <td>1978992043</td>\n      <td>-</td>\n      <td>en-gb</td>\n      <td>0</td>\n      <td>2018-10-23 14:43:13</td>\n      <td>33905.0</td>\n    </tr>\n    <tr>\n      <th>8</th>\n      <td>vam</td>\n      <td>1499931151</td>\n      <td>1222</td>\n      <td>NaN</td>\n      <td>0.0</td>\n      <td>NaN</td>\n      <td>1.0</td>\n      <td>NaN</td>\n      <td>2020-03-15 14:54:04</td>\n      <td>NaN</td>\n      <td>1499931151</td>\n      <td>Bojan</td>\n      <td>en</td>\n      <td>0</td>\n      <td>2018-06-13 01:16:32</td>\n      <td>26559.0</td>\n    </tr>\n    <tr>\n      <th>9</th>\n      <td>tgg</td>\n      <td>576226470</td>\n      <td>0</td>\n      <td>0.0</td>\n      <td>NaN</td>\n      <td>NaN</td>\n      <td>NaN</td>\n      <td>NaN</td>\n      <td>2018-11-28 13:28:02</td>\n      <td>NaN</td>\n      <td>576226470</td>\n      <td>Dicerie</td>\n      <td>en</td>\n      <td>1</td>\n      <td>2017-05-12 11:13:08</td>\n      <td>2000.0</td>\n    </tr>\n    <tr>\n      <th>10</th>\n      <td>kws</td>\n      <td>531236295</td>\n      <td>7bbif</td>\n      <td>0.0</td>\n      <td>NaN</td>\n      <td>NaN</td>\n      <td>NaN</td>\n      <td>NaN</td>\n      <td>2019-11-08 14:53:10</td>\n      <td>NaN</td>\n      <td>531236295</td>\n      <td>Candance Hawver</td>\n      <td>en</td>\n      <td>1</td>\n      <td>2017-03-22 11:42:55</td>\n      <td>10004.0</td>\n    </tr>\n    <tr>\n      <th>11</th>\n      <td>gaj</td>\n      <td>251905557</td>\n      <td>NaN</td>\n      <td>NaN</td>\n      <td>NaN</td>\n      <td>NaN</td>\n      <td>NaN</td>\n      <td>NaN</td>\n      <td>2020-04-25 17:51:35</td>\n      <td>NaN</td>\n      <td>251905557</td>\n      <td>Adrián</td>\n      <td>en</td>\n      <td>0</td>\n      <td>2016-02-16 02:38:20</td>\n      <td>24375.0</td>\n    </tr>\n  </tbody>\n</table>\n</div>"
     },
     "execution_count": 183,
     "metadata": {},
     "output_type": "execute_result"
    }
   ],
   "source": [
    "df_nonnull_users.user_id = pd.to_numeric(df_nonnull_users.user_id) # transform column to int values from object\n",
    "df_nonnull_users.merge(df_users, left_on='user_id', right_on='id') # merge with users table"
   ]
  },
  {
   "cell_type": "markdown",
   "metadata": {},
   "source": [
    "All users have a correspondance with users in the users file "
   ]
  },
  {
   "cell_type": "markdown",
   "metadata": {},
   "source": [
    "## Eliminazione delle righe ripetute secondo il pattern sopracitato aventi lo user_id nullo"
   ]
  },
  {
   "cell_type": "code",
   "execution_count": 184,
   "metadata": {},
   "outputs": [],
   "source": [
    "df_tweets_more_clear = df_tweets_clear[df_tweets_clear.duplicated(subset=['id', 'user_id','text'])]"
   ]
  },
  {
   "cell_type": "code",
   "execution_count": 185,
   "metadata": {},
   "outputs": [
    {
     "name": "stdout",
     "output_type": "stream",
     "text": [
      "<class 'pandas.core.frame.DataFrame'>\n",
      "Int64Index: 261 entries, 280761 to 13607558\n",
      "Data columns (total 10 columns):\n",
      " #   Column          Non-Null Count  Dtype \n",
      "---  ------          --------------  ----- \n",
      " 0   id              261 non-null    object\n",
      " 1   user_id         12 non-null     object\n",
      " 2   retweet_count   142 non-null    object\n",
      " 3   reply_count     51 non-null     object\n",
      " 4   favorite_count  76 non-null     object\n",
      " 5   num_hashtags    0 non-null      object\n",
      " 6   num_urls        56 non-null     object\n",
      " 7   num_mentions    0 non-null      object\n",
      " 8   created_at      261 non-null    object\n",
      " 9   text            0 non-null      object\n",
      "dtypes: object(10)\n",
      "memory usage: 22.4+ KB\n"
     ]
    }
   ],
   "source": [
    "df_tweets_more_clear.info()"
   ]
  },
  {
   "cell_type": "markdown",
   "metadata": {},
   "source": [
    "Check null user_id values"
   ]
  },
  {
   "cell_type": "code",
   "execution_count": 186,
   "metadata": {},
   "outputs": [
    {
     "data": {
      "text/plain": "            id user_id retweet_count reply_count favorite_count num_hashtags  \\\n280761     mxi     NaN             0         NaN            0.0          NaN   \n515406     mxi     NaN             2         NaN            0.0          NaN   \n573128     srq     NaN           NaN         NaN            NaN          NaN   \n1706009    xiu     NaN           NaN         NaN            NaN          NaN   \n1787554   crks     NaN             0         NaN            NaN          NaN   \n...        ...     ...           ...         ...            ...          ...   \n13554922   cxz     NaN           NaN         NaN            NaN          NaN   \n13557755   ngd     NaN           NaN         NaN            NaN          NaN   \n13561775   qyt     NaN             0         NaN            0.0          NaN   \n13593848   uru     NaN             0         NaN            NaN          NaN   \n13607558   juo     NaN             0         0.0            NaN          NaN   \n\n         num_urls num_mentions           created_at text  \n280761        1.0          NaN  2019-09-14 20:47:29  NaN  \n515406        0.0          NaN  2020-03-22 04:55:02  NaN  \n573128        0.0          NaN  2020-02-24 22:11:05  NaN  \n1706009       NaN          NaN  2019-09-21 14:12:26  NaN  \n1787554       NaN          NaN  2020-04-17 16:52:26  NaN  \n...           ...          ...                  ...  ...  \n13554922      NaN          NaN  2019-09-13 07:19:42  NaN  \n13557755      0.0          NaN  2019-11-01 16:21:42  NaN  \n13561775      0.0          NaN  2019-11-03 11:50:00  NaN  \n13593848      NaN          NaN  2020-03-27 01:57:35  NaN  \n13607558      NaN          NaN  2020-04-08 01:43:52  NaN  \n\n[249 rows x 10 columns]",
      "text/html": "<div>\n<style scoped>\n    .dataframe tbody tr th:only-of-type {\n        vertical-align: middle;\n    }\n\n    .dataframe tbody tr th {\n        vertical-align: top;\n    }\n\n    .dataframe thead th {\n        text-align: right;\n    }\n</style>\n<table border=\"1\" class=\"dataframe\">\n  <thead>\n    <tr style=\"text-align: right;\">\n      <th></th>\n      <th>id</th>\n      <th>user_id</th>\n      <th>retweet_count</th>\n      <th>reply_count</th>\n      <th>favorite_count</th>\n      <th>num_hashtags</th>\n      <th>num_urls</th>\n      <th>num_mentions</th>\n      <th>created_at</th>\n      <th>text</th>\n    </tr>\n  </thead>\n  <tbody>\n    <tr>\n      <th>280761</th>\n      <td>mxi</td>\n      <td>NaN</td>\n      <td>0</td>\n      <td>NaN</td>\n      <td>0.0</td>\n      <td>NaN</td>\n      <td>1.0</td>\n      <td>NaN</td>\n      <td>2019-09-14 20:47:29</td>\n      <td>NaN</td>\n    </tr>\n    <tr>\n      <th>515406</th>\n      <td>mxi</td>\n      <td>NaN</td>\n      <td>2</td>\n      <td>NaN</td>\n      <td>0.0</td>\n      <td>NaN</td>\n      <td>0.0</td>\n      <td>NaN</td>\n      <td>2020-03-22 04:55:02</td>\n      <td>NaN</td>\n    </tr>\n    <tr>\n      <th>573128</th>\n      <td>srq</td>\n      <td>NaN</td>\n      <td>NaN</td>\n      <td>NaN</td>\n      <td>NaN</td>\n      <td>NaN</td>\n      <td>0.0</td>\n      <td>NaN</td>\n      <td>2020-02-24 22:11:05</td>\n      <td>NaN</td>\n    </tr>\n    <tr>\n      <th>1706009</th>\n      <td>xiu</td>\n      <td>NaN</td>\n      <td>NaN</td>\n      <td>NaN</td>\n      <td>NaN</td>\n      <td>NaN</td>\n      <td>NaN</td>\n      <td>NaN</td>\n      <td>2019-09-21 14:12:26</td>\n      <td>NaN</td>\n    </tr>\n    <tr>\n      <th>1787554</th>\n      <td>crks</td>\n      <td>NaN</td>\n      <td>0</td>\n      <td>NaN</td>\n      <td>NaN</td>\n      <td>NaN</td>\n      <td>NaN</td>\n      <td>NaN</td>\n      <td>2020-04-17 16:52:26</td>\n      <td>NaN</td>\n    </tr>\n    <tr>\n      <th>...</th>\n      <td>...</td>\n      <td>...</td>\n      <td>...</td>\n      <td>...</td>\n      <td>...</td>\n      <td>...</td>\n      <td>...</td>\n      <td>...</td>\n      <td>...</td>\n      <td>...</td>\n    </tr>\n    <tr>\n      <th>13554922</th>\n      <td>cxz</td>\n      <td>NaN</td>\n      <td>NaN</td>\n      <td>NaN</td>\n      <td>NaN</td>\n      <td>NaN</td>\n      <td>NaN</td>\n      <td>NaN</td>\n      <td>2019-09-13 07:19:42</td>\n      <td>NaN</td>\n    </tr>\n    <tr>\n      <th>13557755</th>\n      <td>ngd</td>\n      <td>NaN</td>\n      <td>NaN</td>\n      <td>NaN</td>\n      <td>NaN</td>\n      <td>NaN</td>\n      <td>0.0</td>\n      <td>NaN</td>\n      <td>2019-11-01 16:21:42</td>\n      <td>NaN</td>\n    </tr>\n    <tr>\n      <th>13561775</th>\n      <td>qyt</td>\n      <td>NaN</td>\n      <td>0</td>\n      <td>NaN</td>\n      <td>0.0</td>\n      <td>NaN</td>\n      <td>0.0</td>\n      <td>NaN</td>\n      <td>2019-11-03 11:50:00</td>\n      <td>NaN</td>\n    </tr>\n    <tr>\n      <th>13593848</th>\n      <td>uru</td>\n      <td>NaN</td>\n      <td>0</td>\n      <td>NaN</td>\n      <td>NaN</td>\n      <td>NaN</td>\n      <td>NaN</td>\n      <td>NaN</td>\n      <td>2020-03-27 01:57:35</td>\n      <td>NaN</td>\n    </tr>\n    <tr>\n      <th>13607558</th>\n      <td>juo</td>\n      <td>NaN</td>\n      <td>0</td>\n      <td>0.0</td>\n      <td>NaN</td>\n      <td>NaN</td>\n      <td>NaN</td>\n      <td>NaN</td>\n      <td>2020-04-08 01:43:52</td>\n      <td>NaN</td>\n    </tr>\n  </tbody>\n</table>\n<p>249 rows × 10 columns</p>\n</div>"
     },
     "execution_count": 186,
     "metadata": {},
     "output_type": "execute_result"
    }
   ],
   "source": [
    "df_tweets_more_clear[df_tweets_more_clear['user_id'].isnull() == True]"
   ]
  },
  {
   "cell_type": "markdown",
   "metadata": {},
   "source": [
    "Drop all records where user_id is null"
   ]
  },
  {
   "cell_type": "code",
   "execution_count": 187,
   "metadata": {
    "id": "O-co7rHGFeOY"
   },
   "outputs": [
    {
     "name": "stdout",
     "output_type": "stream",
     "text": [
      "<class 'pandas.core.frame.DataFrame'>\n",
      "Int64Index: 11712348 entries, 0 to 13664695\n",
      "Data columns (total 10 columns):\n",
      " #   Column          Non-Null Count     Dtype \n",
      "---  ------          --------------     ----- \n",
      " 0   id              11712346 non-null  object\n",
      " 1   user_id         11495314 non-null  object\n",
      " 2   retweet_count   11275326 non-null  object\n",
      " 3   reply_count     11064671 non-null  object\n",
      " 4   favorite_count  11064981 non-null  object\n",
      " 5   num_hashtags    10655073 non-null  object\n",
      " 6   num_urls        11063920 non-null  object\n",
      " 7   num_mentions    10858432 non-null  object\n",
      " 8   created_at      11712348 non-null  object\n",
      " 9   text            11182415 non-null  object\n",
      "dtypes: object(10)\n",
      "memory usage: 982.9+ MB\n"
     ]
    }
   ],
   "source": [
    "df_tweets_single =df_tweets_clear.drop(df_tweets_more_clear[df_tweets_more_clear['user_id'].isnull() == True].index)\n",
    "df_tweets_single.info(show_counts=True)"
   ]
  },
  {
   "cell_type": "markdown",
   "metadata": {},
   "source": [
    "Take all users in duplicates that have a user_id that is not null"
   ]
  },
  {
   "cell_type": "code",
   "execution_count": 188,
   "metadata": {},
   "outputs": [
    {
     "name": "stdout",
     "output_type": "stream",
     "text": [
      "<class 'pandas.core.frame.DataFrame'>\n",
      "Int64Index: 12 entries, 4515945 to 13484983\n",
      "Data columns (total 10 columns):\n",
      " #   Column          Non-Null Count  Dtype \n",
      "---  ------          --------------  ----- \n",
      " 0   id              12 non-null     object\n",
      " 1   user_id         12 non-null     object\n",
      " 2   retweet_count   5 non-null      object\n",
      " 3   reply_count     3 non-null      object\n",
      " 4   favorite_count  2 non-null      object\n",
      " 5   num_hashtags    0 non-null      object\n",
      " 6   num_urls        2 non-null      object\n",
      " 7   num_mentions    0 non-null      object\n",
      " 8   created_at      12 non-null     object\n",
      " 9   text            0 non-null      object\n",
      "dtypes: object(10)\n",
      "memory usage: 1.0+ KB\n"
     ]
    }
   ],
   "source": [
    "df_nonnull_users = df_tweets_dupl[df_tweets_dupl['user_id'].isnull() == False]\n",
    "df_nonnull_users.info()"
   ]
  },
  {
   "cell_type": "code",
   "execution_count": 189,
   "metadata": {},
   "outputs": [
    {
     "name": "stderr",
     "output_type": "stream",
     "text": [
      "C:\\Users\\Alessandro\\AppData\\Local\\Temp\\ipykernel_9516\\3993844464.py:1: SettingWithCopyWarning: \n",
      "A value is trying to be set on a copy of a slice from a DataFrame.\n",
      "Try using .loc[row_indexer,col_indexer] = value instead\n",
      "\n",
      "See the caveats in the documentation: https://pandas.pydata.org/pandas-docs/stable/user_guide/indexing.html#returning-a-view-versus-a-copy\n",
      "  df_nonnull_users.user_id = pd.to_numeric(df_nonnull_users.user_id) # transform column to int values from object\n"
     ]
    },
    {
     "data": {
      "text/plain": "    id_x     user_id retweet_count reply_count favorite_count num_hashtags  \\\n0   vada   331806614           NaN         NaN            NaN          NaN   \n1    ptb   467116841             0         0.0            0.0          NaN   \n2    efh  1573156616             0         NaN            NaN          NaN   \n3    oby   114910555           NaN         NaN            NaN          NaN   \n4    yfj  2445641666           NaN         NaN            NaN          NaN   \n5    djq    70142270           NaN         NaN            NaN          NaN   \n6    gnn    24295753           NaN         NaN            NaN          NaN   \n7    fkn  1978992043           NaN         NaN            NaN          NaN   \n8    vam  1499931151          1222         NaN            0.0          NaN   \n9    tgg   576226470             0         0.0            NaN          NaN   \n10   kws   531236295         7bbif         0.0            NaN          NaN   \n11   gaj   251905557           NaN         NaN            NaN          NaN   \n\n   num_urls num_mentions         created_at_x text        id_y  \\\n0       NaN          NaN  2019-10-16 23:49:32  NaN   331806614   \n1       NaN          NaN  2019-06-17 09:34:56  NaN   467116841   \n2       NaN          NaN  2020-03-07 04:35:15  NaN  1573156616   \n3       NaN          NaN  2020-03-15 03:51:40  NaN   114910555   \n4       NaN          NaN  2019-04-29 23:52:04  NaN  2445641666   \n5       0.0          NaN  2020-04-23 12:43:47  NaN    70142270   \n6       NaN          NaN  2020-03-15 15:12:05  NaN    24295753   \n7       NaN          NaN  2020-03-21 23:10:07  NaN  1978992043   \n8       1.0          NaN  2020-03-15 14:54:04  NaN  1499931151   \n9       NaN          NaN  2018-11-28 13:28:02  NaN   576226470   \n10      NaN          NaN  2019-11-08 14:53:10  NaN   531236295   \n11      NaN          NaN  2020-04-25 17:51:35  NaN   251905557   \n\n                   name   lang  bot         created_at_y  statuses_count  \n0          Marty Balin      en    1  2016-07-09 19:01:19         12375.0  \n1        Gabriele Danno     it    1  2017-01-19 04:08:16            61.0  \n2             Tiny Tibo     fr    0  2018-07-08 16:27:04         27105.0  \n3          Señor Grande     en    0  2015-02-19 00:51:08         10212.0  \n4   Barstool Iowa State     en    0  2019-04-17 15:59:24          1515.0  \n5         Morgan Joseph     en    0  2014-09-01 15:31:01         12171.0  \n6          Nick (Rosie)     en    0  2014-03-16 00:53:21         18699.0  \n7                     -  en-gb    0  2018-10-23 14:43:13         33905.0  \n8                 Bojan     en    0  2018-06-13 01:16:32         26559.0  \n9               Dicerie     en    1  2017-05-12 11:13:08          2000.0  \n10      Candance Hawver     en    1  2017-03-22 11:42:55         10004.0  \n11               Adrián     en    0  2016-02-16 02:38:20         24375.0  ",
      "text/html": "<div>\n<style scoped>\n    .dataframe tbody tr th:only-of-type {\n        vertical-align: middle;\n    }\n\n    .dataframe tbody tr th {\n        vertical-align: top;\n    }\n\n    .dataframe thead th {\n        text-align: right;\n    }\n</style>\n<table border=\"1\" class=\"dataframe\">\n  <thead>\n    <tr style=\"text-align: right;\">\n      <th></th>\n      <th>id_x</th>\n      <th>user_id</th>\n      <th>retweet_count</th>\n      <th>reply_count</th>\n      <th>favorite_count</th>\n      <th>num_hashtags</th>\n      <th>num_urls</th>\n      <th>num_mentions</th>\n      <th>created_at_x</th>\n      <th>text</th>\n      <th>id_y</th>\n      <th>name</th>\n      <th>lang</th>\n      <th>bot</th>\n      <th>created_at_y</th>\n      <th>statuses_count</th>\n    </tr>\n  </thead>\n  <tbody>\n    <tr>\n      <th>0</th>\n      <td>vada</td>\n      <td>331806614</td>\n      <td>NaN</td>\n      <td>NaN</td>\n      <td>NaN</td>\n      <td>NaN</td>\n      <td>NaN</td>\n      <td>NaN</td>\n      <td>2019-10-16 23:49:32</td>\n      <td>NaN</td>\n      <td>331806614</td>\n      <td>Marty Balin</td>\n      <td>en</td>\n      <td>1</td>\n      <td>2016-07-09 19:01:19</td>\n      <td>12375.0</td>\n    </tr>\n    <tr>\n      <th>1</th>\n      <td>ptb</td>\n      <td>467116841</td>\n      <td>0</td>\n      <td>0.0</td>\n      <td>0.0</td>\n      <td>NaN</td>\n      <td>NaN</td>\n      <td>NaN</td>\n      <td>2019-06-17 09:34:56</td>\n      <td>NaN</td>\n      <td>467116841</td>\n      <td>Gabriele Danno</td>\n      <td>it</td>\n      <td>1</td>\n      <td>2017-01-19 04:08:16</td>\n      <td>61.0</td>\n    </tr>\n    <tr>\n      <th>2</th>\n      <td>efh</td>\n      <td>1573156616</td>\n      <td>0</td>\n      <td>NaN</td>\n      <td>NaN</td>\n      <td>NaN</td>\n      <td>NaN</td>\n      <td>NaN</td>\n      <td>2020-03-07 04:35:15</td>\n      <td>NaN</td>\n      <td>1573156616</td>\n      <td>Tiny Tibo</td>\n      <td>fr</td>\n      <td>0</td>\n      <td>2018-07-08 16:27:04</td>\n      <td>27105.0</td>\n    </tr>\n    <tr>\n      <th>3</th>\n      <td>oby</td>\n      <td>114910555</td>\n      <td>NaN</td>\n      <td>NaN</td>\n      <td>NaN</td>\n      <td>NaN</td>\n      <td>NaN</td>\n      <td>NaN</td>\n      <td>2020-03-15 03:51:40</td>\n      <td>NaN</td>\n      <td>114910555</td>\n      <td>Señor Grande</td>\n      <td>en</td>\n      <td>0</td>\n      <td>2015-02-19 00:51:08</td>\n      <td>10212.0</td>\n    </tr>\n    <tr>\n      <th>4</th>\n      <td>yfj</td>\n      <td>2445641666</td>\n      <td>NaN</td>\n      <td>NaN</td>\n      <td>NaN</td>\n      <td>NaN</td>\n      <td>NaN</td>\n      <td>NaN</td>\n      <td>2019-04-29 23:52:04</td>\n      <td>NaN</td>\n      <td>2445641666</td>\n      <td>Barstool Iowa State</td>\n      <td>en</td>\n      <td>0</td>\n      <td>2019-04-17 15:59:24</td>\n      <td>1515.0</td>\n    </tr>\n    <tr>\n      <th>5</th>\n      <td>djq</td>\n      <td>70142270</td>\n      <td>NaN</td>\n      <td>NaN</td>\n      <td>NaN</td>\n      <td>NaN</td>\n      <td>0.0</td>\n      <td>NaN</td>\n      <td>2020-04-23 12:43:47</td>\n      <td>NaN</td>\n      <td>70142270</td>\n      <td>Morgan Joseph</td>\n      <td>en</td>\n      <td>0</td>\n      <td>2014-09-01 15:31:01</td>\n      <td>12171.0</td>\n    </tr>\n    <tr>\n      <th>6</th>\n      <td>gnn</td>\n      <td>24295753</td>\n      <td>NaN</td>\n      <td>NaN</td>\n      <td>NaN</td>\n      <td>NaN</td>\n      <td>NaN</td>\n      <td>NaN</td>\n      <td>2020-03-15 15:12:05</td>\n      <td>NaN</td>\n      <td>24295753</td>\n      <td>Nick (Rosie)</td>\n      <td>en</td>\n      <td>0</td>\n      <td>2014-03-16 00:53:21</td>\n      <td>18699.0</td>\n    </tr>\n    <tr>\n      <th>7</th>\n      <td>fkn</td>\n      <td>1978992043</td>\n      <td>NaN</td>\n      <td>NaN</td>\n      <td>NaN</td>\n      <td>NaN</td>\n      <td>NaN</td>\n      <td>NaN</td>\n      <td>2020-03-21 23:10:07</td>\n      <td>NaN</td>\n      <td>1978992043</td>\n      <td>-</td>\n      <td>en-gb</td>\n      <td>0</td>\n      <td>2018-10-23 14:43:13</td>\n      <td>33905.0</td>\n    </tr>\n    <tr>\n      <th>8</th>\n      <td>vam</td>\n      <td>1499931151</td>\n      <td>1222</td>\n      <td>NaN</td>\n      <td>0.0</td>\n      <td>NaN</td>\n      <td>1.0</td>\n      <td>NaN</td>\n      <td>2020-03-15 14:54:04</td>\n      <td>NaN</td>\n      <td>1499931151</td>\n      <td>Bojan</td>\n      <td>en</td>\n      <td>0</td>\n      <td>2018-06-13 01:16:32</td>\n      <td>26559.0</td>\n    </tr>\n    <tr>\n      <th>9</th>\n      <td>tgg</td>\n      <td>576226470</td>\n      <td>0</td>\n      <td>0.0</td>\n      <td>NaN</td>\n      <td>NaN</td>\n      <td>NaN</td>\n      <td>NaN</td>\n      <td>2018-11-28 13:28:02</td>\n      <td>NaN</td>\n      <td>576226470</td>\n      <td>Dicerie</td>\n      <td>en</td>\n      <td>1</td>\n      <td>2017-05-12 11:13:08</td>\n      <td>2000.0</td>\n    </tr>\n    <tr>\n      <th>10</th>\n      <td>kws</td>\n      <td>531236295</td>\n      <td>7bbif</td>\n      <td>0.0</td>\n      <td>NaN</td>\n      <td>NaN</td>\n      <td>NaN</td>\n      <td>NaN</td>\n      <td>2019-11-08 14:53:10</td>\n      <td>NaN</td>\n      <td>531236295</td>\n      <td>Candance Hawver</td>\n      <td>en</td>\n      <td>1</td>\n      <td>2017-03-22 11:42:55</td>\n      <td>10004.0</td>\n    </tr>\n    <tr>\n      <th>11</th>\n      <td>gaj</td>\n      <td>251905557</td>\n      <td>NaN</td>\n      <td>NaN</td>\n      <td>NaN</td>\n      <td>NaN</td>\n      <td>NaN</td>\n      <td>NaN</td>\n      <td>2020-04-25 17:51:35</td>\n      <td>NaN</td>\n      <td>251905557</td>\n      <td>Adrián</td>\n      <td>en</td>\n      <td>0</td>\n      <td>2016-02-16 02:38:20</td>\n      <td>24375.0</td>\n    </tr>\n  </tbody>\n</table>\n</div>"
     },
     "execution_count": 189,
     "metadata": {},
     "output_type": "execute_result"
    }
   ],
   "source": [
    "df_nonnull_users.user_id = pd.to_numeric(df_nonnull_users.user_id) # transform column to int values from object\n",
    "df_nonnull_users.merge(df_users, left_on='user_id', right_on='id') # merge with users table"
   ]
  },
  {
   "cell_type": "code",
   "execution_count": 190,
   "metadata": {},
   "outputs": [
    {
     "name": "stdout",
     "output_type": "stream",
     "text": [
      "retweet_count\n",
      "7\n",
      "\n",
      "           id     user_id retweet_count reply_count favorite_count  \\\n",
      "6978627   oby   114910555           NaN         NaN            NaN   \n",
      "7509770   yfj  2445641666           NaN         NaN            NaN   \n",
      "9354011   djq    70142270           NaN         NaN            NaN   \n",
      "10231019  gnn    24295753           NaN         NaN            NaN   \n",
      "11050094  fkn  1978992043           NaN         NaN            NaN   \n",
      "12987829  tgg   576226470             0         0.0            NaN   \n",
      "13484983  gaj   251905557           NaN         NaN            NaN   \n",
      "\n",
      "         num_hashtags num_urls num_mentions           created_at text  \n",
      "6978627           NaN      NaN          NaN  2020-03-15 03:51:40  NaN  \n",
      "7509770           NaN      NaN          NaN  2019-04-29 23:52:04  NaN  \n",
      "9354011           NaN      0.0          NaN  2020-04-23 12:43:47  NaN  \n",
      "10231019          NaN      NaN          NaN  2020-03-15 15:12:05  NaN  \n",
      "11050094          NaN      NaN          NaN  2020-03-21 23:10:07  NaN  \n",
      "12987829          NaN      NaN          NaN  2018-11-28 13:28:02  NaN  \n",
      "13484983          NaN      NaN          NaN  2020-04-25 17:51:35  NaN  \n",
      "reply_count\n",
      "12\n",
      "\n",
      "            id     user_id retweet_count reply_count favorite_count  \\\n",
      "4515945   vada   331806614           NaN         NaN            NaN   \n",
      "5888215    ptb   467116841             0         0.0            0.0   \n",
      "6445718    efh  1573156616             0         NaN            NaN   \n",
      "6978627    oby   114910555           NaN         NaN            NaN   \n",
      "7509770    yfj  2445641666           NaN         NaN            NaN   \n",
      "9354011    djq    70142270           NaN         NaN            NaN   \n",
      "10231019   gnn    24295753           NaN         NaN            NaN   \n",
      "11050094   fkn  1978992043           NaN         NaN            NaN   \n",
      "11332577   vam  1499931151          1222         NaN            0.0   \n",
      "12987829   tgg   576226470             0         0.0            NaN   \n",
      "13138848   kws   531236295         7bbif         0.0            NaN   \n",
      "13484983   gaj   251905557           NaN         NaN            NaN   \n",
      "\n",
      "         num_hashtags num_urls num_mentions           created_at text  \n",
      "4515945           NaN      NaN          NaN  2019-10-16 23:49:32  NaN  \n",
      "5888215           NaN      NaN          NaN  2019-06-17 09:34:56  NaN  \n",
      "6445718           NaN      NaN          NaN  2020-03-07 04:35:15  NaN  \n",
      "6978627           NaN      NaN          NaN  2020-03-15 03:51:40  NaN  \n",
      "7509770           NaN      NaN          NaN  2019-04-29 23:52:04  NaN  \n",
      "9354011           NaN      0.0          NaN  2020-04-23 12:43:47  NaN  \n",
      "10231019          NaN      NaN          NaN  2020-03-15 15:12:05  NaN  \n",
      "11050094          NaN      NaN          NaN  2020-03-21 23:10:07  NaN  \n",
      "11332577          NaN      1.0          NaN  2020-03-15 14:54:04  NaN  \n",
      "12987829          NaN      NaN          NaN  2018-11-28 13:28:02  NaN  \n",
      "13138848          NaN      NaN          NaN  2019-11-08 14:53:10  NaN  \n",
      "13484983          NaN      NaN          NaN  2020-04-25 17:51:35  NaN  \n",
      "favorite_count\n",
      "12\n",
      "\n",
      "            id     user_id retweet_count reply_count favorite_count  \\\n",
      "4515945   vada   331806614           NaN         NaN            NaN   \n",
      "5888215    ptb   467116841             0         0.0            0.0   \n",
      "6445718    efh  1573156616             0         NaN            NaN   \n",
      "6978627    oby   114910555           NaN         NaN            NaN   \n",
      "7509770    yfj  2445641666           NaN         NaN            NaN   \n",
      "9354011    djq    70142270           NaN         NaN            NaN   \n",
      "10231019   gnn    24295753           NaN         NaN            NaN   \n",
      "11050094   fkn  1978992043           NaN         NaN            NaN   \n",
      "11332577   vam  1499931151          1222         NaN            0.0   \n",
      "12987829   tgg   576226470             0         0.0            NaN   \n",
      "13138848   kws   531236295         7bbif         0.0            NaN   \n",
      "13484983   gaj   251905557           NaN         NaN            NaN   \n",
      "\n",
      "         num_hashtags num_urls num_mentions           created_at text  \n",
      "4515945           NaN      NaN          NaN  2019-10-16 23:49:32  NaN  \n",
      "5888215           NaN      NaN          NaN  2019-06-17 09:34:56  NaN  \n",
      "6445718           NaN      NaN          NaN  2020-03-07 04:35:15  NaN  \n",
      "6978627           NaN      NaN          NaN  2020-03-15 03:51:40  NaN  \n",
      "7509770           NaN      NaN          NaN  2019-04-29 23:52:04  NaN  \n",
      "9354011           NaN      0.0          NaN  2020-04-23 12:43:47  NaN  \n",
      "10231019          NaN      NaN          NaN  2020-03-15 15:12:05  NaN  \n",
      "11050094          NaN      NaN          NaN  2020-03-21 23:10:07  NaN  \n",
      "11332577          NaN      1.0          NaN  2020-03-15 14:54:04  NaN  \n",
      "12987829          NaN      NaN          NaN  2018-11-28 13:28:02  NaN  \n",
      "13138848          NaN      NaN          NaN  2019-11-08 14:53:10  NaN  \n",
      "13484983          NaN      NaN          NaN  2020-04-25 17:51:35  NaN  \n",
      "num_hashtags\n",
      "12\n",
      "\n",
      "            id     user_id retweet_count reply_count favorite_count  \\\n",
      "4515945   vada   331806614           NaN         NaN            NaN   \n",
      "5888215    ptb   467116841             0         0.0            0.0   \n",
      "6445718    efh  1573156616             0         NaN            NaN   \n",
      "6978627    oby   114910555           NaN         NaN            NaN   \n",
      "7509770    yfj  2445641666           NaN         NaN            NaN   \n",
      "9354011    djq    70142270           NaN         NaN            NaN   \n",
      "10231019   gnn    24295753           NaN         NaN            NaN   \n",
      "11050094   fkn  1978992043           NaN         NaN            NaN   \n",
      "11332577   vam  1499931151          1222         NaN            0.0   \n",
      "12987829   tgg   576226470             0         0.0            NaN   \n",
      "13138848   kws   531236295         7bbif         0.0            NaN   \n",
      "13484983   gaj   251905557           NaN         NaN            NaN   \n",
      "\n",
      "         num_hashtags num_urls num_mentions           created_at text  \n",
      "4515945           NaN      NaN          NaN  2019-10-16 23:49:32  NaN  \n",
      "5888215           NaN      NaN          NaN  2019-06-17 09:34:56  NaN  \n",
      "6445718           NaN      NaN          NaN  2020-03-07 04:35:15  NaN  \n",
      "6978627           NaN      NaN          NaN  2020-03-15 03:51:40  NaN  \n",
      "7509770           NaN      NaN          NaN  2019-04-29 23:52:04  NaN  \n",
      "9354011           NaN      0.0          NaN  2020-04-23 12:43:47  NaN  \n",
      "10231019          NaN      NaN          NaN  2020-03-15 15:12:05  NaN  \n",
      "11050094          NaN      NaN          NaN  2020-03-21 23:10:07  NaN  \n",
      "11332577          NaN      1.0          NaN  2020-03-15 14:54:04  NaN  \n",
      "12987829          NaN      NaN          NaN  2018-11-28 13:28:02  NaN  \n",
      "13138848          NaN      NaN          NaN  2019-11-08 14:53:10  NaN  \n",
      "13484983          NaN      NaN          NaN  2020-04-25 17:51:35  NaN  \n",
      "num_urls\n",
      "11\n",
      "\n",
      "            id     user_id retweet_count reply_count favorite_count  \\\n",
      "4515945   vada   331806614           NaN         NaN            NaN   \n",
      "5888215    ptb   467116841             0         0.0            0.0   \n",
      "6445718    efh  1573156616             0         NaN            NaN   \n",
      "6978627    oby   114910555           NaN         NaN            NaN   \n",
      "7509770    yfj  2445641666           NaN         NaN            NaN   \n",
      "9354011    djq    70142270           NaN         NaN            NaN   \n",
      "10231019   gnn    24295753           NaN         NaN            NaN   \n",
      "11050094   fkn  1978992043           NaN         NaN            NaN   \n",
      "12987829   tgg   576226470             0         0.0            NaN   \n",
      "13138848   kws   531236295         7bbif         0.0            NaN   \n",
      "13484983   gaj   251905557           NaN         NaN            NaN   \n",
      "\n",
      "         num_hashtags num_urls num_mentions           created_at text  \n",
      "4515945           NaN      NaN          NaN  2019-10-16 23:49:32  NaN  \n",
      "5888215           NaN      NaN          NaN  2019-06-17 09:34:56  NaN  \n",
      "6445718           NaN      NaN          NaN  2020-03-07 04:35:15  NaN  \n",
      "6978627           NaN      NaN          NaN  2020-03-15 03:51:40  NaN  \n",
      "7509770           NaN      NaN          NaN  2019-04-29 23:52:04  NaN  \n",
      "9354011           NaN      0.0          NaN  2020-04-23 12:43:47  NaN  \n",
      "10231019          NaN      NaN          NaN  2020-03-15 15:12:05  NaN  \n",
      "11050094          NaN      NaN          NaN  2020-03-21 23:10:07  NaN  \n",
      "12987829          NaN      NaN          NaN  2018-11-28 13:28:02  NaN  \n",
      "13138848          NaN      NaN          NaN  2019-11-08 14:53:10  NaN  \n",
      "13484983          NaN      NaN          NaN  2020-04-25 17:51:35  NaN  \n",
      "num_mentions\n",
      "12\n",
      "\n",
      "            id     user_id retweet_count reply_count favorite_count  \\\n",
      "4515945   vada   331806614           NaN         NaN            NaN   \n",
      "5888215    ptb   467116841             0         0.0            0.0   \n",
      "6445718    efh  1573156616             0         NaN            NaN   \n",
      "6978627    oby   114910555           NaN         NaN            NaN   \n",
      "7509770    yfj  2445641666           NaN         NaN            NaN   \n",
      "9354011    djq    70142270           NaN         NaN            NaN   \n",
      "10231019   gnn    24295753           NaN         NaN            NaN   \n",
      "11050094   fkn  1978992043           NaN         NaN            NaN   \n",
      "11332577   vam  1499931151          1222         NaN            0.0   \n",
      "12987829   tgg   576226470             0         0.0            NaN   \n",
      "13138848   kws   531236295         7bbif         0.0            NaN   \n",
      "13484983   gaj   251905557           NaN         NaN            NaN   \n",
      "\n",
      "         num_hashtags num_urls num_mentions           created_at text  \n",
      "4515945           NaN      NaN          NaN  2019-10-16 23:49:32  NaN  \n",
      "5888215           NaN      NaN          NaN  2019-06-17 09:34:56  NaN  \n",
      "6445718           NaN      NaN          NaN  2020-03-07 04:35:15  NaN  \n",
      "6978627           NaN      NaN          NaN  2020-03-15 03:51:40  NaN  \n",
      "7509770           NaN      NaN          NaN  2019-04-29 23:52:04  NaN  \n",
      "9354011           NaN      0.0          NaN  2020-04-23 12:43:47  NaN  \n",
      "10231019          NaN      NaN          NaN  2020-03-15 15:12:05  NaN  \n",
      "11050094          NaN      NaN          NaN  2020-03-21 23:10:07  NaN  \n",
      "11332577          NaN      1.0          NaN  2020-03-15 14:54:04  NaN  \n",
      "12987829          NaN      NaN          NaN  2018-11-28 13:28:02  NaN  \n",
      "13138848          NaN      NaN          NaN  2019-11-08 14:53:10  NaN  \n",
      "13484983          NaN      NaN          NaN  2020-04-25 17:51:35  NaN  \n"
     ]
    }
   ],
   "source": [
    "for attr in ['retweet_count','reply_count','favorite_count','num_hashtags','num_urls','num_mentions']:\n",
    "    cazzo = df_tweets_single[df_tweets_single.duplicated(subset=['id', 'user_id', 'text', attr])]\n",
    "    print(attr+'\\n'+str(cazzo.shape[0])+'\\n')\n",
    "    print(cazzo)"
   ]
  },
  {
   "cell_type": "markdown",
   "metadata": {},
   "source": [
    "As this print shows, most of duplicates have missing values. If we exclude `retweet_counts`, the duplicates are the same."
   ]
  },
  {
   "cell_type": "code",
   "execution_count": 191,
   "metadata": {},
   "outputs": [
    {
     "data": {
      "text/plain": "            id     user_id retweet_count reply_count favorite_count  \\\n9354011    djq    70142270           NaN         NaN            NaN   \n7858198    djq    70142270           NaN         NaN            NaN   \n5123152    efh  1573156616          x0c7         NaN            NaN   \n6445718    efh  1573156616             0         NaN            NaN   \n8424121    fkn  1978992043           NaN         NaN            NaN   \n11050094   fkn  1978992043           NaN         NaN            NaN   \n13484983   gaj   251905557           NaN         NaN            NaN   \n13074603   gaj   251905557           NaN         NaN            NaN   \n10231019   gnn    24295753           NaN         NaN            NaN   \n8474665    gnn    24295753           NaN         NaN            NaN   \n11981948   kws   531236295             0         0.0            NaN   \n13138848   kws   531236295         7bbif         0.0            NaN   \n4220539    oby   114910555           NaN         NaN            NaN   \n6978627    oby   114910555           NaN         NaN            NaN   \n5888215    ptb   467116841             0         0.0            0.0   \n2513232    ptb   467116841           NaN         0.0            0.0   \n7478529    tgg   576226470             0         0.0            NaN   \n12987829   tgg   576226470             0         0.0            NaN   \n1181024   vada   331806614             0         NaN            NaN   \n4515945   vada   331806614           NaN         NaN            NaN   \n3000919    yfj  2445641666           NaN         NaN            NaN   \n7509770    yfj  2445641666           NaN         NaN            NaN   \n\n         num_hashtags num_urls num_mentions           created_at text  \n9354011           NaN      0.0          NaN  2020-04-23 12:43:47  NaN  \n7858198           NaN      0.0          NaN  2019-06-27 13:38:06  NaN  \n5123152           NaN      NaN          NaN  2020-03-12 02:12:50  NaN  \n6445718           NaN      NaN          NaN  2020-03-07 04:35:15  NaN  \n8424121           NaN      NaN          NaN  2020-04-03 16:24:47  NaN  \n11050094          NaN      NaN          NaN  2020-03-21 23:10:07  NaN  \n13484983          NaN      NaN          NaN  2020-04-25 17:51:35  NaN  \n13074603          NaN      NaN          NaN  2020-04-04 23:35:19  NaN  \n10231019          NaN      NaN          NaN  2020-03-15 15:12:05  NaN  \n8474665           NaN      NaN          NaN  2020-03-14 00:09:55  NaN  \n11981948          NaN      NaN          NaN  2019-10-25 00:52:55  NaN  \n13138848          NaN      NaN          NaN  2019-11-08 14:53:10  NaN  \n4220539           NaN      NaN          NaN  2020-04-06 21:33:27  NaN  \n6978627           NaN      NaN          NaN  2020-03-15 03:51:40  NaN  \n5888215           NaN      NaN          NaN  2019-06-17 09:34:56  NaN  \n2513232           NaN      NaN          NaN  2019-10-15 21:01:24  NaN  \n7478529           NaN      NaN          NaN  2018-12-14 08:19:54  NaN  \n12987829          NaN      NaN          NaN  2018-11-28 13:28:02  NaN  \n1181024           NaN      NaN          NaN  2019-10-18 12:45:40  NaN  \n4515945           NaN      NaN          NaN  2019-10-16 23:49:32  NaN  \n3000919           NaN      NaN          NaN  2019-06-25 14:00:15  NaN  \n7509770           NaN      NaN          NaN  2019-04-29 23:52:04  NaN  ",
      "text/html": "<div>\n<style scoped>\n    .dataframe tbody tr th:only-of-type {\n        vertical-align: middle;\n    }\n\n    .dataframe tbody tr th {\n        vertical-align: top;\n    }\n\n    .dataframe thead th {\n        text-align: right;\n    }\n</style>\n<table border=\"1\" class=\"dataframe\">\n  <thead>\n    <tr style=\"text-align: right;\">\n      <th></th>\n      <th>id</th>\n      <th>user_id</th>\n      <th>retweet_count</th>\n      <th>reply_count</th>\n      <th>favorite_count</th>\n      <th>num_hashtags</th>\n      <th>num_urls</th>\n      <th>num_mentions</th>\n      <th>created_at</th>\n      <th>text</th>\n    </tr>\n  </thead>\n  <tbody>\n    <tr>\n      <th>9354011</th>\n      <td>djq</td>\n      <td>70142270</td>\n      <td>NaN</td>\n      <td>NaN</td>\n      <td>NaN</td>\n      <td>NaN</td>\n      <td>0.0</td>\n      <td>NaN</td>\n      <td>2020-04-23 12:43:47</td>\n      <td>NaN</td>\n    </tr>\n    <tr>\n      <th>7858198</th>\n      <td>djq</td>\n      <td>70142270</td>\n      <td>NaN</td>\n      <td>NaN</td>\n      <td>NaN</td>\n      <td>NaN</td>\n      <td>0.0</td>\n      <td>NaN</td>\n      <td>2019-06-27 13:38:06</td>\n      <td>NaN</td>\n    </tr>\n    <tr>\n      <th>5123152</th>\n      <td>efh</td>\n      <td>1573156616</td>\n      <td>x0c7</td>\n      <td>NaN</td>\n      <td>NaN</td>\n      <td>NaN</td>\n      <td>NaN</td>\n      <td>NaN</td>\n      <td>2020-03-12 02:12:50</td>\n      <td>NaN</td>\n    </tr>\n    <tr>\n      <th>6445718</th>\n      <td>efh</td>\n      <td>1573156616</td>\n      <td>0</td>\n      <td>NaN</td>\n      <td>NaN</td>\n      <td>NaN</td>\n      <td>NaN</td>\n      <td>NaN</td>\n      <td>2020-03-07 04:35:15</td>\n      <td>NaN</td>\n    </tr>\n    <tr>\n      <th>8424121</th>\n      <td>fkn</td>\n      <td>1978992043</td>\n      <td>NaN</td>\n      <td>NaN</td>\n      <td>NaN</td>\n      <td>NaN</td>\n      <td>NaN</td>\n      <td>NaN</td>\n      <td>2020-04-03 16:24:47</td>\n      <td>NaN</td>\n    </tr>\n    <tr>\n      <th>11050094</th>\n      <td>fkn</td>\n      <td>1978992043</td>\n      <td>NaN</td>\n      <td>NaN</td>\n      <td>NaN</td>\n      <td>NaN</td>\n      <td>NaN</td>\n      <td>NaN</td>\n      <td>2020-03-21 23:10:07</td>\n      <td>NaN</td>\n    </tr>\n    <tr>\n      <th>13484983</th>\n      <td>gaj</td>\n      <td>251905557</td>\n      <td>NaN</td>\n      <td>NaN</td>\n      <td>NaN</td>\n      <td>NaN</td>\n      <td>NaN</td>\n      <td>NaN</td>\n      <td>2020-04-25 17:51:35</td>\n      <td>NaN</td>\n    </tr>\n    <tr>\n      <th>13074603</th>\n      <td>gaj</td>\n      <td>251905557</td>\n      <td>NaN</td>\n      <td>NaN</td>\n      <td>NaN</td>\n      <td>NaN</td>\n      <td>NaN</td>\n      <td>NaN</td>\n      <td>2020-04-04 23:35:19</td>\n      <td>NaN</td>\n    </tr>\n    <tr>\n      <th>10231019</th>\n      <td>gnn</td>\n      <td>24295753</td>\n      <td>NaN</td>\n      <td>NaN</td>\n      <td>NaN</td>\n      <td>NaN</td>\n      <td>NaN</td>\n      <td>NaN</td>\n      <td>2020-03-15 15:12:05</td>\n      <td>NaN</td>\n    </tr>\n    <tr>\n      <th>8474665</th>\n      <td>gnn</td>\n      <td>24295753</td>\n      <td>NaN</td>\n      <td>NaN</td>\n      <td>NaN</td>\n      <td>NaN</td>\n      <td>NaN</td>\n      <td>NaN</td>\n      <td>2020-03-14 00:09:55</td>\n      <td>NaN</td>\n    </tr>\n    <tr>\n      <th>11981948</th>\n      <td>kws</td>\n      <td>531236295</td>\n      <td>0</td>\n      <td>0.0</td>\n      <td>NaN</td>\n      <td>NaN</td>\n      <td>NaN</td>\n      <td>NaN</td>\n      <td>2019-10-25 00:52:55</td>\n      <td>NaN</td>\n    </tr>\n    <tr>\n      <th>13138848</th>\n      <td>kws</td>\n      <td>531236295</td>\n      <td>7bbif</td>\n      <td>0.0</td>\n      <td>NaN</td>\n      <td>NaN</td>\n      <td>NaN</td>\n      <td>NaN</td>\n      <td>2019-11-08 14:53:10</td>\n      <td>NaN</td>\n    </tr>\n    <tr>\n      <th>4220539</th>\n      <td>oby</td>\n      <td>114910555</td>\n      <td>NaN</td>\n      <td>NaN</td>\n      <td>NaN</td>\n      <td>NaN</td>\n      <td>NaN</td>\n      <td>NaN</td>\n      <td>2020-04-06 21:33:27</td>\n      <td>NaN</td>\n    </tr>\n    <tr>\n      <th>6978627</th>\n      <td>oby</td>\n      <td>114910555</td>\n      <td>NaN</td>\n      <td>NaN</td>\n      <td>NaN</td>\n      <td>NaN</td>\n      <td>NaN</td>\n      <td>NaN</td>\n      <td>2020-03-15 03:51:40</td>\n      <td>NaN</td>\n    </tr>\n    <tr>\n      <th>5888215</th>\n      <td>ptb</td>\n      <td>467116841</td>\n      <td>0</td>\n      <td>0.0</td>\n      <td>0.0</td>\n      <td>NaN</td>\n      <td>NaN</td>\n      <td>NaN</td>\n      <td>2019-06-17 09:34:56</td>\n      <td>NaN</td>\n    </tr>\n    <tr>\n      <th>2513232</th>\n      <td>ptb</td>\n      <td>467116841</td>\n      <td>NaN</td>\n      <td>0.0</td>\n      <td>0.0</td>\n      <td>NaN</td>\n      <td>NaN</td>\n      <td>NaN</td>\n      <td>2019-10-15 21:01:24</td>\n      <td>NaN</td>\n    </tr>\n    <tr>\n      <th>7478529</th>\n      <td>tgg</td>\n      <td>576226470</td>\n      <td>0</td>\n      <td>0.0</td>\n      <td>NaN</td>\n      <td>NaN</td>\n      <td>NaN</td>\n      <td>NaN</td>\n      <td>2018-12-14 08:19:54</td>\n      <td>NaN</td>\n    </tr>\n    <tr>\n      <th>12987829</th>\n      <td>tgg</td>\n      <td>576226470</td>\n      <td>0</td>\n      <td>0.0</td>\n      <td>NaN</td>\n      <td>NaN</td>\n      <td>NaN</td>\n      <td>NaN</td>\n      <td>2018-11-28 13:28:02</td>\n      <td>NaN</td>\n    </tr>\n    <tr>\n      <th>1181024</th>\n      <td>vada</td>\n      <td>331806614</td>\n      <td>0</td>\n      <td>NaN</td>\n      <td>NaN</td>\n      <td>NaN</td>\n      <td>NaN</td>\n      <td>NaN</td>\n      <td>2019-10-18 12:45:40</td>\n      <td>NaN</td>\n    </tr>\n    <tr>\n      <th>4515945</th>\n      <td>vada</td>\n      <td>331806614</td>\n      <td>NaN</td>\n      <td>NaN</td>\n      <td>NaN</td>\n      <td>NaN</td>\n      <td>NaN</td>\n      <td>NaN</td>\n      <td>2019-10-16 23:49:32</td>\n      <td>NaN</td>\n    </tr>\n    <tr>\n      <th>3000919</th>\n      <td>yfj</td>\n      <td>2445641666</td>\n      <td>NaN</td>\n      <td>NaN</td>\n      <td>NaN</td>\n      <td>NaN</td>\n      <td>NaN</td>\n      <td>NaN</td>\n      <td>2019-06-25 14:00:15</td>\n      <td>NaN</td>\n    </tr>\n    <tr>\n      <th>7509770</th>\n      <td>yfj</td>\n      <td>2445641666</td>\n      <td>NaN</td>\n      <td>NaN</td>\n      <td>NaN</td>\n      <td>NaN</td>\n      <td>NaN</td>\n      <td>NaN</td>\n      <td>2019-04-29 23:52:04</td>\n      <td>NaN</td>\n    </tr>\n  </tbody>\n</table>\n</div>"
     },
     "execution_count": 191,
     "metadata": {},
     "output_type": "execute_result"
    }
   ],
   "source": [
    "df_tweets_single[df_tweets_single.duplicated(subset=['id', 'user_id', 'text', 'reply_count','favorite_count','num_hashtags','num_urls','num_mentions'], keep=False)].sort_values(by='id')"
   ]
  },
  {
   "cell_type": "code",
   "execution_count": 192,
   "outputs": [],
   "source": [
    "df_tweets_single.to_csv(sep = '#', path_or_buf = 'data/tweets_no_dupl.csv', index = False)"
   ],
   "metadata": {
    "collapsed": false
   }
  },
  {
   "cell_type": "markdown",
   "metadata": {},
   "source": [
    "# FINE\n",
    "From now on we assume that the records in the dataset are not duplcated."
   ]
  },
  {
   "cell_type": "markdown",
   "metadata": {},
   "source": [
    "## Users file analysis"
   ]
  },
  {
   "cell_type": "code",
   "execution_count": 193,
   "metadata": {},
   "outputs": [
    {
     "name": "stdout",
     "output_type": "stream",
     "text": [
      "<class 'pandas.core.frame.DataFrame'>\n",
      "RangeIndex: 11508 entries, 0 to 11507\n",
      "Data columns (total 6 columns):\n",
      " #   Column          Non-Null Count  Dtype  \n",
      "---  ------          --------------  -----  \n",
      " 0   id              11508 non-null  int64  \n",
      " 1   name            11507 non-null  object \n",
      " 2   lang            11508 non-null  object \n",
      " 3   bot             11508 non-null  int64  \n",
      " 4   created_at      11508 non-null  object \n",
      " 5   statuses_count  11109 non-null  float64\n",
      "dtypes: float64(1), int64(2), object(3)\n",
      "memory usage: 539.6+ KB\n"
     ]
    }
   ],
   "source": [
    "df_users.info()"
   ]
  },
  {
   "cell_type": "markdown",
   "metadata": {},
   "source": [
    "# Statuses count\n",
    "Since we have a lot of nulls in the `statuses_count` column, we need to estimate the missing values. The estimate could be computed as the average difference between `statuses_count` and the tweets that we have in the tweets dataset for that user plus the count of the tweets that we have."
   ]
  },
  {
   "cell_type": "code",
   "execution_count": 194,
   "metadata": {},
   "outputs": [
    {
     "data": {
      "text/plain": "['616225564',\n '1370348599',\n '617369459',\n '2362195375',\n '2351047069',\n '1374225350',\n '616231067',\n '2377056618',\n '2368349419',\n '2352067280',\n '2213012017',\n '1174851499',\n '2353004929',\n '395436399',\n '2360059244',\n '64110707',\n '1174643767',\n '2353315740',\n '2351804233',\n '2385738188',\n '2370931374',\n '1127305652',\n '2354525906',\n '1174850017',\n '616300029',\n '2377046539',\n '222293510',\n '2381626472',\n '2378062974',\n '2362497235',\n '1176382580',\n '2359618297',\n '1174682425',\n '164508239',\n '2349695514',\n '2355212616',\n '617758666',\n '2360304794',\n '1174790898',\n '2366681186',\n '1205078954',\n '2358383732',\n '1130207582',\n '2363173189',\n '759191942',\n '2359444374',\n '162039067',\n '1174600752',\n '2386654226',\n '60346119',\n '2352835644',\n '2356322551',\n '2358710996',\n '2384487582',\n '39328305',\n '55398486',\n '548300100',\n '2357578801',\n '2357266153',\n '2356788036',\n '108581391',\n '2382953520',\n '2384101910',\n '38520305',\n '104657589',\n '2354194003',\n '2364429956',\n '2360391619',\n '617733045',\n '2384166104',\n '620896239',\n '2361683048',\n '2358527095',\n '2355118178',\n '2374069344',\n '1176217807',\n '617047718',\n '1128518971',\n '1175841943',\n '616232251',\n '234587511',\n '2376868266',\n '616206452',\n '616298907',\n '1175717354',\n '2351849318',\n '2381263592',\n '2351073744',\n '1176157068',\n '1175729749',\n '620776121',\n '2378671002',\n '2352399168',\n '1176120306',\n '2368522796',\n '2361319741',\n '2350340557',\n '616229738',\n '619683215',\n '2367835429',\n '951793016',\n '1124295318',\n '2370720974',\n '2376920149',\n '2350928496',\n '2362501692',\n '2368330536',\n '2384566154',\n '616634356',\n '618211732',\n '617821602',\n '618460019',\n '617916495',\n '1129884836',\n '1129874462',\n '511263887',\n '2386642392',\n '2352893922',\n '616225156',\n '1175656208',\n '2364558116',\n '2357144700',\n '1176040076',\n '2361609852',\n '1176221054',\n '2366746068',\n '618891870',\n '616223591',\n '2366598108',\n '616212358',\n '2377625022',\n '618167879',\n '2370401390',\n '2352528294',\n '2382480786',\n '2383991143',\n '259396381',\n '1127260807',\n '105510200',\n '2378379048',\n '2366433282',\n '2384555508',\n '40010436',\n '2374328761',\n '1176335570',\n '616222988',\n '267092571',\n '2362021382',\n '2355930697',\n '1174331750',\n '616621744',\n '2366368231',\n '2358823448',\n '101892747',\n '128620164',\n '80479674',\n '2368419175',\n '2362522104',\n '1127177594',\n '2364059066',\n '1175732936',\n '618949013',\n '616650103',\n '132494511',\n '2363549845',\n '207293756',\n '1124770110',\n '111198123',\n '170486247',\n '1480973431',\n '2377024164',\n '616224764',\n '2353503006',\n '2384499901',\n '2354030168',\n '616223419',\n '2383246700',\n '451920644',\n '2357179152',\n '1391378610',\n '1174357974',\n '2377315075',\n '302513351',\n '1126057680',\n '2384214144',\n '716723184',\n '2360982962',\n '2384245609',\n '2380735502',\n '2357114827',\n '616299501',\n '146913214',\n '1174847785',\n '616944056',\n '2354977040',\n '616450851',\n '617695825',\n '2353624196',\n '1176352386',\n '355303911',\n '1127547493',\n '1174352306',\n '1176301609',\n '2358463868',\n '2352977994',\n '2354349955',\n '2352085909',\n '2355068754',\n '2384066707',\n '2351939515',\n '2380891766',\n '2384122268',\n '1175021809',\n '2351889578',\n '1208952572',\n '2360251669',\n '2357126318',\n '617301783',\n '2351105022',\n '1176315806',\n '2384763679',\n '2352676352',\n '2349375307',\n '2360581861',\n '2361892304',\n '2354208668',\n '2349775940',\n '2352383406',\n '2357108466',\n '617390783',\n '303932719',\n '106595346',\n '2354352530',\n '1176127140',\n '2265992857',\n '1174912687',\n '128278995',\n '619792617',\n '1175044778',\n '537276941',\n '2363564364',\n '2358201060',\n '2364200005',\n '2386566566',\n '2364225000',\n '422395359',\n '153921560',\n '2364549032',\n '2375070012',\n '616205957',\n '2349468188',\n '2373183630',\n '217298740',\n '1175651917',\n '2371128103',\n '2354387858',\n '1174530324',\n '616298811',\n '2350152440',\n '2349557204',\n '357756459',\n '223980471',\n '1176037639',\n '2384562968',\n '2370905606',\n '1128398388',\n '616256389',\n '2357963438',\n '2383095756',\n '617240486',\n '2352603318',\n '1175963882',\n '2369025158',\n '1176135906',\n '2352307056',\n '2212792506',\n '2349932018',\n '2360384654',\n '2379457004',\n '2358208177',\n '189015964',\n '2357161430',\n '2382957589',\n '2384187024',\n '2362227691',\n '2375359969',\n '617578990',\n '619080462',\n '2384657844',\n '1174403612',\n '334938683',\n '616699097',\n '2356701367',\n '617490522',\n '2213122314',\n '72348749',\n '1174911457',\n '616310832',\n '198572784',\n '2380833098',\n '2350404290',\n '2352786636',\n '616308894',\n '2366353531',\n '1368715160',\n '2360613104',\n '2357575628',\n '105696650',\n '620259574',\n '2350047786',\n '1174998572',\n '2352120408',\n '2361742700',\n '1213479486',\n '2378847420',\n '2367870068',\n '2364191815',\n '1127165706',\n '2386437422',\n '2372977182',\n '618529778',\n '616225411',\n '2352019645',\n '2360565204',\n '1124453858',\n '2370137318',\n '616219883',\n '1174581626',\n '2361298316',\n '2380729915',\n '616977419',\n '616598289',\n '487827567',\n '616304457',\n '1174332248',\n '1208020117',\n '2385918984',\n '2356933212',\n '2348201450',\n '2351035076',\n '2384161152',\n '2358417253',\n '1176184358',\n '1127322342',\n '2364236432',\n '2364055700',\n '2383916527',\n '460577572',\n '2353421623',\n '2385082080',\n '2384264934',\n '619445404',\n '123222267',\n '617173576',\n '2366312984',\n '1176275664',\n '2355123374',\n '413650968',\n '2363027136',\n '1124407771',\n '616218743',\n '292533078',\n '19230427',\n '2382452304',\n '2351789539',\n '1205018334',\n '617560837',\n '617448956',\n '2364927650',\n '616881617',\n '2352457448',\n '709542337',\n '2383421131',\n '1391622127',\n '616851701',\n '1174560212',\n '2358029616',\n '1130238283',\n '616538559',\n '1174898036',\n '616906634',\n '1174750884',\n '2349977298',\n '2358040098',\n '616227895',\n '2358501398',\n '2356299860',\n '2363921462',\n '2380214491',\n '1130522202',\n '2385149940',\n '2352555318',\n '616292463',\n '2358107382',\n '2352903248',\n '2366095543',\n '1176282888',\n '1175005345',\n '2352911527']"
     },
     "execution_count": 194,
     "metadata": {},
     "output_type": "execute_result"
    }
   ],
   "source": [
    "user_ids_with_null_statuses_count = df_users[df_users['statuses_count'].isnull() == True].id.astype(str).tolist()\n",
    "user_ids_with_null_statuses_count"
   ]
  },
  {
   "cell_type": "markdown",
   "metadata": {},
   "source": [
    "How many records in the tweets file have user_ids that match the users that have a null status count?"
   ]
  },
  {
   "cell_type": "code",
   "execution_count": 195,
   "metadata": {},
   "outputs": [
    {
     "data": {
      "text/plain": "False    13613038\nTrue        51658\nName: user_id, dtype: int64"
     },
     "execution_count": 195,
     "metadata": {},
     "output_type": "execute_result"
    }
   ],
   "source": [
    "df_tweets['user_id'].isin(user_ids_with_null_statuses_count).value_counts()"
   ]
  },
  {
   "cell_type": "markdown",
   "metadata": {},
   "source": [
    "Select tweets in tweets file which have a user_id which has a null statuses_count in the users file"
   ]
  },
  {
   "cell_type": "code",
   "execution_count": 196,
   "metadata": {},
   "outputs": [],
   "source": [
    "tweets_by_user_ids_with_null_statuses_count = df_tweets[df_tweets['user_id'].isin(user_ids_with_null_statuses_count)]"
   ]
  },
  {
   "cell_type": "markdown",
   "metadata": {},
   "source": [
    "Count how many different tweets (created_at disambiguates this) we have for each user_id"
   ]
  },
  {
   "cell_type": "code",
   "execution_count": 197,
   "metadata": {},
   "outputs": [
    {
     "data": {
      "text/plain": "user_id\n101892747      2\n104657589      1\n105510200      4\n105696650     23\n106595346    209\n            ... \n716723184     32\n72348749     188\n759191942      7\n80479674      41\n951793016     79\nName: created_at, Length: 399, dtype: int64"
     },
     "execution_count": 197,
     "metadata": {},
     "output_type": "execute_result"
    }
   ],
   "source": [
    "# it'a series!\n",
    "tweets_counts_null_statuses = tweets_by_user_ids_with_null_statuses_count.groupby(['user_id']).count()['created_at']\n",
    "tweets_counts_null_statuses"
   ]
  },
  {
   "cell_type": "markdown",
   "metadata": {},
   "source": [
    "For users with a non-null statues_count, find the mean and median of this attribute.\n",
    "As it is possible to see, the mean is probably affected by the presence of a lot of outliers."
   ]
  },
  {
   "cell_type": "code",
   "execution_count": 198,
   "metadata": {},
   "outputs": [
    {
     "name": "stdout",
     "output_type": "stream",
     "text": [
      "5883.312359348276 68.0\n"
     ]
    }
   ],
   "source": [
    "nonnull_users = df_users[df_users['statuses_count'].isnull() == False]\n",
    "mean_statuses_count = nonnull_users.statuses_count.mean()\n",
    "median_statuses_count = nonnull_users.statuses_count.median()\n",
    "print(mean_statuses_count,median_statuses_count)"
   ]
  },
  {
   "cell_type": "markdown",
   "metadata": {},
   "source": [
    "Plot of statuses_count of users where this value is not null"
   ]
  },
  {
   "cell_type": "code",
   "execution_count": 199,
   "metadata": {},
   "outputs": [
    {
     "data": {
      "text/plain": "<Figure size 640x480 with 1 Axes>",
      "image/png": "[encoded data removed]"
     },
     "metadata": {},
     "output_type": "display_data"
    }
   ],
   "source": [
    "plt.boxplot(nonnull_users.statuses_count,showmeans=True)\n",
    "plt.yscale('log')\n",
    "plt.show()"
   ]
  },
  {
   "cell_type": "markdown",
   "metadata": {},
   "source": [
    "The boxplot shows that the mean is near the 90th percentile, so we find more reasonable to use the median value to replace the missing values for the `statuses_count` attribute."
   ]
  },
  {
   "cell_type": "markdown",
   "metadata": {},
   "source": [
    "--------- NO ---------"
   ]
  },
  {
   "cell_type": "code",
   "execution_count": 200,
   "metadata": {},
   "outputs": [],
   "source": [
    "user_ids_with_nonnull_statuses_count = df_users[df_users['statuses_count'].isnull() == False].id.astype(str).tolist()\n",
    "tweets_by_user_ids_with_nonnull_statuses_count = df_tweets[df_tweets['user_id'].isin(user_ids_with_nonnull_statuses_count)]\n",
    "tweets_counts_nonnull_statuses = tweets_by_user_ids_with_nonnull_statuses_count.groupby(['user_id']).count()['created_at']"
   ]
  },
  {
   "cell_type": "code",
   "execution_count": 201,
   "metadata": {},
   "outputs": [
    {
     "name": "stdout",
     "output_type": "stream",
     "text": [
      "4697.048609235755 -42.0\n"
     ]
    }
   ],
   "source": [
    "values = nonnull_users.statuses_count.values - tweets_counts_nonnull_statuses.values\n",
    "print(np.mean(values), np.median(values))"
   ]
  },
  {
   "cell_type": "code",
   "execution_count": 202,
   "metadata": {},
   "outputs": [
    {
     "data": {
      "text/plain": "<Figure size 640x480 with 1 Axes>",
      "image/png": "[encoded data removed]"
     },
     "metadata": {},
     "output_type": "display_data"
    }
   ],
   "source": [
    "plt.boxplot(values,showmeans=True)\n",
    "plt.show()"
   ]
  },
  {
   "cell_type": "code",
   "execution_count": 203,
   "metadata": {},
   "outputs": [
    {
     "data": {
      "text/plain": "<Figure size 640x480 with 1 Axes>",
      "image/png": "[encoded data removed]"
     },
     "metadata": {},
     "output_type": "display_data"
    }
   ],
   "source": [
    "sign = np.sign(values)\n",
    "log_values = np.log(np.where(np.abs(values)==0,1e-9, np.abs(values)))\n",
    "plt.boxplot(sign*log_values,showmeans=True)\n",
    "plt.show()"
   ]
  },
  {
   "cell_type": "code",
   "execution_count": 204,
   "metadata": {},
   "outputs": [
    {
     "data": {
      "text/plain": "20"
     },
     "execution_count": 204,
     "metadata": {},
     "output_type": "execute_result"
    }
   ],
   "source": [
    "len(values) - np.count_nonzero(values)"
   ]
  },
  {
   "cell_type": "markdown",
   "metadata": {},
   "source": [
    "--------- NO ---------"
   ]
  },
  {
   "cell_type": "markdown",
   "metadata": {
    "id": "OKUhen8G0lUS"
   },
   "source": [
    "0   id              11712595 non-null  object\n",
    "  - MISSING VALUES: ??\n",
    "\n",
    "1   user_id         11495314 non-null  object\n",
    "  - MISSING VALUES: ??\n",
    "\n",
    "2   retweet_count   11275463 non-null  object\n",
    "  - MISSING VALUES:\n",
    "\n",
    "3   reply_count     11064719 non-null  object\n",
    "  - MISSING VALUES:\n",
    "\n",
    "4   favorite_count  11065055 non-null  object\n",
    "  - MISSING VALUES:\n",
    " \n",
    "5   num_hashtags    10655073 non-null  object\n",
    "  - MISSING VALUES:\n",
    " \n",
    "6   num_urls        11063974 non-null  object\n",
    "  - MISSING VALUES:\n",
    " \n",
    "7   num_mentions    10858432 non-null  object\n",
    "  - MISSING VALUES:\n",
    " \n",
    "8   created_at      11712597 non-null  object\n",
    "  - MISSING VALUES: no null values\n",
    " \n",
    "9   text            11182415 non-null  object\n",
    "  - MISSING VALUES:"
   ]
  },
  {
   "cell_type": "markdown",
   "metadata": {},
   "source": [
    "Replace null statues_count values with median of statues_count of the other users"
   ]
  },
  {
   "cell_type": "code",
   "execution_count": 205,
   "metadata": {},
   "outputs": [],
   "source": [
    "df_users.statuses_count.fillna(median_statuses_count, inplace=True)"
   ]
  },
  {
   "cell_type": "code",
   "execution_count": 206,
   "metadata": {},
   "outputs": [
    {
     "name": "stdout",
     "output_type": "stream",
     "text": [
      "<class 'pandas.core.frame.DataFrame'>\n",
      "RangeIndex: 11508 entries, 0 to 11507\n",
      "Data columns (total 6 columns):\n",
      " #   Column          Non-Null Count  Dtype  \n",
      "---  ------          --------------  -----  \n",
      " 0   id              11508 non-null  int64  \n",
      " 1   name            11507 non-null  object \n",
      " 2   lang            11508 non-null  object \n",
      " 3   bot             11508 non-null  int64  \n",
      " 4   created_at      11508 non-null  object \n",
      " 5   statuses_count  11508 non-null  float64\n",
      "dtypes: float64(1), int64(2), object(3)\n",
      "memory usage: 539.6+ KB\n"
     ]
    }
   ],
   "source": [
    "df_users.info()\n"
   ]
  },
  {
   "cell_type": "markdown",
   "metadata": {},
   "source": [
    "Conversion of created_at dates into seconds into a new column"
   ]
  },
  {
   "cell_type": "code",
   "execution_count": 207,
   "metadata": {},
   "outputs": [
    {
     "data": {
      "text/plain": "               id                name lang  bot           created_at  \\\n0      2353593986     Lamonica Raborn   en    1  2019-02-22 18:00:42   \n1      2358850842       Lourie Botton   en    0  2019-02-26 03:02:32   \n2       137959629    Dadan Syarifudin   en    1  2015-04-30 07:09:56   \n3       466124818      Carletto Focia   it    1  2017-01-18 02:49:18   \n4      2571493866           MBK Ebook   en    0  2019-06-18 19:30:21   \n...           ...                 ...  ...  ...                  ...   \n11503  2911861962  Madrid Lae Maika .   en    0  2019-11-29 13:16:02   \n11504  1378532629           Clau Sato   en    0  2018-04-27 03:01:58   \n11505   126984069  ALMA LETICIA NUÑO    es    0  2015-03-29 17:01:24   \n11506  2383025796     Minnie Guadagno   en    1  2019-03-13 02:44:13   \n11507   933183398           Corvanna    en    0  2017-11-09 23:24:16   \n\n       statuses_count      created_at_conv  \n0                76.0  1550858442000000000  \n1                54.0  1551150152000000000  \n2                 3.0  1430377796000000000  \n3                50.0  1484707758000000000  \n4              7085.0  1560886221000000000  \n...               ...                  ...  \n11503          1126.0  1575033362000000000  \n11504          3024.0  1524798118000000000  \n11505             6.0  1427648484000000000  \n11506            42.0  1552445053000000000  \n11507          5279.0  1510269856000000000  \n\n[11508 rows x 7 columns]",
      "text/html": "<div>\n<style scoped>\n    .dataframe tbody tr th:only-of-type {\n        vertical-align: middle;\n    }\n\n    .dataframe tbody tr th {\n        vertical-align: top;\n    }\n\n    .dataframe thead th {\n        text-align: right;\n    }\n</style>\n<table border=\"1\" class=\"dataframe\">\n  <thead>\n    <tr style=\"text-align: right;\">\n      <th></th>\n      <th>id</th>\n      <th>name</th>\n      <th>lang</th>\n      <th>bot</th>\n      <th>created_at</th>\n      <th>statuses_count</th>\n      <th>created_at_conv</th>\n    </tr>\n  </thead>\n  <tbody>\n    <tr>\n      <th>0</th>\n      <td>2353593986</td>\n      <td>Lamonica Raborn</td>\n      <td>en</td>\n      <td>1</td>\n      <td>2019-02-22 18:00:42</td>\n      <td>76.0</td>\n      <td>1550858442000000000</td>\n    </tr>\n    <tr>\n      <th>1</th>\n      <td>2358850842</td>\n      <td>Lourie Botton</td>\n      <td>en</td>\n      <td>0</td>\n      <td>2019-02-26 03:02:32</td>\n      <td>54.0</td>\n      <td>1551150152000000000</td>\n    </tr>\n    <tr>\n      <th>2</th>\n      <td>137959629</td>\n      <td>Dadan Syarifudin</td>\n      <td>en</td>\n      <td>1</td>\n      <td>2015-04-30 07:09:56</td>\n      <td>3.0</td>\n      <td>1430377796000000000</td>\n    </tr>\n    <tr>\n      <th>3</th>\n      <td>466124818</td>\n      <td>Carletto Focia</td>\n      <td>it</td>\n      <td>1</td>\n      <td>2017-01-18 02:49:18</td>\n      <td>50.0</td>\n      <td>1484707758000000000</td>\n    </tr>\n    <tr>\n      <th>4</th>\n      <td>2571493866</td>\n      <td>MBK Ebook</td>\n      <td>en</td>\n      <td>0</td>\n      <td>2019-06-18 19:30:21</td>\n      <td>7085.0</td>\n      <td>1560886221000000000</td>\n    </tr>\n    <tr>\n      <th>...</th>\n      <td>...</td>\n      <td>...</td>\n      <td>...</td>\n      <td>...</td>\n      <td>...</td>\n      <td>...</td>\n      <td>...</td>\n    </tr>\n    <tr>\n      <th>11503</th>\n      <td>2911861962</td>\n      <td>Madrid Lae Maika .</td>\n      <td>en</td>\n      <td>0</td>\n      <td>2019-11-29 13:16:02</td>\n      <td>1126.0</td>\n      <td>1575033362000000000</td>\n    </tr>\n    <tr>\n      <th>11504</th>\n      <td>1378532629</td>\n      <td>Clau Sato</td>\n      <td>en</td>\n      <td>0</td>\n      <td>2018-04-27 03:01:58</td>\n      <td>3024.0</td>\n      <td>1524798118000000000</td>\n    </tr>\n    <tr>\n      <th>11505</th>\n      <td>126984069</td>\n      <td>ALMA LETICIA NUÑO</td>\n      <td>es</td>\n      <td>0</td>\n      <td>2015-03-29 17:01:24</td>\n      <td>6.0</td>\n      <td>1427648484000000000</td>\n    </tr>\n    <tr>\n      <th>11506</th>\n      <td>2383025796</td>\n      <td>Minnie Guadagno</td>\n      <td>en</td>\n      <td>1</td>\n      <td>2019-03-13 02:44:13</td>\n      <td>42.0</td>\n      <td>1552445053000000000</td>\n    </tr>\n    <tr>\n      <th>11507</th>\n      <td>933183398</td>\n      <td>Corvanna</td>\n      <td>en</td>\n      <td>0</td>\n      <td>2017-11-09 23:24:16</td>\n      <td>5279.0</td>\n      <td>1510269856000000000</td>\n    </tr>\n  </tbody>\n</table>\n<p>11508 rows × 7 columns</p>\n</div>"
     },
     "execution_count": 207,
     "metadata": {},
     "output_type": "execute_result"
    }
   ],
   "source": [
    "df_users['created_at_conv'] = pd.to_datetime(df_users['created_at']).astype(np.int64)\n",
    "df_users"
   ]
  },
  {
   "cell_type": "code",
   "execution_count": 208,
   "metadata": {},
   "outputs": [
    {
     "data": {
      "text/plain": "<AxesSubplot:>"
     },
     "execution_count": 208,
     "metadata": {},
     "output_type": "execute_result"
    },
    {
     "data": {
      "text/plain": "<Figure size 640x480 with 1 Axes>",
      "image/png": "[encoded data removed]"
     },
     "metadata": {},
     "output_type": "display_data"
    }
   ],
   "source": [
    "df_users.boxplot(['created_at_conv'])"
   ]
  },
  {
   "cell_type": "code",
   "execution_count": 209,
   "metadata": {},
   "outputs": [
    {
     "data": {
      "text/plain": "               id             name lang  bot           created_at  \\\n0      2353593986  Lamonica Raborn   en    1  2019-02-22 18:00:42   \n1      2358850842    Lourie Botton   en    0  2019-02-26 03:02:32   \n5      2199062688               Qq   en    0  2018-11-19 06:58:18   \n6      1174869769       Tania Wren   en    1  2018-02-15 10:51:28   \n9      2357425536     Meda Tatlock   en    1  2019-02-25 04:30:56   \n...           ...              ...  ...  ...                  ...   \n11501  2364683192    Larhonda Antu   en    1  2019-03-01 21:47:03   \n11502  1901595415     Prity Baleja   en    0  2018-09-26 19:48:46   \n11504  1378532629        Clau Sato   en    0  2018-04-27 03:01:58   \n11506  2383025796  Minnie Guadagno   en    1  2019-03-13 02:44:13   \n11507   933183398        Corvanna    en    0  2017-11-09 23:24:16   \n\n       statuses_count      created_at_conv  \n0                76.0  1550858442000000000  \n1                54.0  1551150152000000000  \n5              7406.0  1542610698000000000  \n6                21.0  1518691888000000000  \n9                69.0  1551069056000000000  \n...               ...                  ...  \n11501            63.0  1551476823000000000  \n11502           359.0  1537991326000000000  \n11504          3024.0  1524798118000000000  \n11506            42.0  1552445053000000000  \n11507          5279.0  1510269856000000000  \n\n[6025 rows x 7 columns]",
      "text/html": "<div>\n<style scoped>\n    .dataframe tbody tr th:only-of-type {\n        vertical-align: middle;\n    }\n\n    .dataframe tbody tr th {\n        vertical-align: top;\n    }\n\n    .dataframe thead th {\n        text-align: right;\n    }\n</style>\n<table border=\"1\" class=\"dataframe\">\n  <thead>\n    <tr style=\"text-align: right;\">\n      <th></th>\n      <th>id</th>\n      <th>name</th>\n      <th>lang</th>\n      <th>bot</th>\n      <th>created_at</th>\n      <th>statuses_count</th>\n      <th>created_at_conv</th>\n    </tr>\n  </thead>\n  <tbody>\n    <tr>\n      <th>0</th>\n      <td>2353593986</td>\n      <td>Lamonica Raborn</td>\n      <td>en</td>\n      <td>1</td>\n      <td>2019-02-22 18:00:42</td>\n      <td>76.0</td>\n      <td>1550858442000000000</td>\n    </tr>\n    <tr>\n      <th>1</th>\n      <td>2358850842</td>\n      <td>Lourie Botton</td>\n      <td>en</td>\n      <td>0</td>\n      <td>2019-02-26 03:02:32</td>\n      <td>54.0</td>\n      <td>1551150152000000000</td>\n    </tr>\n    <tr>\n      <th>5</th>\n      <td>2199062688</td>\n      <td>Qq</td>\n      <td>en</td>\n      <td>0</td>\n      <td>2018-11-19 06:58:18</td>\n      <td>7406.0</td>\n      <td>1542610698000000000</td>\n    </tr>\n    <tr>\n      <th>6</th>\n      <td>1174869769</td>\n      <td>Tania Wren</td>\n      <td>en</td>\n      <td>1</td>\n      <td>2018-02-15 10:51:28</td>\n      <td>21.0</td>\n      <td>1518691888000000000</td>\n    </tr>\n    <tr>\n      <th>9</th>\n      <td>2357425536</td>\n      <td>Meda Tatlock</td>\n      <td>en</td>\n      <td>1</td>\n      <td>2019-02-25 04:30:56</td>\n      <td>69.0</td>\n      <td>1551069056000000000</td>\n    </tr>\n    <tr>\n      <th>...</th>\n      <td>...</td>\n      <td>...</td>\n      <td>...</td>\n      <td>...</td>\n      <td>...</td>\n      <td>...</td>\n      <td>...</td>\n    </tr>\n    <tr>\n      <th>11501</th>\n      <td>2364683192</td>\n      <td>Larhonda Antu</td>\n      <td>en</td>\n      <td>1</td>\n      <td>2019-03-01 21:47:03</td>\n      <td>63.0</td>\n      <td>1551476823000000000</td>\n    </tr>\n    <tr>\n      <th>11502</th>\n      <td>1901595415</td>\n      <td>Prity Baleja</td>\n      <td>en</td>\n      <td>0</td>\n      <td>2018-09-26 19:48:46</td>\n      <td>359.0</td>\n      <td>1537991326000000000</td>\n    </tr>\n    <tr>\n      <th>11504</th>\n      <td>1378532629</td>\n      <td>Clau Sato</td>\n      <td>en</td>\n      <td>0</td>\n      <td>2018-04-27 03:01:58</td>\n      <td>3024.0</td>\n      <td>1524798118000000000</td>\n    </tr>\n    <tr>\n      <th>11506</th>\n      <td>2383025796</td>\n      <td>Minnie Guadagno</td>\n      <td>en</td>\n      <td>1</td>\n      <td>2019-03-13 02:44:13</td>\n      <td>42.0</td>\n      <td>1552445053000000000</td>\n    </tr>\n    <tr>\n      <th>11507</th>\n      <td>933183398</td>\n      <td>Corvanna</td>\n      <td>en</td>\n      <td>0</td>\n      <td>2017-11-09 23:24:16</td>\n      <td>5279.0</td>\n      <td>1510269856000000000</td>\n    </tr>\n  </tbody>\n</table>\n<p>6025 rows × 7 columns</p>\n</div>"
     },
     "execution_count": 209,
     "metadata": {},
     "output_type": "execute_result"
    }
   ],
   "source": [
    "df_users[np.logical_and(df_users['created_at_conv'] > 1.50e18, df_users['created_at_conv'] < 1.56e18)] # Min: 2017-07-14 05:34:46 Max: 2019-06-08 10:26:46"
   ]
  },
  {
   "cell_type": "markdown",
   "metadata": {},
   "source": [
    "Users below the 0.001 Quantile (outliers), still have possible created_at values (2012 is plausible, unlike 1960).\n",
    "If any analyses should be performed on the created_at column we must take into account that there are many outliers."
   ]
  },
  {
   "cell_type": "code",
   "execution_count": 210,
   "metadata": {},
   "outputs": [
    {
     "data": {
      "text/plain": "            id                  name lang  bot           created_at  \\\n875     755116                    呉⚛   en    0  2012-02-08 05:25:49   \n1501   3873101        تاتسو موناكاتا   en    0  2012-04-10 07:28:52   \n1610    887281          Paul Youlten   en    0  2012-03-11 22:25:08   \n1966    785080                   W H   en    0  2012-02-23 01:08:16   \n3285   1813221        Morgan Johnson   en    0  2012-03-22 23:43:40   \n3878    678033          Heather Gold   en    0  2012-01-24 01:57:38   \n6261   1382561                jojoko   en    0  2012-03-18 23:24:35   \n6983   2770511                    べン   en    0  2012-03-30 02:31:13   \n7192    806585     Christopher Mahan   en    0  2012-03-03 17:27:49   \n10660   755746  Sarah Friedlander G.   en    0  2012-02-09 05:21:24   \n10988   806975          Mrinal Desai   en    0  2012-03-03 20:00:04   \n11430   722623          Buzz Jackson   en    0  2012-01-31 00:54:34   \n\n       statuses_count      created_at_conv  \n875           39158.0  1328678749000000000  \n1501         106335.0  1334042932000000000  \n1610            626.0  1331504708000000000  \n1966          22496.0  1329959296000000000  \n3285          20225.0  1332459820000000000  \n3878          45825.0  1327370258000000000  \n6261           8236.0  1332113075000000000  \n6983          38140.0  1333074673000000000  \n7192          29997.0  1330795669000000000  \n10660         18035.0  1328764884000000000  \n10988         28400.0  1330804804000000000  \n11430         11770.0  1327971274000000000  ",
      "text/html": "<div>\n<style scoped>\n    .dataframe tbody tr th:only-of-type {\n        vertical-align: middle;\n    }\n\n    .dataframe tbody tr th {\n        vertical-align: top;\n    }\n\n    .dataframe thead th {\n        text-align: right;\n    }\n</style>\n<table border=\"1\" class=\"dataframe\">\n  <thead>\n    <tr style=\"text-align: right;\">\n      <th></th>\n      <th>id</th>\n      <th>name</th>\n      <th>lang</th>\n      <th>bot</th>\n      <th>created_at</th>\n      <th>statuses_count</th>\n      <th>created_at_conv</th>\n    </tr>\n  </thead>\n  <tbody>\n    <tr>\n      <th>875</th>\n      <td>755116</td>\n      <td>呉⚛</td>\n      <td>en</td>\n      <td>0</td>\n      <td>2012-02-08 05:25:49</td>\n      <td>39158.0</td>\n      <td>1328678749000000000</td>\n    </tr>\n    <tr>\n      <th>1501</th>\n      <td>3873101</td>\n      <td>تاتسو موناكاتا</td>\n      <td>en</td>\n      <td>0</td>\n      <td>2012-04-10 07:28:52</td>\n      <td>106335.0</td>\n      <td>1334042932000000000</td>\n    </tr>\n    <tr>\n      <th>1610</th>\n      <td>887281</td>\n      <td>Paul Youlten</td>\n      <td>en</td>\n      <td>0</td>\n      <td>2012-03-11 22:25:08</td>\n      <td>626.0</td>\n      <td>1331504708000000000</td>\n    </tr>\n    <tr>\n      <th>1966</th>\n      <td>785080</td>\n      <td>W H</td>\n      <td>en</td>\n      <td>0</td>\n      <td>2012-02-23 01:08:16</td>\n      <td>22496.0</td>\n      <td>1329959296000000000</td>\n    </tr>\n    <tr>\n      <th>3285</th>\n      <td>1813221</td>\n      <td>Morgan Johnson</td>\n      <td>en</td>\n      <td>0</td>\n      <td>2012-03-22 23:43:40</td>\n      <td>20225.0</td>\n      <td>1332459820000000000</td>\n    </tr>\n    <tr>\n      <th>3878</th>\n      <td>678033</td>\n      <td>Heather Gold</td>\n      <td>en</td>\n      <td>0</td>\n      <td>2012-01-24 01:57:38</td>\n      <td>45825.0</td>\n      <td>1327370258000000000</td>\n    </tr>\n    <tr>\n      <th>6261</th>\n      <td>1382561</td>\n      <td>jojoko</td>\n      <td>en</td>\n      <td>0</td>\n      <td>2012-03-18 23:24:35</td>\n      <td>8236.0</td>\n      <td>1332113075000000000</td>\n    </tr>\n    <tr>\n      <th>6983</th>\n      <td>2770511</td>\n      <td>べン</td>\n      <td>en</td>\n      <td>0</td>\n      <td>2012-03-30 02:31:13</td>\n      <td>38140.0</td>\n      <td>1333074673000000000</td>\n    </tr>\n    <tr>\n      <th>7192</th>\n      <td>806585</td>\n      <td>Christopher Mahan</td>\n      <td>en</td>\n      <td>0</td>\n      <td>2012-03-03 17:27:49</td>\n      <td>29997.0</td>\n      <td>1330795669000000000</td>\n    </tr>\n    <tr>\n      <th>10660</th>\n      <td>755746</td>\n      <td>Sarah Friedlander G.</td>\n      <td>en</td>\n      <td>0</td>\n      <td>2012-02-09 05:21:24</td>\n      <td>18035.0</td>\n      <td>1328764884000000000</td>\n    </tr>\n    <tr>\n      <th>10988</th>\n      <td>806975</td>\n      <td>Mrinal Desai</td>\n      <td>en</td>\n      <td>0</td>\n      <td>2012-03-03 20:00:04</td>\n      <td>28400.0</td>\n      <td>1330804804000000000</td>\n    </tr>\n    <tr>\n      <th>11430</th>\n      <td>722623</td>\n      <td>Buzz Jackson</td>\n      <td>en</td>\n      <td>0</td>\n      <td>2012-01-31 00:54:34</td>\n      <td>11770.0</td>\n      <td>1327971274000000000</td>\n    </tr>\n  </tbody>\n</table>\n</div>"
     },
     "execution_count": 210,
     "metadata": {},
     "output_type": "execute_result"
    }
   ],
   "source": [
    "df_users[df_users['created_at_conv'] < df_users['created_at_conv'].quantile(0.001)]"
   ]
  },
  {
   "cell_type": "code",
   "execution_count": 211,
   "metadata": {},
   "outputs": [
    {
     "data": {
      "text/plain": "1    6116\n0    5392\nName: bot, dtype: int64"
     },
     "execution_count": 211,
     "metadata": {},
     "output_type": "execute_result"
    }
   ],
   "source": [
    "df_users['bot'].value_counts()"
   ]
  },
  {
   "cell_type": "markdown",
   "metadata": {},
   "source": [
    "# Language field\n",
    "There are some mispellings, so we are going to replace the mispelled ones to the correct ones, which are:\n",
    "- en-gb to en-GB\n",
    "- zh-tw to zh-TW\n",
    "\n",
    "There are also two wrong values, 'Select Language...' and 'xx-lc', related to three users in total.\n",
    "To understand the impact of the possible changes the number of tweets contained in the tweets file have been taken in account. The accounts seem to be active and have a lot of related tweets. The attribute is categorical so this value could be replaced by the mode which is the 'en' language. \n",
    "Since there are only three users, to double-check the validity of our choice the relative tweets have been analyzed. The check confirmed that 'en' is the right choice."
   ]
  },
  {
   "cell_type": "code",
   "execution_count": 212,
   "metadata": {},
   "outputs": [
    {
     "data": {
      "text/plain": "en                    9970\nit                     906\nes                     319\npt                      65\nen-gb                   50\nru                      42\nfr                      36\nja                      33\nzh-tw                   17\ntr                      14\nid                      12\nko                       9\nde                       8\nnl                       6\nen-GB                    4\nar                       3\nzh-TW                    3\nda                       2\nSelect Language...       2\nen-AU                    1\nzh-cn                    1\npl                       1\nel                       1\nfil                      1\nsv                       1\nxx-lc                    1\nName: lang, dtype: int64"
     },
     "execution_count": 212,
     "metadata": {},
     "output_type": "execute_result"
    }
   ],
   "source": [
    "df_users['lang'].value_counts()"
   ]
  },
  {
   "cell_type": "code",
   "execution_count": 213,
   "metadata": {},
   "outputs": [],
   "source": [
    "df_users['lang'].replace({'en-gb':'en-GB','zh-tw':'zh-TW'}, inplace=True)"
   ]
  },
  {
   "cell_type": "code",
   "execution_count": 214,
   "metadata": {},
   "outputs": [
    {
     "data": {
      "text/plain": "en                    9970\nit                     906\nes                     319\npt                      65\nen-GB                   54\nru                      42\nfr                      36\nja                      33\nzh-TW                   20\ntr                      14\nid                      12\nko                       9\nde                       8\nnl                       6\nar                       3\nda                       2\nSelect Language...       2\nen-AU                    1\nzh-cn                    1\npl                       1\nel                       1\nfil                      1\nsv                       1\nxx-lc                    1\nName: lang, dtype: int64"
     },
     "execution_count": 214,
     "metadata": {},
     "output_type": "execute_result"
    }
   ],
   "source": [
    "df_users['lang'].value_counts()"
   ]
  },
  {
   "cell_type": "code",
   "execution_count": 215,
   "metadata": {},
   "outputs": [
    {
     "data": {
      "text/plain": "               id          name                lang  bot           created_at  \\\n4166   2956613720  Leanne Arker  Select Language...    0  2020-01-05 00:09:59   \n8666   2904858613        Brooke  Select Language...    0  2019-11-22 05:44:46   \n10065    29552151        Chloe                xx-lc    0  2014-04-09 21:36:02   \n\n       statuses_count      created_at_conv  \n4166             57.0  1578182999000000000  \n8666             85.0  1574401486000000000  \n10065         15398.0  1397079362000000000  ",
      "text/html": "<div>\n<style scoped>\n    .dataframe tbody tr th:only-of-type {\n        vertical-align: middle;\n    }\n\n    .dataframe tbody tr th {\n        vertical-align: top;\n    }\n\n    .dataframe thead th {\n        text-align: right;\n    }\n</style>\n<table border=\"1\" class=\"dataframe\">\n  <thead>\n    <tr style=\"text-align: right;\">\n      <th></th>\n      <th>id</th>\n      <th>name</th>\n      <th>lang</th>\n      <th>bot</th>\n      <th>created_at</th>\n      <th>statuses_count</th>\n      <th>created_at_conv</th>\n    </tr>\n  </thead>\n  <tbody>\n    <tr>\n      <th>4166</th>\n      <td>2956613720</td>\n      <td>Leanne Arker</td>\n      <td>Select Language...</td>\n      <td>0</td>\n      <td>2020-01-05 00:09:59</td>\n      <td>57.0</td>\n      <td>1578182999000000000</td>\n    </tr>\n    <tr>\n      <th>8666</th>\n      <td>2904858613</td>\n      <td>Brooke</td>\n      <td>Select Language...</td>\n      <td>0</td>\n      <td>2019-11-22 05:44:46</td>\n      <td>85.0</td>\n      <td>1574401486000000000</td>\n    </tr>\n    <tr>\n      <th>10065</th>\n      <td>29552151</td>\n      <td>Chloe</td>\n      <td>xx-lc</td>\n      <td>0</td>\n      <td>2014-04-09 21:36:02</td>\n      <td>15398.0</td>\n      <td>1397079362000000000</td>\n    </tr>\n  </tbody>\n</table>\n</div>"
     },
     "execution_count": 215,
     "metadata": {},
     "output_type": "execute_result"
    }
   ],
   "source": [
    "df_users[np.logical_or(df_users['lang'] == 'Select Language...', df_users['lang'] == 'xx-lc')]"
   ]
  },
  {
   "cell_type": "markdown",
   "metadata": {},
   "source": [
    "Select all tweets that have the user_ids of people who have \"Select Language...\" and \"xx-lc\" as language"
   ]
  },
  {
   "cell_type": "code",
   "execution_count": 216,
   "metadata": {},
   "outputs": [
    {
     "data": {
      "text/plain": "                          id   user_id retweet_count reply_count  \\\n6119      491274532679081984  29552151             0           0   \n12218     488693001456463872  29552151             0           0   \n15946     485410906692919297  29552151             0           0   \n16947       1683542282301364  29552151             0         NaN   \n17457             7055458923  29552151           NaN         0.0   \n...                      ...       ...           ...         ...   \n13633429  492646759857152000  29552151             0           0   \n13634576  479715963076874241  29552151             0           0   \n13637349  562936922881159168  29552151             0           0   \n13640124  481513416465854464  29552151             0           0   \n13653170  480838207362572289  29552151             0           0   \n\n         favorite_count num_hashtags num_urls num_mentions  \\\n6119                  0            0        0            0   \n12218                 0            0        0            0   \n15946                 0            0        0            0   \n16947               0.0          NaN      0.0          NaN   \n17457               NaN          0.0      0.0            0   \n...                 ...          ...      ...          ...   \n13633429              0            0        0            0   \n13634576              0            0        0            0   \n13637349              0            0        0            0   \n13640124              0            0        0            0   \n13653170              0            0        0            0   \n\n                   created_at  \\\n6119      2019-07-23 17:32:30   \n12218     2019-07-16 14:34:25   \n15946     2019-07-07 13:12:33   \n16947     2019-07-16 20:58:50   \n17457     2020-02-27 20:17:18   \n...                       ...   \n13633429  2019-07-27 12:25:15   \n13634576  2019-06-21 20:02:52   \n13637349  2020-02-06 11:33:15   \n13640124  2019-06-26 19:05:19   \n13653170  2019-06-24 22:22:16   \n\n                                                       text  \n6119      Spent the majority of my day drawing around, c...  \n12218       We all love dem cuddles. http://t.co/fPrcnUfacS  \n15946                  Dog sitting until 8 tonight. Again..  \n16947                                                   NaN  \n17457               The chocolate is soooooooooooo amazing.  \n...                                                     ...  \n13633429  @Cock_Penis Around 4 hopefully...Got to go to ...  \n13634576       I'd love to have white hair for real though.  \n13637349  Is there a way to wake up without feeling like...  \n13640124  ...and my nails are obviously being painted bl...  \n13653170              Most of all, I have tattoos lined up.  \n\n[2378 rows x 10 columns]",
      "text/html": "<div>\n<style scoped>\n    .dataframe tbody tr th:only-of-type {\n        vertical-align: middle;\n    }\n\n    .dataframe tbody tr th {\n        vertical-align: top;\n    }\n\n    .dataframe thead th {\n        text-align: right;\n    }\n</style>\n<table border=\"1\" class=\"dataframe\">\n  <thead>\n    <tr style=\"text-align: right;\">\n      <th></th>\n      <th>id</th>\n      <th>user_id</th>\n      <th>retweet_count</th>\n      <th>reply_count</th>\n      <th>favorite_count</th>\n      <th>num_hashtags</th>\n      <th>num_urls</th>\n      <th>num_mentions</th>\n      <th>created_at</th>\n      <th>text</th>\n    </tr>\n  </thead>\n  <tbody>\n    <tr>\n      <th>6119</th>\n      <td>491274532679081984</td>\n      <td>29552151</td>\n      <td>0</td>\n      <td>0</td>\n      <td>0</td>\n      <td>0</td>\n      <td>0</td>\n      <td>0</td>\n      <td>2019-07-23 17:32:30</td>\n      <td>Spent the majority of my day drawing around, c...</td>\n    </tr>\n    <tr>\n      <th>12218</th>\n      <td>488693001456463872</td>\n      <td>29552151</td>\n      <td>0</td>\n      <td>0</td>\n      <td>0</td>\n      <td>0</td>\n      <td>0</td>\n      <td>0</td>\n      <td>2019-07-16 14:34:25</td>\n      <td>We all love dem cuddles. http://t.co/fPrcnUfacS</td>\n    </tr>\n    <tr>\n      <th>15946</th>\n      <td>485410906692919297</td>\n      <td>29552151</td>\n      <td>0</td>\n      <td>0</td>\n      <td>0</td>\n      <td>0</td>\n      <td>0</td>\n      <td>0</td>\n      <td>2019-07-07 13:12:33</td>\n      <td>Dog sitting until 8 tonight. Again..</td>\n    </tr>\n    <tr>\n      <th>16947</th>\n      <td>1683542282301364</td>\n      <td>29552151</td>\n      <td>0</td>\n      <td>NaN</td>\n      <td>0.0</td>\n      <td>NaN</td>\n      <td>0.0</td>\n      <td>NaN</td>\n      <td>2019-07-16 20:58:50</td>\n      <td>NaN</td>\n    </tr>\n    <tr>\n      <th>17457</th>\n      <td>7055458923</td>\n      <td>29552151</td>\n      <td>NaN</td>\n      <td>0.0</td>\n      <td>NaN</td>\n      <td>0.0</td>\n      <td>0.0</td>\n      <td>0</td>\n      <td>2020-02-27 20:17:18</td>\n      <td>The chocolate is soooooooooooo amazing.</td>\n    </tr>\n    <tr>\n      <th>...</th>\n      <td>...</td>\n      <td>...</td>\n      <td>...</td>\n      <td>...</td>\n      <td>...</td>\n      <td>...</td>\n      <td>...</td>\n      <td>...</td>\n      <td>...</td>\n      <td>...</td>\n    </tr>\n    <tr>\n      <th>13633429</th>\n      <td>492646759857152000</td>\n      <td>29552151</td>\n      <td>0</td>\n      <td>0</td>\n      <td>0</td>\n      <td>0</td>\n      <td>0</td>\n      <td>0</td>\n      <td>2019-07-27 12:25:15</td>\n      <td>@Cock_Penis Around 4 hopefully...Got to go to ...</td>\n    </tr>\n    <tr>\n      <th>13634576</th>\n      <td>479715963076874241</td>\n      <td>29552151</td>\n      <td>0</td>\n      <td>0</td>\n      <td>0</td>\n      <td>0</td>\n      <td>0</td>\n      <td>0</td>\n      <td>2019-06-21 20:02:52</td>\n      <td>I'd love to have white hair for real though.</td>\n    </tr>\n    <tr>\n      <th>13637349</th>\n      <td>562936922881159168</td>\n      <td>29552151</td>\n      <td>0</td>\n      <td>0</td>\n      <td>0</td>\n      <td>0</td>\n      <td>0</td>\n      <td>0</td>\n      <td>2020-02-06 11:33:15</td>\n      <td>Is there a way to wake up without feeling like...</td>\n    </tr>\n    <tr>\n      <th>13640124</th>\n      <td>481513416465854464</td>\n      <td>29552151</td>\n      <td>0</td>\n      <td>0</td>\n      <td>0</td>\n      <td>0</td>\n      <td>0</td>\n      <td>0</td>\n      <td>2019-06-26 19:05:19</td>\n      <td>...and my nails are obviously being painted bl...</td>\n    </tr>\n    <tr>\n      <th>13653170</th>\n      <td>480838207362572289</td>\n      <td>29552151</td>\n      <td>0</td>\n      <td>0</td>\n      <td>0</td>\n      <td>0</td>\n      <td>0</td>\n      <td>0</td>\n      <td>2019-06-24 22:22:16</td>\n      <td>Most of all, I have tattoos lined up.</td>\n    </tr>\n  </tbody>\n</table>\n<p>2378 rows × 10 columns</p>\n</div>"
     },
     "execution_count": 216,
     "metadata": {},
     "output_type": "execute_result"
    }
   ],
   "source": [
    "ids = df_users[np.logical_or(df_users['lang'] == 'Select Language...', df_users['lang'] == 'xx-lc')].id.values.astype(str)\n",
    "pd.set_option('display.max_rows',200)\n",
    "df_tweets[df_tweets['user_id'].isin(ids[2:])]"
   ]
  },
  {
   "cell_type": "code",
   "execution_count": 217,
   "metadata": {},
   "outputs": [],
   "source": [
    "df_users['lang'].replace({'Select Language...':'en','xx-lc':'en'}, inplace=True)"
   ]
  },
  {
   "cell_type": "code",
   "execution_count": 218,
   "metadata": {},
   "outputs": [
    {
     "data": {
      "text/plain": "en       9973\nit        906\nes        319\npt         65\nen-GB      54\nru         42\nfr         36\nja         33\nzh-TW      20\ntr         14\nid         12\nko          9\nde          8\nnl          6\nar          3\nda          2\nen-AU       1\nzh-cn       1\npl          1\nel          1\nfil         1\nsv          1\nName: lang, dtype: int64"
     },
     "execution_count": 218,
     "metadata": {},
     "output_type": "execute_result"
    }
   ],
   "source": [
    "df_users['lang'].value_counts()"
   ]
  },
  {
   "cell_type": "markdown",
   "metadata": {},
   "source": [
    "# Tweets csv cleaning\n",
    "\n",
    "## id\n",
    "In the id column there are only two missing values. Since the column is not meaningful for the analysis phase, the column is dropped.\n",
    "\n",
    "## user_id \n",
    "In the user_id column there are a lot of missing values, wrong values (non numerical ids) and 210778 user ids do not have any correspondance with users file. Nevertheless, these records have been kept because the other columns could be useful for future analyses.\n",
    "\n",
    "## retweet_count\n"
   ]
  },
  {
   "cell_type": "code",
   "execution_count": 219,
   "metadata": {},
   "outputs": [
    {
     "name": "stdout",
     "output_type": "stream",
     "text": [
      "<class 'pandas.core.frame.DataFrame'>\n",
      "Int64Index: 11712348 entries, 0 to 13664695\n",
      "Data columns (total 10 columns):\n",
      " #   Column          Non-Null Count     Dtype \n",
      "---  ------          --------------     ----- \n",
      " 0   id              11712346 non-null  object\n",
      " 1   user_id         11495314 non-null  object\n",
      " 2   retweet_count   11275326 non-null  object\n",
      " 3   reply_count     11064671 non-null  object\n",
      " 4   favorite_count  11064981 non-null  object\n",
      " 5   num_hashtags    10655073 non-null  object\n",
      " 6   num_urls        11063920 non-null  object\n",
      " 7   num_mentions    10858432 non-null  object\n",
      " 8   created_at      11712348 non-null  object\n",
      " 9   text            11182415 non-null  object\n",
      "dtypes: object(10)\n",
      "memory usage: 982.9+ MB\n"
     ]
    }
   ],
   "source": [
    "df_tweets_single.info(show_counts=True)"
   ]
  },
  {
   "cell_type": "code",
   "execution_count": 220,
   "metadata": {},
   "outputs": [],
   "source": [
    "df_tweets_single.drop(columns=['id'], inplace=True)"
   ]
  },
  {
   "cell_type": "markdown",
   "metadata": {},
   "source": [
    "Select records which have both user_id and text values which are null"
   ]
  },
  {
   "cell_type": "code",
   "execution_count": 221,
   "metadata": {},
   "outputs": [
    {
     "name": "stderr",
     "output_type": "stream",
     "text": [
      "C:\\Users\\Alessandro\\AppData\\Local\\Temp\\ipykernel_9516\\9677630.py:1: UserWarning: Boolean Series key will be reindexed to match DataFrame index.\n",
      "  df_tweets_single[np.logical_and(df_tweets['user_id'].isnull(), df_tweets['text'].isnull())].info()\n"
     ]
    },
    {
     "name": "stdout",
     "output_type": "stream",
     "text": [
      "<class 'pandas.core.frame.DataFrame'>\n",
      "Int64Index: 56118 entries, 42 to 13664257\n",
      "Data columns (total 9 columns):\n",
      " #   Column          Non-Null Count  Dtype \n",
      "---  ------          --------------  ----- \n",
      " 0   user_id         0 non-null      object\n",
      " 1   retweet_count   51567 non-null  object\n",
      " 2   reply_count     25737 non-null  object\n",
      " 3   favorite_count  50960 non-null  object\n",
      " 4   num_hashtags    392 non-null    object\n",
      " 5   num_urls        26107 non-null  object\n",
      " 6   num_mentions    466 non-null    object\n",
      " 7   created_at      56118 non-null  object\n",
      " 8   text            0 non-null      object\n",
      "dtypes: object(9)\n",
      "memory usage: 4.3+ MB\n"
     ]
    }
   ],
   "source": [
    "df_tweets_single[np.logical_and(df_tweets['user_id'].isnull(), df_tweets['text'].isnull())].info()"
   ]
  },
  {
   "cell_type": "markdown",
   "metadata": {},
   "source": [
    "Merge users table with tweets table by user_id"
   ]
  },
  {
   "cell_type": "code",
   "execution_count": 222,
   "metadata": {},
   "outputs": [],
   "source": [
    "df_users.id = df_users.id.astype(str)\n",
    "merged = df_tweets_single.merge(df_users, left_on='user_id', right_on='id', how='left')\n"
   ]
  },
  {
   "cell_type": "code",
   "execution_count": 223,
   "metadata": {},
   "outputs": [
    {
     "data": {
      "text/plain": "(11712348, 9)"
     },
     "execution_count": 223,
     "metadata": {},
     "output_type": "execute_result"
    }
   ],
   "source": [
    "df_tweets_single.shape"
   ]
  },
  {
   "cell_type": "code",
   "execution_count": 224,
   "metadata": {},
   "outputs": [
    {
     "data": {
      "text/plain": "(11712348, 16)"
     },
     "execution_count": 224,
     "metadata": {},
     "output_type": "execute_result"
    }
   ],
   "source": [
    "merged.shape"
   ]
  },
  {
   "cell_type": "markdown",
   "metadata": {},
   "source": [
    "Number of `user_id` that have no correspondance in users file."
   ]
  },
  {
   "cell_type": "code",
   "execution_count": 225,
   "metadata": {},
   "outputs": [
    {
     "data": {
      "text/plain": "210778"
     },
     "execution_count": 225,
     "metadata": {},
     "output_type": "execute_result"
    }
   ],
   "source": [
    "len(merged[merged['id'].isnull()].user_id.unique())"
   ]
  },
  {
   "cell_type": "markdown",
   "metadata": {},
   "source": [
    "## Clean retweet_counts column"
   ]
  },
  {
   "cell_type": "markdown",
   "metadata": {},
   "source": [
    "Cast retweet_count values in a new column to float (there are number to big for int) and set to -1.0 when there is a value which is not a number or an uncastable value (e.g. string)"
   ]
  },
  {
   "cell_type": "code",
   "execution_count": 226,
   "metadata": {},
   "outputs": [],
   "source": [
    "def to_float(x):\n",
    "    try:\n",
    "        x=float(x)\n",
    "        if(np.isnan(x)):\n",
    "            return float(-1)\n",
    "        else:\n",
    "            return x\n",
    "    except:\n",
    "        return float(-1)"
   ]
  },
  {
   "cell_type": "markdown",
   "metadata": {},
   "source": [
    "Plot an histogram w.r.t. a single attribute passed as parameter."
   ]
  },
  {
   "cell_type": "code",
   "execution_count": 227,
   "metadata": {},
   "outputs": [],
   "source": [
    "def plot_hist_log(dataframe, attribute_name):\n",
    "    attr_log = pd.DataFrame()\n",
    "    attr_log[attribute_name + '_log'] = np.log(dataframe[attribute_name].values)\n",
    "    attr_log[attribute_name + '_log'] = attr_log[attribute_name + '_log'].replace(-np.inf, 0)\n",
    "    \n",
    "    n_bins = math.ceil(np.log2(len(attr_log[attribute_name + '_log'])) + 1) #Sturges' rule\n",
    "    attr_log.hist(attribute_name + '_log', bins = n_bins, log=True)"
   ]
  },
  {
   "cell_type": "code",
   "execution_count": 228,
   "metadata": {},
   "outputs": [],
   "source": [
    "df_tweets_single['retweet_count_conv'] = df_tweets_single.retweet_count.apply(to_float)"
   ]
  },
  {
   "cell_type": "code",
   "execution_count": 229,
   "metadata": {},
   "outputs": [
    {
     "name": "stdout",
     "output_type": "stream",
     "text": [
      "<class 'pandas.core.frame.DataFrame'>\n",
      "Int64Index: 11712348 entries, 0 to 13664695\n",
      "Data columns (total 10 columns):\n",
      " #   Column              Dtype  \n",
      "---  ------              -----  \n",
      " 0   user_id             object \n",
      " 1   retweet_count       object \n",
      " 2   reply_count         object \n",
      " 3   favorite_count      object \n",
      " 4   num_hashtags        object \n",
      " 5   num_urls            object \n",
      " 6   num_mentions        object \n",
      " 7   created_at          object \n",
      " 8   text                object \n",
      " 9   retweet_count_conv  float64\n",
      "dtypes: float64(1), object(9)\n",
      "memory usage: 982.9+ MB\n"
     ]
    }
   ],
   "source": [
    "df_tweets_single.info()"
   ]
  },
  {
   "cell_type": "code",
   "execution_count": 230,
   "metadata": {},
   "outputs": [
    {
     "data": {
      "text/plain": "<Figure size 640x480 with 1 Axes>",
      "image/png": "[encoded data removed]"
     },
     "metadata": {},
     "output_type": "display_data"
    }
   ],
   "source": [
    "plt.boxplot(df_tweets_single[df_tweets_single['retweet_count_conv'] != -1.0].retweet_count_conv,showmeans=True)\n",
    "plt.yscale('log')\n",
    "plt.show()"
   ]
  },
  {
   "cell_type": "markdown",
   "metadata": {},
   "source": [
    "We have noticed a lot of huge values in the `retweet_count_conv` **(RCC)** column. By analysing statistics of real tweets on the web, we have decide to perform further analysis on records having a RCC value lower than 1e7 (https://en.wikipedia.org/wiki/List_of_most-retweeted_tweets)"
   ]
  },
  {
   "cell_type": "code",
   "execution_count": 231,
   "metadata": {},
   "outputs": [],
   "source": [
    "droppe = df_tweets_single[np.logical_and(df_tweets_single['retweet_count_conv'] != -1.0, df_tweets_single['retweet_count_conv'] < 1e7)]"
   ]
  },
  {
   "cell_type": "code",
   "execution_count": 232,
   "metadata": {},
   "outputs": [
    {
     "data": {
      "text/plain": "<Figure size 640x480 with 1 Axes>",
      "image/png": "[encoded data removed]"
     },
     "metadata": {},
     "output_type": "display_data"
    }
   ],
   "source": [
    "plt.boxplot(droppe.retweet_count_conv,showmeans=True)\n",
    "plt.yscale('log')\n",
    "plt.show()"
   ]
  },
  {
   "cell_type": "markdown",
   "metadata": {},
   "source": [
    "The boxplot is not informative, so we investigate this field by means of an histogram."
   ]
  },
  {
   "cell_type": "code",
   "execution_count": 233,
   "metadata": {},
   "outputs": [
    {
     "name": "stderr",
     "output_type": "stream",
     "text": [
      "C:\\Users\\Alessandro\\AppData\\Local\\Temp\\ipykernel_9516\\2640229493.py:3: RuntimeWarning: divide by zero encountered in log\n",
      "  attr_log[attribute_name + '_log'] = np.log(dataframe[attribute_name].values)\n"
     ]
    },
    {
     "data": {
      "text/plain": "<Figure size 640x480 with 1 Axes>",
      "image/png": "[encoded data removed]"
     },
     "metadata": {},
     "output_type": "display_data"
    }
   ],
   "source": [
    "plot_hist_log(droppe, 'retweet_count_conv')"
   ]
  },
  {
   "cell_type": "code",
   "execution_count": 234,
   "metadata": {},
   "outputs": [
    {
     "name": "stdout",
     "output_type": "stream",
     "text": [
      "mean: 580.7886859027697\n",
      "median: 0.0\n"
     ]
    }
   ],
   "source": [
    "rtc_mean = np.mean(droppe.retweet_count_conv.values)\n",
    "rtc_median = np.median(droppe.retweet_count_conv.values)\n",
    "print(\"mean: \" + str(rtc_mean))\n",
    "print(\"median: \" + str(rtc_median))"
   ]
  },
  {
   "cell_type": "markdown",
   "metadata": {},
   "source": [
    "As it is possible to see the distribution is positively skewed. Considering the statistical indicators, it is clear that the mean is too much influenced by outliers so the median has been taken in account."
   ]
  },
  {
   "cell_type": "code",
   "execution_count": 235,
   "metadata": {},
   "outputs": [
    {
     "name": "stdout",
     "output_type": "stream",
     "text": [
      "<class 'pandas.core.frame.DataFrame'>\n",
      "Int64Index: 11712348 entries, 0 to 13664695\n",
      "Data columns (total 11 columns):\n",
      " #   Column                  Dtype  \n",
      "---  ------                  -----  \n",
      " 0   user_id                 object \n",
      " 1   retweet_count           object \n",
      " 2   reply_count             object \n",
      " 3   favorite_count          object \n",
      " 4   num_hashtags            object \n",
      " 5   num_urls                object \n",
      " 6   num_mentions            object \n",
      " 7   created_at              object \n",
      " 8   text                    object \n",
      " 9   retweet_count_conv      float64\n",
      " 10  retweet_count_replaced  float64\n",
      "dtypes: float64(2), object(9)\n",
      "memory usage: 1.0+ GB\n"
     ]
    }
   ],
   "source": [
    "df_tweets_single['retweet_count_replaced'] = df_tweets_single['retweet_count_conv'].replace({-1.0: rtc_median})\n",
    "df_tweets_single.info()\n",
    "#df_appoggio[df_appoggio['retweet_count_conv'] < 0].value_counts()"
   ]
  },
  {
   "cell_type": "code",
   "execution_count": 236,
   "metadata": {},
   "outputs": [],
   "source": [
    "df_tweets_single.drop(columns = ['retweet_count_conv'], inplace=True)"
   ]
  },
  {
   "cell_type": "code",
   "execution_count": 237,
   "metadata": {},
   "outputs": [
    {
     "data": {
      "text/plain": "<AxesSubplot:>"
     },
     "execution_count": 237,
     "metadata": {},
     "output_type": "execute_result"
    },
    {
     "data": {
      "text/plain": "<Figure size 640x480 with 1 Axes>",
      "image/png": "[encoded data removed]"
     },
     "metadata": {},
     "output_type": "display_data"
    }
   ],
   "source": [
    "df_tweets_single.boxplot('retweet_count_replaced', showmeans=True)"
   ]
  },
  {
   "cell_type": "code",
   "execution_count": 238,
   "metadata": {},
   "outputs": [
    {
     "data": {
      "text/plain": "<AxesSubplot:>"
     },
     "execution_count": 238,
     "metadata": {},
     "output_type": "execute_result"
    },
    {
     "data": {
      "text/plain": "<Figure size 640x480 with 1 Axes>",
      "image/png": "[encoded data removed]"
     },
     "metadata": {},
     "output_type": "display_data"
    }
   ],
   "source": [
    "df_tweets_single[df_tweets_single['retweet_count_replaced'] < 1e10].boxplot('retweet_count_replaced', showmeans=True)"
   ]
  },
  {
   "cell_type": "code",
   "execution_count": 239,
   "metadata": {},
   "outputs": [
    {
     "data": {
      "text/plain": "<AxesSubplot:>"
     },
     "execution_count": 239,
     "metadata": {},
     "output_type": "execute_result"
    },
    {
     "data": {
      "text/plain": "<Figure size 640x480 with 1 Axes>",
      "image/png": "[encoded data removed]"
     },
     "metadata": {},
     "output_type": "display_data"
    }
   ],
   "source": [
    "df_tweets_single[df_tweets_single['retweet_count_replaced'] < 1e6].boxplot('retweet_count_replaced', showmeans=True)"
   ]
  },
  {
   "cell_type": "code",
   "execution_count": 240,
   "metadata": {},
   "outputs": [
    {
     "data": {
      "text/plain": "       user_id  retweet_count_replaced reply_count favorite_count  bot  \\\n0    910519015            9.060000e+61         0.0            NaN  0.0   \n1   2374871490           2.000000e+134         0.0            0.0  1.0   \n2    376588311            8.600000e+43        m44g            2.0  0.0   \n3    225618739            1.000000e+76         0.0            NaN  0.0   \n4    465392182            7.000000e+84         0.0            0.0  1.0   \n5    183247631            3.400000e+31         0.0            0.0  0.0   \n6    521358579                     inf         NaN            0.0  1.0   \n7    274285556            6.500000e+10         0.0            0.0  0.0   \n8    251633570            6.000000e+77         0.0            0.0  0.0   \n9    294996484            7.000000e+61         0.0            0.0  0.0   \n10   711506862            7.600000e+12         0.0            0.0  1.0   \n11  2276634303                     inf         0.0            0.0  0.0   \n12   413655972                     inf         0.0            0.0  0.0   \n13  2498346724                     inf         0.0            NaN  0.0   \n14   392963387            4.000000e+65         0.0            0.0  0.0   \n15   201350011                     inf         NaN            NaN  1.0   \n16   108992875            3.200000e+10         0.0            NaN  1.0   \n17  e2cmhj4wyg                     inf         NaN           33.0  NaN   \n18  2359388502            7.000000e+71         0.0            0.0  0.0   \n\n           created_at_x         created_at_y  \\\n0   2019-03-30 22:05:10  2017-10-30 15:19:12   \n1   2019-07-06 10:54:48  2019-03-08 05:36:34   \n2   2019-08-01 10:21:16  2016-09-21 04:30:51   \n3   2020-01-19 06:49:11  2015-12-14 01:21:28   \n4   2019-11-03 22:29:44  2017-01-17 09:08:19   \n5   2020-01-16 16:36:11  2015-08-28 14:50:22   \n6   2019-10-05 03:46:47  2017-03-13 14:18:57   \n7   2019-05-15 03:52:11  2016-03-31 02:24:19   \n8   2020-04-07 06:38:50  2016-02-15 14:59:58   \n9   2020-03-20 02:55:50  2016-05-09 05:17:53   \n10  2019-10-01 23:30:40  2017-07-25 00:29:28   \n11  2020-04-15 04:51:01  2019-01-14 11:04:12   \n12  2019-04-17 03:43:32  2016-11-17 03:40:52   \n13  2019-07-03 18:33:42  2019-04-22 23:22:13   \n14  2020-03-02 05:31:18  2016-10-18 20:34:02   \n15  2018-05-05 15:15:05  2015-10-13 17:14:18   \n16  2019-06-24 02:10:12  2015-01-29 16:51:00   \n17  2018-10-29 16:35:30                  NaN   \n18  2020-04-12 11:31:44  2019-02-26 11:56:56   \n\n                                                 text  statuses_count  \n0   Giant Fremontadendron califirnica, Flannel Bus...          1952.0  \n1                                                 NaN            44.0  \n2                                          SAKE BOMB           2203.0  \n3                              @kylokrel not if ur me          8643.0  \n4   La mamma Ã¨ quella che ti insegna a pregare--P...            78.0  \n5   I could keep babbling but I'm pretty sure I ra...          7089.0  \n6                                                 NaN         11462.0  \n7   @LeviGatorfan is my #mcm. He makes every day s...          4477.0  \n8   RT @AlexDijkstra_: @tapijtlegger @MDMAbleToShi...         67875.0  \n9                                                 NaN          3233.0  \n10                                    Dis Be Da Place          9349.0  \n11         RT @_RJohnson22_: A Massage Is Well Needed         41214.0  \n12  RT @BasebaIlDreams: \"She knows exactly what sh...          8396.0  \n13                                   Cmon Switzerland          2796.0  \n14  @tiamojai he's actually sweet as pie to his bm...         46335.0  \n15  @EnlajugadaRCN @casaleantonio @jorgebermudezh ...           224.0  \n16  Domani, anzi tra poche ore mareeeee #buonanott...          9551.0  \n17                                                NaN             NaN  \n18              TBH THE ONLY DRAMA WITH A GOOD ENDING         10308.0  ",
      "text/html": "<div>\n<style scoped>\n    .dataframe tbody tr th:only-of-type {\n        vertical-align: middle;\n    }\n\n    .dataframe tbody tr th {\n        vertical-align: top;\n    }\n\n    .dataframe thead th {\n        text-align: right;\n    }\n</style>\n<table border=\"1\" class=\"dataframe\">\n  <thead>\n    <tr style=\"text-align: right;\">\n      <th></th>\n      <th>user_id</th>\n      <th>retweet_count_replaced</th>\n      <th>reply_count</th>\n      <th>favorite_count</th>\n      <th>bot</th>\n      <th>created_at_x</th>\n      <th>created_at_y</th>\n      <th>text</th>\n      <th>statuses_count</th>\n    </tr>\n  </thead>\n  <tbody>\n    <tr>\n      <th>0</th>\n      <td>910519015</td>\n      <td>9.060000e+61</td>\n      <td>0.0</td>\n      <td>NaN</td>\n      <td>0.0</td>\n      <td>2019-03-30 22:05:10</td>\n      <td>2017-10-30 15:19:12</td>\n      <td>Giant Fremontadendron califirnica, Flannel Bus...</td>\n      <td>1952.0</td>\n    </tr>\n    <tr>\n      <th>1</th>\n      <td>2374871490</td>\n      <td>2.000000e+134</td>\n      <td>0.0</td>\n      <td>0.0</td>\n      <td>1.0</td>\n      <td>2019-07-06 10:54:48</td>\n      <td>2019-03-08 05:36:34</td>\n      <td>NaN</td>\n      <td>44.0</td>\n    </tr>\n    <tr>\n      <th>2</th>\n      <td>376588311</td>\n      <td>8.600000e+43</td>\n      <td>m44g</td>\n      <td>2.0</td>\n      <td>0.0</td>\n      <td>2019-08-01 10:21:16</td>\n      <td>2016-09-21 04:30:51</td>\n      <td>SAKE BOMB</td>\n      <td>2203.0</td>\n    </tr>\n    <tr>\n      <th>3</th>\n      <td>225618739</td>\n      <td>1.000000e+76</td>\n      <td>0.0</td>\n      <td>NaN</td>\n      <td>0.0</td>\n      <td>2020-01-19 06:49:11</td>\n      <td>2015-12-14 01:21:28</td>\n      <td>@kylokrel not if ur me</td>\n      <td>8643.0</td>\n    </tr>\n    <tr>\n      <th>4</th>\n      <td>465392182</td>\n      <td>7.000000e+84</td>\n      <td>0.0</td>\n      <td>0.0</td>\n      <td>1.0</td>\n      <td>2019-11-03 22:29:44</td>\n      <td>2017-01-17 09:08:19</td>\n      <td>La mamma Ã¨ quella che ti insegna a pregare--P...</td>\n      <td>78.0</td>\n    </tr>\n    <tr>\n      <th>5</th>\n      <td>183247631</td>\n      <td>3.400000e+31</td>\n      <td>0.0</td>\n      <td>0.0</td>\n      <td>0.0</td>\n      <td>2020-01-16 16:36:11</td>\n      <td>2015-08-28 14:50:22</td>\n      <td>I could keep babbling but I'm pretty sure I ra...</td>\n      <td>7089.0</td>\n    </tr>\n    <tr>\n      <th>6</th>\n      <td>521358579</td>\n      <td>inf</td>\n      <td>NaN</td>\n      <td>0.0</td>\n      <td>1.0</td>\n      <td>2019-10-05 03:46:47</td>\n      <td>2017-03-13 14:18:57</td>\n      <td>NaN</td>\n      <td>11462.0</td>\n    </tr>\n    <tr>\n      <th>7</th>\n      <td>274285556</td>\n      <td>6.500000e+10</td>\n      <td>0.0</td>\n      <td>0.0</td>\n      <td>0.0</td>\n      <td>2019-05-15 03:52:11</td>\n      <td>2016-03-31 02:24:19</td>\n      <td>@LeviGatorfan is my #mcm. He makes every day s...</td>\n      <td>4477.0</td>\n    </tr>\n    <tr>\n      <th>8</th>\n      <td>251633570</td>\n      <td>6.000000e+77</td>\n      <td>0.0</td>\n      <td>0.0</td>\n      <td>0.0</td>\n      <td>2020-04-07 06:38:50</td>\n      <td>2016-02-15 14:59:58</td>\n      <td>RT @AlexDijkstra_: @tapijtlegger @MDMAbleToShi...</td>\n      <td>67875.0</td>\n    </tr>\n    <tr>\n      <th>9</th>\n      <td>294996484</td>\n      <td>7.000000e+61</td>\n      <td>0.0</td>\n      <td>0.0</td>\n      <td>0.0</td>\n      <td>2020-03-20 02:55:50</td>\n      <td>2016-05-09 05:17:53</td>\n      <td>NaN</td>\n      <td>3233.0</td>\n    </tr>\n    <tr>\n      <th>10</th>\n      <td>711506862</td>\n      <td>7.600000e+12</td>\n      <td>0.0</td>\n      <td>0.0</td>\n      <td>1.0</td>\n      <td>2019-10-01 23:30:40</td>\n      <td>2017-07-25 00:29:28</td>\n      <td>Dis Be Da Place</td>\n      <td>9349.0</td>\n    </tr>\n    <tr>\n      <th>11</th>\n      <td>2276634303</td>\n      <td>inf</td>\n      <td>0.0</td>\n      <td>0.0</td>\n      <td>0.0</td>\n      <td>2020-04-15 04:51:01</td>\n      <td>2019-01-14 11:04:12</td>\n      <td>RT @_RJohnson22_: A Massage Is Well Needed</td>\n      <td>41214.0</td>\n    </tr>\n    <tr>\n      <th>12</th>\n      <td>413655972</td>\n      <td>inf</td>\n      <td>0.0</td>\n      <td>0.0</td>\n      <td>0.0</td>\n      <td>2019-04-17 03:43:32</td>\n      <td>2016-11-17 03:40:52</td>\n      <td>RT @BasebaIlDreams: \"She knows exactly what sh...</td>\n      <td>8396.0</td>\n    </tr>\n    <tr>\n      <th>13</th>\n      <td>2498346724</td>\n      <td>inf</td>\n      <td>0.0</td>\n      <td>NaN</td>\n      <td>0.0</td>\n      <td>2019-07-03 18:33:42</td>\n      <td>2019-04-22 23:22:13</td>\n      <td>Cmon Switzerland</td>\n      <td>2796.0</td>\n    </tr>\n    <tr>\n      <th>14</th>\n      <td>392963387</td>\n      <td>4.000000e+65</td>\n      <td>0.0</td>\n      <td>0.0</td>\n      <td>0.0</td>\n      <td>2020-03-02 05:31:18</td>\n      <td>2016-10-18 20:34:02</td>\n      <td>@tiamojai he's actually sweet as pie to his bm...</td>\n      <td>46335.0</td>\n    </tr>\n    <tr>\n      <th>15</th>\n      <td>201350011</td>\n      <td>inf</td>\n      <td>NaN</td>\n      <td>NaN</td>\n      <td>1.0</td>\n      <td>2018-05-05 15:15:05</td>\n      <td>2015-10-13 17:14:18</td>\n      <td>@EnlajugadaRCN @casaleantonio @jorgebermudezh ...</td>\n      <td>224.0</td>\n    </tr>\n    <tr>\n      <th>16</th>\n      <td>108992875</td>\n      <td>3.200000e+10</td>\n      <td>0.0</td>\n      <td>NaN</td>\n      <td>1.0</td>\n      <td>2019-06-24 02:10:12</td>\n      <td>2015-01-29 16:51:00</td>\n      <td>Domani, anzi tra poche ore mareeeee #buonanott...</td>\n      <td>9551.0</td>\n    </tr>\n    <tr>\n      <th>17</th>\n      <td>e2cmhj4wyg</td>\n      <td>inf</td>\n      <td>NaN</td>\n      <td>33.0</td>\n      <td>NaN</td>\n      <td>2018-10-29 16:35:30</td>\n      <td>NaN</td>\n      <td>NaN</td>\n      <td>NaN</td>\n    </tr>\n    <tr>\n      <th>18</th>\n      <td>2359388502</td>\n      <td>7.000000e+71</td>\n      <td>0.0</td>\n      <td>0.0</td>\n      <td>0.0</td>\n      <td>2020-04-12 11:31:44</td>\n      <td>2019-02-26 11:56:56</td>\n      <td>TBH THE ONLY DRAMA WITH A GOOD ENDING</td>\n      <td>10308.0</td>\n    </tr>\n  </tbody>\n</table>\n</div>"
     },
     "execution_count": 240,
     "metadata": {},
     "output_type": "execute_result"
    }
   ],
   "source": [
    "merged = df_tweets_single[df_tweets_single['retweet_count_replaced'] > 1e10].merge(df_users, left_on='user_id', right_on='id', how='left')\n",
    "merged[['user_id', 'retweet_count_replaced', 'reply_count', 'favorite_count', 'bot', 'created_at_x', 'created_at_y', 'text', 'statuses_count']]"
   ]
  },
  {
   "cell_type": "code",
   "execution_count": 241,
   "metadata": {},
   "outputs": [],
   "source": [
    "df_tweets_single.drop(columns=['retweet_count'], inplace=True)"
   ]
  },
  {
   "cell_type": "markdown",
   "metadata": {},
   "source": [
    "Now we have `retweet_count_replaced` with all numeric values. We have many values that seems to be \"noise\" but before replacing them we want to explore the correlation with other attributes related to the tweet popularity which are  `reply_count` and `favourite_count`. So this task is postponed. Instead for the missing values (-1) we have checked if the same user has other tweets in the dataset to extract statistics from them. If there are not other tweets or there are only tweets with missing values the median is set as default.\n",
    "# TODO mettere insieme il casting e la conversione dopo"
   ]
  },
  {
   "cell_type": "markdown",
   "metadata": {},
   "source": [
    "# Clean strings in reply count"
   ]
  },
  {
   "cell_type": "code",
   "execution_count": 242,
   "metadata": {},
   "outputs": [],
   "source": [
    "df_tweets_single['reply_count_conv'] = df_tweets_single.reply_count.apply(to_float)"
   ]
  },
  {
   "cell_type": "code",
   "execution_count": 243,
   "metadata": {},
   "outputs": [
    {
     "name": "stdout",
     "output_type": "stream",
     "text": [
      "mean: inf\n",
      "median: 0.0\n"
     ]
    }
   ],
   "source": [
    "mean_reply_count = df_tweets_single.reply_count_conv.mean()\n",
    "median_reply_count = df_tweets_single.reply_count_conv.median()\n",
    "print(\"mean: \" + str(mean_reply_count))\n",
    "print(\"median: \" + str(median_reply_count))"
   ]
  },
  {
   "cell_type": "code",
   "execution_count": 244,
   "metadata": {},
   "outputs": [
    {
     "name": "stdout",
     "output_type": "stream",
     "text": [
      "mean: 4170.42772079839\n",
      "median: 0.0\n"
     ]
    }
   ],
   "source": [
    "mean_reply_count = df_tweets_single[df_tweets_single['reply_count_conv'] < 1e10].reply_count_conv.mean()\n",
    "median_reply_count = df_tweets_single[df_tweets_single['reply_count_conv'] < 1e10].reply_count_conv.median()\n",
    "print(\"mean: \" + str(mean_reply_count))\n",
    "print(\"median: \" + str(median_reply_count))"
   ]
  },
  {
   "cell_type": "code",
   "execution_count": 245,
   "metadata": {},
   "outputs": [
    {
     "data": {
      "text/plain": "1.0"
     },
     "execution_count": 245,
     "metadata": {},
     "output_type": "execute_result"
    }
   ],
   "source": [
    "df_tweets_single.reply_count_conv.quantile(0.999)"
   ]
  },
  {
   "cell_type": "code",
   "execution_count": 246,
   "metadata": {},
   "outputs": [
    {
     "name": "stderr",
     "output_type": "stream",
     "text": [
      "C:\\Users\\Alessandro\\AppData\\Local\\Temp\\ipykernel_9516\\2640229493.py:3: RuntimeWarning: divide by zero encountered in log\n",
      "  attr_log[attribute_name + '_log'] = np.log(dataframe[attribute_name].values)\n",
      "C:\\Users\\Alessandro\\AppData\\Local\\Temp\\ipykernel_9516\\2640229493.py:3: RuntimeWarning: invalid value encountered in log\n",
      "  attr_log[attribute_name + '_log'] = np.log(dataframe[attribute_name].values)\n"
     ]
    },
    {
     "data": {
      "text/plain": "<Figure size 640x480 with 1 Axes>",
      "image/png": "[encoded data removed]"
     },
     "metadata": {},
     "output_type": "display_data"
    }
   ],
   "source": [
    "plot_hist_log(df_tweets_single[df_tweets_single['reply_count_conv'] < 1e10], 'reply_count_conv')"
   ]
  },
  {
   "cell_type": "code",
   "execution_count": 247,
   "metadata": {},
   "outputs": [
    {
     "data": {
      "text/plain": "             user_id reply_count favorite_count num_hashtags  num_urls  \\\n782602     270654915       3e716            0.0          NaN       0.0   \n1458335     22652455        8e83            0.0          0.0     d7rn8   \n1672397    466325799       2e110            0.0          0.0       0.0   \n1793123    467152720        2e69            NaN          NaN       NaN   \n2279227   1273199486        9e96            0.0          0.0       NaN   \n2390169     32688131        5e18            0.0          1.0       0.0   \n2916537    466457473       41e31            0.0          NaN       0.0   \n2997639    216305430     7e46808           tl6c          0.0       0.0   \n3575821    466377491         inf            1.0          0.0       NaN   \n3884170   1e47ulvrip        79e9            0.0          0.0       1.0   \n5263563   1065256472       981e8         s50gor          1.0       0.0   \n5512715    109577056        5e76            0.0          0.0       0.0   \n6128429         f66p        6e85            0.0          0.0       0.0   \n6745713    345964231        6e64            0.0          0.0       0.0   \n7171035    541515522       7e340            0.0          NaN       0.0   \n7887560   2257463006        7e52            0.0          0.0  zdcn8w8k   \n8098093   2367763387        1e18            NaN          NaN       NaN   \n8928156    539138964       24e36            NaN          0.0       0.0   \n9005428    466394269        9e13            1.0          0.0       0.0   \n9624531    522715107       62e62            q9m          0.0       1.0   \n10543201    50034798      432e82            0.0          hqf       1.0   \n11221854   512405444      919e76            0.0          0.0       NaN   \n11929320   614211803        5e33            NaN          NaN       NaN   \n\n         num_mentions           created_at  \\\n782602              0  2020-05-01 16:01:42   \n1458335             0  2019-04-03 18:30:07   \n1672397             0  2019-05-19 07:08:56   \n1793123           NaN  2019-07-27 10:56:32   \n2279227             0  2019-08-05 14:12:52   \n2390169           e9c  2020-04-03 14:00:14   \n2916537             0  2019-10-31 22:12:04   \n2997639             0  2019-03-05 06:19:32   \n3575821             0  2019-08-29 13:04:45   \n3884170             0  2019-10-04 17:38:02   \n5263563             0  2020-04-16 13:33:31   \n5512715             0  2020-04-15 09:09:14   \n6128429             2  2020-03-15 19:16:10   \n6745713             2  2020-03-27 19:35:46   \n7171035             0  2019-03-22 08:05:03   \n7887560             0  2019-10-19 16:25:00   \n8098093           NaN  2019-03-31 11:53:27   \n8928156             0  2019-08-16 20:47:43   \n9005428             0  2019-11-03 08:08:41   \n9624531             0  2019-10-23 22:38:17   \n10543201            0  2019-04-28 00:07:00   \n11221854            0  2019-10-19 20:56:11   \n11929320          NaN  2019-11-01 17:17:13   \n\n                                                       text  \\\n782602    Nine times out of ten, niggas don't pay attention   \n1458335                          no more data risin n shit.   \n1672397   \"Stimare tutti Ã¨ lo stesso che non stimare ne...   \n1793123   \"sono tempi davvero duri: serve sangue freddo ...   \n2279227   A letto, dopo aver fatto l'amore: Lei:Ehi ma c...   \n2390169   RT @datnigga_DonteD: Black men dont cheat....n...   \n2916537   \"Allarme povertÃ , dati della banca d'Italia, ...   \n2997639                              Lupita \"moño\" Nyong'o.   \n3575821   Prima di andare via sorridi un po' ma comunque...   \n3884170   Great Music from this Bose Blue Tooth system -...   \n5263563   So Shocking to hear that a schoolmate of mine ...   \n5512715             Happy Romance Day to all :) ;) :p &lt;3   \n6128429   RT @Jacobfrnch: @dylannicholson_ happy bday ba...   \n6745713   @juveennio @LKM_juve That's why I said recentl...   \n7171035   Sometimes you have to stop thinking so much, a...   \n7887560                   L'empatia non andava legalizzata.   \n8098093   \"Everything comes to him who hustles while he ...   \n8928156   -Cosa ti rende felice? -Le persone con le qual...   \n9005428   I grandi dubbi!! Ma in prossimita' delle isole...   \n9624531   Learn About Careers with a Creative Writing De...   \n10543201  She couldn't get left out. http://t.co/KWqytxAkCd   \n11221854  Learn About Facebook-Top Tips for Business Suc...   \n11929320  \"Non Ã¨ mai stato rovesciato un idolo, se non ...   \n\n          retweet_count_replaced  reply_count_conv  \n782602                       0.0               inf  \n1458335                      0.0      8.000000e+83  \n1672397                      0.0     2.000000e+110  \n1793123                      0.0      2.000000e+69  \n2279227                      0.0      9.000000e+96  \n2390169                      4.0      5.000000e+18  \n2916537                      0.0      4.100000e+32  \n2997639                      0.0               inf  \n3575821                      0.0               inf  \n3884170                      0.0      7.900000e+10  \n5263563                      0.0      9.810000e+10  \n5512715                      0.0      5.000000e+76  \n6128429                      1.0      6.000000e+85  \n6745713                      0.0      6.000000e+64  \n7171035                      0.0               inf  \n7887560                      0.0      7.000000e+52  \n8098093                      0.0      1.000000e+18  \n8928156                      4.0      2.400000e+37  \n9005428                      0.0      9.000000e+13  \n9624531                      0.0      6.200000e+63  \n10543201                     0.0      4.320000e+84  \n11221854                     0.0      9.190000e+78  \n11929320                     0.0      5.000000e+33  ",
      "text/html": "<div>\n<style scoped>\n    .dataframe tbody tr th:only-of-type {\n        vertical-align: middle;\n    }\n\n    .dataframe tbody tr th {\n        vertical-align: top;\n    }\n\n    .dataframe thead th {\n        text-align: right;\n    }\n</style>\n<table border=\"1\" class=\"dataframe\">\n  <thead>\n    <tr style=\"text-align: right;\">\n      <th></th>\n      <th>user_id</th>\n      <th>reply_count</th>\n      <th>favorite_count</th>\n      <th>num_hashtags</th>\n      <th>num_urls</th>\n      <th>num_mentions</th>\n      <th>created_at</th>\n      <th>text</th>\n      <th>retweet_count_replaced</th>\n      <th>reply_count_conv</th>\n    </tr>\n  </thead>\n  <tbody>\n    <tr>\n      <th>782602</th>\n      <td>270654915</td>\n      <td>3e716</td>\n      <td>0.0</td>\n      <td>NaN</td>\n      <td>0.0</td>\n      <td>0</td>\n      <td>2020-05-01 16:01:42</td>\n      <td>Nine times out of ten, niggas don't pay attention</td>\n      <td>0.0</td>\n      <td>inf</td>\n    </tr>\n    <tr>\n      <th>1458335</th>\n      <td>22652455</td>\n      <td>8e83</td>\n      <td>0.0</td>\n      <td>0.0</td>\n      <td>d7rn8</td>\n      <td>0</td>\n      <td>2019-04-03 18:30:07</td>\n      <td>no more data risin n shit.</td>\n      <td>0.0</td>\n      <td>8.000000e+83</td>\n    </tr>\n    <tr>\n      <th>1672397</th>\n      <td>466325799</td>\n      <td>2e110</td>\n      <td>0.0</td>\n      <td>0.0</td>\n      <td>0.0</td>\n      <td>0</td>\n      <td>2019-05-19 07:08:56</td>\n      <td>\"Stimare tutti Ã¨ lo stesso che non stimare ne...</td>\n      <td>0.0</td>\n      <td>2.000000e+110</td>\n    </tr>\n    <tr>\n      <th>1793123</th>\n      <td>467152720</td>\n      <td>2e69</td>\n      <td>NaN</td>\n      <td>NaN</td>\n      <td>NaN</td>\n      <td>NaN</td>\n      <td>2019-07-27 10:56:32</td>\n      <td>\"sono tempi davvero duri: serve sangue freddo ...</td>\n      <td>0.0</td>\n      <td>2.000000e+69</td>\n    </tr>\n    <tr>\n      <th>2279227</th>\n      <td>1273199486</td>\n      <td>9e96</td>\n      <td>0.0</td>\n      <td>0.0</td>\n      <td>NaN</td>\n      <td>0</td>\n      <td>2019-08-05 14:12:52</td>\n      <td>A letto, dopo aver fatto l'amore: Lei:Ehi ma c...</td>\n      <td>0.0</td>\n      <td>9.000000e+96</td>\n    </tr>\n    <tr>\n      <th>2390169</th>\n      <td>32688131</td>\n      <td>5e18</td>\n      <td>0.0</td>\n      <td>1.0</td>\n      <td>0.0</td>\n      <td>e9c</td>\n      <td>2020-04-03 14:00:14</td>\n      <td>RT @datnigga_DonteD: Black men dont cheat....n...</td>\n      <td>4.0</td>\n      <td>5.000000e+18</td>\n    </tr>\n    <tr>\n      <th>2916537</th>\n      <td>466457473</td>\n      <td>41e31</td>\n      <td>0.0</td>\n      <td>NaN</td>\n      <td>0.0</td>\n      <td>0</td>\n      <td>2019-10-31 22:12:04</td>\n      <td>\"Allarme povertÃ , dati della banca d'Italia, ...</td>\n      <td>0.0</td>\n      <td>4.100000e+32</td>\n    </tr>\n    <tr>\n      <th>2997639</th>\n      <td>216305430</td>\n      <td>7e46808</td>\n      <td>tl6c</td>\n      <td>0.0</td>\n      <td>0.0</td>\n      <td>0</td>\n      <td>2019-03-05 06:19:32</td>\n      <td>Lupita \"moño\" Nyong'o.</td>\n      <td>0.0</td>\n      <td>inf</td>\n    </tr>\n    <tr>\n      <th>3575821</th>\n      <td>466377491</td>\n      <td>inf</td>\n      <td>1.0</td>\n      <td>0.0</td>\n      <td>NaN</td>\n      <td>0</td>\n      <td>2019-08-29 13:04:45</td>\n      <td>Prima di andare via sorridi un po' ma comunque...</td>\n      <td>0.0</td>\n      <td>inf</td>\n    </tr>\n    <tr>\n      <th>3884170</th>\n      <td>1e47ulvrip</td>\n      <td>79e9</td>\n      <td>0.0</td>\n      <td>0.0</td>\n      <td>1.0</td>\n      <td>0</td>\n      <td>2019-10-04 17:38:02</td>\n      <td>Great Music from this Bose Blue Tooth system -...</td>\n      <td>0.0</td>\n      <td>7.900000e+10</td>\n    </tr>\n    <tr>\n      <th>5263563</th>\n      <td>1065256472</td>\n      <td>981e8</td>\n      <td>s50gor</td>\n      <td>1.0</td>\n      <td>0.0</td>\n      <td>0</td>\n      <td>2020-04-16 13:33:31</td>\n      <td>So Shocking to hear that a schoolmate of mine ...</td>\n      <td>0.0</td>\n      <td>9.810000e+10</td>\n    </tr>\n    <tr>\n      <th>5512715</th>\n      <td>109577056</td>\n      <td>5e76</td>\n      <td>0.0</td>\n      <td>0.0</td>\n      <td>0.0</td>\n      <td>0</td>\n      <td>2020-04-15 09:09:14</td>\n      <td>Happy Romance Day to all :) ;) :p &amp;lt;3</td>\n      <td>0.0</td>\n      <td>5.000000e+76</td>\n    </tr>\n    <tr>\n      <th>6128429</th>\n      <td>f66p</td>\n      <td>6e85</td>\n      <td>0.0</td>\n      <td>0.0</td>\n      <td>0.0</td>\n      <td>2</td>\n      <td>2020-03-15 19:16:10</td>\n      <td>RT @Jacobfrnch: @dylannicholson_ happy bday ba...</td>\n      <td>1.0</td>\n      <td>6.000000e+85</td>\n    </tr>\n    <tr>\n      <th>6745713</th>\n      <td>345964231</td>\n      <td>6e64</td>\n      <td>0.0</td>\n      <td>0.0</td>\n      <td>0.0</td>\n      <td>2</td>\n      <td>2020-03-27 19:35:46</td>\n      <td>@juveennio @LKM_juve That's why I said recentl...</td>\n      <td>0.0</td>\n      <td>6.000000e+64</td>\n    </tr>\n    <tr>\n      <th>7171035</th>\n      <td>541515522</td>\n      <td>7e340</td>\n      <td>0.0</td>\n      <td>NaN</td>\n      <td>0.0</td>\n      <td>0</td>\n      <td>2019-03-22 08:05:03</td>\n      <td>Sometimes you have to stop thinking so much, a...</td>\n      <td>0.0</td>\n      <td>inf</td>\n    </tr>\n    <tr>\n      <th>7887560</th>\n      <td>2257463006</td>\n      <td>7e52</td>\n      <td>0.0</td>\n      <td>0.0</td>\n      <td>zdcn8w8k</td>\n      <td>0</td>\n      <td>2019-10-19 16:25:00</td>\n      <td>L'empatia non andava legalizzata.</td>\n      <td>0.0</td>\n      <td>7.000000e+52</td>\n    </tr>\n    <tr>\n      <th>8098093</th>\n      <td>2367763387</td>\n      <td>1e18</td>\n      <td>NaN</td>\n      <td>NaN</td>\n      <td>NaN</td>\n      <td>NaN</td>\n      <td>2019-03-31 11:53:27</td>\n      <td>\"Everything comes to him who hustles while he ...</td>\n      <td>0.0</td>\n      <td>1.000000e+18</td>\n    </tr>\n    <tr>\n      <th>8928156</th>\n      <td>539138964</td>\n      <td>24e36</td>\n      <td>NaN</td>\n      <td>0.0</td>\n      <td>0.0</td>\n      <td>0</td>\n      <td>2019-08-16 20:47:43</td>\n      <td>-Cosa ti rende felice? -Le persone con le qual...</td>\n      <td>4.0</td>\n      <td>2.400000e+37</td>\n    </tr>\n    <tr>\n      <th>9005428</th>\n      <td>466394269</td>\n      <td>9e13</td>\n      <td>1.0</td>\n      <td>0.0</td>\n      <td>0.0</td>\n      <td>0</td>\n      <td>2019-11-03 08:08:41</td>\n      <td>I grandi dubbi!! Ma in prossimita' delle isole...</td>\n      <td>0.0</td>\n      <td>9.000000e+13</td>\n    </tr>\n    <tr>\n      <th>9624531</th>\n      <td>522715107</td>\n      <td>62e62</td>\n      <td>q9m</td>\n      <td>0.0</td>\n      <td>1.0</td>\n      <td>0</td>\n      <td>2019-10-23 22:38:17</td>\n      <td>Learn About Careers with a Creative Writing De...</td>\n      <td>0.0</td>\n      <td>6.200000e+63</td>\n    </tr>\n    <tr>\n      <th>10543201</th>\n      <td>50034798</td>\n      <td>432e82</td>\n      <td>0.0</td>\n      <td>hqf</td>\n      <td>1.0</td>\n      <td>0</td>\n      <td>2019-04-28 00:07:00</td>\n      <td>She couldn't get left out. http://t.co/KWqytxAkCd</td>\n      <td>0.0</td>\n      <td>4.320000e+84</td>\n    </tr>\n    <tr>\n      <th>11221854</th>\n      <td>512405444</td>\n      <td>919e76</td>\n      <td>0.0</td>\n      <td>0.0</td>\n      <td>NaN</td>\n      <td>0</td>\n      <td>2019-10-19 20:56:11</td>\n      <td>Learn About Facebook-Top Tips for Business Suc...</td>\n      <td>0.0</td>\n      <td>9.190000e+78</td>\n    </tr>\n    <tr>\n      <th>11929320</th>\n      <td>614211803</td>\n      <td>5e33</td>\n      <td>NaN</td>\n      <td>NaN</td>\n      <td>NaN</td>\n      <td>NaN</td>\n      <td>2019-11-01 17:17:13</td>\n      <td>\"Non Ã¨ mai stato rovesciato un idolo, se non ...</td>\n      <td>0.0</td>\n      <td>5.000000e+33</td>\n    </tr>\n  </tbody>\n</table>\n</div>"
     },
     "execution_count": 247,
     "metadata": {},
     "output_type": "execute_result"
    }
   ],
   "source": [
    "df_tweets_single[df_tweets_single['reply_count_conv'] > 1e10]"
   ]
  }
 ],
 "metadata": {
  "colab": {
   "collapsed_sections": [],
   "provenance": []
  },
  "kernelspec": {
   "display_name": "Python 3 (ipykernel)",
   "language": "python",
   "name": "python3"
  },
  "language_info": {
   "codemirror_mode": {
    "name": "ipython",
    "version": 3
   },
   "file_extension": ".py",
   "mimetype": "text/x-python",
   "name": "python",
   "nbconvert_exporter": "python",
   "pygments_lexer": "ipython3",
   "version": "3.10.4"
  }
 },
 "nbformat": 4,
 "nbformat_minor": 1
}
