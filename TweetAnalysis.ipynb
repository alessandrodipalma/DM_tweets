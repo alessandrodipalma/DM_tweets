{
 "cells": [
  {
   "cell_type": "code",
   "execution_count": 22,
   "metadata": {
    "executionInfo": {
     "elapsed": 19,
     "status": "ok",
     "timestamp": 1665240391302,
     "user": {
      "displayName": "ALESSANDRO DIPALMA",
      "userId": "15827404338341614451"
     },
     "user_tz": -120
    },
    "id": "5oCty9ReHZOd"
   },
   "outputs": [],
   "source": [
    "import pandas as pd\n",
    "from matplotlib import pyplot as plt\n",
    "import numpy as np"
   ]
  },
  {
   "cell_type": "code",
   "execution_count": 23,
   "metadata": {
    "colab": {
     "base_uri": "https://localhost:8080/"
    },
    "executionInfo": {
     "elapsed": 94974,
     "status": "ok",
     "timestamp": 1665240486261,
     "user": {
      "displayName": "ALESSANDRO DIPALMA",
      "userId": "15827404338341614451"
     },
     "user_tz": -120
    },
    "id": "UTjV9Hkmc7OI",
    "outputId": "44aa4fcc-7776-4a21-f8e0-db83f7f8c316"
   },
   "outputs": [],
   "source": [
    "df_tweets = pd.read_csv(\"tweets.csv\")"
   ]
  },
  {
   "cell_type": "code",
   "execution_count": 152,
   "metadata": {},
   "outputs": [],
   "source": [
    "df_users = pd.read_csv(\"users.csv\")"
   ]
  },
  {
   "cell_type": "code",
   "execution_count": 24,
   "metadata": {
    "colab": {
     "base_uri": "https://localhost:8080/",
     "height": 206
    },
    "executionInfo": {
     "elapsed": 53,
     "status": "ok",
     "timestamp": 1665240486264,
     "user": {
      "displayName": "ALESSANDRO DIPALMA",
      "userId": "15827404338341614451"
     },
     "user_tz": -120
    },
    "id": "NP_Jn2WOd21-",
    "outputId": "a0dc8edf-24d7-4ecc-8d60-c6f001f6f0ca"
   },
   "outputs": [
    {
     "data": {
      "text/html": [
       "<div>\n",
       "<style scoped>\n",
       "    .dataframe tbody tr th:only-of-type {\n",
       "        vertical-align: middle;\n",
       "    }\n",
       "\n",
       "    .dataframe tbody tr th {\n",
       "        vertical-align: top;\n",
       "    }\n",
       "\n",
       "    .dataframe thead th {\n",
       "        text-align: right;\n",
       "    }\n",
       "</style>\n",
       "<table border=\"1\" class=\"dataframe\">\n",
       "  <thead>\n",
       "    <tr style=\"text-align: right;\">\n",
       "      <th></th>\n",
       "      <th>id</th>\n",
       "      <th>name</th>\n",
       "      <th>lang</th>\n",
       "      <th>bot</th>\n",
       "      <th>created_at</th>\n",
       "      <th>statuses_count</th>\n",
       "    </tr>\n",
       "  </thead>\n",
       "  <tbody>\n",
       "    <tr>\n",
       "      <th>0</th>\n",
       "      <td>2353593986</td>\n",
       "      <td>Lamonica Raborn</td>\n",
       "      <td>en</td>\n",
       "      <td>1</td>\n",
       "      <td>2019-02-22 18:00:42</td>\n",
       "      <td>76.0</td>\n",
       "    </tr>\n",
       "    <tr>\n",
       "      <th>1</th>\n",
       "      <td>2358850842</td>\n",
       "      <td>Lourie Botton</td>\n",
       "      <td>en</td>\n",
       "      <td>0</td>\n",
       "      <td>2019-02-26 03:02:32</td>\n",
       "      <td>54.0</td>\n",
       "    </tr>\n",
       "    <tr>\n",
       "      <th>2</th>\n",
       "      <td>137959629</td>\n",
       "      <td>Dadan Syarifudin</td>\n",
       "      <td>en</td>\n",
       "      <td>1</td>\n",
       "      <td>2015-04-30 07:09:56</td>\n",
       "      <td>3.0</td>\n",
       "    </tr>\n",
       "    <tr>\n",
       "      <th>3</th>\n",
       "      <td>466124818</td>\n",
       "      <td>Carletto Focia</td>\n",
       "      <td>it</td>\n",
       "      <td>1</td>\n",
       "      <td>2017-01-18 02:49:18</td>\n",
       "      <td>50.0</td>\n",
       "    </tr>\n",
       "    <tr>\n",
       "      <th>4</th>\n",
       "      <td>2571493866</td>\n",
       "      <td>MBK Ebook</td>\n",
       "      <td>en</td>\n",
       "      <td>0</td>\n",
       "      <td>2019-06-18 19:30:21</td>\n",
       "      <td>7085.0</td>\n",
       "    </tr>\n",
       "  </tbody>\n",
       "</table>\n",
       "</div>"
      ],
      "text/plain": [
       "           id              name lang  bot           created_at  statuses_count\n",
       "0  2353593986   Lamonica Raborn   en    1  2019-02-22 18:00:42            76.0\n",
       "1  2358850842     Lourie Botton   en    0  2019-02-26 03:02:32            54.0\n",
       "2   137959629  Dadan Syarifudin   en    1  2015-04-30 07:09:56             3.0\n",
       "3   466124818    Carletto Focia   it    1  2017-01-18 02:49:18            50.0\n",
       "4  2571493866         MBK Ebook   en    0  2019-06-18 19:30:21          7085.0"
      ]
     },
     "execution_count": 24,
     "metadata": {},
     "output_type": "execute_result"
    }
   ],
   "source": [
    "df_users.head()"
   ]
  },
  {
   "cell_type": "code",
   "execution_count": 25,
   "metadata": {
    "colab": {
     "base_uri": "https://localhost:8080/"
    },
    "executionInfo": {
     "elapsed": 48,
     "status": "ok",
     "timestamp": 1665240486266,
     "user": {
      "displayName": "ALESSANDRO DIPALMA",
      "userId": "15827404338341614451"
     },
     "user_tz": -120
    },
    "id": "4z_xApMQfk0A",
    "outputId": "e95fdcef-1ca4-4e15-b719-9a0c7b80de86"
   },
   "outputs": [
    {
     "name": "stdout",
     "output_type": "stream",
     "text": [
      "<class 'pandas.core.frame.DataFrame'>\n",
      "RangeIndex: 11508 entries, 0 to 11507\n",
      "Data columns (total 6 columns):\n",
      " #   Column          Non-Null Count  Dtype  \n",
      "---  ------          --------------  -----  \n",
      " 0   id              11508 non-null  int64  \n",
      " 1   name            11507 non-null  object \n",
      " 2   lang            11508 non-null  object \n",
      " 3   bot             11508 non-null  int64  \n",
      " 4   created_at      11508 non-null  object \n",
      " 5   statuses_count  11109 non-null  float64\n",
      "dtypes: float64(1), int64(2), object(3)\n",
      "memory usage: 539.6+ KB\n"
     ]
    }
   ],
   "source": [
    "df_users.info()"
   ]
  },
  {
   "cell_type": "code",
   "execution_count": 153,
   "metadata": {
    "colab": {
     "base_uri": "https://localhost:8080/",
     "height": 81
    },
    "executionInfo": {
     "elapsed": 43,
     "status": "ok",
     "timestamp": 1665240486267,
     "user": {
      "displayName": "ALESSANDRO DIPALMA",
      "userId": "15827404338341614451"
     },
     "user_tz": -120
    },
    "id": "2zF4wF2vfmmH",
    "outputId": "a796ccb3-662f-40a2-c945-36436fccb572"
   },
   "outputs": [
    {
     "data": {
      "text/html": [
       "<div>\n",
       "<style scoped>\n",
       "    .dataframe tbody tr th:only-of-type {\n",
       "        vertical-align: middle;\n",
       "    }\n",
       "\n",
       "    .dataframe tbody tr th {\n",
       "        vertical-align: top;\n",
       "    }\n",
       "\n",
       "    .dataframe thead th {\n",
       "        text-align: right;\n",
       "    }\n",
       "</style>\n",
       "<table border=\"1\" class=\"dataframe\">\n",
       "  <thead>\n",
       "    <tr style=\"text-align: right;\">\n",
       "      <th></th>\n",
       "      <th>id</th>\n",
       "      <th>name</th>\n",
       "      <th>lang</th>\n",
       "      <th>bot</th>\n",
       "      <th>created_at</th>\n",
       "      <th>statuses_count</th>\n",
       "    </tr>\n",
       "  </thead>\n",
       "  <tbody>\n",
       "    <tr>\n",
       "      <th>1535</th>\n",
       "      <td>2166124159</td>\n",
       "      <td>NaN</td>\n",
       "      <td>en</td>\n",
       "      <td>0</td>\n",
       "      <td>2018-11-02 06:39:14</td>\n",
       "      <td>6566.0</td>\n",
       "    </tr>\n",
       "  </tbody>\n",
       "</table>\n",
       "</div>"
      ],
      "text/plain": [
       "              id name lang  bot           created_at  statuses_count\n",
       "1535  2166124159  NaN   en    0  2018-11-02 06:39:14          6566.0"
      ]
     },
     "execution_count": 153,
     "metadata": {},
     "output_type": "execute_result"
    }
   ],
   "source": [
    "df_null = df_users.isnull()\n",
    "idx_null = df_users.index[df_null[\"name\"] == True].tolist()\n",
    "df_users.iloc[idx_null]"
   ]
  },
  {
   "cell_type": "code",
   "execution_count": 27,
   "metadata": {
    "colab": {
     "base_uri": "https://localhost:8080/",
     "height": 206
    },
    "executionInfo": {
     "elapsed": 41,
     "status": "ok",
     "timestamp": 1665240486268,
     "user": {
      "displayName": "ALESSANDRO DIPALMA",
      "userId": "15827404338341614451"
     },
     "user_tz": -120
    },
    "id": "6K1QxQDnh65B",
    "outputId": "4baa5591-c53b-454e-ba8d-685041f9861f"
   },
   "outputs": [
    {
     "data": {
      "text/html": [
       "<div>\n",
       "<style scoped>\n",
       "    .dataframe tbody tr th:only-of-type {\n",
       "        vertical-align: middle;\n",
       "    }\n",
       "\n",
       "    .dataframe tbody tr th {\n",
       "        vertical-align: top;\n",
       "    }\n",
       "\n",
       "    .dataframe thead th {\n",
       "        text-align: right;\n",
       "    }\n",
       "</style>\n",
       "<table border=\"1\" class=\"dataframe\">\n",
       "  <thead>\n",
       "    <tr style=\"text-align: right;\">\n",
       "      <th></th>\n",
       "      <th>id</th>\n",
       "      <th>user_id</th>\n",
       "      <th>retweet_count</th>\n",
       "      <th>reply_count</th>\n",
       "      <th>favorite_count</th>\n",
       "      <th>num_hashtags</th>\n",
       "      <th>num_urls</th>\n",
       "      <th>num_mentions</th>\n",
       "      <th>created_at</th>\n",
       "      <th>text</th>\n",
       "    </tr>\n",
       "  </thead>\n",
       "  <tbody>\n",
       "    <tr>\n",
       "      <th>0</th>\n",
       "      <td>509354017856950272</td>\n",
       "      <td>327746321</td>\n",
       "      <td>0</td>\n",
       "      <td>0</td>\n",
       "      <td>0</td>\n",
       "      <td>0</td>\n",
       "      <td>0</td>\n",
       "      <td>0</td>\n",
       "      <td>2019-09-11 14:53:55</td>\n",
       "      <td>If man is a little lower than angels, then ang...</td>\n",
       "    </tr>\n",
       "    <tr>\n",
       "      <th>1</th>\n",
       "      <td>583002592529121280</td>\n",
       "      <td>333722906</td>\n",
       "      <td>1</td>\n",
       "      <td>0</td>\n",
       "      <td>0</td>\n",
       "      <td>0</td>\n",
       "      <td>0</td>\n",
       "      <td>1</td>\n",
       "      <td>2020-04-01 20:27:04</td>\n",
       "      <td>\"@BestWSHHVids: how do you say these words wit...</td>\n",
       "    </tr>\n",
       "    <tr>\n",
       "      <th>2</th>\n",
       "      <td>461498835362013185</td>\n",
       "      <td>2379755827</td>\n",
       "      <td>0</td>\n",
       "      <td>0</td>\n",
       "      <td>0</td>\n",
       "      <td>0</td>\n",
       "      <td>0</td>\n",
       "      <td>1</td>\n",
       "      <td>2019-05-02 13:34:31</td>\n",
       "      <td>@LOLatComedy awsome</td>\n",
       "    </tr>\n",
       "    <tr>\n",
       "      <th>3</th>\n",
       "      <td>528808127366692864</td>\n",
       "      <td>466226882</td>\n",
       "      <td>0</td>\n",
       "      <td>0</td>\n",
       "      <td>0</td>\n",
       "      <td>0</td>\n",
       "      <td>0</td>\n",
       "      <td>0</td>\n",
       "      <td>2019-11-04 07:17:37</td>\n",
       "      <td>Stephen Hawkins: i buchi neri non esistono se ...</td>\n",
       "    </tr>\n",
       "    <tr>\n",
       "      <th>4</th>\n",
       "      <td>575336690904006656</td>\n",
       "      <td>1355537995</td>\n",
       "      <td>114</td>\n",
       "      <td>0</td>\n",
       "      <td>0</td>\n",
       "      <td>1</td>\n",
       "      <td>0</td>\n",
       "      <td>1</td>\n",
       "      <td>2020-03-11 16:45:31</td>\n",
       "      <td>RT @tibbs_montris: So ready for Wednesday!</td>\n",
       "    </tr>\n",
       "  </tbody>\n",
       "</table>\n",
       "</div>"
      ],
      "text/plain": [
       "                   id     user_id retweet_count reply_count favorite_count  \\\n",
       "0  509354017856950272   327746321             0           0              0   \n",
       "1  583002592529121280   333722906             1           0              0   \n",
       "2  461498835362013185  2379755827             0           0              0   \n",
       "3  528808127366692864   466226882             0           0              0   \n",
       "4  575336690904006656  1355537995           114           0              0   \n",
       "\n",
       "  num_hashtags num_urls num_mentions           created_at  \\\n",
       "0            0        0            0  2019-09-11 14:53:55   \n",
       "1            0        0            1  2020-04-01 20:27:04   \n",
       "2            0        0            1  2019-05-02 13:34:31   \n",
       "3            0        0            0  2019-11-04 07:17:37   \n",
       "4            1        0            1  2020-03-11 16:45:31   \n",
       "\n",
       "                                                text  \n",
       "0  If man is a little lower than angels, then ang...  \n",
       "1  \"@BestWSHHVids: how do you say these words wit...  \n",
       "2                                @LOLatComedy awsome  \n",
       "3  Stephen Hawkins: i buchi neri non esistono se ...  \n",
       "4        RT @tibbs_montris: So ready for Wednesday!   "
      ]
     },
     "execution_count": 27,
     "metadata": {},
     "output_type": "execute_result"
    }
   ],
   "source": [
    "df_tweets.head()"
   ]
  },
  {
   "cell_type": "code",
   "execution_count": 28,
   "metadata": {
    "colab": {
     "base_uri": "https://localhost:8080/"
    },
    "executionInfo": {
     "elapsed": 6960,
     "status": "ok",
     "timestamp": 1665240493189,
     "user": {
      "displayName": "ALESSANDRO DIPALMA",
      "userId": "15827404338341614451"
     },
     "user_tz": -120
    },
    "id": "bZfdvzMejsEe",
    "outputId": "2358873b-fa51-4ca4-e0ed-6b065be11546"
   },
   "outputs": [
    {
     "name": "stdout",
     "output_type": "stream",
     "text": [
      "<class 'pandas.core.frame.DataFrame'>\n",
      "RangeIndex: 13664696 entries, 0 to 13664695\n",
      "Data columns (total 10 columns):\n",
      " #   Column          Non-Null Count     Dtype \n",
      "---  ------          --------------     ----- \n",
      " 0   id              13664694 non-null  object\n",
      " 1   user_id         13447413 non-null  object\n",
      " 2   retweet_count   13227562 non-null  object\n",
      " 3   reply_count     13016818 non-null  object\n",
      " 4   favorite_count  13017154 non-null  object\n",
      " 5   num_hashtags    12607172 non-null  object\n",
      " 6   num_urls        13016073 non-null  object\n",
      " 7   num_mentions    12810531 non-null  object\n",
      " 8   created_at      13664696 non-null  object\n",
      " 9   text            13126975 non-null  object\n",
      "dtypes: object(10)\n",
      "memory usage: 1.0+ GB\n"
     ]
    },
    {
     "name": "stderr",
     "output_type": "stream",
     "text": [
      "C:\\Users\\Alessandro\\AppData\\Local\\Temp\\ipykernel_13332\\180347385.py:1: FutureWarning: null_counts is deprecated. Use show_counts instead\n",
      "  df_tweets.info(null_counts=True)\n"
     ]
    }
   ],
   "source": [
    "df_tweets.info(null_counts=True)"
   ]
  },
  {
   "cell_type": "code",
   "execution_count": 29,
   "metadata": {
    "colab": {
     "base_uri": "https://localhost:8080/"
    },
    "executionInfo": {
     "elapsed": 14,
     "status": "ok",
     "timestamp": 1665240493189,
     "user": {
      "displayName": "ALESSANDRO DIPALMA",
      "userId": "15827404338341614451"
     },
     "user_tz": -120
    },
    "id": "AtL8X7Furq0Z",
    "outputId": "1b51e155-6f83-43ca-d51a-0cb5b952f5c6"
   },
   "outputs": [
    {
     "data": {
      "text/plain": [
       "136646960"
      ]
     },
     "execution_count": 29,
     "metadata": {},
     "output_type": "execute_result"
    }
   ],
   "source": [
    "df_tweets.size"
   ]
  },
  {
   "cell_type": "markdown",
   "metadata": {},
   "source": [
    "## Verifica esistenza record duplicati"
   ]
  },
  {
   "cell_type": "code",
   "execution_count": 30,
   "metadata": {
    "colab": {
     "base_uri": "https://localhost:8080/"
    },
    "executionInfo": {
     "elapsed": 66058,
     "status": "ok",
     "timestamp": 1665240559240,
     "user": {
      "displayName": "ALESSANDRO DIPALMA",
      "userId": "15827404338341614451"
     },
     "user_tz": -120
    },
    "id": "-3ywwV6CoQ1V",
    "outputId": "e3daccc7-e3b6-4dfb-86ae-1f0bf9101419",
    "pycharm": {
     "is_executing": true
    }
   },
   "outputs": [
    {
     "data": {
      "text/plain": [
       "False    11712597\n",
       "True      1952099\n",
       "dtype: int64"
      ]
     },
     "execution_count": 30,
     "metadata": {},
     "output_type": "execute_result"
    }
   ],
   "source": [
    "df_tweets_dupl = df_tweets.duplicated()\n",
    "df_tweets_dupl.value_counts()"
   ]
  },
  {
   "cell_type": "markdown",
   "metadata": {},
   "source": [
    "## Drop "
   ]
  },
  {
   "cell_type": "code",
   "execution_count": 31,
   "metadata": {
    "colab": {
     "base_uri": "https://localhost:8080/"
    },
    "executionInfo": {
     "elapsed": 60601,
     "status": "ok",
     "timestamp": 1665240620325,
     "user": {
      "displayName": "ALESSANDRO DIPALMA",
      "userId": "15827404338341614451"
     },
     "user_tz": -120
    },
    "id": "jeE9lroMqmTv",
    "outputId": "a1a0f82e-94df-4484-cab2-718d8257f05c",
    "pycharm": {
     "is_executing": true
    }
   },
   "outputs": [
    {
     "data": {
      "text/plain": [
       "11712597"
      ]
     },
     "execution_count": 31,
     "metadata": {},
     "output_type": "execute_result"
    }
   ],
   "source": [
    "df_tweets_clear = df_tweets.drop_duplicates(keep = 'first')\n",
    "df_tweets_clear.shape[0]"
   ]
  },
  {
   "cell_type": "code",
   "execution_count": 32,
   "metadata": {
    "colab": {
     "base_uri": "https://localhost:8080/"
    },
    "executionInfo": {
     "elapsed": 1065,
     "status": "ok",
     "timestamp": 1665240626597,
     "user": {
      "displayName": "ALESSANDRO DIPALMA",
      "userId": "15827404338341614451"
     },
     "user_tz": -120
    },
    "id": "PO_ZZg6ylV1Y",
    "outputId": "2503f2ac-9e73-4d97-d8e9-70172f5b8c02",
    "pycharm": {
     "is_executing": true
    }
   },
   "outputs": [
    {
     "name": "stderr",
     "output_type": "stream",
     "text": [
      "C:\\Users\\Alessandro\\AppData\\Local\\Temp\\ipykernel_13332\\3906317416.py:1: FutureWarning: null_counts is deprecated. Use show_counts instead\n",
      "  df_tweets_clear.info(null_counts=True)\n"
     ]
    },
    {
     "name": "stdout",
     "output_type": "stream",
     "text": [
      "<class 'pandas.core.frame.DataFrame'>\n",
      "Int64Index: 11712597 entries, 0 to 13664695\n",
      "Data columns (total 10 columns):\n",
      " #   Column          Non-Null Count     Dtype \n",
      "---  ------          --------------     ----- \n",
      " 0   id              11712595 non-null  object\n",
      " 1   user_id         11495314 non-null  object\n",
      " 2   retweet_count   11275463 non-null  object\n",
      " 3   reply_count     11064719 non-null  object\n",
      " 4   favorite_count  11065055 non-null  object\n",
      " 5   num_hashtags    10655073 non-null  object\n",
      " 6   num_urls        11063974 non-null  object\n",
      " 7   num_mentions    10858432 non-null  object\n",
      " 8   created_at      11712597 non-null  object\n",
      " 9   text            11182415 non-null  object\n",
      "dtypes: object(10)\n",
      "memory usage: 983.0+ MB\n"
     ]
    }
   ],
   "source": [
    "df_tweets_clear.info(null_counts=True)"
   ]
  },
  {
   "cell_type": "markdown",
   "metadata": {},
   "source": [
    "## Verifica di duplicati su un sottoinsieme di colonne"
   ]
  },
  {
   "cell_type": "code",
   "execution_count": 33,
   "metadata": {
    "colab": {
     "base_uri": "https://localhost:8080/"
    },
    "executionInfo": {
     "elapsed": 11694,
     "status": "ok",
     "timestamp": 1665240638287,
     "user": {
      "displayName": "ALESSANDRO DIPALMA",
      "userId": "15827404338341614451"
     },
     "user_tz": -120
    },
    "id": "E5Ogiw_7uTO7",
    "outputId": "aa238a0e-39af-4f97-88ca-863027fc5b36",
    "pycharm": {
     "is_executing": true
    }
   },
   "outputs": [
    {
     "data": {
      "text/plain": [
       "False    11672136\n",
       "True        40461\n",
       "dtype: int64"
      ]
     },
     "execution_count": 33,
     "metadata": {},
     "output_type": "execute_result"
    }
   ],
   "source": [
    "df_tweets_dupl = df_tweets_clear.duplicated(subset=['id'])\n",
    "df_tweets_dupl.value_counts()"
   ]
  },
  {
   "cell_type": "code",
   "execution_count": 34,
   "metadata": {
    "colab": {
     "base_uri": "https://localhost:8080/"
    },
    "executionInfo": {
     "elapsed": 14542,
     "status": "ok",
     "timestamp": 1665240652821,
     "user": {
      "displayName": "ALESSANDRO DIPALMA",
      "userId": "15827404338341614451"
     },
     "user_tz": -120
    },
    "id": "v-X0Cv1au95m",
    "outputId": "d8463b34-e56e-40a7-f71e-b86614f49e20",
    "pycharm": {
     "is_executing": true
    }
   },
   "outputs": [
    {
     "data": {
      "text/plain": [
       "False    11712237\n",
       "True          360\n",
       "dtype: int64"
      ]
     },
     "execution_count": 34,
     "metadata": {},
     "output_type": "execute_result"
    }
   ],
   "source": [
    "df_tweets_dupl = df_tweets_clear.duplicated(subset=['id', 'user_id'])\n",
    "df_tweets_dupl.value_counts()"
   ]
  },
  {
   "cell_type": "code",
   "execution_count": 35,
   "metadata": {
    "colab": {
     "base_uri": "https://localhost:8080/"
    },
    "executionInfo": {
     "elapsed": 17433,
     "status": "ok",
     "timestamp": 1665240681096,
     "user": {
      "displayName": "ALESSANDRO DIPALMA",
      "userId": "15827404338341614451"
     },
     "user_tz": -120
    },
    "id": "6MwOboRjwcR5",
    "outputId": "2d5ae4f1-9195-4d07-e997-b231c2630655",
    "pycharm": {
     "is_executing": true
    }
   },
   "outputs": [
    {
     "data": {
      "text/plain": [
       "False    11712336\n",
       "True          261\n",
       "dtype: int64"
      ]
     },
     "execution_count": 35,
     "metadata": {},
     "output_type": "execute_result"
    }
   ],
   "source": [
    "df_tweets_dupl = df_tweets_clear.duplicated(subset=['id', 'user_id', 'text'])\n",
    "df_tweets_dupl.value_counts()"
   ]
  },
  {
   "cell_type": "code",
   "execution_count": 36,
   "metadata": {
    "colab": {
     "base_uri": "https://localhost:8080/"
    },
    "executionInfo": {
     "elapsed": 40057,
     "status": "ok",
     "timestamp": 1665240721145,
     "user": {
      "displayName": "ALESSANDRO DIPALMA",
      "userId": "15827404338341614451"
     },
     "user_tz": -120
    },
    "id": "hgchbFmjwszo",
    "outputId": "fa1c3623-ca24-4f44-c3c4-0a23e24e56cc",
    "pycharm": {
     "is_executing": true
    }
   },
   "outputs": [
    {
     "data": {
      "text/plain": [
       "False    11712597\n",
       "dtype: int64"
      ]
     },
     "execution_count": 36,
     "metadata": {},
     "output_type": "execute_result"
    }
   ],
   "source": [
    "df_tweets_dupl = df_tweets_clear.duplicated(subset=['id', 'user_id', 'created_at', 'text'])\n",
    "df_tweets_dupl.value_counts()"
   ]
  },
  {
   "cell_type": "code",
   "execution_count": 37,
   "metadata": {
    "executionInfo": {
     "elapsed": 29606,
     "status": "ok",
     "timestamp": 1665241316281,
     "user": {
      "displayName": "ALESSANDRO DIPALMA",
      "userId": "15827404338341614451"
     },
     "user_tz": -120
    },
    "id": "3OhOSoAJzQRT",
    "pycharm": {
     "is_executing": true
    }
   },
   "outputs": [],
   "source": [
    "df_tweets_dupl =df_tweets_clear[df_tweets_clear.duplicated(subset=['id', 'user_id','text'])]"
   ]
  },
  {
   "cell_type": "markdown",
   "metadata": {},
   "source": [
    "## Data la presenza di molteplici valori nulli tra i duplicati secondo le colonne [id, user_id, text] verifichiamo la corrispondenza di tweet con lo user_id non nullo con la tabella users"
   ]
  },
  {
   "cell_type": "code",
   "execution_count": 38,
   "metadata": {
    "colab": {
     "base_uri": "https://localhost:8080/"
    },
    "executionInfo": {
     "elapsed": 10,
     "status": "ok",
     "timestamp": 1665242198147,
     "user": {
      "displayName": "ALESSANDRO DIPALMA",
      "userId": "15827404338341614451"
     },
     "user_tz": -120
    },
    "id": "GvAclqDxzVy9",
    "outputId": "7e10116d-37a9-4dc3-df4e-a54e05c5499c",
    "pycharm": {
     "is_executing": true
    }
   },
   "outputs": [
    {
     "name": "stdout",
     "output_type": "stream",
     "text": [
      "<class 'pandas.core.frame.DataFrame'>\n",
      "Int64Index: 12 entries, 4515945 to 13484983\n",
      "Data columns (total 10 columns):\n",
      " #   Column          Non-Null Count  Dtype \n",
      "---  ------          --------------  ----- \n",
      " 0   id              12 non-null     object\n",
      " 1   user_id         12 non-null     object\n",
      " 2   retweet_count   5 non-null      object\n",
      " 3   reply_count     3 non-null      object\n",
      " 4   favorite_count  2 non-null      object\n",
      " 5   num_hashtags    0 non-null      object\n",
      " 6   num_urls        2 non-null      object\n",
      " 7   num_mentions    0 non-null      object\n",
      " 8   created_at      12 non-null     object\n",
      " 9   text            0 non-null      object\n",
      "dtypes: object(10)\n",
      "memory usage: 1.0+ KB\n"
     ]
    }
   ],
   "source": [
    "df_nonnull_users = df_tweets_dupl[df_tweets_dupl['user_id'].isnull() == False]\n",
    "df_nonnull_users.info()"
   ]
  },
  {
   "cell_type": "code",
   "execution_count": 39,
   "metadata": {
    "colab": {
     "base_uri": "https://localhost:8080/",
     "height": 533
    },
    "executionInfo": {
     "elapsed": 19,
     "status": "ok",
     "timestamp": 1665242043036,
     "user": {
      "displayName": "ALESSANDRO DIPALMA",
      "userId": "15827404338341614451"
     },
     "user_tz": -120
    },
    "id": "84zjvX26IiIW",
    "outputId": "0413313b-2c79-4252-d934-5e171de5e6c1",
    "pycharm": {
     "is_executing": true
    }
   },
   "outputs": [
    {
     "name": "stderr",
     "output_type": "stream",
     "text": [
      "C:\\Users\\Alessandro\\AppData\\Local\\Temp\\ipykernel_13332\\2994806884.py:1: SettingWithCopyWarning: \n",
      "A value is trying to be set on a copy of a slice from a DataFrame.\n",
      "Try using .loc[row_indexer,col_indexer] = value instead\n",
      "\n",
      "See the caveats in the documentation: https://pandas.pydata.org/pandas-docs/stable/user_guide/indexing.html#returning-a-view-versus-a-copy\n",
      "  df_nonnull_users.user_id = pd.to_numeric(df_nonnull_users.user_id)\n"
     ]
    },
    {
     "data": {
      "text/html": [
       "<div>\n",
       "<style scoped>\n",
       "    .dataframe tbody tr th:only-of-type {\n",
       "        vertical-align: middle;\n",
       "    }\n",
       "\n",
       "    .dataframe tbody tr th {\n",
       "        vertical-align: top;\n",
       "    }\n",
       "\n",
       "    .dataframe thead th {\n",
       "        text-align: right;\n",
       "    }\n",
       "</style>\n",
       "<table border=\"1\" class=\"dataframe\">\n",
       "  <thead>\n",
       "    <tr style=\"text-align: right;\">\n",
       "      <th></th>\n",
       "      <th>id_x</th>\n",
       "      <th>user_id</th>\n",
       "      <th>retweet_count</th>\n",
       "      <th>reply_count</th>\n",
       "      <th>favorite_count</th>\n",
       "      <th>num_hashtags</th>\n",
       "      <th>num_urls</th>\n",
       "      <th>num_mentions</th>\n",
       "      <th>created_at_x</th>\n",
       "      <th>text</th>\n",
       "      <th>id_y</th>\n",
       "      <th>name</th>\n",
       "      <th>lang</th>\n",
       "      <th>bot</th>\n",
       "      <th>created_at_y</th>\n",
       "      <th>statuses_count</th>\n",
       "    </tr>\n",
       "  </thead>\n",
       "  <tbody>\n",
       "    <tr>\n",
       "      <th>0</th>\n",
       "      <td>vada</td>\n",
       "      <td>331806614</td>\n",
       "      <td>NaN</td>\n",
       "      <td>NaN</td>\n",
       "      <td>NaN</td>\n",
       "      <td>NaN</td>\n",
       "      <td>NaN</td>\n",
       "      <td>NaN</td>\n",
       "      <td>2019-10-16 23:49:32</td>\n",
       "      <td>NaN</td>\n",
       "      <td>331806614</td>\n",
       "      <td>Marty Balin</td>\n",
       "      <td>en</td>\n",
       "      <td>1</td>\n",
       "      <td>2016-07-09 19:01:19</td>\n",
       "      <td>12375.0</td>\n",
       "    </tr>\n",
       "    <tr>\n",
       "      <th>1</th>\n",
       "      <td>ptb</td>\n",
       "      <td>467116841</td>\n",
       "      <td>0</td>\n",
       "      <td>0.0</td>\n",
       "      <td>0.0</td>\n",
       "      <td>NaN</td>\n",
       "      <td>NaN</td>\n",
       "      <td>NaN</td>\n",
       "      <td>2019-06-17 09:34:56</td>\n",
       "      <td>NaN</td>\n",
       "      <td>467116841</td>\n",
       "      <td>Gabriele Danno</td>\n",
       "      <td>it</td>\n",
       "      <td>1</td>\n",
       "      <td>2017-01-19 04:08:16</td>\n",
       "      <td>61.0</td>\n",
       "    </tr>\n",
       "    <tr>\n",
       "      <th>2</th>\n",
       "      <td>efh</td>\n",
       "      <td>1573156616</td>\n",
       "      <td>0</td>\n",
       "      <td>NaN</td>\n",
       "      <td>NaN</td>\n",
       "      <td>NaN</td>\n",
       "      <td>NaN</td>\n",
       "      <td>NaN</td>\n",
       "      <td>2020-03-07 04:35:15</td>\n",
       "      <td>NaN</td>\n",
       "      <td>1573156616</td>\n",
       "      <td>Tiny Tibo</td>\n",
       "      <td>fr</td>\n",
       "      <td>0</td>\n",
       "      <td>2018-07-08 16:27:04</td>\n",
       "      <td>27105.0</td>\n",
       "    </tr>\n",
       "    <tr>\n",
       "      <th>3</th>\n",
       "      <td>oby</td>\n",
       "      <td>114910555</td>\n",
       "      <td>NaN</td>\n",
       "      <td>NaN</td>\n",
       "      <td>NaN</td>\n",
       "      <td>NaN</td>\n",
       "      <td>NaN</td>\n",
       "      <td>NaN</td>\n",
       "      <td>2020-03-15 03:51:40</td>\n",
       "      <td>NaN</td>\n",
       "      <td>114910555</td>\n",
       "      <td>Señor Grande</td>\n",
       "      <td>en</td>\n",
       "      <td>0</td>\n",
       "      <td>2015-02-19 00:51:08</td>\n",
       "      <td>10212.0</td>\n",
       "    </tr>\n",
       "    <tr>\n",
       "      <th>4</th>\n",
       "      <td>yfj</td>\n",
       "      <td>2445641666</td>\n",
       "      <td>NaN</td>\n",
       "      <td>NaN</td>\n",
       "      <td>NaN</td>\n",
       "      <td>NaN</td>\n",
       "      <td>NaN</td>\n",
       "      <td>NaN</td>\n",
       "      <td>2019-04-29 23:52:04</td>\n",
       "      <td>NaN</td>\n",
       "      <td>2445641666</td>\n",
       "      <td>Barstool Iowa State</td>\n",
       "      <td>en</td>\n",
       "      <td>0</td>\n",
       "      <td>2019-04-17 15:59:24</td>\n",
       "      <td>1515.0</td>\n",
       "    </tr>\n",
       "    <tr>\n",
       "      <th>5</th>\n",
       "      <td>djq</td>\n",
       "      <td>70142270</td>\n",
       "      <td>NaN</td>\n",
       "      <td>NaN</td>\n",
       "      <td>NaN</td>\n",
       "      <td>NaN</td>\n",
       "      <td>0.0</td>\n",
       "      <td>NaN</td>\n",
       "      <td>2020-04-23 12:43:47</td>\n",
       "      <td>NaN</td>\n",
       "      <td>70142270</td>\n",
       "      <td>Morgan Joseph</td>\n",
       "      <td>en</td>\n",
       "      <td>0</td>\n",
       "      <td>2014-09-01 15:31:01</td>\n",
       "      <td>12171.0</td>\n",
       "    </tr>\n",
       "    <tr>\n",
       "      <th>6</th>\n",
       "      <td>gnn</td>\n",
       "      <td>24295753</td>\n",
       "      <td>NaN</td>\n",
       "      <td>NaN</td>\n",
       "      <td>NaN</td>\n",
       "      <td>NaN</td>\n",
       "      <td>NaN</td>\n",
       "      <td>NaN</td>\n",
       "      <td>2020-03-15 15:12:05</td>\n",
       "      <td>NaN</td>\n",
       "      <td>24295753</td>\n",
       "      <td>Nick (Rosie)</td>\n",
       "      <td>en</td>\n",
       "      <td>0</td>\n",
       "      <td>2014-03-16 00:53:21</td>\n",
       "      <td>18699.0</td>\n",
       "    </tr>\n",
       "    <tr>\n",
       "      <th>7</th>\n",
       "      <td>fkn</td>\n",
       "      <td>1978992043</td>\n",
       "      <td>NaN</td>\n",
       "      <td>NaN</td>\n",
       "      <td>NaN</td>\n",
       "      <td>NaN</td>\n",
       "      <td>NaN</td>\n",
       "      <td>NaN</td>\n",
       "      <td>2020-03-21 23:10:07</td>\n",
       "      <td>NaN</td>\n",
       "      <td>1978992043</td>\n",
       "      <td>-</td>\n",
       "      <td>en-gb</td>\n",
       "      <td>0</td>\n",
       "      <td>2018-10-23 14:43:13</td>\n",
       "      <td>33905.0</td>\n",
       "    </tr>\n",
       "    <tr>\n",
       "      <th>8</th>\n",
       "      <td>vam</td>\n",
       "      <td>1499931151</td>\n",
       "      <td>1222</td>\n",
       "      <td>NaN</td>\n",
       "      <td>0.0</td>\n",
       "      <td>NaN</td>\n",
       "      <td>1.0</td>\n",
       "      <td>NaN</td>\n",
       "      <td>2020-03-15 14:54:04</td>\n",
       "      <td>NaN</td>\n",
       "      <td>1499931151</td>\n",
       "      <td>Bojan</td>\n",
       "      <td>en</td>\n",
       "      <td>0</td>\n",
       "      <td>2018-06-13 01:16:32</td>\n",
       "      <td>26559.0</td>\n",
       "    </tr>\n",
       "    <tr>\n",
       "      <th>9</th>\n",
       "      <td>tgg</td>\n",
       "      <td>576226470</td>\n",
       "      <td>0</td>\n",
       "      <td>0.0</td>\n",
       "      <td>NaN</td>\n",
       "      <td>NaN</td>\n",
       "      <td>NaN</td>\n",
       "      <td>NaN</td>\n",
       "      <td>2018-11-28 13:28:02</td>\n",
       "      <td>NaN</td>\n",
       "      <td>576226470</td>\n",
       "      <td>Dicerie</td>\n",
       "      <td>en</td>\n",
       "      <td>1</td>\n",
       "      <td>2017-05-12 11:13:08</td>\n",
       "      <td>2000.0</td>\n",
       "    </tr>\n",
       "    <tr>\n",
       "      <th>10</th>\n",
       "      <td>kws</td>\n",
       "      <td>531236295</td>\n",
       "      <td>7bbif</td>\n",
       "      <td>0.0</td>\n",
       "      <td>NaN</td>\n",
       "      <td>NaN</td>\n",
       "      <td>NaN</td>\n",
       "      <td>NaN</td>\n",
       "      <td>2019-11-08 14:53:10</td>\n",
       "      <td>NaN</td>\n",
       "      <td>531236295</td>\n",
       "      <td>Candance Hawver</td>\n",
       "      <td>en</td>\n",
       "      <td>1</td>\n",
       "      <td>2017-03-22 11:42:55</td>\n",
       "      <td>10004.0</td>\n",
       "    </tr>\n",
       "    <tr>\n",
       "      <th>11</th>\n",
       "      <td>gaj</td>\n",
       "      <td>251905557</td>\n",
       "      <td>NaN</td>\n",
       "      <td>NaN</td>\n",
       "      <td>NaN</td>\n",
       "      <td>NaN</td>\n",
       "      <td>NaN</td>\n",
       "      <td>NaN</td>\n",
       "      <td>2020-04-25 17:51:35</td>\n",
       "      <td>NaN</td>\n",
       "      <td>251905557</td>\n",
       "      <td>Adrián</td>\n",
       "      <td>en</td>\n",
       "      <td>0</td>\n",
       "      <td>2016-02-16 02:38:20</td>\n",
       "      <td>24375.0</td>\n",
       "    </tr>\n",
       "  </tbody>\n",
       "</table>\n",
       "</div>"
      ],
      "text/plain": [
       "    id_x     user_id retweet_count reply_count favorite_count num_hashtags  \\\n",
       "0   vada   331806614           NaN         NaN            NaN          NaN   \n",
       "1    ptb   467116841             0         0.0            0.0          NaN   \n",
       "2    efh  1573156616             0         NaN            NaN          NaN   \n",
       "3    oby   114910555           NaN         NaN            NaN          NaN   \n",
       "4    yfj  2445641666           NaN         NaN            NaN          NaN   \n",
       "5    djq    70142270           NaN         NaN            NaN          NaN   \n",
       "6    gnn    24295753           NaN         NaN            NaN          NaN   \n",
       "7    fkn  1978992043           NaN         NaN            NaN          NaN   \n",
       "8    vam  1499931151          1222         NaN            0.0          NaN   \n",
       "9    tgg   576226470             0         0.0            NaN          NaN   \n",
       "10   kws   531236295         7bbif         0.0            NaN          NaN   \n",
       "11   gaj   251905557           NaN         NaN            NaN          NaN   \n",
       "\n",
       "   num_urls num_mentions         created_at_x text        id_y  \\\n",
       "0       NaN          NaN  2019-10-16 23:49:32  NaN   331806614   \n",
       "1       NaN          NaN  2019-06-17 09:34:56  NaN   467116841   \n",
       "2       NaN          NaN  2020-03-07 04:35:15  NaN  1573156616   \n",
       "3       NaN          NaN  2020-03-15 03:51:40  NaN   114910555   \n",
       "4       NaN          NaN  2019-04-29 23:52:04  NaN  2445641666   \n",
       "5       0.0          NaN  2020-04-23 12:43:47  NaN    70142270   \n",
       "6       NaN          NaN  2020-03-15 15:12:05  NaN    24295753   \n",
       "7       NaN          NaN  2020-03-21 23:10:07  NaN  1978992043   \n",
       "8       1.0          NaN  2020-03-15 14:54:04  NaN  1499931151   \n",
       "9       NaN          NaN  2018-11-28 13:28:02  NaN   576226470   \n",
       "10      NaN          NaN  2019-11-08 14:53:10  NaN   531236295   \n",
       "11      NaN          NaN  2020-04-25 17:51:35  NaN   251905557   \n",
       "\n",
       "                   name   lang  bot         created_at_y  statuses_count  \n",
       "0          Marty Balin      en    1  2016-07-09 19:01:19         12375.0  \n",
       "1        Gabriele Danno     it    1  2017-01-19 04:08:16            61.0  \n",
       "2             Tiny Tibo     fr    0  2018-07-08 16:27:04         27105.0  \n",
       "3          Señor Grande     en    0  2015-02-19 00:51:08         10212.0  \n",
       "4   Barstool Iowa State     en    0  2019-04-17 15:59:24          1515.0  \n",
       "5         Morgan Joseph     en    0  2014-09-01 15:31:01         12171.0  \n",
       "6          Nick (Rosie)     en    0  2014-03-16 00:53:21         18699.0  \n",
       "7                     -  en-gb    0  2018-10-23 14:43:13         33905.0  \n",
       "8                 Bojan     en    0  2018-06-13 01:16:32         26559.0  \n",
       "9               Dicerie     en    1  2017-05-12 11:13:08          2000.0  \n",
       "10      Candance Hawver     en    1  2017-03-22 11:42:55         10004.0  \n",
       "11               Adrián     en    0  2016-02-16 02:38:20         24375.0  "
      ]
     },
     "execution_count": 39,
     "metadata": {},
     "output_type": "execute_result"
    }
   ],
   "source": [
    "df_nonnull_users.user_id = pd.to_numeric(df_nonnull_users.user_id)\n",
    "df_nonnull_users.merge(df_users, left_on='user_id', right_on='id')"
   ]
  },
  {
   "cell_type": "markdown",
   "metadata": {},
   "source": [
    "## Eliminazione delle righe ripetute secondo il pattern sopracitato aventi lo user_id nullo"
   ]
  },
  {
   "cell_type": "code",
   "execution_count": 40,
   "metadata": {
    "pycharm": {
     "is_executing": true
    }
   },
   "outputs": [],
   "source": [
    "df_tweets_more_clear = df_tweets_clear[df_tweets_clear.duplicated(subset=['id', 'user_id','text'])]"
   ]
  },
  {
   "cell_type": "code",
   "execution_count": 41,
   "metadata": {
    "pycharm": {
     "is_executing": true
    }
   },
   "outputs": [
    {
     "data": {
      "text/html": [
       "<div>\n",
       "<style scoped>\n",
       "    .dataframe tbody tr th:only-of-type {\n",
       "        vertical-align: middle;\n",
       "    }\n",
       "\n",
       "    .dataframe tbody tr th {\n",
       "        vertical-align: top;\n",
       "    }\n",
       "\n",
       "    .dataframe thead th {\n",
       "        text-align: right;\n",
       "    }\n",
       "</style>\n",
       "<table border=\"1\" class=\"dataframe\">\n",
       "  <thead>\n",
       "    <tr style=\"text-align: right;\">\n",
       "      <th></th>\n",
       "      <th>id</th>\n",
       "      <th>user_id</th>\n",
       "      <th>retweet_count</th>\n",
       "      <th>reply_count</th>\n",
       "      <th>favorite_count</th>\n",
       "      <th>num_hashtags</th>\n",
       "      <th>num_urls</th>\n",
       "      <th>num_mentions</th>\n",
       "      <th>created_at</th>\n",
       "      <th>text</th>\n",
       "    </tr>\n",
       "  </thead>\n",
       "  <tbody>\n",
       "    <tr>\n",
       "      <th>280761</th>\n",
       "      <td>mxi</td>\n",
       "      <td>NaN</td>\n",
       "      <td>0</td>\n",
       "      <td>NaN</td>\n",
       "      <td>0.0</td>\n",
       "      <td>NaN</td>\n",
       "      <td>1.0</td>\n",
       "      <td>NaN</td>\n",
       "      <td>2019-09-14 20:47:29</td>\n",
       "      <td>NaN</td>\n",
       "    </tr>\n",
       "    <tr>\n",
       "      <th>515406</th>\n",
       "      <td>mxi</td>\n",
       "      <td>NaN</td>\n",
       "      <td>2</td>\n",
       "      <td>NaN</td>\n",
       "      <td>0.0</td>\n",
       "      <td>NaN</td>\n",
       "      <td>0.0</td>\n",
       "      <td>NaN</td>\n",
       "      <td>2020-03-22 04:55:02</td>\n",
       "      <td>NaN</td>\n",
       "    </tr>\n",
       "    <tr>\n",
       "      <th>573128</th>\n",
       "      <td>srq</td>\n",
       "      <td>NaN</td>\n",
       "      <td>NaN</td>\n",
       "      <td>NaN</td>\n",
       "      <td>NaN</td>\n",
       "      <td>NaN</td>\n",
       "      <td>0.0</td>\n",
       "      <td>NaN</td>\n",
       "      <td>2020-02-24 22:11:05</td>\n",
       "      <td>NaN</td>\n",
       "    </tr>\n",
       "    <tr>\n",
       "      <th>1706009</th>\n",
       "      <td>xiu</td>\n",
       "      <td>NaN</td>\n",
       "      <td>NaN</td>\n",
       "      <td>NaN</td>\n",
       "      <td>NaN</td>\n",
       "      <td>NaN</td>\n",
       "      <td>NaN</td>\n",
       "      <td>NaN</td>\n",
       "      <td>2019-09-21 14:12:26</td>\n",
       "      <td>NaN</td>\n",
       "    </tr>\n",
       "    <tr>\n",
       "      <th>1787554</th>\n",
       "      <td>crks</td>\n",
       "      <td>NaN</td>\n",
       "      <td>0</td>\n",
       "      <td>NaN</td>\n",
       "      <td>NaN</td>\n",
       "      <td>NaN</td>\n",
       "      <td>NaN</td>\n",
       "      <td>NaN</td>\n",
       "      <td>2020-04-17 16:52:26</td>\n",
       "      <td>NaN</td>\n",
       "    </tr>\n",
       "    <tr>\n",
       "      <th>...</th>\n",
       "      <td>...</td>\n",
       "      <td>...</td>\n",
       "      <td>...</td>\n",
       "      <td>...</td>\n",
       "      <td>...</td>\n",
       "      <td>...</td>\n",
       "      <td>...</td>\n",
       "      <td>...</td>\n",
       "      <td>...</td>\n",
       "      <td>...</td>\n",
       "    </tr>\n",
       "    <tr>\n",
       "      <th>13554922</th>\n",
       "      <td>cxz</td>\n",
       "      <td>NaN</td>\n",
       "      <td>NaN</td>\n",
       "      <td>NaN</td>\n",
       "      <td>NaN</td>\n",
       "      <td>NaN</td>\n",
       "      <td>NaN</td>\n",
       "      <td>NaN</td>\n",
       "      <td>2019-09-13 07:19:42</td>\n",
       "      <td>NaN</td>\n",
       "    </tr>\n",
       "    <tr>\n",
       "      <th>13557755</th>\n",
       "      <td>ngd</td>\n",
       "      <td>NaN</td>\n",
       "      <td>NaN</td>\n",
       "      <td>NaN</td>\n",
       "      <td>NaN</td>\n",
       "      <td>NaN</td>\n",
       "      <td>0.0</td>\n",
       "      <td>NaN</td>\n",
       "      <td>2019-11-01 16:21:42</td>\n",
       "      <td>NaN</td>\n",
       "    </tr>\n",
       "    <tr>\n",
       "      <th>13561775</th>\n",
       "      <td>qyt</td>\n",
       "      <td>NaN</td>\n",
       "      <td>0</td>\n",
       "      <td>NaN</td>\n",
       "      <td>0.0</td>\n",
       "      <td>NaN</td>\n",
       "      <td>0.0</td>\n",
       "      <td>NaN</td>\n",
       "      <td>2019-11-03 11:50:00</td>\n",
       "      <td>NaN</td>\n",
       "    </tr>\n",
       "    <tr>\n",
       "      <th>13593848</th>\n",
       "      <td>uru</td>\n",
       "      <td>NaN</td>\n",
       "      <td>0</td>\n",
       "      <td>NaN</td>\n",
       "      <td>NaN</td>\n",
       "      <td>NaN</td>\n",
       "      <td>NaN</td>\n",
       "      <td>NaN</td>\n",
       "      <td>2020-03-27 01:57:35</td>\n",
       "      <td>NaN</td>\n",
       "    </tr>\n",
       "    <tr>\n",
       "      <th>13607558</th>\n",
       "      <td>juo</td>\n",
       "      <td>NaN</td>\n",
       "      <td>0</td>\n",
       "      <td>0.0</td>\n",
       "      <td>NaN</td>\n",
       "      <td>NaN</td>\n",
       "      <td>NaN</td>\n",
       "      <td>NaN</td>\n",
       "      <td>2020-04-08 01:43:52</td>\n",
       "      <td>NaN</td>\n",
       "    </tr>\n",
       "  </tbody>\n",
       "</table>\n",
       "<p>261 rows × 10 columns</p>\n",
       "</div>"
      ],
      "text/plain": [
       "            id user_id retweet_count reply_count favorite_count num_hashtags  \\\n",
       "280761     mxi     NaN             0         NaN            0.0          NaN   \n",
       "515406     mxi     NaN             2         NaN            0.0          NaN   \n",
       "573128     srq     NaN           NaN         NaN            NaN          NaN   \n",
       "1706009    xiu     NaN           NaN         NaN            NaN          NaN   \n",
       "1787554   crks     NaN             0         NaN            NaN          NaN   \n",
       "...        ...     ...           ...         ...            ...          ...   \n",
       "13554922   cxz     NaN           NaN         NaN            NaN          NaN   \n",
       "13557755   ngd     NaN           NaN         NaN            NaN          NaN   \n",
       "13561775   qyt     NaN             0         NaN            0.0          NaN   \n",
       "13593848   uru     NaN             0         NaN            NaN          NaN   \n",
       "13607558   juo     NaN             0         0.0            NaN          NaN   \n",
       "\n",
       "         num_urls num_mentions           created_at text  \n",
       "280761        1.0          NaN  2019-09-14 20:47:29  NaN  \n",
       "515406        0.0          NaN  2020-03-22 04:55:02  NaN  \n",
       "573128        0.0          NaN  2020-02-24 22:11:05  NaN  \n",
       "1706009       NaN          NaN  2019-09-21 14:12:26  NaN  \n",
       "1787554       NaN          NaN  2020-04-17 16:52:26  NaN  \n",
       "...           ...          ...                  ...  ...  \n",
       "13554922      NaN          NaN  2019-09-13 07:19:42  NaN  \n",
       "13557755      0.0          NaN  2019-11-01 16:21:42  NaN  \n",
       "13561775      0.0          NaN  2019-11-03 11:50:00  NaN  \n",
       "13593848      NaN          NaN  2020-03-27 01:57:35  NaN  \n",
       "13607558      NaN          NaN  2020-04-08 01:43:52  NaN  \n",
       "\n",
       "[261 rows x 10 columns]"
      ]
     },
     "execution_count": 41,
     "metadata": {},
     "output_type": "execute_result"
    }
   ],
   "source": [
    "df_tweets_more_clear"
   ]
  },
  {
   "cell_type": "code",
   "execution_count": 44,
   "metadata": {
    "pycharm": {
     "is_executing": true
    }
   },
   "outputs": [
    {
     "data": {
      "text/html": [
       "<div>\n",
       "<style scoped>\n",
       "    .dataframe tbody tr th:only-of-type {\n",
       "        vertical-align: middle;\n",
       "    }\n",
       "\n",
       "    .dataframe tbody tr th {\n",
       "        vertical-align: top;\n",
       "    }\n",
       "\n",
       "    .dataframe thead th {\n",
       "        text-align: right;\n",
       "    }\n",
       "</style>\n",
       "<table border=\"1\" class=\"dataframe\">\n",
       "  <thead>\n",
       "    <tr style=\"text-align: right;\">\n",
       "      <th></th>\n",
       "      <th>id</th>\n",
       "      <th>user_id</th>\n",
       "      <th>retweet_count</th>\n",
       "      <th>reply_count</th>\n",
       "      <th>favorite_count</th>\n",
       "      <th>num_hashtags</th>\n",
       "      <th>num_urls</th>\n",
       "      <th>num_mentions</th>\n",
       "      <th>created_at</th>\n",
       "      <th>text</th>\n",
       "    </tr>\n",
       "  </thead>\n",
       "  <tbody>\n",
       "    <tr>\n",
       "      <th>280761</th>\n",
       "      <td>mxi</td>\n",
       "      <td>NaN</td>\n",
       "      <td>0</td>\n",
       "      <td>NaN</td>\n",
       "      <td>0.0</td>\n",
       "      <td>NaN</td>\n",
       "      <td>1.0</td>\n",
       "      <td>NaN</td>\n",
       "      <td>2019-09-14 20:47:29</td>\n",
       "      <td>NaN</td>\n",
       "    </tr>\n",
       "    <tr>\n",
       "      <th>515406</th>\n",
       "      <td>mxi</td>\n",
       "      <td>NaN</td>\n",
       "      <td>2</td>\n",
       "      <td>NaN</td>\n",
       "      <td>0.0</td>\n",
       "      <td>NaN</td>\n",
       "      <td>0.0</td>\n",
       "      <td>NaN</td>\n",
       "      <td>2020-03-22 04:55:02</td>\n",
       "      <td>NaN</td>\n",
       "    </tr>\n",
       "    <tr>\n",
       "      <th>573128</th>\n",
       "      <td>srq</td>\n",
       "      <td>NaN</td>\n",
       "      <td>NaN</td>\n",
       "      <td>NaN</td>\n",
       "      <td>NaN</td>\n",
       "      <td>NaN</td>\n",
       "      <td>0.0</td>\n",
       "      <td>NaN</td>\n",
       "      <td>2020-02-24 22:11:05</td>\n",
       "      <td>NaN</td>\n",
       "    </tr>\n",
       "    <tr>\n",
       "      <th>1706009</th>\n",
       "      <td>xiu</td>\n",
       "      <td>NaN</td>\n",
       "      <td>NaN</td>\n",
       "      <td>NaN</td>\n",
       "      <td>NaN</td>\n",
       "      <td>NaN</td>\n",
       "      <td>NaN</td>\n",
       "      <td>NaN</td>\n",
       "      <td>2019-09-21 14:12:26</td>\n",
       "      <td>NaN</td>\n",
       "    </tr>\n",
       "    <tr>\n",
       "      <th>1787554</th>\n",
       "      <td>crks</td>\n",
       "      <td>NaN</td>\n",
       "      <td>0</td>\n",
       "      <td>NaN</td>\n",
       "      <td>NaN</td>\n",
       "      <td>NaN</td>\n",
       "      <td>NaN</td>\n",
       "      <td>NaN</td>\n",
       "      <td>2020-04-17 16:52:26</td>\n",
       "      <td>NaN</td>\n",
       "    </tr>\n",
       "    <tr>\n",
       "      <th>...</th>\n",
       "      <td>...</td>\n",
       "      <td>...</td>\n",
       "      <td>...</td>\n",
       "      <td>...</td>\n",
       "      <td>...</td>\n",
       "      <td>...</td>\n",
       "      <td>...</td>\n",
       "      <td>...</td>\n",
       "      <td>...</td>\n",
       "      <td>...</td>\n",
       "    </tr>\n",
       "    <tr>\n",
       "      <th>13554922</th>\n",
       "      <td>cxz</td>\n",
       "      <td>NaN</td>\n",
       "      <td>NaN</td>\n",
       "      <td>NaN</td>\n",
       "      <td>NaN</td>\n",
       "      <td>NaN</td>\n",
       "      <td>NaN</td>\n",
       "      <td>NaN</td>\n",
       "      <td>2019-09-13 07:19:42</td>\n",
       "      <td>NaN</td>\n",
       "    </tr>\n",
       "    <tr>\n",
       "      <th>13557755</th>\n",
       "      <td>ngd</td>\n",
       "      <td>NaN</td>\n",
       "      <td>NaN</td>\n",
       "      <td>NaN</td>\n",
       "      <td>NaN</td>\n",
       "      <td>NaN</td>\n",
       "      <td>0.0</td>\n",
       "      <td>NaN</td>\n",
       "      <td>2019-11-01 16:21:42</td>\n",
       "      <td>NaN</td>\n",
       "    </tr>\n",
       "    <tr>\n",
       "      <th>13561775</th>\n",
       "      <td>qyt</td>\n",
       "      <td>NaN</td>\n",
       "      <td>0</td>\n",
       "      <td>NaN</td>\n",
       "      <td>0.0</td>\n",
       "      <td>NaN</td>\n",
       "      <td>0.0</td>\n",
       "      <td>NaN</td>\n",
       "      <td>2019-11-03 11:50:00</td>\n",
       "      <td>NaN</td>\n",
       "    </tr>\n",
       "    <tr>\n",
       "      <th>13593848</th>\n",
       "      <td>uru</td>\n",
       "      <td>NaN</td>\n",
       "      <td>0</td>\n",
       "      <td>NaN</td>\n",
       "      <td>NaN</td>\n",
       "      <td>NaN</td>\n",
       "      <td>NaN</td>\n",
       "      <td>NaN</td>\n",
       "      <td>2020-03-27 01:57:35</td>\n",
       "      <td>NaN</td>\n",
       "    </tr>\n",
       "    <tr>\n",
       "      <th>13607558</th>\n",
       "      <td>juo</td>\n",
       "      <td>NaN</td>\n",
       "      <td>0</td>\n",
       "      <td>0.0</td>\n",
       "      <td>NaN</td>\n",
       "      <td>NaN</td>\n",
       "      <td>NaN</td>\n",
       "      <td>NaN</td>\n",
       "      <td>2020-04-08 01:43:52</td>\n",
       "      <td>NaN</td>\n",
       "    </tr>\n",
       "  </tbody>\n",
       "</table>\n",
       "<p>249 rows × 10 columns</p>\n",
       "</div>"
      ],
      "text/plain": [
       "            id user_id retweet_count reply_count favorite_count num_hashtags  \\\n",
       "280761     mxi     NaN             0         NaN            0.0          NaN   \n",
       "515406     mxi     NaN             2         NaN            0.0          NaN   \n",
       "573128     srq     NaN           NaN         NaN            NaN          NaN   \n",
       "1706009    xiu     NaN           NaN         NaN            NaN          NaN   \n",
       "1787554   crks     NaN             0         NaN            NaN          NaN   \n",
       "...        ...     ...           ...         ...            ...          ...   \n",
       "13554922   cxz     NaN           NaN         NaN            NaN          NaN   \n",
       "13557755   ngd     NaN           NaN         NaN            NaN          NaN   \n",
       "13561775   qyt     NaN             0         NaN            0.0          NaN   \n",
       "13593848   uru     NaN             0         NaN            NaN          NaN   \n",
       "13607558   juo     NaN             0         0.0            NaN          NaN   \n",
       "\n",
       "         num_urls num_mentions           created_at text  \n",
       "280761        1.0          NaN  2019-09-14 20:47:29  NaN  \n",
       "515406        0.0          NaN  2020-03-22 04:55:02  NaN  \n",
       "573128        0.0          NaN  2020-02-24 22:11:05  NaN  \n",
       "1706009       NaN          NaN  2019-09-21 14:12:26  NaN  \n",
       "1787554       NaN          NaN  2020-04-17 16:52:26  NaN  \n",
       "...           ...          ...                  ...  ...  \n",
       "13554922      NaN          NaN  2019-09-13 07:19:42  NaN  \n",
       "13557755      0.0          NaN  2019-11-01 16:21:42  NaN  \n",
       "13561775      0.0          NaN  2019-11-03 11:50:00  NaN  \n",
       "13593848      NaN          NaN  2020-03-27 01:57:35  NaN  \n",
       "13607558      NaN          NaN  2020-04-08 01:43:52  NaN  \n",
       "\n",
       "[249 rows x 10 columns]"
      ]
     },
     "execution_count": 44,
     "metadata": {},
     "output_type": "execute_result"
    }
   ],
   "source": [
    "df_tweets_more_clear[df_tweets_more_clear['user_id'].isnull() == True]"
   ]
  },
  {
   "cell_type": "code",
   "execution_count": 45,
   "metadata": {
    "id": "O-co7rHGFeOY",
    "pycharm": {
     "is_executing": true
    }
   },
   "outputs": [
    {
     "name": "stdout",
     "output_type": "stream",
     "text": [
      "<class 'pandas.core.frame.DataFrame'>\n",
      "Int64Index: 11712348 entries, 0 to 13664695\n",
      "Data columns (total 10 columns):\n",
      " #   Column          Non-Null Count     Dtype \n",
      "---  ------          --------------     ----- \n",
      " 0   id              11712346 non-null  object\n",
      " 1   user_id         11495314 non-null  object\n",
      " 2   retweet_count   11275326 non-null  object\n",
      " 3   reply_count     11064671 non-null  object\n",
      " 4   favorite_count  11064981 non-null  object\n",
      " 5   num_hashtags    10655073 non-null  object\n",
      " 6   num_urls        11063920 non-null  object\n",
      " 7   num_mentions    10858432 non-null  object\n",
      " 8   created_at      11712348 non-null  object\n",
      " 9   text            11182415 non-null  object\n",
      "dtypes: object(10)\n",
      "memory usage: 982.9+ MB\n"
     ]
    },
    {
     "name": "stderr",
     "output_type": "stream",
     "text": [
      "C:\\Users\\Alessandro\\AppData\\Local\\Temp\\ipykernel_13332\\1342634764.py:2: FutureWarning: null_counts is deprecated. Use show_counts instead\n",
      "  df_tweets_single.info(null_counts=True)\n"
     ]
    }
   ],
   "source": [
    "df_tweets_single =df_tweets_clear.drop(df_tweets_more_clear[df_tweets_more_clear['user_id'].isnull() == True].index)\n",
    "df_tweets_single.info(null_counts=True)"
   ]
  },
  {
   "cell_type": "code",
   "execution_count": 46,
   "metadata": {
    "pycharm": {
     "is_executing": true
    }
   },
   "outputs": [
    {
     "name": "stdout",
     "output_type": "stream",
     "text": [
      "<class 'pandas.core.frame.DataFrame'>\n",
      "Int64Index: 12 entries, 4515945 to 13484983\n",
      "Data columns (total 10 columns):\n",
      " #   Column          Non-Null Count  Dtype \n",
      "---  ------          --------------  ----- \n",
      " 0   id              12 non-null     object\n",
      " 1   user_id         12 non-null     object\n",
      " 2   retweet_count   5 non-null      object\n",
      " 3   reply_count     3 non-null      object\n",
      " 4   favorite_count  2 non-null      object\n",
      " 5   num_hashtags    0 non-null      object\n",
      " 6   num_urls        2 non-null      object\n",
      " 7   num_mentions    0 non-null      object\n",
      " 8   created_at      12 non-null     object\n",
      " 9   text            0 non-null      object\n",
      "dtypes: object(10)\n",
      "memory usage: 1.0+ KB\n"
     ]
    }
   ],
   "source": [
    "df_nonnull_users = df_tweets_dupl[df_tweets_dupl['user_id'].isnull() == False]\n",
    "df_nonnull_users.info()"
   ]
  },
  {
   "cell_type": "code",
   "execution_count": 47,
   "metadata": {
    "pycharm": {
     "is_executing": true
    }
   },
   "outputs": [
    {
     "name": "stderr",
     "output_type": "stream",
     "text": [
      "C:\\Users\\Alessandro\\AppData\\Local\\Temp\\ipykernel_13332\\2994806884.py:1: SettingWithCopyWarning: \n",
      "A value is trying to be set on a copy of a slice from a DataFrame.\n",
      "Try using .loc[row_indexer,col_indexer] = value instead\n",
      "\n",
      "See the caveats in the documentation: https://pandas.pydata.org/pandas-docs/stable/user_guide/indexing.html#returning-a-view-versus-a-copy\n",
      "  df_nonnull_users.user_id = pd.to_numeric(df_nonnull_users.user_id)\n"
     ]
    },
    {
     "data": {
      "text/html": [
       "<div>\n",
       "<style scoped>\n",
       "    .dataframe tbody tr th:only-of-type {\n",
       "        vertical-align: middle;\n",
       "    }\n",
       "\n",
       "    .dataframe tbody tr th {\n",
       "        vertical-align: top;\n",
       "    }\n",
       "\n",
       "    .dataframe thead th {\n",
       "        text-align: right;\n",
       "    }\n",
       "</style>\n",
       "<table border=\"1\" class=\"dataframe\">\n",
       "  <thead>\n",
       "    <tr style=\"text-align: right;\">\n",
       "      <th></th>\n",
       "      <th>id_x</th>\n",
       "      <th>user_id</th>\n",
       "      <th>retweet_count</th>\n",
       "      <th>reply_count</th>\n",
       "      <th>favorite_count</th>\n",
       "      <th>num_hashtags</th>\n",
       "      <th>num_urls</th>\n",
       "      <th>num_mentions</th>\n",
       "      <th>created_at_x</th>\n",
       "      <th>text</th>\n",
       "      <th>id_y</th>\n",
       "      <th>name</th>\n",
       "      <th>lang</th>\n",
       "      <th>bot</th>\n",
       "      <th>created_at_y</th>\n",
       "      <th>statuses_count</th>\n",
       "    </tr>\n",
       "  </thead>\n",
       "  <tbody>\n",
       "    <tr>\n",
       "      <th>0</th>\n",
       "      <td>vada</td>\n",
       "      <td>331806614</td>\n",
       "      <td>NaN</td>\n",
       "      <td>NaN</td>\n",
       "      <td>NaN</td>\n",
       "      <td>NaN</td>\n",
       "      <td>NaN</td>\n",
       "      <td>NaN</td>\n",
       "      <td>2019-10-16 23:49:32</td>\n",
       "      <td>NaN</td>\n",
       "      <td>331806614</td>\n",
       "      <td>Marty Balin</td>\n",
       "      <td>en</td>\n",
       "      <td>1</td>\n",
       "      <td>2016-07-09 19:01:19</td>\n",
       "      <td>12375.0</td>\n",
       "    </tr>\n",
       "    <tr>\n",
       "      <th>1</th>\n",
       "      <td>ptb</td>\n",
       "      <td>467116841</td>\n",
       "      <td>0</td>\n",
       "      <td>0.0</td>\n",
       "      <td>0.0</td>\n",
       "      <td>NaN</td>\n",
       "      <td>NaN</td>\n",
       "      <td>NaN</td>\n",
       "      <td>2019-06-17 09:34:56</td>\n",
       "      <td>NaN</td>\n",
       "      <td>467116841</td>\n",
       "      <td>Gabriele Danno</td>\n",
       "      <td>it</td>\n",
       "      <td>1</td>\n",
       "      <td>2017-01-19 04:08:16</td>\n",
       "      <td>61.0</td>\n",
       "    </tr>\n",
       "    <tr>\n",
       "      <th>2</th>\n",
       "      <td>efh</td>\n",
       "      <td>1573156616</td>\n",
       "      <td>0</td>\n",
       "      <td>NaN</td>\n",
       "      <td>NaN</td>\n",
       "      <td>NaN</td>\n",
       "      <td>NaN</td>\n",
       "      <td>NaN</td>\n",
       "      <td>2020-03-07 04:35:15</td>\n",
       "      <td>NaN</td>\n",
       "      <td>1573156616</td>\n",
       "      <td>Tiny Tibo</td>\n",
       "      <td>fr</td>\n",
       "      <td>0</td>\n",
       "      <td>2018-07-08 16:27:04</td>\n",
       "      <td>27105.0</td>\n",
       "    </tr>\n",
       "    <tr>\n",
       "      <th>3</th>\n",
       "      <td>oby</td>\n",
       "      <td>114910555</td>\n",
       "      <td>NaN</td>\n",
       "      <td>NaN</td>\n",
       "      <td>NaN</td>\n",
       "      <td>NaN</td>\n",
       "      <td>NaN</td>\n",
       "      <td>NaN</td>\n",
       "      <td>2020-03-15 03:51:40</td>\n",
       "      <td>NaN</td>\n",
       "      <td>114910555</td>\n",
       "      <td>Señor Grande</td>\n",
       "      <td>en</td>\n",
       "      <td>0</td>\n",
       "      <td>2015-02-19 00:51:08</td>\n",
       "      <td>10212.0</td>\n",
       "    </tr>\n",
       "    <tr>\n",
       "      <th>4</th>\n",
       "      <td>yfj</td>\n",
       "      <td>2445641666</td>\n",
       "      <td>NaN</td>\n",
       "      <td>NaN</td>\n",
       "      <td>NaN</td>\n",
       "      <td>NaN</td>\n",
       "      <td>NaN</td>\n",
       "      <td>NaN</td>\n",
       "      <td>2019-04-29 23:52:04</td>\n",
       "      <td>NaN</td>\n",
       "      <td>2445641666</td>\n",
       "      <td>Barstool Iowa State</td>\n",
       "      <td>en</td>\n",
       "      <td>0</td>\n",
       "      <td>2019-04-17 15:59:24</td>\n",
       "      <td>1515.0</td>\n",
       "    </tr>\n",
       "    <tr>\n",
       "      <th>5</th>\n",
       "      <td>djq</td>\n",
       "      <td>70142270</td>\n",
       "      <td>NaN</td>\n",
       "      <td>NaN</td>\n",
       "      <td>NaN</td>\n",
       "      <td>NaN</td>\n",
       "      <td>0.0</td>\n",
       "      <td>NaN</td>\n",
       "      <td>2020-04-23 12:43:47</td>\n",
       "      <td>NaN</td>\n",
       "      <td>70142270</td>\n",
       "      <td>Morgan Joseph</td>\n",
       "      <td>en</td>\n",
       "      <td>0</td>\n",
       "      <td>2014-09-01 15:31:01</td>\n",
       "      <td>12171.0</td>\n",
       "    </tr>\n",
       "    <tr>\n",
       "      <th>6</th>\n",
       "      <td>gnn</td>\n",
       "      <td>24295753</td>\n",
       "      <td>NaN</td>\n",
       "      <td>NaN</td>\n",
       "      <td>NaN</td>\n",
       "      <td>NaN</td>\n",
       "      <td>NaN</td>\n",
       "      <td>NaN</td>\n",
       "      <td>2020-03-15 15:12:05</td>\n",
       "      <td>NaN</td>\n",
       "      <td>24295753</td>\n",
       "      <td>Nick (Rosie)</td>\n",
       "      <td>en</td>\n",
       "      <td>0</td>\n",
       "      <td>2014-03-16 00:53:21</td>\n",
       "      <td>18699.0</td>\n",
       "    </tr>\n",
       "    <tr>\n",
       "      <th>7</th>\n",
       "      <td>fkn</td>\n",
       "      <td>1978992043</td>\n",
       "      <td>NaN</td>\n",
       "      <td>NaN</td>\n",
       "      <td>NaN</td>\n",
       "      <td>NaN</td>\n",
       "      <td>NaN</td>\n",
       "      <td>NaN</td>\n",
       "      <td>2020-03-21 23:10:07</td>\n",
       "      <td>NaN</td>\n",
       "      <td>1978992043</td>\n",
       "      <td>-</td>\n",
       "      <td>en-gb</td>\n",
       "      <td>0</td>\n",
       "      <td>2018-10-23 14:43:13</td>\n",
       "      <td>33905.0</td>\n",
       "    </tr>\n",
       "    <tr>\n",
       "      <th>8</th>\n",
       "      <td>vam</td>\n",
       "      <td>1499931151</td>\n",
       "      <td>1222</td>\n",
       "      <td>NaN</td>\n",
       "      <td>0.0</td>\n",
       "      <td>NaN</td>\n",
       "      <td>1.0</td>\n",
       "      <td>NaN</td>\n",
       "      <td>2020-03-15 14:54:04</td>\n",
       "      <td>NaN</td>\n",
       "      <td>1499931151</td>\n",
       "      <td>Bojan</td>\n",
       "      <td>en</td>\n",
       "      <td>0</td>\n",
       "      <td>2018-06-13 01:16:32</td>\n",
       "      <td>26559.0</td>\n",
       "    </tr>\n",
       "    <tr>\n",
       "      <th>9</th>\n",
       "      <td>tgg</td>\n",
       "      <td>576226470</td>\n",
       "      <td>0</td>\n",
       "      <td>0.0</td>\n",
       "      <td>NaN</td>\n",
       "      <td>NaN</td>\n",
       "      <td>NaN</td>\n",
       "      <td>NaN</td>\n",
       "      <td>2018-11-28 13:28:02</td>\n",
       "      <td>NaN</td>\n",
       "      <td>576226470</td>\n",
       "      <td>Dicerie</td>\n",
       "      <td>en</td>\n",
       "      <td>1</td>\n",
       "      <td>2017-05-12 11:13:08</td>\n",
       "      <td>2000.0</td>\n",
       "    </tr>\n",
       "    <tr>\n",
       "      <th>10</th>\n",
       "      <td>kws</td>\n",
       "      <td>531236295</td>\n",
       "      <td>7bbif</td>\n",
       "      <td>0.0</td>\n",
       "      <td>NaN</td>\n",
       "      <td>NaN</td>\n",
       "      <td>NaN</td>\n",
       "      <td>NaN</td>\n",
       "      <td>2019-11-08 14:53:10</td>\n",
       "      <td>NaN</td>\n",
       "      <td>531236295</td>\n",
       "      <td>Candance Hawver</td>\n",
       "      <td>en</td>\n",
       "      <td>1</td>\n",
       "      <td>2017-03-22 11:42:55</td>\n",
       "      <td>10004.0</td>\n",
       "    </tr>\n",
       "    <tr>\n",
       "      <th>11</th>\n",
       "      <td>gaj</td>\n",
       "      <td>251905557</td>\n",
       "      <td>NaN</td>\n",
       "      <td>NaN</td>\n",
       "      <td>NaN</td>\n",
       "      <td>NaN</td>\n",
       "      <td>NaN</td>\n",
       "      <td>NaN</td>\n",
       "      <td>2020-04-25 17:51:35</td>\n",
       "      <td>NaN</td>\n",
       "      <td>251905557</td>\n",
       "      <td>Adrián</td>\n",
       "      <td>en</td>\n",
       "      <td>0</td>\n",
       "      <td>2016-02-16 02:38:20</td>\n",
       "      <td>24375.0</td>\n",
       "    </tr>\n",
       "  </tbody>\n",
       "</table>\n",
       "</div>"
      ],
      "text/plain": [
       "    id_x     user_id retweet_count reply_count favorite_count num_hashtags  \\\n",
       "0   vada   331806614           NaN         NaN            NaN          NaN   \n",
       "1    ptb   467116841             0         0.0            0.0          NaN   \n",
       "2    efh  1573156616             0         NaN            NaN          NaN   \n",
       "3    oby   114910555           NaN         NaN            NaN          NaN   \n",
       "4    yfj  2445641666           NaN         NaN            NaN          NaN   \n",
       "5    djq    70142270           NaN         NaN            NaN          NaN   \n",
       "6    gnn    24295753           NaN         NaN            NaN          NaN   \n",
       "7    fkn  1978992043           NaN         NaN            NaN          NaN   \n",
       "8    vam  1499931151          1222         NaN            0.0          NaN   \n",
       "9    tgg   576226470             0         0.0            NaN          NaN   \n",
       "10   kws   531236295         7bbif         0.0            NaN          NaN   \n",
       "11   gaj   251905557           NaN         NaN            NaN          NaN   \n",
       "\n",
       "   num_urls num_mentions         created_at_x text        id_y  \\\n",
       "0       NaN          NaN  2019-10-16 23:49:32  NaN   331806614   \n",
       "1       NaN          NaN  2019-06-17 09:34:56  NaN   467116841   \n",
       "2       NaN          NaN  2020-03-07 04:35:15  NaN  1573156616   \n",
       "3       NaN          NaN  2020-03-15 03:51:40  NaN   114910555   \n",
       "4       NaN          NaN  2019-04-29 23:52:04  NaN  2445641666   \n",
       "5       0.0          NaN  2020-04-23 12:43:47  NaN    70142270   \n",
       "6       NaN          NaN  2020-03-15 15:12:05  NaN    24295753   \n",
       "7       NaN          NaN  2020-03-21 23:10:07  NaN  1978992043   \n",
       "8       1.0          NaN  2020-03-15 14:54:04  NaN  1499931151   \n",
       "9       NaN          NaN  2018-11-28 13:28:02  NaN   576226470   \n",
       "10      NaN          NaN  2019-11-08 14:53:10  NaN   531236295   \n",
       "11      NaN          NaN  2020-04-25 17:51:35  NaN   251905557   \n",
       "\n",
       "                   name   lang  bot         created_at_y  statuses_count  \n",
       "0          Marty Balin      en    1  2016-07-09 19:01:19         12375.0  \n",
       "1        Gabriele Danno     it    1  2017-01-19 04:08:16            61.0  \n",
       "2             Tiny Tibo     fr    0  2018-07-08 16:27:04         27105.0  \n",
       "3          Señor Grande     en    0  2015-02-19 00:51:08         10212.0  \n",
       "4   Barstool Iowa State     en    0  2019-04-17 15:59:24          1515.0  \n",
       "5         Morgan Joseph     en    0  2014-09-01 15:31:01         12171.0  \n",
       "6          Nick (Rosie)     en    0  2014-03-16 00:53:21         18699.0  \n",
       "7                     -  en-gb    0  2018-10-23 14:43:13         33905.0  \n",
       "8                 Bojan     en    0  2018-06-13 01:16:32         26559.0  \n",
       "9               Dicerie     en    1  2017-05-12 11:13:08          2000.0  \n",
       "10      Candance Hawver     en    1  2017-03-22 11:42:55         10004.0  \n",
       "11               Adrián     en    0  2016-02-16 02:38:20         24375.0  "
      ]
     },
     "execution_count": 47,
     "metadata": {},
     "output_type": "execute_result"
    }
   ],
   "source": [
    "df_nonnull_users.user_id = pd.to_numeric(df_nonnull_users.user_id)\n",
    "df_nonnull_users.merge(df_users, left_on='user_id', right_on='id')"
   ]
  },
  {
   "cell_type": "code",
   "execution_count": 48,
   "metadata": {
    "pycharm": {
     "is_executing": true
    }
   },
   "outputs": [
    {
     "name": "stdout",
     "output_type": "stream",
     "text": [
      "retweet_count\n",
      "7\n",
      "\n",
      "           id     user_id retweet_count reply_count favorite_count  \\\n",
      "6978627   oby   114910555           NaN         NaN            NaN   \n",
      "7509770   yfj  2445641666           NaN         NaN            NaN   \n",
      "9354011   djq    70142270           NaN         NaN            NaN   \n",
      "10231019  gnn    24295753           NaN         NaN            NaN   \n",
      "11050094  fkn  1978992043           NaN         NaN            NaN   \n",
      "12987829  tgg   576226470             0         0.0            NaN   \n",
      "13484983  gaj   251905557           NaN         NaN            NaN   \n",
      "\n",
      "         num_hashtags num_urls num_mentions           created_at text  \n",
      "6978627           NaN      NaN          NaN  2020-03-15 03:51:40  NaN  \n",
      "7509770           NaN      NaN          NaN  2019-04-29 23:52:04  NaN  \n",
      "9354011           NaN      0.0          NaN  2020-04-23 12:43:47  NaN  \n",
      "10231019          NaN      NaN          NaN  2020-03-15 15:12:05  NaN  \n",
      "11050094          NaN      NaN          NaN  2020-03-21 23:10:07  NaN  \n",
      "12987829          NaN      NaN          NaN  2018-11-28 13:28:02  NaN  \n",
      "13484983          NaN      NaN          NaN  2020-04-25 17:51:35  NaN  \n",
      "reply_count\n",
      "12\n",
      "\n",
      "            id     user_id retweet_count reply_count favorite_count  \\\n",
      "4515945   vada   331806614           NaN         NaN            NaN   \n",
      "5888215    ptb   467116841             0         0.0            0.0   \n",
      "6445718    efh  1573156616             0         NaN            NaN   \n",
      "6978627    oby   114910555           NaN         NaN            NaN   \n",
      "7509770    yfj  2445641666           NaN         NaN            NaN   \n",
      "9354011    djq    70142270           NaN         NaN            NaN   \n",
      "10231019   gnn    24295753           NaN         NaN            NaN   \n",
      "11050094   fkn  1978992043           NaN         NaN            NaN   \n",
      "11332577   vam  1499931151          1222         NaN            0.0   \n",
      "12987829   tgg   576226470             0         0.0            NaN   \n",
      "13138848   kws   531236295         7bbif         0.0            NaN   \n",
      "13484983   gaj   251905557           NaN         NaN            NaN   \n",
      "\n",
      "         num_hashtags num_urls num_mentions           created_at text  \n",
      "4515945           NaN      NaN          NaN  2019-10-16 23:49:32  NaN  \n",
      "5888215           NaN      NaN          NaN  2019-06-17 09:34:56  NaN  \n",
      "6445718           NaN      NaN          NaN  2020-03-07 04:35:15  NaN  \n",
      "6978627           NaN      NaN          NaN  2020-03-15 03:51:40  NaN  \n",
      "7509770           NaN      NaN          NaN  2019-04-29 23:52:04  NaN  \n",
      "9354011           NaN      0.0          NaN  2020-04-23 12:43:47  NaN  \n",
      "10231019          NaN      NaN          NaN  2020-03-15 15:12:05  NaN  \n",
      "11050094          NaN      NaN          NaN  2020-03-21 23:10:07  NaN  \n",
      "11332577          NaN      1.0          NaN  2020-03-15 14:54:04  NaN  \n",
      "12987829          NaN      NaN          NaN  2018-11-28 13:28:02  NaN  \n",
      "13138848          NaN      NaN          NaN  2019-11-08 14:53:10  NaN  \n",
      "13484983          NaN      NaN          NaN  2020-04-25 17:51:35  NaN  \n",
      "favorite_count\n",
      "12\n",
      "\n",
      "            id     user_id retweet_count reply_count favorite_count  \\\n",
      "4515945   vada   331806614           NaN         NaN            NaN   \n",
      "5888215    ptb   467116841             0         0.0            0.0   \n",
      "6445718    efh  1573156616             0         NaN            NaN   \n",
      "6978627    oby   114910555           NaN         NaN            NaN   \n",
      "7509770    yfj  2445641666           NaN         NaN            NaN   \n",
      "9354011    djq    70142270           NaN         NaN            NaN   \n",
      "10231019   gnn    24295753           NaN         NaN            NaN   \n",
      "11050094   fkn  1978992043           NaN         NaN            NaN   \n",
      "11332577   vam  1499931151          1222         NaN            0.0   \n",
      "12987829   tgg   576226470             0         0.0            NaN   \n",
      "13138848   kws   531236295         7bbif         0.0            NaN   \n",
      "13484983   gaj   251905557           NaN         NaN            NaN   \n",
      "\n",
      "         num_hashtags num_urls num_mentions           created_at text  \n",
      "4515945           NaN      NaN          NaN  2019-10-16 23:49:32  NaN  \n",
      "5888215           NaN      NaN          NaN  2019-06-17 09:34:56  NaN  \n",
      "6445718           NaN      NaN          NaN  2020-03-07 04:35:15  NaN  \n",
      "6978627           NaN      NaN          NaN  2020-03-15 03:51:40  NaN  \n",
      "7509770           NaN      NaN          NaN  2019-04-29 23:52:04  NaN  \n",
      "9354011           NaN      0.0          NaN  2020-04-23 12:43:47  NaN  \n",
      "10231019          NaN      NaN          NaN  2020-03-15 15:12:05  NaN  \n",
      "11050094          NaN      NaN          NaN  2020-03-21 23:10:07  NaN  \n",
      "11332577          NaN      1.0          NaN  2020-03-15 14:54:04  NaN  \n",
      "12987829          NaN      NaN          NaN  2018-11-28 13:28:02  NaN  \n",
      "13138848          NaN      NaN          NaN  2019-11-08 14:53:10  NaN  \n",
      "13484983          NaN      NaN          NaN  2020-04-25 17:51:35  NaN  \n",
      "num_hashtags\n",
      "12\n",
      "\n",
      "            id     user_id retweet_count reply_count favorite_count  \\\n",
      "4515945   vada   331806614           NaN         NaN            NaN   \n",
      "5888215    ptb   467116841             0         0.0            0.0   \n",
      "6445718    efh  1573156616             0         NaN            NaN   \n",
      "6978627    oby   114910555           NaN         NaN            NaN   \n",
      "7509770    yfj  2445641666           NaN         NaN            NaN   \n",
      "9354011    djq    70142270           NaN         NaN            NaN   \n",
      "10231019   gnn    24295753           NaN         NaN            NaN   \n",
      "11050094   fkn  1978992043           NaN         NaN            NaN   \n",
      "11332577   vam  1499931151          1222         NaN            0.0   \n",
      "12987829   tgg   576226470             0         0.0            NaN   \n",
      "13138848   kws   531236295         7bbif         0.0            NaN   \n",
      "13484983   gaj   251905557           NaN         NaN            NaN   \n",
      "\n",
      "         num_hashtags num_urls num_mentions           created_at text  \n",
      "4515945           NaN      NaN          NaN  2019-10-16 23:49:32  NaN  \n",
      "5888215           NaN      NaN          NaN  2019-06-17 09:34:56  NaN  \n",
      "6445718           NaN      NaN          NaN  2020-03-07 04:35:15  NaN  \n",
      "6978627           NaN      NaN          NaN  2020-03-15 03:51:40  NaN  \n",
      "7509770           NaN      NaN          NaN  2019-04-29 23:52:04  NaN  \n",
      "9354011           NaN      0.0          NaN  2020-04-23 12:43:47  NaN  \n",
      "10231019          NaN      NaN          NaN  2020-03-15 15:12:05  NaN  \n",
      "11050094          NaN      NaN          NaN  2020-03-21 23:10:07  NaN  \n",
      "11332577          NaN      1.0          NaN  2020-03-15 14:54:04  NaN  \n",
      "12987829          NaN      NaN          NaN  2018-11-28 13:28:02  NaN  \n",
      "13138848          NaN      NaN          NaN  2019-11-08 14:53:10  NaN  \n",
      "13484983          NaN      NaN          NaN  2020-04-25 17:51:35  NaN  \n",
      "num_urls\n",
      "11\n",
      "\n",
      "            id     user_id retweet_count reply_count favorite_count  \\\n",
      "4515945   vada   331806614           NaN         NaN            NaN   \n",
      "5888215    ptb   467116841             0         0.0            0.0   \n",
      "6445718    efh  1573156616             0         NaN            NaN   \n",
      "6978627    oby   114910555           NaN         NaN            NaN   \n",
      "7509770    yfj  2445641666           NaN         NaN            NaN   \n",
      "9354011    djq    70142270           NaN         NaN            NaN   \n",
      "10231019   gnn    24295753           NaN         NaN            NaN   \n",
      "11050094   fkn  1978992043           NaN         NaN            NaN   \n",
      "12987829   tgg   576226470             0         0.0            NaN   \n",
      "13138848   kws   531236295         7bbif         0.0            NaN   \n",
      "13484983   gaj   251905557           NaN         NaN            NaN   \n",
      "\n",
      "         num_hashtags num_urls num_mentions           created_at text  \n",
      "4515945           NaN      NaN          NaN  2019-10-16 23:49:32  NaN  \n",
      "5888215           NaN      NaN          NaN  2019-06-17 09:34:56  NaN  \n",
      "6445718           NaN      NaN          NaN  2020-03-07 04:35:15  NaN  \n",
      "6978627           NaN      NaN          NaN  2020-03-15 03:51:40  NaN  \n",
      "7509770           NaN      NaN          NaN  2019-04-29 23:52:04  NaN  \n",
      "9354011           NaN      0.0          NaN  2020-04-23 12:43:47  NaN  \n",
      "10231019          NaN      NaN          NaN  2020-03-15 15:12:05  NaN  \n",
      "11050094          NaN      NaN          NaN  2020-03-21 23:10:07  NaN  \n",
      "12987829          NaN      NaN          NaN  2018-11-28 13:28:02  NaN  \n",
      "13138848          NaN      NaN          NaN  2019-11-08 14:53:10  NaN  \n",
      "13484983          NaN      NaN          NaN  2020-04-25 17:51:35  NaN  \n"
     ]
    },
    {
     "name": "stdout",
     "output_type": "stream",
     "text": [
      "num_mentions\n",
      "12\n",
      "\n",
      "            id     user_id retweet_count reply_count favorite_count  \\\n",
      "4515945   vada   331806614           NaN         NaN            NaN   \n",
      "5888215    ptb   467116841             0         0.0            0.0   \n",
      "6445718    efh  1573156616             0         NaN            NaN   \n",
      "6978627    oby   114910555           NaN         NaN            NaN   \n",
      "7509770    yfj  2445641666           NaN         NaN            NaN   \n",
      "9354011    djq    70142270           NaN         NaN            NaN   \n",
      "10231019   gnn    24295753           NaN         NaN            NaN   \n",
      "11050094   fkn  1978992043           NaN         NaN            NaN   \n",
      "11332577   vam  1499931151          1222         NaN            0.0   \n",
      "12987829   tgg   576226470             0         0.0            NaN   \n",
      "13138848   kws   531236295         7bbif         0.0            NaN   \n",
      "13484983   gaj   251905557           NaN         NaN            NaN   \n",
      "\n",
      "         num_hashtags num_urls num_mentions           created_at text  \n",
      "4515945           NaN      NaN          NaN  2019-10-16 23:49:32  NaN  \n",
      "5888215           NaN      NaN          NaN  2019-06-17 09:34:56  NaN  \n",
      "6445718           NaN      NaN          NaN  2020-03-07 04:35:15  NaN  \n",
      "6978627           NaN      NaN          NaN  2020-03-15 03:51:40  NaN  \n",
      "7509770           NaN      NaN          NaN  2019-04-29 23:52:04  NaN  \n",
      "9354011           NaN      0.0          NaN  2020-04-23 12:43:47  NaN  \n",
      "10231019          NaN      NaN          NaN  2020-03-15 15:12:05  NaN  \n",
      "11050094          NaN      NaN          NaN  2020-03-21 23:10:07  NaN  \n",
      "11332577          NaN      1.0          NaN  2020-03-15 14:54:04  NaN  \n",
      "12987829          NaN      NaN          NaN  2018-11-28 13:28:02  NaN  \n",
      "13138848          NaN      NaN          NaN  2019-11-08 14:53:10  NaN  \n",
      "13484983          NaN      NaN          NaN  2020-04-25 17:51:35  NaN  \n"
     ]
    }
   ],
   "source": [
    "for attr in ['retweet_count','reply_count','favorite_count','num_hashtags','num_urls','num_mentions']:\n",
    "    cazzo = df_tweets_single[df_tweets_single.duplicated(subset=['id', 'user_id', 'text', attr])]\n",
    "    print(attr+'\\n'+str(cazzo.shape[0])+'\\n')\n",
    "    print(cazzo)"
   ]
  },
  {
   "cell_type": "markdown",
   "metadata": {},
   "source": [
    "As this print shows, most of duplicates have missing values. If we exclude `retweet_counts`, the duplicates are the same."
   ]
  },
  {
   "cell_type": "code",
   "execution_count": 49,
   "metadata": {
    "pycharm": {
     "is_executing": true
    }
   },
   "outputs": [
    {
     "data": {
      "text/html": [
       "<div>\n",
       "<style scoped>\n",
       "    .dataframe tbody tr th:only-of-type {\n",
       "        vertical-align: middle;\n",
       "    }\n",
       "\n",
       "    .dataframe tbody tr th {\n",
       "        vertical-align: top;\n",
       "    }\n",
       "\n",
       "    .dataframe thead th {\n",
       "        text-align: right;\n",
       "    }\n",
       "</style>\n",
       "<table border=\"1\" class=\"dataframe\">\n",
       "  <thead>\n",
       "    <tr style=\"text-align: right;\">\n",
       "      <th></th>\n",
       "      <th>id</th>\n",
       "      <th>user_id</th>\n",
       "      <th>retweet_count</th>\n",
       "      <th>reply_count</th>\n",
       "      <th>favorite_count</th>\n",
       "      <th>num_hashtags</th>\n",
       "      <th>num_urls</th>\n",
       "      <th>num_mentions</th>\n",
       "      <th>created_at</th>\n",
       "      <th>text</th>\n",
       "    </tr>\n",
       "  </thead>\n",
       "  <tbody>\n",
       "    <tr>\n",
       "      <th>9354011</th>\n",
       "      <td>djq</td>\n",
       "      <td>70142270</td>\n",
       "      <td>NaN</td>\n",
       "      <td>NaN</td>\n",
       "      <td>NaN</td>\n",
       "      <td>NaN</td>\n",
       "      <td>0.0</td>\n",
       "      <td>NaN</td>\n",
       "      <td>2020-04-23 12:43:47</td>\n",
       "      <td>NaN</td>\n",
       "    </tr>\n",
       "    <tr>\n",
       "      <th>7858198</th>\n",
       "      <td>djq</td>\n",
       "      <td>70142270</td>\n",
       "      <td>NaN</td>\n",
       "      <td>NaN</td>\n",
       "      <td>NaN</td>\n",
       "      <td>NaN</td>\n",
       "      <td>0.0</td>\n",
       "      <td>NaN</td>\n",
       "      <td>2019-06-27 13:38:06</td>\n",
       "      <td>NaN</td>\n",
       "    </tr>\n",
       "    <tr>\n",
       "      <th>5123152</th>\n",
       "      <td>efh</td>\n",
       "      <td>1573156616</td>\n",
       "      <td>x0c7</td>\n",
       "      <td>NaN</td>\n",
       "      <td>NaN</td>\n",
       "      <td>NaN</td>\n",
       "      <td>NaN</td>\n",
       "      <td>NaN</td>\n",
       "      <td>2020-03-12 02:12:50</td>\n",
       "      <td>NaN</td>\n",
       "    </tr>\n",
       "    <tr>\n",
       "      <th>6445718</th>\n",
       "      <td>efh</td>\n",
       "      <td>1573156616</td>\n",
       "      <td>0</td>\n",
       "      <td>NaN</td>\n",
       "      <td>NaN</td>\n",
       "      <td>NaN</td>\n",
       "      <td>NaN</td>\n",
       "      <td>NaN</td>\n",
       "      <td>2020-03-07 04:35:15</td>\n",
       "      <td>NaN</td>\n",
       "    </tr>\n",
       "    <tr>\n",
       "      <th>8424121</th>\n",
       "      <td>fkn</td>\n",
       "      <td>1978992043</td>\n",
       "      <td>NaN</td>\n",
       "      <td>NaN</td>\n",
       "      <td>NaN</td>\n",
       "      <td>NaN</td>\n",
       "      <td>NaN</td>\n",
       "      <td>NaN</td>\n",
       "      <td>2020-04-03 16:24:47</td>\n",
       "      <td>NaN</td>\n",
       "    </tr>\n",
       "    <tr>\n",
       "      <th>11050094</th>\n",
       "      <td>fkn</td>\n",
       "      <td>1978992043</td>\n",
       "      <td>NaN</td>\n",
       "      <td>NaN</td>\n",
       "      <td>NaN</td>\n",
       "      <td>NaN</td>\n",
       "      <td>NaN</td>\n",
       "      <td>NaN</td>\n",
       "      <td>2020-03-21 23:10:07</td>\n",
       "      <td>NaN</td>\n",
       "    </tr>\n",
       "    <tr>\n",
       "      <th>13484983</th>\n",
       "      <td>gaj</td>\n",
       "      <td>251905557</td>\n",
       "      <td>NaN</td>\n",
       "      <td>NaN</td>\n",
       "      <td>NaN</td>\n",
       "      <td>NaN</td>\n",
       "      <td>NaN</td>\n",
       "      <td>NaN</td>\n",
       "      <td>2020-04-25 17:51:35</td>\n",
       "      <td>NaN</td>\n",
       "    </tr>\n",
       "    <tr>\n",
       "      <th>13074603</th>\n",
       "      <td>gaj</td>\n",
       "      <td>251905557</td>\n",
       "      <td>NaN</td>\n",
       "      <td>NaN</td>\n",
       "      <td>NaN</td>\n",
       "      <td>NaN</td>\n",
       "      <td>NaN</td>\n",
       "      <td>NaN</td>\n",
       "      <td>2020-04-04 23:35:19</td>\n",
       "      <td>NaN</td>\n",
       "    </tr>\n",
       "    <tr>\n",
       "      <th>10231019</th>\n",
       "      <td>gnn</td>\n",
       "      <td>24295753</td>\n",
       "      <td>NaN</td>\n",
       "      <td>NaN</td>\n",
       "      <td>NaN</td>\n",
       "      <td>NaN</td>\n",
       "      <td>NaN</td>\n",
       "      <td>NaN</td>\n",
       "      <td>2020-03-15 15:12:05</td>\n",
       "      <td>NaN</td>\n",
       "    </tr>\n",
       "    <tr>\n",
       "      <th>8474665</th>\n",
       "      <td>gnn</td>\n",
       "      <td>24295753</td>\n",
       "      <td>NaN</td>\n",
       "      <td>NaN</td>\n",
       "      <td>NaN</td>\n",
       "      <td>NaN</td>\n",
       "      <td>NaN</td>\n",
       "      <td>NaN</td>\n",
       "      <td>2020-03-14 00:09:55</td>\n",
       "      <td>NaN</td>\n",
       "    </tr>\n",
       "    <tr>\n",
       "      <th>11981948</th>\n",
       "      <td>kws</td>\n",
       "      <td>531236295</td>\n",
       "      <td>0</td>\n",
       "      <td>0.0</td>\n",
       "      <td>NaN</td>\n",
       "      <td>NaN</td>\n",
       "      <td>NaN</td>\n",
       "      <td>NaN</td>\n",
       "      <td>2019-10-25 00:52:55</td>\n",
       "      <td>NaN</td>\n",
       "    </tr>\n",
       "    <tr>\n",
       "      <th>13138848</th>\n",
       "      <td>kws</td>\n",
       "      <td>531236295</td>\n",
       "      <td>7bbif</td>\n",
       "      <td>0.0</td>\n",
       "      <td>NaN</td>\n",
       "      <td>NaN</td>\n",
       "      <td>NaN</td>\n",
       "      <td>NaN</td>\n",
       "      <td>2019-11-08 14:53:10</td>\n",
       "      <td>NaN</td>\n",
       "    </tr>\n",
       "    <tr>\n",
       "      <th>4220539</th>\n",
       "      <td>oby</td>\n",
       "      <td>114910555</td>\n",
       "      <td>NaN</td>\n",
       "      <td>NaN</td>\n",
       "      <td>NaN</td>\n",
       "      <td>NaN</td>\n",
       "      <td>NaN</td>\n",
       "      <td>NaN</td>\n",
       "      <td>2020-04-06 21:33:27</td>\n",
       "      <td>NaN</td>\n",
       "    </tr>\n",
       "    <tr>\n",
       "      <th>6978627</th>\n",
       "      <td>oby</td>\n",
       "      <td>114910555</td>\n",
       "      <td>NaN</td>\n",
       "      <td>NaN</td>\n",
       "      <td>NaN</td>\n",
       "      <td>NaN</td>\n",
       "      <td>NaN</td>\n",
       "      <td>NaN</td>\n",
       "      <td>2020-03-15 03:51:40</td>\n",
       "      <td>NaN</td>\n",
       "    </tr>\n",
       "    <tr>\n",
       "      <th>5888215</th>\n",
       "      <td>ptb</td>\n",
       "      <td>467116841</td>\n",
       "      <td>0</td>\n",
       "      <td>0.0</td>\n",
       "      <td>0.0</td>\n",
       "      <td>NaN</td>\n",
       "      <td>NaN</td>\n",
       "      <td>NaN</td>\n",
       "      <td>2019-06-17 09:34:56</td>\n",
       "      <td>NaN</td>\n",
       "    </tr>\n",
       "    <tr>\n",
       "      <th>2513232</th>\n",
       "      <td>ptb</td>\n",
       "      <td>467116841</td>\n",
       "      <td>NaN</td>\n",
       "      <td>0.0</td>\n",
       "      <td>0.0</td>\n",
       "      <td>NaN</td>\n",
       "      <td>NaN</td>\n",
       "      <td>NaN</td>\n",
       "      <td>2019-10-15 21:01:24</td>\n",
       "      <td>NaN</td>\n",
       "    </tr>\n",
       "    <tr>\n",
       "      <th>7478529</th>\n",
       "      <td>tgg</td>\n",
       "      <td>576226470</td>\n",
       "      <td>0</td>\n",
       "      <td>0.0</td>\n",
       "      <td>NaN</td>\n",
       "      <td>NaN</td>\n",
       "      <td>NaN</td>\n",
       "      <td>NaN</td>\n",
       "      <td>2018-12-14 08:19:54</td>\n",
       "      <td>NaN</td>\n",
       "    </tr>\n",
       "    <tr>\n",
       "      <th>12987829</th>\n",
       "      <td>tgg</td>\n",
       "      <td>576226470</td>\n",
       "      <td>0</td>\n",
       "      <td>0.0</td>\n",
       "      <td>NaN</td>\n",
       "      <td>NaN</td>\n",
       "      <td>NaN</td>\n",
       "      <td>NaN</td>\n",
       "      <td>2018-11-28 13:28:02</td>\n",
       "      <td>NaN</td>\n",
       "    </tr>\n",
       "    <tr>\n",
       "      <th>1181024</th>\n",
       "      <td>vada</td>\n",
       "      <td>331806614</td>\n",
       "      <td>0</td>\n",
       "      <td>NaN</td>\n",
       "      <td>NaN</td>\n",
       "      <td>NaN</td>\n",
       "      <td>NaN</td>\n",
       "      <td>NaN</td>\n",
       "      <td>2019-10-18 12:45:40</td>\n",
       "      <td>NaN</td>\n",
       "    </tr>\n",
       "    <tr>\n",
       "      <th>4515945</th>\n",
       "      <td>vada</td>\n",
       "      <td>331806614</td>\n",
       "      <td>NaN</td>\n",
       "      <td>NaN</td>\n",
       "      <td>NaN</td>\n",
       "      <td>NaN</td>\n",
       "      <td>NaN</td>\n",
       "      <td>NaN</td>\n",
       "      <td>2019-10-16 23:49:32</td>\n",
       "      <td>NaN</td>\n",
       "    </tr>\n",
       "    <tr>\n",
       "      <th>3000919</th>\n",
       "      <td>yfj</td>\n",
       "      <td>2445641666</td>\n",
       "      <td>NaN</td>\n",
       "      <td>NaN</td>\n",
       "      <td>NaN</td>\n",
       "      <td>NaN</td>\n",
       "      <td>NaN</td>\n",
       "      <td>NaN</td>\n",
       "      <td>2019-06-25 14:00:15</td>\n",
       "      <td>NaN</td>\n",
       "    </tr>\n",
       "    <tr>\n",
       "      <th>7509770</th>\n",
       "      <td>yfj</td>\n",
       "      <td>2445641666</td>\n",
       "      <td>NaN</td>\n",
       "      <td>NaN</td>\n",
       "      <td>NaN</td>\n",
       "      <td>NaN</td>\n",
       "      <td>NaN</td>\n",
       "      <td>NaN</td>\n",
       "      <td>2019-04-29 23:52:04</td>\n",
       "      <td>NaN</td>\n",
       "    </tr>\n",
       "  </tbody>\n",
       "</table>\n",
       "</div>"
      ],
      "text/plain": [
       "            id     user_id retweet_count reply_count favorite_count  \\\n",
       "9354011    djq    70142270           NaN         NaN            NaN   \n",
       "7858198    djq    70142270           NaN         NaN            NaN   \n",
       "5123152    efh  1573156616          x0c7         NaN            NaN   \n",
       "6445718    efh  1573156616             0         NaN            NaN   \n",
       "8424121    fkn  1978992043           NaN         NaN            NaN   \n",
       "11050094   fkn  1978992043           NaN         NaN            NaN   \n",
       "13484983   gaj   251905557           NaN         NaN            NaN   \n",
       "13074603   gaj   251905557           NaN         NaN            NaN   \n",
       "10231019   gnn    24295753           NaN         NaN            NaN   \n",
       "8474665    gnn    24295753           NaN         NaN            NaN   \n",
       "11981948   kws   531236295             0         0.0            NaN   \n",
       "13138848   kws   531236295         7bbif         0.0            NaN   \n",
       "4220539    oby   114910555           NaN         NaN            NaN   \n",
       "6978627    oby   114910555           NaN         NaN            NaN   \n",
       "5888215    ptb   467116841             0         0.0            0.0   \n",
       "2513232    ptb   467116841           NaN         0.0            0.0   \n",
       "7478529    tgg   576226470             0         0.0            NaN   \n",
       "12987829   tgg   576226470             0         0.0            NaN   \n",
       "1181024   vada   331806614             0         NaN            NaN   \n",
       "4515945   vada   331806614           NaN         NaN            NaN   \n",
       "3000919    yfj  2445641666           NaN         NaN            NaN   \n",
       "7509770    yfj  2445641666           NaN         NaN            NaN   \n",
       "\n",
       "         num_hashtags num_urls num_mentions           created_at text  \n",
       "9354011           NaN      0.0          NaN  2020-04-23 12:43:47  NaN  \n",
       "7858198           NaN      0.0          NaN  2019-06-27 13:38:06  NaN  \n",
       "5123152           NaN      NaN          NaN  2020-03-12 02:12:50  NaN  \n",
       "6445718           NaN      NaN          NaN  2020-03-07 04:35:15  NaN  \n",
       "8424121           NaN      NaN          NaN  2020-04-03 16:24:47  NaN  \n",
       "11050094          NaN      NaN          NaN  2020-03-21 23:10:07  NaN  \n",
       "13484983          NaN      NaN          NaN  2020-04-25 17:51:35  NaN  \n",
       "13074603          NaN      NaN          NaN  2020-04-04 23:35:19  NaN  \n",
       "10231019          NaN      NaN          NaN  2020-03-15 15:12:05  NaN  \n",
       "8474665           NaN      NaN          NaN  2020-03-14 00:09:55  NaN  \n",
       "11981948          NaN      NaN          NaN  2019-10-25 00:52:55  NaN  \n",
       "13138848          NaN      NaN          NaN  2019-11-08 14:53:10  NaN  \n",
       "4220539           NaN      NaN          NaN  2020-04-06 21:33:27  NaN  \n",
       "6978627           NaN      NaN          NaN  2020-03-15 03:51:40  NaN  \n",
       "5888215           NaN      NaN          NaN  2019-06-17 09:34:56  NaN  \n",
       "2513232           NaN      NaN          NaN  2019-10-15 21:01:24  NaN  \n",
       "7478529           NaN      NaN          NaN  2018-12-14 08:19:54  NaN  \n",
       "12987829          NaN      NaN          NaN  2018-11-28 13:28:02  NaN  \n",
       "1181024           NaN      NaN          NaN  2019-10-18 12:45:40  NaN  \n",
       "4515945           NaN      NaN          NaN  2019-10-16 23:49:32  NaN  \n",
       "3000919           NaN      NaN          NaN  2019-06-25 14:00:15  NaN  \n",
       "7509770           NaN      NaN          NaN  2019-04-29 23:52:04  NaN  "
      ]
     },
     "execution_count": 49,
     "metadata": {},
     "output_type": "execute_result"
    }
   ],
   "source": [
    "df_tweets_single[df_tweets_single.duplicated(subset=['id', 'user_id', 'text', 'reply_count','favorite_count','num_hashtags','num_urls','num_mentions'], keep=False)].sort_values(by='id')"
   ]
  },
  {
   "cell_type": "markdown",
   "metadata": {},
   "source": [
    "# FINE\n",
    "From now on we assume that the records in the dataset are not duplcated."
   ]
  },
  {
   "cell_type": "code",
   "execution_count": 154,
   "metadata": {
    "pycharm": {
     "is_executing": true
    }
   },
   "outputs": [
    {
     "name": "stdout",
     "output_type": "stream",
     "text": [
      "<class 'pandas.core.frame.DataFrame'>\n",
      "RangeIndex: 11508 entries, 0 to 11507\n",
      "Data columns (total 6 columns):\n",
      " #   Column          Non-Null Count  Dtype  \n",
      "---  ------          --------------  -----  \n",
      " 0   id              11508 non-null  int64  \n",
      " 1   name            11507 non-null  object \n",
      " 2   lang            11508 non-null  object \n",
      " 3   bot             11508 non-null  int64  \n",
      " 4   created_at      11508 non-null  object \n",
      " 5   statuses_count  11109 non-null  float64\n",
      "dtypes: float64(1), int64(2), object(3)\n",
      "memory usage: 539.6+ KB\n"
     ]
    }
   ],
   "source": [
    "df_users.info()"
   ]
  },
  {
   "cell_type": "markdown",
   "metadata": {},
   "source": [
    "# Statuses count\n",
    "Since we have a lot of nulls in the `statuses_count` column, we need to estimate the missing values. The estimate could be computed as the average difference between `statuses_count` and the tweets that we have in the tweets dataset for that user plus the count of the tweets that we have."
   ]
  },
  {
   "cell_type": "code",
   "execution_count": 155,
   "metadata": {
    "pycharm": {
     "is_executing": true
    }
   },
   "outputs": [
    {
     "data": {
      "text/plain": [
       "['616225564',\n",
       " '1370348599',\n",
       " '617369459',\n",
       " '2362195375',\n",
       " '2351047069',\n",
       " '1374225350',\n",
       " '616231067',\n",
       " '2377056618',\n",
       " '2368349419',\n",
       " '2352067280',\n",
       " '2213012017',\n",
       " '1174851499',\n",
       " '2353004929',\n",
       " '395436399',\n",
       " '2360059244',\n",
       " '64110707',\n",
       " '1174643767',\n",
       " '2353315740',\n",
       " '2351804233',\n",
       " '2385738188',\n",
       " '2370931374',\n",
       " '1127305652',\n",
       " '2354525906',\n",
       " '1174850017',\n",
       " '616300029',\n",
       " '2377046539',\n",
       " '222293510',\n",
       " '2381626472',\n",
       " '2378062974',\n",
       " '2362497235',\n",
       " '1176382580',\n",
       " '2359618297',\n",
       " '1174682425',\n",
       " '164508239',\n",
       " '2349695514',\n",
       " '2355212616',\n",
       " '617758666',\n",
       " '2360304794',\n",
       " '1174790898',\n",
       " '2366681186',\n",
       " '1205078954',\n",
       " '2358383732',\n",
       " '1130207582',\n",
       " '2363173189',\n",
       " '759191942',\n",
       " '2359444374',\n",
       " '162039067',\n",
       " '1174600752',\n",
       " '2386654226',\n",
       " '60346119',\n",
       " '2352835644',\n",
       " '2356322551',\n",
       " '2358710996',\n",
       " '2384487582',\n",
       " '39328305',\n",
       " '55398486',\n",
       " '548300100',\n",
       " '2357578801',\n",
       " '2357266153',\n",
       " '2356788036',\n",
       " '108581391',\n",
       " '2382953520',\n",
       " '2384101910',\n",
       " '38520305',\n",
       " '104657589',\n",
       " '2354194003',\n",
       " '2364429956',\n",
       " '2360391619',\n",
       " '617733045',\n",
       " '2384166104',\n",
       " '620896239',\n",
       " '2361683048',\n",
       " '2358527095',\n",
       " '2355118178',\n",
       " '2374069344',\n",
       " '1176217807',\n",
       " '617047718',\n",
       " '1128518971',\n",
       " '1175841943',\n",
       " '616232251',\n",
       " '234587511',\n",
       " '2376868266',\n",
       " '616206452',\n",
       " '616298907',\n",
       " '1175717354',\n",
       " '2351849318',\n",
       " '2381263592',\n",
       " '2351073744',\n",
       " '1176157068',\n",
       " '1175729749',\n",
       " '620776121',\n",
       " '2378671002',\n",
       " '2352399168',\n",
       " '1176120306',\n",
       " '2368522796',\n",
       " '2361319741',\n",
       " '2350340557',\n",
       " '616229738',\n",
       " '619683215',\n",
       " '2367835429',\n",
       " '951793016',\n",
       " '1124295318',\n",
       " '2370720974',\n",
       " '2376920149',\n",
       " '2350928496',\n",
       " '2362501692',\n",
       " '2368330536',\n",
       " '2384566154',\n",
       " '616634356',\n",
       " '618211732',\n",
       " '617821602',\n",
       " '618460019',\n",
       " '617916495',\n",
       " '1129884836',\n",
       " '1129874462',\n",
       " '511263887',\n",
       " '2386642392',\n",
       " '2352893922',\n",
       " '616225156',\n",
       " '1175656208',\n",
       " '2364558116',\n",
       " '2357144700',\n",
       " '1176040076',\n",
       " '2361609852',\n",
       " '1176221054',\n",
       " '2366746068',\n",
       " '618891870',\n",
       " '616223591',\n",
       " '2366598108',\n",
       " '616212358',\n",
       " '2377625022',\n",
       " '618167879',\n",
       " '2370401390',\n",
       " '2352528294',\n",
       " '2382480786',\n",
       " '2383991143',\n",
       " '259396381',\n",
       " '1127260807',\n",
       " '105510200',\n",
       " '2378379048',\n",
       " '2366433282',\n",
       " '2384555508',\n",
       " '40010436',\n",
       " '2374328761',\n",
       " '1176335570',\n",
       " '616222988',\n",
       " '267092571',\n",
       " '2362021382',\n",
       " '2355930697',\n",
       " '1174331750',\n",
       " '616621744',\n",
       " '2366368231',\n",
       " '2358823448',\n",
       " '101892747',\n",
       " '128620164',\n",
       " '80479674',\n",
       " '2368419175',\n",
       " '2362522104',\n",
       " '1127177594',\n",
       " '2364059066',\n",
       " '1175732936',\n",
       " '618949013',\n",
       " '616650103',\n",
       " '132494511',\n",
       " '2363549845',\n",
       " '207293756',\n",
       " '1124770110',\n",
       " '111198123',\n",
       " '170486247',\n",
       " '1480973431',\n",
       " '2377024164',\n",
       " '616224764',\n",
       " '2353503006',\n",
       " '2384499901',\n",
       " '2354030168',\n",
       " '616223419',\n",
       " '2383246700',\n",
       " '451920644',\n",
       " '2357179152',\n",
       " '1391378610',\n",
       " '1174357974',\n",
       " '2377315075',\n",
       " '302513351',\n",
       " '1126057680',\n",
       " '2384214144',\n",
       " '716723184',\n",
       " '2360982962',\n",
       " '2384245609',\n",
       " '2380735502',\n",
       " '2357114827',\n",
       " '616299501',\n",
       " '146913214',\n",
       " '1174847785',\n",
       " '616944056',\n",
       " '2354977040',\n",
       " '616450851',\n",
       " '617695825',\n",
       " '2353624196',\n",
       " '1176352386',\n",
       " '355303911',\n",
       " '1127547493',\n",
       " '1174352306',\n",
       " '1176301609',\n",
       " '2358463868',\n",
       " '2352977994',\n",
       " '2354349955',\n",
       " '2352085909',\n",
       " '2355068754',\n",
       " '2384066707',\n",
       " '2351939515',\n",
       " '2380891766',\n",
       " '2384122268',\n",
       " '1175021809',\n",
       " '2351889578',\n",
       " '1208952572',\n",
       " '2360251669',\n",
       " '2357126318',\n",
       " '617301783',\n",
       " '2351105022',\n",
       " '1176315806',\n",
       " '2384763679',\n",
       " '2352676352',\n",
       " '2349375307',\n",
       " '2360581861',\n",
       " '2361892304',\n",
       " '2354208668',\n",
       " '2349775940',\n",
       " '2352383406',\n",
       " '2357108466',\n",
       " '617390783',\n",
       " '303932719',\n",
       " '106595346',\n",
       " '2354352530',\n",
       " '1176127140',\n",
       " '2265992857',\n",
       " '1174912687',\n",
       " '128278995',\n",
       " '619792617',\n",
       " '1175044778',\n",
       " '537276941',\n",
       " '2363564364',\n",
       " '2358201060',\n",
       " '2364200005',\n",
       " '2386566566',\n",
       " '2364225000',\n",
       " '422395359',\n",
       " '153921560',\n",
       " '2364549032',\n",
       " '2375070012',\n",
       " '616205957',\n",
       " '2349468188',\n",
       " '2373183630',\n",
       " '217298740',\n",
       " '1175651917',\n",
       " '2371128103',\n",
       " '2354387858',\n",
       " '1174530324',\n",
       " '616298811',\n",
       " '2350152440',\n",
       " '2349557204',\n",
       " '357756459',\n",
       " '223980471',\n",
       " '1176037639',\n",
       " '2384562968',\n",
       " '2370905606',\n",
       " '1128398388',\n",
       " '616256389',\n",
       " '2357963438',\n",
       " '2383095756',\n",
       " '617240486',\n",
       " '2352603318',\n",
       " '1175963882',\n",
       " '2369025158',\n",
       " '1176135906',\n",
       " '2352307056',\n",
       " '2212792506',\n",
       " '2349932018',\n",
       " '2360384654',\n",
       " '2379457004',\n",
       " '2358208177',\n",
       " '189015964',\n",
       " '2357161430',\n",
       " '2382957589',\n",
       " '2384187024',\n",
       " '2362227691',\n",
       " '2375359969',\n",
       " '617578990',\n",
       " '619080462',\n",
       " '2384657844',\n",
       " '1174403612',\n",
       " '334938683',\n",
       " '616699097',\n",
       " '2356701367',\n",
       " '617490522',\n",
       " '2213122314',\n",
       " '72348749',\n",
       " '1174911457',\n",
       " '616310832',\n",
       " '198572784',\n",
       " '2380833098',\n",
       " '2350404290',\n",
       " '2352786636',\n",
       " '616308894',\n",
       " '2366353531',\n",
       " '1368715160',\n",
       " '2360613104',\n",
       " '2357575628',\n",
       " '105696650',\n",
       " '620259574',\n",
       " '2350047786',\n",
       " '1174998572',\n",
       " '2352120408',\n",
       " '2361742700',\n",
       " '1213479486',\n",
       " '2378847420',\n",
       " '2367870068',\n",
       " '2364191815',\n",
       " '1127165706',\n",
       " '2386437422',\n",
       " '2372977182',\n",
       " '618529778',\n",
       " '616225411',\n",
       " '2352019645',\n",
       " '2360565204',\n",
       " '1124453858',\n",
       " '2370137318',\n",
       " '616219883',\n",
       " '1174581626',\n",
       " '2361298316',\n",
       " '2380729915',\n",
       " '616977419',\n",
       " '616598289',\n",
       " '487827567',\n",
       " '616304457',\n",
       " '1174332248',\n",
       " '1208020117',\n",
       " '2385918984',\n",
       " '2356933212',\n",
       " '2348201450',\n",
       " '2351035076',\n",
       " '2384161152',\n",
       " '2358417253',\n",
       " '1176184358',\n",
       " '1127322342',\n",
       " '2364236432',\n",
       " '2364055700',\n",
       " '2383916527',\n",
       " '460577572',\n",
       " '2353421623',\n",
       " '2385082080',\n",
       " '2384264934',\n",
       " '619445404',\n",
       " '123222267',\n",
       " '617173576',\n",
       " '2366312984',\n",
       " '1176275664',\n",
       " '2355123374',\n",
       " '413650968',\n",
       " '2363027136',\n",
       " '1124407771',\n",
       " '616218743',\n",
       " '292533078',\n",
       " '19230427',\n",
       " '2382452304',\n",
       " '2351789539',\n",
       " '1205018334',\n",
       " '617560837',\n",
       " '617448956',\n",
       " '2364927650',\n",
       " '616881617',\n",
       " '2352457448',\n",
       " '709542337',\n",
       " '2383421131',\n",
       " '1391622127',\n",
       " '616851701',\n",
       " '1174560212',\n",
       " '2358029616',\n",
       " '1130238283',\n",
       " '616538559',\n",
       " '1174898036',\n",
       " '616906634',\n",
       " '1174750884',\n",
       " '2349977298',\n",
       " '2358040098',\n",
       " '616227895',\n",
       " '2358501398',\n",
       " '2356299860',\n",
       " '2363921462',\n",
       " '2380214491',\n",
       " '1130522202',\n",
       " '2385149940',\n",
       " '2352555318',\n",
       " '616292463',\n",
       " '2358107382',\n",
       " '2352903248',\n",
       " '2366095543',\n",
       " '1176282888',\n",
       " '1175005345',\n",
       " '2352911527']"
      ]
     },
     "execution_count": 155,
     "metadata": {},
     "output_type": "execute_result"
    }
   ],
   "source": [
    "user_ids_with_null_statuses_count = df_users[df_users['statuses_count'].isnull() == True].id.astype(str).tolist()\n",
    "user_ids_with_null_statuses_count"
   ]
  },
  {
   "cell_type": "code",
   "execution_count": 156,
   "metadata": {
    "pycharm": {
     "is_executing": true
    }
   },
   "outputs": [
    {
     "data": {
      "text/plain": [
       "False    13613038\n",
       "True        51658\n",
       "Name: user_id, dtype: int64"
      ]
     },
     "execution_count": 156,
     "metadata": {},
     "output_type": "execute_result"
    }
   ],
   "source": [
    "df_tweets['user_id'].isin(user_ids_with_null_statuses_count).value_counts()"
   ]
  },
  {
   "cell_type": "code",
   "execution_count": 157,
   "metadata": {
    "pycharm": {
     "is_executing": true
    }
   },
   "outputs": [],
   "source": [
    "tweets_by_user_ids_with_null_statuses_count = df_tweets[df_tweets['user_id'].isin(user_ids_with_null_statuses_count)]"
   ]
  },
  {
   "cell_type": "code",
   "execution_count": 158,
   "metadata": {
    "pycharm": {
     "is_executing": true
    }
   },
   "outputs": [],
   "source": [
    "# it'a series!\n",
    "tweets_counts_null_statuses = tweets_by_user_ids_with_null_statuses_count.groupby(['user_id']).count()['created_at']"
   ]
  },
  {
   "cell_type": "code",
   "execution_count": 159,
   "metadata": {
    "pycharm": {
     "is_executing": true
    }
   },
   "outputs": [
    {
     "name": "stdout",
     "output_type": "stream",
     "text": [
      "5883.312359348276 68.0\n"
     ]
    }
   ],
   "source": [
    "nonnull_users = df_users[df_users['statuses_count'].isnull() == False]\n",
    "mean_statuses_count = nonnull_users.statuses_count.mean()\n",
    "median_statuses_count = nonnull_users.statuses_count.median()\n",
    "print(mean_statuses_count,median_statuses_count)"
   ]
  },
  {
   "cell_type": "code",
   "execution_count": 160,
   "metadata": {
    "pycharm": {
     "is_executing": true
    }
   },
   "outputs": [
    {
     "data": {
      "image/png": "[encoded data removed]",
      "text/plain": [
       "<Figure size 640x480 with 1 Axes>"
      ]
     },
     "metadata": {},
     "output_type": "display_data"
    }
   ],
   "source": [
    "plt.boxplot(nonnull_users.statuses_count,showmeans=True)\n",
    "plt.yscale('log')\n",
    "plt.show()"
   ]
  },
  {
   "cell_type": "markdown",
   "metadata": {},
   "source": [
    "The boxplot shows that the mean is near the 90th percentile, so we find more reasonable to use the median value to replace the missing values for the `statuses_count` attribute."
   ]
  },
  {
   "cell_type": "code",
   "execution_count": 161,
   "metadata": {
    "pycharm": {
     "is_executing": true
    }
   },
   "outputs": [],
   "source": [
    "user_ids_with_nonnull_statuses_count = df_users[df_users['statuses_count'].isnull() == False].id.astype(str).tolist()\n",
    "tweets_by_user_ids_with_nonnull_statuses_count = df_tweets[df_tweets['user_id'].isin(user_ids_with_nonnull_statuses_count)]\n",
    "tweets_counts_nonnull_statuses = tweets_by_user_ids_with_nonnull_statuses_count.groupby(['user_id']).count()['created_at']"
   ]
  },
  {
   "cell_type": "code",
   "execution_count": 162,
   "metadata": {
    "pycharm": {
     "is_executing": true
    }
   },
   "outputs": [
    {
     "name": "stdout",
     "output_type": "stream",
     "text": [
      "4697.048609235755 -42.0\n"
     ]
    }
   ],
   "source": [
    "values = nonnull_users.statuses_count.values - tweets_counts_nonnull_statuses.values\n",
    "print(np.mean(values), np.median(values))"
   ]
  },
  {
   "cell_type": "code",
   "execution_count": 163,
   "metadata": {
    "pycharm": {
     "is_executing": true
    }
   },
   "outputs": [
    {
     "data": {
      "image/png": "[encoded data removed]",
      "text/plain": [
       "<Figure size 640x480 with 1 Axes>"
      ]
     },
     "metadata": {},
     "output_type": "display_data"
    }
   ],
   "source": [
    "plt.boxplot(values,showmeans=True)\n",
    "plt.show()"
   ]
  },
  {
   "cell_type": "code",
   "execution_count": 164,
   "metadata": {
    "pycharm": {
     "is_executing": true
    }
   },
   "outputs": [
    {
     "data": {
      "image/png": "[encoded data removed]",
      "text/plain": [
       "<Figure size 640x480 with 1 Axes>"
      ]
     },
     "metadata": {},
     "output_type": "display_data"
    }
   ],
   "source": [
    "sign = np.sign(values)\n",
    "log_values = np.log(np.where(np.abs(values)==0,1e-9, np.abs(values)))\n",
    "plt.boxplot(sign*log_values,showmeans=True)\n",
    "plt.show()"
   ]
  },
  {
   "cell_type": "code",
   "execution_count": 165,
   "metadata": {
    "pycharm": {
     "is_executing": true
    }
   },
   "outputs": [
    {
     "data": {
      "text/plain": [
       "20"
      ]
     },
     "execution_count": 165,
     "metadata": {},
     "output_type": "execute_result"
    }
   ],
   "source": [
    "len(values) - np.count_nonzero(values)"
   ]
  },
  {
   "cell_type": "markdown",
   "metadata": {
    "id": "OKUhen8G0lUS"
   },
   "source": [
    "0   id              11712595 non-null  object\n",
    "  - MISSING VALUES: ??\n",
    "\n",
    "1   user_id         11495314 non-null  object\n",
    "  - MISSING VALUES: ??\n",
    "\n",
    "2   retweet_count   11275463 non-null  object\n",
    "  - MISSING VALUES:\n",
    "\n",
    "3   reply_count     11064719 non-null  object\n",
    "  - MISSING VALUES:\n",
    "\n",
    "4   favorite_count  11065055 non-null  object\n",
    "  - MISSING VALUES:\n",
    " \n",
    "5   num_hashtags    10655073 non-null  object\n",
    "  - MISSING VALUES:\n",
    " \n",
    "6   num_urls        11063974 non-null  object\n",
    "  - MISSING VALUES:\n",
    " \n",
    "7   num_mentions    10858432 non-null  object\n",
    "  - MISSING VALUES:\n",
    " \n",
    "8   created_at      11712597 non-null  object\n",
    "  - MISSING VALUES: no null values\n",
    " \n",
    "9   text            11182415 non-null  object\n",
    "  - MISSING VALUES:"
   ]
  },
  {
   "cell_type": "code",
   "execution_count": 166,
   "metadata": {},
   "outputs": [],
   "source": [
    "df_users.statuses_count.fillna(median_statuses_count, inplace=True)"
   ]
  },
  {
   "cell_type": "code",
   "execution_count": 167,
   "metadata": {},
   "outputs": [
    {
     "name": "stdout",
     "output_type": "stream",
     "text": [
      "<class 'pandas.core.frame.DataFrame'>\n",
      "RangeIndex: 11508 entries, 0 to 11507\n",
      "Data columns (total 6 columns):\n",
      " #   Column          Non-Null Count  Dtype  \n",
      "---  ------          --------------  -----  \n",
      " 0   id              11508 non-null  int64  \n",
      " 1   name            11507 non-null  object \n",
      " 2   lang            11508 non-null  object \n",
      " 3   bot             11508 non-null  int64  \n",
      " 4   created_at      11508 non-null  object \n",
      " 5   statuses_count  11508 non-null  float64\n",
      "dtypes: float64(1), int64(2), object(3)\n",
      "memory usage: 539.6+ KB\n"
     ]
    }
   ],
   "source": [
    "df_users.info()\n"
   ]
  },
  {
   "cell_type": "code",
   "execution_count": 171,
   "metadata": {},
   "outputs": [
    {
     "data": {
      "text/html": [
       "<div>\n",
       "<style scoped>\n",
       "    .dataframe tbody tr th:only-of-type {\n",
       "        vertical-align: middle;\n",
       "    }\n",
       "\n",
       "    .dataframe tbody tr th {\n",
       "        vertical-align: top;\n",
       "    }\n",
       "\n",
       "    .dataframe thead th {\n",
       "        text-align: right;\n",
       "    }\n",
       "</style>\n",
       "<table border=\"1\" class=\"dataframe\">\n",
       "  <thead>\n",
       "    <tr style=\"text-align: right;\">\n",
       "      <th></th>\n",
       "      <th>id</th>\n",
       "      <th>name</th>\n",
       "      <th>lang</th>\n",
       "      <th>bot</th>\n",
       "      <th>created_at</th>\n",
       "      <th>statuses_count</th>\n",
       "      <th>created_at_conv</th>\n",
       "    </tr>\n",
       "  </thead>\n",
       "  <tbody>\n",
       "    <tr>\n",
       "      <th>0</th>\n",
       "      <td>2353593986</td>\n",
       "      <td>Lamonica Raborn</td>\n",
       "      <td>en</td>\n",
       "      <td>1</td>\n",
       "      <td>2019-02-22 18:00:42</td>\n",
       "      <td>76.0</td>\n",
       "      <td>1550858442000000000</td>\n",
       "    </tr>\n",
       "    <tr>\n",
       "      <th>1</th>\n",
       "      <td>2358850842</td>\n",
       "      <td>Lourie Botton</td>\n",
       "      <td>en</td>\n",
       "      <td>0</td>\n",
       "      <td>2019-02-26 03:02:32</td>\n",
       "      <td>54.0</td>\n",
       "      <td>1551150152000000000</td>\n",
       "    </tr>\n",
       "    <tr>\n",
       "      <th>2</th>\n",
       "      <td>137959629</td>\n",
       "      <td>Dadan Syarifudin</td>\n",
       "      <td>en</td>\n",
       "      <td>1</td>\n",
       "      <td>2015-04-30 07:09:56</td>\n",
       "      <td>3.0</td>\n",
       "      <td>1430377796000000000</td>\n",
       "    </tr>\n",
       "    <tr>\n",
       "      <th>3</th>\n",
       "      <td>466124818</td>\n",
       "      <td>Carletto Focia</td>\n",
       "      <td>it</td>\n",
       "      <td>1</td>\n",
       "      <td>2017-01-18 02:49:18</td>\n",
       "      <td>50.0</td>\n",
       "      <td>1484707758000000000</td>\n",
       "    </tr>\n",
       "    <tr>\n",
       "      <th>4</th>\n",
       "      <td>2571493866</td>\n",
       "      <td>MBK Ebook</td>\n",
       "      <td>en</td>\n",
       "      <td>0</td>\n",
       "      <td>2019-06-18 19:30:21</td>\n",
       "      <td>7085.0</td>\n",
       "      <td>1560886221000000000</td>\n",
       "    </tr>\n",
       "    <tr>\n",
       "      <th>...</th>\n",
       "      <td>...</td>\n",
       "      <td>...</td>\n",
       "      <td>...</td>\n",
       "      <td>...</td>\n",
       "      <td>...</td>\n",
       "      <td>...</td>\n",
       "      <td>...</td>\n",
       "    </tr>\n",
       "    <tr>\n",
       "      <th>11503</th>\n",
       "      <td>2911861962</td>\n",
       "      <td>Madrid Lae Maika .</td>\n",
       "      <td>en</td>\n",
       "      <td>0</td>\n",
       "      <td>2019-11-29 13:16:02</td>\n",
       "      <td>1126.0</td>\n",
       "      <td>1575033362000000000</td>\n",
       "    </tr>\n",
       "    <tr>\n",
       "      <th>11504</th>\n",
       "      <td>1378532629</td>\n",
       "      <td>Clau Sato</td>\n",
       "      <td>en</td>\n",
       "      <td>0</td>\n",
       "      <td>2018-04-27 03:01:58</td>\n",
       "      <td>3024.0</td>\n",
       "      <td>1524798118000000000</td>\n",
       "    </tr>\n",
       "    <tr>\n",
       "      <th>11505</th>\n",
       "      <td>126984069</td>\n",
       "      <td>ALMA LETICIA NUÑO</td>\n",
       "      <td>es</td>\n",
       "      <td>0</td>\n",
       "      <td>2015-03-29 17:01:24</td>\n",
       "      <td>6.0</td>\n",
       "      <td>1427648484000000000</td>\n",
       "    </tr>\n",
       "    <tr>\n",
       "      <th>11506</th>\n",
       "      <td>2383025796</td>\n",
       "      <td>Minnie Guadagno</td>\n",
       "      <td>en</td>\n",
       "      <td>1</td>\n",
       "      <td>2019-03-13 02:44:13</td>\n",
       "      <td>42.0</td>\n",
       "      <td>1552445053000000000</td>\n",
       "    </tr>\n",
       "    <tr>\n",
       "      <th>11507</th>\n",
       "      <td>933183398</td>\n",
       "      <td>Corvanna</td>\n",
       "      <td>en</td>\n",
       "      <td>0</td>\n",
       "      <td>2017-11-09 23:24:16</td>\n",
       "      <td>5279.0</td>\n",
       "      <td>1510269856000000000</td>\n",
       "    </tr>\n",
       "  </tbody>\n",
       "</table>\n",
       "<p>11508 rows × 7 columns</p>\n",
       "</div>"
      ],
      "text/plain": [
       "               id                name lang  bot           created_at  \\\n",
       "0      2353593986     Lamonica Raborn   en    1  2019-02-22 18:00:42   \n",
       "1      2358850842       Lourie Botton   en    0  2019-02-26 03:02:32   \n",
       "2       137959629    Dadan Syarifudin   en    1  2015-04-30 07:09:56   \n",
       "3       466124818      Carletto Focia   it    1  2017-01-18 02:49:18   \n",
       "4      2571493866           MBK Ebook   en    0  2019-06-18 19:30:21   \n",
       "...           ...                 ...  ...  ...                  ...   \n",
       "11503  2911861962  Madrid Lae Maika .   en    0  2019-11-29 13:16:02   \n",
       "11504  1378532629           Clau Sato   en    0  2018-04-27 03:01:58   \n",
       "11505   126984069  ALMA LETICIA NUÑO    es    0  2015-03-29 17:01:24   \n",
       "11506  2383025796     Minnie Guadagno   en    1  2019-03-13 02:44:13   \n",
       "11507   933183398           Corvanna    en    0  2017-11-09 23:24:16   \n",
       "\n",
       "       statuses_count      created_at_conv  \n",
       "0                76.0  1550858442000000000  \n",
       "1                54.0  1551150152000000000  \n",
       "2                 3.0  1430377796000000000  \n",
       "3                50.0  1484707758000000000  \n",
       "4              7085.0  1560886221000000000  \n",
       "...               ...                  ...  \n",
       "11503          1126.0  1575033362000000000  \n",
       "11504          3024.0  1524798118000000000  \n",
       "11505             6.0  1427648484000000000  \n",
       "11506            42.0  1552445053000000000  \n",
       "11507          5279.0  1510269856000000000  \n",
       "\n",
       "[11508 rows x 7 columns]"
      ]
     },
     "execution_count": 171,
     "metadata": {},
     "output_type": "execute_result"
    }
   ],
   "source": [
    "df_users['created_at_conv'] = pd.to_datetime(df_users['created_at']).astype(np.int64)\n",
    "df_users"
   ]
  },
  {
   "cell_type": "code",
   "execution_count": 173,
   "metadata": {},
   "outputs": [
    {
     "data": {
      "text/plain": [
       "<AxesSubplot: >"
      ]
     },
     "execution_count": 173,
     "metadata": {},
     "output_type": "execute_result"
    },
    {
     "data": {
      "image/png": "[encoded data removed]",
      "text/plain": [
       "<Figure size 640x480 with 1 Axes>"
      ]
     },
     "metadata": {},
     "output_type": "display_data"
    }
   ],
   "source": [
    "df_users.boxplot(['created_at_conv'])"
   ]
  },
  {
   "cell_type": "code",
   "execution_count": 174,
   "metadata": {},
   "outputs": [
    {
     "data": {
      "text/html": [
       "<div>\n",
       "<style scoped>\n",
       "    .dataframe tbody tr th:only-of-type {\n",
       "        vertical-align: middle;\n",
       "    }\n",
       "\n",
       "    .dataframe tbody tr th {\n",
       "        vertical-align: top;\n",
       "    }\n",
       "\n",
       "    .dataframe thead th {\n",
       "        text-align: right;\n",
       "    }\n",
       "</style>\n",
       "<table border=\"1\" class=\"dataframe\">\n",
       "  <thead>\n",
       "    <tr style=\"text-align: right;\">\n",
       "      <th></th>\n",
       "      <th>id</th>\n",
       "      <th>name</th>\n",
       "      <th>lang</th>\n",
       "      <th>bot</th>\n",
       "      <th>created_at</th>\n",
       "      <th>statuses_count</th>\n",
       "      <th>created_at_conv</th>\n",
       "    </tr>\n",
       "  </thead>\n",
       "  <tbody>\n",
       "    <tr>\n",
       "      <th>875</th>\n",
       "      <td>755116</td>\n",
       "      <td>呉⚛</td>\n",
       "      <td>en</td>\n",
       "      <td>0</td>\n",
       "      <td>2012-02-08 05:25:49</td>\n",
       "      <td>39158.0</td>\n",
       "      <td>1328678749000000000</td>\n",
       "    </tr>\n",
       "    <tr>\n",
       "      <th>1501</th>\n",
       "      <td>3873101</td>\n",
       "      <td>تاتسو موناكاتا</td>\n",
       "      <td>en</td>\n",
       "      <td>0</td>\n",
       "      <td>2012-04-10 07:28:52</td>\n",
       "      <td>106335.0</td>\n",
       "      <td>1334042932000000000</td>\n",
       "    </tr>\n",
       "    <tr>\n",
       "      <th>1610</th>\n",
       "      <td>887281</td>\n",
       "      <td>Paul Youlten</td>\n",
       "      <td>en</td>\n",
       "      <td>0</td>\n",
       "      <td>2012-03-11 22:25:08</td>\n",
       "      <td>626.0</td>\n",
       "      <td>1331504708000000000</td>\n",
       "    </tr>\n",
       "    <tr>\n",
       "      <th>1966</th>\n",
       "      <td>785080</td>\n",
       "      <td>W H</td>\n",
       "      <td>en</td>\n",
       "      <td>0</td>\n",
       "      <td>2012-02-23 01:08:16</td>\n",
       "      <td>22496.0</td>\n",
       "      <td>1329959296000000000</td>\n",
       "    </tr>\n",
       "    <tr>\n",
       "      <th>3285</th>\n",
       "      <td>1813221</td>\n",
       "      <td>Morgan Johnson</td>\n",
       "      <td>en</td>\n",
       "      <td>0</td>\n",
       "      <td>2012-03-22 23:43:40</td>\n",
       "      <td>20225.0</td>\n",
       "      <td>1332459820000000000</td>\n",
       "    </tr>\n",
       "    <tr>\n",
       "      <th>3878</th>\n",
       "      <td>678033</td>\n",
       "      <td>Heather Gold</td>\n",
       "      <td>en</td>\n",
       "      <td>0</td>\n",
       "      <td>2012-01-24 01:57:38</td>\n",
       "      <td>45825.0</td>\n",
       "      <td>1327370258000000000</td>\n",
       "    </tr>\n",
       "    <tr>\n",
       "      <th>6261</th>\n",
       "      <td>1382561</td>\n",
       "      <td>jojoko</td>\n",
       "      <td>en</td>\n",
       "      <td>0</td>\n",
       "      <td>2012-03-18 23:24:35</td>\n",
       "      <td>8236.0</td>\n",
       "      <td>1332113075000000000</td>\n",
       "    </tr>\n",
       "    <tr>\n",
       "      <th>6983</th>\n",
       "      <td>2770511</td>\n",
       "      <td>べン</td>\n",
       "      <td>en</td>\n",
       "      <td>0</td>\n",
       "      <td>2012-03-30 02:31:13</td>\n",
       "      <td>38140.0</td>\n",
       "      <td>1333074673000000000</td>\n",
       "    </tr>\n",
       "    <tr>\n",
       "      <th>7192</th>\n",
       "      <td>806585</td>\n",
       "      <td>Christopher Mahan</td>\n",
       "      <td>en</td>\n",
       "      <td>0</td>\n",
       "      <td>2012-03-03 17:27:49</td>\n",
       "      <td>29997.0</td>\n",
       "      <td>1330795669000000000</td>\n",
       "    </tr>\n",
       "    <tr>\n",
       "      <th>10660</th>\n",
       "      <td>755746</td>\n",
       "      <td>Sarah Friedlander G.</td>\n",
       "      <td>en</td>\n",
       "      <td>0</td>\n",
       "      <td>2012-02-09 05:21:24</td>\n",
       "      <td>18035.0</td>\n",
       "      <td>1328764884000000000</td>\n",
       "    </tr>\n",
       "    <tr>\n",
       "      <th>10988</th>\n",
       "      <td>806975</td>\n",
       "      <td>Mrinal Desai</td>\n",
       "      <td>en</td>\n",
       "      <td>0</td>\n",
       "      <td>2012-03-03 20:00:04</td>\n",
       "      <td>28400.0</td>\n",
       "      <td>1330804804000000000</td>\n",
       "    </tr>\n",
       "    <tr>\n",
       "      <th>11430</th>\n",
       "      <td>722623</td>\n",
       "      <td>Buzz Jackson</td>\n",
       "      <td>en</td>\n",
       "      <td>0</td>\n",
       "      <td>2012-01-31 00:54:34</td>\n",
       "      <td>11770.0</td>\n",
       "      <td>1327971274000000000</td>\n",
       "    </tr>\n",
       "  </tbody>\n",
       "</table>\n",
       "</div>"
      ],
      "text/plain": [
       "            id                  name lang  bot           created_at  \\\n",
       "875     755116                    呉⚛   en    0  2012-02-08 05:25:49   \n",
       "1501   3873101        تاتسو موناكاتا   en    0  2012-04-10 07:28:52   \n",
       "1610    887281          Paul Youlten   en    0  2012-03-11 22:25:08   \n",
       "1966    785080                   W H   en    0  2012-02-23 01:08:16   \n",
       "3285   1813221        Morgan Johnson   en    0  2012-03-22 23:43:40   \n",
       "3878    678033          Heather Gold   en    0  2012-01-24 01:57:38   \n",
       "6261   1382561                jojoko   en    0  2012-03-18 23:24:35   \n",
       "6983   2770511                    べン   en    0  2012-03-30 02:31:13   \n",
       "7192    806585     Christopher Mahan   en    0  2012-03-03 17:27:49   \n",
       "10660   755746  Sarah Friedlander G.   en    0  2012-02-09 05:21:24   \n",
       "10988   806975          Mrinal Desai   en    0  2012-03-03 20:00:04   \n",
       "11430   722623          Buzz Jackson   en    0  2012-01-31 00:54:34   \n",
       "\n",
       "       statuses_count      created_at_conv  \n",
       "875           39158.0  1328678749000000000  \n",
       "1501         106335.0  1334042932000000000  \n",
       "1610            626.0  1331504708000000000  \n",
       "1966          22496.0  1329959296000000000  \n",
       "3285          20225.0  1332459820000000000  \n",
       "3878          45825.0  1327370258000000000  \n",
       "6261           8236.0  1332113075000000000  \n",
       "6983          38140.0  1333074673000000000  \n",
       "7192          29997.0  1330795669000000000  \n",
       "10660         18035.0  1328764884000000000  \n",
       "10988         28400.0  1330804804000000000  \n",
       "11430         11770.0  1327971274000000000  "
      ]
     },
     "execution_count": 174,
     "metadata": {},
     "output_type": "execute_result"
    }
   ],
   "source": [
    "df_users[df_users['created_at_conv'] < df_users['created_at_conv'].quantile(0.001)]"
   ]
  },
  {
   "cell_type": "code",
   "execution_count": 175,
   "metadata": {},
   "outputs": [
    {
     "data": {
      "text/plain": [
       "1    6116\n",
       "0    5392\n",
       "Name: bot, dtype: int64"
      ]
     },
     "execution_count": 175,
     "metadata": {},
     "output_type": "execute_result"
    }
   ],
   "source": [
    "df_users['bot'].value_counts()"
   ]
  },
  {
   "cell_type": "markdown",
   "metadata": {},
   "source": [
    "# Language field\n",
    "There are some mispellings, so we are going to replace the mispelled ones to the correct ones, which are:\n",
    "- en-gb to en-GB\n",
    "- zh-tw to zh-TW\n",
    "\n",
    "There are also two wrong values, 'Select Language...' and 'xx-lc', related to three users in total.\n",
    "To understand the impact of the possible changes the number of tweets contained in the tweets file have been taken in account. The accounts seem to be active and have a lot of related tweets. The attribute is categorical so this value could be replaced by the mode which is the 'en' language. \n",
    "Since there are only three users, to double-check the validity of our choice the relative tweets have been analyzed. The check confirmed that 'en' is the right choice."
   ]
  },
  {
   "cell_type": "code",
   "execution_count": 176,
   "metadata": {},
   "outputs": [
    {
     "data": {
      "text/plain": [
       "en                    9970\n",
       "it                     906\n",
       "es                     319\n",
       "pt                      65\n",
       "en-gb                   50\n",
       "ru                      42\n",
       "fr                      36\n",
       "ja                      33\n",
       "zh-tw                   17\n",
       "tr                      14\n",
       "id                      12\n",
       "ko                       9\n",
       "de                       8\n",
       "nl                       6\n",
       "en-GB                    4\n",
       "ar                       3\n",
       "zh-TW                    3\n",
       "da                       2\n",
       "Select Language...       2\n",
       "en-AU                    1\n",
       "zh-cn                    1\n",
       "pl                       1\n",
       "el                       1\n",
       "fil                      1\n",
       "sv                       1\n",
       "xx-lc                    1\n",
       "Name: lang, dtype: int64"
      ]
     },
     "execution_count": 176,
     "metadata": {},
     "output_type": "execute_result"
    }
   ],
   "source": [
    "df_users['lang'].value_counts()"
   ]
  },
  {
   "cell_type": "code",
   "execution_count": 177,
   "metadata": {},
   "outputs": [],
   "source": [
    "df_users['lang'].replace({'en-gb':'en-GB','zh-tw':'zh-TW'}, inplace=True)"
   ]
  },
  {
   "cell_type": "code",
   "execution_count": 178,
   "metadata": {},
   "outputs": [
    {
     "data": {
      "text/plain": [
       "en                    9970\n",
       "it                     906\n",
       "es                     319\n",
       "pt                      65\n",
       "en-GB                   54\n",
       "ru                      42\n",
       "fr                      36\n",
       "ja                      33\n",
       "zh-TW                   20\n",
       "tr                      14\n",
       "id                      12\n",
       "ko                       9\n",
       "de                       8\n",
       "nl                       6\n",
       "ar                       3\n",
       "da                       2\n",
       "Select Language...       2\n",
       "en-AU                    1\n",
       "zh-cn                    1\n",
       "pl                       1\n",
       "el                       1\n",
       "fil                      1\n",
       "sv                       1\n",
       "xx-lc                    1\n",
       "Name: lang, dtype: int64"
      ]
     },
     "execution_count": 178,
     "metadata": {},
     "output_type": "execute_result"
    }
   ],
   "source": [
    "df_users['lang'].value_counts()"
   ]
  },
  {
   "cell_type": "code",
   "execution_count": 179,
   "metadata": {},
   "outputs": [
    {
     "data": {
      "text/html": [
       "<div>\n",
       "<style scoped>\n",
       "    .dataframe tbody tr th:only-of-type {\n",
       "        vertical-align: middle;\n",
       "    }\n",
       "\n",
       "    .dataframe tbody tr th {\n",
       "        vertical-align: top;\n",
       "    }\n",
       "\n",
       "    .dataframe thead th {\n",
       "        text-align: right;\n",
       "    }\n",
       "</style>\n",
       "<table border=\"1\" class=\"dataframe\">\n",
       "  <thead>\n",
       "    <tr style=\"text-align: right;\">\n",
       "      <th></th>\n",
       "      <th>id</th>\n",
       "      <th>name</th>\n",
       "      <th>lang</th>\n",
       "      <th>bot</th>\n",
       "      <th>created_at</th>\n",
       "      <th>statuses_count</th>\n",
       "      <th>created_at_conv</th>\n",
       "    </tr>\n",
       "  </thead>\n",
       "  <tbody>\n",
       "    <tr>\n",
       "      <th>4166</th>\n",
       "      <td>2956613720</td>\n",
       "      <td>Leanne Arker</td>\n",
       "      <td>Select Language...</td>\n",
       "      <td>0</td>\n",
       "      <td>2020-01-05 00:09:59</td>\n",
       "      <td>57.0</td>\n",
       "      <td>1578182999000000000</td>\n",
       "    </tr>\n",
       "    <tr>\n",
       "      <th>8666</th>\n",
       "      <td>2904858613</td>\n",
       "      <td>Brooke</td>\n",
       "      <td>Select Language...</td>\n",
       "      <td>0</td>\n",
       "      <td>2019-11-22 05:44:46</td>\n",
       "      <td>85.0</td>\n",
       "      <td>1574401486000000000</td>\n",
       "    </tr>\n",
       "    <tr>\n",
       "      <th>10065</th>\n",
       "      <td>29552151</td>\n",
       "      <td>Chloe</td>\n",
       "      <td>xx-lc</td>\n",
       "      <td>0</td>\n",
       "      <td>2014-04-09 21:36:02</td>\n",
       "      <td>15398.0</td>\n",
       "      <td>1397079362000000000</td>\n",
       "    </tr>\n",
       "  </tbody>\n",
       "</table>\n",
       "</div>"
      ],
      "text/plain": [
       "               id          name                lang  bot           created_at  \\\n",
       "4166   2956613720  Leanne Arker  Select Language...    0  2020-01-05 00:09:59   \n",
       "8666   2904858613        Brooke  Select Language...    0  2019-11-22 05:44:46   \n",
       "10065    29552151        Chloe                xx-lc    0  2014-04-09 21:36:02   \n",
       "\n",
       "       statuses_count      created_at_conv  \n",
       "4166             57.0  1578182999000000000  \n",
       "8666             85.0  1574401486000000000  \n",
       "10065         15398.0  1397079362000000000  "
      ]
     },
     "execution_count": 179,
     "metadata": {},
     "output_type": "execute_result"
    }
   ],
   "source": [
    "df_users[np.logical_or(df_users['lang'] == 'Select Language...', df_users['lang'] == 'xx-lc')]"
   ]
  },
  {
   "cell_type": "code",
   "execution_count": 181,
   "metadata": {},
   "outputs": [
    {
     "data": {
      "text/html": [
       "<div>\n",
       "<style scoped>\n",
       "    .dataframe tbody tr th:only-of-type {\n",
       "        vertical-align: middle;\n",
       "    }\n",
       "\n",
       "    .dataframe tbody tr th {\n",
       "        vertical-align: top;\n",
       "    }\n",
       "\n",
       "    .dataframe thead th {\n",
       "        text-align: right;\n",
       "    }\n",
       "</style>\n",
       "<table border=\"1\" class=\"dataframe\">\n",
       "  <thead>\n",
       "    <tr style=\"text-align: right;\">\n",
       "      <th></th>\n",
       "      <th>user_id</th>\n",
       "      <th>retweet_count</th>\n",
       "      <th>reply_count</th>\n",
       "      <th>favorite_count</th>\n",
       "      <th>num_hashtags</th>\n",
       "      <th>num_urls</th>\n",
       "      <th>num_mentions</th>\n",
       "      <th>created_at</th>\n",
       "      <th>text</th>\n",
       "    </tr>\n",
       "  </thead>\n",
       "  <tbody>\n",
       "    <tr>\n",
       "      <th>6119</th>\n",
       "      <td>29552151</td>\n",
       "      <td>0</td>\n",
       "      <td>0</td>\n",
       "      <td>0</td>\n",
       "      <td>0</td>\n",
       "      <td>0</td>\n",
       "      <td>0</td>\n",
       "      <td>2019-07-23 17:32:30</td>\n",
       "      <td>Spent the majority of my day drawing around, c...</td>\n",
       "    </tr>\n",
       "    <tr>\n",
       "      <th>12218</th>\n",
       "      <td>29552151</td>\n",
       "      <td>0</td>\n",
       "      <td>0</td>\n",
       "      <td>0</td>\n",
       "      <td>0</td>\n",
       "      <td>0</td>\n",
       "      <td>0</td>\n",
       "      <td>2019-07-16 14:34:25</td>\n",
       "      <td>We all love dem cuddles. http://t.co/fPrcnUfacS</td>\n",
       "    </tr>\n",
       "    <tr>\n",
       "      <th>15946</th>\n",
       "      <td>29552151</td>\n",
       "      <td>0</td>\n",
       "      <td>0</td>\n",
       "      <td>0</td>\n",
       "      <td>0</td>\n",
       "      <td>0</td>\n",
       "      <td>0</td>\n",
       "      <td>2019-07-07 13:12:33</td>\n",
       "      <td>Dog sitting until 8 tonight. Again..</td>\n",
       "    </tr>\n",
       "    <tr>\n",
       "      <th>16947</th>\n",
       "      <td>29552151</td>\n",
       "      <td>0</td>\n",
       "      <td>NaN</td>\n",
       "      <td>0.0</td>\n",
       "      <td>NaN</td>\n",
       "      <td>0.0</td>\n",
       "      <td>NaN</td>\n",
       "      <td>2019-07-16 20:58:50</td>\n",
       "      <td>NaN</td>\n",
       "    </tr>\n",
       "    <tr>\n",
       "      <th>17457</th>\n",
       "      <td>29552151</td>\n",
       "      <td>NaN</td>\n",
       "      <td>0.0</td>\n",
       "      <td>NaN</td>\n",
       "      <td>0.0</td>\n",
       "      <td>0.0</td>\n",
       "      <td>0</td>\n",
       "      <td>2020-02-27 20:17:18</td>\n",
       "      <td>The chocolate is soooooooooooo amazing.</td>\n",
       "    </tr>\n",
       "    <tr>\n",
       "      <th>...</th>\n",
       "      <td>...</td>\n",
       "      <td>...</td>\n",
       "      <td>...</td>\n",
       "      <td>...</td>\n",
       "      <td>...</td>\n",
       "      <td>...</td>\n",
       "      <td>...</td>\n",
       "      <td>...</td>\n",
       "      <td>...</td>\n",
       "    </tr>\n",
       "    <tr>\n",
       "      <th>13633429</th>\n",
       "      <td>29552151</td>\n",
       "      <td>0</td>\n",
       "      <td>0</td>\n",
       "      <td>0</td>\n",
       "      <td>0</td>\n",
       "      <td>0</td>\n",
       "      <td>0</td>\n",
       "      <td>2019-07-27 12:25:15</td>\n",
       "      <td>@Cock_Penis Around 4 hopefully...Got to go to ...</td>\n",
       "    </tr>\n",
       "    <tr>\n",
       "      <th>13634576</th>\n",
       "      <td>29552151</td>\n",
       "      <td>0</td>\n",
       "      <td>0</td>\n",
       "      <td>0</td>\n",
       "      <td>0</td>\n",
       "      <td>0</td>\n",
       "      <td>0</td>\n",
       "      <td>2019-06-21 20:02:52</td>\n",
       "      <td>I'd love to have white hair for real though.</td>\n",
       "    </tr>\n",
       "    <tr>\n",
       "      <th>13637349</th>\n",
       "      <td>29552151</td>\n",
       "      <td>0</td>\n",
       "      <td>0</td>\n",
       "      <td>0</td>\n",
       "      <td>0</td>\n",
       "      <td>0</td>\n",
       "      <td>0</td>\n",
       "      <td>2020-02-06 11:33:15</td>\n",
       "      <td>Is there a way to wake up without feeling like...</td>\n",
       "    </tr>\n",
       "    <tr>\n",
       "      <th>13640124</th>\n",
       "      <td>29552151</td>\n",
       "      <td>0</td>\n",
       "      <td>0</td>\n",
       "      <td>0</td>\n",
       "      <td>0</td>\n",
       "      <td>0</td>\n",
       "      <td>0</td>\n",
       "      <td>2019-06-26 19:05:19</td>\n",
       "      <td>...and my nails are obviously being painted bl...</td>\n",
       "    </tr>\n",
       "    <tr>\n",
       "      <th>13653170</th>\n",
       "      <td>29552151</td>\n",
       "      <td>0</td>\n",
       "      <td>0</td>\n",
       "      <td>0</td>\n",
       "      <td>0</td>\n",
       "      <td>0</td>\n",
       "      <td>0</td>\n",
       "      <td>2019-06-24 22:22:16</td>\n",
       "      <td>Most of all, I have tattoos lined up.</td>\n",
       "    </tr>\n",
       "  </tbody>\n",
       "</table>\n",
       "<p>2378 rows × 9 columns</p>\n",
       "</div>"
      ],
      "text/plain": [
       "           user_id retweet_count reply_count favorite_count num_hashtags  \\\n",
       "6119      29552151             0           0              0            0   \n",
       "12218     29552151             0           0              0            0   \n",
       "15946     29552151             0           0              0            0   \n",
       "16947     29552151             0         NaN            0.0          NaN   \n",
       "17457     29552151           NaN         0.0            NaN          0.0   \n",
       "...            ...           ...         ...            ...          ...   \n",
       "13633429  29552151             0           0              0            0   \n",
       "13634576  29552151             0           0              0            0   \n",
       "13637349  29552151             0           0              0            0   \n",
       "13640124  29552151             0           0              0            0   \n",
       "13653170  29552151             0           0              0            0   \n",
       "\n",
       "         num_urls num_mentions           created_at  \\\n",
       "6119            0            0  2019-07-23 17:32:30   \n",
       "12218           0            0  2019-07-16 14:34:25   \n",
       "15946           0            0  2019-07-07 13:12:33   \n",
       "16947         0.0          NaN  2019-07-16 20:58:50   \n",
       "17457         0.0            0  2020-02-27 20:17:18   \n",
       "...           ...          ...                  ...   \n",
       "13633429        0            0  2019-07-27 12:25:15   \n",
       "13634576        0            0  2019-06-21 20:02:52   \n",
       "13637349        0            0  2020-02-06 11:33:15   \n",
       "13640124        0            0  2019-06-26 19:05:19   \n",
       "13653170        0            0  2019-06-24 22:22:16   \n",
       "\n",
       "                                                       text  \n",
       "6119      Spent the majority of my day drawing around, c...  \n",
       "12218       We all love dem cuddles. http://t.co/fPrcnUfacS  \n",
       "15946                  Dog sitting until 8 tonight. Again..  \n",
       "16947                                                   NaN  \n",
       "17457               The chocolate is soooooooooooo amazing.  \n",
       "...                                                     ...  \n",
       "13633429  @Cock_Penis Around 4 hopefully...Got to go to ...  \n",
       "13634576       I'd love to have white hair for real though.  \n",
       "13637349  Is there a way to wake up without feeling like...  \n",
       "13640124  ...and my nails are obviously being painted bl...  \n",
       "13653170              Most of all, I have tattoos lined up.  \n",
       "\n",
       "[2378 rows x 9 columns]"
      ]
     },
     "execution_count": 181,
     "metadata": {},
     "output_type": "execute_result"
    }
   ],
   "source": [
    "ids = df_users[np.logical_or(df_users['lang'] == 'Select Language...', df_users['lang'] == 'xx-lc')].id.values.astype(str)\n",
    "pd.set_option('display.max_rows',200)\n",
    "df_tweets[df_tweets['user_id'].isin(ids[2:])]"
   ]
  },
  {
   "cell_type": "code",
   "execution_count": 182,
   "metadata": {},
   "outputs": [],
   "source": [
    "df_users['lang'].replace({'Select Language...':'en','xx-lc':'en'}, inplace=True)"
   ]
  },
  {
   "cell_type": "code",
   "execution_count": 183,
   "metadata": {},
   "outputs": [
    {
     "data": {
      "text/plain": [
       "en       9973\n",
       "it        906\n",
       "es        319\n",
       "pt         65\n",
       "en-GB      54\n",
       "ru         42\n",
       "fr         36\n",
       "ja         33\n",
       "zh-TW      20\n",
       "tr         14\n",
       "id         12\n",
       "ko          9\n",
       "de          8\n",
       "nl          6\n",
       "ar          3\n",
       "da          2\n",
       "en-AU       1\n",
       "zh-cn       1\n",
       "pl          1\n",
       "el          1\n",
       "fil         1\n",
       "sv          1\n",
       "Name: lang, dtype: int64"
      ]
     },
     "execution_count": 183,
     "metadata": {},
     "output_type": "execute_result"
    }
   ],
   "source": [
    "df_users['lang'].value_counts()"
   ]
  },
  {
   "cell_type": "markdown",
   "metadata": {},
   "source": [
    "# Tweets csv cleaning\n",
    "\n",
    "## id\n",
    "In the id column there are only two missing values. Since the column is not meaningful for the analysis phase, the column is dropped.\n",
    "\n",
    "## user_id \n",
    "In the user_id column there are a lot of missing values, wrong values (non numerical ids) and 210778 user ids do not have any correspondance with users file. Nevertheless, these records have been kept because the other columns could be useful for future analyses.\n",
    "\n",
    "## retweet_count\n"
   ]
  },
  {
   "cell_type": "code",
   "execution_count": 144,
   "metadata": {},
   "outputs": [
    {
     "name": "stdout",
     "output_type": "stream",
     "text": [
      "<class 'pandas.core.frame.DataFrame'>\n",
      "Int64Index: 11712348 entries, 0 to 13664695\n",
      "Data columns (total 10 columns):\n",
      " #   Column          Non-Null Count     Dtype \n",
      "---  ------          --------------     ----- \n",
      " 0   id              11712346 non-null  object\n",
      " 1   user_id         11495314 non-null  object\n",
      " 2   retweet_count   11275326 non-null  object\n",
      " 3   reply_count     11064671 non-null  object\n",
      " 4   favorite_count  11064981 non-null  object\n",
      " 5   num_hashtags    10655073 non-null  object\n",
      " 6   num_urls        11063920 non-null  object\n",
      " 7   num_mentions    10858432 non-null  object\n",
      " 8   created_at      11712348 non-null  object\n",
      " 9   text            11182415 non-null  object\n",
      "dtypes: object(10)\n",
      "memory usage: 982.9+ MB\n"
     ]
    },
    {
     "name": "stderr",
     "output_type": "stream",
     "text": [
      "C:\\Users\\Alessandro\\AppData\\Local\\Temp\\ipykernel_13332\\3297118476.py:1: FutureWarning: null_counts is deprecated. Use show_counts instead\n",
      "  df_tweets_single.info(null_counts=True)\n"
     ]
    }
   ],
   "source": [
    "df_tweets_single.info(show_counts=True)"
   ]
  },
  {
   "cell_type": "code",
   "execution_count": 205,
   "metadata": {},
   "outputs": [
    {
     "ename": "KeyError",
     "evalue": "\"['id'] not found in axis\"",
     "output_type": "error",
     "traceback": [
      "\u001B[1;31m---------------------------------------------------------------------------\u001B[0m",
      "\u001B[1;31mKeyError\u001B[0m                                  Traceback (most recent call last)",
      "Cell \u001B[1;32mIn [205], line 1\u001B[0m\n\u001B[1;32m----> 1\u001B[0m df_tweets_single\u001B[38;5;241m.\u001B[39mdrop(columns\u001B[38;5;241m=\u001B[39m[\u001B[38;5;124m'\u001B[39m\u001B[38;5;124mid\u001B[39m\u001B[38;5;124m'\u001B[39m], inplace\u001B[38;5;241m=\u001B[39m\u001B[38;5;28;01mTrue\u001B[39;00m)\n",
      "File \u001B[1;32m~\\Desktop\\DataMining\\TweetsAnalysis\\venv\\lib\\site-packages\\pandas\\util\\_decorators.py:317\u001B[0m, in \u001B[0;36mdeprecate_nonkeyword_arguments.<locals>.decorate.<locals>.wrapper\u001B[1;34m(*args, **kwargs)\u001B[0m\n\u001B[0;32m    311\u001B[0m \u001B[38;5;28;01mif\u001B[39;00m \u001B[38;5;28mlen\u001B[39m(args) \u001B[38;5;241m>\u001B[39m num_allow_args:\n\u001B[0;32m    312\u001B[0m     warnings\u001B[38;5;241m.\u001B[39mwarn(\n\u001B[0;32m    313\u001B[0m         msg\u001B[38;5;241m.\u001B[39mformat(arguments\u001B[38;5;241m=\u001B[39marguments),\n\u001B[0;32m    314\u001B[0m         \u001B[38;5;167;01mFutureWarning\u001B[39;00m,\n\u001B[0;32m    315\u001B[0m         stacklevel\u001B[38;5;241m=\u001B[39mfind_stack_level(inspect\u001B[38;5;241m.\u001B[39mcurrentframe()),\n\u001B[0;32m    316\u001B[0m     )\n\u001B[1;32m--> 317\u001B[0m \u001B[38;5;28;01mreturn\u001B[39;00m func(\u001B[38;5;241m*\u001B[39margs, \u001B[38;5;241m*\u001B[39m\u001B[38;5;241m*\u001B[39mkwargs)\n",
      "File \u001B[1;32m~\\Desktop\\DataMining\\TweetsAnalysis\\venv\\lib\\site-packages\\pandas\\core\\frame.py:5391\u001B[0m, in \u001B[0;36mDataFrame.drop\u001B[1;34m(self, labels, axis, index, columns, level, inplace, errors)\u001B[0m\n\u001B[0;32m   5243\u001B[0m \u001B[38;5;129m@deprecate_nonkeyword_arguments\u001B[39m(version\u001B[38;5;241m=\u001B[39m\u001B[38;5;28;01mNone\u001B[39;00m, allowed_args\u001B[38;5;241m=\u001B[39m[\u001B[38;5;124m\"\u001B[39m\u001B[38;5;124mself\u001B[39m\u001B[38;5;124m\"\u001B[39m, \u001B[38;5;124m\"\u001B[39m\u001B[38;5;124mlabels\u001B[39m\u001B[38;5;124m\"\u001B[39m])\n\u001B[0;32m   5244\u001B[0m \u001B[38;5;28;01mdef\u001B[39;00m \u001B[38;5;21mdrop\u001B[39m(  \u001B[38;5;66;03m# type: ignore[override]\u001B[39;00m\n\u001B[0;32m   5245\u001B[0m     \u001B[38;5;28mself\u001B[39m,\n\u001B[1;32m   (...)\u001B[0m\n\u001B[0;32m   5252\u001B[0m     errors: IgnoreRaise \u001B[38;5;241m=\u001B[39m \u001B[38;5;124m\"\u001B[39m\u001B[38;5;124mraise\u001B[39m\u001B[38;5;124m\"\u001B[39m,\n\u001B[0;32m   5253\u001B[0m ) \u001B[38;5;241m-\u001B[39m\u001B[38;5;241m>\u001B[39m DataFrame \u001B[38;5;241m|\u001B[39m \u001B[38;5;28;01mNone\u001B[39;00m:\n\u001B[0;32m   5254\u001B[0m     \u001B[38;5;124;03m\"\"\"\u001B[39;00m\n\u001B[0;32m   5255\u001B[0m \u001B[38;5;124;03m    Drop specified labels from rows or columns.\u001B[39;00m\n\u001B[0;32m   5256\u001B[0m \n\u001B[1;32m   (...)\u001B[0m\n\u001B[0;32m   5389\u001B[0m \u001B[38;5;124;03m            weight  1.0     0.8\u001B[39;00m\n\u001B[0;32m   5390\u001B[0m \u001B[38;5;124;03m    \"\"\"\u001B[39;00m\n\u001B[1;32m-> 5391\u001B[0m     \u001B[38;5;28;01mreturn\u001B[39;00m \u001B[38;5;28;43msuper\u001B[39;49m\u001B[43m(\u001B[49m\u001B[43m)\u001B[49m\u001B[38;5;241;43m.\u001B[39;49m\u001B[43mdrop\u001B[49m\u001B[43m(\u001B[49m\n\u001B[0;32m   5392\u001B[0m \u001B[43m        \u001B[49m\u001B[43mlabels\u001B[49m\u001B[38;5;241;43m=\u001B[39;49m\u001B[43mlabels\u001B[49m\u001B[43m,\u001B[49m\n\u001B[0;32m   5393\u001B[0m \u001B[43m        \u001B[49m\u001B[43maxis\u001B[49m\u001B[38;5;241;43m=\u001B[39;49m\u001B[43maxis\u001B[49m\u001B[43m,\u001B[49m\n\u001B[0;32m   5394\u001B[0m \u001B[43m        \u001B[49m\u001B[43mindex\u001B[49m\u001B[38;5;241;43m=\u001B[39;49m\u001B[43mindex\u001B[49m\u001B[43m,\u001B[49m\n\u001B[0;32m   5395\u001B[0m \u001B[43m        \u001B[49m\u001B[43mcolumns\u001B[49m\u001B[38;5;241;43m=\u001B[39;49m\u001B[43mcolumns\u001B[49m\u001B[43m,\u001B[49m\n\u001B[0;32m   5396\u001B[0m \u001B[43m        \u001B[49m\u001B[43mlevel\u001B[49m\u001B[38;5;241;43m=\u001B[39;49m\u001B[43mlevel\u001B[49m\u001B[43m,\u001B[49m\n\u001B[0;32m   5397\u001B[0m \u001B[43m        \u001B[49m\u001B[43minplace\u001B[49m\u001B[38;5;241;43m=\u001B[39;49m\u001B[43minplace\u001B[49m\u001B[43m,\u001B[49m\n\u001B[0;32m   5398\u001B[0m \u001B[43m        \u001B[49m\u001B[43merrors\u001B[49m\u001B[38;5;241;43m=\u001B[39;49m\u001B[43merrors\u001B[49m\u001B[43m,\u001B[49m\n\u001B[0;32m   5399\u001B[0m \u001B[43m    \u001B[49m\u001B[43m)\u001B[49m\n",
      "File \u001B[1;32m~\\Desktop\\DataMining\\TweetsAnalysis\\venv\\lib\\site-packages\\pandas\\util\\_decorators.py:317\u001B[0m, in \u001B[0;36mdeprecate_nonkeyword_arguments.<locals>.decorate.<locals>.wrapper\u001B[1;34m(*args, **kwargs)\u001B[0m\n\u001B[0;32m    311\u001B[0m \u001B[38;5;28;01mif\u001B[39;00m \u001B[38;5;28mlen\u001B[39m(args) \u001B[38;5;241m>\u001B[39m num_allow_args:\n\u001B[0;32m    312\u001B[0m     warnings\u001B[38;5;241m.\u001B[39mwarn(\n\u001B[0;32m    313\u001B[0m         msg\u001B[38;5;241m.\u001B[39mformat(arguments\u001B[38;5;241m=\u001B[39marguments),\n\u001B[0;32m    314\u001B[0m         \u001B[38;5;167;01mFutureWarning\u001B[39;00m,\n\u001B[0;32m    315\u001B[0m         stacklevel\u001B[38;5;241m=\u001B[39mfind_stack_level(inspect\u001B[38;5;241m.\u001B[39mcurrentframe()),\n\u001B[0;32m    316\u001B[0m     )\n\u001B[1;32m--> 317\u001B[0m \u001B[38;5;28;01mreturn\u001B[39;00m func(\u001B[38;5;241m*\u001B[39margs, \u001B[38;5;241m*\u001B[39m\u001B[38;5;241m*\u001B[39mkwargs)\n",
      "File \u001B[1;32m~\\Desktop\\DataMining\\TweetsAnalysis\\venv\\lib\\site-packages\\pandas\\core\\generic.py:4510\u001B[0m, in \u001B[0;36mNDFrame.drop\u001B[1;34m(self, labels, axis, index, columns, level, inplace, errors)\u001B[0m\n\u001B[0;32m   4508\u001B[0m \u001B[38;5;28;01mfor\u001B[39;00m axis, labels \u001B[38;5;129;01min\u001B[39;00m axes\u001B[38;5;241m.\u001B[39mitems():\n\u001B[0;32m   4509\u001B[0m     \u001B[38;5;28;01mif\u001B[39;00m labels \u001B[38;5;129;01mis\u001B[39;00m \u001B[38;5;129;01mnot\u001B[39;00m \u001B[38;5;28;01mNone\u001B[39;00m:\n\u001B[1;32m-> 4510\u001B[0m         obj \u001B[38;5;241m=\u001B[39m \u001B[43mobj\u001B[49m\u001B[38;5;241;43m.\u001B[39;49m\u001B[43m_drop_axis\u001B[49m\u001B[43m(\u001B[49m\u001B[43mlabels\u001B[49m\u001B[43m,\u001B[49m\u001B[43m \u001B[49m\u001B[43maxis\u001B[49m\u001B[43m,\u001B[49m\u001B[43m \u001B[49m\u001B[43mlevel\u001B[49m\u001B[38;5;241;43m=\u001B[39;49m\u001B[43mlevel\u001B[49m\u001B[43m,\u001B[49m\u001B[43m \u001B[49m\u001B[43merrors\u001B[49m\u001B[38;5;241;43m=\u001B[39;49m\u001B[43merrors\u001B[49m\u001B[43m)\u001B[49m\n\u001B[0;32m   4512\u001B[0m \u001B[38;5;28;01mif\u001B[39;00m inplace:\n\u001B[0;32m   4513\u001B[0m     \u001B[38;5;28mself\u001B[39m\u001B[38;5;241m.\u001B[39m_update_inplace(obj)\n",
      "File \u001B[1;32m~\\Desktop\\DataMining\\TweetsAnalysis\\venv\\lib\\site-packages\\pandas\\core\\generic.py:4551\u001B[0m, in \u001B[0;36mNDFrame._drop_axis\u001B[1;34m(self, labels, axis, level, errors, only_slice)\u001B[0m\n\u001B[0;32m   4549\u001B[0m         new_axis \u001B[38;5;241m=\u001B[39m axis\u001B[38;5;241m.\u001B[39mdrop(labels, level\u001B[38;5;241m=\u001B[39mlevel, errors\u001B[38;5;241m=\u001B[39merrors)\n\u001B[0;32m   4550\u001B[0m     \u001B[38;5;28;01melse\u001B[39;00m:\n\u001B[1;32m-> 4551\u001B[0m         new_axis \u001B[38;5;241m=\u001B[39m \u001B[43maxis\u001B[49m\u001B[38;5;241;43m.\u001B[39;49m\u001B[43mdrop\u001B[49m\u001B[43m(\u001B[49m\u001B[43mlabels\u001B[49m\u001B[43m,\u001B[49m\u001B[43m \u001B[49m\u001B[43merrors\u001B[49m\u001B[38;5;241;43m=\u001B[39;49m\u001B[43merrors\u001B[49m\u001B[43m)\u001B[49m\n\u001B[0;32m   4552\u001B[0m     indexer \u001B[38;5;241m=\u001B[39m axis\u001B[38;5;241m.\u001B[39mget_indexer(new_axis)\n\u001B[0;32m   4554\u001B[0m \u001B[38;5;66;03m# Case for non-unique axis\u001B[39;00m\n\u001B[0;32m   4555\u001B[0m \u001B[38;5;28;01melse\u001B[39;00m:\n",
      "File \u001B[1;32m~\\Desktop\\DataMining\\TweetsAnalysis\\venv\\lib\\site-packages\\pandas\\core\\indexes\\base.py:6972\u001B[0m, in \u001B[0;36mIndex.drop\u001B[1;34m(self, labels, errors)\u001B[0m\n\u001B[0;32m   6970\u001B[0m \u001B[38;5;28;01mif\u001B[39;00m mask\u001B[38;5;241m.\u001B[39many():\n\u001B[0;32m   6971\u001B[0m     \u001B[38;5;28;01mif\u001B[39;00m errors \u001B[38;5;241m!=\u001B[39m \u001B[38;5;124m\"\u001B[39m\u001B[38;5;124mignore\u001B[39m\u001B[38;5;124m\"\u001B[39m:\n\u001B[1;32m-> 6972\u001B[0m         \u001B[38;5;28;01mraise\u001B[39;00m \u001B[38;5;167;01mKeyError\u001B[39;00m(\u001B[38;5;124mf\u001B[39m\u001B[38;5;124m\"\u001B[39m\u001B[38;5;132;01m{\u001B[39;00m\u001B[38;5;28mlist\u001B[39m(labels[mask])\u001B[38;5;132;01m}\u001B[39;00m\u001B[38;5;124m not found in axis\u001B[39m\u001B[38;5;124m\"\u001B[39m)\n\u001B[0;32m   6973\u001B[0m     indexer \u001B[38;5;241m=\u001B[39m indexer[\u001B[38;5;241m~\u001B[39mmask]\n\u001B[0;32m   6974\u001B[0m \u001B[38;5;28;01mreturn\u001B[39;00m \u001B[38;5;28mself\u001B[39m\u001B[38;5;241m.\u001B[39mdelete(indexer)\n",
      "\u001B[1;31mKeyError\u001B[0m: \"['id'] not found in axis\""
     ]
    }
   ],
   "source": [
    "df_tweets_single.drop(columns=['id'], inplace=True)"
   ]
  },
  {
   "cell_type": "code",
   "execution_count": 206,
   "metadata": {},
   "outputs": [
    {
     "name": "stderr",
     "output_type": "stream",
     "text": [
      "C:\\Users\\Alessandro\\AppData\\Local\\Temp\\ipykernel_13332\\1487214206.py:1: UserWarning: Boolean Series key will be reindexed to match DataFrame index.\n",
      "  df_tweets_single[np.logical_and(df_tweets['user_id'].isnull(), df_tweets['text'].isnull())].info()\n"
     ]
    },
    {
     "name": "stdout",
     "output_type": "stream",
     "text": [
      "<class 'pandas.core.frame.DataFrame'>\n",
      "Int64Index: 56118 entries, 42 to 13664257\n",
      "Data columns (total 9 columns):\n",
      " #   Column          Non-Null Count  Dtype \n",
      "---  ------          --------------  ----- \n",
      " 0   user_id         0 non-null      object\n",
      " 1   retweet_count   51567 non-null  object\n",
      " 2   reply_count     25737 non-null  object\n",
      " 3   favorite_count  50960 non-null  object\n",
      " 4   num_hashtags    392 non-null    object\n",
      " 5   num_urls        26107 non-null  object\n",
      " 6   num_mentions    466 non-null    object\n",
      " 7   created_at      56118 non-null  object\n",
      " 8   text            0 non-null      object\n",
      "dtypes: object(9)\n",
      "memory usage: 4.3+ MB\n"
     ]
    }
   ],
   "source": [
    "df_tweets_single[np.logical_and(df_tweets['user_id'].isnull(), df_tweets['text'].isnull())].info()"
   ]
  },
  {
   "cell_type": "code",
   "execution_count": 207,
   "metadata": {},
   "outputs": [],
   "source": [
    "df_users.id = df_users.id.astype(str)\n",
    "merged = df_tweets_single.merge(df_users, left_on='user_id', right_on='id', how='left')\n"
   ]
  },
  {
   "cell_type": "code",
   "execution_count": 211,
   "metadata": {},
   "outputs": [
    {
     "data": {
      "text/plain": [
       "(11712348, 9)"
      ]
     },
     "execution_count": 211,
     "metadata": {},
     "output_type": "execute_result"
    }
   ],
   "source": [
    "df_tweets_single.shape"
   ]
  },
  {
   "cell_type": "code",
   "execution_count": 212,
   "metadata": {},
   "outputs": [
    {
     "data": {
      "text/plain": [
       "(11712348, 16)"
      ]
     },
     "execution_count": 212,
     "metadata": {},
     "output_type": "execute_result"
    }
   ],
   "source": [
    "merged.shape"
   ]
  },
  {
   "cell_type": "code",
   "execution_count": 213,
   "metadata": {},
   "outputs": [
    {
     "data": {
      "text/plain": [
       "210778"
      ]
     },
     "execution_count": 213,
     "metadata": {},
     "output_type": "execute_result"
    }
   ],
   "source": [
    "len(merged[merged['id'].isnull()].user_id.unique())"
   ]
  },
  {
   "cell_type": "markdown",
   "metadata": {},
   "source": [
    "This is the number of `user_id` that have no correspondance in users file."
   ]
  },
  {
   "cell_type": "code",
   "execution_count": 240,
   "metadata": {},
   "outputs": [],
   "source": [
    "def to_float(x):\n",
    "    try:\n",
    "        return float(x)\n",
    "    except:\n",
    "        return -1.0\n",
    "    \n",
    "df_tweets_single['retweet_count_conv'] = df_tweets_single.retweet_count.apply(to_float)"
   ]
  },
  {
   "cell_type": "code",
   "execution_count": 241,
   "metadata": {},
   "outputs": [
    {
     "name": "stdout",
     "output_type": "stream",
     "text": [
      "<class 'pandas.core.frame.DataFrame'>\n",
      "Int64Index: 11712348 entries, 0 to 13664695\n",
      "Data columns (total 10 columns):\n",
      " #   Column              Dtype  \n",
      "---  ------              -----  \n",
      " 0   user_id             object \n",
      " 1   retweet_count       object \n",
      " 2   reply_count         object \n",
      " 3   favorite_count      object \n",
      " 4   num_hashtags        object \n",
      " 5   num_urls            object \n",
      " 6   num_mentions        object \n",
      " 7   created_at          object \n",
      " 8   text                object \n",
      " 9   retweet_count_conv  float64\n",
      "dtypes: float64(1), object(9)\n",
      "memory usage: 982.9+ MB\n"
     ]
    }
   ],
   "source": [
    "df_tweets_single.info()"
   ]
  },
  {
   "cell_type": "code",
   "execution_count": 250,
   "metadata": {},
   "outputs": [],
   "source": [
    "droppe = df_tweets_single[np.logical_and(df_tweets_single['retweet_count_conv'] != -1.0, df_tweets_single['retweet_count_conv'] < 1e30)]"
   ]
  },
  {
   "cell_type": "code",
   "execution_count": 251,
   "metadata": {},
   "outputs": [
    {
     "data": {
      "image/png": "[encoded data removed]",
      "text/plain": [
       "<Figure size 640x480 with 1 Axes>"
      ]
     },
     "metadata": {},
     "output_type": "display_data"
    }
   ],
   "source": [
    "plt.boxplot(droppe.retweet_count_conv,showmeans=True)\n",
    "plt.yscale('log')\n",
    "plt.show()"
   ]
  },
  {
   "cell_type": "markdown",
   "metadata": {},
   "source": [
    "The boxplot is not informative, so we investigate this field by means of an histogram."
   ]
  },
  {
   "cell_type": "code",
   "execution_count": 277,
   "metadata": {},
   "outputs": [
    {
     "name": "stderr",
     "output_type": "stream",
     "text": [
      "C:\\Users\\Alessandro\\AppData\\Local\\Temp\\ipykernel_13332\\231108325.py:3: RuntimeWarning: divide by zero encountered in log\n",
      "  droppe['retweet_count_log'] = np.log(droppe.retweet_count_conv.values)\n",
      "C:\\Users\\Alessandro\\AppData\\Local\\Temp\\ipykernel_13332\\231108325.py:3: SettingWithCopyWarning: \n",
      "A value is trying to be set on a copy of a slice from a DataFrame.\n",
      "Try using .loc[row_indexer,col_indexer] = value instead\n",
      "\n",
      "See the caveats in the documentation: https://pandas.pydata.org/pandas-docs/stable/user_guide/indexing.html#returning-a-view-versus-a-copy\n",
      "  droppe['retweet_count_log'] = np.log(droppe.retweet_count_conv.values)\n",
      "C:\\Users\\Alessandro\\AppData\\Local\\Temp\\ipykernel_13332\\231108325.py:4: SettingWithCopyWarning: \n",
      "A value is trying to be set on a copy of a slice from a DataFrame.\n",
      "Try using .loc[row_indexer,col_indexer] = value instead\n",
      "\n",
      "See the caveats in the documentation: https://pandas.pydata.org/pandas-docs/stable/user_guide/indexing.html#returning-a-view-versus-a-copy\n",
      "  droppe['retweet_count_log'] = droppe.retwee_count_log.replace(-np.inf, 0)\n"
     ]
    },
    {
     "data": {
      "text/plain": [
       "array([[<AxesSubplot: title={'center': 'retweet_count_log'}>]],\n",
       "      dtype=object)"
      ]
     },
     "execution_count": 277,
     "metadata": {},
     "output_type": "execute_result"
    },
    {
     "data": {
      "image/png": "[encoded data removed]",
      "text/plain": [
       "<Figure size 640x480 with 1 Axes>"
      ]
     },
     "metadata": {},
     "output_type": "display_data"
    }
   ],
   "source": [
    "import math\n",
    "\n",
    "droppe['retweet_count_log'] = np.log(droppe.retweet_count_conv.values)\n",
    "droppe['retweet_count_log'] = droppe.retwee_count_log.replace(-np.inf, 0)\n",
    "n_bins = math.ceil(np.log2(len(droppe['retweet_count_log'])) + 1) #Sturges' rule\n",
    "droppe.hist('retweet_count_log', bins=n_bins, log=True)"
   ]
  },
  {
   "cell_type": "code",
   "execution_count": 282,
   "metadata": {},
   "outputs": [
    {
     "name": "stdout",
     "output_type": "stream",
     "text": [
      "mean: 697926.974898063\n",
      "median: 0.0\n"
     ]
    }
   ],
   "source": [
    "print(\"mean: \" + str(np.mean(droppe.retweet_count_conv.values)))\n",
    "print(\"median: \" + str(np.median(droppe.retweet_count_conv.values)))"
   ]
  },
  {
   "cell_type": "markdown",
   "metadata": {},
   "source": [
    "As it is possible to see the distribution is positively skewed. Considering the statistical indicators, it is clear that the mean is too much influenced by outliers so the median has been taken in account."
   ]
  },
  {
   "cell_type": "code",
   "execution_count": null,
   "metadata": {},
   "outputs": [],
   "source": [
    "df_appoggio = df_tweets_single['retweet_count_conv'].replace({-1.0: 0})\n",
    "df_appoggio.info()\n",
    "#df_appoggio[df_appoggio['retweet_count_conv'] < 0].value_counts()"
   ]
  },
  {
   "cell_type": "markdown",
   "metadata": {},
   "source": [
    "## TODO understand why there are NaN numbers in retweet_count_conv and replace all the wrong values"
   ]
  }
 ],
 "metadata": {
  "colab": {
   "collapsed_sections": [],
   "provenance": []
  },
  "kernelspec": {
   "display_name": "Python 3 (ipykernel)",
   "language": "python",
   "name": "python3"
  },
  "language_info": {
   "codemirror_mode": {
    "name": "ipython",
    "version": 3
   },
   "file_extension": ".py",
   "mimetype": "text/x-python",
   "name": "python",
   "nbconvert_exporter": "python",
   "pygments_lexer": "ipython3",
   "version": "3.10.4"
  }
 },
 "nbformat": 4,
 "nbformat_minor": 1
}
