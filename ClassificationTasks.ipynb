{
 "nbformat": 4,
 "nbformat_minor": 0,
 "metadata": {
  "colab": {
   "provenance": []
  },
  "kernelspec": {
   "name": "python3",
   "display_name": "Python 3"
  },
  "language_info": {
   "name": "python"
  }
 },
 "cells": [
  {
   "cell_type": "markdown",
   "source": [
    "# Imports"
   ],
   "metadata": {
    "collapsed": false
   }
  },
  {
   "cell_type": "code",
   "execution_count": 31,
   "outputs": [],
   "source": [
    "import pydotplus\n",
    "from IPython.display import Image\n",
    "from sklearn.ensemble import RandomForestClassifier, AdaBoostClassifier\n",
    "from sklearn.naive_bayes import MultinomialNB\n",
    "from sklearn.svm import SVC\n",
    "from sklearn.tree import DecisionTreeClassifier, export_graphviz\n",
    "\n",
    "from classification_utilities import *"
   ],
   "metadata": {
    "collapsed": false
   }
  },
  {
   "cell_type": "code",
   "source": [
    "DATA_PATH = get_path()"
   ],
   "metadata": {
    "id": "Umr10JpeLQXL"
   },
   "execution_count": 2,
   "outputs": []
  },
  {
   "cell_type": "code",
   "source": [
    "df_indicators = pd.read_csv(DATA_PATH + 'indicators_clean.csv', sep='#')\n",
    "#df_tweets_ind = pd.read_csv(DATA_PATH+'tweets_with_indicators.csv', sep='#')\n",
    "df_users = pd.read_csv(DATA_PATH + 'users_clean.csv', sep='#')\n",
    "#df_merge = pd.read_csv(DATA_PATH + 'data_scaled_for_clustering.csv', sep='#')"
   ],
   "metadata": {
    "id": "m4IOAnx9LUt6"
   },
   "execution_count": 6,
   "outputs": []
  },
  {
   "cell_type": "code",
   "source": [
    "df_users.id = df_users.id.astype(str)\n",
    "df_merge = df_users.merge(df_indicators, left_on='id', right_on='user_id', how='left')"
   ],
   "metadata": {
    "id": "-CmG7XmKL2sK"
   },
   "execution_count": 7,
   "outputs": []
  },
  {
   "cell_type": "code",
   "source": [
    "df_merge.info()"
   ],
   "metadata": {
    "colab": {
     "base_uri": "https://localhost:8080/"
    },
    "id": "FyajYHeFMK0x",
    "outputId": "0f5f542b-21fe-44e3-e139-c8fa4b7c8e89"
   },
   "execution_count": 8,
   "outputs": [
    {
     "name": "stdout",
     "output_type": "stream",
     "text": [
      "<class 'pandas.core.frame.DataFrame'>\n",
      "Int64Index: 11508 entries, 0 to 11507\n",
      "Data columns (total 41 columns):\n",
      " #   Column                            Non-Null Count  Dtype  \n",
      "---  ------                            --------------  -----  \n",
      " 0   id                                11508 non-null  object \n",
      " 1   name                              11507 non-null  object \n",
      " 2   lang                              11508 non-null  object \n",
      " 3   bot                               11508 non-null  int64  \n",
      " 4   user_subscription                 11508 non-null  object \n",
      " 5   statuses_count                    11508 non-null  float64\n",
      " 6   user_subscription_in_secs         11508 non-null  int64  \n",
      " 7   user_id                           11504 non-null  object \n",
      " 8   n_tweets                          11504 non-null  float64\n",
      " 9   2012_tweets                       11504 non-null  float64\n",
      " 10  2013_tweets                       11504 non-null  float64\n",
      " 11  2014_tweets                       11504 non-null  float64\n",
      " 12  2015_tweets                       11504 non-null  float64\n",
      " 13  2016_tweets                       11504 non-null  float64\n",
      " 14  2017_tweets                       11504 non-null  float64\n",
      " 15  2018_tweets                       11504 non-null  float64\n",
      " 16  2019_tweets                       11504 non-null  float64\n",
      " 17  2020_tweets                       11504 non-null  float64\n",
      " 18  mean_length                       11504 non-null  float64\n",
      " 19  mean_special_chars                11504 non-null  float64\n",
      " 20  publication_date_in_secs_mean     11504 non-null  float64\n",
      " 21  publication_date_in_secs_std      11504 non-null  float64\n",
      " 22  publication_date_in_secs_entropy  11504 non-null  float64\n",
      " 23  retweet_count_mean                11504 non-null  float64\n",
      " 24  retweet_count_std                 11504 non-null  float64\n",
      " 25  retweet_count_entropy             11504 non-null  float64\n",
      " 26  reply_count_mean                  11504 non-null  float64\n",
      " 27  reply_count_std                   11504 non-null  float64\n",
      " 28  reply_count_entropy               11504 non-null  float64\n",
      " 29  favorite_count_mean               11504 non-null  float64\n",
      " 30  favorite_count_std                11504 non-null  float64\n",
      " 31  favorite_count_entropy            11504 non-null  float64\n",
      " 32  num_hashtags_mean                 11504 non-null  float64\n",
      " 33  num_hashtags_std                  11504 non-null  float64\n",
      " 34  num_urls_mean                     11504 non-null  float64\n",
      " 35  num_urls_std                      11504 non-null  float64\n",
      " 36  num_mentions_mean                 11504 non-null  float64\n",
      " 37  num_mentions_std                  11504 non-null  float64\n",
      " 38  tweeting_regularity               11504 non-null  float64\n",
      " 39  max_daily_tweets                  11504 non-null  float64\n",
      " 40  n_tweets_density                  11504 non-null  float64\n",
      "dtypes: float64(34), int64(2), object(5)\n",
      "memory usage: 3.7+ MB\n"
     ]
    }
   ]
  },
  {
   "cell_type": "code",
   "source": [
    "# Drop variables which aren't useful for classification purposes\n",
    "df_merge.drop(columns=['id', 'name', 'user_subscription', 'user_id'], inplace=True)\n",
    "df_merge.info()"
   ],
   "metadata": {
    "colab": {
     "base_uri": "https://localhost:8080/"
    },
    "id": "ks47Ed2eMMqd",
    "outputId": "5b7f698a-accd-47b6-b3f0-7f4c88566774"
   },
   "execution_count": 9,
   "outputs": [
    {
     "name": "stdout",
     "output_type": "stream",
     "text": [
      "<class 'pandas.core.frame.DataFrame'>\n",
      "Int64Index: 11508 entries, 0 to 11507\n",
      "Data columns (total 37 columns):\n",
      " #   Column                            Non-Null Count  Dtype  \n",
      "---  ------                            --------------  -----  \n",
      " 0   lang                              11508 non-null  object \n",
      " 1   bot                               11508 non-null  int64  \n",
      " 2   statuses_count                    11508 non-null  float64\n",
      " 3   user_subscription_in_secs         11508 non-null  int64  \n",
      " 4   n_tweets                          11504 non-null  float64\n",
      " 5   2012_tweets                       11504 non-null  float64\n",
      " 6   2013_tweets                       11504 non-null  float64\n",
      " 7   2014_tweets                       11504 non-null  float64\n",
      " 8   2015_tweets                       11504 non-null  float64\n",
      " 9   2016_tweets                       11504 non-null  float64\n",
      " 10  2017_tweets                       11504 non-null  float64\n",
      " 11  2018_tweets                       11504 non-null  float64\n",
      " 12  2019_tweets                       11504 non-null  float64\n",
      " 13  2020_tweets                       11504 non-null  float64\n",
      " 14  mean_length                       11504 non-null  float64\n",
      " 15  mean_special_chars                11504 non-null  float64\n",
      " 16  publication_date_in_secs_mean     11504 non-null  float64\n",
      " 17  publication_date_in_secs_std      11504 non-null  float64\n",
      " 18  publication_date_in_secs_entropy  11504 non-null  float64\n",
      " 19  retweet_count_mean                11504 non-null  float64\n",
      " 20  retweet_count_std                 11504 non-null  float64\n",
      " 21  retweet_count_entropy             11504 non-null  float64\n",
      " 22  reply_count_mean                  11504 non-null  float64\n",
      " 23  reply_count_std                   11504 non-null  float64\n",
      " 24  reply_count_entropy               11504 non-null  float64\n",
      " 25  favorite_count_mean               11504 non-null  float64\n",
      " 26  favorite_count_std                11504 non-null  float64\n",
      " 27  favorite_count_entropy            11504 non-null  float64\n",
      " 28  num_hashtags_mean                 11504 non-null  float64\n",
      " 29  num_hashtags_std                  11504 non-null  float64\n",
      " 30  num_urls_mean                     11504 non-null  float64\n",
      " 31  num_urls_std                      11504 non-null  float64\n",
      " 32  num_mentions_mean                 11504 non-null  float64\n",
      " 33  num_mentions_std                  11504 non-null  float64\n",
      " 34  tweeting_regularity               11504 non-null  float64\n",
      " 35  max_daily_tweets                  11504 non-null  float64\n",
      " 36  n_tweets_density                  11504 non-null  float64\n",
      "dtypes: float64(34), int64(2), object(1)\n",
      "memory usage: 3.3+ MB\n"
     ]
    }
   ]
  },
  {
   "cell_type": "code",
   "source": [
    "# Convert lang column to numbers (e.g. en = 0, it = 1, etc.)\n",
    "discretize_column(df_merge, 'lang')\n",
    "\n",
    "# Drop original lang column\n",
    "df_merge.drop(columns=['lang'], inplace=True)\n",
    "df_merge"
   ],
   "metadata": {
    "colab": {
     "base_uri": "https://localhost:8080/",
     "height": 488
    },
    "id": "eJa0XfErNf0p",
    "outputId": "86a6c44c-e991-4928-f1b1-eb5a3eb9e563"
   },
   "execution_count": 11,
   "outputs": [
    {
     "data": {
      "text/plain": "       bot  statuses_count  user_subscription_in_secs  n_tweets  2012_tweets  \\\n0        1            76.0        1550858442000000000     119.0          0.0   \n1        0            54.0        1551150152000000000     106.0          0.0   \n2        1             3.0        1430377796000000000       3.0          0.0   \n3        1            50.0        1484707758000000000    1269.0          0.0   \n4        0          7085.0        1560886221000000000    3234.0          0.0   \n...    ...             ...                        ...       ...          ...   \n11503    0          1126.0        1575033362000000000     996.0          0.0   \n11504    0          3024.0        1524798118000000000    1854.0          0.0   \n11505    0             6.0        1427648484000000000       6.0          0.0   \n11506    1            42.0        1552445053000000000      95.0          0.0   \n11507    0          5279.0        1510269856000000000    3268.0          0.0   \n\n       2013_tweets  2014_tweets  2015_tweets  2016_tweets  2017_tweets  ...  \\\n0              0.0          0.0          0.0          0.0          0.0  ...   \n1              0.0          0.0          0.0          0.0          0.0  ...   \n2              0.0          0.0          0.0          3.0          0.0  ...   \n3              0.0          0.0          0.0          0.0          1.0  ...   \n4              0.0          0.0          0.0          0.0          0.0  ...   \n...            ...          ...          ...          ...          ...  ...   \n11503          0.0          0.0          0.0          0.0          0.0  ...   \n11504          0.0          0.0          0.0          0.0          0.0  ...   \n11505          0.0          0.0          1.0          2.0          3.0  ...   \n11506          0.0          0.0          0.0          0.0          0.0  ...   \n11507          0.0          0.0          0.0          0.0          0.0  ...   \n\n       num_hashtags_mean  num_hashtags_std  num_urls_mean  num_urls_std  \\\n0               0.109244          0.465594       0.000000      0.000000   \n1               0.028302          0.166622       0.000000      0.000000   \n2               0.000000          0.000000       0.000000      0.000000   \n3               0.084318          0.469897       0.023641      0.151987   \n4               0.132962          0.415753       0.000928      0.030448   \n...                  ...               ...            ...           ...   \n11503           0.216867          0.614037       0.027108      0.168553   \n11504           0.129989          0.438114       0.100324      0.302303   \n11505           0.333333          0.516398       0.666667      0.516398   \n11506           0.010526          0.102598       0.000000      0.000000   \n11507           0.045594          0.217259       0.013770      0.116552   \n\n       num_mentions_mean  num_mentions_std  tweeting_regularity  \\\n0               0.294118          0.457572             2.458470   \n1               0.358491          0.481835             2.504295   \n2               0.000000          0.000000             0.060681   \n3               0.007092          0.108533             1.657428   \n4               0.528139          0.634101             7.637613   \n...                  ...               ...                  ...   \n11503           0.745984          0.860486             4.828845   \n11504           0.544229          0.720479             4.181057   \n11505           0.333333          0.516398             0.919460   \n11506           0.400000          0.492497             2.421923   \n11507           0.761016          0.745634             5.312883   \n\n       max_daily_tweets  n_tweets_density  lang_discr  \n0                  17.0      7.424137e-10           0  \n1                  18.0      6.742423e-10           0  \n2                   2.0      7.349446e-12           0  \n3                 130.0      1.231306e-09           1  \n4                  47.0      1.014485e-08           0  \n...                 ...               ...         ...  \n11503              52.0      6.419927e-09           0  \n11504              83.0      2.528313e-09           0  \n11505               2.0      6.221464e-12           4  \n11506              10.0      6.613163e-10           0  \n11507             179.0      3.611992e-09           0  \n\n[11508 rows x 37 columns]",
      "text/html": "<div>\n<style scoped>\n    .dataframe tbody tr th:only-of-type {\n        vertical-align: middle;\n    }\n\n    .dataframe tbody tr th {\n        vertical-align: top;\n    }\n\n    .dataframe thead th {\n        text-align: right;\n    }\n</style>\n<table border=\"1\" class=\"dataframe\">\n  <thead>\n    <tr style=\"text-align: right;\">\n      <th></th>\n      <th>bot</th>\n      <th>statuses_count</th>\n      <th>user_subscription_in_secs</th>\n      <th>n_tweets</th>\n      <th>2012_tweets</th>\n      <th>2013_tweets</th>\n      <th>2014_tweets</th>\n      <th>2015_tweets</th>\n      <th>2016_tweets</th>\n      <th>2017_tweets</th>\n      <th>...</th>\n      <th>num_hashtags_mean</th>\n      <th>num_hashtags_std</th>\n      <th>num_urls_mean</th>\n      <th>num_urls_std</th>\n      <th>num_mentions_mean</th>\n      <th>num_mentions_std</th>\n      <th>tweeting_regularity</th>\n      <th>max_daily_tweets</th>\n      <th>n_tweets_density</th>\n      <th>lang_discr</th>\n    </tr>\n  </thead>\n  <tbody>\n    <tr>\n      <th>0</th>\n      <td>1</td>\n      <td>76.0</td>\n      <td>1550858442000000000</td>\n      <td>119.0</td>\n      <td>0.0</td>\n      <td>0.0</td>\n      <td>0.0</td>\n      <td>0.0</td>\n      <td>0.0</td>\n      <td>0.0</td>\n      <td>...</td>\n      <td>0.109244</td>\n      <td>0.465594</td>\n      <td>0.000000</td>\n      <td>0.000000</td>\n      <td>0.294118</td>\n      <td>0.457572</td>\n      <td>2.458470</td>\n      <td>17.0</td>\n      <td>7.424137e-10</td>\n      <td>0</td>\n    </tr>\n    <tr>\n      <th>1</th>\n      <td>0</td>\n      <td>54.0</td>\n      <td>1551150152000000000</td>\n      <td>106.0</td>\n      <td>0.0</td>\n      <td>0.0</td>\n      <td>0.0</td>\n      <td>0.0</td>\n      <td>0.0</td>\n      <td>0.0</td>\n      <td>...</td>\n      <td>0.028302</td>\n      <td>0.166622</td>\n      <td>0.000000</td>\n      <td>0.000000</td>\n      <td>0.358491</td>\n      <td>0.481835</td>\n      <td>2.504295</td>\n      <td>18.0</td>\n      <td>6.742423e-10</td>\n      <td>0</td>\n    </tr>\n    <tr>\n      <th>2</th>\n      <td>1</td>\n      <td>3.0</td>\n      <td>1430377796000000000</td>\n      <td>3.0</td>\n      <td>0.0</td>\n      <td>0.0</td>\n      <td>0.0</td>\n      <td>0.0</td>\n      <td>3.0</td>\n      <td>0.0</td>\n      <td>...</td>\n      <td>0.000000</td>\n      <td>0.000000</td>\n      <td>0.000000</td>\n      <td>0.000000</td>\n      <td>0.000000</td>\n      <td>0.000000</td>\n      <td>0.060681</td>\n      <td>2.0</td>\n      <td>7.349446e-12</td>\n      <td>0</td>\n    </tr>\n    <tr>\n      <th>3</th>\n      <td>1</td>\n      <td>50.0</td>\n      <td>1484707758000000000</td>\n      <td>1269.0</td>\n      <td>0.0</td>\n      <td>0.0</td>\n      <td>0.0</td>\n      <td>0.0</td>\n      <td>0.0</td>\n      <td>1.0</td>\n      <td>...</td>\n      <td>0.084318</td>\n      <td>0.469897</td>\n      <td>0.023641</td>\n      <td>0.151987</td>\n      <td>0.007092</td>\n      <td>0.108533</td>\n      <td>1.657428</td>\n      <td>130.0</td>\n      <td>1.231306e-09</td>\n      <td>1</td>\n    </tr>\n    <tr>\n      <th>4</th>\n      <td>0</td>\n      <td>7085.0</td>\n      <td>1560886221000000000</td>\n      <td>3234.0</td>\n      <td>0.0</td>\n      <td>0.0</td>\n      <td>0.0</td>\n      <td>0.0</td>\n      <td>0.0</td>\n      <td>0.0</td>\n      <td>...</td>\n      <td>0.132962</td>\n      <td>0.415753</td>\n      <td>0.000928</td>\n      <td>0.030448</td>\n      <td>0.528139</td>\n      <td>0.634101</td>\n      <td>7.637613</td>\n      <td>47.0</td>\n      <td>1.014485e-08</td>\n      <td>0</td>\n    </tr>\n    <tr>\n      <th>...</th>\n      <td>...</td>\n      <td>...</td>\n      <td>...</td>\n      <td>...</td>\n      <td>...</td>\n      <td>...</td>\n      <td>...</td>\n      <td>...</td>\n      <td>...</td>\n      <td>...</td>\n      <td>...</td>\n      <td>...</td>\n      <td>...</td>\n      <td>...</td>\n      <td>...</td>\n      <td>...</td>\n      <td>...</td>\n      <td>...</td>\n      <td>...</td>\n      <td>...</td>\n      <td>...</td>\n    </tr>\n    <tr>\n      <th>11503</th>\n      <td>0</td>\n      <td>1126.0</td>\n      <td>1575033362000000000</td>\n      <td>996.0</td>\n      <td>0.0</td>\n      <td>0.0</td>\n      <td>0.0</td>\n      <td>0.0</td>\n      <td>0.0</td>\n      <td>0.0</td>\n      <td>...</td>\n      <td>0.216867</td>\n      <td>0.614037</td>\n      <td>0.027108</td>\n      <td>0.168553</td>\n      <td>0.745984</td>\n      <td>0.860486</td>\n      <td>4.828845</td>\n      <td>52.0</td>\n      <td>6.419927e-09</td>\n      <td>0</td>\n    </tr>\n    <tr>\n      <th>11504</th>\n      <td>0</td>\n      <td>3024.0</td>\n      <td>1524798118000000000</td>\n      <td>1854.0</td>\n      <td>0.0</td>\n      <td>0.0</td>\n      <td>0.0</td>\n      <td>0.0</td>\n      <td>0.0</td>\n      <td>0.0</td>\n      <td>...</td>\n      <td>0.129989</td>\n      <td>0.438114</td>\n      <td>0.100324</td>\n      <td>0.302303</td>\n      <td>0.544229</td>\n      <td>0.720479</td>\n      <td>4.181057</td>\n      <td>83.0</td>\n      <td>2.528313e-09</td>\n      <td>0</td>\n    </tr>\n    <tr>\n      <th>11505</th>\n      <td>0</td>\n      <td>6.0</td>\n      <td>1427648484000000000</td>\n      <td>6.0</td>\n      <td>0.0</td>\n      <td>0.0</td>\n      <td>0.0</td>\n      <td>1.0</td>\n      <td>2.0</td>\n      <td>3.0</td>\n      <td>...</td>\n      <td>0.333333</td>\n      <td>0.516398</td>\n      <td>0.666667</td>\n      <td>0.516398</td>\n      <td>0.333333</td>\n      <td>0.516398</td>\n      <td>0.919460</td>\n      <td>2.0</td>\n      <td>6.221464e-12</td>\n      <td>4</td>\n    </tr>\n    <tr>\n      <th>11506</th>\n      <td>1</td>\n      <td>42.0</td>\n      <td>1552445053000000000</td>\n      <td>95.0</td>\n      <td>0.0</td>\n      <td>0.0</td>\n      <td>0.0</td>\n      <td>0.0</td>\n      <td>0.0</td>\n      <td>0.0</td>\n      <td>...</td>\n      <td>0.010526</td>\n      <td>0.102598</td>\n      <td>0.000000</td>\n      <td>0.000000</td>\n      <td>0.400000</td>\n      <td>0.492497</td>\n      <td>2.421923</td>\n      <td>10.0</td>\n      <td>6.613163e-10</td>\n      <td>0</td>\n    </tr>\n    <tr>\n      <th>11507</th>\n      <td>0</td>\n      <td>5279.0</td>\n      <td>1510269856000000000</td>\n      <td>3268.0</td>\n      <td>0.0</td>\n      <td>0.0</td>\n      <td>0.0</td>\n      <td>0.0</td>\n      <td>0.0</td>\n      <td>0.0</td>\n      <td>...</td>\n      <td>0.045594</td>\n      <td>0.217259</td>\n      <td>0.013770</td>\n      <td>0.116552</td>\n      <td>0.761016</td>\n      <td>0.745634</td>\n      <td>5.312883</td>\n      <td>179.0</td>\n      <td>3.611992e-09</td>\n      <td>0</td>\n    </tr>\n  </tbody>\n</table>\n<p>11508 rows × 37 columns</p>\n</div>"
     },
     "execution_count": 11,
     "metadata": {},
     "output_type": "execute_result"
    }
   ]
  },
  {
   "cell_type": "code",
   "source": [
    "# Eliminate NaN values\n",
    "df_merge = df_merge.fillna(value=0)"
   ],
   "metadata": {
    "id": "rtgfC-PgUlXc"
   },
   "execution_count": 12,
   "outputs": []
  },
  {
   "cell_type": "code",
   "execution_count": 13,
   "outputs": [],
   "source": [
    "df_merge.replace(-np.inf, np.finfo(np.float32).min, inplace=True)"
   ],
   "metadata": {
    "collapsed": false
   }
  },
  {
   "cell_type": "code",
   "execution_count": 14,
   "outputs": [],
   "source": [
    "df_merge.replace(np.inf, np.finfo(np.float32).max, inplace=True)"
   ],
   "metadata": {
    "collapsed": false
   }
  },
  {
   "cell_type": "code",
   "execution_count": 15,
   "outputs": [
    {
     "name": "stdout",
     "output_type": "stream",
     "text": [
      "<class 'pandas.core.frame.DataFrame'>\n",
      "Int64Index: 11508 entries, 0 to 11507\n",
      "Data columns (total 37 columns):\n",
      " #   Column                            Non-Null Count  Dtype  \n",
      "---  ------                            --------------  -----  \n",
      " 0   bot                               11508 non-null  int64  \n",
      " 1   statuses_count                    11508 non-null  float64\n",
      " 2   user_subscription_in_secs         11508 non-null  int64  \n",
      " 3   n_tweets                          11508 non-null  float64\n",
      " 4   2012_tweets                       11508 non-null  float64\n",
      " 5   2013_tweets                       11508 non-null  float64\n",
      " 6   2014_tweets                       11508 non-null  float64\n",
      " 7   2015_tweets                       11508 non-null  float64\n",
      " 8   2016_tweets                       11508 non-null  float64\n",
      " 9   2017_tweets                       11508 non-null  float64\n",
      " 10  2018_tweets                       11508 non-null  float64\n",
      " 11  2019_tweets                       11508 non-null  float64\n",
      " 12  2020_tweets                       11508 non-null  float64\n",
      " 13  mean_length                       11508 non-null  float64\n",
      " 14  mean_special_chars                11508 non-null  float64\n",
      " 15  publication_date_in_secs_mean     11508 non-null  float64\n",
      " 16  publication_date_in_secs_std      11508 non-null  float64\n",
      " 17  publication_date_in_secs_entropy  11508 non-null  float64\n",
      " 18  retweet_count_mean                11508 non-null  float64\n",
      " 19  retweet_count_std                 11508 non-null  float64\n",
      " 20  retweet_count_entropy             11508 non-null  float64\n",
      " 21  reply_count_mean                  11508 non-null  float64\n",
      " 22  reply_count_std                   11508 non-null  float64\n",
      " 23  reply_count_entropy               11508 non-null  float64\n",
      " 24  favorite_count_mean               11508 non-null  float64\n",
      " 25  favorite_count_std                11508 non-null  float64\n",
      " 26  favorite_count_entropy            11508 non-null  float64\n",
      " 27  num_hashtags_mean                 11508 non-null  float64\n",
      " 28  num_hashtags_std                  11508 non-null  float64\n",
      " 29  num_urls_mean                     11508 non-null  float64\n",
      " 30  num_urls_std                      11508 non-null  float64\n",
      " 31  num_mentions_mean                 11508 non-null  float64\n",
      " 32  num_mentions_std                  11508 non-null  float64\n",
      " 33  tweeting_regularity               11508 non-null  float64\n",
      " 34  max_daily_tweets                  11508 non-null  float64\n",
      " 35  n_tweets_density                  11508 non-null  float64\n",
      " 36  lang_discr                        11508 non-null  int64  \n",
      "dtypes: float64(34), int64(3)\n",
      "memory usage: 3.3 MB\n"
     ]
    }
   ],
   "source": [
    "df_merge.info()"
   ],
   "metadata": {
    "collapsed": false
   }
  },
  {
   "cell_type": "code",
   "execution_count": 16,
   "outputs": [],
   "source": [
    "splitted_dataset = train_test_split(df_merge.drop(columns='bot'), df_merge['bot'], stratify =df_merge['bot'], test_size=0.20)"
   ],
   "metadata": {
    "collapsed": false
   }
  },
  {
   "cell_type": "code",
   "execution_count": 17,
   "outputs": [
    {
     "name": "stdout",
     "output_type": "stream",
     "text": [
      "Number of samples in Training set: 9206\n",
      "Number of samples in Test set: 2302\n"
     ]
    }
   ],
   "source": [
    "print(f'Number of samples in Training set:', len(tr))\n",
    "print(f'Number of samples in Test set:', len(ts))"
   ],
   "metadata": {
    "collapsed": false
   }
  },
  {
   "cell_type": "markdown",
   "source": [
    "# Decision Tree"
   ],
   "metadata": {
    "id": "5RExXIP7SSm8"
   }
  },
  {
   "cell_type": "code",
   "execution_count": 24,
   "outputs": [],
   "source": [
    "parameters = {\n",
    "    'criterion': ['gini','entropy','log_loss'],\n",
    "    'splitter': ['random','best'],\n",
    "    'max_depth': [4,8,16,32,64,None],\n",
    "    'min_samples_split': [2,4,8,16,32],\n",
    "    'min_samples_leaf': [1,2,4,8],\n",
    "    'max_features': ['sqrt', 'log2', None],\n",
    "    'random_state': [42],\n",
    "    'max_leaf_nodes': [None],\n",
    "    'min_impurity_decrease': [0.0, 1e-2],\n",
    "}\n",
    "\n",
    "d_tree = DecisionTreeClassifier()"
   ],
   "metadata": {
    "collapsed": false
   }
  },
  {
   "cell_type": "code",
   "execution_count": 25,
   "outputs": [
    {
     "name": "stdout",
     "output_type": "stream",
     "text": [
      "Fitting 5 folds for each of 4320 candidates, totalling 21600 fits\n"
     ]
    },
    {
     "name": "stderr",
     "output_type": "stream",
     "text": [
      "C:\\Users\\al\\anaconda3\\lib\\site-packages\\sklearn\\model_selection\\_validation.py:372: FitFailedWarning: \n",
      "7200 fits failed out of a total of 21600.\n",
      "The score on these train-test partitions for these parameters will be set to nan.\n",
      "If these failures are not expected, you can try to debug them by setting error_score='raise'.\n",
      "\n",
      "Below are more details about the failures:\n",
      "--------------------------------------------------------------------------------\n",
      "7200 fits failed with the following error:\n",
      "Traceback (most recent call last):\n",
      "  File \"C:\\Users\\al\\anaconda3\\lib\\site-packages\\sklearn\\model_selection\\_validation.py\", line 680, in _fit_and_score\n",
      "    estimator.fit(X_train, y_train, **fit_params)\n",
      "  File \"C:\\Users\\al\\anaconda3\\lib\\site-packages\\sklearn\\tree\\_classes.py\", line 937, in fit\n",
      "    super().fit(\n",
      "  File \"C:\\Users\\al\\anaconda3\\lib\\site-packages\\sklearn\\tree\\_classes.py\", line 352, in fit\n",
      "    criterion = CRITERIA_CLF[self.criterion](\n",
      "KeyError: 'log_loss'\n",
      "\n",
      "  warnings.warn(some_fits_failed_message, FitFailedWarning)\n",
      "C:\\Users\\al\\anaconda3\\lib\\site-packages\\sklearn\\model_selection\\_search.py:969: UserWarning: One or more of the test scores are non-finite: [0.73386967 0.81479522 0.73386967 ...        nan        nan        nan]\n",
      "  warnings.warn(\n",
      "C:\\Users\\al\\anaconda3\\lib\\site-packages\\sklearn\\model_selection\\_search.py:969: UserWarning: One or more of the train scores are non-finite: [0.73623173 0.81854227 0.73623173 ...        nan        nan        nan]\n",
      "  warnings.warn(\n",
      "C:\\Users\\al\\anaconda3\\lib\\site-packages\\sklearn\\model_selection\\_search.py:969: UserWarning: One or more of the test scores are non-finite: [0.69523478 0.75747068 0.69523478 ...        nan        nan        nan]\n",
      "  warnings.warn(\n",
      "C:\\Users\\al\\anaconda3\\lib\\site-packages\\sklearn\\model_selection\\_search.py:969: UserWarning: One or more of the train scores are non-finite: [0.69704187 0.75961518 0.69704187 ...        nan        nan        nan]\n",
      "  warnings.warn(\n",
      "C:\\Users\\al\\anaconda3\\lib\\site-packages\\sklearn\\model_selection\\_search.py:969: UserWarning: One or more of the test scores are non-finite: [0.8906459  0.96240665 0.8906459  ...        nan        nan        nan]\n",
      "  warnings.warn(\n",
      "C:\\Users\\al\\anaconda3\\lib\\site-packages\\sklearn\\model_selection\\_search.py:969: UserWarning: One or more of the train scores are non-finite: [0.89342171 0.96678705 0.89342171 ...        nan        nan        nan]\n",
      "  warnings.warn(\n",
      "C:\\Users\\al\\anaconda3\\lib\\site-packages\\sklearn\\model_selection\\_search.py:969: UserWarning: One or more of the test scores are non-finite: [0.78024452 0.84637234 0.78024452 ...        nan        nan        nan]\n",
      "  warnings.warn(\n",
      "C:\\Users\\al\\anaconda3\\lib\\site-packages\\sklearn\\model_selection\\_search.py:969: UserWarning: One or more of the train scores are non-finite: [0.78251683 0.84971172 0.78251683 ...        nan        nan        nan]\n",
      "  warnings.warn(\n"
     ]
    },
    {
     "name": "stdout",
     "output_type": "stream",
     "text": [
      "Best compo:\n",
      "\tparams: {'criterion': 'entropy', 'max_depth': 4, 'max_features': None, 'max_leaf_nodes': None, 'min_impurity_decrease': 0.01, 'min_samples_leaf': 1, 'min_samples_split': 2, 'random_state': 42, 'splitter': 'best'}\n",
      "\tmean_train_recall: 0.992438187310705\n",
      "\tmean_train_precision: 0.7928235257260895\n",
      "\tmean_train_f1: 0.8814690156441367\n",
      "\tmean_val_recall: 0.992438342200526\n",
      "\tmean_val_precision: 0.792929804673594\n",
      "\tmean_val_f1: 0.8815035969313889\n",
      "\n",
      "Accuracy 0.8579496090356212\n",
      "Precision test set  0.8823296354690525\n",
      "Recall test set  0.8579496090356212\n",
      "F1 score test set  0.8542624182538155\n",
      "Support test set  (array([0.98205128, 0.79434954]), array([0.70991659, 0.98855274]), array([0.82409898, 0.88087432]), array([1079, 1223], dtype=int64))\n",
      "              precision    recall  f1-score   support\n",
      "\n",
      "genuine_user       0.98      0.71      0.82      1079\n",
      "         bot       0.79      0.99      0.88      1223\n",
      "\n",
      "    accuracy                           0.86      2302\n",
      "   macro avg       0.89      0.85      0.85      2302\n",
      "weighted avg       0.88      0.86      0.85      2302\n",
      "\n"
     ]
    },
    {
     "data": {
      "text/plain": "<Figure size 432x288 with 2 Axes>",
      "image/png": "[encoded data removed]"
     },
     "metadata": {
      "needs_background": "light"
     },
     "output_type": "display_data"
    }
   ],
   "source": [
    "d_tree, results_df = grid_search(DecisionTreeClassifier, parameters, 'decision_tree', **splitted_dataset)"
   ],
   "metadata": {
    "collapsed": false
   }
  },
  {
   "cell_type": "code",
   "execution_count": 26,
   "outputs": [],
   "source": [
    "dot_data = export_graphviz(d_tree, out_file=None, feature_names=list(ts.columns), filled=True, rounded=True,\n",
    "                           class_names=['genuine user', 'bot'])\n",
    "graph = pydotplus.graph_from_dot_data(dot_data)\n",
    "with open('./classification/decision_tree/dtree_graph.png', 'wb') as png:\n",
    "    png.write(Image(graph.create_png()).data)"
   ],
   "metadata": {
    "collapsed": false
   }
  },
  {
   "cell_type": "markdown",
   "source": [
    "# Naive Bayes"
   ],
   "metadata": {
    "id": "7hpJISxodOgL"
   }
  },
  {
   "cell_type": "code",
   "source": [
    "labels = ['genuine user','bot']\n",
    "parameters = {\n",
    "    'alpha':[0.25,0.5,0.75,1, 2],\n",
    "    'fit_prior': [True, False]\n",
    "}"
   ],
   "metadata": {
    "colab": {
     "base_uri": "https://localhost:8080/",
     "height": 524
    },
    "id": "fPMobN77V5ZR",
    "outputId": "23f24cd9-30de-46f9-8b09-bdab6a512279"
   },
   "execution_count": 27,
   "outputs": []
  },
  {
   "cell_type": "code",
   "execution_count": 28,
   "outputs": [
    {
     "name": "stdout",
     "output_type": "stream",
     "text": [
      "Fitting 5 folds for each of 10 candidates, totalling 50 fits\n"
     ]
    },
    {
     "name": "stderr",
     "output_type": "stream",
     "text": [
      "C:\\Users\\al\\anaconda3\\lib\\site-packages\\sklearn\\model_selection\\_validation.py:372: FitFailedWarning: \n",
      "50 fits failed out of a total of 50.\n",
      "The score on these train-test partitions for these parameters will be set to nan.\n",
      "If these failures are not expected, you can try to debug them by setting error_score='raise'.\n",
      "\n",
      "Below are more details about the failures:\n",
      "--------------------------------------------------------------------------------\n",
      "50 fits failed with the following error:\n",
      "Traceback (most recent call last):\n",
      "  File \"C:\\Users\\al\\anaconda3\\lib\\site-packages\\sklearn\\model_selection\\_validation.py\", line 680, in _fit_and_score\n",
      "    estimator.fit(X_train, y_train, **fit_params)\n",
      "  File \"C:\\Users\\al\\anaconda3\\lib\\site-packages\\sklearn\\naive_bayes.py\", line 690, in fit\n",
      "    self._count(X, Y)\n",
      "  File \"C:\\Users\\al\\anaconda3\\lib\\site-packages\\sklearn\\naive_bayes.py\", line 863, in _count\n",
      "    check_non_negative(X, \"MultinomialNB (input X)\")\n",
      "  File \"C:\\Users\\al\\anaconda3\\lib\\site-packages\\sklearn\\utils\\validation.py\", line 1249, in check_non_negative\n",
      "    raise ValueError(\"Negative values in data passed to %s\" % whom)\n",
      "ValueError: Negative values in data passed to MultinomialNB (input X)\n",
      "\n",
      "  warnings.warn(some_fits_failed_message, FitFailedWarning)\n",
      "C:\\Users\\al\\anaconda3\\lib\\site-packages\\sklearn\\model_selection\\_search.py:969: UserWarning: One or more of the test scores are non-finite: [nan nan nan nan nan nan nan nan nan nan]\n",
      "  warnings.warn(\n",
      "C:\\Users\\al\\anaconda3\\lib\\site-packages\\sklearn\\model_selection\\_search.py:969: UserWarning: One or more of the train scores are non-finite: [nan nan nan nan nan nan nan nan nan nan]\n",
      "  warnings.warn(\n"
     ]
    }
   ],
   "source": [
    "best_nb, results_df = grid_search(MultinomialNB, parameters, 'mn_naive_bayes', **splitted_dataset)"
   ],
   "metadata": {
    "collapsed": false
   }
  },
  {
   "cell_type": "markdown",
   "source": [
    "# Adaboost"
   ],
   "metadata": {
    "collapsed": false
   }
  },
  {
   "cell_type": "code",
   "execution_count": 29,
   "outputs": [],
   "source": [
    "parameters = {\n",
    "    'base_estimator': [DecisionTreeClassifier(max_depth=4)],\n",
    "    'n_estimators': [8,16,32,64,128],\n",
    "    'learning_rate': [1e-2, 1e-1, 1, 1e1, 1e2],\n",
    "    'algorithm': ['SAMME','SAMME.R'],\n",
    "}"
   ],
   "metadata": {
    "collapsed": false
   }
  },
  {
   "cell_type": "code",
   "execution_count": 30,
   "outputs": [
    {
     "name": "stdout",
     "output_type": "stream",
     "text": [
      "Fitting 5 folds for each of 50 candidates, totalling 250 fits\n",
      "Best compo:\n",
      "\tparams: {'algorithm': 'SAMME', 'base_estimator': DecisionTreeClassifier(max_depth=4), 'learning_rate': 0.01, 'n_estimators': 32}\n",
      "\tmean_train_recall: 0.992438187310705\n",
      "\tmean_train_precision: 0.7930500375936942\n",
      "\tmean_train_f1: 0.8816090144346609\n",
      "\tmean_val_recall: 0.9922340521085955\n",
      "\tmean_val_precision: 0.7928974863545848\n",
      "\tmean_val_f1: 0.8814020328444501\n",
      "\n",
      "Accuracy 0.8579496090356212\n",
      "Precision test set  0.8823296354690525\n",
      "Recall test set  0.8579496090356212\n",
      "F1 score test set  0.8542624182538155\n",
      "Support test set  (array([0.98205128, 0.79434954]), array([0.70991659, 0.98855274]), array([0.82409898, 0.88087432]), array([1079, 1223], dtype=int64))\n",
      "              precision    recall  f1-score   support\n",
      "\n",
      "genuine_user       0.98      0.71      0.82      1079\n",
      "         bot       0.79      0.99      0.88      1223\n",
      "\n",
      "    accuracy                           0.86      2302\n",
      "   macro avg       0.89      0.85      0.85      2302\n",
      "weighted avg       0.88      0.86      0.85      2302\n",
      "\n"
     ]
    },
    {
     "data": {
      "text/plain": "<Figure size 432x288 with 2 Axes>",
      "image/png": "[encoded data removed]"
     },
     "metadata": {
      "needs_background": "light"
     },
     "output_type": "display_data"
    }
   ],
   "source": [
    "ab, results_df = grid_search(AdaBoostClassifier, parameters, 'adaboost', **splitted_dataset)"
   ],
   "metadata": {
    "collapsed": false
   }
  },
  {
   "cell_type": "markdown",
   "source": [
    "# Random Forest"
   ],
   "metadata": {
    "collapsed": false
   }
  },
  {
   "cell_type": "code",
   "execution_count": 61,
   "outputs": [
    {
     "data": {
      "text/plain": "'  \\n\"max_depth\": [None] + list(range(5,100,10)),\\n    #\"min_samples_split\": [2,4,8,16,32,64],\\n    \"min_samples_split\": [2,16,64],\\n    #\"min_samples_leaf\": [2,4,8,16,32,64,128],\\n    \"min_samples_leaf\": [2,16,64,128],\\n    \"max_features\":[\"auto\",\"sqrt\",\"log2\",None],\\n    \"max_leaf_nodes\":[None] + list(range(1,10,2)),\\n    \"min_impurity_decrease\": 0.1 * np.array(range(1,5))\\n'"
     },
     "execution_count": 61,
     "metadata": {},
     "output_type": "execute_result"
    }
   ],
   "source": [
    "parameters = {\n",
    "    \"n_estimators\": range(50,500,100),\n",
    "    \"criterion\": [\"gini\",\"entropy\",\"log_loss\"],\n",
    "    \"max_depth\": [None] + list(range(5,100,10)),\n",
    "    \"min_samples_split\": [2,4,8,16,32,64],\n",
    "    \"min_samples_leaf\": [2,4,8,16,32,64,128],\n",
    "    \"max_features\":[\"auto\",\"sqrt\",\"log2\",None],\n",
    "    \"max_leaf_nodes\":[None] + list(range(1,10,2)),\n",
    "    \"min_impurity_decrease\": 0.1 * np.array(range(1,5))\n",
    "}"
   ],
   "metadata": {
    "collapsed": false
   }
  },
  {
   "cell_type": "code",
   "execution_count": 63,
   "outputs": [],
   "source": [
    "rf, results_df = grid_search(RandomForestClassifier, parameters, 'random_forest', **splitted_dataset)"
   ],
   "metadata": {
    "collapsed": false
   }
  },
  {
   "cell_type": "markdown",
   "source": [
    "# SVM"
   ],
   "metadata": {
    "collapsed": false
   }
  },
  {
   "cell_type": "code",
   "execution_count": 19,
   "outputs": [],
   "source": [
    "\n",
    "parameters_linear = {\n",
    "    'C': [1**(exp) for exp in [-2,-1,0,1,2,3,4]],\n",
    "    'kernel': ['linear'],\n",
    "    'shrinking': [True, False],\n",
    "    'tol': [1e-8, 1e-4, 1e-2, 1e-1],\n",
    "    'random_state': [42]\n",
    "}\n",
    "\n",
    "gamma_range = ['scale','auto'] + [1**(exp) for exp in [-3,-2,-1,0,1,2]]\n",
    "\n",
    "parameters_poly = {\n",
    "    **parameters_linear,\n",
    "    'kernel': ['poly'],\n",
    "    'degree': list(range(2,9)),\n",
    "    'gamma': gamma_range,\n",
    "}\n",
    "\n",
    "parameters_rbf_sigmoid = {\n",
    "    **parameters_linear,\n",
    "    'kernel': ['rbf','sigmoid'],\n",
    "    'gamma': gamma_range\n",
    "}"
   ],
   "metadata": {
    "collapsed": false
   }
  },
  {
   "cell_type": "code",
   "execution_count": 20,
   "outputs": [
    {
     "name": "stdout",
     "output_type": "stream",
     "text": [
      "Fitting 5 folds for each of 4 candidates, totalling 20 fits\n",
      "Best compo:\n",
      "\tparams: {'kernel': 'linear', 'random_state': 42}\n",
      "\tmean_train_recall: 1.0\n",
      "\tmean_train_precision: 0.5315011949658399\n",
      "\tmean_train_f1: 0.6940917775835678\n",
      "\tmean_val_recall: 1.0\n",
      "\tmean_val_precision: 0.5315011963591991\n",
      "\tmean_val_f1: 0.6940917479454318\n",
      "\n",
      "Accuracy 0.5312771503040834\n",
      "Precision test set  0.2822554104352276\n",
      "Recall test set  0.5312771503040834\n",
      "F1 score test set  0.3686535913883086\n",
      "Support test set  (array([0.        , 0.53127715]), array([0., 1.]), array([0.        , 0.69390071]), array([1079, 1223], dtype=int64))\n",
      "              precision    recall  f1-score   support\n",
      "\n",
      "genuine_user       0.00      0.00      0.00      1079\n",
      "         bot       0.53      1.00      0.69      1223\n",
      "\n",
      "    accuracy                           0.53      2302\n",
      "   macro avg       0.27      0.50      0.35      2302\n",
      "weighted avg       0.28      0.53      0.37      2302\n",
      "\n"
     ]
    },
    {
     "name": "stderr",
     "output_type": "stream",
     "text": [
      "C:\\Users\\al\\anaconda3\\lib\\site-packages\\sklearn\\metrics\\_classification.py:1318: UndefinedMetricWarning: Precision is ill-defined and being set to 0.0 in labels with no predicted samples. Use `zero_division` parameter to control this behavior.\n",
      "  _warn_prf(average, modifier, msg_start, len(result))\n",
      "C:\\Users\\al\\anaconda3\\lib\\site-packages\\sklearn\\metrics\\_classification.py:1318: UndefinedMetricWarning: Precision and F-score are ill-defined and being set to 0.0 in labels with no predicted samples. Use `zero_division` parameter to control this behavior.\n",
      "  _warn_prf(average, modifier, msg_start, len(result))\n",
      "C:\\Users\\al\\anaconda3\\lib\\site-packages\\sklearn\\metrics\\_classification.py:1318: UndefinedMetricWarning: Precision and F-score are ill-defined and being set to 0.0 in labels with no predicted samples. Use `zero_division` parameter to control this behavior.\n",
      "  _warn_prf(average, modifier, msg_start, len(result))\n",
      "C:\\Users\\al\\anaconda3\\lib\\site-packages\\sklearn\\metrics\\_classification.py:1318: UndefinedMetricWarning: Precision and F-score are ill-defined and being set to 0.0 in labels with no predicted samples. Use `zero_division` parameter to control this behavior.\n",
      "  _warn_prf(average, modifier, msg_start, len(result))\n",
      "C:\\Users\\al\\anaconda3\\lib\\site-packages\\sklearn\\metrics\\_classification.py:1318: UndefinedMetricWarning: Precision and F-score are ill-defined and being set to 0.0 in labels with no predicted samples. Use `zero_division` parameter to control this behavior.\n",
      "  _warn_prf(average, modifier, msg_start, len(result))\n"
     ]
    },
    {
     "data": {
      "text/plain": "(SVC(kernel='linear', random_state=42),\n    mean_fit_time  std_fit_time  mean_score_time  std_score_time param_kernel  \\\n 0       0.252749      0.034701         0.046657        0.005316       linear   \n 1       3.567230      0.260925         0.598629        0.045717         poly   \n 2       3.571965      0.444945         3.248197        3.139082          rbf   \n 3       3.185667      0.095497         0.646143        0.059727      sigmoid   \n \n   param_random_state                                     params  \\\n 0                 42   {'kernel': 'linear', 'random_state': 42}   \n 1                 42     {'kernel': 'poly', 'random_state': 42}   \n 2                 42      {'kernel': 'rbf', 'random_state': 42}   \n 3                 42  {'kernel': 'sigmoid', 'random_state': 42}   \n \n    split0_test_accuracy  split1_test_accuracy  split2_test_accuracy  ...  \\\n 0              0.531488              0.531776              0.531776  ...   \n 1              0.531488              0.531776              0.531776  ...   \n 2              0.531488              0.531776              0.531776  ...   \n 3              0.531488              0.531776              0.531776  ...   \n \n    mean_test_f1  std_test_f1  rank_test_f1  split0_train_f1  split1_train_f1  \\\n 0      0.694092     0.000207             1         0.694095         0.694033   \n 1      0.694092     0.000207             1         0.694095         0.694033   \n 2      0.694092     0.000207             1         0.694095         0.694033   \n 3      0.694092     0.000207             1         0.694095         0.694033   \n \n    split2_train_f1  split3_train_f1  split4_train_f1  mean_train_f1  \\\n 0         0.694033         0.694149         0.694149       0.694092   \n 1         0.694033         0.694149         0.694149       0.694092   \n 2         0.694033         0.694149         0.694149       0.694092   \n 3         0.694033         0.694149         0.694149       0.694092   \n \n    std_train_f1  \n 0      0.000052  \n 1      0.000052  \n 2      0.000052  \n 3      0.000052  \n \n [4 rows x 67 columns])"
     },
     "execution_count": 20,
     "metadata": {},
     "output_type": "execute_result"
    },
    {
     "data": {
      "text/plain": "<Figure size 432x288 with 2 Axes>",
      "image/png": "[encoded data removed]"
     },
     "metadata": {
      "needs_background": "light"
     },
     "output_type": "display_data"
    }
   ],
   "source": [
    "grid_search(SVC, [parameters_linear,parameters_poly,parameters_rbf_sigmoid], 'svm',**splitted_dataset, n_jobs=4)"
   ],
   "metadata": {
    "collapsed": false
   }
  },
  {
   "cell_type": "code",
   "execution_count": null,
   "outputs": [],
   "source": [],
   "metadata": {
    "collapsed": false
   }
  }
 ]
}
