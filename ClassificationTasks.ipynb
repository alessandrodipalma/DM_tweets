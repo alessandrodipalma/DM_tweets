{
 "cells": [
  {
   "cell_type": "markdown",
   "metadata": {
    "collapsed": false
   },
   "source": [
    "# Imports"
   ]
  },
  {
   "cell_type": "code",
   "execution_count": 1,
   "metadata": {
    "collapsed": false
   },
   "outputs": [],
   "source": [
    "import pandas as pd\n",
    "%load_ext autoreload\n",
    "%autoreload 2"
   ]
  },
  {
   "cell_type": "code",
   "execution_count": 2,
   "metadata": {
    "collapsed": false
   },
   "outputs": [],
   "source": [
    "import pydotplus\n",
    "from IPython.display import Image\n",
    "from sklearn.ensemble import RandomForestClassifier, AdaBoostClassifier\n",
    "from sklearn.naive_bayes import MultinomialNB\n",
    "from sklearn.svm import SVC\n",
    "from sklearn.tree import DecisionTreeClassifier, export_graphviz\n",
    "#from keras.layers import InputLayer, Dense, Dropout, Softmax\n",
    "from classification_utilities import *\n",
    "from sklearn.preprocessing import MinMaxScaler"
   ]
  },
  {
   "cell_type": "code",
   "execution_count": 3,
   "metadata": {
    "collapsed": false
   },
   "outputs": [
    {
     "name": "stdout",
     "output_type": "stream",
     "text": [
      "Index(['statuses_count', 'user_subscription_in_secs', 'n_tweets',\n",
      "       '2018_tweets', '2019_tweets', '2020_tweets',\n",
      "       'publication_date_in_secs_std', 'retweet_count_entropy',\n",
      "       'num_hashtags_mean', 'num_urls_mean', 'num_urls_std',\n",
      "       'num_mentions_mean', 'num_mentions_std', 'tweeting_regularity',\n",
      "       'max_daily_tweets'],\n",
      "      dtype='object')\n"
     ]
    }
   ],
   "source": [
    "tr, ts, tr_target, ts_target = prepare_data(MinMaxScaler(),k=15)"
   ]
  },
  {
   "cell_type": "code",
   "execution_count": 4,
   "metadata": {
    "collapsed": false
   },
   "outputs": [
    {
     "name": "stdout",
     "output_type": "stream",
     "text": [
      "Number of samples in Training set: 9206\n",
      "Number of samples in Test set: 2302\n"
     ]
    },
    {
     "data": {
      "text/plain": [
       "(9206, 15)"
      ]
     },
     "execution_count": 4,
     "metadata": {},
     "output_type": "execute_result"
    }
   ],
   "source": [
    "print(f'Number of samples in Training set:', len(tr))\n",
    "print(f'Number of samples in Test set:', len(ts))\n",
    "tr.shape"
   ]
  },
  {
   "cell_type": "markdown",
   "metadata": {
    "id": "5RExXIP7SSm8"
   },
   "source": [
    "# Decision Tree"
   ]
  },
  {
   "cell_type": "code",
   "execution_count": 20,
   "metadata": {
    "collapsed": false
   },
   "outputs": [],
   "source": [
    "parameters = {\n",
    "    'criterion': ['gini'], #,'entropy','log_loss'],\n",
    "    'splitter': ['random','best'],\n",
    "    'max_depth': [4,8,16,None],\n",
    "    'min_samples_split': [2,4,8,16,32],\n",
    "    'min_samples_leaf': [1,2,4,8],\n",
    "    'max_features': ['sqrt', 'log2', None],\n",
    "    'random_state': [42],\n",
    "    'max_leaf_nodes': [None],\n",
    "    'min_impurity_decrease': [0.0, 1e-2],\n",
    "}\n",
    "\n",
    "d_tree = DecisionTreeClassifier()"
   ]
  },
  {
   "cell_type": "code",
   "execution_count": 21,
   "metadata": {
    "collapsed": false
   },
   "outputs": [
    {
     "name": "stdout",
     "output_type": "stream",
     "text": [
      "Fitting 5 folds for each of 960 candidates, totalling 4800 fits\n",
      "Best combo:\n",
      "\tparams: {'criterion': 'gini', 'max_depth': 4, 'max_features': None, 'max_leaf_nodes': None, 'min_impurity_decrease': 0.0, 'min_samples_leaf': 8, 'min_samples_split': 2, 'random_state': 42, 'splitter': 'best'}\n",
      "\tmean_train_accuracy: 0.8581088600789221\n",
      "\tmean_train_recall: 0.9913141090273576\n",
      "\tmean_train_precision: 0.7933186263994445\n",
      "\tmean_train_f1: 0.8813305782704024\n",
      "\tmean_val_accuracy: 0.8571586041434074\n",
      "\tmean_val_recall: 0.9905980602885546\n",
      "\tmean_val_precision: 0.7925578236340686\n",
      "\tmean_val_f1: 0.8805706970640654\n",
      "\n",
      "Accuracy 0.8570807993049522\n",
      "Precision test set  0.8810086126363458\n",
      "Recall test set  0.8570807993049522\n",
      "F1 score test set  0.8534137779701146\n",
      "Support test set  (array([0.97953964, 0.79407895]), array([0.70991659, 0.98691742]), array([0.82321333, 0.88005833]), array([1079, 1223], dtype=int64))\n",
      "              precision    recall  f1-score   support\n",
      "\n",
      "genuine_user       0.98      0.71      0.82      1079\n",
      "         bot       0.79      0.99      0.88      1223\n",
      "\n",
      "    accuracy                           0.86      2302\n",
      "   macro avg       0.89      0.85      0.85      2302\n",
      "weighted avg       0.88      0.86      0.85      2302\n",
      "\n"
     ]
    },
    {
     "data": {
      "image/png": "[encoded data removed]",
      "text/plain": [
       "<Figure size 432x288 with 2 Axes>"
      ]
     },
     "metadata": {
      "needs_background": "light"
     },
     "output_type": "display_data"
    }
   ],
   "source": [
    "d_tree, results_df = grid_search(DecisionTreeClassifier, parameters, 'decision_tree', tr, ts, tr_target, ts_target)"
   ]
  },
  {
   "cell_type": "code",
   "execution_count": 26,
   "metadata": {
    "collapsed": false
   },
   "outputs": [],
   "source": [
    "dot_data = export_graphviz(d_tree, out_file=None, feature_names=list(ts.columns), filled=True, rounded=True,\n",
    "                           class_names=['genuine user', 'bot'])\n",
    "graph = pydotplus.graph_from_dot_data(dot_data)\n",
    "with open('./classification/decision_tree/dtree_graph.png', 'wb') as png:\n",
    "    png.write(Image(graph.create_png()).data)"
   ]
  },
  {
   "cell_type": "markdown",
   "metadata": {
    "id": "7hpJISxodOgL"
   },
   "source": [
    "# Naive Bayes"
   ]
  },
  {
   "cell_type": "code",
   "execution_count": 27,
   "metadata": {
    "colab": {
     "base_uri": "https://localhost:8080/",
     "height": 524
    },
    "id": "fPMobN77V5ZR",
    "outputId": "23f24cd9-30de-46f9-8b09-bdab6a512279"
   },
   "outputs": [],
   "source": [
    "labels = ['genuine user','bot']\n",
    "parameters = {\n",
    "    'alpha':[0.25,0.5,0.75,1, 2],\n",
    "    'fit_prior': [True, False]\n",
    "}"
   ]
  },
  {
   "cell_type": "code",
   "execution_count": 28,
   "metadata": {
    "collapsed": false
   },
   "outputs": [
    {
     "name": "stdout",
     "output_type": "stream",
     "text": [
      "Fitting 5 folds for each of 10 candidates, totalling 50 fits\n"
     ]
    },
    {
     "name": "stderr",
     "output_type": "stream",
     "text": [
      "C:\\Users\\al\\anaconda3\\lib\\site-packages\\sklearn\\model_selection\\_validation.py:372: FitFailedWarning: \n",
      "50 fits failed out of a total of 50.\n",
      "The score on these train-test partitions for these parameters will be set to nan.\n",
      "If these failures are not expected, you can try to debug them by setting error_score='raise'.\n",
      "\n",
      "Below are more details about the failures:\n",
      "--------------------------------------------------------------------------------\n",
      "50 fits failed with the following error:\n",
      "Traceback (most recent call last):\n",
      "  File \"C:\\Users\\al\\anaconda3\\lib\\site-packages\\sklearn\\model_selection\\_validation.py\", line 680, in _fit_and_score\n",
      "    estimator.fit(X_train, y_train, **fit_params)\n",
      "  File \"C:\\Users\\al\\anaconda3\\lib\\site-packages\\sklearn\\naive_bayes.py\", line 690, in fit\n",
      "    self._count(X, Y)\n",
      "  File \"C:\\Users\\al\\anaconda3\\lib\\site-packages\\sklearn\\naive_bayes.py\", line 863, in _count\n",
      "    check_non_negative(X, \"MultinomialNB (input X)\")\n",
      "  File \"C:\\Users\\al\\anaconda3\\lib\\site-packages\\sklearn\\utils\\validation.py\", line 1249, in check_non_negative\n",
      "    raise ValueError(\"Negative values in data passed to %s\" % whom)\n",
      "ValueError: Negative values in data passed to MultinomialNB (input X)\n",
      "\n",
      "  warnings.warn(some_fits_failed_message, FitFailedWarning)\n",
      "C:\\Users\\al\\anaconda3\\lib\\site-packages\\sklearn\\model_selection\\_search.py:969: UserWarning: One or more of the test scores are non-finite: [nan nan nan nan nan nan nan nan nan nan]\n",
      "  warnings.warn(\n",
      "C:\\Users\\al\\anaconda3\\lib\\site-packages\\sklearn\\model_selection\\_search.py:969: UserWarning: One or more of the train scores are non-finite: [nan nan nan nan nan nan nan nan nan nan]\n",
      "  warnings.warn(\n"
     ]
    }
   ],
   "source": [
    "best_nb, results_df = grid_search(MultinomialNB, parameters, 'mn_naive_bayes', tr, ts, tr_target, ts_target)"
   ]
  },
  {
   "cell_type": "markdown",
   "metadata": {
    "collapsed": false
   },
   "source": [
    "# Adaboost"
   ]
  },
  {
   "cell_type": "code",
   "execution_count": 19,
   "metadata": {
    "collapsed": false
   },
   "outputs": [],
   "source": [
    "# TODO add random state to make replicable grid?\n",
    "parameters = {\n",
    "    'base_estimator': [DecisionTreeClassifier(max_depth=4), DecisionTreeClassifier(max_depth=4, min_samples_split=2, criterion='gini', min_impurity_decrease=0.0, min_samples_leaf=8, splitter='best'), SVC(C=10000, gamma='auto', kernel='rbf', tol=0.1)],\n",
    "    'n_estimators': [4,8,16,32,64,128,256],\n",
    "    'learning_rate': [1e-3,1e-2, 1e-1, 1, 1e1, 1e2],\n",
    "    'algorithm': ['SAMME']#,'SAMME.R'],\n",
    "}"
   ]
  },
  {
   "cell_type": "code",
   "execution_count": 20,
   "metadata": {
    "collapsed": false
   },
   "outputs": [
    {
     "name": "stdout",
     "output_type": "stream",
     "text": [
      "Fitting 4 folds for each of 126 candidates, totalling 504 fits\n"
     ]
    },
    {
     "ename": "KeyboardInterrupt",
     "evalue": "",
     "output_type": "error",
     "traceback": [
      "\u001b[1;31m---------------------------------------------------------------------------\u001b[0m",
      "\u001b[1;31mKeyboardInterrupt\u001b[0m                         Traceback (most recent call last)",
      "Cell \u001b[1;32mIn [20], line 1\u001b[0m\n\u001b[1;32m----> 1\u001b[0m results_df \u001b[39m=\u001b[39m grid_search(AdaBoostClassifier, parameters, \u001b[39m'\u001b[39;49m\u001b[39madaboost\u001b[39;49m\u001b[39m'\u001b[39;49m, tr, tr_target)\n",
      "File \u001b[1;32mc:\\Users\\Alessandro\\Desktop\\DataMining\\DM_tweets\\classification_utilities.py:174\u001b[0m, in \u001b[0;36mgrid_search\u001b[1;34m(classifier_class, parameters, name, tr, tr_target, n_jobs, k)\u001b[0m\n\u001b[0;32m    169\u001b[0m     \u001b[39mpass\u001b[39;00m\n\u001b[0;32m    171\u001b[0m gs \u001b[39m=\u001b[39m GridSearchCV(classifier_class(), param_grid\u001b[39m=\u001b[39mparameters, scoring\u001b[39m=\u001b[39m[\u001b[39m'\u001b[39m\u001b[39maccuracy\u001b[39m\u001b[39m'\u001b[39m, \u001b[39m'\u001b[39m\u001b[39mprecision\u001b[39m\u001b[39m'\u001b[39m, \u001b[39m'\u001b[39m\u001b[39mrecall\u001b[39m\u001b[39m'\u001b[39m, \u001b[39m'\u001b[39m\u001b[39mf1\u001b[39m\u001b[39m'\u001b[39m],\n\u001b[0;32m    172\u001b[0m                   verbose\u001b[39m=\u001b[39m\u001b[39m3\u001b[39m,\n\u001b[0;32m    173\u001b[0m                   refit\u001b[39m=\u001b[39m\u001b[39mFalse\u001b[39;00m, n_jobs\u001b[39m=\u001b[39mn_jobs, return_train_score\u001b[39m=\u001b[39m\u001b[39mTrue\u001b[39;00m, cv\u001b[39m=\u001b[39mk)\n\u001b[1;32m--> 174\u001b[0m gs\u001b[39m.\u001b[39;49mfit(tr, tr_target)\n\u001b[0;32m    175\u001b[0m results_df \u001b[39m=\u001b[39m pd\u001b[39m.\u001b[39mDataFrame(gs\u001b[39m.\u001b[39mcv_results_)\n\u001b[0;32m    176\u001b[0m results_df\u001b[39m.\u001b[39mto_csv(\u001b[39mf\u001b[39m\u001b[39m\"\u001b[39m\u001b[39m{\u001b[39;00mout_path\u001b[39m}\u001b[39;00m\u001b[39m/gs_results.csv\u001b[39m\u001b[39m\"\u001b[39m)\n",
      "File \u001b[1;32mc:\\Users\\Alessandro\\AppData\\Local\\Programs\\Python\\Python310\\lib\\site-packages\\sklearn\\model_selection\\_search.py:891\u001b[0m, in \u001b[0;36mBaseSearchCV.fit\u001b[1;34m(self, X, y, groups, **fit_params)\u001b[0m\n\u001b[0;32m    885\u001b[0m     results \u001b[39m=\u001b[39m \u001b[39mself\u001b[39m\u001b[39m.\u001b[39m_format_results(\n\u001b[0;32m    886\u001b[0m         all_candidate_params, n_splits, all_out, all_more_results\n\u001b[0;32m    887\u001b[0m     )\n\u001b[0;32m    889\u001b[0m     \u001b[39mreturn\u001b[39;00m results\n\u001b[1;32m--> 891\u001b[0m \u001b[39mself\u001b[39;49m\u001b[39m.\u001b[39;49m_run_search(evaluate_candidates)\n\u001b[0;32m    893\u001b[0m \u001b[39m# multimetric is determined here because in the case of a callable\u001b[39;00m\n\u001b[0;32m    894\u001b[0m \u001b[39m# self.scoring the return type is only known after calling\u001b[39;00m\n\u001b[0;32m    895\u001b[0m first_test_score \u001b[39m=\u001b[39m all_out[\u001b[39m0\u001b[39m][\u001b[39m\"\u001b[39m\u001b[39mtest_scores\u001b[39m\u001b[39m\"\u001b[39m]\n",
      "File \u001b[1;32mc:\\Users\\Alessandro\\AppData\\Local\\Programs\\Python\\Python310\\lib\\site-packages\\sklearn\\model_selection\\_search.py:1392\u001b[0m, in \u001b[0;36mGridSearchCV._run_search\u001b[1;34m(self, evaluate_candidates)\u001b[0m\n\u001b[0;32m   1390\u001b[0m \u001b[39mdef\u001b[39;00m \u001b[39m_run_search\u001b[39m(\u001b[39mself\u001b[39m, evaluate_candidates):\n\u001b[0;32m   1391\u001b[0m     \u001b[39m\"\"\"Search all candidates in param_grid\"\"\"\u001b[39;00m\n\u001b[1;32m-> 1392\u001b[0m     evaluate_candidates(ParameterGrid(\u001b[39mself\u001b[39;49m\u001b[39m.\u001b[39;49mparam_grid))\n",
      "File \u001b[1;32mc:\\Users\\Alessandro\\AppData\\Local\\Programs\\Python\\Python310\\lib\\site-packages\\sklearn\\model_selection\\_search.py:838\u001b[0m, in \u001b[0;36mBaseSearchCV.fit.<locals>.evaluate_candidates\u001b[1;34m(candidate_params, cv, more_results)\u001b[0m\n\u001b[0;32m    830\u001b[0m \u001b[39mif\u001b[39;00m \u001b[39mself\u001b[39m\u001b[39m.\u001b[39mverbose \u001b[39m>\u001b[39m \u001b[39m0\u001b[39m:\n\u001b[0;32m    831\u001b[0m     \u001b[39mprint\u001b[39m(\n\u001b[0;32m    832\u001b[0m         \u001b[39m\"\u001b[39m\u001b[39mFitting \u001b[39m\u001b[39m{0}\u001b[39;00m\u001b[39m folds for each of \u001b[39m\u001b[39m{1}\u001b[39;00m\u001b[39m candidates,\u001b[39m\u001b[39m\"\u001b[39m\n\u001b[0;32m    833\u001b[0m         \u001b[39m\"\u001b[39m\u001b[39m totalling \u001b[39m\u001b[39m{2}\u001b[39;00m\u001b[39m fits\u001b[39m\u001b[39m\"\u001b[39m\u001b[39m.\u001b[39mformat(\n\u001b[0;32m    834\u001b[0m             n_splits, n_candidates, n_candidates \u001b[39m*\u001b[39m n_splits\n\u001b[0;32m    835\u001b[0m         )\n\u001b[0;32m    836\u001b[0m     )\n\u001b[1;32m--> 838\u001b[0m out \u001b[39m=\u001b[39m parallel(\n\u001b[0;32m    839\u001b[0m     delayed(_fit_and_score)(\n\u001b[0;32m    840\u001b[0m         clone(base_estimator),\n\u001b[0;32m    841\u001b[0m         X,\n\u001b[0;32m    842\u001b[0m         y,\n\u001b[0;32m    843\u001b[0m         train\u001b[39m=\u001b[39;49mtrain,\n\u001b[0;32m    844\u001b[0m         test\u001b[39m=\u001b[39;49mtest,\n\u001b[0;32m    845\u001b[0m         parameters\u001b[39m=\u001b[39;49mparameters,\n\u001b[0;32m    846\u001b[0m         split_progress\u001b[39m=\u001b[39;49m(split_idx, n_splits),\n\u001b[0;32m    847\u001b[0m         candidate_progress\u001b[39m=\u001b[39;49m(cand_idx, n_candidates),\n\u001b[0;32m    848\u001b[0m         \u001b[39m*\u001b[39;49m\u001b[39m*\u001b[39;49mfit_and_score_kwargs,\n\u001b[0;32m    849\u001b[0m     )\n\u001b[0;32m    850\u001b[0m     \u001b[39mfor\u001b[39;49;00m (cand_idx, parameters), (split_idx, (train, test)) \u001b[39min\u001b[39;49;00m product(\n\u001b[0;32m    851\u001b[0m         \u001b[39menumerate\u001b[39;49m(candidate_params), \u001b[39menumerate\u001b[39;49m(cv\u001b[39m.\u001b[39;49msplit(X, y, groups))\n\u001b[0;32m    852\u001b[0m     )\n\u001b[0;32m    853\u001b[0m )\n\u001b[0;32m    855\u001b[0m \u001b[39mif\u001b[39;00m \u001b[39mlen\u001b[39m(out) \u001b[39m<\u001b[39m \u001b[39m1\u001b[39m:\n\u001b[0;32m    856\u001b[0m     \u001b[39mraise\u001b[39;00m \u001b[39mValueError\u001b[39;00m(\n\u001b[0;32m    857\u001b[0m         \u001b[39m\"\u001b[39m\u001b[39mNo fits were performed. \u001b[39m\u001b[39m\"\u001b[39m\n\u001b[0;32m    858\u001b[0m         \u001b[39m\"\u001b[39m\u001b[39mWas the CV iterator empty? \u001b[39m\u001b[39m\"\u001b[39m\n\u001b[0;32m    859\u001b[0m         \u001b[39m\"\u001b[39m\u001b[39mWere there no candidates?\u001b[39m\u001b[39m\"\u001b[39m\n\u001b[0;32m    860\u001b[0m     )\n",
      "File \u001b[1;32mc:\\Users\\Alessandro\\AppData\\Local\\Programs\\Python\\Python310\\lib\\site-packages\\joblib\\parallel.py:1056\u001b[0m, in \u001b[0;36mParallel.__call__\u001b[1;34m(self, iterable)\u001b[0m\n\u001b[0;32m   1053\u001b[0m     \u001b[39mself\u001b[39m\u001b[39m.\u001b[39m_iterating \u001b[39m=\u001b[39m \u001b[39mFalse\u001b[39;00m\n\u001b[0;32m   1055\u001b[0m \u001b[39mwith\u001b[39;00m \u001b[39mself\u001b[39m\u001b[39m.\u001b[39m_backend\u001b[39m.\u001b[39mretrieval_context():\n\u001b[1;32m-> 1056\u001b[0m     \u001b[39mself\u001b[39;49m\u001b[39m.\u001b[39;49mretrieve()\n\u001b[0;32m   1057\u001b[0m \u001b[39m# Make sure that we get a last message telling us we are done\u001b[39;00m\n\u001b[0;32m   1058\u001b[0m elapsed_time \u001b[39m=\u001b[39m time\u001b[39m.\u001b[39mtime() \u001b[39m-\u001b[39m \u001b[39mself\u001b[39m\u001b[39m.\u001b[39m_start_time\n",
      "File \u001b[1;32mc:\\Users\\Alessandro\\AppData\\Local\\Programs\\Python\\Python310\\lib\\site-packages\\joblib\\parallel.py:935\u001b[0m, in \u001b[0;36mParallel.retrieve\u001b[1;34m(self)\u001b[0m\n\u001b[0;32m    933\u001b[0m \u001b[39mtry\u001b[39;00m:\n\u001b[0;32m    934\u001b[0m     \u001b[39mif\u001b[39;00m \u001b[39mgetattr\u001b[39m(\u001b[39mself\u001b[39m\u001b[39m.\u001b[39m_backend, \u001b[39m'\u001b[39m\u001b[39msupports_timeout\u001b[39m\u001b[39m'\u001b[39m, \u001b[39mFalse\u001b[39;00m):\n\u001b[1;32m--> 935\u001b[0m         \u001b[39mself\u001b[39m\u001b[39m.\u001b[39m_output\u001b[39m.\u001b[39mextend(job\u001b[39m.\u001b[39;49mget(timeout\u001b[39m=\u001b[39;49m\u001b[39mself\u001b[39;49m\u001b[39m.\u001b[39;49mtimeout))\n\u001b[0;32m    936\u001b[0m     \u001b[39melse\u001b[39;00m:\n\u001b[0;32m    937\u001b[0m         \u001b[39mself\u001b[39m\u001b[39m.\u001b[39m_output\u001b[39m.\u001b[39mextend(job\u001b[39m.\u001b[39mget())\n",
      "File \u001b[1;32mc:\\Users\\Alessandro\\AppData\\Local\\Programs\\Python\\Python310\\lib\\site-packages\\joblib\\_parallel_backends.py:542\u001b[0m, in \u001b[0;36mLokyBackend.wrap_future_result\u001b[1;34m(future, timeout)\u001b[0m\n\u001b[0;32m    539\u001b[0m \u001b[39m\"\"\"Wrapper for Future.result to implement the same behaviour as\u001b[39;00m\n\u001b[0;32m    540\u001b[0m \u001b[39mAsyncResults.get from multiprocessing.\"\"\"\u001b[39;00m\n\u001b[0;32m    541\u001b[0m \u001b[39mtry\u001b[39;00m:\n\u001b[1;32m--> 542\u001b[0m     \u001b[39mreturn\u001b[39;00m future\u001b[39m.\u001b[39;49mresult(timeout\u001b[39m=\u001b[39;49mtimeout)\n\u001b[0;32m    543\u001b[0m \u001b[39mexcept\u001b[39;00m CfTimeoutError \u001b[39mas\u001b[39;00m e:\n\u001b[0;32m    544\u001b[0m     \u001b[39mraise\u001b[39;00m \u001b[39mTimeoutError\u001b[39;00m \u001b[39mfrom\u001b[39;00m \u001b[39me\u001b[39;00m\n",
      "File \u001b[1;32mc:\\Users\\Alessandro\\AppData\\Local\\Programs\\Python\\Python310\\lib\\concurrent\\futures\\_base.py:441\u001b[0m, in \u001b[0;36mFuture.result\u001b[1;34m(self, timeout)\u001b[0m\n\u001b[0;32m    438\u001b[0m \u001b[39melif\u001b[39;00m \u001b[39mself\u001b[39m\u001b[39m.\u001b[39m_state \u001b[39m==\u001b[39m FINISHED:\n\u001b[0;32m    439\u001b[0m     \u001b[39mreturn\u001b[39;00m \u001b[39mself\u001b[39m\u001b[39m.\u001b[39m__get_result()\n\u001b[1;32m--> 441\u001b[0m \u001b[39mself\u001b[39;49m\u001b[39m.\u001b[39;49m_condition\u001b[39m.\u001b[39;49mwait(timeout)\n\u001b[0;32m    443\u001b[0m \u001b[39mif\u001b[39;00m \u001b[39mself\u001b[39m\u001b[39m.\u001b[39m_state \u001b[39min\u001b[39;00m [CANCELLED, CANCELLED_AND_NOTIFIED]:\n\u001b[0;32m    444\u001b[0m     \u001b[39mraise\u001b[39;00m CancelledError()\n",
      "File \u001b[1;32mc:\\Users\\Alessandro\\AppData\\Local\\Programs\\Python\\Python310\\lib\\threading.py:320\u001b[0m, in \u001b[0;36mCondition.wait\u001b[1;34m(self, timeout)\u001b[0m\n\u001b[0;32m    318\u001b[0m \u001b[39mtry\u001b[39;00m:    \u001b[39m# restore state no matter what (e.g., KeyboardInterrupt)\u001b[39;00m\n\u001b[0;32m    319\u001b[0m     \u001b[39mif\u001b[39;00m timeout \u001b[39mis\u001b[39;00m \u001b[39mNone\u001b[39;00m:\n\u001b[1;32m--> 320\u001b[0m         waiter\u001b[39m.\u001b[39;49macquire()\n\u001b[0;32m    321\u001b[0m         gotit \u001b[39m=\u001b[39m \u001b[39mTrue\u001b[39;00m\n\u001b[0;32m    322\u001b[0m     \u001b[39melse\u001b[39;00m:\n",
      "\u001b[1;31mKeyboardInterrupt\u001b[0m: "
     ]
    }
   ],
   "source": [
    "results_df = grid_search(AdaBoostClassifier, parameters, 'adaboost', tr, tr_target)"
   ]
  },
  {
   "cell_type": "code",
   "execution_count": null,
   "metadata": {},
   "outputs": [],
   "source": []
  },
  {
   "cell_type": "markdown",
   "metadata": {
    "collapsed": false
   },
   "source": [
    "# Random Forest"
   ]
  },
  {
   "cell_type": "code",
   "execution_count": 61,
   "metadata": {
    "collapsed": false
   },
   "outputs": [
    {
     "data": {
      "text/plain": [
       "'  \\n\"max_depth\": [None] + list(range(5,100,10)),\\n    #\"min_samples_split\": [2,4,8,16,32,64],\\n    \"min_samples_split\": [2,16,64],\\n    #\"min_samples_leaf\": [2,4,8,16,32,64,128],\\n    \"min_samples_leaf\": [2,16,64,128],\\n    \"max_features\":[\"auto\",\"sqrt\",\"log2\",None],\\n    \"max_leaf_nodes\":[None] + list(range(1,10,2)),\\n    \"min_impurity_decrease\": 0.1 * np.array(range(1,5))\\n'"
      ]
     },
     "execution_count": 61,
     "metadata": {},
     "output_type": "execute_result"
    }
   ],
   "source": [
    "parameters = {\n",
    "    \"n_estimators\": range(50,500,100),\n",
    "    \"criterion\": [\"gini\",\"entropy\",\"log_loss\"],\n",
    "    \"max_depth\": [None] + list(range(5,100,10)),\n",
    "    \"min_samples_split\": [2,4,8,16,32,64],\n",
    "    \"min_samples_leaf\": [2,4,8,16,32,64,128],\n",
    "    \"max_features\":[\"auto\",\"sqrt\",\"log2\",None],\n",
    "    \"max_leaf_nodes\":[None] + list(range(1,10,2)),\n",
    "    \"min_impurity_decrease\": 0.1 * np.array(range(1,5))\n",
    "}"
   ]
  },
  {
   "cell_type": "code",
   "execution_count": 63,
   "metadata": {
    "collapsed": false
   },
   "outputs": [],
   "source": [
    "rf, results_df = grid_search(RandomForestClassifier, parameters, 'random_forest', tr, ts, tr_target, ts_target)"
   ]
  },
  {
   "cell_type": "code",
   "execution_count": 13,
   "metadata": {
    "collapsed": false
   },
   "outputs": [],
   "source": [
    "best_params = {'criterion': 'gini', 'max_depth': 15, 'max_features': 'sqrt', 'max_leaf_nodes': 9, 'min_impurity_decrease': 0.2, 'min_samples_leaf': 8, 'min_samples_split': 32, 'n_estimators': 50}"
   ]
  },
  {
   "cell_type": "code",
   "execution_count": 14,
   "metadata": {
    "collapsed": false
   },
   "outputs": [
    {
     "name": "stdout",
     "output_type": "stream",
     "text": [
      "Accuracy 0.8266724587315378\n",
      "Precision test set  0.8693097515589832\n",
      "Recall test set  0.8266724587315378\n",
      "F1 score test set  0.8191684696842777\n",
      "Support test set  (array([1.       , 0.7540074]), array([0.63021316, 1.        ]), array([0.77316657, 0.85975395]), array([1079, 1223], dtype=int64))\n",
      "              precision    recall  f1-score   support\n",
      "\n",
      "genuine_user       1.00      0.63      0.77      1079\n",
      "         bot       0.75      1.00      0.86      1223\n",
      "\n",
      "    accuracy                           0.83      2302\n",
      "   macro avg       0.88      0.82      0.82      2302\n",
      "weighted avg       0.87      0.83      0.82      2302\n",
      "\n"
     ]
    },
    {
     "data": {
      "text/plain": [
       "RandomForestClassifier(max_depth=15, max_features='sqrt', max_leaf_nodes=9,\n",
       "                       min_impurity_decrease=0.2, min_samples_leaf=8,\n",
       "                       min_samples_split=32, n_estimators=50)"
      ]
     },
     "execution_count": 14,
     "metadata": {},
     "output_type": "execute_result"
    },
    {
     "data": {
      "image/png": "[encoded data removed]",
      "text/plain": [
       "<Figure size 432x288 with 2 Axes>"
      ]
     },
     "metadata": {
      "needs_background": "light"
     },
     "output_type": "display_data"
    }
   ],
   "source": [
    "test_best(RandomForestClassifier, best_params, tr, ts, tr_target, ts_target, 'classification/random_forest/')"
   ]
  },
  {
   "cell_type": "markdown",
   "metadata": {
    "collapsed": false
   },
   "source": [
    "# SVM"
   ]
  },
  {
   "cell_type": "code",
   "execution_count": 4,
   "metadata": {
    "collapsed": false
   },
   "outputs": [],
   "source": [
    "parameters_linear = {\n",
    "    'C': [10**(exp) for exp in [-2,-1,1,2,3,4]],\n",
    "    'kernel': ['linear'],\n",
    "    #'shrinking': [True, False],\n",
    "    'tol': [1e-1],\n",
    "    'random_state': [42]\n",
    "}\n",
    "\n",
    "gamma_range = ['scale','auto'] + [10**(exp) for exp in [-2,-1,0,1,2]]\n",
    "\n",
    "parameters_poly = {\n",
    "    **parameters_linear,\n",
    "    'kernel': ['poly'],\n",
    "    'degree': list(range(2,9)),\n",
    "    'gamma': gamma_range,\n",
    "}\n",
    "\n",
    "parameters_rbf = {\n",
    "    **parameters_linear,\n",
    "    'kernel': ['rbf'],\n",
    "    'gamma': gamma_range\n",
    "}\n",
    "\n"
   ]
  },
  {
   "cell_type": "code",
   "execution_count": 26,
   "metadata": {
    "collapsed": false
   },
   "outputs": [
    {
     "name": "stdout",
     "output_type": "stream",
     "text": [
      "Fitting 4 folds for each of 42 candidates, totalling 168 fits\n",
      "Best combo:\n",
      "\tparams: {'C': 10000, 'gamma': 'auto', 'kernel': 'rbf', 'random_state': 42, 'tol': 0.1}\n",
      "\tmean_train_accuracy: 0.8260192540210085\n",
      "\tmean_train_recall: 0.9994549851729231\n",
      "\tmean_train_precision: 0.753598732529071\n",
      "\tmean_train_f1: 0.8592860271372937\n",
      "\tmean_val_accuracy: 0.8239192456269722\n",
      "\tmean_val_recall: 0.997343268187624\n",
      "\tmean_val_precision: 0.7521824156683676\n",
      "\tmean_val_f1: 0.8575783538740558\n",
      "\n",
      "Accuracy 0.8192875760208514\n",
      "Precision test set  0.8640693108040707\n",
      "Recall test set  0.8192875760208514\n",
      "F1 score test set  0.8109918661456049\n",
      "Support test set  (array([0.9970015 , 0.74678899]), array([0.6163114 , 0.99836468]), array([0.76174112, 0.85444367]), array([1079, 1223], dtype=int64))\n",
      "              precision    recall  f1-score   support\n",
      "\n",
      "genuine_user       1.00      0.62      0.76      1079\n",
      "         bot       0.75      1.00      0.85      1223\n",
      "\n",
      "    accuracy                           0.82      2302\n",
      "   macro avg       0.87      0.81      0.81      2302\n",
      "weighted avg       0.86      0.82      0.81      2302\n",
      "\n"
     ]
    },
    {
     "data": {
      "text/plain": [
       "(SVC(C=10000, gamma='auto', random_state=42, tol=0.1),\n",
       "     mean_fit_time  std_fit_time  mean_score_time  std_score_time param_C  \\\n",
       " 0        3.797908      0.047242         2.326670        0.031133    0.01   \n",
       " 1        5.281061      0.202921         3.248031        0.284869    0.01   \n",
       " 2        5.477632      0.090869         3.022181        0.080973    0.01   \n",
       " 3        4.846771      0.081484         3.414890        0.017962    0.01   \n",
       " 4        4.483182      0.406781         2.279991        0.082845    0.01   \n",
       " 5        4.121760      0.065707         2.287659        0.034237    0.01   \n",
       " 6        5.337221      0.046832         2.844436        0.062553    0.01   \n",
       " 7        3.337789      0.157328         1.508747        0.097473     0.1   \n",
       " 8        3.943818      0.057689         2.112877        0.030150     0.1   \n",
       " 9        5.038530      0.227978         2.813822        0.163688     0.1   \n",
       " 10       3.821827      0.363598         2.044116        0.063475     0.1   \n",
       " 11       3.166510      0.107393         1.494445        0.083220     0.1   \n",
       " 12       2.499088      0.193360         1.400224        0.050528     0.1   \n",
       " 13       3.570078      0.058849         1.822737        0.014521     0.1   \n",
       " 14       2.472015      0.139500         1.161698        0.033738      10   \n",
       " 15       2.633876      0.055913         1.297270        0.026957      10   \n",
       " 16       3.449014      0.272196         1.626285        0.043473      10   \n",
       " 17       2.861938      0.504420         1.351952        0.051885      10   \n",
       " 18       2.559764      0.099306         1.312690        0.044941      10   \n",
       " 19       4.229159      0.026514         1.428166        0.090648      10   \n",
       " 20       5.407205      1.102962         2.480583        0.309683      10   \n",
       " 21       3.870819      0.819610         1.329212        0.171836     100   \n",
       " 22       3.912600      0.399310         1.386981        0.220695     100   \n",
       " 23       3.023105      0.187007         1.307473        0.036639     100   \n",
       " 24       2.913479      0.045557         1.293269        0.046917     100   \n",
       " 25       3.108440      0.136332         1.187388        0.096972     100   \n",
       " 26       3.510915      0.272463         1.310394        0.032806     100   \n",
       " 27       7.216829      0.248623         2.181376        0.089649     100   \n",
       " 28       5.166913      0.294666         1.219623        0.021715    1000   \n",
       " 29       3.195554      0.101048         1.181907        0.048971    1000   \n",
       " 30       2.966937      0.054010         1.207022        0.050841    1000   \n",
       " 31       3.128411      0.114823         1.167177        0.026144    1000   \n",
       " 32       5.199725      0.165615         1.222319        0.020201    1000   \n",
       " 33       7.361720      0.281849         1.312908        0.076035    1000   \n",
       " 34      16.035697      0.531441         2.058987        0.151494    1000   \n",
       " 35      16.657940      0.468615         1.260865        0.036161   10000   \n",
       " 36       5.367832      0.196856         1.177245        0.012522   10000   \n",
       " 37       3.521118      0.088865         1.055952        0.028627   10000   \n",
       " 38       6.110614      0.288042         1.130004        0.018491   10000   \n",
       " 39      15.849240      0.889362         1.153431        0.078736   10000   \n",
       " 40      31.081988      1.543367         1.364556        0.025687   10000   \n",
       " 41      56.530492      3.102683         1.342122        0.090732   10000   \n",
       " \n",
       "    param_gamma param_kernel param_random_state param_tol  \\\n",
       " 0        scale          rbf                 42       0.1   \n",
       " 1         auto          rbf                 42       0.1   \n",
       " 2         0.01          rbf                 42       0.1   \n",
       " 3          0.1          rbf                 42       0.1   \n",
       " 4            1          rbf                 42       0.1   \n",
       " 5           10          rbf                 42       0.1   \n",
       " 6          100          rbf                 42       0.1   \n",
       " 7        scale          rbf                 42       0.1   \n",
       " 8         auto          rbf                 42       0.1   \n",
       " 9         0.01          rbf                 42       0.1   \n",
       " 10         0.1          rbf                 42       0.1   \n",
       " 11           1          rbf                 42       0.1   \n",
       " 12          10          rbf                 42       0.1   \n",
       " 13         100          rbf                 42       0.1   \n",
       " 14       scale          rbf                 42       0.1   \n",
       " 15        auto          rbf                 42       0.1   \n",
       " 16        0.01          rbf                 42       0.1   \n",
       " 17         0.1          rbf                 42       0.1   \n",
       " 18           1          rbf                 42       0.1   \n",
       " 19          10          rbf                 42       0.1   \n",
       " 20         100          rbf                 42       0.1   \n",
       " 21       scale          rbf                 42       0.1   \n",
       " 22        auto          rbf                 42       0.1   \n",
       " 23        0.01          rbf                 42       0.1   \n",
       " 24         0.1          rbf                 42       0.1   \n",
       " 25           1          rbf                 42       0.1   \n",
       " 26          10          rbf                 42       0.1   \n",
       " 27         100          rbf                 42       0.1   \n",
       " 28       scale          rbf                 42       0.1   \n",
       " 29        auto          rbf                 42       0.1   \n",
       " 30        0.01          rbf                 42       0.1   \n",
       " 31         0.1          rbf                 42       0.1   \n",
       " 32           1          rbf                 42       0.1   \n",
       " 33          10          rbf                 42       0.1   \n",
       " 34         100          rbf                 42       0.1   \n",
       " 35       scale          rbf                 42       0.1   \n",
       " 36        auto          rbf                 42       0.1   \n",
       " 37        0.01          rbf                 42       0.1   \n",
       " 38         0.1          rbf                 42       0.1   \n",
       " 39           1          rbf                 42       0.1   \n",
       " 40          10          rbf                 42       0.1   \n",
       " 41         100          rbf                 42       0.1   \n",
       " \n",
       "                                                params  ...  split3_test_f1  \\\n",
       " 0   {'C': 0.01, 'gamma': 'scale', 'kernel': 'rbf',...  ...        0.825713   \n",
       " 1   {'C': 0.01, 'gamma': 'auto', 'kernel': 'rbf', ...  ...        0.744823   \n",
       " 2   {'C': 0.01, 'gamma': 0.01, 'kernel': 'rbf', 'r...  ...        0.694098   \n",
       " 3   {'C': 0.01, 'gamma': 0.1, 'kernel': 'rbf', 'ra...  ...        0.750307   \n",
       " 4   {'C': 0.01, 'gamma': 1, 'kernel': 'rbf', 'rand...  ...        0.824014   \n",
       " 5   {'C': 0.01, 'gamma': 10, 'kernel': 'rbf', 'ran...  ...        0.801650   \n",
       " 6   {'C': 0.01, 'gamma': 100, 'kernel': 'rbf', 'ra...  ...        0.749085   \n",
       " 7   {'C': 0.1, 'gamma': 'scale', 'kernel': 'rbf', ...  ...        0.843552   \n",
       " 8   {'C': 0.1, 'gamma': 'auto', 'kernel': 'rbf', '...  ...        0.814213   \n",
       " 9   {'C': 0.1, 'gamma': 0.01, 'kernel': 'rbf', 'ra...  ...        0.748470   \n",
       " 10  {'C': 0.1, 'gamma': 0.1, 'kernel': 'rbf', 'ran...  ...        0.823328   \n",
       " 11  {'C': 0.1, 'gamma': 1, 'kernel': 'rbf', 'rando...  ...        0.844476   \n",
       " 12  {'C': 0.1, 'gamma': 10, 'kernel': 'rbf', 'rand...  ...        0.840778   \n",
       " 13  {'C': 0.1, 'gamma': 100, 'kernel': 'rbf', 'ran...  ...        0.804720   \n",
       " 14  {'C': 10, 'gamma': 'scale', 'kernel': 'rbf', '...  ...        0.855935   \n",
       " 15  {'C': 10, 'gamma': 'auto', 'kernel': 'rbf', 'r...  ...        0.846262   \n",
       " 16  {'C': 10, 'gamma': 0.01, 'kernel': 'rbf', 'ran...  ...        0.840141   \n",
       " 17  {'C': 10, 'gamma': 0.1, 'kernel': 'rbf', 'rand...  ...        0.849613   \n",
       " 18  {'C': 10, 'gamma': 1, 'kernel': 'rbf', 'random...  ...        0.855532   \n",
       " 19  {'C': 10, 'gamma': 10, 'kernel': 'rbf', 'rando...  ...        0.851773   \n",
       " 20  {'C': 10, 'gamma': 100, 'kernel': 'rbf', 'rand...  ...        0.834369   \n",
       " 21  {'C': 100, 'gamma': 'scale', 'kernel': 'rbf', ...  ...        0.857848   \n",
       " 22  {'C': 100, 'gamma': 'auto', 'kernel': 'rbf', '...  ...        0.853343   \n",
       " 23  {'C': 100, 'gamma': 0.01, 'kernel': 'rbf', 'ra...  ...        0.846777   \n",
       " 24  {'C': 100, 'gamma': 0.1, 'kernel': 'rbf', 'ran...  ...        0.853940   \n",
       " 25  {'C': 100, 'gamma': 1, 'kernel': 'rbf', 'rando...  ...        0.857748   \n",
       " 26  {'C': 100, 'gamma': 10, 'kernel': 'rbf', 'rand...  ...        0.846373   \n",
       " 27  {'C': 100, 'gamma': 100, 'kernel': 'rbf', 'ran...  ...        0.830452   \n",
       " 28  {'C': 1000, 'gamma': 'scale', 'kernel': 'rbf',...  ...        0.856436   \n",
       " 29  {'C': 1000, 'gamma': 'auto', 'kernel': 'rbf', ...  ...        0.856842   \n",
       " 30  {'C': 1000, 'gamma': 0.01, 'kernel': 'rbf', 'r...  ...        0.852849   \n",
       " 31  {'C': 1000, 'gamma': 0.1, 'kernel': 'rbf', 'ra...  ...        0.857444   \n",
       " 32  {'C': 1000, 'gamma': 1, 'kernel': 'rbf', 'rand...  ...        0.855830   \n",
       " 33  {'C': 1000, 'gamma': 10, 'kernel': 'rbf', 'ran...  ...        0.844809   \n",
       " 34  {'C': 1000, 'gamma': 100, 'kernel': 'rbf', 'ra...  ...        0.822785   \n",
       " 35  {'C': 10000, 'gamma': 'scale', 'kernel': 'rbf'...  ...        0.853097   \n",
       " 36  {'C': 10000, 'gamma': 'auto', 'kernel': 'rbf',...  ...        0.858848   \n",
       " 37  {'C': 10000, 'gamma': 0.01, 'kernel': 'rbf', '...  ...        0.856443   \n",
       " 38  {'C': 10000, 'gamma': 0.1, 'kernel': 'rbf', 'r...  ...        0.858848   \n",
       " 39  {'C': 10000, 'gamma': 1, 'kernel': 'rbf', 'ran...  ...        0.853503   \n",
       " 40  {'C': 10000, 'gamma': 10, 'kernel': 'rbf', 'ra...  ...        0.843201   \n",
       " 41  {'C': 10000, 'gamma': 100, 'kernel': 'rbf', 'r...  ...        0.806500   \n",
       " \n",
       "     mean_test_f1  std_test_f1  rank_test_f1  split0_train_f1  split1_train_f1  \\\n",
       " 0       0.823486     0.002395            29         0.823058         0.824161   \n",
       " 1       0.744730     0.001341            41         0.743639         0.745074   \n",
       " 2       0.694092     0.000131            42         0.694155         0.694032   \n",
       " 3       0.749636     0.000657            38         0.748113         0.750486   \n",
       " 4       0.822036     0.001944            31         0.822106         0.823395   \n",
       " 5       0.798906     0.002753            37         0.799650         0.801044   \n",
       " 6       0.746442     0.014136            40         0.743520         0.747562   \n",
       " 7       0.840871     0.001893            23         0.840627         0.841146   \n",
       " 8       0.812917     0.000804            34         0.813440         0.813460   \n",
       " 9       0.747861     0.001104            39         0.747123         0.748495   \n",
       " 10      0.821424     0.002009            32         0.821130         0.822237   \n",
       " 11      0.840448     0.002515            24         0.840848         0.841034   \n",
       " 12      0.839254     0.001516            25         0.840945         0.840597   \n",
       " 13      0.803743     0.004384            36         0.806591         0.807925   \n",
       " 14      0.854206     0.001357            10         0.856473         0.855703   \n",
       " 15      0.845116     0.001414            21         0.847533         0.845477   \n",
       " 16      0.837953     0.001313            27         0.837965         0.837209   \n",
       " 17      0.846998     0.001748            18         0.849116         0.847505   \n",
       " 18      0.854080     0.000857            11         0.856171         0.855569   \n",
       " 19      0.849719     0.001689            17         0.866265         0.864361   \n",
       " 20      0.827346     0.004678            28         0.876555         0.876165   \n",
       " 21      0.855435     0.003239             7         0.861271         0.859322   \n",
       " 22      0.852073     0.000874            14         0.853075         0.852279   \n",
       " 23      0.846247     0.001820            19         0.846570         0.845484   \n",
       " 24      0.853069     0.000991            12         0.853972         0.852776   \n",
       " 25      0.855638     0.003003             6         0.860902         0.858886   \n",
       " 26      0.845983     0.001139            20         0.870918         0.869720   \n",
       " 27      0.823366     0.004664            30         0.881871         0.881311   \n",
       " 28      0.854550     0.002397             9         0.864011         0.862381   \n",
       " 29      0.856246     0.002118             4         0.857812         0.855741   \n",
       " 30      0.852534     0.001906            13         0.853616         0.852123   \n",
       " 31      0.856775     0.002728             3         0.858617         0.856375   \n",
       " 32      0.854879     0.002629             8         0.863974         0.861607   \n",
       " 33      0.843168     0.001309            22         0.874374         0.872887   \n",
       " 34      0.815917     0.005425            33         0.889538         0.889430   \n",
       " 35      0.851496     0.003210            16         0.867045         0.865298   \n",
       " 36      0.857578     0.003144             1         0.860762         0.857644   \n",
       " 37      0.856201     0.002842             5         0.857911         0.855377   \n",
       " 38      0.857453     0.003024             2         0.861167         0.859185   \n",
       " 39      0.851978     0.002376            15         0.866840         0.864686   \n",
       " 40      0.838544     0.004014            26         0.876991         0.875673   \n",
       " 41      0.808245     0.004737            35         0.898661         0.898387   \n",
       " \n",
       "     split2_train_f1  split3_train_f1  mean_train_f1  std_train_f1  \n",
       " 0          0.824094         0.823126       0.823610      0.000519  \n",
       " 1          0.745808         0.744243       0.744691      0.000822  \n",
       " 2          0.694090         0.694090       0.694092      0.000044  \n",
       " 3          0.750537         0.749030       0.749542      0.001023  \n",
       " 4          0.822242         0.822068       0.822453      0.000548  \n",
       " 5          0.800000         0.796756       0.799363      0.001590  \n",
       " 6          0.753081         0.744027       0.747048      0.003816  \n",
       " 7          0.841735         0.840366       0.840968      0.000524  \n",
       " 8          0.813184         0.813264       0.813337      0.000117  \n",
       " 9          0.749158         0.747808       0.748146      0.000759  \n",
       " 10         0.821633         0.820983       0.821496      0.000491  \n",
       " 11         0.841648         0.839911       0.840860      0.000623  \n",
       " 12         0.842772         0.839574       0.840972      0.001155  \n",
       " 13         0.806848         0.805267       0.806658      0.000946  \n",
       " 14         0.856674         0.855872       0.856180      0.000404  \n",
       " 15         0.846849         0.845901       0.846440      0.000803  \n",
       " 16         0.837911         0.838991       0.838019      0.000635  \n",
       " 17         0.847946         0.848613       0.848295      0.000617  \n",
       " 18         0.856373         0.855771       0.855971      0.000318  \n",
       " 19         0.865069         0.865414       0.865277      0.000685  \n",
       " 20         0.877172         0.876300       0.876548      0.000386  \n",
       " 21         0.860233         0.859925       0.860188      0.000706  \n",
       " 22         0.852348         0.852417       0.852530      0.000318  \n",
       " 23         0.847609         0.846425       0.846522      0.000753  \n",
       " 24         0.853308         0.853243       0.853325      0.000426  \n",
       " 25         0.859861         0.859589       0.859810      0.000724  \n",
       " 26         0.871155         0.871155       0.870737      0.000595  \n",
       " 27         0.881850         0.881858       0.881722      0.000238  \n",
       " 28         0.863733         0.862727       0.863213      0.000678  \n",
       " 29         0.856742         0.857043       0.856834      0.000742  \n",
       " 30         0.852955         0.853051       0.852936      0.000533  \n",
       " 31         0.858181         0.857511       0.857671      0.000846  \n",
       " 32         0.863326         0.862824       0.862933      0.000867  \n",
       " 33         0.874478         0.873675       0.873854      0.000638  \n",
       " 34         0.891079         0.890538       0.890146      0.000691  \n",
       " 35         0.866328         0.866738       0.866352      0.000660  \n",
       " 36         0.859721         0.859016       0.859286      0.001133  \n",
       " 37         0.857176         0.856643       0.856777      0.000925  \n",
       " 38         0.859923         0.859117       0.859848      0.000824  \n",
       " 39         0.866021         0.866257       0.865951      0.000789  \n",
       " 40         0.877669         0.876165       0.876625      0.000765  \n",
       " 41         0.900111         0.900580       0.899435      0.000931  \n",
       " \n",
       " [42 rows x 62 columns])"
      ]
     },
     "execution_count": 26,
     "metadata": {},
     "output_type": "execute_result"
    },
    {
     "data": {
      "image/png": "[encoded data removed]",
      "text/plain": [
       "<Figure size 432x288 with 2 Axes>"
      ]
     },
     "metadata": {
      "needs_background": "light"
     },
     "output_type": "display_data"
    }
   ],
   "source": [
    "best_classifier, results_df = grid_search(SVC, parameters_rbf, 'svm',tr, ts, tr_target, ts_target, n_jobs=6)"
   ]
  },
  {
   "cell_type": "code",
   "execution_count": 27,
   "metadata": {
    "collapsed": false
   },
   "outputs": [],
   "source": [
    "results_df = pd.read_csv('classification/svm/gs_results.csv')"
   ]
  },
  {
   "cell_type": "code",
   "execution_count": 31,
   "metadata": {
    "collapsed": false
   },
   "outputs": [
    {
     "data": {
      "text/html": [
       "<div>\n",
       "<style scoped>\n",
       "    .dataframe tbody tr th:only-of-type {\n",
       "        vertical-align: middle;\n",
       "    }\n",
       "\n",
       "    .dataframe tbody tr th {\n",
       "        vertical-align: top;\n",
       "    }\n",
       "\n",
       "    .dataframe thead th {\n",
       "        text-align: right;\n",
       "    }\n",
       "</style>\n",
       "<table border=\"1\" class=\"dataframe\">\n",
       "  <thead>\n",
       "    <tr style=\"text-align: right;\">\n",
       "      <th></th>\n",
       "      <th>params</th>\n",
       "      <th>mean_test_f1</th>\n",
       "    </tr>\n",
       "  </thead>\n",
       "  <tbody>\n",
       "    <tr>\n",
       "      <th>36</th>\n",
       "      <td>{'C': 10000, 'gamma': 'auto', 'kernel': 'rbf',...</td>\n",
       "      <td>0.857578</td>\n",
       "    </tr>\n",
       "    <tr>\n",
       "      <th>38</th>\n",
       "      <td>{'C': 10000, 'gamma': 0.1, 'kernel': 'rbf', 'r...</td>\n",
       "      <td>0.857453</td>\n",
       "    </tr>\n",
       "    <tr>\n",
       "      <th>31</th>\n",
       "      <td>{'C': 1000, 'gamma': 0.1, 'kernel': 'rbf', 'ra...</td>\n",
       "      <td>0.856775</td>\n",
       "    </tr>\n",
       "    <tr>\n",
       "      <th>29</th>\n",
       "      <td>{'C': 1000, 'gamma': 'auto', 'kernel': 'rbf', ...</td>\n",
       "      <td>0.856246</td>\n",
       "    </tr>\n",
       "    <tr>\n",
       "      <th>37</th>\n",
       "      <td>{'C': 10000, 'gamma': 0.01, 'kernel': 'rbf', '...</td>\n",
       "      <td>0.856201</td>\n",
       "    </tr>\n",
       "    <tr>\n",
       "      <th>25</th>\n",
       "      <td>{'C': 100, 'gamma': 1, 'kernel': 'rbf', 'rando...</td>\n",
       "      <td>0.855638</td>\n",
       "    </tr>\n",
       "    <tr>\n",
       "      <th>21</th>\n",
       "      <td>{'C': 100, 'gamma': 'scale', 'kernel': 'rbf', ...</td>\n",
       "      <td>0.855435</td>\n",
       "    </tr>\n",
       "    <tr>\n",
       "      <th>32</th>\n",
       "      <td>{'C': 1000, 'gamma': 1, 'kernel': 'rbf', 'rand...</td>\n",
       "      <td>0.854879</td>\n",
       "    </tr>\n",
       "    <tr>\n",
       "      <th>28</th>\n",
       "      <td>{'C': 1000, 'gamma': 'scale', 'kernel': 'rbf',...</td>\n",
       "      <td>0.854550</td>\n",
       "    </tr>\n",
       "    <tr>\n",
       "      <th>14</th>\n",
       "      <td>{'C': 10, 'gamma': 'scale', 'kernel': 'rbf', '...</td>\n",
       "      <td>0.854206</td>\n",
       "    </tr>\n",
       "    <tr>\n",
       "      <th>18</th>\n",
       "      <td>{'C': 10, 'gamma': 1, 'kernel': 'rbf', 'random...</td>\n",
       "      <td>0.854080</td>\n",
       "    </tr>\n",
       "    <tr>\n",
       "      <th>24</th>\n",
       "      <td>{'C': 100, 'gamma': 0.1, 'kernel': 'rbf', 'ran...</td>\n",
       "      <td>0.853069</td>\n",
       "    </tr>\n",
       "    <tr>\n",
       "      <th>30</th>\n",
       "      <td>{'C': 1000, 'gamma': 0.01, 'kernel': 'rbf', 'r...</td>\n",
       "      <td>0.852534</td>\n",
       "    </tr>\n",
       "    <tr>\n",
       "      <th>22</th>\n",
       "      <td>{'C': 100, 'gamma': 'auto', 'kernel': 'rbf', '...</td>\n",
       "      <td>0.852073</td>\n",
       "    </tr>\n",
       "    <tr>\n",
       "      <th>39</th>\n",
       "      <td>{'C': 10000, 'gamma': 1, 'kernel': 'rbf', 'ran...</td>\n",
       "      <td>0.851978</td>\n",
       "    </tr>\n",
       "    <tr>\n",
       "      <th>35</th>\n",
       "      <td>{'C': 10000, 'gamma': 'scale', 'kernel': 'rbf'...</td>\n",
       "      <td>0.851496</td>\n",
       "    </tr>\n",
       "    <tr>\n",
       "      <th>19</th>\n",
       "      <td>{'C': 10, 'gamma': 10, 'kernel': 'rbf', 'rando...</td>\n",
       "      <td>0.849719</td>\n",
       "    </tr>\n",
       "    <tr>\n",
       "      <th>17</th>\n",
       "      <td>{'C': 10, 'gamma': 0.1, 'kernel': 'rbf', 'rand...</td>\n",
       "      <td>0.846998</td>\n",
       "    </tr>\n",
       "    <tr>\n",
       "      <th>23</th>\n",
       "      <td>{'C': 100, 'gamma': 0.01, 'kernel': 'rbf', 'ra...</td>\n",
       "      <td>0.846247</td>\n",
       "    </tr>\n",
       "    <tr>\n",
       "      <th>26</th>\n",
       "      <td>{'C': 100, 'gamma': 10, 'kernel': 'rbf', 'rand...</td>\n",
       "      <td>0.845983</td>\n",
       "    </tr>\n",
       "    <tr>\n",
       "      <th>15</th>\n",
       "      <td>{'C': 10, 'gamma': 'auto', 'kernel': 'rbf', 'r...</td>\n",
       "      <td>0.845116</td>\n",
       "    </tr>\n",
       "    <tr>\n",
       "      <th>33</th>\n",
       "      <td>{'C': 1000, 'gamma': 10, 'kernel': 'rbf', 'ran...</td>\n",
       "      <td>0.843168</td>\n",
       "    </tr>\n",
       "    <tr>\n",
       "      <th>7</th>\n",
       "      <td>{'C': 0.1, 'gamma': 'scale', 'kernel': 'rbf', ...</td>\n",
       "      <td>0.840871</td>\n",
       "    </tr>\n",
       "    <tr>\n",
       "      <th>11</th>\n",
       "      <td>{'C': 0.1, 'gamma': 1, 'kernel': 'rbf', 'rando...</td>\n",
       "      <td>0.840448</td>\n",
       "    </tr>\n",
       "    <tr>\n",
       "      <th>12</th>\n",
       "      <td>{'C': 0.1, 'gamma': 10, 'kernel': 'rbf', 'rand...</td>\n",
       "      <td>0.839254</td>\n",
       "    </tr>\n",
       "    <tr>\n",
       "      <th>40</th>\n",
       "      <td>{'C': 10000, 'gamma': 10, 'kernel': 'rbf', 'ra...</td>\n",
       "      <td>0.838544</td>\n",
       "    </tr>\n",
       "    <tr>\n",
       "      <th>16</th>\n",
       "      <td>{'C': 10, 'gamma': 0.01, 'kernel': 'rbf', 'ran...</td>\n",
       "      <td>0.837953</td>\n",
       "    </tr>\n",
       "    <tr>\n",
       "      <th>20</th>\n",
       "      <td>{'C': 10, 'gamma': 100, 'kernel': 'rbf', 'rand...</td>\n",
       "      <td>0.827346</td>\n",
       "    </tr>\n",
       "    <tr>\n",
       "      <th>0</th>\n",
       "      <td>{'C': 0.01, 'gamma': 'scale', 'kernel': 'rbf',...</td>\n",
       "      <td>0.823486</td>\n",
       "    </tr>\n",
       "    <tr>\n",
       "      <th>27</th>\n",
       "      <td>{'C': 100, 'gamma': 100, 'kernel': 'rbf', 'ran...</td>\n",
       "      <td>0.823366</td>\n",
       "    </tr>\n",
       "    <tr>\n",
       "      <th>4</th>\n",
       "      <td>{'C': 0.01, 'gamma': 1, 'kernel': 'rbf', 'rand...</td>\n",
       "      <td>0.822036</td>\n",
       "    </tr>\n",
       "    <tr>\n",
       "      <th>10</th>\n",
       "      <td>{'C': 0.1, 'gamma': 0.1, 'kernel': 'rbf', 'ran...</td>\n",
       "      <td>0.821424</td>\n",
       "    </tr>\n",
       "    <tr>\n",
       "      <th>34</th>\n",
       "      <td>{'C': 1000, 'gamma': 100, 'kernel': 'rbf', 'ra...</td>\n",
       "      <td>0.815917</td>\n",
       "    </tr>\n",
       "    <tr>\n",
       "      <th>8</th>\n",
       "      <td>{'C': 0.1, 'gamma': 'auto', 'kernel': 'rbf', '...</td>\n",
       "      <td>0.812917</td>\n",
       "    </tr>\n",
       "    <tr>\n",
       "      <th>41</th>\n",
       "      <td>{'C': 10000, 'gamma': 100, 'kernel': 'rbf', 'r...</td>\n",
       "      <td>0.808245</td>\n",
       "    </tr>\n",
       "    <tr>\n",
       "      <th>13</th>\n",
       "      <td>{'C': 0.1, 'gamma': 100, 'kernel': 'rbf', 'ran...</td>\n",
       "      <td>0.803743</td>\n",
       "    </tr>\n",
       "    <tr>\n",
       "      <th>5</th>\n",
       "      <td>{'C': 0.01, 'gamma': 10, 'kernel': 'rbf', 'ran...</td>\n",
       "      <td>0.798906</td>\n",
       "    </tr>\n",
       "    <tr>\n",
       "      <th>3</th>\n",
       "      <td>{'C': 0.01, 'gamma': 0.1, 'kernel': 'rbf', 'ra...</td>\n",
       "      <td>0.749636</td>\n",
       "    </tr>\n",
       "    <tr>\n",
       "      <th>9</th>\n",
       "      <td>{'C': 0.1, 'gamma': 0.01, 'kernel': 'rbf', 'ra...</td>\n",
       "      <td>0.747861</td>\n",
       "    </tr>\n",
       "    <tr>\n",
       "      <th>6</th>\n",
       "      <td>{'C': 0.01, 'gamma': 100, 'kernel': 'rbf', 'ra...</td>\n",
       "      <td>0.746442</td>\n",
       "    </tr>\n",
       "    <tr>\n",
       "      <th>1</th>\n",
       "      <td>{'C': 0.01, 'gamma': 'auto', 'kernel': 'rbf', ...</td>\n",
       "      <td>0.744730</td>\n",
       "    </tr>\n",
       "    <tr>\n",
       "      <th>2</th>\n",
       "      <td>{'C': 0.01, 'gamma': 0.01, 'kernel': 'rbf', 'r...</td>\n",
       "      <td>0.694092</td>\n",
       "    </tr>\n",
       "  </tbody>\n",
       "</table>\n",
       "</div>"
      ],
      "text/plain": [
       "                                               params  mean_test_f1\n",
       "36  {'C': 10000, 'gamma': 'auto', 'kernel': 'rbf',...      0.857578\n",
       "38  {'C': 10000, 'gamma': 0.1, 'kernel': 'rbf', 'r...      0.857453\n",
       "31  {'C': 1000, 'gamma': 0.1, 'kernel': 'rbf', 'ra...      0.856775\n",
       "29  {'C': 1000, 'gamma': 'auto', 'kernel': 'rbf', ...      0.856246\n",
       "37  {'C': 10000, 'gamma': 0.01, 'kernel': 'rbf', '...      0.856201\n",
       "25  {'C': 100, 'gamma': 1, 'kernel': 'rbf', 'rando...      0.855638\n",
       "21  {'C': 100, 'gamma': 'scale', 'kernel': 'rbf', ...      0.855435\n",
       "32  {'C': 1000, 'gamma': 1, 'kernel': 'rbf', 'rand...      0.854879\n",
       "28  {'C': 1000, 'gamma': 'scale', 'kernel': 'rbf',...      0.854550\n",
       "14  {'C': 10, 'gamma': 'scale', 'kernel': 'rbf', '...      0.854206\n",
       "18  {'C': 10, 'gamma': 1, 'kernel': 'rbf', 'random...      0.854080\n",
       "24  {'C': 100, 'gamma': 0.1, 'kernel': 'rbf', 'ran...      0.853069\n",
       "30  {'C': 1000, 'gamma': 0.01, 'kernel': 'rbf', 'r...      0.852534\n",
       "22  {'C': 100, 'gamma': 'auto', 'kernel': 'rbf', '...      0.852073\n",
       "39  {'C': 10000, 'gamma': 1, 'kernel': 'rbf', 'ran...      0.851978\n",
       "35  {'C': 10000, 'gamma': 'scale', 'kernel': 'rbf'...      0.851496\n",
       "19  {'C': 10, 'gamma': 10, 'kernel': 'rbf', 'rando...      0.849719\n",
       "17  {'C': 10, 'gamma': 0.1, 'kernel': 'rbf', 'rand...      0.846998\n",
       "23  {'C': 100, 'gamma': 0.01, 'kernel': 'rbf', 'ra...      0.846247\n",
       "26  {'C': 100, 'gamma': 10, 'kernel': 'rbf', 'rand...      0.845983\n",
       "15  {'C': 10, 'gamma': 'auto', 'kernel': 'rbf', 'r...      0.845116\n",
       "33  {'C': 1000, 'gamma': 10, 'kernel': 'rbf', 'ran...      0.843168\n",
       "7   {'C': 0.1, 'gamma': 'scale', 'kernel': 'rbf', ...      0.840871\n",
       "11  {'C': 0.1, 'gamma': 1, 'kernel': 'rbf', 'rando...      0.840448\n",
       "12  {'C': 0.1, 'gamma': 10, 'kernel': 'rbf', 'rand...      0.839254\n",
       "40  {'C': 10000, 'gamma': 10, 'kernel': 'rbf', 'ra...      0.838544\n",
       "16  {'C': 10, 'gamma': 0.01, 'kernel': 'rbf', 'ran...      0.837953\n",
       "20  {'C': 10, 'gamma': 100, 'kernel': 'rbf', 'rand...      0.827346\n",
       "0   {'C': 0.01, 'gamma': 'scale', 'kernel': 'rbf',...      0.823486\n",
       "27  {'C': 100, 'gamma': 100, 'kernel': 'rbf', 'ran...      0.823366\n",
       "4   {'C': 0.01, 'gamma': 1, 'kernel': 'rbf', 'rand...      0.822036\n",
       "10  {'C': 0.1, 'gamma': 0.1, 'kernel': 'rbf', 'ran...      0.821424\n",
       "34  {'C': 1000, 'gamma': 100, 'kernel': 'rbf', 'ra...      0.815917\n",
       "8   {'C': 0.1, 'gamma': 'auto', 'kernel': 'rbf', '...      0.812917\n",
       "41  {'C': 10000, 'gamma': 100, 'kernel': 'rbf', 'r...      0.808245\n",
       "13  {'C': 0.1, 'gamma': 100, 'kernel': 'rbf', 'ran...      0.803743\n",
       "5   {'C': 0.01, 'gamma': 10, 'kernel': 'rbf', 'ran...      0.798906\n",
       "3   {'C': 0.01, 'gamma': 0.1, 'kernel': 'rbf', 'ra...      0.749636\n",
       "9   {'C': 0.1, 'gamma': 0.01, 'kernel': 'rbf', 'ra...      0.747861\n",
       "6   {'C': 0.01, 'gamma': 100, 'kernel': 'rbf', 'ra...      0.746442\n",
       "1   {'C': 0.01, 'gamma': 'auto', 'kernel': 'rbf', ...      0.744730\n",
       "2   {'C': 0.01, 'gamma': 0.01, 'kernel': 'rbf', 'r...      0.694092"
      ]
     },
     "execution_count": 31,
     "metadata": {},
     "output_type": "execute_result"
    }
   ],
   "source": [
    "results_df.sort_values(by='mean_test_f1', ascending=False)[['params','mean_test_f1']]"
   ]
  },
  {
   "cell_type": "code",
   "execution_count": null,
   "metadata": {
    "collapsed": false,
    "pycharm": {
     "is_executing": true
    }
   },
   "outputs": [
    {
     "name": "stdout",
     "output_type": "stream",
     "text": [
      "Fitting 4 folds for each of 294 candidates, totalling 1176 fits\n"
     ]
    }
   ],
   "source": [
    "best_classifier, results_df = grid_search(SVC, parameters_poly, 'poly_svm', tr, ts, tr_target, ts_target, n_jobs=6)"
   ]
  },
  {
   "cell_type": "markdown",
   "metadata": {
    "collapsed": false
   },
   "source": [
    "# NN"
   ]
  },
  {
   "cell_type": "code",
   "execution_count": 15,
   "metadata": {
    "collapsed": false
   },
   "outputs": [
    {
     "ename": "ModuleNotFoundError",
     "evalue": "No module named 'tensorflow'",
     "output_type": "error",
     "traceback": [
      "\u001b[1;31m---------------------------------------------------------------------------\u001b[0m",
      "\u001b[1;31mModuleNotFoundError\u001b[0m                       Traceback (most recent call last)",
      "Input \u001b[1;32mIn [15]\u001b[0m, in \u001b[0;36m<cell line: 1>\u001b[1;34m()\u001b[0m\n\u001b[1;32m----> 1\u001b[0m \u001b[38;5;28;01mfrom\u001b[39;00m \u001b[38;5;21;01mkeras\u001b[39;00m\u001b[38;5;21;01m.\u001b[39;00m\u001b[38;5;21;01mmodels\u001b[39;00m \u001b[38;5;28;01mimport\u001b[39;00m Sequential, Model\n\u001b[0;32m      2\u001b[0m input_layer \u001b[38;5;241m=\u001b[39m InputLayer(tr[\u001b[38;5;241m0\u001b[39m]\u001b[38;5;241m.\u001b[39mshape, batch_size\u001b[38;5;241m=\u001b[39m\u001b[38;5;241m64\u001b[39m)\n\u001b[0;32m      3\u001b[0m dense_layer \u001b[38;5;241m=\u001b[39m Dense(units\u001b[38;5;241m=\u001b[39m\u001b[38;5;241m4\u001b[39m, activation\u001b[38;5;241m=\u001b[39m\u001b[38;5;124m'\u001b[39m\u001b[38;5;124msigmoid\u001b[39m\u001b[38;5;124m'\u001b[39m)(input_layer)\n",
      "File \u001b[1;32m~\\anaconda3\\lib\\site-packages\\keras\\__init__.py:21\u001b[0m, in \u001b[0;36m<module>\u001b[1;34m\u001b[0m\n\u001b[0;32m     15\u001b[0m \u001b[38;5;124;03m\"\"\"Implementation of the Keras API, the high-level API of TensorFlow.\u001b[39;00m\n\u001b[0;32m     16\u001b[0m \n\u001b[0;32m     17\u001b[0m \u001b[38;5;124;03mDetailed documentation and user guides are available at\u001b[39;00m\n\u001b[0;32m     18\u001b[0m \u001b[38;5;124;03m[keras.io](https://keras.io).\u001b[39;00m\n\u001b[0;32m     19\u001b[0m \u001b[38;5;124;03m\"\"\"\u001b[39;00m\n\u001b[0;32m     20\u001b[0m \u001b[38;5;66;03m# pylint: disable=unused-import\u001b[39;00m\n\u001b[1;32m---> 21\u001b[0m \u001b[38;5;28;01mfrom\u001b[39;00m \u001b[38;5;21;01mtensorflow\u001b[39;00m\u001b[38;5;21;01m.\u001b[39;00m\u001b[38;5;21;01mpython\u001b[39;00m \u001b[38;5;28;01mimport\u001b[39;00m tf2\n\u001b[0;32m     22\u001b[0m \u001b[38;5;28;01mfrom\u001b[39;00m \u001b[38;5;21;01mkeras\u001b[39;00m \u001b[38;5;28;01mimport\u001b[39;00m distribute\n\u001b[0;32m     24\u001b[0m \u001b[38;5;28;01mfrom\u001b[39;00m \u001b[38;5;21;01mkeras\u001b[39;00m \u001b[38;5;28;01mimport\u001b[39;00m models\n",
      "\u001b[1;31mModuleNotFoundError\u001b[0m: No module named 'tensorflow'"
     ]
    }
   ],
   "source": [
    "from keras.models import Model\n",
    "input_layer = InputLayer(tr[0].shape, batch_size=64)\n",
    "dense_layer = Dense(units=4, activation='sigmoid')(input_layer)\n",
    "dense_layer = Dense(units=4, activation='sigmoid')(dense_layer)\n",
    "out_layer = Softmax()(dense_layer)\n",
    "\n",
    "model = Model(inputs=input_layer, outputs=out_layer)\n",
    "\n",
    "model.compile(loss='binary_crossentropy', metrics=['precision','recall','accuracy','f1'])\n",
    "model.fit(tr, tr_target, validation_split=0.2, epochs=3, workers=6)"
   ]
  },
  {
   "cell_type": "code",
   "execution_count": null,
   "metadata": {
    "collapsed": false
   },
   "outputs": [],
   "source": []
  },
  {
   "cell_type": "markdown",
   "metadata": {
    "collapsed": false
   },
   "source": [
    "# Feature selection"
   ]
  },
  {
   "cell_type": "code",
   "execution_count": 1,
   "metadata": {
    "collapsed": false
   },
   "outputs": [],
   "source": []
  },
  {
   "cell_type": "code",
   "execution_count": null,
   "metadata": {
    "collapsed": false
   },
   "outputs": [],
   "source": []
  }
 ],
 "metadata": {
  "colab": {
   "provenance": []
  },
  "kernelspec": {
   "display_name": "Python 3",
   "language": "python",
   "name": "python3"
  },
  "language_info": {
   "codemirror_mode": {
    "name": "ipython",
    "version": 3
   },
   "file_extension": ".py",
   "mimetype": "text/x-python",
   "name": "python",
   "nbconvert_exporter": "python",
   "pygments_lexer": "ipython3",
   "version": "3.10.4 (tags/v3.10.4:9d38120, Mar 23 2022, 23:13:41) [MSC v.1929 64 bit (AMD64)]"
  },
  "vscode": {
   "interpreter": {
    "hash": "36fabd57e396b83aef36b02305bae0bcb053b13a3fa699e04cd3b884d5079903"
   }
  }
 },
 "nbformat": 4,
 "nbformat_minor": 0
}
