{
 "cells": [
  {
   "cell_type": "code",
   "execution_count": 58,
   "metadata": {
    "executionInfo": {
     "elapsed": 19,
     "status": "ok",
     "timestamp": 1665240391302,
     "user": {
      "displayName": "ALESSANDRO DIPALMA",
      "userId": "15827404338341614451"
     },
     "user_tz": -120
    },
    "id": "5oCty9ReHZOd"
   },
   "outputs": [],
   "source": [
    "import pandas as pd\n",
    "from utilities import to_float\n",
    "\n",
    "from matplotlib import pyplot as plt\n",
    "import numpy as np"
   ]
  },
  {
   "cell_type": "code",
   "execution_count": 41,
   "outputs": [],
   "source": [
    "DATA_PATH = 'data/'"
   ],
   "metadata": {
    "collapsed": false
   }
  },
  {
   "cell_type": "code",
   "execution_count": 42,
   "metadata": {
    "colab": {
     "base_uri": "https://localhost:8080/"
    },
    "executionInfo": {
     "elapsed": 94974,
     "status": "ok",
     "timestamp": 1665240486261,
     "user": {
      "displayName": "ALESSANDRO DIPALMA",
      "userId": "15827404338341614451"
     },
     "user_tz": -120
    },
    "id": "UTjV9Hkmc7OI",
    "outputId": "44aa4fcc-7776-4a21-f8e0-db83f7f8c316"
   },
   "outputs": [],
   "source": [
    "df_tweets = pd.read_csv(DATA_PATH+'tweets.csv')"
   ]
  },
  {
   "cell_type": "code",
   "execution_count": 43,
   "metadata": {},
   "outputs": [],
   "source": [
    "df_users = pd.read_csv(DATA_PATH+'users.csv')"
   ]
  },
  {
   "cell_type": "code",
   "execution_count": 44,
   "metadata": {
    "colab": {
     "base_uri": "https://localhost:8080/",
     "height": 206
    },
    "executionInfo": {
     "elapsed": 53,
     "status": "ok",
     "timestamp": 1665240486264,
     "user": {
      "displayName": "ALESSANDRO DIPALMA",
      "userId": "15827404338341614451"
     },
     "user_tz": -120
    },
    "id": "NP_Jn2WOd21-",
    "outputId": "a0dc8edf-24d7-4ecc-8d60-c6f001f6f0ca"
   },
   "outputs": [
    {
     "data": {
      "text/plain": "           id              name lang  bot           created_at  statuses_count\n0  2353593986   Lamonica Raborn   en    1  2019-02-22 18:00:42            76.0\n1  2358850842     Lourie Botton   en    0  2019-02-26 03:02:32            54.0\n2   137959629  Dadan Syarifudin   en    1  2015-04-30 07:09:56             3.0\n3   466124818    Carletto Focia   it    1  2017-01-18 02:49:18            50.0\n4  2571493866         MBK Ebook   en    0  2019-06-18 19:30:21          7085.0",
      "text/html": "<div>\n<style scoped>\n    .dataframe tbody tr th:only-of-type {\n        vertical-align: middle;\n    }\n\n    .dataframe tbody tr th {\n        vertical-align: top;\n    }\n\n    .dataframe thead th {\n        text-align: right;\n    }\n</style>\n<table border=\"1\" class=\"dataframe\">\n  <thead>\n    <tr style=\"text-align: right;\">\n      <th></th>\n      <th>id</th>\n      <th>name</th>\n      <th>lang</th>\n      <th>bot</th>\n      <th>created_at</th>\n      <th>statuses_count</th>\n    </tr>\n  </thead>\n  <tbody>\n    <tr>\n      <th>0</th>\n      <td>2353593986</td>\n      <td>Lamonica Raborn</td>\n      <td>en</td>\n      <td>1</td>\n      <td>2019-02-22 18:00:42</td>\n      <td>76.0</td>\n    </tr>\n    <tr>\n      <th>1</th>\n      <td>2358850842</td>\n      <td>Lourie Botton</td>\n      <td>en</td>\n      <td>0</td>\n      <td>2019-02-26 03:02:32</td>\n      <td>54.0</td>\n    </tr>\n    <tr>\n      <th>2</th>\n      <td>137959629</td>\n      <td>Dadan Syarifudin</td>\n      <td>en</td>\n      <td>1</td>\n      <td>2015-04-30 07:09:56</td>\n      <td>3.0</td>\n    </tr>\n    <tr>\n      <th>3</th>\n      <td>466124818</td>\n      <td>Carletto Focia</td>\n      <td>it</td>\n      <td>1</td>\n      <td>2017-01-18 02:49:18</td>\n      <td>50.0</td>\n    </tr>\n    <tr>\n      <th>4</th>\n      <td>2571493866</td>\n      <td>MBK Ebook</td>\n      <td>en</td>\n      <td>0</td>\n      <td>2019-06-18 19:30:21</td>\n      <td>7085.0</td>\n    </tr>\n  </tbody>\n</table>\n</div>"
     },
     "execution_count": 44,
     "metadata": {},
     "output_type": "execute_result"
    }
   ],
   "source": [
    "df_users.head()"
   ]
  },
  {
   "cell_type": "code",
   "execution_count": 45,
   "metadata": {
    "colab": {
     "base_uri": "https://localhost:8080/"
    },
    "executionInfo": {
     "elapsed": 48,
     "status": "ok",
     "timestamp": 1665240486266,
     "user": {
      "displayName": "ALESSANDRO DIPALMA",
      "userId": "15827404338341614451"
     },
     "user_tz": -120
    },
    "id": "4z_xApMQfk0A",
    "outputId": "e95fdcef-1ca4-4e15-b719-9a0c7b80de86"
   },
   "outputs": [
    {
     "name": "stdout",
     "output_type": "stream",
     "text": [
      "<class 'pandas.core.frame.DataFrame'>\n",
      "RangeIndex: 11508 entries, 0 to 11507\n",
      "Data columns (total 6 columns):\n",
      " #   Column          Non-Null Count  Dtype  \n",
      "---  ------          --------------  -----  \n",
      " 0   id              11508 non-null  int64  \n",
      " 1   name            11507 non-null  object \n",
      " 2   lang            11508 non-null  object \n",
      " 3   bot             11508 non-null  int64  \n",
      " 4   created_at      11508 non-null  object \n",
      " 5   statuses_count  11109 non-null  float64\n",
      "dtypes: float64(1), int64(2), object(3)\n",
      "memory usage: 539.6+ KB\n"
     ]
    }
   ],
   "source": [
    "df_users.info()"
   ]
  },
  {
   "cell_type": "markdown",
   "metadata": {},
   "source": [
    "Check if any user record has a null value in it\n",
    "Extract only record with a null name (id = 1535)"
   ]
  },
  {
   "cell_type": "code",
   "execution_count": 46,
   "metadata": {
    "colab": {
     "base_uri": "https://localhost:8080/",
     "height": 81
    },
    "executionInfo": {
     "elapsed": 43,
     "status": "ok",
     "timestamp": 1665240486267,
     "user": {
      "displayName": "ALESSANDRO DIPALMA",
      "userId": "15827404338341614451"
     },
     "user_tz": -120
    },
    "id": "2zF4wF2vfmmH",
    "outputId": "a796ccb3-662f-40a2-c945-36436fccb572"
   },
   "outputs": [
    {
     "data": {
      "text/plain": "              id name lang  bot           created_at  statuses_count\n1535  2166124159  NaN   en    0  2018-11-02 06:39:14          6566.0",
      "text/html": "<div>\n<style scoped>\n    .dataframe tbody tr th:only-of-type {\n        vertical-align: middle;\n    }\n\n    .dataframe tbody tr th {\n        vertical-align: top;\n    }\n\n    .dataframe thead th {\n        text-align: right;\n    }\n</style>\n<table border=\"1\" class=\"dataframe\">\n  <thead>\n    <tr style=\"text-align: right;\">\n      <th></th>\n      <th>id</th>\n      <th>name</th>\n      <th>lang</th>\n      <th>bot</th>\n      <th>created_at</th>\n      <th>statuses_count</th>\n    </tr>\n  </thead>\n  <tbody>\n    <tr>\n      <th>1535</th>\n      <td>2166124159</td>\n      <td>NaN</td>\n      <td>en</td>\n      <td>0</td>\n      <td>2018-11-02 06:39:14</td>\n      <td>6566.0</td>\n    </tr>\n  </tbody>\n</table>\n</div>"
     },
     "execution_count": 46,
     "metadata": {},
     "output_type": "execute_result"
    }
   ],
   "source": [
    "df_null = df_users.isnull()\n",
    "idx_null = df_users.index[df_null[\"name\"] == True].tolist()\n",
    "df_users.iloc[idx_null]"
   ]
  },
  {
   "cell_type": "code",
   "execution_count": 48,
   "outputs": [
    {
     "data": {
      "text/plain": "False    11508\ndtype: int64"
     },
     "execution_count": 48,
     "metadata": {},
     "output_type": "execute_result"
    }
   ],
   "source": [
    "df_users.duplicated(['id']).value_counts()"
   ],
   "metadata": {
    "collapsed": false
   }
  },
  {
   "cell_type": "markdown",
   "metadata": {},
   "source": [
    "Print info about tweets file"
   ]
  },
  {
   "cell_type": "code",
   "execution_count": 49,
   "metadata": {
    "colab": {
     "base_uri": "https://localhost:8080/",
     "height": 206
    },
    "executionInfo": {
     "elapsed": 41,
     "status": "ok",
     "timestamp": 1665240486268,
     "user": {
      "displayName": "ALESSANDRO DIPALMA",
      "userId": "15827404338341614451"
     },
     "user_tz": -120
    },
    "id": "6K1QxQDnh65B",
    "outputId": "4baa5591-c53b-454e-ba8d-685041f9861f"
   },
   "outputs": [
    {
     "data": {
      "text/plain": "                   id     user_id retweet_count reply_count favorite_count  \\\n0  509354017856950272   327746321             0           0              0   \n1  583002592529121280   333722906             1           0              0   \n2  461498835362013185  2379755827             0           0              0   \n3  528808127366692864   466226882             0           0              0   \n4  575336690904006656  1355537995           114           0              0   \n\n  num_hashtags num_urls num_mentions           created_at  \\\n0            0        0            0  2019-09-11 14:53:55   \n1            0        0            1  2020-04-01 20:27:04   \n2            0        0            1  2019-05-02 13:34:31   \n3            0        0            0  2019-11-04 07:17:37   \n4            1        0            1  2020-03-11 16:45:31   \n\n                                                text  \n0  If man is a little lower than angels, then ang...  \n1  \"@BestWSHHVids: how do you say these words wit...  \n2                                @LOLatComedy awsome  \n3  Stephen Hawkins: i buchi neri non esistono se ...  \n4        RT @tibbs_montris: So ready for Wednesday!   ",
      "text/html": "<div>\n<style scoped>\n    .dataframe tbody tr th:only-of-type {\n        vertical-align: middle;\n    }\n\n    .dataframe tbody tr th {\n        vertical-align: top;\n    }\n\n    .dataframe thead th {\n        text-align: right;\n    }\n</style>\n<table border=\"1\" class=\"dataframe\">\n  <thead>\n    <tr style=\"text-align: right;\">\n      <th></th>\n      <th>id</th>\n      <th>user_id</th>\n      <th>retweet_count</th>\n      <th>reply_count</th>\n      <th>favorite_count</th>\n      <th>num_hashtags</th>\n      <th>num_urls</th>\n      <th>num_mentions</th>\n      <th>created_at</th>\n      <th>text</th>\n    </tr>\n  </thead>\n  <tbody>\n    <tr>\n      <th>0</th>\n      <td>509354017856950272</td>\n      <td>327746321</td>\n      <td>0</td>\n      <td>0</td>\n      <td>0</td>\n      <td>0</td>\n      <td>0</td>\n      <td>0</td>\n      <td>2019-09-11 14:53:55</td>\n      <td>If man is a little lower than angels, then ang...</td>\n    </tr>\n    <tr>\n      <th>1</th>\n      <td>583002592529121280</td>\n      <td>333722906</td>\n      <td>1</td>\n      <td>0</td>\n      <td>0</td>\n      <td>0</td>\n      <td>0</td>\n      <td>1</td>\n      <td>2020-04-01 20:27:04</td>\n      <td>\"@BestWSHHVids: how do you say these words wit...</td>\n    </tr>\n    <tr>\n      <th>2</th>\n      <td>461498835362013185</td>\n      <td>2379755827</td>\n      <td>0</td>\n      <td>0</td>\n      <td>0</td>\n      <td>0</td>\n      <td>0</td>\n      <td>1</td>\n      <td>2019-05-02 13:34:31</td>\n      <td>@LOLatComedy awsome</td>\n    </tr>\n    <tr>\n      <th>3</th>\n      <td>528808127366692864</td>\n      <td>466226882</td>\n      <td>0</td>\n      <td>0</td>\n      <td>0</td>\n      <td>0</td>\n      <td>0</td>\n      <td>0</td>\n      <td>2019-11-04 07:17:37</td>\n      <td>Stephen Hawkins: i buchi neri non esistono se ...</td>\n    </tr>\n    <tr>\n      <th>4</th>\n      <td>575336690904006656</td>\n      <td>1355537995</td>\n      <td>114</td>\n      <td>0</td>\n      <td>0</td>\n      <td>1</td>\n      <td>0</td>\n      <td>1</td>\n      <td>2020-03-11 16:45:31</td>\n      <td>RT @tibbs_montris: So ready for Wednesday!</td>\n    </tr>\n  </tbody>\n</table>\n</div>"
     },
     "execution_count": 49,
     "metadata": {},
     "output_type": "execute_result"
    }
   ],
   "source": [
    "df_tweets.head()"
   ]
  },
  {
   "cell_type": "code",
   "execution_count": 50,
   "metadata": {
    "colab": {
     "base_uri": "https://localhost:8080/"
    },
    "executionInfo": {
     "elapsed": 6960,
     "status": "ok",
     "timestamp": 1665240493189,
     "user": {
      "displayName": "ALESSANDRO DIPALMA",
      "userId": "15827404338341614451"
     },
     "user_tz": -120
    },
    "id": "bZfdvzMejsEe",
    "outputId": "2358873b-fa51-4ca4-e0ed-6b065be11546"
   },
   "outputs": [
    {
     "name": "stderr",
     "output_type": "stream",
     "text": [
      "C:\\Users\\al\\AppData\\Local\\Temp\\ipykernel_15108\\3419106329.py:1: FutureWarning: null_counts is deprecated. Use show_counts instead\n",
      "  df_tweets.info(null_counts=True)\n"
     ]
    },
    {
     "name": "stdout",
     "output_type": "stream",
     "text": [
      "<class 'pandas.core.frame.DataFrame'>\n",
      "RangeIndex: 13664696 entries, 0 to 13664695\n",
      "Data columns (total 10 columns):\n",
      " #   Column          Non-Null Count     Dtype \n",
      "---  ------          --------------     ----- \n",
      " 0   id              13664694 non-null  object\n",
      " 1   user_id         13447413 non-null  object\n",
      " 2   retweet_count   13227562 non-null  object\n",
      " 3   reply_count     13016818 non-null  object\n",
      " 4   favorite_count  13017154 non-null  object\n",
      " 5   num_hashtags    12607172 non-null  object\n",
      " 6   num_urls        13016073 non-null  object\n",
      " 7   num_mentions    12810531 non-null  object\n",
      " 8   created_at      13664696 non-null  object\n",
      " 9   text            13126975 non-null  object\n",
      "dtypes: object(10)\n",
      "memory usage: 1.0+ GB\n"
     ]
    }
   ],
   "source": [
    "df_tweets.info(null_counts=True)"
   ]
  },
  {
   "cell_type": "code",
   "execution_count": 51,
   "metadata": {
    "colab": {
     "base_uri": "https://localhost:8080/"
    },
    "executionInfo": {
     "elapsed": 14,
     "status": "ok",
     "timestamp": 1665240493189,
     "user": {
      "displayName": "ALESSANDRO DIPALMA",
      "userId": "15827404338341614451"
     },
     "user_tz": -120
    },
    "id": "AtL8X7Furq0Z",
    "outputId": "1b51e155-6f83-43ca-d51a-0cb5b952f5c6"
   },
   "outputs": [
    {
     "data": {
      "text/plain": "136646960"
     },
     "execution_count": 51,
     "metadata": {},
     "output_type": "execute_result"
    }
   ],
   "source": [
    "df_tweets.size"
   ]
  },
  {
   "cell_type": "markdown",
   "metadata": {},
   "source": [
    "## Verifica esistenza record duplicati\n",
    "First, we drop  the duplicates by attributes"
   ]
  },
  {
   "cell_type": "code",
   "execution_count": 21,
   "metadata": {
    "colab": {
     "base_uri": "https://localhost:8080/"
    },
    "executionInfo": {
     "elapsed": 66058,
     "status": "ok",
     "timestamp": 1665240559240,
     "user": {
      "displayName": "ALESSANDRO DIPALMA",
      "userId": "15827404338341614451"
     },
     "user_tz": -120
    },
    "id": "-3ywwV6CoQ1V",
    "outputId": "e3daccc7-e3b6-4dfb-86ae-1f0bf9101419"
   },
   "outputs": [
    {
     "data": {
      "text/plain": "False    11712597\nTrue      1952099\ndtype: int64"
     },
     "execution_count": 21,
     "metadata": {},
     "output_type": "execute_result"
    }
   ],
   "source": [
    "df_tweets_dupl = df_tweets.duplicated()\n",
    "df_tweets_dupl.value_counts()"
   ]
  },
  {
   "cell_type": "markdown",
   "metadata": {},
   "source": [
    "## Drop duplicates"
   ]
  },
  {
   "cell_type": "code",
   "execution_count": 22,
   "metadata": {
    "colab": {
     "base_uri": "https://localhost:8080/"
    },
    "executionInfo": {
     "elapsed": 60601,
     "status": "ok",
     "timestamp": 1665240620325,
     "user": {
      "displayName": "ALESSANDRO DIPALMA",
      "userId": "15827404338341614451"
     },
     "user_tz": -120
    },
    "id": "jeE9lroMqmTv",
    "outputId": "a1a0f82e-94df-4484-cab2-718d8257f05c"
   },
   "outputs": [
    {
     "data": {
      "text/plain": "11712597"
     },
     "execution_count": 22,
     "metadata": {},
     "output_type": "execute_result"
    }
   ],
   "source": [
    "df_tweets_clear = df_tweets.drop_duplicates(keep = 'first')\n",
    "df_tweets_clear.shape[0]"
   ]
  },
  {
   "cell_type": "code",
   "execution_count": 54,
   "outputs": [
    {
     "data": {
      "text/plain": "False    11712597\ndtype: int64"
     },
     "execution_count": 54,
     "metadata": {},
     "output_type": "execute_result"
    }
   ],
   "source": [
    "df_tweets_clear.duplicated().value_counts()"
   ],
   "metadata": {
    "collapsed": false
   }
  },
  {
   "cell_type": "code",
   "execution_count": 23,
   "metadata": {
    "colab": {
     "base_uri": "https://localhost:8080/"
    },
    "executionInfo": {
     "elapsed": 1065,
     "status": "ok",
     "timestamp": 1665240626597,
     "user": {
      "displayName": "ALESSANDRO DIPALMA",
      "userId": "15827404338341614451"
     },
     "user_tz": -120
    },
    "id": "PO_ZZg6ylV1Y",
    "outputId": "2503f2ac-9e73-4d97-d8e9-70172f5b8c02"
   },
   "outputs": [
    {
     "name": "stdout",
     "output_type": "stream",
     "text": [
      "<class 'pandas.core.frame.DataFrame'>\n",
      "Int64Index: 11712597 entries, 0 to 13664695\n",
      "Data columns (total 10 columns):\n",
      " #   Column          Non-Null Count     Dtype \n",
      "---  ------          --------------     ----- \n",
      " 0   id              11712595 non-null  object\n",
      " 1   user_id         11495314 non-null  object\n",
      " 2   retweet_count   11275463 non-null  object\n",
      " 3   reply_count     11064719 non-null  object\n",
      " 4   favorite_count  11065055 non-null  object\n",
      " 5   num_hashtags    10655073 non-null  object\n",
      " 6   num_urls        11063974 non-null  object\n",
      " 7   num_mentions    10858432 non-null  object\n",
      " 8   created_at      11712597 non-null  object\n",
      " 9   text            11182415 non-null  object\n",
      "dtypes: object(10)\n",
      "memory usage: 983.0+ MB\n"
     ]
    }
   ],
   "source": [
    "df_tweets_clear.info(show_counts=True)"
   ]
  },
  {
   "cell_type": "markdown",
   "metadata": {},
   "source": [
    "## Verifica di duplicati su un sottoinsieme di colonne"
   ]
  },
  {
   "cell_type": "markdown",
   "source": [
    "### ID\n",
    "The are a considerable amount of tweets with same id, but we can't consider them duplicates since the id has no semantic."
   ],
   "metadata": {
    "collapsed": false
   }
  },
  {
   "cell_type": "code",
   "execution_count": 24,
   "metadata": {
    "colab": {
     "base_uri": "https://localhost:8080/"
    },
    "executionInfo": {
     "elapsed": 11694,
     "status": "ok",
     "timestamp": 1665240638287,
     "user": {
      "displayName": "ALESSANDRO DIPALMA",
      "userId": "15827404338341614451"
     },
     "user_tz": -120
    },
    "id": "E5Ogiw_7uTO7",
    "outputId": "aa238a0e-39af-4f97-88ca-863027fc5b36"
   },
   "outputs": [
    {
     "data": {
      "text/plain": "False    11672136\nTrue        40461\ndtype: int64"
     },
     "execution_count": 24,
     "metadata": {},
     "output_type": "execute_result"
    }
   ],
   "source": [
    "df_tweets_dupl = df_tweets_clear.duplicated(subset=['id']) # Stesso id\n",
    "df_tweets_dupl.value_counts()"
   ]
  },
  {
   "cell_type": "code",
   "execution_count": 25,
   "metadata": {
    "colab": {
     "base_uri": "https://localhost:8080/"
    },
    "executionInfo": {
     "elapsed": 14542,
     "status": "ok",
     "timestamp": 1665240652821,
     "user": {
      "displayName": "ALESSANDRO DIPALMA",
      "userId": "15827404338341614451"
     },
     "user_tz": -120
    },
    "id": "v-X0Cv1au95m",
    "outputId": "d8463b34-e56e-40a7-f71e-b86614f49e20"
   },
   "outputs": [
    {
     "data": {
      "text/plain": "False    11712237\nTrue          360\ndtype: int64"
     },
     "execution_count": 25,
     "metadata": {},
     "output_type": "execute_result"
    }
   ],
   "source": [
    "df_tweets_dupl = df_tweets_clear.duplicated(subset=['id', 'user_id']) # Stesso id e stesso user_id\n",
    "df_tweets_dupl.value_counts()"
   ]
  },
  {
   "cell_type": "code",
   "execution_count": 26,
   "metadata": {
    "colab": {
     "base_uri": "https://localhost:8080/"
    },
    "executionInfo": {
     "elapsed": 17433,
     "status": "ok",
     "timestamp": 1665240681096,
     "user": {
      "displayName": "ALESSANDRO DIPALMA",
      "userId": "15827404338341614451"
     },
     "user_tz": -120
    },
    "id": "6MwOboRjwcR5",
    "outputId": "2d5ae4f1-9195-4d07-e997-b231c2630655"
   },
   "outputs": [
    {
     "data": {
      "text/plain": "False    11712336\nTrue          261\ndtype: int64"
     },
     "execution_count": 26,
     "metadata": {},
     "output_type": "execute_result"
    }
   ],
   "source": [
    "df_tweets_dupl = df_tweets_clear.duplicated(subset=['id', 'user_id', 'text']) # Stessi id, user_id e testo\n",
    "df_tweets_dupl.value_counts()"
   ]
  },
  {
   "cell_type": "markdown",
   "source": [
    "Considering the triple  `['user_id', 'text','created_at']`, we can see that about 10% of the data consists in duplicated records..."
   ],
   "metadata": {
    "collapsed": false
   }
  },
  {
   "cell_type": "code",
   "execution_count": 55,
   "outputs": [
    {
     "data": {
      "text/plain": "False    10665159\nTrue      1047438\ndtype: int64"
     },
     "execution_count": 55,
     "metadata": {},
     "output_type": "execute_result"
    }
   ],
   "source": [
    "df_tweets_dupl = df_tweets_clear.duplicated(subset=['user_id', 'text','created_at'])\n",
    "df_tweets_dupl.value_counts()"
   ],
   "metadata": {
    "collapsed": false
   }
  },
  {
   "cell_type": "markdown",
   "source": [
    "... and we are not able to detect them if we include the `id` column."
   ],
   "metadata": {
    "collapsed": false
   }
  },
  {
   "cell_type": "code",
   "execution_count": 27,
   "metadata": {
    "colab": {
     "base_uri": "https://localhost:8080/"
    },
    "executionInfo": {
     "elapsed": 40057,
     "status": "ok",
     "timestamp": 1665240721145,
     "user": {
      "displayName": "ALESSANDRO DIPALMA",
      "userId": "15827404338341614451"
     },
     "user_tz": -120
    },
    "id": "hgchbFmjwszo",
    "outputId": "fa1c3623-ca24-4f44-c3c4-0a23e24e56cc"
   },
   "outputs": [
    {
     "data": {
      "text/plain": "False    11712597\ndtype: int64"
     },
     "execution_count": 27,
     "metadata": {},
     "output_type": "execute_result"
    }
   ],
   "source": [
    "df_tweets_dupl = df_tweets_clear.duplicated(subset=['id', 'user_id', 'created_at', 'text']) # Stessi id, user_id, testo e data di creazione\n",
    "df_tweets_dupl.value_counts()"
   ]
  },
  {
   "cell_type": "markdown",
   "source": [
    "Of these 1047438 records,"
   ],
   "metadata": {
    "collapsed": false
   }
  },
  {
   "cell_type": "code",
   "execution_count": 56,
   "outputs": [
    {
     "name": "stdout",
     "output_type": "stream",
     "text": [
      "<class 'pandas.core.frame.DataFrame'>\n",
      "Int64Index: 1047438 entries, 7530 to 13664690\n",
      "Data columns (total 10 columns):\n",
      " #   Column          Non-Null Count    Dtype \n",
      "---  ------          --------------    ----- \n",
      " 0   id              1047438 non-null  object\n",
      " 1   user_id         1047351 non-null  object\n",
      " 2   retweet_count   889431 non-null   object\n",
      " 3   reply_count     889619 non-null   object\n",
      " 4   favorite_count  808821 non-null   object\n",
      " 5   num_hashtags    807627 non-null   object\n",
      " 6   num_urls        889509 non-null   object\n",
      " 7   num_mentions    889575 non-null   object\n",
      " 8   created_at      1047438 non-null  object\n",
      " 9   text            1041423 non-null  object\n",
      "dtypes: object(10)\n",
      "memory usage: 87.9+ MB\n"
     ]
    }
   ],
   "source": [
    "df_tweets_clear[df_tweets_clear.duplicated(subset=['user_id', 'text','created_at'])].info()"
   ],
   "metadata": {
    "collapsed": false
   }
  },
  {
   "cell_type": "code",
   "execution_count": 68,
   "metadata": {
    "executionInfo": {
     "elapsed": 29606,
     "status": "ok",
     "timestamp": 1665241316281,
     "user": {
      "displayName": "ALESSANDRO DIPALMA",
      "userId": "15827404338341614451"
     },
     "user_tz": -120
    },
    "id": "3OhOSoAJzQRT"
   },
   "outputs": [
    {
     "data": {
      "text/plain": "                          id     user_id retweet_count reply_count  \\\n6          79540398988595200    67900288             0           0   \n26        357651699093086209    38679217             1           0   \n40        584530682094886913   413675359             1           0   \n41        565184038814494720  1252098630             1           0   \n45        136036147826125509   531157328             0         0.0   \n...                      ...         ...           ...         ...   \n13664664  573005278599241728   553317912             0           0   \n13664666  511318938266136577   512771375             0           0   \n13664685           838370060   466207205             0         0.0   \n13664688                idjn   243282862           NaN         NaN   \n13664690  329829994169786368   220933018             0           0   \n\n         favorite_count num_hashtags num_urls num_mentions  \\\n6                     0            0        0            0   \n26                    0            0        0            2   \n40                    2            0        0            0   \n41                    0            0        0            0   \n45                  0.0          0.0      NaN            0   \n...                 ...          ...      ...          ...   \n13664664              0            0        0            0   \n13664666              0            0        1            0   \n13664685     09vtlcms9k          NaN      0.0            0   \n13664688            NaN          NaN      0.0          NaN   \n13664690              0            0        0            0   \n\n                   created_at  \\\n6         2016-06-12 13:28:03   \n26        2018-07-20 00:03:04   \n40        2020-04-06 01:39:09   \n41        2020-02-12 16:22:30   \n45        2019-10-18 15:51:53   \n...                       ...   \n13664664  2020-03-05 06:21:18   \n13664666  2019-09-17 01:01:49   \n13664685  2019-11-03 16:59:57   \n13664688  2019-09-07 02:31:17   \n13664690  2018-05-04 05:29:33   \n\n                                                       text  \\\n6         Andy Murray look like he is in form an ready t...   \n26        RT @rowiematti: It is the first day of Galileo...   \n40                 Yesterday was a great day of geocaching    \n41        When understanding someone's sorrow, take time...   \n45        Cocaine is God's way of saying you're making t...   \n...                                                     ...   \n13664664      She want my eggs, bacon, grits , and sausage.   \n13664666  Read the History of the Chiffons   http://t.co...   \n13664685  A volte mi piacerebbe sdoppiarmi per potermi a...   \n13664688  Nobody remembers the guy who finished second b...   \n13664690  ESTA MANANA AUN ESTA  MUY FRIO ! MIREN ESTO ! ...   \n\n          retweet_count_conv  reply_count_conv  favorite_count_conv  \\\n6                        0.0               0.0                  0.0   \n26                       1.0               0.0                  0.0   \n40                       1.0               0.0                  2.0   \n41                       1.0               0.0                  0.0   \n45                       0.0               0.0                  0.0   \n...                      ...               ...                  ...   \n13664664                 0.0               0.0                  0.0   \n13664666                 0.0               0.0                  0.0   \n13664685                 0.0               0.0                 -1.0   \n13664688                -1.0              -1.0                 -1.0   \n13664690                 0.0               0.0                  0.0   \n\n          num_hashtags_conv  num_urls_conv  num_mentions_conv  \n6                       0.0            0.0                0.0  \n26                      0.0            0.0                2.0  \n40                      0.0            0.0                0.0  \n41                      0.0            0.0                0.0  \n45                      0.0           -1.0                0.0  \n...                     ...            ...                ...  \n13664664                0.0            0.0                0.0  \n13664666                0.0            1.0                0.0  \n13664685               -1.0            0.0                0.0  \n13664688               -1.0            0.0               -1.0  \n13664690                0.0            0.0                0.0  \n\n[2094454 rows x 16 columns]",
      "text/html": "<div>\n<style scoped>\n    .dataframe tbody tr th:only-of-type {\n        vertical-align: middle;\n    }\n\n    .dataframe tbody tr th {\n        vertical-align: top;\n    }\n\n    .dataframe thead th {\n        text-align: right;\n    }\n</style>\n<table border=\"1\" class=\"dataframe\">\n  <thead>\n    <tr style=\"text-align: right;\">\n      <th></th>\n      <th>id</th>\n      <th>user_id</th>\n      <th>retweet_count</th>\n      <th>reply_count</th>\n      <th>favorite_count</th>\n      <th>num_hashtags</th>\n      <th>num_urls</th>\n      <th>num_mentions</th>\n      <th>created_at</th>\n      <th>text</th>\n      <th>retweet_count_conv</th>\n      <th>reply_count_conv</th>\n      <th>favorite_count_conv</th>\n      <th>num_hashtags_conv</th>\n      <th>num_urls_conv</th>\n      <th>num_mentions_conv</th>\n    </tr>\n  </thead>\n  <tbody>\n    <tr>\n      <th>6</th>\n      <td>79540398988595200</td>\n      <td>67900288</td>\n      <td>0</td>\n      <td>0</td>\n      <td>0</td>\n      <td>0</td>\n      <td>0</td>\n      <td>0</td>\n      <td>2016-06-12 13:28:03</td>\n      <td>Andy Murray look like he is in form an ready t...</td>\n      <td>0.0</td>\n      <td>0.0</td>\n      <td>0.0</td>\n      <td>0.0</td>\n      <td>0.0</td>\n      <td>0.0</td>\n    </tr>\n    <tr>\n      <th>26</th>\n      <td>357651699093086209</td>\n      <td>38679217</td>\n      <td>1</td>\n      <td>0</td>\n      <td>0</td>\n      <td>0</td>\n      <td>0</td>\n      <td>2</td>\n      <td>2018-07-20 00:03:04</td>\n      <td>RT @rowiematti: It is the first day of Galileo...</td>\n      <td>1.0</td>\n      <td>0.0</td>\n      <td>0.0</td>\n      <td>0.0</td>\n      <td>0.0</td>\n      <td>2.0</td>\n    </tr>\n    <tr>\n      <th>40</th>\n      <td>584530682094886913</td>\n      <td>413675359</td>\n      <td>1</td>\n      <td>0</td>\n      <td>2</td>\n      <td>0</td>\n      <td>0</td>\n      <td>0</td>\n      <td>2020-04-06 01:39:09</td>\n      <td>Yesterday was a great day of geocaching</td>\n      <td>1.0</td>\n      <td>0.0</td>\n      <td>2.0</td>\n      <td>0.0</td>\n      <td>0.0</td>\n      <td>0.0</td>\n    </tr>\n    <tr>\n      <th>41</th>\n      <td>565184038814494720</td>\n      <td>1252098630</td>\n      <td>1</td>\n      <td>0</td>\n      <td>0</td>\n      <td>0</td>\n      <td>0</td>\n      <td>0</td>\n      <td>2020-02-12 16:22:30</td>\n      <td>When understanding someone's sorrow, take time...</td>\n      <td>1.0</td>\n      <td>0.0</td>\n      <td>0.0</td>\n      <td>0.0</td>\n      <td>0.0</td>\n      <td>0.0</td>\n    </tr>\n    <tr>\n      <th>45</th>\n      <td>136036147826125509</td>\n      <td>531157328</td>\n      <td>0</td>\n      <td>0.0</td>\n      <td>0.0</td>\n      <td>0.0</td>\n      <td>NaN</td>\n      <td>0</td>\n      <td>2019-10-18 15:51:53</td>\n      <td>Cocaine is God's way of saying you're making t...</td>\n      <td>0.0</td>\n      <td>0.0</td>\n      <td>0.0</td>\n      <td>0.0</td>\n      <td>-1.0</td>\n      <td>0.0</td>\n    </tr>\n    <tr>\n      <th>...</th>\n      <td>...</td>\n      <td>...</td>\n      <td>...</td>\n      <td>...</td>\n      <td>...</td>\n      <td>...</td>\n      <td>...</td>\n      <td>...</td>\n      <td>...</td>\n      <td>...</td>\n      <td>...</td>\n      <td>...</td>\n      <td>...</td>\n      <td>...</td>\n      <td>...</td>\n      <td>...</td>\n    </tr>\n    <tr>\n      <th>13664664</th>\n      <td>573005278599241728</td>\n      <td>553317912</td>\n      <td>0</td>\n      <td>0</td>\n      <td>0</td>\n      <td>0</td>\n      <td>0</td>\n      <td>0</td>\n      <td>2020-03-05 06:21:18</td>\n      <td>She want my eggs, bacon, grits , and sausage.</td>\n      <td>0.0</td>\n      <td>0.0</td>\n      <td>0.0</td>\n      <td>0.0</td>\n      <td>0.0</td>\n      <td>0.0</td>\n    </tr>\n    <tr>\n      <th>13664666</th>\n      <td>511318938266136577</td>\n      <td>512771375</td>\n      <td>0</td>\n      <td>0</td>\n      <td>0</td>\n      <td>0</td>\n      <td>1</td>\n      <td>0</td>\n      <td>2019-09-17 01:01:49</td>\n      <td>Read the History of the Chiffons   http://t.co...</td>\n      <td>0.0</td>\n      <td>0.0</td>\n      <td>0.0</td>\n      <td>0.0</td>\n      <td>1.0</td>\n      <td>0.0</td>\n    </tr>\n    <tr>\n      <th>13664685</th>\n      <td>838370060</td>\n      <td>466207205</td>\n      <td>0</td>\n      <td>0.0</td>\n      <td>09vtlcms9k</td>\n      <td>NaN</td>\n      <td>0.0</td>\n      <td>0</td>\n      <td>2019-11-03 16:59:57</td>\n      <td>A volte mi piacerebbe sdoppiarmi per potermi a...</td>\n      <td>0.0</td>\n      <td>0.0</td>\n      <td>-1.0</td>\n      <td>-1.0</td>\n      <td>0.0</td>\n      <td>0.0</td>\n    </tr>\n    <tr>\n      <th>13664688</th>\n      <td>idjn</td>\n      <td>243282862</td>\n      <td>NaN</td>\n      <td>NaN</td>\n      <td>NaN</td>\n      <td>NaN</td>\n      <td>0.0</td>\n      <td>NaN</td>\n      <td>2019-09-07 02:31:17</td>\n      <td>Nobody remembers the guy who finished second b...</td>\n      <td>-1.0</td>\n      <td>-1.0</td>\n      <td>-1.0</td>\n      <td>-1.0</td>\n      <td>0.0</td>\n      <td>-1.0</td>\n    </tr>\n    <tr>\n      <th>13664690</th>\n      <td>329829994169786368</td>\n      <td>220933018</td>\n      <td>0</td>\n      <td>0</td>\n      <td>0</td>\n      <td>0</td>\n      <td>0</td>\n      <td>0</td>\n      <td>2018-05-04 05:29:33</td>\n      <td>ESTA MANANA AUN ESTA  MUY FRIO ! MIREN ESTO ! ...</td>\n      <td>0.0</td>\n      <td>0.0</td>\n      <td>0.0</td>\n      <td>0.0</td>\n      <td>0.0</td>\n      <td>0.0</td>\n    </tr>\n  </tbody>\n</table>\n<p>2094454 rows × 16 columns</p>\n</div>"
     },
     "execution_count": 68,
     "metadata": {},
     "output_type": "execute_result"
    }
   ],
   "source": [
    "duplicates_bool = df_tweets_clear.duplicated(subset=['user_id', 'text','created_at'], keep=False)\n",
    "df_tweets_clear[duplicates_bool]"
   ]
  },
  {
   "cell_type": "markdown",
   "source": [
    "We can observe that the other columns of these duplicates have a considerable amount of null values. In order to keep the correct values, we proceed by performing a merge of the copies, keeping the non null value.\n",
    "We first convert the counts and nums to numeric type, setting to -1 the meaningless values.\n",
    "Then, the merge will proceed by taking the max over the duplicates."
   ],
   "metadata": {
    "collapsed": false
   }
  },
  {
   "cell_type": "code",
   "execution_count": 59,
   "outputs": [],
   "source": [
    "for attr in ['retweet_count','reply_count','favorite_count','num_hashtags','num_urls','num_mentions']:\n",
    "    df_tweets_clear[attr+'_conv'] = df_tweets_clear[attr].apply(to_float)"
   ],
   "metadata": {
    "collapsed": false
   }
  },
  {
   "cell_type": "code",
   "execution_count": 61,
   "outputs": [
    {
     "data": {
      "text/plain": "                          id     user_id retweet_count reply_count  \\\n0         509354017856950272   327746321             0           0   \n1         583002592529121280   333722906             1           0   \n2         461498835362013185  2379755827             0           0   \n3         528808127366692864   466226882             0           0   \n4         575336690904006656  1355537995           114           0   \n...                      ...         ...           ...         ...   \n13664690  329829994169786368   220933018             0           0   \n13664691  588535254207467520   587491046             0           0   \n13664693     718157017970961    91781300             0         NaN   \n13664694  441301348676415488   127895572             0           0   \n13664695  486479812614451200   465421036             3           0   \n\n         favorite_count num_hashtags num_urls num_mentions  \\\n0                     0            0        0            0   \n1                     0            0        0            1   \n2                     0            0        0            1   \n3                     0            0        0            0   \n4                     0            1        0            1   \n...                 ...          ...      ...          ...   \n13664690              0            0        0            0   \n13664691              0            0        0            1   \n13664693        l25suv5          NaN      0.0          NaN   \n13664694              1            1        0            0   \n13664695              4            0        0            0   \n\n                   created_at  \\\n0         2019-09-11 14:53:55   \n1         2020-04-01 20:27:04   \n2         2019-05-02 13:34:31   \n3         2019-11-04 07:17:37   \n4         2020-03-11 16:45:31   \n...                       ...   \n13664690  2018-05-04 05:29:33   \n13664691  2020-04-17 02:51:53   \n13664693  2016-07-10 22:43:09   \n13664694  2019-03-07 19:56:55   \n13664695  2019-07-10 12:00:00   \n\n                                                       text  \\\n0         If man is a little lower than angels, then ang...   \n1         \"@BestWSHHVids: how do you say these words wit...   \n2                                       @LOLatComedy awsome   \n3         Stephen Hawkins: i buchi neri non esistono se ...   \n4               RT @tibbs_montris: So ready for Wednesday!    \n...                                                     ...   \n13664690  ESTA MANANA AUN ESTA  MUY FRIO ! MIREN ESTO ! ...   \n13664691  @warriors Congrats, maybe I'll be able to get ...   \n13664693                                                NaN   \n13664694   Shooting crew of porn movies. #TheWorstJobToHave   \n13664695  Qualcuno dovrÃ  pur dire a quelli che \"Twitter...   \n\n          retweet_count_conv  reply_count_conv  favorite_count_conv  \\\n0                        0.0               0.0                  0.0   \n1                        1.0               0.0                  0.0   \n2                        0.0               0.0                  0.0   \n3                        0.0               0.0                  0.0   \n4                      114.0               0.0                  0.0   \n...                      ...               ...                  ...   \n13664690                 0.0               0.0                  0.0   \n13664691                 0.0               0.0                  0.0   \n13664693                 0.0              -1.0                 -1.0   \n13664694                 0.0               0.0                  1.0   \n13664695                 3.0               0.0                  4.0   \n\n          num_hashtags_conv  num_urls_conv  num_mentions_conv  \n0                       0.0            0.0                0.0  \n1                       0.0            0.0                1.0  \n2                       0.0            0.0                1.0  \n3                       0.0            0.0                0.0  \n4                       1.0            0.0                1.0  \n...                     ...            ...                ...  \n13664690                0.0            0.0                0.0  \n13664691                0.0            0.0                1.0  \n13664693               -1.0            0.0               -1.0  \n13664694                1.0            0.0                0.0  \n13664695                0.0            0.0                0.0  \n\n[11712597 rows x 16 columns]",
      "text/html": "<div>\n<style scoped>\n    .dataframe tbody tr th:only-of-type {\n        vertical-align: middle;\n    }\n\n    .dataframe tbody tr th {\n        vertical-align: top;\n    }\n\n    .dataframe thead th {\n        text-align: right;\n    }\n</style>\n<table border=\"1\" class=\"dataframe\">\n  <thead>\n    <tr style=\"text-align: right;\">\n      <th></th>\n      <th>id</th>\n      <th>user_id</th>\n      <th>retweet_count</th>\n      <th>reply_count</th>\n      <th>favorite_count</th>\n      <th>num_hashtags</th>\n      <th>num_urls</th>\n      <th>num_mentions</th>\n      <th>created_at</th>\n      <th>text</th>\n      <th>retweet_count_conv</th>\n      <th>reply_count_conv</th>\n      <th>favorite_count_conv</th>\n      <th>num_hashtags_conv</th>\n      <th>num_urls_conv</th>\n      <th>num_mentions_conv</th>\n    </tr>\n  </thead>\n  <tbody>\n    <tr>\n      <th>0</th>\n      <td>509354017856950272</td>\n      <td>327746321</td>\n      <td>0</td>\n      <td>0</td>\n      <td>0</td>\n      <td>0</td>\n      <td>0</td>\n      <td>0</td>\n      <td>2019-09-11 14:53:55</td>\n      <td>If man is a little lower than angels, then ang...</td>\n      <td>0.0</td>\n      <td>0.0</td>\n      <td>0.0</td>\n      <td>0.0</td>\n      <td>0.0</td>\n      <td>0.0</td>\n    </tr>\n    <tr>\n      <th>1</th>\n      <td>583002592529121280</td>\n      <td>333722906</td>\n      <td>1</td>\n      <td>0</td>\n      <td>0</td>\n      <td>0</td>\n      <td>0</td>\n      <td>1</td>\n      <td>2020-04-01 20:27:04</td>\n      <td>\"@BestWSHHVids: how do you say these words wit...</td>\n      <td>1.0</td>\n      <td>0.0</td>\n      <td>0.0</td>\n      <td>0.0</td>\n      <td>0.0</td>\n      <td>1.0</td>\n    </tr>\n    <tr>\n      <th>2</th>\n      <td>461498835362013185</td>\n      <td>2379755827</td>\n      <td>0</td>\n      <td>0</td>\n      <td>0</td>\n      <td>0</td>\n      <td>0</td>\n      <td>1</td>\n      <td>2019-05-02 13:34:31</td>\n      <td>@LOLatComedy awsome</td>\n      <td>0.0</td>\n      <td>0.0</td>\n      <td>0.0</td>\n      <td>0.0</td>\n      <td>0.0</td>\n      <td>1.0</td>\n    </tr>\n    <tr>\n      <th>3</th>\n      <td>528808127366692864</td>\n      <td>466226882</td>\n      <td>0</td>\n      <td>0</td>\n      <td>0</td>\n      <td>0</td>\n      <td>0</td>\n      <td>0</td>\n      <td>2019-11-04 07:17:37</td>\n      <td>Stephen Hawkins: i buchi neri non esistono se ...</td>\n      <td>0.0</td>\n      <td>0.0</td>\n      <td>0.0</td>\n      <td>0.0</td>\n      <td>0.0</td>\n      <td>0.0</td>\n    </tr>\n    <tr>\n      <th>4</th>\n      <td>575336690904006656</td>\n      <td>1355537995</td>\n      <td>114</td>\n      <td>0</td>\n      <td>0</td>\n      <td>1</td>\n      <td>0</td>\n      <td>1</td>\n      <td>2020-03-11 16:45:31</td>\n      <td>RT @tibbs_montris: So ready for Wednesday!</td>\n      <td>114.0</td>\n      <td>0.0</td>\n      <td>0.0</td>\n      <td>1.0</td>\n      <td>0.0</td>\n      <td>1.0</td>\n    </tr>\n    <tr>\n      <th>...</th>\n      <td>...</td>\n      <td>...</td>\n      <td>...</td>\n      <td>...</td>\n      <td>...</td>\n      <td>...</td>\n      <td>...</td>\n      <td>...</td>\n      <td>...</td>\n      <td>...</td>\n      <td>...</td>\n      <td>...</td>\n      <td>...</td>\n      <td>...</td>\n      <td>...</td>\n      <td>...</td>\n    </tr>\n    <tr>\n      <th>13664690</th>\n      <td>329829994169786368</td>\n      <td>220933018</td>\n      <td>0</td>\n      <td>0</td>\n      <td>0</td>\n      <td>0</td>\n      <td>0</td>\n      <td>0</td>\n      <td>2018-05-04 05:29:33</td>\n      <td>ESTA MANANA AUN ESTA  MUY FRIO ! MIREN ESTO ! ...</td>\n      <td>0.0</td>\n      <td>0.0</td>\n      <td>0.0</td>\n      <td>0.0</td>\n      <td>0.0</td>\n      <td>0.0</td>\n    </tr>\n    <tr>\n      <th>13664691</th>\n      <td>588535254207467520</td>\n      <td>587491046</td>\n      <td>0</td>\n      <td>0</td>\n      <td>0</td>\n      <td>0</td>\n      <td>0</td>\n      <td>1</td>\n      <td>2020-04-17 02:51:53</td>\n      <td>@warriors Congrats, maybe I'll be able to get ...</td>\n      <td>0.0</td>\n      <td>0.0</td>\n      <td>0.0</td>\n      <td>0.0</td>\n      <td>0.0</td>\n      <td>1.0</td>\n    </tr>\n    <tr>\n      <th>13664693</th>\n      <td>718157017970961</td>\n      <td>91781300</td>\n      <td>0</td>\n      <td>NaN</td>\n      <td>l25suv5</td>\n      <td>NaN</td>\n      <td>0.0</td>\n      <td>NaN</td>\n      <td>2016-07-10 22:43:09</td>\n      <td>NaN</td>\n      <td>0.0</td>\n      <td>-1.0</td>\n      <td>-1.0</td>\n      <td>-1.0</td>\n      <td>0.0</td>\n      <td>-1.0</td>\n    </tr>\n    <tr>\n      <th>13664694</th>\n      <td>441301348676415488</td>\n      <td>127895572</td>\n      <td>0</td>\n      <td>0</td>\n      <td>1</td>\n      <td>1</td>\n      <td>0</td>\n      <td>0</td>\n      <td>2019-03-07 19:56:55</td>\n      <td>Shooting crew of porn movies. #TheWorstJobToHave</td>\n      <td>0.0</td>\n      <td>0.0</td>\n      <td>1.0</td>\n      <td>1.0</td>\n      <td>0.0</td>\n      <td>0.0</td>\n    </tr>\n    <tr>\n      <th>13664695</th>\n      <td>486479812614451200</td>\n      <td>465421036</td>\n      <td>3</td>\n      <td>0</td>\n      <td>4</td>\n      <td>0</td>\n      <td>0</td>\n      <td>0</td>\n      <td>2019-07-10 12:00:00</td>\n      <td>Qualcuno dovrÃ  pur dire a quelli che \"Twitter...</td>\n      <td>3.0</td>\n      <td>0.0</td>\n      <td>4.0</td>\n      <td>0.0</td>\n      <td>0.0</td>\n      <td>0.0</td>\n    </tr>\n  </tbody>\n</table>\n<p>11712597 rows × 16 columns</p>\n</div>"
     },
     "execution_count": 61,
     "metadata": {},
     "output_type": "execute_result"
    }
   ],
   "source": [
    "df_tweets_clear"
   ],
   "metadata": {
    "collapsed": false
   }
  },
  {
   "cell_type": "code",
   "execution_count": 69,
   "outputs": [],
   "source": [
    "groupby_user_text_createdat = df_tweets_clear[duplicates_bool].groupby(['user_id', 'text','created_at'])"
   ],
   "metadata": {
    "collapsed": false
   }
  },
  {
   "cell_type": "code",
   "execution_count": 71,
   "outputs": [],
   "source": [
    "def get_first(list):\n",
    "    return list"
   ],
   "metadata": {
    "collapsed": false
   }
  },
  {
   "cell_type": "code",
   "execution_count": 72,
   "outputs": [],
   "source": [
    "aggregated = groupby_user_text_createdat.agg({'retweet_count_conv':max,'reply_count_conv':max,'favorite_count_conv':max,'num_hashtags_conv':max,'num_urls_conv':max,'num_mentions_conv':max,'id':get_first})"
   ],
   "metadata": {
    "collapsed": false
   }
  },
  {
   "cell_type": "code",
   "execution_count": 79,
   "outputs": [
    {
     "data": {
      "text/plain": "['user_id', 'text', 'created_at']"
     },
     "execution_count": 79,
     "metadata": {},
     "output_type": "execute_result"
    }
   ],
   "source": [],
   "metadata": {
    "collapsed": false
   }
  },
  {
   "cell_type": "code",
   "execution_count": 74,
   "outputs": [
    {
     "name": "stdout",
     "output_type": "stream",
     "text": [
      "<class 'pandas.core.frame.DataFrame'>\n",
      "MultiIndex: 1041126 entries, ('100043740', '#UofSC18 ', '2019-04-25 20:55:58') to ('999662546', 'http://t.co/HGjGUGG3w6', '2019-05-06 17:22:40')\n",
      "Data columns (total 7 columns):\n",
      " #   Column               Non-Null Count    Dtype  \n",
      "---  ------               --------------    -----  \n",
      " 0   retweet_count_conv   1041126 non-null  float64\n",
      " 1   reply_count_conv     1041126 non-null  float64\n",
      " 2   favorite_count_conv  1041126 non-null  float64\n",
      " 3   num_hashtags_conv    1041126 non-null  float64\n",
      " 4   num_urls_conv        1041126 non-null  float64\n",
      " 5   num_mentions_conv    1041126 non-null  float64\n",
      " 6   id                   1041126 non-null  object \n",
      "dtypes: float64(6), object(1)\n",
      "memory usage: 79.5+ MB\n"
     ]
    }
   ],
   "source": [
    "aggregated.info()"
   ],
   "metadata": {
    "collapsed": false
   }
  },
  {
   "cell_type": "markdown",
   "metadata": {},
   "source": [
    "## Data la presenza di molteplici valori nulli tra i duplicati secondo le colonne [id, user_id, text] verifichiamo la corrispondenza di tweet con lo user_id non nullo con la tabella users"
   ]
  },
  {
   "cell_type": "code",
   "execution_count": 29,
   "metadata": {
    "colab": {
     "base_uri": "https://localhost:8080/"
    },
    "executionInfo": {
     "elapsed": 10,
     "status": "ok",
     "timestamp": 1665242198147,
     "user": {
      "displayName": "ALESSANDRO DIPALMA",
      "userId": "15827404338341614451"
     },
     "user_tz": -120
    },
    "id": "GvAclqDxzVy9",
    "outputId": "7e10116d-37a9-4dc3-df4e-a54e05c5499c"
   },
   "outputs": [
    {
     "name": "stdout",
     "output_type": "stream",
     "text": [
      "<class 'pandas.core.frame.DataFrame'>\n",
      "Int64Index: 12 entries, 4515945 to 13484983\n",
      "Data columns (total 10 columns):\n",
      " #   Column          Non-Null Count  Dtype \n",
      "---  ------          --------------  ----- \n",
      " 0   id              12 non-null     object\n",
      " 1   user_id         12 non-null     object\n",
      " 2   retweet_count   5 non-null      object\n",
      " 3   reply_count     3 non-null      object\n",
      " 4   favorite_count  2 non-null      object\n",
      " 5   num_hashtags    0 non-null      object\n",
      " 6   num_urls        2 non-null      object\n",
      " 7   num_mentions    0 non-null      object\n",
      " 8   created_at      12 non-null     object\n",
      " 9   text            0 non-null      object\n",
      "dtypes: object(10)\n",
      "memory usage: 1.0+ KB\n"
     ]
    }
   ],
   "source": [
    "df_nonnull_users = df_tweets_dupl[df_tweets_dupl['user_id'].isnull() == False] # Solo 12 user_id sono avvalorati nei duplicati\n",
    "df_nonnull_users.info()"
   ]
  },
  {
   "cell_type": "code",
   "execution_count": 30,
   "metadata": {
    "colab": {
     "base_uri": "https://localhost:8080/",
     "height": 533
    },
    "executionInfo": {
     "elapsed": 19,
     "status": "ok",
     "timestamp": 1665242043036,
     "user": {
      "displayName": "ALESSANDRO DIPALMA",
      "userId": "15827404338341614451"
     },
     "user_tz": -120
    },
    "id": "84zjvX26IiIW",
    "outputId": "0413313b-2c79-4252-d934-5e171de5e6c1"
   },
   "outputs": [
    {
     "name": "stderr",
     "output_type": "stream",
     "text": [
      "C:\\Users\\al\\AppData\\Local\\Temp\\ipykernel_15108\\3993844464.py:1: SettingWithCopyWarning: \n",
      "A value is trying to be set on a copy of a slice from a DataFrame.\n",
      "Try using .loc[row_indexer,col_indexer] = value instead\n",
      "\n",
      "See the caveats in the documentation: https://pandas.pydata.org/pandas-docs/stable/user_guide/indexing.html#returning-a-view-versus-a-copy\n",
      "  df_nonnull_users.user_id = pd.to_numeric(df_nonnull_users.user_id) # transform column to int values from object\n"
     ]
    },
    {
     "data": {
      "text/plain": "    id_x     user_id retweet_count reply_count favorite_count num_hashtags  \\\n0   vada   331806614           NaN         NaN            NaN          NaN   \n1    ptb   467116841             0         0.0            0.0          NaN   \n2    efh  1573156616             0         NaN            NaN          NaN   \n3    oby   114910555           NaN         NaN            NaN          NaN   \n4    yfj  2445641666           NaN         NaN            NaN          NaN   \n5    djq    70142270           NaN         NaN            NaN          NaN   \n6    gnn    24295753           NaN         NaN            NaN          NaN   \n7    fkn  1978992043           NaN         NaN            NaN          NaN   \n8    vam  1499931151          1222         NaN            0.0          NaN   \n9    tgg   576226470             0         0.0            NaN          NaN   \n10   kws   531236295         7bbif         0.0            NaN          NaN   \n11   gaj   251905557           NaN         NaN            NaN          NaN   \n\n   num_urls num_mentions         created_at_x text        id_y  \\\n0       NaN          NaN  2019-10-16 23:49:32  NaN   331806614   \n1       NaN          NaN  2019-06-17 09:34:56  NaN   467116841   \n2       NaN          NaN  2020-03-07 04:35:15  NaN  1573156616   \n3       NaN          NaN  2020-03-15 03:51:40  NaN   114910555   \n4       NaN          NaN  2019-04-29 23:52:04  NaN  2445641666   \n5       0.0          NaN  2020-04-23 12:43:47  NaN    70142270   \n6       NaN          NaN  2020-03-15 15:12:05  NaN    24295753   \n7       NaN          NaN  2020-03-21 23:10:07  NaN  1978992043   \n8       1.0          NaN  2020-03-15 14:54:04  NaN  1499931151   \n9       NaN          NaN  2018-11-28 13:28:02  NaN   576226470   \n10      NaN          NaN  2019-11-08 14:53:10  NaN   531236295   \n11      NaN          NaN  2020-04-25 17:51:35  NaN   251905557   \n\n                   name   lang  bot         created_at_y  statuses_count  \n0          Marty Balin      en    1  2016-07-09 19:01:19         12375.0  \n1        Gabriele Danno     it    1  2017-01-19 04:08:16            61.0  \n2             Tiny Tibo     fr    0  2018-07-08 16:27:04         27105.0  \n3          Señor Grande     en    0  2015-02-19 00:51:08         10212.0  \n4   Barstool Iowa State     en    0  2019-04-17 15:59:24          1515.0  \n5         Morgan Joseph     en    0  2014-09-01 15:31:01         12171.0  \n6          Nick (Rosie)     en    0  2014-03-16 00:53:21         18699.0  \n7                     -  en-gb    0  2018-10-23 14:43:13         33905.0  \n8                 Bojan     en    0  2018-06-13 01:16:32         26559.0  \n9               Dicerie     en    1  2017-05-12 11:13:08          2000.0  \n10      Candance Hawver     en    1  2017-03-22 11:42:55         10004.0  \n11               Adrián     en    0  2016-02-16 02:38:20         24375.0  ",
      "text/html": "<div>\n<style scoped>\n    .dataframe tbody tr th:only-of-type {\n        vertical-align: middle;\n    }\n\n    .dataframe tbody tr th {\n        vertical-align: top;\n    }\n\n    .dataframe thead th {\n        text-align: right;\n    }\n</style>\n<table border=\"1\" class=\"dataframe\">\n  <thead>\n    <tr style=\"text-align: right;\">\n      <th></th>\n      <th>id_x</th>\n      <th>user_id</th>\n      <th>retweet_count</th>\n      <th>reply_count</th>\n      <th>favorite_count</th>\n      <th>num_hashtags</th>\n      <th>num_urls</th>\n      <th>num_mentions</th>\n      <th>created_at_x</th>\n      <th>text</th>\n      <th>id_y</th>\n      <th>name</th>\n      <th>lang</th>\n      <th>bot</th>\n      <th>created_at_y</th>\n      <th>statuses_count</th>\n    </tr>\n  </thead>\n  <tbody>\n    <tr>\n      <th>0</th>\n      <td>vada</td>\n      <td>331806614</td>\n      <td>NaN</td>\n      <td>NaN</td>\n      <td>NaN</td>\n      <td>NaN</td>\n      <td>NaN</td>\n      <td>NaN</td>\n      <td>2019-10-16 23:49:32</td>\n      <td>NaN</td>\n      <td>331806614</td>\n      <td>Marty Balin</td>\n      <td>en</td>\n      <td>1</td>\n      <td>2016-07-09 19:01:19</td>\n      <td>12375.0</td>\n    </tr>\n    <tr>\n      <th>1</th>\n      <td>ptb</td>\n      <td>467116841</td>\n      <td>0</td>\n      <td>0.0</td>\n      <td>0.0</td>\n      <td>NaN</td>\n      <td>NaN</td>\n      <td>NaN</td>\n      <td>2019-06-17 09:34:56</td>\n      <td>NaN</td>\n      <td>467116841</td>\n      <td>Gabriele Danno</td>\n      <td>it</td>\n      <td>1</td>\n      <td>2017-01-19 04:08:16</td>\n      <td>61.0</td>\n    </tr>\n    <tr>\n      <th>2</th>\n      <td>efh</td>\n      <td>1573156616</td>\n      <td>0</td>\n      <td>NaN</td>\n      <td>NaN</td>\n      <td>NaN</td>\n      <td>NaN</td>\n      <td>NaN</td>\n      <td>2020-03-07 04:35:15</td>\n      <td>NaN</td>\n      <td>1573156616</td>\n      <td>Tiny Tibo</td>\n      <td>fr</td>\n      <td>0</td>\n      <td>2018-07-08 16:27:04</td>\n      <td>27105.0</td>\n    </tr>\n    <tr>\n      <th>3</th>\n      <td>oby</td>\n      <td>114910555</td>\n      <td>NaN</td>\n      <td>NaN</td>\n      <td>NaN</td>\n      <td>NaN</td>\n      <td>NaN</td>\n      <td>NaN</td>\n      <td>2020-03-15 03:51:40</td>\n      <td>NaN</td>\n      <td>114910555</td>\n      <td>Señor Grande</td>\n      <td>en</td>\n      <td>0</td>\n      <td>2015-02-19 00:51:08</td>\n      <td>10212.0</td>\n    </tr>\n    <tr>\n      <th>4</th>\n      <td>yfj</td>\n      <td>2445641666</td>\n      <td>NaN</td>\n      <td>NaN</td>\n      <td>NaN</td>\n      <td>NaN</td>\n      <td>NaN</td>\n      <td>NaN</td>\n      <td>2019-04-29 23:52:04</td>\n      <td>NaN</td>\n      <td>2445641666</td>\n      <td>Barstool Iowa State</td>\n      <td>en</td>\n      <td>0</td>\n      <td>2019-04-17 15:59:24</td>\n      <td>1515.0</td>\n    </tr>\n    <tr>\n      <th>5</th>\n      <td>djq</td>\n      <td>70142270</td>\n      <td>NaN</td>\n      <td>NaN</td>\n      <td>NaN</td>\n      <td>NaN</td>\n      <td>0.0</td>\n      <td>NaN</td>\n      <td>2020-04-23 12:43:47</td>\n      <td>NaN</td>\n      <td>70142270</td>\n      <td>Morgan Joseph</td>\n      <td>en</td>\n      <td>0</td>\n      <td>2014-09-01 15:31:01</td>\n      <td>12171.0</td>\n    </tr>\n    <tr>\n      <th>6</th>\n      <td>gnn</td>\n      <td>24295753</td>\n      <td>NaN</td>\n      <td>NaN</td>\n      <td>NaN</td>\n      <td>NaN</td>\n      <td>NaN</td>\n      <td>NaN</td>\n      <td>2020-03-15 15:12:05</td>\n      <td>NaN</td>\n      <td>24295753</td>\n      <td>Nick (Rosie)</td>\n      <td>en</td>\n      <td>0</td>\n      <td>2014-03-16 00:53:21</td>\n      <td>18699.0</td>\n    </tr>\n    <tr>\n      <th>7</th>\n      <td>fkn</td>\n      <td>1978992043</td>\n      <td>NaN</td>\n      <td>NaN</td>\n      <td>NaN</td>\n      <td>NaN</td>\n      <td>NaN</td>\n      <td>NaN</td>\n      <td>2020-03-21 23:10:07</td>\n      <td>NaN</td>\n      <td>1978992043</td>\n      <td>-</td>\n      <td>en-gb</td>\n      <td>0</td>\n      <td>2018-10-23 14:43:13</td>\n      <td>33905.0</td>\n    </tr>\n    <tr>\n      <th>8</th>\n      <td>vam</td>\n      <td>1499931151</td>\n      <td>1222</td>\n      <td>NaN</td>\n      <td>0.0</td>\n      <td>NaN</td>\n      <td>1.0</td>\n      <td>NaN</td>\n      <td>2020-03-15 14:54:04</td>\n      <td>NaN</td>\n      <td>1499931151</td>\n      <td>Bojan</td>\n      <td>en</td>\n      <td>0</td>\n      <td>2018-06-13 01:16:32</td>\n      <td>26559.0</td>\n    </tr>\n    <tr>\n      <th>9</th>\n      <td>tgg</td>\n      <td>576226470</td>\n      <td>0</td>\n      <td>0.0</td>\n      <td>NaN</td>\n      <td>NaN</td>\n      <td>NaN</td>\n      <td>NaN</td>\n      <td>2018-11-28 13:28:02</td>\n      <td>NaN</td>\n      <td>576226470</td>\n      <td>Dicerie</td>\n      <td>en</td>\n      <td>1</td>\n      <td>2017-05-12 11:13:08</td>\n      <td>2000.0</td>\n    </tr>\n    <tr>\n      <th>10</th>\n      <td>kws</td>\n      <td>531236295</td>\n      <td>7bbif</td>\n      <td>0.0</td>\n      <td>NaN</td>\n      <td>NaN</td>\n      <td>NaN</td>\n      <td>NaN</td>\n      <td>2019-11-08 14:53:10</td>\n      <td>NaN</td>\n      <td>531236295</td>\n      <td>Candance Hawver</td>\n      <td>en</td>\n      <td>1</td>\n      <td>2017-03-22 11:42:55</td>\n      <td>10004.0</td>\n    </tr>\n    <tr>\n      <th>11</th>\n      <td>gaj</td>\n      <td>251905557</td>\n      <td>NaN</td>\n      <td>NaN</td>\n      <td>NaN</td>\n      <td>NaN</td>\n      <td>NaN</td>\n      <td>NaN</td>\n      <td>2020-04-25 17:51:35</td>\n      <td>NaN</td>\n      <td>251905557</td>\n      <td>Adrián</td>\n      <td>en</td>\n      <td>0</td>\n      <td>2016-02-16 02:38:20</td>\n      <td>24375.0</td>\n    </tr>\n  </tbody>\n</table>\n</div>"
     },
     "execution_count": 30,
     "metadata": {},
     "output_type": "execute_result"
    }
   ],
   "source": [
    "df_nonnull_users.user_id = pd.to_numeric(df_nonnull_users.user_id) # transform column to int values from object\n",
    "df_nonnull_users.merge(df_users, left_on='user_id', right_on='id') # merge with users table"
   ]
  },
  {
   "cell_type": "markdown",
   "metadata": {},
   "source": [
    "All users have a correspondance with users in the users file "
   ]
  },
  {
   "cell_type": "markdown",
   "metadata": {},
   "source": [
    "## Eliminazione delle righe ripetute secondo il pattern sopracitato aventi lo user_id nullo"
   ]
  },
  {
   "cell_type": "code",
   "execution_count": 31,
   "metadata": {},
   "outputs": [],
   "source": [
    "df_tweets_more_clear = df_tweets_clear[df_tweets_clear.duplicated(subset=['id', 'user_id','text'])]"
   ]
  },
  {
   "cell_type": "code",
   "execution_count": 32,
   "metadata": {},
   "outputs": [
    {
     "name": "stdout",
     "output_type": "stream",
     "text": [
      "<class 'pandas.core.frame.DataFrame'>\n",
      "Int64Index: 261 entries, 280761 to 13607558\n",
      "Data columns (total 10 columns):\n",
      " #   Column          Non-Null Count  Dtype \n",
      "---  ------          --------------  ----- \n",
      " 0   id              261 non-null    object\n",
      " 1   user_id         12 non-null     object\n",
      " 2   retweet_count   142 non-null    object\n",
      " 3   reply_count     51 non-null     object\n",
      " 4   favorite_count  76 non-null     object\n",
      " 5   num_hashtags    0 non-null      object\n",
      " 6   num_urls        56 non-null     object\n",
      " 7   num_mentions    0 non-null      object\n",
      " 8   created_at      261 non-null    object\n",
      " 9   text            0 non-null      object\n",
      "dtypes: object(10)\n",
      "memory usage: 22.4+ KB\n"
     ]
    }
   ],
   "source": [
    "df_tweets_more_clear.info()"
   ]
  },
  {
   "cell_type": "markdown",
   "metadata": {},
   "source": [
    "Check null user_id values"
   ]
  },
  {
   "cell_type": "code",
   "execution_count": 33,
   "metadata": {},
   "outputs": [
    {
     "data": {
      "text/plain": "            id user_id retweet_count reply_count favorite_count num_hashtags  \\\n280761     mxi     NaN             0         NaN            0.0          NaN   \n515406     mxi     NaN             2         NaN            0.0          NaN   \n573128     srq     NaN           NaN         NaN            NaN          NaN   \n1706009    xiu     NaN           NaN         NaN            NaN          NaN   \n1787554   crks     NaN             0         NaN            NaN          NaN   \n...        ...     ...           ...         ...            ...          ...   \n13554922   cxz     NaN           NaN         NaN            NaN          NaN   \n13557755   ngd     NaN           NaN         NaN            NaN          NaN   \n13561775   qyt     NaN             0         NaN            0.0          NaN   \n13593848   uru     NaN             0         NaN            NaN          NaN   \n13607558   juo     NaN             0         0.0            NaN          NaN   \n\n         num_urls num_mentions           created_at text  \n280761        1.0          NaN  2019-09-14 20:47:29  NaN  \n515406        0.0          NaN  2020-03-22 04:55:02  NaN  \n573128        0.0          NaN  2020-02-24 22:11:05  NaN  \n1706009       NaN          NaN  2019-09-21 14:12:26  NaN  \n1787554       NaN          NaN  2020-04-17 16:52:26  NaN  \n...           ...          ...                  ...  ...  \n13554922      NaN          NaN  2019-09-13 07:19:42  NaN  \n13557755      0.0          NaN  2019-11-01 16:21:42  NaN  \n13561775      0.0          NaN  2019-11-03 11:50:00  NaN  \n13593848      NaN          NaN  2020-03-27 01:57:35  NaN  \n13607558      NaN          NaN  2020-04-08 01:43:52  NaN  \n\n[249 rows x 10 columns]",
      "text/html": "<div>\n<style scoped>\n    .dataframe tbody tr th:only-of-type {\n        vertical-align: middle;\n    }\n\n    .dataframe tbody tr th {\n        vertical-align: top;\n    }\n\n    .dataframe thead th {\n        text-align: right;\n    }\n</style>\n<table border=\"1\" class=\"dataframe\">\n  <thead>\n    <tr style=\"text-align: right;\">\n      <th></th>\n      <th>id</th>\n      <th>user_id</th>\n      <th>retweet_count</th>\n      <th>reply_count</th>\n      <th>favorite_count</th>\n      <th>num_hashtags</th>\n      <th>num_urls</th>\n      <th>num_mentions</th>\n      <th>created_at</th>\n      <th>text</th>\n    </tr>\n  </thead>\n  <tbody>\n    <tr>\n      <th>280761</th>\n      <td>mxi</td>\n      <td>NaN</td>\n      <td>0</td>\n      <td>NaN</td>\n      <td>0.0</td>\n      <td>NaN</td>\n      <td>1.0</td>\n      <td>NaN</td>\n      <td>2019-09-14 20:47:29</td>\n      <td>NaN</td>\n    </tr>\n    <tr>\n      <th>515406</th>\n      <td>mxi</td>\n      <td>NaN</td>\n      <td>2</td>\n      <td>NaN</td>\n      <td>0.0</td>\n      <td>NaN</td>\n      <td>0.0</td>\n      <td>NaN</td>\n      <td>2020-03-22 04:55:02</td>\n      <td>NaN</td>\n    </tr>\n    <tr>\n      <th>573128</th>\n      <td>srq</td>\n      <td>NaN</td>\n      <td>NaN</td>\n      <td>NaN</td>\n      <td>NaN</td>\n      <td>NaN</td>\n      <td>0.0</td>\n      <td>NaN</td>\n      <td>2020-02-24 22:11:05</td>\n      <td>NaN</td>\n    </tr>\n    <tr>\n      <th>1706009</th>\n      <td>xiu</td>\n      <td>NaN</td>\n      <td>NaN</td>\n      <td>NaN</td>\n      <td>NaN</td>\n      <td>NaN</td>\n      <td>NaN</td>\n      <td>NaN</td>\n      <td>2019-09-21 14:12:26</td>\n      <td>NaN</td>\n    </tr>\n    <tr>\n      <th>1787554</th>\n      <td>crks</td>\n      <td>NaN</td>\n      <td>0</td>\n      <td>NaN</td>\n      <td>NaN</td>\n      <td>NaN</td>\n      <td>NaN</td>\n      <td>NaN</td>\n      <td>2020-04-17 16:52:26</td>\n      <td>NaN</td>\n    </tr>\n    <tr>\n      <th>...</th>\n      <td>...</td>\n      <td>...</td>\n      <td>...</td>\n      <td>...</td>\n      <td>...</td>\n      <td>...</td>\n      <td>...</td>\n      <td>...</td>\n      <td>...</td>\n      <td>...</td>\n    </tr>\n    <tr>\n      <th>13554922</th>\n      <td>cxz</td>\n      <td>NaN</td>\n      <td>NaN</td>\n      <td>NaN</td>\n      <td>NaN</td>\n      <td>NaN</td>\n      <td>NaN</td>\n      <td>NaN</td>\n      <td>2019-09-13 07:19:42</td>\n      <td>NaN</td>\n    </tr>\n    <tr>\n      <th>13557755</th>\n      <td>ngd</td>\n      <td>NaN</td>\n      <td>NaN</td>\n      <td>NaN</td>\n      <td>NaN</td>\n      <td>NaN</td>\n      <td>0.0</td>\n      <td>NaN</td>\n      <td>2019-11-01 16:21:42</td>\n      <td>NaN</td>\n    </tr>\n    <tr>\n      <th>13561775</th>\n      <td>qyt</td>\n      <td>NaN</td>\n      <td>0</td>\n      <td>NaN</td>\n      <td>0.0</td>\n      <td>NaN</td>\n      <td>0.0</td>\n      <td>NaN</td>\n      <td>2019-11-03 11:50:00</td>\n      <td>NaN</td>\n    </tr>\n    <tr>\n      <th>13593848</th>\n      <td>uru</td>\n      <td>NaN</td>\n      <td>0</td>\n      <td>NaN</td>\n      <td>NaN</td>\n      <td>NaN</td>\n      <td>NaN</td>\n      <td>NaN</td>\n      <td>2020-03-27 01:57:35</td>\n      <td>NaN</td>\n    </tr>\n    <tr>\n      <th>13607558</th>\n      <td>juo</td>\n      <td>NaN</td>\n      <td>0</td>\n      <td>0.0</td>\n      <td>NaN</td>\n      <td>NaN</td>\n      <td>NaN</td>\n      <td>NaN</td>\n      <td>2020-04-08 01:43:52</td>\n      <td>NaN</td>\n    </tr>\n  </tbody>\n</table>\n<p>249 rows × 10 columns</p>\n</div>"
     },
     "execution_count": 33,
     "metadata": {},
     "output_type": "execute_result"
    }
   ],
   "source": [
    "df_tweets_more_clear[df_tweets_more_clear['user_id'].isnull() == True]"
   ]
  },
  {
   "cell_type": "markdown",
   "metadata": {},
   "source": [
    "Drop all records where user_id is null"
   ]
  },
  {
   "cell_type": "code",
   "execution_count": 34,
   "metadata": {
    "id": "O-co7rHGFeOY"
   },
   "outputs": [
    {
     "name": "stdout",
     "output_type": "stream",
     "text": [
      "<class 'pandas.core.frame.DataFrame'>\n",
      "Int64Index: 11712348 entries, 0 to 13664695\n",
      "Data columns (total 10 columns):\n",
      " #   Column          Non-Null Count     Dtype \n",
      "---  ------          --------------     ----- \n",
      " 0   id              11712346 non-null  object\n",
      " 1   user_id         11495314 non-null  object\n",
      " 2   retweet_count   11275326 non-null  object\n",
      " 3   reply_count     11064671 non-null  object\n",
      " 4   favorite_count  11064981 non-null  object\n",
      " 5   num_hashtags    10655073 non-null  object\n",
      " 6   num_urls        11063920 non-null  object\n",
      " 7   num_mentions    10858432 non-null  object\n",
      " 8   created_at      11712348 non-null  object\n",
      " 9   text            11182415 non-null  object\n",
      "dtypes: object(10)\n",
      "memory usage: 982.9+ MB\n"
     ]
    }
   ],
   "source": [
    "df_tweets_single =df_tweets_clear.drop(df_tweets_more_clear[df_tweets_more_clear['user_id'].isnull() == True].index)\n",
    "df_tweets_single.info(show_counts=True)"
   ]
  },
  {
   "cell_type": "markdown",
   "metadata": {},
   "source": [
    "Take all users in duplicates that have a user_id that is not null"
   ]
  },
  {
   "cell_type": "code",
   "execution_count": 35,
   "metadata": {},
   "outputs": [
    {
     "name": "stdout",
     "output_type": "stream",
     "text": [
      "<class 'pandas.core.frame.DataFrame'>\n",
      "Int64Index: 12 entries, 4515945 to 13484983\n",
      "Data columns (total 10 columns):\n",
      " #   Column          Non-Null Count  Dtype \n",
      "---  ------          --------------  ----- \n",
      " 0   id              12 non-null     object\n",
      " 1   user_id         12 non-null     object\n",
      " 2   retweet_count   5 non-null      object\n",
      " 3   reply_count     3 non-null      object\n",
      " 4   favorite_count  2 non-null      object\n",
      " 5   num_hashtags    0 non-null      object\n",
      " 6   num_urls        2 non-null      object\n",
      " 7   num_mentions    0 non-null      object\n",
      " 8   created_at      12 non-null     object\n",
      " 9   text            0 non-null      object\n",
      "dtypes: object(10)\n",
      "memory usage: 1.0+ KB\n"
     ]
    }
   ],
   "source": [
    "df_nonnull_users = df_tweets_dupl[df_tweets_dupl['user_id'].isnull() == False]\n",
    "df_nonnull_users.info()"
   ]
  },
  {
   "cell_type": "code",
   "execution_count": 36,
   "metadata": {},
   "outputs": [
    {
     "name": "stderr",
     "output_type": "stream",
     "text": [
      "C:\\Users\\al\\AppData\\Local\\Temp\\ipykernel_15108\\3993844464.py:1: SettingWithCopyWarning: \n",
      "A value is trying to be set on a copy of a slice from a DataFrame.\n",
      "Try using .loc[row_indexer,col_indexer] = value instead\n",
      "\n",
      "See the caveats in the documentation: https://pandas.pydata.org/pandas-docs/stable/user_guide/indexing.html#returning-a-view-versus-a-copy\n",
      "  df_nonnull_users.user_id = pd.to_numeric(df_nonnull_users.user_id) # transform column to int values from object\n"
     ]
    },
    {
     "data": {
      "text/plain": "    id_x     user_id retweet_count reply_count favorite_count num_hashtags  \\\n0   vada   331806614           NaN         NaN            NaN          NaN   \n1    ptb   467116841             0         0.0            0.0          NaN   \n2    efh  1573156616             0         NaN            NaN          NaN   \n3    oby   114910555           NaN         NaN            NaN          NaN   \n4    yfj  2445641666           NaN         NaN            NaN          NaN   \n5    djq    70142270           NaN         NaN            NaN          NaN   \n6    gnn    24295753           NaN         NaN            NaN          NaN   \n7    fkn  1978992043           NaN         NaN            NaN          NaN   \n8    vam  1499931151          1222         NaN            0.0          NaN   \n9    tgg   576226470             0         0.0            NaN          NaN   \n10   kws   531236295         7bbif         0.0            NaN          NaN   \n11   gaj   251905557           NaN         NaN            NaN          NaN   \n\n   num_urls num_mentions         created_at_x text        id_y  \\\n0       NaN          NaN  2019-10-16 23:49:32  NaN   331806614   \n1       NaN          NaN  2019-06-17 09:34:56  NaN   467116841   \n2       NaN          NaN  2020-03-07 04:35:15  NaN  1573156616   \n3       NaN          NaN  2020-03-15 03:51:40  NaN   114910555   \n4       NaN          NaN  2019-04-29 23:52:04  NaN  2445641666   \n5       0.0          NaN  2020-04-23 12:43:47  NaN    70142270   \n6       NaN          NaN  2020-03-15 15:12:05  NaN    24295753   \n7       NaN          NaN  2020-03-21 23:10:07  NaN  1978992043   \n8       1.0          NaN  2020-03-15 14:54:04  NaN  1499931151   \n9       NaN          NaN  2018-11-28 13:28:02  NaN   576226470   \n10      NaN          NaN  2019-11-08 14:53:10  NaN   531236295   \n11      NaN          NaN  2020-04-25 17:51:35  NaN   251905557   \n\n                   name   lang  bot         created_at_y  statuses_count  \n0          Marty Balin      en    1  2016-07-09 19:01:19         12375.0  \n1        Gabriele Danno     it    1  2017-01-19 04:08:16            61.0  \n2             Tiny Tibo     fr    0  2018-07-08 16:27:04         27105.0  \n3          Señor Grande     en    0  2015-02-19 00:51:08         10212.0  \n4   Barstool Iowa State     en    0  2019-04-17 15:59:24          1515.0  \n5         Morgan Joseph     en    0  2014-09-01 15:31:01         12171.0  \n6          Nick (Rosie)     en    0  2014-03-16 00:53:21         18699.0  \n7                     -  en-gb    0  2018-10-23 14:43:13         33905.0  \n8                 Bojan     en    0  2018-06-13 01:16:32         26559.0  \n9               Dicerie     en    1  2017-05-12 11:13:08          2000.0  \n10      Candance Hawver     en    1  2017-03-22 11:42:55         10004.0  \n11               Adrián     en    0  2016-02-16 02:38:20         24375.0  ",
      "text/html": "<div>\n<style scoped>\n    .dataframe tbody tr th:only-of-type {\n        vertical-align: middle;\n    }\n\n    .dataframe tbody tr th {\n        vertical-align: top;\n    }\n\n    .dataframe thead th {\n        text-align: right;\n    }\n</style>\n<table border=\"1\" class=\"dataframe\">\n  <thead>\n    <tr style=\"text-align: right;\">\n      <th></th>\n      <th>id_x</th>\n      <th>user_id</th>\n      <th>retweet_count</th>\n      <th>reply_count</th>\n      <th>favorite_count</th>\n      <th>num_hashtags</th>\n      <th>num_urls</th>\n      <th>num_mentions</th>\n      <th>created_at_x</th>\n      <th>text</th>\n      <th>id_y</th>\n      <th>name</th>\n      <th>lang</th>\n      <th>bot</th>\n      <th>created_at_y</th>\n      <th>statuses_count</th>\n    </tr>\n  </thead>\n  <tbody>\n    <tr>\n      <th>0</th>\n      <td>vada</td>\n      <td>331806614</td>\n      <td>NaN</td>\n      <td>NaN</td>\n      <td>NaN</td>\n      <td>NaN</td>\n      <td>NaN</td>\n      <td>NaN</td>\n      <td>2019-10-16 23:49:32</td>\n      <td>NaN</td>\n      <td>331806614</td>\n      <td>Marty Balin</td>\n      <td>en</td>\n      <td>1</td>\n      <td>2016-07-09 19:01:19</td>\n      <td>12375.0</td>\n    </tr>\n    <tr>\n      <th>1</th>\n      <td>ptb</td>\n      <td>467116841</td>\n      <td>0</td>\n      <td>0.0</td>\n      <td>0.0</td>\n      <td>NaN</td>\n      <td>NaN</td>\n      <td>NaN</td>\n      <td>2019-06-17 09:34:56</td>\n      <td>NaN</td>\n      <td>467116841</td>\n      <td>Gabriele Danno</td>\n      <td>it</td>\n      <td>1</td>\n      <td>2017-01-19 04:08:16</td>\n      <td>61.0</td>\n    </tr>\n    <tr>\n      <th>2</th>\n      <td>efh</td>\n      <td>1573156616</td>\n      <td>0</td>\n      <td>NaN</td>\n      <td>NaN</td>\n      <td>NaN</td>\n      <td>NaN</td>\n      <td>NaN</td>\n      <td>2020-03-07 04:35:15</td>\n      <td>NaN</td>\n      <td>1573156616</td>\n      <td>Tiny Tibo</td>\n      <td>fr</td>\n      <td>0</td>\n      <td>2018-07-08 16:27:04</td>\n      <td>27105.0</td>\n    </tr>\n    <tr>\n      <th>3</th>\n      <td>oby</td>\n      <td>114910555</td>\n      <td>NaN</td>\n      <td>NaN</td>\n      <td>NaN</td>\n      <td>NaN</td>\n      <td>NaN</td>\n      <td>NaN</td>\n      <td>2020-03-15 03:51:40</td>\n      <td>NaN</td>\n      <td>114910555</td>\n      <td>Señor Grande</td>\n      <td>en</td>\n      <td>0</td>\n      <td>2015-02-19 00:51:08</td>\n      <td>10212.0</td>\n    </tr>\n    <tr>\n      <th>4</th>\n      <td>yfj</td>\n      <td>2445641666</td>\n      <td>NaN</td>\n      <td>NaN</td>\n      <td>NaN</td>\n      <td>NaN</td>\n      <td>NaN</td>\n      <td>NaN</td>\n      <td>2019-04-29 23:52:04</td>\n      <td>NaN</td>\n      <td>2445641666</td>\n      <td>Barstool Iowa State</td>\n      <td>en</td>\n      <td>0</td>\n      <td>2019-04-17 15:59:24</td>\n      <td>1515.0</td>\n    </tr>\n    <tr>\n      <th>5</th>\n      <td>djq</td>\n      <td>70142270</td>\n      <td>NaN</td>\n      <td>NaN</td>\n      <td>NaN</td>\n      <td>NaN</td>\n      <td>0.0</td>\n      <td>NaN</td>\n      <td>2020-04-23 12:43:47</td>\n      <td>NaN</td>\n      <td>70142270</td>\n      <td>Morgan Joseph</td>\n      <td>en</td>\n      <td>0</td>\n      <td>2014-09-01 15:31:01</td>\n      <td>12171.0</td>\n    </tr>\n    <tr>\n      <th>6</th>\n      <td>gnn</td>\n      <td>24295753</td>\n      <td>NaN</td>\n      <td>NaN</td>\n      <td>NaN</td>\n      <td>NaN</td>\n      <td>NaN</td>\n      <td>NaN</td>\n      <td>2020-03-15 15:12:05</td>\n      <td>NaN</td>\n      <td>24295753</td>\n      <td>Nick (Rosie)</td>\n      <td>en</td>\n      <td>0</td>\n      <td>2014-03-16 00:53:21</td>\n      <td>18699.0</td>\n    </tr>\n    <tr>\n      <th>7</th>\n      <td>fkn</td>\n      <td>1978992043</td>\n      <td>NaN</td>\n      <td>NaN</td>\n      <td>NaN</td>\n      <td>NaN</td>\n      <td>NaN</td>\n      <td>NaN</td>\n      <td>2020-03-21 23:10:07</td>\n      <td>NaN</td>\n      <td>1978992043</td>\n      <td>-</td>\n      <td>en-gb</td>\n      <td>0</td>\n      <td>2018-10-23 14:43:13</td>\n      <td>33905.0</td>\n    </tr>\n    <tr>\n      <th>8</th>\n      <td>vam</td>\n      <td>1499931151</td>\n      <td>1222</td>\n      <td>NaN</td>\n      <td>0.0</td>\n      <td>NaN</td>\n      <td>1.0</td>\n      <td>NaN</td>\n      <td>2020-03-15 14:54:04</td>\n      <td>NaN</td>\n      <td>1499931151</td>\n      <td>Bojan</td>\n      <td>en</td>\n      <td>0</td>\n      <td>2018-06-13 01:16:32</td>\n      <td>26559.0</td>\n    </tr>\n    <tr>\n      <th>9</th>\n      <td>tgg</td>\n      <td>576226470</td>\n      <td>0</td>\n      <td>0.0</td>\n      <td>NaN</td>\n      <td>NaN</td>\n      <td>NaN</td>\n      <td>NaN</td>\n      <td>2018-11-28 13:28:02</td>\n      <td>NaN</td>\n      <td>576226470</td>\n      <td>Dicerie</td>\n      <td>en</td>\n      <td>1</td>\n      <td>2017-05-12 11:13:08</td>\n      <td>2000.0</td>\n    </tr>\n    <tr>\n      <th>10</th>\n      <td>kws</td>\n      <td>531236295</td>\n      <td>7bbif</td>\n      <td>0.0</td>\n      <td>NaN</td>\n      <td>NaN</td>\n      <td>NaN</td>\n      <td>NaN</td>\n      <td>2019-11-08 14:53:10</td>\n      <td>NaN</td>\n      <td>531236295</td>\n      <td>Candance Hawver</td>\n      <td>en</td>\n      <td>1</td>\n      <td>2017-03-22 11:42:55</td>\n      <td>10004.0</td>\n    </tr>\n    <tr>\n      <th>11</th>\n      <td>gaj</td>\n      <td>251905557</td>\n      <td>NaN</td>\n      <td>NaN</td>\n      <td>NaN</td>\n      <td>NaN</td>\n      <td>NaN</td>\n      <td>NaN</td>\n      <td>2020-04-25 17:51:35</td>\n      <td>NaN</td>\n      <td>251905557</td>\n      <td>Adrián</td>\n      <td>en</td>\n      <td>0</td>\n      <td>2016-02-16 02:38:20</td>\n      <td>24375.0</td>\n    </tr>\n  </tbody>\n</table>\n</div>"
     },
     "execution_count": 36,
     "metadata": {},
     "output_type": "execute_result"
    }
   ],
   "source": [
    "df_nonnull_users.user_id = pd.to_numeric(df_nonnull_users.user_id) # transform column to int values from object\n",
    "df_nonnull_users.merge(df_users, left_on='user_id', right_on='id') # merge with users table"
   ]
  },
  {
   "cell_type": "code",
   "execution_count": 37,
   "metadata": {},
   "outputs": [
    {
     "name": "stdout",
     "output_type": "stream",
     "text": [
      "retweet_count\n",
      "7\n",
      "\n",
      "           id     user_id retweet_count reply_count favorite_count  \\\n",
      "6978627   oby   114910555           NaN         NaN            NaN   \n",
      "7509770   yfj  2445641666           NaN         NaN            NaN   \n",
      "9354011   djq    70142270           NaN         NaN            NaN   \n",
      "10231019  gnn    24295753           NaN         NaN            NaN   \n",
      "11050094  fkn  1978992043           NaN         NaN            NaN   \n",
      "12987829  tgg   576226470             0         0.0            NaN   \n",
      "13484983  gaj   251905557           NaN         NaN            NaN   \n",
      "\n",
      "         num_hashtags num_urls num_mentions           created_at text  \n",
      "6978627           NaN      NaN          NaN  2020-03-15 03:51:40  NaN  \n",
      "7509770           NaN      NaN          NaN  2019-04-29 23:52:04  NaN  \n",
      "9354011           NaN      0.0          NaN  2020-04-23 12:43:47  NaN  \n",
      "10231019          NaN      NaN          NaN  2020-03-15 15:12:05  NaN  \n",
      "11050094          NaN      NaN          NaN  2020-03-21 23:10:07  NaN  \n",
      "12987829          NaN      NaN          NaN  2018-11-28 13:28:02  NaN  \n",
      "13484983          NaN      NaN          NaN  2020-04-25 17:51:35  NaN  \n",
      "reply_count\n",
      "12\n",
      "\n",
      "            id     user_id retweet_count reply_count favorite_count  \\\n",
      "4515945   vada   331806614           NaN         NaN            NaN   \n",
      "5888215    ptb   467116841             0         0.0            0.0   \n",
      "6445718    efh  1573156616             0         NaN            NaN   \n",
      "6978627    oby   114910555           NaN         NaN            NaN   \n",
      "7509770    yfj  2445641666           NaN         NaN            NaN   \n",
      "9354011    djq    70142270           NaN         NaN            NaN   \n",
      "10231019   gnn    24295753           NaN         NaN            NaN   \n",
      "11050094   fkn  1978992043           NaN         NaN            NaN   \n",
      "11332577   vam  1499931151          1222         NaN            0.0   \n",
      "12987829   tgg   576226470             0         0.0            NaN   \n",
      "13138848   kws   531236295         7bbif         0.0            NaN   \n",
      "13484983   gaj   251905557           NaN         NaN            NaN   \n",
      "\n",
      "         num_hashtags num_urls num_mentions           created_at text  \n",
      "4515945           NaN      NaN          NaN  2019-10-16 23:49:32  NaN  \n",
      "5888215           NaN      NaN          NaN  2019-06-17 09:34:56  NaN  \n",
      "6445718           NaN      NaN          NaN  2020-03-07 04:35:15  NaN  \n",
      "6978627           NaN      NaN          NaN  2020-03-15 03:51:40  NaN  \n",
      "7509770           NaN      NaN          NaN  2019-04-29 23:52:04  NaN  \n",
      "9354011           NaN      0.0          NaN  2020-04-23 12:43:47  NaN  \n",
      "10231019          NaN      NaN          NaN  2020-03-15 15:12:05  NaN  \n",
      "11050094          NaN      NaN          NaN  2020-03-21 23:10:07  NaN  \n",
      "11332577          NaN      1.0          NaN  2020-03-15 14:54:04  NaN  \n",
      "12987829          NaN      NaN          NaN  2018-11-28 13:28:02  NaN  \n",
      "13138848          NaN      NaN          NaN  2019-11-08 14:53:10  NaN  \n",
      "13484983          NaN      NaN          NaN  2020-04-25 17:51:35  NaN  \n",
      "favorite_count\n",
      "12\n",
      "\n",
      "            id     user_id retweet_count reply_count favorite_count  \\\n",
      "4515945   vada   331806614           NaN         NaN            NaN   \n",
      "5888215    ptb   467116841             0         0.0            0.0   \n",
      "6445718    efh  1573156616             0         NaN            NaN   \n",
      "6978627    oby   114910555           NaN         NaN            NaN   \n",
      "7509770    yfj  2445641666           NaN         NaN            NaN   \n",
      "9354011    djq    70142270           NaN         NaN            NaN   \n",
      "10231019   gnn    24295753           NaN         NaN            NaN   \n",
      "11050094   fkn  1978992043           NaN         NaN            NaN   \n",
      "11332577   vam  1499931151          1222         NaN            0.0   \n",
      "12987829   tgg   576226470             0         0.0            NaN   \n",
      "13138848   kws   531236295         7bbif         0.0            NaN   \n",
      "13484983   gaj   251905557           NaN         NaN            NaN   \n",
      "\n",
      "         num_hashtags num_urls num_mentions           created_at text  \n",
      "4515945           NaN      NaN          NaN  2019-10-16 23:49:32  NaN  \n",
      "5888215           NaN      NaN          NaN  2019-06-17 09:34:56  NaN  \n",
      "6445718           NaN      NaN          NaN  2020-03-07 04:35:15  NaN  \n",
      "6978627           NaN      NaN          NaN  2020-03-15 03:51:40  NaN  \n",
      "7509770           NaN      NaN          NaN  2019-04-29 23:52:04  NaN  \n",
      "9354011           NaN      0.0          NaN  2020-04-23 12:43:47  NaN  \n",
      "10231019          NaN      NaN          NaN  2020-03-15 15:12:05  NaN  \n",
      "11050094          NaN      NaN          NaN  2020-03-21 23:10:07  NaN  \n",
      "11332577          NaN      1.0          NaN  2020-03-15 14:54:04  NaN  \n",
      "12987829          NaN      NaN          NaN  2018-11-28 13:28:02  NaN  \n",
      "13138848          NaN      NaN          NaN  2019-11-08 14:53:10  NaN  \n",
      "13484983          NaN      NaN          NaN  2020-04-25 17:51:35  NaN  \n",
      "num_hashtags\n",
      "12\n",
      "\n",
      "            id     user_id retweet_count reply_count favorite_count  \\\n",
      "4515945   vada   331806614           NaN         NaN            NaN   \n",
      "5888215    ptb   467116841             0         0.0            0.0   \n",
      "6445718    efh  1573156616             0         NaN            NaN   \n",
      "6978627    oby   114910555           NaN         NaN            NaN   \n",
      "7509770    yfj  2445641666           NaN         NaN            NaN   \n",
      "9354011    djq    70142270           NaN         NaN            NaN   \n",
      "10231019   gnn    24295753           NaN         NaN            NaN   \n",
      "11050094   fkn  1978992043           NaN         NaN            NaN   \n",
      "11332577   vam  1499931151          1222         NaN            0.0   \n",
      "12987829   tgg   576226470             0         0.0            NaN   \n",
      "13138848   kws   531236295         7bbif         0.0            NaN   \n",
      "13484983   gaj   251905557           NaN         NaN            NaN   \n",
      "\n",
      "         num_hashtags num_urls num_mentions           created_at text  \n",
      "4515945           NaN      NaN          NaN  2019-10-16 23:49:32  NaN  \n",
      "5888215           NaN      NaN          NaN  2019-06-17 09:34:56  NaN  \n",
      "6445718           NaN      NaN          NaN  2020-03-07 04:35:15  NaN  \n",
      "6978627           NaN      NaN          NaN  2020-03-15 03:51:40  NaN  \n",
      "7509770           NaN      NaN          NaN  2019-04-29 23:52:04  NaN  \n",
      "9354011           NaN      0.0          NaN  2020-04-23 12:43:47  NaN  \n",
      "10231019          NaN      NaN          NaN  2020-03-15 15:12:05  NaN  \n",
      "11050094          NaN      NaN          NaN  2020-03-21 23:10:07  NaN  \n",
      "11332577          NaN      1.0          NaN  2020-03-15 14:54:04  NaN  \n",
      "12987829          NaN      NaN          NaN  2018-11-28 13:28:02  NaN  \n",
      "13138848          NaN      NaN          NaN  2019-11-08 14:53:10  NaN  \n",
      "13484983          NaN      NaN          NaN  2020-04-25 17:51:35  NaN  \n",
      "num_urls\n",
      "11\n",
      "\n",
      "            id     user_id retweet_count reply_count favorite_count  \\\n",
      "4515945   vada   331806614           NaN         NaN            NaN   \n",
      "5888215    ptb   467116841             0         0.0            0.0   \n",
      "6445718    efh  1573156616             0         NaN            NaN   \n",
      "6978627    oby   114910555           NaN         NaN            NaN   \n",
      "7509770    yfj  2445641666           NaN         NaN            NaN   \n",
      "9354011    djq    70142270           NaN         NaN            NaN   \n",
      "10231019   gnn    24295753           NaN         NaN            NaN   \n",
      "11050094   fkn  1978992043           NaN         NaN            NaN   \n",
      "12987829   tgg   576226470             0         0.0            NaN   \n",
      "13138848   kws   531236295         7bbif         0.0            NaN   \n",
      "13484983   gaj   251905557           NaN         NaN            NaN   \n",
      "\n",
      "         num_hashtags num_urls num_mentions           created_at text  \n",
      "4515945           NaN      NaN          NaN  2019-10-16 23:49:32  NaN  \n",
      "5888215           NaN      NaN          NaN  2019-06-17 09:34:56  NaN  \n",
      "6445718           NaN      NaN          NaN  2020-03-07 04:35:15  NaN  \n",
      "6978627           NaN      NaN          NaN  2020-03-15 03:51:40  NaN  \n",
      "7509770           NaN      NaN          NaN  2019-04-29 23:52:04  NaN  \n",
      "9354011           NaN      0.0          NaN  2020-04-23 12:43:47  NaN  \n",
      "10231019          NaN      NaN          NaN  2020-03-15 15:12:05  NaN  \n",
      "11050094          NaN      NaN          NaN  2020-03-21 23:10:07  NaN  \n",
      "12987829          NaN      NaN          NaN  2018-11-28 13:28:02  NaN  \n",
      "13138848          NaN      NaN          NaN  2019-11-08 14:53:10  NaN  \n",
      "13484983          NaN      NaN          NaN  2020-04-25 17:51:35  NaN  \n",
      "num_mentions\n",
      "12\n",
      "\n",
      "            id     user_id retweet_count reply_count favorite_count  \\\n",
      "4515945   vada   331806614           NaN         NaN            NaN   \n",
      "5888215    ptb   467116841             0         0.0            0.0   \n",
      "6445718    efh  1573156616             0         NaN            NaN   \n",
      "6978627    oby   114910555           NaN         NaN            NaN   \n",
      "7509770    yfj  2445641666           NaN         NaN            NaN   \n",
      "9354011    djq    70142270           NaN         NaN            NaN   \n",
      "10231019   gnn    24295753           NaN         NaN            NaN   \n",
      "11050094   fkn  1978992043           NaN         NaN            NaN   \n",
      "11332577   vam  1499931151          1222         NaN            0.0   \n",
      "12987829   tgg   576226470             0         0.0            NaN   \n",
      "13138848   kws   531236295         7bbif         0.0            NaN   \n",
      "13484983   gaj   251905557           NaN         NaN            NaN   \n",
      "\n",
      "         num_hashtags num_urls num_mentions           created_at text  \n",
      "4515945           NaN      NaN          NaN  2019-10-16 23:49:32  NaN  \n",
      "5888215           NaN      NaN          NaN  2019-06-17 09:34:56  NaN  \n",
      "6445718           NaN      NaN          NaN  2020-03-07 04:35:15  NaN  \n",
      "6978627           NaN      NaN          NaN  2020-03-15 03:51:40  NaN  \n",
      "7509770           NaN      NaN          NaN  2019-04-29 23:52:04  NaN  \n",
      "9354011           NaN      0.0          NaN  2020-04-23 12:43:47  NaN  \n",
      "10231019          NaN      NaN          NaN  2020-03-15 15:12:05  NaN  \n",
      "11050094          NaN      NaN          NaN  2020-03-21 23:10:07  NaN  \n",
      "11332577          NaN      1.0          NaN  2020-03-15 14:54:04  NaN  \n",
      "12987829          NaN      NaN          NaN  2018-11-28 13:28:02  NaN  \n",
      "13138848          NaN      NaN          NaN  2019-11-08 14:53:10  NaN  \n",
      "13484983          NaN      NaN          NaN  2020-04-25 17:51:35  NaN  \n"
     ]
    }
   ],
   "source": [
    "for attr in ['retweet_count','reply_count','favorite_count','num_hashtags','num_urls','num_mentions']:\n",
    "    cazzo = df_tweets_single[df_tweets_single.duplicated(subset=['id', 'user_id', 'text', attr])]\n",
    "    print(attr+'\\n'+str(cazzo.shape[0])+'\\n')\n",
    "    print(cazzo)"
   ]
  },
  {
   "cell_type": "markdown",
   "metadata": {},
   "source": [
    "As this print shows, most of duplicates have missing values. If we exclude `retweet_counts`, the duplicates are the same."
   ]
  },
  {
   "cell_type": "code",
   "execution_count": 38,
   "metadata": {},
   "outputs": [
    {
     "data": {
      "text/plain": "            id     user_id retweet_count reply_count favorite_count  \\\n9354011    djq    70142270           NaN         NaN            NaN   \n7858198    djq    70142270           NaN         NaN            NaN   \n5123152    efh  1573156616          x0c7         NaN            NaN   \n6445718    efh  1573156616             0         NaN            NaN   \n8424121    fkn  1978992043           NaN         NaN            NaN   \n11050094   fkn  1978992043           NaN         NaN            NaN   \n13484983   gaj   251905557           NaN         NaN            NaN   \n13074603   gaj   251905557           NaN         NaN            NaN   \n10231019   gnn    24295753           NaN         NaN            NaN   \n8474665    gnn    24295753           NaN         NaN            NaN   \n11981948   kws   531236295             0         0.0            NaN   \n13138848   kws   531236295         7bbif         0.0            NaN   \n4220539    oby   114910555           NaN         NaN            NaN   \n6978627    oby   114910555           NaN         NaN            NaN   \n5888215    ptb   467116841             0         0.0            0.0   \n2513232    ptb   467116841           NaN         0.0            0.0   \n7478529    tgg   576226470             0         0.0            NaN   \n12987829   tgg   576226470             0         0.0            NaN   \n1181024   vada   331806614             0         NaN            NaN   \n4515945   vada   331806614           NaN         NaN            NaN   \n3000919    yfj  2445641666           NaN         NaN            NaN   \n7509770    yfj  2445641666           NaN         NaN            NaN   \n\n         num_hashtags num_urls num_mentions           created_at text  \n9354011           NaN      0.0          NaN  2020-04-23 12:43:47  NaN  \n7858198           NaN      0.0          NaN  2019-06-27 13:38:06  NaN  \n5123152           NaN      NaN          NaN  2020-03-12 02:12:50  NaN  \n6445718           NaN      NaN          NaN  2020-03-07 04:35:15  NaN  \n8424121           NaN      NaN          NaN  2020-04-03 16:24:47  NaN  \n11050094          NaN      NaN          NaN  2020-03-21 23:10:07  NaN  \n13484983          NaN      NaN          NaN  2020-04-25 17:51:35  NaN  \n13074603          NaN      NaN          NaN  2020-04-04 23:35:19  NaN  \n10231019          NaN      NaN          NaN  2020-03-15 15:12:05  NaN  \n8474665           NaN      NaN          NaN  2020-03-14 00:09:55  NaN  \n11981948          NaN      NaN          NaN  2019-10-25 00:52:55  NaN  \n13138848          NaN      NaN          NaN  2019-11-08 14:53:10  NaN  \n4220539           NaN      NaN          NaN  2020-04-06 21:33:27  NaN  \n6978627           NaN      NaN          NaN  2020-03-15 03:51:40  NaN  \n5888215           NaN      NaN          NaN  2019-06-17 09:34:56  NaN  \n2513232           NaN      NaN          NaN  2019-10-15 21:01:24  NaN  \n7478529           NaN      NaN          NaN  2018-12-14 08:19:54  NaN  \n12987829          NaN      NaN          NaN  2018-11-28 13:28:02  NaN  \n1181024           NaN      NaN          NaN  2019-10-18 12:45:40  NaN  \n4515945           NaN      NaN          NaN  2019-10-16 23:49:32  NaN  \n3000919           NaN      NaN          NaN  2019-06-25 14:00:15  NaN  \n7509770           NaN      NaN          NaN  2019-04-29 23:52:04  NaN  ",
      "text/html": "<div>\n<style scoped>\n    .dataframe tbody tr th:only-of-type {\n        vertical-align: middle;\n    }\n\n    .dataframe tbody tr th {\n        vertical-align: top;\n    }\n\n    .dataframe thead th {\n        text-align: right;\n    }\n</style>\n<table border=\"1\" class=\"dataframe\">\n  <thead>\n    <tr style=\"text-align: right;\">\n      <th></th>\n      <th>id</th>\n      <th>user_id</th>\n      <th>retweet_count</th>\n      <th>reply_count</th>\n      <th>favorite_count</th>\n      <th>num_hashtags</th>\n      <th>num_urls</th>\n      <th>num_mentions</th>\n      <th>created_at</th>\n      <th>text</th>\n    </tr>\n  </thead>\n  <tbody>\n    <tr>\n      <th>9354011</th>\n      <td>djq</td>\n      <td>70142270</td>\n      <td>NaN</td>\n      <td>NaN</td>\n      <td>NaN</td>\n      <td>NaN</td>\n      <td>0.0</td>\n      <td>NaN</td>\n      <td>2020-04-23 12:43:47</td>\n      <td>NaN</td>\n    </tr>\n    <tr>\n      <th>7858198</th>\n      <td>djq</td>\n      <td>70142270</td>\n      <td>NaN</td>\n      <td>NaN</td>\n      <td>NaN</td>\n      <td>NaN</td>\n      <td>0.0</td>\n      <td>NaN</td>\n      <td>2019-06-27 13:38:06</td>\n      <td>NaN</td>\n    </tr>\n    <tr>\n      <th>5123152</th>\n      <td>efh</td>\n      <td>1573156616</td>\n      <td>x0c7</td>\n      <td>NaN</td>\n      <td>NaN</td>\n      <td>NaN</td>\n      <td>NaN</td>\n      <td>NaN</td>\n      <td>2020-03-12 02:12:50</td>\n      <td>NaN</td>\n    </tr>\n    <tr>\n      <th>6445718</th>\n      <td>efh</td>\n      <td>1573156616</td>\n      <td>0</td>\n      <td>NaN</td>\n      <td>NaN</td>\n      <td>NaN</td>\n      <td>NaN</td>\n      <td>NaN</td>\n      <td>2020-03-07 04:35:15</td>\n      <td>NaN</td>\n    </tr>\n    <tr>\n      <th>8424121</th>\n      <td>fkn</td>\n      <td>1978992043</td>\n      <td>NaN</td>\n      <td>NaN</td>\n      <td>NaN</td>\n      <td>NaN</td>\n      <td>NaN</td>\n      <td>NaN</td>\n      <td>2020-04-03 16:24:47</td>\n      <td>NaN</td>\n    </tr>\n    <tr>\n      <th>11050094</th>\n      <td>fkn</td>\n      <td>1978992043</td>\n      <td>NaN</td>\n      <td>NaN</td>\n      <td>NaN</td>\n      <td>NaN</td>\n      <td>NaN</td>\n      <td>NaN</td>\n      <td>2020-03-21 23:10:07</td>\n      <td>NaN</td>\n    </tr>\n    <tr>\n      <th>13484983</th>\n      <td>gaj</td>\n      <td>251905557</td>\n      <td>NaN</td>\n      <td>NaN</td>\n      <td>NaN</td>\n      <td>NaN</td>\n      <td>NaN</td>\n      <td>NaN</td>\n      <td>2020-04-25 17:51:35</td>\n      <td>NaN</td>\n    </tr>\n    <tr>\n      <th>13074603</th>\n      <td>gaj</td>\n      <td>251905557</td>\n      <td>NaN</td>\n      <td>NaN</td>\n      <td>NaN</td>\n      <td>NaN</td>\n      <td>NaN</td>\n      <td>NaN</td>\n      <td>2020-04-04 23:35:19</td>\n      <td>NaN</td>\n    </tr>\n    <tr>\n      <th>10231019</th>\n      <td>gnn</td>\n      <td>24295753</td>\n      <td>NaN</td>\n      <td>NaN</td>\n      <td>NaN</td>\n      <td>NaN</td>\n      <td>NaN</td>\n      <td>NaN</td>\n      <td>2020-03-15 15:12:05</td>\n      <td>NaN</td>\n    </tr>\n    <tr>\n      <th>8474665</th>\n      <td>gnn</td>\n      <td>24295753</td>\n      <td>NaN</td>\n      <td>NaN</td>\n      <td>NaN</td>\n      <td>NaN</td>\n      <td>NaN</td>\n      <td>NaN</td>\n      <td>2020-03-14 00:09:55</td>\n      <td>NaN</td>\n    </tr>\n    <tr>\n      <th>11981948</th>\n      <td>kws</td>\n      <td>531236295</td>\n      <td>0</td>\n      <td>0.0</td>\n      <td>NaN</td>\n      <td>NaN</td>\n      <td>NaN</td>\n      <td>NaN</td>\n      <td>2019-10-25 00:52:55</td>\n      <td>NaN</td>\n    </tr>\n    <tr>\n      <th>13138848</th>\n      <td>kws</td>\n      <td>531236295</td>\n      <td>7bbif</td>\n      <td>0.0</td>\n      <td>NaN</td>\n      <td>NaN</td>\n      <td>NaN</td>\n      <td>NaN</td>\n      <td>2019-11-08 14:53:10</td>\n      <td>NaN</td>\n    </tr>\n    <tr>\n      <th>4220539</th>\n      <td>oby</td>\n      <td>114910555</td>\n      <td>NaN</td>\n      <td>NaN</td>\n      <td>NaN</td>\n      <td>NaN</td>\n      <td>NaN</td>\n      <td>NaN</td>\n      <td>2020-04-06 21:33:27</td>\n      <td>NaN</td>\n    </tr>\n    <tr>\n      <th>6978627</th>\n      <td>oby</td>\n      <td>114910555</td>\n      <td>NaN</td>\n      <td>NaN</td>\n      <td>NaN</td>\n      <td>NaN</td>\n      <td>NaN</td>\n      <td>NaN</td>\n      <td>2020-03-15 03:51:40</td>\n      <td>NaN</td>\n    </tr>\n    <tr>\n      <th>5888215</th>\n      <td>ptb</td>\n      <td>467116841</td>\n      <td>0</td>\n      <td>0.0</td>\n      <td>0.0</td>\n      <td>NaN</td>\n      <td>NaN</td>\n      <td>NaN</td>\n      <td>2019-06-17 09:34:56</td>\n      <td>NaN</td>\n    </tr>\n    <tr>\n      <th>2513232</th>\n      <td>ptb</td>\n      <td>467116841</td>\n      <td>NaN</td>\n      <td>0.0</td>\n      <td>0.0</td>\n      <td>NaN</td>\n      <td>NaN</td>\n      <td>NaN</td>\n      <td>2019-10-15 21:01:24</td>\n      <td>NaN</td>\n    </tr>\n    <tr>\n      <th>7478529</th>\n      <td>tgg</td>\n      <td>576226470</td>\n      <td>0</td>\n      <td>0.0</td>\n      <td>NaN</td>\n      <td>NaN</td>\n      <td>NaN</td>\n      <td>NaN</td>\n      <td>2018-12-14 08:19:54</td>\n      <td>NaN</td>\n    </tr>\n    <tr>\n      <th>12987829</th>\n      <td>tgg</td>\n      <td>576226470</td>\n      <td>0</td>\n      <td>0.0</td>\n      <td>NaN</td>\n      <td>NaN</td>\n      <td>NaN</td>\n      <td>NaN</td>\n      <td>2018-11-28 13:28:02</td>\n      <td>NaN</td>\n    </tr>\n    <tr>\n      <th>1181024</th>\n      <td>vada</td>\n      <td>331806614</td>\n      <td>0</td>\n      <td>NaN</td>\n      <td>NaN</td>\n      <td>NaN</td>\n      <td>NaN</td>\n      <td>NaN</td>\n      <td>2019-10-18 12:45:40</td>\n      <td>NaN</td>\n    </tr>\n    <tr>\n      <th>4515945</th>\n      <td>vada</td>\n      <td>331806614</td>\n      <td>NaN</td>\n      <td>NaN</td>\n      <td>NaN</td>\n      <td>NaN</td>\n      <td>NaN</td>\n      <td>NaN</td>\n      <td>2019-10-16 23:49:32</td>\n      <td>NaN</td>\n    </tr>\n    <tr>\n      <th>3000919</th>\n      <td>yfj</td>\n      <td>2445641666</td>\n      <td>NaN</td>\n      <td>NaN</td>\n      <td>NaN</td>\n      <td>NaN</td>\n      <td>NaN</td>\n      <td>NaN</td>\n      <td>2019-06-25 14:00:15</td>\n      <td>NaN</td>\n    </tr>\n    <tr>\n      <th>7509770</th>\n      <td>yfj</td>\n      <td>2445641666</td>\n      <td>NaN</td>\n      <td>NaN</td>\n      <td>NaN</td>\n      <td>NaN</td>\n      <td>NaN</td>\n      <td>NaN</td>\n      <td>2019-04-29 23:52:04</td>\n      <td>NaN</td>\n    </tr>\n  </tbody>\n</table>\n</div>"
     },
     "execution_count": 38,
     "metadata": {},
     "output_type": "execute_result"
    }
   ],
   "source": [
    "df_tweets_single[df_tweets_single.duplicated(subset=['id', 'user_id', 'text', 'reply_count','favorite_count','num_hashtags','num_urls','num_mentions'], keep=False)].sort_values(by='id')"
   ]
  },
  {
   "cell_type": "code",
   "execution_count": 39,
   "outputs": [],
   "source": [
    "df_tweets_single.to_csv(sep = '#', path_or_buf = DATA_PATH+'tweets_no_dupl.csv', index = False)"
   ],
   "metadata": {
    "collapsed": false
   }
  },
  {
   "cell_type": "markdown",
   "source": [
    "From now on we assume that the records in the dataset are not duplcated."
   ],
   "metadata": {
    "collapsed": false
   }
  }
 ],
 "metadata": {
  "colab": {
   "collapsed_sections": [],
   "provenance": []
  },
  "kernelspec": {
   "display_name": "Python 3 (ipykernel)",
   "language": "python",
   "name": "python3"
  },
  "language_info": {
   "codemirror_mode": {
    "name": "ipython",
    "version": 3
   },
   "file_extension": ".py",
   "mimetype": "text/x-python",
   "name": "python",
   "nbconvert_exporter": "python",
   "pygments_lexer": "ipython3",
   "version": "3.10.4"
  }
 },
 "nbformat": 4,
 "nbformat_minor": 1
}
