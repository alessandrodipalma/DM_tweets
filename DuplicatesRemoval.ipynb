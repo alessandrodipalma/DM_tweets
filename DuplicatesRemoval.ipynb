{
 "cells": [
  {
   "cell_type": "code",
   "execution_count": 1,
   "metadata": {
    "executionInfo": {
     "elapsed": 19,
     "status": "ok",
     "timestamp": 1665240391302,
     "user": {
      "displayName": "ALESSANDRO DIPALMA",
      "userId": "15827404338341614451"
     },
     "user_tz": -120
    },
    "id": "5oCty9ReHZOd"
   },
   "outputs": [],
   "source": [
    "import pandas as pd\n",
    "from utilities import to_float\n",
    "import numpy as np"
   ]
  },
  {
   "cell_type": "code",
   "execution_count": 2,
   "outputs": [],
   "source": [
    "DATA_PATH = 'G:/Shared drives/DM_tweets/data/'"
   ],
   "metadata": {
    "collapsed": false
   }
  },
  {
   "cell_type": "code",
   "execution_count": 3,
   "metadata": {
    "colab": {
     "base_uri": "https://localhost:8080/"
    },
    "executionInfo": {
     "elapsed": 94974,
     "status": "ok",
     "timestamp": 1665240486261,
     "user": {
      "displayName": "ALESSANDRO DIPALMA",
      "userId": "15827404338341614451"
     },
     "user_tz": -120
    },
    "id": "UTjV9Hkmc7OI",
    "outputId": "44aa4fcc-7776-4a21-f8e0-db83f7f8c316"
   },
   "outputs": [],
   "source": [
    "df_tweets = pd.read_csv(DATA_PATH + 'tweets.csv')"
   ]
  },
  {
   "cell_type": "code",
   "execution_count": 4,
   "metadata": {},
   "outputs": [],
   "source": [
    "df_users = pd.read_csv(DATA_PATH + 'users.csv')"
   ]
  },
  {
   "cell_type": "code",
   "execution_count": 5,
   "metadata": {
    "colab": {
     "base_uri": "https://localhost:8080/",
     "height": 206
    },
    "executionInfo": {
     "elapsed": 53,
     "status": "ok",
     "timestamp": 1665240486264,
     "user": {
      "displayName": "ALESSANDRO DIPALMA",
      "userId": "15827404338341614451"
     },
     "user_tz": -120
    },
    "id": "NP_Jn2WOd21-",
    "outputId": "a0dc8edf-24d7-4ecc-8d60-c6f001f6f0ca"
   },
   "outputs": [
    {
     "data": {
      "text/plain": "           id              name lang  bot           created_at  statuses_count\n0  2353593986   Lamonica Raborn   en    1  2019-02-22 18:00:42            76.0\n1  2358850842     Lourie Botton   en    0  2019-02-26 03:02:32            54.0\n2   137959629  Dadan Syarifudin   en    1  2015-04-30 07:09:56             3.0\n3   466124818    Carletto Focia   it    1  2017-01-18 02:49:18            50.0\n4  2571493866         MBK Ebook   en    0  2019-06-18 19:30:21          7085.0",
      "text/html": "<div>\n<style scoped>\n    .dataframe tbody tr th:only-of-type {\n        vertical-align: middle;\n    }\n\n    .dataframe tbody tr th {\n        vertical-align: top;\n    }\n\n    .dataframe thead th {\n        text-align: right;\n    }\n</style>\n<table border=\"1\" class=\"dataframe\">\n  <thead>\n    <tr style=\"text-align: right;\">\n      <th></th>\n      <th>id</th>\n      <th>name</th>\n      <th>lang</th>\n      <th>bot</th>\n      <th>created_at</th>\n      <th>statuses_count</th>\n    </tr>\n  </thead>\n  <tbody>\n    <tr>\n      <th>0</th>\n      <td>2353593986</td>\n      <td>Lamonica Raborn</td>\n      <td>en</td>\n      <td>1</td>\n      <td>2019-02-22 18:00:42</td>\n      <td>76.0</td>\n    </tr>\n    <tr>\n      <th>1</th>\n      <td>2358850842</td>\n      <td>Lourie Botton</td>\n      <td>en</td>\n      <td>0</td>\n      <td>2019-02-26 03:02:32</td>\n      <td>54.0</td>\n    </tr>\n    <tr>\n      <th>2</th>\n      <td>137959629</td>\n      <td>Dadan Syarifudin</td>\n      <td>en</td>\n      <td>1</td>\n      <td>2015-04-30 07:09:56</td>\n      <td>3.0</td>\n    </tr>\n    <tr>\n      <th>3</th>\n      <td>466124818</td>\n      <td>Carletto Focia</td>\n      <td>it</td>\n      <td>1</td>\n      <td>2017-01-18 02:49:18</td>\n      <td>50.0</td>\n    </tr>\n    <tr>\n      <th>4</th>\n      <td>2571493866</td>\n      <td>MBK Ebook</td>\n      <td>en</td>\n      <td>0</td>\n      <td>2019-06-18 19:30:21</td>\n      <td>7085.0</td>\n    </tr>\n  </tbody>\n</table>\n</div>"
     },
     "execution_count": 5,
     "metadata": {},
     "output_type": "execute_result"
    }
   ],
   "source": [
    "df_users.head()"
   ]
  },
  {
   "cell_type": "code",
   "execution_count": 6,
   "metadata": {
    "colab": {
     "base_uri": "https://localhost:8080/"
    },
    "executionInfo": {
     "elapsed": 48,
     "status": "ok",
     "timestamp": 1665240486266,
     "user": {
      "displayName": "ALESSANDRO DIPALMA",
      "userId": "15827404338341614451"
     },
     "user_tz": -120
    },
    "id": "4z_xApMQfk0A",
    "outputId": "e95fdcef-1ca4-4e15-b719-9a0c7b80de86"
   },
   "outputs": [
    {
     "name": "stdout",
     "output_type": "stream",
     "text": [
      "<class 'pandas.core.frame.DataFrame'>\n",
      "RangeIndex: 11508 entries, 0 to 11507\n",
      "Data columns (total 6 columns):\n",
      " #   Column          Non-Null Count  Dtype  \n",
      "---  ------          --------------  -----  \n",
      " 0   id              11508 non-null  int64  \n",
      " 1   name            11507 non-null  object \n",
      " 2   lang            11508 non-null  object \n",
      " 3   bot             11508 non-null  int64  \n",
      " 4   created_at      11508 non-null  object \n",
      " 5   statuses_count  11109 non-null  float64\n",
      "dtypes: float64(1), int64(2), object(3)\n",
      "memory usage: 539.6+ KB\n"
     ]
    }
   ],
   "source": [
    "df_users.info()"
   ]
  },
  {
   "cell_type": "markdown",
   "metadata": {},
   "source": [
    "Check if any user record has a null value in it\n",
    "Extract only record with a null name (id = 1535)"
   ]
  },
  {
   "cell_type": "code",
   "execution_count": 7,
   "metadata": {
    "colab": {
     "base_uri": "https://localhost:8080/",
     "height": 81
    },
    "executionInfo": {
     "elapsed": 43,
     "status": "ok",
     "timestamp": 1665240486267,
     "user": {
      "displayName": "ALESSANDRO DIPALMA",
      "userId": "15827404338341614451"
     },
     "user_tz": -120
    },
    "id": "2zF4wF2vfmmH",
    "outputId": "a796ccb3-662f-40a2-c945-36436fccb572"
   },
   "outputs": [
    {
     "data": {
      "text/plain": "              id name lang  bot           created_at  statuses_count\n1535  2166124159  NaN   en    0  2018-11-02 06:39:14          6566.0",
      "text/html": "<div>\n<style scoped>\n    .dataframe tbody tr th:only-of-type {\n        vertical-align: middle;\n    }\n\n    .dataframe tbody tr th {\n        vertical-align: top;\n    }\n\n    .dataframe thead th {\n        text-align: right;\n    }\n</style>\n<table border=\"1\" class=\"dataframe\">\n  <thead>\n    <tr style=\"text-align: right;\">\n      <th></th>\n      <th>id</th>\n      <th>name</th>\n      <th>lang</th>\n      <th>bot</th>\n      <th>created_at</th>\n      <th>statuses_count</th>\n    </tr>\n  </thead>\n  <tbody>\n    <tr>\n      <th>1535</th>\n      <td>2166124159</td>\n      <td>NaN</td>\n      <td>en</td>\n      <td>0</td>\n      <td>2018-11-02 06:39:14</td>\n      <td>6566.0</td>\n    </tr>\n  </tbody>\n</table>\n</div>"
     },
     "execution_count": 7,
     "metadata": {},
     "output_type": "execute_result"
    }
   ],
   "source": [
    "df_null = df_users.isnull()\n",
    "idx_null = df_users.index[df_null[\"name\"] == True].tolist()\n",
    "df_users.iloc[idx_null]"
   ]
  },
  {
   "cell_type": "code",
   "execution_count": 8,
   "metadata": {
    "colab": {
     "base_uri": "https://localhost:8080/"
    },
    "executionInfo": {
     "elapsed": 6960,
     "status": "ok",
     "timestamp": 1665240493189,
     "user": {
      "displayName": "ALESSANDRO DIPALMA",
      "userId": "15827404338341614451"
     },
     "user_tz": -120
    },
    "id": "bZfdvzMejsEe",
    "outputId": "2358873b-fa51-4ca4-e0ed-6b065be11546"
   },
   "outputs": [
    {
     "name": "stderr",
     "output_type": "stream",
     "text": [
      "C:\\Users\\al\\AppData\\Local\\Temp\\ipykernel_24528\\3419106329.py:1: FutureWarning: null_counts is deprecated. Use show_counts instead\n",
      "  df_tweets.info(null_counts=True)\n"
     ]
    },
    {
     "name": "stdout",
     "output_type": "stream",
     "text": [
      "<class 'pandas.core.frame.DataFrame'>\n",
      "RangeIndex: 13664696 entries, 0 to 13664695\n",
      "Data columns (total 10 columns):\n",
      " #   Column          Non-Null Count     Dtype \n",
      "---  ------          --------------     ----- \n",
      " 0   id              13664694 non-null  object\n",
      " 1   user_id         13447413 non-null  object\n",
      " 2   retweet_count   13227562 non-null  object\n",
      " 3   reply_count     13016818 non-null  object\n",
      " 4   favorite_count  13017154 non-null  object\n",
      " 5   num_hashtags    12607172 non-null  object\n",
      " 6   num_urls        13016073 non-null  object\n",
      " 7   num_mentions    12810531 non-null  object\n",
      " 8   created_at      13664696 non-null  object\n",
      " 9   text            13126975 non-null  object\n",
      "dtypes: object(10)\n",
      "memory usage: 1.0+ GB\n"
     ]
    }
   ],
   "source": [
    "df_tweets.info(null_counts=True)"
   ]
  },
  {
   "cell_type": "code",
   "execution_count": 9,
   "metadata": {
    "colab": {
     "base_uri": "https://localhost:8080/"
    },
    "executionInfo": {
     "elapsed": 14,
     "status": "ok",
     "timestamp": 1665240493189,
     "user": {
      "displayName": "ALESSANDRO DIPALMA",
      "userId": "15827404338341614451"
     },
     "user_tz": -120
    },
    "id": "AtL8X7Furq0Z",
    "outputId": "1b51e155-6f83-43ca-d51a-0cb5b952f5c6"
   },
   "outputs": [
    {
     "data": {
      "text/plain": "136646960"
     },
     "execution_count": 9,
     "metadata": {},
     "output_type": "execute_result"
    }
   ],
   "source": [
    "df_tweets.size"
   ]
  },
  {
   "cell_type": "markdown",
   "metadata": {},
   "source": [
    "## Verifica esistenza record duplicati"
   ]
  },
  {
   "cell_type": "code",
   "execution_count": 10,
   "metadata": {
    "colab": {
     "base_uri": "https://localhost:8080/"
    },
    "executionInfo": {
     "elapsed": 66058,
     "status": "ok",
     "timestamp": 1665240559240,
     "user": {
      "displayName": "ALESSANDRO DIPALMA",
      "userId": "15827404338341614451"
     },
     "user_tz": -120
    },
    "id": "-3ywwV6CoQ1V",
    "outputId": "e3daccc7-e3b6-4dfb-86ae-1f0bf9101419"
   },
   "outputs": [
    {
     "data": {
      "text/plain": "False    11712597\nTrue      1952099\ndtype: int64"
     },
     "execution_count": 10,
     "metadata": {},
     "output_type": "execute_result"
    }
   ],
   "source": [
    "df_tweets.duplicated().value_counts()"
   ]
  },
  {
   "cell_type": "markdown",
   "metadata": {},
   "source": [
    "## 1.1 Drop duplicates over all columns\n",
    "First, we drop the duplicates by all attributes"
   ]
  },
  {
   "cell_type": "code",
   "execution_count": 11,
   "metadata": {
    "colab": {
     "base_uri": "https://localhost:8080/"
    },
    "executionInfo": {
     "elapsed": 60601,
     "status": "ok",
     "timestamp": 1665240620325,
     "user": {
      "displayName": "ALESSANDRO DIPALMA",
      "userId": "15827404338341614451"
     },
     "user_tz": -120
    },
    "id": "jeE9lroMqmTv",
    "outputId": "a1a0f82e-94df-4484-cab2-718d8257f05c"
   },
   "outputs": [
    {
     "data": {
      "text/plain": "False    11712597\ndtype: int64"
     },
     "execution_count": 11,
     "metadata": {},
     "output_type": "execute_result"
    }
   ],
   "source": [
    "df_tweets = df_tweets.drop_duplicates(keep='first')\n",
    "df_tweets.duplicated().value_counts()"
   ]
  },
  {
   "cell_type": "code",
   "execution_count": 12,
   "metadata": {
    "colab": {
     "base_uri": "https://localhost:8080/"
    },
    "executionInfo": {
     "elapsed": 1065,
     "status": "ok",
     "timestamp": 1665240626597,
     "user": {
      "displayName": "ALESSANDRO DIPALMA",
      "userId": "15827404338341614451"
     },
     "user_tz": -120
    },
    "id": "PO_ZZg6ylV1Y",
    "outputId": "2503f2ac-9e73-4d97-d8e9-70172f5b8c02"
   },
   "outputs": [
    {
     "name": "stdout",
     "output_type": "stream",
     "text": [
      "<class 'pandas.core.frame.DataFrame'>\n",
      "Int64Index: 11712597 entries, 0 to 13664695\n",
      "Data columns (total 10 columns):\n",
      " #   Column          Non-Null Count     Dtype \n",
      "---  ------          --------------     ----- \n",
      " 0   id              11712595 non-null  object\n",
      " 1   user_id         11495314 non-null  object\n",
      " 2   retweet_count   11275463 non-null  object\n",
      " 3   reply_count     11064719 non-null  object\n",
      " 4   favorite_count  11065055 non-null  object\n",
      " 5   num_hashtags    10655073 non-null  object\n",
      " 6   num_urls        11063974 non-null  object\n",
      " 7   num_mentions    10858432 non-null  object\n",
      " 8   created_at      11712597 non-null  object\n",
      " 9   text            11182415 non-null  object\n",
      "dtypes: object(10)\n",
      "memory usage: 983.0+ MB\n"
     ]
    }
   ],
   "source": [
    "df_tweets.info(show_counts=True)"
   ]
  },
  {
   "cell_type": "markdown",
   "source": [
    "## File checkpoint"
   ],
   "metadata": {
    "collapsed": false
   },
   "execution_count": 256
  },
  {
   "cell_type": "code",
   "execution_count": 13,
   "outputs": [],
   "source": [
    "df_tweets.to_csv(path_or_buf=DATA_PATH + 'tweets_no_dupl_1.1.csv', sep='#', index=False)"
   ],
   "metadata": {
    "collapsed": false
   }
  },
  {
   "cell_type": "code",
   "execution_count": 14,
   "outputs": [],
   "source": [
    "df_tweets = pd.read_csv(DATA_PATH + 'tweets_no_dupl_1.1.csv', sep='#')"
   ],
   "metadata": {
    "collapsed": false
   }
  },
  {
   "cell_type": "markdown",
   "metadata": {},
   "source": [
    "# Verifica di duplicati su un sottoinsieme di colonne"
   ]
  },
  {
   "cell_type": "markdown",
   "source": [
    "### ID\n",
    "The are a considerable amount of tweets with same id, but we can't consider them duplicates since the id has no semantic that we can check."
   ],
   "metadata": {
    "collapsed": false
   }
  },
  {
   "cell_type": "code",
   "execution_count": 15,
   "metadata": {
    "colab": {
     "base_uri": "https://localhost:8080/"
    },
    "executionInfo": {
     "elapsed": 11694,
     "status": "ok",
     "timestamp": 1665240638287,
     "user": {
      "displayName": "ALESSANDRO DIPALMA",
      "userId": "15827404338341614451"
     },
     "user_tz": -120
    },
    "id": "E5Ogiw_7uTO7",
    "outputId": "aa238a0e-39af-4f97-88ca-863027fc5b36"
   },
   "outputs": [
    {
     "data": {
      "text/plain": "False    11672136\nTrue        40461\ndtype: int64"
     },
     "execution_count": 15,
     "metadata": {},
     "output_type": "execute_result"
    }
   ],
   "source": [
    "df_tweets.duplicated(subset=['id']).value_counts()"
   ]
  },
  {
   "cell_type": "code",
   "execution_count": 16,
   "metadata": {
    "colab": {
     "base_uri": "https://localhost:8080/"
    },
    "executionInfo": {
     "elapsed": 14542,
     "status": "ok",
     "timestamp": 1665240652821,
     "user": {
      "displayName": "ALESSANDRO DIPALMA",
      "userId": "15827404338341614451"
     },
     "user_tz": -120
    },
    "id": "v-X0Cv1au95m",
    "outputId": "d8463b34-e56e-40a7-f71e-b86614f49e20"
   },
   "outputs": [
    {
     "data": {
      "text/plain": "False    11712237\nTrue          360\ndtype: int64"
     },
     "execution_count": 16,
     "metadata": {},
     "output_type": "execute_result"
    }
   ],
   "source": [
    "df_tweets.duplicated(subset=['id', 'user_id']).value_counts()"
   ]
  },
  {
   "cell_type": "code",
   "execution_count": 17,
   "metadata": {
    "colab": {
     "base_uri": "https://localhost:8080/"
    },
    "executionInfo": {
     "elapsed": 17433,
     "status": "ok",
     "timestamp": 1665240681096,
     "user": {
      "displayName": "ALESSANDRO DIPALMA",
      "userId": "15827404338341614451"
     },
     "user_tz": -120
    },
    "id": "6MwOboRjwcR5",
    "outputId": "2d5ae4f1-9195-4d07-e997-b231c2630655"
   },
   "outputs": [
    {
     "data": {
      "text/plain": "False    11712336\nTrue          261\ndtype: int64"
     },
     "execution_count": 17,
     "metadata": {},
     "output_type": "execute_result"
    }
   ],
   "source": [
    "df_tweets.duplicated(subset=['id', 'user_id', 'text']).value_counts()"
   ]
  },
  {
   "cell_type": "code",
   "execution_count": 18,
   "outputs": [
    {
     "data": {
      "text/plain": "False    11712597\ndtype: int64"
     },
     "execution_count": 18,
     "metadata": {},
     "output_type": "execute_result"
    }
   ],
   "source": [
    "df_tweets.duplicated(subset=['id', 'user_id', 'created_at', 'text']).value_counts()"
   ],
   "metadata": {
    "collapsed": false
   }
  },
  {
   "cell_type": "markdown",
   "source": [
    "# 1.2 ['user_id', 'text','created_at']\n",
    "Considering the triple  `['user_id', 'text','created_at']`, we can see that about 10% of the data consists in duplicated records and we are not able to detect them if we include the `id` value in the duplicate definition."
   ],
   "metadata": {
    "collapsed": false
   }
  },
  {
   "cell_type": "code",
   "execution_count": 21,
   "outputs": [
    {
     "name": "stdout",
     "output_type": "stream",
     "text": [
      "<class 'pandas.core.frame.DataFrame'>\n",
      "Int64Index: 2094454 entries, 6 to 11712592\n",
      "Data columns (total 10 columns):\n",
      " #   Column          Non-Null Count    Dtype \n",
      "---  ------          --------------    ----- \n",
      " 0   id              2094454 non-null  object\n",
      " 1   user_id         2094281 non-null  object\n",
      " 2   retweet_count   1798521 non-null  object\n",
      " 3   reply_count     1798239 non-null  object\n",
      " 4   favorite_count  1646696 non-null  object\n",
      " 5   num_hashtags    1644691 non-null  object\n",
      " 6   num_urls        1797710 non-null  object\n",
      " 7   num_mentions    1797322 non-null  object\n",
      " 8   created_at      2094454 non-null  object\n",
      " 9   text            2082549 non-null  object\n",
      "dtypes: object(10)\n",
      "memory usage: 175.8+ MB\n"
     ]
    }
   ],
   "source": [
    "duplicates_bool = df_tweets.duplicated(subset=['user_id', 'text', 'created_at'], keep=False)\n",
    "df_tweets[duplicates_bool].info(show_counts=True)"
   ],
   "metadata": {
    "collapsed": false
   }
  },
  {
   "cell_type": "markdown",
   "source": [
    "We can observe that the other columns of these duplicates have a considerable amount of null values. In order to keep the correct values, we proceed by performing a merge of the copies, keeping the non null value.\n",
    "We first convert the counts and nums to numeric type, setting to -1 the meaningless values.\n",
    "Then, the merge will proceed by taking the max over the duplicates."
   ],
   "metadata": {
    "collapsed": false
   }
  },
  {
   "cell_type": "code",
   "execution_count": 22,
   "outputs": [],
   "source": [
    "for attr in ['retweet_count', 'reply_count', 'favorite_count', 'num_hashtags', 'num_urls', 'num_mentions', 'user_id']:\n",
    "    df_tweets[attr + '_conv'] = df_tweets[attr].apply(to_float)\n",
    "\n",
    "# recreate the index column for the groupby\n",
    "df_tweets = df_tweets.reset_index()\n",
    "df_tweets.index = df_tweets['index']"
   ],
   "metadata": {
    "collapsed": false
   }
  },
  {
   "cell_type": "code",
   "execution_count": 23,
   "outputs": [],
   "source": [
    "aggregated = df_tweets[duplicates_bool].groupby(['user_id', 'text', 'created_at']).agg(\n",
    "    {'retweet_count_conv': max, 'reply_count_conv': max, 'favorite_count_conv': max,\n",
    "     'num_hashtags_conv': max, 'num_urls_conv': max, 'num_mentions_conv': max,\n",
    "     'id': tuple, 'index': min}).reset_index()"
   ],
   "metadata": {
    "collapsed": false
   }
  },
  {
   "cell_type": "code",
   "execution_count": 24,
   "outputs": [],
   "source": [
    "aggregated.index = aggregated['index']"
   ],
   "metadata": {
    "collapsed": false
   }
  },
  {
   "cell_type": "code",
   "execution_count": 25,
   "outputs": [],
   "source": [
    "attributes = ['retweet_count_conv', 'reply_count_conv', 'favorite_count_conv', 'num_hashtags_conv', 'num_mentions_conv',\n",
    "              'num_urls_conv']\n",
    "df_tweets.loc[aggregated.index, attributes] = aggregated[attributes]"
   ],
   "metadata": {
    "collapsed": false
   }
  },
  {
   "cell_type": "code",
   "execution_count": 26,
   "outputs": [
    {
     "name": "stdout",
     "output_type": "stream",
     "text": [
      "<class 'pandas.core.frame.DataFrame'>\n",
      "Int64Index: 2094454 entries, 6 to 11712592\n",
      "Data columns (total 18 columns):\n",
      " #   Column               Non-Null Count    Dtype  \n",
      "---  ------               --------------    -----  \n",
      " 0   index                2094454 non-null  int64  \n",
      " 1   id                   2094454 non-null  object \n",
      " 2   user_id              2094281 non-null  object \n",
      " 3   retweet_count        1798521 non-null  object \n",
      " 4   reply_count          1798239 non-null  object \n",
      " 5   favorite_count       1646696 non-null  object \n",
      " 6   num_hashtags         1644691 non-null  object \n",
      " 7   num_urls             1797710 non-null  object \n",
      " 8   num_mentions         1797322 non-null  object \n",
      " 9   created_at           2094454 non-null  object \n",
      " 10  text                 2082549 non-null  object \n",
      " 11  retweet_count_conv   1873818 non-null  float64\n",
      " 12  reply_count_conv     1873331 non-null  float64\n",
      " 13  favorite_count_conv  1805259 non-null  float64\n",
      " 14  num_hashtags_conv    1804061 non-null  float64\n",
      " 15  num_urls_conv        1873681 non-null  float64\n",
      " 16  num_mentions_conv    1872982 non-null  float64\n",
      " 17  user_id_conv         2094454 non-null  float64\n",
      "dtypes: float64(7), int64(1), object(10)\n",
      "memory usage: 303.6+ MB\n"
     ]
    }
   ],
   "source": [
    "# reset the -1 to NaN to check how many null values have been removed\n",
    "for a in attributes:\n",
    "    df_tweets[a] = df_tweets[a].replace(-1, np.NaN)\n",
    "\n",
    "df_tweets[duplicates_bool].info(show_counts=True)"
   ],
   "metadata": {
    "collapsed": false
   }
  },
  {
   "cell_type": "code",
   "execution_count": 28,
   "outputs": [],
   "source": [
    "df_tweets.drop_duplicates(['user_id', 'text', 'created_at'], inplace=True)"
   ],
   "metadata": {
    "collapsed": false
   }
  },
  {
   "cell_type": "code",
   "execution_count": 29,
   "outputs": [
    {
     "name": "stdout",
     "output_type": "stream",
     "text": [
      "<class 'pandas.core.frame.DataFrame'>\n",
      "Int64Index: 1041126 entries, 6 to 11699854\n",
      "Data columns (total 18 columns):\n",
      " #   Column               Non-Null Count    Dtype  \n",
      "---  ------               --------------    -----  \n",
      " 0   index                1041126 non-null  int64  \n",
      " 1   id                   1041126 non-null  object \n",
      " 2   user_id              1041126 non-null  object \n",
      " 3   retweet_count        903874 non-null   object \n",
      " 4   reply_count          903763 non-null   object \n",
      " 5   favorite_count       832944 non-null   object \n",
      " 6   num_hashtags         832871 non-null   object \n",
      " 7   num_urls             903390 non-null   object \n",
      " 8   num_mentions         903277 non-null   object \n",
      " 9   created_at           1041126 non-null  object \n",
      " 10  text                 1041126 non-null  object \n",
      " 11  retweet_count_conv   1041126 non-null  float64\n",
      " 12  reply_count_conv     1041126 non-null  float64\n",
      " 13  favorite_count_conv  1041126 non-null  float64\n",
      " 14  num_hashtags_conv    1041126 non-null  float64\n",
      " 15  num_urls_conv        1041126 non-null  float64\n",
      " 16  num_mentions_conv    1041126 non-null  float64\n",
      " 17  user_id_conv         1041126 non-null  float64\n",
      "dtypes: float64(7), int64(1), object(10)\n",
      "memory usage: 150.9+ MB\n"
     ]
    }
   ],
   "source": [
    "# check that the non nan copies have been kept\n",
    "df_tweets[df_tweets.index.isin(aggregated.index)].info(show_counts=True)"
   ],
   "metadata": {
    "collapsed": false
   }
  },
  {
   "cell_type": "markdown",
   "source": [
    "Everything seems fine, so we rename the 'conv' columns to the original name and drop the uncleaned ones."
   ],
   "metadata": {
    "collapsed": false
   }
  },
  {
   "cell_type": "code",
   "execution_count": 30,
   "outputs": [],
   "source": [
    "dropped = df_tweets.drop(\n",
    "    columns=['retweet_count', 'reply_count', 'favorite_count', 'num_hashtags', 'num_urls', 'num_mentions', 'index'])"
   ],
   "metadata": {
    "collapsed": false
   }
  },
  {
   "cell_type": "code",
   "execution_count": 34,
   "outputs": [],
   "source": [
    "df_tweets = dropped.rename(columns={'retweet_count_conv': 'retweet_count',\n",
    "                                    'reply_count_conv': 'reply_count',\n",
    "                                    'favorite_count_conv': 'favorite_count',\n",
    "                                    'num_hashtags_conv': 'num_hashtags',\n",
    "                                    'num_urls_conv': 'num_urls',\n",
    "                                    'num_mentions_conv': 'num_mentions'})"
   ],
   "metadata": {
    "collapsed": false
   }
  },
  {
   "cell_type": "code",
   "execution_count": 32,
   "outputs": [],
   "source": [
    "df_tweets = df_tweets.reset_index()\n",
    "df_tweets = df_tweets.drop(columns=['index'])"
   ],
   "metadata": {
    "collapsed": false
   }
  },
  {
   "cell_type": "code",
   "execution_count": 35,
   "outputs": [
    {
     "name": "stdout",
     "output_type": "stream",
     "text": [
      "<class 'pandas.core.frame.DataFrame'>\n",
      "Int64Index: 10665159 entries, 0 to 11712596\n",
      "Data columns (total 11 columns):\n",
      " #   Column          Non-Null Count     Dtype  \n",
      "---  ------          --------------     -----  \n",
      " 0   id              10665157 non-null  object \n",
      " 1   user_id         10447963 non-null  object \n",
      " 2   created_at      10665159 non-null  object \n",
      " 3   text            10140992 non-null  object \n",
      " 4   retweet_count   10450488 non-null  float64\n",
      " 5   reply_count     10266908 non-null  float64\n",
      " 6   favorite_count  10395697 non-null  float64\n",
      " 7   num_hashtags    10041085 non-null  float64\n",
      " 8   num_urls        10266954 non-null  float64\n",
      " 9   num_mentions    10088348 non-null  float64\n",
      " 10  user_id_conv    10665159 non-null  float64\n",
      "dtypes: float64(7), object(4)\n",
      "memory usage: 1.2+ GB\n"
     ]
    }
   ],
   "source": [
    "df_tweets.info(show_counts=True)"
   ],
   "metadata": {
    "collapsed": false
   }
  },
  {
   "cell_type": "markdown",
   "source": [
    "## File checkpoint"
   ],
   "metadata": {
    "collapsed": false
   }
  },
  {
   "cell_type": "code",
   "execution_count": 36,
   "outputs": [],
   "source": [
    "df_tweets.to_csv(path_or_buf=DATA_PATH + 'tweets_no_dupl_user_text_createdat.csv', sep='#', index=False)"
   ],
   "metadata": {
    "collapsed": false
   }
  },
  {
   "cell_type": "code",
   "execution_count": 37,
   "outputs": [],
   "source": [
    "df_tweets = pd.read_csv(DATA_PATH + 'tweets_no_dupl_user_text_createdat.csv', sep='#')"
   ],
   "metadata": {
    "collapsed": false
   }
  },
  {
   "cell_type": "markdown",
   "source": [
    "# Check how many duplicates we have for each attribute"
   ],
   "metadata": {
    "collapsed": false
   }
  },
  {
   "cell_type": "code",
   "execution_count": 38,
   "outputs": [
    {
     "name": "stdout",
     "output_type": "stream",
     "text": [
      "<class 'pandas.core.frame.DataFrame'>\n",
      "RangeIndex: 10665159 entries, 0 to 10665158\n",
      "Data columns (total 11 columns):\n",
      " #   Column          Non-Null Count     Dtype  \n",
      "---  ------          --------------     -----  \n",
      " 0   id              10665157 non-null  object \n",
      " 1   user_id         10447963 non-null  object \n",
      " 2   created_at      10665159 non-null  object \n",
      " 3   text            10140992 non-null  object \n",
      " 4   retweet_count   10450488 non-null  float64\n",
      " 5   reply_count     10266908 non-null  float64\n",
      " 6   favorite_count  10395697 non-null  float64\n",
      " 7   num_hashtags    10041085 non-null  float64\n",
      " 8   num_urls        10266954 non-null  float64\n",
      " 9   num_mentions    10088348 non-null  float64\n",
      " 10  user_id_conv    10665159 non-null  float64\n",
      "dtypes: float64(7), object(4)\n",
      "memory usage: 895.1+ MB\n"
     ]
    }
   ],
   "source": [
    "df_tweets.info(show_counts=True)"
   ],
   "metadata": {
    "collapsed": false
   }
  },
  {
   "cell_type": "markdown",
   "source": [
    "# 1.3 Null user_id and text\n",
    "We remove the records that have invalid user_id and text, since these records can't be used neither to analyze a user behaviour, neither to perform any kind of topic analysis on the text. The only utility that they can have could be related to the twitter density for a given period of time, but we go for the deletion since 56280 is not a great amount of records. Also, notice that the counters are quite dirty."
   ],
   "metadata": {
    "collapsed": false
   }
  },
  {
   "cell_type": "code",
   "execution_count": 39,
   "outputs": [
    {
     "name": "stdout",
     "output_type": "stream",
     "text": [
      "<class 'pandas.core.frame.DataFrame'>\n",
      "Int64Index: 56280 entries, 42 to 10664903\n",
      "Data columns (total 11 columns):\n",
      " #   Column          Non-Null Count  Dtype  \n",
      "---  ------          --------------  -----  \n",
      " 0   id              56280 non-null  object \n",
      " 1   user_id         0 non-null      object \n",
      " 2   created_at      56280 non-null  object \n",
      " 3   text            0 non-null      object \n",
      " 4   retweet_count   48002 non-null  float64\n",
      " 5   reply_count     23897 non-null  float64\n",
      " 6   favorite_count  47326 non-null  float64\n",
      " 7   num_hashtags    360 non-null    float64\n",
      " 8   num_urls        24230 non-null  float64\n",
      " 9   num_mentions    429 non-null    float64\n",
      " 10  user_id_conv    56280 non-null  float64\n",
      "dtypes: float64(7), object(4)\n",
      "memory usage: 5.2+ MB\n"
     ]
    }
   ],
   "source": [
    "df_tweets[df_tweets.user_id.isnull() & df_tweets.text.isnull()].info()"
   ],
   "metadata": {
    "collapsed": false
   }
  },
  {
   "cell_type": "code",
   "execution_count": 40,
   "outputs": [],
   "source": [
    "df_tweets = df_tweets.drop(df_tweets.index[df_tweets.user_id.isnull() & df_tweets.text.isnull()])"
   ],
   "metadata": {
    "collapsed": false
   }
  },
  {
   "cell_type": "code",
   "execution_count": 41,
   "outputs": [
    {
     "name": "stdout",
     "output_type": "stream",
     "text": [
      "<class 'pandas.core.frame.DataFrame'>\n",
      "Int64Index: 10608879 entries, 0 to 10665158\n",
      "Data columns (total 11 columns):\n",
      " #   Column          Non-Null Count     Dtype  \n",
      "---  ------          --------------     -----  \n",
      " 0   id              10608877 non-null  object \n",
      " 1   user_id         10447963 non-null  object \n",
      " 2   created_at      10608879 non-null  object \n",
      " 3   text            10140992 non-null  object \n",
      " 4   retweet_count   10402486 non-null  float64\n",
      " 5   reply_count     10243011 non-null  float64\n",
      " 6   favorite_count  10348371 non-null  float64\n",
      " 7   num_hashtags    10040725 non-null  float64\n",
      " 8   num_urls        10242724 non-null  float64\n",
      " 9   num_mentions    10087919 non-null  float64\n",
      " 10  user_id_conv    10608879 non-null  float64\n",
      "dtypes: float64(7), object(4)\n",
      "memory usage: 971.3+ MB\n"
     ]
    }
   ],
   "source": [
    "df_tweets.info(show_counts=True)"
   ],
   "metadata": {
    "collapsed": false
   }
  },
  {
   "cell_type": "markdown",
   "source": [
    "## File Checkpoint"
   ],
   "metadata": {
    "collapsed": false
   }
  },
  {
   "cell_type": "code",
   "execution_count": 42,
   "outputs": [],
   "source": [
    "df_tweets.to_csv(path_or_buf=DATA_PATH + 'tweets_no_dupl_1.3.csv', sep='#', index=False)"
   ],
   "metadata": {
    "collapsed": false
   }
  },
  {
   "cell_type": "code",
   "execution_count": 249,
   "outputs": [],
   "source": [
    "df_tweets = pd.read_csv(DATA_PATH + 'tweets_no_dupl_1.3.csv', sep='#')"
   ],
   "metadata": {
    "collapsed": false
   }
  },
  {
   "cell_type": "markdown",
   "source": [
    "# 1.4 [text, created_at]\n",
    "We now consider the situation where `text` and `created_at` are equal among different records. Despite is certainly possible that two users post the same text at the same time, the situation is suspect, and we check the possibility that the two records are the same tweet from the same user, but with mispelled `user_id`.\n",
    "For this analysis we consider only the tweets with non-null text."
   ],
   "metadata": {
    "collapsed": false
   }
  },
  {
   "cell_type": "code",
   "execution_count": 250,
   "outputs": [
    {
     "data": {
      "text/plain": "False    9962254\nTrue      646625\ndtype: int64"
     },
     "execution_count": 250,
     "metadata": {},
     "output_type": "execute_result"
    }
   ],
   "source": [
    "duplicates_bool = ~df_tweets.text.isnull() & df_tweets.duplicated(subset=['text', 'created_at'], keep=False)\n",
    "duplicates_bool.value_counts()"
   ],
   "metadata": {
    "collapsed": false
   }
  },
  {
   "cell_type": "code",
   "execution_count": 251,
   "outputs": [
    {
     "name": "stdout",
     "output_type": "stream",
     "text": [
      "<class 'pandas.core.frame.DataFrame'>\n",
      "Int64Index: 321006 entries, 83 to 10608844\n",
      "Data columns (total 11 columns):\n",
      " #   Column          Non-Null Count   Dtype  \n",
      "---  ------          --------------   -----  \n",
      " 0   id              321006 non-null  object \n",
      " 1   user_id         160090 non-null  object \n",
      " 2   created_at      321006 non-null  object \n",
      " 3   text            321006 non-null  object \n",
      " 4   retweet_count   230806 non-null  float64\n",
      " 5   reply_count     230909 non-null  float64\n",
      " 6   favorite_count  184227 non-null  float64\n",
      " 7   num_hashtags    184243 non-null  float64\n",
      " 8   num_urls        230847 non-null  float64\n",
      " 9   num_mentions    231042 non-null  float64\n",
      " 10  user_id_conv    321006 non-null  float64\n",
      "dtypes: float64(7), object(4)\n",
      "memory usage: 29.4+ MB\n"
     ]
    }
   ],
   "source": [
    "df_tweets[duplicates_bool & (df_tweets.user_id_conv == -1)].info(show_counts=True)"
   ],
   "metadata": {
    "collapsed": false
   }
  },
  {
   "cell_type": "markdown",
   "source": [
    "We consider a NaN or alphanumeric `user_id` to be wrong, since the correct format is the one with only numerical characters.\n",
    "Out of the 646625 duplicates by `[text,created_at]`, 321006 have wrong `user_id`.\n",
    "We proceed by keeping the copy with the right `user_id`, and selecting the counter attributes by a max operation, as we did at step **1.2**."
   ],
   "metadata": {
    "collapsed": false
   }
  },
  {
   "cell_type": "code",
   "execution_count": 252,
   "outputs": [],
   "source": [
    "for a in ['retweet_count', 'reply_count', 'favorite_count', 'num_hashtags', 'num_urls', 'num_mentions']:\n",
    "    df_tweets[a] = df_tweets[a].replace(np.NaN, -1)"
   ],
   "metadata": {
    "collapsed": false
   }
  },
  {
   "cell_type": "code",
   "execution_count": 253,
   "outputs": [],
   "source": [
    "# recreate the index column for the groupby\n",
    "df_tweets = df_tweets.reset_index()\n",
    "df_tweets.index = df_tweets['index']"
   ],
   "metadata": {
    "collapsed": false
   }
  },
  {
   "cell_type": "code",
   "execution_count": 254,
   "outputs": [],
   "source": [
    "def select_best_user_id(user_ids):\n",
    "    greater_than_zero = []\n",
    "    smaller_than_zero = []\n",
    "    for id in user_ids:\n",
    "        if id > 0:\n",
    "            greater_than_zero.append(id)\n",
    "        else:\n",
    "            smaller_than_zero.append(id)\n",
    "\n",
    "    # if all but one are < 0, keep the one that is > 0\n",
    "    if len(greater_than_zero) == 1:\n",
    "        return greater_than_zero[0]\n",
    "    if len(greater_than_zero) > 1:\n",
    "        return tuple(greater_than_zero)"
   ],
   "metadata": {
    "collapsed": false
   }
  },
  {
   "cell_type": "code",
   "execution_count": 255,
   "outputs": [],
   "source": [
    "aggregated = df_tweets[duplicates_bool].groupby(['text', 'created_at']).agg(\n",
    "    {'retweet_count': max, 'reply_count': max, 'favorite_count': max,\n",
    "     'num_hashtags': max, 'num_urls': max, 'num_mentions': max,\n",
    "     'user_id_conv': select_best_user_id,\n",
    "     'index': min}).reset_index()"
   ],
   "metadata": {
    "collapsed": false
   }
  },
  {
   "cell_type": "code",
   "execution_count": 256,
   "outputs": [],
   "source": [
    "aggregated.index = aggregated['index']"
   ],
   "metadata": {
    "collapsed": false
   }
  },
  {
   "cell_type": "code",
   "execution_count": 257,
   "outputs": [
    {
     "data": {
      "text/plain": "True     320882\nFalse      2339\nName: user_id_conv, dtype: int64"
     },
     "execution_count": 257,
     "metadata": {},
     "output_type": "execute_result"
    }
   ],
   "source": [
    "tweets_with_valid_user_id = aggregated.user_id_conv.apply(type) == float\n",
    "tweets_with_valid_user_id.value_counts()"
   ],
   "metadata": {
    "collapsed": false
   }
  },
  {
   "cell_type": "code",
   "execution_count": 258,
   "outputs": [],
   "source": [
    "aggregated_to_replace = aggregated[tweets_with_valid_user_id]"
   ],
   "metadata": {
    "collapsed": false
   }
  },
  {
   "cell_type": "code",
   "execution_count": 259,
   "outputs": [],
   "source": [
    "attributes = ['retweet_count', 'reply_count', 'favorite_count', 'num_hashtags', 'num_mentions', 'num_urls',\n",
    "              'user_id_conv']\n",
    "df_tweets.loc[aggregated_to_replace.index, attributes] = aggregated_to_replace[attributes]"
   ],
   "metadata": {
    "collapsed": false
   }
  },
  {
   "cell_type": "code",
   "execution_count": 260,
   "outputs": [
    {
     "data": {
      "text/plain": "False    10285475\nTrue       323404\ndtype: int64"
     },
     "execution_count": 260,
     "metadata": {},
     "output_type": "execute_result"
    }
   ],
   "source": [
    "indices_to_drop = duplicates_bool & ~df_tweets.index.isin(aggregated.index)\n",
    "indices_to_drop.value_counts()"
   ],
   "metadata": {
    "collapsed": false
   }
  },
  {
   "cell_type": "code",
   "execution_count": 261,
   "outputs": [],
   "source": [
    "df_tweets = df_tweets[~indices_to_drop]"
   ],
   "metadata": {
    "collapsed": false
   }
  },
  {
   "cell_type": "code",
   "execution_count": 266,
   "outputs": [],
   "source": [
    "df_tweets = df_tweets.drop(columns=['index'])"
   ],
   "metadata": {
    "collapsed": false
   }
  },
  {
   "cell_type": "code",
   "execution_count": 268,
   "outputs": [],
   "source": [
    "df_tweets = df_tweets.reset_index()"
   ],
   "metadata": {
    "collapsed": false
   }
  },
  {
   "cell_type": "code",
   "execution_count": 269,
   "outputs": [
    {
     "name": "stdout",
     "output_type": "stream",
     "text": [
      "<class 'pandas.core.frame.DataFrame'>\n",
      "RangeIndex: 10285475 entries, 0 to 10285474\n",
      "Data columns (total 12 columns):\n",
      " #   Column          Non-Null Count     Dtype  \n",
      "---  ------          --------------     -----  \n",
      " 0   index           10285475 non-null  int64  \n",
      " 1   id              10285473 non-null  object \n",
      " 2   user_id         10210489 non-null  object \n",
      " 3   created_at      10285475 non-null  object \n",
      " 4   text            9817588 non-null   object \n",
      " 5   retweet_count   10285475 non-null  float64\n",
      " 6   reply_count     10285475 non-null  float64\n",
      " 7   favorite_count  10285475 non-null  float64\n",
      " 8   num_hashtags    10285475 non-null  float64\n",
      " 9   num_urls        10285475 non-null  float64\n",
      " 10  num_mentions    10285475 non-null  float64\n",
      " 11  user_id_conv    10285475 non-null  object \n",
      "dtypes: float64(6), int64(1), object(5)\n",
      "memory usage: 941.7+ MB\n"
     ]
    }
   ],
   "source": [
    "df_tweets.info(show_counts=True)"
   ],
   "metadata": {
    "collapsed": false
   }
  },
  {
   "cell_type": "markdown",
   "source": [
    "## File checkpoint"
   ],
   "metadata": {
    "collapsed": false
   }
  },
  {
   "cell_type": "code",
   "execution_count": 270,
   "outputs": [],
   "source": [
    "df_tweets.to_csv(path_or_buf=DATA_PATH + 'tweets_no_dupl_1.4.csv', sep='#', index=False)"
   ],
   "metadata": {
    "collapsed": false
   }
  },
  {
   "cell_type": "code",
   "execution_count": 287,
   "outputs": [],
   "source": [
    "df_tweets = pd.read_csv(DATA_PATH + 'tweets_no_dupl_1.4.csv', sep='#')"
   ],
   "metadata": {
    "collapsed": false
   }
  },
  {
   "cell_type": "markdown",
   "source": [
    "## Some checks"
   ],
   "metadata": {
    "collapsed": false
   },
   "execution_count": 300
  },
  {
   "cell_type": "code",
   "execution_count": 289,
   "outputs": [
    {
     "name": "stdout",
     "output_type": "stream",
     "text": [
      "id 28418\n",
      "['id', 'user_id'] 38\n",
      "['id', 'created_at'] 0\n",
      "['id', 'user_id', 'created_at'] 0\n",
      "['user_id', 'text'] 1389039\n",
      "['id', 'user_id', 'text'] 12\n"
     ]
    }
   ],
   "source": [
    "for attr in ['id', ['id', 'user_id'], ['id', 'created_at'], ['id', 'user_id', 'created_at'], ['user_id', 'text'],\n",
    "             ['id', 'user_id', 'text']]:\n",
    "    counts = df_tweets.duplicated(attr).value_counts()\n",
    "    if len(counts) > 1:\n",
    "        dupl_count = counts[1]\n",
    "    else:\n",
    "        dupl_count = 0\n",
    "    print(f\"{attr} {dupl_count}\")"
   ],
   "metadata": {
    "collapsed": false
   }
  },
  {
   "cell_type": "markdown",
   "source": [
    "# 1.5 [user_id,text]"
   ],
   "metadata": {
    "collapsed": false
   }
  },
  {
   "cell_type": "code",
   "execution_count": 288,
   "outputs": [
    {
     "name": "stdout",
     "output_type": "stream",
     "text": [
      "<class 'pandas.core.frame.DataFrame'>\n",
      "RangeIndex: 10285475 entries, 0 to 10285474\n",
      "Data columns (total 12 columns):\n",
      " #   Column          Dtype  \n",
      "---  ------          -----  \n",
      " 0   index           int64  \n",
      " 1   id              object \n",
      " 2   user_id         object \n",
      " 3   created_at      object \n",
      " 4   text            object \n",
      " 5   retweet_count   float64\n",
      " 6   reply_count     float64\n",
      " 7   favorite_count  float64\n",
      " 8   num_hashtags    float64\n",
      " 9   num_urls        float64\n",
      " 10  num_mentions    float64\n",
      " 11  user_id_conv    float64\n",
      "dtypes: float64(7), int64(1), object(4)\n",
      "memory usage: 941.7+ MB\n"
     ]
    }
   ],
   "source": [
    "df_tweets.info()"
   ],
   "metadata": {
    "collapsed": false
   }
  },
  {
   "cell_type": "markdown",
   "source": [
    "The duplicates by ['user_id', 'text'] are 1389039, which is a considerable amount and is worth further investigation. It's surely possible that a user, especially if it is a bot, tweets many times the same text. What we want to check is just that among these duplicates all the dates are valid, which is, in a range that goes from the tweeter foundation up to september 2022. If the dates are valid, we keep the tweets. Otherwise it is considered a noisy duplicate and is removed."
   ],
   "metadata": {
    "collapsed": false
   }
  },
  {
   "cell_type": "code",
   "execution_count": 290,
   "outputs": [],
   "source": [
    "twitter_foundation = pd.to_datetime([\"20060321\"]).astype(np.int64)[0]\n",
    "sep_2022 = pd.to_datetime([\"20220915\"]).astype(np.int64)[0]"
   ],
   "metadata": {
    "collapsed": false
   }
  },
  {
   "cell_type": "code",
   "execution_count": 291,
   "outputs": [],
   "source": [
    "def wrong_date(date):\n",
    "    return (date < twitter_foundation) | (date > sep_2022)"
   ],
   "metadata": {
    "collapsed": false
   }
  },
  {
   "cell_type": "code",
   "execution_count": 292,
   "outputs": [],
   "source": [
    "df_tweets['created_at_conv'] = pd.to_datetime(df_tweets['created_at']).astype(np.int64)"
   ],
   "metadata": {
    "collapsed": false
   }
  },
  {
   "cell_type": "code",
   "execution_count": 293,
   "outputs": [
    {
     "data": {
      "text/plain": "False    8259264\nTrue     2026211\ndtype: int64"
     },
     "execution_count": 293,
     "metadata": {},
     "output_type": "execute_result"
    }
   ],
   "source": [
    "duplicates_bool = df_tweets.duplicated(['user_id', 'text'], keep=False)\n",
    "duplicates_bool.value_counts()"
   ],
   "metadata": {
    "collapsed": false
   }
  },
  {
   "cell_type": "code",
   "execution_count": 294,
   "outputs": [
    {
     "name": "stdout",
     "output_type": "stream",
     "text": [
      "<class 'pandas.core.frame.DataFrame'>\n",
      "Int64Index: 97602 entries, 222 to 10285466\n",
      "Data columns (total 13 columns):\n",
      " #   Column           Non-Null Count  Dtype  \n",
      "---  ------           --------------  -----  \n",
      " 0   index            97602 non-null  int64  \n",
      " 1   id               97602 non-null  object \n",
      " 2   user_id          97602 non-null  object \n",
      " 3   created_at       97602 non-null  object \n",
      " 4   text             97236 non-null  object \n",
      " 5   retweet_count    97602 non-null  float64\n",
      " 6   reply_count      97602 non-null  float64\n",
      " 7   favorite_count   97602 non-null  float64\n",
      " 8   num_hashtags     97602 non-null  float64\n",
      " 9   num_urls         97602 non-null  float64\n",
      " 10  num_mentions     97602 non-null  float64\n",
      " 11  user_id_conv     97602 non-null  float64\n",
      " 12  created_at_conv  97602 non-null  int64  \n",
      "dtypes: float64(7), int64(2), object(4)\n",
      "memory usage: 10.4+ MB\n"
     ]
    },
    {
     "name": "stderr",
     "output_type": "stream",
     "text": [
      "C:\\Users\\al\\AppData\\Local\\Temp\\ipykernel_24528\\1469729803.py:4: UserWarning: Boolean Series key will be reindexed to match DataFrame index.\n",
      "  df_tweets[duplicates_bool][wrong_date(df_tweets.created_at_conv)].info(show_counts=True)\n"
     ]
    }
   ],
   "source": [
    "for attr in ['retweet_count', 'reply_count', 'favorite_count', 'num_hashtags', 'num_mentions', 'num_urls']:\n",
    "    df_tweets[attr].replace(-1, np.NaN)\n",
    "\n",
    "df_tweets[duplicates_bool][wrong_date(df_tweets.created_at_conv)].info(show_counts=True)"
   ],
   "metadata": {
    "collapsed": false
   }
  },
  {
   "cell_type": "markdown",
   "source": [
    "We will not aggregate the counters using a max operator as in previous steps, since the multiple \"copies\" in this case could be just a periodic tweet. Furthermore, there is no null value in the counters.\n",
    "Given that there is no null value in the other fields, we will simply remove the records having wrong date."
   ],
   "metadata": {
    "collapsed": false
   }
  },
  {
   "cell_type": "code",
   "execution_count": 295,
   "outputs": [
    {
     "data": {
      "text/plain": "False    1928609\nTrue       97602\nName: created_at_conv, dtype: int64"
     },
     "execution_count": 295,
     "metadata": {},
     "output_type": "execute_result"
    }
   ],
   "source": [
    "df_tweets[duplicates_bool].created_at_conv.apply(wrong_date).value_counts()"
   ],
   "metadata": {
    "collapsed": false
   }
  },
  {
   "cell_type": "markdown",
   "source": [
    "In these duplicates 97605 records have wrong created_at."
   ],
   "metadata": {
    "collapsed": false
   }
  },
  {
   "cell_type": "code",
   "execution_count": 296,
   "outputs": [
    {
     "data": {
      "text/plain": "True     10187873\nFalse       97602\ndtype: int64"
     },
     "execution_count": 296,
     "metadata": {},
     "output_type": "execute_result"
    }
   ],
   "source": [
    "indices_to_drop = ~(duplicates_bool & df_tweets[duplicates_bool].created_at_conv.apply(wrong_date))\n",
    "indices_to_drop.value_counts()"
   ],
   "metadata": {
    "collapsed": false
   }
  },
  {
   "cell_type": "code",
   "execution_count": 297,
   "outputs": [],
   "source": [
    "df_tweets = df_tweets[indices_to_drop]"
   ],
   "metadata": {
    "collapsed": false
   }
  },
  {
   "cell_type": "markdown",
   "source": [
    "## File checkpoint"
   ],
   "metadata": {
    "collapsed": false
   }
  },
  {
   "cell_type": "code",
   "execution_count": 298,
   "outputs": [],
   "source": [
    "df_tweets = df_tweets.drop(columns='index').reset_index()\n",
    "df_tweets.to_csv(path_or_buf=DATA_PATH + 'tweets_no_dupl_1.5.csv', sep='#', index=False)"
   ],
   "metadata": {
    "collapsed": false
   }
  },
  {
   "cell_type": "code",
   "execution_count": 299,
   "outputs": [],
   "source": [
    "df_tweets = pd.read_csv(DATA_PATH + 'tweets_no_dupl_1.5.csv', sep='#')"
   ],
   "metadata": {
    "collapsed": false
   }
  },
  {
   "cell_type": "markdown",
   "source": [
    "# 1.6 [user_id,created_at]"
   ],
   "metadata": {
    "collapsed": false
   }
  },
  {
   "cell_type": "code",
   "execution_count": 301,
   "outputs": [
    {
     "name": "stdout",
     "output_type": "stream",
     "text": [
      "id 28402\n",
      "['id', 'user_id'] 38\n",
      "['id', 'created_at'] 0\n",
      "['user_id', 'created_at'] 403327\n",
      "['created_at', 'text'] 5946\n",
      "['id', 'user_id', 'created_at'] 0\n",
      "['user_id', 'text'] 1291437\n",
      "['id', 'user_id', 'text'] 12\n"
     ]
    }
   ],
   "source": [
    "for attr in ['id', ['id', 'user_id'], ['id', 'created_at'], ['user_id', 'created_at'], ['created_at', 'text'],\n",
    "             ['id', 'user_id', 'created_at'], ['user_id', 'text'], ['id', 'user_id', 'text']]:\n",
    "    counts = df_tweets.duplicated(attr).value_counts()\n",
    "    if len(counts) > 1:\n",
    "        dupl_count = counts[1]\n",
    "    else:\n",
    "        dupl_count = 0\n",
    "    print(f\"{attr} {dupl_count}\")"
   ],
   "metadata": {
    "collapsed": false
   }
  },
  {
   "cell_type": "code",
   "execution_count": 302,
   "outputs": [
    {
     "data": {
      "text/plain": "False    9394762\nTrue      793111\ndtype: int64"
     },
     "execution_count": 302,
     "metadata": {},
     "output_type": "execute_result"
    }
   ],
   "source": [
    "duplicates_bool = df_tweets.duplicated(['user_id', 'created_at'], keep=False) & ~df_tweets.user_id.isnull()\n",
    "duplicates_bool.value_counts()"
   ],
   "metadata": {
    "collapsed": false
   }
  },
  {
   "cell_type": "markdown",
   "source": [
    "The duplicates that have non-null text also have non-null counters"
   ],
   "metadata": {
    "collapsed": false
   }
  },
  {
   "cell_type": "code",
   "execution_count": 303,
   "outputs": [
    {
     "name": "stdout",
     "output_type": "stream",
     "text": [
      "<class 'pandas.core.frame.DataFrame'>\n",
      "Int64Index: 420116 entries, 2 to 10187871\n",
      "Data columns (total 13 columns):\n",
      " #   Column           Non-Null Count   Dtype  \n",
      "---  ------           --------------   -----  \n",
      " 0   index            420116 non-null  int64  \n",
      " 1   id               420116 non-null  object \n",
      " 2   user_id          420116 non-null  object \n",
      " 3   created_at       420116 non-null  object \n",
      " 4   text             420116 non-null  object \n",
      " 5   retweet_count    420116 non-null  float64\n",
      " 6   reply_count      420116 non-null  float64\n",
      " 7   favorite_count   420116 non-null  float64\n",
      " 8   num_hashtags     420116 non-null  float64\n",
      " 9   num_urls         420116 non-null  float64\n",
      " 10  num_mentions     420116 non-null  float64\n",
      " 11  user_id_conv     420116 non-null  float64\n",
      " 12  created_at_conv  420116 non-null  int64  \n",
      "dtypes: float64(7), int64(2), object(4)\n",
      "memory usage: 44.9+ MB\n"
     ]
    }
   ],
   "source": [
    "df_tweets[duplicates_bool & ~df_tweets.text.isnull()].info(show_counts=True)"
   ],
   "metadata": {
    "collapsed": false
   }
  },
  {
   "cell_type": "code",
   "execution_count": 304,
   "outputs": [
    {
     "name": "stdout",
     "output_type": "stream",
     "text": [
      "<class 'pandas.core.frame.DataFrame'>\n",
      "Int64Index: 372995 entries, 32 to 10187870\n",
      "Data columns (total 13 columns):\n",
      " #   Column           Non-Null Count   Dtype  \n",
      "---  ------           --------------   -----  \n",
      " 0   index            372995 non-null  int64  \n",
      " 1   id               372993 non-null  object \n",
      " 2   user_id          372995 non-null  object \n",
      " 3   created_at       372995 non-null  object \n",
      " 4   text             0 non-null       object \n",
      " 5   retweet_count    372995 non-null  float64\n",
      " 6   reply_count      372995 non-null  float64\n",
      " 7   favorite_count   372995 non-null  float64\n",
      " 8   num_hashtags     372995 non-null  float64\n",
      " 9   num_urls         372995 non-null  float64\n",
      " 10  num_mentions     372995 non-null  float64\n",
      " 11  user_id_conv     372995 non-null  float64\n",
      " 12  created_at_conv  372995 non-null  int64  \n",
      "dtypes: float64(7), int64(2), object(4)\n",
      "memory usage: 39.8+ MB\n"
     ]
    }
   ],
   "source": [
    "df_tweets[duplicates_bool & df_tweets.text.isnull()].info(show_counts=True)"
   ],
   "metadata": {
    "collapsed": false
   }
  },
  {
   "cell_type": "code",
   "execution_count": 305,
   "outputs": [],
   "source": [
    "for a in ['retweet_count', 'reply_count', 'favorite_count', 'num_hashtags', 'num_urls', 'num_mentions']:\n",
    "    df_tweets[a] = df_tweets[a].replace(np.NaN, -1)"
   ],
   "metadata": {
    "collapsed": false
   }
  },
  {
   "cell_type": "code",
   "execution_count": 306,
   "outputs": [],
   "source": [
    "def select_non_null_text(texts):\n",
    "    nonnull_texts = []\n",
    "    for text in texts:\n",
    "        if ~pd.Series(text).isnull()[0]:\n",
    "            nonnull_texts.append(text)\n",
    "    if len(nonnull_texts) == 1:\n",
    "        return nonnull_texts[0]\n",
    "    elif len(nonnull_texts) == 0:\n",
    "        return np.NaN\n",
    "    elif len(nonnull_texts) > 1:\n",
    "        return nonnull_texts"
   ],
   "metadata": {
    "collapsed": false
   }
  },
  {
   "cell_type": "code",
   "execution_count": 307,
   "outputs": [],
   "source": [
    "df_tweets = df_tweets.drop(columns='index').reset_index()"
   ],
   "metadata": {
    "collapsed": false
   }
  },
  {
   "cell_type": "code",
   "execution_count": 323,
   "outputs": [],
   "source": [
    "groupby_userid_createdat = df_tweets[duplicates_bool].groupby(['user_id', 'created_at'])"
   ],
   "metadata": {
    "collapsed": false
   }
  },
  {
   "cell_type": "code",
   "execution_count": 332,
   "outputs": [],
   "source": [
    "aggregated = groupby_userid_createdat.agg(\n",
    "    retweet_count=('retweet_count', max),\n",
    "    reply_count=('reply_count', max),\n",
    "    favorite_count=('favorite_count', max),\n",
    "    num_hashtags=('num_hashtags', max),\n",
    "    num_urls=('num_urls', max),\n",
    "    num_mentions=('num_mentions', max),\n",
    "    text=('text', select_non_null_text),\n",
    "    Keep_index=('index', min),\n",
    "    all_indices=('index', list)).reset_index()"
   ],
   "metadata": {
    "collapsed": false
   }
  },
  {
   "cell_type": "code",
   "execution_count": 334,
   "outputs": [
    {
     "data": {
      "text/plain": "              user_id           created_at  retweet_count  reply_count  \\\nKeep_index                                                               \n1858549     100043740  2019-04-13 00:53:45            5.0          0.0   \n24709       100043740  2019-04-15 00:18:50            0.0          0.0   \n976287      100043740  2019-04-18 21:20:51            1.0          0.0   \n3137394     100043740  2019-04-18 23:04:51            0.0          0.0   \n4331051     100043740  2019-04-21 22:07:28            0.0          0.0   \n...               ...                  ...            ...          ...   \n708890      999662546  2020-03-23 05:49:37            2.0          0.0   \n3315989     999662546  2020-03-23 05:51:07           25.0          0.0   \n6253564     999662546  2020-03-23 05:53:07           18.0          0.0   \n373820      999662546  2020-03-30 20:48:54            1.0          0.0   \n1862162     999662546  2020-04-03 16:38:39            0.0          0.0   \n\n            favorite_count  num_hashtags  num_urls  num_mentions  \\\nKeep_index                                                         \n1858549                8.0           0.0       0.0           1.0   \n24709                  0.0           0.0       0.0           1.0   \n976287                 0.0           0.0       0.0           1.0   \n3137394                1.0           0.0       0.0           1.0   \n4331051                0.0           0.0       0.0           1.0   \n...                    ...           ...       ...           ...   \n708890                 0.0           0.0       0.0           1.0   \n3315989                0.0           0.0       0.0           1.0   \n6253564                0.0           1.0       0.0           1.0   \n373820                 1.0           0.0       0.0           1.0   \n1862162                0.0           0.0       0.0           0.0   \n\n                                                         text  Keep_index  \\\nKeep_index                                                                  \n1858549     Monacan Girls Soccer falls 3-0 to Midlothian a...     1858549   \n24709                                              @Natty032        24709   \n976287                  RT @The_Messiah_57: Neymar tricked it      976287   \n3137394     [@THE_thompson5 it's what I would envision you...     3137394   \n4331051     @NygelLee_20 could say the same about KD could...     4331051   \n...                                                       ...         ...   \n708890      [RT @laurnaylor: FAB FILS ARE NATIONAL CHAMPS ...      708890   \n3315989     [RT @tristankennedy8: NATIONAL CHAMPIONS, RT @...     3315989   \n6253564     RT @klrenfro: So proud of all they accomplishe...     6253564   \n373820                       @brianandrews43 so proud of you!      373820   \n1862162     [Just another day at the office! Gabby the off...     1862162   \n\n                   all_indices  \nKeep_index                      \n1858549     [1858549, 2268739]  \n24709         [24709, 8952293]  \n976287       [976287, 6317603]  \n3137394     [3137394, 9786760]  \n4331051     [4331051, 9453499]  \n...                        ...  \n708890       [708890, 2935888]  \n3315989     [3315989, 8115935]  \n6253564     [6253564, 9858793]  \n373820       [373820, 8886312]  \n1862162     [1862162, 5451038]  \n\n[389928 rows x 11 columns]",
      "text/html": "<div>\n<style scoped>\n    .dataframe tbody tr th:only-of-type {\n        vertical-align: middle;\n    }\n\n    .dataframe tbody tr th {\n        vertical-align: top;\n    }\n\n    .dataframe thead th {\n        text-align: right;\n    }\n</style>\n<table border=\"1\" class=\"dataframe\">\n  <thead>\n    <tr style=\"text-align: right;\">\n      <th></th>\n      <th>user_id</th>\n      <th>created_at</th>\n      <th>retweet_count</th>\n      <th>reply_count</th>\n      <th>favorite_count</th>\n      <th>num_hashtags</th>\n      <th>num_urls</th>\n      <th>num_mentions</th>\n      <th>text</th>\n      <th>Keep_index</th>\n      <th>all_indices</th>\n    </tr>\n    <tr>\n      <th>Keep_index</th>\n      <th></th>\n      <th></th>\n      <th></th>\n      <th></th>\n      <th></th>\n      <th></th>\n      <th></th>\n      <th></th>\n      <th></th>\n      <th></th>\n      <th></th>\n    </tr>\n  </thead>\n  <tbody>\n    <tr>\n      <th>1858549</th>\n      <td>100043740</td>\n      <td>2019-04-13 00:53:45</td>\n      <td>5.0</td>\n      <td>0.0</td>\n      <td>8.0</td>\n      <td>0.0</td>\n      <td>0.0</td>\n      <td>1.0</td>\n      <td>Monacan Girls Soccer falls 3-0 to Midlothian a...</td>\n      <td>1858549</td>\n      <td>[1858549, 2268739]</td>\n    </tr>\n    <tr>\n      <th>24709</th>\n      <td>100043740</td>\n      <td>2019-04-15 00:18:50</td>\n      <td>0.0</td>\n      <td>0.0</td>\n      <td>0.0</td>\n      <td>0.0</td>\n      <td>0.0</td>\n      <td>1.0</td>\n      <td>@Natty032</td>\n      <td>24709</td>\n      <td>[24709, 8952293]</td>\n    </tr>\n    <tr>\n      <th>976287</th>\n      <td>100043740</td>\n      <td>2019-04-18 21:20:51</td>\n      <td>1.0</td>\n      <td>0.0</td>\n      <td>0.0</td>\n      <td>0.0</td>\n      <td>0.0</td>\n      <td>1.0</td>\n      <td>RT @The_Messiah_57: Neymar tricked it</td>\n      <td>976287</td>\n      <td>[976287, 6317603]</td>\n    </tr>\n    <tr>\n      <th>3137394</th>\n      <td>100043740</td>\n      <td>2019-04-18 23:04:51</td>\n      <td>0.0</td>\n      <td>0.0</td>\n      <td>1.0</td>\n      <td>0.0</td>\n      <td>0.0</td>\n      <td>1.0</td>\n      <td>[@THE_thompson5 it's what I would envision you...</td>\n      <td>3137394</td>\n      <td>[3137394, 9786760]</td>\n    </tr>\n    <tr>\n      <th>4331051</th>\n      <td>100043740</td>\n      <td>2019-04-21 22:07:28</td>\n      <td>0.0</td>\n      <td>0.0</td>\n      <td>0.0</td>\n      <td>0.0</td>\n      <td>0.0</td>\n      <td>1.0</td>\n      <td>@NygelLee_20 could say the same about KD could...</td>\n      <td>4331051</td>\n      <td>[4331051, 9453499]</td>\n    </tr>\n    <tr>\n      <th>...</th>\n      <td>...</td>\n      <td>...</td>\n      <td>...</td>\n      <td>...</td>\n      <td>...</td>\n      <td>...</td>\n      <td>...</td>\n      <td>...</td>\n      <td>...</td>\n      <td>...</td>\n      <td>...</td>\n    </tr>\n    <tr>\n      <th>708890</th>\n      <td>999662546</td>\n      <td>2020-03-23 05:49:37</td>\n      <td>2.0</td>\n      <td>0.0</td>\n      <td>0.0</td>\n      <td>0.0</td>\n      <td>0.0</td>\n      <td>1.0</td>\n      <td>[RT @laurnaylor: FAB FILS ARE NATIONAL CHAMPS ...</td>\n      <td>708890</td>\n      <td>[708890, 2935888]</td>\n    </tr>\n    <tr>\n      <th>3315989</th>\n      <td>999662546</td>\n      <td>2020-03-23 05:51:07</td>\n      <td>25.0</td>\n      <td>0.0</td>\n      <td>0.0</td>\n      <td>0.0</td>\n      <td>0.0</td>\n      <td>1.0</td>\n      <td>[RT @tristankennedy8: NATIONAL CHAMPIONS, RT @...</td>\n      <td>3315989</td>\n      <td>[3315989, 8115935]</td>\n    </tr>\n    <tr>\n      <th>6253564</th>\n      <td>999662546</td>\n      <td>2020-03-23 05:53:07</td>\n      <td>18.0</td>\n      <td>0.0</td>\n      <td>0.0</td>\n      <td>1.0</td>\n      <td>0.0</td>\n      <td>1.0</td>\n      <td>RT @klrenfro: So proud of all they accomplishe...</td>\n      <td>6253564</td>\n      <td>[6253564, 9858793]</td>\n    </tr>\n    <tr>\n      <th>373820</th>\n      <td>999662546</td>\n      <td>2020-03-30 20:48:54</td>\n      <td>1.0</td>\n      <td>0.0</td>\n      <td>1.0</td>\n      <td>0.0</td>\n      <td>0.0</td>\n      <td>1.0</td>\n      <td>@brianandrews43 so proud of you!</td>\n      <td>373820</td>\n      <td>[373820, 8886312]</td>\n    </tr>\n    <tr>\n      <th>1862162</th>\n      <td>999662546</td>\n      <td>2020-04-03 16:38:39</td>\n      <td>0.0</td>\n      <td>0.0</td>\n      <td>0.0</td>\n      <td>0.0</td>\n      <td>0.0</td>\n      <td>0.0</td>\n      <td>[Just another day at the office! Gabby the off...</td>\n      <td>1862162</td>\n      <td>[1862162, 5451038]</td>\n    </tr>\n  </tbody>\n</table>\n<p>389928 rows × 11 columns</p>\n</div>"
     },
     "execution_count": 334,
     "metadata": {},
     "output_type": "execute_result"
    }
   ],
   "source": [
    "aggregated"
   ],
   "metadata": {
    "collapsed": false
   }
  },
  {
   "cell_type": "code",
   "execution_count": 335,
   "outputs": [],
   "source": [
    "aggregated.index = aggregated['Keep_index']"
   ],
   "metadata": {
    "collapsed": false
   }
  },
  {
   "cell_type": "code",
   "execution_count": 336,
   "outputs": [
    {
     "data": {
      "text/plain": "<class 'str'>     197298\n<class 'list'>    192630\nName: text_type, dtype: int64"
     },
     "execution_count": 336,
     "metadata": {},
     "output_type": "execute_result"
    }
   ],
   "source": [
    "aggregated['text_type'] = aggregated.text.apply(type)\n",
    "aggregated.text_type.value_counts()"
   ],
   "metadata": {
    "collapsed": false
   }
  },
  {
   "cell_type": "code",
   "execution_count": 312,
   "outputs": [],
   "source": [
    "aggregated_to_replace = aggregated[aggregated.text_type == str]"
   ],
   "metadata": {
    "collapsed": false
   }
  },
  {
   "cell_type": "code",
   "execution_count": 341,
   "outputs": [
    {
     "data": {
      "text/plain": "Keep_index\n3137394    [3137394, 9786760]\n3547383    [3547383, 3911270]\n3666245    [3666245, 9938422]\n3265653    [3265653, 3375400]\n1834665    [1834665, 2044355]\n                  ...        \n3057150    [3057150, 8575646]\n2080497    [2080497, 4024373]\n708890      [708890, 2935888]\n3315989    [3315989, 8115935]\n1862162    [1862162, 5451038]\nName: all_indices, Length: 192630, dtype: object"
     },
     "execution_count": 341,
     "metadata": {},
     "output_type": "execute_result"
    }
   ],
   "source": [
    "aggregated[aggregated.text_type == list].all_indices"
   ],
   "metadata": {
    "collapsed": false
   }
  },
  {
   "cell_type": "code",
   "execution_count": 346,
   "outputs": [],
   "source": [
    "not_replaceable = np.concatenate(aggregated[aggregated.text_type == list].all_indices.values)"
   ],
   "metadata": {
    "collapsed": false
   }
  },
  {
   "cell_type": "code",
   "execution_count": 348,
   "outputs": [],
   "source": [
    "attributes = ['retweet_count', 'reply_count', 'favorite_count', 'num_hashtags', 'num_mentions', 'num_urls', 'text']\n",
    "df_tweets.loc[aggregated_to_replace.index, attributes] = aggregated_to_replace[attributes]"
   ],
   "metadata": {
    "collapsed": false
   }
  },
  {
   "cell_type": "code",
   "execution_count": 358,
   "outputs": [
    {
     "data": {
      "text/plain": "True     10013848\nFalse      174025\ndtype: int64"
     },
     "execution_count": 358,
     "metadata": {},
     "output_type": "execute_result"
    }
   ],
   "source": [
    "indices_to_keep = ~(\n",
    "            duplicates_bool.index.isin(aggregated_to_replace.index) & duplicates_bool.index.isin(not_replaceable))\n",
    "pd.Series(indices_to_drop).value_counts()"
   ],
   "metadata": {
    "collapsed": false
   }
  },
  {
   "cell_type": "code",
   "execution_count": 359,
   "outputs": [],
   "source": [
    "df_tweets = df_tweets[indices_to_keep]"
   ],
   "metadata": {
    "collapsed": false
   }
  },
  {
   "cell_type": "code",
   "execution_count": 360,
   "outputs": [],
   "source": [
    "df_tweets = df_tweets.reset_index()\n",
    "df_tweets = df_tweets.drop(columns=['index'])"
   ],
   "metadata": {
    "collapsed": false
   }
  },
  {
   "cell_type": "code",
   "execution_count": 361,
   "outputs": [
    {
     "name": "stdout",
     "output_type": "stream",
     "text": [
      "<class 'pandas.core.frame.DataFrame'>\n",
      "RangeIndex: 10013848 entries, 0 to 10013847\n",
      "Data columns (total 13 columns):\n",
      " #   Column           Non-Null Count     Dtype  \n",
      "---  ------           --------------     -----  \n",
      " 0   level_0          10013848 non-null  int64  \n",
      " 1   id               10013846 non-null  object \n",
      " 2   user_id          9938862 non-null   object \n",
      " 3   created_at       10013848 non-null  object \n",
      " 4   text             9720352 non-null   object \n",
      " 5   retweet_count    10013848 non-null  float64\n",
      " 6   reply_count      10013848 non-null  float64\n",
      " 7   favorite_count   10013848 non-null  float64\n",
      " 8   num_hashtags     10013848 non-null  float64\n",
      " 9   num_urls         10013848 non-null  float64\n",
      " 10  num_mentions     10013848 non-null  float64\n",
      " 11  user_id_conv     10013848 non-null  float64\n",
      " 12  created_at_conv  10013848 non-null  int64  \n",
      "dtypes: float64(7), int64(2), object(4)\n",
      "memory usage: 993.2+ MB\n"
     ]
    }
   ],
   "source": [
    "df_tweets.info(show_counts=True)"
   ],
   "metadata": {
    "collapsed": false
   }
  },
  {
   "cell_type": "markdown",
   "source": [
    "## File checkpoint"
   ],
   "metadata": {
    "collapsed": false
   }
  },
  {
   "cell_type": "code",
   "execution_count": 362,
   "outputs": [],
   "source": [
    "df_tweets.to_csv(path_or_buf=DATA_PATH + 'tweets_no_dupl_1.6.csv', sep='#', index=False)"
   ],
   "metadata": {
    "collapsed": false
   }
  },
  {
   "cell_type": "code",
   "execution_count": 363,
   "outputs": [],
   "source": [
    "df_tweets = pd.read_csv(DATA_PATH + 'tweets_no_dupl_1.6.csv', sep='#')"
   ],
   "metadata": {
    "collapsed": false
   }
  },
  {
   "cell_type": "markdown",
   "source": [
    "# Last checks"
   ],
   "metadata": {
    "collapsed": false
   }
  },
  {
   "cell_type": "code",
   "execution_count": 366,
   "outputs": [
    {
     "name": "stdout",
     "output_type": "stream",
     "text": [
      "id 14369\n",
      "['id', 'user_id'] 29\n",
      "['id', 'created_at'] 0\n",
      "['id', 'text'] 10592\n",
      "['id', 'user_id', 'text'] 3\n",
      "['id', 'user_id', 'created_at'] 0\n",
      "['user_id', 'created_at'] 229302\n",
      "['user_id', 'text'] 1118325\n",
      "['created_at', 'text'] 2978\n"
     ]
    }
   ],
   "source": [
    "for attr in ['id', ['id', 'user_id'], ['id', 'created_at'], ['id', 'text'], ['id', 'user_id', 'text'], ['id','user_id','created_at'], \\\n",
    "            ['user_id', 'created_at'], ['user_id', 'text'], ['created_at', 'text']]:\n",
    "    counts = df_tweets.duplicated(attr).value_counts()\n",
    "    if len(counts) > 1:\n",
    "        dupl_count = counts[1]\n",
    "    else:\n",
    "        dupl_count = 0\n",
    "    print(f\"{attr} {dupl_count}\")"
   ],
   "metadata": {
    "collapsed": false
   }
  },
  {
   "cell_type": "code",
   "execution_count": 248,
   "outputs": [
    {
     "name": "stdout",
     "output_type": "stream",
     "text": [
      "<class 'pandas.core.frame.DataFrame'>\n",
      "Int64Index: 487 entries, 5210 to 10163629\n",
      "Data columns (total 13 columns):\n",
      " #   Column           Non-Null Count  Dtype  \n",
      "---  ------           --------------  -----  \n",
      " 0   level_0          487 non-null    int64  \n",
      " 1   id               487 non-null    object \n",
      " 2   user_id          6 non-null      object \n",
      " 3   created_at       487 non-null    object \n",
      " 4   text             0 non-null      object \n",
      " 5   retweet_count    268 non-null    float64\n",
      " 6   reply_count      96 non-null     float64\n",
      " 7   favorite_count   142 non-null    float64\n",
      " 8   num_hashtags     0 non-null      float64\n",
      " 9   num_urls         104 non-null    float64\n",
      " 10  num_mentions     0 non-null      float64\n",
      " 11  user_id_conv     487 non-null    float64\n",
      " 12  created_at_conv  487 non-null    int64  \n",
      "dtypes: float64(7), int64(2), object(4)\n",
      "memory usage: 53.3+ KB\n"
     ]
    }
   ],
   "source": [
    "df_tweets[df_tweets.duplicated(['id', 'user_id', 'text'], keep=False)].info()"
   ],
   "metadata": {
    "collapsed": false
   }
  },
  {
   "cell_type": "markdown",
   "source": [
    "# 1.5 bis - userful for further studies on the user behaviour"
   ],
   "metadata": {
    "collapsed": false
   }
  },
  {
   "cell_type": "code",
   "execution_count": null,
   "outputs": [],
   "source": [],
   "metadata": {
    "collapsed": false
   }
  },
  {
   "cell_type": "code",
   "execution_count": 162,
   "outputs": [],
   "source": [
    "def select_best_created_at(dates):\n",
    "    correct = []\n",
    "    wrong = []\n",
    "\n",
    "    for date in dates:\n",
    "        if date < sep_2022 and date >= twitter_foundation:\n",
    "            correct.append(date)\n",
    "        else:\n",
    "            wrong.append(date)\n",
    "\n",
    "    if len(correct) == 0:\n",
    "        # we have no correct candidate, so do not perform any substitution. We will deal with this record in the data cleaning step.\n",
    "        return []\n",
    "    if len(correct) == 1:\n",
    "        # we have only one correct candidate, so we can merge the duplicates into one.\n",
    "        return correct[0]\n",
    "    if len(correct) > 1:\n",
    "        # we return all the candidates.\n",
    "        return correct\n",
    "\n",
    "\n",
    "def len_with_int(x):\n",
    "    try:\n",
    "        return len(x)\n",
    "    except TypeError:\n",
    "        return 1"
   ],
   "metadata": {
    "collapsed": false
   }
  },
  {
   "cell_type": "code",
   "execution_count": 163,
   "outputs": [],
   "source": [
    "aggregated = df_tweets[duplicates_bool].groupby(['user_id', 'text']).agg(\n",
    "    {'created_at_conv': select_best_created_at, 'index': list}).reset_index()"
   ],
   "metadata": {
    "collapsed": false
   }
  },
  {
   "cell_type": "code",
   "execution_count": null,
   "outputs": [],
   "source": [
    "aggregated['created_at_candidates'] = aggregated.created_at_conv.apply(len_with_int)\n",
    "aggregated['n_copies'] = aggregated['index'].apply(len_with_int)"
   ],
   "metadata": {
    "collapsed": false
   }
  },
  {
   "cell_type": "markdown",
   "source": [
    "The records that we are not able to correct are the one that:\n",
    "1) the ones that have no correct candidate, so `created_at_candidates == 0`\n",
    "2) the ones that have more correct candidate, so `(created_at_candidates) > 1 & (n_copies > created_at_candidates)`\n",
    "There is no record in the first category.\n",
    "For the second category we have a total of 2013 copies for which the date is not decidable. We will simply remove these records because they is an high probability that they are just noise."
   ],
   "metadata": {
    "collapsed": false
   }
  },
  {
   "cell_type": "code",
   "execution_count": null,
   "outputs": [],
   "source": [
    "# 1\n",
    "(aggregated.created_at_candidates == 0).value_counts()"
   ],
   "metadata": {
    "collapsed": false
   }
  },
  {
   "cell_type": "code",
   "execution_count": null,
   "outputs": [],
   "source": [
    "# 2\n",
    "undecidable = (aggregated.created_at_candidates > 1) & (aggregated.n_copies > aggregated.created_at_candidates)\n",
    "aggregated[undecidable].n_copies.sum() - aggregated[undecidable].created_at_candidates.sum()"
   ],
   "metadata": {
    "collapsed": false
   }
  },
  {
   "cell_type": "markdown",
   "source": [
    "We now proceed with deletion of the wrong copies."
   ],
   "metadata": {
    "collapsed": false
   }
  },
  {
   "cell_type": "code",
   "execution_count": 67,
   "outputs": [
    {
     "data": {
      "text/plain": "False    10285475\nTrue       323404\ndtype: int64"
     },
     "execution_count": 67,
     "metadata": {},
     "output_type": "execute_result"
    }
   ],
   "source": [
    "indices_to_drop = duplicates_bool & ~df_tweets.index.isin(aggregated.index)\n",
    "indices_to_drop.value_counts()"
   ],
   "metadata": {
    "collapsed": false
   }
  }
 ],
 "metadata": {
  "colab": {
   "collapsed_sections": [],
   "provenance": []
  },
  "kernelspec": {
   "display_name": "Python 3 (ipykernel)",
   "language": "python",
   "name": "python3"
  },
  "language_info": {
   "codemirror_mode": {
    "name": "ipython",
    "version": 3
   },
   "file_extension": ".py",
   "mimetype": "text/x-python",
   "name": "python",
   "nbconvert_exporter": "python",
   "pygments_lexer": "ipython3",
   "version": "3.10.4"
  }
 },
 "nbformat": 4,
 "nbformat_minor": 1
}
