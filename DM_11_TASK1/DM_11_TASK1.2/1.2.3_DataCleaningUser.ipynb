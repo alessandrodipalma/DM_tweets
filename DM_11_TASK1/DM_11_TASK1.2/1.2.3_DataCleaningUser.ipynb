{
 "cells": [
  {
   "cell_type": "code",
   "execution_count": 1,
   "metadata": {},
   "outputs": [],
   "source": [
    "import pandas as pd\n",
    "from matplotlib import pyplot as plt\n",
    "import numpy as np\n",
    "from utilities import get_path, plot_boxplot"
   ]
  },
  {
   "cell_type": "code",
   "execution_count": 2,
   "metadata": {},
   "outputs": [],
   "source": [
    "DATA_PATH = get_path()"
   ]
  },
  {
   "cell_type": "code",
   "execution_count": 3,
   "metadata": {},
   "outputs": [],
   "source": [
    "df_users = pd.read_csv(DATA_PATH+'users.csv')\n",
    "df_tweets = pd.read_csv(DATA_PATH + 'tweets_no_dupl_1.5.csv', sep='#')"
   ]
  },
  {
   "cell_type": "markdown",
   "metadata": {},
   "source": [
    "## Users file analysis"
   ]
  },
  {
   "cell_type": "code",
   "execution_count": 4,
   "metadata": {},
   "outputs": [
    {
     "name": "stdout",
     "output_type": "stream",
     "text": [
      "<class 'pandas.core.frame.DataFrame'>\n",
      "RangeIndex: 11508 entries, 0 to 11507\n",
      "Data columns (total 6 columns):\n",
      " #   Column          Non-Null Count  Dtype  \n",
      "---  ------          --------------  -----  \n",
      " 0   id              11508 non-null  int64  \n",
      " 1   name            11507 non-null  object \n",
      " 2   lang            11508 non-null  object \n",
      " 3   bot             11508 non-null  int64  \n",
      " 4   created_at      11508 non-null  object \n",
      " 5   statuses_count  11109 non-null  float64\n",
      "dtypes: float64(1), int64(2), object(3)\n",
      "memory usage: 539.6+ KB\n"
     ]
    }
   ],
   "source": [
    "df_users.info()"
   ]
  },
  {
   "cell_type": "markdown",
   "metadata": {},
   "source": [
    "# Statuses count"
   ]
  },
  {
   "cell_type": "markdown",
   "metadata": {},
   "source": [
    "For users with a non-null `statuses_count`, find the mean and median of this attribute.\n",
    "As it is possible to see, the mean is probably affected by the presence of a lot of outliers."
   ]
  },
  {
   "cell_type": "code",
   "execution_count": 5,
   "metadata": {},
   "outputs": [
    {
     "name": "stdout",
     "output_type": "stream",
     "text": [
      "Mean: 5883.312359348276 Median: 68.0\n"
     ]
    }
   ],
   "source": [
    "nonnull_users = df_users[df_users['statuses_count'].isnull() == False]\n",
    "mean_statuses_count = nonnull_users.statuses_count.mean()\n",
    "median_statuses_count = nonnull_users.statuses_count.median()\n",
    "print(f'Mean:', mean_statuses_count,'Median:',median_statuses_count)"
   ]
  },
  {
   "cell_type": "markdown",
   "metadata": {},
   "source": [
    "Plot of `statuses_count` of users where this value is not null"
   ]
  },
  {
   "cell_type": "markdown",
   "metadata": {},
   "source": [
    "The boxplot shows that the mean is near the 90th percentile, so we find more reasonable to use the median to replace the missing values for the `statuses_count` attribute."
   ]
  },
  {
   "cell_type": "code",
   "execution_count": 6,
   "metadata": {},
   "outputs": [
    {
     "data": {
      "text/plain": "<Figure size 432x288 with 1 Axes>",
      "image/png": "[encoded data removed]"
     },
     "metadata": {
      "needs_background": "light"
     },
     "output_type": "display_data"
    }
   ],
   "source": [
    "plt.boxplot(nonnull_users.statuses_count,showmeans=True)\n",
    "plt.yscale('log')\n",
    "plt.show()"
   ]
  },
  {
   "cell_type": "markdown",
   "metadata": {},
   "source": [
    "Replace null `statuses_count` values with median of `statuses_count` of the other users"
   ]
  },
  {
   "cell_type": "code",
   "execution_count": 7,
   "metadata": {},
   "outputs": [],
   "source": [
    "df_users.statuses_count.fillna(median_statuses_count, inplace=True)"
   ]
  },
  {
   "cell_type": "markdown",
   "metadata": {},
   "source": [
    "Evaluating outliers of `statuses_count`"
   ]
  },
  {
   "cell_type": "code",
   "execution_count": 8,
   "metadata": {},
   "outputs": [
    {
     "data": {
      "text/plain": "id                         1038481676\nname                 News This Second\nlang                               en\nbot                                 0\ncreated_at        2017-12-29 01:09:46\nstatuses_count               399555.0\nName: 1391, dtype: object"
     },
     "execution_count": 8,
     "metadata": {},
     "output_type": "execute_result"
    }
   ],
   "source": [
    "idx = df_users.statuses_count.idxmax()\n",
    "df_users.loc[idx]"
   ]
  },
  {
   "cell_type": "markdown",
   "metadata": {},
   "source": [
    "The max value over `statuses_count` column has a reasonable value so we will not perform any outlier detection for this attribute"
   ]
  },
  {
   "cell_type": "code",
   "execution_count": 9,
   "metadata": {},
   "outputs": [
    {
     "name": "stdout",
     "output_type": "stream",
     "text": [
      "<class 'pandas.core.frame.DataFrame'>\n",
      "RangeIndex: 11508 entries, 0 to 11507\n",
      "Data columns (total 6 columns):\n",
      " #   Column          Non-Null Count  Dtype  \n",
      "---  ------          --------------  -----  \n",
      " 0   id              11508 non-null  int64  \n",
      " 1   name            11507 non-null  object \n",
      " 2   lang            11508 non-null  object \n",
      " 3   bot             11508 non-null  int64  \n",
      " 4   created_at      11508 non-null  object \n",
      " 5   statuses_count  11508 non-null  float64\n",
      "dtypes: float64(1), int64(2), object(3)\n",
      "memory usage: 539.6+ KB\n"
     ]
    }
   ],
   "source": [
    "df_users.info()"
   ]
  },
  {
   "cell_type": "markdown",
   "metadata": {},
   "source": [
    "# Created_at"
   ]
  },
  {
   "cell_type": "code",
   "execution_count": 10,
   "metadata": {},
   "outputs": [
    {
     "data": {
      "text/plain": "               id                name lang  bot           created_at  \\\n0      2353593986     Lamonica Raborn   en    1  2019-02-22 18:00:42   \n1      2358850842       Lourie Botton   en    0  2019-02-26 03:02:32   \n2       137959629    Dadan Syarifudin   en    1  2015-04-30 07:09:56   \n3       466124818      Carletto Focia   it    1  2017-01-18 02:49:18   \n4      2571493866           MBK Ebook   en    0  2019-06-18 19:30:21   \n...           ...                 ...  ...  ...                  ...   \n11503  2911861962  Madrid Lae Maika .   en    0  2019-11-29 13:16:02   \n11504  1378532629           Clau Sato   en    0  2018-04-27 03:01:58   \n11505   126984069  ALMA LETICIA NUÑO    es    0  2015-03-29 17:01:24   \n11506  2383025796     Minnie Guadagno   en    1  2019-03-13 02:44:13   \n11507   933183398           Corvanna    en    0  2017-11-09 23:24:16   \n\n       statuses_count      created_at_conv  \n0                76.0  1550858442000000000  \n1                54.0  1551150152000000000  \n2                 3.0  1430377796000000000  \n3                50.0  1484707758000000000  \n4              7085.0  1560886221000000000  \n...               ...                  ...  \n11503          1126.0  1575033362000000000  \n11504          3024.0  1524798118000000000  \n11505             6.0  1427648484000000000  \n11506            42.0  1552445053000000000  \n11507          5279.0  1510269856000000000  \n\n[11508 rows x 7 columns]",
      "text/html": "<div>\n<style scoped>\n    .dataframe tbody tr th:only-of-type {\n        vertical-align: middle;\n    }\n\n    .dataframe tbody tr th {\n        vertical-align: top;\n    }\n\n    .dataframe thead th {\n        text-align: right;\n    }\n</style>\n<table border=\"1\" class=\"dataframe\">\n  <thead>\n    <tr style=\"text-align: right;\">\n      <th></th>\n      <th>id</th>\n      <th>name</th>\n      <th>lang</th>\n      <th>bot</th>\n      <th>created_at</th>\n      <th>statuses_count</th>\n      <th>created_at_conv</th>\n    </tr>\n  </thead>\n  <tbody>\n    <tr>\n      <th>0</th>\n      <td>2353593986</td>\n      <td>Lamonica Raborn</td>\n      <td>en</td>\n      <td>1</td>\n      <td>2019-02-22 18:00:42</td>\n      <td>76.0</td>\n      <td>1550858442000000000</td>\n    </tr>\n    <tr>\n      <th>1</th>\n      <td>2358850842</td>\n      <td>Lourie Botton</td>\n      <td>en</td>\n      <td>0</td>\n      <td>2019-02-26 03:02:32</td>\n      <td>54.0</td>\n      <td>1551150152000000000</td>\n    </tr>\n    <tr>\n      <th>2</th>\n      <td>137959629</td>\n      <td>Dadan Syarifudin</td>\n      <td>en</td>\n      <td>1</td>\n      <td>2015-04-30 07:09:56</td>\n      <td>3.0</td>\n      <td>1430377796000000000</td>\n    </tr>\n    <tr>\n      <th>3</th>\n      <td>466124818</td>\n      <td>Carletto Focia</td>\n      <td>it</td>\n      <td>1</td>\n      <td>2017-01-18 02:49:18</td>\n      <td>50.0</td>\n      <td>1484707758000000000</td>\n    </tr>\n    <tr>\n      <th>4</th>\n      <td>2571493866</td>\n      <td>MBK Ebook</td>\n      <td>en</td>\n      <td>0</td>\n      <td>2019-06-18 19:30:21</td>\n      <td>7085.0</td>\n      <td>1560886221000000000</td>\n    </tr>\n    <tr>\n      <th>...</th>\n      <td>...</td>\n      <td>...</td>\n      <td>...</td>\n      <td>...</td>\n      <td>...</td>\n      <td>...</td>\n      <td>...</td>\n    </tr>\n    <tr>\n      <th>11503</th>\n      <td>2911861962</td>\n      <td>Madrid Lae Maika .</td>\n      <td>en</td>\n      <td>0</td>\n      <td>2019-11-29 13:16:02</td>\n      <td>1126.0</td>\n      <td>1575033362000000000</td>\n    </tr>\n    <tr>\n      <th>11504</th>\n      <td>1378532629</td>\n      <td>Clau Sato</td>\n      <td>en</td>\n      <td>0</td>\n      <td>2018-04-27 03:01:58</td>\n      <td>3024.0</td>\n      <td>1524798118000000000</td>\n    </tr>\n    <tr>\n      <th>11505</th>\n      <td>126984069</td>\n      <td>ALMA LETICIA NUÑO</td>\n      <td>es</td>\n      <td>0</td>\n      <td>2015-03-29 17:01:24</td>\n      <td>6.0</td>\n      <td>1427648484000000000</td>\n    </tr>\n    <tr>\n      <th>11506</th>\n      <td>2383025796</td>\n      <td>Minnie Guadagno</td>\n      <td>en</td>\n      <td>1</td>\n      <td>2019-03-13 02:44:13</td>\n      <td>42.0</td>\n      <td>1552445053000000000</td>\n    </tr>\n    <tr>\n      <th>11507</th>\n      <td>933183398</td>\n      <td>Corvanna</td>\n      <td>en</td>\n      <td>0</td>\n      <td>2017-11-09 23:24:16</td>\n      <td>5279.0</td>\n      <td>1510269856000000000</td>\n    </tr>\n  </tbody>\n</table>\n<p>11508 rows × 7 columns</p>\n</div>"
     },
     "execution_count": 10,
     "metadata": {},
     "output_type": "execute_result"
    }
   ],
   "source": [
    "# Convert date to seconds\n",
    "df_users['created_at_conv'] = pd.to_datetime(df_users['created_at']).astype(np.int64)\n",
    "df_users"
   ]
  },
  {
   "cell_type": "code",
   "execution_count": 11,
   "metadata": {},
   "outputs": [
    {
     "data": {
      "text/plain": "<Figure size 432x288 with 1 Axes>",
      "image/png": "[encoded data removed]"
     },
     "metadata": {
      "needs_background": "light"
     },
     "output_type": "display_data"
    }
   ],
   "source": [
    "plot_boxplot(df_users, 'created_at_conv', date=True)"
   ]
  },
  {
   "cell_type": "markdown",
   "metadata": {},
   "source": [
    "Users outliers still have possible `created_at` values (2012 is plausible, unlike 1960).\n",
    "If any analyses should be performed on the `created_at` column we must take into account that there are many outliers."
   ]
  },
  {
   "cell_type": "code",
   "execution_count": 12,
   "metadata": {},
   "outputs": [
    {
     "data": {
      "text/plain": "id                              678033\nname                      Heather Gold\nlang                                en\nbot                                  0\ncreated_at         2012-01-24 01:57:38\nstatuses_count                 45825.0\ncreated_at_conv    1327370258000000000\nName: 3878, dtype: object"
     },
     "execution_count": 12,
     "metadata": {},
     "output_type": "execute_result"
    }
   ],
   "source": [
    "df_users.loc[df_users.created_at_conv.idxmin()]"
   ]
  },
  {
   "cell_type": "markdown",
   "metadata": {},
   "source": [
    "# Language field\n",
    "\n",
    "To understand the impact of the possible changes the number of tweets contained in the tweets file have been taken in account.\n",
    "\n",
    "The accounts seem to be active and have a lot of related tweets. The attribute is categorical so this value could be replaced by the mode which is the 'en' language.\n",
    "\n",
    "Since there are only three users, to double-check the validity of our choice the relative tweets have been analyzed. The check confirmed that 'en' is the right choice."
   ]
  },
  {
   "cell_type": "code",
   "execution_count": 13,
   "metadata": {},
   "outputs": [
    {
     "data": {
      "text/plain": "en                    9970\nit                     906\nes                     319\npt                      65\nen-gb                   50\nru                      42\nfr                      36\nja                      33\nzh-tw                   17\ntr                      14\nid                      12\nko                       9\nde                       8\nnl                       6\nen-GB                    4\nar                       3\nzh-TW                    3\nda                       2\nSelect Language...       2\nen-AU                    1\nzh-cn                    1\npl                       1\nel                       1\nfil                      1\nsv                       1\nxx-lc                    1\nName: lang, dtype: int64"
     },
     "execution_count": 13,
     "metadata": {},
     "output_type": "execute_result"
    }
   ],
   "source": [
    "df_users['lang'].value_counts()"
   ]
  },
  {
   "cell_type": "markdown",
   "metadata": {},
   "source": [
    "Values of the lang column have been transformed in upper-case."
   ]
  },
  {
   "cell_type": "code",
   "execution_count": 14,
   "metadata": {},
   "outputs": [],
   "source": [
    "df_users['lang'].replace({'en-gb':'en-GB','zh-tw':'zh-TW'}, inplace=True)"
   ]
  },
  {
   "cell_type": "code",
   "execution_count": 15,
   "metadata": {},
   "outputs": [
    {
     "data": {
      "text/plain": "en                    9970\nit                     906\nes                     319\npt                      65\nen-GB                   54\nru                      42\nfr                      36\nja                      33\nzh-TW                   20\ntr                      14\nid                      12\nko                       9\nde                       8\nnl                       6\nar                       3\nda                       2\nSelect Language...       2\nen-AU                    1\nzh-cn                    1\npl                       1\nel                       1\nfil                      1\nsv                       1\nxx-lc                    1\nName: lang, dtype: int64"
     },
     "execution_count": 15,
     "metadata": {},
     "output_type": "execute_result"
    }
   ],
   "source": [
    "df_users['lang'].value_counts()"
   ]
  },
  {
   "cell_type": "code",
   "execution_count": 16,
   "metadata": {},
   "outputs": [
    {
     "data": {
      "text/plain": "               id          name                lang  bot           created_at  \\\n4166   2956613720  Leanne Arker  Select Language...    0  2020-01-05 00:09:59   \n8666   2904858613        Brooke  Select Language...    0  2019-11-22 05:44:46   \n10065    29552151        Chloe                xx-lc    0  2014-04-09 21:36:02   \n\n       statuses_count      created_at_conv  \n4166             57.0  1578182999000000000  \n8666             85.0  1574401486000000000  \n10065         15398.0  1397079362000000000  ",
      "text/html": "<div>\n<style scoped>\n    .dataframe tbody tr th:only-of-type {\n        vertical-align: middle;\n    }\n\n    .dataframe tbody tr th {\n        vertical-align: top;\n    }\n\n    .dataframe thead th {\n        text-align: right;\n    }\n</style>\n<table border=\"1\" class=\"dataframe\">\n  <thead>\n    <tr style=\"text-align: right;\">\n      <th></th>\n      <th>id</th>\n      <th>name</th>\n      <th>lang</th>\n      <th>bot</th>\n      <th>created_at</th>\n      <th>statuses_count</th>\n      <th>created_at_conv</th>\n    </tr>\n  </thead>\n  <tbody>\n    <tr>\n      <th>4166</th>\n      <td>2956613720</td>\n      <td>Leanne Arker</td>\n      <td>Select Language...</td>\n      <td>0</td>\n      <td>2020-01-05 00:09:59</td>\n      <td>57.0</td>\n      <td>1578182999000000000</td>\n    </tr>\n    <tr>\n      <th>8666</th>\n      <td>2904858613</td>\n      <td>Brooke</td>\n      <td>Select Language...</td>\n      <td>0</td>\n      <td>2019-11-22 05:44:46</td>\n      <td>85.0</td>\n      <td>1574401486000000000</td>\n    </tr>\n    <tr>\n      <th>10065</th>\n      <td>29552151</td>\n      <td>Chloe</td>\n      <td>xx-lc</td>\n      <td>0</td>\n      <td>2014-04-09 21:36:02</td>\n      <td>15398.0</td>\n      <td>1397079362000000000</td>\n    </tr>\n  </tbody>\n</table>\n</div>"
     },
     "execution_count": 16,
     "metadata": {},
     "output_type": "execute_result"
    }
   ],
   "source": [
    "# Noisy values of lang\n",
    "df_users[np.logical_or(df_users['lang'] == 'Select Language...', df_users['lang'] == 'xx-lc')]"
   ]
  },
  {
   "cell_type": "markdown",
   "metadata": {},
   "source": [
    "Select all tweets that have the user_ids of people who have \"Select Language...\" and \"xx-lc\" as language"
   ]
  },
  {
   "cell_type": "code",
   "execution_count": 17,
   "metadata": {},
   "outputs": [
    {
     "data": {
      "text/plain": "          level_0                  id   user_id           created_at  \\\n6047         6047  491274532679081984  29552151  2019-07-23 17:32:30   \n12075       12075  488693001456463872  29552151  2019-07-16 14:34:25   \n15750       15750  485410906692919297  29552151  2019-07-07 13:12:33   \n16738       16738    1683542282301364  29552151  2019-07-16 20:58:50   \n17242       17242          7055458923  29552151  2020-02-27 20:17:18   \n...           ...                 ...       ...                  ...   \n9786738  10155034  592430455758131201  29552151  2020-04-27 20:50:02   \n9801754  10171614  492646759857152000  29552151  2019-07-27 12:25:15   \n9802316  10172230  479715963076874241  29552151  2019-06-21 20:02:52   \n9803683  10173707  562936922881159168  29552151  2020-02-06 11:33:15   \n9804969  10175118  481513416465854464  29552151  2019-06-26 19:05:19   \n\n                                                      text  retweet_count  \\\n6047     Spent the majority of my day drawing around, c...            0.0   \n12075      We all love dem cuddles. http://t.co/fPrcnUfacS            0.0   \n15750                 Dog sitting until 8 tonight. Again..            0.0   \n16738    @Cock_Penis Yes, of course. A not so very good...            0.0   \n17242              The chocolate is soooooooooooo amazing.            0.0   \n...                                                    ...            ...   \n9786738                       @ReallyBigKral Paha &lt;3 ;)            0.0   \n9801754  @Cock_Penis Around 4 hopefully...Got to go to ...            0.0   \n9802316       I'd love to have white hair for real though.            0.0   \n9803683  Is there a way to wake up without feeling like...            0.0   \n9804969  ...and my nails are obviously being painted bl...            0.0   \n\n         reply_count  favorite_count  num_hashtags  num_urls  num_mentions  \\\n6047             0.0             0.0           0.0       0.0           0.0   \n12075            0.0             0.0           0.0       0.0           0.0   \n15750            0.0             0.0           0.0       0.0           0.0   \n16738            0.0             0.0           0.0       0.0           0.0   \n17242            0.0             0.0           0.0       0.0           0.0   \n...              ...             ...           ...       ...           ...   \n9786738          0.0             0.0           0.0       0.0           1.0   \n9801754          0.0             0.0           0.0       0.0           0.0   \n9802316          0.0             0.0           0.0       0.0           0.0   \n9803683          0.0             0.0           0.0       0.0           0.0   \n9804969          0.0             0.0           0.0       0.0           0.0   \n\n         user_id_conv      created_at_conv  \n6047       29552151.0  1563903150000000000  \n12075      29552151.0  1563287665000000000  \n15750      29552151.0  1562505153000000000  \n16738      29552151.0  1563310730000000000  \n17242      29552151.0  1582834638000000000  \n...               ...                  ...  \n9786738    29552151.0  1588020602000000000  \n9801754    29552151.0  1564230315000000000  \n9802316    29552151.0  1561147372000000000  \n9803683    29552151.0  1580988795000000000  \n9804969    29552151.0  1561575919000000000  \n\n[1745 rows x 13 columns]",
      "text/html": "<div>\n<style scoped>\n    .dataframe tbody tr th:only-of-type {\n        vertical-align: middle;\n    }\n\n    .dataframe tbody tr th {\n        vertical-align: top;\n    }\n\n    .dataframe thead th {\n        text-align: right;\n    }\n</style>\n<table border=\"1\" class=\"dataframe\">\n  <thead>\n    <tr style=\"text-align: right;\">\n      <th></th>\n      <th>level_0</th>\n      <th>id</th>\n      <th>user_id</th>\n      <th>created_at</th>\n      <th>text</th>\n      <th>retweet_count</th>\n      <th>reply_count</th>\n      <th>favorite_count</th>\n      <th>num_hashtags</th>\n      <th>num_urls</th>\n      <th>num_mentions</th>\n      <th>user_id_conv</th>\n      <th>created_at_conv</th>\n    </tr>\n  </thead>\n  <tbody>\n    <tr>\n      <th>6047</th>\n      <td>6047</td>\n      <td>491274532679081984</td>\n      <td>29552151</td>\n      <td>2019-07-23 17:32:30</td>\n      <td>Spent the majority of my day drawing around, c...</td>\n      <td>0.0</td>\n      <td>0.0</td>\n      <td>0.0</td>\n      <td>0.0</td>\n      <td>0.0</td>\n      <td>0.0</td>\n      <td>29552151.0</td>\n      <td>1563903150000000000</td>\n    </tr>\n    <tr>\n      <th>12075</th>\n      <td>12075</td>\n      <td>488693001456463872</td>\n      <td>29552151</td>\n      <td>2019-07-16 14:34:25</td>\n      <td>We all love dem cuddles. http://t.co/fPrcnUfacS</td>\n      <td>0.0</td>\n      <td>0.0</td>\n      <td>0.0</td>\n      <td>0.0</td>\n      <td>0.0</td>\n      <td>0.0</td>\n      <td>29552151.0</td>\n      <td>1563287665000000000</td>\n    </tr>\n    <tr>\n      <th>15750</th>\n      <td>15750</td>\n      <td>485410906692919297</td>\n      <td>29552151</td>\n      <td>2019-07-07 13:12:33</td>\n      <td>Dog sitting until 8 tonight. Again..</td>\n      <td>0.0</td>\n      <td>0.0</td>\n      <td>0.0</td>\n      <td>0.0</td>\n      <td>0.0</td>\n      <td>0.0</td>\n      <td>29552151.0</td>\n      <td>1562505153000000000</td>\n    </tr>\n    <tr>\n      <th>16738</th>\n      <td>16738</td>\n      <td>1683542282301364</td>\n      <td>29552151</td>\n      <td>2019-07-16 20:58:50</td>\n      <td>@Cock_Penis Yes, of course. A not so very good...</td>\n      <td>0.0</td>\n      <td>0.0</td>\n      <td>0.0</td>\n      <td>0.0</td>\n      <td>0.0</td>\n      <td>0.0</td>\n      <td>29552151.0</td>\n      <td>1563310730000000000</td>\n    </tr>\n    <tr>\n      <th>17242</th>\n      <td>17242</td>\n      <td>7055458923</td>\n      <td>29552151</td>\n      <td>2020-02-27 20:17:18</td>\n      <td>The chocolate is soooooooooooo amazing.</td>\n      <td>0.0</td>\n      <td>0.0</td>\n      <td>0.0</td>\n      <td>0.0</td>\n      <td>0.0</td>\n      <td>0.0</td>\n      <td>29552151.0</td>\n      <td>1582834638000000000</td>\n    </tr>\n    <tr>\n      <th>...</th>\n      <td>...</td>\n      <td>...</td>\n      <td>...</td>\n      <td>...</td>\n      <td>...</td>\n      <td>...</td>\n      <td>...</td>\n      <td>...</td>\n      <td>...</td>\n      <td>...</td>\n      <td>...</td>\n      <td>...</td>\n      <td>...</td>\n    </tr>\n    <tr>\n      <th>9786738</th>\n      <td>10155034</td>\n      <td>592430455758131201</td>\n      <td>29552151</td>\n      <td>2020-04-27 20:50:02</td>\n      <td>@ReallyBigKral Paha &amp;lt;3 ;)</td>\n      <td>0.0</td>\n      <td>0.0</td>\n      <td>0.0</td>\n      <td>0.0</td>\n      <td>0.0</td>\n      <td>1.0</td>\n      <td>29552151.0</td>\n      <td>1588020602000000000</td>\n    </tr>\n    <tr>\n      <th>9801754</th>\n      <td>10171614</td>\n      <td>492646759857152000</td>\n      <td>29552151</td>\n      <td>2019-07-27 12:25:15</td>\n      <td>@Cock_Penis Around 4 hopefully...Got to go to ...</td>\n      <td>0.0</td>\n      <td>0.0</td>\n      <td>0.0</td>\n      <td>0.0</td>\n      <td>0.0</td>\n      <td>0.0</td>\n      <td>29552151.0</td>\n      <td>1564230315000000000</td>\n    </tr>\n    <tr>\n      <th>9802316</th>\n      <td>10172230</td>\n      <td>479715963076874241</td>\n      <td>29552151</td>\n      <td>2019-06-21 20:02:52</td>\n      <td>I'd love to have white hair for real though.</td>\n      <td>0.0</td>\n      <td>0.0</td>\n      <td>0.0</td>\n      <td>0.0</td>\n      <td>0.0</td>\n      <td>0.0</td>\n      <td>29552151.0</td>\n      <td>1561147372000000000</td>\n    </tr>\n    <tr>\n      <th>9803683</th>\n      <td>10173707</td>\n      <td>562936922881159168</td>\n      <td>29552151</td>\n      <td>2020-02-06 11:33:15</td>\n      <td>Is there a way to wake up without feeling like...</td>\n      <td>0.0</td>\n      <td>0.0</td>\n      <td>0.0</td>\n      <td>0.0</td>\n      <td>0.0</td>\n      <td>0.0</td>\n      <td>29552151.0</td>\n      <td>1580988795000000000</td>\n    </tr>\n    <tr>\n      <th>9804969</th>\n      <td>10175118</td>\n      <td>481513416465854464</td>\n      <td>29552151</td>\n      <td>2019-06-26 19:05:19</td>\n      <td>...and my nails are obviously being painted bl...</td>\n      <td>0.0</td>\n      <td>0.0</td>\n      <td>0.0</td>\n      <td>0.0</td>\n      <td>0.0</td>\n      <td>0.0</td>\n      <td>29552151.0</td>\n      <td>1561575919000000000</td>\n    </tr>\n  </tbody>\n</table>\n<p>1745 rows × 13 columns</p>\n</div>"
     },
     "execution_count": 17,
     "metadata": {},
     "output_type": "execute_result"
    }
   ],
   "source": [
    "ids = df_users[np.logical_or(df_users['lang'] == 'Select Language...', df_users['lang'] == 'xx-lc')].id.values.astype(str)\n",
    "pd.set_option('display.max_rows',200)\n",
    "df_tweets[df_tweets['user_id'].isin(ids[2:])]"
   ]
  },
  {
   "cell_type": "code",
   "execution_count": 18,
   "metadata": {},
   "outputs": [],
   "source": [
    "df_users['lang'].replace({'Select Language...':'en','xx-lc':'en'}, inplace=True)"
   ]
  },
  {
   "cell_type": "code",
   "execution_count": 19,
   "metadata": {},
   "outputs": [
    {
     "data": {
      "text/plain": "en       9973\nit        906\nes        319\npt         65\nen-GB      54\nru         42\nfr         36\nja         33\nzh-TW      20\ntr         14\nid         12\nko          9\nde          8\nnl          6\nar          3\nda          2\nen-AU       1\nzh-cn       1\npl          1\nel          1\nfil         1\nsv          1\nName: lang, dtype: int64"
     },
     "execution_count": 19,
     "metadata": {},
     "output_type": "execute_result"
    }
   ],
   "source": [
    "df_users['lang'].value_counts()"
   ]
  },
  {
   "cell_type": "code",
   "execution_count": 20,
   "metadata": {},
   "outputs": [],
   "source": [
    "# Convert names for future clarity\n",
    "df_users.rename(columns={'created_at': 'user_subscription', 'created_at_conv': 'user_subscription_in_secs'}, inplace=True)"
   ]
  },
  {
   "cell_type": "code",
   "execution_count": 21,
   "metadata": {},
   "outputs": [],
   "source": [
    "df_users.to_csv(path_or_buf=DATA_PATH+'users_clean.csv', sep='#', index=False)"
   ]
  }
 ],
 "metadata": {
  "kernelspec": {
   "display_name": "Python 3",
   "language": "python",
   "name": "python3"
  },
  "language_info": {
   "codemirror_mode": {
    "name": "ipython",
    "version": 3
   },
   "file_extension": ".py",
   "mimetype": "text/x-python",
   "name": "python",
   "nbconvert_exporter": "python",
   "pygments_lexer": "ipython3",
   "version": "3.9.5"
  }
 },
 "nbformat": 4,
 "nbformat_minor": 1
}
