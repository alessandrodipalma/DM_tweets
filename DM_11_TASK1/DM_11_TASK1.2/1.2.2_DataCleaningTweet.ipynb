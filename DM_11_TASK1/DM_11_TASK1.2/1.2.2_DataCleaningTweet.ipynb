{
 "cells": [
  {
   "cell_type": "code",
   "execution_count": 1,
   "metadata": {},
   "outputs": [],
   "source": [
    "import numpy as np\n",
    "import pandas as pd\n",
    "from numpy import logical_and as land, logical_or as lor\n",
    "from scipy.stats import entropy\n",
    "from sklearn import preprocessing\n",
    "\n",
    "from utilities import to_float, plot_boxplot, plot_hist, get_path"
   ]
  },
  {
   "cell_type": "code",
   "execution_count": 2,
   "metadata": {},
   "outputs": [],
   "source": [
    "DATA_PATH = get_path()"
   ]
  },
  {
   "cell_type": "code",
   "execution_count": 3,
   "metadata": {},
   "outputs": [],
   "source": [
    "df_tweets = pd.read_csv(DATA_PATH+'tweets_no_dupl_1.5.csv', sep='#')\n",
    "df_users = pd.read_csv(DATA_PATH+'users_clean.csv', sep='#')"
   ]
  },
  {
   "cell_type": "markdown",
   "metadata": {},
   "source": [
    "# Tweets csv cleaning\n",
    "\n",
    "## id\n",
    "In the id column there are only two missing values. Since the column is not meaningful for the analysis phase, the column is dropped."
   ]
  },
  {
   "cell_type": "code",
   "execution_count": 4,
   "metadata": {},
   "outputs": [
    {
     "name": "stdout",
     "output_type": "stream",
     "text": [
      "<class 'pandas.core.frame.DataFrame'>\n",
      "RangeIndex: 9816550 entries, 0 to 9816549\n",
      "Data columns (total 13 columns):\n",
      " #   Column           Non-Null Count    Dtype  \n",
      "---  ------           --------------    -----  \n",
      " 0   level_0          9816550 non-null  int64  \n",
      " 1   id               9816550 non-null  object \n",
      " 2   user_id          9741564 non-null  object \n",
      " 3   created_at       9816550 non-null  object \n",
      " 4   text             9720352 non-null  object \n",
      " 5   retweet_count    9816550 non-null  float64\n",
      " 6   reply_count      9816550 non-null  float64\n",
      " 7   favorite_count   9816550 non-null  float64\n",
      " 8   num_hashtags     9816550 non-null  float64\n",
      " 9   num_urls         9816550 non-null  float64\n",
      " 10  num_mentions     9816550 non-null  float64\n",
      " 11  user_id_conv     9816550 non-null  float64\n",
      " 12  created_at_conv  9816550 non-null  int64  \n",
      "dtypes: float64(7), int64(2), object(4)\n",
      "memory usage: 973.6+ MB\n"
     ]
    }
   ],
   "source": [
    "df_tweets.info(show_counts=True)"
   ]
  },
  {
   "cell_type": "code",
   "execution_count": 5,
   "metadata": {},
   "outputs": [],
   "source": [
    "df_tweets.drop(columns=['id'], inplace=True)"
   ]
  },
  {
   "cell_type": "markdown",
   "metadata": {},
   "source": [
    "## user_id\n",
    "In the user_id column there are a lot of missing values, wrong values (non-numerical ids) and a lot of user ids do not have any correspondence with users file. Nevertheless, these records have been kept because the other columns could be useful for future analyses."
   ]
  },
  {
   "cell_type": "markdown",
   "metadata": {},
   "source": [
    "No records which have both user_id and text values which are null exist."
   ]
  },
  {
   "cell_type": "code",
   "execution_count": 6,
   "metadata": {},
   "outputs": [
    {
     "name": "stdout",
     "output_type": "stream",
     "text": [
      "<class 'pandas.core.frame.DataFrame'>\n",
      "Int64Index: 0 entries\n",
      "Data columns (total 12 columns):\n",
      " #   Column           Non-Null Count  Dtype  \n",
      "---  ------           --------------  -----  \n",
      " 0   level_0          0 non-null      int64  \n",
      " 1   user_id          0 non-null      object \n",
      " 2   created_at       0 non-null      object \n",
      " 3   text             0 non-null      object \n",
      " 4   retweet_count    0 non-null      float64\n",
      " 5   reply_count      0 non-null      float64\n",
      " 6   favorite_count   0 non-null      float64\n",
      " 7   num_hashtags     0 non-null      float64\n",
      " 8   num_urls         0 non-null      float64\n",
      " 9   num_mentions     0 non-null      float64\n",
      " 10  user_id_conv     0 non-null      float64\n",
      " 11  created_at_conv  0 non-null      int64  \n",
      "dtypes: float64(7), int64(2), object(3)\n",
      "memory usage: 0.0+ bytes\n"
     ]
    }
   ],
   "source": [
    "df_tweets[np.logical_and(df_tweets['user_id'].isnull(), df_tweets['text'].isnull())].info()"
   ]
  },
  {
   "cell_type": "markdown",
   "metadata": {},
   "source": [
    "Merge users table with tweets table by user_id"
   ]
  },
  {
   "cell_type": "code",
   "execution_count": 7,
   "metadata": {},
   "outputs": [],
   "source": [
    "df_users.id = df_users.id.astype(str)\n",
    "merged = df_tweets.merge(df_users, left_on='user_id', right_on='id', how='left')"
   ]
  },
  {
   "cell_type": "code",
   "execution_count": 8,
   "metadata": {},
   "outputs": [
    {
     "data": {
      "text/plain": "(9816550, 12)"
     },
     "execution_count": 8,
     "metadata": {},
     "output_type": "execute_result"
    }
   ],
   "source": [
    "df_tweets.shape"
   ]
  },
  {
   "cell_type": "markdown",
   "metadata": {},
   "source": [
    "Number of `user_id` that have no correspondance in users file."
   ]
  },
  {
   "cell_type": "code",
   "execution_count": 9,
   "metadata": {},
   "outputs": [
    {
     "data": {
      "text/plain": "129040"
     },
     "execution_count": 9,
     "metadata": {},
     "output_type": "execute_result"
    }
   ],
   "source": [
    "len(merged[merged['id'].isnull()].user_id.unique())"
   ]
  },
  {
   "cell_type": "markdown",
   "metadata": {},
   "source": [
    "## File checkpoint"
   ]
  },
  {
   "cell_type": "code",
   "execution_count": 10,
   "metadata": {},
   "outputs": [],
   "source": [
    "df_tweets.to_csv(path_or_buf=DATA_PATH+'tweets_no_ids.csv', sep='#', index=False)\n",
    "df_users.to_csv(path_or_buf=DATA_PATH+'users_no_ids.csv', sep='#', index=False)"
   ]
  },
  {
   "cell_type": "code",
   "execution_count": 11,
   "metadata": {},
   "outputs": [],
   "source": [
    "df_tweets = pd.read_csv(DATA_PATH+'tweets_no_ids.csv', sep='#')\n",
    "df_users = pd.read_csv(DATA_PATH+'users_no_ids.csv', sep='#')"
   ]
  },
  {
   "cell_type": "markdown",
   "metadata": {},
   "source": [
    "# Convert to float\n",
    "\n",
    "Cast column values to float (there are numbers too big for int) and set to -1.0 when there is a value which is not a number or an uncastable value (e.g. string)"
   ]
  },
  {
   "cell_type": "code",
   "execution_count": 12,
   "metadata": {},
   "outputs": [],
   "source": [
    "df_tweets['retweet_count_conv'] = df_tweets.retweet_count.apply(to_float)"
   ]
  },
  {
   "cell_type": "code",
   "execution_count": 13,
   "metadata": {},
   "outputs": [],
   "source": [
    "df_tweets['reply_count_conv'] = df_tweets.reply_count.apply(to_float)"
   ]
  },
  {
   "cell_type": "code",
   "execution_count": 14,
   "metadata": {},
   "outputs": [],
   "source": [
    "df_tweets['favorite_count_conv'] = df_tweets.favorite_count.apply(to_float)"
   ]
  },
  {
   "cell_type": "code",
   "execution_count": 15,
   "metadata": {},
   "outputs": [],
   "source": [
    "df_tweets['num_hashtags_conv'] = df_tweets.num_hashtags.apply(to_float)"
   ]
  },
  {
   "cell_type": "code",
   "execution_count": 16,
   "metadata": {},
   "outputs": [],
   "source": [
    "df_tweets['num_urls_conv'] = df_tweets.num_urls.apply(to_float)"
   ]
  },
  {
   "cell_type": "code",
   "execution_count": 17,
   "metadata": {},
   "outputs": [],
   "source": [
    "df_tweets['num_mentions_conv'] = df_tweets.num_mentions.apply(to_float)"
   ]
  },
  {
   "cell_type": "code",
   "execution_count": 18,
   "metadata": {},
   "outputs": [],
   "source": [
    "df_tweets['created_at_conv'] = pd.to_datetime(df_tweets['created_at']).astype(np.int64)"
   ]
  },
  {
   "cell_type": "markdown",
   "metadata": {},
   "source": [
    "## File checkpoint"
   ]
  },
  {
   "cell_type": "code",
   "execution_count": 19,
   "metadata": {},
   "outputs": [],
   "source": [
    "df_tweets.to_csv(path_or_buf=DATA_PATH+'tweets_to_float.csv', sep='#', index=False)\n",
    "df_users.to_csv(path_or_buf=DATA_PATH+'users_to_float.csv', sep='#', index=False)"
   ]
  },
  {
   "cell_type": "code",
   "execution_count": 20,
   "metadata": {},
   "outputs": [],
   "source": [
    "df_tweets = pd.read_csv(DATA_PATH+'tweets_to_float.csv', sep='#')\n",
    "df_users = pd.read_csv(DATA_PATH+'users_to_float.csv', sep='#')"
   ]
  },
  {
   "cell_type": "markdown",
   "metadata": {},
   "source": [
    "# Utilities"
   ]
  },
  {
   "cell_type": "code",
   "execution_count": 51,
   "metadata": {},
   "outputs": [],
   "source": [
    "def show_statistics(df, col, log=False, norm=False, date=False):\n",
    "    #Extract statistical indicators from the indicated column\n",
    "    mean = np.mean(df[col].values)\n",
    "    median = np.median(df[col].values)\n",
    "\n",
    "    # Normalize values\n",
    "    if norm:\n",
    "        norm_col = preprocessing.MinMaxScaler().fit_transform(np.array(df[col].values).reshape(1, -1).T)\n",
    "        entr = entropy(norm_col)[0]\n",
    "    else:\n",
    "        entr = entropy(df[col])\n",
    "\n",
    "    print(\"mean: \" + str(mean))\n",
    "    print(\"median: \" + str(median))\n",
    "    print(\"entropy: \" + str(entr))\n",
    "    plot_boxplot(df,col, log=log, date=date)"
   ]
  },
  {
   "cell_type": "code",
   "execution_count": 22,
   "metadata": {},
   "outputs": [],
   "source": [
    "def fix_values(df, col, replace_condition=None, replace_value=None):\n",
    "    #Substitute all the -1.0 values (missing values) with the median\n",
    "    if replace_condition is None:\n",
    "        median = np.median(df[col].values)\n",
    "        df[col] = df[col].replace({-1.0: median})\n",
    "    else:\n",
    "        if replace_value is None:\n",
    "            # Replace values is set to median of all records which don't fit the condition\n",
    "            replace_value = df[~replace_condition][col].median()\n",
    "        # All records which fit the replace_condition are replaced\n",
    "        df.loc[replace_condition, col] = replace_value\n",
    "\n",
    "    return df"
   ]
  },
  {
   "cell_type": "code",
   "execution_count": 23,
   "metadata": {},
   "outputs": [],
   "source": [
    "def check_var_attribute(df, attribute_name):\n",
    "    # all values which are not null, are not infinity and are not noisy (-1)\n",
    "    df = df[(df[attribute_name].isnull() != True) & (df[attribute_name] != np.inf) & (df[attribute_name] != -1)]\n",
    "    df = df[['user_id', attribute_name]]\n",
    "    # Extract statistical indicators of attributes by user\n",
    "    df = df.groupby(by=['user_id']).agg([\"mean\", \"median\", \"var\"])[attribute_name]\n",
    "\n",
    "    return df"
   ]
  },
  {
   "cell_type": "code",
   "execution_count": 24,
   "metadata": {},
   "outputs": [],
   "source": [
    "def replace_with_user_median(df_to_replace, attribute_name, threshold=1e7, replace_tweets_condition=None):\n",
    "\n",
    "    if replace_tweets_condition is None:\n",
    "        #Get all the rows to edit\n",
    "        replace_tweets_condition = ((df_to_replace[attribute_name] == -1) | (df_to_replace[attribute_name] > threshold))\n",
    "\n",
    "    # users to replace\n",
    "    condition_users = df_to_replace.user_id.isin(df_to_replace[replace_tweets_condition].user_id)\n",
    "\n",
    "    keep_condition = ~replace_tweets_condition\n",
    "\n",
    "    # Median for that users that have not a correspondance in the user file\n",
    "    glob_median = df_to_replace[keep_condition][attribute_name].median()\n",
    "\n",
    "    # Merge users to replace and users dataset\n",
    "    df_users.id = df_users.id.astype(str)\n",
    "    df_to_replace.user_id = df_tweets.user_id.astype(str)\n",
    "    df_merge = df_to_replace.merge(df_users, left_on='user_id', right_on='id', how='left')\n",
    "\n",
    "    # Median for bot users\n",
    "    bot_median = df_merge[keep_condition & df_merge['bot'] == 0][attribute_name].median()\n",
    "\n",
    "    # Median for non bot users\n",
    "    non_bot_median = df_merge[keep_condition & df_merge['bot'] == 1][attribute_name].median()\n",
    "\n",
    "    # All the tweets that can be used for median computation of the selected users\n",
    "    condition_for_median = keep_condition & condition_users\n",
    "\n",
    "    # For each user of the previous list it extract median and var for the indicated attribute\n",
    "    df_stats = df_to_replace[condition_for_median].groupby(by=['user_id']).agg([\"median\", \"var\"])[attribute_name]\n",
    "\n",
    "    # Add these values to the original DataFrame\n",
    "    df_to_replace = df_to_replace.merge(df_stats, left_on='user_id', right_on='user_id', how='left')\n",
    "\n",
    "    '''\n",
    "    Get all the users that have just one tweet and so we use median to substitute the indicated \n",
    "    column based on the user type (genuine vs. non-bot vs. unknown)\n",
    "    '''\n",
    "    condition_one_tweet = df_to_replace['var'].isnull() == True & condition_users\n",
    "\n",
    "    condition_one_tweet_non_bot = ((df_merge.bot == 0) & (condition_one_tweet))\n",
    "    condition_one_tweet_bot = ((df_merge.bot == 1) & (condition_one_tweet))\n",
    "    condition_one_tweet_others = (df_merge.bot.isnull() & condition_one_tweet)\n",
    "\n",
    "    df_to_replace.loc[condition_one_tweet_non_bot, attribute_name] = non_bot_median\n",
    "    df_to_replace.loc[condition_one_tweet_bot, attribute_name] = bot_median\n",
    "    df_to_replace.loc[condition_one_tweet_others, attribute_name] = glob_median\n",
    "\n",
    "    # Substitute wrong values with the median of the user that has more than one tweet\n",
    "    condition_more_tweet = ((df_to_replace[attribute_name] != glob_median) & (df_to_replace[attribute_name] != non_bot_median) & (df_to_replace[attribute_name] != bot_median) & (condition_users))\n",
    "    df_to_replace.loc[condition_more_tweet, attribute_name] = df_to_replace[condition_more_tweet]['median']\n",
    "\n",
    "    df_to_replace.drop(columns=['median','var'], inplace=True)\n",
    "\n",
    "    return df_to_replace"
   ]
  },
  {
   "cell_type": "code",
   "execution_count": 25,
   "metadata": {},
   "outputs": [],
   "source": [
    "def check_bot_stats_diff(col):\n",
    "\n",
    "    # Select users in users file and their tweets\n",
    "    df_users.id = df_users.id.astype(str)\n",
    "    df_tweets.user_id = df_tweets.user_id.astype(str)\n",
    "    df_merge = df_tweets.merge(df_users, left_on='user_id', right_on='id', how='right')\n",
    "\n",
    "    # Select values which are non noisy for the selected column\n",
    "    df_merge_clean = df_merge[(df_merge[col] != -1) & (df_merge[col] < np.inf)]\n",
    "\n",
    "    # Compute statistics for bots\n",
    "    median_bot = df_merge_clean[df_merge_clean['bot'] == 1][col].median()\n",
    "    mean_bot = df_merge_clean[df_merge_clean['bot'] == 1][col].mean()\n",
    "    entropy_bot = entropy(df_merge_clean[df_merge['bot'] == 1][col])\n",
    "\n",
    "    # Compute statistics for genuine users\n",
    "    median_non_bot = df_merge_clean[df_merge_clean['bot'] == 0][col].median()\n",
    "    mean_non_bot = df_merge_clean[df_merge_clean['bot'] == 0][col].mean()\n",
    "    entropy_non_bot = entropy(df_merge_clean[df_merge_clean['bot'] == 0][col])\n",
    "\n",
    "    # Compute statistics for all values\n",
    "    median_all = df_merge_clean[col].median()\n",
    "    mean_all = df_merge_clean[col].mean()\n",
    "    entropy_all = entropy(df_merge_clean[col])\n",
    "\n",
    "    print(col + \":\")\n",
    "    print(\"\\tmedian bot: \" + str(median_bot) + \" median non bot: \" + str(median_non_bot) + \" median all: \" + str(median_all))\n",
    "    print(\"\\tmean bot: \" + str(mean_bot) + \" mean non bot: \" + str(median_non_bot) + \" mean all: \" + str(mean_all))\n",
    "    print(\"\\tentropy bot: \" + str(entropy_bot) + \" entropy non bot: \" + str(median_non_bot) + \" entropy all: \" + str(entropy_all))"
   ]
  },
  {
   "cell_type": "markdown",
   "metadata": {},
   "source": [
    "# Preliminary checks\n",
    "\n",
    "Compute statistics for each attribute"
   ]
  },
  {
   "cell_type": "code",
   "execution_count": 26,
   "metadata": {},
   "outputs": [
    {
     "name": "stderr",
     "output_type": "stream",
     "text": [
      "C:\\Users\\al\\AppData\\Local\\Temp\\ipykernel_12472\\971312053.py:14: UserWarning: Boolean Series key will be reindexed to match DataFrame index.\n",
      "  entropy_bot = entropy(df_merge_clean[df_merge['bot'] == 1][col])\n"
     ]
    },
    {
     "name": "stdout",
     "output_type": "stream",
     "text": [
      "retweet_count:\n",
      "\tmedian bot: 0.0 median non bot: 0.0 median all: 0.0\n",
      "\tmean bot: 5.866164053730542e+127 mean non bot: 0.0 mean all: 2.081508544176272e+127\n",
      "\tentropy bot: 3.985677208842243e-48 entropy non bot: 0.0 entropy all: 3.9856776060011144e-48\n",
      "----------------------------------------------\n"
     ]
    },
    {
     "name": "stderr",
     "output_type": "stream",
     "text": [
      "C:\\Users\\al\\AppData\\Local\\Temp\\ipykernel_12472\\971312053.py:14: UserWarning: Boolean Series key will be reindexed to match DataFrame index.\n",
      "  entropy_bot = entropy(df_merge_clean[df_merge['bot'] == 1][col])\n"
     ]
    },
    {
     "name": "stdout",
     "output_type": "stream",
     "text": [
      "reply_count:\n",
      "\tmedian bot: 0.0 median non bot: 0.0 median all: 0.0\n",
      "\tmean bot: 5.866449686247869e+103 mean non bot: 0.0 mean all: 2.081700499504129e+103\n",
      "\tentropy bot: 1.4280201805310366e-12 entropy non bot: 0.0 entropy all: 1.428020180549496e-12\n",
      "----------------------------------------------\n"
     ]
    },
    {
     "name": "stderr",
     "output_type": "stream",
     "text": [
      "C:\\Users\\al\\AppData\\Local\\Temp\\ipykernel_12472\\971312053.py:14: UserWarning: Boolean Series key will be reindexed to match DataFrame index.\n",
      "  entropy_bot = entropy(df_merge_clean[df_merge['bot'] == 1][col])\n"
     ]
    },
    {
     "name": "stdout",
     "output_type": "stream",
     "text": [
      "favorite_count:\n",
      "\tmedian bot: 0.0 median non bot: 0.0 median all: 0.0\n",
      "\tmean bot: 2.22915084018631e+93 mean non bot: 0.0 mean all: 7.285484629396764e+204\n",
      "\tentropy bot: 2.2790066351209307e-11 entropy non bot: 0.0 entropy all: 2.7990506023023497e-110\n",
      "----------------------------------------------\n"
     ]
    },
    {
     "name": "stderr",
     "output_type": "stream",
     "text": [
      "C:\\Users\\al\\AppData\\Local\\Temp\\ipykernel_12472\\971312053.py:14: UserWarning: Boolean Series key will be reindexed to match DataFrame index.\n",
      "  entropy_bot = entropy(df_merge_clean[df_merge['bot'] == 1][col])\n"
     ]
    },
    {
     "name": "stdout",
     "output_type": "stream",
     "text": [
      "num_mentions:\n",
      "\tmedian bot: 0.0 median non bot: 1.0 median all: 0.0\n",
      "\tmean bot: 1.7600076971003286e+81 mean non bot: 1.0 mean all: 6.245663231135546e+80\n",
      "\tentropy bot: 1.237315576890967e-34 entropy non bot: 1.0 entropy all: 1.9812597641766234e-07\n",
      "----------------------------------------------\n"
     ]
    },
    {
     "name": "stderr",
     "output_type": "stream",
     "text": [
      "C:\\Users\\al\\AppData\\Local\\Temp\\ipykernel_12472\\971312053.py:14: UserWarning: Boolean Series key will be reindexed to match DataFrame index.\n",
      "  entropy_bot = entropy(df_merge_clean[df_merge['bot'] == 1][col])\n"
     ]
    },
    {
     "name": "stdout",
     "output_type": "stream",
     "text": [
      "num_urls:\n",
      "\tmedian bot: 0.0 median non bot: 0.0 median all: 0.0\n",
      "\tmean bot: 2.93321107709564e+203 mean non bot: 0.0 mean all: 1.0408557749644833e+203\n",
      "\tentropy bot: 1.3833362042069411e-73 entropy non bot: 0.0 entropy all: 4.064181271767578e-34\n",
      "----------------------------------------------\n"
     ]
    },
    {
     "name": "stderr",
     "output_type": "stream",
     "text": [
      "C:\\Users\\al\\AppData\\Local\\Temp\\ipykernel_12472\\971312053.py:14: UserWarning: Boolean Series key will be reindexed to match DataFrame index.\n",
      "  entropy_bot = entropy(df_merge_clean[df_merge['bot'] == 1][col])\n"
     ]
    },
    {
     "name": "stdout",
     "output_type": "stream",
     "text": [
      "num_hashtags:\n",
      "\tmedian bot: 0.0 median non bot: 0.0 median all: 0.0\n",
      "\tmean bot: 1.760008213371663e+80 mean non bot: 0.0 mean all: 7.286783003974211e+146\n",
      "\tentropy bot: 8.562228264246138e-35 entropy non bot: 0.0 entropy all: 1.3354993552602188e-56\n",
      "----------------------------------------------\n"
     ]
    }
   ],
   "source": [
    "attrs = [\"retweet_count\", \"reply_count\", \"favorite_count\", \"num_mentions\", \"num_urls\", \"num_hashtags\"]\n",
    "for attr in attrs:\n",
    "    check_bot_stats_diff(attr)\n",
    "    print(\"----------------------------------------------\")"
   ]
  },
  {
   "cell_type": "markdown",
   "metadata": {},
   "source": [
    "# Clean retweet_counts column"
   ]
  },
  {
   "cell_type": "markdown",
   "metadata": {},
   "source": [
    "As it is possible to see the distribution is positively skewed. Considering the statistical indicators, it is clear that the mean is too much influenced by outliers so the median has been taken in account.\n",
    "The search for the optimal threshold is performed by looking at the boxplot and decreasing the threshold until a dense tail is finally visible."
   ]
  },
  {
   "cell_type": "code",
   "execution_count": 27,
   "metadata": {},
   "outputs": [
    {
     "name": "stderr",
     "output_type": "stream",
     "text": [
      "C:\\Users\\al\\anaconda3\\lib\\site-packages\\scipy\\stats\\_entropy.py:72: RuntimeWarning: invalid value encountered in true_divide\n",
      "  pk = 1.0*pk / np.sum(pk, axis=axis, keepdims=True)\n"
     ]
    },
    {
     "name": "stdout",
     "output_type": "stream",
     "text": [
      "mean: inf\n",
      "median: 0.0\n",
      "entropy: nan\n"
     ]
    },
    {
     "data": {
      "text/plain": "<Figure size 432x288 with 1 Axes>",
      "image/png": "[encoded data removed]"
     },
     "metadata": {
      "needs_background": "light"
     },
     "output_type": "display_data"
    }
   ],
   "source": [
    "show_statistics(df_tweets,'retweet_count_conv', log=True)"
   ]
  },
  {
   "cell_type": "code",
   "execution_count": 28,
   "metadata": {},
   "outputs": [
    {
     "data": {
      "text/plain": "<Figure size 432x288 with 1 Axes>",
      "image/png": "[encoded data removed]"
     },
     "metadata": {
      "needs_background": "light"
     },
     "output_type": "display_data"
    }
   ],
   "source": [
    "plot_hist(df_tweets[df_tweets['retweet_count_conv']!=np.inf], 'retweet_count_conv')"
   ]
  },
  {
   "cell_type": "markdown",
   "metadata": {},
   "source": [
    "Analyze how boxplots change with different thresholds for the highest values (which are most likely noisy values)."
   ]
  },
  {
   "cell_type": "code",
   "execution_count": 29,
   "metadata": {},
   "outputs": [
    {
     "data": {
      "text/plain": "<Figure size 432x288 with 1 Axes>",
      "image/png": "[encoded data removed]"
     },
     "metadata": {
      "needs_background": "light"
     },
     "output_type": "display_data"
    },
    {
     "data": {
      "text/plain": "<Figure size 432x288 with 1 Axes>",
      "image/png": "[encoded data removed]"
     },
     "metadata": {
      "needs_background": "light"
     },
     "output_type": "display_data"
    },
    {
     "data": {
      "text/plain": "<Figure size 432x288 with 1 Axes>",
      "image/png": "[encoded data removed]"
     },
     "metadata": {
      "needs_background": "light"
     },
     "output_type": "display_data"
    },
    {
     "data": {
      "text/plain": "<Figure size 432x288 with 1 Axes>",
      "image/png": "[encoded data removed]"
     },
     "metadata": {
      "needs_background": "light"
     },
     "output_type": "display_data"
    },
    {
     "data": {
      "text/plain": "<Figure size 432x288 with 1 Axes>",
      "image/png": "[encoded data removed]"
     },
     "metadata": {
      "needs_background": "light"
     },
     "output_type": "display_data"
    },
    {
     "data": {
      "text/plain": "<Figure size 432x288 with 1 Axes>",
      "image/png": "[encoded data removed]"
     },
     "metadata": {
      "needs_background": "light"
     },
     "output_type": "display_data"
    },
    {
     "data": {
      "text/plain": "<Figure size 432x288 with 1 Axes>",
      "image/png": "[encoded data removed]"
     },
     "metadata": {
      "needs_background": "light"
     },
     "output_type": "display_data"
    }
   ],
   "source": [
    "for p in range(10,3,-1):\n",
    "    threshold = 10**p\n",
    "    plot_boxplot(df_tweets[df_tweets.retweet_count_conv.values < threshold],'retweet_count_conv', log=False)"
   ]
  },
  {
   "cell_type": "markdown",
   "metadata": {},
   "source": [
    "5 * 1e5 seems to be a reasonable threshold.\n",
    "\n",
    "For the missing values (-1) and the values over the threshold we have checked if the same user has other tweets in the dataset to extract statistics from them. \n",
    "\n",
    "If there are not other tweets or there are only tweets with missing values the median over all the dataset is set as default."
   ]
  },
  {
   "cell_type": "code",
   "execution_count": 30,
   "metadata": {},
   "outputs": [
    {
     "name": "stderr",
     "output_type": "stream",
     "text": [
      "C:\\Users\\al\\AppData\\Local\\Temp\\ipykernel_12472\\3115653370.py:30: FutureWarning: ['created_at', 'text'] did not aggregate successfully. If any error is raised this will raise in a future version of pandas. Drop these columns/ops to avoid this warning.\n",
      "  df_stats = df_to_replace[condition_for_median].groupby(by=['user_id']).agg([\"median\", \"var\"])[attribute_name]\n"
     ]
    }
   ],
   "source": [
    "threshold = 5e5\n",
    "df_tweets = replace_with_user_median(df_tweets, 'retweet_count_conv', threshold=threshold)"
   ]
  },
  {
   "cell_type": "markdown",
   "metadata": {},
   "source": [
    "The distribution remains skewed, but it is better than before since different noisy values have been removed."
   ]
  },
  {
   "cell_type": "code",
   "execution_count": 31,
   "metadata": {},
   "outputs": [
    {
     "name": "stdout",
     "output_type": "stream",
     "text": [
      "mean: 186.01773886956212\n",
      "median: 0.0\n",
      "entropy: 11.588566433798187\n"
     ]
    },
    {
     "data": {
      "text/plain": "<Figure size 432x288 with 1 Axes>",
      "image/png": "[encoded data removed]"
     },
     "metadata": {
      "needs_background": "light"
     },
     "output_type": "display_data"
    }
   ],
   "source": [
    "show_statistics(df_tweets,'retweet_count_conv')"
   ]
  },
  {
   "cell_type": "code",
   "execution_count": 32,
   "metadata": {},
   "outputs": [
    {
     "data": {
      "text/plain": "<Figure size 432x288 with 1 Axes>",
      "image/png": "[encoded data removed]"
     },
     "metadata": {
      "needs_background": "light"
     },
     "output_type": "display_data"
    }
   ],
   "source": [
    "plot_hist(df_tweets, 'retweet_count_conv')"
   ]
  },
  {
   "cell_type": "code",
   "execution_count": 33,
   "metadata": {},
   "outputs": [],
   "source": [
    "# Drop column with noisy values\n",
    "df_tweets.drop(columns = ['retweet_count'], inplace=True)"
   ]
  },
  {
   "cell_type": "markdown",
   "metadata": {},
   "source": [
    "Same procedure has been applied to `reply_count` and `favorite_count` columns with different thresholds (respectively 2e6 and 5e5)."
   ]
  },
  {
   "cell_type": "markdown",
   "metadata": {},
   "source": [
    "# Clean reply_count column"
   ]
  },
  {
   "cell_type": "code",
   "execution_count": 34,
   "metadata": {},
   "outputs": [
    {
     "name": "stderr",
     "output_type": "stream",
     "text": [
      "C:\\Users\\al\\anaconda3\\lib\\site-packages\\scipy\\stats\\_entropy.py:72: RuntimeWarning: invalid value encountered in true_divide\n",
      "  pk = 1.0*pk / np.sum(pk, axis=axis, keepdims=True)\n"
     ]
    },
    {
     "name": "stdout",
     "output_type": "stream",
     "text": [
      "mean: inf\n",
      "median: 0.0\n",
      "entropy: nan\n"
     ]
    },
    {
     "data": {
      "text/plain": "<Figure size 432x288 with 1 Axes>",
      "image/png": "[encoded data removed]"
     },
     "metadata": {
      "needs_background": "light"
     },
     "output_type": "display_data"
    }
   ],
   "source": [
    "show_statistics(df_tweets,'reply_count_conv', log=True)"
   ]
  },
  {
   "cell_type": "code",
   "execution_count": 35,
   "metadata": {},
   "outputs": [
    {
     "data": {
      "text/plain": "<Figure size 432x288 with 1 Axes>",
      "image/png": "[encoded data removed]"
     },
     "metadata": {
      "needs_background": "light"
     },
     "output_type": "display_data"
    }
   ],
   "source": [
    "plot_hist(df_tweets[df_tweets['reply_count_conv']!=np.inf], 'reply_count_conv')"
   ]
  },
  {
   "cell_type": "code",
   "execution_count": 36,
   "metadata": {},
   "outputs": [
    {
     "data": {
      "text/plain": "<Figure size 432x288 with 1 Axes>",
      "image/png": "[encoded data removed]"
     },
     "metadata": {
      "needs_background": "light"
     },
     "output_type": "display_data"
    },
    {
     "data": {
      "text/plain": "<Figure size 432x288 with 1 Axes>",
      "image/png": "[encoded data removed]"
     },
     "metadata": {
      "needs_background": "light"
     },
     "output_type": "display_data"
    },
    {
     "data": {
      "text/plain": "<Figure size 432x288 with 1 Axes>",
      "image/png": "[encoded data removed]"
     },
     "metadata": {
      "needs_background": "light"
     },
     "output_type": "display_data"
    },
    {
     "data": {
      "text/plain": "<Figure size 432x288 with 1 Axes>",
      "image/png": "[encoded data removed]"
     },
     "metadata": {
      "needs_background": "light"
     },
     "output_type": "display_data"
    },
    {
     "data": {
      "text/plain": "<Figure size 432x288 with 1 Axes>",
      "image/png": "[encoded data removed]"
     },
     "metadata": {
      "needs_background": "light"
     },
     "output_type": "display_data"
    },
    {
     "data": {
      "text/plain": "<Figure size 432x288 with 1 Axes>",
      "image/png": "[encoded data removed]"
     },
     "metadata": {
      "needs_background": "light"
     },
     "output_type": "display_data"
    },
    {
     "data": {
      "text/plain": "<Figure size 432x288 with 1 Axes>",
      "image/png": "[encoded data removed]"
     },
     "metadata": {
      "needs_background": "light"
     },
     "output_type": "display_data"
    }
   ],
   "source": [
    "for p in range(10,3,-1):\n",
    "    threshold = 10**p\n",
    "    plot_boxplot(df_tweets[df_tweets.reply_count_conv.values < threshold],'reply_count_conv', log=False)"
   ]
  },
  {
   "cell_type": "markdown",
   "metadata": {},
   "source": [
    "Cutting at 2 millions  or 600000 seems to be a reasonable choidce"
   ]
  },
  {
   "cell_type": "code",
   "execution_count": 37,
   "metadata": {},
   "outputs": [
    {
     "name": "stderr",
     "output_type": "stream",
     "text": [
      "C:\\Users\\al\\AppData\\Local\\Temp\\ipykernel_12472\\3115653370.py:30: FutureWarning: ['created_at', 'text'] did not aggregate successfully. If any error is raised this will raise in a future version of pandas. Drop these columns/ops to avoid this warning.\n",
      "  df_stats = df_to_replace[condition_for_median].groupby(by=['user_id']).agg([\"median\", \"var\"])[attribute_name]\n"
     ]
    }
   ],
   "source": [
    "threshold =2e6\n",
    "df_tweets = replace_with_user_median(df_tweets, 'reply_count_conv', threshold=threshold)"
   ]
  },
  {
   "cell_type": "code",
   "execution_count": 38,
   "metadata": {},
   "outputs": [
    {
     "name": "stdout",
     "output_type": "stream",
     "text": [
      "mean: 1.095740560583912\n",
      "median: 0.0\n",
      "entropy: 3.427646669364797\n"
     ]
    },
    {
     "data": {
      "text/plain": "<Figure size 432x288 with 1 Axes>",
      "image/png": "[encoded data removed]"
     },
     "metadata": {
      "needs_background": "light"
     },
     "output_type": "display_data"
    }
   ],
   "source": [
    "show_statistics(df_tweets,'reply_count_conv', True)"
   ]
  },
  {
   "cell_type": "code",
   "execution_count": 39,
   "metadata": {},
   "outputs": [
    {
     "data": {
      "text/plain": "<Figure size 432x288 with 1 Axes>",
      "image/png": "[encoded data removed]"
     },
     "metadata": {
      "needs_background": "light"
     },
     "output_type": "display_data"
    }
   ],
   "source": [
    "plot_hist(df_tweets, 'reply_count_conv')"
   ]
  },
  {
   "cell_type": "code",
   "execution_count": 40,
   "metadata": {},
   "outputs": [],
   "source": [
    "df_tweets.drop(columns = ['reply_count'], inplace=True)"
   ]
  },
  {
   "cell_type": "markdown",
   "metadata": {},
   "source": [
    "# Clean favorite_count column"
   ]
  },
  {
   "cell_type": "code",
   "execution_count": 41,
   "metadata": {},
   "outputs": [
    {
     "name": "stderr",
     "output_type": "stream",
     "text": [
      "C:\\Users\\al\\anaconda3\\lib\\site-packages\\scipy\\stats\\_entropy.py:72: RuntimeWarning: invalid value encountered in true_divide\n",
      "  pk = 1.0*pk / np.sum(pk, axis=axis, keepdims=True)\n"
     ]
    },
    {
     "name": "stdout",
     "output_type": "stream",
     "text": [
      "mean: inf\n",
      "median: 0.0\n",
      "entropy: nan\n"
     ]
    },
    {
     "data": {
      "text/plain": "<Figure size 432x288 with 1 Axes>",
      "image/png": "[encoded data removed]"
     },
     "metadata": {
      "needs_background": "light"
     },
     "output_type": "display_data"
    }
   ],
   "source": [
    "show_statistics(df_tweets,'favorite_count_conv', log=True)"
   ]
  },
  {
   "cell_type": "code",
   "execution_count": 42,
   "metadata": {},
   "outputs": [
    {
     "data": {
      "text/plain": "<Figure size 432x288 with 1 Axes>",
      "image/png": "[encoded data removed]"
     },
     "metadata": {
      "needs_background": "light"
     },
     "output_type": "display_data"
    }
   ],
   "source": [
    "plot_hist(df_tweets[df_tweets['favorite_count_conv']!=np.inf], 'favorite_count_conv')"
   ]
  },
  {
   "cell_type": "code",
   "execution_count": 43,
   "metadata": {},
   "outputs": [
    {
     "data": {
      "text/plain": "<Figure size 432x288 with 1 Axes>",
      "image/png": "[encoded data removed]"
     },
     "metadata": {
      "needs_background": "light"
     },
     "output_type": "display_data"
    },
    {
     "data": {
      "text/plain": "<Figure size 432x288 with 1 Axes>",
      "image/png": "[encoded data removed]"
     },
     "metadata": {
      "needs_background": "light"
     },
     "output_type": "display_data"
    },
    {
     "data": {
      "text/plain": "<Figure size 432x288 with 1 Axes>",
      "image/png": "[encoded data removed]"
     },
     "metadata": {
      "needs_background": "light"
     },
     "output_type": "display_data"
    },
    {
     "data": {
      "text/plain": "<Figure size 432x288 with 1 Axes>",
      "image/png": "[encoded data removed]"
     },
     "metadata": {
      "needs_background": "light"
     },
     "output_type": "display_data"
    },
    {
     "data": {
      "text/plain": "<Figure size 432x288 with 1 Axes>",
      "image/png": "[encoded data removed]"
     },
     "metadata": {
      "needs_background": "light"
     },
     "output_type": "display_data"
    },
    {
     "data": {
      "text/plain": "<Figure size 432x288 with 1 Axes>",
      "image/png": "[encoded data removed]"
     },
     "metadata": {
      "needs_background": "light"
     },
     "output_type": "display_data"
    },
    {
     "data": {
      "text/plain": "<Figure size 432x288 with 1 Axes>",
      "image/png": "[encoded data removed]"
     },
     "metadata": {
      "needs_background": "light"
     },
     "output_type": "display_data"
    }
   ],
   "source": [
    "for p in range(10,3,-1):\n",
    "    threshold = 10**p\n",
    "    plot_boxplot(df_tweets[df_tweets.favorite_count_conv.values < threshold],'favorite_count_conv', log=False)"
   ]
  },
  {
   "cell_type": "markdown",
   "metadata": {},
   "source": [
    "5e5 seems a reasonable point to cut"
   ]
  },
  {
   "cell_type": "code",
   "execution_count": 44,
   "metadata": {},
   "outputs": [
    {
     "name": "stderr",
     "output_type": "stream",
     "text": [
      "C:\\Users\\al\\AppData\\Local\\Temp\\ipykernel_12472\\3115653370.py:30: FutureWarning: ['created_at', 'text'] did not aggregate successfully. If any error is raised this will raise in a future version of pandas. Drop these columns/ops to avoid this warning.\n",
      "  df_stats = df_to_replace[condition_for_median].groupby(by=['user_id']).agg([\"median\", \"var\"])[attribute_name]\n"
     ]
    }
   ],
   "source": [
    "threshold = 5e5\n",
    "df_tweets = replace_with_user_median(df_tweets, 'favorite_count_conv', threshold=threshold)"
   ]
  },
  {
   "cell_type": "code",
   "execution_count": 45,
   "metadata": {},
   "outputs": [
    {
     "name": "stdout",
     "output_type": "stream",
     "text": [
      "mean: 1.9063277322480912\n",
      "median: 0.0\n",
      "entropy: 8.544106368251835\n"
     ]
    },
    {
     "data": {
      "text/plain": "<Figure size 432x288 with 1 Axes>",
      "image/png": "[encoded data removed]"
     },
     "metadata": {
      "needs_background": "light"
     },
     "output_type": "display_data"
    }
   ],
   "source": [
    "show_statistics(df_tweets,'favorite_count_conv', True)"
   ]
  },
  {
   "cell_type": "code",
   "execution_count": 46,
   "metadata": {},
   "outputs": [
    {
     "data": {
      "text/plain": "<Figure size 432x288 with 1 Axes>",
      "image/png": "[encoded data removed]"
     },
     "metadata": {
      "needs_background": "light"
     },
     "output_type": "display_data"
    }
   ],
   "source": [
    "plot_hist(df_tweets, 'favorite_count_conv')"
   ]
  },
  {
   "cell_type": "code",
   "execution_count": 47,
   "metadata": {},
   "outputs": [],
   "source": [
    "df_tweets.drop(columns = ['favorite_count'], inplace=True)"
   ]
  },
  {
   "cell_type": "markdown",
   "metadata": {},
   "source": [
    "# File checkpoint"
   ]
  },
  {
   "cell_type": "code",
   "execution_count": 48,
   "metadata": {},
   "outputs": [],
   "source": [
    "df_tweets.to_csv(path_or_buf=DATA_PATH+'tweets_clean_counts.csv', sep='#', index=False)"
   ]
  },
  {
   "cell_type": "code",
   "execution_count": 49,
   "metadata": {},
   "outputs": [],
   "source": [
    "df_tweets = pd.read_csv(DATA_PATH+'tweets_clean_counts.csv', sep='#')"
   ]
  },
  {
   "cell_type": "markdown",
   "metadata": {},
   "source": [
    "# Created at"
   ]
  },
  {
   "cell_type": "code",
   "execution_count": 52,
   "metadata": {},
   "outputs": [
    {
     "name": "stdout",
     "output_type": "stream",
     "text": [
      "mean: 1.568855116221584e+18\n",
      "median: 1.5726412485e+18\n",
      "entropy: 16.09950461486415\n"
     ]
    },
    {
     "data": {
      "text/plain": "<Figure size 432x288 with 1 Axes>",
      "image/png": "[encoded data removed]"
     },
     "metadata": {
      "needs_background": "light"
     },
     "output_type": "display_data"
    }
   ],
   "source": [
    "show_statistics(df_tweets,'created_at_conv', log=False, norm=True, date=True)"
   ]
  },
  {
   "cell_type": "code",
   "execution_count": 53,
   "metadata": {},
   "outputs": [
    {
     "data": {
      "text/plain": "1142899200000000000"
     },
     "execution_count": 53,
     "metadata": {},
     "output_type": "execute_result"
    }
   ],
   "source": [
    "# Select tweets between the foundation of Twitter\n",
    "twitter_foundation = pd.to_datetime([\"20060321\"]).astype(np.int64)[0]\n",
    "# and the time in which the dataset was given to us\n",
    "sep_2022 = pd.to_datetime([\"20220915\"]).astype(np.int64)[0]\n",
    "twitter_foundation"
   ]
  },
  {
   "cell_type": "code",
   "execution_count": 54,
   "metadata": {},
   "outputs": [
    {
     "name": "stderr",
     "output_type": "stream",
     "text": [
      "C:\\Users\\al\\AppData\\Local\\Temp\\ipykernel_12472\\3115653370.py:30: FutureWarning: ['created_at', 'text'] did not aggregate successfully. If any error is raised this will raise in a future version of pandas. Drop these columns/ops to avoid this warning.\n",
      "  df_stats = df_to_replace[condition_for_median].groupby(by=['user_id']).agg([\"median\", \"var\"])[attribute_name]\n"
     ]
    }
   ],
   "source": [
    "# Replace all tweets outside of this bounds (before foundation and after September 2022)\n",
    "replace_condition= lor(df_tweets.created_at_conv < twitter_foundation, df_tweets.created_at_conv > sep_2022)\n",
    "\n",
    "# Replace these dates with (user) median\n",
    "df_tweets = replace_with_user_median(df_tweets, 'created_at_conv', replace_tweets_condition=replace_condition)"
   ]
  },
  {
   "cell_type": "code",
   "execution_count": 55,
   "metadata": {},
   "outputs": [],
   "source": [
    "df_tweets['created_at'] = pd.to_datetime(df_tweets.created_at_conv)"
   ]
  },
  {
   "cell_type": "markdown",
   "metadata": {},
   "source": [
    "Check that user tweets have created_at set after its subscription to twitter"
   ]
  },
  {
   "cell_type": "code",
   "execution_count": 56,
   "metadata": {},
   "outputs": [
    {
     "name": "stdout",
     "output_type": "stream",
     "text": [
      "<class 'pandas.core.frame.DataFrame'>\n",
      "Int64Index: 9816550 entries, 0 to 9816549\n",
      "Data columns (total 22 columns):\n",
      " #   Column                     Dtype         \n",
      "---  ------                     -----         \n",
      " 0   level_0                    int64         \n",
      " 1   user_id                    object        \n",
      " 2   created_at                 datetime64[ns]\n",
      " 3   text                       object        \n",
      " 4   num_hashtags               float64       \n",
      " 5   num_urls                   float64       \n",
      " 6   num_mentions               float64       \n",
      " 7   user_id_conv               float64       \n",
      " 8   created_at_conv            int64         \n",
      " 9   retweet_count_conv         float64       \n",
      " 10  reply_count_conv           float64       \n",
      " 11  favorite_count_conv        float64       \n",
      " 12  num_hashtags_conv          float64       \n",
      " 13  num_urls_conv              float64       \n",
      " 14  num_mentions_conv          float64       \n",
      " 15  id                         object        \n",
      " 16  name                       object        \n",
      " 17  lang                       object        \n",
      " 18  bot                        float64       \n",
      " 19  user_subscription          object        \n",
      " 20  statuses_count             float64       \n",
      " 21  user_subscription_in_secs  float64       \n",
      "dtypes: datetime64[ns](1), float64(13), int64(2), object(6)\n",
      "memory usage: 1.7+ GB\n"
     ]
    }
   ],
   "source": [
    "df_users.id = df_users.id.astype(str)\n",
    "df_merged = df_tweets.merge(df_users, left_on='user_id', right_on='id', how='left')\n",
    "df_merged.info()"
   ]
  },
  {
   "cell_type": "markdown",
   "metadata": {},
   "source": [
    "No user has tweets before the creation of its profile"
   ]
  },
  {
   "cell_type": "code",
   "execution_count": 57,
   "metadata": {},
   "outputs": [
    {
     "data": {
      "text/plain": "Empty DataFrame\nColumns: [level_0, user_id, created_at, text, num_hashtags, num_urls, num_mentions, user_id_conv, created_at_conv, retweet_count_conv, reply_count_conv, favorite_count_conv, num_hashtags_conv, num_urls_conv, num_mentions_conv, id, name, lang, bot, user_subscription, statuses_count, user_subscription_in_secs]\nIndex: []\n\n[0 rows x 22 columns]",
      "text/html": "<div>\n<style scoped>\n    .dataframe tbody tr th:only-of-type {\n        vertical-align: middle;\n    }\n\n    .dataframe tbody tr th {\n        vertical-align: top;\n    }\n\n    .dataframe thead th {\n        text-align: right;\n    }\n</style>\n<table border=\"1\" class=\"dataframe\">\n  <thead>\n    <tr style=\"text-align: right;\">\n      <th></th>\n      <th>level_0</th>\n      <th>user_id</th>\n      <th>created_at</th>\n      <th>text</th>\n      <th>num_hashtags</th>\n      <th>num_urls</th>\n      <th>num_mentions</th>\n      <th>user_id_conv</th>\n      <th>created_at_conv</th>\n      <th>retweet_count_conv</th>\n      <th>...</th>\n      <th>num_hashtags_conv</th>\n      <th>num_urls_conv</th>\n      <th>num_mentions_conv</th>\n      <th>id</th>\n      <th>name</th>\n      <th>lang</th>\n      <th>bot</th>\n      <th>user_subscription</th>\n      <th>statuses_count</th>\n      <th>user_subscription_in_secs</th>\n    </tr>\n  </thead>\n  <tbody>\n  </tbody>\n</table>\n<p>0 rows × 22 columns</p>\n</div>"
     },
     "execution_count": 57,
     "metadata": {},
     "output_type": "execute_result"
    }
   ],
   "source": [
    "df_merged[df_merged.created_at_conv < df_merged.user_subscription_in_secs]"
   ]
  },
  {
   "cell_type": "code",
   "execution_count": 58,
   "metadata": {},
   "outputs": [
    {
     "data": {
      "text/plain": "        level_0    user_id          created_at  \\\n344590   344870  476876406 2020-05-03 10:36:12   \n\n                                                     text  num_hashtags  \\\n344590  RT @people: It's a princess! William and Kate ...           1.0   \n\n        num_urls  num_mentions  user_id_conv      created_at_conv  \\\n344590       1.0           1.0   476876406.0  1588502172000000000   \n\n        retweet_count_conv  reply_count_conv  favorite_count_conv  \\\n344590                 2.0               0.0                  0.0   \n\n        num_hashtags_conv  num_urls_conv  num_mentions_conv  \n344590                1.0            1.0                1.0  ",
      "text/html": "<div>\n<style scoped>\n    .dataframe tbody tr th:only-of-type {\n        vertical-align: middle;\n    }\n\n    .dataframe tbody tr th {\n        vertical-align: top;\n    }\n\n    .dataframe thead th {\n        text-align: right;\n    }\n</style>\n<table border=\"1\" class=\"dataframe\">\n  <thead>\n    <tr style=\"text-align: right;\">\n      <th></th>\n      <th>level_0</th>\n      <th>user_id</th>\n      <th>created_at</th>\n      <th>text</th>\n      <th>num_hashtags</th>\n      <th>num_urls</th>\n      <th>num_mentions</th>\n      <th>user_id_conv</th>\n      <th>created_at_conv</th>\n      <th>retweet_count_conv</th>\n      <th>reply_count_conv</th>\n      <th>favorite_count_conv</th>\n      <th>num_hashtags_conv</th>\n      <th>num_urls_conv</th>\n      <th>num_mentions_conv</th>\n    </tr>\n  </thead>\n  <tbody>\n    <tr>\n      <th>344590</th>\n      <td>344870</td>\n      <td>476876406</td>\n      <td>2020-05-03 10:36:12</td>\n      <td>RT @people: It's a princess! William and Kate ...</td>\n      <td>1.0</td>\n      <td>1.0</td>\n      <td>1.0</td>\n      <td>476876406.0</td>\n      <td>1588502172000000000</td>\n      <td>2.0</td>\n      <td>0.0</td>\n      <td>0.0</td>\n      <td>1.0</td>\n      <td>1.0</td>\n      <td>1.0</td>\n    </tr>\n  </tbody>\n</table>\n</div>"
     },
     "execution_count": 58,
     "metadata": {},
     "output_type": "execute_result"
    }
   ],
   "source": [
    "df_tweets[df_tweets.created_at_conv == df_tweets.created_at_conv.max()]"
   ]
  },
  {
   "cell_type": "code",
   "execution_count": 59,
   "metadata": {},
   "outputs": [
    {
     "data": {
      "text/plain": "         level_0 user_id          created_at  \\\n2704101  2723546  887281 2012-03-11 22:25:59   \n\n                                     text  num_hashtags  num_urls  \\\n2704101  Back from eating at Jamon Jamon.           0.0       0.0   \n\n         num_mentions  user_id_conv      created_at_conv  retweet_count_conv  \\\n2704101           0.0      887281.0  1331504759000000000                 0.0   \n\n         reply_count_conv  favorite_count_conv  num_hashtags_conv  \\\n2704101               0.0                  0.0                0.0   \n\n         num_urls_conv  num_mentions_conv  \n2704101            0.0                0.0  ",
      "text/html": "<div>\n<style scoped>\n    .dataframe tbody tr th:only-of-type {\n        vertical-align: middle;\n    }\n\n    .dataframe tbody tr th {\n        vertical-align: top;\n    }\n\n    .dataframe thead th {\n        text-align: right;\n    }\n</style>\n<table border=\"1\" class=\"dataframe\">\n  <thead>\n    <tr style=\"text-align: right;\">\n      <th></th>\n      <th>level_0</th>\n      <th>user_id</th>\n      <th>created_at</th>\n      <th>text</th>\n      <th>num_hashtags</th>\n      <th>num_urls</th>\n      <th>num_mentions</th>\n      <th>user_id_conv</th>\n      <th>created_at_conv</th>\n      <th>retweet_count_conv</th>\n      <th>reply_count_conv</th>\n      <th>favorite_count_conv</th>\n      <th>num_hashtags_conv</th>\n      <th>num_urls_conv</th>\n      <th>num_mentions_conv</th>\n    </tr>\n  </thead>\n  <tbody>\n    <tr>\n      <th>2704101</th>\n      <td>2723546</td>\n      <td>887281</td>\n      <td>2012-03-11 22:25:59</td>\n      <td>Back from eating at Jamon Jamon.</td>\n      <td>0.0</td>\n      <td>0.0</td>\n      <td>0.0</td>\n      <td>887281.0</td>\n      <td>1331504759000000000</td>\n      <td>0.0</td>\n      <td>0.0</td>\n      <td>0.0</td>\n      <td>0.0</td>\n      <td>0.0</td>\n      <td>0.0</td>\n    </tr>\n  </tbody>\n</table>\n</div>"
     },
     "execution_count": 59,
     "metadata": {},
     "output_type": "execute_result"
    }
   ],
   "source": [
    "df_tweets[df_tweets.created_at_conv == df_tweets.created_at_conv.min()]"
   ]
  },
  {
   "cell_type": "markdown",
   "metadata": {},
   "source": [
    "The distribution has significantly improved after removing all the noisy values."
   ]
  },
  {
   "cell_type": "code",
   "execution_count": 60,
   "metadata": {},
   "outputs": [
    {
     "name": "stdout",
     "output_type": "stream",
     "text": [
      "mean: 1.5688553971486694e+18\n",
      "median: 1.572641148e+18\n",
      "entropy: 16.094390701644457\n"
     ]
    },
    {
     "data": {
      "text/plain": "<Figure size 432x288 with 1 Axes>",
      "image/png": "[encoded data removed]"
     },
     "metadata": {
      "needs_background": "light"
     },
     "output_type": "display_data"
    }
   ],
   "source": [
    "show_statistics(df_tweets, 'created_at_conv', log=False, norm=True, date=True)"
   ]
  },
  {
   "cell_type": "markdown",
   "metadata": {},
   "source": [
    "# File checkpoint"
   ]
  },
  {
   "cell_type": "code",
   "execution_count": 61,
   "metadata": {},
   "outputs": [],
   "source": [
    "df_tweets.to_csv(path_or_buf=DATA_PATH+'tweets_clean_created_at.csv', sep='#', index=False)"
   ]
  },
  {
   "cell_type": "code",
   "execution_count": 62,
   "metadata": {},
   "outputs": [],
   "source": [
    "df_tweets = pd.read_csv(DATA_PATH+'tweets_clean_created_at.csv', sep='#')"
   ]
  },
  {
   "cell_type": "markdown",
   "metadata": {},
   "source": [
    "# Number of hashtags"
   ]
  },
  {
   "cell_type": "markdown",
   "metadata": {},
   "source": [
    "An hashtag is composed by at least 2 characters, the `#` and an alphanumeric symbol. Since the 8th of november 2017 a tweet is made by at most 280 characters, before 2017, the maximum was 140. So the maximum number of hashtags in a tweet before 2017-11-8 should be 70, after 2017-11-8 140."
   ]
  },
  {
   "cell_type": "code",
   "execution_count": 63,
   "metadata": {},
   "outputs": [
    {
     "name": "stderr",
     "output_type": "stream",
     "text": [
      "C:\\Users\\al\\anaconda3\\lib\\site-packages\\scipy\\stats\\_entropy.py:72: RuntimeWarning: invalid value encountered in true_divide\n",
      "  pk = 1.0*pk / np.sum(pk, axis=axis, keepdims=True)\n"
     ]
    },
    {
     "name": "stdout",
     "output_type": "stream",
     "text": [
      "mean: inf\n",
      "median: 0.0\n",
      "entropy: nan\n"
     ]
    },
    {
     "data": {
      "text/plain": "<Figure size 432x288 with 1 Axes>",
      "image/png": "[encoded data removed]"
     },
     "metadata": {
      "needs_background": "light"
     },
     "output_type": "display_data"
    }
   ],
   "source": [
    "show_statistics(df_tweets, 'num_hashtags_conv', log=True)"
   ]
  },
  {
   "cell_type": "code",
   "execution_count": 64,
   "metadata": {},
   "outputs": [
    {
     "data": {
      "text/plain": "<Figure size 432x288 with 1 Axes>",
      "image/png": "[encoded data removed]"
     },
     "metadata": {
      "needs_background": "light"
     },
     "output_type": "display_data"
    }
   ],
   "source": [
    "plot_hist(df_tweets[df_tweets.num_hashtags_conv != np.inf], 'num_hashtags_conv')"
   ]
  },
  {
   "cell_type": "code",
   "execution_count": 65,
   "metadata": {},
   "outputs": [],
   "source": [
    "double_char_date = pd.to_datetime([\"20171108\"]).astype(np.int64)[0]"
   ]
  },
  {
   "cell_type": "code",
   "execution_count": 66,
   "metadata": {},
   "outputs": [],
   "source": [
    "max_hash_num = 140/3\n",
    "\n",
    "# Conditions on dates\n",
    "date_cond = df_tweets.created_at_conv < double_char_date\n",
    "# and maximum number if hashtags\n",
    "max_cond = df_tweets.num_hashtags_conv > max_hash_num\n",
    "# and noisy values\n",
    "wrong_cond = df_tweets.num_hashtags_conv == -1\n",
    "replace_cond = land(lor(max_cond, wrong_cond), date_cond)\n",
    "\n",
    "replace_value = df_tweets[land(date_cond, land(~max_cond, ~wrong_cond))].num_hashtags_conv.median()\n",
    "\n",
    "df_tweets = fix_values(df_tweets, 'num_hashtags_conv', replace_cond, replace_value)"
   ]
  },
  {
   "cell_type": "code",
   "execution_count": 67,
   "metadata": {},
   "outputs": [],
   "source": [
    "max_hash_num = 280/3\n",
    "\n",
    "# Conditions on dates\n",
    "date_cond = df_tweets.created_at_conv > double_char_date\n",
    "# and maximum number if hashtags\n",
    "max_cond = df_tweets.num_hashtags_conv > max_hash_num\n",
    "# and noisy values\n",
    "wrong_cond = df_tweets.num_hashtags_conv == -1\n",
    "replace_cond = land(lor(max_cond, wrong_cond), date_cond)\n",
    "\n",
    "replace_value = df_tweets[land(date_cond, land(~max_cond, ~wrong_cond))].num_hashtags_conv.median()\n",
    "\n",
    "df_tweets = fix_values(df_tweets, 'num_hashtags_conv', replace_cond, replace_value)"
   ]
  },
  {
   "cell_type": "code",
   "execution_count": 68,
   "metadata": {},
   "outputs": [
    {
     "name": "stdout",
     "output_type": "stream",
     "text": [
      "mean: 0.1748582750559005\n",
      "median: 0.0\n",
      "entropy: 13.733821948302717\n"
     ]
    },
    {
     "data": {
      "text/plain": "<Figure size 432x288 with 1 Axes>",
      "image/png": "[encoded data removed]"
     },
     "metadata": {
      "needs_background": "light"
     },
     "output_type": "display_data"
    }
   ],
   "source": [
    "show_statistics(df_tweets, 'num_hashtags_conv')"
   ]
  },
  {
   "cell_type": "code",
   "execution_count": 69,
   "metadata": {},
   "outputs": [
    {
     "data": {
      "text/plain": "        level_0   user_id           created_at  \\\n197127   197215  27164845  2019-10-03 07:08:56   \n\n                                                     text  num_hashtags  \\\n197127  Man ion feel like going to work tomorrow that ...          93.0   \n\n        num_urls  num_mentions  user_id_conv      created_at_conv  \\\n197127       0.0           0.0    27164845.0  1570086536000000000   \n\n        retweet_count_conv  reply_count_conv  favorite_count_conv  \\\n197127                 0.0               0.0                  0.0   \n\n        num_hashtags_conv  num_urls_conv  num_mentions_conv  \n197127               93.0            0.0                0.0  ",
      "text/html": "<div>\n<style scoped>\n    .dataframe tbody tr th:only-of-type {\n        vertical-align: middle;\n    }\n\n    .dataframe tbody tr th {\n        vertical-align: top;\n    }\n\n    .dataframe thead th {\n        text-align: right;\n    }\n</style>\n<table border=\"1\" class=\"dataframe\">\n  <thead>\n    <tr style=\"text-align: right;\">\n      <th></th>\n      <th>level_0</th>\n      <th>user_id</th>\n      <th>created_at</th>\n      <th>text</th>\n      <th>num_hashtags</th>\n      <th>num_urls</th>\n      <th>num_mentions</th>\n      <th>user_id_conv</th>\n      <th>created_at_conv</th>\n      <th>retweet_count_conv</th>\n      <th>reply_count_conv</th>\n      <th>favorite_count_conv</th>\n      <th>num_hashtags_conv</th>\n      <th>num_urls_conv</th>\n      <th>num_mentions_conv</th>\n    </tr>\n  </thead>\n  <tbody>\n    <tr>\n      <th>197127</th>\n      <td>197215</td>\n      <td>27164845</td>\n      <td>2019-10-03 07:08:56</td>\n      <td>Man ion feel like going to work tomorrow that ...</td>\n      <td>93.0</td>\n      <td>0.0</td>\n      <td>0.0</td>\n      <td>27164845.0</td>\n      <td>1570086536000000000</td>\n      <td>0.0</td>\n      <td>0.0</td>\n      <td>0.0</td>\n      <td>93.0</td>\n      <td>0.0</td>\n      <td>0.0</td>\n    </tr>\n  </tbody>\n</table>\n</div>"
     },
     "execution_count": 69,
     "metadata": {},
     "output_type": "execute_result"
    }
   ],
   "source": [
    "# Tweet with maximum number of hashtags\n",
    "df_tweets[df_tweets.num_hashtags_conv == df_tweets.num_hashtags_conv.max()]"
   ]
  },
  {
   "cell_type": "code",
   "execution_count": 70,
   "metadata": {},
   "outputs": [],
   "source": [
    "df_tweets.drop(columns = ['num_hashtags'], inplace=True)"
   ]
  },
  {
   "cell_type": "markdown",
   "metadata": {},
   "source": [
    "# Number of mentions"
   ]
  },
  {
   "cell_type": "markdown",
   "metadata": {},
   "source": [
    "A mention is composed by at least 2 characters, the `@` and an alphanumeric symbol. Since the 8th of november 2017 a tweet is made by at most 280 characters, before 2017, the maximum was 140. So the maximum number of mention in a tweet before 2017-11-8 should be 70, after 2017-11-8 140."
   ]
  },
  {
   "cell_type": "code",
   "execution_count": 71,
   "metadata": {},
   "outputs": [
    {
     "name": "stderr",
     "output_type": "stream",
     "text": [
      "C:\\Users\\al\\anaconda3\\lib\\site-packages\\scipy\\stats\\_entropy.py:72: RuntimeWarning: invalid value encountered in true_divide\n",
      "  pk = 1.0*pk / np.sum(pk, axis=axis, keepdims=True)\n"
     ]
    },
    {
     "name": "stdout",
     "output_type": "stream",
     "text": [
      "mean: inf\n",
      "median: 0.0\n",
      "entropy: nan\n"
     ]
    },
    {
     "data": {
      "text/plain": "<Figure size 432x288 with 1 Axes>",
      "image/png": "[encoded data removed]"
     },
     "metadata": {
      "needs_background": "light"
     },
     "output_type": "display_data"
    }
   ],
   "source": [
    "show_statistics(df_tweets, 'num_mentions_conv', log=True)"
   ]
  },
  {
   "cell_type": "code",
   "execution_count": 72,
   "metadata": {},
   "outputs": [
    {
     "data": {
      "text/plain": "<Figure size 432x288 with 1 Axes>",
      "image/png": "[encoded data removed]"
     },
     "metadata": {
      "needs_background": "light"
     },
     "output_type": "display_data"
    }
   ],
   "source": [
    "plot_hist(df_tweets[df_tweets.num_mentions_conv != np.inf], 'num_mentions_conv')"
   ]
  },
  {
   "cell_type": "code",
   "execution_count": 73,
   "metadata": {},
   "outputs": [],
   "source": [
    "double_char_date = pd.to_datetime([\"20171108\"]).astype(np.int64)[0]"
   ]
  },
  {
   "cell_type": "code",
   "execution_count": 74,
   "metadata": {},
   "outputs": [],
   "source": [
    "max_mentions_num = 140/3\n",
    "\n",
    "# Conditions on dates\n",
    "date_cond = df_tweets.created_at_conv < double_char_date\n",
    "# and maximum number if hashtags\n",
    "max_cond = df_tweets.num_mentions_conv > max_mentions_num\n",
    "# and noisy values\n",
    "wrong_cond = df_tweets.num_mentions_conv == -1\n",
    "replace_cond = land(lor(max_cond, wrong_cond), date_cond)\n",
    "\n",
    "replace_value = df_tweets[land(date_cond, land(~max_cond, ~wrong_cond))].num_mentions_conv.median()\n",
    "\n",
    "df_tweets = fix_values(df_tweets, 'num_mentions_conv', replace_cond, replace_value)"
   ]
  },
  {
   "cell_type": "code",
   "execution_count": 75,
   "metadata": {},
   "outputs": [],
   "source": [
    "max_mentions_num = 280/3\n",
    "\n",
    "# Conditions on dates\n",
    "date_cond = df_tweets.created_at_conv > double_char_date\n",
    "# and maximum number if hashtags\n",
    "max_cond = df_tweets.num_mentions_conv > max_mentions_num\n",
    "# and noisy values\n",
    "wrong_cond = df_tweets.num_mentions_conv == -1\n",
    "replace_cond = land(lor(max_cond, wrong_cond), date_cond)\n",
    "\n",
    "replace_value = df_tweets[land(date_cond, land(~max_cond, ~wrong_cond))].num_mentions_conv.median()\n",
    "\n",
    "df_tweets = fix_values(df_tweets, 'num_mentions_conv', replace_cond, replace_value)"
   ]
  },
  {
   "cell_type": "code",
   "execution_count": 76,
   "metadata": {},
   "outputs": [
    {
     "name": "stdout",
     "output_type": "stream",
     "text": [
      "mean: 0.5210866343063499\n",
      "median: 0.0\n",
      "entropy: 15.061128183315262\n"
     ]
    },
    {
     "data": {
      "text/plain": "<Figure size 432x288 with 1 Axes>",
      "image/png": "[encoded data removed]"
     },
     "metadata": {
      "needs_background": "light"
     },
     "output_type": "display_data"
    }
   ],
   "source": [
    "show_statistics(df_tweets, 'num_mentions_conv')"
   ]
  },
  {
   "cell_type": "code",
   "execution_count": 77,
   "metadata": {},
   "outputs": [
    {
     "data": {
      "text/plain": "         level_0    user_id           created_at  \\\n9062031  9362590  243926487  2020-01-23 12:26:28   \n\n                                                      text  num_urls  \\\n9062031  Are you a leader or a follower? — Depends on t...       1.0   \n\n         num_mentions  user_id_conv      created_at_conv  retweet_count_conv  \\\n9062031          93.0   243926487.0  1579782388000000000                 0.0   \n\n         reply_count_conv  favorite_count_conv  num_hashtags_conv  \\\n9062031               0.0                  0.0                0.0   \n\n         num_urls_conv  num_mentions_conv  \n9062031            1.0               93.0  ",
      "text/html": "<div>\n<style scoped>\n    .dataframe tbody tr th:only-of-type {\n        vertical-align: middle;\n    }\n\n    .dataframe tbody tr th {\n        vertical-align: top;\n    }\n\n    .dataframe thead th {\n        text-align: right;\n    }\n</style>\n<table border=\"1\" class=\"dataframe\">\n  <thead>\n    <tr style=\"text-align: right;\">\n      <th></th>\n      <th>level_0</th>\n      <th>user_id</th>\n      <th>created_at</th>\n      <th>text</th>\n      <th>num_urls</th>\n      <th>num_mentions</th>\n      <th>user_id_conv</th>\n      <th>created_at_conv</th>\n      <th>retweet_count_conv</th>\n      <th>reply_count_conv</th>\n      <th>favorite_count_conv</th>\n      <th>num_hashtags_conv</th>\n      <th>num_urls_conv</th>\n      <th>num_mentions_conv</th>\n    </tr>\n  </thead>\n  <tbody>\n    <tr>\n      <th>9062031</th>\n      <td>9362590</td>\n      <td>243926487</td>\n      <td>2020-01-23 12:26:28</td>\n      <td>Are you a leader or a follower? — Depends on t...</td>\n      <td>1.0</td>\n      <td>93.0</td>\n      <td>243926487.0</td>\n      <td>1579782388000000000</td>\n      <td>0.0</td>\n      <td>0.0</td>\n      <td>0.0</td>\n      <td>0.0</td>\n      <td>1.0</td>\n      <td>93.0</td>\n    </tr>\n  </tbody>\n</table>\n</div>"
     },
     "execution_count": 77,
     "metadata": {},
     "output_type": "execute_result"
    }
   ],
   "source": [
    "# Tweet with maximum number of mentions\n",
    "df_tweets[df_tweets.num_mentions_conv == df_tweets.num_mentions_conv.max()]"
   ]
  },
  {
   "cell_type": "code",
   "execution_count": 78,
   "metadata": {},
   "outputs": [],
   "source": [
    "df_tweets.drop(columns = ['num_mentions'], inplace=True)"
   ]
  },
  {
   "cell_type": "markdown",
   "metadata": {},
   "source": [
    "# Num URLS"
   ]
  },
  {
   "cell_type": "markdown",
   "metadata": {},
   "source": [
    "A URL is composed by at least 3 characters, like `a.co`. Since the 8th of november 2017 a tweet is made by at most 280 characters, before 2017, the maximum was 140. So the maximum number of urls in a tweet before 2017-11-8 should be 35, after 2017-11-8 70."
   ]
  },
  {
   "cell_type": "code",
   "execution_count": 79,
   "metadata": {},
   "outputs": [
    {
     "name": "stderr",
     "output_type": "stream",
     "text": [
      "C:\\Users\\al\\anaconda3\\lib\\site-packages\\scipy\\stats\\_entropy.py:72: RuntimeWarning: invalid value encountered in true_divide\n",
      "  pk = 1.0*pk / np.sum(pk, axis=axis, keepdims=True)\n"
     ]
    },
    {
     "name": "stdout",
     "output_type": "stream",
     "text": [
      "mean: inf\n",
      "median: 0.0\n",
      "entropy: nan\n"
     ]
    },
    {
     "data": {
      "text/plain": "<Figure size 432x288 with 1 Axes>",
      "image/png": "[encoded data removed]"
     },
     "metadata": {
      "needs_background": "light"
     },
     "output_type": "display_data"
    }
   ],
   "source": [
    "show_statistics(df_tweets, 'num_urls_conv', log=True)"
   ]
  },
  {
   "cell_type": "code",
   "execution_count": 80,
   "metadata": {},
   "outputs": [
    {
     "data": {
      "text/plain": "<Figure size 432x288 with 1 Axes>",
      "image/png": "[encoded data removed]"
     },
     "metadata": {
      "needs_background": "light"
     },
     "output_type": "display_data"
    }
   ],
   "source": [
    "plot_hist(df_tweets[df_tweets.num_urls_conv != np.inf], 'num_urls_conv')"
   ]
  },
  {
   "cell_type": "code",
   "execution_count": 81,
   "metadata": {},
   "outputs": [],
   "source": [
    "double_char_date = pd.to_datetime([\"20171108\"]).astype(np.int64)[0]"
   ]
  },
  {
   "cell_type": "code",
   "execution_count": 82,
   "metadata": {},
   "outputs": [],
   "source": [
    "max_url_num = 140/5\n",
    "\n",
    "# Conditions on dates\n",
    "date_cond = df_tweets.created_at_conv < double_char_date\n",
    "# and maximum number if hashtags\n",
    "max_cond = df_tweets.num_urls_conv > max_url_num\n",
    "# and noisy values\n",
    "wrong_cond = df_tweets.num_urls_conv == -1\n",
    "replace_cond = land(lor(max_cond, wrong_cond), date_cond)\n",
    "\n",
    "replace_value = df_tweets[land(date_cond, land(~max_cond, ~wrong_cond))].num_urls_conv.median()\n",
    "\n",
    "df_tweets = fix_values(df_tweets, 'num_urls_conv', replace_cond, replace_value)"
   ]
  },
  {
   "cell_type": "code",
   "execution_count": 83,
   "metadata": {},
   "outputs": [],
   "source": [
    "max_url_num = 280/5\n",
    "\n",
    "# Conditions on dates\n",
    "date_cond = df_tweets.created_at_conv > double_char_date\n",
    "# and maximum number if hashtags\n",
    "max_cond = df_tweets.num_urls_conv > max_url_num\n",
    "# and noisy values\n",
    "wrong_cond = df_tweets.num_urls_conv == -1\n",
    "replace_cond = land(lor(max_cond, wrong_cond), date_cond)\n",
    "\n",
    "replace_value = df_tweets[land(date_cond, land(~max_cond, ~wrong_cond))].num_urls_conv.median()\n",
    "\n",
    "df_tweets = fix_values(df_tweets, 'num_urls_conv', replace_cond, replace_value)"
   ]
  },
  {
   "cell_type": "code",
   "execution_count": 84,
   "metadata": {},
   "outputs": [
    {
     "name": "stdout",
     "output_type": "stream",
     "text": [
      "mean: 0.16393508921158656\n",
      "median: 0.0\n",
      "entropy: 14.269621364048449\n"
     ]
    },
    {
     "data": {
      "text/plain": "<Figure size 432x288 with 1 Axes>",
      "image/png": "[encoded data removed]"
     },
     "metadata": {
      "needs_background": "light"
     },
     "output_type": "display_data"
    }
   ],
   "source": [
    "show_statistics(df_tweets, 'num_urls_conv')"
   ]
  },
  {
   "cell_type": "code",
   "execution_count": 85,
   "metadata": {},
   "outputs": [
    {
     "data": {
      "text/plain": "        level_0 user_id               created_at  \\\n375031   375375     NaN  2020-02-25 05:59:48.000   \n\n                                                     text  num_urls  \\\n375031  HELP!!!!!!!!!!!!!!!!!!!!!!!!!!!!!!!!!!!!!!!!!!...      56.0   \n\n        user_id_conv      created_at_conv  retweet_count_conv  \\\n375031   231957917.0  1582610388000000000                 0.0   \n\n        reply_count_conv  favorite_count_conv  num_hashtags_conv  \\\n375031               0.0                  0.0                0.0   \n\n        num_urls_conv  num_mentions_conv  \n375031           56.0                0.0  ",
      "text/html": "<div>\n<style scoped>\n    .dataframe tbody tr th:only-of-type {\n        vertical-align: middle;\n    }\n\n    .dataframe tbody tr th {\n        vertical-align: top;\n    }\n\n    .dataframe thead th {\n        text-align: right;\n    }\n</style>\n<table border=\"1\" class=\"dataframe\">\n  <thead>\n    <tr style=\"text-align: right;\">\n      <th></th>\n      <th>level_0</th>\n      <th>user_id</th>\n      <th>created_at</th>\n      <th>text</th>\n      <th>num_urls</th>\n      <th>user_id_conv</th>\n      <th>created_at_conv</th>\n      <th>retweet_count_conv</th>\n      <th>reply_count_conv</th>\n      <th>favorite_count_conv</th>\n      <th>num_hashtags_conv</th>\n      <th>num_urls_conv</th>\n      <th>num_mentions_conv</th>\n    </tr>\n  </thead>\n  <tbody>\n    <tr>\n      <th>375031</th>\n      <td>375375</td>\n      <td>NaN</td>\n      <td>2020-02-25 05:59:48.000</td>\n      <td>HELP!!!!!!!!!!!!!!!!!!!!!!!!!!!!!!!!!!!!!!!!!!...</td>\n      <td>56.0</td>\n      <td>231957917.0</td>\n      <td>1582610388000000000</td>\n      <td>0.0</td>\n      <td>0.0</td>\n      <td>0.0</td>\n      <td>0.0</td>\n      <td>56.0</td>\n      <td>0.0</td>\n    </tr>\n  </tbody>\n</table>\n</div>"
     },
     "execution_count": 85,
     "metadata": {},
     "output_type": "execute_result"
    }
   ],
   "source": [
    "# Tweet with maximum number of urls\n",
    "df_tweets[df_tweets.num_urls_conv == df_tweets.num_urls_conv.max()]"
   ]
  },
  {
   "cell_type": "code",
   "execution_count": 86,
   "metadata": {},
   "outputs": [],
   "source": [
    "df_tweets.drop(columns = ['num_urls'], inplace=True)"
   ]
  },
  {
   "cell_type": "code",
   "execution_count": 87,
   "metadata": {},
   "outputs": [],
   "source": [
    "# Rename all columns\n",
    "df_tweets.rename(columns={\"retweet_count_conv\": \"retweet_count\", \"reply_count_conv\": \"reply_count\", \"favorite_count_conv\": \"favorite_count\",\n",
    "                          \"num_hashtags_conv\": \"num_hashtags\", \"num_urls_conv\": \"num_urls\", \"num_mentions_conv\": \"num_mentions\", \"created_at\": \"publication_date\", \"created_at_conv\": \"publication_date_in_secs\"}, inplace = True)"
   ]
  },
  {
   "cell_type": "code",
   "execution_count": 88,
   "metadata": {},
   "outputs": [],
   "source": [
    "# Cast them to int\n",
    "df_tweets = df_tweets.astype({\"retweet_count\": 'int32', \"reply_count\": 'int32', \"favorite_count\" : 'int32',\n",
    "                          \"num_hashtags\": 'int32', \"num_urls\": 'int32', \"num_mentions\": 'int32'})"
   ]
  },
  {
   "cell_type": "code",
   "execution_count": 89,
   "metadata": {},
   "outputs": [],
   "source": [
    "df_tweets.drop(columns=['level_0', 'user_id_conv'], inplace=True)"
   ]
  },
  {
   "cell_type": "code",
   "execution_count": 90,
   "metadata": {},
   "outputs": [],
   "source": [
    "df_tweets.to_csv(path_or_buf=DATA_PATH+'tweets_clean.csv', sep='#', index=False)"
   ]
  }
 ],
 "metadata": {
  "kernelspec": {
   "display_name": "Python 3",
   "language": "python",
   "name": "python3"
  },
  "language_info": {
   "codemirror_mode": {
    "name": "ipython",
    "version": 3
   },
   "file_extension": ".py",
   "mimetype": "text/x-python",
   "name": "python",
   "nbconvert_exporter": "python",
   "pygments_lexer": "ipython3",
   "version": "3.10.4"
  },
  "vscode": {
   "interpreter": {
    "hash": "36fabd57e396b83aef36b02305bae0bcb053b13a3fa699e04cd3b884d5079903"
   }
  }
 },
 "nbformat": 4,
 "nbformat_minor": 1
}
