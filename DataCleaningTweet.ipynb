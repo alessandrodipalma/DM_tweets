{
 "cells": [
  {
   "cell_type": "code",
   "execution_count": 29,
   "metadata": {
    "collapsed": true
   },
   "outputs": [],
   "source": [
    "import pandas as pd\n",
    "from matplotlib import pyplot as plt\n",
    "import numpy as np\n",
    "import math"
   ]
  },
  {
   "cell_type": "code",
   "execution_count": 7,
   "outputs": [],
   "source": [
    "df_tweets = pd.read_csv('data/tweets_no_dupl.csv', sep='#')\n",
    "df_users = pd.read_csv('data/users_clean.csv', sep='#')"
   ],
   "metadata": {
    "collapsed": false
   }
  },
  {
   "cell_type": "markdown",
   "source": [
    "# Tweets csv cleaning\n",
    "\n",
    "## id\n",
    "In the id column there are only two missing values. Since the column is not meaningful for the analysis phase, the column is dropped.\n",
    "\n",
    "## user_id\n",
    "In the user_id column there are a lot of missing values, wrong values (non numerical ids) and 210778 user ids do not have any correspondance with users file. Nevertheless, these records have been kept because the other columns could be useful for future analyses.\n",
    "\n",
    "## retweet_count\n"
   ],
   "metadata": {
    "collapsed": false
   }
  },
  {
   "cell_type": "code",
   "execution_count": 10,
   "outputs": [
    {
     "name": "stdout",
     "output_type": "stream",
     "text": [
      "<class 'pandas.core.frame.DataFrame'>\n",
      "RangeIndex: 11712348 entries, 0 to 11712347\n",
      "Data columns (total 10 columns):\n",
      " #   Column          Non-Null Count     Dtype \n",
      "---  ------          --------------     ----- \n",
      " 0   id              11712346 non-null  object\n",
      " 1   user_id         11495314 non-null  object\n",
      " 2   retweet_count   11275326 non-null  object\n",
      " 3   reply_count     11064671 non-null  object\n",
      " 4   favorite_count  11064981 non-null  object\n",
      " 5   num_hashtags    10655073 non-null  object\n",
      " 6   num_urls        11063920 non-null  object\n",
      " 7   num_mentions    10858432 non-null  object\n",
      " 8   created_at      11712348 non-null  object\n",
      " 9   text            11182415 non-null  object\n",
      "dtypes: object(10)\n",
      "memory usage: 893.6+ MB\n"
     ]
    }
   ],
   "source": [
    "df_tweets.info(show_counts=True)"
   ],
   "metadata": {
    "collapsed": false
   }
  },
  {
   "cell_type": "code",
   "execution_count": 11,
   "outputs": [],
   "source": [
    "df_tweets.drop(columns=['id'], inplace=True)"
   ],
   "metadata": {
    "collapsed": false
   }
  },
  {
   "cell_type": "markdown",
   "source": [
    "Select records which have both user_id and text values which are null"
   ],
   "metadata": {
    "collapsed": false
   }
  },
  {
   "cell_type": "code",
   "execution_count": 12,
   "outputs": [
    {
     "name": "stdout",
     "output_type": "stream",
     "text": [
      "<class 'pandas.core.frame.DataFrame'>\n",
      "Int64Index: 56118 entries, 42 to 11712030\n",
      "Data columns (total 9 columns):\n",
      " #   Column          Non-Null Count  Dtype \n",
      "---  ------          --------------  ----- \n",
      " 0   user_id         0 non-null      object\n",
      " 1   retweet_count   51567 non-null  object\n",
      " 2   reply_count     25737 non-null  object\n",
      " 3   favorite_count  50960 non-null  object\n",
      " 4   num_hashtags    392 non-null    object\n",
      " 5   num_urls        26107 non-null  object\n",
      " 6   num_mentions    466 non-null    object\n",
      " 7   created_at      56118 non-null  object\n",
      " 8   text            0 non-null      object\n",
      "dtypes: object(9)\n",
      "memory usage: 4.3+ MB\n"
     ]
    }
   ],
   "source": [
    "df_tweets[np.logical_and(df_tweets['user_id'].isnull(), df_tweets['text'].isnull())].info()"
   ],
   "metadata": {
    "collapsed": false
   }
  },
  {
   "cell_type": "markdown",
   "source": [
    "Merge users table with tweets table by user_id"
   ],
   "metadata": {
    "collapsed": false
   }
  },
  {
   "cell_type": "code",
   "execution_count": 14,
   "outputs": [],
   "source": [
    "df_users.id = df_users.id.astype(str)\n",
    "merged = df_tweets.merge(df_users, left_on='user_id', right_on='id', how='left')\n"
   ],
   "metadata": {
    "collapsed": false
   }
  },
  {
   "cell_type": "code",
   "execution_count": 15,
   "outputs": [
    {
     "data": {
      "text/plain": "(11712348, 9)"
     },
     "execution_count": 15,
     "metadata": {},
     "output_type": "execute_result"
    }
   ],
   "source": [
    "df_tweets.shape"
   ],
   "metadata": {
    "collapsed": false
   }
  },
  {
   "cell_type": "code",
   "execution_count": 16,
   "outputs": [
    {
     "data": {
      "text/plain": "(11712348, 16)"
     },
     "execution_count": 16,
     "metadata": {},
     "output_type": "execute_result"
    }
   ],
   "source": [
    "merged.shape"
   ],
   "metadata": {
    "collapsed": false
   }
  },
  {
   "cell_type": "markdown",
   "source": [
    "Number of `user_id` that have no correspondance in users file."
   ],
   "metadata": {
    "collapsed": false
   }
  },
  {
   "cell_type": "code",
   "execution_count": 17,
   "outputs": [
    {
     "data": {
      "text/plain": "210778"
     },
     "execution_count": 17,
     "metadata": {},
     "output_type": "execute_result"
    }
   ],
   "source": [
    "len(merged[merged['id'].isnull()].user_id.unique())"
   ],
   "metadata": {
    "collapsed": false
   }
  },
  {
   "cell_type": "markdown",
   "source": [
    "## Clean retweet_counts column"
   ],
   "metadata": {
    "collapsed": false
   }
  },
  {
   "cell_type": "markdown",
   "source": [
    "Cast retweet_count values in a new column to float (there are number to big for int) and set to -1.0 when there is a value which is not a number or an uncastable value (e.g. string)"
   ],
   "metadata": {
    "collapsed": false
   }
  },
  {
   "cell_type": "code",
   "execution_count": 18,
   "outputs": [],
   "source": [
    "def to_float(x):\n",
    "    try:\n",
    "        x=float(x)\n",
    "        if(np.isnan(x)):\n",
    "            return float(-1)\n",
    "        else:\n",
    "            return x\n",
    "    except:\n",
    "        return float(-1)"
   ],
   "metadata": {
    "collapsed": false
   }
  },
  {
   "cell_type": "markdown",
   "source": [
    "Plot an histogram w.r.t. a single attribute passed as parameter."
   ],
   "metadata": {
    "collapsed": false
   }
  },
  {
   "cell_type": "code",
   "execution_count": 19,
   "outputs": [],
   "source": [
    "def plot_hist_log(dataframe, attribute_name):\n",
    "    attr_log = pd.DataFrame()\n",
    "    attr_log[attribute_name + '_log'] = np.log(dataframe[attribute_name].values)\n",
    "    attr_log[attribute_name + '_log'] = attr_log[attribute_name + '_log'].replace(-np.inf, 0)\n",
    "\n",
    "    n_bins = math.ceil(np.log2(len(attr_log[attribute_name + '_log'])) + 1) #Sturges' rule\n",
    "    attr_log.hist(attribute_name + '_log', bins = n_bins, log=True)"
   ],
   "metadata": {
    "collapsed": false
   }
  },
  {
   "cell_type": "code",
   "execution_count": 20,
   "outputs": [],
   "source": [
    "df_tweets['retweet_count_conv'] = df_tweets.retweet_count.apply(to_float)"
   ],
   "metadata": {
    "collapsed": false
   }
  },
  {
   "cell_type": "code",
   "execution_count": 21,
   "outputs": [
    {
     "name": "stdout",
     "output_type": "stream",
     "text": [
      "<class 'pandas.core.frame.DataFrame'>\n",
      "RangeIndex: 11712348 entries, 0 to 11712347\n",
      "Data columns (total 10 columns):\n",
      " #   Column              Dtype  \n",
      "---  ------              -----  \n",
      " 0   user_id             object \n",
      " 1   retweet_count       object \n",
      " 2   reply_count         object \n",
      " 3   favorite_count      object \n",
      " 4   num_hashtags        object \n",
      " 5   num_urls            object \n",
      " 6   num_mentions        object \n",
      " 7   created_at          object \n",
      " 8   text                object \n",
      " 9   retweet_count_conv  float64\n",
      "dtypes: float64(1), object(9)\n",
      "memory usage: 893.6+ MB\n"
     ]
    }
   ],
   "source": [
    "df_tweets.info()"
   ],
   "metadata": {
    "collapsed": false
   }
  },
  {
   "cell_type": "code",
   "execution_count": 23,
   "outputs": [
    {
     "data": {
      "text/plain": "<Figure size 640x480 with 1 Axes>",
      "image/png": "[encoded data removed]"
     },
     "metadata": {},
     "output_type": "display_data"
    }
   ],
   "source": [
    "plt.boxplot(df_tweets[df_tweets['retweet_count_conv'] != -1.0].retweet_count_conv,showmeans=True)\n",
    "plt.yscale('log')\n",
    "plt.show()"
   ],
   "metadata": {
    "collapsed": false
   }
  },
  {
   "cell_type": "markdown",
   "source": [
    "We have noticed a lot of huge values in the `retweet_count_conv` **(RCC)** column. By analysing statistics of real tweets on the web, we have decide to perform further analysis on records having a RCC value lower than 1e7 (https://en.wikipedia.org/wiki/List_of_most-retweeted_tweets)"
   ],
   "metadata": {
    "collapsed": false
   }
  },
  {
   "cell_type": "code",
   "execution_count": 25,
   "outputs": [],
   "source": [
    "droppe = df_tweets[np.logical_and(df_tweets['retweet_count_conv'] != -1.0, df_tweets['retweet_count_conv'] < 1e7)]"
   ],
   "metadata": {
    "collapsed": false
   }
  },
  {
   "cell_type": "code",
   "execution_count": 26,
   "outputs": [
    {
     "data": {
      "text/plain": "<Figure size 640x480 with 1 Axes>",
      "image/png": "[encoded data removed]"
     },
     "metadata": {},
     "output_type": "display_data"
    }
   ],
   "source": [
    "plt.boxplot(droppe.retweet_count_conv,showmeans=True)\n",
    "plt.yscale('log')\n",
    "plt.show()"
   ],
   "metadata": {
    "collapsed": false
   }
  },
  {
   "cell_type": "markdown",
   "source": [
    "The boxplot is not informative, so we investigate this field by means of an histogram."
   ],
   "metadata": {
    "collapsed": false
   }
  },
  {
   "cell_type": "code",
   "execution_count": 30,
   "outputs": [
    {
     "name": "stderr",
     "output_type": "stream",
     "text": [
      "C:\\Users\\Alessandro\\AppData\\Local\\Temp\\ipykernel_23388\\2640229493.py:3: RuntimeWarning: divide by zero encountered in log\n",
      "  attr_log[attribute_name + '_log'] = np.log(dataframe[attribute_name].values)\n"
     ]
    },
    {
     "data": {
      "text/plain": "<Figure size 640x480 with 1 Axes>",
      "image/png": "[encoded data removed]"
     },
     "metadata": {},
     "output_type": "display_data"
    }
   ],
   "source": [
    "plot_hist_log(droppe, 'retweet_count_conv')"
   ],
   "metadata": {
    "collapsed": false
   }
  },
  {
   "cell_type": "code",
   "execution_count": 31,
   "outputs": [
    {
     "name": "stdout",
     "output_type": "stream",
     "text": [
      "mean: 580.7886859027697\n",
      "median: 0.0\n"
     ]
    }
   ],
   "source": [
    "rtc_mean = np.mean(droppe.retweet_count_conv.values)\n",
    "rtc_median = np.median(droppe.retweet_count_conv.values)\n",
    "print(\"mean: \" + str(rtc_mean))\n",
    "print(\"median: \" + str(rtc_median))"
   ],
   "metadata": {
    "collapsed": false
   }
  },
  {
   "cell_type": "markdown",
   "source": [
    "As it is possible to see the distribution is positively skewed. Considering the statistical indicators, it is clear that the mean is too much influenced by outliers so the median has been taken in account."
   ],
   "metadata": {
    "collapsed": false
   }
  },
  {
   "cell_type": "code",
   "execution_count": 32,
   "outputs": [
    {
     "name": "stdout",
     "output_type": "stream",
     "text": [
      "<class 'pandas.core.frame.DataFrame'>\n",
      "RangeIndex: 11712348 entries, 0 to 11712347\n",
      "Data columns (total 11 columns):\n",
      " #   Column                  Dtype  \n",
      "---  ------                  -----  \n",
      " 0   user_id                 object \n",
      " 1   retweet_count           object \n",
      " 2   reply_count             object \n",
      " 3   favorite_count          object \n",
      " 4   num_hashtags            object \n",
      " 5   num_urls                object \n",
      " 6   num_mentions            object \n",
      " 7   created_at              object \n",
      " 8   text                    object \n",
      " 9   retweet_count_conv      float64\n",
      " 10  retweet_count_replaced  float64\n",
      "dtypes: float64(2), object(9)\n",
      "memory usage: 982.9+ MB\n"
     ]
    }
   ],
   "source": [
    "df_tweets['retweet_count_replaced'] = df_tweets['retweet_count_conv'].replace({-1.0: rtc_median})\n",
    "df_tweets.info()"
   ],
   "metadata": {
    "collapsed": false
   }
  },
  {
   "cell_type": "code",
   "execution_count": 34,
   "outputs": [],
   "source": [
    "df_tweets.drop(columns = ['retweet_count_conv'], inplace=True)"
   ],
   "metadata": {
    "collapsed": false
   }
  },
  {
   "cell_type": "code",
   "execution_count": 39,
   "outputs": [
    {
     "data": {
      "text/plain": "       user_id  retweet_count_replaced reply_count favorite_count  bot  \\\n0    910519015            9.060000e+61         0.0            NaN  0.0   \n1   2374871490           2.000000e+134         0.0            0.0  1.0   \n2    376588311            8.600000e+43        m44g            2.0  0.0   \n3    225618739            1.000000e+76         0.0            NaN  0.0   \n4    465392182            7.000000e+84         0.0            0.0  1.0   \n5    183247631            3.400000e+31         0.0            0.0  0.0   \n6    521358579                     inf         NaN            0.0  1.0   \n7    274285556            6.500000e+10         0.0            0.0  0.0   \n8    251633570            6.000000e+77         0.0            0.0  0.0   \n9    294996484            7.000000e+61         0.0            0.0  0.0   \n10   711506862            7.600000e+12         0.0            0.0  1.0   \n11  2276634303                     inf         0.0            0.0  0.0   \n12   413655972                     inf         0.0            0.0  0.0   \n13  2498346724                     inf         0.0            NaN  0.0   \n14   392963387            4.000000e+65         0.0            0.0  0.0   \n15   201350011                     inf         NaN            NaN  1.0   \n16   108992875            3.200000e+10         0.0            NaN  1.0   \n17  e2cmhj4wyg                     inf         NaN           33.0  NaN   \n18  2359388502            7.000000e+71         0.0            0.0  0.0   \n\n           created_at_x         created_at_y  \\\n0   2019-03-30 22:05:10  2017-10-30 15:19:12   \n1   2019-07-06 10:54:48  2019-03-08 05:36:34   \n2   2019-08-01 10:21:16  2016-09-21 04:30:51   \n3   2020-01-19 06:49:11  2015-12-14 01:21:28   \n4   2019-11-03 22:29:44  2017-01-17 09:08:19   \n5   2020-01-16 16:36:11  2015-08-28 14:50:22   \n6   2019-10-05 03:46:47  2017-03-13 14:18:57   \n7   2019-05-15 03:52:11  2016-03-31 02:24:19   \n8   2020-04-07 06:38:50  2016-02-15 14:59:58   \n9   2020-03-20 02:55:50  2016-05-09 05:17:53   \n10  2019-10-01 23:30:40  2017-07-25 00:29:28   \n11  2020-04-15 04:51:01  2019-01-14 11:04:12   \n12  2019-04-17 03:43:32  2016-11-17 03:40:52   \n13  2019-07-03 18:33:42  2019-04-22 23:22:13   \n14  2020-03-02 05:31:18  2016-10-18 20:34:02   \n15  2018-05-05 15:15:05  2015-10-13 17:14:18   \n16  2019-06-24 02:10:12  2015-01-29 16:51:00   \n17  2018-10-29 16:35:30                  NaN   \n18  2020-04-12 11:31:44  2019-02-26 11:56:56   \n\n                                                 text  statuses_count  \n0   Giant Fremontadendron califirnica, Flannel Bus...          1952.0  \n1                                                 NaN            44.0  \n2                                          SAKE BOMB           2203.0  \n3                              @kylokrel not if ur me          8643.0  \n4   La mamma Ã¨ quella che ti insegna a pregare--P...            78.0  \n5   I could keep babbling but I'm pretty sure I ra...          7089.0  \n6                                                 NaN         11462.0  \n7   @LeviGatorfan is my #mcm. He makes every day s...          4477.0  \n8   RT @AlexDijkstra_: @tapijtlegger @MDMAbleToShi...         67875.0  \n9                                                 NaN          3233.0  \n10                                    Dis Be Da Place          9349.0  \n11         RT @_RJohnson22_: A Massage Is Well Needed         41214.0  \n12  RT @BasebaIlDreams: \"She knows exactly what sh...          8396.0  \n13                                   Cmon Switzerland          2796.0  \n14  @tiamojai he's actually sweet as pie to his bm...         46335.0  \n15  @EnlajugadaRCN @casaleantonio @jorgebermudezh ...           224.0  \n16  Domani, anzi tra poche ore mareeeee #buonanott...          9551.0  \n17                                                NaN             NaN  \n18              TBH THE ONLY DRAMA WITH A GOOD ENDING         10308.0  ",
      "text/html": "<div>\n<style scoped>\n    .dataframe tbody tr th:only-of-type {\n        vertical-align: middle;\n    }\n\n    .dataframe tbody tr th {\n        vertical-align: top;\n    }\n\n    .dataframe thead th {\n        text-align: right;\n    }\n</style>\n<table border=\"1\" class=\"dataframe\">\n  <thead>\n    <tr style=\"text-align: right;\">\n      <th></th>\n      <th>user_id</th>\n      <th>retweet_count_replaced</th>\n      <th>reply_count</th>\n      <th>favorite_count</th>\n      <th>bot</th>\n      <th>created_at_x</th>\n      <th>created_at_y</th>\n      <th>text</th>\n      <th>statuses_count</th>\n    </tr>\n  </thead>\n  <tbody>\n    <tr>\n      <th>0</th>\n      <td>910519015</td>\n      <td>9.060000e+61</td>\n      <td>0.0</td>\n      <td>NaN</td>\n      <td>0.0</td>\n      <td>2019-03-30 22:05:10</td>\n      <td>2017-10-30 15:19:12</td>\n      <td>Giant Fremontadendron califirnica, Flannel Bus...</td>\n      <td>1952.0</td>\n    </tr>\n    <tr>\n      <th>1</th>\n      <td>2374871490</td>\n      <td>2.000000e+134</td>\n      <td>0.0</td>\n      <td>0.0</td>\n      <td>1.0</td>\n      <td>2019-07-06 10:54:48</td>\n      <td>2019-03-08 05:36:34</td>\n      <td>NaN</td>\n      <td>44.0</td>\n    </tr>\n    <tr>\n      <th>2</th>\n      <td>376588311</td>\n      <td>8.600000e+43</td>\n      <td>m44g</td>\n      <td>2.0</td>\n      <td>0.0</td>\n      <td>2019-08-01 10:21:16</td>\n      <td>2016-09-21 04:30:51</td>\n      <td>SAKE BOMB</td>\n      <td>2203.0</td>\n    </tr>\n    <tr>\n      <th>3</th>\n      <td>225618739</td>\n      <td>1.000000e+76</td>\n      <td>0.0</td>\n      <td>NaN</td>\n      <td>0.0</td>\n      <td>2020-01-19 06:49:11</td>\n      <td>2015-12-14 01:21:28</td>\n      <td>@kylokrel not if ur me</td>\n      <td>8643.0</td>\n    </tr>\n    <tr>\n      <th>4</th>\n      <td>465392182</td>\n      <td>7.000000e+84</td>\n      <td>0.0</td>\n      <td>0.0</td>\n      <td>1.0</td>\n      <td>2019-11-03 22:29:44</td>\n      <td>2017-01-17 09:08:19</td>\n      <td>La mamma Ã¨ quella che ti insegna a pregare--P...</td>\n      <td>78.0</td>\n    </tr>\n    <tr>\n      <th>5</th>\n      <td>183247631</td>\n      <td>3.400000e+31</td>\n      <td>0.0</td>\n      <td>0.0</td>\n      <td>0.0</td>\n      <td>2020-01-16 16:36:11</td>\n      <td>2015-08-28 14:50:22</td>\n      <td>I could keep babbling but I'm pretty sure I ra...</td>\n      <td>7089.0</td>\n    </tr>\n    <tr>\n      <th>6</th>\n      <td>521358579</td>\n      <td>inf</td>\n      <td>NaN</td>\n      <td>0.0</td>\n      <td>1.0</td>\n      <td>2019-10-05 03:46:47</td>\n      <td>2017-03-13 14:18:57</td>\n      <td>NaN</td>\n      <td>11462.0</td>\n    </tr>\n    <tr>\n      <th>7</th>\n      <td>274285556</td>\n      <td>6.500000e+10</td>\n      <td>0.0</td>\n      <td>0.0</td>\n      <td>0.0</td>\n      <td>2019-05-15 03:52:11</td>\n      <td>2016-03-31 02:24:19</td>\n      <td>@LeviGatorfan is my #mcm. He makes every day s...</td>\n      <td>4477.0</td>\n    </tr>\n    <tr>\n      <th>8</th>\n      <td>251633570</td>\n      <td>6.000000e+77</td>\n      <td>0.0</td>\n      <td>0.0</td>\n      <td>0.0</td>\n      <td>2020-04-07 06:38:50</td>\n      <td>2016-02-15 14:59:58</td>\n      <td>RT @AlexDijkstra_: @tapijtlegger @MDMAbleToShi...</td>\n      <td>67875.0</td>\n    </tr>\n    <tr>\n      <th>9</th>\n      <td>294996484</td>\n      <td>7.000000e+61</td>\n      <td>0.0</td>\n      <td>0.0</td>\n      <td>0.0</td>\n      <td>2020-03-20 02:55:50</td>\n      <td>2016-05-09 05:17:53</td>\n      <td>NaN</td>\n      <td>3233.0</td>\n    </tr>\n    <tr>\n      <th>10</th>\n      <td>711506862</td>\n      <td>7.600000e+12</td>\n      <td>0.0</td>\n      <td>0.0</td>\n      <td>1.0</td>\n      <td>2019-10-01 23:30:40</td>\n      <td>2017-07-25 00:29:28</td>\n      <td>Dis Be Da Place</td>\n      <td>9349.0</td>\n    </tr>\n    <tr>\n      <th>11</th>\n      <td>2276634303</td>\n      <td>inf</td>\n      <td>0.0</td>\n      <td>0.0</td>\n      <td>0.0</td>\n      <td>2020-04-15 04:51:01</td>\n      <td>2019-01-14 11:04:12</td>\n      <td>RT @_RJohnson22_: A Massage Is Well Needed</td>\n      <td>41214.0</td>\n    </tr>\n    <tr>\n      <th>12</th>\n      <td>413655972</td>\n      <td>inf</td>\n      <td>0.0</td>\n      <td>0.0</td>\n      <td>0.0</td>\n      <td>2019-04-17 03:43:32</td>\n      <td>2016-11-17 03:40:52</td>\n      <td>RT @BasebaIlDreams: \"She knows exactly what sh...</td>\n      <td>8396.0</td>\n    </tr>\n    <tr>\n      <th>13</th>\n      <td>2498346724</td>\n      <td>inf</td>\n      <td>0.0</td>\n      <td>NaN</td>\n      <td>0.0</td>\n      <td>2019-07-03 18:33:42</td>\n      <td>2019-04-22 23:22:13</td>\n      <td>Cmon Switzerland</td>\n      <td>2796.0</td>\n    </tr>\n    <tr>\n      <th>14</th>\n      <td>392963387</td>\n      <td>4.000000e+65</td>\n      <td>0.0</td>\n      <td>0.0</td>\n      <td>0.0</td>\n      <td>2020-03-02 05:31:18</td>\n      <td>2016-10-18 20:34:02</td>\n      <td>@tiamojai he's actually sweet as pie to his bm...</td>\n      <td>46335.0</td>\n    </tr>\n    <tr>\n      <th>15</th>\n      <td>201350011</td>\n      <td>inf</td>\n      <td>NaN</td>\n      <td>NaN</td>\n      <td>1.0</td>\n      <td>2018-05-05 15:15:05</td>\n      <td>2015-10-13 17:14:18</td>\n      <td>@EnlajugadaRCN @casaleantonio @jorgebermudezh ...</td>\n      <td>224.0</td>\n    </tr>\n    <tr>\n      <th>16</th>\n      <td>108992875</td>\n      <td>3.200000e+10</td>\n      <td>0.0</td>\n      <td>NaN</td>\n      <td>1.0</td>\n      <td>2019-06-24 02:10:12</td>\n      <td>2015-01-29 16:51:00</td>\n      <td>Domani, anzi tra poche ore mareeeee #buonanott...</td>\n      <td>9551.0</td>\n    </tr>\n    <tr>\n      <th>17</th>\n      <td>e2cmhj4wyg</td>\n      <td>inf</td>\n      <td>NaN</td>\n      <td>33.0</td>\n      <td>NaN</td>\n      <td>2018-10-29 16:35:30</td>\n      <td>NaN</td>\n      <td>NaN</td>\n      <td>NaN</td>\n    </tr>\n    <tr>\n      <th>18</th>\n      <td>2359388502</td>\n      <td>7.000000e+71</td>\n      <td>0.0</td>\n      <td>0.0</td>\n      <td>0.0</td>\n      <td>2020-04-12 11:31:44</td>\n      <td>2019-02-26 11:56:56</td>\n      <td>TBH THE ONLY DRAMA WITH A GOOD ENDING</td>\n      <td>10308.0</td>\n    </tr>\n  </tbody>\n</table>\n</div>"
     },
     "execution_count": 39,
     "metadata": {},
     "output_type": "execute_result"
    }
   ],
   "source": [
    "merged = df_tweets[df_tweets['retweet_count_replaced'] > 1e10].merge(df_users, left_on='user_id', right_on='id', how='left')\n",
    "merged[['user_id', 'retweet_count_replaced', 'reply_count', 'favorite_count', 'bot', 'created_at_x', 'created_at_y', 'text', 'statuses_count']]"
   ],
   "metadata": {
    "collapsed": false
   }
  },
  {
   "cell_type": "code",
   "execution_count": 40,
   "outputs": [],
   "source": [
    "df_tweets.drop(columns=['retweet_count'], inplace=True)"
   ],
   "metadata": {
    "collapsed": false
   }
  },
  {
   "cell_type": "code",
   "execution_count": 40,
   "outputs": [],
   "source": [
    "#TODO cast float to int of retweet_count"
   ],
   "metadata": {
    "collapsed": false
   }
  },
  {
   "cell_type": "markdown",
   "source": [
    "Now we have `retweet_count_replaced` with all numeric values. We have many values that seems to be \"noise\" but before replacing them we want to explore the correlation with other attributes related to the tweet popularity which are  `reply_count` and `favourite_count`. So this task is postponed. Instead for the missing values (-1) we have checked if the same user has other tweets in the dataset to extract statistics from them. If there are not other tweets or there are only tweets with missing values the median is set as default.\n",
    "# TODO mettere insieme il casting e la conversione dopo"
   ],
   "metadata": {
    "collapsed": false
   }
  },
  {
   "cell_type": "markdown",
   "source": [
    "# Clean reply_count column"
   ],
   "metadata": {
    "collapsed": false
   }
  },
  {
   "cell_type": "code",
   "execution_count": 42,
   "outputs": [],
   "source": [
    "df_tweets['reply_count_conv'] = df_tweets.reply_count.apply(to_float)"
   ],
   "metadata": {
    "collapsed": false
   }
  },
  {
   "cell_type": "code",
   "execution_count": 43,
   "outputs": [
    {
     "name": "stdout",
     "output_type": "stream",
     "text": [
      "mean: inf\n",
      "median: 0.0\n"
     ]
    }
   ],
   "source": [
    "mean_reply_count = df_tweets.reply_count_conv.mean()\n",
    "median_reply_count = df_tweets.reply_count_conv.median()\n",
    "print(\"mean: \" + str(mean_reply_count))\n",
    "print(\"median: \" + str(median_reply_count))"
   ],
   "metadata": {
    "collapsed": false
   }
  },
  {
   "cell_type": "code",
   "execution_count": 45,
   "outputs": [
    {
     "name": "stdout",
     "output_type": "stream",
     "text": [
      "mean: 4170.42772079839\n",
      "median: 0.0\n"
     ]
    }
   ],
   "source": [
    "mean_reply_count = df_tweets[df_tweets['reply_count_conv'] < 1e10].reply_count_conv.mean()\n",
    "median_reply_count = df_tweets[df_tweets['reply_count_conv'] < 1e10].reply_count_conv.median()\n",
    "print(\"mean: \" + str(mean_reply_count))\n",
    "print(\"median: \" + str(median_reply_count))"
   ],
   "metadata": {
    "collapsed": false
   }
  },
  {
   "cell_type": "code",
   "execution_count": 47,
   "outputs": [
    {
     "name": "stderr",
     "output_type": "stream",
     "text": [
      "C:\\Users\\Alessandro\\AppData\\Local\\Temp\\ipykernel_23388\\2640229493.py:3: RuntimeWarning: divide by zero encountered in log\n",
      "  attr_log[attribute_name + '_log'] = np.log(dataframe[attribute_name].values)\n",
      "C:\\Users\\Alessandro\\AppData\\Local\\Temp\\ipykernel_23388\\2640229493.py:3: RuntimeWarning: invalid value encountered in log\n",
      "  attr_log[attribute_name + '_log'] = np.log(dataframe[attribute_name].values)\n"
     ]
    },
    {
     "data": {
      "text/plain": "<Figure size 640x480 with 1 Axes>",
      "image/png": "[encoded data removed]"
     },
     "metadata": {},
     "output_type": "display_data"
    }
   ],
   "source": [
    "plot_hist_log(df_tweets[df_tweets['reply_count_conv'] < 1e10], 'reply_count_conv')"
   ],
   "metadata": {
    "collapsed": false
   }
  },
  {
   "cell_type": "markdown",
   "source": [
    "# Clean favourite_counts column"
   ],
   "metadata": {
    "collapsed": false
   }
  },
  {
   "cell_type": "code",
   "execution_count": null,
   "outputs": [],
   "source": [],
   "metadata": {
    "collapsed": false
   }
  },
  {
   "cell_type": "code",
   "execution_count": null,
   "outputs": [],
   "source": [],
   "metadata": {
    "collapsed": false
   }
  },
  {
   "cell_type": "markdown",
   "source": [
    "Check correlation between `retweet_counts`, `replay_counts` and `favourite_counts`"
   ],
   "metadata": {
    "collapsed": false
   }
  },
  {
   "cell_type": "code",
   "execution_count": 38,
   "outputs": [
    {
     "data": {
      "text/plain": "<AxesSubplot:>"
     },
     "execution_count": 38,
     "metadata": {},
     "output_type": "execute_result"
    },
    {
     "data": {
      "text/plain": "<Figure size 640x480 with 1 Axes>",
      "image/png": "[encoded data removed]"
     },
     "metadata": {},
     "output_type": "display_data"
    }
   ],
   "source": [
    "df_tweets[df_tweets['retweet_count_replaced'] < 1e6].boxplot('retweet_count_replaced', showmeans=True)"
   ],
   "metadata": {
    "collapsed": false
   }
  }
 ],
 "metadata": {
  "kernelspec": {
   "display_name": "Python 3",
   "language": "python",
   "name": "python3"
  },
  "language_info": {
   "codemirror_mode": {
    "name": "ipython",
    "version": 2
   },
   "file_extension": ".py",
   "mimetype": "text/x-python",
   "name": "python",
   "nbconvert_exporter": "python",
   "pygments_lexer": "ipython2",
   "version": "2.7.6"
  }
 },
 "nbformat": 4,
 "nbformat_minor": 0
}
