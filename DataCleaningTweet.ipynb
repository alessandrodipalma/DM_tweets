{
 "cells": [
  {
   "cell_type": "code",
   "execution_count": 1,
   "metadata": {},
   "outputs": [],
   "source": [
    "import pandas as pd\n",
    "from matplotlib import pyplot as plt\n",
    "import numpy as np\n",
    "import math\n",
    "import functools\n",
    "import seaborn as sn\n",
    "from tqdm import tqdm\n",
    "from sklearn import preprocessing\n",
    "from scipy.stats import entropy\n",
    "from numpy import logical_and as land, logical_or as lor\n",
    "from utilities import to_float, plot_boxplot, plot_hist"
   ]
  },
  {
   "cell_type": "code",
   "execution_count": 2,
   "outputs": [],
   "source": [
    "DATA_PATH = 'G:/Shared drives/DM_tweets/data/'"
   ],
   "metadata": {
    "collapsed": false
   }
  },
  {
   "cell_type": "code",
   "execution_count": 3,
   "outputs": [],
   "source": [
    "DATA_PATH = 'G:/Drive condivisi/DM_tweets/data/'"
   ],
   "metadata": {
    "collapsed": false
   }
  },
  {
   "cell_type": "code",
   "execution_count": 4,
   "metadata": {},
   "outputs": [],
   "source": [
    "df_tweets = pd.read_csv(DATA_PATH+'tweets_no_dupl_1.5.csv', sep='#')\n",
    "df_users = pd.read_csv(DATA_PATH+'users_clean.csv', sep='#')"
   ]
  },
  {
   "cell_type": "markdown",
   "metadata": {},
   "source": [
    "# Tweets csv cleaning\n",
    "\n",
    "## id\n",
    "In the id column there are only two missing values. Since the column is not meaningful for the analysis phase, the column is dropped."
   ]
  },
  {
   "cell_type": "code",
   "execution_count": 5,
   "metadata": {},
   "outputs": [
    {
     "name": "stdout",
     "output_type": "stream",
     "text": [
      "<class 'pandas.core.frame.DataFrame'>\n",
      "RangeIndex: 10187873 entries, 0 to 10187872\n",
      "Data columns (total 13 columns):\n",
      " #   Column           Non-Null Count     Dtype  \n",
      "---  ------           --------------     -----  \n",
      " 0   level_0          10187873 non-null  int64  \n",
      " 1   id               10187871 non-null  object \n",
      " 2   user_id          10112887 non-null  object \n",
      " 3   created_at       10187873 non-null  object \n",
      " 4   text             9894377 non-null   object \n",
      " 5   retweet_count    10187873 non-null  float64\n",
      " 6   reply_count      10187873 non-null  float64\n",
      " 7   favorite_count   10187873 non-null  float64\n",
      " 8   num_hashtags     10187873 non-null  float64\n",
      " 9   num_urls         10187873 non-null  float64\n",
      " 10  num_mentions     10187873 non-null  float64\n",
      " 11  user_id_conv     10187873 non-null  float64\n",
      " 12  created_at_conv  10187873 non-null  int64  \n",
      "dtypes: float64(7), int64(2), object(4)\n",
      "memory usage: 1010.5+ MB\n"
     ]
    }
   ],
   "source": [
    "df_tweets.info(show_counts=True)"
   ]
  },
  {
   "cell_type": "code",
   "execution_count": 6,
   "metadata": {},
   "outputs": [],
   "source": [
    "df_tweets.drop(columns=['id'], inplace=True)"
   ]
  },
  {
   "cell_type": "markdown",
   "source": [
    "## user_id\n",
    "In the user_id column there are a lot of missing values, wrong values (non-numerical ids) and 129040 user ids do not have any correspondence with users file. Nevertheless, these records have been kept because the other columns could be useful for future analyses."
   ],
   "metadata": {
    "collapsed": false
   }
  },
  {
   "cell_type": "markdown",
   "metadata": {},
   "source": [
    "Select records which have both user_id and text values which are null"
   ]
  },
  {
   "cell_type": "code",
   "execution_count": 7,
   "metadata": {},
   "outputs": [
    {
     "name": "stdout",
     "output_type": "stream",
     "text": [
      "<class 'pandas.core.frame.DataFrame'>\n",
      "Int64Index: 0 entries\n",
      "Data columns (total 12 columns):\n",
      " #   Column           Non-Null Count  Dtype  \n",
      "---  ------           --------------  -----  \n",
      " 0   level_0          0 non-null      int64  \n",
      " 1   user_id          0 non-null      object \n",
      " 2   created_at       0 non-null      object \n",
      " 3   text             0 non-null      object \n",
      " 4   retweet_count    0 non-null      float64\n",
      " 5   reply_count      0 non-null      float64\n",
      " 6   favorite_count   0 non-null      float64\n",
      " 7   num_hashtags     0 non-null      float64\n",
      " 8   num_urls         0 non-null      float64\n",
      " 9   num_mentions     0 non-null      float64\n",
      " 10  user_id_conv     0 non-null      float64\n",
      " 11  created_at_conv  0 non-null      int64  \n",
      "dtypes: float64(7), int64(2), object(3)\n",
      "memory usage: 0.0+ bytes\n"
     ]
    }
   ],
   "source": [
    "df_tweets[np.logical_and(df_tweets['user_id'].isnull(), df_tweets['text'].isnull())].info()"
   ]
  },
  {
   "cell_type": "markdown",
   "metadata": {},
   "source": [
    "Merge users table with tweets table by user_id"
   ]
  },
  {
   "cell_type": "code",
   "execution_count": 8,
   "metadata": {},
   "outputs": [],
   "source": [
    "df_users.id = df_users.id.astype(str)\n",
    "merged = df_tweets.merge(df_users, left_on='user_id', right_on='id', how='left')"
   ]
  },
  {
   "cell_type": "code",
   "execution_count": 9,
   "metadata": {},
   "outputs": [
    {
     "data": {
      "text/plain": "(10187873, 12)"
     },
     "execution_count": 9,
     "metadata": {},
     "output_type": "execute_result"
    }
   ],
   "source": [
    "df_tweets.shape"
   ]
  },
  {
   "cell_type": "code",
   "execution_count": 10,
   "metadata": {},
   "outputs": [
    {
     "data": {
      "text/plain": "(10187873, 19)"
     },
     "execution_count": 10,
     "metadata": {},
     "output_type": "execute_result"
    }
   ],
   "source": [
    "merged.shape"
   ]
  },
  {
   "cell_type": "markdown",
   "metadata": {},
   "source": [
    "Number of `user_id` that have no correspondance in users file."
   ]
  },
  {
   "cell_type": "code",
   "execution_count": 11,
   "metadata": {},
   "outputs": [
    {
     "data": {
      "text/plain": "129040"
     },
     "execution_count": 11,
     "metadata": {},
     "output_type": "execute_result"
    }
   ],
   "source": [
    "len(merged[merged['id'].isnull()].user_id.unique())"
   ]
  },
  {
   "cell_type": "markdown",
   "metadata": {},
   "source": [
    "## File checkpoint"
   ]
  },
  {
   "cell_type": "code",
   "execution_count": 12,
   "metadata": {},
   "outputs": [],
   "source": [
    "df_tweets.to_csv(path_or_buf=DATA_PATH+'tweets_no_ids.csv', sep='#', index=False)\n",
    "df_users.to_csv(path_or_buf=DATA_PATH+'users_no_ids.csv', sep='#', index=False)"
   ]
  },
  {
   "cell_type": "code",
   "execution_count": 13,
   "metadata": {},
   "outputs": [],
   "source": [
    "df_tweets = pd.read_csv(DATA_PATH+'tweets_no_ids.csv', sep='#')\n",
    "df_users = pd.read_csv(DATA_PATH+'users_no_ids.csv', sep='#')"
   ]
  },
  {
   "cell_type": "markdown",
   "metadata": {},
   "source": [
    "# Convert to float\n",
    "Cast column values to float (there are number to big for int) and set to -1.0 when there is a value which is not a number or an uncastable value (e.g. string)"
   ]
  },
  {
   "cell_type": "code",
   "execution_count": 14,
   "metadata": {},
   "outputs": [],
   "source": [
    "df_tweets['retweet_count_conv'] = df_tweets.retweet_count.apply(to_float)"
   ]
  },
  {
   "cell_type": "code",
   "execution_count": 15,
   "metadata": {},
   "outputs": [],
   "source": [
    "df_tweets['reply_count_conv'] = df_tweets.reply_count.apply(to_float)"
   ]
  },
  {
   "cell_type": "code",
   "execution_count": 16,
   "metadata": {},
   "outputs": [],
   "source": [
    "df_tweets['favorite_count_conv'] = df_tweets.favorite_count.apply(to_float)"
   ]
  },
  {
   "cell_type": "code",
   "execution_count": 17,
   "outputs": [],
   "source": [
    "df_tweets['num_hashtags_conv'] = df_tweets.num_hashtags.apply(to_float)"
   ],
   "metadata": {
    "collapsed": false
   }
  },
  {
   "cell_type": "code",
   "execution_count": 18,
   "outputs": [],
   "source": [
    "df_tweets['num_urls_conv'] = df_tweets.num_urls.apply(to_float)"
   ],
   "metadata": {
    "collapsed": false
   }
  },
  {
   "cell_type": "code",
   "execution_count": 19,
   "outputs": [],
   "source": [
    "df_tweets['num_mentions_conv'] = df_tweets.num_mentions.apply(to_float)"
   ],
   "metadata": {
    "collapsed": false
   }
  },
  {
   "cell_type": "code",
   "execution_count": 20,
   "outputs": [],
   "source": [
    "df_tweets['created_at_conv'] = pd.to_datetime(df_tweets['created_at']).astype(np.int64)"
   ],
   "metadata": {
    "collapsed": false
   }
  },
  {
   "cell_type": "markdown",
   "metadata": {},
   "source": [
    "## File checkpoint"
   ]
  },
  {
   "cell_type": "code",
   "execution_count": 21,
   "metadata": {},
   "outputs": [],
   "source": [
    "df_tweets.to_csv(path_or_buf=DATA_PATH+'tweets_to_float.csv', sep='#', index=False)\n",
    "df_users.to_csv(path_or_buf=DATA_PATH+'users_to_float.csv', sep='#', index=False)"
   ]
  },
  {
   "cell_type": "code",
   "execution_count": 22,
   "metadata": {},
   "outputs": [],
   "source": [
    "df_tweets = pd.read_csv(DATA_PATH+'tweets_to_float.csv', sep='#')\n",
    "df_users = pd.read_csv(DATA_PATH+'users_to_float.csv', sep='#')"
   ]
  },
  {
   "cell_type": "markdown",
   "metadata": {},
   "source": [
    "# Utilities"
   ]
  },
  {
   "cell_type": "code",
   "execution_count": 23,
   "metadata": {},
   "outputs": [],
   "source": [
    "def show_statistics(df, col, log=False, norm=False):\n",
    "    #Extract statistical indicators from the indicated column\n",
    "    mean = np.mean(df[col].values)\n",
    "    median = np.median(df[col].values)\n",
    "\n",
    "    if norm:\n",
    "        norm_col = preprocessing.MinMaxScaler().fit_transform(np.array(df[col].values).reshape(1, -1).T)\n",
    "        entr = entropy(norm_col)[0]\n",
    "    else:\n",
    "        entr = entropy(df[col])\n",
    "\n",
    "    print(\"mean: \" + str(mean))\n",
    "    print(\"median: \" + str(median))\n",
    "    print(\"entropy: \" + str(entr))\n",
    "    plot_boxplot(df,col, log)"
   ]
  },
  {
   "cell_type": "code",
   "execution_count": 24,
   "metadata": {},
   "outputs": [],
   "source": [
    "def fix_values(df, col, replace_condition=None, replace_value=None):\n",
    "    #Substitute all the -1.0 values (missing values) with the median\n",
    "    if replace_condition is None:\n",
    "        median = np.median(df[col].values)\n",
    "        df[col] = df[col].replace({-1.0: median})\n",
    "    else:\n",
    "        if replace_value is None:\n",
    "            replace_value = df[~replace_condition][col].median()\n",
    "        df.loc[replace_condition, col] = replace_value\n",
    "\n",
    "    return df"
   ]
  },
  {
   "cell_type": "code",
   "execution_count": 25,
   "metadata": {},
   "outputs": [],
   "source": [
    "def check_var_attribute(df, attribute_name):\n",
    "\n",
    "    df = df[land(land(df[attribute_name].isnull() != True, df[attribute_name] != np.inf), df[attribute_name] != -1)]\n",
    "    df = df[['user_id', attribute_name]]\n",
    "    df = df.groupby(by=['user_id']).agg([\"mean\", \"median\", \"var\"])[attribute_name]\n",
    "\n",
    "    return df"
   ]
  },
  {
   "cell_type": "code",
   "execution_count": null,
   "outputs": [],
   "source": [
    "def replace_with_user_median(df_to_replace, attribute_name, threshold=1e7, replace_tweets_condition=None):\n",
    "\n",
    "    if replace_tweets_condition is None:\n",
    "        #Get all the rows to edit\n",
    "        replace_tweets_condition = df_to_replace[attribute_name] == -1 | df_to_replace[attribute_name] > threshold\n",
    "\n",
    "    condition_users = df_to_replace.user_id.isin(df_to_replace[replace_tweets_condition].user_id)\n",
    "\n",
    "    keep_condition = ~replace_tweets_condition\n",
    "\n",
    "    # Median for that users that have not a correspondance in the user file\n",
    "    glob_median = df_to_replace[keep_condition][attribute_name].median()\n",
    "\n",
    "    df_users.id = df_users.id.astype(str)\n",
    "    df_to_replace.user_id = df_tweets.user_id.astype(str)\n",
    "    df_merge = df_to_replace.merge(df_users, left_on='user_id', right_on='id', how='left')\n",
    "\n",
    "    # Median for bot users\n",
    "    bot_median = df_merge[keep_condition & df_merge['bot'] == 0][attribute_name].median()\n",
    "\n",
    "    # Median for non bot users\n",
    "    non_bot_median = df_merge[keep_condition & df_merge['bot'] == 1][attribute_name].median()\n",
    "\n",
    "    # All the tweets that can be used for median computation of the selected users\n",
    "    condition_for_median = keep_condition & condition_users\n",
    "\n",
    "    # For each user of the previous list it extract median and var for the indicated attribute\n",
    "    df_stats = df_to_replace[condition_for_median].groupby(by=['user_id']).agg([\"median\", \"var\"])[attribute_name]\n",
    "\n",
    "    # Add these values to the original DataFrame\n",
    "    df_to_replace = df_to_replace.merge(df_stats, left_on='user_id', right_on='user_id', how='left')\n",
    "\n",
    "    #Get all the users that have just one tweet and so we use median to substitute the indicated column basing on the user type\n",
    "    condition_one_tweet = df_to_replace['var'].isnull() == True & condition_users\n",
    "\n",
    "    condition_one_tweet_non_bot = df_merge.bot == 0 & condition_one_tweet\n",
    "    condition_one_tweet_bot = df_merge.bot == 1 & condition_one_tweet\n",
    "    condition_one_tweet_others = df_merge.bot.isnull() & condition_one_tweet\n",
    "\n",
    "    df_to_replace.loc[condition_one_tweet_non_bot, attribute_name] = non_bot_median\n",
    "    df_to_replace.loc[condition_one_tweet_bot, attribute_name] = bot_median\n",
    "    df_to_replace.loc[condition_one_tweet_others, attribute_name] = glob_median\n",
    "\n",
    "    # Substitute wrong values with the median of the user that has more than one tweet\n",
    "    condition_more_tweet = df_to_replace[attribute_name] != glob_median & df_to_replace[attribute_name] != non_bot_median & df_to_replace[attribute_name] != bot_median & condition_users\n",
    "    df_to_replace.loc[condition_more_tweet, attribute_name] = df_to_replace[condition_more_tweet]['median']\n",
    "\n",
    "    df_to_replace.drop(columns=['median','var'], inplace=True)\n",
    "\n",
    "    return df_to_replace"
   ],
   "metadata": {
    "collapsed": false
   }
  },
  {
   "cell_type": "code",
   "execution_count": null,
   "outputs": [],
   "source": [
    "def check_bot_stats_diff(col):\n",
    "\n",
    "    df_users.id = df_users.id.astype(str)\n",
    "    df_tweets.user_id = df_tweets.user_id.astype(str)\n",
    "    df_merge = df_tweets.merge(df_users, left_on='user_id', right_on='id', how='right')\n",
    "\n",
    "    df_merge_clean = df_merge[(df_merge[col] != -1) & (df_merge[col] < np.inf)]\n",
    "\n",
    "    median_bot = df_merge_clean[df_merge_clean['bot'] == 1][col].median()\n",
    "    mean_bot = df_merge_clean[df_merge_clean['bot'] == 1][col].mean()\n",
    "    entropy_bot = entropy(df_merge_clean[df_merge['bot'] == 1][col])\n",
    "\n",
    "    median_non_bot = df_merge_clean[df_merge_clean['bot'] == 0][col].median()\n",
    "    mean_non_bot = df_merge_clean[df_merge_clean['bot'] == 0][col].mean()\n",
    "    entropy_non_bot = entropy(df_merge_clean[df_merge_clean['bot'] == 0][col])\n",
    "\n",
    "    median_all = df_merge_clean[col].median()\n",
    "    mean_all = df_merge_clean[col].mean()\n",
    "    entropy_all = entropy(df_merge_clean[col])\n",
    "\n",
    "    print(col + \":\")\n",
    "    print(\"\\tmedian bot: \" + str(median_bot) + \" median non bot: \" + str(median_non_bot) + \" median all: \" + str(median_all))\n",
    "    print(\"\\tmean bot: \" + str(mean_bot) + \" mean non bot: \" + str(median_non_bot) + \" mean all: \" + str(mean_all))\n",
    "    print(\"\\tentropy bot: \" + str(entropy_bot) + \" entropy non bot: \" + str(median_non_bot) + \" entropy all: \" + str(entropy_all))"
   ],
   "metadata": {
    "collapsed": false
   }
  },
  {
   "cell_type": "markdown",
   "source": [
    "# Preliminary checks"
   ],
   "metadata": {
    "collapsed": false
   }
  },
  {
   "cell_type": "code",
   "execution_count": 28,
   "outputs": [
    {
     "name": "stdout",
     "output_type": "stream",
     "text": [
      "retweet_count:\n",
      "\tmedian bot: 0.0 median non bot: 0.0 median all: 0.0\n",
      "\tmean bot: 1.1338421260900474e+128 mean non bot: 0.0 mean all: 3.951900627087591e+127\n",
      "\tentropy bot: 0.6931471805599453 entropy non bot: 0.0 entropy all: 0.6931471805599453\n",
      "----------------------------------------------\n",
      "reply_count:\n",
      "\tmedian bot: 0.0 median non bot: 0.0 median all: 0.0\n",
      "\tmean bot: 5.713262224167528e+103 mean non bot: 0.0 mean all: 1.9950443099342137e+103\n",
      "\tentropy bot: 1.4280201805310366e-12 entropy non bot: 0.0 entropy all: 1.428020180549496e-12\n",
      "----------------------------------------------\n",
      "favorite_count:\n",
      "\tmedian bot: 0.0 median non bot: 0.0 median all: 0.0\n",
      "\tmean bot: 4.3102213780758885e+93 mean non bot: 0.0 mean all: 6.918901480081521e+204\n",
      "\tentropy bot: 0.6931471805713403 entropy non bot: 0.0 entropy all: 5.59810120460225e-110\n",
      "----------------------------------------------\n",
      "num_mentions:\n",
      "\tmedian bot: 0.0 median non bot: 1.0 median all: 0.0\n",
      "\tmean bot: 1.7268651870885742e+81 mean non bot: 1.0 mean all: 6.041707721513927e+90\n",
      "\tentropy bot: 1.237315576890967e-34 entropy non bot: 1.0 entropy all: 2.4025851432483705e-09\n",
      "----------------------------------------------\n",
      "num_urls:\n",
      "\tmedian bot: 0.0 median non bot: 0.0 median all: 0.0\n",
      "\tmean bot: 2.856613159445577e+203 mean non bot: 0.0 mean all: 9.975179757726823e+202\n",
      "\tentropy bot: 1.3833362042069411e-73 entropy non bot: 0.0 entropy all: 4.064181271767578e-34\n",
      "----------------------------------------------\n",
      "num_hashtags:\n",
      "\tmedian bot: 0.0 median non bot: 0.0 median all: 0.0\n",
      "\tmean bot: 1.7268656840992802e+80 mean non bot: 0.0 mean all: 7.0489081442681905e+146\n",
      "\tentropy bot: 8.562228264246138e-35 entropy non bot: 0.0 entropy all: 1.3354993552602188e-56\n",
      "----------------------------------------------\n"
     ]
    }
   ],
   "source": [
    "attrs = [\"retweet_count\", \"reply_count\", \"favorite_count\", \"num_mentions\", \"num_urls\", \"num_hashtags\"]\n",
    "for attr in attrs:\n",
    "    check_bot_stats_diff(attr)\n",
    "    print(\"----------------------------------------------\")"
   ],
   "metadata": {
    "collapsed": false
   }
  },
  {
   "cell_type": "markdown",
   "metadata": {},
   "source": [
    "# Clean retweet_counts column"
   ]
  },
  {
   "cell_type": "code",
   "execution_count": 29,
   "metadata": {},
   "outputs": [
    {
     "name": "stderr",
     "output_type": "stream",
     "text": [
      "C:\\Users\\Alessandro\\lib\\site-packages\\scipy\\stats\\_entropy.py:77: RuntimeWarning: invalid value encountered in divide\n",
      "  pk = 1.0*pk / np.sum(pk, axis=axis, keepdims=True)\n"
     ]
    },
    {
     "name": "stdout",
     "output_type": "stream",
     "text": [
      "mean: inf\n",
      "median: 0.0\n",
      "entropy: nan\n"
     ]
    },
    {
     "data": {
      "text/plain": "<Figure size 640x480 with 1 Axes>",
      "image/png": "[encoded data removed]"
     },
     "metadata": {},
     "output_type": "display_data"
    }
   ],
   "source": [
    "show_statistics(df_tweets,'retweet_count_conv', log=True)"
   ]
  },
  {
   "cell_type": "code",
   "execution_count": 30,
   "metadata": {},
   "outputs": [
    {
     "data": {
      "text/plain": "<Figure size 640x480 with 1 Axes>",
      "image/png": "[encoded data removed]"
     },
     "metadata": {},
     "output_type": "display_data"
    }
   ],
   "source": [
    "plot_hist(df_tweets[df_tweets['retweet_count_conv']!=np.inf], 'retweet_count_conv')"
   ]
  },
  {
   "cell_type": "markdown",
   "metadata": {},
   "source": [
    "As it is possible to see the distribution is positively skewed. Considering the statistical indicators, it is clear that the mean is too much influenced by outliers so the median has been taken in account.\n",
    "The search for the optimal threshold is performed by looking at the boxplot and decreasing the threshold until a dense tail is finally visible."
   ]
  },
  {
   "cell_type": "code",
   "execution_count": 31,
   "outputs": [
    {
     "data": {
      "text/plain": "<Figure size 640x480 with 1 Axes>",
      "image/png": "[encoded data removed]"
     },
     "metadata": {},
     "output_type": "display_data"
    },
    {
     "data": {
      "text/plain": "<Figure size 640x480 with 1 Axes>",
      "image/png": "[encoded data removed]"
     },
     "metadata": {},
     "output_type": "display_data"
    },
    {
     "data": {
      "text/plain": "<Figure size 640x480 with 1 Axes>",
      "image/png": "[encoded data removed]"
     },
     "metadata": {},
     "output_type": "display_data"
    },
    {
     "data": {
      "text/plain": "<Figure size 640x480 with 1 Axes>",
      "image/png": "[encoded data removed]"
     },
     "metadata": {},
     "output_type": "display_data"
    },
    {
     "data": {
      "text/plain": "<Figure size 640x480 with 1 Axes>",
      "image/png": "[encoded data removed]"
     },
     "metadata": {},
     "output_type": "display_data"
    },
    {
     "data": {
      "text/plain": "<Figure size 640x480 with 1 Axes>",
      "image/png": "[encoded data removed]"
     },
     "metadata": {},
     "output_type": "display_data"
    },
    {
     "data": {
      "text/plain": "<Figure size 640x480 with 1 Axes>",
      "image/png": "[encoded data removed]"
     },
     "metadata": {},
     "output_type": "display_data"
    }
   ],
   "source": [
    "for p in range(10,3,-1):\n",
    "    threshold = 10**p\n",
    "    plot_boxplot(df_tweets[df_tweets.retweet_count_conv.values < threshold],'retweet_count_conv', log=False)"
   ],
   "metadata": {
    "collapsed": false
   }
  },
  {
   "cell_type": "markdown",
   "metadata": {},
   "source": [
    "5 * 1e5 seems to be a reasonable threshold.\n",
    "For the missing values (-1) and the values over the threshold (1e7) we have checked if the same user has other tweets in the dataset to extract statistics from them. If there are not other tweets or there are only tweets with missing values the median is set as default."
   ]
  },
  {
   "cell_type": "code",
   "execution_count": 32,
   "outputs": [
    {
     "ename": "TypeError",
     "evalue": "Cannot perform 'ror_' with a dtyped [float64] array and scalar of type [bool]",
     "output_type": "error",
     "traceback": [
      "\u001B[1;31m---------------------------------------------------------------------------\u001B[0m",
      "\u001B[1;31mTypeError\u001B[0m                                 Traceback (most recent call last)",
      "File \u001B[1;32m~\\lib\\site-packages\\pandas\\core\\ops\\array_ops.py:305\u001B[0m, in \u001B[0;36mna_logical_op\u001B[1;34m(x, y, op)\u001B[0m\n\u001B[0;32m    296\u001B[0m \u001B[38;5;28;01mtry\u001B[39;00m:\n\u001B[0;32m    297\u001B[0m     \u001B[38;5;66;03m# For exposition, write:\u001B[39;00m\n\u001B[0;32m    298\u001B[0m     \u001B[38;5;66;03m#  yarr = isinstance(y, np.ndarray)\u001B[39;00m\n\u001B[1;32m   (...)\u001B[0m\n\u001B[0;32m    303\u001B[0m     \u001B[38;5;66;03m# Then Cases where this goes through without raising include:\u001B[39;00m\n\u001B[0;32m    304\u001B[0m     \u001B[38;5;66;03m#  (xint or xbool) and (yint or bool)\u001B[39;00m\n\u001B[1;32m--> 305\u001B[0m     result \u001B[38;5;241m=\u001B[39m \u001B[43mop\u001B[49m\u001B[43m(\u001B[49m\u001B[43mx\u001B[49m\u001B[43m,\u001B[49m\u001B[43m \u001B[49m\u001B[43my\u001B[49m\u001B[43m)\u001B[49m\n\u001B[0;32m    306\u001B[0m \u001B[38;5;28;01mexcept\u001B[39;00m \u001B[38;5;167;01mTypeError\u001B[39;00m:\n",
      "File \u001B[1;32m~\\lib\\site-packages\\pandas\\core\\roperator.py:58\u001B[0m, in \u001B[0;36mror_\u001B[1;34m(left, right)\u001B[0m\n\u001B[0;32m     57\u001B[0m \u001B[38;5;28;01mdef\u001B[39;00m \u001B[38;5;21mror_\u001B[39m(left, right):\n\u001B[1;32m---> 58\u001B[0m     \u001B[38;5;28;01mreturn\u001B[39;00m \u001B[43moperator\u001B[49m\u001B[38;5;241;43m.\u001B[39;49m\u001B[43mor_\u001B[49m\u001B[43m(\u001B[49m\u001B[43mright\u001B[49m\u001B[43m,\u001B[49m\u001B[43m \u001B[49m\u001B[43mleft\u001B[49m\u001B[43m)\u001B[49m\n",
      "\u001B[1;31mTypeError\u001B[0m: ufunc 'bitwise_or' not supported for the input types, and the inputs could not be safely coerced to any supported types according to the casting rule ''safe''",
      "\nDuring handling of the above exception, another exception occurred:\n",
      "\u001B[1;31mValueError\u001B[0m                                Traceback (most recent call last)",
      "File \u001B[1;32m~\\lib\\site-packages\\pandas\\core\\ops\\array_ops.py:319\u001B[0m, in \u001B[0;36mna_logical_op\u001B[1;34m(x, y, op)\u001B[0m\n\u001B[0;32m    318\u001B[0m \u001B[38;5;28;01mtry\u001B[39;00m:\n\u001B[1;32m--> 319\u001B[0m     result \u001B[38;5;241m=\u001B[39m \u001B[43mlibops\u001B[49m\u001B[38;5;241;43m.\u001B[39;49m\u001B[43mscalar_binop\u001B[49m\u001B[43m(\u001B[49m\u001B[43mx\u001B[49m\u001B[43m,\u001B[49m\u001B[43m \u001B[49m\u001B[43my\u001B[49m\u001B[43m,\u001B[49m\u001B[43m \u001B[49m\u001B[43mop\u001B[49m\u001B[43m)\u001B[49m\n\u001B[0;32m    320\u001B[0m \u001B[38;5;28;01mexcept\u001B[39;00m (\n\u001B[0;32m    321\u001B[0m     \u001B[38;5;167;01mTypeError\u001B[39;00m,\n\u001B[0;32m    322\u001B[0m     \u001B[38;5;167;01mValueError\u001B[39;00m,\n\u001B[1;32m   (...)\u001B[0m\n\u001B[0;32m    325\u001B[0m     \u001B[38;5;167;01mNotImplementedError\u001B[39;00m,\n\u001B[0;32m    326\u001B[0m ) \u001B[38;5;28;01mas\u001B[39;00m err:\n",
      "File \u001B[1;32m~\\lib\\site-packages\\pandas\\_libs\\ops.pyx:180\u001B[0m, in \u001B[0;36mpandas._libs.ops.scalar_binop\u001B[1;34m()\u001B[0m\n",
      "\u001B[1;31mValueError\u001B[0m: Buffer dtype mismatch, expected 'Python object' but got 'double'",
      "\nThe above exception was the direct cause of the following exception:\n",
      "\u001B[1;31mTypeError\u001B[0m                                 Traceback (most recent call last)",
      "Cell \u001B[1;32mIn [32], line 2\u001B[0m\n\u001B[0;32m      1\u001B[0m threshold \u001B[38;5;241m=\u001B[39m \u001B[38;5;241m5e5\u001B[39m\n\u001B[1;32m----> 2\u001B[0m df_tweets \u001B[38;5;241m=\u001B[39m \u001B[43mreplace_with_user_median\u001B[49m\u001B[43m(\u001B[49m\u001B[43mdf_tweets\u001B[49m\u001B[43m,\u001B[49m\u001B[43m \u001B[49m\u001B[38;5;124;43m'\u001B[39;49m\u001B[38;5;124;43mretweet_count_conv\u001B[39;49m\u001B[38;5;124;43m'\u001B[39;49m\u001B[43m,\u001B[49m\u001B[43m \u001B[49m\u001B[43mthreshold\u001B[49m\u001B[38;5;241;43m=\u001B[39;49m\u001B[43mthreshold\u001B[49m\u001B[43m)\u001B[49m\n",
      "Cell \u001B[1;32mIn [26], line 5\u001B[0m, in \u001B[0;36mreplace_with_user_median\u001B[1;34m(df_to_replace, attribute_name, threshold, replace_tweets_condition)\u001B[0m\n\u001B[0;32m      1\u001B[0m \u001B[38;5;28;01mdef\u001B[39;00m \u001B[38;5;21mreplace_with_user_median\u001B[39m(df_to_replace, attribute_name, threshold\u001B[38;5;241m=\u001B[39m\u001B[38;5;241m1e7\u001B[39m, replace_tweets_condition\u001B[38;5;241m=\u001B[39m\u001B[38;5;28;01mNone\u001B[39;00m):\n\u001B[0;32m      3\u001B[0m     \u001B[38;5;28;01mif\u001B[39;00m replace_tweets_condition \u001B[38;5;129;01mis\u001B[39;00m \u001B[38;5;28;01mNone\u001B[39;00m:\n\u001B[0;32m      4\u001B[0m         \u001B[38;5;66;03m#Get all the rows to edit\u001B[39;00m\n\u001B[1;32m----> 5\u001B[0m         replace_tweets_condition \u001B[38;5;241m=\u001B[39m df_to_replace[attribute_name] \u001B[38;5;241m==\u001B[39m \u001B[38;5;241;43m-\u001B[39;49m\u001B[38;5;241;43m1\u001B[39;49m\u001B[43m \u001B[49m\u001B[38;5;241;43m|\u001B[39;49m\u001B[43m \u001B[49m\u001B[43mdf_to_replace\u001B[49m\u001B[43m[\u001B[49m\u001B[43mattribute_name\u001B[49m\u001B[43m]\u001B[49m \u001B[38;5;241m>\u001B[39m threshold\n\u001B[0;32m      7\u001B[0m     condition_users \u001B[38;5;241m=\u001B[39m df_to_replace\u001B[38;5;241m.\u001B[39muser_id\u001B[38;5;241m.\u001B[39misin(df_to_replace[replace_tweets_condition]\u001B[38;5;241m.\u001B[39muser_id)\n\u001B[0;32m      9\u001B[0m     keep_condition \u001B[38;5;241m=\u001B[39m \u001B[38;5;241m~\u001B[39mreplace_tweets_condition\n",
      "File \u001B[1;32m~\\lib\\site-packages\\pandas\\core\\ops\\common.py:72\u001B[0m, in \u001B[0;36m_unpack_zerodim_and_defer.<locals>.new_method\u001B[1;34m(self, other)\u001B[0m\n\u001B[0;32m     68\u001B[0m             \u001B[38;5;28;01mreturn\u001B[39;00m \u001B[38;5;28mNotImplemented\u001B[39m\n\u001B[0;32m     70\u001B[0m other \u001B[38;5;241m=\u001B[39m item_from_zerodim(other)\n\u001B[1;32m---> 72\u001B[0m \u001B[38;5;28;01mreturn\u001B[39;00m \u001B[43mmethod\u001B[49m\u001B[43m(\u001B[49m\u001B[38;5;28;43mself\u001B[39;49m\u001B[43m,\u001B[49m\u001B[43m \u001B[49m\u001B[43mother\u001B[49m\u001B[43m)\u001B[49m\n",
      "File \u001B[1;32m~\\lib\\site-packages\\pandas\\core\\arraylike.py:84\u001B[0m, in \u001B[0;36mOpsMixin.__ror__\u001B[1;34m(self, other)\u001B[0m\n\u001B[0;32m     82\u001B[0m \u001B[38;5;129m@unpack_zerodim_and_defer\u001B[39m(\u001B[38;5;124m\"\u001B[39m\u001B[38;5;124m__ror__\u001B[39m\u001B[38;5;124m\"\u001B[39m)\n\u001B[0;32m     83\u001B[0m \u001B[38;5;28;01mdef\u001B[39;00m \u001B[38;5;21m__ror__\u001B[39m(\u001B[38;5;28mself\u001B[39m, other):\n\u001B[1;32m---> 84\u001B[0m     \u001B[38;5;28;01mreturn\u001B[39;00m \u001B[38;5;28;43mself\u001B[39;49m\u001B[38;5;241;43m.\u001B[39;49m\u001B[43m_logical_method\u001B[49m\u001B[43m(\u001B[49m\u001B[43mother\u001B[49m\u001B[43m,\u001B[49m\u001B[43m \u001B[49m\u001B[43mroperator\u001B[49m\u001B[38;5;241;43m.\u001B[39;49m\u001B[43mror_\u001B[49m\u001B[43m)\u001B[49m\n",
      "File \u001B[1;32m~\\lib\\site-packages\\pandas\\core\\series.py:6254\u001B[0m, in \u001B[0;36mSeries._logical_method\u001B[1;34m(self, other, op)\u001B[0m\n\u001B[0;32m   6251\u001B[0m lvalues \u001B[38;5;241m=\u001B[39m \u001B[38;5;28mself\u001B[39m\u001B[38;5;241m.\u001B[39m_values\n\u001B[0;32m   6252\u001B[0m rvalues \u001B[38;5;241m=\u001B[39m extract_array(other, extract_numpy\u001B[38;5;241m=\u001B[39m\u001B[38;5;28;01mTrue\u001B[39;00m, extract_range\u001B[38;5;241m=\u001B[39m\u001B[38;5;28;01mTrue\u001B[39;00m)\n\u001B[1;32m-> 6254\u001B[0m res_values \u001B[38;5;241m=\u001B[39m \u001B[43mops\u001B[49m\u001B[38;5;241;43m.\u001B[39;49m\u001B[43mlogical_op\u001B[49m\u001B[43m(\u001B[49m\u001B[43mlvalues\u001B[49m\u001B[43m,\u001B[49m\u001B[43m \u001B[49m\u001B[43mrvalues\u001B[49m\u001B[43m,\u001B[49m\u001B[43m \u001B[49m\u001B[43mop\u001B[49m\u001B[43m)\u001B[49m\n\u001B[0;32m   6255\u001B[0m \u001B[38;5;28;01mreturn\u001B[39;00m \u001B[38;5;28mself\u001B[39m\u001B[38;5;241m.\u001B[39m_construct_result(res_values, name\u001B[38;5;241m=\u001B[39mres_name)\n",
      "File \u001B[1;32m~\\lib\\site-packages\\pandas\\core\\ops\\array_ops.py:395\u001B[0m, in \u001B[0;36mlogical_op\u001B[1;34m(left, right, op)\u001B[0m\n\u001B[0;32m    391\u001B[0m \u001B[38;5;66;03m# For int vs int `^`, `|`, `&` are bitwise operators and return\u001B[39;00m\n\u001B[0;32m    392\u001B[0m \u001B[38;5;66;03m#   integer dtypes.  Otherwise these are boolean ops\u001B[39;00m\n\u001B[0;32m    393\u001B[0m filler \u001B[38;5;241m=\u001B[39m fill_int \u001B[38;5;28;01mif\u001B[39;00m is_self_int_dtype \u001B[38;5;129;01mand\u001B[39;00m is_other_int_dtype \u001B[38;5;28;01melse\u001B[39;00m fill_bool\n\u001B[1;32m--> 395\u001B[0m res_values \u001B[38;5;241m=\u001B[39m \u001B[43mna_logical_op\u001B[49m\u001B[43m(\u001B[49m\u001B[43mlvalues\u001B[49m\u001B[43m,\u001B[49m\u001B[43m \u001B[49m\u001B[43mrvalues\u001B[49m\u001B[43m,\u001B[49m\u001B[43m \u001B[49m\u001B[43mop\u001B[49m\u001B[43m)\u001B[49m\n\u001B[0;32m    396\u001B[0m \u001B[38;5;66;03m# error: Cannot call function of unknown type\u001B[39;00m\n\u001B[0;32m    397\u001B[0m res_values \u001B[38;5;241m=\u001B[39m filler(res_values)  \u001B[38;5;66;03m# type: ignore[operator]\u001B[39;00m\n",
      "File \u001B[1;32m~\\lib\\site-packages\\pandas\\core\\ops\\array_ops.py:328\u001B[0m, in \u001B[0;36mna_logical_op\u001B[1;34m(x, y, op)\u001B[0m\n\u001B[0;32m    320\u001B[0m         \u001B[38;5;28;01mexcept\u001B[39;00m (\n\u001B[0;32m    321\u001B[0m             \u001B[38;5;167;01mTypeError\u001B[39;00m,\n\u001B[0;32m    322\u001B[0m             \u001B[38;5;167;01mValueError\u001B[39;00m,\n\u001B[1;32m   (...)\u001B[0m\n\u001B[0;32m    325\u001B[0m             \u001B[38;5;167;01mNotImplementedError\u001B[39;00m,\n\u001B[0;32m    326\u001B[0m         ) \u001B[38;5;28;01mas\u001B[39;00m err:\n\u001B[0;32m    327\u001B[0m             typ \u001B[38;5;241m=\u001B[39m \u001B[38;5;28mtype\u001B[39m(y)\u001B[38;5;241m.\u001B[39m\u001B[38;5;18m__name__\u001B[39m\n\u001B[1;32m--> 328\u001B[0m             \u001B[38;5;28;01mraise\u001B[39;00m \u001B[38;5;167;01mTypeError\u001B[39;00m(\n\u001B[0;32m    329\u001B[0m                 \u001B[38;5;124mf\u001B[39m\u001B[38;5;124m\"\u001B[39m\u001B[38;5;124mCannot perform \u001B[39m\u001B[38;5;124m'\u001B[39m\u001B[38;5;132;01m{\u001B[39;00mop\u001B[38;5;241m.\u001B[39m\u001B[38;5;18m__name__\u001B[39m\u001B[38;5;132;01m}\u001B[39;00m\u001B[38;5;124m'\u001B[39m\u001B[38;5;124m with a dtyped [\u001B[39m\u001B[38;5;132;01m{\u001B[39;00mx\u001B[38;5;241m.\u001B[39mdtype\u001B[38;5;132;01m}\u001B[39;00m\u001B[38;5;124m] array \u001B[39m\u001B[38;5;124m\"\u001B[39m\n\u001B[0;32m    330\u001B[0m                 \u001B[38;5;124mf\u001B[39m\u001B[38;5;124m\"\u001B[39m\u001B[38;5;124mand scalar of type [\u001B[39m\u001B[38;5;132;01m{\u001B[39;00mtyp\u001B[38;5;132;01m}\u001B[39;00m\u001B[38;5;124m]\u001B[39m\u001B[38;5;124m\"\u001B[39m\n\u001B[0;32m    331\u001B[0m             ) \u001B[38;5;28;01mfrom\u001B[39;00m \u001B[38;5;21;01merr\u001B[39;00m\n\u001B[0;32m    333\u001B[0m \u001B[38;5;28;01mreturn\u001B[39;00m result\u001B[38;5;241m.\u001B[39mreshape(x\u001B[38;5;241m.\u001B[39mshape)\n",
      "\u001B[1;31mTypeError\u001B[0m: Cannot perform 'ror_' with a dtyped [float64] array and scalar of type [bool]"
     ]
    }
   ],
   "source": [
    "threshold = 5e5\n",
    "df_tweets = replace_with_user_median(df_tweets, 'retweet_count_conv', threshold=threshold)"
   ],
   "metadata": {
    "collapsed": false
   }
  },
  {
   "cell_type": "code",
   "execution_count": null,
   "outputs": [],
   "source": [
    "show_statistics(df_tweets,'retweet_count_conv')"
   ],
   "metadata": {
    "collapsed": false
   }
  },
  {
   "cell_type": "code",
   "execution_count": null,
   "outputs": [],
   "source": [
    "plot_hist(df_tweets, 'retweet_count_conv')"
   ],
   "metadata": {
    "collapsed": false
   }
  },
  {
   "cell_type": "code",
   "execution_count": null,
   "outputs": [],
   "source": [
    "df_tweets.drop(columns = ['retweet_count'], inplace=True)"
   ],
   "metadata": {
    "collapsed": false
   }
  },
  {
   "cell_type": "markdown",
   "source": [
    "Same procedure has been applied to `reply_count` and `favorite_count` columns with different thresholds (respectively 1e5 and 1e6)."
   ],
   "metadata": {
    "collapsed": false
   }
  },
  {
   "cell_type": "markdown",
   "metadata": {},
   "source": [
    "# Clean reply_count column"
   ]
  },
  {
   "cell_type": "code",
   "execution_count": null,
   "metadata": {},
   "outputs": [],
   "source": [
    "show_statistics(df_tweets,'reply_count_conv', log=True)"
   ]
  },
  {
   "cell_type": "code",
   "execution_count": null,
   "metadata": {},
   "outputs": [],
   "source": [
    "plot_hist(df_tweets[df_tweets['reply_count_conv']!=np.inf], 'reply_count_conv')"
   ]
  },
  {
   "cell_type": "code",
   "execution_count": null,
   "outputs": [],
   "source": [
    "for p in range(10,3,-1):\n",
    "    threshold = 10**p\n",
    "    plot_boxplot(df_tweets[df_tweets.reply_count_conv.values < threshold],'reply_count_conv', log=False)"
   ],
   "metadata": {
    "collapsed": false
   }
  },
  {
   "cell_type": "markdown",
   "source": [
    "Cutting at 2 millions  or 600000 seems to be a reasonable choidce"
   ],
   "metadata": {
    "collapsed": false
   }
  },
  {
   "cell_type": "code",
   "execution_count": null,
   "outputs": [],
   "source": [
    "threshold =2e6\n",
    "df_tweets = replace_with_user_median(df_tweets, 'reply_count_conv', threshold=threshold)"
   ],
   "metadata": {
    "collapsed": false
   }
  },
  {
   "cell_type": "code",
   "execution_count": null,
   "metadata": {},
   "outputs": [],
   "source": [
    "show_statistics(df_tweets,'reply_count_conv', True)"
   ]
  },
  {
   "cell_type": "code",
   "execution_count": null,
   "metadata": {},
   "outputs": [],
   "source": [
    "plot_hist(df_tweets, 'reply_count_conv')"
   ]
  },
  {
   "cell_type": "code",
   "execution_count": null,
   "metadata": {},
   "outputs": [],
   "source": [
    "df_tweets.drop(columns = ['reply_count'], inplace=True)"
   ]
  },
  {
   "cell_type": "markdown",
   "metadata": {},
   "source": [
    "# Clean favorite_count column"
   ]
  },
  {
   "cell_type": "code",
   "execution_count": null,
   "metadata": {},
   "outputs": [],
   "source": [
    "show_statistics(df_tweets,'favorite_count_conv', log=True)"
   ]
  },
  {
   "cell_type": "code",
   "execution_count": null,
   "metadata": {},
   "outputs": [],
   "source": [
    "plot_hist(df_tweets[df_tweets['favorite_count_conv']!=np.inf], 'favorite_count_conv')"
   ]
  },
  {
   "cell_type": "code",
   "execution_count": null,
   "outputs": [],
   "source": [
    "for p in range(10,3,-1):\n",
    "    threshold = 10**p\n",
    "    plot_boxplot(df_tweets[df_tweets.favorite_count_conv.values < threshold],'favorite_count_conv', log=False)"
   ],
   "metadata": {
    "collapsed": false
   }
  },
  {
   "cell_type": "markdown",
   "source": [
    "5e5 seems a reasonable point to cut"
   ],
   "metadata": {
    "collapsed": false
   }
  },
  {
   "cell_type": "code",
   "execution_count": null,
   "metadata": {},
   "outputs": [],
   "source": [
    "threshold = 5e5\n",
    "df_tweets = replace_with_user_median(df_tweets, 'favorite_count_conv', threshold=threshold)"
   ]
  },
  {
   "cell_type": "code",
   "execution_count": null,
   "metadata": {},
   "outputs": [],
   "source": [
    "show_statistics(df_tweets,'favorite_count_conv', True)"
   ]
  },
  {
   "cell_type": "code",
   "execution_count": null,
   "metadata": {},
   "outputs": [],
   "source": [
    "plot_hist(df_tweets, 'favorite_count_conv')"
   ]
  },
  {
   "cell_type": "code",
   "execution_count": null,
   "metadata": {},
   "outputs": [],
   "source": [
    "df_tweets.drop(columns = ['favorite_count'], inplace=True)"
   ]
  },
  {
   "cell_type": "markdown",
   "metadata": {},
   "source": [
    "# File checkpoint"
   ]
  },
  {
   "cell_type": "code",
   "execution_count": null,
   "metadata": {},
   "outputs": [],
   "source": [
    "df_tweets.to_csv(path_or_buf=DATA_PATH+'tweets_clean_counts.csv', sep='#', index=False)"
   ]
  },
  {
   "cell_type": "code",
   "execution_count": null,
   "metadata": {},
   "outputs": [],
   "source": [
    "df_tweets = pd.read_csv(DATA_PATH+'tweets_clean_counts.csv', sep='#')"
   ]
  },
  {
   "cell_type": "markdown",
   "metadata": {},
   "source": [
    "# Created at"
   ]
  },
  {
   "cell_type": "code",
   "execution_count": null,
   "outputs": [],
   "source": [
    "show_statistics(df_tweets,'created_at_conv', log=False, norm=True)"
   ],
   "metadata": {
    "collapsed": false
   }
  },
  {
   "cell_type": "code",
   "execution_count": null,
   "outputs": [],
   "source": [
    "twitter_foundation = pd.to_datetime([\"20060321\"]).astype(np.int64)[0]\n",
    "sep_2022 = pd.to_datetime([\"20220915\"]).astype(np.int64)[0]\n",
    "twitter_foundation"
   ],
   "metadata": {
    "collapsed": false
   }
  },
  {
   "cell_type": "code",
   "execution_count": null,
   "outputs": [],
   "source": [
    "replace_condition= lor(df_tweets.created_at_conv < twitter_foundation, df_tweets.created_at_conv > sep_2022)\n",
    "df_tweets = replace_with_user_median(df_tweets, 'created_at_conv', replace_condition=replace_condition )"
   ],
   "metadata": {
    "collapsed": false
   }
  },
  {
   "cell_type": "code",
   "execution_count": null,
   "metadata": {},
   "outputs": [],
   "source": [
    "df_tweets['created_at'] = pd.to_datetime(df_tweets.created_at_conv)"
   ]
  },
  {
   "cell_type": "markdown",
   "metadata": {},
   "source": [
    "Check that user tweets have created_at set after its subscription to twitter"
   ]
  },
  {
   "cell_type": "code",
   "execution_count": null,
   "metadata": {},
   "outputs": [],
   "source": [
    "df_users.id = df_users.id.astype(str)\n",
    "df_merged = df_tweets.merge(df_users, left_on='user_id', right_on='id', how='left')\n",
    "df_merged.info()"
   ]
  },
  {
   "cell_type": "code",
   "execution_count": null,
   "metadata": {},
   "outputs": [],
   "source": [
    "df_merged[df_merged.created_at_conv_x < df_merged.created_at_conv_y]"
   ]
  },
  {
   "cell_type": "code",
   "execution_count": null,
   "metadata": {},
   "outputs": [],
   "source": [
    "df_tweets[df_tweets.created_at_conv == df_tweets.created_at_conv.max()]"
   ]
  },
  {
   "cell_type": "code",
   "execution_count": null,
   "metadata": {},
   "outputs": [],
   "source": [
    "df_tweets[df_tweets.created_at_conv == df_tweets.created_at_conv.min()]"
   ]
  },
  {
   "cell_type": "code",
   "execution_count": null,
   "outputs": [],
   "source": [
    "show_statistics(df_tweets, 'created_at_conv', log=False, norm=True)"
   ],
   "metadata": {
    "collapsed": false
   }
  },
  {
   "cell_type": "markdown",
   "metadata": {},
   "source": [
    "# File checkpoint"
   ]
  },
  {
   "cell_type": "code",
   "execution_count": null,
   "metadata": {},
   "outputs": [],
   "source": [
    "df_tweets.to_csv(path_or_buf=DATA_PATH+'tweets_clean_created_at.csv', sep='#', index=False)"
   ]
  },
  {
   "cell_type": "code",
   "execution_count": null,
   "metadata": {},
   "outputs": [],
   "source": [
    "df_tweets = pd.read_csv(DATA_PATH+'tweets_clean_created_at.csv', sep='#')"
   ]
  },
  {
   "cell_type": "markdown",
   "metadata": {},
   "source": [
    "# Number of hashtags"
   ]
  },
  {
   "cell_type": "markdown",
   "metadata": {},
   "source": [
    "An hashtag is composed by at least 2 characters, the `#` and an alphanumeric symbol. Since the 8th of november 2017 a tweet is made by at most 280 characters, before 2017, the maximum was 140. So the maximum number of hashtags in a tweet before 2017-11-8 should be 70, after 2017-11-8 140."
   ]
  },
  {
   "cell_type": "code",
   "execution_count": null,
   "metadata": {},
   "outputs": [],
   "source": [
    "show_statistics(df_tweets, 'num_hashtags_conv', log=True)"
   ]
  },
  {
   "cell_type": "code",
   "execution_count": null,
   "metadata": {},
   "outputs": [],
   "source": [
    "plot_hist(df_tweets[df_tweets.num_hashtags_conv != np.inf], 'num_hashtags_conv')"
   ]
  },
  {
   "cell_type": "code",
   "execution_count": null,
   "metadata": {},
   "outputs": [],
   "source": [
    "double_char_date = pd.to_datetime([\"20171108\"]).astype(np.int64)[0]"
   ]
  },
  {
   "cell_type": "code",
   "execution_count": null,
   "metadata": {},
   "outputs": [],
   "source": [
    "max_hash_num = 140/3\n",
    "\n",
    "# Conditions\n",
    "date_cond = df_tweets.created_at_conv < double_char_date\n",
    "max_cond = df_tweets.num_hashtags_conv > max_hash_num\n",
    "wrong_cond = df_tweets.num_hashtags_conv == -1\n",
    "replace_cond = land(lor(max_cond, wrong_cond), date_cond)\n",
    "\n",
    "replace_value = df_tweets[land(date_cond, land(~max_cond, ~wrong_cond))].num_hashtags_conv.median()\n",
    "\n",
    "df_tweets = fix_values(df_tweets, 'num_hashtags_conv', replace_cond, replace_value)"
   ]
  },
  {
   "cell_type": "code",
   "execution_count": null,
   "metadata": {},
   "outputs": [],
   "source": [
    "max_hash_num = 280/3\n",
    "\n",
    "# Conditions\n",
    "date_cond = df_tweets.created_at_conv > double_char_date\n",
    "max_cond = df_tweets.num_hashtags_conv > max_hash_num\n",
    "wrong_cond = df_tweets.num_hashtags_conv == -1\n",
    "replace_cond = land(lor(max_cond, wrong_cond), date_cond)\n",
    "\n",
    "replace_value = df_tweets[land(date_cond, land(~max_cond, ~wrong_cond))].num_hashtags_conv.median()\n",
    "\n",
    "df_tweets = fix_values(df_tweets, 'num_hashtags_conv', replace_cond, replace_value)"
   ]
  },
  {
   "cell_type": "code",
   "execution_count": null,
   "metadata": {},
   "outputs": [],
   "source": [
    "show_statistics(df_tweets, 'num_hashtags_conv')"
   ]
  },
  {
   "cell_type": "code",
   "execution_count": null,
   "metadata": {},
   "outputs": [],
   "source": [
    "df_tweets[df_tweets.num_hashtags_conv == df_tweets.num_hashtags_conv.max()]"
   ]
  },
  {
   "cell_type": "code",
   "execution_count": null,
   "metadata": {},
   "outputs": [],
   "source": [
    "df_tweets.drop(columns = ['num_hashtags'], inplace=True)"
   ]
  },
  {
   "cell_type": "markdown",
   "metadata": {},
   "source": [
    "# Number of mentions"
   ]
  },
  {
   "cell_type": "markdown",
   "metadata": {},
   "source": [
    "A mention is composed by at least 2 characters, the `@` and an alphanumeric symbol. Since the 8th of november 2017 a tweet is made by at most 280 characters, before 2017, the maximum was 140. So the maximum number of mention in a tweet before 2017-11-8 should be 70, after 2017-11-8 140."
   ]
  },
  {
   "cell_type": "code",
   "execution_count": null,
   "metadata": {},
   "outputs": [],
   "source": [
    "show_statistics(df_tweets, 'num_mentions_conv', log=True)"
   ]
  },
  {
   "cell_type": "code",
   "execution_count": null,
   "metadata": {},
   "outputs": [],
   "source": [
    "plot_hist(df_tweets[df_tweets.num_mentions_conv != np.inf], 'num_mentions_conv')"
   ]
  },
  {
   "cell_type": "code",
   "execution_count": null,
   "metadata": {},
   "outputs": [],
   "source": [
    "double_char_date = pd.to_datetime([\"20171108\"]).astype(np.int64)[0]"
   ]
  },
  {
   "cell_type": "code",
   "execution_count": null,
   "metadata": {},
   "outputs": [],
   "source": [
    "max_mentions_num = 140/3\n",
    "\n",
    "# Conditions\n",
    "date_cond = df_tweets.created_at_conv < double_char_date\n",
    "max_cond = df_tweets.num_mentions_conv > max_mentions_num\n",
    "wrong_cond = df_tweets.num_mentions_conv == -1\n",
    "replace_cond = land(lor(max_cond, wrong_cond), date_cond)\n",
    "\n",
    "replace_value = df_tweets[land(date_cond, land(~max_cond, ~wrong_cond))].num_mentions_conv.median()\n",
    "\n",
    "df_tweets = fix_values(df_tweets, 'num_mentions_conv', replace_cond, replace_value)"
   ]
  },
  {
   "cell_type": "code",
   "execution_count": null,
   "metadata": {},
   "outputs": [],
   "source": [
    "max_mentions_num = 280/3\n",
    "\n",
    "# Conditions\n",
    "date_cond = df_tweets.created_at_conv > double_char_date\n",
    "max_cond = df_tweets.num_mentions_conv > max_mentions_num\n",
    "wrong_cond = df_tweets.num_mentions_conv == -1\n",
    "replace_cond = land(lor(max_cond, wrong_cond), date_cond)\n",
    "\n",
    "replace_value = df_tweets[land(date_cond, land(~max_cond, ~wrong_cond))].num_mentions_conv.median()\n",
    "\n",
    "df_tweets = fix_values(df_tweets, 'num_mentions_conv', replace_cond, replace_value)"
   ]
  },
  {
   "cell_type": "code",
   "execution_count": null,
   "metadata": {},
   "outputs": [],
   "source": [
    "show_statistics(df_tweets, 'num_mentions_conv')"
   ]
  },
  {
   "cell_type": "code",
   "execution_count": null,
   "metadata": {},
   "outputs": [],
   "source": [
    "df_tweets[df_tweets.num_mentions_conv == df_tweets.num_mentions_conv.max()]"
   ]
  },
  {
   "cell_type": "code",
   "execution_count": null,
   "metadata": {},
   "outputs": [],
   "source": [
    "df_tweets.drop(columns = ['num_mentions'], inplace=True)"
   ]
  },
  {
   "cell_type": "markdown",
   "metadata": {},
   "source": [
    "# Num URLS"
   ]
  },
  {
   "cell_type": "markdown",
   "metadata": {},
   "source": [
    "A URL is composed by at least 3 characters, like `a.co`. Since the 8th of november 2017 a tweet is made by at most 280 characters, before 2017, the maximum was 140. So the maximum number of urls in a tweet before 2017-11-8 should be 35, after 2017-11-8 70."
   ]
  },
  {
   "cell_type": "code",
   "execution_count": null,
   "metadata": {},
   "outputs": [],
   "source": [
    "show_statistics(df_tweets, 'num_urls_conv', log=True)"
   ]
  },
  {
   "cell_type": "code",
   "execution_count": null,
   "metadata": {},
   "outputs": [],
   "source": [
    "plot_hist(df_tweets[df_tweets.num_urls_conv != np.inf], 'num_urls_conv')"
   ]
  },
  {
   "cell_type": "code",
   "execution_count": null,
   "metadata": {},
   "outputs": [],
   "source": [
    "double_char_date = pd.to_datetime([\"20171108\"]).astype(np.int64)[0]"
   ]
  },
  {
   "cell_type": "code",
   "execution_count": null,
   "metadata": {},
   "outputs": [],
   "source": [
    "max_url_num = 140/5\n",
    "\n",
    "# Conditions\n",
    "date_cond = df_tweets.created_at_conv < double_char_date\n",
    "max_cond = df_tweets.num_urls_conv > max_url_num\n",
    "wrong_cond = df_tweets.num_urls_conv == -1\n",
    "replace_cond = land(lor(max_cond, wrong_cond), date_cond)\n",
    "\n",
    "replace_value = df_tweets[land(date_cond, land(~max_cond, ~wrong_cond))].num_urls_conv.median()\n",
    "\n",
    "df_tweets = fix_values(df_tweets, 'num_urls_conv', replace_cond, replace_value)"
   ]
  },
  {
   "cell_type": "code",
   "execution_count": null,
   "metadata": {},
   "outputs": [],
   "source": [
    "max_url_num = 280/5\n",
    "\n",
    "# Conditions\n",
    "date_cond = df_tweets.created_at_conv > double_char_date\n",
    "max_cond = df_tweets.num_urls_conv > max_url_num\n",
    "wrong_cond = df_tweets.num_urls_conv == -1\n",
    "replace_cond = land(lor(max_cond, wrong_cond), date_cond)\n",
    "\n",
    "replace_value = df_tweets[land(date_cond, land(~max_cond, ~wrong_cond))].num_urls_conv.median()\n",
    "\n",
    "df_tweets = fix_values(df_tweets, 'num_urls_conv', replace_cond, replace_value)"
   ]
  },
  {
   "cell_type": "code",
   "execution_count": null,
   "metadata": {},
   "outputs": [],
   "source": [
    "show_statistics(df_tweets, 'num_urls_conv')"
   ]
  },
  {
   "cell_type": "code",
   "execution_count": null,
   "metadata": {},
   "outputs": [],
   "source": [
    "df_tweets[df_tweets.num_urls_conv == df_tweets.num_urls_conv.max()]"
   ]
  },
  {
   "cell_type": "code",
   "execution_count": null,
   "metadata": {},
   "outputs": [],
   "source": [
    "df_tweets.drop(columns = ['num_urls'], inplace=True)"
   ]
  },
  {
   "cell_type": "code",
   "execution_count": null,
   "metadata": {},
   "outputs": [],
   "source": [
    "df_tweets.rename(columns={\"retweet_count_conv\": \"retweet_count\", \"reply_count_conv\": \"reply_count\", \"favorite_count_conv\": \"favorite_count\",\n",
    "                          \"num_hashtags_conv\": \"num_hashtags\", \"num_urls_conv\": \"num_urls\", \"num_mentions_conv\": \"num_mentions\"}, inplace = True)"
   ]
  },
  {
   "cell_type": "code",
   "execution_count": null,
   "metadata": {},
   "outputs": [],
   "source": [
    "df_tweets = df_tweets.astype({\"retweet_count\": 'int32', \"reply_count\": 'int32', \"favorite_count\" : 'int32',\n",
    "                          \"num_hashtags\": 'int32', \"num_urls\": 'int32', \"num_mentions\": 'int32'})"
   ]
  },
  {
   "cell_type": "code",
   "execution_count": null,
   "outputs": [],
   "source": [
    "df_tweets.drop(columns=['level_0', 'user_id_conv'], inplace=True)"
   ],
   "metadata": {
    "collapsed": false
   }
  },
  {
   "cell_type": "code",
   "execution_count": null,
   "metadata": {},
   "outputs": [],
   "source": [
    "df_tweets.to_csv(path_or_buf=DATA_PATH+'tweets_clean.csv', sep='#', index=False)"
   ]
  }
 ],
 "metadata": {
  "kernelspec": {
   "display_name": "Python 3 (ipykernel)",
   "language": "python",
   "name": "python3"
  },
  "language_info": {
   "codemirror_mode": {
    "name": "ipython",
    "version": 3
   },
   "file_extension": ".py",
   "mimetype": "text/x-python",
   "name": "python",
   "nbconvert_exporter": "python",
   "pygments_lexer": "ipython3",
   "version": "3.8.9"
  }
 },
 "nbformat": 4,
 "nbformat_minor": 1
}
