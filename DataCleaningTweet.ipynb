{
 "cells": [
  {
   "cell_type": "code",
   "execution_count": null,
   "metadata": {
    "pycharm": {
     "is_executing": true
    }
   },
   "outputs": [],
   "source": [
    "import pandas as pd\n",
    "from matplotlib import pyplot as plt\n",
    "import numpy as np\n",
    "import math\n",
    "import functools\n",
    "import seaborn as sn\n",
    "from tqdm import tqdm\n",
    "from numpy import logical_and as land, logical_or as lor"
   ]
  },
  {
   "cell_type": "code",
   "execution_count": null,
   "metadata": {
    "pycharm": {
     "is_executing": true
    }
   },
   "outputs": [],
   "source": [
    "!pip install p_tqdm"
   ]
  },
  {
   "cell_type": "code",
   "execution_count": null,
   "metadata": {},
   "outputs": [],
   "source": [
    "from p_tqdm import p_umap"
   ]
  },
  {
   "cell_type": "code",
   "execution_count": 58,
   "metadata": {
    "pycharm": {
     "is_executing": true
    }
   },
   "outputs": [],
   "source": [
    "df_tweets = pd.read_csv('data/tweets_no_dupl.csv', sep='#')\n",
    "df_users = pd.read_csv('data/users_clean.csv', sep='#')"
   ]
  },
  {
   "cell_type": "markdown",
   "metadata": {},
   "source": [
    "# Tweets csv cleaning\n",
    "\n",
    "## id\n",
    "In the id column there are only two missing values. Since the column is not meaningful for the analysis phase, the column is dropped.\n",
    "\n",
    "## user_id\n",
    "In the user_id column there are a lot of missing values, wrong values (non-numerical ids) and 210778 user ids do not have any correspondence with users file. Nevertheless, these records have been kept because the other columns could be useful for future analyses.\n",
    "\n"
   ]
  },
  {
   "cell_type": "code",
   "execution_count": 59,
   "metadata": {
    "pycharm": {
     "is_executing": true
    }
   },
   "outputs": [
    {
     "name": "stdout",
     "output_type": "stream",
     "text": [
      "<class 'pandas.core.frame.DataFrame'>\n",
      "RangeIndex: 11712348 entries, 0 to 11712347\n",
      "Data columns (total 10 columns):\n",
      " #   Column          Non-Null Count     Dtype \n",
      "---  ------          --------------     ----- \n",
      " 0   id              11712346 non-null  object\n",
      " 1   user_id         11495314 non-null  object\n",
      " 2   retweet_count   11275326 non-null  object\n",
      " 3   reply_count     11064671 non-null  object\n",
      " 4   favorite_count  11064981 non-null  object\n",
      " 5   num_hashtags    10655073 non-null  object\n",
      " 6   num_urls        11063920 non-null  object\n",
      " 7   num_mentions    10858432 non-null  object\n",
      " 8   created_at      11712348 non-null  object\n",
      " 9   text            11182415 non-null  object\n",
      "dtypes: object(10)\n",
      "memory usage: 893.6+ MB\n"
     ]
    }
   ],
   "source": [
    "df_tweets.info(show_counts=True)"
   ]
  },
  {
   "cell_type": "code",
   "execution_count": 60,
   "metadata": {
    "pycharm": {
     "is_executing": true
    }
   },
   "outputs": [],
   "source": [
    "df_tweets.drop(columns=['id'], inplace=True)"
   ]
  },
  {
   "cell_type": "markdown",
   "metadata": {},
   "source": [
    "Select records which have both user_id and text values which are null"
   ]
  },
  {
   "cell_type": "code",
   "execution_count": 61,
   "metadata": {
    "pycharm": {
     "is_executing": true
    }
   },
   "outputs": [
    {
     "name": "stdout",
     "output_type": "stream",
     "text": [
      "<class 'pandas.core.frame.DataFrame'>\n",
      "Int64Index: 56118 entries, 42 to 11712030\n",
      "Data columns (total 9 columns):\n",
      " #   Column          Non-Null Count  Dtype \n",
      "---  ------          --------------  ----- \n",
      " 0   user_id         0 non-null      object\n",
      " 1   retweet_count   51567 non-null  object\n",
      " 2   reply_count     25737 non-null  object\n",
      " 3   favorite_count  50960 non-null  object\n",
      " 4   num_hashtags    392 non-null    object\n",
      " 5   num_urls        26107 non-null  object\n",
      " 6   num_mentions    466 non-null    object\n",
      " 7   created_at      56118 non-null  object\n",
      " 8   text            0 non-null      object\n",
      "dtypes: object(9)\n",
      "memory usage: 4.3+ MB\n"
     ]
    }
   ],
   "source": [
    "df_tweets[np.logical_and(df_tweets['user_id'].isnull(), df_tweets['text'].isnull())].info()"
   ]
  },
  {
   "cell_type": "markdown",
   "metadata": {},
   "source": [
    "Merge users table with tweets table by user_id"
   ]
  },
  {
   "cell_type": "code",
   "execution_count": 62,
   "metadata": {},
   "outputs": [],
   "source": [
    "df_users.id = df_users.id.astype(str)\n",
    "merged = df_tweets.merge(df_users, left_on='user_id', right_on='id', how='left')"
   ]
  },
  {
   "cell_type": "code",
   "execution_count": 63,
   "metadata": {},
   "outputs": [
    {
     "data": {
      "text/plain": [
       "(11712348, 9)"
      ]
     },
     "execution_count": 63,
     "metadata": {},
     "output_type": "execute_result"
    }
   ],
   "source": [
    "df_tweets.shape"
   ]
  },
  {
   "cell_type": "code",
   "execution_count": 64,
   "metadata": {},
   "outputs": [
    {
     "data": {
      "text/plain": [
       "(11712348, 16)"
      ]
     },
     "execution_count": 64,
     "metadata": {},
     "output_type": "execute_result"
    }
   ],
   "source": [
    "merged.shape"
   ]
  },
  {
   "cell_type": "markdown",
   "metadata": {},
   "source": [
    "Number of `user_id` that have no correspondance in users file."
   ]
  },
  {
   "cell_type": "code",
   "execution_count": 65,
   "metadata": {},
   "outputs": [
    {
     "data": {
      "text/plain": [
       "210778"
      ]
     },
     "execution_count": 65,
     "metadata": {},
     "output_type": "execute_result"
    }
   ],
   "source": [
    "len(merged[merged['id'].isnull()].user_id.unique())"
   ]
  },
  {
   "cell_type": "markdown",
   "metadata": {},
   "source": [
    "## File checkpoint"
   ]
  },
  {
   "cell_type": "code",
   "execution_count": 66,
   "metadata": {},
   "outputs": [],
   "source": [
    "df_tweets.to_csv(path_or_buf='data/tweets_no_ids.csv', sep='#', index=False)\n",
    "df_users.to_csv(path_or_buf='data/users_no_ids.csv', sep='#', index=False)"
   ]
  },
  {
   "cell_type": "code",
   "execution_count": 6,
   "metadata": {},
   "outputs": [],
   "source": [
    "df_tweets = pd.read_csv('data/tweets_no_ids.csv', sep='#')\n",
    "df_users = pd.read_csv('data/users_no_ids.csv', sep='#')"
   ]
  },
  {
   "cell_type": "markdown",
   "metadata": {},
   "source": [
    "# Convert to float\n",
    "Cast column values to float (there are number to big for int) and set to -1.0 when there is a value which is not a number or an uncastable value (e.g. string)"
   ]
  },
  {
   "cell_type": "code",
   "execution_count": 7,
   "metadata": {},
   "outputs": [],
   "source": [
    "def to_float(x):\n",
    "    try:\n",
    "        x=float(x)\n",
    "        if(np.isnan(x)):\n",
    "            return float(-1)\n",
    "        else:\n",
    "            return x\n",
    "    except:\n",
    "        return float(-1)"
   ]
  },
  {
   "cell_type": "code",
   "execution_count": 8,
   "metadata": {},
   "outputs": [],
   "source": [
    "df_tweets['retweet_count_conv'] = df_tweets.retweet_count.apply(to_float)"
   ]
  },
  {
   "cell_type": "code",
   "execution_count": 13,
   "metadata": {},
   "outputs": [],
   "source": [
    "df_tweets['reply_count_conv'] = df_tweets.reply_count.apply(to_float)"
   ]
  },
  {
   "cell_type": "code",
   "execution_count": 14,
   "metadata": {},
   "outputs": [],
   "source": [
    "df_tweets['favorite_count_conv'] = df_tweets.favorite_count.apply(to_float)"
   ]
  },
  {
   "cell_type": "markdown",
   "metadata": {},
   "source": [
    "## File checkpoint"
   ]
  },
  {
   "cell_type": "code",
   "execution_count": 66,
   "metadata": {},
   "outputs": [],
   "source": [
    "df_tweets.to_csv(path_or_buf='data/tweets_to_float.csv', sep='#', index=False)\n",
    "df_users.to_csv(path_or_buf='data/users_to_float.csv', sep='#', index=False)"
   ]
  },
  {
   "cell_type": "code",
   "execution_count": 6,
   "metadata": {},
   "outputs": [],
   "source": [
    "df_tweets = pd.read_csv('data/tweets_to_float.csv', sep='#')\n",
    "df_users = pd.read_csv('data/users_to_float.csv', sep='#')"
   ]
  },
  {
   "cell_type": "markdown",
   "metadata": {},
   "source": [
    "# Correlation tests"
   ]
  },
  {
   "cell_type": "code",
   "execution_count": 11,
   "metadata": {},
   "outputs": [],
   "source": [
    "def eval_correlation(df_corr, method='pearson'):\n",
    "    correlation_matrix = df_corr.corr(method=method)\n",
    "    sn.heatmap(correlation_matrix, annot=True)\n",
    "    plt.show()"
   ]
  },
  {
   "cell_type": "markdown",
   "metadata": {},
   "source": [
    "We have noticed a lot of huge values in the `retweet_count_conv` **(RCC)** column. By analysing statistics of real tweets on the web, we have decide to perform further analysis on records having a RCC value lower than 1e7 (https://en.wikipedia.org/wiki/List_of_most-retweeted_tweets)"
   ]
  },
  {
   "cell_type": "code",
   "execution_count": 15,
   "metadata": {},
   "outputs": [
    {
     "data": {
      "text/html": [
       "<div>\n",
       "<style scoped>\n",
       "    .dataframe tbody tr th:only-of-type {\n",
       "        vertical-align: middle;\n",
       "    }\n",
       "\n",
       "    .dataframe tbody tr th {\n",
       "        vertical-align: top;\n",
       "    }\n",
       "\n",
       "    .dataframe thead th {\n",
       "        text-align: right;\n",
       "    }\n",
       "</style>\n",
       "<table border=\"1\" class=\"dataframe\">\n",
       "  <thead>\n",
       "    <tr style=\"text-align: right;\">\n",
       "      <th></th>\n",
       "      <th>retweet_count_conv</th>\n",
       "      <th>reply_count_conv</th>\n",
       "      <th>favorite_count_conv</th>\n",
       "    </tr>\n",
       "  </thead>\n",
       "  <tbody>\n",
       "    <tr>\n",
       "      <th>0</th>\n",
       "      <td>0.0</td>\n",
       "      <td>0.0</td>\n",
       "      <td>0.0</td>\n",
       "    </tr>\n",
       "    <tr>\n",
       "      <th>1</th>\n",
       "      <td>1.0</td>\n",
       "      <td>0.0</td>\n",
       "      <td>0.0</td>\n",
       "    </tr>\n",
       "    <tr>\n",
       "      <th>2</th>\n",
       "      <td>0.0</td>\n",
       "      <td>0.0</td>\n",
       "      <td>0.0</td>\n",
       "    </tr>\n",
       "    <tr>\n",
       "      <th>3</th>\n",
       "      <td>0.0</td>\n",
       "      <td>0.0</td>\n",
       "      <td>0.0</td>\n",
       "    </tr>\n",
       "    <tr>\n",
       "      <th>4</th>\n",
       "      <td>114.0</td>\n",
       "      <td>0.0</td>\n",
       "      <td>0.0</td>\n",
       "    </tr>\n",
       "  </tbody>\n",
       "</table>\n",
       "</div>"
      ],
      "text/plain": [
       "   retweet_count_conv  reply_count_conv  favorite_count_conv\n",
       "0                 0.0               0.0                  0.0\n",
       "1                 1.0               0.0                  0.0\n",
       "2                 0.0               0.0                  0.0\n",
       "3                 0.0               0.0                  0.0\n",
       "4               114.0               0.0                  0.0"
      ]
     },
     "execution_count": 15,
     "metadata": {},
     "output_type": "execute_result"
    }
   ],
   "source": [
    "threshold = 1e7\n",
    "df_correlation = pd.DataFrame()\n",
    "df_correlation = df_tweets[functools.reduce(np.logical_and,\n",
    "                                (np.logical_and(df_tweets['retweet_count_conv'] != -1, df_tweets['retweet_count_conv'] < threshold),\n",
    "                                np.logical_and(df_tweets['reply_count_conv'] != -1, df_tweets['reply_count_conv'] < threshold),\n",
    "                                np.logical_and(df_tweets['favorite_count_conv'] != -1, df_tweets['favorite_count_conv'] < threshold)))\n",
    "                    ][['retweet_count_conv', 'reply_count_conv', 'favorite_count_conv']]\n",
    "df_correlation.head()"
   ]
  },
  {
   "cell_type": "code",
   "execution_count": 16,
   "metadata": {},
   "outputs": [
    {
     "name": "stdout",
     "output_type": "stream",
     "text": [
      "<class 'pandas.core.frame.DataFrame'>\n",
      "Int64Index: 10297437 entries, 0 to 11712347\n",
      "Data columns (total 3 columns):\n",
      " #   Column               Dtype  \n",
      "---  ------               -----  \n",
      " 0   retweet_count_conv   float64\n",
      " 1   reply_count_conv     float64\n",
      " 2   favorite_count_conv  float64\n",
      "dtypes: float64(3)\n",
      "memory usage: 314.3 MB\n"
     ]
    }
   ],
   "source": [
    "df_correlation.info()"
   ]
  },
  {
   "cell_type": "code",
   "execution_count": 17,
   "metadata": {},
   "outputs": [
    {
     "data": {
      "image/png": "[encoded data removed]",
      "text/plain": [
       "<Figure size 432x288 with 2 Axes>"
      ]
     },
     "metadata": {
      "needs_background": "light"
     },
     "output_type": "display_data"
    }
   ],
   "source": [
    "eval_correlation(df_correlation)"
   ]
  },
  {
   "cell_type": "code",
   "execution_count": 18,
   "metadata": {},
   "outputs": [
    {
     "name": "stderr",
     "output_type": "stream",
     "text": [
      "c:\\users\\al\\appdata\\local\\programs\\python\\python38\\lib\\site-packages\\scipy\\stats\\stats.py:4812: RuntimeWarning: overflow encountered in longlong_scalars\n",
      "  (2 * xtie * ytie) / m + x0 * y0 / (9 * m * (size - 2)))\n"
     ]
    },
    {
     "data": {
      "image/png": "[encoded data removed]",
      "text/plain": [
       "<Figure size 432x288 with 2 Axes>"
      ]
     },
     "metadata": {
      "needs_background": "light"
     },
     "output_type": "display_data"
    }
   ],
   "source": [
    "eval_correlation(df_correlation, 'kendall')"
   ]
  },
  {
   "cell_type": "code",
   "execution_count": 19,
   "metadata": {},
   "outputs": [
    {
     "data": {
      "image/png": "[encoded data removed]",
      "text/plain": [
       "<Figure size 432x288 with 2 Axes>"
      ]
     },
     "metadata": {
      "needs_background": "light"
     },
     "output_type": "display_data"
    }
   ],
   "source": [
    "eval_correlation(df_correlation, 'spearman')"
   ]
  },
  {
   "cell_type": "markdown",
   "metadata": {},
   "source": [
    "# Utilities"
   ]
  },
  {
   "cell_type": "markdown",
   "metadata": {},
   "source": [
    "Plot a histogram w.r.t. a single attribute passed as parameter."
   ]
  },
  {
   "cell_type": "code",
   "execution_count": 9,
   "metadata": {},
   "outputs": [],
   "source": [
    "def plot_hist(dataframe, attribute_name, log=False):\n",
    "    df = pd.DataFrame()\n",
    "\n",
    "    if log:\n",
    "        log_attribute_name = attribute_name+'_log'\n",
    "        df[log_attribute_name] = np.log(dataframe[attribute_name].values)\n",
    "\n",
    "        attribute_name = log_attribute_name\n",
    "        df[attribute_name] = df[attribute_name].replace(-np.inf, 0)\n",
    "\n",
    "    else:\n",
    "        df[attribute_name] = dataframe[attribute_name].values\n",
    "    n_bins = math.ceil(np.log2(len(df[attribute_name])) + 1) #Sturges' rule\n",
    "    df.hist(attribute_name, bins = n_bins, log=True)"
   ]
  },
  {
   "cell_type": "code",
   "execution_count": 10,
   "metadata": {},
   "outputs": [],
   "source": [
    "def fix_missing_values(df, col):\n",
    "    #Extract statistical indicators from the indicated column\n",
    "    mean = np.mean(df[col].values)\n",
    "    median = np.median(df[col].values)\n",
    "    print(\"mean: \" + str(mean))\n",
    "    print(\"median: \" + str(median))\n",
    "\n",
    "    #Plot the distribution of the indicated column\n",
    "    plt.boxplot(df_tweets[df[col] != -1.0][col],showmeans=True)\n",
    "    plt.yscale('log')\n",
    "    plt.show()\n",
    "\n",
    "    #Substitute all the -1.0 values (missing values) with the median\n",
    "    df[col+'_rep'] = df[col].replace({-1.0: median})\n",
    "\n",
    "    return df"
   ]
  },
  {
   "cell_type": "code",
   "execution_count": null,
   "metadata": {},
   "outputs": [],
   "source": [
    "\n",
    "def replace_with_user_median(df, attribute_name, to_replace):\n",
    "    users = df[to_replace]['user_id'].unique()\n",
    "    df_to_not_replace = df[~to_replace]\n",
    "    attribute_median = df_to_not_replace[attribute_name].median()\n",
    "    # now we can remove the records about all the other users to speedup the queries\n",
    "    \n",
    "    users_bool = df['user_id'].isin(users)\n",
    "    \n",
    "    df_to_not_replace = df[land(users_bool,~to_replace)]\n",
    "    df_to_replace = df[land(users_bool, to_replace)]\n",
    "    \n",
    "    print(\"replacing \", len(to_replace), \" tweets from \", len(users), \" users\")\n",
    "    \n",
    "    \n",
    "    def publication_median_for_user(user_id):\n",
    "        if pd.isnull(user_id):\n",
    "            records_to_keep = df_to_not_replace[df_to_not_replace['user_id'] == user_id][attribute_name]\n",
    "            records_to_replace = df_to_replace[df_to_replace['user_id'] == user_id]\n",
    "            \n",
    "            median = attribute_median\n",
    "        else:\n",
    "            \n",
    "            records_to_keep = df_to_not_replace[df_to_not_replace['user_id'] == user_id][attribute_name]\n",
    "            records_to_replace = df_to_replace[df_to_replace['user_id'] == user_id]\n",
    "            \n",
    "            if len(records_to_keep) > 0:\n",
    "                median =  records_to_keep.median()\n",
    "            else:\n",
    "                # if the user has no record that can be used to compute the median\n",
    "                median = attribute_median\n",
    "                           \n",
    "        # assign the median to the output dataframe\n",
    "        df.loc[records_to_replace.index, attribute_name] = median\n",
    "            \n",
    "        # to speed up the subsequent queries, we remove the records regarding the current user\n",
    "        df_to_not_replace.drop(index=records_to_keep.index)\n",
    "        records_to_replace.drop(index=records_to_replace.index)\n",
    "            \n",
    "    list(map(publication_median_for_user,tqdm(users)))\n",
    "    \n",
    "    return df"
   ]
  },
  {
   "cell_type": "markdown",
   "metadata": {},
   "source": [
    "# Clean retweet_counts column"
   ]
  },
  {
   "cell_type": "code",
   "execution_count": 13,
   "metadata": {},
   "outputs": [],
   "source": [
    "threshold = 1e7"
   ]
  },
  {
   "cell_type": "code",
   "execution_count": 14,
   "metadata": {},
   "outputs": [
    {
     "data": {
      "image/png": "[encoded data removed]",
      "text/plain": [
       "<Figure size 432x288 with 1 Axes>"
      ]
     },
     "metadata": {
      "needs_background": "light"
     },
     "output_type": "display_data"
    }
   ],
   "source": [
    "plot_hist(df_tweets[df_tweets['retweet_count_conv']<np.inf], 'retweet_count_conv')"
   ]
  },
  {
   "cell_type": "markdown",
   "metadata": {},
   "source": [
    "As it is possible to see the distribution is positively skewed. Considering the statistical indicators, it is clear that the mean is too much influenced by outliers so the median has been taken in account."
   ]
  },
  {
   "cell_type": "code",
   "execution_count": 15,
   "metadata": {},
   "outputs": [
    {
     "data": {
      "text/plain": [
       "625339"
      ]
     },
     "execution_count": 15,
     "metadata": {},
     "output_type": "execute_result"
    }
   ],
   "source": [
    "len(df_tweets[df_tweets['retweet_count_conv'] == -1.0])"
   ]
  },
  {
   "cell_type": "code",
   "execution_count": 16,
   "metadata": {},
   "outputs": [],
   "source": [
    "to_replace_bool = lor(df_tweets['retweet_count_conv'] == -1.0, df_tweets['retweet_count_conv'] > threshold)"
   ]
  },
  {
   "cell_type": "code",
   "execution_count": null,
   "metadata": {
    "scrolled": true
   },
   "outputs": [
    {
     "name": "stdout",
     "output_type": "stream",
     "text": [
      "replacing  11712348  tweets from  63532  users\n"
     ]
    },
    {
     "data": {
      "application/vnd.jupyter.widget-view+json": {
       "model_id": "2f294ca097bf4e56bc42b06d6d62d022",
       "version_major": 2,
       "version_minor": 0
      },
      "text/plain": [
       "  0%|          | 0/63532 [00:00<?, ?it/s]"
      ]
     },
     "metadata": {},
     "output_type": "display_data"
    }
   ],
   "source": [
    "df_tweets = replace_with_user_median(df_tweets, 'retweet_count_conv', to_replace_bool)"
   ]
  },
  {
   "cell_type": "code",
   "execution_count": 26,
   "metadata": {},
   "outputs": [],
   "source": [
    "df_tweets.drop(columns = ['retweet_count'], inplace=True)"
   ]
  },
  {
   "cell_type": "markdown",
   "metadata": {},
   "source": [
    "Now we have `retweet_count_replaced` with all numeric values. We have many values that seems to be \"noise\" but before replacing them we want to explore the correlation with other attributes related to the tweet popularity which are  `reply_count` and `favourite_count`. So this task is postponed. Instead for the missing values (-1) we have checked if the same user has other tweets in the dataset to extract statistics from them. If there are not other tweets or there are only tweets with missing values the median is set as default."
   ]
  },
  {
   "cell_type": "markdown",
   "metadata": {},
   "source": [
    "# Clean reply_count column"
   ]
  },
  {
   "cell_type": "code",
   "execution_count": 27,
   "metadata": {},
   "outputs": [
    {
     "name": "stdout",
     "output_type": "stream",
     "text": [
      "mean: inf\n",
      "median: 0.0\n"
     ]
    },
    {
     "data": {
      "image/png": "[encoded data removed]",
      "text/plain": [
       "<Figure size 432x288 with 1 Axes>"
      ]
     },
     "metadata": {
      "needs_background": "light"
     },
     "output_type": "display_data"
    }
   ],
   "source": [
    "df_tweets = fix_missing_values(df_tweets, 'reply_count_conv')"
   ]
  },
  {
   "cell_type": "code",
   "execution_count": 28,
   "metadata": {},
   "outputs": [],
   "source": [
    "df_tweets.drop(columns = ['reply_count_conv', 'reply_count'], inplace=True)"
   ]
  },
  {
   "cell_type": "markdown",
   "metadata": {},
   "source": [
    "# Clean favourite_counts column"
   ]
  },
  {
   "cell_type": "code",
   "execution_count": 29,
   "metadata": {},
   "outputs": [
    {
     "name": "stdout",
     "output_type": "stream",
     "text": [
      "mean: inf\n",
      "median: 0.0\n"
     ]
    },
    {
     "data": {
      "image/png": "[encoded data removed]",
      "text/plain": [
       "<Figure size 432x288 with 1 Axes>"
      ]
     },
     "metadata": {
      "needs_background": "light"
     },
     "output_type": "display_data"
    }
   ],
   "source": [
    "df_tweets = fix_missing_values(df_tweets, 'favorite_count_conv')"
   ]
  },
  {
   "cell_type": "code",
   "execution_count": 30,
   "metadata": {},
   "outputs": [],
   "source": [
    "df_tweets.drop(columns = ['favorite_count_conv', 'favorite_count'], inplace=True)"
   ]
  },
  {
   "cell_type": "markdown",
   "metadata": {},
   "source": [
    "# Number of hashtags"
   ]
  },
  {
   "cell_type": "code",
   "execution_count": 31,
   "metadata": {},
   "outputs": [],
   "source": [
    "df_tweets['num_hashtags_conv'] = df_tweets.num_hashtags.apply(to_float)"
   ]
  },
  {
   "cell_type": "code",
   "execution_count": 32,
   "metadata": {},
   "outputs": [
    {
     "name": "stdout",
     "output_type": "stream",
     "text": [
      "mean: inf\n",
      "median: 0.0\n"
     ]
    },
    {
     "data": {
      "image/png": "[encoded data removed]",
      "text/plain": [
       "<Figure size 432x288 with 1 Axes>"
      ]
     },
     "metadata": {
      "needs_background": "light"
     },
     "output_type": "display_data"
    }
   ],
   "source": [
    "df_tweets = fix_missing_values(df_tweets, 'num_hashtags_conv')"
   ]
  },
  {
   "cell_type": "code",
   "execution_count": 33,
   "metadata": {},
   "outputs": [],
   "source": [
    "df_tweets.drop(columns = ['num_hashtags_conv', 'num_hashtags'], inplace=True)"
   ]
  },
  {
   "cell_type": "markdown",
   "metadata": {},
   "source": [
    "# Number of urls"
   ]
  },
  {
   "cell_type": "code",
   "execution_count": 34,
   "metadata": {},
   "outputs": [],
   "source": [
    "df_tweets['num_urls_conv'] = df_tweets.num_urls.apply(to_float)"
   ]
  },
  {
   "cell_type": "code",
   "execution_count": 35,
   "metadata": {},
   "outputs": [
    {
     "name": "stdout",
     "output_type": "stream",
     "text": [
      "mean: inf\n",
      "median: 0.0\n"
     ]
    },
    {
     "data": {
      "image/png": "[encoded data removed]",
      "text/plain": [
       "<Figure size 432x288 with 1 Axes>"
      ]
     },
     "metadata": {
      "needs_background": "light"
     },
     "output_type": "display_data"
    }
   ],
   "source": [
    "df_tweets = fix_missing_values(df_tweets, 'num_urls_conv')"
   ]
  },
  {
   "cell_type": "code",
   "execution_count": 36,
   "metadata": {},
   "outputs": [],
   "source": [
    "df_tweets.drop(columns = ['num_urls_conv', 'num_urls'], inplace=True)"
   ]
  },
  {
   "cell_type": "markdown",
   "metadata": {},
   "source": [
    "# Number of mentions"
   ]
  },
  {
   "cell_type": "code",
   "execution_count": 37,
   "metadata": {},
   "outputs": [],
   "source": [
    "df_tweets['num_mentions_conv'] = df_tweets.num_mentions.apply(to_float)"
   ]
  },
  {
   "cell_type": "code",
   "execution_count": 38,
   "metadata": {},
   "outputs": [
    {
     "name": "stdout",
     "output_type": "stream",
     "text": [
      "mean: inf\n",
      "median: 0.0\n"
     ]
    },
    {
     "data": {
      "image/png": "[encoded data removed]",
      "text/plain": [
       "<Figure size 432x288 with 1 Axes>"
      ]
     },
     "metadata": {
      "needs_background": "light"
     },
     "output_type": "display_data"
    }
   ],
   "source": [
    "df_tweets = fix_missing_values(df_tweets, 'num_mentions_conv')"
   ]
  },
  {
   "cell_type": "code",
   "execution_count": 39,
   "metadata": {},
   "outputs": [],
   "source": [
    "df_tweets.drop(columns = ['num_mentions_conv', 'num_mentions'], inplace=True)"
   ]
  },
  {
   "cell_type": "markdown",
   "metadata": {},
   "source": [
    "# Created at"
   ]
  },
  {
   "cell_type": "code",
   "execution_count": 40,
   "metadata": {},
   "outputs": [
    {
     "name": "stderr",
     "output_type": "stream",
     "text": [
      "C:\\Users\\al\\AppData\\Local\\Temp/ipykernel_28064/1048168456.py:1: FutureWarning: casting datetime64[ns] values to int64 with .astype(...) is deprecated and will raise in a future version. Use .view(...) instead.\n",
      "  df_tweets['created_at_conv'] = pd.to_datetime(df_tweets['created_at']).astype(np.int64)\n"
     ]
    },
    {
     "data": {
      "text/plain": [
       "<AxesSubplot:>"
      ]
     },
     "execution_count": 40,
     "metadata": {},
     "output_type": "execute_result"
    },
    {
     "data": {
      "image/png": "[encoded data removed]",
      "text/plain": [
       "<Figure size 432x288 with 1 Axes>"
      ]
     },
     "metadata": {
      "needs_background": "light"
     },
     "output_type": "display_data"
    }
   ],
   "source": [
    "df_tweets['created_at_conv'] = pd.to_datetime(df_tweets['created_at']).astype(np.int64)\n",
    "df_tweets.boxplot(['created_at_conv'])"
   ]
  },
  {
   "cell_type": "markdown",
   "metadata": {},
   "source": [
    "Since Twitter was founded in 2006, the values in `created_at` that are antecedent to that year are considered wrong"
   ]
  },
  {
   "cell_type": "code",
   "execution_count": 41,
   "metadata": {},
   "outputs": [
    {
     "name": "stderr",
     "output_type": "stream",
     "text": [
      "C:\\Users\\al\\AppData\\Local\\Temp/ipykernel_28064/1718779235.py:1: FutureWarning: casting datetime64[ns] values to int64 with .astype(...) is deprecated and will raise in a future version. Use .view(...) instead.\n",
      "  twitter_foundation = pd.to_datetime([\"20060321\"]).astype(np.int64)[0]\n"
     ]
    },
    {
     "data": {
      "text/plain": [
       "1142899200000000000"
      ]
     },
     "execution_count": 41,
     "metadata": {},
     "output_type": "execute_result"
    }
   ],
   "source": [
    "twitter_foundation = pd.to_datetime([\"20060321\"]).astype(np.int64)[0]\n",
    "twitter_foundation"
   ]
  },
  {
   "cell_type": "markdown",
   "metadata": {},
   "source": [
    "## Substitution of tweets before tweeter foundation\n",
    "We will proceed substituting the wrong value with the median of the activity of each user. For the tweets for which we do not have the `user_id` value, we replace it with the median of the whole dataset."
   ]
  },
  {
   "cell_type": "code",
   "execution_count": 42,
   "metadata": {},
   "outputs": [],
   "source": [
    "tweets_before_foundation = df_tweets[df_tweets['created_at_conv'] < twitter_foundation]"
   ]
  },
  {
   "cell_type": "code",
   "execution_count": 43,
   "metadata": {},
   "outputs": [],
   "source": [
    "tweets_after_foundation = df_tweets[df_tweets['created_at_conv'] > twitter_foundation]"
   ]
  },
  {
   "cell_type": "code",
   "execution_count": 44,
   "metadata": {},
   "outputs": [
    {
     "data": {
      "text/plain": [
       "array(['14824425', '14626600', '1852825657', '1860371966', '14905688',\n",
       "       '493739792', '491630583', '1730251326', '1770131138', '498418001',\n",
       "       '158038746', '157158598', '495020496', '508397359', '157029836',\n",
       "       '496673471', '1877304734', '490712110', '164284493', '1853487314',\n",
       "       '14443013', '164940888', '508355849', '14300066', '14307043',\n",
       "       '161634919', '1862854957', '1716457568', '164983683', '1886647662',\n",
       "       '160139625', '1727495887', '14716324', '14522589', '503771485',\n",
       "       '157959714', '491673056', '1855455756', '14247395', '157900625',\n",
       "       '161662393', '499737312', '14764956', '156751025', '1724424804',\n",
       "       '157683018', '1871678053', '13381912', '494687529', '162018954',\n",
       "       '14587971', '503262878', '1858934186', '14196068', '163523407',\n",
       "       '14265485', '1733095801', '1736045779', '505959713', '157809852',\n",
       "       '159209237', '497404180', '164380206', '497557514', '491706663',\n",
       "       '497521332', '159691975', '496168830', '14391111', '165277911',\n",
       "       '13971722', '1726804830', '496454090', '1719992982', '159491433',\n",
       "       '158169328', '1732923944', '1816114694', '161096641', '14418605',\n",
       "       '14573824', '1871454752', '14739109', '14807739', '14791386',\n",
       "       '14290542', '1882244610', '493747804', '1735191102', '505433014',\n",
       "       '1862083502', '157982762', '14391096', '14851579', '1723943414',\n",
       "       '505440359', '492649414', '512028125', '158821864', '14721932',\n",
       "       '14962822', '14235705', '165077100', '13126372', '1874015534',\n",
       "       '156507082', '1888349131', '1729686344', '162663466', '161547148',\n",
       "       '506892551', '509255384', '14969657', '490440829', '505119515',\n",
       "       '14558848', '492728332', '1856665320'], dtype=object)"
      ]
     },
     "execution_count": 44,
     "metadata": {},
     "output_type": "execute_result"
    }
   ],
   "source": [
    "tbf_users = tweets_before_foundation.user_id.unique()\n",
    "tbf_users"
   ]
  },
  {
   "cell_type": "code",
   "execution_count": 45,
   "metadata": {},
   "outputs": [],
   "source": [
    "tweets_publication_median = tweets_after_foundation.created_at_conv.median()\n",
    "def publication_median_for_user(user_id):\n",
    "    if pd.isnull(user_id):\n",
    "        return tweets_publication_median\n",
    "    else:\n",
    "        return tweets_after_foundation[tweets_after_foundation['user_id'] == user_id].created_at_conv.median()\n",
    "\n",
    "median_dict= {}\n",
    "for user_id in tbf_users:\n",
    "    median_dict[user_id] = publication_median_for_user(user_id)"
   ]
  },
  {
   "cell_type": "code",
   "execution_count": 46,
   "metadata": {},
   "outputs": [
    {
     "name": "stderr",
     "output_type": "stream",
     "text": [
      "C:\\Users\\al\\AppData\\Local\\Temp/ipykernel_28064/4247725557.py:4: SettingWithCopyWarning: \n",
      "A value is trying to be set on a copy of a slice from a DataFrame.\n",
      "Try using .loc[row_indexer,col_indexer] = value instead\n",
      "\n",
      "See the caveats in the documentation: https://pandas.pydata.org/pandas-docs/stable/user_guide/indexing.html#returning-a-view-versus-a-copy\n",
      "  tweets_before_foundation['created_at_conv'] = tweets_before_foundation.apply(replace_median, axis=1)\n"
     ]
    }
   ],
   "source": [
    "def replace_median(row):\n",
    "    return median_dict[row.user_id]\n",
    "\n",
    "tweets_before_foundation['created_at_conv'] = tweets_before_foundation.apply(replace_median, axis=1)"
   ]
  },
  {
   "cell_type": "code",
   "execution_count": 47,
   "metadata": {},
   "outputs": [
    {
     "data": {
      "text/plain": [
       "<AxesSubplot:>"
      ]
     },
     "execution_count": 47,
     "metadata": {},
     "output_type": "execute_result"
    },
    {
     "data": {
      "image/png": "[encoded data removed]",
      "text/plain": [
       "<Figure size 432x288 with 1 Axes>"
      ]
     },
     "metadata": {
      "needs_background": "light"
     },
     "output_type": "display_data"
    }
   ],
   "source": [
    "tweets_before_foundation.boxplot(['created_at_conv'])"
   ]
  },
  {
   "cell_type": "code",
   "execution_count": 48,
   "metadata": {},
   "outputs": [
    {
     "data": {
      "text/html": [
       "<div>\n",
       "<style scoped>\n",
       "    .dataframe tbody tr th:only-of-type {\n",
       "        vertical-align: middle;\n",
       "    }\n",
       "\n",
       "    .dataframe tbody tr th {\n",
       "        vertical-align: top;\n",
       "    }\n",
       "\n",
       "    .dataframe thead th {\n",
       "        text-align: right;\n",
       "    }\n",
       "</style>\n",
       "<table border=\"1\" class=\"dataframe\">\n",
       "  <thead>\n",
       "    <tr style=\"text-align: right;\">\n",
       "      <th></th>\n",
       "      <th>user_id</th>\n",
       "      <th>created_at</th>\n",
       "      <th>text</th>\n",
       "      <th>retweet_count_conv</th>\n",
       "      <th>reply_count_conv_rep</th>\n",
       "      <th>favorite_count_conv_rep</th>\n",
       "      <th>num_hashtags_conv_rep</th>\n",
       "      <th>num_urls_conv_rep</th>\n",
       "      <th>num_mentions_conv_rep</th>\n",
       "      <th>created_at_conv</th>\n",
       "    </tr>\n",
       "  </thead>\n",
       "  <tbody>\n",
       "    <tr>\n",
       "      <th>223</th>\n",
       "      <td>14824425</td>\n",
       "      <td>1960-04-26 18:05:56</td>\n",
       "      <td>@arvixesupport Shared SSL stopped working on a...</td>\n",
       "      <td>0.0</td>\n",
       "      <td>0.0</td>\n",
       "      <td>0.0</td>\n",
       "      <td>1.0</td>\n",
       "      <td>0.0</td>\n",
       "      <td>1.0</td>\n",
       "      <td>1.558459e+18</td>\n",
       "    </tr>\n",
       "    <tr>\n",
       "      <th>421</th>\n",
       "      <td>14626600</td>\n",
       "      <td>1958-03-15 16:54:57</td>\n",
       "      <td>@nancyjensen Harry &amp;amp; dwntwn 95% clear of s...</td>\n",
       "      <td>0.0</td>\n",
       "      <td>0.0</td>\n",
       "      <td>0.0</td>\n",
       "      <td>0.0</td>\n",
       "      <td>0.0</td>\n",
       "      <td>1.0</td>\n",
       "      <td>1.523797e+18</td>\n",
       "    </tr>\n",
       "    <tr>\n",
       "      <th>959</th>\n",
       "      <td>1852825657</td>\n",
       "      <td>1959-05-02 23:16:40</td>\n",
       "      <td>Her tl is sooo dead omgg #herbff</td>\n",
       "      <td>0.0</td>\n",
       "      <td>0.0</td>\n",
       "      <td>0.0</td>\n",
       "      <td>1.0</td>\n",
       "      <td>0.0</td>\n",
       "      <td>0.0</td>\n",
       "      <td>1.580355e+18</td>\n",
       "    </tr>\n",
       "    <tr>\n",
       "      <th>1070</th>\n",
       "      <td>1860371966</td>\n",
       "      <td>1960-01-29 07:16:43</td>\n",
       "      <td>@_Stellajess</td>\n",
       "      <td>0.0</td>\n",
       "      <td>0.0</td>\n",
       "      <td>1.0</td>\n",
       "      <td>0.0</td>\n",
       "      <td>0.0</td>\n",
       "      <td>1.0</td>\n",
       "      <td>1.582582e+18</td>\n",
       "    </tr>\n",
       "    <tr>\n",
       "      <th>1483</th>\n",
       "      <td>14905688</td>\n",
       "      <td>1960-04-14 15:10:36</td>\n",
       "      <td>Dreaming about freshly brewed cider. Just a ma...</td>\n",
       "      <td>0.0</td>\n",
       "      <td>0.0</td>\n",
       "      <td>0.0</td>\n",
       "      <td>0.0</td>\n",
       "      <td>0.0</td>\n",
       "      <td>0.0</td>\n",
       "      <td>1.583335e+18</td>\n",
       "    </tr>\n",
       "    <tr>\n",
       "      <th>...</th>\n",
       "      <td>...</td>\n",
       "      <td>...</td>\n",
       "      <td>...</td>\n",
       "      <td>...</td>\n",
       "      <td>...</td>\n",
       "      <td>...</td>\n",
       "      <td>...</td>\n",
       "      <td>...</td>\n",
       "      <td>...</td>\n",
       "      <td>...</td>\n",
       "    </tr>\n",
       "    <tr>\n",
       "      <th>11711586</th>\n",
       "      <td>1871678053</td>\n",
       "      <td>1960-03-28 14:04:52</td>\n",
       "      <td>Grabe naman yung culture nila</td>\n",
       "      <td>0.0</td>\n",
       "      <td>0.0</td>\n",
       "      <td>0.0</td>\n",
       "      <td>0.0</td>\n",
       "      <td>0.0</td>\n",
       "      <td>0.0</td>\n",
       "      <td>1.583399e+18</td>\n",
       "    </tr>\n",
       "    <tr>\n",
       "      <th>11711771</th>\n",
       "      <td>1719992982</td>\n",
       "      <td>1960-05-12 17:31:43</td>\n",
       "      <td>RT @ACrowen: I can't stop thinking about Ameli...</td>\n",
       "      <td>26.0</td>\n",
       "      <td>0.0</td>\n",
       "      <td>0.0</td>\n",
       "      <td>0.0</td>\n",
       "      <td>0.0</td>\n",
       "      <td>1.0</td>\n",
       "      <td>1.587078e+18</td>\n",
       "    </tr>\n",
       "    <tr>\n",
       "      <th>11711960</th>\n",
       "      <td>505433014</td>\n",
       "      <td>1960-03-17 01:36:18</td>\n",
       "      <td>I hate when people eat and they talk. Then the...</td>\n",
       "      <td>0.0</td>\n",
       "      <td>0.0</td>\n",
       "      <td>0.0</td>\n",
       "      <td>0.0</td>\n",
       "      <td>0.0</td>\n",
       "      <td>0.0</td>\n",
       "      <td>1.584083e+18</td>\n",
       "    </tr>\n",
       "    <tr>\n",
       "      <th>11712112</th>\n",
       "      <td>1858934186</td>\n",
       "      <td>1960-03-18 12:53:14</td>\n",
       "      <td>RT @chiIIout: i want to do so much more in thi...</td>\n",
       "      <td>1730.0</td>\n",
       "      <td>0.0</td>\n",
       "      <td>0.0</td>\n",
       "      <td>0.0</td>\n",
       "      <td>0.0</td>\n",
       "      <td>1.0</td>\n",
       "      <td>1.583449e+18</td>\n",
       "    </tr>\n",
       "    <tr>\n",
       "      <th>11712174</th>\n",
       "      <td>161634919</td>\n",
       "      <td>1960-05-16 15:11:04</td>\n",
       "      <td>11:11 for mary jane veloso's life to be comple...</td>\n",
       "      <td>4.0</td>\n",
       "      <td>0.0</td>\n",
       "      <td>2.0</td>\n",
       "      <td>0.0</td>\n",
       "      <td>0.0</td>\n",
       "      <td>0.0</td>\n",
       "      <td>1.588070e+18</td>\n",
       "    </tr>\n",
       "  </tbody>\n",
       "</table>\n",
       "<p>48803 rows × 10 columns</p>\n",
       "</div>"
      ],
      "text/plain": [
       "             user_id           created_at  \\\n",
       "223         14824425  1960-04-26 18:05:56   \n",
       "421         14626600  1958-03-15 16:54:57   \n",
       "959       1852825657  1959-05-02 23:16:40   \n",
       "1070      1860371966  1960-01-29 07:16:43   \n",
       "1483        14905688  1960-04-14 15:10:36   \n",
       "...              ...                  ...   \n",
       "11711586  1871678053  1960-03-28 14:04:52   \n",
       "11711771  1719992982  1960-05-12 17:31:43   \n",
       "11711960   505433014  1960-03-17 01:36:18   \n",
       "11712112  1858934186  1960-03-18 12:53:14   \n",
       "11712174   161634919  1960-05-16 15:11:04   \n",
       "\n",
       "                                                       text  \\\n",
       "223       @arvixesupport Shared SSL stopped working on a...   \n",
       "421       @nancyjensen Harry &amp; dwntwn 95% clear of s...   \n",
       "959                        Her tl is sooo dead omgg #herbff   \n",
       "1070                                          @_Stellajess    \n",
       "1483      Dreaming about freshly brewed cider. Just a ma...   \n",
       "...                                                     ...   \n",
       "11711586                      Grabe naman yung culture nila   \n",
       "11711771  RT @ACrowen: I can't stop thinking about Ameli...   \n",
       "11711960  I hate when people eat and they talk. Then the...   \n",
       "11712112  RT @chiIIout: i want to do so much more in thi...   \n",
       "11712174  11:11 for mary jane veloso's life to be comple...   \n",
       "\n",
       "          retweet_count_conv  reply_count_conv_rep  favorite_count_conv_rep  \\\n",
       "223                      0.0                   0.0                      0.0   \n",
       "421                      0.0                   0.0                      0.0   \n",
       "959                      0.0                   0.0                      0.0   \n",
       "1070                     0.0                   0.0                      1.0   \n",
       "1483                     0.0                   0.0                      0.0   \n",
       "...                      ...                   ...                      ...   \n",
       "11711586                 0.0                   0.0                      0.0   \n",
       "11711771                26.0                   0.0                      0.0   \n",
       "11711960                 0.0                   0.0                      0.0   \n",
       "11712112              1730.0                   0.0                      0.0   \n",
       "11712174                 4.0                   0.0                      2.0   \n",
       "\n",
       "          num_hashtags_conv_rep  num_urls_conv_rep  num_mentions_conv_rep  \\\n",
       "223                         1.0                0.0                    1.0   \n",
       "421                         0.0                0.0                    1.0   \n",
       "959                         1.0                0.0                    0.0   \n",
       "1070                        0.0                0.0                    1.0   \n",
       "1483                        0.0                0.0                    0.0   \n",
       "...                         ...                ...                    ...   \n",
       "11711586                    0.0                0.0                    0.0   \n",
       "11711771                    0.0                0.0                    1.0   \n",
       "11711960                    0.0                0.0                    0.0   \n",
       "11712112                    0.0                0.0                    1.0   \n",
       "11712174                    0.0                0.0                    0.0   \n",
       "\n",
       "          created_at_conv  \n",
       "223          1.558459e+18  \n",
       "421          1.523797e+18  \n",
       "959          1.580355e+18  \n",
       "1070         1.582582e+18  \n",
       "1483         1.583335e+18  \n",
       "...                   ...  \n",
       "11711586     1.583399e+18  \n",
       "11711771     1.587078e+18  \n",
       "11711960     1.584083e+18  \n",
       "11712112     1.583449e+18  \n",
       "11712174     1.588070e+18  \n",
       "\n",
       "[48803 rows x 10 columns]"
      ]
     },
     "execution_count": 48,
     "metadata": {},
     "output_type": "execute_result"
    }
   ],
   "source": [
    "tweets_before_foundation"
   ]
  },
  {
   "cell_type": "code",
   "execution_count": 49,
   "metadata": {},
   "outputs": [
    {
     "name": "stdout",
     "output_type": "stream",
     "text": [
      "29          1587652341000000000\n",
      "46          1531268516000000000\n",
      "66          1587404842000000000\n",
      "186         1584060782000000000\n",
      "220         1585584470000000000\n",
      "                   ...         \n",
      "11712112    -308920006000000000\n",
      "11712162    1550948787000000000\n",
      "11712174    -303814136000000000\n",
      "11712183    1578605215000000000\n",
      "11712337    1579187059000000000\n",
      "Length: 299047, dtype: int64\n"
     ]
    },
    {
     "name": "stderr",
     "output_type": "stream",
     "text": [
      "C:\\Users\\al\\AppData\\Local\\Temp/ipykernel_28064/2854315120.py:24: SettingWithCopyWarning: \n",
      "A value is trying to be set on a copy of a slice from a DataFrame.\n",
      "Try using .loc[row_indexer,col_indexer] = value instead\n",
      "\n",
      "See the caveats in the documentation: https://pandas.pydata.org/pandas-docs/stable/user_guide/indexing.html#returning-a-view-versus-a-copy\n",
      "  df_replaced[attribute_name] = df_replaced.apply(replace_median, axis=1)\n"
     ]
    }
   ],
   "source": [
    "#df_tweets.loc[tweets_before_foundation.index, 'created_at_conv'] = tweets_before_foundation.created_at_conv\n",
    "df_tweets = replace_with_user_median(df_tweets, 'created_at_conv', tweets_before_foundation.user_id)\n"
   ]
  },
  {
   "cell_type": "code",
   "execution_count": 50,
   "metadata": {},
   "outputs": [
    {
     "ename": "NameError",
     "evalue": "name 'df_tweets_rpl_created_at' is not defined",
     "output_type": "error",
     "traceback": [
      "\u001B[1;31m---------------------------------------------------------------------------\u001B[0m",
      "\u001B[1;31mNameError\u001B[0m                                 Traceback (most recent call last)",
      "\u001B[1;32m~\\AppData\\Local\\Temp/ipykernel_28064/1633267566.py\u001B[0m in \u001B[0;36m<module>\u001B[1;34m\u001B[0m\n\u001B[1;32m----> 1\u001B[1;33m \u001B[0mpd\u001B[0m\u001B[1;33m.\u001B[0m\u001B[0mto_datetime\u001B[0m\u001B[1;33m(\u001B[0m\u001B[0mdf_tweets_rpl_created_at\u001B[0m\u001B[1;33m[\u001B[0m\u001B[1;34m'created_at_conv'\u001B[0m\u001B[1;33m]\u001B[0m\u001B[1;33m)\u001B[0m\u001B[1;33m\u001B[0m\u001B[1;33m\u001B[0m\u001B[0m\n\u001B[0m\u001B[0;32m      2\u001B[0m \u001B[1;33m\u001B[0m\u001B[0m\n",
      "\u001B[1;31mNameError\u001B[0m: name 'df_tweets_rpl_created_at' is not defined"
     ]
    }
   ],
   "source": [
    "pd.to_datetime(df_tweets_rpl_created_at['created_at_conv'])"
   ]
  },
  {
   "cell_type": "code",
   "execution_count": null,
   "metadata": {},
   "outputs": [],
   "source": [
    "df_tweets.created_at = pd.to_datetime(df_tweets_rpl_created_at['created_at_conv'])"
   ]
  },
  {
   "cell_type": "code",
   "execution_count": null,
   "metadata": {},
   "outputs": [],
   "source": [
    "df_tweets.created_at_conv = df_tweets_rpl_created_at['created_at_conv']"
   ]
  },
  {
   "cell_type": "code",
   "execution_count": null,
   "metadata": {},
   "outputs": [],
   "source": [
    "df_tweets.info(show_counts=True)"
   ]
  },
  {
   "cell_type": "code",
   "execution_count": null,
   "metadata": {},
   "outputs": [],
   "source": [
    "df_tweets.boxplot('created_at_conv')"
   ]
  },
  {
   "cell_type": "markdown",
   "metadata": {},
   "source": [
    "From the boxplot it seems that we have a mixture of 2 gaussians, so we zoom in into these two."
   ]
  },
  {
   "cell_type": "code",
   "execution_count": null,
   "metadata": {},
   "outputs": [],
   "source": [
    "plot_hist(df_tweets, 'created_at_conv')"
   ]
  },
  {
   "cell_type": "code",
   "execution_count": null,
   "metadata": {},
   "outputs": [],
   "source": [
    "df_tweets[df_tweets['created_at_conv'] > 1.8e18].boxplot(['created_at_conv'])"
   ]
  },
  {
   "cell_type": "code",
   "execution_count": null,
   "metadata": {},
   "outputs": [],
   "source": [
    "df_tweets[df_tweets['created_at_conv'] < 1.8e18].boxplot(['created_at_conv'])"
   ]
  },
  {
   "cell_type": "code",
   "execution_count": null,
   "metadata": {},
   "outputs": [],
   "source": [
    "df_tweets[df_tweets['retweet_count_replaced'] < 1e6].boxplot('retweet_count_replaced', showmeans=True)"
   ]
  },
  {
   "cell_type": "code",
   "execution_count": null,
   "metadata": {},
   "outputs": [],
   "source": [
    "droppe = df_tweets[np.logical_and(df_tweets['retweet_count_conv'] != -1.0, df_tweets['retweet_count_conv'] < threshold)]"
   ]
  },
  {
   "cell_type": "code",
   "execution_count": null,
   "metadata": {},
   "outputs": [],
   "source": [
    "plt.boxplot(droppe.retweet_count_conv,showmeans=True)\n",
    "plt.yscale('log')\n",
    "plt.show()"
   ]
  },
  {
   "cell_type": "markdown",
   "metadata": {},
   "source": [
    "The boxplot is not informative, so we investigate this field by means of an histogram."
   ]
  },
  {
   "cell_type": "code",
   "execution_count": null,
   "metadata": {},
   "outputs": [],
   "source": [
    "plot_hist(droppe, 'retweet_count_conv', log=True)"
   ]
  },
  {
   "cell_type": "code",
   "execution_count": null,
   "metadata": {},
   "outputs": [],
   "source": [
    "merged = df_tweets[df_tweets['retweet_count_replaced'] > 1e10].merge(df_users, left_on='user_id', right_on='id', how='left')\n",
    "merged[['user_id', 'retweet_count_replaced', 'reply_count', 'favorite_count', 'bot', 'created_at_x', 'created_at_y', 'text', 'statuses_count']]"
   ]
  },
  {
   "cell_type": "code",
   "execution_count": null,
   "metadata": {},
   "outputs": [],
   "source": [
    "plot_hist(df_tweets[df_tweets['reply_count_conv'] < 1e10], 'reply_count_conv')"
   ]
  }
 ],
 "metadata": {
  "kernelspec": {
   "display_name": "Python 3 (ipykernel)",
   "language": "python",
   "name": "python3"
  },
  "language_info": {
   "codemirror_mode": {
    "name": "ipython",
    "version": 3
   },
   "file_extension": ".py",
   "mimetype": "text/x-python",
   "name": "python",
   "nbconvert_exporter": "python",
   "pygments_lexer": "ipython3",
   "version": "3.8.9"
  }
 },
 "nbformat": 4,
 "nbformat_minor": 1
}